{
 "cells": [
  {
   "cell_type": "code",
   "execution_count": null,
   "metadata": {},
   "outputs": [],
   "source": [
    "# Use optimism-etl fork of ethereum-etl: https://github.com/MSilb7/optimism-etl (To be merged in to ethereum-etl)\n",
    "# Pre-req: Create a postgresdb with schema and indices specified here: https://github.com/blockchain-etl/ethereum-etl-postgres\n",
    "# Note - There are extra OP Fields are in the transaction receipt, which is not pulled as part of the stream function.\n",
    "#       We don't need this extra fields for L2 Gas Price tracking, but we would for economics & tx fee tracking.\n",
    "\n",
    "import sys\n",
    "sys.path.append(\"../../helper_functions\")\n",
    "import ethereumetl_utils as eetl\n",
    "import web3py_utils as wpy\n",
    "sys.path.pop()\n",
    "\n",
    "from dotenv import load_dotenv\n",
    "load_dotenv()\n",
    "import os\n"
   ]
  },
  {
   "cell_type": "code",
   "execution_count": null,
   "metadata": {},
   "outputs": [],
   "source": [
    "uri = os.environ.get('OP_GOERLI_TEAM_NODE')\n",
    "\n",
    "pg_user = os.environ.get('LOCAL_OP_PG_USER')\n",
    "pg_pw = os.environ.get('LOCAL_OP_PG_PW')\n",
    "pg_host = os.environ.get('LOCAL_OP_PG_HOST')\n",
    "pg_port = os.environ.get('LOCAL_OP_PG_PORT')\n",
    "pg_db_name = os.environ.get('LOCAL_OP_PG_DB_NAME')\n",
    "\n",
    "output_folder = \"outputs\"\n",
    "include = 'block,transaction'"
   ]
  },
  {
   "cell_type": "code",
   "execution_count": null,
   "metadata": {},
   "outputs": [],
   "source": [
    "# For Proof-of-concept, get the latest block, and go 1000 back\n",
    "last_block = wpy.getLatestBlockNumber(uri)\n",
    "start_block = last_block - 1000\n",
    "\n",
    "eetl.stream_eth_etl(start_block, uri, include, \\\n",
    "                    pg_user, pg_pw, pg_host, pg_port, pg_db_name)"
   ]
  }
 ],
 "metadata": {
  "kernelspec": {
   "display_name": "ethereum-etl",
   "language": "python",
   "name": "python3"
  },
  "language_info": {
   "codemirror_mode": {
    "name": "ipython",
    "version": 3
   },
   "file_extension": ".py",
   "mimetype": "text/x-python",
   "name": "python",
   "nbconvert_exporter": "python",
   "pygments_lexer": "ipython3",
   "version": "3.9.7"
  },
  "orig_nbformat": 4
 },
 "nbformat": 4,
 "nbformat_minor": 2
}
