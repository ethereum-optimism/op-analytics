{
 "cells": [
  {
   "cell_type": "code",
   "execution_count": 1,
   "metadata": {},
   "outputs": [
    {
     "data": {
      "text/plain": [
       "'../helper_functions'"
      ]
     },
     "execution_count": 1,
     "metadata": {},
     "output_type": "execute_result"
    }
   ],
   "source": [
    "import dotenv\n",
    "import os\n",
    "dotenv.load_dotenv()\n",
    "l1_endpoint = os.environ[\"ETHEREUM_NODE\"]\n",
    "\n",
    "import sys\n",
    "sys.path.append(\"../helper_functions\")\n",
    "import web3py_utils as w\n",
    "sys.path.pop()"
   ]
  },
  {
   "cell_type": "code",
   "execution_count": 2,
   "metadata": {},
   "outputs": [
    {
     "name": "stdout",
     "output_type": "stream",
     "text": [
      "CTC From: 0x6887246668a3b87F54DeB3b94Ba47a6f63F32985: 178.67293997398852 ETH\n",
      "SCC From: 0x473300df21D047806A082244b417f96b32f13A33: 166.67671133933575 ETH\n"
     ]
    }
   ],
   "source": [
    "# Get legacy batch submitter contracts\n",
    "# CTC: https://etherscan.io/address/0x5e4e65926ba27467555eb562121fac00d24e9dd2\n",
    "# SCC: https://etherscan.io/address/0xbe5dab4a2e9cd0f27300db4ab94bee3a233aeb19\n",
    "\n",
    "# Get last L1 block of legacy system contracts\n",
    "# block_number = 17422506 # number\n",
    "block_number = '0x28ed91dd7fb6ceb8d7e7862e9e6aa74efaede6f30f8d7ef8b2ea5b501af396bf' # hash\n",
    "\n",
    "\n",
    "# Get legacy batch submitter senders (these carried over to Bedrock)\n",
    "\n",
    "addresses = [\n",
    "     ['CTC From', '0x6887246668a3b87F54DeB3b94Ba47a6f63F32985']\n",
    "    ,['SCC From', '0x473300df21D047806A082244b417f96b32f13A33']\n",
    "#     ,['CTC To', '0x5E4e65926BA27467555EB562121fac00D24E9dD2']\n",
    "#     ,['SCC To', '0xBe5dAb4A2e9cd0F27300dB4aB94BeE3A233AEB19']\n",
    "\n",
    "]\n",
    "\n",
    "for ad in addresses:\n",
    "    title = ad[0]\n",
    "    addr = ad[1]\n",
    "    bal = w.alchemy_get_eth_balance_by_block(l1_endpoint, block_number, addr)\n",
    "    print(title + ': ' + addr + ': ' + str(bal) + ' ETH')"
   ]
  }
 ],
 "metadata": {
  "kernelspec": {
   "display_name": "new-env",
   "language": "python",
   "name": "python3"
  },
  "language_info": {
   "codemirror_mode": {
    "name": "ipython",
    "version": 3
   },
   "file_extension": ".py",
   "mimetype": "text/x-python",
   "name": "python",
   "nbconvert_exporter": "python",
   "pygments_lexer": "ipython3",
   "version": "3.9.13"
  },
  "orig_nbformat": 4
 },
 "nbformat": 4,
 "nbformat_minor": 2
}
