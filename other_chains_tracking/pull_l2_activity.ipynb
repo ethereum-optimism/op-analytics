{
 "cells": [
  {
   "cell_type": "code",
   "execution_count": 1,
   "metadata": {},
   "outputs": [
    {
     "name": "stdout",
     "output_type": "stream",
     "text": [
      "start l2 activity\n"
     ]
    }
   ],
   "source": [
    "print(\"start l2 activity\")\n",
    "import sys\n",
    "\n",
    "sys.path.append(\"../helper_functions\")\n",
    "import duneapi_utils as d\n",
    "import growthepieapi_utils as gtp\n",
    "import l2beat_utils as ltwo\n",
    "import csv_utils as cu\n",
    "import google_bq_utils as bqu\n",
    "import pandas_utils as pu\n",
    "import clickhouse_utils as ch\n",
    "\n",
    "sys.path.pop()\n",
    "\n",
    "import numpy as np\n",
    "import pandas as pd\n",
    "import time\n",
    "from datetime import datetime, timezone"
   ]
  },
  {
   "cell_type": "code",
   "execution_count": 2,
   "metadata": {},
   "outputs": [],
   "source": [
    "# L2B Meta\n",
    "l2b_summary = ltwo.get_l2beat_chain_summary()\n",
    "l2b_summary['dt'] = pd.to_datetime(datetime.now(timezone.utc).date())"
   ]
  },
  {
   "cell_type": "code",
   "execution_count": 3,
   "metadata": {},
   "outputs": [],
   "source": [
    "# display(l2b_summary.head(5))\n",
    "# print(l2b_summary.dtypes)\n",
    "\n",
    "# bqu.append_and_upsert_df_to_bq_table(\n",
    "#     l2b_summary,\n",
    "#     \"daily_l2beat_chain_summary\",\n",
    "#     unique_keys=[\"dt\", \"id\",\"slug\"],\n",
    "# )"
   ]
  },
  {
   "cell_type": "code",
   "execution_count": 4,
   "metadata": {},
   "outputs": [],
   "source": [
    "# # # Usage\n",
    "try:\n",
    "    gtp_api = gtp.get_growthepie_api_data()\n",
    "    gtp_meta_api = gtp.get_growthepie_api_meta()\n",
    "    gtp_api = gtp_api.rename(columns={\"date\": \"dt\"})\n",
    "except Exception as e:\n",
    "    print(f\"An error occurred: {e}\")\n",
    "    print(f\"Exception type: {type(e).__name__}\")\n",
    "    import traceback\n",
    "    print(\"Traceback:\")\n",
    "    print(traceback.format_exc())"
   ]
  },
  {
   "cell_type": "code",
   "execution_count": 5,
   "metadata": {},
   "outputs": [],
   "source": [
    "# update datatype for bq uploads\n",
    "if \"enable_contracts\" in gtp_meta_api:\n",
    "    gtp_meta_api[\"enable_contracts\"] = gtp_meta_api[\"enable_contracts\"].astype(bool)\n",
    "\n",
    "if \"colors\" in gtp_meta_api:\n",
    "    gtp_meta_api[\"colors\"] = gtp_meta_api[\"colors\"].astype(str)"
   ]
  },
  {
   "cell_type": "code",
   "execution_count": 6,
   "metadata": {},
   "outputs": [
    {
     "name": "stdout",
     "output_type": "stream",
     "text": [
      "getting assets onchain - l2beat\n"
     ]
    }
   ],
   "source": [
    "print(\"getting assets onchain - l2beat\")\n",
    "# l2beat_aoc = ltwo.get_daily_aoc_by_token()\n",
    "# l2beat_aoc = l2beat_aoc.rename(columns={\"project\": \"chain\", \"date\": \"dt\"})\n",
    "time.sleep(3)  # rate limits"
   ]
  },
  {
   "cell_type": "code",
   "execution_count": 7,
   "metadata": {},
   "outputs": [
    {
     "name": "stdout",
     "output_type": "stream",
     "text": [
      "getting data - l2beat\n"
     ]
    }
   ],
   "source": [
    "print(\"getting data - l2beat\")\n",
    "# l2beat_df = ltwo.get_all_l2beat_data()"
   ]
  },
  {
   "cell_type": "code",
   "execution_count": 8,
   "metadata": {},
   "outputs": [
    {
     "name": "stdout",
     "output_type": "stream",
     "text": [
      "getting metadata - l2beat\n"
     ]
    },
    {
     "name": "stderr",
     "output_type": "stream",
     "text": [
      "/var/folders/by/kltjc8yd0yz_7_wrtrzhrm9m0000gn/T/ipykernel_32370/2077877465.py:4: FutureWarning: Downcasting object dtype arrays on .fillna, .ffill, .bfill is deprecated and will change in a future version. Call result.infer_objects(copy=False) instead. To opt-in to the future behavior, set `pd.set_option('future.no_silent_downcasting', True)`\n",
      "  l2beat_meta[\"is_upcoming\"] = l2beat_meta[\"is_upcoming\"].fillna(False)\n"
     ]
    }
   ],
   "source": [
    "print(\"getting metadata - l2beat\")\n",
    "l2beat_meta = ltwo.get_l2beat_metadata()\n",
    "l2beat_meta[\"chain\"] = l2beat_meta[\"slug\"]\n",
    "l2beat_meta[\"is_upcoming\"] = l2beat_meta[\"is_upcoming\"].fillna(False)"
   ]
  },
  {
   "cell_type": "code",
   "execution_count": 9,
   "metadata": {},
   "outputs": [
    {
     "data": {
      "text/html": [
       "<div>\n",
       "<style scoped>\n",
       "    .dataframe tbody tr th:only-of-type {\n",
       "        vertical-align: middle;\n",
       "    }\n",
       "\n",
       "    .dataframe tbody tr th {\n",
       "        vertical-align: top;\n",
       "    }\n",
       "\n",
       "    .dataframe thead th {\n",
       "        text-align: right;\n",
       "    }\n",
       "</style>\n",
       "<table border=\"1\" class=\"dataframe\">\n",
       "  <thead>\n",
       "    <tr style=\"text-align: right;\">\n",
       "      <th></th>\n",
       "      <th>layer</th>\n",
       "      <th>name</th>\n",
       "      <th>chainId</th>\n",
       "      <th>explorerUrl</th>\n",
       "      <th>category</th>\n",
       "      <th>slug</th>\n",
       "      <th>isArchived</th>\n",
       "      <th>file_name</th>\n",
       "      <th>rpcUrl</th>\n",
       "      <th>provider</th>\n",
       "      <th>...</th>\n",
       "      <th>da_provider_name</th>\n",
       "      <th>badges</th>\n",
       "      <th>is_upcoming</th>\n",
       "      <th>is_archived</th>\n",
       "      <th>is_current_chain</th>\n",
       "      <th>websites</th>\n",
       "      <th>documentation</th>\n",
       "      <th>repositories</th>\n",
       "      <th>provider_entity</th>\n",
       "      <th>chain</th>\n",
       "    </tr>\n",
       "  </thead>\n",
       "  <tbody>\n",
       "    <tr>\n",
       "      <th>170</th>\n",
       "      <td>L2</td>\n",
       "      <td>ZKsync Era</td>\n",
       "      <td>324</td>\n",
       "      <td>https://era.zksync.network/</td>\n",
       "      <td>None</td>\n",
       "      <td>zksync2</td>\n",
       "      <td>NaN</td>\n",
       "      <td>zksyncera</td>\n",
       "      <td>https://mainnet.era.zksync.io</td>\n",
       "      <td>ZK Stack</td>\n",
       "      <td>...</td>\n",
       "      <td>None</td>\n",
       "      <td>Badge.VM.EVM,\\n    Badge.DA.EthereumBlobs,\\n  ...</td>\n",
       "      <td>False</td>\n",
       "      <td>False</td>\n",
       "      <td>True</td>\n",
       "      <td>'https://zksync.io/', 'https://zksync.dapprada...</td>\n",
       "      <td>'https://docs.zksync.io/'</td>\n",
       "      <td>'https://github.com/matter-labs/zksync-era'</td>\n",
       "      <td>zkSync: ZK Stack</td>\n",
       "      <td>zksync2</td>\n",
       "    </tr>\n",
       "  </tbody>\n",
       "</table>\n",
       "<p>1 rows × 21 columns</p>\n",
       "</div>"
      ],
      "text/plain": [
       "    layer        name chainId                  explorerUrl category     slug  \\\n",
       "170    L2  ZKsync Era     324  https://era.zksync.network/     None  zksync2   \n",
       "\n",
       "    isArchived  file_name                         rpcUrl  provider  ...  \\\n",
       "170        NaN  zksyncera  https://mainnet.era.zksync.io  ZK Stack  ...   \n",
       "\n",
       "    da_provider_name                                             badges  \\\n",
       "170             None  Badge.VM.EVM,\\n    Badge.DA.EthereumBlobs,\\n  ...   \n",
       "\n",
       "    is_upcoming  is_archived is_current_chain  \\\n",
       "170       False        False             True   \n",
       "\n",
       "                                              websites  \\\n",
       "170  'https://zksync.io/', 'https://zksync.dapprada...   \n",
       "\n",
       "                 documentation                                 repositories  \\\n",
       "170  'https://docs.zksync.io/'  'https://github.com/matter-labs/zksync-era'   \n",
       "\n",
       "      provider_entity    chain  \n",
       "170  zkSync: ZK Stack  zksync2  \n",
       "\n",
       "[1 rows x 21 columns]"
      ]
     },
     "execution_count": 9,
     "metadata": {},
     "output_type": "execute_result"
    }
   ],
   "source": [
    "# l2beat_meta[l2beat_meta['chainId'] == '324']\n",
    "# l2beat_meta"
   ]
  },
  {
   "cell_type": "code",
   "execution_count": 10,
   "metadata": {},
   "outputs": [],
   "source": [
    "# combined_l2b_df = l2beat_df.merge(\n",
    "#     l2beat_meta[\n",
    "#         [\n",
    "#             \"chain\",\n",
    "#             \"name\",\n",
    "#             \"layer\",\n",
    "#             \"chainId\",\n",
    "#             \"provider\",\n",
    "#             \"provider_entity\",\n",
    "#             \"category\",\n",
    "#             \"is_upcoming\",\n",
    "#             \"is_archived\",\n",
    "#             \"is_current_chain\",\n",
    "#         ]\n",
    "#     ],\n",
    "#     on=\"chain\",\n",
    "#     how=\"outer\",\n",
    "# )\n",
    "\n",
    "# combined_l2b_df[\"chainId\"] = combined_l2b_df[\"chainId\"].astype(\"Int64\")"
   ]
  },
  {
   "cell_type": "code",
   "execution_count": null,
   "metadata": {},
   "outputs": [],
   "source": [
    "print(\"getting data - growthepie\")\n",
    "try:\n",
    "    combined_gtp_df = gtp_api.merge(\n",
    "        gtp_meta_api[[\"origin_key\", \"chain_name\", \"evm_chain_id\"]],\n",
    "        on=\"origin_key\",\n",
    "        how=\"left\",\n",
    "    )\n",
    "    combined_gtp_df[\"dt\"] = pd.to_datetime(combined_gtp_df[\"dt\"], errors=\"coerce\")\n",
    "\n",
    "    combined_gtp_df = combined_gtp_df.drop(columns=(\"index\"))\n",
    "    # combined_gtp_df.sample(5)\n",
    "except Exception as e:\n",
    "    print(f\"An error occurred: {e}\")\n",
    "    print(f\"Exception type: {type(e).__name__}\")\n",
    "    import traceback\n",
    "    print(\"Traceback:\")\n",
    "    print(traceback.format_exc())"
   ]
  },
  {
   "cell_type": "code",
   "execution_count": 12,
   "metadata": {},
   "outputs": [],
   "source": [
    "# Check Columns\n",
    "# Assuming combined_gtp_df is your DataFrame\n",
    "try:\n",
    "    column_names = combined_gtp_df.columns\n",
    "\n",
    "    for col in column_names:\n",
    "        if col.endswith(\"_usd\"):\n",
    "            # Construct the new column name by replacing '_usd' with '_eth'\n",
    "            new_col_name = col.replace(\"_usd\", \"_eth\")\n",
    "\n",
    "            # Check if the new column name exists in the DataFrame\n",
    "            if new_col_name not in combined_gtp_df.columns:\n",
    "                # If it doesn't exist, create the column and fill it with nan values\n",
    "                combined_gtp_df[new_col_name] = np.nan\n",
    "except Exception as e:\n",
    "    print(f\"An error occurred: {e}\")\n",
    "    print(f\"Exception type: {type(e).__name__}\")\n",
    "    import traceback\n",
    "    print(\"Traceback:\")\n",
    "    print(traceback.format_exc())"
   ]
  },
  {
   "cell_type": "code",
   "execution_count": 13,
   "metadata": {},
   "outputs": [],
   "source": [
    "# Add Metadata\n",
    "opstack_metadata = opstack_metadata = pd.read_csv(\n",
    "    \"../op_chains_tracking/outputs/chain_metadata.csv\"\n",
    ")\n",
    "# combined_l2b_df[\"l2beat_slug\"] = combined_l2b_df[\"chain\"]\n",
    "# meta_cols = [\n",
    "#     \"l2beat_slug\",\n",
    "#     \"is_op_chain\",\n",
    "#     \"mainnet_chain_id\",\n",
    "#     \"op_based_version\",\n",
    "#     \"alignment\",\n",
    "#     \"chain_name\",\n",
    "#     \"display_name\",\n",
    "# ]\n",
    "\n",
    "# l2b_enriched_df = combined_l2b_df.merge(\n",
    "#     opstack_metadata[meta_cols], on=\"l2beat_slug\", how=\"left\"\n",
    "# )\n",
    "\n",
    "# l2b_enriched_df[\"alignment\"] = l2b_enriched_df[\"alignment\"].fillna(\"Other EVMs\")"
   ]
  },
  {
   "cell_type": "code",
   "execution_count": null,
   "metadata": {},
   "outputs": [],
   "source": [
    "boolean_columns = [\"is_op_chain\", \"is_upcoming\", \"is_archived\", \"is_current_chain\"]\n",
    "dfs = [l2beat_meta]#[l2b_enriched_df, l2beat_meta]\n",
    "\n",
    "for df in dfs:\n",
    "    for column in boolean_columns:\n",
    "        if column in df.columns:\n",
    "            df[column] = df[column].fillna(False)"
   ]
  },
  {
   "cell_type": "code",
   "execution_count": 15,
   "metadata": {},
   "outputs": [],
   "source": [
    "#  Define aggregation functions for each column\n",
    "aggregations = {\n",
    "    \"totalUsd\": [\"min\", \"last\", \"mean\"],  # valueUsd\n",
    "    \"transactions\": [\"sum\", \"mean\"],\n",
    "    \"canonicalUsd\": [\"min\", \"last\", \"mean\"],  # cbvUsd\n",
    "    \"externalUsd\": [\"min\", \"last\", \"mean\"],  # ebvUsd\n",
    "    \"nativeUsd\": [\"min\", \"last\", \"mean\"],  # nmvUsd\n",
    "}\n",
    "\n",
    "\n",
    "# Function to perform aggregation based on frequency\n",
    "def aggregate_data(df, freq, date_col=\"timestamp\", groupby_cols=None, aggs=None):\n",
    "    if groupby_cols is None:\n",
    "        groupby_cols = [\n",
    "            \"chain\",\n",
    "            \"chainId\",\n",
    "            \"layer\",\n",
    "            \"is_op_chain\",\n",
    "            \"mainnet_chain_id\",\n",
    "            \"op_based_version\",\n",
    "            \"alignment\",\n",
    "            \"chain_name\",\n",
    "            \"display_name\",\n",
    "            \"provider\",\n",
    "            \"is_upcoming\",\n",
    "            \"is_archived\",\n",
    "            \"is_current_chain\",\n",
    "        ]\n",
    "    if aggs is None:\n",
    "        aggs = aggregations\n",
    "\n",
    "    # Group by the specified frequency and other columns, then apply aggregations\n",
    "    df_agg = (\n",
    "        df.groupby([pd.Grouper(key=date_col, freq=freq)] + groupby_cols, dropna=False)\n",
    "        .agg(aggs)\n",
    "        .reset_index()\n",
    "    )\n",
    "\n",
    "    # Flatten the hierarchical column index and concatenate aggregation function names with column names\n",
    "    df_agg.columns = [\"_\".join(filter(None, col)).rstrip(\"_\") for col in df_agg.columns]\n",
    "\n",
    "    # Rename the 'timestamp' column based on the frequency\n",
    "    date_col_name = \"month\" if freq == \"MS\" else \"week\"\n",
    "    df_agg.rename(columns={date_col: date_col_name}, inplace=True)\n",
    "\n",
    "    # Group by 'chain' and rank the rows within each group based on the date column\n",
    "    df_agg[f\"{date_col_name}s_live\"] = df_agg.groupby(\"chain\")[date_col_name].rank(\n",
    "        method=\"min\"\n",
    "    )\n",
    "\n",
    "    return df_agg\n",
    "\n",
    "\n",
    "# # Perform monthly aggregation\n",
    "# l2b_monthly_df = aggregate_data(l2b_enriched_df, freq=\"MS\")\n",
    "# # Perform weekly aggregation\n",
    "# l2b_weekly_df = aggregate_data(l2b_enriched_df, freq=\"W-MON\")\n",
    "\n",
    "# Sample output\n",
    "# l2b_weekly_df.sample(5)"
   ]
  },
  {
   "cell_type": "code",
   "execution_count": 16,
   "metadata": {},
   "outputs": [],
   "source": [
    "# export\n",
    "folder = \"outputs/\"\n",
    "# combined_gtp_df.to_csv(folder + \"growthepie_l2_activity.csv\", index=False)\n",
    "# gtp_meta_api.to_csv(folder + \"growthepie_l2_metadata.csv\", index=False)\n",
    "# l2b_enriched_df.to_csv(folder + \"l2beat_l2_activity.csv\", index=False)\n",
    "# l2beat_meta.to_csv(folder + \"l2beat_l2_metadata.csv\", index=False)\n",
    "# l2b_monthly_df.to_csv(folder + \"l2beat_l2_activity_monthly.csv\", index=False)\n",
    "# l2b_weekly_df.to_csv(folder + \"l2beat_l2_activity_weekly.csv\", index=False)\n",
    "# l2beat_aoc.to_csv(folder + \"l2beat_aoc_by_token.csv\", index=False)"
   ]
  },
  {
   "cell_type": "code",
   "execution_count": 17,
   "metadata": {},
   "outputs": [],
   "source": [
    "# # gtp_meta_api.dtypes\n",
    "# gtp_meta_api['logo'] = gtp_meta_api['logo'].astype(str)\n",
    "# gtp_meta_api['l2beat_stage'] = gtp_meta_api['l2beat_stage'].astype(str)\n",
    "# # gtp_meta_api['stack'] = gtp_meta_api['stack'].astype(str)\n",
    "# gtp_meta_api['block_explorers'] = gtp_meta_api['block_explorers'].astype(str)"
   ]
  },
  {
   "cell_type": "code",
   "execution_count": 18,
   "metadata": {},
   "outputs": [],
   "source": [
    "# gtp_meta_api"
   ]
  },
  {
   "cell_type": "code",
   "execution_count": 19,
   "metadata": {},
   "outputs": [],
   "source": [
    "# combined_gtp_df['evm_chain_id'] = combined_gtp_df['evm_chain_id'].astype(str).replace('.0','').fillna('-')\n",
    "# gtp_meta_api['evm_chain_id'] = gtp_meta_api['evm_chain_id'].astype(str).replace('.0','').fillna('-')"
   ]
  },
  {
   "cell_type": "code",
   "execution_count": null,
   "metadata": {},
   "outputs": [],
   "source": [
    "# BQ Upload\n",
    "bqu.write_df_to_bq_table(l2beat_meta, \"l2beat_l2_metadata\")\n",
    "# time.sleep(1)\n",
    "try:\n",
    "    bqu.write_df_to_bq_table(combined_gtp_df, \"daily_growthepie_l2_activity\")\n",
    "    time.sleep(1)\n",
    "    bqu.write_df_to_bq_table(gtp_meta_api, \"growthepie_l2_metadata\")\n",
    "    time.sleep(1)\n",
    "# bqu.write_df_to_bq_table(l2b_enriched_df, \"daily_l2beat_l2_activity\")\n",
    "# time.sleep(1)\n",
    "# bqu.write_df_to_bq_table(l2b_monthly_df, \"monthly_l2beat_l2_activity\")\n",
    "# time.sleep(1)\n",
    "# bqu.write_df_to_bq_table(l2b_weekly_df, \"weekly_l2beat_l2_activity\")\n",
    "# time.sleep(1)\n",
    "# bqu.append_and_upsert_df_to_bq_table(\n",
    "#     l2beat_aoc,\n",
    "#     \"daily_l2beat_aoc_by_token\",\n",
    "#     unique_keys=[\"dt\", \"chain\", \"token_type\", \"asset_id\", \"chain\", \"address\"],\n",
    "except Exception as e:\n",
    "    print(f\"An error occurred: {e}\")\n",
    "    print(f\"Exception type: {type(e).__name__}\")\n",
    "    import traceback\n",
    "    print(\"Traceback:\")\n",
    "    print(traceback.format_exc())\n",
    "# )"
   ]
  },
  {
   "cell_type": "code",
   "execution_count": null,
   "metadata": {},
   "outputs": [],
   "source": [
    "# Post to Dune API\n",
    "try:\n",
    "    d.write_dune_api_from_pandas(\n",
    "        combined_gtp_df, \"growthepie_l2_activity\", \"L2 Usage Activity from GrowThePie\"\n",
    "    )\n",
    "    d.write_dune_api_from_pandas(\n",
    "        gtp_meta_api, \"growthepie_l2_metadata\", \"L2 Metadata from GrowThePie\"\n",
    "    )\n",
    "except Exception as e:\n",
    "    print(f\"An error occurred: {e}\")\n",
    "    print(f\"Exception type: {type(e).__name__}\")\n",
    "    import traceback\n",
    "    print(\"Traceback:\")\n",
    "    print(traceback.format_exc())\n",
    "# d.write_dune_api_from_pandas(\n",
    "#     l2b_enriched_df, \"l2beat_l2_activity\", \"L2 Usage Activity from L2Beat\"\n",
    "# )\n",
    "# d.write_dune_api_from_pandas(\n",
    "#     l2b_monthly_df,\n",
    "#     \"l2beat_l2_activity_monthly\",\n",
    "#     \"Monthly L2 Usage Activity from L2Beat\",\n",
    "# )\n",
    "# d.write_dune_api_from_pandas(\n",
    "#     l2b_weekly_df, \"l2beat_l2_activity_weekly\", \"Weekly L2 Usage Activity from L2Beat\"\n",
    "# )\n",
    "# d.write_dune_api_from_pandas(\n",
    "#     l2beat_meta, \"l2beat_l2_metadata\", \"L2 Metadata from L2Beat\"\n",
    "# )"
   ]
  },
  {
   "cell_type": "code",
   "execution_count": null,
   "metadata": {},
   "outputs": [],
   "source": [
    "# Copy to Dune\n",
    "print('upload bq to dune')\n",
    "sql = '''\n",
    "SELECT *\n",
    "FROM `views.daily_l2beat_breakdown`\n",
    "WHERE onchain_value_usd > 0\n",
    "AND dt_day >= DATE_SUB(CURRENT_DATE(), INTERVAL 365 DAY)\n",
    "'''\n",
    "bq_df = bqu.run_query_to_df(sql)\n",
    "\n",
    "dune_table_name = 'daily_l2beat_breakdown'\n",
    "d.write_dune_api_from_pandas(bq_df, dune_table_name,table_description = dune_table_name)"
   ]
  }
 ],
 "metadata": {
  "kernelspec": {
   "display_name": "gcp-env",
   "language": "python",
   "name": "python3"
  },
  "language_info": {
   "codemirror_mode": {
    "name": "ipython",
    "version": 3
   },
   "file_extension": ".py",
   "mimetype": "text/x-python",
   "name": "python",
   "nbconvert_exporter": "python",
   "pygments_lexer": "ipython3",
   "version": "3.12.3"
  },
  "orig_nbformat": 4
 },
 "nbformat": 4,
 "nbformat_minor": 2
}
