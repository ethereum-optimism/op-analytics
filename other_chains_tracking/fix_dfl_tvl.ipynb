{
 "cells": [
  {
   "cell_type": "code",
   "execution_count": 2,
   "metadata": {},
   "outputs": [
    {
     "name": "stdout",
     "output_type": "stream",
     "text": [
      "Original content length: 4519647\n",
      "Fixed content around the problematic position: CHEEMS\",\"//fei.money/\",\"description\":\"FE\n",
      "Failed to parse JSON: Expecting ':' delimiter: line 1 column 3669730 (char 3669729)\n"
     ]
    }
   ],
   "source": [
    "import requests as r\n",
    "import json\n",
    "\n",
    "# Get the API response\n",
    "all_api = 'https://api.llama.fi/protocols'\n",
    "header = {'User-Agent': 'Mozilla/5.0 (Windows NT 10.0; Win64; x64; rv:71.0) Gecko/20100101 Firefox/71.0'}\n",
    "response = r.get(all_api, headers=header)\n",
    "print(f\"Original content length: {len(response.text)}\")\n",
    "\n",
    "# Function to fix known issues in JSON content incrementally\n",
    "def fix_json_incrementally(content):\n",
    "    # Example of targeted fix based on observed issues\n",
    "    content = content.replace(',\\\\\"change_1d\\\\\"', ',\"change_1d\"')\n",
    "    content = content.replace(',\"listedAt\":1634242012', ',\"listedAt\":\"1634242012\"')\n",
    "    content = content.replace('//fei.money/', '\"//fei.money/\"')\n",
    "    return content\n",
    "\n",
    "# Fix the JSON content incrementally\n",
    "fixed_content = fix_json_incrementally(response.text)\n",
    "\n",
    "# Example of printing fixed content around problematic area\n",
    "problematic_position = 3669729  # Adjust this according to actual error position\n",
    "start = max(0, problematic_position - 20)\n",
    "end = min(len(fixed_content), problematic_position + 20)\n",
    "print(f\"Fixed content around the problematic position: {fixed_content[start:end]}\")\n",
    "\n",
    "# Attempt to parse the sanitized JSON\n",
    "try:\n",
    "    content = json.loads(fixed_content)\n",
    "    print(\"JSON parsed successfully\")\n",
    "except json.JSONDecodeError as e:\n",
    "    print(f\"Failed to parse JSON: {e}\")\n",
    "\n",
    "# Optional: Save the fixed content to a file for validation\n",
    "with open('fixed_response.json', 'w') as f:\n",
    "    f.write(fixed_content)\n"
   ]
  }
 ],
 "metadata": {
  "kernelspec": {
   "display_name": "gcp-env",
   "language": "python",
   "name": "python3"
  },
  "language_info": {
   "codemirror_mode": {
    "name": "ipython",
    "version": 3
   },
   "file_extension": ".py",
   "mimetype": "text/x-python",
   "name": "python",
   "nbconvert_exporter": "python",
   "pygments_lexer": "ipython3",
   "version": "3.12.3"
  }
 },
 "nbformat": 4,
 "nbformat_minor": 2
}
