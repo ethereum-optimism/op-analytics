{
 "cells": [
  {
   "cell_type": "code",
   "execution_count": null,
   "metadata": {
    "metadata": {}
   },
   "outputs": [],
   "source": [
    "print('get filtered deployers')\n",
    "import sys\n",
    "sys.path.append(\"../helper_functions\")\n",
    "import duneapi_utils as d\n",
    "# import flipside_utils as f\n",
    "# import clickhouse_utils as ch\n",
    "import csv_utils as cu\n",
    "import google_bq_utils as bqu\n",
    "sys.path.pop()\n",
    "\n",
    "import numpy as np\n",
    "import pandas as pd\n",
    "from datetime import timedelta\n",
    "import os\n",
    "# import clickhouse_connect as cc"
   ]
  },
  {
   "cell_type": "code",
   "execution_count": null,
   "metadata": {},
   "outputs": [],
   "source": []
  },
  {
   "cell_type": "code",
   "execution_count": 2,
   "metadata": {
    "metadata": {}
   },
   "outputs": [],
   "source": [
    "# ch_client = ch.connect_to_clickhouse_db() #Default is OPLabs DB\n",
    "\n",
    "query_name = 'daily_evms_filtered_deployers_counts'"
   ]
  },
  {
   "cell_type": "code",
   "execution_count": 3,
   "metadata": {
    "metadata": {}
   },
   "outputs": [],
   "source": [
    "trailing_days = 28 #Per Chain for Deployers\n",
    "\n",
    "flipside_configs = [\n",
    "        {'blockchain': 'blast', 'name': 'Blast', 'layer': 'L2'}\n",
    "]\n",
    "clickhouse_configs = [\n",
    "        {'blockchain': 'metal', 'name': 'Metal', 'layer': 'L2'},\n",
    "        {'blockchain': 'mode', 'name': 'Mode', 'layer': 'L2'},\n",
    "        {'blockchain': 'bob', 'name': 'BOB (Build on Bitcoin)', 'layer': 'L2'},\n",
    "        {'blockchain': 'fraxtal', 'name': 'Fraxtal', 'layer': 'L2'},\n",
    "        {'blockchain': 'cyber', 'name': 'Cyber', 'layer': 'L2'},\n",
    "        {'blockchain': 'mint', 'name': 'Mint', 'layer': 'L2'},\n",
    "]"
   ]
  },
  {
   "cell_type": "code",
   "execution_count": 4,
   "metadata": {
    "metadata": {}
   },
   "outputs": [],
   "source": [
    "# # Run Flipside - TODO: Build Deployer Query (tbd if it will run)\n",
    "# print('     flipside runs')\n",
    "# flip_dfs = []\n",
    "# with open(os.path.join(\"inputs/sql/flipside_bychain.sql\"), \"r\") as file:\n",
    "#                         og_query = file.read()\n",
    "\n",
    "# for chain in flipside_configs:\n",
    "#         print(     'flipside: ' + chain['blockchain'])\n",
    "#         query = og_query\n",
    "#         #Pass in Params to the query\n",
    "#         query = query.replace(\"@blockchain@\", chain['blockchain'])\n",
    "#         query = query.replace(\"@name@\", chain['name'])\n",
    "#         query = query.replace(\"@layer@\", chain['layer'])\n",
    "#         query = query.replace(\"@trailing_days@\", str(trailing_days))\n",
    "        \n",
    "#         df = f.query_to_df(query)\n",
    "\n",
    "#         flip_dfs.append(df)\n",
    "\n",
    "# flip = pd.concat(flip_dfs)\n",
    "# flip['source'] = 'flipside'\n",
    "# flip['dt'] = pd.to_datetime(flip['dt']).dt.tz_localize(None)\n",
    "# flip = flip[['dt','blockchain','name','layer','num_qualified_txs','source']]\n"
   ]
  },
  {
   "cell_type": "code",
   "execution_count": null,
   "metadata": {
    "metadata": {}
   },
   "outputs": [],
   "source": [
    "# Run Dune\n",
    "print('     dune runs')\n",
    "days_param = d.generate_query_parameter(input=trailing_days,field_name='trailing_days',dtype='number')\n",
    "deploy_dune_df = d.get_dune_data(query_id = 3753590, #https://dune.com/queries/3753590\n",
    "    name = \"daily_evms_filtered_deployers_dune\",\n",
    "    path = \"outputs\",\n",
    "    performance=\"large\",\n",
    "    params = [days_param]\n",
    ")"
   ]
  },
  {
   "cell_type": "code",
   "execution_count": null,
   "metadata": {},
   "outputs": [],
   "source": [
    "revdev_dune_df = d.get_dune_data(query_id = 3329567, #https://dune.com/queries/3329567\n",
    "    name = \"daily_evms_revdevs_dune\",\n",
    "    path = \"outputs\"#,\n",
    "    # params = [days_param]\n",
    ")\n",
    "\n",
    "deploy_dune_df['source'] = 'dune'\n",
    "revdev_dune_df['source'] = 'dune'\n",
    "\n",
    "deploy_dune_df['created_dt'] = pd.to_datetime(deploy_dune_df['created_dt']).dt.tz_localize(None)\n",
    "revdev_dune_df['dt'] = pd.to_datetime(revdev_dune_df['dt']).dt.tz_localize(None)\n",
    "revdev_dune_df = revdev_dune_df.rename(columns={'chain':'blockchain'})\n",
    "\n",
    "# deploy_dune_df = deploy_dune_df[['created_dt','blockchain','creator_address']]\n",
    "# revdev_dune_df = revdev_dune_df[['created_dt','blockchain','creator_address']]"
   ]
  },
  {
   "cell_type": "code",
   "execution_count": null,
   "metadata": {},
   "outputs": [],
   "source": [
    "dune_meta_df = d.get_dune_data(query_id = 3445473, #https://dune.com/queries/3445473\n",
    "    name = \"dune_evms_info\",\n",
    "    path = \"outputs\",\n",
    "    num_hours_to_rerun = 12\n",
    ")\n",
    "dune_meta_df = dune_meta_df.rename(columns={'dune_schema':'blockchain'})"
   ]
  },
  {
   "cell_type": "code",
   "execution_count": 8,
   "metadata": {},
   "outputs": [],
   "source": [
    "# deploy_dune_df\n",
    "# dune_meta_df['chain_id'] = dune_meta_df['chain_id'].astype(str)\n",
    "# deploy_dune_df['chain_id'] = deploy_dune_df['chain_id'].astype(str)\n",
    "# revdev_dune_df['chain_id'] = revdev_dune_df['chain_id'].astype(str)\n",
    "\n",
    "dune_meta_df['blockchain'] = dune_meta_df['blockchain'].astype(str)\n",
    "deploy_dune_df['blockchain'] = deploy_dune_df['blockchain'].astype(str)\n",
    "revdev_dune_df['blockchain'] = revdev_dune_df['blockchain'].astype(str)"
   ]
  },
  {
   "cell_type": "code",
   "execution_count": 9,
   "metadata": {},
   "outputs": [],
   "source": [
    "cols = ['name','layer','chain_id']\n",
    "deploy_dune_df = deploy_dune_df.merge(dune_meta_df[cols], on='chain_id',how='inner')\n",
    "revdev_dune_df = revdev_dune_df.merge(dune_meta_df[cols], on='chain_id',how='left')\n",
    "\n",
    "# deploy_dune_df.sample(5)"
   ]
  },
  {
   "cell_type": "code",
   "execution_count": 10,
   "metadata": {},
   "outputs": [],
   "source": [
    "# revdev_dune_df.head()"
   ]
  },
  {
   "cell_type": "code",
   "execution_count": 11,
   "metadata": {
    "metadata": {}
   },
   "outputs": [],
   "source": [
    "# # Run Clickhouse - TODO: Build Deployer Query (tbd if it will run)\n",
    "# print('     clickhouse runs')\n",
    "# ch_dfs = []\n",
    "# with open(os.path.join(\"inputs/sql/goldsky_bychain.sql\"), \"r\") as file:\n",
    "#                         og_query = file.read()\n",
    "\n",
    "# for chain in clickhouse_configs:\n",
    "#         print(     'clickhouse: ' + chain['blockchain'])\n",
    "#         query = og_query\n",
    "#         #Pass in Params to the query\n",
    "#         query = query.replace(\"@blockchain@\", chain['blockchain'])\n",
    "#         query = query.replace(\"@name@\", chain['name'])\n",
    "#         query = query.replace(\"@layer@\", chain['layer'])\n",
    "#         query = query.replace(\"@trailing_days@\", str(trailing_days))\n",
    "        \n",
    "#         df = ch_client.query_df(query)\n",
    "\n",
    "#         ch_dfs.append(df)\n",
    "\n",
    "# ch = pd.concat(ch_dfs)\n",
    "# ch['source'] = 'goldsky'\n",
    "# ch['dt'] = pd.to_datetime(ch['dt']).dt.tz_localize(None)\n",
    "# ch = ch[['dt','blockchain','name','layer','num_qualified_txs','source']]"
   ]
  },
  {
   "cell_type": "code",
   "execution_count": 12,
   "metadata": {
    "metadata": {}
   },
   "outputs": [],
   "source": [
    "# Step 1: Filter dune_df for chains not in flip\n",
    "# filtered_dune_df = dune_df[~dune_df['blockchain'].isin(flip['blockchain'])]\n",
    "# Step 2: Union flip and filtered_dune_df\n",
    "# combined_flip_dune = pd.concat([flip, filtered_dune_df])\n",
    "# # Step 3: Filter ch for chains not in combined_flip_dune\n",
    "# filtered_ch = ch[~ch['blockchain'].isin(combined_flip_dune['blockchain'])]\n",
    "# # Step 4: Union the result with filtered_ch\n",
    "# final_df = pd.concat([combined_flip_dune, filtered_ch])\n",
    "# # final_df\n",
    "unified_deployers_df = deploy_dune_df\n",
    "unified_revdev_df = revdev_dune_df\n"
   ]
  },
  {
   "cell_type": "code",
   "execution_count": null,
   "metadata": {},
   "outputs": [],
   "source": [
    "opstack_metadata = pd.read_csv('../op_chains_tracking/outputs/chain_metadata.csv')\n",
    "# Filter for rows where is_op_chain is True and dune_schema_name is not null\n",
    "op_chains_df = opstack_metadata[(opstack_metadata['is_op_chain']) & (opstack_metadata['dune_schema'].notnull())]\n",
    "# Get the unique entries in dune_schema_name\n",
    "op_chains = op_chains_df['dune_schema'].unique().tolist()\n",
    "\n",
    "op_chains\n",
    "# op_chains = opstac"
   ]
  },
  {
   "cell_type": "code",
   "execution_count": null,
   "metadata": {},
   "outputs": [],
   "source": [
    "unified_deployers_df.sample(5)"
   ]
  },
  {
   "cell_type": "code",
   "execution_count": 15,
   "metadata": {},
   "outputs": [],
   "source": [
    "# Ensure created_dt is in datetime format\n",
    "unified_deployers_df['created_dt'] = pd.to_datetime(unified_deployers_df['created_dt'])\n",
    "\n",
    "# Generate a date range for the period you want to analyze\n",
    "start_date = unified_deployers_df['created_dt'].min()\n",
    "end_date = unified_deployers_df['created_dt'].max()\n",
    "\n",
    "date_range = pd.date_range(start=start_date, end=end_date, freq='D')\n",
    "\n",
    "# Initialize a list to store results\n",
    "results = []\n",
    "\n",
    "# Iterate over each date in the range\n",
    "for single_date in date_range:\n",
    "    # Define the date window\n",
    "    window_start = single_date - timedelta(days=28)\n",
    "    window_end = single_date\n",
    "    \n",
    "    # Filter the dataframe for the current window\n",
    "    window_df = unified_deployers_df[\n",
    "        (unified_deployers_df['created_dt'] >= window_start) &\n",
    "        (unified_deployers_df['created_dt'] <= window_end)\n",
    "    ]\n",
    "    \n",
    "    # Group by blockchain and count unique creator_addresses\n",
    "    unique_counts = window_df.groupby(['blockchain','name','layer','chain_id'])['creator_address'].nunique().reset_index()\n",
    "    unique_counts['dt'] = single_date\n",
    "    # Append the individual blockchain results\n",
    "    results.append(unique_counts)\n",
    "\n",
    "    # Calculate the 'All' unique count\n",
    "    all_count = window_df['creator_address'].nunique()\n",
    "    results.append(pd.DataFrame({\n",
    "        'blockchain': ['all'],\n",
    "        'name': ['All'],\n",
    "        'layer': ['Aggregate'],\n",
    "        'chain_id': [None],\n",
    "        'creator_address': [all_count],\n",
    "        'dt': [single_date]\n",
    "    }))\n",
    "    # Calculate the 'OP Chains' unique count\n",
    "    layers = ['L1','L2','L3']\n",
    "    for i in layers:\n",
    "        l_window_df = window_df[window_df['layer'] == i]\n",
    "        l_count = l_window_df['creator_address'].nunique()\n",
    "        results.append(pd.DataFrame({\n",
    "            'blockchain': [i.lower()],\n",
    "            'name': [i + 's'],\n",
    "            'layer': ['Aggregate'],\n",
    "            'chain_id': [None],\n",
    "            'creator_address': [l_count],\n",
    "            'dt': [single_date]\n",
    "        }))\n",
    "    # Calculate the 'OP Chains' unique count\n",
    "    op_window_df = window_df[window_df['blockchain'].isin(op_chains)]\n",
    "    op_count = op_window_df['creator_address'].nunique()\n",
    "    results.append(pd.DataFrame({\n",
    "        'blockchain': ['op chains'],\n",
    "        'name': ['OP Chains'],\n",
    "        'layer': ['Aggregate'],\n",
    "        'chain_id': [None],\n",
    "        'creator_address': [op_count],\n",
    "        'dt': [single_date]\n",
    "    }))\n",
    "\n",
    "# Concatenate all results into a single DataFrame\n",
    "final_df = pd.concat(results)\n",
    "\n",
    "# Optional: Reset index for better readability\n",
    "final_df = final_df.reset_index(drop=True)\n",
    "\n",
    "# print(final_df)"
   ]
  },
  {
   "cell_type": "code",
   "execution_count": null,
   "metadata": {},
   "outputs": [],
   "source": [
    "final_df.sample(5)"
   ]
  },
  {
   "cell_type": "code",
   "execution_count": null,
   "metadata": {},
   "outputs": [],
   "source": [
    "meta_cols = ['is_op_chain','mainnet_chain_id','op_based_version', 'alignment','chain_name', 'display_name']\n",
    "opstack_metadata_map = opstack_metadata[meta_cols]\n",
    "opstack_metadata_map = opstack_metadata_map.rename(columns={'mainnet_chain_id':'chain_id'})\n",
    "\n",
    "opstack_metadata_map = opstack_metadata_map[opstack_metadata_map['chain_id'].notnull()]\n",
    "opstack_metadata_map['chain_id'] = opstack_metadata_map['chain_id'].astype(int)\n",
    "opstack_metadata_map.head(5)"
   ]
  },
  {
   "cell_type": "code",
   "execution_count": null,
   "metadata": {},
   "outputs": [],
   "source": [
    "opstack_metadata_map['chain_id'] = opstack_metadata_map['chain_id'].astype(int)\n",
    "final_df['chain_id'] = final_df['chain_id'].fillna(-1).astype(int)\n",
    "unified_revdev_df['chain_id'] = unified_revdev_df['chain_id'].replace('None', np.nan).fillna(-1).astype(int)\n",
    "unified_deployers_df['chain_id'] = unified_deployers_df['chain_id'].replace('None', np.nan).fillna(-1).astype(int)\n",
    "unified_deployers_df\n",
    "\n",
    "# print(unified_revdev_df.dtypes)\n",
    "# # opstack_metadata_map['chain_id'] = opstack_metadata_map['chain_id'].astype(str).replace('.0','')\n",
    "# print(final_df.dtypes)"
   ]
  },
  {
   "cell_type": "code",
   "execution_count": null,
   "metadata": {
    "metadata": {}
   },
   "outputs": [],
   "source": [
    "deployer_enriched_df = final_df.merge(opstack_metadata_map, on='chain_id', how = 'left')\n",
    "\n",
    "deployer_enriched_df['alignment'] = deployer_enriched_df['alignment'].fillna('Other EVMs')\n",
    "deployer_enriched_df.loc[deployer_enriched_df['layer'] == 'Aggregate', 'alignment'] = 'Aggregate'\n",
    "\n",
    "deployer_enriched_df['is_op_chain'] = deployer_enriched_df['is_op_chain'].fillna(False)\n",
    "deployer_enriched_df['display_name'] = deployer_enriched_df['display_name'].fillna(deployer_enriched_df['name'])\n",
    "\n",
    "deployer_enriched_df = deployer_enriched_df.drop(columns=['name'])"
   ]
  },
  {
   "cell_type": "code",
   "execution_count": null,
   "metadata": {},
   "outputs": [],
   "source": [
    "# deployer_enriched_df[deployer_enriched_df['is_op_chain'] == True].sample(5)\n",
    "unified_revdev_df"
   ]
  },
  {
   "cell_type": "code",
   "execution_count": null,
   "metadata": {},
   "outputs": [],
   "source": [
    "unified_revdev_df = unified_revdev_df.drop(['is_op_chain','chain_name'],axis=1)\n",
    "\n",
    "revdev_enriched_df = unified_revdev_df.merge(opstack_metadata_map, on='chain_id', how = 'left')\n",
    "revdev_enriched_df['alignment'] = revdev_enriched_df['alignment'].fillna('Other EVMs')\n",
    "revdev_enriched_df['is_op_chain'] = revdev_enriched_df['is_op_chain'].fillna(False)\n",
    "revdev_enriched_df['display_name'] = revdev_enriched_df['display_name'].fillna(revdev_enriched_df['name'])\n",
    "revdev_enriched_df = revdev_enriched_df.drop(columns=['name'])\n"
   ]
  },
  {
   "cell_type": "code",
   "execution_count": 24,
   "metadata": {},
   "outputs": [],
   "source": [
    "# List of DataFrames\n",
    "dataframes = [deployer_enriched_df, revdev_enriched_df, unified_deployers_df]\n",
    "\n",
    "# Process each DataFrame\n",
    "for df in dataframes:\n",
    "    df['blockchain'] = df['blockchain'].astype(str).fillna('-').str.strip()\n",
    "    df['chain_id'] = df['chain_id'].fillna('-1')\n",
    "    df.reset_index(drop=True, inplace=True)"
   ]
  },
  {
   "cell_type": "code",
   "execution_count": 25,
   "metadata": {},
   "outputs": [],
   "source": [
    "# Check DataFrame information to verify data types and non-null counts\n",
    "# print(deployer_enriched_df.info())\n",
    "# print(revdev_enriched_df.info())\n",
    "# print(unified_deployers_df.info())\n"
   ]
  },
  {
   "cell_type": "code",
   "execution_count": 26,
   "metadata": {
    "metadata": {}
   },
   "outputs": [],
   "source": [
    "deployer_enriched_df.sort_values(by=['dt','blockchain'], ascending =[False, False], inplace = True)\n",
    "# deployer_enriched_df.to_csv('outputs/daily_filter_deployer_counts.csv', index=False)\n",
    "\n",
    "revdev_enriched_df.sort_values(by=['dt','blockchain'], ascending =[False, False], inplace = True)\n",
    "# revdev_enriched_df.to_csv('outputs/daily_revdev_counts.csv', index=False)"
   ]
  },
  {
   "cell_type": "code",
   "execution_count": 27,
   "metadata": {},
   "outputs": [],
   "source": [
    "# print(revdev_enriched_df.dtypes)"
   ]
  },
  {
   "cell_type": "code",
   "execution_count": null,
   "metadata": {},
   "outputs": [],
   "source": [
    "# revdev_enriched_df.info()\n",
    "revdev_enriched_df.sample(4)"
   ]
  },
  {
   "cell_type": "code",
   "execution_count": null,
   "metadata": {},
   "outputs": [],
   "source": [
    "# Filter Days\n",
    "\n",
    "# Get the maximum date\n",
    "max_deployer_date = deployer_enriched_df['dt'].max()\n",
    "max_revdev_date = revdev_enriched_df['dt'].max()\n",
    "\n",
    "# Calculate the cutoff date\n",
    "cutoff_deployer_date = max_deployer_date - pd.Timedelta(days=trailing_days)\n",
    "cutoff_revdev_date = max_revdev_date - pd.Timedelta(days=trailing_days)\n",
    "\n",
    "# Filter the DataFrame\n",
    "deployer_enriched_df = deployer_enriched_df[deployer_enriched_df['dt'] >= cutoff_deployer_date]\n",
    "revdev_enriched_df = revdev_enriched_df[revdev_enriched_df['dt'] >= cutoff_revdev_date]"
   ]
  },
  {
   "cell_type": "code",
   "execution_count": null,
   "metadata": {},
   "outputs": [],
   "source": [
    "#BQ Upload\n",
    "bqu.append_and_upsert_df_to_bq_table(deployer_enriched_df, 'daily_filter_deployer_counts',unique_keys=['dt','blockchain'])\n",
    "bqu.append_and_upsert_df_to_bq_table(revdev_enriched_df, 'daily_revdev_counts',unique_keys=['dt','blockchain'])\n",
    "# Raw Deployer Address Data\n",
    "bqu.append_and_upsert_df_to_bq_table(unified_deployers_df, 'daily_filter_deployer_address_list', unique_keys = ['blockchain','created_dt','creator_address'])"
   ]
  }
 ],
 "metadata": {
  "kernelspec": {
   "display_name": "gcp-env",
   "language": "python",
   "name": "python3"
  },
  "language_info": {
   "codemirror_mode": {
    "name": "ipython",
    "version": 3
   },
   "file_extension": ".py",
   "mimetype": "text/x-python",
   "name": "python",
   "nbconvert_exporter": "python",
   "pygments_lexer": "ipython3",
   "version": "3.12.3"
  }
 },
 "nbformat": 4,
 "nbformat_minor": 2
}
