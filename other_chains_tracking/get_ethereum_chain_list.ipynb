{
 "cells": [
  {
   "cell_type": "code",
   "execution_count": 1,
   "metadata": {},
   "outputs": [],
   "source": [
    "# github: https://github.com/ethereum-lists/chains\n",
    "api_url = 'https://chainid.network/chains_mini.json'"
   ]
  },
  {
   "cell_type": "code",
   "execution_count": null,
   "metadata": {},
   "outputs": [],
   "source": [
    "import pandas as pd\n",
    "import requests as r\n",
    "import sys\n",
    "\n",
    "sys.path.append(\"../helper_functions\")\n",
    "import pandas_utils as pu\n",
    "import google_bq_utils as bqu\n",
    "sys.path.pop()"
   ]
  },
  {
   "cell_type": "code",
   "execution_count": 3,
   "metadata": {},
   "outputs": [],
   "source": [
    "# Send a GET request to the API\n",
    "response = r.get(api_url)\n",
    "\n",
    "# Check if the request was successful\n",
    "if response.status_code == 200:\n",
    "    # Parse the JSON data\n",
    "    data = response.json()\n",
    "\n",
    "    # Create a DataFrame from the data\n",
    "    df = pd.DataFrame(data)\n",
    "\n",
    "    # Print the DataFrame\n",
    "    # print(df.sample(5))\n",
    "else:\n",
    "    print(f\"Error: {response.status_code}\")"
   ]
  },
  {
   "cell_type": "code",
   "execution_count": 4,
   "metadata": {},
   "outputs": [],
   "source": [
    "df = pu.flatten_nested_data(df, 'nativeCurrency')"
   ]
  },
  {
   "cell_type": "code",
   "execution_count": 5,
   "metadata": {},
   "outputs": [],
   "source": [
    "def remove_words(name, words_to_remove):\n",
    "    \"\"\"\n",
    "    Remove specified words from the name string and trim remaining spaces,\n",
    "    while preserving the original capitalization.\n",
    "    \"\"\"\n",
    "    # Split the name into words\n",
    "    name_words = name.split()\n",
    "    \n",
    "    # Remove the specified words from the list of words\n",
    "    cleaned_words = [word for word in name_words if word.lower() not in [w.lower() for w in words_to_remove]]\n",
    "    \n",
    "    # Join the remaining words back into a string\n",
    "    cleaned_name = ' '.join(cleaned_words)\n",
    "    \n",
    "    return cleaned_name"
   ]
  },
  {
   "cell_type": "code",
   "execution_count": 6,
   "metadata": {},
   "outputs": [],
   "source": [
    "# Generate Clean Name\n",
    "words_to_remove = [\n",
    "        'Mainnet','Network'\n",
    "]\n",
    "\n",
    "df['clean_chain_name'] = df.apply(lambda row: remove_words(row['name'], words_to_remove), axis=1)\n",
    "\n",
    "# Convert columns to strings\n",
    "df['rpc'] = df['rpc'].apply(lambda x: str(x))\n",
    "df['faucets'] = df['faucets'].apply(lambda x: str(x))\n",
    "df['infoURL'] = df['infoURL'].apply(lambda x: str(x))\n"
   ]
  },
  {
   "cell_type": "code",
   "execution_count": 7,
   "metadata": {},
   "outputs": [],
   "source": [
    "# df['name'] = df['name'].astype(str)\n",
    "# df.dtypes\n",
    "# df[df['name'].isnull()]"
   ]
  },
  {
   "cell_type": "code",
   "execution_count": 8,
   "metadata": {},
   "outputs": [],
   "source": [
    "# df.head(10)"
   ]
  },
  {
   "cell_type": "code",
   "execution_count": null,
   "metadata": {},
   "outputs": [],
   "source": [
    "bqu.write_df_to_bq_table(df, 'ethereum_lists_chains')"
   ]
  }
 ],
 "metadata": {
  "kernelspec": {
   "display_name": "new-env",
   "language": "python",
   "name": "python3"
  },
  "language_info": {
   "codemirror_mode": {
    "name": "ipython",
    "version": 3
   },
   "file_extension": ".py",
   "mimetype": "text/x-python",
   "name": "python",
   "nbconvert_exporter": "python",
   "pygments_lexer": "ipython3",
   "version": "3.12.3"
  }
 },
 "nbformat": 4,
 "nbformat_minor": 2
}
