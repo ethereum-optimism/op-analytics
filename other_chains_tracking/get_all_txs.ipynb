{
 "cells": [
  {
   "cell_type": "code",
   "execution_count": 1,
   "metadata": {},
   "outputs": [],
   "source": [
    "# ! pipenv run jupyter nbconvert --to python get_all_txs.ipynb"
   ]
  },
  {
   "cell_type": "code",
   "execution_count": 2,
   "metadata": {
    "metadata": {}
   },
   "outputs": [
    {
     "name": "stdout",
     "output_type": "stream",
     "text": [
      "get all txs\n"
     ]
    }
   ],
   "source": [
    "print('get all txs')\n",
    "import sys\n",
    "sys.path.append(\"../helper_functions\")\n",
    "import duneapi_utils as d\n",
    "import google_bq_utils as bqu\n",
    "sys.path.pop()\n",
    "\n",
    "import time\n",
    "import datetime\n",
    "\n",
    "import numpy as np\n",
    "import pandas as pd\n",
    "import os"
   ]
  },
  {
   "cell_type": "code",
   "execution_count": 3,
   "metadata": {},
   "outputs": [],
   "source": [
    "col_list = [\n",
    "        'dt','blockchain','name','layer','chain_id'\n",
    "        , 'num_raw_txs', 'num_success_txs','num_qualified_txs','source'\n",
    "        ]\n",
    "query_name = 'dune_all_txs'\n",
    "query_gas_name = 'dune_all_gas'\n",
    "query_fees_name = 'dune_all_fees'\n",
    "rerun_hrs = 4"
   ]
  },
  {
   "cell_type": "code",
   "execution_count": 4,
   "metadata": {},
   "outputs": [],
   "source": [
    "chain_config = [\n",
    "    ### #blockchain, display_name, count_func, count_block_func_param, transactions_table_param, tx_fee_func_param, tx_fee_currency_param, chain_id_param\n",
    "    ['bitcoin','Bitcoin','COUNT_IF(fee > 0)','COUNT(DISTINCT block_height)','transactions','fee','BTC','NULL'],\n",
    "    ['near','Near','COUNT(distinct case when gas_price > 0 then tx_hash else null end)','COUNT(DISTINCT block_height)','actions','cast(NULL as double)','NULL','397'],\n",
    "    ['aptos','Aptos','COUNT_IF(gas_used>0)','COUNT(DISTINCT block_height)','user_transactions','(gas_used*gas_unit_price/1e8)','APT','NULL'],\n",
    "    # ['stellar','Stellar','COUNT_IF(fee_charged>0)','COUNT(DISTINCT block_height)','fee_charged','history_transactions'], --not date partitioned\n",
    "    ['kaia','Kaia','COUNT_IF(gas_price>0)','COUNT(DISTINCT block_number)','transactions','cast(NULL as double)','NULL','8217'],\n",
    "    ['ton','TON','COUNT_IF(compute_gas_fees>0)','COUNT(DISTINCT block_seqno)','transactions','cast(NULL as double)','NULL','NULL'],\n",
    "    ['berachain','Berachain','COUNT_IF(gas_price>0)','COUNT(DISTINCT block_number)','transactions','cast(gas_price/1e9*gas_used/1e9 as double)','BERA','80094'],\n",
    "    ['sonic','Sonic','COUNT_IF(gas_price>0)','COUNT(DISTINCT block_number)','transactions','cast(gas_price/1e9*gas_used/1e9 as double)','S','146'],\n",
    "]"
   ]
  },
  {
   "cell_type": "code",
   "execution_count": 5,
   "metadata": {
    "metadata": {}
   },
   "outputs": [
    {
     "name": "stdout",
     "output_type": "stream",
     "text": [
      "trailing days: 90\n",
      "single chain: none\n"
     ]
    }
   ],
   "source": [
    "trailing_days = 90\n",
    "single_chain = 'none' ## if 'none' then there will be no filter applied\n",
    "print('trailing days: ' + str(trailing_days))\n",
    "print('single chain: ' + str(single_chain))"
   ]
  },
  {
   "cell_type": "code",
   "execution_count": 6,
   "metadata": {},
   "outputs": [],
   "source": [
    "days_param = d.generate_query_parameter(input=trailing_days,field_name='trailing_days',dtype='number')\n",
    "single_chain_param = d.generate_query_parameter(input=single_chain,field_name='single_chain',dtype='text')"
   ]
  },
  {
   "cell_type": "code",
   "execution_count": 7,
   "metadata": {
    "metadata": {}
   },
   "outputs": [
    {
     "name": "stdout",
     "output_type": "stream",
     "text": [
      "     dune runs\n",
      "Results available at https://dune.com/queries/4229341?trailing_days=90&single_chain=none\n",
      "getting latest result\n"
     ]
    }
   ],
   "source": [
    "# Run Dune - all txs\n",
    "print('     dune runs')\n",
    "fees_df = d.get_dune_data(query_id = 4229341, #https://dune.com/queries/4229341\n",
    "    name = query_name,\n",
    "    path = \"outputs\",\n",
    "    performance=\"large\",\n",
    "    params = [days_param,single_chain_param],\n",
    "    num_hours_to_rerun=rerun_hrs\n",
    ")"
   ]
  },
  {
   "cell_type": "code",
   "execution_count": 8,
   "metadata": {},
   "outputs": [
    {
     "name": "stdout",
     "output_type": "stream",
     "text": [
      "run dune - gas level\n",
      "Results available at https://dune.com/queries/4758295?trailing_days=90\n",
      "getting latest result\n"
     ]
    },
    {
     "name": "stderr",
     "output_type": "stream",
     "text": [
      "2025-04-25 09:27:26,549 INFO dune_client.api.base executing 4758295 on large cluster\n",
      "2025-04-25 09:27:26,862 INFO dune_client.api.base waiting for query execution 01JSPJ3C66XHKD196BH89F7BF5 to complete: ExecutionState.PENDING (queue position: None)\n",
      "2025-04-25 09:27:28,019 INFO dune_client.api.base waiting for query execution 01JSPJ3C66XHKD196BH89F7BF5 to complete: ExecutionState.PENDING (queue position: None)\n",
      "2025-04-25 09:27:29,173 INFO dune_client.api.base waiting for query execution 01JSPJ3C66XHKD196BH89F7BF5 to complete: ExecutionState.PENDING (queue position: None)\n",
      "2025-04-25 09:27:30,333 INFO dune_client.api.base waiting for query execution 01JSPJ3C66XHKD196BH89F7BF5 to complete: ExecutionState.PENDING (queue position: None)\n",
      "2025-04-25 09:27:31,490 INFO dune_client.api.base waiting for query execution 01JSPJ3C66XHKD196BH89F7BF5 to complete: ExecutionState.PENDING (queue position: None)\n",
      "2025-04-25 09:27:32,648 INFO dune_client.api.base waiting for query execution 01JSPJ3C66XHKD196BH89F7BF5 to complete: ExecutionState.PENDING (queue position: None)\n",
      "2025-04-25 09:27:33,803 INFO dune_client.api.base waiting for query execution 01JSPJ3C66XHKD196BH89F7BF5 to complete: ExecutionState.PENDING (queue position: None)\n",
      "2025-04-25 09:27:34,973 INFO dune_client.api.base waiting for query execution 01JSPJ3C66XHKD196BH89F7BF5 to complete: ExecutionState.PENDING (queue position: None)\n",
      "2025-04-25 09:27:36,118 INFO dune_client.api.base waiting for query execution 01JSPJ3C66XHKD196BH89F7BF5 to complete: ExecutionState.EXECUTING\n",
      "2025-04-25 09:27:37,265 INFO dune_client.api.base waiting for query execution 01JSPJ3C66XHKD196BH89F7BF5 to complete: ExecutionState.EXECUTING\n",
      "2025-04-25 09:27:38,418 INFO dune_client.api.base waiting for query execution 01JSPJ3C66XHKD196BH89F7BF5 to complete: ExecutionState.EXECUTING\n",
      "2025-04-25 09:27:39,571 INFO dune_client.api.base waiting for query execution 01JSPJ3C66XHKD196BH89F7BF5 to complete: ExecutionState.EXECUTING\n",
      "2025-04-25 09:27:40,720 INFO dune_client.api.base waiting for query execution 01JSPJ3C66XHKD196BH89F7BF5 to complete: ExecutionState.EXECUTING\n",
      "2025-04-25 09:27:41,869 INFO dune_client.api.base waiting for query execution 01JSPJ3C66XHKD196BH89F7BF5 to complete: ExecutionState.EXECUTING\n",
      "2025-04-25 09:27:43,018 INFO dune_client.api.base waiting for query execution 01JSPJ3C66XHKD196BH89F7BF5 to complete: ExecutionState.EXECUTING\n",
      "2025-04-25 09:27:44,164 INFO dune_client.api.base waiting for query execution 01JSPJ3C66XHKD196BH89F7BF5 to complete: ExecutionState.EXECUTING\n",
      "2025-04-25 09:27:45,316 INFO dune_client.api.base waiting for query execution 01JSPJ3C66XHKD196BH89F7BF5 to complete: ExecutionState.EXECUTING\n",
      "2025-04-25 09:27:46,461 INFO dune_client.api.base waiting for query execution 01JSPJ3C66XHKD196BH89F7BF5 to complete: ExecutionState.EXECUTING\n",
      "2025-04-25 09:27:47,608 INFO dune_client.api.base waiting for query execution 01JSPJ3C66XHKD196BH89F7BF5 to complete: ExecutionState.EXECUTING\n",
      "2025-04-25 09:27:48,754 INFO dune_client.api.base waiting for query execution 01JSPJ3C66XHKD196BH89F7BF5 to complete: ExecutionState.EXECUTING\n",
      "2025-04-25 09:27:49,901 INFO dune_client.api.base waiting for query execution 01JSPJ3C66XHKD196BH89F7BF5 to complete: ExecutionState.EXECUTING\n",
      "2025-04-25 09:27:51,049 INFO dune_client.api.base waiting for query execution 01JSPJ3C66XHKD196BH89F7BF5 to complete: ExecutionState.EXECUTING\n",
      "2025-04-25 09:27:52,198 INFO dune_client.api.base waiting for query execution 01JSPJ3C66XHKD196BH89F7BF5 to complete: ExecutionState.EXECUTING\n",
      "2025-04-25 09:27:53,349 INFO dune_client.api.base waiting for query execution 01JSPJ3C66XHKD196BH89F7BF5 to complete: ExecutionState.EXECUTING\n",
      "2025-04-25 09:27:54,498 INFO dune_client.api.base waiting for query execution 01JSPJ3C66XHKD196BH89F7BF5 to complete: ExecutionState.EXECUTING\n",
      "2025-04-25 09:27:55,643 INFO dune_client.api.base waiting for query execution 01JSPJ3C66XHKD196BH89F7BF5 to complete: ExecutionState.EXECUTING\n",
      "2025-04-25 09:27:56,796 INFO dune_client.api.base waiting for query execution 01JSPJ3C66XHKD196BH89F7BF5 to complete: ExecutionState.EXECUTING\n",
      "2025-04-25 09:27:57,939 INFO dune_client.api.base waiting for query execution 01JSPJ3C66XHKD196BH89F7BF5 to complete: ExecutionState.EXECUTING\n",
      "2025-04-25 09:27:59,095 INFO dune_client.api.base waiting for query execution 01JSPJ3C66XHKD196BH89F7BF5 to complete: ExecutionState.EXECUTING\n",
      "2025-04-25 09:28:00,242 INFO dune_client.api.base waiting for query execution 01JSPJ3C66XHKD196BH89F7BF5 to complete: ExecutionState.EXECUTING\n",
      "2025-04-25 09:28:01,389 INFO dune_client.api.base waiting for query execution 01JSPJ3C66XHKD196BH89F7BF5 to complete: ExecutionState.EXECUTING\n",
      "2025-04-25 09:28:02,542 INFO dune_client.api.base waiting for query execution 01JSPJ3C66XHKD196BH89F7BF5 to complete: ExecutionState.EXECUTING\n",
      "2025-04-25 09:28:03,690 INFO dune_client.api.base waiting for query execution 01JSPJ3C66XHKD196BH89F7BF5 to complete: ExecutionState.EXECUTING\n",
      "2025-04-25 09:28:04,837 INFO dune_client.api.base waiting for query execution 01JSPJ3C66XHKD196BH89F7BF5 to complete: ExecutionState.EXECUTING\n",
      "2025-04-25 09:28:05,992 INFO dune_client.api.base waiting for query execution 01JSPJ3C66XHKD196BH89F7BF5 to complete: ExecutionState.EXECUTING\n",
      "2025-04-25 09:28:07,140 INFO dune_client.api.base waiting for query execution 01JSPJ3C66XHKD196BH89F7BF5 to complete: ExecutionState.EXECUTING\n",
      "2025-04-25 09:28:08,289 INFO dune_client.api.base waiting for query execution 01JSPJ3C66XHKD196BH89F7BF5 to complete: ExecutionState.EXECUTING\n",
      "2025-04-25 09:28:09,436 INFO dune_client.api.base waiting for query execution 01JSPJ3C66XHKD196BH89F7BF5 to complete: ExecutionState.EXECUTING\n"
     ]
    }
   ],
   "source": [
    "print('run dune - gas level')\n",
    "gas_df = d.get_dune_data(query_id = 4758295, #https://dune.com/queries/4758295\n",
    "    name = query_name,\n",
    "    path = \"outputs\",\n",
    "    performance=\"large\",\n",
    "    params = [days_param],\n",
    "    num_hours_to_rerun=rerun_hrs\n",
    ")"
   ]
  },
  {
   "cell_type": "code",
   "execution_count": 9,
   "metadata": {},
   "outputs": [
    {
     "data": {
      "text/html": [
       "<div>\n",
       "<style scoped>\n",
       "    .dataframe tbody tr th:only-of-type {\n",
       "        vertical-align: middle;\n",
       "    }\n",
       "\n",
       "    .dataframe tbody tr th {\n",
       "        vertical-align: top;\n",
       "    }\n",
       "\n",
       "    .dataframe thead th {\n",
       "        text-align: right;\n",
       "    }\n",
       "</style>\n",
       "<table border=\"1\" class=\"dataframe\">\n",
       "  <thead>\n",
       "    <tr style=\"text-align: right;\">\n",
       "      <th></th>\n",
       "      <th>blockchain</th>\n",
       "      <th>chain_id</th>\n",
       "      <th>display_name</th>\n",
       "      <th>dt</th>\n",
       "      <th>median_tx_fee_native</th>\n",
       "      <th>median_tx_fee_usd</th>\n",
       "      <th>num_blocks</th>\n",
       "      <th>num_txs</th>\n",
       "      <th>tx_fee_currency</th>\n",
       "      <th>tx_fee_native</th>\n",
       "      <th>tx_fee_usd</th>\n",
       "      <th>last_updated</th>\n",
       "    </tr>\n",
       "  </thead>\n",
       "  <tbody>\n",
       "    <tr>\n",
       "      <th>3234</th>\n",
       "      <td>optimism</td>\n",
       "      <td>10.0</td>\n",
       "      <td>OP Mainnet</td>\n",
       "      <td>2025-03-12</td>\n",
       "      <td>1.291854e-06</td>\n",
       "      <td>0.002435</td>\n",
       "      <td>43197</td>\n",
       "      <td>776203</td>\n",
       "      <td>0x0000000000000000000000000000000000000000</td>\n",
       "      <td>5.931566</td>\n",
       "      <td>11264.502519</td>\n",
       "      <td>2025-04-25 13:19:43.399335</td>\n",
       "    </tr>\n",
       "    <tr>\n",
       "      <th>2975</th>\n",
       "      <td>celo</td>\n",
       "      <td>42220.0</td>\n",
       "      <td>Celo</td>\n",
       "      <td>2025-04-23</td>\n",
       "      <td>1.560162e-03</td>\n",
       "      <td>0.001560</td>\n",
       "      <td>355</td>\n",
       "      <td>357</td>\n",
       "      <td>0xceba9300f2b948710d2653dd7b07f33a8b32118c</td>\n",
       "      <td>0.586494</td>\n",
       "      <td>0.586488</td>\n",
       "      <td>2025-04-25 13:19:43.399335</td>\n",
       "    </tr>\n",
       "    <tr>\n",
       "      <th>683</th>\n",
       "      <td>celo</td>\n",
       "      <td>42220.0</td>\n",
       "      <td>Celo</td>\n",
       "      <td>2025-03-14</td>\n",
       "      <td>1.428833e-03</td>\n",
       "      <td>0.000479</td>\n",
       "      <td>17279</td>\n",
       "      <td>695903</td>\n",
       "      <td>0x0000000000000000000000000000000000000000</td>\n",
       "      <td>3410.408565</td>\n",
       "      <td>1131.039800</td>\n",
       "      <td>2025-04-25 13:19:43.399335</td>\n",
       "    </tr>\n",
       "    <tr>\n",
       "      <th>2970</th>\n",
       "      <td>polygon</td>\n",
       "      <td>137.0</td>\n",
       "      <td>Polygon PoS</td>\n",
       "      <td>2025-01-30</td>\n",
       "      <td>3.355552e-03</td>\n",
       "      <td>0.001367</td>\n",
       "      <td>39816</td>\n",
       "      <td>3574086</td>\n",
       "      <td>0x0000000000000000000000000000000000000000</td>\n",
       "      <td>31312.782282</td>\n",
       "      <td>12804.546820</td>\n",
       "      <td>2025-04-25 13:19:43.399335</td>\n",
       "    </tr>\n",
       "    <tr>\n",
       "      <th>34</th>\n",
       "      <td>ink</td>\n",
       "      <td>57073.0</td>\n",
       "      <td>Ink</td>\n",
       "      <td>2025-02-11</td>\n",
       "      <td>2.069732e-07</td>\n",
       "      <td>0.000556</td>\n",
       "      <td>68350</td>\n",
       "      <td>151882</td>\n",
       "      <td>0x0000000000000000000000000000000000000000</td>\n",
       "      <td>1.023289</td>\n",
       "      <td>2730.534995</td>\n",
       "      <td>2025-04-25 13:19:43.399335</td>\n",
       "    </tr>\n",
       "  </tbody>\n",
       "</table>\n",
       "</div>"
      ],
      "text/plain": [
       "     blockchain  chain_id display_name          dt  median_tx_fee_native  \\\n",
       "3234   optimism      10.0   OP Mainnet  2025-03-12          1.291854e-06   \n",
       "2975       celo   42220.0         Celo  2025-04-23          1.560162e-03   \n",
       "683        celo   42220.0         Celo  2025-03-14          1.428833e-03   \n",
       "2970    polygon     137.0  Polygon PoS  2025-01-30          3.355552e-03   \n",
       "34          ink   57073.0          Ink  2025-02-11          2.069732e-07   \n",
       "\n",
       "      median_tx_fee_usd  num_blocks  num_txs  \\\n",
       "3234           0.002435       43197   776203   \n",
       "2975           0.001560         355      357   \n",
       "683            0.000479       17279   695903   \n",
       "2970           0.001367       39816  3574086   \n",
       "34             0.000556       68350   151882   \n",
       "\n",
       "                                 tx_fee_currency  tx_fee_native    tx_fee_usd  \\\n",
       "3234  0x0000000000000000000000000000000000000000       5.931566  11264.502519   \n",
       "2975  0xceba9300f2b948710d2653dd7b07f33a8b32118c       0.586494      0.586488   \n",
       "683   0x0000000000000000000000000000000000000000    3410.408565   1131.039800   \n",
       "2970  0x0000000000000000000000000000000000000000   31312.782282  12804.546820   \n",
       "34    0x0000000000000000000000000000000000000000       1.023289   2730.534995   \n",
       "\n",
       "                   last_updated  \n",
       "3234 2025-04-25 13:19:43.399335  \n",
       "2975 2025-04-25 13:19:43.399335  \n",
       "683  2025-04-25 13:19:43.399335  \n",
       "2970 2025-04-25 13:19:43.399335  \n",
       "34   2025-04-25 13:19:43.399335  "
      ]
     },
     "execution_count": 9,
     "metadata": {},
     "output_type": "execute_result"
    }
   ],
   "source": [
    "fees_df.sample(5)"
   ]
  },
  {
   "cell_type": "code",
   "execution_count": 10,
   "metadata": {},
   "outputs": [],
   "source": [
    "unique_blockchains = fees_df['blockchain'].unique().tolist()"
   ]
  },
  {
   "cell_type": "code",
   "execution_count": 11,
   "metadata": {},
   "outputs": [
    {
     "name": "stdout",
     "output_type": "stream",
     "text": [
      "run dune - fees metrics\n",
      "Results available at https://dune.com/queries/4902405?trailing_days=90\n",
      "getting latest result\n"
     ]
    }
   ],
   "source": [
    "print('run dune - fees metrics')\n",
    "fee_metrics_df = d.get_dune_data(query_id = 4902405, #https://dune.com/queries/4902405\n",
    "    name = \"dune fees metrics\",\n",
    "    path = \"outputs\",\n",
    "    performance=\"large\",\n",
    "    params = [days_param],\n",
    "    num_hours_to_rerun=rerun_hrs\n",
    ")"
   ]
  },
  {
   "cell_type": "code",
   "execution_count": null,
   "metadata": {},
   "outputs": [
    {
     "name": "stdout",
     "output_type": "stream",
     "text": [
      "run dune - chain level\n",
      "bitcoin\n",
      "Results available at https://dune.com/queries/4230061?trailing_days=90&blockchain=bitcoin&display_name=Bitcoin&count_func=COUNT_IF%28fee+%3E+0%29&count_block_func=COUNT%28DISTINCT+block_height%29&transactions_table=transactions&tx_fee_func_internal=fee&tx_fee_currency=BTC&chain_id_param=NULL\n",
      "getting latest result\n"
     ]
    },
    {
     "name": "stderr",
     "output_type": "stream",
     "text": [
      "2025-04-25 09:28:12,805 INFO dune_client.api.base executing 4230061 on large cluster\n",
      "2025-04-25 09:28:13,136 INFO dune_client.api.base waiting for query execution 01JSPJ4SC8SB9GW9DRBAFG6TJ1 to complete: ExecutionState.PENDING (queue position: None)\n",
      "2025-04-25 09:28:14,295 INFO dune_client.api.base waiting for query execution 01JSPJ4SC8SB9GW9DRBAFG6TJ1 to complete: ExecutionState.PENDING (queue position: None)\n",
      "2025-04-25 09:28:15,448 INFO dune_client.api.base waiting for query execution 01JSPJ4SC8SB9GW9DRBAFG6TJ1 to complete: ExecutionState.EXECUTING\n",
      "2025-04-25 09:28:16,591 INFO dune_client.api.base waiting for query execution 01JSPJ4SC8SB9GW9DRBAFG6TJ1 to complete: ExecutionState.EXECUTING\n",
      "2025-04-25 09:28:17,774 INFO dune_client.api.base waiting for query execution 01JSPJ4SC8SB9GW9DRBAFG6TJ1 to complete: ExecutionState.EXECUTING\n",
      "2025-04-25 09:28:18,922 INFO dune_client.api.base waiting for query execution 01JSPJ4SC8SB9GW9DRBAFG6TJ1 to complete: ExecutionState.EXECUTING\n",
      "2025-04-25 09:28:20,066 INFO dune_client.api.base waiting for query execution 01JSPJ4SC8SB9GW9DRBAFG6TJ1 to complete: ExecutionState.EXECUTING\n",
      "2025-04-25 09:28:21,209 INFO dune_client.api.base waiting for query execution 01JSPJ4SC8SB9GW9DRBAFG6TJ1 to complete: ExecutionState.EXECUTING\n",
      "2025-04-25 09:28:22,353 INFO dune_client.api.base waiting for query execution 01JSPJ4SC8SB9GW9DRBAFG6TJ1 to complete: ExecutionState.EXECUTING\n"
     ]
    }
   ],
   "source": [
    "print('run dune - chain level')\n",
    "chain_dfs = []\n",
    "for row in chain_config:\n",
    "    blockchain = row[0]\n",
    "    print(blockchain)\n",
    "    if blockchain in unique_blockchains:\n",
    "        continue\n",
    "    else:\n",
    "        #blockchain, display_name, count_func, gas_field, transactions_table\n",
    "        blockchain_param = d.generate_query_parameter(input=blockchain,field_name='blockchain',dtype='text')\n",
    "        display_name_param = d.generate_query_parameter(input=row[1],field_name='display_name',dtype='text')\n",
    "        count_func_param = d.generate_query_parameter(input=row[2],field_name='count_func',dtype='text')\n",
    "        count_block_func_param = d.generate_query_parameter(input=row[3],field_name='count_block_func',dtype='text')\n",
    "        # gas_field_param = d.generate_query_parameter(input=row[4],field_name='gas_field',dtype='text')\n",
    "        transactions_table_param = d.generate_query_parameter(input=row[4],field_name='transactions_table',dtype='text')\n",
    "        tx_fee_func_param = d.generate_query_parameter(input=row[5],field_name='tx_fee_func_internal',dtype='text')\n",
    "        tx_fee_currency_param = d.generate_query_parameter(input=row[6],field_name='tx_fee_currency',dtype='text')\n",
    "        chain_id_param = d.generate_query_parameter(input=row[7],field_name='chain_id_param',dtype='text')\n",
    "\n",
    "        chain_df = d.get_dune_data(query_id = 4230061, #https://dune.com/queries/4230061\n",
    "            name = query_name + '_by_chain',\n",
    "            path = \"outputs\",\n",
    "            performance=\"large\",\n",
    "            params = [\n",
    "                    days_param,blockchain_param,display_name_param,count_func_param,count_block_func_param\n",
    "                    ,transactions_table_param,tx_fee_func_param,tx_fee_currency_param,chain_id_param\n",
    "                    ],\n",
    "            num_hours_to_rerun=rerun_hrs\n",
    "        )\n",
    "        # print(chain_df.sample(3))\n",
    "        chain_dfs.append(chain_df)\n",
    "\n",
    "chain_df_agg = pd.concat(chain_dfs)"
   ]
  },
  {
   "cell_type": "code",
   "execution_count": null,
   "metadata": {},
   "outputs": [],
   "source": [
    "print(fees_df.columns)\n",
    "# print(chain_df_agg.columns)"
   ]
  },
  {
   "cell_type": "code",
   "execution_count": null,
   "metadata": {},
   "outputs": [],
   "source": [
    "dune_df = pd.concat([fees_df,chain_df_agg])\n",
    "\n",
    "# First, find chains that are only in metric_fees_df\n",
    "unique_fee_metrics_df = fee_metrics_df[~fee_metrics_df['blockchain'].isin(dune_df['blockchain'])]\n",
    "\n",
    "# Concatenate these unique chains to dune_df\n",
    "dune_df = pd.concat([dune_df, unique_fee_metrics_df])"
   ]
  },
  {
   "cell_type": "code",
   "execution_count": null,
   "metadata": {},
   "outputs": [],
   "source": [
    "if not dune_df.empty:\n",
    "    dune_df['source'] = 'dune'\n",
    "    dune_df['dt'] = pd.to_datetime(dune_df['dt']).dt.tz_localize(None)\n",
    "    dune_df = dune_df[dune_df['dt'].dt.date < datetime.datetime.now(datetime.timezone.utc).date()]\n",
    "    dune_df['chain_id'] = dune_df['chain_id'].astype(str)\n",
    "    dune_df['chain_id'] = dune_df['chain_id'].astype(str).str.replace(r'\\.0$', '', regex=True)"
   ]
  },
  {
   "cell_type": "code",
   "execution_count": null,
   "metadata": {},
   "outputs": [],
   "source": [
    "if not gas_df.empty:\n",
    "    gas_df['source'] = 'dune'\n",
    "    gas_df['dt'] = pd.to_datetime(gas_df['dt']).dt.tz_localize(None)\n",
    "    gas_df = gas_df[gas_df['dt'].dt.date < datetime.datetime.now(datetime.timezone.utc).date()]\n",
    "    gas_df['chain_id'] = gas_df['chain_id'].astype(str)\n",
    "    gas_df['chain_id'] = gas_df['chain_id'].astype(str).str.replace(r'\\.0$', '', regex=True)"
   ]
  },
  {
   "cell_type": "code",
   "execution_count": null,
   "metadata": {},
   "outputs": [],
   "source": [
    "# Verify that all elements are strings\n",
    "assert dune_df['chain_id'].apply(type).eq(str).all(), \"Not all elements are strings\"\n",
    "# print(dune_df['chain_id'].dtype)"
   ]
  },
  {
   "cell_type": "code",
   "execution_count": null,
   "metadata": {},
   "outputs": [],
   "source": [
    "assert gas_df['chain_id'].apply(type).eq(str).all(), \"Not all elements are strings\"\n",
    "assert fee_metrics_df['chain_id'].fee_metrics_df(type).eq(str).all(), \"Not all elements are strings\""
   ]
  },
  {
   "cell_type": "code",
   "execution_count": null,
   "metadata": {},
   "outputs": [],
   "source": [
    "dune_df['num_blocks'] = dune_df['num_blocks'].astype(int)\n",
    "dune_df['num_txs'] = dune_df['num_txs'].astype(int)\n"
   ]
  },
  {
   "cell_type": "code",
   "execution_count": null,
   "metadata": {},
   "outputs": [],
   "source": [
    "if not fee_metrics_df.empty:\n",
    "    fee_metrics_df['dt'] = pd.to_datetime(fee_metrics_df['dt']).dt.tz_localize(None)\n",
    "    fee_metrics_df['chain_id'] = fee_metrics_df['chain_id'].astype(str)"
   ]
  },
  {
   "cell_type": "code",
   "execution_count": null,
   "metadata": {},
   "outputs": [],
   "source": [
    "# dune_df.sample(5)\n",
    "print(dune_df.dtypes)\n"
   ]
  },
  {
   "cell_type": "code",
   "execution_count": null,
   "metadata": {},
   "outputs": [],
   "source": [
    "print(f\"dune_df shape: {dune_df.shape}\")"
   ]
  },
  {
   "cell_type": "code",
   "execution_count": null,
   "metadata": {},
   "outputs": [],
   "source": [
    "unique_cols = ['blockchain', 'dt','tx_fee_currency']"
   ]
  },
  {
   "cell_type": "code",
   "execution_count": null,
   "metadata": {},
   "outputs": [],
   "source": [
    "# Identify duplicate combinations\n",
    "duplicates = dune_df.duplicated(subset=unique_cols, keep=False)\n",
    "\n",
    "# View the duplicate rows\n",
    "duplicate_rows = dune_df[duplicates]\n",
    "\n",
    "# Display the duplicate rows\n",
    "print(duplicate_rows)\n",
    "\n",
    "# Get a count of duplicates for each combination\n",
    "duplicate_counts = dune_df.groupby(unique_cols).size().reset_index(name='count')\n",
    "duplicate_counts = duplicate_counts[duplicate_counts['count'] > 1]\n",
    "\n",
    "print(\"\\nDuplicate combination counts:\")\n",
    "print(duplicate_counts)"
   ]
  },
  {
   "cell_type": "code",
   "execution_count": null,
   "metadata": {},
   "outputs": [],
   "source": [
    "#BQ Upload\n",
    "bqu.append_and_upsert_df_to_bq_table(dune_df, query_name, unique_keys = unique_cols)"
   ]
  },
  {
   "cell_type": "code",
   "execution_count": null,
   "metadata": {},
   "outputs": [],
   "source": [
    "bqu.append_and_upsert_df_to_bq_table(gas_df, query_gas_name, unique_keys = ['chain_id','dt'])"
   ]
  },
  {
   "cell_type": "code",
   "execution_count": null,
   "metadata": {},
   "outputs": [],
   "source": [
    "# fee_metrics_df[fee_metrics_df['blockchain']=='tron'].sort_values(by='dt',ascending=False)"
   ]
  },
  {
   "cell_type": "code",
   "execution_count": null,
   "metadata": {},
   "outputs": [],
   "source": [
    "bqu.append_and_upsert_df_to_bq_table(fee_metrics_df, query_fees_name, unique_keys = ['blockchain','dt'])"
   ]
  }
 ],
 "metadata": {
  "kernelspec": {
   "display_name": "gcp-env",
   "language": "python",
   "name": "python3"
  },
  "language_info": {
   "codemirror_mode": {
    "name": "ipython",
    "version": 3
   },
   "file_extension": ".py",
   "mimetype": "text/x-python",
   "name": "python",
   "nbconvert_exporter": "python",
   "pygments_lexer": "ipython3",
   "version": "3.12.3"
  }
 },
 "nbformat": 4,
 "nbformat_minor": 2
}
