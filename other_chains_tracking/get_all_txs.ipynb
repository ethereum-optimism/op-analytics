{
 "cells": [
  {
   "cell_type": "code",
   "execution_count": 31,
   "metadata": {},
   "outputs": [],
   "source": [
    "# ! pipenv run jupyter nbconvert --to python get_all_txs.ipynb"
   ]
  },
  {
   "cell_type": "code",
   "execution_count": null,
   "metadata": {
    "metadata": {}
   },
   "outputs": [],
   "source": [
    "print('get all txs')\n",
    "import sys\n",
    "sys.path.append(\"../helper_functions\")\n",
    "import duneapi_utils as d\n",
    "import google_bq_utils as bqu\n",
    "sys.path.pop()\n",
    "\n",
    "import time\n",
    "import datetime\n",
    "\n",
    "import numpy as np\n",
    "import pandas as pd\n",
    "import os"
   ]
  },
  {
   "cell_type": "code",
   "execution_count": 33,
   "metadata": {},
   "outputs": [],
   "source": [
    "col_list = [\n",
    "        'dt','blockchain','name','layer','chain_id'\n",
    "        , 'num_raw_txs', 'num_success_txs','num_qualified_txs','source'\n",
    "        ]\n",
    "query_name = 'dune_all_txs'\n",
    "query_gas_name = 'dune_all_gas'\n",
    "rerun_hrs = 4"
   ]
  },
  {
   "cell_type": "code",
   "execution_count": 34,
   "metadata": {},
   "outputs": [],
   "source": [
    "chain_config = [\n",
    "    ### #blockchain, display_name, count_func, count_block_func_param, transactions_table_param, tx_fee_func_param, tx_fee_currency_param, chain_id_param\n",
    "    ['bitcoin','Bitcoin','COUNT_IF(fee > 0)','COUNT(DISTINCT block_height)','transactions','fee','BTC','NULL'],\n",
    "    ['near','Near','COUNT(distinct case when gas_price > 0 then tx_hash else null end)','COUNT(DISTINCT block_height)','actions','cast(NULL as double)','NULL','397'],\n",
    "    ['aptos','Aptos','COUNT_IF(gas_used>0)','COUNT(DISTINCT block_height)','user_transactions','(gas_used*gas_unit_price/1e8)','APT','NULL'],\n",
    "    # ['stellar','Stellar','COUNT_IF(fee_charged>0)','COUNT(DISTINCT block_height)','fee_charged','history_transactions'], --not date partitioned\n",
    "    ['kaia','Kaia','COUNT_IF(gas_price>0)','COUNT(DISTINCT block_number)','transactions','cast(NULL as double)','NULL','8217'],\n",
    "    ['ton','TON','COUNT_IF(compute_gas_fees>0)','COUNT(DISTINCT block_seqno)','transactions','cast(NULL as double)','NULL','NULL'],\n",
    "    ['berachain','Berachain','COUNT_IF(gas_price>0)','COUNT(DISTINCT block_number)','transactions','cast(gas_price/1e9*gas_used/1e9 as double)','BERA','80094'],\n",
    "    ['sonic','Sonic','COUNT_IF(gas_price>0)','COUNT(DISTINCT block_number)','transactions','cast(gas_price/1e9*gas_used/1e9 as double)','S','146'],\n",
    "]"
   ]
  },
  {
   "cell_type": "code",
   "execution_count": null,
   "metadata": {
    "metadata": {}
   },
   "outputs": [],
   "source": [
    "trailing_days = 90\n",
    "print('trailing days: ' + str(trailing_days))"
   ]
  },
  {
   "cell_type": "code",
   "execution_count": 36,
   "metadata": {},
   "outputs": [],
   "source": [
    "days_param = d.generate_query_parameter(input=trailing_days,field_name='trailing_days',dtype='number')"
   ]
  },
  {
   "cell_type": "code",
   "execution_count": null,
   "metadata": {
    "metadata": {}
   },
   "outputs": [],
   "source": [
    "# Run Dune - all txs\n",
    "print('     dune runs')\n",
    "fees_df = d.get_dune_data(query_id = 4229341, #https://dune.com/queries/4229341\n",
    "    name = query_name,\n",
    "    path = \"outputs\",\n",
    "    performance=\"large\",\n",
    "    params = [days_param],\n",
    "    num_hours_to_rerun=rerun_hrs\n",
    ")"
   ]
  },
  {
   "cell_type": "code",
   "execution_count": null,
   "metadata": {},
   "outputs": [],
   "source": [
    "print('run dune - gas level')\n",
    "gas_df = d.get_dune_data(query_id = 4758295, #https://dune.com/queries/4758295\n",
    "    name = query_name,\n",
    "    path = \"outputs\",\n",
    "    performance=\"large\",\n",
    "    params = [days_param],\n",
    "    num_hours_to_rerun=rerun_hrs\n",
    ")"
   ]
  },
  {
   "cell_type": "code",
   "execution_count": null,
   "metadata": {},
   "outputs": [],
   "source": [
    "fees_df.sample(5)"
   ]
  },
  {
   "cell_type": "code",
   "execution_count": 40,
   "metadata": {},
   "outputs": [],
   "source": [
    "unique_blockchains = fees_df['blockchain'].unique().tolist()"
   ]
  },
  {
   "cell_type": "code",
   "execution_count": null,
   "metadata": {},
   "outputs": [],
   "source": [
    "print('run dune - chain level')\n",
    "chain_dfs = []\n",
    "for row in chain_config:\n",
    "    blockchain = row[0]\n",
    "    print(blockchain)\n",
    "    if blockchain in unique_blockchains:\n",
    "        continue\n",
    "    else:\n",
    "        #blockchain, display_name, count_func, gas_field, transactions_table\n",
    "        blockchain_param = d.generate_query_parameter(input=blockchain,field_name='blockchain',dtype='text')\n",
    "        display_name_param = d.generate_query_parameter(input=row[1],field_name='display_name',dtype='text')\n",
    "        count_func_param = d.generate_query_parameter(input=row[2],field_name='count_func',dtype='text')\n",
    "        count_block_func_param = d.generate_query_parameter(input=row[3],field_name='count_block_func',dtype='text')\n",
    "        # gas_field_param = d.generate_query_parameter(input=row[4],field_name='gas_field',dtype='text')\n",
    "        transactions_table_param = d.generate_query_parameter(input=row[4],field_name='transactions_table',dtype='text')\n",
    "        tx_fee_func_param = d.generate_query_parameter(input=row[5],field_name='tx_fee_func_internal',dtype='text')\n",
    "        tx_fee_currency_param = d.generate_query_parameter(input=row[6],field_name='tx_fee_currency',dtype='text')\n",
    "        chain_id_param = d.generate_query_parameter(input=row[7],field_name='chain_id_param',dtype='text')\n",
    "\n",
    "        chain_df = d.get_dune_data(query_id = 4230061, #https://dune.com/queries/4230061\n",
    "            name = query_name + '_by_chain',\n",
    "            path = \"outputs\",\n",
    "            performance=\"large\",\n",
    "            params = [\n",
    "                    days_param,blockchain_param,display_name_param,count_func_param,count_block_func_param\n",
    "                    ,transactions_table_param,tx_fee_func_param,tx_fee_currency_param,chain_id_param\n",
    "                    ],\n",
    "            num_hours_to_rerun=rerun_hrs\n",
    "        )\n",
    "        # print(chain_df.sample(3))\n",
    "        chain_dfs.append(chain_df)\n",
    "\n",
    "chain_df_agg = pd.concat(chain_dfs)"
   ]
  },
  {
   "cell_type": "code",
   "execution_count": null,
   "metadata": {},
   "outputs": [],
   "source": [
    "print(fees_df.columns)\n",
    "print(chain_df_agg.columns)"
   ]
  },
  {
   "cell_type": "code",
   "execution_count": 43,
   "metadata": {},
   "outputs": [],
   "source": [
    "dune_df = pd.concat([fees_df,chain_df_agg])"
   ]
  },
  {
   "cell_type": "code",
   "execution_count": 44,
   "metadata": {},
   "outputs": [],
   "source": [
    "if not dune_df.empty:\n",
    "    dune_df['source'] = 'dune'\n",
    "    dune_df['dt'] = pd.to_datetime(dune_df['dt']).dt.tz_localize(None)\n",
    "    dune_df = dune_df[dune_df['dt'].dt.date < datetime.datetime.now(datetime.timezone.utc).date()]\n",
    "    dune_df['chain_id'] = dune_df['chain_id'].astype(str)\n",
    "    dune_df['chain_id'] = dune_df['chain_id'].astype(str).str.replace(r'\\.0$', '', regex=True)"
   ]
  },
  {
   "cell_type": "code",
   "execution_count": 45,
   "metadata": {},
   "outputs": [],
   "source": [
    "if not gas_df.empty:\n",
    "    gas_df['source'] = 'dune'\n",
    "    gas_df['dt'] = pd.to_datetime(gas_df['dt']).dt.tz_localize(None)\n",
    "    gas_df = gas_df[gas_df['dt'].dt.date < datetime.datetime.now(datetime.timezone.utc).date()]\n",
    "    gas_df['chain_id'] = gas_df['chain_id'].astype(str)\n",
    "    gas_df['chain_id'] = gas_df['chain_id'].astype(str).str.replace(r'\\.0$', '', regex=True)"
   ]
  },
  {
   "cell_type": "code",
   "execution_count": 46,
   "metadata": {},
   "outputs": [],
   "source": [
    "# Verify that all elements are strings\n",
    "assert dune_df['chain_id'].apply(type).eq(str).all(), \"Not all elements are strings\"\n",
    "# print(dune_df['chain_id'].dtype)"
   ]
  },
  {
   "cell_type": "code",
   "execution_count": 47,
   "metadata": {},
   "outputs": [],
   "source": [
    "assert gas_df['chain_id'].apply(type).eq(str).all(), \"Not all elements are strings\""
   ]
  },
  {
   "cell_type": "code",
   "execution_count": null,
   "metadata": {},
   "outputs": [],
   "source": [
    "# dune_df.sample(5)\n",
    "print(dune_df.dtypes)"
   ]
  },
  {
   "cell_type": "code",
   "execution_count": null,
   "metadata": {},
   "outputs": [],
   "source": [
    "print(f\"dune_df shape: {dune_df.shape}\")"
   ]
  },
  {
   "cell_type": "code",
   "execution_count": 50,
   "metadata": {},
   "outputs": [],
   "source": [
    "unique_cols = ['blockchain', 'dt','tx_fee_currency']"
   ]
  },
  {
   "cell_type": "code",
   "execution_count": null,
   "metadata": {},
   "outputs": [],
   "source": [
    "# Identify duplicate combinations\n",
    "duplicates = dune_df.duplicated(subset=unique_cols, keep=False)\n",
    "\n",
    "# View the duplicate rows\n",
    "duplicate_rows = dune_df[duplicates]\n",
    "\n",
    "# Display the duplicate rows\n",
    "print(duplicate_rows)\n",
    "\n",
    "# Get a count of duplicates for each combination\n",
    "duplicate_counts = dune_df.groupby(unique_cols).size().reset_index(name='count')\n",
    "duplicate_counts = duplicate_counts[duplicate_counts['count'] > 1]\n",
    "\n",
    "print(\"\\nDuplicate combination counts:\")\n",
    "print(duplicate_counts)"
   ]
  },
  {
   "cell_type": "code",
   "execution_count": null,
   "metadata": {},
   "outputs": [],
   "source": [
    "#BQ Upload\n",
    "bqu.append_and_upsert_df_to_bq_table(dune_df, query_name, unique_keys = unique_cols)"
   ]
  },
  {
   "cell_type": "code",
   "execution_count": null,
   "metadata": {},
   "outputs": [],
   "source": [
    "bqu.append_and_upsert_df_to_bq_table(gas_df, query_gas_name, unique_keys = ['chain_id','dt'])"
   ]
  }
 ],
 "metadata": {
  "kernelspec": {
   "display_name": "gcp-env",
   "language": "python",
   "name": "python3"
  },
  "language_info": {
   "codemirror_mode": {
    "name": "ipython",
    "version": 3
   },
   "file_extension": ".py",
   "mimetype": "text/x-python",
   "name": "python",
   "nbconvert_exporter": "python",
   "pygments_lexer": "ipython3",
   "version": "3.12.3"
  }
 },
 "nbformat": 4,
 "nbformat_minor": 2
}
