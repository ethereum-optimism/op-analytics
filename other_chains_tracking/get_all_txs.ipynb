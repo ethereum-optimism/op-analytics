{
 "cells": [
  {
   "cell_type": "code",
   "execution_count": null,
   "metadata": {
    "metadata": {}
   },
   "outputs": [],
   "source": [
    "print('get all txs')\n",
    "import sys\n",
    "sys.path.append(\"../helper_functions\")\n",
    "import duneapi_utils as d\n",
    "import google_bq_utils as bqu\n",
    "sys.path.pop()\n",
    "\n",
    "import time\n",
    "\n",
    "import numpy as np\n",
    "import pandas as pd\n",
    "import os"
   ]
  },
  {
   "cell_type": "code",
   "execution_count": 2,
   "metadata": {},
   "outputs": [],
   "source": [
    "col_list = [\n",
    "        'dt','blockchain','name','layer','chain_id'\n",
    "        , 'num_raw_txs', 'num_success_txs','num_qualified_txs','source'\n",
    "        ]\n",
    "query_name = 'dune_all_txs'"
   ]
  },
  {
   "cell_type": "code",
   "execution_count": 3,
   "metadata": {},
   "outputs": [],
   "source": [
    "chain_config = [\n",
    "    #blockchain, display_name, count_func, gas_field, transactions_table\n",
    "    ['bitcoin','Bitcoin','count(*)','fee','transactions'],\n",
    "    ['near','Near','count(distinct tx_hash)','gas_price','actions'],\n",
    "    ['aptos','Aptos','count(*)','gas_used','transactions'],\n",
    "]"
   ]
  },
  {
   "cell_type": "code",
   "execution_count": 4,
   "metadata": {
    "metadata": {}
   },
   "outputs": [],
   "source": [
    "trailing_days = 180"
   ]
  },
  {
   "cell_type": "code",
   "execution_count": 5,
   "metadata": {},
   "outputs": [],
   "source": [
    "days_param = d.generate_query_parameter(input=trailing_days,field_name='trailing_days',dtype='number')"
   ]
  },
  {
   "cell_type": "code",
   "execution_count": null,
   "metadata": {
    "metadata": {}
   },
   "outputs": [],
   "source": [
    "# Run Dune\n",
    "print('     dune runs')\n",
    "fees_df = d.get_dune_data(query_id = 4229341, #https://dune.com/queries/4229341\n",
    "    name = query_name,\n",
    "    path = \"outputs\",\n",
    "    performance=\"medium\",\n",
    "    params = [days_param],\n",
    "    num_hours_to_rerun=4\n",
    ")"
   ]
  },
  {
   "cell_type": "code",
   "execution_count": null,
   "metadata": {},
   "outputs": [],
   "source": [
    "fees_df.sample(5)"
   ]
  },
  {
   "cell_type": "code",
   "execution_count": 8,
   "metadata": {},
   "outputs": [],
   "source": [
    "unique_blockchains = fees_df['blockchain'].unique().tolist()"
   ]
  },
  {
   "cell_type": "code",
   "execution_count": null,
   "metadata": {},
   "outputs": [],
   "source": [
    "chain_dfs = []\n",
    "for row in chain_config:\n",
    "    blockchain = row[0]\n",
    "    print(blockchain)\n",
    "    if blockchain in unique_blockchains:\n",
    "        continue\n",
    "    else:\n",
    "        #blockchain, display_name, count_func, gas_field, transactions_table\n",
    "        blockchain_param = d.generate_query_parameter(input=blockchain,field_name='blockchain',dtype='text')\n",
    "        display_name_param = d.generate_query_parameter(input=row[1],field_name='display_name',dtype='text')\n",
    "        count_func_param = d.generate_query_parameter(input=row[2],field_name='count_func',dtype='text')\n",
    "        gas_field_param = d.generate_query_parameter(input=row[3],field_name='gas_field',dtype='text')\n",
    "        transactions_table_param = d.generate_query_parameter(input=row[4],field_name='transactions_table',dtype='text')\n",
    "\n",
    "        chain_df = d.get_dune_data(query_id = 4230061, #https://dune.com/queries/4230061\n",
    "            name = query_name + '_by_chain',\n",
    "            path = \"outputs\",\n",
    "            performance=\"medium\",\n",
    "            params = [days_param,blockchain_param,display_name_param,count_func_param,gas_field_param,transactions_table_param],\n",
    "            num_hours_to_rerun=4\n",
    "        )\n",
    "        print(chain_df.sample(3))\n",
    "        chain_dfs.append(chain_df)\n",
    "\n",
    "chain_df_agg = pd.concat(chain_dfs)"
   ]
  },
  {
   "cell_type": "code",
   "execution_count": null,
   "metadata": {},
   "outputs": [],
   "source": [
    "print(fees_df.columns)\n",
    "print(chain_df_agg.columns)"
   ]
  },
  {
   "cell_type": "code",
   "execution_count": null,
   "metadata": {},
   "outputs": [],
   "source": [
    "dune_df = pd.concat([fees_df,chain_df_agg])"
   ]
  },
  {
   "cell_type": "code",
   "execution_count": 13,
   "metadata": {},
   "outputs": [],
   "source": [
    "if not dune_df.empty:\n",
    "    dune_df['source'] = 'dune'\n",
    "    dune_df['dt'] = pd.to_datetime(dune_df['dt']).dt.tz_localize(None)\n",
    "    dune_df['chain_id'] = dune_df['chain_id'].astype(str)\n",
    "    dune_df['chain_id'] = dune_df['chain_id'].astype(str).str.replace(r'\\.0$', '', regex=True)"
   ]
  },
  {
   "cell_type": "code",
   "execution_count": null,
   "metadata": {},
   "outputs": [],
   "source": [
    "# Verify that all elements are strings\n",
    "assert dune_df['chain_id'].apply(type).eq(str).all(), \"Not all elements are strings\"\n",
    "print(dune_df['chain_id'].dtype)"
   ]
  },
  {
   "cell_type": "code",
   "execution_count": null,
   "metadata": {},
   "outputs": [],
   "source": [
    "# dune_df.sample(5)\n",
    "print(dune_df.dtypes)"
   ]
  },
  {
   "cell_type": "code",
   "execution_count": null,
   "metadata": {},
   "outputs": [],
   "source": [
    "print(f\"dune_df shape: {dune_df.shape}\")"
   ]
  },
  {
   "cell_type": "code",
   "execution_count": null,
   "metadata": {},
   "outputs": [],
   "source": [
    "#BQ Upload\n",
    "bqu.append_and_upsert_df_to_bq_table(dune_df, query_name, unique_keys = ['blockchain','dt'])"
   ]
  }
 ],
 "metadata": {
  "kernelspec": {
   "display_name": "gcp-env",
   "language": "python",
   "name": "python3"
  },
  "language_info": {
   "codemirror_mode": {
    "name": "ipython",
    "version": 3
   },
   "file_extension": ".py",
   "mimetype": "text/x-python",
   "name": "python",
   "nbconvert_exporter": "python",
   "pygments_lexer": "ipython3",
   "version": "3.12.3"
  }
 },
 "nbformat": 4,
 "nbformat_minor": 2
}
