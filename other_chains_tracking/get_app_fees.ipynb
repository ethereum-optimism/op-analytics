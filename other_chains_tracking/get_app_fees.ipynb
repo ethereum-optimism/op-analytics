{
 "cells": [
  {
   "cell_type": "code",
   "execution_count": null,
   "metadata": {},
   "outputs": [],
   "source": [
    "print('start app fees')\n",
    "import pandas as pd\n",
    "import sys\n",
    "import numpy as np\n",
    "import json\n",
    "import requests as r\n",
    "\n",
    "import time\n",
    "\n",
    "\n",
    "from datetime import datetime, timedelta\n",
    "sys.path.append(\"../helper_functions\")\n",
    "import defillama_utils as dfl\n",
    "import duneapi_utils as du\n",
    "import opstack_metadata_utils as ops\n",
    "import csv_utils as cu\n",
    "import google_bq_utils as bqu\n",
    "sys.path.pop()\n",
    "\n",
    "current_utc_date = datetime.utcnow().replace(hour=0, minute=0, second=0, microsecond=0)\n",
    "# print(current_utc_date)"
   ]
  },
  {
   "cell_type": "code",
   "execution_count": null,
   "metadata": {},
   "outputs": [],
   "source": [
    "data_typed = 'dailyRevenue'\n",
    "df = dfl.get_fees_revenue('optimism', exclude_total_data_chart=False, exclude_total_data_chart_breakdown=False, data_type=data_typed)\n",
    "display(df)\n",
    "df.to_csv(f'outputs/defillama_{data_typed}.csv')"
   ]
  },
  {
   "cell_type": "code",
   "execution_count": null,
   "metadata": {},
   "outputs": [],
   "source": [
    "# df.head()\n",
    "df.columns\n",
    "df_filter = df[['defillamaId','name','slug','chains','protocolType','totalFees','totalSupplySideRevenue','totalAllTime']]\n",
    "df_filter.sample(5)\n",
    "\n"
   ]
  }
 ],
 "metadata": {
  "kernelspec": {
   "display_name": "gcp-env",
   "language": "python",
   "name": "python3"
  },
  "language_info": {
   "codemirror_mode": {
    "name": "ipython",
    "version": 3
   },
   "file_extension": ".py",
   "mimetype": "text/x-python",
   "name": "python",
   "nbconvert_exporter": "python",
   "pygments_lexer": "ipython3",
   "version": "3.12.3"
  }
 },
 "nbformat": 4,
 "nbformat_minor": 2
}
