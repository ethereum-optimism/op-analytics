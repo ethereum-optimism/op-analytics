{
 "cells": [
  {
   "cell_type": "code",
   "execution_count": 2,
   "metadata": {},
   "outputs": [
    {
     "name": "stdout",
     "output_type": "stream",
     "text": [
      "gs://oplabs-tools-data-sink/github/github_issues_v1/dt=2025-01-13/out.parquet\n",
      "\u001b[2m2025-01-14 21:18:41\u001b[0m [\u001b[32m\u001b[1minfo     \u001b[0m] \u001b[1musing gcs path: https://storage.googleapis.com/oplabs-tools-data-sink/github/github_issues_v1/dt=2025-01-13/out.parquet\u001b[0m \u001b[36mfilename\u001b[0m=\u001b[35minferschema.py\u001b[0m \u001b[36mlineno\u001b[0m=\u001b[35m19\u001b[0m \u001b[36mprocess\u001b[0m=\u001b[35m62701\u001b[0m\n",
      "CREATE TABLE IF NOT EXISTS github_issues_v1\n",
      "(\n",
      "    `html_url` Nullable(String),\n",
      "    `number` Nullable(Int64),\n",
      "    `state` Nullable(String),\n",
      "    `labels` Array(Tuple(\n",
      "    id Nullable(Int64),\n",
      "    name Nullable(String),\n",
      "    description Nullable(String))),\n",
      "    `created_at` Nullable(String),\n",
      "    `updated_at` Nullable(String),\n",
      "    `closed_at` Nullable(String),\n",
      "    `author_association` Nullable(String),\n",
      "    `user` Tuple(\n",
      "    login Nullable(String),\n",
      "    id Nullable(Int64)),\n",
      "    `title` Nullable(String),\n",
      "    `body` Nullable(String),\n",
      "    `comments` Nullable(Int64),\n",
      "    `repo` Nullable(String)\n",
      ")\n",
      "ENGINE = ReplacingMergeTree\n",
      "\n"
     ]
    }
   ],
   "source": [
    "from op_analytics.coreutils.clickhouse.inferschema import infer_schema_from_parquet\n",
    "\n",
    "# Infer schema\n",
    "parquet_path = \"gs://oplabs-tools-data-sink/github/github_issues_v1/dt=2025-01-13/out.parquet\"\n",
    "print(parquet_path)\n",
    "infer_schema_from_parquet(parquet_path, \"github_issues_v1\")"
   ]
  },
  {
   "cell_type": "code",
   "execution_count": null,
   "metadata": {},
   "outputs": [],
   "source": []
  }
 ],
 "metadata": {
  "kernelspec": {
   "display_name": ".venv",
   "language": "python",
   "name": "python3"
  },
  "language_info": {
   "codemirror_mode": {
    "name": "ipython",
    "version": 3
   },
   "file_extension": ".py",
   "mimetype": "text/x-python",
   "name": "python",
   "nbconvert_exporter": "python",
   "pygments_lexer": "ipython3",
   "version": "3.12.6"
  }
 },
 "nbformat": 4,
 "nbformat_minor": 2
}
