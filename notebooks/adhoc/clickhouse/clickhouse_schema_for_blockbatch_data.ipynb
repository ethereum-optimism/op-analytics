{
 "cells": [
  {
   "cell_type": "code",
   "execution_count": null,
   "metadata": {},
   "outputs": [],
   "source": [
    "from pprint import pprint\n",
    "\n",
    "from op_analytics.coreutils.clickhouse.inferschema import generate_create_table_ddl\n",
    "from op_analytics.coreutils.partitioned.location import DataLocation\n",
    "from op_analytics.coreutils.partitioned.reader import DataReader\n",
    "from op_analytics.datapipeline.etl.ingestion.reader.byblock import construct_readers_byblock\n",
    "from op_analytics.datapipeline.etl.ingestion.reader.request import BlockBatchRequest\n",
    "from op_analytics.datapipeline.etl.ingestion.reader.rootpaths import RootPath\n",
    "\n",
    "\n",
    "# Prepare data readers\n",
    "blockbatch_request = BlockBatchRequest.build(\n",
    "    chains=[\"base\"],\n",
    "    range_spec=\"@20250107:+1\",\n",
    "    root_paths_to_read=[\n",
    "        RootPath.of(\"blockbatch/refined_traces/refined_traces_fees_v2\"),\n",
    "        RootPath.of(\"blockbatch/refined_traces/refined_transactions_fees_v2\"),\n",
    "    ],\n",
    ")\n",
    "readers: list[DataReader] = construct_readers_byblock(\n",
    "    blockbatch_request=blockbatch_request,\n",
    "    read_from=DataLocation.GCS,\n",
    ")\n",
    "\n",
    "\n",
    "# Show reader details.\n",
    "pprint(readers[0])\n",
    "\n",
    "\n",
    "# Infer schema\n",
    "parquet_path = readers[0].dataset_paths[\"blockbatch/refined_traces/refined_traces_fees_v2\"][0]\n",
    "print(parquet_path)\n",
    "generate_create_table_ddl(parquet_path, \"refined_traces_fees_v2\")\n"
   ]
  },
  {
   "cell_type": "code",
   "execution_count": null,
   "metadata": {},
   "outputs": [],
   "source": [
    "# Infer schema\n",
    "parquet_path = readers[0].dataset_paths[\"blockbatch/refined_traces/refined_transactions_fees_v1\"][0]\n",
    "print(parquet_path)\n",
    "generate_create_table_ddl(parquet_path, \"refined_transactions_fees_v1\")"
   ]
  },
  {
   "cell_type": "code",
   "execution_count": null,
   "metadata": {},
   "outputs": [],
   "source": []
  }
 ],
 "metadata": {
  "kernelspec": {
   "display_name": ".venv",
   "language": "python",
   "name": "python3"
  },
  "language_info": {
   "codemirror_mode": {
    "name": "ipython",
    "version": 3
   },
   "file_extension": ".py",
   "mimetype": "text/x-python",
   "name": "python",
   "nbconvert_exporter": "python",
   "pygments_lexer": "ipython3",
   "version": "3.12.6"
  }
 },
 "nbformat": 4,
 "nbformat_minor": 2
}
