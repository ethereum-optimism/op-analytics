{
 "cells": [
  {
   "cell_type": "code",
   "execution_count": 2,
   "metadata": {},
   "outputs": [
    {
     "name": "stdout",
     "output_type": "stream",
     "text": [
      "\u001b[2m2025-02-20 16:18:35\u001b[0m [\u001b[32m\u001b[1mdebug    \u001b[0m] \u001b[1mconnecting to GOLDSKY Clickhouse client...\u001b[0m \u001b[36mcounter\u001b[0m=\u001b[35m001/001\u001b[0m \u001b[36meta\u001b[0m=\u001b[35mNone\u001b[0m \u001b[36mfilename\u001b[0m=\u001b[35mclient.py\u001b[0m \u001b[36mlineno\u001b[0m=\u001b[35m56\u001b[0m \u001b[36mprocess\u001b[0m=\u001b[35m70553\u001b[0m\n",
      "\u001b[2m2025-02-20 16:18:36\u001b[0m [\u001b[32m\u001b[1mdebug    \u001b[0m] \u001b[1minitialized GOLDSKY Clickhouse client.\u001b[0m \u001b[36mcounter\u001b[0m=\u001b[35m001/001\u001b[0m \u001b[36meta\u001b[0m=\u001b[35mNone\u001b[0m \u001b[36mfilename\u001b[0m=\u001b[35mclient.py\u001b[0m \u001b[36mlineno\u001b[0m=\u001b[35m61\u001b[0m \u001b[36mprocess\u001b[0m=\u001b[35m70553\u001b[0m\n",
      "\u001b[2m2025-02-20 16:18:37\u001b[0m [\u001b[32m\u001b[1mdebug    \u001b[0m] \u001b[1mconnecting to OPLABS Clickhouse client...\u001b[0m \u001b[36mfilename\u001b[0m=\u001b[35mclient.py\u001b[0m \u001b[36mlineno\u001b[0m=\u001b[35m56\u001b[0m \u001b[36mprocess\u001b[0m=\u001b[35m70553\u001b[0m\n",
      "\u001b[2m2025-02-20 16:18:37\u001b[0m [\u001b[32m\u001b[1mdebug    \u001b[0m] \u001b[1minitialized OPLABS Clickhouse client.\u001b[0m \u001b[36mfilename\u001b[0m=\u001b[35mclient.py\u001b[0m \u001b[36mlineno\u001b[0m=\u001b[35m61\u001b[0m \u001b[36mprocess\u001b[0m=\u001b[35m70553\u001b[0m\n",
      "\u001b[2m2025-02-20 16:18:37\u001b[0m [\u001b[32m\u001b[1minfo     \u001b[0m] \u001b[1mprepared 109 input batches.   \u001b[0m \u001b[36mfilename\u001b[0m=\u001b[35mbyblock.py\u001b[0m \u001b[36mlineno\u001b[0m=\u001b[35m88\u001b[0m \u001b[36mprocess\u001b[0m=\u001b[35m70553\u001b[0m\n",
      "DataReader(partitions=Partition(cols=[PartitionColumn(name='chain',\n",
      "                                                      value='base'),\n",
      "                                      PartitionColumn(name='dt',\n",
      "                                                      value='2025-01-07')]),\n",
      "           read_from=DataLocation.GCS,\n",
      "           dataset_paths={'blockbatch/refined_traces/refined_traces_fees_v1': ['gs://oplabs-tools-data-sink/blockbatch/refined_traces/refined_traces_fees_v1/chain=base/dt=2025-01-07/000024709200.parquet'],\n",
      "                          'blockbatch/refined_traces/refined_transactions_fees_v1': ['gs://oplabs-tools-data-sink/blockbatch/refined_traces/refined_transactions_fees_v1/chain=base/dt=2025-01-07/000024709200.parquet']},\n",
      "           inputs_ready=True,\n",
      "           extra_marker_data={'max_block': 24709600,\n",
      "                              'min_block': 24709200,\n",
      "                              'num_blocks': 400})\n",
      "gs://oplabs-tools-data-sink/blockbatch/refined_traces/refined_traces_fees_v1/chain=base/dt=2025-01-07/000024709200.parquet\n",
      "\u001b[2m2025-02-20 16:18:38\u001b[0m [\u001b[32m\u001b[1minfo     \u001b[0m] \u001b[1musing gcs path: gs://oplabs-tools-data-sink/blockbatch/refined_traces/refined_traces_fees_v1/chain=base/dt=2025-01-07/000024709200.parquet\u001b[0m \u001b[36mfilename\u001b[0m=\u001b[35minferschema.py\u001b[0m \u001b[36mlineno\u001b[0m=\u001b[35m39\u001b[0m \u001b[36mprocess\u001b[0m=\u001b[35m70553\u001b[0m\n",
      "CREATE TABLE IF NOT EXISTS refined_traces_fees_v1\n",
      "(\n",
      "    `chain_id` Int32,\n",
      "    `network` String,\n",
      "    `block_number` Int64,\n",
      "    `block_timestamp` UInt32,\n",
      "    `transaction_hash` String,\n",
      "    `transaction_index` Int64,\n",
      "    `trace_from_address` String,\n",
      "    `trace_to_address` String,\n",
      "    `trace_gas_limit` Int64,\n",
      "    `trace_gas_used` Int64,\n",
      "    `trace_address` String,\n",
      "    `trace_type` String,\n",
      "    `call_type` String,\n",
      "    `error` String,\n",
      "    `trace_method_id` String,\n",
      "    `trace_success` Bool,\n",
      "    `trace_depth` Int64,\n",
      "    `parent_trace_address` String,\n",
      "    `num_traces_in_txn` Int64,\n",
      "    `sum_subtraces_gas_used` Decimal(38, 0),\n",
      "    `gas_used_minus_subtraces` Decimal(38, 0),\n",
      "    `tx_l2_fee_native_minus_subtraces` Decimal(38, 20),\n",
      "    `tx_l2_base_fee_native_minus_subtraces` Decimal(38, 20),\n",
      "    `tx_l2_priority_fee_native_minus_subtraces` Decimal(38, 20),\n",
      "    `tx_l2_legacy_base_fee_native_minus_subtraces` Decimal(38, 20),\n",
      "    `tx_l2_gas_used_amortized_by_call` Float64,\n",
      "    `tx_l1_gas_used_unified_amortized_by_call` Float64,\n",
      "    `tx_l1_base_scaled_size_amortized_by_call` Float64,\n",
      "    `tx_l1_blob_scaled_size_amortized_by_call` Float64,\n",
      "    `tx_estimated_size_amortized_by_call` Float64,\n",
      "    `tx_fee_native_amortized_by_call` Float64,\n",
      "    `tx_l2_fee_native_amortized_by_call` Float64,\n",
      "    `tx_l1_fee_native_amortized_by_call` Float64,\n",
      "    `tx_l2_base_fee_native_amortized_by_call` Float64,\n",
      "    `tx_l2_priority_fee_native_amortized_by_call` Float64\n",
      ")\n",
      "ENGINE = ReplacingMergeTree\n",
      "\n"
     ]
    },
    {
     "data": {
      "text/plain": [
       "'CREATE TABLE IF NOT EXISTS refined_traces_fees_v1\\n(\\n    `chain_id` Int32,\\n    `network` String,\\n    `block_number` Int64,\\n    `block_timestamp` UInt32,\\n    `transaction_hash` String,\\n    `transaction_index` Int64,\\n    `trace_from_address` String,\\n    `trace_to_address` String,\\n    `trace_gas_limit` Int64,\\n    `trace_gas_used` Int64,\\n    `trace_address` String,\\n    `trace_type` String,\\n    `call_type` String,\\n    `error` String,\\n    `trace_method_id` String,\\n    `trace_success` Bool,\\n    `trace_depth` Int64,\\n    `parent_trace_address` String,\\n    `num_traces_in_txn` Int64,\\n    `sum_subtraces_gas_used` Decimal(38, 0),\\n    `gas_used_minus_subtraces` Decimal(38, 0),\\n    `tx_l2_fee_native_minus_subtraces` Decimal(38, 20),\\n    `tx_l2_base_fee_native_minus_subtraces` Decimal(38, 20),\\n    `tx_l2_priority_fee_native_minus_subtraces` Decimal(38, 20),\\n    `tx_l2_legacy_base_fee_native_minus_subtraces` Decimal(38, 20),\\n    `tx_l2_gas_used_amortized_by_call` Float64,\\n    `tx_l1_gas_used_unified_amortized_by_call` Float64,\\n    `tx_l1_base_scaled_size_amortized_by_call` Float64,\\n    `tx_l1_blob_scaled_size_amortized_by_call` Float64,\\n    `tx_estimated_size_amortized_by_call` Float64,\\n    `tx_fee_native_amortized_by_call` Float64,\\n    `tx_l2_fee_native_amortized_by_call` Float64,\\n    `tx_l1_fee_native_amortized_by_call` Float64,\\n    `tx_l2_base_fee_native_amortized_by_call` Float64,\\n    `tx_l2_priority_fee_native_amortized_by_call` Float64\\n)\\nENGINE = ReplacingMergeTree\\n'"
      ]
     },
     "execution_count": 2,
     "metadata": {},
     "output_type": "execute_result"
    }
   ],
   "source": [
    "from pprint import pprint\n",
    "\n",
    "from op_analytics.coreutils.clickhouse.inferschema import generate_create_table_ddl\n",
    "from op_analytics.coreutils.partitioned.location import DataLocation\n",
    "from op_analytics.coreutils.partitioned.reader import DataReader\n",
    "from op_analytics.datapipeline.etl.ingestion.reader.byblock import construct_readers_byblock\n",
    "from op_analytics.datapipeline.etl.ingestion.reader.request import BlockBatchRequest\n",
    "from op_analytics.datapipeline.etl.ingestion.reader.rootpaths import RootPath\n",
    "\n",
    "\n",
    "# Prepare data readers\n",
    "blockbatch_request = BlockBatchRequest.build(\n",
    "    chains=[\"base\"],\n",
    "    range_spec=\"@20250107:+1\",\n",
    "    root_paths_to_read=[\n",
    "        RootPath.of(\"blockbatch/refined_traces/refined_traces_fees_v1\"),\n",
    "        RootPath.of(\"blockbatch/refined_traces/refined_transactions_fees_v1\"),\n",
    "    ],\n",
    ")\n",
    "readers: list[DataReader] = construct_readers_byblock(\n",
    "    blockbatch_request=blockbatch_request,\n",
    "    read_from=DataLocation.GCS,\n",
    ")\n",
    "\n",
    "\n",
    "# Show reader details.\n",
    "pprint(readers[0])\n",
    "\n",
    "\n",
    "# Infer schema\n",
    "parquet_path = readers[0].dataset_paths[\"blockbatch/refined_traces/refined_traces_fees_v1\"][0]\n",
    "print(parquet_path)\n",
    "generate_create_table_ddl(parquet_path, \"refined_traces_fees_v1\")\n"
   ]
  },
  {
   "cell_type": "code",
   "execution_count": 3,
   "metadata": {},
   "outputs": [
    {
     "name": "stdout",
     "output_type": "stream",
     "text": [
      "gs://oplabs-tools-data-sink/blockbatch/refined_traces/refined_transactions_fees_v1/chain=base/dt=2025-01-07/000024709200.parquet\n",
      "\u001b[2m2025-02-20 16:19:59\u001b[0m [\u001b[32m\u001b[1minfo     \u001b[0m] \u001b[1musing gcs path: gs://oplabs-tools-data-sink/blockbatch/refined_traces/refined_transactions_fees_v1/chain=base/dt=2025-01-07/000024709200.parquet\u001b[0m \u001b[36mfilename\u001b[0m=\u001b[35minferschema.py\u001b[0m \u001b[36mlineno\u001b[0m=\u001b[35m39\u001b[0m \u001b[36mprocess\u001b[0m=\u001b[35m70553\u001b[0m\n",
      "CREATE TABLE IF NOT EXISTS refined_transactions_fees_v1\n",
      "(\n",
      "    `chain_id` Int32,\n",
      "    `network` String,\n",
      "    `nonce` Int64,\n",
      "    `transaction_index` Int64,\n",
      "    `from_address` String,\n",
      "    `to_address` String,\n",
      "    `block_number` Int64,\n",
      "    `block_timestamp` UInt32,\n",
      "    `hash` String,\n",
      "    `transaction_type` Int32,\n",
      "    `gas_price` Int64,\n",
      "    `gas_limit` Int64,\n",
      "    `l2_gas_used` Int64,\n",
      "    `receipt_l1_gas_used` Int64,\n",
      "    `l1_fee` Int64,\n",
      "    `l1_gas_price` Int64,\n",
      "    `l1_blob_base_fee` Int64,\n",
      "    `base_fee_per_gas` Int64,\n",
      "    `max_priority_fee_per_gas` Int64,\n",
      "    `l1_fee_scalar` Decimal(12, 6),\n",
      "    `l1_base_fee_scalar` Decimal(26, 7),\n",
      "    `l1_blob_base_fee_scalar` Decimal(26, 7),\n",
      "    `legacy_extra_fee_per_gas` Int64,\n",
      "    `l2_fee` Int64,\n",
      "    `l2_priority_fee` Int64,\n",
      "    `l2_base_fee` Int64,\n",
      "    `method_id` String,\n",
      "    `success` Bool,\n",
      "    `input_byte_length` Int32,\n",
      "    `input_zero_bytes` Int32,\n",
      "    `is_system_transaction` Bool,\n",
      "    `is_attributes_deposited_transaction` Bool,\n",
      "    `block_hour` DateTime64(6),\n",
      "    `estimated_size` Int64,\n",
      "    `l1_gas_used_unified` Int64,\n",
      "    `tx_fee` Int64,\n",
      "    `l2_legacy_extra_fee` Int64,\n",
      "    `l1_base_fee` Decimal(38, 12),\n",
      "    `l1_base_scaled_size` Decimal(38, 12),\n",
      "    `l1_blob_fee` Decimal(38, 12),\n",
      "    `l1_blob_scaled_size` Decimal(38, 12),\n",
      "    `tx_fee_native` Decimal(38, 19),\n",
      "    `l1_fee_native` Decimal(38, 19),\n",
      "    `l2_fee_native` Decimal(38, 19),\n",
      "    `l1_base_fee_native` Decimal(38, 19),\n",
      "    `l1_blob_fee_native` Decimal(38, 19),\n",
      "    `l2_base_fee_native` Decimal(38, 19),\n",
      "    `l2_priority_fee_native` Decimal(38, 19),\n",
      "    `l2_legacy_extra_fee_native` Decimal(38, 19),\n",
      "    `l2_gas_price_gwei` Decimal(38, 10),\n",
      "    `l2_base_gas_price_gwei` Decimal(38, 10),\n",
      "    `l2_priority_gas_price_gwei` Decimal(38, 10),\n",
      "    `l2_legacy_extra_gas_price_gwei` Decimal(38, 10),\n",
      "    `l1_base_gas_price_gwei` Decimal(38, 10),\n",
      "    `l1_blob_base_gas_price_gwei` Decimal(38, 10)\n",
      ")\n",
      "ENGINE = ReplacingMergeTree\n",
      "\n"
     ]
    },
    {
     "data": {
      "text/plain": [
       "'CREATE TABLE IF NOT EXISTS refined_transactions_fees_v1\\n(\\n    `chain_id` Int32,\\n    `network` String,\\n    `nonce` Int64,\\n    `transaction_index` Int64,\\n    `from_address` String,\\n    `to_address` String,\\n    `block_number` Int64,\\n    `block_timestamp` UInt32,\\n    `hash` String,\\n    `transaction_type` Int32,\\n    `gas_price` Int64,\\n    `gas_limit` Int64,\\n    `l2_gas_used` Int64,\\n    `receipt_l1_gas_used` Int64,\\n    `l1_fee` Int64,\\n    `l1_gas_price` Int64,\\n    `l1_blob_base_fee` Int64,\\n    `base_fee_per_gas` Int64,\\n    `max_priority_fee_per_gas` Int64,\\n    `l1_fee_scalar` Decimal(12, 6),\\n    `l1_base_fee_scalar` Decimal(26, 7),\\n    `l1_blob_base_fee_scalar` Decimal(26, 7),\\n    `legacy_extra_fee_per_gas` Int64,\\n    `l2_fee` Int64,\\n    `l2_priority_fee` Int64,\\n    `l2_base_fee` Int64,\\n    `method_id` String,\\n    `success` Bool,\\n    `input_byte_length` Int32,\\n    `input_zero_bytes` Int32,\\n    `is_system_transaction` Bool,\\n    `is_attributes_deposited_transaction` Bool,\\n    `block_hour` DateTime64(6),\\n    `estimated_size` Int64,\\n    `l1_gas_used_unified` Int64,\\n    `tx_fee` Int64,\\n    `l2_legacy_extra_fee` Int64,\\n    `l1_base_fee` Decimal(38, 12),\\n    `l1_base_scaled_size` Decimal(38, 12),\\n    `l1_blob_fee` Decimal(38, 12),\\n    `l1_blob_scaled_size` Decimal(38, 12),\\n    `tx_fee_native` Decimal(38, 19),\\n    `l1_fee_native` Decimal(38, 19),\\n    `l2_fee_native` Decimal(38, 19),\\n    `l1_base_fee_native` Decimal(38, 19),\\n    `l1_blob_fee_native` Decimal(38, 19),\\n    `l2_base_fee_native` Decimal(38, 19),\\n    `l2_priority_fee_native` Decimal(38, 19),\\n    `l2_legacy_extra_fee_native` Decimal(38, 19),\\n    `l2_gas_price_gwei` Decimal(38, 10),\\n    `l2_base_gas_price_gwei` Decimal(38, 10),\\n    `l2_priority_gas_price_gwei` Decimal(38, 10),\\n    `l2_legacy_extra_gas_price_gwei` Decimal(38, 10),\\n    `l1_base_gas_price_gwei` Decimal(38, 10),\\n    `l1_blob_base_gas_price_gwei` Decimal(38, 10)\\n)\\nENGINE = ReplacingMergeTree\\n'"
      ]
     },
     "execution_count": 3,
     "metadata": {},
     "output_type": "execute_result"
    }
   ],
   "source": [
    "# Infer schema\n",
    "parquet_path = readers[0].dataset_paths[\"blockbatch/refined_traces/refined_transactions_fees_v1\"][0]\n",
    "print(parquet_path)\n",
    "generate_create_table_ddl(parquet_path, \"refined_transactions_fees_v1\")"
   ]
  },
  {
   "cell_type": "code",
   "execution_count": null,
   "metadata": {},
   "outputs": [],
   "source": []
  }
 ],
 "metadata": {
  "kernelspec": {
   "display_name": ".venv",
   "language": "python",
   "name": "python3"
  },
  "language_info": {
   "codemirror_mode": {
    "name": "ipython",
    "version": 3
   },
   "file_extension": ".py",
   "mimetype": "text/x-python",
   "name": "python",
   "nbconvert_exporter": "python",
   "pygments_lexer": "ipython3",
   "version": "3.12.6"
  }
 },
 "nbformat": 4,
 "nbformat_minor": 2
}
