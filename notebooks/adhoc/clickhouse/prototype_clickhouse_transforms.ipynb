{
 "cells": [
  {
   "cell_type": "code",
   "execution_count": 3,
   "metadata": {},
   "outputs": [
    {
     "name": "stdout",
     "output_type": "stream",
     "text": [
      "\u001b[2m2025-01-30 17:49:49\u001b[0m [\u001b[32m\u001b[1minfo     \u001b[0m] \u001b[1m1/1 markers pending.          \u001b[0m \u001b[36mfilename\u001b[0m=\u001b[35mmain.py\u001b[0m \u001b[36mlineno\u001b[0m=\u001b[35m49\u001b[0m \u001b[36mprocess\u001b[0m=\u001b[35m9708\u001b[0m\n",
      "\u001b[2m2025-01-30 17:49:49\u001b[0m [\u001b[32m\u001b[1minfo     \u001b[0m] \u001b[1mPrepared 1 transform tasks.   \u001b[0m \u001b[36mfilename\u001b[0m=\u001b[35mmain.py\u001b[0m \u001b[36mlineno\u001b[0m=\u001b[35m72\u001b[0m \u001b[36mprocess\u001b[0m=\u001b[35m9708\u001b[0m\n",
      "\u001b[2m2025-01-30 17:49:50\u001b[0m [\u001b[32m\u001b[1minfo     \u001b[0m] \u001b[1mrunning ddl dim_oft_contract_addresses_v1/UPDATE.sql\u001b[0m \u001b[36mdt\u001b[0m=\u001b[35m2025-01-01\u001b[0m \u001b[36mfilename\u001b[0m=\u001b[35mtransform.py\u001b[0m \u001b[36mlineno\u001b[0m=\u001b[35m50\u001b[0m \u001b[36mprocess\u001b[0m=\u001b[35m9708\u001b[0m \u001b[36mtask\u001b[0m=\u001b[35m1/1\u001b[0m\n",
      "\u001b[2m2025-01-30 17:49:59\u001b[0m [\u001b[32m\u001b[1minfo     \u001b[0m] \u001b[1mdim_oft_contract_addresses_v1/UPDATE.sql -> 74 written rows\u001b[0m \u001b[36mdt\u001b[0m=\u001b[35m2025-01-01\u001b[0m \u001b[36melapsed_ns\u001b[0m=\u001b[35m9227275039\u001b[0m \u001b[36mfilename\u001b[0m=\u001b[35mtransform.py\u001b[0m \u001b[36mlineno\u001b[0m=\u001b[35m61\u001b[0m \u001b[36mprocess\u001b[0m=\u001b[35m9708\u001b[0m \u001b[36mquery_id\u001b[0m=\u001b[35mcc6a686a-8afc-4e1c-bb88-ca824f544b4c\u001b[0m \u001b[36mread_bytes\u001b[0m=\u001b[35m1745557218\u001b[0m \u001b[36mread_rows\u001b[0m=\u001b[35m36433223\u001b[0m \u001b[36mresult_bytes\u001b[0m=\u001b[35m6713\u001b[0m \u001b[36mresult_rows\u001b[0m=\u001b[35m74\u001b[0m \u001b[36mtask\u001b[0m=\u001b[35m1/1\u001b[0m \u001b[36mtotal_rows_to_read\u001b[0m=\u001b[35m0\u001b[0m \u001b[36mwritten_bytes\u001b[0m=\u001b[35m6713\u001b[0m \u001b[36mwritten_rows\u001b[0m=\u001b[35m74\u001b[0m\n"
     ]
    }
   ],
   "source": [
    "from op_analytics.transforms.main import execute_dt_transforms\n",
    "\n",
    "\n",
    "df = execute_dt_transforms(\n",
    "    transforms=[\"dim_oft_contract_addresses_v1\"],\n",
    "    range_spec=\"@20250101:+1\",\n",
    "    max_tasks=None,\n",
    "    overwrite=False,\n",
    ")"
   ]
  },
  {
   "cell_type": "code",
   "execution_count": null,
   "metadata": {},
   "outputs": [],
   "source": []
  }
 ],
 "metadata": {
  "kernelspec": {
   "display_name": ".venv",
   "language": "python",
   "name": "python3"
  },
  "language_info": {
   "codemirror_mode": {
    "name": "ipython",
    "version": 3
   },
   "file_extension": ".py",
   "mimetype": "text/x-python",
   "name": "python",
   "nbconvert_exporter": "python",
   "pygments_lexer": "ipython3",
   "version": "3.12.6"
  }
 },
 "nbformat": 4,
 "nbformat_minor": 2
}
