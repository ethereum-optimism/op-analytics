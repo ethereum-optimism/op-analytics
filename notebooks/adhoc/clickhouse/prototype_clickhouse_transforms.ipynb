{
 "cells": [
  {
   "cell_type": "code",
   "execution_count": 4,
   "metadata": {},
   "outputs": [
    {
     "name": "stdout",
     "output_type": "stream",
     "text": [
      "\u001b[2m2025-01-30 13:42:43\u001b[0m [\u001b[32m\u001b[1minfo     \u001b[0m] \u001b[1m0/3 markers pending.          \u001b[0m \u001b[36mfilename\u001b[0m=\u001b[35mmain.py\u001b[0m \u001b[36mlineno\u001b[0m=\u001b[35m48\u001b[0m \u001b[36mprocess\u001b[0m=\u001b[35m67034\u001b[0m\n",
      "\u001b[2m2025-01-30 13:42:43\u001b[0m [\u001b[32m\u001b[1minfo     \u001b[0m] \u001b[1mPrepared 0 transform tasks.   \u001b[0m \u001b[36mfilename\u001b[0m=\u001b[35mmain.py\u001b[0m \u001b[36mlineno\u001b[0m=\u001b[35m71\u001b[0m \u001b[36mprocess\u001b[0m=\u001b[35m67034\u001b[0m\n"
     ]
    }
   ],
   "source": [
    "from op_analytics.transforms.main import execute_dt_transforms\n",
    "\n",
    "\n",
    "df = execute_dt_transforms(range_spec=\"m3days\", max_tasks=None, overwrite=False)"
   ]
  },
  {
   "cell_type": "code",
   "execution_count": null,
   "metadata": {},
   "outputs": [],
   "source": []
  }
 ],
 "metadata": {
  "kernelspec": {
   "display_name": ".venv",
   "language": "python",
   "name": "python3"
  },
  "language_info": {
   "codemirror_mode": {
    "name": "ipython",
    "version": 3
   },
   "file_extension": ".py",
   "mimetype": "text/x-python",
   "name": "python",
   "nbconvert_exporter": "python",
   "pygments_lexer": "ipython3",
   "version": "3.12.6"
  }
 },
 "nbformat": 4,
 "nbformat_minor": 2
}
