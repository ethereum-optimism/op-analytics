{
 "cells": [
  {
   "cell_type": "code",
   "execution_count": 1,
   "metadata": {},
   "outputs": [
    {
     "name": "stdout",
     "output_type": "stream",
     "text": [
      "\u001b[2m2025-01-03 16:22:13\u001b[0m [\u001b[32m\u001b[1minfo     \u001b[0m] \u001b[1minitialized duckdb at /var/folders/tz/g2vwn0qx5ll32j7jfsshhps40000gn/T/gyjbsuq2/op-analytics.duck.db\u001b[0m \u001b[36mfilename\u001b[0m=\u001b[35mclient.py\u001b[0m \u001b[36mlineno\u001b[0m=\u001b[35m61\u001b[0m \u001b[36mprocess\u001b[0m=\u001b[35m57051\u001b[0m\n",
      "\u001b[2m2025-01-03 16:22:13\u001b[0m [\u001b[32m\u001b[1minfo     \u001b[0m] \u001b[1mloaded vault from .env file   \u001b[0m \u001b[36mfilename\u001b[0m=\u001b[35mvault.py\u001b[0m \u001b[36mlineno\u001b[0m=\u001b[35m32\u001b[0m \u001b[36mprocess\u001b[0m=\u001b[35m57051\u001b[0m\n",
      "\u001b[2m2025-01-03 16:22:13\u001b[0m [\u001b[32m\u001b[1mdebug    \u001b[0m] \u001b[1mloaded vault: 18 items        \u001b[0m \u001b[36mfilename\u001b[0m=\u001b[35mvault.py\u001b[0m \u001b[36mlineno\u001b[0m=\u001b[35m76\u001b[0m \u001b[36mprocess\u001b[0m=\u001b[35m57051\u001b[0m\n"
     ]
    }
   ],
   "source": [
    "from op_analytics.coreutils.duckdb_inmem.client import init_client\n",
    "from op_analytics.coreutils.duckdb_inmem.localcopy import dump_local_copy, load_local_copy\n",
    "from op_analytics.cli.subcommands.pulls.defillama.dataaccess import DefiLlama\n",
    "\n",
    "duckdb_ctx = init_client()"
   ]
  },
  {
   "cell_type": "code",
   "execution_count": 2,
   "metadata": {},
   "outputs": [
    {
     "name": "stdout",
     "output_type": "stream",
     "text": [
      "\u001b[2m2025-01-03 16:22:14\u001b[0m [\u001b[32m\u001b[1minfo     \u001b[0m] \u001b[1mReading data from 'defillama/protocols_token_tvl_v1' with filters min_date=2024-10-01, max_date=None, date_range_spec=None\u001b[0m \u001b[36mfilename\u001b[0m=\u001b[35mdailydata.py\u001b[0m \u001b[36mlineno\u001b[0m=\u001b[35m176\u001b[0m \u001b[36mprocess\u001b[0m=\u001b[35m57051\u001b[0m\n",
      "\u001b[2m2025-01-03 16:22:14\u001b[0m [\u001b[32m\u001b[1minfo     \u001b[0m] \u001b[1mquerying markers for 'defillama/protocols_token_tvl_v1' DateFilter(min_date=datetime.date(2024, 10, 1), max_date=None, datevals=None)\u001b[0m \u001b[36mfilename\u001b[0m=\u001b[35mdailydata.py\u001b[0m \u001b[36mlineno\u001b[0m=\u001b[35m103\u001b[0m \u001b[36mprocess\u001b[0m=\u001b[35m57051\u001b[0m\n",
      "\u001b[2m2025-01-03 16:22:14\u001b[0m [\u001b[32m\u001b[1mdebug    \u001b[0m] \u001b[1mconnecting to OPLABS Clickhouse client...\u001b[0m \u001b[36mfilename\u001b[0m=\u001b[35mclient.py\u001b[0m \u001b[36mlineno\u001b[0m=\u001b[35m36\u001b[0m \u001b[36mprocess\u001b[0m=\u001b[35m57051\u001b[0m\n",
      "\u001b[2m2025-01-03 16:22:15\u001b[0m [\u001b[32m\u001b[1mdebug    \u001b[0m] \u001b[1minitialized OPLABS Clickhouse client.\u001b[0m \u001b[36mfilename\u001b[0m=\u001b[35mclient.py\u001b[0m \u001b[36mlineno\u001b[0m=\u001b[35m41\u001b[0m \u001b[36mprocess\u001b[0m=\u001b[35m57051\u001b[0m\n",
      "\u001b[2m2025-01-03 16:22:15\u001b[0m [\u001b[32m\u001b[1minfo     \u001b[0m] \u001b[1m311 markers found             \u001b[0m \u001b[36mfilename\u001b[0m=\u001b[35mdailydata.py\u001b[0m \u001b[36mlineno\u001b[0m=\u001b[35m117\u001b[0m \u001b[36mmax_dt\u001b[0m=\u001b[35m2025-01-03\u001b[0m \u001b[36mmin_dt\u001b[0m=\u001b[35m2024-10-01\u001b[0m \u001b[36mprocess\u001b[0m=\u001b[35m57051\u001b[0m\n",
      "\u001b[2m2025-01-03 16:22:15\u001b[0m [\u001b[32m\u001b[1minfo     \u001b[0m] \u001b[1m95 distinct paths             \u001b[0m \u001b[36mfilename\u001b[0m=\u001b[35mdailydata.py\u001b[0m \u001b[36mlineno\u001b[0m=\u001b[35m127\u001b[0m \u001b[36mprocess\u001b[0m=\u001b[35m57051\u001b[0m\n",
      "\u001b[2m2025-01-03 16:22:18\u001b[0m [\u001b[32m\u001b[1minfo     \u001b[0m] \u001b[1mregistered view: 'defillama_protocols_token_tvl_v1' using 95 parquet paths\u001b[0m \u001b[36mfilename\u001b[0m=\u001b[35mclient.py\u001b[0m \u001b[36mlineno\u001b[0m=\u001b[35m170\u001b[0m \u001b[36mprocess\u001b[0m=\u001b[35m57051\u001b[0m\n",
      "┌──────────────────────────────────┐\n",
      "│               name               │\n",
      "│             varchar              │\n",
      "├──────────────────────────────────┤\n",
      "│ defillama_protocols_token_tvl_v1 │\n",
      "└──────────────────────────────────┘\n",
      "\n",
      "defillama_protocols_token_tvl_v1\n",
      "┌───────────────────┬─────────────┬─────────┬─────────┬─────────┬─────────┐\n",
      "│    column_name    │ column_type │  null   │   key   │ default │  extra  │\n",
      "│      varchar      │   varchar   │ varchar │ varchar │ varchar │ varchar │\n",
      "├───────────────────┼─────────────┼─────────┼─────────┼─────────┼─────────┤\n",
      "│ protocol_slug     │ VARCHAR     │ YES     │ NULL    │ NULL    │ NULL    │\n",
      "│ chain             │ VARCHAR     │ YES     │ NULL    │ NULL    │ NULL    │\n",
      "│ token             │ VARCHAR     │ YES     │ NULL    │ NULL    │ NULL    │\n",
      "│ app_token_tvl     │ DOUBLE      │ YES     │ NULL    │ NULL    │ NULL    │\n",
      "│ app_token_tvl_usd │ DOUBLE      │ YES     │ NULL    │ NULL    │ NULL    │\n",
      "│ dt                │ DATE        │ YES     │ NULL    │ NULL    │ NULL    │\n",
      "└───────────────────┴─────────────┴─────────┴─────────┴─────────┴─────────┘\n",
      "\n"
     ]
    }
   ],
   "source": [
    "## EXAMPLE 1: Register remote parquet files as a view.\n",
    "\n",
    "# The reader returns the view name so it can be used in queries.\n",
    "view1 = DefiLlama.PROTOCOLS_TOKEN_TVL.read(min_date=\"2024-10-01\")\n",
    "print(view1)\n",
    "\n",
    "print(duckdb_ctx.client.sql(f\"DESCRIBE {view1}\"))\n",
    "\n"
   ]
  },
  {
   "cell_type": "code",
   "execution_count": 3,
   "metadata": {},
   "outputs": [
    {
     "name": "stdout",
     "output_type": "stream",
     "text": [
      "┌───────────────┬──────────┬─────────┬────────────────────┬───────────┐\n",
      "│ protocol_slug │  chain   │  token  │      tvl_usd       │ num_dates │\n",
      "│    varchar    │ varchar  │ varchar │       double       │   int64   │\n",
      "├───────────────┼──────────┼─────────┼────────────────────┼───────────┤\n",
      "│ binance-cex   │ Bitcoin  │ BTC     │  4668655572760.399 │        94 │\n",
      "│ lido          │ Ethereum │ WETH    │  2839183272007.591 │        94 │\n",
      "│ binance-cex   │ Binance  │ BNB     │ 1659644947899.1255 │        94 │\n",
      "│ binance-cex   │ Ethereum │ USDT    │ 1543214467880.8442 │        94 │\n",
      "│ bitfinex      │ Bitcoin  │ BTC     │ 1394980613157.7214 │        92 │\n",
      "│ robinhood     │ Bitcoin  │ BTC     │ 1117340211544.2952 │        94 │\n",
      "│ wbtc          │ Bitcoin  │ BTC     │ 1112880412688.9067 │        94 │\n",
      "│ binance-cex   │ Ethereum │ WETH    │ 1045614936117.3087 │        94 │\n",
      "│ okx           │ Bitcoin  │ BTC     │  937831051222.6948 │        94 │\n",
      "│ eigenlayer    │ Ethereum │ WETH    │  875468307160.5481 │        90 │\n",
      "├───────────────┴──────────┴─────────┴────────────────────┴───────────┤\n",
      "│ 10 rows                                                   5 columns │\n",
      "└─────────────────────────────────────────────────────────────────────┘\n",
      "\n"
     ]
    }
   ],
   "source": [
    "# An aggregation that runs on top of the remote data.\n",
    "# Takes ~5s to run, not to bad since we are only looking at dates starting 2024-10-01.\n",
    "print(duckdb_ctx.client.sql(\n",
    "f\"\"\"\n",
    "SELECT \n",
    "    protocol_slug, \n",
    "    chain, \n",
    "    token, \n",
    "    sum(app_token_tvl_usd) AS tvl_usd, \n",
    "    count(distinct dt) AS num_dates\n",
    "FROM {view1}\n",
    "GROUP BY 1, 2, 3\n",
    "ORDER BY 4 DESC\n",
    "LIMIT 10\n",
    "\"\"\"))"
   ]
  },
  {
   "cell_type": "code",
   "execution_count": null,
   "metadata": {},
   "outputs": [
    {
     "name": "stdout",
     "output_type": "stream",
     "text": [
      "\u001b[2m2024-12-03 17:56:17\u001b[0m [\u001b[32m\u001b[1minfo     \u001b[0m] \u001b[1mregistered view: 'defillama_protocols_token_tvl_v1' using uri wildcard 'gs://oplabs-tools-data-sink/defillama/protocols_token_tvl_v1/dt=*/out.parquet'\u001b[0m \u001b[36mfilename\u001b[0m=\u001b[35mclient.py\u001b[0m \u001b[36mlineno\u001b[0m=\u001b[35m53\u001b[0m\n",
      "┌──────────────────────────────────┐\n",
      "│               name               │\n",
      "│             varchar              │\n",
      "├──────────────────────────────────┤\n",
      "│ defillama_protocols_token_tvl_v1 │\n",
      "└──────────────────────────────────┘\n",
      "\n",
      "\u001b[2m2024-12-03 17:56:18\u001b[0m [\u001b[32m\u001b[1minfo     \u001b[0m] \u001b[1mbegin dump copy to '/Users/pedro/github/ethereum-optimism/op-analytics-alt/parquet/defillama_protocols_token_tvl_v1_full__20241203T225618.parquet'\u001b[0m \u001b[36mfilename\u001b[0m=\u001b[35mlocalcopy.py\u001b[0m \u001b[36mlineno\u001b[0m=\u001b[35m20\u001b[0m\n",
      "\u001b[2m2024-12-03 17:58:40\u001b[0m [\u001b[32m\u001b[1minfo     \u001b[0m] \u001b[1mdone dump copy to '/Users/pedro/github/ethereum-optimism/op-analytics-alt/parquet/defillama_protocols_token_tvl_v1_full__20241203T225618.parquet'\u001b[0m \u001b[36mfilename\u001b[0m=\u001b[35mlocalcopy.py\u001b[0m \u001b[36mlineno\u001b[0m=\u001b[35m22\u001b[0m\n",
      "┌────────────────────────────────────────────────────────┐\n",
      "│                          name                          │\n",
      "│                        varchar                         │\n",
      "├────────────────────────────────────────────────────────┤\n",
      "│ defillama_protocols_token_tvl_v1                       │\n",
      "│ defillama_protocols_token_tvl_v1_full__20241203T225618 │\n",
      "└────────────────────────────────────────────────────────┘\n",
      "\n",
      "defillama_protocols_token_tvl_v1\n",
      "defillama_protocols_token_tvl_v1_full__20241203T225618\n"
     ]
    }
   ],
   "source": [
    "## EXAMPLE 2: Dump the entire dataset locally\n",
    "\n",
    "# A read with no parameters reads the entire dataset.\n",
    "view2 = DefiLlama.PROTOCOLS_TOKEN_TVL.read()\n",
    "\n",
    "# Dump to a local parquet file and create a new view that is \n",
    "# backed by the dumped file.\n",
    "parquet_fileprefix = \"defillama_protocols_token_tvl_v1_full\"\n",
    "view3 = dump_local_copy(view2, parquet_fileprefix=parquet_fileprefix)\n",
    "\n",
    "print(view2)\n",
    "print(view3)\n"
   ]
  },
  {
   "cell_type": "code",
   "execution_count": 5,
   "metadata": {},
   "outputs": [
    {
     "name": "stdout",
     "output_type": "stream",
     "text": [
      "\u001b[2m2024-12-03 17:59:43\u001b[0m [\u001b[32m\u001b[1minfo     \u001b[0m] \u001b[1mload copy from '/Users/pedro/github/ethereum-optimism/op-analytics-alt/parquet/defillama_protocols_token_tvl_v1_full__20241203T225618.parquet'\u001b[0m \u001b[36mfilename\u001b[0m=\u001b[35mlocalcopy.py\u001b[0m \u001b[36mlineno\u001b[0m=\u001b[35m44\u001b[0m\n",
      "┌────────────────────────────────────────────────────────┐\n",
      "│                          name                          │\n",
      "│                        varchar                         │\n",
      "├────────────────────────────────────────────────────────┤\n",
      "│ defillama_protocols_token_tvl_v1                       │\n",
      "│ defillama_protocols_token_tvl_v1_full__20241203T225618 │\n",
      "└────────────────────────────────────────────────────────┘\n",
      "\n",
      "defillama_protocols_token_tvl_v1_full__20241203T225618\n"
     ]
    }
   ],
   "source": [
    "## EXAMPLE 2 (continued)\n",
    "\n",
    "## Use the local copy directly by providing the exact fetch timestamp\n",
    "view4 = load_local_copy(parquet_fileprefix, timestamp=\"20241203T225618\")\n",
    "print(view4)"
   ]
  },
  {
   "cell_type": "code",
   "execution_count": null,
   "metadata": {},
   "outputs": [
    {
     "name": "stdout",
     "output_type": "stream",
     "text": [
      "┌────────────┐\n",
      "│  min(dt)   │\n",
      "│    date    │\n",
      "├────────────┤\n",
      "│ 2018-04-27 │\n",
      "└────────────┘\n",
      "\n"
     ]
    }
   ],
   "source": [
    "## Using view4, which is backed by the local copy results in fast queries.\n",
    "\n",
    "print(duckdb_ctx.client.sql(\n",
    "f\"\"\"\n",
    "SELECT \n",
    "    min(dt)\n",
    "FROM {view4}\n",
    "\"\"\"))"
   ]
  },
  {
   "cell_type": "code",
   "execution_count": 8,
   "metadata": {},
   "outputs": [
    {
     "name": "stdout",
     "output_type": "stream",
     "text": [
      "┌───────────────┬──────────────────┬─────────┬────────────────────┬────────────────┬───────────┐\n",
      "│ protocol_slug │      chain       │  token  │    max_tvl_usd     │ max_tvl_usd_dt │ num_dates │\n",
      "│    varchar    │     varchar      │ varchar │       double       │      date      │   int64   │\n",
      "├───────────────┼──────────────────┼─────────┼────────────────────┼────────────────┼───────────┤\n",
      "│ hotbit        │ Tron             │ TRX     │     728037762725.0 │ 2024-01-31     │       614 │\n",
      "│ iron-finance  │ Polygon          │ TITAN   │ 244941123692.78592 │ 2021-06-16     │         4 │\n",
      "│ binance-cex   │ Bitcoin          │ BTC     │  58700225047.75569 │ 2024-11-22     │       752 │\n",
      "│ lido          │ Ethereum         │ WETH    │   40177918659.3112 │ 2024-03-12     │      1282 │\n",
      "│ sushiswap     │ Polygon          │ TITAN   │  35896427732.67128 │ 2021-06-17     │       301 │\n",
      "│ sushiswap     │ Harmony          │ RVRS    │  35486417432.64003 │ 2022-06-13     │       157 │\n",
      "│ hex           │ staking          │ HEX     │  30716276551.70574 │ 2021-09-19     │      1815 │\n",
      "│ hex           │ Ethereum-staking │ HEX     │  30716276551.70574 │ 2021-09-19     │      1815 │\n",
      "│ binance-cex   │ Binance          │ BNB     │  22683421133.96563 │ 2024-04-26     │       752 │\n",
      "│ binance-cex   │ Ethereum         │ USDT    │  21849070391.40374 │ 2024-12-03     │       752 │\n",
      "├───────────────┴──────────────────┴─────────┴────────────────────┴────────────────┴───────────┤\n",
      "│ 10 rows                                                                            6 columns │\n",
      "└──────────────────────────────────────────────────────────────────────────────────────────────┘\n",
      "\n"
     ]
    }
   ],
   "source": [
    "# An aggregation that runs on top of the local copy.\n",
    "# Takes ~3s to run (this includes ALL dates since 2018-04-27)\n",
    "# Running this on the remote dataset would take longer.\n",
    "print(duckdb_ctx.client.sql(\n",
    "f\"\"\"\n",
    "SELECT \n",
    "    protocol_slug, \n",
    "    chain, \n",
    "    token, \n",
    "    max(app_token_tvl_usd) AS max_tvl_usd, \n",
    "    arg_max(dt, app_token_tvl_usd) as max_tvl_usd_dt,\n",
    "    count(distinct dt) AS num_dates\n",
    "FROM {view4}\n",
    "GROUP BY 1, 2, 3\n",
    "ORDER BY 4 DESC\n",
    "LIMIT 10\n",
    "\"\"\"))"
   ]
  },
  {
   "cell_type": "code",
   "execution_count": 9,
   "metadata": {},
   "outputs": [
    {
     "name": "stdout",
     "output_type": "stream",
     "text": [
      "\u001b[2m2024-12-03 18:01:53\u001b[0m [\u001b[32m\u001b[1minfo     \u001b[0m] \u001b[1mload copy from '/Users/pedro/github/ethereum-optimism/op-analytics-alt/parquet/defillama_protocols_token_tvl_v1_full__20241203T225618.parquet'\u001b[0m \u001b[36mfilename\u001b[0m=\u001b[35mlocalcopy.py\u001b[0m \u001b[36mlineno\u001b[0m=\u001b[35m44\u001b[0m\n",
      "┌────────────────────────────────────────────────────────┐\n",
      "│                          name                          │\n",
      "│                        varchar                         │\n",
      "├────────────────────────────────────────────────────────┤\n",
      "│ defillama_protocols_token_tvl_v1                       │\n",
      "│ defillama_protocols_token_tvl_v1_full__20241203T225618 │\n",
      "└────────────────────────────────────────────────────────┘\n",
      "\n",
      "defillama_protocols_token_tvl_v1_full__20241203T225618\n"
     ]
    }
   ],
   "source": [
    "## EXAMPLE 2 (continuud)\n",
    "\n",
    "## Load last dumped local copy by omitting the timestamp parameter.\n",
    "view5 = load_local_copy(parquet_fileprefix, timestamp=None)\n",
    "print(view5)"
   ]
  },
  {
   "cell_type": "code",
   "execution_count": 10,
   "metadata": {},
   "outputs": [
    {
     "name": "stdout",
     "output_type": "stream",
     "text": [
      "┌────────────┐\n",
      "│  min(dt)   │\n",
      "│    date    │\n",
      "├────────────┤\n",
      "│ 2018-04-27 │\n",
      "└────────────┘\n",
      "\n"
     ]
    }
   ],
   "source": [
    "\n",
    "print(duckdb_ctx.client.sql(\n",
    "f\"\"\"\n",
    "SELECT \n",
    "    min(dt)\n",
    "FROM {view5}\n",
    "\"\"\"))"
   ]
  },
  {
   "cell_type": "code",
   "execution_count": 11,
   "metadata": {},
   "outputs": [
    {
     "name": "stdout",
     "output_type": "stream",
     "text": [
      "\u001b[2m2024-12-03 18:03:32\u001b[0m [\u001b[32m\u001b[1minfo     \u001b[0m] \u001b[1mquerying markers for 'defillama/protocols_token_tvl_v1' DateFilter(min_date=datetime.date(2024, 6, 1), max_date=None, datevals=None)\u001b[0m \u001b[36mfilename\u001b[0m=\u001b[35mdailydata.py\u001b[0m \u001b[36mlineno\u001b[0m=\u001b[35m95\u001b[0m\n",
      "\u001b[2m2024-12-03 18:03:32\u001b[0m [\u001b[32m\u001b[1minfo     \u001b[0m] \u001b[1m201 markers found             \u001b[0m \u001b[36mfilename\u001b[0m=\u001b[35mdailydata.py\u001b[0m \u001b[36mlineno\u001b[0m=\u001b[35m109\u001b[0m\n",
      "\u001b[2m2024-12-03 18:03:32\u001b[0m [\u001b[32m\u001b[1minfo     \u001b[0m] \u001b[1m186 distinct paths            \u001b[0m \u001b[36mfilename\u001b[0m=\u001b[35mdailydata.py\u001b[0m \u001b[36mlineno\u001b[0m=\u001b[35m115\u001b[0m\n",
      "\u001b[2m2024-12-03 18:03:33\u001b[0m [\u001b[32m\u001b[1minfo     \u001b[0m] \u001b[1mregistered view: 'defillama_protocols_token_tvl_v1' using 186 parquet paths\u001b[0m \u001b[36mfilename\u001b[0m=\u001b[35mclient.py\u001b[0m \u001b[36mlineno\u001b[0m=\u001b[35m53\u001b[0m\n",
      "┌────────────────────────────────────────────────────────┐\n",
      "│                          name                          │\n",
      "│                        varchar                         │\n",
      "├────────────────────────────────────────────────────────┤\n",
      "│ defillama_protocols_token_tvl_v1                       │\n",
      "│ defillama_protocols_token_tvl_v1_full__20241203T225618 │\n",
      "└────────────────────────────────────────────────────────┘\n",
      "\n",
      "\u001b[2m2024-12-03 18:03:33\u001b[0m [\u001b[32m\u001b[1minfo     \u001b[0m] \u001b[1mbegin dump copy to '/Users/pedro/github/ethereum-optimism/op-analytics-alt/parquet/defillama_protocols_token_tvl_v1_post_0601__20241203T230333.parquet'\u001b[0m \u001b[36mfilename\u001b[0m=\u001b[35mlocalcopy.py\u001b[0m \u001b[36mlineno\u001b[0m=\u001b[35m20\u001b[0m\n",
      "\u001b[2m2024-12-03 18:03:41\u001b[0m [\u001b[32m\u001b[1minfo     \u001b[0m] \u001b[1mdone dump copy to '/Users/pedro/github/ethereum-optimism/op-analytics-alt/parquet/defillama_protocols_token_tvl_v1_post_0601__20241203T230333.parquet'\u001b[0m \u001b[36mfilename\u001b[0m=\u001b[35mlocalcopy.py\u001b[0m \u001b[36mlineno\u001b[0m=\u001b[35m22\u001b[0m\n",
      "┌─────────────────────────────────────────────────────────────┐\n",
      "│                            name                             │\n",
      "│                           varchar                           │\n",
      "├─────────────────────────────────────────────────────────────┤\n",
      "│ defillama_protocols_token_tvl_v1                            │\n",
      "│ defillama_protocols_token_tvl_v1_full__20241203T225618      │\n",
      "│ defillama_protocols_token_tvl_v1_post_0601__20241203T230333 │\n",
      "└─────────────────────────────────────────────────────────────┘\n",
      "\n"
     ]
    }
   ],
   "source": [
    "## EXAMPLE 3: Dump only a date range to a local parquet file\n",
    "\n",
    "\n",
    "# Use a minimum date.\n",
    "view6 = DefiLlama.PROTOCOLS_TOKEN_TVL.read(min_date=\"2024-06-01\")\n",
    "\n",
    "# Dump to a local parquet file and create a new view that is \n",
    "# backed by the dumped file.\n",
    "parquet_fileprefix = \"defillama_protocols_token_tvl_v1_post_0601\"\n",
    "view7 = dump_local_copy(view6, parquet_fileprefix=parquet_fileprefix)"
   ]
  },
  {
   "cell_type": "code",
   "execution_count": 12,
   "metadata": {},
   "outputs": [
    {
     "name": "stdout",
     "output_type": "stream",
     "text": [
      "┌───────────────┬──────────┬─────────┬───────────────────┬────────────────┬───────────┐\n",
      "│ protocol_slug │  chain   │  token  │    max_tvl_usd    │ max_tvl_usd_dt │ num_dates │\n",
      "│    varchar    │ varchar  │ varchar │      double       │      date      │   int64   │\n",
      "├───────────────┼──────────┼─────────┼───────────────────┼────────────────┼───────────┤\n",
      "│ binance-cex   │ Bitcoin  │ BTC     │ 58700225047.75569 │ 2024-11-22     │       186 │\n",
      "│ lido          │ Ethereum │ WETH    │ 36626823339.87432 │ 2024-12-02     │       186 │\n",
      "│ binance-cex   │ Ethereum │ USDT    │ 21849070391.40374 │ 2024-12-03     │       186 │\n",
      "│ binance-cex   │ Binance  │ BNB     │ 20804707506.85196 │ 2024-06-06     │       186 │\n",
      "│ bitfinex      │ Bitcoin  │ BTC     │ 17063769859.88684 │ 2024-12-02     │       186 │\n",
      "│ wbtc          │ Bitcoin  │ BTC     │ 14445877224.43124 │ 2024-11-23     │       109 │\n",
      "│ robinhood     │ Bitcoin  │ BTC     │ 14082757853.59867 │ 2024-12-02     │       186 │\n",
      "│ binance-cex   │ Tron     │ USDT    │ 13945832856.17688 │ 2024-06-22     │       186 │\n",
      "│ binance-cex   │ Ethereum │ WETH    │ 13580827205.72264 │ 2024-12-02     │       186 │\n",
      "│ eigenlayer    │ Ethereum │ WETH    │  13311100719.2514 │ 2024-06-17     │       181 │\n",
      "├───────────────┴──────────┴─────────┴───────────────────┴────────────────┴───────────┤\n",
      "│ 10 rows                                                                   6 columns │\n",
      "└─────────────────────────────────────────────────────────────────────────────────────┘\n",
      "\n"
     ]
    }
   ],
   "source": [
    "# Use view7 which is backed by a local copy of the date-filtered data.\n",
    "\n",
    "print(duckdb_ctx.client.sql(\n",
    "f\"\"\"\n",
    "SELECT \n",
    "    protocol_slug, \n",
    "    chain, \n",
    "    token, \n",
    "    max(app_token_tvl_usd) AS max_tvl_usd, \n",
    "    arg_max(dt, app_token_tvl_usd) as max_tvl_usd_dt,\n",
    "    count(distinct dt) AS num_dates\n",
    "FROM {view7}\n",
    "GROUP BY 1, 2, 3\n",
    "ORDER BY 4 DESC\n",
    "LIMIT 10\n",
    "\"\"\"))"
   ]
  },
  {
   "cell_type": "code",
   "execution_count": 13,
   "metadata": {},
   "outputs": [
    {
     "name": "stdout",
     "output_type": "stream",
     "text": [
      "\u001b[2m2024-12-03 18:04:52\u001b[0m [\u001b[32m\u001b[1minfo     \u001b[0m] \u001b[1mquerying markers for 'defillama/protocols_metadata_v1' DateFilter(min_date=None, max_date=None, datevals=[datetime.date(2024, 11, 26)])\u001b[0m \u001b[36mfilename\u001b[0m=\u001b[35mdailydata.py\u001b[0m \u001b[36mlineno\u001b[0m=\u001b[35m95\u001b[0m\n",
      "\u001b[2m2024-12-03 18:04:52\u001b[0m [\u001b[32m\u001b[1minfo     \u001b[0m] \u001b[1m1 markers found               \u001b[0m \u001b[36mfilename\u001b[0m=\u001b[35mdailydata.py\u001b[0m \u001b[36mlineno\u001b[0m=\u001b[35m109\u001b[0m\n",
      "\u001b[2m2024-12-03 18:04:52\u001b[0m [\u001b[32m\u001b[1minfo     \u001b[0m] \u001b[1m1 distinct paths              \u001b[0m \u001b[36mfilename\u001b[0m=\u001b[35mdailydata.py\u001b[0m \u001b[36mlineno\u001b[0m=\u001b[35m115\u001b[0m\n",
      "\u001b[2m2024-12-03 18:04:53\u001b[0m [\u001b[32m\u001b[1minfo     \u001b[0m] \u001b[1mregistered view: 'defillama_protocols_metadata_v1' using 1 parquet paths\u001b[0m \u001b[36mfilename\u001b[0m=\u001b[35mclient.py\u001b[0m \u001b[36mlineno\u001b[0m=\u001b[35m53\u001b[0m\n",
      "┌─────────────────────────────────────────────────────────────┐\n",
      "│                            name                             │\n",
      "│                           varchar                           │\n",
      "├─────────────────────────────────────────────────────────────┤\n",
      "│ defillama_protocols_metadata_v1                             │\n",
      "│ defillama_protocols_token_tvl_v1                            │\n",
      "│ defillama_protocols_token_tvl_v1_full__20241203T225618      │\n",
      "│ defillama_protocols_token_tvl_v1_post_0601__20241203T230333 │\n",
      "└─────────────────────────────────────────────────────────────┘\n",
      "\n"
     ]
    },
    {
     "data": {
      "text/plain": [
       "┌─────────────────┬─────────────────┬───────────────────┬─────────────────┬─────────────────┬───────────────────────┬────────────┐\n",
       "│  protocol_name  │  protocol_slug  │ protocol_category │ parent_protocol │ wrong_liquidity │ misrepresented_tokens │     dt     │\n",
       "│     varchar     │     varchar     │      varchar      │     varchar     │     boolean     │        boolean        │    date    │\n",
       "├─────────────────┼─────────────────┼───────────────────┼─────────────────┼─────────────────┼───────────────────────┼────────────┤\n",
       "│ Binance CEX     │ binance-cex     │ CEX               │ binance-cex     │ NULL            │ NULL                  │ 2024-11-26 │\n",
       "│ Lido            │ lido            │ Liquid Staking    │ lido            │ NULL            │ NULL                  │ 2024-11-26 │\n",
       "│ Bitfinex        │ bitfinex        │ CEX               │ bitfinex        │ NULL            │ NULL                  │ 2024-11-26 │\n",
       "│ OKX             │ okx             │ CEX               │ okx             │ NULL            │ NULL                  │ 2024-11-26 │\n",
       "│ Robinhood       │ robinhood       │ CEX               │ robinhood       │ NULL            │ NULL                  │ 2024-11-26 │\n",
       "│ AAVE V3         │ aave-v3         │ Lending           │ aave            │ true            │ NULL                  │ 2024-11-26 │\n",
       "│ Bybit           │ bybit           │ CEX               │ bybit           │ NULL            │ NULL                  │ 2024-11-26 │\n",
       "│ EigenLayer      │ eigenlayer      │ Restaking         │ eigenlayer      │ NULL            │ NULL                  │ 2024-11-26 │\n",
       "│ WBTC            │ wbtc            │ Bridge            │ wbtc            │ NULL            │ NULL                  │ 2024-11-26 │\n",
       "│ Arbitrum Bridge │ arbitrum-bridge │ Chain             │ arbitrum-bridge │ NULL            │ NULL                  │ 2024-11-26 │\n",
       "├─────────────────┴─────────────────┴───────────────────┴─────────────────┴─────────────────┴───────────────────────┴────────────┤\n",
       "│ 10 rows                                                                                                              7 columns │\n",
       "└────────────────────────────────────────────────────────────────────────────────────────────────────────────────────────────────┘"
      ]
     },
     "execution_count": 13,
     "metadata": {},
     "output_type": "execute_result"
    }
   ],
   "source": [
    "## EXAMPLE 4: Read metadata. \n",
    "# \n",
    "# The metadata df is written out entirely for each date\n",
    "# So th read it on must pick a single date.\n",
    "\n",
    "metadata_view1 = DefiLlama.PROTOCOLS_METADATA.read(date_range_spec=\"@20241126:+1\")\n",
    "duckdb_ctx.client.sql(f\"SELECT * FROM {metadata_view1} LIMIT 10\")"
   ]
  }
 ],
 "metadata": {
  "kernelspec": {
   "display_name": ".venv",
   "language": "python",
   "name": "python3"
  },
  "language_info": {
   "codemirror_mode": {
    "name": "ipython",
    "version": 3
   },
   "file_extension": ".py",
   "mimetype": "text/x-python",
   "name": "python",
   "nbconvert_exporter": "python",
   "pygments_lexer": "ipython3",
   "version": "3.12.6"
  }
 },
 "nbformat": 4,
 "nbformat_minor": 2
}
