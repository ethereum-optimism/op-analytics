{
 "cells": [
  {
   "cell_type": "code",
   "execution_count": 1,
   "metadata": {},
   "outputs": [],
   "source": [
    "from op_analytics.cli.subcommands.pulls.defillama.dataaccess import DefiLlama"
   ]
  },
  {
   "cell_type": "code",
   "execution_count": 2,
   "metadata": {},
   "outputs": [
    {
     "name": "stdout",
     "output_type": "stream",
     "text": [
      "\u001b[2m2024-11-26 17:34:36\u001b[0m [\u001b[32m\u001b[1minfo     \u001b[0m] \u001b[1mloaded vault from .env file   \u001b[0m \u001b[36mfilename\u001b[0m=\u001b[35mvault.py\u001b[0m \u001b[36mlineno\u001b[0m=\u001b[35m32\u001b[0m\n",
      "\u001b[2m2024-11-26 17:34:36\u001b[0m [\u001b[32m\u001b[1mdebug    \u001b[0m] \u001b[1mloaded vault: 17 items        \u001b[0m \u001b[36mfilename\u001b[0m=\u001b[35mvault.py\u001b[0m \u001b[36mlineno\u001b[0m=\u001b[35m76\u001b[0m\n",
      "\u001b[2m2024-11-26 17:34:36\u001b[0m [\u001b[32m\u001b[1minfo     \u001b[0m] \u001b[1mquerying markers for 'protocols_token_tvl_v1' DateFilter(min_date=datetime.date(2024, 10, 1), max_date=None, datevals=None)\u001b[0m \u001b[36mfilename\u001b[0m=\u001b[35mdataaccess.py\u001b[0m \u001b[36mlineno\u001b[0m=\u001b[35m194\u001b[0m\n",
      "\u001b[2m2024-11-26 17:34:36\u001b[0m [\u001b[32m\u001b[1mdebug    \u001b[0m] \u001b[1mconnecting to OPLABS Clickhouse client...\u001b[0m \u001b[36mfilename\u001b[0m=\u001b[35mclient.py\u001b[0m \u001b[36mlineno\u001b[0m=\u001b[35m26\u001b[0m\n",
      "\u001b[2m2024-11-26 17:34:37\u001b[0m [\u001b[32m\u001b[1mdebug    \u001b[0m] \u001b[1minitialized OPLABS Clickhouse client.\u001b[0m \u001b[36mfilename\u001b[0m=\u001b[35mclient.py\u001b[0m \u001b[36mlineno\u001b[0m=\u001b[35m38\u001b[0m\n",
      "\u001b[2m2024-11-26 17:34:37\u001b[0m [\u001b[32m\u001b[1minfo     \u001b[0m] \u001b[1m57 markers found              \u001b[0m \u001b[36mfilename\u001b[0m=\u001b[35mdataaccess.py\u001b[0m \u001b[36mlineno\u001b[0m=\u001b[35m208\u001b[0m\n",
      "\u001b[2m2024-11-26 17:34:38\u001b[0m [\u001b[32m\u001b[1minfo     \u001b[0m] \u001b[1mregistered view 'protocols_token_tvl_v1' using 57 parquet paths\u001b[0m \u001b[36mfilename\u001b[0m=\u001b[35mdataaccess.py\u001b[0m \u001b[36mlineno\u001b[0m=\u001b[35m220\u001b[0m\n",
      "┌────────────────────────┐\n",
      "│          name          │\n",
      "│        varchar         │\n",
      "├────────────────────────┤\n",
      "│ protocols_token_tvl_v1 │\n",
      "└────────────────────────┘\n",
      "\n",
      "┌───────────────────┬─────────────┬─────────┬─────────┬─────────┬─────────┐\n",
      "│    column_name    │ column_type │  null   │   key   │ default │  extra  │\n",
      "│      varchar      │   varchar   │ varchar │ varchar │ varchar │ varchar │\n",
      "├───────────────────┼─────────────┼─────────┼─────────┼─────────┼─────────┤\n",
      "│ protocol_slug     │ VARCHAR     │ YES     │ NULL    │ NULL    │ NULL    │\n",
      "│ chain             │ VARCHAR     │ YES     │ NULL    │ NULL    │ NULL    │\n",
      "│ token             │ VARCHAR     │ YES     │ NULL    │ NULL    │ NULL    │\n",
      "│ app_token_tvl     │ DOUBLE      │ YES     │ NULL    │ NULL    │ NULL    │\n",
      "│ app_token_tvl_usd │ DOUBLE      │ YES     │ NULL    │ NULL    │ NULL    │\n",
      "│ dt                │ DATE        │ YES     │ NULL    │ NULL    │ NULL    │\n",
      "└───────────────────┴─────────────┴─────────┴─────────┴─────────┴─────────┘\n",
      "\n",
      "┌───────────────┬──────────┬─────────┬────────────────────┬───────────┐\n",
      "│ protocol_slug │  chain   │  token  │      tvl_usd       │ num_dates │\n",
      "│    varchar    │ varchar  │ varchar │       double       │   int64   │\n",
      "├───────────────┼──────────┼─────────┼────────────────────┼───────────┤\n",
      "│ binance-cex   │ Bitcoin  │ BTC     │  2515558638127.525 │        56 │\n",
      "│ lido          │ Ethereum │ WETH    │  1494756586538.987 │        56 │\n",
      "│ binance-cex   │ Binance  │ BNB     │  920610115140.6096 │        56 │\n",
      "│ bitfinex      │ Bitcoin  │ BTC     │  759912784976.9867 │        56 │\n",
      "│ binance-cex   │ Ethereum │ USDT    │   732184876962.808 │        56 │\n",
      "│ wbtc          │ Bitcoin  │ BTC     │  608770494739.5918 │        56 │\n",
      "│ robinhood     │ Bitcoin  │ BTC     │  582523477327.2286 │        56 │\n",
      "│ binance-cex   │ Ethereum │ WETH    │ 529213631516.57263 │        56 │\n",
      "│ okx           │ Bitcoin  │ BTC     │   498018445035.645 │        56 │\n",
      "│ eigenlayer    │ Ethereum │ WETH    │  462715800120.5845 │        53 │\n",
      "├───────────────┴──────────┴─────────┴────────────────────┴───────────┤\n",
      "│ 10 rows                                                   5 columns │\n",
      "└─────────────────────────────────────────────────────────────────────┘\n",
      "\n"
     ]
    }
   ],
   "source": [
    "## EXAMPLE 1: Register remote parquet files as a view.\n",
    "\n",
    "duckdb_client = DefiLlama.PROTOCOLS_TOKEN_TVL.read(min_date=\"2024-10-01\")\n",
    "\n",
    "print(duckdb_client.sql(\"DESCRIBE protocols_token_tvl_v1\"))\n",
    "\n",
    "# An aggregation that runs on top of the remote data.\n",
    "# Takes ~5s to run, not to bad since we are only looking at dates starting 2024-10-01.\n",
    "print(duckdb_client.sql(\n",
    "\"\"\"\n",
    "SELECT \n",
    "    protocol_slug, \n",
    "    chain, \n",
    "    token, \n",
    "    sum(app_token_tvl_usd) AS tvl_usd, \n",
    "    count(distinct dt) AS num_dates\n",
    "FROM protocols_token_tvl_v1\n",
    "GROUP BY 1, 2, 3\n",
    "ORDER BY 4 DESC\n",
    "LIMIT 10\n",
    "\"\"\"))\n"
   ]
  },
  {
   "cell_type": "code",
   "execution_count": 3,
   "metadata": {},
   "outputs": [
    {
     "name": "stdout",
     "output_type": "stream",
     "text": [
      "\u001b[2m2024-11-26 17:34:45\u001b[0m [\u001b[32m\u001b[1minfo     \u001b[0m] \u001b[1mregistered view 'protocols_token_tvl_v1' using uri wildcard 'gs://oplabs-tools-data-sink/defillama/protocols_token_tvl_v1/dt=*/out.parquet'\u001b[0m \u001b[36mfilename\u001b[0m=\u001b[35mdataaccess.py\u001b[0m \u001b[36mlineno\u001b[0m=\u001b[35m220\u001b[0m\n",
      "┌────────────────────────┐\n",
      "│          name          │\n",
      "│        varchar         │\n",
      "├────────────────────────┤\n",
      "│ protocols_token_tvl_v1 │\n",
      "└────────────────────────┘\n",
      "\n",
      "\u001b[2m2024-11-26 17:34:45\u001b[0m [\u001b[32m\u001b[1minfo     \u001b[0m] \u001b[1mbegin dump copy to '/Users/pedro/github/ethereum-optimism/op-analytics-alt/parquet/defillama/protocols_token_tvl_v1__20241126T223445.parquet'\u001b[0m \u001b[36mfilename\u001b[0m=\u001b[35mdataaccess.py\u001b[0m \u001b[36mlineno\u001b[0m=\u001b[35m66\u001b[0m\n",
      "\u001b[2m2024-11-26 17:37:06\u001b[0m [\u001b[32m\u001b[1minfo     \u001b[0m] \u001b[1mdone dump copy to '/Users/pedro/github/ethereum-optimism/op-analytics-alt/parquet/defillama/protocols_token_tvl_v1__20241126T223445.parquet'\u001b[0m \u001b[36mfilename\u001b[0m=\u001b[35mdataaccess.py\u001b[0m \u001b[36mlineno\u001b[0m=\u001b[35m68\u001b[0m\n",
      "┌─────────────────────────────────────────┐\n",
      "│                  name                   │\n",
      "│                 varchar                 │\n",
      "├─────────────────────────────────────────┤\n",
      "│ protocols_token_tvl_v1                  │\n",
      "│ protocols_token_tvl_v1__20241126T223445 │\n",
      "└─────────────────────────────────────────┘\n",
      "\n"
     ]
    }
   ],
   "source": [
    "## EXAMPLE 2: Dump the entire dataset locally\n",
    "\n",
    "DefiLlama.PROTOCOLS_TOKEN_TVL.dump_local_copy()"
   ]
  },
  {
   "cell_type": "code",
   "execution_count": null,
   "metadata": {},
   "outputs": [
    {
     "name": "stdout",
     "output_type": "stream",
     "text": [
      "\u001b[2m2024-11-26 17:37:06\u001b[0m [\u001b[32m\u001b[1minfo     \u001b[0m] \u001b[1mload copy from '/Users/pedro/github/ethereum-optimism/op-analytics-alt/parquet/defillama/protocols_token_tvl_v1__20241126T220908.parquet'\u001b[0m \u001b[36mfilename\u001b[0m=\u001b[35mdataaccess.py\u001b[0m \u001b[36mlineno\u001b[0m=\u001b[35m88\u001b[0m\n",
      "┌─────────────────────────────────────────┐\n",
      "│                  name                   │\n",
      "│                 varchar                 │\n",
      "├─────────────────────────────────────────┤\n",
      "│ protocols_token_tvl_v1                  │\n",
      "│ protocols_token_tvl_v1__20241126T220908 │\n",
      "│ protocols_token_tvl_v1__20241126T223445 │\n",
      "└─────────────────────────────────────────┘\n",
      "\n"
     ]
    }
   ],
   "source": [
    "## EXAMPLE 2 (continuud)\n",
    "\n",
    "## Use the local copy directly by providing the exact fetch timestamp\n",
    "duckdb_client = DefiLlama.PROTOCOLS_TOKEN_TVL.load_local_copy(timestamp=\"20241126T220908\")\n"
   ]
  },
  {
   "cell_type": "code",
   "execution_count": 5,
   "metadata": {},
   "outputs": [
    {
     "name": "stdout",
     "output_type": "stream",
     "text": [
      "┌────────────┐\n",
      "│  min(dt)   │\n",
      "│    date    │\n",
      "├────────────┤\n",
      "│ 2018-04-27 │\n",
      "└────────────┘\n",
      "\n"
     ]
    }
   ],
   "source": [
    "print(duckdb_client.sql(\n",
    "\"\"\"\n",
    "SELECT \n",
    "    min(dt)\n",
    "FROM protocols_token_tvl_v1__20241126T220908\n",
    "\"\"\"))"
   ]
  },
  {
   "cell_type": "code",
   "execution_count": 6,
   "metadata": {},
   "outputs": [
    {
     "name": "stdout",
     "output_type": "stream",
     "text": [
      "┌───────────────┬──────────────────┬─────────┬────────────────────┬────────────────┬───────────┐\n",
      "│ protocol_slug │      chain       │  token  │    max_tvl_usd     │ max_tvl_usd_dt │ num_dates │\n",
      "│    varchar    │     varchar      │ varchar │       double       │      date      │   int64   │\n",
      "├───────────────┼──────────────────┼─────────┼────────────────────┼────────────────┼───────────┤\n",
      "│ hotbit        │ Tron             │ TRX     │     728037762725.0 │ 2024-01-31     │       614 │\n",
      "│ iron-finance  │ Polygon          │ TITAN   │ 244941123692.78592 │ 2021-06-16     │         4 │\n",
      "│ binance-cex   │ Bitcoin          │ BTC     │  58700225047.75569 │ 2024-11-22     │       744 │\n",
      "│ lido          │ Ethereum         │ WETH    │   40177918659.3112 │ 2024-03-12     │      1274 │\n",
      "│ sushiswap     │ Polygon          │ TITAN   │  35896427732.67128 │ 2021-06-17     │       301 │\n",
      "│ sushiswap     │ Harmony          │ RVRS    │  35486417432.64003 │ 2022-06-13     │       157 │\n",
      "│ hex           │ staking          │ HEX     │  30716276551.70574 │ 2021-09-19     │      1807 │\n",
      "│ hex           │ Ethereum-staking │ HEX     │  30716276551.70574 │ 2021-09-19     │      1807 │\n",
      "│ binance-cex   │ Binance          │ BNB     │  22683421133.96563 │ 2024-04-26     │       744 │\n",
      "│ binance-cex   │ Ethereum         │ BUSD    │  21797507655.87627 │ 2022-11-12     │       744 │\n",
      "├───────────────┴──────────────────┴─────────┴────────────────────┴────────────────┴───────────┤\n",
      "│ 10 rows                                                                            6 columns │\n",
      "└──────────────────────────────────────────────────────────────────────────────────────────────┘\n",
      "\n"
     ]
    }
   ],
   "source": [
    "# An aggregation that runs on top of the local copy.\n",
    "# Takes ~3s to run (this includes ALL dates since 2018-04-27)\n",
    "# Running this on the remote dataset would take longer.\n",
    "print(duckdb_client.sql(\n",
    "\"\"\"\n",
    "SELECT \n",
    "    protocol_slug, \n",
    "    chain, \n",
    "    token, \n",
    "    max(app_token_tvl_usd) AS max_tvl_usd, \n",
    "    arg_max(dt, app_token_tvl_usd) as max_tvl_usd_dt,\n",
    "    count(distinct dt) AS num_dates\n",
    "FROM protocols_token_tvl_v1__20241126T220908\n",
    "GROUP BY 1, 2, 3\n",
    "ORDER BY 4 DESC\n",
    "LIMIT 10\n",
    "\"\"\"))"
   ]
  },
  {
   "cell_type": "code",
   "execution_count": 7,
   "metadata": {},
   "outputs": [
    {
     "name": "stdout",
     "output_type": "stream",
     "text": [
      "\u001b[2m2024-11-26 17:37:09\u001b[0m [\u001b[32m\u001b[1minfo     \u001b[0m] \u001b[1mload copy from '/Users/pedro/github/ethereum-optimism/op-analytics-alt/parquet/defillama/protocols_token_tvl_v1__20241126T223445.parquet'\u001b[0m \u001b[36mfilename\u001b[0m=\u001b[35mdataaccess.py\u001b[0m \u001b[36mlineno\u001b[0m=\u001b[35m88\u001b[0m\n",
      "┌─────────────────────────────────────────┐\n",
      "│                  name                   │\n",
      "│                 varchar                 │\n",
      "├─────────────────────────────────────────┤\n",
      "│ protocols_token_tvl_v1                  │\n",
      "│ protocols_token_tvl_v1__20241126T220908 │\n",
      "│ protocols_token_tvl_v1__20241126T223445 │\n",
      "└─────────────────────────────────────────┘\n",
      "\n",
      "┌────────────┐\n",
      "│  min(dt)   │\n",
      "│    date    │\n",
      "├────────────┤\n",
      "│ 2018-04-27 │\n",
      "└────────────┘\n",
      "\n"
     ]
    }
   ],
   "source": [
    "## EXAMPLE 2 (continuud)\n",
    "\n",
    "## Don't provide a timestamp, gives you the latest fetched copy.\n",
    "duckdb_client = DefiLlama.PROTOCOLS_TOKEN_TVL.load_local_copy()\n",
    "\n",
    "print(duckdb_client.sql(\n",
    "\"\"\"\n",
    "SELECT \n",
    "    min(dt)\n",
    "FROM protocols_token_tvl_v1__20241126T220908\n",
    "\"\"\"))"
   ]
  },
  {
   "cell_type": "code",
   "execution_count": 8,
   "metadata": {},
   "outputs": [
    {
     "name": "stdout",
     "output_type": "stream",
     "text": [
      "\u001b[2m2024-11-26 17:37:09\u001b[0m [\u001b[32m\u001b[1minfo     \u001b[0m] \u001b[1mquerying markers for 'protocols_token_tvl_v1' DateFilter(min_date=datetime.date(2024, 6, 1), max_date=None, datevals=None)\u001b[0m \u001b[36mfilename\u001b[0m=\u001b[35mdataaccess.py\u001b[0m \u001b[36mlineno\u001b[0m=\u001b[35m194\u001b[0m\n",
      "\u001b[2m2024-11-26 17:37:09\u001b[0m [\u001b[32m\u001b[1minfo     \u001b[0m] \u001b[1m179 markers found             \u001b[0m \u001b[36mfilename\u001b[0m=\u001b[35mdataaccess.py\u001b[0m \u001b[36mlineno\u001b[0m=\u001b[35m208\u001b[0m\n",
      "\u001b[2m2024-11-26 17:37:10\u001b[0m [\u001b[32m\u001b[1minfo     \u001b[0m] \u001b[1mregistered view 'protocols_token_tvl_v1' using 179 parquet paths\u001b[0m \u001b[36mfilename\u001b[0m=\u001b[35mdataaccess.py\u001b[0m \u001b[36mlineno\u001b[0m=\u001b[35m220\u001b[0m\n",
      "┌─────────────────────────────────────────┐\n",
      "│                  name                   │\n",
      "│                 varchar                 │\n",
      "├─────────────────────────────────────────┤\n",
      "│ protocols_token_tvl_v1                  │\n",
      "│ protocols_token_tvl_v1__20241126T220908 │\n",
      "│ protocols_token_tvl_v1__20241126T223445 │\n",
      "└─────────────────────────────────────────┘\n",
      "\n",
      "\u001b[2m2024-11-26 17:37:10\u001b[0m [\u001b[32m\u001b[1minfo     \u001b[0m] \u001b[1mbegin dump copy to '/Users/pedro/github/ethereum-optimism/op-analytics-alt/parquet/defillama/protocols_token_tvl_v1__20241126T223710.parquet'\u001b[0m \u001b[36mfilename\u001b[0m=\u001b[35mdataaccess.py\u001b[0m \u001b[36mlineno\u001b[0m=\u001b[35m66\u001b[0m\n",
      "\u001b[2m2024-11-26 17:37:17\u001b[0m [\u001b[32m\u001b[1minfo     \u001b[0m] \u001b[1mdone dump copy to '/Users/pedro/github/ethereum-optimism/op-analytics-alt/parquet/defillama/protocols_token_tvl_v1__20241126T223710.parquet'\u001b[0m \u001b[36mfilename\u001b[0m=\u001b[35mdataaccess.py\u001b[0m \u001b[36mlineno\u001b[0m=\u001b[35m68\u001b[0m\n",
      "┌─────────────────────────────────────────┐\n",
      "│                  name                   │\n",
      "│                 varchar                 │\n",
      "├─────────────────────────────────────────┤\n",
      "│ protocols_token_tvl_v1                  │\n",
      "│ protocols_token_tvl_v1__20241126T220908 │\n",
      "│ protocols_token_tvl_v1__20241126T223445 │\n",
      "│ protocols_token_tvl_v1__20241126T223710 │\n",
      "└─────────────────────────────────────────┘\n",
      "\n"
     ]
    }
   ],
   "source": [
    "## EXAMPLE 3: Dump only a date range to a local parquet file\n",
    "\n",
    "DefiLlama.PROTOCOLS_TOKEN_TVL.dump_local_copy(min_date=\"2024-06-01\")"
   ]
  },
  {
   "cell_type": "code",
   "execution_count": 9,
   "metadata": {},
   "outputs": [
    {
     "name": "stdout",
     "output_type": "stream",
     "text": [
      "┌───────────────┬──────────────────┬─────────┬────────────────────┬────────────────┬───────────┐\n",
      "│ protocol_slug │      chain       │  token  │    max_tvl_usd     │ max_tvl_usd_dt │ num_dates │\n",
      "│    varchar    │     varchar      │ varchar │       double       │      date      │   int64   │\n",
      "├───────────────┼──────────────────┼─────────┼────────────────────┼────────────────┼───────────┤\n",
      "│ hotbit        │ Tron             │ TRX     │     728037762725.0 │ 2024-01-31     │       614 │\n",
      "│ iron-finance  │ Polygon          │ TITAN   │ 244941123692.78592 │ 2021-06-16     │         4 │\n",
      "│ binance-cex   │ Bitcoin          │ BTC     │  58700225047.75569 │ 2024-11-22     │       744 │\n",
      "│ lido          │ Ethereum         │ WETH    │   40177918659.3112 │ 2024-03-12     │      1274 │\n",
      "│ sushiswap     │ Polygon          │ TITAN   │  35896427732.67128 │ 2021-06-17     │       301 │\n",
      "│ sushiswap     │ Harmony          │ RVRS    │  35486417432.64003 │ 2022-06-13     │       157 │\n",
      "│ hex           │ staking          │ HEX     │  30716276551.70574 │ 2021-09-19     │      1807 │\n",
      "│ hex           │ Ethereum-staking │ HEX     │  30716276551.70574 │ 2021-09-19     │      1807 │\n",
      "│ binance-cex   │ Binance          │ BNB     │  22683421133.96563 │ 2024-04-26     │       744 │\n",
      "│ binance-cex   │ Ethereum         │ BUSD    │  21797507655.87627 │ 2022-11-12     │       744 │\n",
      "├───────────────┴──────────────────┴─────────┴────────────────────┴────────────────┴───────────┤\n",
      "│ 10 rows                                                                            6 columns │\n",
      "└──────────────────────────────────────────────────────────────────────────────────────────────┘\n",
      "\n"
     ]
    }
   ],
   "source": [
    "\n",
    "\n",
    "print(duckdb_client.sql(\n",
    "\"\"\"\n",
    "SELECT \n",
    "    protocol_slug, \n",
    "    chain, \n",
    "    token, \n",
    "    max(app_token_tvl_usd) AS max_tvl_usd, \n",
    "    arg_max(dt, app_token_tvl_usd) as max_tvl_usd_dt,\n",
    "    count(distinct dt) AS num_dates\n",
    "FROM protocols_token_tvl_v1__20241126T220908\n",
    "GROUP BY 1, 2, 3\n",
    "ORDER BY 4 DESC\n",
    "LIMIT 10\n",
    "\"\"\"))"
   ]
  }
 ],
 "metadata": {
  "kernelspec": {
   "display_name": ".venv",
   "language": "python",
   "name": "python3"
  },
  "language_info": {
   "codemirror_mode": {
    "name": "ipython",
    "version": 3
   },
   "file_extension": ".py",
   "mimetype": "text/x-python",
   "name": "python",
   "nbconvert_exporter": "python",
   "pygments_lexer": "ipython3",
   "version": "3.12.6"
  }
 },
 "nbformat": 4,
 "nbformat_minor": 2
}
