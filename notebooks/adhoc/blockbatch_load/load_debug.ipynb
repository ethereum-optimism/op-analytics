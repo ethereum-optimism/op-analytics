{
 "cells": [
  {
   "cell_type": "code",
   "execution_count": null,
   "metadata": {},
   "outputs": [
    {
     "name": "stdout",
     "output_type": "stream",
     "text": [
      "\u001b[2m2025-03-26 17:38:28\u001b[0m [\u001b[32m\u001b[1minfo     \u001b[0m] \u001b[1mCREATE TABLE blockbatch.aggregated_traces__traces_txgrain_v1\u001b[0m \u001b[36mfilename\u001b[0m=\u001b[35minsert.py\u001b[0m \u001b[36mlineno\u001b[0m=\u001b[35m64\u001b[0m \u001b[36mprocess\u001b[0m=\u001b[35m31995\u001b[0m\n",
      "\u001b[2m2025-03-26 17:38:29\u001b[0m [\u001b[32m\u001b[1minfo     \u001b[0m] \u001b[1mPrepared 2697 insert tasks.   \u001b[0m \u001b[36mfilename\u001b[0m=\u001b[35mmain.py\u001b[0m \u001b[36mlineno\u001b[0m=\u001b[35m159\u001b[0m \u001b[36mprocess\u001b[0m=\u001b[35m31995\u001b[0m\n",
      "\u001b[2m2025-03-26 17:38:30\u001b[0m [\u001b[32m\u001b[1minfo     \u001b[0m] \u001b[1mread 6.0Krows -> write 7rows (6.0Krows filtered out)\u001b[0m \u001b[36mblockbatch\u001b[0m=\u001b[35m'chain=swan/dt=2025-03-23/000004820000.parquet'\u001b[0m \u001b[36mcounter\u001b[0m=\u001b[35m003/2697\u001b[0m \u001b[36meta\u001b[0m=\u001b[35mNone\u001b[0m \u001b[36mfilename\u001b[0m=\u001b[35minsert.py\u001b[0m \u001b[36mlineno\u001b[0m=\u001b[35m188\u001b[0m \u001b[36mprocess\u001b[0m=\u001b[35m31995\u001b[0m\n",
      "\u001b[2m2025-03-26 17:38:30\u001b[0m [\u001b[32m\u001b[1minfo     \u001b[0m] \u001b[1mread 41.2Krows -> write 384rows (40.8Krows filtered out)\u001b[0m \u001b[36mblockbatch\u001b[0m=\u001b[35m'chain=lyra/dt=2025-03-23/000021374000.parquet'\u001b[0m \u001b[36mcounter\u001b[0m=\u001b[35m005/2697\u001b[0m \u001b[36meta\u001b[0m=\u001b[35mNone\u001b[0m \u001b[36mfilename\u001b[0m=\u001b[35minsert.py\u001b[0m \u001b[36mlineno\u001b[0m=\u001b[35m188\u001b[0m \u001b[36mprocess\u001b[0m=\u001b[35m31995\u001b[0m\n",
      "\u001b[2m2025-03-26 17:38:31\u001b[0m [\u001b[32m\u001b[1minfo     \u001b[0m] \u001b[1mread 39.4Krows -> write 7.2Krows (32.3Krows filtered out)\u001b[0m \u001b[36mblockbatch\u001b[0m=\u001b[35m'chain=mint/dt=2025-03-23/000013576000.parquet'\u001b[0m \u001b[36mcounter\u001b[0m=\u001b[35m006/2697\u001b[0m \u001b[36meta\u001b[0m=\u001b[35mNone\u001b[0m \u001b[36mfilename\u001b[0m=\u001b[35minsert.py\u001b[0m \u001b[36mlineno\u001b[0m=\u001b[35m188\u001b[0m \u001b[36mprocess\u001b[0m=\u001b[35m31995\u001b[0m\n",
      "\u001b[2m2025-03-26 17:38:31\u001b[0m [\u001b[32m\u001b[1minfo     \u001b[0m] \u001b[1mread 619.9Krows -> write 9.6Krows (610.3Krows filtered out)\u001b[0m \u001b[36mblockbatch\u001b[0m=\u001b[35m'chain=op/dt=2025-03-23/000133587200.parquet'\u001b[0m \u001b[36mcounter\u001b[0m=\u001b[35m004/2697\u001b[0m \u001b[36meta\u001b[0m=\u001b[35mNone\u001b[0m \u001b[36mfilename\u001b[0m=\u001b[35minsert.py\u001b[0m \u001b[36mlineno\u001b[0m=\u001b[35m188\u001b[0m \u001b[36mprocess\u001b[0m=\u001b[35m31995\u001b[0m\n",
      "\u001b[2m2025-03-26 17:38:31\u001b[0m [\u001b[32m\u001b[1minfo     \u001b[0m] \u001b[1mread 6.2Krows -> write 72rows (6.2Krows filtered out)\u001b[0m \u001b[36mblockbatch\u001b[0m=\u001b[35m'chain=swan/dt=2025-03-23/000004814000.parquet'\u001b[0m \u001b[36mcounter\u001b[0m=\u001b[35m008/2697\u001b[0m \u001b[36meta\u001b[0m=\u001b[35m26.8m\u001b[0m \u001b[36mfilename\u001b[0m=\u001b[35minsert.py\u001b[0m \u001b[36mlineno\u001b[0m=\u001b[35m188\u001b[0m \u001b[36mprocess\u001b[0m=\u001b[35m31995\u001b[0m\n",
      "\u001b[2m2025-03-26 17:38:32\u001b[0m [\u001b[32m\u001b[1minfo     \u001b[0m] \u001b[1mread 659.9Krows -> write 13.9Krows (646.0Krows filtered out)\u001b[0m \u001b[36mblockbatch\u001b[0m=\u001b[35m'chain=op/dt=2025-03-23/000133584000.parquet'\u001b[0m \u001b[36mcounter\u001b[0m=\u001b[35m007/2697\u001b[0m \u001b[36meta\u001b[0m=\u001b[35mNone\u001b[0m \u001b[36mfilename\u001b[0m=\u001b[35minsert.py\u001b[0m \u001b[36mlineno\u001b[0m=\u001b[35m188\u001b[0m \u001b[36mprocess\u001b[0m=\u001b[35m31995\u001b[0m\n",
      "\u001b[2m2025-03-26 17:38:32\u001b[0m [\u001b[32m\u001b[1minfo     \u001b[0m] \u001b[1mread 1.6Krows -> write 5rows (1.6Krows filtered out)\u001b[0m \u001b[36mblockbatch\u001b[0m=\u001b[35m'chain=redstone/dt=2025-03-23/000015248000.parquet'\u001b[0m \u001b[36mcounter\u001b[0m=\u001b[35m010/2697\u001b[0m \u001b[36meta\u001b[0m=\u001b[35m22.6m\u001b[0m \u001b[36mfilename\u001b[0m=\u001b[35minsert.py\u001b[0m \u001b[36mlineno\u001b[0m=\u001b[35m188\u001b[0m \u001b[36mprocess\u001b[0m=\u001b[35m31995\u001b[0m\n",
      "\u001b[2m2025-03-26 17:38:33\u001b[0m [\u001b[32m\u001b[1minfo     \u001b[0m] \u001b[1mread 35.3Krows -> write 2.1Krows (33.3Krows filtered out)\u001b[0m \u001b[36mblockbatch\u001b[0m=\u001b[35m'chain=lisk/dt=2025-03-23/000014008000.parquet'\u001b[0m \u001b[36mcounter\u001b[0m=\u001b[35m012/2697\u001b[0m \u001b[36meta\u001b[0m=\u001b[35m20.4m\u001b[0m \u001b[36mfilename\u001b[0m=\u001b[35minsert.py\u001b[0m \u001b[36mlineno\u001b[0m=\u001b[35m188\u001b[0m \u001b[36mprocess\u001b[0m=\u001b[35m31995\u001b[0m\n",
      "\u001b[2m2025-03-26 17:38:33\u001b[0m [\u001b[32m\u001b[1minfo     \u001b[0m] \u001b[1mread 1.3Mrows -> write 38.3Krows (1.3Mrows filtered out)\u001b[0m \u001b[36mblockbatch\u001b[0m=\u001b[35m'chain=base/dt=2025-03-23/000027980600.parquet'\u001b[0m \u001b[36mcounter\u001b[0m=\u001b[35m002/2697\u001b[0m \u001b[36meta\u001b[0m=\u001b[35mNone\u001b[0m \u001b[36mfilename\u001b[0m=\u001b[35minsert.py\u001b[0m \u001b[36mlineno\u001b[0m=\u001b[35m188\u001b[0m \u001b[36mprocess\u001b[0m=\u001b[35m31995\u001b[0m\n"
     ]
    }
   ],
   "source": [
    "from op_analytics.datapipeline.etl.blockbatchload.clickhouse.main import (\n",
    "    load_to_clickhouse,\n",
    "    GCSData,\n",
    ")\n",
    "\n",
    "\n",
    "datasets = [\n",
    "    #\n",
    "    GCSData(\n",
    "        input_root_paths=[\n",
    "            \"blockbatch/refined_traces/refined_transactions_fees_v1\",\n",
    "            \"blockbatch/refined_traces/refined_traces_fees_v1\",\n",
    "        ],\n",
    "        output_root_path=\"blockbatch/aggregated_traces/traces_trgrain_v1\",\n",
    "        enforce_row_count=False,\n",
    "    ),\n",
    "    #\n",
    "    GCSData(\n",
    "        input_root_paths=[\n",
    "            \"blockbatch/refined_traces/refined_transactions_fees_v1\",\n",
    "            \"blockbatch/refined_traces/refined_traces_fees_v1\",\n",
    "        ],\n",
    "        output_root_path=\"blockbatch/aggregated_traces/traces_txgrain_v1\",\n",
    "        enforce_row_count=False,\n",
    "    ),\n",
    "]\n",
    "\n",
    "result = load_to_clickhouse(\n",
    "    datasets=datasets[1:],\n",
    "    range_spec=\"@20250323:20250327\",\n",
    ")"
   ]
  },
  {
   "cell_type": "code",
   "execution_count": null,
   "metadata": {},
   "outputs": [],
   "source": []
  }
 ],
 "metadata": {
  "kernelspec": {
   "display_name": ".venv",
   "language": "python",
   "name": "python3"
  },
  "language_info": {
   "codemirror_mode": {
    "name": "ipython",
    "version": 3
   },
   "file_extension": ".py",
   "mimetype": "text/x-python",
   "name": "python",
   "nbconvert_exporter": "python",
   "pygments_lexer": "ipython3",
   "version": "3.12.6"
  }
 },
 "nbformat": 4,
 "nbformat_minor": 2
}
