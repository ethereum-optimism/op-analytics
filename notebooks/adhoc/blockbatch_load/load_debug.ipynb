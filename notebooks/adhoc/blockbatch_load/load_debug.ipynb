{
 "cells": [
  {
   "cell_type": "code",
   "execution_count": null,
   "metadata": {},
   "outputs": [
    {
     "name": "stdout",
     "output_type": "stream",
     "text": [
      "\u001b[2m2025-03-26 18:09:14\u001b[0m [\u001b[32m\u001b[1minfo     \u001b[0m] \u001b[1mCREATE TABLE blockbatch.aggregated_traces__traces_trgrain_v2\u001b[0m \u001b[36mfilename\u001b[0m=\u001b[35minsert.py\u001b[0m \u001b[36mlineno\u001b[0m=\u001b[35m64\u001b[0m \u001b[36mprocess\u001b[0m=\u001b[35m44131\u001b[0m\n",
      "\u001b[2m2025-03-26 18:09:14\u001b[0m [\u001b[32m\u001b[1mdebug    \u001b[0m] \u001b[1mconnecting to OPLABS Clickhouse client...\u001b[0m \u001b[36mfilename\u001b[0m=\u001b[35mclient.py\u001b[0m \u001b[36mlineno\u001b[0m=\u001b[35m56\u001b[0m \u001b[36mprocess\u001b[0m=\u001b[35m44131\u001b[0m\n",
      "\u001b[2m2025-03-26 18:09:14\u001b[0m [\u001b[32m\u001b[1minfo     \u001b[0m] \u001b[1mloaded vault from .env file   \u001b[0m \u001b[36mfilename\u001b[0m=\u001b[35mvault.py\u001b[0m \u001b[36mlineno\u001b[0m=\u001b[35m32\u001b[0m \u001b[36mprocess\u001b[0m=\u001b[35m44131\u001b[0m\n",
      "\u001b[2m2025-03-26 18:09:14\u001b[0m [\u001b[32m\u001b[1mdebug    \u001b[0m] \u001b[1mloaded vault: 20 items        \u001b[0m \u001b[36mfilename\u001b[0m=\u001b[35mvault.py\u001b[0m \u001b[36mlineno\u001b[0m=\u001b[35m79\u001b[0m \u001b[36mprocess\u001b[0m=\u001b[35m44131\u001b[0m\n",
      "\u001b[2m2025-03-26 18:09:15\u001b[0m [\u001b[32m\u001b[1mdebug    \u001b[0m] \u001b[1minitialized OPLABS Clickhouse client.\u001b[0m \u001b[36mfilename\u001b[0m=\u001b[35mclient.py\u001b[0m \u001b[36mlineno\u001b[0m=\u001b[35m61\u001b[0m \u001b[36mprocess\u001b[0m=\u001b[35m44131\u001b[0m\n",
      "\u001b[2m2025-03-26 18:09:15\u001b[0m [\u001b[32m\u001b[1minfo     \u001b[0m] \u001b[1mCREATE TABLE blockbatch.aggregated_traces__traces_txgrain_v2\u001b[0m \u001b[36mfilename\u001b[0m=\u001b[35minsert.py\u001b[0m \u001b[36mlineno\u001b[0m=\u001b[35m64\u001b[0m \u001b[36mprocess\u001b[0m=\u001b[35m44131\u001b[0m\n",
      "\u001b[2m2025-03-26 18:09:15\u001b[0m [\u001b[32m\u001b[1minfo     \u001b[0m] \u001b[1mPrepared 3271 insert tasks.   \u001b[0m \u001b[36mfilename\u001b[0m=\u001b[35mmain.py\u001b[0m \u001b[36mlineno\u001b[0m=\u001b[35m159\u001b[0m \u001b[36mprocess\u001b[0m=\u001b[35m44131\u001b[0m\n",
      "\u001b[2m2025-03-26 18:09:16\u001b[0m [\u001b[32m\u001b[1minfo     \u001b[0m] \u001b[1mread 27.0Krows -> write 354rows (26.6Krows filtered out)\u001b[0m \u001b[36mblockbatch\u001b[0m=\u001b[35m'chain=redstone/dt=2025-03-24/000015296000.parquet'\u001b[0m \u001b[36mcounter\u001b[0m=\u001b[35m002/1975\u001b[0m \u001b[36meta\u001b[0m=\u001b[35mNone\u001b[0m \u001b[36mfilename\u001b[0m=\u001b[35minsert.py\u001b[0m \u001b[36mlineno\u001b[0m=\u001b[35m188\u001b[0m \u001b[36mprocess\u001b[0m=\u001b[35m44131\u001b[0m\n",
      "\u001b[2m2025-03-26 18:09:17\u001b[0m [\u001b[32m\u001b[1minfo     \u001b[0m] \u001b[1mread 316.3Krows -> write 8.7Krows (307.6Krows filtered out)\u001b[0m \u001b[36mblockbatch\u001b[0m=\u001b[35m'chain=unichain/dt=2025-03-24/000012072000.parquet'\u001b[0m \u001b[36mcounter\u001b[0m=\u001b[35m001/1975\u001b[0m \u001b[36meta\u001b[0m=\u001b[35mNone\u001b[0m \u001b[36mfilename\u001b[0m=\u001b[35minsert.py\u001b[0m \u001b[36mlineno\u001b[0m=\u001b[35m188\u001b[0m \u001b[36mprocess\u001b[0m=\u001b[35m44131\u001b[0m\n",
      "\u001b[2m2025-03-26 18:09:17\u001b[0m [\u001b[32m\u001b[1minfo     \u001b[0m] \u001b[1mread 606.1Krows -> write 9.0Krows (597.1Krows filtered out)\u001b[0m \u001b[36mblockbatch\u001b[0m=\u001b[35m'chain=op/dt=2025-03-24/000133625600.parquet'\u001b[0m \u001b[36mcounter\u001b[0m=\u001b[35m003/1975\u001b[0m \u001b[36meta\u001b[0m=\u001b[35mNone\u001b[0m \u001b[36mfilename\u001b[0m=\u001b[35minsert.py\u001b[0m \u001b[36mlineno\u001b[0m=\u001b[35m188\u001b[0m \u001b[36mprocess\u001b[0m=\u001b[35m44131\u001b[0m\n",
      "\u001b[2m2025-03-26 18:09:18\u001b[0m [\u001b[32m\u001b[1minfo     \u001b[0m] \u001b[1mread 582.6Krows -> write 10.4Krows (572.2Krows filtered out)\u001b[0m \u001b[36mblockbatch\u001b[0m=\u001b[35m'chain=op/dt=2025-03-24/000133614000.parquet'\u001b[0m \u001b[36mcounter\u001b[0m=\u001b[35m006/1975\u001b[0m \u001b[36meta\u001b[0m=\u001b[35mNone\u001b[0m \u001b[36mfilename\u001b[0m=\u001b[35minsert.py\u001b[0m \u001b[36mlineno\u001b[0m=\u001b[35m188\u001b[0m \u001b[36mprocess\u001b[0m=\u001b[35m44131\u001b[0m\n",
      "\u001b[2m2025-03-26 18:09:18\u001b[0m [\u001b[32m\u001b[1minfo     \u001b[0m] \u001b[1mread 584.0Krows -> write 54.7Krows (529.4Krows filtered out)\u001b[0m \u001b[36mblockbatch\u001b[0m=\u001b[35m'chain=worldchain/dt=2025-03-24/000011720800.parquet'\u001b[0m \u001b[36mcounter\u001b[0m=\u001b[35m005/1975\u001b[0m \u001b[36meta\u001b[0m=\u001b[35mNone\u001b[0m \u001b[36mfilename\u001b[0m=\u001b[35minsert.py\u001b[0m \u001b[36mlineno\u001b[0m=\u001b[35m188\u001b[0m \u001b[36mprocess\u001b[0m=\u001b[35m44131\u001b[0m\n",
      "\u001b[2m2025-03-26 18:09:19\u001b[0m [\u001b[32m\u001b[1minfo     \u001b[0m] \u001b[1mread 51.5Krows -> write 0rows (51.5Krows filtered out)\u001b[0m \u001b[36mblockbatch\u001b[0m=\u001b[35m'chain=kroma/dt=2025-03-24/000024448000.parquet'\u001b[0m \u001b[36mcounter\u001b[0m=\u001b[35m009/1975\u001b[0m \u001b[36meta\u001b[0m=\u001b[35m24.0m\u001b[0m \u001b[36mfilename\u001b[0m=\u001b[35minsert.py\u001b[0m \u001b[36mlineno\u001b[0m=\u001b[35m188\u001b[0m \u001b[36mprocess\u001b[0m=\u001b[35m44131\u001b[0m\n",
      "\u001b[2m2025-03-26 18:09:19\u001b[0m [\u001b[32m\u001b[1minfo     \u001b[0m] \u001b[1mread 655.0Krows -> write 23.2Krows (631.7Krows filtered out)\u001b[0m \u001b[36mblockbatch\u001b[0m=\u001b[35m'chain=op/dt=2025-03-24/000133590400.parquet'\u001b[0m \u001b[36mcounter\u001b[0m=\u001b[35m007/1975\u001b[0m \u001b[36meta\u001b[0m=\u001b[35mNone\u001b[0m \u001b[36mfilename\u001b[0m=\u001b[35minsert.py\u001b[0m \u001b[36mlineno\u001b[0m=\u001b[35m188\u001b[0m \u001b[36mprocess\u001b[0m=\u001b[35m44131\u001b[0m\n",
      "\u001b[2m2025-03-26 18:09:20\u001b[0m [\u001b[32m\u001b[1minfo     \u001b[0m] \u001b[1mread 1.4Mrows -> write 73.4Krows (1.3Mrows filtered out)\u001b[0m \u001b[36mblockbatch\u001b[0m=\u001b[35m'chain=base/dt=2025-03-24/000027999200.parquet'\u001b[0m \u001b[36mcounter\u001b[0m=\u001b[35m004/1975\u001b[0m \u001b[36meta\u001b[0m=\u001b[35mNone\u001b[0m \u001b[36mfilename\u001b[0m=\u001b[35minsert.py\u001b[0m \u001b[36mlineno\u001b[0m=\u001b[35m188\u001b[0m \u001b[36mprocess\u001b[0m=\u001b[35m44131\u001b[0m\n",
      "\u001b[2m2025-03-26 18:09:20\u001b[0m [\u001b[32m\u001b[1minfo     \u001b[0m] \u001b[1mread 55.5Krows -> write 5.5Krows (50.0Krows filtered out)\u001b[0m \u001b[36mblockbatch\u001b[0m=\u001b[35m'chain=zora/dt=2025-03-24/000028064000.parquet'\u001b[0m \u001b[36mcounter\u001b[0m=\u001b[35m011/1975\u001b[0m \u001b[36meta\u001b[0m=\u001b[35m20.5m\u001b[0m \u001b[36mfilename\u001b[0m=\u001b[35minsert.py\u001b[0m \u001b[36mlineno\u001b[0m=\u001b[35m188\u001b[0m \u001b[36mprocess\u001b[0m=\u001b[35m44131\u001b[0m\n",
      "\u001b[2m2025-03-26 18:09:20\u001b[0m [\u001b[32m\u001b[1minfo     \u001b[0m] \u001b[1mread 24Krows -> write 2rows (24.0Krows filtered out)\u001b[0m \u001b[36mblockbatch\u001b[0m=\u001b[35m'chain=xterio/dt=2025-03-24/000013152000.parquet'\u001b[0m \u001b[36mcounter\u001b[0m=\u001b[35m012/1975\u001b[0m \u001b[36meta\u001b[0m=\u001b[35m19.9m\u001b[0m \u001b[36mfilename\u001b[0m=\u001b[35minsert.py\u001b[0m \u001b[36mlineno\u001b[0m=\u001b[35m188\u001b[0m \u001b[36mprocess\u001b[0m=\u001b[35m44131\u001b[0m\n",
      "\u001b[2m2025-03-26 18:09:21\u001b[0m [\u001b[32m\u001b[1minfo     \u001b[0m] \u001b[1mread 14.5Krows -> write 37rows (14.4Krows filtered out)\u001b[0m \u001b[36mblockbatch\u001b[0m=\u001b[35m'chain=automata/dt=2025-03-24/000010792000.parquet'\u001b[0m \u001b[36mcounter\u001b[0m=\u001b[35m015/1975\u001b[0m \u001b[36meta\u001b[0m=\u001b[35m16.1m\u001b[0m \u001b[36mfilename\u001b[0m=\u001b[35minsert.py\u001b[0m \u001b[36mlineno\u001b[0m=\u001b[35m188\u001b[0m \u001b[36mprocess\u001b[0m=\u001b[35m44131\u001b[0m\n",
      "\u001b[2m2025-03-26 18:09:21\u001b[0m [\u001b[32m\u001b[1minfo     \u001b[0m] \u001b[1mread 215.7Krows -> write 286rows (215.4Krows filtered out)\u001b[0m \u001b[36mblockbatch\u001b[0m=\u001b[35m'chain=shape/dt=2025-03-24/000010536000.parquet'\u001b[0m \u001b[36mcounter\u001b[0m=\u001b[35m013/1975\u001b[0m \u001b[36meta\u001b[0m=\u001b[35m20.1m\u001b[0m \u001b[36mfilename\u001b[0m=\u001b[35minsert.py\u001b[0m \u001b[36mlineno\u001b[0m=\u001b[35m188\u001b[0m \u001b[36mprocess\u001b[0m=\u001b[35m44131\u001b[0m\n",
      "\u001b[2m2025-03-26 18:09:22\u001b[0m [\u001b[32m\u001b[1minfo     \u001b[0m] \u001b[1mread 1.3Mrows -> write 85.4Krows (1.2Mrows filtered out)\u001b[0m \u001b[36mblockbatch\u001b[0m=\u001b[35m'chain=base/dt=2025-03-24/000028006600.parquet'\u001b[0m \u001b[36mcounter\u001b[0m=\u001b[35m008/1975\u001b[0m \u001b[36meta\u001b[0m=\u001b[35m20.3m\u001b[0m \u001b[36mfilename\u001b[0m=\u001b[35minsert.py\u001b[0m \u001b[36mlineno\u001b[0m=\u001b[35m188\u001b[0m \u001b[36mprocess\u001b[0m=\u001b[35m44131\u001b[0m\n",
      "\u001b[2m2025-03-26 18:09:22\u001b[0m [\u001b[32m\u001b[1minfo     \u001b[0m] \u001b[1mread 591.5Krows -> write 14.4Krows (577.1Krows filtered out)\u001b[0m \u001b[36mblockbatch\u001b[0m=\u001b[35m'chain=op/dt=2025-03-24/000133596800.parquet'\u001b[0m \u001b[36mcounter\u001b[0m=\u001b[35m014/1975\u001b[0m \u001b[36meta\u001b[0m=\u001b[35m17.9m\u001b[0m \u001b[36mfilename\u001b[0m=\u001b[35minsert.py\u001b[0m \u001b[36mlineno\u001b[0m=\u001b[35m188\u001b[0m \u001b[36mprocess\u001b[0m=\u001b[35m44131\u001b[0m\n",
      "\u001b[2m2025-03-26 18:09:23\u001b[0m [\u001b[32m\u001b[1minfo     \u001b[0m] \u001b[1mread 269.9Krows -> write 15.4Krows (254.5Krows filtered out)\u001b[0m \u001b[36mblockbatch\u001b[0m=\u001b[35m'chain=unichain/dt=2025-03-24/000012088000.parquet'\u001b[0m \u001b[36mcounter\u001b[0m=\u001b[35m016/1975\u001b[0m \u001b[36meta\u001b[0m=\u001b[35m16.5m\u001b[0m \u001b[36mfilename\u001b[0m=\u001b[35minsert.py\u001b[0m \u001b[36mlineno\u001b[0m=\u001b[35m188\u001b[0m \u001b[36mprocess\u001b[0m=\u001b[35m44131\u001b[0m\n",
      "\u001b[2m2025-03-26 18:09:23\u001b[0m [\u001b[32m\u001b[1minfo     \u001b[0m] \u001b[1mread 614.9Krows -> write 7.1Krows (607.8Krows filtered out)\u001b[0m \u001b[36mblockbatch\u001b[0m=\u001b[35m'chain=op/dt=2025-03-24/000133589200.parquet'\u001b[0m \u001b[36mcounter\u001b[0m=\u001b[35m017/1975\u001b[0m \u001b[36meta\u001b[0m=\u001b[35m16.6m\u001b[0m \u001b[36mfilename\u001b[0m=\u001b[35minsert.py\u001b[0m \u001b[36mlineno\u001b[0m=\u001b[35m188\u001b[0m \u001b[36mprocess\u001b[0m=\u001b[35m44131\u001b[0m\n",
      "\u001b[2m2025-03-26 18:09:23\u001b[0m [\u001b[32m\u001b[1minfo     \u001b[0m] \u001b[1mread 1.3Mrows -> write 81.7Krows (1.2Mrows filtered out)\u001b[0m \u001b[36mblockbatch\u001b[0m=\u001b[35m'chain=base/dt=2025-03-24/000028024200.parquet'\u001b[0m \u001b[36mcounter\u001b[0m=\u001b[35m010/1975\u001b[0m \u001b[36meta\u001b[0m=\u001b[35m20.3m\u001b[0m \u001b[36mfilename\u001b[0m=\u001b[35minsert.py\u001b[0m \u001b[36mlineno\u001b[0m=\u001b[35m188\u001b[0m \u001b[36mprocess\u001b[0m=\u001b[35m44131\u001b[0m\n",
      "\u001b[2m2025-03-26 18:09:24\u001b[0m [\u001b[32m\u001b[1minfo     \u001b[0m] \u001b[1mread 6.0Krows -> write 14rows (6.0Krows filtered out)\u001b[0m \u001b[36mblockbatch\u001b[0m=\u001b[35m'chain=swan/dt=2025-03-24/000004842000.parquet'\u001b[0m \u001b[36mcounter\u001b[0m=\u001b[35m022/1975\u001b[0m \u001b[36meta\u001b[0m=\u001b[35m15.7m\u001b[0m \u001b[36mfilename\u001b[0m=\u001b[35minsert.py\u001b[0m \u001b[36mlineno\u001b[0m=\u001b[35m188\u001b[0m \u001b[36mprocess\u001b[0m=\u001b[35m44131\u001b[0m\n",
      "\u001b[2m2025-03-26 18:09:25\u001b[0m [\u001b[32m\u001b[1minfo     \u001b[0m] \u001b[1mread 24.2Krows -> write 52rows (24.1Krows filtered out)\u001b[0m \u001b[36mblockbatch\u001b[0m=\u001b[35m'chain=race/dt=2025-03-24/000011208000.parquet'\u001b[0m \u001b[36mcounter\u001b[0m=\u001b[35m023/1975\u001b[0m \u001b[36meta\u001b[0m=\u001b[35m16.2m\u001b[0m \u001b[36mfilename\u001b[0m=\u001b[35minsert.py\u001b[0m \u001b[36mlineno\u001b[0m=\u001b[35m188\u001b[0m \u001b[36mprocess\u001b[0m=\u001b[35m44131\u001b[0m\n",
      "\u001b[2m2025-03-26 18:09:25\u001b[0m [\u001b[32m\u001b[1minfo     \u001b[0m] \u001b[1mread 474.3Krows -> write 30.7Krows (443.5Krows filtered out)\u001b[0m \u001b[36mblockbatch\u001b[0m=\u001b[35m'chain=worldchain/dt=2025-03-24/000011737200.parquet'\u001b[0m \u001b[36mcounter\u001b[0m=\u001b[35m021/1975\u001b[0m \u001b[36meta\u001b[0m=\u001b[35m16.0m\u001b[0m \u001b[36mfilename\u001b[0m=\u001b[35minsert.py\u001b[0m \u001b[36mlineno\u001b[0m=\u001b[35m188\u001b[0m \u001b[36mprocess\u001b[0m=\u001b[35m44131\u001b[0m\n",
      "\u001b[2m2025-03-26 18:09:26\u001b[0m [\u001b[32m\u001b[1minfo     \u001b[0m] \u001b[1mread 72.9Krows -> write 455rows (72.5Krows filtered out)\u001b[0m \u001b[36mblockbatch\u001b[0m=\u001b[35m'chain=redstone/dt=2025-03-24/000015312000.parquet'\u001b[0m \u001b[36mcounter\u001b[0m=\u001b[35m024/1975\u001b[0m \u001b[36meta\u001b[0m=\u001b[35m16.5m\u001b[0m \u001b[36mfilename\u001b[0m=\u001b[35minsert.py\u001b[0m \u001b[36mlineno\u001b[0m=\u001b[35m188\u001b[0m \u001b[36mprocess\u001b[0m=\u001b[35m44131\u001b[0m\n",
      "\u001b[2m2025-03-26 18:09:26\u001b[0m [\u001b[32m\u001b[1minfo     \u001b[0m] \u001b[1mread 1.4Mrows -> write 34.5Krows (1.3Mrows filtered out)\u001b[0m \u001b[36mblockbatch\u001b[0m=\u001b[35m'chain=base/dt=2025-03-24/000028003000.parquet'\u001b[0m \u001b[36mcounter\u001b[0m=\u001b[35m020/1975\u001b[0m \u001b[36meta\u001b[0m=\u001b[35m16.1m\u001b[0m \u001b[36mfilename\u001b[0m=\u001b[35minsert.py\u001b[0m \u001b[36mlineno\u001b[0m=\u001b[35m188\u001b[0m \u001b[36mprocess\u001b[0m=\u001b[35m44131\u001b[0m\n",
      "\u001b[2m2025-03-26 18:09:27\u001b[0m [\u001b[32m\u001b[1minfo     \u001b[0m] \u001b[1mread 113.7Krows -> write 556rows (113.2Krows filtered out)\u001b[0m \u001b[36mblockbatch\u001b[0m=\u001b[35m'chain=mode/dt=2025-03-24/000021346000.parquet'\u001b[0m \u001b[36mcounter\u001b[0m=\u001b[35m025/1975\u001b[0m \u001b[36meta\u001b[0m=\u001b[35m16.7m\u001b[0m \u001b[36mfilename\u001b[0m=\u001b[35minsert.py\u001b[0m \u001b[36mlineno\u001b[0m=\u001b[35m188\u001b[0m \u001b[36mprocess\u001b[0m=\u001b[35m44131\u001b[0m\n",
      "\u001b[2m2025-03-26 18:09:27\u001b[0m [\u001b[32m\u001b[1minfo     \u001b[0m] \u001b[1mread 59.5Krows -> write 726rows (58.8Krows filtered out)\u001b[0m \u001b[36mblockbatch\u001b[0m=\u001b[35m'chain=lyra/dt=2025-03-24/000021386000.parquet'\u001b[0m \u001b[36mcounter\u001b[0m=\u001b[35m027/1975\u001b[0m \u001b[36meta\u001b[0m=\u001b[35m16.4m\u001b[0m \u001b[36mfilename\u001b[0m=\u001b[35minsert.py\u001b[0m \u001b[36mlineno\u001b[0m=\u001b[35m188\u001b[0m \u001b[36mprocess\u001b[0m=\u001b[35m44131\u001b[0m\n",
      "\u001b[2m2025-03-26 18:09:27\u001b[0m [\u001b[32m\u001b[1minfo     \u001b[0m] \u001b[1mread 1.4Mrows -> write 61.2Krows (1.3Mrows filtered out)\u001b[0m \u001b[36mblockbatch\u001b[0m=\u001b[35m'chain=base/dt=2025-03-24/000028028600.parquet'\u001b[0m \u001b[36mcounter\u001b[0m=\u001b[35m019/1975\u001b[0m \u001b[36meta\u001b[0m=\u001b[35m16.4m\u001b[0m \u001b[36mfilename\u001b[0m=\u001b[35minsert.py\u001b[0m \u001b[36mlineno\u001b[0m=\u001b[35m188\u001b[0m \u001b[36mprocess\u001b[0m=\u001b[35m44131\u001b[0m\n",
      "\u001b[2m2025-03-26 18:09:27\u001b[0m [\u001b[32m\u001b[1minfo     \u001b[0m] \u001b[1mread 1.3Mrows -> write 78.2Krows (1.2Mrows filtered out)\u001b[0m \u001b[36mblockbatch\u001b[0m=\u001b[35m'chain=base/dt=2025-03-24/000028014600.parquet'\u001b[0m \u001b[36mcounter\u001b[0m=\u001b[35m018/1975\u001b[0m \u001b[36meta\u001b[0m=\u001b[35m17.5m\u001b[0m \u001b[36mfilename\u001b[0m=\u001b[35minsert.py\u001b[0m \u001b[36mlineno\u001b[0m=\u001b[35m188\u001b[0m \u001b[36mprocess\u001b[0m=\u001b[35m44131\u001b[0m\n",
      "\u001b[2m2025-03-26 18:09:28\u001b[0m [\u001b[32m\u001b[1minfo     \u001b[0m] \u001b[1mread 58.1Krows -> write 735rows (57.4Krows filtered out)\u001b[0m \u001b[36mblockbatch\u001b[0m=\u001b[35m'chain=lyra/dt=2025-03-24/000021417000.parquet'\u001b[0m \u001b[36mcounter\u001b[0m=\u001b[35m029/1975\u001b[0m \u001b[36meta\u001b[0m=\u001b[35m16.2m\u001b[0m \u001b[36mfilename\u001b[0m=\u001b[35minsert.py\u001b[0m \u001b[36mlineno\u001b[0m=\u001b[35m188\u001b[0m \u001b[36mprocess\u001b[0m=\u001b[35m44131\u001b[0m\n",
      "\u001b[2m2025-03-26 18:09:28\u001b[0m [\u001b[32m\u001b[1minfo     \u001b[0m] \u001b[1mread 415.0Krows -> write 58.0Krows (356.9Krows filtered out)\u001b[0m \u001b[36mblockbatch\u001b[0m=\u001b[35m'chain=worldchain/dt=2025-03-24/000011760000.parquet'\u001b[0m \u001b[36mcounter\u001b[0m=\u001b[35m026/1975\u001b[0m \u001b[36meta\u001b[0m=\u001b[35m16.5m\u001b[0m \u001b[36mfilename\u001b[0m=\u001b[35minsert.py\u001b[0m \u001b[36mlineno\u001b[0m=\u001b[35m188\u001b[0m \u001b[36mprocess\u001b[0m=\u001b[35m44131\u001b[0m\n",
      "\u001b[2m2025-03-26 18:09:30\u001b[0m [\u001b[32m\u001b[1minfo     \u001b[0m] \u001b[1mread 53.4Krows -> write 4.7Krows (48.7Krows filtered out)\u001b[0m \u001b[36mblockbatch\u001b[0m=\u001b[35m'chain=zora/dt=2025-03-24/000028072000.parquet'\u001b[0m \u001b[36mcounter\u001b[0m=\u001b[35m033/1975\u001b[0m \u001b[36meta\u001b[0m=\u001b[35m15.3m\u001b[0m \u001b[36mfilename\u001b[0m=\u001b[35minsert.py\u001b[0m \u001b[36mlineno\u001b[0m=\u001b[35m188\u001b[0m \u001b[36mprocess\u001b[0m=\u001b[35m44131\u001b[0m\n"
     ]
    }
   ],
   "source": [
    "from op_analytics.datapipeline.etl.blockbatchload.clickhouse.main import (\n",
    "    load_to_clickhouse,\n",
    "    GCSData,\n",
    ")\n",
    "\n",
    "\n",
    "datasets = [\n",
    "    #\n",
    "    GCSData(\n",
    "        input_root_paths=[\n",
    "            \"blockbatch/refined_traces/refined_transactions_fees_v1\",\n",
    "            \"blockbatch/refined_traces/refined_traces_fees_v1\",\n",
    "        ],\n",
    "        output_root_path=\"blockbatch/aggregated_traces/traces_trgrain_v2\",\n",
    "        enforce_row_count=False,\n",
    "    ),\n",
    "    #\n",
    "    GCSData(\n",
    "        input_root_paths=[\n",
    "            \"blockbatch/refined_traces/refined_transactions_fees_v1\",\n",
    "            \"blockbatch/refined_traces/refined_traces_fees_v1\",\n",
    "        ],\n",
    "        output_root_path=\"blockbatch/aggregated_traces/traces_txgrain_v2\",\n",
    "        enforce_row_count=False,\n",
    "    ),\n",
    "]\n",
    "\n",
    "result = load_to_clickhouse(\n",
    "    datasets=datasets,\n",
    "    range_spec=\"@20250323:20250327\",\n",
    ")"
   ]
  },
  {
   "cell_type": "code",
   "execution_count": null,
   "metadata": {},
   "outputs": [],
   "source": []
  }
 ],
 "metadata": {
  "kernelspec": {
   "display_name": ".venv",
   "language": "python",
   "name": "python3"
  },
  "language_info": {
   "codemirror_mode": {
    "name": "ipython",
    "version": 3
   },
   "file_extension": ".py",
   "mimetype": "text/x-python",
   "name": "python",
   "nbconvert_exporter": "python",
   "pygments_lexer": "ipython3",
   "version": "3.12.6"
  }
 },
 "nbformat": 4,
 "nbformat_minor": 2
}
