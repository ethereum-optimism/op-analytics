{
 "cells": [
  {
   "cell_type": "code",
   "execution_count": null,
   "metadata": {},
   "outputs": [],
   "source": [
    "from op_analytics.coreutils.partitioned.dailydatawrite import write_to_prod\n",
    "from op_analytics.datasources.agora.public_gcs_bucket import execute_pull\n",
    "\n",
    "\n",
    "# Write to local path (ozone/warehouse):\n",
    "execute_pull()\n",
    "\n",
    "\n",
    "# Once everything is working, write to PROD:\n",
    "# with write_to_prod():\n",
    "#     execute_pull()"
   ]
  }
 ],
 "metadata": {
  "kernelspec": {
   "display_name": ".venv",
   "language": "python",
   "name": "python3"
  },
  "language_info": {
   "codemirror_mode": {
    "name": "ipython",
    "version": 3
   },
   "file_extension": ".py",
   "mimetype": "text/x-python",
   "name": "python",
   "nbconvert_exporter": "python",
   "pygments_lexer": "ipython3",
   "version": "3.12.6"
  }
 },
 "nbformat": 4,
 "nbformat_minor": 2
}
