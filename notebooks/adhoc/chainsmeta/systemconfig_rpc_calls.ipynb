{
 "cells": [
  {
   "cell_type": "code",
   "execution_count": 2,
   "metadata": {},
   "outputs": [
    {
     "name": "stdout",
     "output_type": "stream",
     "text": [
      "\u001b[2m2025-05-23 18:00:50\u001b[0m [\u001b[32m\u001b[1minfo     \u001b[0m] \u001b[1mloaded vault from .env file   \u001b[0m \u001b[36mfilename\u001b[0m=\u001b[35mvault.py\u001b[0m \u001b[36mlineno\u001b[0m=\u001b[35m32\u001b[0m \u001b[36mprocess\u001b[0m=\u001b[35m61751\u001b[0m\n",
      "\u001b[2m2025-05-23 18:00:50\u001b[0m [\u001b[32m\u001b[1mdebug    \u001b[0m] \u001b[1mloaded vault: 28 items        \u001b[0m \u001b[36mfilename\u001b[0m=\u001b[35mvault.py\u001b[0m \u001b[36mlineno\u001b[0m=\u001b[35m79\u001b[0m \u001b[36mprocess\u001b[0m=\u001b[35m61751\u001b[0m\n",
      "\u001b[2m2025-05-23 18:00:50\u001b[0m [\u001b[32m\u001b[1mdebug    \u001b[0m] \u001b[1mFound vault variable GOOGLE_SERVICE_ACCOUNT (has JSON key)\u001b[0m \u001b[36mfilename\u001b[0m=\u001b[35mgcpauth.py\u001b[0m \u001b[36mlineno\u001b[0m=\u001b[35m18\u001b[0m \u001b[36mprocess\u001b[0m=\u001b[35m61751\u001b[0m\n",
      "\u001b[2m2025-05-23 18:00:51\u001b[0m [\u001b[32m\u001b[1minfo     \u001b[0m] \u001b[1mLoaded OP chains metadata from /Users/chuxinhuang/work/op-analytics/op_chains_tracking/inputs/chain_metadata_raw.csv\u001b[0m \u001b[36mfilename\u001b[0m=\u001b[35mload.py\u001b[0m \u001b[36mlineno\u001b[0m=\u001b[35m85\u001b[0m \u001b[36mprocess\u001b[0m=\u001b[35m61751\u001b[0m\n",
      "\u001b[2m2025-05-23 18:00:51\u001b[0m [\u001b[32m\u001b[1minfo     \u001b[0m] \u001b[1m[REPO vs. GSHEETS] ERROR: Chain Metadata is different\u001b[0m \u001b[36mfilename\u001b[0m=\u001b[35mload.py\u001b[0m \u001b[36mlineno\u001b[0m=\u001b[35m97\u001b[0m \u001b[36mprocess\u001b[0m=\u001b[35m61751\u001b[0m\n"
     ]
    }
   ],
   "source": [
    "from op_analytics.datapipeline.chains.load import load_chain_metadata\n",
    "df = load_chain_metadata()\n"
   ]
  },
  {
   "cell_type": "code",
   "execution_count": 3,
   "metadata": {},
   "outputs": [
    {
     "data": {
      "text/html": [
       "<div><style>\n",
       ".dataframe > thead > tr,\n",
       ".dataframe > tbody > tr {\n",
       "  text-align: right;\n",
       "  white-space: pre-wrap;\n",
       "}\n",
       "</style>\n",
       "<small>shape: (28, 4)</small><table border=\"1\" class=\"dataframe\"><thead><tr><th>chain</th><th>chain_id</th><th>rpc_url</th><th>system_config_proxy</th></tr><tr><td>str</td><td>i64</td><td>str</td><td>str</td></tr></thead><tbody><tr><td>&quot;zora&quot;</td><td>7777777</td><td>&quot;https://rpc.zora.energy/&quot;</td><td>&quot;0xA3cAB0126d5F504B071b81a3e8A2…</td></tr><tr><td>&quot;base&quot;</td><td>8453</td><td>&quot;https://mainnet.base.org/&quot;</td><td>&quot;0x73a79Fab69143498Ed3712e519A8…</td></tr><tr><td>&quot;mode&quot;</td><td>34443</td><td>&quot;https://mainnet.mode.network&quot;</td><td>&quot;0x5e6432F18Bc5d497B1Ab2288a025…</td></tr><tr><td>&quot;lisk&quot;</td><td>1135</td><td>&quot;https://rpc.api.lisk.com&quot;</td><td>&quot;0x05f23282FFDCA8286E4738C1aF79…</td></tr><tr><td>&quot;metal&quot;</td><td>1750</td><td>&quot;https://rpc.metall2.com/&quot;</td><td>&quot;0x7BD909970B0EEdcF078De6Aeff23…</td></tr><tr><td>&hellip;</td><td>&hellip;</td><td>&hellip;</td><td>&hellip;</td></tr><tr><td>&quot;ethernity&quot;</td><td>183</td><td>&quot;https://mainnet.ethernitychain…</td><td>&quot;0x20c3035C92bdB4C461242571EeAc…</td></tr><tr><td>&quot;superseed&quot;</td><td>5330</td><td>&quot;https://mainnet.superseed.xyz&quot;</td><td>&quot;0x525a2744134805516a45B8abb6Aa…</td></tr><tr><td>&quot;unichain&quot;</td><td>130</td><td>&quot;https://mainnet.unichain.org&quot;</td><td>&quot;0xc407398d063f942feBbcC6F80a15…</td></tr><tr><td>&quot;ink&quot;</td><td>57073</td><td>&quot;https://rpc-gel.inkonchain.com&quot;</td><td>&quot;0x62C0a111929fA32ceC2F76aDba54…</td></tr><tr><td>&quot;swell&quot;</td><td>1923</td><td>&quot;https://swell-mainnet.alt.tech…</td><td>&quot;0xD3d4c6B703978a5d24FecF3a70a5…</td></tr></tbody></table></div>"
      ],
      "text/plain": [
       "shape: (28, 4)\n",
       "┌───────────┬──────────┬─────────────────────────────────┬─────────────────────────────────┐\n",
       "│ chain     ┆ chain_id ┆ rpc_url                         ┆ system_config_proxy             │\n",
       "│ ---       ┆ ---      ┆ ---                             ┆ ---                             │\n",
       "│ str       ┆ i64      ┆ str                             ┆ str                             │\n",
       "╞═══════════╪══════════╪═════════════════════════════════╪═════════════════════════════════╡\n",
       "│ zora      ┆ 7777777  ┆ https://rpc.zora.energy/        ┆ 0xA3cAB0126d5F504B071b81a3e8A2… │\n",
       "│ base      ┆ 8453     ┆ https://mainnet.base.org/       ┆ 0x73a79Fab69143498Ed3712e519A8… │\n",
       "│ mode      ┆ 34443    ┆ https://mainnet.mode.network    ┆ 0x5e6432F18Bc5d497B1Ab2288a025… │\n",
       "│ lisk      ┆ 1135     ┆ https://rpc.api.lisk.com        ┆ 0x05f23282FFDCA8286E4738C1aF79… │\n",
       "│ metal     ┆ 1750     ┆ https://rpc.metall2.com/        ┆ 0x7BD909970B0EEdcF078De6Aeff23… │\n",
       "│ …         ┆ …        ┆ …                               ┆ …                               │\n",
       "│ ethernity ┆ 183      ┆ https://mainnet.ethernitychain… ┆ 0x20c3035C92bdB4C461242571EeAc… │\n",
       "│ superseed ┆ 5330     ┆ https://mainnet.superseed.xyz   ┆ 0x525a2744134805516a45B8abb6Aa… │\n",
       "│ unichain  ┆ 130      ┆ https://mainnet.unichain.org    ┆ 0xc407398d063f942feBbcC6F80a15… │\n",
       "│ ink       ┆ 57073    ┆ https://rpc-gel.inkonchain.com  ┆ 0x62C0a111929fA32ceC2F76aDba54… │\n",
       "│ swell     ┆ 1923     ┆ https://swell-mainnet.alt.tech… ┆ 0xD3d4c6B703978a5d24FecF3a70a5… │\n",
       "└───────────┴──────────┴─────────────────────────────────┴─────────────────────────────────┘"
      ]
     },
     "execution_count": 3,
     "metadata": {},
     "output_type": "execute_result"
    }
   ],
   "source": [
    "import polars as pl\n",
    "\n",
    "df.filter(pl.col(\"oplabs_db_schema\").is_not_null() & pl.col(\"system_config_proxy\").is_not_null()).select(\n",
    "    pl.col(\"oplabs_db_schema\").alias(\"chain\"),\n",
    "    pl.col(\"mainnet_chain_id\").alias(\"chain_id\"),\n",
    "    pl.col(\"rpc_url\"),\n",
    "    pl.col(\"system_config_proxy\")\n",
    ")"
   ]
  }
 ],
 "metadata": {
  "kernelspec": {
   "display_name": ".venv",
   "language": "python",
   "name": "python3"
  },
  "language_info": {
   "codemirror_mode": {
    "name": "ipython",
    "version": 3
   },
   "file_extension": ".py",
   "mimetype": "text/x-python",
   "name": "python",
   "nbconvert_exporter": "python",
   "pygments_lexer": "ipython3",
   "version": "3.12.3"
  }
 },
 "nbformat": 4,
 "nbformat_minor": 2
}
