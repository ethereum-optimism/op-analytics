{
 "cells": [
  {
   "cell_type": "code",
   "execution_count": null,
   "metadata": {},
   "outputs": [],
   "source": [
    "from op_analytics.datasources.chainsmeta.erc20tokens.execute import execute_pull\n",
    "from op_analytics.coreutils.time import date_fromstr\n",
    "\n",
    "raw_result = execute_pull(process_dt=date_fromstr(\"2025-02-12\"))"
   ]
  },
  {
   "cell_type": "code",
   "execution_count": 1,
   "metadata": {},
   "outputs": [
    {
     "name": "stdout",
     "output_type": "stream",
     "text": [
      "\u001b[2m2025-02-25 15:09:34\u001b[0m [\u001b[32m\u001b[1minfo     \u001b[0m] \u001b[1mloaded vault from .env file   \u001b[0m \u001b[36mfilename\u001b[0m=\u001b[35mvault.py\u001b[0m \u001b[36mlineno\u001b[0m=\u001b[35m32\u001b[0m \u001b[36mprocess\u001b[0m=\u001b[35m89745\u001b[0m\n",
      "\u001b[2m2025-02-25 15:09:34\u001b[0m [\u001b[32m\u001b[1mdebug    \u001b[0m] \u001b[1mloaded vault: 19 items        \u001b[0m \u001b[36mfilename\u001b[0m=\u001b[35mvault.py\u001b[0m \u001b[36mlineno\u001b[0m=\u001b[35m79\u001b[0m \u001b[36mprocess\u001b[0m=\u001b[35m89745\u001b[0m\n",
      "\u001b[2m2025-02-25 15:09:34\u001b[0m [\u001b[32m\u001b[1mdebug    \u001b[0m] \u001b[1mFound vault variable GOOGLE_SERVICE_ACCOUNT (has JSON key)\u001b[0m \u001b[36mfilename\u001b[0m=\u001b[35mgcpauth.py\u001b[0m \u001b[36mlineno\u001b[0m=\u001b[35m18\u001b[0m \u001b[36mprocess\u001b[0m=\u001b[35m89745\u001b[0m\n",
      "\u001b[2m2025-02-25 15:09:36\u001b[0m [\u001b[32m\u001b[1minfo     \u001b[0m] \u001b[1mLoaded OP chains metadata from /Users/pedro/github/ethereum-optimism/op-analytics-alt/op_chains_tracking/inputs/chain_metadata_raw.csv\u001b[0m \u001b[36mfilename\u001b[0m=\u001b[35mload.py\u001b[0m \u001b[36mlineno\u001b[0m=\u001b[35m85\u001b[0m \u001b[36mprocess\u001b[0m=\u001b[35m89745\u001b[0m\n",
      "\u001b[2m2025-02-25 15:09:36\u001b[0m [\u001b[32m\u001b[1minfo     \u001b[0m] \u001b[1m[REPO vs. GSHEETS] ERROR: Chain Metadata is different\u001b[0m \u001b[36mfilename\u001b[0m=\u001b[35mload.py\u001b[0m \u001b[36mlineno\u001b[0m=\u001b[35m97\u001b[0m \u001b[36mprocess\u001b[0m=\u001b[35m89745\u001b[0m\n"
     ]
    }
   ],
   "source": [
    "from op_analytics.datasources.chainsmeta.erc20tokens.tokens import Token\n",
    "from op_analytics.datasources.chainsmeta.erc20tokens.endpoints import get_rpc_for_chain\n",
    "\n",
    "token = Token(\n",
    "    chain=\"worldchain\",\n",
    "    chain_id=480,\n",
    "    contract_address=\"0xe7d3db80811799b3de5221800a5ea4170fa08d16\"\n",
    ")\n",
    "\n",
    "result = token.call_rpc()\n",
    "\n",
    "\n"
   ]
  },
  {
   "cell_type": "code",
   "execution_count": 2,
   "metadata": {},
   "outputs": [
    {
     "data": {
      "text/plain": [
       "TokenMetadata(chain='worldchain', chain_id=480, contract_address='0xe7d3db80811799b3de5221800a5ea4170fa08d16', block_number=10589268, block_timestamp=1740514175, decimals=18, symbol='SKY', name='SKYNET', total_supply=100000000000000000000000000)"
      ]
     },
     "execution_count": 2,
     "metadata": {},
     "output_type": "execute_result"
    }
   ],
   "source": [
    "result"
   ]
  },
  {
   "cell_type": "code",
   "execution_count": null,
   "metadata": {},
   "outputs": [],
   "source": []
  }
 ],
 "metadata": {
  "kernelspec": {
   "display_name": ".venv",
   "language": "python",
   "name": "python3"
  },
  "language_info": {
   "codemirror_mode": {
    "name": "ipython",
    "version": 3
   },
   "file_extension": ".py",
   "mimetype": "text/x-python",
   "name": "python",
   "nbconvert_exporter": "python",
   "pygments_lexer": "ipython3",
   "version": "3.12.6"
  }
 },
 "nbformat": 4,
 "nbformat_minor": 2
}
