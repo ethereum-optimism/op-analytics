{
 "cells": [
  {
   "cell_type": "markdown",
   "metadata": {},
   "source": [
    "## Prepare data reader and model execution context"
   ]
  },
  {
   "cell_type": "code",
   "execution_count": 1,
   "metadata": {},
   "outputs": [
    {
     "name": "stdout",
     "output_type": "stream",
     "text": [
      "\u001b[2m2025-01-10 04:14:58\u001b[0m [\u001b[32m\u001b[1mdebug    \u001b[0m] \u001b[1mconnecting to GOLDSKY Clickhouse client...\u001b[0m \u001b[36mcounter\u001b[0m=\u001b[35m001/001\u001b[0m \u001b[36meta\u001b[0m=\u001b[35mNone\u001b[0m \u001b[36mfilename\u001b[0m=\u001b[35mclient.py\u001b[0m \u001b[36mlineno\u001b[0m=\u001b[35m36\u001b[0m \u001b[36mprocess\u001b[0m=\u001b[35m2658\u001b[0m\n",
      "\u001b[2m2025-01-10 04:14:58\u001b[0m [\u001b[32m\u001b[1minfo     \u001b[0m] \u001b[1mloaded vault from .env file   \u001b[0m \u001b[36mcounter\u001b[0m=\u001b[35m001/001\u001b[0m \u001b[36meta\u001b[0m=\u001b[35mNone\u001b[0m \u001b[36mfilename\u001b[0m=\u001b[35mvault.py\u001b[0m \u001b[36mlineno\u001b[0m=\u001b[35m32\u001b[0m \u001b[36mprocess\u001b[0m=\u001b[35m2658\u001b[0m\n",
      "\u001b[2m2025-01-10 04:14:58\u001b[0m [\u001b[32m\u001b[1mdebug    \u001b[0m] \u001b[1mloaded vault: 18 items        \u001b[0m \u001b[36mcounter\u001b[0m=\u001b[35m001/001\u001b[0m \u001b[36meta\u001b[0m=\u001b[35mNone\u001b[0m \u001b[36mfilename\u001b[0m=\u001b[35mvault.py\u001b[0m \u001b[36mlineno\u001b[0m=\u001b[35m76\u001b[0m \u001b[36mprocess\u001b[0m=\u001b[35m2658\u001b[0m\n",
      "\u001b[2m2025-01-10 04:14:59\u001b[0m [\u001b[32m\u001b[1mdebug    \u001b[0m] \u001b[1minitialized GOLDSKY Clickhouse client.\u001b[0m \u001b[36mcounter\u001b[0m=\u001b[35m001/001\u001b[0m \u001b[36meta\u001b[0m=\u001b[35mNone\u001b[0m \u001b[36mfilename\u001b[0m=\u001b[35mclient.py\u001b[0m \u001b[36mlineno\u001b[0m=\u001b[35m41\u001b[0m \u001b[36mprocess\u001b[0m=\u001b[35m2658\u001b[0m\n",
      "\u001b[2m2025-01-10 04:14:59\u001b[0m [\u001b[32m\u001b[1mdebug    \u001b[0m] \u001b[1mconnecting to OPLABS Clickhouse client...\u001b[0m \u001b[36mfilename\u001b[0m=\u001b[35mclient.py\u001b[0m \u001b[36mlineno\u001b[0m=\u001b[35m36\u001b[0m \u001b[36mprocess\u001b[0m=\u001b[35m2658\u001b[0m\n",
      "\u001b[2m2025-01-10 04:15:00\u001b[0m [\u001b[32m\u001b[1mdebug    \u001b[0m] \u001b[1minitialized OPLABS Clickhouse client.\u001b[0m \u001b[36mfilename\u001b[0m=\u001b[35mclient.py\u001b[0m \u001b[36mlineno\u001b[0m=\u001b[35m41\u001b[0m \u001b[36mprocess\u001b[0m=\u001b[35m2658\u001b[0m\n",
      "\u001b[2m2025-01-10 04:15:00\u001b[0m [\u001b[32m\u001b[1minfo     \u001b[0m] \u001b[1mprepared 22 input batches.    \u001b[0m \u001b[36mfilename\u001b[0m=\u001b[35mbyblock.py\u001b[0m \u001b[36mlineno\u001b[0m=\u001b[35m78\u001b[0m \u001b[36mprocess\u001b[0m=\u001b[35m2658\u001b[0m\n",
      "DataReader(partitions=Partition(cols=[PartitionColumn(name='chain', value='op'),\n",
      "                                      PartitionColumn(name='dt',\n",
      "                                                      value='2024-11-18')]),\n",
      "           read_from=DataLocation.GCS,\n",
      "           dataset_paths={'ingestion/blocks_v1': ['gs://oplabs-tools-data-sink/ingestion/blocks_v1/chain=op/dt=2024-11-18/000128144000.parquet'],\n",
      "                          'ingestion/traces_v1': ['gs://oplabs-tools-data-sink/ingestion/traces_v1/chain=op/dt=2024-11-18/000128144000.parquet'],\n",
      "                          'ingestion/transactions_v1': ['gs://oplabs-tools-data-sink/ingestion/transactions_v1/chain=op/dt=2024-11-18/000128144000.parquet']},\n",
      "           inputs_ready=True,\n",
      "           extra_marker_data={'max_block': 128146000,\n",
      "                              'min_block': 128144000,\n",
      "                              'num_blocks': 2000})\n",
      "\u001b[2m2025-01-10 04:15:00\u001b[0m [\u001b[32m\u001b[1minfo     \u001b[0m] \u001b[1minitialized duckdb at /var/folders/tz/g2vwn0qx5ll32j7jfsshhps40000gn/T/ijy2ohlx/op-analytics.duck.db\u001b[0m \u001b[36mfilename\u001b[0m=\u001b[35mclient.py\u001b[0m \u001b[36mlineno\u001b[0m=\u001b[35m94\u001b[0m \u001b[36mprocess\u001b[0m=\u001b[35m2658\u001b[0m\n",
      "\u001b[2m2025-01-10 04:15:00\u001b[0m [\u001b[32m\u001b[1minfo     \u001b[0m] \u001b[1mreading dataset='ingestion/blocks_v1' using 1/1 parquet paths, first path is gs://oplabs-tools-data-sink/ingestion/blocks_v1/chain=op/dt=2024-11-18/000128144000.parquet\u001b[0m \u001b[36mfilename\u001b[0m=\u001b[35mreader.py\u001b[0m \u001b[36mlineno\u001b[0m=\u001b[35m68\u001b[0m \u001b[36mprocess\u001b[0m=\u001b[35m2658\u001b[0m\n",
      "\u001b[2m2025-01-10 04:15:00\u001b[0m [\u001b[32m\u001b[1minfo     \u001b[0m] \u001b[1mreading dataset='ingestion/traces_v1' using 1/1 parquet paths, first path is gs://oplabs-tools-data-sink/ingestion/traces_v1/chain=op/dt=2024-11-18/000128144000.parquet\u001b[0m \u001b[36mfilename\u001b[0m=\u001b[35mreader.py\u001b[0m \u001b[36mlineno\u001b[0m=\u001b[35m68\u001b[0m \u001b[36mprocess\u001b[0m=\u001b[35m2658\u001b[0m\n",
      "\u001b[2m2025-01-10 04:15:00\u001b[0m [\u001b[32m\u001b[1minfo     \u001b[0m] \u001b[1mreading dataset='ingestion/transactions_v1' using 1/1 parquet paths, first path is gs://oplabs-tools-data-sink/ingestion/transactions_v1/chain=op/dt=2024-11-18/000128144000.parquet\u001b[0m \u001b[36mfilename\u001b[0m=\u001b[35mreader.py\u001b[0m \u001b[36mlineno\u001b[0m=\u001b[35m68\u001b[0m \u001b[36mprocess\u001b[0m=\u001b[35m2658\u001b[0m\n",
      "\n",
      "INPUT: ingestion/blocks_v1\n",
      "INPUT: ingestion/traces_v1\n",
      "INPUT: ingestion/transactions_v1\n",
      "\n",
      "AUX VIEW: refined_transactions_fees\n",
      "AUX VIEW: refined_traces/traces_projection\n",
      "AUX VIEW: refined_traces/traces_with_gas_used\n",
      "AUX VIEW: refined_traces/traces_txs_join\n"
     ]
    }
   ],
   "source": [
    "from pprint import pprint\n",
    "\n",
    "from op_analytics.coreutils.partitioned.location import DataLocation\n",
    "from op_analytics.coreutils.partitioned.reader import DataReader\n",
    "from op_analytics.datapipeline.etl.ingestion.reader.byblock import construct_readers_byblock\n",
    "from op_analytics.datapipeline.etl.ingestion.reader.request import BlockBatchRequest\n",
    "from op_analytics.datapipeline.models.compute.markers import ModelsDataSpec\n",
    "from op_analytics.datapipeline.models.compute.testutils import setup_execution_context\n",
    "\n",
    "model_name = \"refined_traces\"\n",
    "\n",
    "\n",
    "# Prepare data raeders\n",
    "data_spec = ModelsDataSpec(models=[model_name])\n",
    "blockbatch_request = BlockBatchRequest.build(\n",
    "    chains=[\"op\"],\n",
    "    range_spec=\"@20241118:+1\",\n",
    "    root_paths_to_read=data_spec.input_root_paths,\n",
    ")\n",
    "readers: list[DataReader] = construct_readers_byblock(\n",
    "    blockbatch_request=blockbatch_request,\n",
    "    read_from=DataLocation.GCS,\n",
    ")\n",
    "\n",
    "\n",
    "# Show details for the batch we are processing.\n",
    "pprint(readers[0])\n",
    "\n",
    "# Set up execution context and get handles to model input args.\n",
    "# In subsequent cells you can use the model input args however you want.\n",
    "ctx, input_datasets, aux_views = setup_execution_context(\n",
    "    model_name=model_name,\n",
    "    data_reader=readers[0],  # use the first reader\n",
    ")\n"
   ]
  },
  {
   "cell_type": "markdown",
   "metadata": {},
   "source": [
    "## Execute the model\n",
    "\n",
    "It's up to you how the model manipulates the data. \n",
    "\n",
    "Develop the various steps in notebook cells and then copy the final code over to the model function."
   ]
  },
  {
   "cell_type": "code",
   "execution_count": 2,
   "metadata": {},
   "outputs": [
    {
     "name": "stdout",
     "output_type": "stream",
     "text": [
      "\u001b[2m2025-01-10 04:15:26\u001b[0m [\u001b[32m\u001b[1minfo     \u001b[0m] \u001b[1mconstructed read_parquet() string with 1 paths\u001b[0m \u001b[36mfilename\u001b[0m=\u001b[35mclient.py\u001b[0m \u001b[36mlineno\u001b[0m=\u001b[35m245\u001b[0m \u001b[36mprocess\u001b[0m=\u001b[35m2658\u001b[0m\n",
      "\u001b[2m2025-01-10 04:15:26\u001b[0m [\u001b[32m\u001b[1minfo     \u001b[0m] \u001b[1mconstructed read_parquet() string with 1 paths\u001b[0m \u001b[36mfilename\u001b[0m=\u001b[35mclient.py\u001b[0m \u001b[36mlineno\u001b[0m=\u001b[35m245\u001b[0m \u001b[36mprocess\u001b[0m=\u001b[35m2658\u001b[0m\n",
      "\u001b[2m2025-01-10 04:15:26\u001b[0m [\u001b[32m\u001b[1minfo     \u001b[0m] \u001b[1mRendering query               \u001b[0m \u001b[36mfilename\u001b[0m=\u001b[35mquerybuilder.py\u001b[0m \u001b[36mlineno\u001b[0m=\u001b[35m40\u001b[0m \u001b[36mprocess\u001b[0m=\u001b[35m2658\u001b[0m \u001b[36mtemplate\u001b[0m=\u001b[35mrefined_transactions_fees\u001b[0m\n",
      "\u001b[2m2025-01-10 04:15:31\u001b[0m [\u001b[32m\u001b[1minfo     \u001b[0m] \u001b[1mduck db size: 8.4MB           \u001b[0m \u001b[36mfilename\u001b[0m=\u001b[35mclient.py\u001b[0m \u001b[36mlineno\u001b[0m=\u001b[35m36\u001b[0m \u001b[36mprocess\u001b[0m=\u001b[35m2658\u001b[0m\n",
      "\u001b[2m2025-01-10 04:15:31\u001b[0m [\u001b[32m\u001b[1minfo     \u001b[0m] \u001b[1mconstructed read_parquet() string with 1 paths\u001b[0m \u001b[36mfilename\u001b[0m=\u001b[35mclient.py\u001b[0m \u001b[36mlineno\u001b[0m=\u001b[35m245\u001b[0m \u001b[36mprocess\u001b[0m=\u001b[35m2658\u001b[0m\n",
      "\u001b[2m2025-01-10 04:15:31\u001b[0m [\u001b[32m\u001b[1minfo     \u001b[0m] \u001b[1mRendering query               \u001b[0m \u001b[36mfilename\u001b[0m=\u001b[35mquerybuilder.py\u001b[0m \u001b[36mlineno\u001b[0m=\u001b[35m40\u001b[0m \u001b[36mprocess\u001b[0m=\u001b[35m2658\u001b[0m \u001b[36mtemplate\u001b[0m=\u001b[35mrefined_traces/traces_projection\u001b[0m\n",
      "\u001b[2m2025-01-10 04:15:35\u001b[0m [\u001b[32m\u001b[1minfo     \u001b[0m] \u001b[1mduck db size: 59.0MB          \u001b[0m \u001b[36mfilename\u001b[0m=\u001b[35mclient.py\u001b[0m \u001b[36mlineno\u001b[0m=\u001b[35m36\u001b[0m \u001b[36mprocess\u001b[0m=\u001b[35m2658\u001b[0m\n",
      "\u001b[2m2025-01-10 04:15:35\u001b[0m [\u001b[32m\u001b[1minfo     \u001b[0m] \u001b[1mRendering query               \u001b[0m \u001b[36mfilename\u001b[0m=\u001b[35mquerybuilder.py\u001b[0m \u001b[36mlineno\u001b[0m=\u001b[35m40\u001b[0m \u001b[36mprocess\u001b[0m=\u001b[35m2658\u001b[0m \u001b[36mtemplate\u001b[0m=\u001b[35mrefined_traces/traces_with_gas_used\u001b[0m\n",
      "\u001b[2m2025-01-10 04:15:36\u001b[0m [\u001b[32m\u001b[1minfo     \u001b[0m] \u001b[1mduck db size: 97.3MB          \u001b[0m \u001b[36mfilename\u001b[0m=\u001b[35mclient.py\u001b[0m \u001b[36mlineno\u001b[0m=\u001b[35m36\u001b[0m \u001b[36mprocess\u001b[0m=\u001b[35m2658\u001b[0m\n",
      "\u001b[2m2025-01-10 04:15:36\u001b[0m [\u001b[32m\u001b[1minfo     \u001b[0m] \u001b[1mRendering query               \u001b[0m \u001b[36mfilename\u001b[0m=\u001b[35mquerybuilder.py\u001b[0m \u001b[36mlineno\u001b[0m=\u001b[35m40\u001b[0m \u001b[36mprocess\u001b[0m=\u001b[35m2658\u001b[0m \u001b[36mtemplate\u001b[0m=\u001b[35mrefined_traces/traces_txs_join\u001b[0m\n",
      "\u001b[2m2025-01-10 04:15:36\u001b[0m [\u001b[32m\u001b[1minfo     \u001b[0m] \u001b[1mduck db size: 174.3MB         \u001b[0m \u001b[36mfilename\u001b[0m=\u001b[35mclient.py\u001b[0m \u001b[36mlineno\u001b[0m=\u001b[35m36\u001b[0m \u001b[36mprocess\u001b[0m=\u001b[35m2658\u001b[0m\n"
     ]
    }
   ],
   "source": [
    "refined_txs_table = aux_views[\"refined_transactions_fees\"].create_table(\n",
    "    duckdb_context=ctx,\n",
    "    template_parameters={\n",
    "        \"raw_blocks\": input_datasets[\"ingestion/blocks_v1\"].as_subquery(),\n",
    "        \"raw_transactions\": input_datasets[\"ingestion/transactions_v1\"].as_subquery(),\n",
    "    }\n",
    ")\n",
    "\n",
    "refined_traces_projection = aux_views[\"refined_traces/traces_projection\"].create_table(\n",
    "    duckdb_context=ctx,\n",
    "    template_parameters={\n",
    "        \"raw_traces\": input_datasets[\"ingestion/traces_v1\"].as_subquery(),\n",
    "    },\n",
    ")\n",
    "\n",
    "traces_with_gas_used = aux_views[\"refined_traces/traces_with_gas_used\"].create_table(\n",
    "    duckdb_context=ctx,\n",
    "    template_parameters={\n",
    "        \"refined_traces_projection\": refined_traces_projection,\n",
    "    },\n",
    ")\n",
    "\n",
    "traces_txs_join = aux_views[\"refined_traces/traces_txs_join\"].create_table(\n",
    "    duckdb_context=ctx,\n",
    "    template_parameters={\n",
    "        \"traces_with_gas_used\": traces_with_gas_used,\n",
    "        \"refined_transactions_fees\": refined_txs_table,\n",
    "    },\n",
    ")"
   ]
  },
  {
   "cell_type": "code",
   "execution_count": 5,
   "metadata": {},
   "outputs": [
    {
     "name": "stdout",
     "output_type": "stream",
     "text": [
      "┌────────────┬─────────┬──────────┬─────────┬──────────────┬─────────────────┬────────────────────────────────────────────────────────────────────┬───────────────────┬────────────────────────────────────────────┬────────────────────────────────────────────┬─────────────────┬────────────────┬───────────────┬────────────┬──────────────┬─────────┬─────────────────┬───────────────┬─────────────┬──────────────────────┬───────────────────┬────────────────────────┬──────────────────────────┬──────────────────────────────────┬───────────────────────────────────────┬───────────────────────────────────────────┬──────────────────────────────────────────────┬──────────────────────────────────┬──────────────────────────────────────────┬──────────────────────────────────────────┬──────────────────────────────────────────┬─────────────────────────────────────┬─────────────────────────────────┬────────────────────────────────────┬────────────────────────────────────┬─────────────────────────────────────────┬─────────────────────────────────────────────┐\n",
      "│     dt     │  chain  │ chain_id │ network │ block_number │ block_timestamp │                          transaction_hash                          │ transaction_index │             trace_from_address             │              trace_to_address              │ trace_gas_limit │ trace_gas_used │ trace_address │ trace_type │  call_type   │  error  │ trace_method_id │ trace_success │ trace_depth │ parent_trace_address │ num_traces_in_txn │ sum_subtraces_gas_used │ gas_used_minus_subtraces │ tx_l2_fee_native_minus_subtraces │ tx_l2_base_fee_native_minus_subtraces │ tx_l2_priority_fee_native_minus_subtraces │ tx_l2_legacy_base_fee_native_minus_subtraces │ tx_l2_gas_used_amortized_by_call │ tx_l1_gas_used_unified_amortized_by_call │ tx_l1_base_scaled_size_amortized_by_call │ tx_l1_blob_scaled_size_amortized_by_call │ tx_estimated_size_amortized_by_call │ tx_fee_native_amortized_by_call │ tx_l2_fee_native_amortized_by_call │ tx_l1_fee_native_amortized_by_call │ tx_l2_base_fee_native_amortized_by_call │ tx_l2_priority_fee_native_amortized_by_call │\n",
      "│    date    │ varchar │  int32   │ varchar │    int64     │     uint32      │                              varchar                               │       int64       │                  varchar                   │                  varchar                   │      int64      │     int64      │    varchar    │  varchar   │   varchar    │ varchar │     varchar     │    boolean    │    int64    │       varchar        │       int64       │         int128         │          int128          │          decimal(38,20)          │            decimal(38,20)             │              decimal(38,20)               │                decimal(38,20)                │              double              │                  double                  │                  double                  │                  double                  │               double                │             double              │               double               │               double               │                 double                  │                   double                    │\n",
      "├────────────┼─────────┼──────────┼─────────┼──────────────┼─────────────────┼────────────────────────────────────────────────────────────────────┼───────────────────┼────────────────────────────────────────────┼────────────────────────────────────────────┼─────────────────┼────────────────┼───────────────┼────────────┼──────────────┼─────────┼─────────────────┼───────────────┼─────────────┼──────────────────────┼───────────────────┼────────────────────────┼──────────────────────────┼──────────────────────────────────┼───────────────────────────────────────┼───────────────────────────────────────────┼──────────────────────────────────────────────┼──────────────────────────────────┼──────────────────────────────────────────┼──────────────────────────────────────────┼──────────────────────────────────────────┼─────────────────────────────────────┼─────────────────────────────────┼────────────────────────────────────┼────────────────────────────────────┼─────────────────────────────────────────┼─────────────────────────────────────────────┤\n",
      "│ 2024-11-18 │ op      │       10 │ mainnet │    128145247 │      1731889271 │ 0x99d4d4dea9419810d61e1899565d10a0f6c7d284e7dcf0e01eff5025833fb0c6 │                10 │ 0x669bee230facc9240e2ef81c2e566c3ebadd7c71 │ 0xabf4daac18925530d1e4f99fd538d57b8bf1017c │        15000000 │         513758 │               │ call       │ call         │         │ 0x24f88863      │ true          │           0 │ none                 │                44 │                  30205 │                   483553 │           0.00000018756053764000 │                0.00000000038394108200 │                    0.00000018717659655800 │                       0.00000000000000000000 │               11676.318181818182 │                        36.36363636363637 │                      0.19007272727272728 │                       2.3050295454545453 │                   2.272727272727273 │           9.033595668272727e-09 │              4.529010296363637e-09 │              4.504585371909091e-09 │                   9.270996636363636e-12 │                       4.519739299727273e-09 │\n",
      "│ 2024-11-18 │ op      │       10 │ mainnet │    128145247 │      1731889271 │ 0x99d4d4dea9419810d61e1899565d10a0f6c7d284e7dcf0e01eff5025833fb0c6 │                10 │ 0xabf4daac18925530d1e4f99fd538d57b8bf1017c │ 0x1fb3cf6e48f1e7b10213e7b6d87d4c073c7fdb7b │        14664287 │           2696 │ 0             │ call       │ staticcall   │         │ 0x3850c7bd      │ true          │           1 │                      │                44 │                      0 │                     2696 │           0.00000000104572448000 │                0.00000000000214062400 │                    0.00000000104358385600 │                       0.00000000000000000000 │               11676.318181818182 │                        36.36363636363637 │                      0.19007272727272728 │                       2.3050295454545453 │                   2.272727272727273 │           9.033595668272727e-09 │              4.529010296363637e-09 │              4.504585371909091e-09 │                   9.270996636363636e-12 │                       4.519739299727273e-09 │\n",
      "│ 2024-11-18 │ op      │       10 │ mainnet │    128145247 │      1731889271 │ 0x99d4d4dea9419810d61e1899565d10a0f6c7d284e7dcf0e01eff5025833fb0c6 │                10 │ 0xabf4daac18925530d1e4f99fd538d57b8bf1017c │ 0x478946bcd4a5a22b316470f5486fafb928c0ba25 │        14652370 │           5345 │ 1             │ call       │ staticcall   │         │ 0x3850c7bd      │ true          │           1 │                      │                44 │                   2649 │                     2696 │           0.00000000104572448000 │                0.00000000000214062400 │                    0.00000000104358385600 │                       0.00000000000000000000 │               11676.318181818182 │                        36.36363636363637 │                      0.19007272727272728 │                       2.3050295454545453 │                   2.272727272727273 │           9.033595668272727e-09 │              4.529010296363637e-09 │              4.504585371909091e-09 │                   9.270996636363636e-12 │                       4.519739299727273e-09 │\n",
      "│ 2024-11-18 │ op      │       10 │ mainnet │    128145247 │      1731889271 │ 0x99d4d4dea9419810d61e1899565d10a0f6c7d284e7dcf0e01eff5025833fb0c6 │                10 │ 0x478946bcd4a5a22b316470f5486fafb928c0ba25 │ 0xc28ad28853a547556780bebf7847628501a3bcbb │        14420838 │           2649 │ 1,0           │ call       │ delegatecall │         │ 0x3850c7bd      │ true          │           2 │ 1                    │                44 │                      0 │                     2649 │           0.00000000102749412000 │                0.00000000000210330600 │                    0.00000000102539081400 │                       0.00000000000000000000 │               11676.318181818182 │                        36.36363636363637 │                      0.19007272727272728 │                       2.3050295454545453 │                   2.272727272727273 │           9.033595668272727e-09 │              4.529010296363637e-09 │              4.504585371909091e-09 │                   9.270996636363636e-12 │                       4.519739299727273e-09 │\n",
      "│ 2024-11-18 │ op      │       10 │ mainnet │    128145247 │      1731889271 │ 0x99d4d4dea9419810d61e1899565d10a0f6c7d284e7dcf0e01eff5025833fb0c6 │                10 │ 0xabf4daac18925530d1e4f99fd538d57b8bf1017c │ 0x85149247691df622eaf1a8bd0cafd40bc45154a9 │        14551862 │           2696 │ 10            │ call       │ staticcall   │         │ 0x3850c7bd      │ true          │           1 │ 10                   │                44 │                      0 │                     2696 │           0.00000000104572448000 │                0.00000000000214062400 │                    0.00000000104358385600 │                       0.00000000000000000000 │               11676.318181818182 │                        36.36363636363637 │                      0.19007272727272728 │                       2.3050295454545453 │                   2.272727272727273 │           9.033595668272727e-09 │              4.529010296363637e-09 │              4.504585371909091e-09 │                   9.270996636363636e-12 │                       4.519739299727273e-09 │\n",
      "│ 2024-11-18 │ op      │       10 │ mainnet │    128145247 │      1731889271 │ 0x99d4d4dea9419810d61e1899565d10a0f6c7d284e7dcf0e01eff5025833fb0c6 │                10 │ 0xabf4daac18925530d1e4f99fd538d57b8bf1017c │ 0xb533c12fb4e7b53b5524eab9b47d93ff6c7a456f │        14540292 │           2696 │ 11            │ call       │ staticcall   │         │ 0x3850c7bd      │ true          │           1 │ 11                   │                44 │                      0 │                     2696 │           0.00000000104572448000 │                0.00000000000214062400 │                    0.00000000104358385600 │                       0.00000000000000000000 │               11676.318181818182 │                        36.36363636363637 │                      0.19007272727272728 │                       2.3050295454545453 │                   2.272727272727273 │           9.033595668272727e-09 │              4.529010296363637e-09 │              4.504585371909091e-09 │                   9.270996636363636e-12 │                       4.519739299727273e-09 │\n",
      "│ 2024-11-18 │ op      │       10 │ mainnet │    128145247 │      1731889271 │ 0x99d4d4dea9419810d61e1899565d10a0f6c7d284e7dcf0e01eff5025833fb0c6 │                10 │ 0xabf4daac18925530d1e4f99fd538d57b8bf1017c │ 0x2ab22ac86b25bd448a4d9dc041bd2384655299c4 │        14529336 │           2696 │ 12            │ call       │ staticcall   │         │ 0x3850c7bd      │ true          │           1 │ 12                   │                44 │                      0 │                     2696 │           0.00000000104572448000 │                0.00000000000214062400 │                    0.00000000104358385600 │                       0.00000000000000000000 │               11676.318181818182 │                        36.36363636363637 │                      0.19007272727272728 │                       2.3050295454545453 │                   2.272727272727273 │           9.033595668272727e-09 │              4.529010296363637e-09 │              4.504585371909091e-09 │                   9.270996636363636e-12 │                       4.519739299727273e-09 │\n",
      "│ 2024-11-18 │ op      │       10 │ mainnet │    128145247 │      1731889271 │ 0x99d4d4dea9419810d61e1899565d10a0f6c7d284e7dcf0e01eff5025833fb0c6 │                10 │ 0xabf4daac18925530d1e4f99fd538d57b8bf1017c │ 0xadab76dd2dca7ae080a796f0ce86170e482afb4a │        14520261 │           2696 │ 13            │ call       │ staticcall   │         │ 0x3850c7bd      │ true          │           1 │ 13                   │                44 │                      0 │                     2696 │           0.00000000104572448000 │                0.00000000000214062400 │                    0.00000000104358385600 │                       0.00000000000000000000 │               11676.318181818182 │                        36.36363636363637 │                      0.19007272727272728 │                       2.3050295454545453 │                   2.272727272727273 │           9.033595668272727e-09 │              4.529010296363637e-09 │              4.504585371909091e-09 │                   9.270996636363636e-12 │                       4.519739299727273e-09 │\n",
      "│ 2024-11-18 │ op      │       10 │ mainnet │    128145247 │      1731889271 │ 0x99d4d4dea9419810d61e1899565d10a0f6c7d284e7dcf0e01eff5025833fb0c6 │                10 │ 0xabf4daac18925530d1e4f99fd538d57b8bf1017c │ 0xa0a215de234276cac1b844fd58901351a50fec8a │        14509626 │           5029 │ 14            │ call       │ staticcall   │         │ 0x443cb4bc      │ true          │           1 │ 14                   │                44 │                   2363 │                     2666 │           0.00000000103408808000 │                0.00000000000211680400 │                    0.00000000103197127600 │                       0.00000000000000000000 │               11676.318181818182 │                        36.36363636363637 │                      0.19007272727272728 │                       2.3050295454545453 │                   2.272727272727273 │           9.033595668272727e-09 │              4.529010296363637e-09 │              4.504585371909091e-09 │                   9.270996636363636e-12 │                       4.519739299727273e-09 │\n",
      "│ 2024-11-18 │ op      │       10 │ mainnet │    128145247 │      1731889271 │ 0x99d4d4dea9419810d61e1899565d10a0f6c7d284e7dcf0e01eff5025833fb0c6 │                10 │ 0xa0a215de234276cac1b844fd58901351a50fec8a │ 0x95885af5492195f0754be71ad1545fe81364e531 │        14280325 │           2363 │ 14,0          │ call       │ delegatecall │         │ 0x443cb4bc      │ true          │           2 │ 14                   │                44 │                      0 │                     2363 │           0.00000000091656044000 │                0.00000000000187622200 │                    0.00000000091468421800 │                       0.00000000000000000000 │               11676.318181818182 │                        36.36363636363637 │                      0.19007272727272728 │                       2.3050295454545453 │                   2.272727272727273 │           9.033595668272727e-09 │              4.529010296363637e-09 │              4.504585371909091e-09 │                   9.270996636363636e-12 │                       4.519739299727273e-09 │\n",
      "├────────────┴─────────┴──────────┴─────────┴──────────────┴─────────────────┴────────────────────────────────────────────────────────────────────┴───────────────────┴────────────────────────────────────────────┴────────────────────────────────────────────┴─────────────────┴────────────────┴───────────────┴────────────┴──────────────┴─────────┴─────────────────┴───────────────┴─────────────┴──────────────────────┴───────────────────┴────────────────────────┴──────────────────────────┴──────────────────────────────────┴───────────────────────────────────────┴───────────────────────────────────────────┴──────────────────────────────────────────────┴──────────────────────────────────┴──────────────────────────────────────────┴──────────────────────────────────────────┴──────────────────────────────────────────┴─────────────────────────────────────┴─────────────────────────────────┴────────────────────────────────────┴────────────────────────────────────┴─────────────────────────────────────────┴─────────────────────────────────────────────┤\n",
      "│ 10 rows                                                                                                                                                                                                                                                                                                                                                                                                                                                                                                                                                                                                                                                                                                                                                                                                                                                                                                                                                                                                                                                                        37 columns │\n",
      "└───────────────────────────────────────────────────────────────────────────────────────────────────────────────────────────────────────────────────────────────────────────────────────────────────────────────────────────────────────────────────────────────────────────────────────────────────────────────────────────────────────────────────────────────────────────────────────────────────────────────────────────────────────────────────────────────────────────────────────────────────────────────────────────────────────────────────────────────────────────────────────────────────────────────────────────────────────────────────────────────────────────────────────────────────────────────────────────────────────────────────────────────────────────────────────────────────────────────────────────────────────────────────────────────────────────────────────────────────────────────────────────────────────────────────────────────────────────────────────────────────────────────────────────────────────────────────────────────────────────────────────────┘\n",
      "\n"
     ]
    }
   ],
   "source": [
    "ctx.client.sql(\"\"\"\n",
    "SELECT * FROM refined_traces__traces_txs_join\n",
    "WHERE transaction_hash = '0x99d4d4dea9419810d61e1899565d10a0f6c7d284e7dcf0e01eff5025833fb0c6'\n",
    "ORDER BY trace_address\n",
    "LIMIT 10\n",
    "\"\"\").show(max_rows=100)"
   ]
  },
  {
   "cell_type": "code",
   "execution_count": 6,
   "metadata": {},
   "outputs": [
    {
     "name": "stdout",
     "output_type": "stream",
     "text": [
      "┌─────────────────────────────────────┬────────────────┬─────────┬─────────┬─────────┬─────────┐\n",
      "│             column_name             │  column_type   │  null   │   key   │ default │  extra  │\n",
      "│               varchar               │    varchar     │ varchar │ varchar │ varchar │ varchar │\n",
      "├─────────────────────────────────────┼────────────────┼─────────┼─────────┼─────────┼─────────┤\n",
      "│ dt                                  │ DATE           │ YES     │ NULL    │ NULL    │ NULL    │\n",
      "│ chain                               │ VARCHAR        │ YES     │ NULL    │ NULL    │ NULL    │\n",
      "│ chain_id                            │ INTEGER        │ YES     │ NULL    │ NULL    │ NULL    │\n",
      "│ network                             │ VARCHAR        │ YES     │ NULL    │ NULL    │ NULL    │\n",
      "│ nonce                               │ BIGINT         │ YES     │ NULL    │ NULL    │ NULL    │\n",
      "│ transaction_index                   │ BIGINT         │ YES     │ NULL    │ NULL    │ NULL    │\n",
      "│ from_address                        │ VARCHAR        │ YES     │ NULL    │ NULL    │ NULL    │\n",
      "│ to_address                          │ VARCHAR        │ YES     │ NULL    │ NULL    │ NULL    │\n",
      "│ block_number                        │ BIGINT         │ YES     │ NULL    │ NULL    │ NULL    │\n",
      "│ block_timestamp                     │ UINTEGER       │ YES     │ NULL    │ NULL    │ NULL    │\n",
      "│ hash                                │ VARCHAR        │ YES     │ NULL    │ NULL    │ NULL    │\n",
      "│ transaction_type                    │ INTEGER        │ YES     │ NULL    │ NULL    │ NULL    │\n",
      "│ gas_price                           │ BIGINT         │ YES     │ NULL    │ NULL    │ NULL    │\n",
      "│ gas_limit                           │ BIGINT         │ YES     │ NULL    │ NULL    │ NULL    │\n",
      "│ l2_gas_used                         │ BIGINT         │ YES     │ NULL    │ NULL    │ NULL    │\n",
      "│ receipt_l1_gas_used                 │ BIGINT         │ YES     │ NULL    │ NULL    │ NULL    │\n",
      "│ l1_fee                              │ BIGINT         │ YES     │ NULL    │ NULL    │ NULL    │\n",
      "│ l1_gas_price                        │ BIGINT         │ YES     │ NULL    │ NULL    │ NULL    │\n",
      "│ l1_blob_base_fee                    │ BIGINT         │ YES     │ NULL    │ NULL    │ NULL    │\n",
      "│ base_fee_per_gas                    │ BIGINT         │ YES     │ NULL    │ NULL    │ NULL    │\n",
      "│ max_priority_fee_per_gas            │ BIGINT         │ YES     │ NULL    │ NULL    │ NULL    │\n",
      "│ l1_fee_scalar                       │ DECIMAL(12,6)  │ YES     │ NULL    │ NULL    │ NULL    │\n",
      "│ l1_base_fee_scalar                  │ DECIMAL(26,7)  │ YES     │ NULL    │ NULL    │ NULL    │\n",
      "│ l1_blob_base_fee_scalar             │ DECIMAL(26,7)  │ YES     │ NULL    │ NULL    │ NULL    │\n",
      "│ legacy_extra_fee_per_gas            │ BIGINT         │ YES     │ NULL    │ NULL    │ NULL    │\n",
      "│ l2_fee                              │ BIGINT         │ YES     │ NULL    │ NULL    │ NULL    │\n",
      "│ l2_priority_fee                     │ BIGINT         │ YES     │ NULL    │ NULL    │ NULL    │\n",
      "│ l2_base_fee                         │ BIGINT         │ YES     │ NULL    │ NULL    │ NULL    │\n",
      "│ method_id                           │ VARCHAR        │ YES     │ NULL    │ NULL    │ NULL    │\n",
      "│ success                             │ BOOLEAN        │ YES     │ NULL    │ NULL    │ NULL    │\n",
      "│ input_byte_length                   │ INTEGER        │ YES     │ NULL    │ NULL    │ NULL    │\n",
      "│ input_zero_bytes                    │ INTEGER        │ YES     │ NULL    │ NULL    │ NULL    │\n",
      "│ is_system_transaction               │ BOOLEAN        │ YES     │ NULL    │ NULL    │ NULL    │\n",
      "│ is_attributes_deposited_transaction │ BOOLEAN        │ YES     │ NULL    │ NULL    │ NULL    │\n",
      "│ block_hour                          │ TIMESTAMP      │ YES     │ NULL    │ NULL    │ NULL    │\n",
      "│ estimated_size                      │ BIGINT         │ YES     │ NULL    │ NULL    │ NULL    │\n",
      "│ l1_gas_used_unified                 │ BIGINT         │ YES     │ NULL    │ NULL    │ NULL    │\n",
      "│ tx_fee                              │ BIGINT         │ YES     │ NULL    │ NULL    │ NULL    │\n",
      "│ l2_legacy_extra_fee                 │ BIGINT         │ YES     │ NULL    │ NULL    │ NULL    │\n",
      "│ l1_base_fee                         │ DECIMAL(38,12) │ YES     │ NULL    │ NULL    │ NULL    │\n",
      "│ l1_base_scaled_size                 │ DECIMAL(38,12) │ YES     │ NULL    │ NULL    │ NULL    │\n",
      "│ l1_blob_fee                         │ DECIMAL(38,12) │ YES     │ NULL    │ NULL    │ NULL    │\n",
      "│ l1_blob_scaled_size                 │ DECIMAL(38,12) │ YES     │ NULL    │ NULL    │ NULL    │\n",
      "│ tx_fee_native                       │ DECIMAL(38,19) │ YES     │ NULL    │ NULL    │ NULL    │\n",
      "│ l1_fee_native                       │ DECIMAL(38,19) │ YES     │ NULL    │ NULL    │ NULL    │\n",
      "│ l2_fee_native                       │ DECIMAL(38,19) │ YES     │ NULL    │ NULL    │ NULL    │\n",
      "│ l1_base_fee_native                  │ DECIMAL(38,19) │ YES     │ NULL    │ NULL    │ NULL    │\n",
      "│ l1_blob_fee_native                  │ DECIMAL(38,19) │ YES     │ NULL    │ NULL    │ NULL    │\n",
      "│ l2_base_fee_native                  │ DECIMAL(38,19) │ YES     │ NULL    │ NULL    │ NULL    │\n",
      "│ l2_priority_fee_native              │ DECIMAL(38,19) │ YES     │ NULL    │ NULL    │ NULL    │\n",
      "│ l2_legacy_extra_fee_native          │ DECIMAL(38,19) │ YES     │ NULL    │ NULL    │ NULL    │\n",
      "│ l2_gas_price_gwei                   │ DECIMAL(38,10) │ YES     │ NULL    │ NULL    │ NULL    │\n",
      "│ l2_base_gas_price_gwei              │ DECIMAL(38,10) │ YES     │ NULL    │ NULL    │ NULL    │\n",
      "│ l2_priority_gas_price_gwei          │ DECIMAL(38,10) │ YES     │ NULL    │ NULL    │ NULL    │\n",
      "│ l2_legacy_extra_gas_price_gwei      │ DECIMAL(38,10) │ YES     │ NULL    │ NULL    │ NULL    │\n",
      "│ l1_base_gas_price_gwei              │ DECIMAL(38,10) │ YES     │ NULL    │ NULL    │ NULL    │\n",
      "│ l1_blob_base_gas_price_gwei         │ DECIMAL(38,10) │ YES     │ NULL    │ NULL    │ NULL    │\n",
      "├─────────────────────────────────────┴────────────────┴─────────┴─────────┴─────────┴─────────┤\n",
      "│ 57 rows                                                                            6 columns │\n",
      "└──────────────────────────────────────────────────────────────────────────────────────────────┘\n",
      "\n"
     ]
    }
   ],
   "source": [
    "ctx.client.sql(f\"\"\"DESCRIBE {refined_txs_table}\"\"\").show(max_rows=100)"
   ]
  },
  {
   "cell_type": "code",
   "execution_count": null,
   "metadata": {},
   "outputs": [],
   "source": []
  }
 ],
 "metadata": {
  "kernelspec": {
   "display_name": ".venv",
   "language": "python",
   "name": "python3"
  },
  "language_info": {
   "codemirror_mode": {
    "name": "ipython",
    "version": 3
   },
   "file_extension": ".py",
   "mimetype": "text/x-python",
   "name": "python",
   "nbconvert_exporter": "python",
   "pygments_lexer": "ipython3",
   "version": "3.12.6"
  }
 },
 "nbformat": 4,
 "nbformat_minor": 2
}
