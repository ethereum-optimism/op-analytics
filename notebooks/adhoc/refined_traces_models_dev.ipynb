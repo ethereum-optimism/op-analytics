{
 "cells": [
  {
   "cell_type": "markdown",
   "metadata": {},
   "source": [
    "## Prepare data reader and model execution context"
   ]
  },
  {
   "cell_type": "code",
   "execution_count": 8,
   "metadata": {},
   "outputs": [
    {
     "name": "stdout",
     "output_type": "stream",
     "text": [
      "\u001b[2m2025-01-08 15:05:29\u001b[0m [\u001b[32m\u001b[1minfo     \u001b[0m] \u001b[1mprepared 91 input batches.    \u001b[0m \u001b[36mfilename\u001b[0m=\u001b[35mbyblock.py\u001b[0m \u001b[36mlineno\u001b[0m=\u001b[35m83\u001b[0m \u001b[36mprocess\u001b[0m=\u001b[35m19105\u001b[0m\n",
      "DataReader(partitions=Partition(cols=[PartitionColumn(name='chain', value='op'),\n",
      "                                      PartitionColumn(name='dt',\n",
      "                                                      value='2024-11-17')]),\n",
      "           read_from=DataLocation.GCS,\n",
      "           dataset_paths={'ingestion/blocks_v1': ['gs://oplabs-tools-data-sink/ingestion/blocks_v1/chain=op/dt=2024-11-17/000128100000.parquet'],\n",
      "                          'ingestion/traces_v1': ['gs://oplabs-tools-data-sink/ingestion/traces_v1/chain=op/dt=2024-11-17/000128100000.parquet'],\n",
      "                          'ingestion/transactions_v1': ['gs://oplabs-tools-data-sink/ingestion/transactions_v1/chain=op/dt=2024-11-17/000128100000.parquet']},\n",
      "           inputs_ready=True,\n",
      "           extra_marker_data={'max_block': 128102000,\n",
      "                              'min_block': 128100000,\n",
      "                              'num_blocks': 2000})\n",
      "\u001b[2m2025-01-08 15:05:29\u001b[0m [\u001b[32m\u001b[1minfo     \u001b[0m] \u001b[1mreading dataset='ingestion/blocks_v1' using 1/1 parquet paths, first path is gs://oplabs-tools-data-sink/ingestion/blocks_v1/chain=op/dt=2024-11-17/000128100000.parquet\u001b[0m \u001b[36mfilename\u001b[0m=\u001b[35mreader.py\u001b[0m \u001b[36mlineno\u001b[0m=\u001b[35m68\u001b[0m \u001b[36mprocess\u001b[0m=\u001b[35m19105\u001b[0m\n",
      "\u001b[2m2025-01-08 15:05:29\u001b[0m [\u001b[32m\u001b[1minfo     \u001b[0m] \u001b[1mreading dataset='ingestion/traces_v1' using 1/1 parquet paths, first path is gs://oplabs-tools-data-sink/ingestion/traces_v1/chain=op/dt=2024-11-17/000128100000.parquet\u001b[0m \u001b[36mfilename\u001b[0m=\u001b[35mreader.py\u001b[0m \u001b[36mlineno\u001b[0m=\u001b[35m68\u001b[0m \u001b[36mprocess\u001b[0m=\u001b[35m19105\u001b[0m\n",
      "\u001b[2m2025-01-08 15:05:29\u001b[0m [\u001b[32m\u001b[1minfo     \u001b[0m] \u001b[1mreading dataset='ingestion/transactions_v1' using 1/1 parquet paths, first path is gs://oplabs-tools-data-sink/ingestion/transactions_v1/chain=op/dt=2024-11-17/000128100000.parquet\u001b[0m \u001b[36mfilename\u001b[0m=\u001b[35mreader.py\u001b[0m \u001b[36mlineno\u001b[0m=\u001b[35m68\u001b[0m \u001b[36mprocess\u001b[0m=\u001b[35m19105\u001b[0m\n",
      "\n",
      "INPUT: ingestion/blocks_v1\n",
      "INPUT: ingestion/traces_v1\n",
      "INPUT: ingestion/transactions_v1\n",
      "\n",
      "AUX VIEW: refined_transactions_fees\n",
      "AUX VIEW: refined_traces/traces_projection\n",
      "AUX VIEW: refined_traces/traces_with_gas_used\n",
      "AUX VIEW: refined_traces/traces_txs_join\n"
     ]
    }
   ],
   "source": [
    "from pprint import pprint\n",
    "\n",
    "from op_analytics.coreutils.partitioned.location import DataLocation\n",
    "from op_analytics.coreutils.partitioned.reader import DataReader\n",
    "from op_analytics.datapipeline.etl.ingestion.reader.request import BlockBatchRequest\n",
    "from op_analytics.datapipeline.etl.blockbatch.construct import construct_data_readers\n",
    "from op_analytics.datapipeline.models.compute.testutils import setup_execution_context\n",
    "\n",
    "model_name = \"refined_traces\"\n",
    "\n",
    "# Define the input data range.\n",
    "readers: list[DataReader] = construct_data_readers(\n",
    "    blockbatch_request=BlockBatchRequest.build(\n",
    "        chains=[\"op\"],\n",
    "        range_spec=\"@20241118:+1\",\n",
    "    ),\n",
    "    models=[model_name],\n",
    "    read_from=DataLocation.GCS,\n",
    ")\n",
    "\n",
    "\n",
    "# Show details for the batch we are processing.\n",
    "pprint(readers[0])\n",
    "\n",
    "# Set up execution context and get handles to model input args.\n",
    "# In subsequent cells you can use the model input args however you want.\n",
    "ctx, input_datasets, aux_views = setup_execution_context(\n",
    "    model_name=model_name,\n",
    "    data_reader=readers[0],  # use the first reader\n",
    ")\n"
   ]
  },
  {
   "cell_type": "markdown",
   "metadata": {},
   "source": [
    "## Execute the model\n",
    "\n",
    "It's up to you how the model manipulates the data. \n",
    "\n",
    "Develop the various steps in notebook cells and then copy the final code over to the model function."
   ]
  },
  {
   "cell_type": "code",
   "execution_count": 2,
   "metadata": {},
   "outputs": [
    {
     "name": "stdout",
     "output_type": "stream",
     "text": [
      "\u001b[2m2025-01-08 15:02:36\u001b[0m [\u001b[32m\u001b[1minfo     \u001b[0m] \u001b[1mconstructed read_parquet() string with 1 paths\u001b[0m \u001b[36mfilename\u001b[0m=\u001b[35mclient.py\u001b[0m \u001b[36mlineno\u001b[0m=\u001b[35m245\u001b[0m \u001b[36mprocess\u001b[0m=\u001b[35m19105\u001b[0m\n",
      "\u001b[2m2025-01-08 15:02:36\u001b[0m [\u001b[32m\u001b[1minfo     \u001b[0m] \u001b[1mconstructed read_parquet() string with 1 paths\u001b[0m \u001b[36mfilename\u001b[0m=\u001b[35mclient.py\u001b[0m \u001b[36mlineno\u001b[0m=\u001b[35m245\u001b[0m \u001b[36mprocess\u001b[0m=\u001b[35m19105\u001b[0m\n",
      "\u001b[2m2025-01-08 15:02:36\u001b[0m [\u001b[32m\u001b[1minfo     \u001b[0m] \u001b[1mRendering query               \u001b[0m \u001b[36mfilename\u001b[0m=\u001b[35mquerybuilder.py\u001b[0m \u001b[36mlineno\u001b[0m=\u001b[35m40\u001b[0m \u001b[36mprocess\u001b[0m=\u001b[35m19105\u001b[0m \u001b[36mtemplate\u001b[0m=\u001b[35mrefined_transactions_fees\u001b[0m\n",
      "\u001b[2m2025-01-08 15:02:40\u001b[0m [\u001b[32m\u001b[1minfo     \u001b[0m] \u001b[1mduck db size: 12.3KB          \u001b[0m \u001b[36mfilename\u001b[0m=\u001b[35mclient.py\u001b[0m \u001b[36mlineno\u001b[0m=\u001b[35m36\u001b[0m \u001b[36mprocess\u001b[0m=\u001b[35m19105\u001b[0m\n",
      "\u001b[2m2025-01-08 15:02:40\u001b[0m [\u001b[32m\u001b[1minfo     \u001b[0m] \u001b[1mconstructed read_parquet() string with 1 paths\u001b[0m \u001b[36mfilename\u001b[0m=\u001b[35mclient.py\u001b[0m \u001b[36mlineno\u001b[0m=\u001b[35m245\u001b[0m \u001b[36mprocess\u001b[0m=\u001b[35m19105\u001b[0m\n",
      "\u001b[2m2025-01-08 15:02:40\u001b[0m [\u001b[32m\u001b[1minfo     \u001b[0m] \u001b[1mRendering query               \u001b[0m \u001b[36mfilename\u001b[0m=\u001b[35mquerybuilder.py\u001b[0m \u001b[36mlineno\u001b[0m=\u001b[35m40\u001b[0m \u001b[36mprocess\u001b[0m=\u001b[35m19105\u001b[0m \u001b[36mtemplate\u001b[0m=\u001b[35mrefined_traces/traces_projection\u001b[0m\n",
      "\u001b[2m2025-01-08 15:02:43\u001b[0m [\u001b[32m\u001b[1minfo     \u001b[0m] \u001b[1mduck db size: 14.2MB          \u001b[0m \u001b[36mfilename\u001b[0m=\u001b[35mclient.py\u001b[0m \u001b[36mlineno\u001b[0m=\u001b[35m36\u001b[0m \u001b[36mprocess\u001b[0m=\u001b[35m19105\u001b[0m\n",
      "\u001b[2m2025-01-08 15:02:43\u001b[0m [\u001b[32m\u001b[1minfo     \u001b[0m] \u001b[1mRendering query               \u001b[0m \u001b[36mfilename\u001b[0m=\u001b[35mquerybuilder.py\u001b[0m \u001b[36mlineno\u001b[0m=\u001b[35m40\u001b[0m \u001b[36mprocess\u001b[0m=\u001b[35m19105\u001b[0m \u001b[36mtemplate\u001b[0m=\u001b[35mrefined_traces/traces_with_gas_used\u001b[0m\n",
      "\u001b[2m2025-01-08 15:02:43\u001b[0m [\u001b[32m\u001b[1minfo     \u001b[0m] \u001b[1mduck db size: 27.3MB          \u001b[0m \u001b[36mfilename\u001b[0m=\u001b[35mclient.py\u001b[0m \u001b[36mlineno\u001b[0m=\u001b[35m36\u001b[0m \u001b[36mprocess\u001b[0m=\u001b[35m19105\u001b[0m\n",
      "\u001b[2m2025-01-08 15:02:43\u001b[0m [\u001b[32m\u001b[1minfo     \u001b[0m] \u001b[1mRendering query               \u001b[0m \u001b[36mfilename\u001b[0m=\u001b[35mquerybuilder.py\u001b[0m \u001b[36mlineno\u001b[0m=\u001b[35m40\u001b[0m \u001b[36mprocess\u001b[0m=\u001b[35m19105\u001b[0m \u001b[36mtemplate\u001b[0m=\u001b[35mrefined_traces/traces_txs_join\u001b[0m\n",
      "\u001b[2m2025-01-08 15:02:43\u001b[0m [\u001b[32m\u001b[1minfo     \u001b[0m] \u001b[1mduck db size: 53.0MB          \u001b[0m \u001b[36mfilename\u001b[0m=\u001b[35mclient.py\u001b[0m \u001b[36mlineno\u001b[0m=\u001b[35m36\u001b[0m \u001b[36mprocess\u001b[0m=\u001b[35m19105\u001b[0m\n"
     ]
    }
   ],
   "source": [
    "refined_txs_table = aux_views[\"refined_transactions_fees\"].create_table(\n",
    "    duckdb_context=ctx,\n",
    "    template_parameters={\n",
    "        \"raw_blocks\": input_datasets[\"ingestion/blocks_v1\"].as_subquery(),\n",
    "        \"raw_transactions\": input_datasets[\"ingestion/transactions_v1\"].as_subquery(),\n",
    "    }\n",
    ")\n",
    "\n",
    "refined_traces_projection = aux_views[\"refined_traces/traces_projection\"].create_table(\n",
    "    duckdb_context=ctx,\n",
    "    template_parameters={\n",
    "        \"raw_traces\": input_datasets[\"ingestion/traces_v1\"].as_subquery(),\n",
    "    },\n",
    ")\n",
    "\n",
    "traces_with_gas_used = aux_views[\"refined_traces/traces_with_gas_used\"].create_table(\n",
    "    duckdb_context=ctx,\n",
    "    template_parameters={\n",
    "        \"refined_traces_projection\": refined_traces_projection,\n",
    "    },\n",
    ")\n",
    "\n",
    "traces_txs_join = aux_views[\"refined_traces/traces_txs_join\"].create_table(\n",
    "    duckdb_context=ctx,\n",
    "    template_parameters={\n",
    "        \"traces_with_gas_used\": traces_with_gas_used,\n",
    "        \"refined_transactions_fees\": refined_txs_table,\n",
    "    },\n",
    ")"
   ]
  },
  {
   "cell_type": "code",
   "execution_count": 5,
   "metadata": {},
   "outputs": [
    {
     "name": "stdout",
     "output_type": "stream",
     "text": [
      "┌────────────┬─────────┬──────────┬─────────┬──────────────┬─────────────────┬────────────────────────────────────────────────────────────────────┬───────────────────┬────────────────────────────────────────────┬────────────────────────────────────────────┬─────────────────┬────────────────┬───────────────┬────────────┬───────────┬────────────────────┬─────────────────┬───────────────┬─────────────┬──────────────────────┬───────────────────┬────────────────────────┬──────────────────────────┬──────────────────────────────────┬───────────────────────────────────────┬───────────────────────────────────────────┬──────────────────────────────────────────────┬──────────────────────────────────┬──────────────────────────────────────────┬──────────────────────────────────────────┬──────────────────────────────────────────┬─────────────────────────────────────┬─────────────────────────────────┬────────────────────────────────────┬────────────────────────────────────┬─────────────────────────────────────────┬─────────────────────────────────────────────┐\n",
      "│     dt     │  chain  │ chain_id │ network │ block_number │ block_timestamp │                          transaction_hash                          │ transaction_index │             trace_from_address             │              trace_to_address              │ trace_gas_limit │ trace_gas_used │ trace_address │ trace_type │ call_type │       error        │ trace_method_id │ trace_success │ trace_depth │ parent_trace_address │ num_traces_in_txn │ sum_subtraces_gas_used │ gas_used_minus_subtraces │ tx_l2_fee_native_minus_subtraces │ tx_l2_base_fee_native_minus_subtraces │ tx_l2_priority_fee_native_minus_subtraces │ tx_l2_legacy_base_fee_native_minus_subtraces │ tx_l2_gas_used_amortized_by_call │ tx_l1_gas_used_unified_amortized_by_call │ tx_l1_base_scaled_size_amortized_by_call │ tx_l1_blob_scaled_size_amortized_by_call │ tx_estimated_size_amortized_by_call │ tx_fee_native_amortized_by_call │ tx_l2_fee_native_amortized_by_call │ tx_l1_fee_native_amortized_by_call │ tx_l2_base_fee_native_amortized_by_call │ tx_l2_priority_fee_native_amortized_by_call │\n",
      "│    date    │ varchar │  int32   │ varchar │    int64     │     uint32      │                              varchar                               │       int64       │                  varchar                   │                  varchar                   │      int64      │     int64      │    varchar    │  varchar   │  varchar  │      varchar       │     varchar     │    boolean    │    int64    │       varchar        │       int64       │         int128         │          int128          │          decimal(38,20)          │            decimal(38,20)             │              decimal(38,20)               │                decimal(38,20)                │              double              │                  double                  │                  double                  │                  double                  │               double                │             double              │               double               │               double               │                 double                  │                   double                    │\n",
      "├────────────┼─────────┼──────────┼─────────┼──────────────┼─────────────────┼────────────────────────────────────────────────────────────────────┼───────────────────┼────────────────────────────────────────────┼────────────────────────────────────────────┼─────────────────┼────────────────┼───────────────┼────────────┼───────────┼────────────────────┼─────────────────┼───────────────┼─────────────┼──────────────────────┼───────────────────┼────────────────────────┼──────────────────────────┼──────────────────────────────────┼───────────────────────────────────────┼───────────────────────────────────────────┼──────────────────────────────────────────────┼──────────────────────────────────┼──────────────────────────────────────────┼──────────────────────────────────────────┼──────────────────────────────────────────┼─────────────────────────────────────┼─────────────────────────────────┼────────────────────────────────────┼────────────────────────────────────┼─────────────────────────────────────────┼─────────────────────────────────────────────┤\n",
      "│ 2024-11-17 │ op      │       10 │ mainnet │    128101940 │      1731802657 │ 0x348e71e1290557d15582057f46562e1b05b6ab821d9e80015b2cd186b622ed47 │                25 │ 0x08aa6359f9c5a3e3ee0f3d618ab986a4bcd551bc │ 0x9f5b558c95292f13fa9e0328ac4d3f129c2d9562 │           97110 │          96146 │               │ call       │ call      │                    │ 0xda47dc32      │ true          │           0 │ none                 │                 1 │                      0 │                    96146 │           0.00000009619397685400 │                0.00000000004797685400 │                    0.00000009614600000000 │                       0.00000000000000000000 │                          96146.0 │                                   2022.0 │                                10.568994 │                            128.171167875 │                               126.0 │               5.04472706132e-07 │                   9.6193976854e-08 │                  4.08278729278e-07 │                           4.7976854e-11 │                                  9.6146e-08 │\n",
      "│ 2024-11-17 │ op      │       10 │ mainnet │    128101425 │      1731801627 │ 0x4e6f69f3ed0c04464113c7a8c6550a530b4c3ed492b6040725eab994f1ede5cd │                15 │ 0xae0b5df2dfaacd6eb6c1c56cc710f529f31c6c44 │ 0xabf4daac18925530d1e4f99fd538d57b8bf1017c │        15000000 │         517181 │               │ call       │ call      │                    │ 0x24f88863      │ true          │           0 │ none                 │                44 │                  30205 │                   486976 │           0.00000000023569638400 │                0.00000000023520940800 │                    0.00000000000048697600 │                       0.00000000000000000000 │               11754.113636363636 │                        36.36363636363637 │                      0.19007272727272728 │                       2.3050295454545453 │                   2.272727272727273 │           8.343964334681817e-09 │                       5.688991e-12 │              8.338275343681818e-09 │                  5.6772368863636356e-12 │                      1.1754113636363637e-14 │\n",
      "│ 2024-11-17 │ op      │       10 │ mainnet │    128101941 │      1731802659 │ 0xcbf8982b70f004fcf181a0960dcbdd7219bdbb0a2e5501a256b20b1e032e5352 │                14 │ 0x03cf14af19167a26975cf7c4e4ca301d3b6fd24c │ 0x35f048853b59400fbec80748592904f66374cfc0 │         2816000 │         462894 │               │ call       │ call      │                    │ 0x20af6029      │ true          │           0 │ none                 │                60 │                 517458 │                   -54564 │          -0.00000019643040000000 │               -0.00000000002728200000 │                   -0.00000019643040000000 │                       0.00000000000000000000 │                           7714.9 │                                     79.2 │                                0.4139784 │                        5.020354350000001 │                                4.95 │          4.3765795745633337e-08 │             2.7773640000000002e-08 │              1.599215574563333e-08 │                             3.85745e-12 │                      2.7773640000000002e-08 │\n",
      "│ 2024-11-17 │ op      │       10 │ mainnet │    128101942 │      1731802661 │ 0xedf6b84eb70417f847b04716e6923bcbd69e42122a4187594ca0673b3245eeb5 │                17 │ 0xc97240c92596276b8b9366064123fd76a1207164 │ 0x24f6f36a551fe6008fa80afcff1d6ace182ead2b │          800000 │         305090 │               │ call       │ call      │                    │ 0x540817d7      │ true          │           0 │ none                 │                 8 │                 264042 │                    41048 │           0.00000004001198952800 │                0.00000000002056504800 │                    0.00000003999142448000 │                       0.00000000000000000000 │                         38136.25 │                                    200.0 │                                   1.0454 │                               12.6776625 │                                12.5 │             7.7553419851375e-08 │                 3.717372918625e-08 │                4.0379690665125e-08 │                         1.910626125e-11 │                            3.7154622925e-08 │\n",
      "│ 2024-11-17 │ op      │       10 │ mainnet │    128101941 │      1731802659 │ 0x9aeaed8d36d95dc225d2c826a8d3200360c08313495150efc5d12256cd2d5676 │                25 │ 0x525868063dfb084a3542e2dfeb60d81e21d79c31 │ 0x64812f1212f6276068a0726f4695a6637da3e4f8 │           42974 │          28302 │               │ call       │ call      │                    │ 0x5b7d7482      │ true          │           0 │ none                 │                 1 │                      0 │                    28302 │           0.00000002831615100000 │                0.00000000001415100000 │                    0.00000002830200000000 │                       0.00000000000000000000 │                          28302.0 │                                   3012.0 │                                15.743724 │                             190.92559725 │                               188.0 │               6.36558338827e-07 │                      2.8316151e-08 │                  6.08242187827e-07 │                              1.4151e-11 │                                  2.8302e-08 │\n",
      "│ 2024-11-17 │ op      │       10 │ mainnet │    128101937 │      1731802651 │ 0x120922bae9e73ed7a750796610e4f569a35289bace34752d7cece6ac3d0dc557 │                11 │ 0xefc8d05a780e052d2969f3d268f05c0d7032ff76 │ 0x1195cf65f83b3a5768f3c496d3a05ad6412c64b7 │          465257 │         300225 │               │ call       │ call      │                    │ 0xd123b4d8      │ true          │           0 │ none                 │                 8 │                 268047 │                    32178 │           0.00000003219730680000 │                0.00000000001602464400 │                    0.00000000000000000000 │                       0.00000003218128215600 │                        37528.125 │                                  878.375 │                              4.591266125 │                         55.6787089921875 │                              54.875 │             2.1491374907775e-07 │                   3.7550641875e-08 │                1.7736310720275e-07 │                         1.868900625e-11 │                                         0.0 │\n",
      "│ 2024-11-17 │ op      │       10 │ mainnet │    128101943 │      1731802663 │ 0x70e3d1200e3e44fb51fd3d64dec1c7db9ed9c855823be53cda6d11caa9bbad9a │                 2 │ 0xa49a3cea9d821ad480b5f67525bee8ecaa768abd │ 0x416b433906b1b72fa758e166e239c43d68dc6f29 │          600000 │         441966 │               │ call       │ call      │                    │ 0xb5007d1f      │ true          │           0 │ none                 │                19 │                 176628 │                   265338 │           0.00000192591182689200 │                0.00000000013293433800 │                    0.00000192577889255400 │                       0.00000000000000000000 │                23261.36842105263 │                       140.94736842105263 │                       0.7367318947368421 │                        8.934415835526316 │                   8.789473684210526 │          1.9729598999936842e-07 │             1.6883878129705262e-07 │             2.8457208702315788e-08 │                   1.165394557894737e-11 │                      1.6882712735147367e-07 │\n",
      "│ 2024-11-17 │ op      │       10 │ mainnet │    128101939 │      1731802655 │ 0x3f494eab834f6281cc8c9d3e83e4828bd61b26b7d63be491ce318e73897f5f87 │                 5 │ 0xece70abf2499e2c93afae1b2093adc7817756c33 │ 0x8864dedd579cd1d7c36e099adf18465a8ded456d │          400000 │          37878 │               │ call       │ call      │ execution reverted │ 0xdbd2893a      │ false         │           0 │ none                 │                 4 │                   5609 │                    32269 │           0.00000210907157167800 │                0.00000000001606996200 │                    0.00000000000000000000 │                       0.00000210905550171600 │                           9469.5 │                                    400.0 │                                   2.0908 │                                25.355325 │                                25.0 │             6.9967701893925e-07 │                  6.18917637609e-07 │                 8.075938133025e-08 │                            4.715811e-12 │                                         0.0 │\n",
      "│ 2024-11-17 │ op      │       10 │ mainnet │    128101942 │      1731802661 │ 0xf73aa8c6b0aaf16f6e5f31d1d9e7ce173acec6c4fc86791acaee886fc2970ec2 │                 2 │ 0xbcc4521e1c9dba7df87afa9fcc0fc2b554226392 │ 0x06a8087693b98e068b79f362687c718de6e5b5ae │         1382000 │         296421 │               │ call       │ call      │                    │ 0x00000001      │ true          │           0 │ none                 │                51 │                 296247 │                      174 │           0.00000000743297741400 │                0.00000000000008717400 │                    0.00000000000000000000 │                       0.00000000743289024000 │                5812.176470588235 │                         55.3921568627451 │                       0.2895348039215686 │                        3.511215349264706 │                  3.4705882352941178 │           2.594706060219216e-07 │             2.4828607144864704e-07 │              1.118453457327451e-08 │                  2.9119004117647063e-12 │                                         0.0 │\n",
      "│ 2024-11-17 │ op      │       10 │ mainnet │    128101937 │      1731802651 │ 0x1685f47665e16ac8b5b851a8b34f2c2f27b36efb051dd102913a32b57fd0718c │                 7 │ 0x3c9779d3ec32ed4985a3e634c44d38c517564f5b │ 0xd3dc079ac6f98275bbbcd0aff11cbaadb4d8f2ac │         5000000 │         355391 │               │ call       │ call      │                    │ 0x0001          │ true          │           0 │ none                 │                38 │                  36381 │                   319010 │           0.00000066749333390000 │                0.00000000015886698000 │                    0.00000066733446692000 │                       0.00000000000000000000 │                9352.394736842105 │                        42.10526315789474 │                       0.2200842105263158 │                       2.6689815789473683 │                  2.6315789473684212 │          2.8069844731868425e-08 │             1.9568857223421052e-08 │              8.500987508447369e-09 │                   4.657492578947368e-12 │                      1.9564199730842106e-08 │\n",
      "├────────────┴─────────┴──────────┴─────────┴──────────────┴─────────────────┴────────────────────────────────────────────────────────────────────┴───────────────────┴────────────────────────────────────────────┴────────────────────────────────────────────┴─────────────────┴────────────────┴───────────────┴────────────┴───────────┴────────────────────┴─────────────────┴───────────────┴─────────────┴──────────────────────┴───────────────────┴────────────────────────┴──────────────────────────┴──────────────────────────────────┴───────────────────────────────────────┴───────────────────────────────────────────┴──────────────────────────────────────────────┴──────────────────────────────────┴──────────────────────────────────────────┴──────────────────────────────────────────┴──────────────────────────────────────────┴─────────────────────────────────────┴─────────────────────────────────┴────────────────────────────────────┴────────────────────────────────────┴─────────────────────────────────────────┴─────────────────────────────────────────────┤\n",
      "│ 10 rows                                                                                                                                                                                                                                                                                                                                                                                                                                                                                                                                                                                                                                                                                                                                                                                                                                                                                                                                                                                                                                                                                37 columns │\n",
      "└───────────────────────────────────────────────────────────────────────────────────────────────────────────────────────────────────────────────────────────────────────────────────────────────────────────────────────────────────────────────────────────────────────────────────────────────────────────────────────────────────────────────────────────────────────────────────────────────────────────────────────────────────────────────────────────────────────────────────────────────────────────────────────────────────────────────────────────────────────────────────────────────────────────────────────────────────────────────────────────────────────────────────────────────────────────────────────────────────────────────────────────────────────────────────────────────────────────────────────────────────────────────────────────────────────────────────────────────────────────────────────────────────────────────────────────────────────────────────────────────────────────────────────────────────────────────────────────────────────────────────────────────────┘\n",
      "\n"
     ]
    }
   ],
   "source": [
    "ctx.client.sql(\"\"\"\n",
    "SELECT * FROM refined_traces__traces_txs_join\n",
    "WHERE transaction_hash = '0x348e71e1290557d15582057f46562e1b05b6ab821d9e80015b2cd186b622ed47'\n",
    "ORDER BY trace_address\n",
    "LIMIT 10\n",
    "\"\"\").show(max_rows=100)"
   ]
  },
  {
   "cell_type": "code",
   "execution_count": 9,
   "metadata": {},
   "outputs": [
    {
     "name": "stdout",
     "output_type": "stream",
     "text": [
      "┌─────────────────────────────────────┬────────────────┬─────────┬─────────┬─────────┬─────────┐\n",
      "│             column_name             │  column_type   │  null   │   key   │ default │  extra  │\n",
      "│               varchar               │    varchar     │ varchar │ varchar │ varchar │ varchar │\n",
      "├─────────────────────────────────────┼────────────────┼─────────┼─────────┼─────────┼─────────┤\n",
      "│ dt                                  │ DATE           │ YES     │ NULL    │ NULL    │ NULL    │\n",
      "│ chain                               │ VARCHAR        │ YES     │ NULL    │ NULL    │ NULL    │\n",
      "│ chain_id                            │ INTEGER        │ YES     │ NULL    │ NULL    │ NULL    │\n",
      "│ network                             │ VARCHAR        │ YES     │ NULL    │ NULL    │ NULL    │\n",
      "│ nonce                               │ BIGINT         │ YES     │ NULL    │ NULL    │ NULL    │\n",
      "│ transaction_index                   │ BIGINT         │ YES     │ NULL    │ NULL    │ NULL    │\n",
      "│ from_address                        │ VARCHAR        │ YES     │ NULL    │ NULL    │ NULL    │\n",
      "│ to_address                          │ VARCHAR        │ YES     │ NULL    │ NULL    │ NULL    │\n",
      "│ block_number                        │ BIGINT         │ YES     │ NULL    │ NULL    │ NULL    │\n",
      "│ block_timestamp                     │ UINTEGER       │ YES     │ NULL    │ NULL    │ NULL    │\n",
      "│ hash                                │ VARCHAR        │ YES     │ NULL    │ NULL    │ NULL    │\n",
      "│ transaction_type                    │ INTEGER        │ YES     │ NULL    │ NULL    │ NULL    │\n",
      "│ gas_price                           │ BIGINT         │ YES     │ NULL    │ NULL    │ NULL    │\n",
      "│ gas_limit                           │ BIGINT         │ YES     │ NULL    │ NULL    │ NULL    │\n",
      "│ l2_gas_used                         │ BIGINT         │ YES     │ NULL    │ NULL    │ NULL    │\n",
      "│ receipt_l1_gas_used                 │ BIGINT         │ YES     │ NULL    │ NULL    │ NULL    │\n",
      "│ l1_fee                              │ BIGINT         │ YES     │ NULL    │ NULL    │ NULL    │\n",
      "│ l1_gas_price                        │ BIGINT         │ YES     │ NULL    │ NULL    │ NULL    │\n",
      "│ l1_blob_base_fee                    │ BIGINT         │ YES     │ NULL    │ NULL    │ NULL    │\n",
      "│ base_fee_per_gas                    │ BIGINT         │ YES     │ NULL    │ NULL    │ NULL    │\n",
      "│ max_priority_fee_per_gas            │ BIGINT         │ YES     │ NULL    │ NULL    │ NULL    │\n",
      "│ l1_fee_scalar                       │ DECIMAL(12,6)  │ YES     │ NULL    │ NULL    │ NULL    │\n",
      "│ l1_base_fee_scalar                  │ DECIMAL(26,7)  │ YES     │ NULL    │ NULL    │ NULL    │\n",
      "│ l1_blob_base_fee_scalar             │ DECIMAL(26,7)  │ YES     │ NULL    │ NULL    │ NULL    │\n",
      "│ legacy_extra_fee_per_gas            │ BIGINT         │ YES     │ NULL    │ NULL    │ NULL    │\n",
      "│ l2_fee                              │ BIGINT         │ YES     │ NULL    │ NULL    │ NULL    │\n",
      "│ l2_priority_fee                     │ BIGINT         │ YES     │ NULL    │ NULL    │ NULL    │\n",
      "│ l2_base_fee                         │ BIGINT         │ YES     │ NULL    │ NULL    │ NULL    │\n",
      "│ method_id                           │ VARCHAR        │ YES     │ NULL    │ NULL    │ NULL    │\n",
      "│ success                             │ BOOLEAN        │ YES     │ NULL    │ NULL    │ NULL    │\n",
      "│ input_byte_length                   │ INTEGER        │ YES     │ NULL    │ NULL    │ NULL    │\n",
      "│ input_zero_bytes                    │ INTEGER        │ YES     │ NULL    │ NULL    │ NULL    │\n",
      "│ is_system_transaction               │ BOOLEAN        │ YES     │ NULL    │ NULL    │ NULL    │\n",
      "│ is_attributes_deposited_transaction │ BOOLEAN        │ YES     │ NULL    │ NULL    │ NULL    │\n",
      "│ block_hour                          │ TIMESTAMP      │ YES     │ NULL    │ NULL    │ NULL    │\n",
      "│ estimated_size                      │ BIGINT         │ YES     │ NULL    │ NULL    │ NULL    │\n",
      "│ l1_gas_used_unified                 │ BIGINT         │ YES     │ NULL    │ NULL    │ NULL    │\n",
      "│ tx_fee                              │ BIGINT         │ YES     │ NULL    │ NULL    │ NULL    │\n",
      "│ l2_legacy_extra_fee                 │ BIGINT         │ YES     │ NULL    │ NULL    │ NULL    │\n",
      "│ l1_base_fee                         │ DECIMAL(38,12) │ YES     │ NULL    │ NULL    │ NULL    │\n",
      "│ l1_base_scaled_size                 │ DECIMAL(38,12) │ YES     │ NULL    │ NULL    │ NULL    │\n",
      "│ l1_blob_fee                         │ DECIMAL(38,12) │ YES     │ NULL    │ NULL    │ NULL    │\n",
      "│ l1_blob_scaled_size                 │ DECIMAL(38,12) │ YES     │ NULL    │ NULL    │ NULL    │\n",
      "│ tx_fee_native                       │ DECIMAL(38,19) │ YES     │ NULL    │ NULL    │ NULL    │\n",
      "│ l1_fee_native                       │ DECIMAL(38,19) │ YES     │ NULL    │ NULL    │ NULL    │\n",
      "│ l2_fee_native                       │ DECIMAL(38,19) │ YES     │ NULL    │ NULL    │ NULL    │\n",
      "│ l1_base_fee_native                  │ DECIMAL(38,19) │ YES     │ NULL    │ NULL    │ NULL    │\n",
      "│ l1_blob_fee_native                  │ DECIMAL(38,19) │ YES     │ NULL    │ NULL    │ NULL    │\n",
      "│ l2_base_fee_native                  │ DECIMAL(38,19) │ YES     │ NULL    │ NULL    │ NULL    │\n",
      "│ l2_priority_fee_native              │ DECIMAL(38,19) │ YES     │ NULL    │ NULL    │ NULL    │\n",
      "│ l2_legacy_extra_fee_native          │ DECIMAL(38,19) │ YES     │ NULL    │ NULL    │ NULL    │\n",
      "│ l2_gas_price_gwei                   │ DECIMAL(38,10) │ YES     │ NULL    │ NULL    │ NULL    │\n",
      "│ l2_base_gas_price_gwei              │ DECIMAL(38,10) │ YES     │ NULL    │ NULL    │ NULL    │\n",
      "│ l2_priority_gas_price_gwei          │ DECIMAL(38,10) │ YES     │ NULL    │ NULL    │ NULL    │\n",
      "│ l2_legacy_extra_gas_price_gwei      │ DECIMAL(38,10) │ YES     │ NULL    │ NULL    │ NULL    │\n",
      "│ l1_base_gas_price_gwei              │ DECIMAL(38,10) │ YES     │ NULL    │ NULL    │ NULL    │\n",
      "│ l1_blob_base_gas_price_gwei         │ DECIMAL(38,10) │ YES     │ NULL    │ NULL    │ NULL    │\n",
      "├─────────────────────────────────────┴────────────────┴─────────┴─────────┴─────────┴─────────┤\n",
      "│ 57 rows                                                                            6 columns │\n",
      "└──────────────────────────────────────────────────────────────────────────────────────────────┘\n",
      "\n"
     ]
    }
   ],
   "source": [
    "ctx.client.sql(f\"\"\"DESCRIBE {refined_txs_table}\"\"\").show(max_rows=100)"
   ]
  },
  {
   "cell_type": "code",
   "execution_count": null,
   "metadata": {},
   "outputs": [],
   "source": []
  }
 ],
 "metadata": {
  "kernelspec": {
   "display_name": ".venv",
   "language": "python",
   "name": "python3"
  },
  "language_info": {
   "codemirror_mode": {
    "name": "ipython",
    "version": 3
   },
   "file_extension": ".py",
   "mimetype": "text/x-python",
   "name": "python",
   "nbconvert_exporter": "python",
   "pygments_lexer": "ipython3",
   "version": "3.12.6"
  }
 },
 "nbformat": 4,
 "nbformat_minor": 2
}
