{
 "cells": [
  {
   "cell_type": "code",
   "execution_count": 6,
   "metadata": {},
   "outputs": [
    {
     "data": {
      "text/plain": [
       "'https://mainnet.optimism.io'"
      ]
     },
     "execution_count": 6,
     "metadata": {},
     "output_type": "execute_result"
    }
   ],
   "source": [
    "from op_analytics.datasources.chainsrpc.erc20metadata import get_rpc_for_chain, execute_pull\n",
    "\n",
    "get_rpc_for_chain(10)"
   ]
  },
  {
   "cell_type": "code",
   "execution_count": 7,
   "metadata": {},
   "outputs": [
    {
     "name": "stdout",
     "output_type": "stream",
     "text": [
      "\u001b[2m2025-02-13 22:30:36\u001b[0m [\u001b[32m\u001b[1minfo     \u001b[0m] \u001b[1mfetched token metadata for TokenContract(chain='swan', chain_id=254, contract_address='0xbb4ec1b56cb624863298740fd264ef2f910d5564')\u001b[0m \u001b[36mcounter\u001b[0m=\u001b[35m004/010\u001b[0m \u001b[36meta\u001b[0m=\u001b[35mNone\u001b[0m \u001b[36mfilename\u001b[0m=\u001b[35merc20metadata.py\u001b[0m \u001b[36mlineno\u001b[0m=\u001b[35m149\u001b[0m \u001b[36mprocess\u001b[0m=\u001b[35m52591\u001b[0m\n",
      "\u001b[2m2025-02-13 22:30:36\u001b[0m [\u001b[32m\u001b[1minfo     \u001b[0m] \u001b[1mfetched token metadata for TokenContract(chain='mint', chain_id=185, contract_address='0x63cffa2af25090d850d0ffc23a0f57a41cdcfc3e')\u001b[0m \u001b[36mcounter\u001b[0m=\u001b[35m005/010\u001b[0m \u001b[36meta\u001b[0m=\u001b[35mNone\u001b[0m \u001b[36mfilename\u001b[0m=\u001b[35merc20metadata.py\u001b[0m \u001b[36mlineno\u001b[0m=\u001b[35m149\u001b[0m \u001b[36mprocess\u001b[0m=\u001b[35m52591\u001b[0m\n",
      "\u001b[2m2025-02-13 22:30:36\u001b[0m [\u001b[32m\u001b[1minfo     \u001b[0m] \u001b[1mfetched token metadata for TokenContract(chain='cyber', chain_id=7560, contract_address='0x14778860e937f509e651192a90589de711fb88a9')\u001b[0m \u001b[36mcounter\u001b[0m=\u001b[35m001/010\u001b[0m \u001b[36meta\u001b[0m=\u001b[35mNone\u001b[0m \u001b[36mfilename\u001b[0m=\u001b[35merc20metadata.py\u001b[0m \u001b[36mlineno\u001b[0m=\u001b[35m149\u001b[0m \u001b[36mprocess\u001b[0m=\u001b[35m52591\u001b[0m\n",
      "\u001b[2m2025-02-13 22:30:36\u001b[0m [\u001b[32m\u001b[1minfo     \u001b[0m] \u001b[1mfetched token metadata for TokenContract(chain='mint', chain_id=185, contract_address='0x05d032ac25d322df992303dca074ee7392c117b9')\u001b[0m \u001b[36mcounter\u001b[0m=\u001b[35m006/010\u001b[0m \u001b[36meta\u001b[0m=\u001b[35mNone\u001b[0m \u001b[36mfilename\u001b[0m=\u001b[35merc20metadata.py\u001b[0m \u001b[36mlineno\u001b[0m=\u001b[35m149\u001b[0m \u001b[36mprocess\u001b[0m=\u001b[35m52591\u001b[0m\n",
      "\u001b[2m2025-02-13 22:30:36\u001b[0m [\u001b[32m\u001b[1minfo     \u001b[0m] \u001b[1mfetched token metadata for TokenContract(chain='mint', chain_id=185, contract_address='0x15cb30c538bff5b90a6b0b9a6774487ba44c3f16')\u001b[0m \u001b[36mcounter\u001b[0m=\u001b[35m007/010\u001b[0m \u001b[36meta\u001b[0m=\u001b[35m1 secs\u001b[0m \u001b[36mfilename\u001b[0m=\u001b[35merc20metadata.py\u001b[0m \u001b[36mlineno\u001b[0m=\u001b[35m149\u001b[0m \u001b[36mprocess\u001b[0m=\u001b[35m52591\u001b[0m\n",
      "\u001b[2m2025-02-13 22:30:36\u001b[0m [\u001b[32m\u001b[1minfo     \u001b[0m] \u001b[1mfetched token metadata for TokenContract(chain='mint', chain_id=185, contract_address='0x1a08672d34845d254adc2d3b75ba653e96bc7a4c')\u001b[0m \u001b[36mcounter\u001b[0m=\u001b[35m008/010\u001b[0m \u001b[36meta\u001b[0m=\u001b[35m1 secs\u001b[0m \u001b[36mfilename\u001b[0m=\u001b[35merc20metadata.py\u001b[0m \u001b[36mlineno\u001b[0m=\u001b[35m149\u001b[0m \u001b[36mprocess\u001b[0m=\u001b[35m52591\u001b[0m\n",
      "\u001b[2m2025-02-13 22:30:36\u001b[0m [\u001b[32m\u001b[1minfo     \u001b[0m] \u001b[1mfetched token metadata for TokenContract(chain='mint', chain_id=185, contract_address='0x1ebeafd5ce947267dbf1694cc089f28f931877eb')\u001b[0m \u001b[36mcounter\u001b[0m=\u001b[35m009/010\u001b[0m \u001b[36meta\u001b[0m=\u001b[35m1 secs\u001b[0m \u001b[36mfilename\u001b[0m=\u001b[35merc20metadata.py\u001b[0m \u001b[36mlineno\u001b[0m=\u001b[35m149\u001b[0m \u001b[36mprocess\u001b[0m=\u001b[35m52591\u001b[0m\n",
      "\u001b[2m2025-02-13 22:30:36\u001b[0m [\u001b[32m\u001b[1minfo     \u001b[0m] \u001b[1mfetched token metadata for TokenContract(chain='mint', chain_id=185, contract_address='0x272e7d0ac2332ee23ab6f2f1e111b627756ab77b')\u001b[0m \u001b[36mcounter\u001b[0m=\u001b[35m010/010\u001b[0m \u001b[36meta\u001b[0m=\u001b[35m1 secs\u001b[0m \u001b[36mfilename\u001b[0m=\u001b[35merc20metadata.py\u001b[0m \u001b[36mlineno\u001b[0m=\u001b[35m149\u001b[0m \u001b[36mprocess\u001b[0m=\u001b[35m52591\u001b[0m\n",
      "\u001b[2m2025-02-13 22:30:36\u001b[0m [\u001b[32m\u001b[1minfo     \u001b[0m] \u001b[1mfetched token metadata for TokenContract(chain='kroma', chain_id=255, contract_address='0x0257e4d92c00c9efcca1d641b224d7d09cfa4522')\u001b[0m \u001b[36mcounter\u001b[0m=\u001b[35m002/010\u001b[0m \u001b[36meta\u001b[0m=\u001b[35mNone\u001b[0m \u001b[36mfilename\u001b[0m=\u001b[35merc20metadata.py\u001b[0m \u001b[36mlineno\u001b[0m=\u001b[35m149\u001b[0m \u001b[36mprocess\u001b[0m=\u001b[35m52591\u001b[0m\n",
      "\u001b[2m2025-02-13 22:30:36\u001b[0m [\u001b[32m\u001b[1minfo     \u001b[0m] \u001b[1mfetched token metadata for TokenContract(chain='kroma', chain_id=255, contract_address='0x4200000000000000000000000000000000000001')\u001b[0m \u001b[36mcounter\u001b[0m=\u001b[35m003/010\u001b[0m \u001b[36meta\u001b[0m=\u001b[35mNone\u001b[0m \u001b[36mfilename\u001b[0m=\u001b[35merc20metadata.py\u001b[0m \u001b[36mlineno\u001b[0m=\u001b[35m149\u001b[0m \u001b[36mprocess\u001b[0m=\u001b[35m52591\u001b[0m\n"
     ]
    }
   ],
   "source": [
    "raw_result = execute_pull()"
   ]
  },
  {
   "cell_type": "code",
   "execution_count": 3,
   "metadata": {},
   "outputs": [
    {
     "data": {
      "text/plain": [
       "{TokenContract(chain='swan', chain_id=254, contract_address='0xbb4ec1b56cb624863298740fd264ef2f910d5564'): {'chain': 'swan',\n",
       "  'chain_id': 254,\n",
       "  'contract_address': '0xbb4ec1b56cb624863298740fd264ef2f910d5564',\n",
       "  'decimals': 18,\n",
       "  'symbol': 'SWAN',\n",
       "  'name': 'Swan Token',\n",
       "  'total_supply': 92363045558845532272951750,\n",
       "  'block_number': 4172693,\n",
       "  'block_timestamp': 1739503680},\n",
       " TokenContract(chain='mint', chain_id=185, contract_address='0x63cffa2af25090d850d0ffc23a0f57a41cdcfc3e'): {'chain': 'mint',\n",
       "  'chain_id': 185,\n",
       "  'contract_address': '0x63cffa2af25090d850d0ffc23a0f57a41cdcfc3e',\n",
       "  'decimals': 18,\n",
       "  'symbol': 'Margarita ',\n",
       "  'name': 'Margarita ',\n",
       "  'total_supply': 157077478000000000000000000,\n",
       "  'block_number': 11947376,\n",
       "  'block_timestamp': 1739503683},\n",
       " TokenContract(chain='mint', chain_id=185, contract_address='0x05d032ac25d322df992303dca074ee7392c117b9'): {'chain': 'mint',\n",
       "  'chain_id': 185,\n",
       "  'contract_address': '0x05d032ac25d322df992303dca074ee7392c117b9',\n",
       "  'decimals': 6,\n",
       "  'symbol': 'USDT',\n",
       "  'name': 'Tether USD',\n",
       "  'total_supply': 200221347794,\n",
       "  'block_number': 11947376,\n",
       "  'block_timestamp': 1739503683},\n",
       " TokenContract(chain='cyber', chain_id=7560, contract_address='0x14778860e937f509e651192a90589de711fb88a9'): {'chain': 'cyber',\n",
       "  'chain_id': 7560,\n",
       "  'contract_address': '0x14778860e937f509e651192a90589de711fb88a9',\n",
       "  'decimals': 18,\n",
       "  'symbol': 'CYBER',\n",
       "  'name': 'CyberConnect',\n",
       "  'total_supply': 7398611579399000000000000,\n",
       "  'block_number': 13037557,\n",
       "  'block_timestamp': 1739503681},\n",
       " TokenContract(chain='mint', chain_id=185, contract_address='0x1a08672d34845d254adc2d3b75ba653e96bc7a4c'): {'chain': 'mint',\n",
       "  'chain_id': 185,\n",
       "  'contract_address': '0x1a08672d34845d254adc2d3b75ba653e96bc7a4c',\n",
       "  'decimals': 18,\n",
       "  'symbol': 'potenza555',\n",
       "  'name': 'potenza555',\n",
       "  'total_supply': 102545211000000000000000000,\n",
       "  'block_number': 11947376,\n",
       "  'block_timestamp': 1739503683},\n",
       " TokenContract(chain='mint', chain_id=185, contract_address='0x15cb30c538bff5b90a6b0b9a6774487ba44c3f16'): {'chain': 'mint',\n",
       "  'chain_id': 185,\n",
       "  'contract_address': '0x15cb30c538bff5b90a6b0b9a6774487ba44c3f16',\n",
       "  'decimals': 18,\n",
       "  'symbol': 'DDK',\n",
       "  'name': 'Dodik',\n",
       "  'total_supply': 183691990000000000000000000,\n",
       "  'block_number': 11947376,\n",
       "  'block_timestamp': 1739503683},\n",
       " TokenContract(chain='mint', chain_id=185, contract_address='0x1ebeafd5ce947267dbf1694cc089f28f931877eb'): {'chain': 'mint',\n",
       "  'chain_id': 185,\n",
       "  'contract_address': '0x1ebeafd5ce947267dbf1694cc089f28f931877eb',\n",
       "  'decimals': 18,\n",
       "  'symbol': \"Holdaran's\",\n",
       "  'name': 'Holdara',\n",
       "  'total_supply': 177892582000000000000000000,\n",
       "  'block_number': 11947376,\n",
       "  'block_timestamp': 1739503683},\n",
       " TokenContract(chain='mint', chain_id=185, contract_address='0x272e7d0ac2332ee23ab6f2f1e111b627756ab77b'): {'chain': 'mint',\n",
       "  'chain_id': 185,\n",
       "  'contract_address': '0x272e7d0ac2332ee23ab6f2f1e111b627756ab77b',\n",
       "  'decimals': 18,\n",
       "  'symbol': 'BRN',\n",
       "  'name': 'brown',\n",
       "  'total_supply': 181301557000000000000000000,\n",
       "  'block_number': 11947376,\n",
       "  'block_timestamp': 1739503683},\n",
       " TokenContract(chain='kroma', chain_id=255, contract_address='0x0257e4d92c00c9efcca1d641b224d7d09cfa4522'): {'chain': 'kroma',\n",
       "  'chain_id': 255,\n",
       "  'contract_address': '0x0257e4d92c00c9efcca1d641b224d7d09cfa4522',\n",
       "  'decimals': 6,\n",
       "  'symbol': 'USDC',\n",
       "  'name': 'USD Coin',\n",
       "  'total_supply': 302527594656,\n",
       "  'block_number': 22811648,\n",
       "  'block_timestamp': 1739503683},\n",
       " TokenContract(chain='kroma', chain_id=255, contract_address='0x4200000000000000000000000000000000000001'): {'chain': 'kroma',\n",
       "  'chain_id': 255,\n",
       "  'contract_address': '0x4200000000000000000000000000000000000001',\n",
       "  'decimals': 18,\n",
       "  'symbol': 'WETH',\n",
       "  'name': 'Wrapped Ether',\n",
       "  'total_supply': 55130937090716072769,\n",
       "  'block_number': 22811648,\n",
       "  'block_timestamp': 1739503683}}"
      ]
     },
     "execution_count": 3,
     "metadata": {},
     "output_type": "execute_result"
    }
   ],
   "source": [
    "raw_result"
   ]
  },
  {
   "cell_type": "code",
   "execution_count": 5,
   "metadata": {},
   "outputs": [
    {
     "data": {
      "text/html": [
       "<div><style>\n",
       ".dataframe > thead > tr,\n",
       ".dataframe > tbody > tr {\n",
       "  text-align: right;\n",
       "  white-space: pre-wrap;\n",
       "}\n",
       "</style>\n",
       "<small>shape: (10, 9)</small><table border=\"1\" class=\"dataframe\"><thead><tr><th>chain</th><th>chain_id</th><th>contract_address</th><th>decimals</th><th>symbol</th><th>name</th><th>total_supply</th><th>block_number</th><th>block_timestamp</th></tr><tr><td>str</td><td>i64</td><td>str</td><td>i64</td><td>str</td><td>str</td><td>i128</td><td>i64</td><td>i64</td></tr></thead><tbody><tr><td>&quot;swan&quot;</td><td>254</td><td>&quot;0xbb4ec1b56cb624863298740fd264…</td><td>18</td><td>&quot;SWAN&quot;</td><td>&quot;Swan Token&quot;</td><td>92363045558845532272951750</td><td>4172693</td><td>1739503680</td></tr><tr><td>&quot;mint&quot;</td><td>185</td><td>&quot;0x63cffa2af25090d850d0ffc23a0f…</td><td>18</td><td>&quot;Margarita &quot;</td><td>&quot;Margarita &quot;</td><td>157077478000000000000000000</td><td>11947376</td><td>1739503683</td></tr><tr><td>&quot;mint&quot;</td><td>185</td><td>&quot;0x05d032ac25d322df992303dca074…</td><td>6</td><td>&quot;USDT&quot;</td><td>&quot;Tether USD&quot;</td><td>200221347794</td><td>11947376</td><td>1739503683</td></tr><tr><td>&quot;cyber&quot;</td><td>7560</td><td>&quot;0x14778860e937f509e651192a9058…</td><td>18</td><td>&quot;CYBER&quot;</td><td>&quot;CyberConnect&quot;</td><td>7398611579399000000000000</td><td>13037557</td><td>1739503681</td></tr><tr><td>&quot;mint&quot;</td><td>185</td><td>&quot;0x1a08672d34845d254adc2d3b75ba…</td><td>18</td><td>&quot;potenza555&quot;</td><td>&quot;potenza555&quot;</td><td>102545211000000000000000000</td><td>11947376</td><td>1739503683</td></tr><tr><td>&quot;mint&quot;</td><td>185</td><td>&quot;0x15cb30c538bff5b90a6b0b9a6774…</td><td>18</td><td>&quot;DDK&quot;</td><td>&quot;Dodik&quot;</td><td>183691990000000000000000000</td><td>11947376</td><td>1739503683</td></tr><tr><td>&quot;mint&quot;</td><td>185</td><td>&quot;0x1ebeafd5ce947267dbf1694cc089…</td><td>18</td><td>&quot;Holdaran&#x27;s&quot;</td><td>&quot;Holdara&quot;</td><td>177892582000000000000000000</td><td>11947376</td><td>1739503683</td></tr><tr><td>&quot;mint&quot;</td><td>185</td><td>&quot;0x272e7d0ac2332ee23ab6f2f1e111…</td><td>18</td><td>&quot;BRN&quot;</td><td>&quot;brown&quot;</td><td>181301557000000000000000000</td><td>11947376</td><td>1739503683</td></tr><tr><td>&quot;kroma&quot;</td><td>255</td><td>&quot;0x0257e4d92c00c9efcca1d641b224…</td><td>6</td><td>&quot;USDC&quot;</td><td>&quot;USD Coin&quot;</td><td>302527594656</td><td>22811648</td><td>1739503683</td></tr><tr><td>&quot;kroma&quot;</td><td>255</td><td>&quot;0x4200000000000000000000000000…</td><td>18</td><td>&quot;WETH&quot;</td><td>&quot;Wrapped Ether&quot;</td><td>55130937090716072769</td><td>22811648</td><td>1739503683</td></tr></tbody></table></div>"
      ],
      "text/plain": [
       "shape: (10, 9)\n",
       "┌───────┬──────────┬────────────┬──────────┬───┬────────────┬────────────┬────────────┬────────────┐\n",
       "│ chain ┆ chain_id ┆ contract_a ┆ decimals ┆ … ┆ name       ┆ total_supp ┆ block_numb ┆ block_time │\n",
       "│ ---   ┆ ---      ┆ ddress     ┆ ---      ┆   ┆ ---        ┆ ly         ┆ er         ┆ stamp      │\n",
       "│ str   ┆ i64      ┆ ---        ┆ i64      ┆   ┆ str        ┆ ---        ┆ ---        ┆ ---        │\n",
       "│       ┆          ┆ str        ┆          ┆   ┆            ┆ i128       ┆ i64        ┆ i64        │\n",
       "╞═══════╪══════════╪════════════╪══════════╪═══╪════════════╪════════════╪════════════╪════════════╡\n",
       "│ swan  ┆ 254      ┆ 0xbb4ec1b5 ┆ 18       ┆ … ┆ Swan Token ┆ 9236304555 ┆ 4172693    ┆ 1739503680 │\n",
       "│       ┆          ┆ 6cb6248632 ┆          ┆   ┆            ┆ 8845532272 ┆            ┆            │\n",
       "│       ┆          ┆ 98740fd264 ┆          ┆   ┆            ┆ 951750     ┆            ┆            │\n",
       "│       ┆          ┆ …          ┆          ┆   ┆            ┆            ┆            ┆            │\n",
       "│ mint  ┆ 185      ┆ 0x63cffa2a ┆ 18       ┆ … ┆ Margarita  ┆ 1570774780 ┆ 11947376   ┆ 1739503683 │\n",
       "│       ┆          ┆ f25090d850 ┆          ┆   ┆            ┆ 0000000000 ┆            ┆            │\n",
       "│       ┆          ┆ d0ffc23a0f ┆          ┆   ┆            ┆ 0000000    ┆            ┆            │\n",
       "│       ┆          ┆ …          ┆          ┆   ┆            ┆            ┆            ┆            │\n",
       "│ mint  ┆ 185      ┆ 0x05d032ac ┆ 6        ┆ … ┆ Tether USD ┆ 2002213477 ┆ 11947376   ┆ 1739503683 │\n",
       "│       ┆          ┆ 25d322df99 ┆          ┆   ┆            ┆ 94         ┆            ┆            │\n",
       "│       ┆          ┆ 2303dca074 ┆          ┆   ┆            ┆            ┆            ┆            │\n",
       "│       ┆          ┆ …          ┆          ┆   ┆            ┆            ┆            ┆            │\n",
       "│ cyber ┆ 7560     ┆ 0x14778860 ┆ 18       ┆ … ┆ CyberConne ┆ 7398611579 ┆ 13037557   ┆ 1739503681 │\n",
       "│       ┆          ┆ e937f509e6 ┆          ┆   ┆ ct         ┆ 3990000000 ┆            ┆            │\n",
       "│       ┆          ┆ 51192a9058 ┆          ┆   ┆            ┆ 00000      ┆            ┆            │\n",
       "│       ┆          ┆ …          ┆          ┆   ┆            ┆            ┆            ┆            │\n",
       "│ mint  ┆ 185      ┆ 0x1a08672d ┆ 18       ┆ … ┆ potenza555 ┆ 1025452110 ┆ 11947376   ┆ 1739503683 │\n",
       "│       ┆          ┆ 34845d254a ┆          ┆   ┆            ┆ 0000000000 ┆            ┆            │\n",
       "│       ┆          ┆ dc2d3b75ba ┆          ┆   ┆            ┆ 0000000    ┆            ┆            │\n",
       "│       ┆          ┆ …          ┆          ┆   ┆            ┆            ┆            ┆            │\n",
       "│ mint  ┆ 185      ┆ 0x15cb30c5 ┆ 18       ┆ … ┆ Dodik      ┆ 1836919900 ┆ 11947376   ┆ 1739503683 │\n",
       "│       ┆          ┆ 38bff5b90a ┆          ┆   ┆            ┆ 0000000000 ┆            ┆            │\n",
       "│       ┆          ┆ 6b0b9a6774 ┆          ┆   ┆            ┆ 0000000    ┆            ┆            │\n",
       "│       ┆          ┆ …          ┆          ┆   ┆            ┆            ┆            ┆            │\n",
       "│ mint  ┆ 185      ┆ 0x1ebeafd5 ┆ 18       ┆ … ┆ Holdara    ┆ 1778925820 ┆ 11947376   ┆ 1739503683 │\n",
       "│       ┆          ┆ ce947267db ┆          ┆   ┆            ┆ 0000000000 ┆            ┆            │\n",
       "│       ┆          ┆ f1694cc089 ┆          ┆   ┆            ┆ 0000000    ┆            ┆            │\n",
       "│       ┆          ┆ …          ┆          ┆   ┆            ┆            ┆            ┆            │\n",
       "│ mint  ┆ 185      ┆ 0x272e7d0a ┆ 18       ┆ … ┆ brown      ┆ 1813015570 ┆ 11947376   ┆ 1739503683 │\n",
       "│       ┆          ┆ c2332ee23a ┆          ┆   ┆            ┆ 0000000000 ┆            ┆            │\n",
       "│       ┆          ┆ b6f2f1e111 ┆          ┆   ┆            ┆ 0000000    ┆            ┆            │\n",
       "│       ┆          ┆ …          ┆          ┆   ┆            ┆            ┆            ┆            │\n",
       "│ kroma ┆ 255      ┆ 0x0257e4d9 ┆ 6        ┆ … ┆ USD Coin   ┆ 3025275946 ┆ 22811648   ┆ 1739503683 │\n",
       "│       ┆          ┆ 2c00c9efcc ┆          ┆   ┆            ┆ 56         ┆            ┆            │\n",
       "│       ┆          ┆ a1d641b224 ┆          ┆   ┆            ┆            ┆            ┆            │\n",
       "│       ┆          ┆ …          ┆          ┆   ┆            ┆            ┆            ┆            │\n",
       "│ kroma ┆ 255      ┆ 0x42000000 ┆ 18       ┆ … ┆ Wrapped    ┆ 5513093709 ┆ 22811648   ┆ 1739503683 │\n",
       "│       ┆          ┆ 0000000000 ┆          ┆   ┆ Ether      ┆ 0716072769 ┆            ┆            │\n",
       "│       ┆          ┆ 0000000000 ┆          ┆   ┆            ┆            ┆            ┆            │\n",
       "│       ┆          ┆ …          ┆          ┆   ┆            ┆            ┆            ┆            │\n",
       "└───────┴──────────┴────────────┴──────────┴───┴────────────┴────────────┴────────────┴────────────┘"
      ]
     },
     "execution_count": 5,
     "metadata": {},
     "output_type": "execute_result"
    }
   ],
   "source": [
    "import polars as pl\n",
    "metadata_rows = list(raw_result.values())\n",
    "\n",
    "df = pl.DataFrame(metadata_rows)\n",
    "df"
   ]
  },
  {
   "cell_type": "code",
   "execution_count": 48,
   "metadata": {},
   "outputs": [],
   "source": [
    "def decode_abi_encoded_string(hex_str: str) -> str:\n",
    "    \"\"\"\n",
    "    Decode an ABI-encoded dynamic string that comes back \n",
    "    from an eth_call returning (string).\n",
    "    \"\"\"\n",
    "    # Strip off 0x prefix, if present\n",
    "    if hex_str.startswith(\"0x\"):\n",
    "        hex_str = hex_str[2:]\n",
    "    \n",
    "    # Convert remaining hex to bytes\n",
    "    data = bytes.fromhex(hex_str)\n",
    "    \n",
    "    # The next 32 bytes are the string length\n",
    "    str_len = int.from_bytes(data[32:64], byteorder='big')\n",
    "    \n",
    "    # The next str_len bytes are the actual UTF-8 bytes of the string\n",
    "    string_bytes = data[64:64 + str_len]\n",
    "    \n",
    "    return string_bytes.decode('utf-8', errors='replace')"
   ]
  },
  {
   "cell_type": "code",
   "execution_count": null,
   "metadata": {},
   "outputs": [
    {
     "data": {
      "text/plain": [
       "{'block_number': 26355559,\n",
       " 'block_timestamp': 1739500465,\n",
       " 'contract_address': '0x833589fcd6edb6e08f4c7c32d4f71b54bda02913',\n",
       " 'decimals': 6,\n",
       " 'symbol': 'USDC',\n",
       " 'name': 'USD Coin',\n",
       " 'total_supply': 3635635139906944}"
      ]
     },
     "execution_count": 89,
     "metadata": {},
     "output_type": "execute_result"
    }
   ],
   "source": [
    "import requests\n",
    "\n",
    "RPC_URL = 'https://mainnet.base.org/'\n",
    "\n",
    "CONTRACT_ADDRESS = \"0x833589fcd6edb6e08f4c7c32d4f71b54bda02913\"\n",
    "\n",
    "METHOD_IDS = {\n",
    "    \"decimals\": \"0x313ce567\",\n",
    "    \"symbol\": \"0x95d89b41\",\n",
    "    \"name\": \"0x06fdde03\",\n",
    "    \"totalSupply\": \"0x18160ddd\"\n",
    "}\n",
    "\n",
    "# Construct JSON-RPC payloads for contract calls + block queries\n",
    "payloads = []\n",
    "request_id = 1\n",
    "\n",
    "# 1) Add ERC20 method calls\n",
    "for method_id in METHOD_IDS.values():\n",
    "    payloads.append({\n",
    "        \"jsonrpc\": \"2.0\",\n",
    "        \"method\": \"eth_call\",\n",
    "        \"params\": [{\n",
    "            \"to\": CONTRACT_ADDRESS,\n",
    "            \"data\": method_id\n",
    "        }, \"latest\"],\n",
    "        \"id\": request_id\n",
    "    })\n",
    "    request_id += 1\n",
    "\n",
    "# 2) Add a request for current block number\n",
    "payloads.append({\n",
    "    \"jsonrpc\": \"2.0\",\n",
    "    \"method\": \"eth_blockNumber\",\n",
    "    \"params\": [],\n",
    "    \"id\": request_id\n",
    "})\n",
    "request_id += 1\n",
    "\n",
    "# 3) Add a request for the latest block details\n",
    "payloads.append({\n",
    "    \"jsonrpc\": \"2.0\",\n",
    "    \"method\": \"eth_getBlockByNumber\",\n",
    "    \"params\": [\"latest\", False],\n",
    "    \"id\": request_id\n",
    "})\n",
    "request_id += 1\n",
    "\n",
    "# Send requests\n",
    "response = requests.post(RPC_URL, json=payloads)\n",
    "results = response.json()\n",
    "\n",
    "# Parse ERC20 metadata responses\n",
    "decimals = int(results[0][\"result\"], 16)\n",
    "symbol = decode_abi_encoded_string(results[1][\"result\"])\n",
    "name = decode_abi_encoded_string(results[2][\"result\"])\n",
    "total_supply = int(results[3][\"result\"], 16)\n",
    "block_number_hex = results[4][\"result\"]\n",
    "latest_block_data = results[5][\"result\"]\n",
    "\n",
    "block_number = int(block_number_hex, 16)\n",
    "block_timestamp = int(latest_block_data[\"timestamp\"], 16)\n",
    "\n",
    "result = {\n",
    "    \"block_number\": block_number,\n",
    "    \"block_timestamp\": block_timestamp,\n",
    "    \"contract_address\": CONTRACT_ADDRESS,\n",
    "    \"decimals\": decimals,\n",
    "    \"symbol\": symbol,\n",
    "    \"name\": name,\n",
    "    \"total_supply\": total_supply\n",
    "}\n",
    "\n",
    "result"
   ]
  },
  {
   "cell_type": "code",
   "execution_count": 3,
   "metadata": {},
   "outputs": [],
   "source": [
    "import pandas as pd\n",
    "import sys\n",
    "sys.path.append(\"../helper_functions\")\n",
    "from web3 import Web3\n",
    "from datetime import datetime, timezone\n",
    "sys.path.pop()\n",
    "import re"
   ]
  },
  {
   "cell_type": "code",
   "execution_count": 4,
   "metadata": {},
   "outputs": [],
   "source": [
    "def clean_string(raw_str: str) -> str:\n",
    "    \"\"\"\n",
    "    Remove all control characters (ASCII 0–31, plus 127),\n",
    "    then strip leading/trailing whitespace.\n",
    "    \"\"\"\n",
    "    return re.sub(r'[\\x00-\\x1F\\x7F]+', '', raw_str).strip()\n",
    "\n",
    "\n",
    "def get_token_metadata(token_contract_address, rpc, method_name_list):\n",
    "    \"\"\"\n",
    "    Aggregates multiple contract calls into one Python function call.\n",
    "    (Still multiple calls to your Ethereum node, but simpler to manage in code.)\n",
    "    \"\"\"\n",
    "    w3_conn = Web3(Web3.HTTPProvider(rpc))\n",
    "    token_contract_address = token_contract_address.lower() \n",
    "    \n",
    "    block_timestamp = w3_conn.eth.get_block('latest').timestamp\n",
    "    block_number = w3_conn.eth.get_block('latest').number\n",
    "    # Convert the UNIX timestamp to a human-readable format\n",
    "    block_datetime = datetime.fromtimestamp(block_timestamp, tz=timezone.utc)\n",
    "    block_time = block_datetime.strftime('%Y-%m-%d %H:%M:%S')\n",
    "\n",
    "    method_ids = [Web3.keccak(text=f\"{method_name}()\")[:4].hex() for method_name in method_name_list]\n",
    "    \n",
    "    # create a loop to get the response for each method\n",
    "    response_map = {}\n",
    "\n",
    "    for method_id, method_name in zip(method_ids, method_name_list):\n",
    "        response = w3_conn.eth.call({\n",
    "            'to': token_contract_address,\n",
    "            'data': method_id\n",
    "        })\n",
    "        response_map[method_name] = response\n",
    "\n",
    "\n",
    "    # return the response for each method\n",
    "    \n",
    "    decimals = Web3.to_int(hexstr=response_map[\"decimals\"].hex())\n",
    "    symbol = clean_string(Web3.to_text(hexstr=response_map[\"symbol\"].hex()))\n",
    "    name = clean_string(Web3.to_text(hexstr=response_map[\"name\"].hex()))\n",
    "    total_supply = Web3.to_int(hexstr=response_map[\"totalSupply\"].hex())\n",
    "    \n",
    "    return {\n",
    "        \"block_time\": block_time,\n",
    "        \"block_number\": block_number,\n",
    "        \"block_timestamp\": block_timestamp,\n",
    "        \"contract_address\": token_contract_address,\n",
    "        \"decimals\": decimals,\n",
    "        \"symbol\": symbol,\n",
    "        \"name\": name,\n",
    "        \"total_supply\": total_supply\n",
    "    }"
   ]
  },
  {
   "cell_type": "code",
   "execution_count": 5,
   "metadata": {},
   "outputs": [],
   "source": [
    "chains_rpcs = pd.read_csv('../../op_chains_tracking/outputs/chain_metadata.csv', na_filter=False)\n",
    "chains_rpcs = chains_rpcs[~(chains_rpcs['rpc_url'] == '')]\n",
    "\n",
    "rpc =chains_rpcs[chains_rpcs['chain_name'] == 'op'][\"rpc_url\"]\n",
    "RPC = rpc.iloc[0] \n",
    "\n",
    "CONTRACT_ADDRESS = \"0x4200000000000000000000000000000000000006\"\n",
    "METHOD_NAME = [\"decimals\", \"symbol\", \"name\", \"totalSupply\"]\n"
   ]
  },
  {
   "cell_type": "code",
   "execution_count": 14,
   "metadata": {},
   "outputs": [
    {
     "data": {
      "text/plain": [
       "{'block_time': '2025-02-13 21:06:07',\n",
       " 'block_number': 131940995,\n",
       " 'block_timestamp': 1739480767,\n",
       " 'contract_address': '0x4200000000000000000000000000000000000006',\n",
       " 'decimals': 18,\n",
       " 'symbol': 'WETH',\n",
       " 'name': 'Wrapped Ether',\n",
       " 'total_supply': 38885309302187337741110}"
      ]
     },
     "execution_count": 14,
     "metadata": {},
     "output_type": "execute_result"
    }
   ],
   "source": [
    "response = get_token_metadata(CONTRACT_ADDRESS, RPC, METHOD_NAME)\n",
    "response"
   ]
  }
 ],
 "metadata": {
  "kernelspec": {
   "display_name": ".venv",
   "language": "python",
   "name": "python3"
  },
  "language_info": {
   "codemirror_mode": {
    "name": "ipython",
    "version": 3
   },
   "file_extension": ".py",
   "mimetype": "text/x-python",
   "name": "python",
   "nbconvert_exporter": "python",
   "pygments_lexer": "ipython3",
   "version": "3.12.6"
  }
 },
 "nbformat": 4,
 "nbformat_minor": 2
}
