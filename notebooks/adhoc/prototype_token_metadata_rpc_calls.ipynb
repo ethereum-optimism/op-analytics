{
 "cells": [
  {
   "cell_type": "code",
   "execution_count": 2,
   "metadata": {},
   "outputs": [
    {
     "name": "stdout",
     "output_type": "stream",
     "text": [
      "\u001b[2m2025-02-13 15:36:59\u001b[0m [\u001b[31m\u001b[1merror    \u001b[0m] \u001b[1mFailed to run thread for TokenContract(chain='base', chain_id=8453, contract_address=b'0x25e3ec43d0e9299f88b75a7377ab337c6f627b27\\x00\\x00\\x00\\x00\\x00\\x00\\x00\\x00\\x00\\x00\\x00\\x00\\x00\\x00\\x00\\x00\\x00\\x00\\x00\\x00\\x00\\x00\\x00\\x00')\u001b[0m \u001b[36mfilename\u001b[0m=\u001b[35mthreads.py\u001b[0m \u001b[36mlineno\u001b[0m=\u001b[35m88\u001b[0m \u001b[36mprocess\u001b[0m=\u001b[35m40444\u001b[0m\n",
      "Traceback (most recent call last):\n",
      "  File \"/Users/pedro/github/ethereum-optimism/op-analytics-alt/src/op_analytics/coreutils/threads.py\", line 86, in run_concurrently\n",
      "    results[key] = future.result()\n",
      "                   ^^^^^^^^^^^^^^^\n",
      "  File \"/opt/homebrew/Cellar/python@3.12/3.12.6/Frameworks/Python.framework/Versions/3.12/lib/python3.12/concurrent/futures/_base.py\", line 449, in result\n",
      "    return self.__get_result()\n",
      "           ^^^^^^^^^^^^^^^^^^^\n",
      "  File \"/opt/homebrew/Cellar/python@3.12/3.12.6/Frameworks/Python.framework/Versions/3.12/lib/python3.12/concurrent/futures/_base.py\", line 401, in __get_result\n",
      "    raise self._exception\n",
      "  File \"/opt/homebrew/Cellar/python@3.12/3.12.6/Frameworks/Python.framework/Versions/3.12/lib/python3.12/concurrent/futures/thread.py\", line 58, in run\n",
      "    result = self.fn(*self.args, **self.kwargs)\n",
      "             ^^^^^^^^^^^^^^^^^^^^^^^^^^^^^^^^^^\n",
      "  File \"/Users/pedro/github/ethereum-optimism/op-analytics-alt/src/op_analytics/coreutils/threads.py\", line 41, in wrapper\n",
      "    return func(target_item)\n",
      "           ^^^^^^^^^^^^^^^^^\n",
      "  File \"/Users/pedro/github/ethereum-optimism/op-analytics-alt/src/op_analytics/datasources/chainsrpc/erc20metadata.py\", line 47, in <lambda>\n",
      "    function=lambda x: get_token_metadata(x),\n",
      "                       ^^^^^^^^^^^^^^^^^^^^^\n",
      "  File \"/Users/pedro/github/ethereum-optimism/op-analytics-alt/src/op_analytics/datasources/chainsrpc/erc20metadata.py\", line 89, in get_token_metadata\n",
      "    w3_conn = Web3(Web3.HTTPProvider(get_rpc_for_chain(token.chain_id)))\n",
      "                                     ^^^^^^^^^^^^^^^^^^^^^^^^^^^^^^^^^\n",
      "  File \"/Users/pedro/github/ethereum-optimism/op-analytics-alt/src/op_analytics/datasources/chainsrpc/erc20metadata.py\", line 58, in get_rpc_for_chain\n",
      "    .select(\"chain\", \"chain_id\", \"rpc_url\")\n",
      "     ^^^^^^^^^^^^^^^^^^^^^^^^^^^^^^^^^^^^^^\n",
      "  File \"/Users/pedro/github/ethereum-optimism/op-analytics-alt/.venv/lib/python3.12/site-packages/polars/dataframe/frame.py\", line 9413, in select\n",
      "    return self.lazy().select(*exprs, **named_exprs).collect(_eager=True)\n",
      "           ^^^^^^^^^^^^^^^^^^^^^^^^^^^^^^^^^^^^^^^^^^^^^^^^^^^^^^^^^^^^^^\n",
      "  File \"/Users/pedro/github/ethereum-optimism/op-analytics-alt/.venv/lib/python3.12/site-packages/polars/lazyframe/frame.py\", line 2056, in collect\n",
      "    return wrap_df(ldf.collect(callback))\n",
      "                   ^^^^^^^^^^^^^^^^^^^^^\n",
      "polars.exceptions.ColumnNotFoundError: chain\n",
      "\n",
      "Resolved plan until failure:\n",
      "\n",
      "\t---> FAILED HERE RESOLVING 'select' <---\n",
      "DF [\"chain_name\", \"display_name\", \"mainnet_chain_id\", \"hex_color\"]; PROJECT */39 COLUMNS\n"
     ]
    },
    {
     "ename": "ColumnNotFoundError",
     "evalue": "chain\n\nResolved plan until failure:\n\n\t---> FAILED HERE RESOLVING 'select' <---\nDF [\"chain_name\", \"display_name\", \"mainnet_chain_id\", \"hex_color\"]; PROJECT */39 COLUMNS",
     "output_type": "error",
     "traceback": [
      "\u001b[0;31m---------------------------------------------------------------------------\u001b[0m",
      "\u001b[0;31mColumnNotFoundError\u001b[0m                       Traceback (most recent call last)",
      "Cell \u001b[0;32mIn[2], line 4\u001b[0m\n\u001b[1;32m      1\u001b[0m \u001b[38;5;28;01mfrom\u001b[39;00m \u001b[38;5;21;01mop_analytics\u001b[39;00m\u001b[38;5;21;01m.\u001b[39;00m\u001b[38;5;21;01mdatasources\u001b[39;00m\u001b[38;5;21;01m.\u001b[39;00m\u001b[38;5;21;01mchainsrpc\u001b[39;00m\u001b[38;5;21;01m.\u001b[39;00m\u001b[38;5;21;01merc20metadata\u001b[39;00m \u001b[38;5;28;01mimport\u001b[39;00m execute_pull\n\u001b[0;32m----> 4\u001b[0m results \u001b[38;5;241m=\u001b[39m \u001b[43mexecute_pull\u001b[49m\u001b[43m(\u001b[49m\u001b[43m)\u001b[49m\n",
      "File \u001b[0;32m~/github/ethereum-optimism/op-analytics-alt/src/op_analytics/datasources/chainsrpc/erc20metadata.py:46\u001b[0m, in \u001b[0;36mexecute_pull\u001b[0;34m()\u001b[0m\n\u001b[1;32m     37\u001b[0m \u001b[38;5;28;01mfor\u001b[39;00m token \u001b[38;5;129;01min\u001b[39;00m tokens_to_fetch:\n\u001b[1;32m     38\u001b[0m     targets\u001b[38;5;241m.\u001b[39mappend(\n\u001b[1;32m     39\u001b[0m         TokenContract(\n\u001b[1;32m     40\u001b[0m             chain\u001b[38;5;241m=\u001b[39mtoken[\u001b[38;5;124m\"\u001b[39m\u001b[38;5;124mchain\u001b[39m\u001b[38;5;124m\"\u001b[39m],\n\u001b[0;32m   (...)\u001b[0m\n\u001b[1;32m     43\u001b[0m         )\n\u001b[1;32m     44\u001b[0m     )\n\u001b[0;32m---> 46\u001b[0m results \u001b[38;5;241m=\u001b[39m \u001b[43mrun_concurrently\u001b[49m\u001b[43m(\u001b[49m\n\u001b[1;32m     47\u001b[0m \u001b[43m    \u001b[49m\u001b[43mfunction\u001b[49m\u001b[38;5;241;43m=\u001b[39;49m\u001b[38;5;28;43;01mlambda\u001b[39;49;00m\u001b[43m \u001b[49m\u001b[43mx\u001b[49m\u001b[43m:\u001b[49m\u001b[43m \u001b[49m\u001b[43mget_token_metadata\u001b[49m\u001b[43m(\u001b[49m\u001b[43mx\u001b[49m\u001b[43m)\u001b[49m\u001b[43m,\u001b[49m\n\u001b[1;32m     48\u001b[0m \u001b[43m    \u001b[49m\u001b[43mtargets\u001b[49m\u001b[38;5;241;43m=\u001b[39;49m\u001b[43mtargets\u001b[49m\u001b[43m[\u001b[49m\u001b[43m:\u001b[49m\u001b[38;5;241;43m20\u001b[39;49m\u001b[43m]\u001b[49m\u001b[43m,\u001b[49m\n\u001b[1;32m     49\u001b[0m \u001b[43m    \u001b[49m\u001b[43mmax_workers\u001b[49m\u001b[38;5;241;43m=\u001b[39;49m\u001b[38;5;241;43m4\u001b[39;49m\u001b[43m,\u001b[49m\n\u001b[1;32m     50\u001b[0m \u001b[43m\u001b[49m\u001b[43m)\u001b[49m\n\u001b[1;32m     52\u001b[0m \u001b[38;5;28;01mreturn\u001b[39;00m results\n",
      "File \u001b[0;32m~/github/ethereum-optimism/op-analytics-alt/src/op_analytics/coreutils/threads.py:86\u001b[0m, in \u001b[0;36mrun_concurrently\u001b[0;34m(function, targets, max_workers)\u001b[0m\n\u001b[1;32m     84\u001b[0m key \u001b[38;5;241m=\u001b[39m futures[future]\n\u001b[1;32m     85\u001b[0m \u001b[38;5;28;01mtry\u001b[39;00m:\n\u001b[0;32m---> 86\u001b[0m     results[key] \u001b[38;5;241m=\u001b[39m \u001b[43mfuture\u001b[49m\u001b[38;5;241;43m.\u001b[39;49m\u001b[43mresult\u001b[49m\u001b[43m(\u001b[49m\u001b[43m)\u001b[49m\n\u001b[1;32m     87\u001b[0m \u001b[38;5;28;01mexcept\u001b[39;00m \u001b[38;5;167;01mException\u001b[39;00m \u001b[38;5;28;01mas\u001b[39;00m ex:\n\u001b[1;32m     88\u001b[0m     log\u001b[38;5;241m.\u001b[39merror(\u001b[38;5;124mf\u001b[39m\u001b[38;5;124m\"\u001b[39m\u001b[38;5;124mFailed to run thread for \u001b[39m\u001b[38;5;132;01m{\u001b[39;00mkey\u001b[38;5;132;01m}\u001b[39;00m\u001b[38;5;124m\"\u001b[39m, exc_info\u001b[38;5;241m=\u001b[39mex)\n",
      "File \u001b[0;32m/opt/homebrew/Cellar/python@3.12/3.12.6/Frameworks/Python.framework/Versions/3.12/lib/python3.12/concurrent/futures/_base.py:449\u001b[0m, in \u001b[0;36mFuture.result\u001b[0;34m(self, timeout)\u001b[0m\n\u001b[1;32m    447\u001b[0m     \u001b[38;5;28;01mraise\u001b[39;00m CancelledError()\n\u001b[1;32m    448\u001b[0m \u001b[38;5;28;01melif\u001b[39;00m \u001b[38;5;28mself\u001b[39m\u001b[38;5;241m.\u001b[39m_state \u001b[38;5;241m==\u001b[39m FINISHED:\n\u001b[0;32m--> 449\u001b[0m     \u001b[38;5;28;01mreturn\u001b[39;00m \u001b[38;5;28;43mself\u001b[39;49m\u001b[38;5;241;43m.\u001b[39;49m\u001b[43m__get_result\u001b[49m\u001b[43m(\u001b[49m\u001b[43m)\u001b[49m\n\u001b[1;32m    451\u001b[0m \u001b[38;5;28mself\u001b[39m\u001b[38;5;241m.\u001b[39m_condition\u001b[38;5;241m.\u001b[39mwait(timeout)\n\u001b[1;32m    453\u001b[0m \u001b[38;5;28;01mif\u001b[39;00m \u001b[38;5;28mself\u001b[39m\u001b[38;5;241m.\u001b[39m_state \u001b[38;5;129;01min\u001b[39;00m [CANCELLED, CANCELLED_AND_NOTIFIED]:\n",
      "File \u001b[0;32m/opt/homebrew/Cellar/python@3.12/3.12.6/Frameworks/Python.framework/Versions/3.12/lib/python3.12/concurrent/futures/_base.py:401\u001b[0m, in \u001b[0;36mFuture.__get_result\u001b[0;34m(self)\u001b[0m\n\u001b[1;32m    399\u001b[0m \u001b[38;5;28;01mif\u001b[39;00m \u001b[38;5;28mself\u001b[39m\u001b[38;5;241m.\u001b[39m_exception:\n\u001b[1;32m    400\u001b[0m     \u001b[38;5;28;01mtry\u001b[39;00m:\n\u001b[0;32m--> 401\u001b[0m         \u001b[38;5;28;01mraise\u001b[39;00m \u001b[38;5;28mself\u001b[39m\u001b[38;5;241m.\u001b[39m_exception\n\u001b[1;32m    402\u001b[0m     \u001b[38;5;28;01mfinally\u001b[39;00m:\n\u001b[1;32m    403\u001b[0m         \u001b[38;5;66;03m# Break a reference cycle with the exception in self._exception\u001b[39;00m\n\u001b[1;32m    404\u001b[0m         \u001b[38;5;28mself\u001b[39m \u001b[38;5;241m=\u001b[39m \u001b[38;5;28;01mNone\u001b[39;00m\n",
      "File \u001b[0;32m/opt/homebrew/Cellar/python@3.12/3.12.6/Frameworks/Python.framework/Versions/3.12/lib/python3.12/concurrent/futures/thread.py:58\u001b[0m, in \u001b[0;36m_WorkItem.run\u001b[0;34m(self)\u001b[0m\n\u001b[1;32m     55\u001b[0m     \u001b[38;5;28;01mreturn\u001b[39;00m\n\u001b[1;32m     57\u001b[0m \u001b[38;5;28;01mtry\u001b[39;00m:\n\u001b[0;32m---> 58\u001b[0m     result \u001b[38;5;241m=\u001b[39m \u001b[38;5;28;43mself\u001b[39;49m\u001b[38;5;241;43m.\u001b[39;49m\u001b[43mfn\u001b[49m\u001b[43m(\u001b[49m\u001b[38;5;241;43m*\u001b[39;49m\u001b[38;5;28;43mself\u001b[39;49m\u001b[38;5;241;43m.\u001b[39;49m\u001b[43margs\u001b[49m\u001b[43m,\u001b[49m\u001b[43m \u001b[49m\u001b[38;5;241;43m*\u001b[39;49m\u001b[38;5;241;43m*\u001b[39;49m\u001b[38;5;28;43mself\u001b[39;49m\u001b[38;5;241;43m.\u001b[39;49m\u001b[43mkwargs\u001b[49m\u001b[43m)\u001b[49m\n\u001b[1;32m     59\u001b[0m \u001b[38;5;28;01mexcept\u001b[39;00m \u001b[38;5;167;01mBaseException\u001b[39;00m \u001b[38;5;28;01mas\u001b[39;00m exc:\n\u001b[1;32m     60\u001b[0m     \u001b[38;5;28mself\u001b[39m\u001b[38;5;241m.\u001b[39mfuture\u001b[38;5;241m.\u001b[39mset_exception(exc)\n",
      "File \u001b[0;32m~/github/ethereum-optimism/op-analytics-alt/src/op_analytics/coreutils/threads.py:41\u001b[0m, in \u001b[0;36mProgressTracker.wrap.<locals>.wrapper\u001b[0;34m(target_item)\u001b[0m\n\u001b[1;32m     39\u001b[0m \u001b[38;5;28;01mwith\u001b[39;00m bound_contextvars(counter\u001b[38;5;241m=\u001b[39m\u001b[38;5;28mself\u001b[39m\u001b[38;5;241m.\u001b[39mcounter(current_index), eta\u001b[38;5;241m=\u001b[39m\u001b[38;5;28mself\u001b[39m\u001b[38;5;241m.\u001b[39meta()):\n\u001b[1;32m     40\u001b[0m     \u001b[38;5;28;01mtry\u001b[39;00m:\n\u001b[0;32m---> 41\u001b[0m         \u001b[38;5;28;01mreturn\u001b[39;00m \u001b[43mfunc\u001b[49m\u001b[43m(\u001b[49m\u001b[43mtarget_item\u001b[49m\u001b[43m)\u001b[49m\n\u001b[1;32m     42\u001b[0m     \u001b[38;5;28;01mfinally\u001b[39;00m:\n\u001b[1;32m     43\u001b[0m         \u001b[38;5;28mself\u001b[39m\u001b[38;5;241m.\u001b[39mcompleted_tasks \u001b[38;5;241m+\u001b[39m\u001b[38;5;241m=\u001b[39m \u001b[38;5;241m1\u001b[39m\n",
      "File \u001b[0;32m~/github/ethereum-optimism/op-analytics-alt/src/op_analytics/datasources/chainsrpc/erc20metadata.py:47\u001b[0m, in \u001b[0;36mexecute_pull.<locals>.<lambda>\u001b[0;34m(x)\u001b[0m\n\u001b[1;32m     37\u001b[0m \u001b[38;5;28;01mfor\u001b[39;00m token \u001b[38;5;129;01min\u001b[39;00m tokens_to_fetch:\n\u001b[1;32m     38\u001b[0m     targets\u001b[38;5;241m.\u001b[39mappend(\n\u001b[1;32m     39\u001b[0m         TokenContract(\n\u001b[1;32m     40\u001b[0m             chain\u001b[38;5;241m=\u001b[39mtoken[\u001b[38;5;124m\"\u001b[39m\u001b[38;5;124mchain\u001b[39m\u001b[38;5;124m\"\u001b[39m],\n\u001b[0;32m   (...)\u001b[0m\n\u001b[1;32m     43\u001b[0m         )\n\u001b[1;32m     44\u001b[0m     )\n\u001b[1;32m     46\u001b[0m results \u001b[38;5;241m=\u001b[39m run_concurrently(\n\u001b[0;32m---> 47\u001b[0m     function\u001b[38;5;241m=\u001b[39m\u001b[38;5;28;01mlambda\u001b[39;00m x: \u001b[43mget_token_metadata\u001b[49m\u001b[43m(\u001b[49m\u001b[43mx\u001b[49m\u001b[43m)\u001b[49m,\n\u001b[1;32m     48\u001b[0m     targets\u001b[38;5;241m=\u001b[39mtargets[:\u001b[38;5;241m20\u001b[39m],\n\u001b[1;32m     49\u001b[0m     max_workers\u001b[38;5;241m=\u001b[39m\u001b[38;5;241m4\u001b[39m,\n\u001b[1;32m     50\u001b[0m )\n\u001b[1;32m     52\u001b[0m \u001b[38;5;28;01mreturn\u001b[39;00m results\n",
      "File \u001b[0;32m~/github/ethereum-optimism/op-analytics-alt/src/op_analytics/datasources/chainsrpc/erc20metadata.py:89\u001b[0m, in \u001b[0;36mget_token_metadata\u001b[0;34m(token)\u001b[0m\n\u001b[1;32m     83\u001b[0m \u001b[38;5;250m\u001b[39m\u001b[38;5;124;03m\"\"\"\u001b[39;00m\n\u001b[1;32m     84\u001b[0m \u001b[38;5;124;03mAggregates multiple contract calls into one Python function call.\u001b[39;00m\n\u001b[1;32m     85\u001b[0m \u001b[38;5;124;03m(Still multiple calls to your Ethereum node, but simpler to manage in code.)\u001b[39;00m\n\u001b[1;32m     86\u001b[0m \u001b[38;5;124;03m\"\"\"\u001b[39;00m\n\u001b[1;32m     87\u001b[0m \u001b[38;5;28;01mfrom\u001b[39;00m \u001b[38;5;21;01mweb3\u001b[39;00m \u001b[38;5;28;01mimport\u001b[39;00m Web3\n\u001b[0;32m---> 89\u001b[0m w3_conn \u001b[38;5;241m=\u001b[39m Web3(Web3\u001b[38;5;241m.\u001b[39mHTTPProvider(\u001b[43mget_rpc_for_chain\u001b[49m\u001b[43m(\u001b[49m\u001b[43mtoken\u001b[49m\u001b[38;5;241;43m.\u001b[39;49m\u001b[43mchain_id\u001b[49m\u001b[43m)\u001b[49m))\n\u001b[1;32m     91\u001b[0m \u001b[38;5;66;03m# Get the block info.\u001b[39;00m\n\u001b[1;32m     92\u001b[0m block \u001b[38;5;241m=\u001b[39m w3_conn\u001b[38;5;241m.\u001b[39meth\u001b[38;5;241m.\u001b[39mget_block(\u001b[38;5;124m\"\u001b[39m\u001b[38;5;124mlatest\u001b[39m\u001b[38;5;124m\"\u001b[39m)\n",
      "File \u001b[0;32m~/github/ethereum-optimism/op-analytics-alt/src/op_analytics/datasources/chainsrpc/erc20metadata.py:58\u001b[0m, in \u001b[0;36mget_rpc_for_chain\u001b[0;34m(chain_id)\u001b[0m\n\u001b[1;32m     55\u001b[0m \u001b[38;5;28;01mdef\u001b[39;00m \u001b[38;5;21mget_rpc_for_chain\u001b[39m(chain_id: \u001b[38;5;28mint\u001b[39m) \u001b[38;5;241m-\u001b[39m\u001b[38;5;241m>\u001b[39m \u001b[38;5;28mstr\u001b[39m:\n\u001b[1;32m     56\u001b[0m     rpcs \u001b[38;5;241m=\u001b[39m (\n\u001b[1;32m     57\u001b[0m         \u001b[43mload_chain_metadata\u001b[49m\u001b[43m(\u001b[49m\u001b[43m)\u001b[49m\n\u001b[0;32m---> 58\u001b[0m \u001b[43m        \u001b[49m\u001b[38;5;241;43m.\u001b[39;49m\u001b[43mselect\u001b[49m\u001b[43m(\u001b[49m\u001b[38;5;124;43m\"\u001b[39;49m\u001b[38;5;124;43mchain\u001b[39;49m\u001b[38;5;124;43m\"\u001b[39;49m\u001b[43m,\u001b[49m\u001b[43m \u001b[49m\u001b[38;5;124;43m\"\u001b[39;49m\u001b[38;5;124;43mchain_id\u001b[39;49m\u001b[38;5;124;43m\"\u001b[39;49m\u001b[43m,\u001b[49m\u001b[43m \u001b[49m\u001b[38;5;124;43m\"\u001b[39;49m\u001b[38;5;124;43mrpc_url\u001b[39;49m\u001b[38;5;124;43m\"\u001b[39;49m\u001b[43m)\u001b[49m\n\u001b[1;32m     59\u001b[0m         \u001b[38;5;241m.\u001b[39mfilter(pl\u001b[38;5;241m.\u001b[39mcol(\u001b[38;5;124m\"\u001b[39m\u001b[38;5;124mchain_id\u001b[39m\u001b[38;5;124m\"\u001b[39m) \u001b[38;5;241m==\u001b[39m chain_id)\n\u001b[1;32m     60\u001b[0m         \u001b[38;5;241m.\u001b[39mto_dicts()\n\u001b[1;32m     61\u001b[0m     )\n\u001b[1;32m     62\u001b[0m     \u001b[38;5;28;01mif\u001b[39;00m \u001b[38;5;28mlen\u001b[39m(rpcs) \u001b[38;5;241m==\u001b[39m \u001b[38;5;241m0\u001b[39m:\n\u001b[1;32m     63\u001b[0m         \u001b[38;5;28;01mraise\u001b[39;00m \u001b[38;5;167;01mException\u001b[39;00m(\u001b[38;5;124mf\u001b[39m\u001b[38;5;124m\"\u001b[39m\u001b[38;5;124mcould not find rpc for chain_id: \u001b[39m\u001b[38;5;132;01m{\u001b[39;00mchain_id\u001b[38;5;132;01m}\u001b[39;00m\u001b[38;5;124m\"\u001b[39m)\n",
      "File \u001b[0;32m~/github/ethereum-optimism/op-analytics-alt/.venv/lib/python3.12/site-packages/polars/dataframe/frame.py:9413\u001b[0m, in \u001b[0;36mDataFrame.select\u001b[0;34m(self, *exprs, **named_exprs)\u001b[0m\n\u001b[1;32m   9313\u001b[0m \u001b[38;5;28;01mdef\u001b[39;00m \u001b[38;5;21mselect\u001b[39m(\n\u001b[1;32m   9314\u001b[0m     \u001b[38;5;28mself\u001b[39m, \u001b[38;5;241m*\u001b[39mexprs: IntoExpr \u001b[38;5;241m|\u001b[39m Iterable[IntoExpr], \u001b[38;5;241m*\u001b[39m\u001b[38;5;241m*\u001b[39mnamed_exprs: IntoExpr\n\u001b[1;32m   9315\u001b[0m ) \u001b[38;5;241m-\u001b[39m\u001b[38;5;241m>\u001b[39m DataFrame:\n\u001b[1;32m   9316\u001b[0m \u001b[38;5;250m    \u001b[39m\u001b[38;5;124;03m\"\"\"\u001b[39;00m\n\u001b[1;32m   9317\u001b[0m \u001b[38;5;124;03m    Select columns from this DataFrame.\u001b[39;00m\n\u001b[1;32m   9318\u001b[0m \n\u001b[0;32m   (...)\u001b[0m\n\u001b[1;32m   9411\u001b[0m \u001b[38;5;124;03m    └──────────────┘\u001b[39;00m\n\u001b[1;32m   9412\u001b[0m \u001b[38;5;124;03m    \"\"\"\u001b[39;00m\n\u001b[0;32m-> 9413\u001b[0m     \u001b[38;5;28;01mreturn\u001b[39;00m \u001b[38;5;28;43mself\u001b[39;49m\u001b[38;5;241;43m.\u001b[39;49m\u001b[43mlazy\u001b[49m\u001b[43m(\u001b[49m\u001b[43m)\u001b[49m\u001b[38;5;241;43m.\u001b[39;49m\u001b[43mselect\u001b[49m\u001b[43m(\u001b[49m\u001b[38;5;241;43m*\u001b[39;49m\u001b[43mexprs\u001b[49m\u001b[43m,\u001b[49m\u001b[43m \u001b[49m\u001b[38;5;241;43m*\u001b[39;49m\u001b[38;5;241;43m*\u001b[39;49m\u001b[43mnamed_exprs\u001b[49m\u001b[43m)\u001b[49m\u001b[38;5;241;43m.\u001b[39;49m\u001b[43mcollect\u001b[49m\u001b[43m(\u001b[49m\u001b[43m_eager\u001b[49m\u001b[38;5;241;43m=\u001b[39;49m\u001b[38;5;28;43;01mTrue\u001b[39;49;00m\u001b[43m)\u001b[49m\n",
      "File \u001b[0;32m~/github/ethereum-optimism/op-analytics-alt/.venv/lib/python3.12/site-packages/polars/lazyframe/frame.py:2056\u001b[0m, in \u001b[0;36mLazyFrame.collect\u001b[0;34m(self, type_coercion, _type_check, predicate_pushdown, projection_pushdown, simplify_expression, slice_pushdown, comm_subplan_elim, comm_subexpr_elim, cluster_with_columns, collapse_joins, no_optimization, streaming, engine, background, _check_order, _eager, **_kwargs)\u001b[0m\n\u001b[1;32m   2054\u001b[0m \u001b[38;5;66;03m# Only for testing purposes\u001b[39;00m\n\u001b[1;32m   2055\u001b[0m callback \u001b[38;5;241m=\u001b[39m _kwargs\u001b[38;5;241m.\u001b[39mget(\u001b[38;5;124m\"\u001b[39m\u001b[38;5;124mpost_opt_callback\u001b[39m\u001b[38;5;124m\"\u001b[39m, callback)\n\u001b[0;32m-> 2056\u001b[0m \u001b[38;5;28;01mreturn\u001b[39;00m wrap_df(\u001b[43mldf\u001b[49m\u001b[38;5;241;43m.\u001b[39;49m\u001b[43mcollect\u001b[49m\u001b[43m(\u001b[49m\u001b[43mcallback\u001b[49m\u001b[43m)\u001b[49m)\n",
      "\u001b[0;31mColumnNotFoundError\u001b[0m: chain\n\nResolved plan until failure:\n\n\t---> FAILED HERE RESOLVING 'select' <---\nDF [\"chain_name\", \"display_name\", \"mainnet_chain_id\", \"hex_color\"]; PROJECT */39 COLUMNS"
     ]
    }
   ],
   "source": [
    "from op_analytics.datasources.chainsrpc.erc20metadata import execute_pull\n",
    "\n",
    "\n",
    "results = execute_pull()"
   ]
  },
  {
   "cell_type": "code",
   "execution_count": null,
   "metadata": {},
   "outputs": [],
   "source": [
    "results"
   ]
  },
  {
   "cell_type": "code",
   "execution_count": null,
   "metadata": {},
   "outputs": [],
   "source": []
  },
  {
   "cell_type": "code",
   "execution_count": 37,
   "metadata": {},
   "outputs": [],
   "source": [
    "import pandas as pd\n",
    "import sys\n",
    "sys.path.append(\"../helper_functions\")\n",
    "from web3 import Web3\n",
    "from datetime import datetime, timezone\n",
    "sys.path.pop()\n",
    "import re"
   ]
  },
  {
   "cell_type": "code",
   "execution_count": 38,
   "metadata": {},
   "outputs": [],
   "source": [
    "def clean_string(raw_str: str) -> str:\n",
    "    \"\"\"\n",
    "    Remove all control characters (ASCII 0–31, plus 127),\n",
    "    then strip leading/trailing whitespace.\n",
    "    \"\"\"\n",
    "    return re.sub(r'[\\x00-\\x1F\\x7F]+', '', raw_str).strip()\n",
    "\n",
    "\n",
    "def get_token_metadata(token_contract_address, rpc, method_name_list):\n",
    "    \"\"\"\n",
    "    Aggregates multiple contract calls into one Python function call.\n",
    "    (Still multiple calls to your Ethereum node, but simpler to manage in code.)\n",
    "    \"\"\"\n",
    "    w3_conn = Web3(Web3.HTTPProvider(rpc))\n",
    "    token_contract_address = token_contract_address.lower() \n",
    "    \n",
    "    block_timestamp = w3_conn.eth.get_block('latest').timestamp\n",
    "    block_number = w3_conn.eth.get_block('latest').number\n",
    "    # Convert the UNIX timestamp to a human-readable format\n",
    "    block_datetime = datetime.fromtimestamp(block_timestamp, tz=timezone.utc)\n",
    "    block_time = block_datetime.strftime('%Y-%m-%d %H:%M:%S')\n",
    "\n",
    "    method_ids = [Web3.keccak(text=f\"{method_name}()\")[:4].hex() for method_name in method_name_list]\n",
    "    \n",
    "    # create a loop to get the response for each method\n",
    "    response_map = {}\n",
    "\n",
    "    for method_id, method_name in zip(method_ids, method_name_list):\n",
    "        response = w3_conn.eth.call({\n",
    "            'to': token_contract_address,\n",
    "            'data': method_id\n",
    "        })\n",
    "        response_map[method_name] = response\n",
    "\n",
    "\n",
    "    # return the response for each method\n",
    "    \n",
    "    decimals = Web3.to_int(hexstr=response_map[\"decimals\"].hex())\n",
    "    symbol = clean_string(Web3.to_text(hexstr=response_map[\"symbol\"].hex()))\n",
    "    name = clean_string(Web3.to_text(hexstr=response_map[\"name\"].hex()))\n",
    "    total_supply = Web3.to_int(hexstr=response_map[\"totalSupply\"].hex())\n",
    "    \n",
    "    return {\n",
    "        \"block_time\": block_time,\n",
    "        \"block_number\": block_number,\n",
    "        \"block_timestamp\": block_timestamp,\n",
    "        \"contract_address\": token_contract_address,\n",
    "        \"decimals\": decimals,\n",
    "        \"symbol\": symbol,\n",
    "        \"name\": name,\n",
    "        \"total_supply\": total_supply\n",
    "    }"
   ]
  },
  {
   "cell_type": "code",
   "execution_count": 39,
   "metadata": {},
   "outputs": [],
   "source": [
    "chains_rpcs = pd.read_csv('../../op_chains_tracking/outputs/chain_metadata.csv', na_filter=False)\n",
    "chains_rpcs = chains_rpcs[~(chains_rpcs['rpc_url'] == '')]\n",
    "\n",
    "rpc =chains_rpcs[chains_rpcs['chain_name'] == 'op'][\"rpc_url\"]\n",
    "RPC = rpc.iloc[0] \n",
    "\n",
    "CONTRACT_ADDRESS = \"0x4200000000000000000000000000000000000006\"\n",
    "METHOD_NAME = [\"decimals\", \"symbol\", \"name\", \"totalSupply\"]\n"
   ]
  },
  {
   "cell_type": "code",
   "execution_count": 40,
   "metadata": {},
   "outputs": [
    {
     "data": {
      "text/plain": [
       "{'block_time': '2025-02-12 20:56:55',\n",
       " 'block_number': 131897519,\n",
       " 'block_timestamp': 1739393815,\n",
       " 'contract_address': '0x4200000000000000000000000000000000000006',\n",
       " 'decimals': 18,\n",
       " 'symbol': 'WETH',\n",
       " 'name': 'Wrapped Ether',\n",
       " 'total_supply': 38751362421522965331729}"
      ]
     },
     "execution_count": 40,
     "metadata": {},
     "output_type": "execute_result"
    }
   ],
   "source": [
    "response = get_token_metadata(CONTRACT_ADDRESS, RPC, METHOD_NAME)\n",
    "response"
   ]
  }
 ],
 "metadata": {
  "kernelspec": {
   "display_name": ".venv",
   "language": "python",
   "name": "python3"
  },
  "language_info": {
   "codemirror_mode": {
    "name": "ipython",
    "version": 3
   },
   "file_extension": ".py",
   "mimetype": "text/x-python",
   "name": "python",
   "nbconvert_exporter": "python",
   "pygments_lexer": "ipython3",
   "version": "3.12.6"
  }
 },
 "nbformat": 4,
 "nbformat_minor": 2
}
