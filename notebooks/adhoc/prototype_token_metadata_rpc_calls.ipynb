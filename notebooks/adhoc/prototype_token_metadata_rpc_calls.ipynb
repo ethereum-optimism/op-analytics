{
 "cells": [
  {
   "cell_type": "code",
   "execution_count": 37,
   "metadata": {},
   "outputs": [],
   "source": [
    "import pandas as pd\n",
    "import sys\n",
    "sys.path.append(\"../helper_functions\")\n",
    "from web3 import Web3\n",
    "from datetime import datetime, timezone\n",
    "sys.path.pop()\n",
    "import re"
   ]
  },
  {
   "cell_type": "code",
   "execution_count": 38,
   "metadata": {},
   "outputs": [],
   "source": [
    "def clean_string(raw_str: str) -> str:\n",
    "    \"\"\"\n",
    "    Remove all control characters (ASCII 0–31, plus 127),\n",
    "    then strip leading/trailing whitespace.\n",
    "    \"\"\"\n",
    "    return re.sub(r'[\\x00-\\x1F\\x7F]+', '', raw_str).strip()\n",
    "\n",
    "\n",
    "def get_token_metadata(token_contract_address, rpc, method_name_list):\n",
    "    \"\"\"\n",
    "    Aggregates multiple contract calls into one Python function call.\n",
    "    (Still multiple calls to your Ethereum node, but simpler to manage in code.)\n",
    "    \"\"\"\n",
    "    w3_conn = Web3(Web3.HTTPProvider(rpc))\n",
    "    token_contract_address = token_contract_address.lower() \n",
    "    \n",
    "    block_timestamp = w3_conn.eth.get_block('latest').timestamp\n",
    "    block_number = w3_conn.eth.get_block('latest').number\n",
    "    # Convert the UNIX timestamp to a human-readable format\n",
    "    block_datetime = datetime.fromtimestamp(block_timestamp, tz=timezone.utc)\n",
    "    block_time = block_datetime.strftime('%Y-%m-%d %H:%M:%S')\n",
    "\n",
    "    method_ids = [Web3.keccak(text=f\"{method_name}()\")[:4].hex() for method_name in METHOD_NAME]\n",
    "    \n",
    "    # create a loop to get the response for each method\n",
    "    response_map = {}\n",
    "\n",
    "    for method_id, method_name in zip(method_ids, method_name_list):\n",
    "        response = w3_conn.eth.call({\n",
    "            'to': token_contract_address,\n",
    "            'data': method_id\n",
    "        })\n",
    "        response_map[method_name] = response\n",
    "\n",
    "\n",
    "    # return the response for each method\n",
    "    \n",
    "    decimals = Web3.to_int(hexstr=response_map[\"decimals\"].hex())\n",
    "    symbol = clean_string(Web3.to_text(hexstr=response_map[\"symbol\"].hex()))\n",
    "    name = clean_string(Web3.to_text(hexstr=response_map[\"name\"].hex()))\n",
    "    total_supply = Web3.to_int(hexstr=response_map[\"totalSupply\"].hex())\n",
    "    \n",
    "    return {\n",
    "        \"block_time\": block_time,\n",
    "        \"block_number\": block_number,\n",
    "        \"block_timestamp\": block_timestamp,\n",
    "        \"contract_address\": token_contract_address,\n",
    "        \"decimals\": decimals,\n",
    "        \"symbol\": symbol,\n",
    "        \"name\": name,\n",
    "        \"total_supply\": total_supply\n",
    "    }"
   ]
  },
  {
   "cell_type": "code",
   "execution_count": 39,
   "metadata": {},
   "outputs": [],
   "source": [
    "chains_rpcs = pd.read_csv('../../op_chains_tracking/outputs/chain_metadata.csv', na_filter=False)\n",
    "chains_rpcs = chains_rpcs[~(chains_rpcs['rpc_url'] == '')]\n",
    "\n",
    "rpc =chains_rpcs[chains_rpcs['chain_name'] == 'op'][\"rpc_url\"]\n",
    "RPC = rpc.iloc[0] \n",
    "\n",
    "CONTRACT_ADDRESS = \"0x4200000000000000000000000000000000000006\"\n",
    "METHOD_NAME = [\"decimals\", \"symbol\", \"name\", \"totalSupply\"]\n"
   ]
  },
  {
   "cell_type": "code",
   "execution_count": 40,
   "metadata": {},
   "outputs": [
    {
     "data": {
      "text/plain": [
       "{'block_time': '2025-02-12 20:56:55',\n",
       " 'block_number': 131897519,\n",
       " 'block_timestamp': 1739393815,\n",
       " 'contract_address': '0x4200000000000000000000000000000000000006',\n",
       " 'decimals': 18,\n",
       " 'symbol': 'WETH',\n",
       " 'name': 'Wrapped Ether',\n",
       " 'total_supply': 38751362421522965331729}"
      ]
     },
     "execution_count": 40,
     "metadata": {},
     "output_type": "execute_result"
    }
   ],
   "source": [
    "response = get_token_metadata(CONTRACT_ADDRESS, RPC, METHOD_NAME)\n",
    "response"
   ]
  }
 ],
 "metadata": {
  "kernelspec": {
   "display_name": "op-analytics-AF0rKHly",
   "language": "python",
   "name": "python3"
  },
  "language_info": {
   "codemirror_mode": {
    "name": "ipython",
    "version": 3
   },
   "file_extension": ".py",
   "mimetype": "text/x-python",
   "name": "python",
   "nbconvert_exporter": "python",
   "pygments_lexer": "ipython3",
   "version": "3.11.9"
  }
 },
 "nbformat": 4,
 "nbformat_minor": 2
}
