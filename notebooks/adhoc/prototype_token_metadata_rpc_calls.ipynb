{
 "cells": [
  {
   "cell_type": "code",
   "execution_count": 9,
   "metadata": {},
   "outputs": [
    {
     "data": {
      "text/plain": [
       "'https://mainnet.optimism.io'"
      ]
     },
     "execution_count": 9,
     "metadata": {},
     "output_type": "execute_result"
    }
   ],
   "source": [
    "from op_analytics.datasources.chainsrpc.erc20metadata import get_rpc_for_chain\n",
    "\n",
    "get_rpc_for_chain(10)"
   ]
  },
  {
   "cell_type": "code",
   "execution_count": 18,
   "metadata": {},
   "outputs": [
    {
     "data": {
      "text/plain": [
       "{'jsonrpc': '2.0',\n",
       " 'result': '0x000000000000000000000000000000000000000000000000000ce927c84a2485',\n",
       " 'id': 1}"
      ]
     },
     "execution_count": 18,
     "metadata": {},
     "output_type": "execute_result"
    }
   ],
   "source": [
    "import requests\n",
    "\n",
    "RPC_URL = 'https://mainnet.base.org/'\n",
    "\n",
    "# Contract details\n",
    "CONTRACT_ADDRESS = \"0xffcbf84650ce02dafe96926b37a0ac5e34932fa5\"\n",
    "CONTRACT_ADDRESS = \"0x833589fcd6edb6e08f4c7c32d4f71b54bda02913\"\n",
    "METHOD_ID = \"0x18160ddd\"  # First 4 bytes of keccak256(function_signature)\n",
    "\n",
    "# Construct JSON-RPC payload\n",
    "payload = {\n",
    "    \"jsonrpc\": \"2.0\",\n",
    "    \"method\": \"eth_call\",\n",
    "    \"params\": [{\n",
    "        \"to\": CONTRACT_ADDRESS,\n",
    "        \"data\": METHOD_ID\n",
    "    }, \"latest\"],\n",
    "    \"id\": 1\n",
    "}\n",
    "\n",
    "# Send request\n",
    "response = requests.post(RPC_URL, json=payload)\n",
    "result = response.json()\n",
    "result"
   ]
  },
  {
   "cell_type": "code",
   "execution_count": 20,
   "metadata": {},
   "outputs": [
    {
     "data": {
      "text/plain": [
       "3634056793826437"
      ]
     },
     "execution_count": 20,
     "metadata": {},
     "output_type": "execute_result"
    }
   ],
   "source": [
    "int(\"0x000000000000000000000000000000000000000000000000000ce927c84a2485\", base=16)\n",
    "\n",
    "3634056793826437"
   ]
  },
  {
   "cell_type": "code",
   "execution_count": 11,
   "metadata": {},
   "outputs": [
    {
     "name": "stdout",
     "output_type": "stream",
     "text": [
      "0x833589fcd6edb6e08f4c7c32d4f71b54bda02913\n",
      "0x833589fCD6eDb6E08f4c7C32D4f71b54bdA02913\n"
     ]
    }
   ],
   "source": [
    "import web3\n",
    "\n",
    "contract_addres = \"0x833589fcd6edb6e08f4c7c32d4f71b54bda02913\"\n",
    "\n",
    "# Create web3 connection\n",
    "w3 = web3.Web3(web3.Web3.HTTPProvider(rpc))\n",
    "\n",
    "print(contract_addres)\n",
    "print(w3.to_checksum_address(contract_addres))"
   ]
  },
  {
   "cell_type": "code",
   "execution_count": 8,
   "metadata": {},
   "outputs": [
    {
     "name": "stdout",
     "output_type": "stream",
     "text": [
      "b'\\x00\\x00\\x00\\x00\\x00\\x00\\x00\\x00\\x00\\x00\\x00\\x00\\x00\\x00\\x00\\x00\\x00\\x00\\x00\\x00\\x00\\x00\\x00\\x00\\x00\\x00\\x00\\x00\\x00\\x00\\x00\\x00'\n",
      "Implementation address: 0x0000000000000000000000000000000000000000\n"
     ]
    }
   ],
   "source": [
    "import web3\n",
    "\n",
    "contract_addres = \"0x833589fcd6edb6e08f4c7c32d4f71b54bda02913\"\n",
    "\n",
    "# Create web3 connection\n",
    "w3 = web3.Web3(web3.Web3.HTTPProvider(rpc))\n",
    "\n",
    "# Convert address to checksum format\n",
    "contract_address = w3.to_checksum_address(contract_addres)\n",
    "\n",
    "# Implementation slot for ERC1967 proxy\n",
    "IMPLEMENTATION_SLOT = \"0x360894a13ba1a3210667c828492db98dca3e2076cc3735a920a3ca505d382bbc\"\n",
    "\n",
    "# Get implementation address from storage\n",
    "implementation_bytes = w3.eth.get_storage_at(contract_address, IMPLEMENTATION_SLOT)\n",
    "print(implementation_bytes)\n",
    "implementation_address = \"0x\" + implementation_bytes.hex()[-40:]\n",
    "\n",
    "print(f\"Implementation address: {implementation_address}\")\n"
   ]
  },
  {
   "cell_type": "code",
   "execution_count": 1,
   "metadata": {},
   "outputs": [
    {
     "name": "stdout",
     "output_type": "stream",
     "text": [
      "\u001b[2m2025-02-13 15:55:47\u001b[0m [\u001b[32m\u001b[1mdebug    \u001b[0m] \u001b[1mconnecting to OPLABS Clickhouse client...\u001b[0m \u001b[36mfilename\u001b[0m=\u001b[35mclient.py\u001b[0m \u001b[36mlineno\u001b[0m=\u001b[35m56\u001b[0m \u001b[36mprocess\u001b[0m=\u001b[35m44945\u001b[0m\n",
      "\u001b[2m2025-02-13 15:55:47\u001b[0m [\u001b[32m\u001b[1minfo     \u001b[0m] \u001b[1mloaded vault from .env file   \u001b[0m \u001b[36mfilename\u001b[0m=\u001b[35mvault.py\u001b[0m \u001b[36mlineno\u001b[0m=\u001b[35m32\u001b[0m \u001b[36mprocess\u001b[0m=\u001b[35m44945\u001b[0m\n",
      "\u001b[2m2025-02-13 15:55:47\u001b[0m [\u001b[32m\u001b[1mdebug    \u001b[0m] \u001b[1mloaded vault: 18 items        \u001b[0m \u001b[36mfilename\u001b[0m=\u001b[35mvault.py\u001b[0m \u001b[36mlineno\u001b[0m=\u001b[35m79\u001b[0m \u001b[36mprocess\u001b[0m=\u001b[35m44945\u001b[0m\n",
      "\u001b[2m2025-02-13 15:55:47\u001b[0m [\u001b[32m\u001b[1mdebug    \u001b[0m] \u001b[1minitialized OPLABS Clickhouse client.\u001b[0m \u001b[36mfilename\u001b[0m=\u001b[35mclient.py\u001b[0m \u001b[36mlineno\u001b[0m=\u001b[35m61\u001b[0m \u001b[36mprocess\u001b[0m=\u001b[35m44945\u001b[0m\n",
      "\u001b[2m2025-02-13 15:55:47\u001b[0m [\u001b[32m\u001b[1mdebug    \u001b[0m] \u001b[1mFound vault variable GOOGLE_SERVICE_ACCOUNT (has JSON key)\u001b[0m \u001b[36mcounter\u001b[0m=\u001b[35m001/010\u001b[0m \u001b[36meta\u001b[0m=\u001b[35mNone\u001b[0m \u001b[36mfilename\u001b[0m=\u001b[35mgcpauth.py\u001b[0m \u001b[36mlineno\u001b[0m=\u001b[35m18\u001b[0m \u001b[36mprocess\u001b[0m=\u001b[35m44945\u001b[0m\n",
      "\u001b[2m2025-02-13 15:55:47\u001b[0m [\u001b[32m\u001b[1mdebug    \u001b[0m] \u001b[1mFound vault variable GOOGLE_SERVICE_ACCOUNT (has JSON key)\u001b[0m \u001b[36mcounter\u001b[0m=\u001b[35m002/010\u001b[0m \u001b[36meta\u001b[0m=\u001b[35mNone\u001b[0m \u001b[36mfilename\u001b[0m=\u001b[35mgcpauth.py\u001b[0m \u001b[36mlineno\u001b[0m=\u001b[35m18\u001b[0m \u001b[36mprocess\u001b[0m=\u001b[35m44945\u001b[0m\n",
      "\u001b[2m2025-02-13 15:55:47\u001b[0m [\u001b[32m\u001b[1mdebug    \u001b[0m] \u001b[1mFound vault variable GOOGLE_SERVICE_ACCOUNT (has JSON key)\u001b[0m \u001b[36mcounter\u001b[0m=\u001b[35m003/010\u001b[0m \u001b[36meta\u001b[0m=\u001b[35mNone\u001b[0m \u001b[36mfilename\u001b[0m=\u001b[35mgcpauth.py\u001b[0m \u001b[36mlineno\u001b[0m=\u001b[35m18\u001b[0m \u001b[36mprocess\u001b[0m=\u001b[35m44945\u001b[0m\n",
      "\u001b[2m2025-02-13 15:55:47\u001b[0m [\u001b[32m\u001b[1mdebug    \u001b[0m] \u001b[1mFound vault variable GOOGLE_SERVICE_ACCOUNT (has JSON key)\u001b[0m \u001b[36mcounter\u001b[0m=\u001b[35m004/010\u001b[0m \u001b[36meta\u001b[0m=\u001b[35mNone\u001b[0m \u001b[36mfilename\u001b[0m=\u001b[35mgcpauth.py\u001b[0m \u001b[36mlineno\u001b[0m=\u001b[35m18\u001b[0m \u001b[36mprocess\u001b[0m=\u001b[35m44945\u001b[0m\n",
      "\u001b[2m2025-02-13 15:55:49\u001b[0m [\u001b[32m\u001b[1minfo     \u001b[0m] \u001b[1mLoaded OP chains metadata from /Users/pedro/github/ethereum-optimism/op-analytics-alt/op_chains_tracking/inputs/chain_metadata_raw.csv\u001b[0m \u001b[36mcounter\u001b[0m=\u001b[35m002/010\u001b[0m \u001b[36meta\u001b[0m=\u001b[35mNone\u001b[0m \u001b[36mfilename\u001b[0m=\u001b[35mload.py\u001b[0m \u001b[36mlineno\u001b[0m=\u001b[35m85\u001b[0m \u001b[36mprocess\u001b[0m=\u001b[35m44945\u001b[0m\n",
      "\u001b[2m2025-02-13 15:55:49\u001b[0m [\u001b[32m\u001b[1minfo     \u001b[0m] \u001b[1m[REPO vs. GSHEETS] ERROR: Chain Metadata is different\u001b[0m \u001b[36mcounter\u001b[0m=\u001b[35m002/010\u001b[0m \u001b[36meta\u001b[0m=\u001b[35mNone\u001b[0m \u001b[36mfilename\u001b[0m=\u001b[35mload.py\u001b[0m \u001b[36mlineno\u001b[0m=\u001b[35m97\u001b[0m \u001b[36mprocess\u001b[0m=\u001b[35m44945\u001b[0m\n",
      "\u001b[2m2025-02-13 15:55:49\u001b[0m [\u001b[32m\u001b[1minfo     \u001b[0m] \u001b[1mLoaded OP chains metadata from /Users/pedro/github/ethereum-optimism/op-analytics-alt/op_chains_tracking/inputs/chain_metadata_raw.csv\u001b[0m \u001b[36mcounter\u001b[0m=\u001b[35m001/010\u001b[0m \u001b[36meta\u001b[0m=\u001b[35mNone\u001b[0m \u001b[36mfilename\u001b[0m=\u001b[35mload.py\u001b[0m \u001b[36mlineno\u001b[0m=\u001b[35m85\u001b[0m \u001b[36mprocess\u001b[0m=\u001b[35m44945\u001b[0m\n",
      "\u001b[2m2025-02-13 15:55:49\u001b[0m [\u001b[32m\u001b[1minfo     \u001b[0m] \u001b[1m[REPO vs. GSHEETS] ERROR: Chain Metadata is different\u001b[0m \u001b[36mcounter\u001b[0m=\u001b[35m001/010\u001b[0m \u001b[36meta\u001b[0m=\u001b[35mNone\u001b[0m \u001b[36mfilename\u001b[0m=\u001b[35mload.py\u001b[0m \u001b[36mlineno\u001b[0m=\u001b[35m97\u001b[0m \u001b[36mprocess\u001b[0m=\u001b[35m44945\u001b[0m\n",
      "\u001b[2m2025-02-13 15:55:49\u001b[0m [\u001b[32m\u001b[1minfo     \u001b[0m] \u001b[1mLoaded OP chains metadata from /Users/pedro/github/ethereum-optimism/op-analytics-alt/op_chains_tracking/inputs/chain_metadata_raw.csv\u001b[0m \u001b[36mcounter\u001b[0m=\u001b[35m004/010\u001b[0m \u001b[36meta\u001b[0m=\u001b[35mNone\u001b[0m \u001b[36mfilename\u001b[0m=\u001b[35mload.py\u001b[0m \u001b[36mlineno\u001b[0m=\u001b[35m85\u001b[0m \u001b[36mprocess\u001b[0m=\u001b[35m44945\u001b[0m\n",
      "\u001b[2m2025-02-13 15:55:49\u001b[0m [\u001b[32m\u001b[1minfo     \u001b[0m] \u001b[1m[REPO vs. GSHEETS] ERROR: Chain Metadata is different\u001b[0m \u001b[36mcounter\u001b[0m=\u001b[35m004/010\u001b[0m \u001b[36meta\u001b[0m=\u001b[35mNone\u001b[0m \u001b[36mfilename\u001b[0m=\u001b[35mload.py\u001b[0m \u001b[36mlineno\u001b[0m=\u001b[35m97\u001b[0m \u001b[36mprocess\u001b[0m=\u001b[35m44945\u001b[0m\n",
      "\u001b[2m2025-02-13 15:55:49\u001b[0m [\u001b[32m\u001b[1minfo     \u001b[0m] \u001b[1mLoaded OP chains metadata from /Users/pedro/github/ethereum-optimism/op-analytics-alt/op_chains_tracking/inputs/chain_metadata_raw.csv\u001b[0m \u001b[36mcounter\u001b[0m=\u001b[35m003/010\u001b[0m \u001b[36meta\u001b[0m=\u001b[35mNone\u001b[0m \u001b[36mfilename\u001b[0m=\u001b[35mload.py\u001b[0m \u001b[36mlineno\u001b[0m=\u001b[35m85\u001b[0m \u001b[36mprocess\u001b[0m=\u001b[35m44945\u001b[0m\n",
      "\u001b[2m2025-02-13 15:55:49\u001b[0m [\u001b[32m\u001b[1minfo     \u001b[0m] \u001b[1m[REPO vs. GSHEETS] ERROR: Chain Metadata is different\u001b[0m \u001b[36mcounter\u001b[0m=\u001b[35m003/010\u001b[0m \u001b[36meta\u001b[0m=\u001b[35mNone\u001b[0m \u001b[36mfilename\u001b[0m=\u001b[35mload.py\u001b[0m \u001b[36mlineno\u001b[0m=\u001b[35m97\u001b[0m \u001b[36mprocess\u001b[0m=\u001b[35m44945\u001b[0m\n",
      "\u001b[2m2025-02-13 15:55:50\u001b[0m [\u001b[32m\u001b[1minfo     \u001b[0m] \u001b[1mfetched token metadata for TokenContract(chain='base', chain_id=8453, contract_address='0x4200000000000000000000000000000000000006')\u001b[0m \u001b[36mcounter\u001b[0m=\u001b[35m001/010\u001b[0m \u001b[36meta\u001b[0m=\u001b[35mNone\u001b[0m \u001b[36mfilename\u001b[0m=\u001b[35merc20metadata.py\u001b[0m \u001b[36mlineno\u001b[0m=\u001b[35m116\u001b[0m \u001b[36mprocess\u001b[0m=\u001b[35m44945\u001b[0m\n"
     ]
    }
   ],
   "source": [
    "from op_analytics.datasources.chainsrpc.erc20metadata import execute_pull\n",
    "\n",
    "\n",
    "results = execute_pull()"
   ]
  },
  {
   "cell_type": "code",
   "execution_count": 2,
   "metadata": {},
   "outputs": [
    {
     "data": {
      "text/plain": [
       "{TokenContract(chain='worldchain', chain_id=480, contract_address='0x2cfc85d8e48f8eab294be644d9e25c3030863003'): {},\n",
       " TokenContract(chain='base', chain_id=8453, contract_address='0x6bbdcaae8533b0e8e9c11e6ddea43b8d88e263f6'): {},\n",
       " TokenContract(chain='base', chain_id=8453, contract_address='0x940181a94a35a4569e4529a3cdfb74e38fd98631'): {},\n",
       " TokenContract(chain='base', chain_id=8453, contract_address='0x773e90176fd8c8335b8692a8c3c6e777d640a049'): {},\n",
       " TokenContract(chain='worldchain', chain_id=480, contract_address='0xcd1e32b86953d79a6ac58e813d2ea7a1790cab63'): {},\n",
       " TokenContract(chain='base', chain_id=8453, contract_address='0xae56028079fb8e3fc788b25af7e4e343f7878e4c'): {},\n",
       " TokenContract(chain='base', chain_id=8453, contract_address='0x4200000000000000000000000000000000000006'): {'chain': 'base',\n",
       "  'chain_id': 8453,\n",
       "  'contract_address': '0x4200000000000000000000000000000000000006',\n",
       "  'decimals': 18,\n",
       "  'symbol': 'WETH',\n",
       "  'name': 'Wrapped Ether',\n",
       "  'total_supply': 240514515674559726527616,\n",
       "  'block_number': 26345400,\n",
       "  'block_timestamp': 1739480147},\n",
       " TokenContract(chain='base', chain_id=8453, contract_address='0xffcbf84650ce02dafe96926b37a0ac5e34932fa5'): {},\n",
       " TokenContract(chain='op', chain_id=10, contract_address='0xeb585163debb1e637c6d617de3bef99347cd75c8'): {},\n",
       " TokenContract(chain='base', chain_id=8453, contract_address='0x833589fcd6edb6e08f4c7c32d4f71b54bda02913'): {}}"
      ]
     },
     "execution_count": 2,
     "metadata": {},
     "output_type": "execute_result"
    }
   ],
   "source": [
    "results"
   ]
  },
  {
   "cell_type": "code",
   "execution_count": null,
   "metadata": {},
   "outputs": [],
   "source": []
  },
  {
   "cell_type": "code",
   "execution_count": 3,
   "metadata": {},
   "outputs": [],
   "source": [
    "import pandas as pd\n",
    "import sys\n",
    "sys.path.append(\"../helper_functions\")\n",
    "from web3 import Web3\n",
    "from datetime import datetime, timezone\n",
    "sys.path.pop()\n",
    "import re"
   ]
  },
  {
   "cell_type": "code",
   "execution_count": 4,
   "metadata": {},
   "outputs": [],
   "source": [
    "def clean_string(raw_str: str) -> str:\n",
    "    \"\"\"\n",
    "    Remove all control characters (ASCII 0–31, plus 127),\n",
    "    then strip leading/trailing whitespace.\n",
    "    \"\"\"\n",
    "    return re.sub(r'[\\x00-\\x1F\\x7F]+', '', raw_str).strip()\n",
    "\n",
    "\n",
    "def get_token_metadata(token_contract_address, rpc, method_name_list):\n",
    "    \"\"\"\n",
    "    Aggregates multiple contract calls into one Python function call.\n",
    "    (Still multiple calls to your Ethereum node, but simpler to manage in code.)\n",
    "    \"\"\"\n",
    "    w3_conn = Web3(Web3.HTTPProvider(rpc))\n",
    "    token_contract_address = token_contract_address.lower() \n",
    "    \n",
    "    block_timestamp = w3_conn.eth.get_block('latest').timestamp\n",
    "    block_number = w3_conn.eth.get_block('latest').number\n",
    "    # Convert the UNIX timestamp to a human-readable format\n",
    "    block_datetime = datetime.fromtimestamp(block_timestamp, tz=timezone.utc)\n",
    "    block_time = block_datetime.strftime('%Y-%m-%d %H:%M:%S')\n",
    "\n",
    "    method_ids = [Web3.keccak(text=f\"{method_name}()\")[:4].hex() for method_name in method_name_list]\n",
    "    \n",
    "    # create a loop to get the response for each method\n",
    "    response_map = {}\n",
    "\n",
    "    for method_id, method_name in zip(method_ids, method_name_list):\n",
    "        response = w3_conn.eth.call({\n",
    "            'to': token_contract_address,\n",
    "            'data': method_id\n",
    "        })\n",
    "        response_map[method_name] = response\n",
    "\n",
    "\n",
    "    # return the response for each method\n",
    "    \n",
    "    decimals = Web3.to_int(hexstr=response_map[\"decimals\"].hex())\n",
    "    symbol = clean_string(Web3.to_text(hexstr=response_map[\"symbol\"].hex()))\n",
    "    name = clean_string(Web3.to_text(hexstr=response_map[\"name\"].hex()))\n",
    "    total_supply = Web3.to_int(hexstr=response_map[\"totalSupply\"].hex())\n",
    "    \n",
    "    return {\n",
    "        \"block_time\": block_time,\n",
    "        \"block_number\": block_number,\n",
    "        \"block_timestamp\": block_timestamp,\n",
    "        \"contract_address\": token_contract_address,\n",
    "        \"decimals\": decimals,\n",
    "        \"symbol\": symbol,\n",
    "        \"name\": name,\n",
    "        \"total_supply\": total_supply\n",
    "    }"
   ]
  },
  {
   "cell_type": "code",
   "execution_count": 5,
   "metadata": {},
   "outputs": [],
   "source": [
    "chains_rpcs = pd.read_csv('../../op_chains_tracking/outputs/chain_metadata.csv', na_filter=False)\n",
    "chains_rpcs = chains_rpcs[~(chains_rpcs['rpc_url'] == '')]\n",
    "\n",
    "rpc =chains_rpcs[chains_rpcs['chain_name'] == 'op'][\"rpc_url\"]\n",
    "RPC = rpc.iloc[0] \n",
    "\n",
    "CONTRACT_ADDRESS = \"0x4200000000000000000000000000000000000006\"\n",
    "METHOD_NAME = [\"decimals\", \"symbol\", \"name\", \"totalSupply\"]\n"
   ]
  },
  {
   "cell_type": "code",
   "execution_count": 14,
   "metadata": {},
   "outputs": [
    {
     "data": {
      "text/plain": [
       "{'block_time': '2025-02-13 21:06:07',\n",
       " 'block_number': 131940995,\n",
       " 'block_timestamp': 1739480767,\n",
       " 'contract_address': '0x4200000000000000000000000000000000000006',\n",
       " 'decimals': 18,\n",
       " 'symbol': 'WETH',\n",
       " 'name': 'Wrapped Ether',\n",
       " 'total_supply': 38885309302187337741110}"
      ]
     },
     "execution_count": 14,
     "metadata": {},
     "output_type": "execute_result"
    }
   ],
   "source": [
    "response = get_token_metadata(CONTRACT_ADDRESS, RPC, METHOD_NAME)\n",
    "response"
   ]
  },
  {
   "cell_type": "code",
   "execution_count": null,
   "metadata": {},
   "outputs": [],
   "source": [
    "address2 = Web3.to_checksum_address('0xffcbF84650cE02DaFE96926B37a0ac5E34932fa5')\n",
    "balance=contract.functions.balanceOf(address2).call()"
   ]
  },
  {
   "cell_type": "code",
   "execution_count": 16,
   "metadata": {},
   "outputs": [
    {
     "ename": "InvalidAddress",
     "evalue": "('web3.py only accepts checksum addresses. The software that gave you this non-checksum address should be considered unsafe, please file it as a bug on their platform. Try using an ENS name instead. Or, if you must accept lower safety, use Web3.to_checksum_address(lower_case_address).', '0xffcbf84650ce02dafe96926b37a0ac5e34932fa5')",
     "output_type": "error",
     "traceback": [
      "\u001b[0;31m---------------------------------------------------------------------------\u001b[0m",
      "\u001b[0;31mInvalidAddress\u001b[0m                            Traceback (most recent call last)",
      "Cell \u001b[0;32mIn[16], line 3\u001b[0m\n\u001b[1;32m      1\u001b[0m contract \u001b[38;5;241m=\u001b[39m \u001b[38;5;124m\"\u001b[39m\u001b[38;5;124m0xffcbF84650cE02DaFE96926B37a0ac5E34932fa5\u001b[39m\u001b[38;5;124m\"\u001b[39m\n\u001b[0;32m----> 3\u001b[0m response \u001b[38;5;241m=\u001b[39m \u001b[43mget_token_metadata\u001b[49m\u001b[43m(\u001b[49m\u001b[43mcontract\u001b[49m\u001b[43m,\u001b[49m\u001b[43m \u001b[49m\u001b[43mRPC\u001b[49m\u001b[43m,\u001b[49m\u001b[43m \u001b[49m\u001b[43mMETHOD_NAME\u001b[49m\u001b[43m)\u001b[49m\n\u001b[1;32m      4\u001b[0m response\n",
      "Cell \u001b[0;32mIn[4], line 29\u001b[0m, in \u001b[0;36mget_token_metadata\u001b[0;34m(token_contract_address, rpc, method_name_list)\u001b[0m\n\u001b[1;32m     26\u001b[0m response_map \u001b[38;5;241m=\u001b[39m {}\n\u001b[1;32m     28\u001b[0m \u001b[38;5;28;01mfor\u001b[39;00m method_id, method_name \u001b[38;5;129;01min\u001b[39;00m \u001b[38;5;28mzip\u001b[39m(method_ids, method_name_list):\n\u001b[0;32m---> 29\u001b[0m     response \u001b[38;5;241m=\u001b[39m \u001b[43mw3_conn\u001b[49m\u001b[38;5;241;43m.\u001b[39;49m\u001b[43meth\u001b[49m\u001b[38;5;241;43m.\u001b[39;49m\u001b[43mcall\u001b[49m\u001b[43m(\u001b[49m\u001b[43m{\u001b[49m\n\u001b[1;32m     30\u001b[0m \u001b[43m        \u001b[49m\u001b[38;5;124;43m'\u001b[39;49m\u001b[38;5;124;43mto\u001b[39;49m\u001b[38;5;124;43m'\u001b[39;49m\u001b[43m:\u001b[49m\u001b[43m \u001b[49m\u001b[43mtoken_contract_address\u001b[49m\u001b[43m,\u001b[49m\n\u001b[1;32m     31\u001b[0m \u001b[43m        \u001b[49m\u001b[38;5;124;43m'\u001b[39;49m\u001b[38;5;124;43mdata\u001b[39;49m\u001b[38;5;124;43m'\u001b[39;49m\u001b[43m:\u001b[49m\u001b[43m \u001b[49m\u001b[43mmethod_id\u001b[49m\n\u001b[1;32m     32\u001b[0m \u001b[43m    \u001b[49m\u001b[43m}\u001b[49m\u001b[43m)\u001b[49m\n\u001b[1;32m     33\u001b[0m     response_map[method_name] \u001b[38;5;241m=\u001b[39m response\n\u001b[1;32m     36\u001b[0m \u001b[38;5;66;03m# return the response for each method\u001b[39;00m\n",
      "File \u001b[0;32m~/github/ethereum-optimism/op-analytics-alt/.venv/lib/python3.12/site-packages/web3/eth/eth.py:244\u001b[0m, in \u001b[0;36mEth.call\u001b[0;34m(self, transaction, block_identifier, state_override, ccip_read_enabled)\u001b[0m\n\u001b[1;32m    234\u001b[0m ccip_read_enabled_on_provider \u001b[38;5;241m=\u001b[39m \u001b[38;5;28mself\u001b[39m\u001b[38;5;241m.\u001b[39mw3\u001b[38;5;241m.\u001b[39mprovider\u001b[38;5;241m.\u001b[39mglobal_ccip_read_enabled\n\u001b[1;32m    235\u001b[0m \u001b[38;5;28;01mif\u001b[39;00m (\n\u001b[1;32m    236\u001b[0m     \u001b[38;5;66;03m# default conditions:\u001b[39;00m\n\u001b[1;32m    237\u001b[0m     ccip_read_enabled_on_provider\n\u001b[0;32m   (...)\u001b[0m\n\u001b[1;32m    242\u001b[0m     \u001b[38;5;129;01mand\u001b[39;00m ccip_read_enabled \u001b[38;5;129;01mis\u001b[39;00m \u001b[38;5;28;01mTrue\u001b[39;00m\n\u001b[1;32m    243\u001b[0m ):\n\u001b[0;32m--> 244\u001b[0m     \u001b[38;5;28;01mreturn\u001b[39;00m \u001b[38;5;28;43mself\u001b[39;49m\u001b[38;5;241;43m.\u001b[39;49m\u001b[43m_durin_call\u001b[49m\u001b[43m(\u001b[49m\u001b[43mtransaction\u001b[49m\u001b[43m,\u001b[49m\u001b[43m \u001b[49m\u001b[43mblock_identifier\u001b[49m\u001b[43m,\u001b[49m\u001b[43m \u001b[49m\u001b[43mstate_override\u001b[49m\u001b[43m)\u001b[49m\n\u001b[1;32m    246\u001b[0m \u001b[38;5;28;01mreturn\u001b[39;00m \u001b[38;5;28mself\u001b[39m\u001b[38;5;241m.\u001b[39m_call(transaction, block_identifier, state_override)\n",
      "File \u001b[0;32m~/github/ethereum-optimism/op-analytics-alt/.venv/lib/python3.12/site-packages/web3/eth/eth.py:263\u001b[0m, in \u001b[0;36mEth._durin_call\u001b[0;34m(self, transaction, block_identifier, state_override)\u001b[0m\n\u001b[1;32m    261\u001b[0m \u001b[38;5;28;01mfor\u001b[39;00m _ \u001b[38;5;129;01min\u001b[39;00m \u001b[38;5;28mrange\u001b[39m(max_redirects):\n\u001b[1;32m    262\u001b[0m     \u001b[38;5;28;01mtry\u001b[39;00m:\n\u001b[0;32m--> 263\u001b[0m         \u001b[38;5;28;01mreturn\u001b[39;00m \u001b[38;5;28;43mself\u001b[39;49m\u001b[38;5;241;43m.\u001b[39;49m\u001b[43m_call\u001b[49m\u001b[43m(\u001b[49m\u001b[43mtransaction\u001b[49m\u001b[43m,\u001b[49m\u001b[43m \u001b[49m\u001b[43mblock_identifier\u001b[49m\u001b[43m,\u001b[49m\u001b[43m \u001b[49m\u001b[43mstate_override\u001b[49m\u001b[43m)\u001b[49m\n\u001b[1;32m    264\u001b[0m     \u001b[38;5;28;01mexcept\u001b[39;00m OffchainLookup \u001b[38;5;28;01mas\u001b[39;00m offchain_lookup:\n\u001b[1;32m    265\u001b[0m         durin_calldata \u001b[38;5;241m=\u001b[39m handle_offchain_lookup(\n\u001b[1;32m    266\u001b[0m             offchain_lookup\u001b[38;5;241m.\u001b[39mpayload,\n\u001b[1;32m    267\u001b[0m             transaction,\n\u001b[1;32m    268\u001b[0m         )\n",
      "File \u001b[0;32m~/github/ethereum-optimism/op-analytics-alt/.venv/lib/python3.12/site-packages/web3/module.py:101\u001b[0m, in \u001b[0;36mretrieve_blocking_method_call_fn.<locals>.caller\u001b[0;34m(*args, **kwargs)\u001b[0m\n\u001b[1;32m     99\u001b[0m \u001b[38;5;28;01mdef\u001b[39;00m \u001b[38;5;21mcaller\u001b[39m(\u001b[38;5;241m*\u001b[39margs: Any, \u001b[38;5;241m*\u001b[39m\u001b[38;5;241m*\u001b[39mkwargs: Any) \u001b[38;5;241m-\u001b[39m\u001b[38;5;241m>\u001b[39m Union[TReturn, LogFilter]:\n\u001b[1;32m    100\u001b[0m     \u001b[38;5;28;01mtry\u001b[39;00m:\n\u001b[0;32m--> 101\u001b[0m         (method_str, params), response_formatters \u001b[38;5;241m=\u001b[39m \u001b[43mmethod\u001b[49m\u001b[38;5;241;43m.\u001b[39;49m\u001b[43mprocess_params\u001b[49m\u001b[43m(\u001b[49m\n\u001b[1;32m    102\u001b[0m \u001b[43m            \u001b[49m\u001b[43mmodule\u001b[49m\u001b[43m,\u001b[49m\u001b[43m \u001b[49m\u001b[38;5;241;43m*\u001b[39;49m\u001b[43margs\u001b[49m\u001b[43m,\u001b[49m\u001b[43m \u001b[49m\u001b[38;5;241;43m*\u001b[39;49m\u001b[38;5;241;43m*\u001b[39;49m\u001b[43mkwargs\u001b[49m\n\u001b[1;32m    103\u001b[0m \u001b[43m        \u001b[49m\u001b[43m)\u001b[49m\n\u001b[1;32m    104\u001b[0m     \u001b[38;5;28;01mexcept\u001b[39;00m _UseExistingFilter \u001b[38;5;28;01mas\u001b[39;00m err:\n\u001b[1;32m    105\u001b[0m         \u001b[38;5;28;01mreturn\u001b[39;00m LogFilter(eth_module\u001b[38;5;241m=\u001b[39mmodule, filter_id\u001b[38;5;241m=\u001b[39merr\u001b[38;5;241m.\u001b[39mfilter_id)\n",
      "File \u001b[0;32m~/github/ethereum-optimism/op-analytics-alt/.venv/lib/python3.12/site-packages/web3/method.py:237\u001b[0m, in \u001b[0;36mMethod.process_params\u001b[0;34m(self, module, *args, **kwargs)\u001b[0m\n\u001b[1;32m    229\u001b[0m method \u001b[38;5;241m=\u001b[39m \u001b[38;5;28mself\u001b[39m\u001b[38;5;241m.\u001b[39mmethod_selector_fn()\n\u001b[1;32m    230\u001b[0m response_formatters \u001b[38;5;241m=\u001b[39m (\n\u001b[1;32m    231\u001b[0m     \u001b[38;5;28mself\u001b[39m\u001b[38;5;241m.\u001b[39mresult_formatters(method, module),\n\u001b[1;32m    232\u001b[0m     get_error_formatters(method),\n\u001b[1;32m    233\u001b[0m     \u001b[38;5;28mself\u001b[39m\u001b[38;5;241m.\u001b[39mnull_result_formatters(method),\n\u001b[1;32m    234\u001b[0m )\n\u001b[1;32m    235\u001b[0m request \u001b[38;5;241m=\u001b[39m (\n\u001b[1;32m    236\u001b[0m     method,\n\u001b[0;32m--> 237\u001b[0m     \u001b[43m_apply_request_formatters\u001b[49m\u001b[43m(\u001b[49m\u001b[43mparams\u001b[49m\u001b[43m,\u001b[49m\u001b[43m \u001b[49m\u001b[38;5;28;43mself\u001b[39;49m\u001b[38;5;241;43m.\u001b[39;49m\u001b[43mrequest_formatters\u001b[49m\u001b[43m(\u001b[49m\u001b[43mmethod\u001b[49m\u001b[43m)\u001b[49m\u001b[43m)\u001b[49m,\n\u001b[1;32m    238\u001b[0m )\n\u001b[1;32m    239\u001b[0m \u001b[38;5;28;01mreturn\u001b[39;00m request, response_formatters\n",
      "File \u001b[0;32m~/github/ethereum-optimism/op-analytics-alt/.venv/lib/python3.12/site-packages/eth_utils/functional.py:47\u001b[0m, in \u001b[0;36mapply_to_return_value.<locals>.outer.<locals>.inner\u001b[0;34m(*args, **kwargs)\u001b[0m\n\u001b[1;32m     45\u001b[0m \u001b[38;5;129m@functools\u001b[39m\u001b[38;5;241m.\u001b[39mwraps(fn)\n\u001b[1;32m     46\u001b[0m \u001b[38;5;28;01mdef\u001b[39;00m \u001b[38;5;21minner\u001b[39m(\u001b[38;5;241m*\u001b[39margs, \u001b[38;5;241m*\u001b[39m\u001b[38;5;241m*\u001b[39mkwargs) \u001b[38;5;241m-\u001b[39m\u001b[38;5;241m>\u001b[39m T:  \u001b[38;5;66;03m# type: ignore\u001b[39;00m\n\u001b[0;32m---> 47\u001b[0m     \u001b[38;5;28;01mreturn\u001b[39;00m callback(\u001b[43mfn\u001b[49m\u001b[43m(\u001b[49m\u001b[38;5;241;43m*\u001b[39;49m\u001b[43margs\u001b[49m\u001b[43m,\u001b[49m\u001b[43m \u001b[49m\u001b[38;5;241;43m*\u001b[39;49m\u001b[38;5;241;43m*\u001b[39;49m\u001b[43mkwargs\u001b[49m\u001b[43m)\u001b[49m)\n",
      "File \u001b[0;32m~/github/ethereum-optimism/op-analytics-alt/.venv/lib/python3.12/site-packages/web3/method.py:64\u001b[0m, in \u001b[0;36m_apply_request_formatters\u001b[0;34m(params, request_formatters)\u001b[0m\n\u001b[1;32m     59\u001b[0m \u001b[38;5;129m@to_tuple\u001b[39m\n\u001b[1;32m     60\u001b[0m \u001b[38;5;28;01mdef\u001b[39;00m \u001b[38;5;21m_apply_request_formatters\u001b[39m(\n\u001b[1;32m     61\u001b[0m     params: Any, request_formatters: Dict[RPCEndpoint, Callable[\u001b[38;5;241m.\u001b[39m\u001b[38;5;241m.\u001b[39m\u001b[38;5;241m.\u001b[39m, TReturn]]\n\u001b[1;32m     62\u001b[0m ) \u001b[38;5;241m-\u001b[39m\u001b[38;5;241m>\u001b[39m Tuple[Any, \u001b[38;5;241m.\u001b[39m\u001b[38;5;241m.\u001b[39m\u001b[38;5;241m.\u001b[39m]:\n\u001b[1;32m     63\u001b[0m     \u001b[38;5;28;01mif\u001b[39;00m request_formatters:\n\u001b[0;32m---> 64\u001b[0m         formatted_params \u001b[38;5;241m=\u001b[39m \u001b[43mpipe\u001b[49m\u001b[43m(\u001b[49m\u001b[43mparams\u001b[49m\u001b[43m,\u001b[49m\u001b[43m \u001b[49m\u001b[43mrequest_formatters\u001b[49m\u001b[43m)\u001b[49m\n\u001b[1;32m     65\u001b[0m         \u001b[38;5;28;01mreturn\u001b[39;00m formatted_params\n\u001b[1;32m     66\u001b[0m     \u001b[38;5;28;01mreturn\u001b[39;00m params\n",
      "File \u001b[0;32m~/github/ethereum-optimism/op-analytics-alt/.venv/lib/python3.12/site-packages/cytoolz/functoolz.pyx:685\u001b[0m, in \u001b[0;36mcytoolz.functoolz.pipe\u001b[0;34m()\u001b[0m\n",
      "File \u001b[0;32m~/github/ethereum-optimism/op-analytics-alt/.venv/lib/python3.12/site-packages/cytoolz/functoolz.pyx:660\u001b[0m, in \u001b[0;36mcytoolz.functoolz.c_pipe\u001b[0;34m()\u001b[0m\n",
      "File \u001b[0;32m~/github/ethereum-optimism/op-analytics-alt/.venv/lib/python3.12/site-packages/cytoolz/functoolz.pyx:523\u001b[0m, in \u001b[0;36mcytoolz.functoolz.Compose.__call__\u001b[0;34m()\u001b[0m\n",
      "File \u001b[0;32m~/github/ethereum-optimism/op-analytics-alt/.venv/lib/python3.12/site-packages/cytoolz/functoolz.pyx:268\u001b[0m, in \u001b[0;36mcytoolz.functoolz.curry.__call__\u001b[0;34m()\u001b[0m\n",
      "File \u001b[0;32m~/github/ethereum-optimism/op-analytics-alt/.venv/lib/python3.12/site-packages/eth_utils/decorators.py:102\u001b[0m, in \u001b[0;36mreturn_arg_type.<locals>.decorator.<locals>.wrapper\u001b[0;34m(*args, **kwargs)\u001b[0m\n\u001b[1;32m    100\u001b[0m result \u001b[38;5;241m=\u001b[39m to_wrap(\u001b[38;5;241m*\u001b[39margs, \u001b[38;5;241m*\u001b[39m\u001b[38;5;241m*\u001b[39mkwargs)\n\u001b[1;32m    101\u001b[0m ReturnType \u001b[38;5;241m=\u001b[39m \u001b[38;5;28mtype\u001b[39m(args[at_position])\n\u001b[0;32m--> 102\u001b[0m \u001b[38;5;28;01mreturn\u001b[39;00m \u001b[43mReturnType\u001b[49m\u001b[43m(\u001b[49m\u001b[43mresult\u001b[49m\u001b[43m)\u001b[49m\n",
      "File \u001b[0;32m~/github/ethereum-optimism/op-analytics-alt/.venv/lib/python3.12/site-packages/eth_utils/applicators.py:36\u001b[0m, in \u001b[0;36mapply_formatter_at_index\u001b[0;34m(formatter, at_index, value)\u001b[0m\n\u001b[1;32m     34\u001b[0m \u001b[38;5;28;01mfor\u001b[39;00m index, item \u001b[38;5;129;01min\u001b[39;00m \u001b[38;5;28menumerate\u001b[39m(value):\n\u001b[1;32m     35\u001b[0m     \u001b[38;5;28;01mif\u001b[39;00m index \u001b[38;5;241m==\u001b[39m at_index:\n\u001b[0;32m---> 36\u001b[0m         \u001b[38;5;28;01myield\u001b[39;00m \u001b[43mformatter\u001b[49m\u001b[43m(\u001b[49m\u001b[43mitem\u001b[49m\u001b[43m)\u001b[49m\n\u001b[1;32m     37\u001b[0m     \u001b[38;5;28;01melse\u001b[39;00m:\n\u001b[1;32m     38\u001b[0m         \u001b[38;5;28;01myield\u001b[39;00m item\n",
      "File \u001b[0;32m~/github/ethereum-optimism/op-analytics-alt/.venv/lib/python3.12/site-packages/cytoolz/functoolz.pyx:268\u001b[0m, in \u001b[0;36mcytoolz.functoolz.curry.__call__\u001b[0;34m()\u001b[0m\n",
      "File \u001b[0;32m~/github/ethereum-optimism/op-analytics-alt/.venv/lib/python3.12/site-packages/web3/_utils/rpc_abi.py:215\u001b[0m, in \u001b[0;36mapply_abi_formatters_to_dict\u001b[0;34m(normalizers, abi_dict, data)\u001b[0m\n\u001b[1;32m    208\u001b[0m \u001b[38;5;129m@curry\u001b[39m\n\u001b[1;32m    209\u001b[0m \u001b[38;5;28;01mdef\u001b[39;00m \u001b[38;5;21mapply_abi_formatters_to_dict\u001b[39m(\n\u001b[1;32m    210\u001b[0m     normalizers: Sequence[Callable[[TypeStr, Any], Tuple[TypeStr, Any]]],\n\u001b[1;32m    211\u001b[0m     abi_dict: Dict[\u001b[38;5;28mstr\u001b[39m, Any],\n\u001b[1;32m    212\u001b[0m     data: Dict[Any, Any],\n\u001b[1;32m    213\u001b[0m ) \u001b[38;5;241m-\u001b[39m\u001b[38;5;241m>\u001b[39m Dict[Any, Any]:\n\u001b[1;32m    214\u001b[0m     fields \u001b[38;5;241m=\u001b[39m \u001b[38;5;28mlist\u001b[39m(abi_dict\u001b[38;5;241m.\u001b[39mkeys() \u001b[38;5;241m&\u001b[39m data\u001b[38;5;241m.\u001b[39mkeys())\n\u001b[0;32m--> 215\u001b[0m     formatted_values \u001b[38;5;241m=\u001b[39m \u001b[43mmap_abi_data\u001b[49m\u001b[43m(\u001b[49m\n\u001b[1;32m    216\u001b[0m \u001b[43m        \u001b[49m\u001b[43mnormalizers\u001b[49m\u001b[43m,\u001b[49m\n\u001b[1;32m    217\u001b[0m \u001b[43m        \u001b[49m\u001b[43m[\u001b[49m\u001b[43mabi_dict\u001b[49m\u001b[43m[\u001b[49m\u001b[43mfield\u001b[49m\u001b[43m]\u001b[49m\u001b[43m \u001b[49m\u001b[38;5;28;43;01mfor\u001b[39;49;00m\u001b[43m \u001b[49m\u001b[43mfield\u001b[49m\u001b[43m \u001b[49m\u001b[38;5;129;43;01min\u001b[39;49;00m\u001b[43m \u001b[49m\u001b[43mfields\u001b[49m\u001b[43m]\u001b[49m\u001b[43m,\u001b[49m\n\u001b[1;32m    218\u001b[0m \u001b[43m        \u001b[49m\u001b[43m[\u001b[49m\u001b[43mdata\u001b[49m\u001b[43m[\u001b[49m\u001b[43mfield\u001b[49m\u001b[43m]\u001b[49m\u001b[43m \u001b[49m\u001b[38;5;28;43;01mfor\u001b[39;49;00m\u001b[43m \u001b[49m\u001b[43mfield\u001b[49m\u001b[43m \u001b[49m\u001b[38;5;129;43;01min\u001b[39;49;00m\u001b[43m \u001b[49m\u001b[43mfields\u001b[49m\u001b[43m]\u001b[49m\u001b[43m,\u001b[49m\n\u001b[1;32m    219\u001b[0m \u001b[43m    \u001b[49m\u001b[43m)\u001b[49m\n\u001b[1;32m    220\u001b[0m     formatted_dict \u001b[38;5;241m=\u001b[39m \u001b[38;5;28mdict\u001b[39m(\u001b[38;5;28mzip\u001b[39m(fields, formatted_values))\n\u001b[1;32m    221\u001b[0m     \u001b[38;5;28;01mreturn\u001b[39;00m \u001b[38;5;28mdict\u001b[39m(data, \u001b[38;5;241m*\u001b[39m\u001b[38;5;241m*\u001b[39mformatted_dict)\n",
      "File \u001b[0;32m~/github/ethereum-optimism/op-analytics-alt/.venv/lib/python3.12/site-packages/cytoolz/functoolz.pyx:268\u001b[0m, in \u001b[0;36mcytoolz.functoolz.curry.__call__\u001b[0;34m()\u001b[0m\n",
      "File \u001b[0;32m~/github/ethereum-optimism/op-analytics-alt/.venv/lib/python3.12/site-packages/web3/_utils/abi.py:620\u001b[0m, in \u001b[0;36mmap_abi_data\u001b[0;34m(normalizers, types, data)\u001b[0m\n\u001b[1;32m    592\u001b[0m \u001b[38;5;250m\u001b[39m\u001b[38;5;124;03m\"\"\"\u001b[39;00m\n\u001b[1;32m    593\u001b[0m \u001b[38;5;124;03mApplies normalizers to your data, in the context of the relevant types.\u001b[39;00m\n\u001b[1;32m    594\u001b[0m \u001b[38;5;124;03mEach normalizer is in the format:\u001b[39;00m\n\u001b[0;32m   (...)\u001b[0m\n\u001b[1;32m    612\u001b[0m \u001b[38;5;124;03m3. Stripping the types back out of the tree\u001b[39;00m\n\u001b[1;32m    613\u001b[0m \u001b[38;5;124;03m\"\"\"\u001b[39;00m\n\u001b[1;32m    614\u001b[0m pipeline \u001b[38;5;241m=\u001b[39m itertools\u001b[38;5;241m.\u001b[39mchain(\n\u001b[1;32m    615\u001b[0m     [abi_data_tree(types)],\n\u001b[1;32m    616\u001b[0m     \u001b[38;5;28mmap\u001b[39m(data_tree_map, normalizers),\n\u001b[1;32m    617\u001b[0m     [partial(recursive_map, strip_abi_type)],\n\u001b[1;32m    618\u001b[0m )\n\u001b[0;32m--> 620\u001b[0m \u001b[38;5;28;01mreturn\u001b[39;00m \u001b[43mpipe\u001b[49m\u001b[43m(\u001b[49m\u001b[43mdata\u001b[49m\u001b[43m,\u001b[49m\u001b[43m \u001b[49m\u001b[38;5;241;43m*\u001b[39;49m\u001b[43mpipeline\u001b[49m\u001b[43m)\u001b[49m\n",
      "File \u001b[0;32m~/github/ethereum-optimism/op-analytics-alt/.venv/lib/python3.12/site-packages/cytoolz/functoolz.pyx:685\u001b[0m, in \u001b[0;36mcytoolz.functoolz.pipe\u001b[0;34m()\u001b[0m\n",
      "File \u001b[0;32m~/github/ethereum-optimism/op-analytics-alt/.venv/lib/python3.12/site-packages/cytoolz/functoolz.pyx:660\u001b[0m, in \u001b[0;36mcytoolz.functoolz.c_pipe\u001b[0;34m()\u001b[0m\n",
      "File \u001b[0;32m~/github/ethereum-optimism/op-analytics-alt/.venv/lib/python3.12/site-packages/cytoolz/functoolz.pyx:268\u001b[0m, in \u001b[0;36mcytoolz.functoolz.curry.__call__\u001b[0;34m()\u001b[0m\n",
      "File \u001b[0;32m~/github/ethereum-optimism/op-analytics-alt/.venv/lib/python3.12/site-packages/web3/_utils/abi.py:655\u001b[0m, in \u001b[0;36mdata_tree_map\u001b[0;34m(func, data_tree)\u001b[0m\n\u001b[1;32m    652\u001b[0m     \u001b[38;5;28;01melse\u001b[39;00m:\n\u001b[1;32m    653\u001b[0m         \u001b[38;5;28;01mreturn\u001b[39;00m elements\n\u001b[0;32m--> 655\u001b[0m \u001b[38;5;28;01mreturn\u001b[39;00m \u001b[43mrecursive_map\u001b[49m\u001b[43m(\u001b[49m\u001b[43mmap_to_typed_data\u001b[49m\u001b[43m,\u001b[49m\u001b[43m \u001b[49m\u001b[43mdata_tree\u001b[49m\u001b[43m)\u001b[49m\n",
      "File \u001b[0;32m~/github/ethereum-optimism/op-analytics-alt/.venv/lib/python3.12/site-packages/web3/_utils/decorators.py:34\u001b[0m, in \u001b[0;36mreject_recursive_repeats.<locals>.wrapped\u001b[0;34m(*args)\u001b[0m\n\u001b[1;32m     32\u001b[0m to_wrap\u001b[38;5;241m.\u001b[39m__already_called[thread_local_args] \u001b[38;5;241m=\u001b[39m \u001b[38;5;28;01mTrue\u001b[39;00m  \u001b[38;5;66;03m# type: ignore\u001b[39;00m\n\u001b[1;32m     33\u001b[0m \u001b[38;5;28;01mtry\u001b[39;00m:\n\u001b[0;32m---> 34\u001b[0m     wrapped_val \u001b[38;5;241m=\u001b[39m \u001b[43mto_wrap\u001b[49m\u001b[43m(\u001b[49m\u001b[38;5;241;43m*\u001b[39;49m\u001b[43margs\u001b[49m\u001b[43m)\u001b[49m\n\u001b[1;32m     35\u001b[0m \u001b[38;5;28;01mfinally\u001b[39;00m:\n\u001b[1;32m     36\u001b[0m     \u001b[38;5;28;01mdel\u001b[39;00m to_wrap\u001b[38;5;241m.\u001b[39m__already_called[thread_local_args]  \u001b[38;5;66;03m# type: ignore\u001b[39;00m\n",
      "File \u001b[0;32m~/github/ethereum-optimism/op-analytics-alt/.venv/lib/python3.12/site-packages/web3/_utils/formatters.py:84\u001b[0m, in \u001b[0;36mrecursive_map\u001b[0;34m(func, data)\u001b[0m\n\u001b[1;32m     81\u001b[0m \u001b[38;5;28;01mdef\u001b[39;00m \u001b[38;5;21mrecurse\u001b[39m(item: Any) \u001b[38;5;241m-\u001b[39m\u001b[38;5;241m>\u001b[39m TReturn:\n\u001b[1;32m     82\u001b[0m     \u001b[38;5;28;01mreturn\u001b[39;00m recursive_map(func, item)\n\u001b[0;32m---> 84\u001b[0m items_mapped \u001b[38;5;241m=\u001b[39m \u001b[43mmap_collection\u001b[49m\u001b[43m(\u001b[49m\u001b[43mrecurse\u001b[49m\u001b[43m,\u001b[49m\u001b[43m \u001b[49m\u001b[43mdata\u001b[49m\u001b[43m)\u001b[49m\n\u001b[1;32m     85\u001b[0m \u001b[38;5;28;01mreturn\u001b[39;00m func(items_mapped)\n",
      "File \u001b[0;32m~/github/ethereum-optimism/op-analytics-alt/.venv/lib/python3.12/site-packages/web3/_utils/formatters.py:68\u001b[0m, in \u001b[0;36mmap_collection\u001b[0;34m(func, collection)\u001b[0m\n\u001b[1;32m     66\u001b[0m     \u001b[38;5;28;01mreturn\u001b[39;00m collection\n\u001b[1;32m     67\u001b[0m \u001b[38;5;28;01melif\u001b[39;00m \u001b[38;5;28misinstance\u001b[39m(collection, Iterable):\n\u001b[0;32m---> 68\u001b[0m     \u001b[38;5;28;01mreturn\u001b[39;00m \u001b[43mdatatype\u001b[49m\u001b[43m(\u001b[49m\u001b[38;5;28;43mmap\u001b[39;49m\u001b[43m(\u001b[49m\u001b[43mfunc\u001b[49m\u001b[43m,\u001b[49m\u001b[43m \u001b[49m\u001b[43mcollection\u001b[49m\u001b[43m)\u001b[49m\u001b[43m)\u001b[49m\n\u001b[1;32m     69\u001b[0m \u001b[38;5;28;01melse\u001b[39;00m:\n\u001b[1;32m     70\u001b[0m     \u001b[38;5;28;01mreturn\u001b[39;00m collection\n",
      "File \u001b[0;32m~/github/ethereum-optimism/op-analytics-alt/.venv/lib/python3.12/site-packages/web3/_utils/formatters.py:82\u001b[0m, in \u001b[0;36mrecursive_map.<locals>.recurse\u001b[0;34m(item)\u001b[0m\n\u001b[1;32m     81\u001b[0m \u001b[38;5;28;01mdef\u001b[39;00m \u001b[38;5;21mrecurse\u001b[39m(item: Any) \u001b[38;5;241m-\u001b[39m\u001b[38;5;241m>\u001b[39m TReturn:\n\u001b[0;32m---> 82\u001b[0m     \u001b[38;5;28;01mreturn\u001b[39;00m \u001b[43mrecursive_map\u001b[49m\u001b[43m(\u001b[49m\u001b[43mfunc\u001b[49m\u001b[43m,\u001b[49m\u001b[43m \u001b[49m\u001b[43mitem\u001b[49m\u001b[43m)\u001b[49m\n",
      "File \u001b[0;32m~/github/ethereum-optimism/op-analytics-alt/.venv/lib/python3.12/site-packages/web3/_utils/decorators.py:34\u001b[0m, in \u001b[0;36mreject_recursive_repeats.<locals>.wrapped\u001b[0;34m(*args)\u001b[0m\n\u001b[1;32m     32\u001b[0m to_wrap\u001b[38;5;241m.\u001b[39m__already_called[thread_local_args] \u001b[38;5;241m=\u001b[39m \u001b[38;5;28;01mTrue\u001b[39;00m  \u001b[38;5;66;03m# type: ignore\u001b[39;00m\n\u001b[1;32m     33\u001b[0m \u001b[38;5;28;01mtry\u001b[39;00m:\n\u001b[0;32m---> 34\u001b[0m     wrapped_val \u001b[38;5;241m=\u001b[39m \u001b[43mto_wrap\u001b[49m\u001b[43m(\u001b[49m\u001b[38;5;241;43m*\u001b[39;49m\u001b[43margs\u001b[49m\u001b[43m)\u001b[49m\n\u001b[1;32m     35\u001b[0m \u001b[38;5;28;01mfinally\u001b[39;00m:\n\u001b[1;32m     36\u001b[0m     \u001b[38;5;28;01mdel\u001b[39;00m to_wrap\u001b[38;5;241m.\u001b[39m__already_called[thread_local_args]  \u001b[38;5;66;03m# type: ignore\u001b[39;00m\n",
      "File \u001b[0;32m~/github/ethereum-optimism/op-analytics-alt/.venv/lib/python3.12/site-packages/web3/_utils/formatters.py:85\u001b[0m, in \u001b[0;36mrecursive_map\u001b[0;34m(func, data)\u001b[0m\n\u001b[1;32m     82\u001b[0m     \u001b[38;5;28;01mreturn\u001b[39;00m recursive_map(func, item)\n\u001b[1;32m     84\u001b[0m items_mapped \u001b[38;5;241m=\u001b[39m map_collection(recurse, data)\n\u001b[0;32m---> 85\u001b[0m \u001b[38;5;28;01mreturn\u001b[39;00m \u001b[43mfunc\u001b[49m\u001b[43m(\u001b[49m\u001b[43mitems_mapped\u001b[49m\u001b[43m)\u001b[49m\n",
      "File \u001b[0;32m~/github/ethereum-optimism/op-analytics-alt/.venv/lib/python3.12/site-packages/web3/_utils/abi.py:651\u001b[0m, in \u001b[0;36mdata_tree_map.<locals>.map_to_typed_data\u001b[0;34m(elements)\u001b[0m\n\u001b[1;32m    649\u001b[0m \u001b[38;5;28;01mdef\u001b[39;00m \u001b[38;5;21mmap_to_typed_data\u001b[39m(elements: Any) \u001b[38;5;241m-\u001b[39m\u001b[38;5;241m>\u001b[39m \u001b[38;5;124m\"\u001b[39m\u001b[38;5;124mABITypedData\u001b[39m\u001b[38;5;124m\"\u001b[39m:\n\u001b[1;32m    650\u001b[0m     \u001b[38;5;28;01mif\u001b[39;00m \u001b[38;5;28misinstance\u001b[39m(elements, ABITypedData) \u001b[38;5;129;01mand\u001b[39;00m elements\u001b[38;5;241m.\u001b[39mabi_type \u001b[38;5;129;01mis\u001b[39;00m \u001b[38;5;129;01mnot\u001b[39;00m \u001b[38;5;28;01mNone\u001b[39;00m:\n\u001b[0;32m--> 651\u001b[0m         \u001b[38;5;28;01mreturn\u001b[39;00m ABITypedData(\u001b[43mfunc\u001b[49m\u001b[43m(\u001b[49m\u001b[38;5;241;43m*\u001b[39;49m\u001b[43melements\u001b[49m\u001b[43m)\u001b[49m)\n\u001b[1;32m    652\u001b[0m     \u001b[38;5;28;01melse\u001b[39;00m:\n\u001b[1;32m    653\u001b[0m         \u001b[38;5;28;01mreturn\u001b[39;00m elements\n",
      "File \u001b[0;32m~/github/ethereum-optimism/op-analytics-alt/.venv/lib/python3.12/site-packages/web3/_utils/normalizers.py:79\u001b[0m, in \u001b[0;36mimplicitly_identity.<locals>.wrapper\u001b[0;34m(type_str, data)\u001b[0m\n\u001b[1;32m     77\u001b[0m \u001b[38;5;129m@functools\u001b[39m\u001b[38;5;241m.\u001b[39mwraps(to_wrap)\n\u001b[1;32m     78\u001b[0m \u001b[38;5;28;01mdef\u001b[39;00m \u001b[38;5;21mwrapper\u001b[39m(type_str: TypeStr, data: Any) \u001b[38;5;241m-\u001b[39m\u001b[38;5;241m>\u001b[39m Tuple[TypeStr, Any]:\n\u001b[0;32m---> 79\u001b[0m     modified \u001b[38;5;241m=\u001b[39m \u001b[43mto_wrap\u001b[49m\u001b[43m(\u001b[49m\u001b[43mtype_str\u001b[49m\u001b[43m,\u001b[49m\u001b[43m \u001b[49m\u001b[43mdata\u001b[49m\u001b[43m)\u001b[49m\n\u001b[1;32m     80\u001b[0m     \u001b[38;5;28;01mif\u001b[39;00m modified \u001b[38;5;129;01mis\u001b[39;00m \u001b[38;5;28;01mNone\u001b[39;00m:\n\u001b[1;32m     81\u001b[0m         \u001b[38;5;28;01mreturn\u001b[39;00m type_str, data\n",
      "File \u001b[0;32m~/github/ethereum-optimism/op-analytics-alt/.venv/lib/python3.12/site-packages/web3/_utils/normalizers.py:202\u001b[0m, in \u001b[0;36mabi_address_to_hex\u001b[0;34m(type_str, data)\u001b[0m\n\u001b[1;32m    197\u001b[0m \u001b[38;5;129m@implicitly_identity\u001b[39m\n\u001b[1;32m    198\u001b[0m \u001b[38;5;28;01mdef\u001b[39;00m \u001b[38;5;21mabi_address_to_hex\u001b[39m(\n\u001b[1;32m    199\u001b[0m     type_str: TypeStr, data: Any\n\u001b[1;32m    200\u001b[0m ) \u001b[38;5;241m-\u001b[39m\u001b[38;5;241m>\u001b[39m Optional[Tuple[TypeStr, ChecksumAddress]]:\n\u001b[1;32m    201\u001b[0m     \u001b[38;5;28;01mif\u001b[39;00m type_str \u001b[38;5;241m==\u001b[39m \u001b[38;5;124m\"\u001b[39m\u001b[38;5;124maddress\u001b[39m\u001b[38;5;124m\"\u001b[39m:\n\u001b[0;32m--> 202\u001b[0m         \u001b[43mvalidate_address\u001b[49m\u001b[43m(\u001b[49m\u001b[43mdata\u001b[49m\u001b[43m)\u001b[49m\n\u001b[1;32m    203\u001b[0m         \u001b[38;5;28;01mif\u001b[39;00m is_binary_address(data):\n\u001b[1;32m    204\u001b[0m             \u001b[38;5;28;01mreturn\u001b[39;00m type_str, to_checksum_address(data)\n",
      "File \u001b[0;32m~/github/ethereum-optimism/op-analytics-alt/.venv/lib/python3.12/site-packages/web3/_utils/validation.py:186\u001b[0m, in \u001b[0;36mvalidate_address\u001b[0;34m(value)\u001b[0m\n\u001b[1;32m    184\u001b[0m \u001b[38;5;28;01mif\u001b[39;00m \u001b[38;5;129;01mnot\u001b[39;00m is_checksum_address(value):\n\u001b[1;32m    185\u001b[0m     \u001b[38;5;28;01mif\u001b[39;00m value \u001b[38;5;241m==\u001b[39m value\u001b[38;5;241m.\u001b[39mlower():\n\u001b[0;32m--> 186\u001b[0m         \u001b[38;5;28;01mraise\u001b[39;00m InvalidAddress(\n\u001b[1;32m    187\u001b[0m             \u001b[38;5;124m\"\u001b[39m\u001b[38;5;124mweb3.py only accepts checksum addresses. \u001b[39m\u001b[38;5;124m\"\u001b[39m\n\u001b[1;32m    188\u001b[0m             \u001b[38;5;124m\"\u001b[39m\u001b[38;5;124mThe software that gave you this non-checksum address should be \u001b[39m\u001b[38;5;124m\"\u001b[39m\n\u001b[1;32m    189\u001b[0m             \u001b[38;5;124m\"\u001b[39m\u001b[38;5;124mconsidered unsafe, please file it as a bug on their platform. \u001b[39m\u001b[38;5;124m\"\u001b[39m\n\u001b[1;32m    190\u001b[0m             \u001b[38;5;124m\"\u001b[39m\u001b[38;5;124mTry using an ENS name instead. Or, if you must accept lower safety, \u001b[39m\u001b[38;5;124m\"\u001b[39m\n\u001b[1;32m    191\u001b[0m             \u001b[38;5;124m\"\u001b[39m\u001b[38;5;124muse Web3.to_checksum_address(lower_case_address).\u001b[39m\u001b[38;5;124m\"\u001b[39m,\n\u001b[1;32m    192\u001b[0m             value,\n\u001b[1;32m    193\u001b[0m         )\n\u001b[1;32m    194\u001b[0m     \u001b[38;5;28;01melse\u001b[39;00m:\n\u001b[1;32m    195\u001b[0m         \u001b[38;5;28;01mraise\u001b[39;00m InvalidAddress(\n\u001b[1;32m    196\u001b[0m             \u001b[38;5;124m\"\u001b[39m\u001b[38;5;124mAddress has an invalid EIP-55 checksum. \u001b[39m\u001b[38;5;124m\"\u001b[39m\n\u001b[1;32m    197\u001b[0m             \u001b[38;5;124m\"\u001b[39m\u001b[38;5;124mAfter looking up the address from the original source, try again.\u001b[39m\u001b[38;5;124m\"\u001b[39m,\n\u001b[1;32m    198\u001b[0m             value,\n\u001b[1;32m    199\u001b[0m         )\n",
      "\u001b[0;31mInvalidAddress\u001b[0m: ('web3.py only accepts checksum addresses. The software that gave you this non-checksum address should be considered unsafe, please file it as a bug on their platform. Try using an ENS name instead. Or, if you must accept lower safety, use Web3.to_checksum_address(lower_case_address).', '0xffcbf84650ce02dafe96926b37a0ac5e34932fa5')"
     ]
    }
   ],
   "source": [
    "contract = \"0xffcbF84650cE02DaFE96926B37a0ac5E34932fa5\"\n",
    "\n",
    "response = get_token_metadata(contract, RPC, METHOD_NAME)\n",
    "response"
   ]
  },
  {
   "cell_type": "code",
   "execution_count": 13,
   "metadata": {},
   "outputs": [
    {
     "name": "stdout",
     "output_type": "stream",
     "text": [
      "0xeB585163DEbB1E637c6D617de3bEF99347cd75c8\n"
     ]
    },
    {
     "ename": "InvalidAddress",
     "evalue": "('web3.py only accepts checksum addresses. The software that gave you this non-checksum address should be considered unsafe, please file it as a bug on their platform. Try using an ENS name instead. Or, if you must accept lower safety, use Web3.to_checksum_address(lower_case_address).', '0xeb585163debb1e637c6d617de3bef99347cd75c8')",
     "output_type": "error",
     "traceback": [
      "\u001b[0;31m---------------------------------------------------------------------------\u001b[0m",
      "\u001b[0;31mInvalidAddress\u001b[0m                            Traceback (most recent call last)",
      "Cell \u001b[0;32mIn[13], line 4\u001b[0m\n\u001b[1;32m      1\u001b[0m checksum_addr \u001b[38;5;241m=\u001b[39m w3\u001b[38;5;241m.\u001b[39mto_checksum_address(\u001b[38;5;124m\"\u001b[39m\u001b[38;5;124m0xeb585163debb1e637c6d617de3bef99347cd75c8\u001b[39m\u001b[38;5;124m\"\u001b[39m)\n\u001b[1;32m      2\u001b[0m \u001b[38;5;28mprint\u001b[39m(checksum_addr)\n\u001b[0;32m----> 4\u001b[0m response \u001b[38;5;241m=\u001b[39m \u001b[43mget_token_metadata\u001b[49m\u001b[43m(\u001b[49m\u001b[43mchecksum_addr\u001b[49m\u001b[43m,\u001b[49m\u001b[43m \u001b[49m\u001b[38;5;124;43m\"\u001b[39;49m\u001b[38;5;124;43mhttps://mainnet.optimism.io\u001b[39;49m\u001b[38;5;124;43m\"\u001b[39;49m\u001b[43m,\u001b[49m\u001b[43m \u001b[49m\u001b[43mMETHOD_NAME\u001b[49m\u001b[43m)\u001b[49m\n",
      "Cell \u001b[0;32mIn[4], line 29\u001b[0m, in \u001b[0;36mget_token_metadata\u001b[0;34m(token_contract_address, rpc, method_name_list)\u001b[0m\n\u001b[1;32m     26\u001b[0m response_map \u001b[38;5;241m=\u001b[39m {}\n\u001b[1;32m     28\u001b[0m \u001b[38;5;28;01mfor\u001b[39;00m method_id, method_name \u001b[38;5;129;01min\u001b[39;00m \u001b[38;5;28mzip\u001b[39m(method_ids, method_name_list):\n\u001b[0;32m---> 29\u001b[0m     response \u001b[38;5;241m=\u001b[39m \u001b[43mw3_conn\u001b[49m\u001b[38;5;241;43m.\u001b[39;49m\u001b[43meth\u001b[49m\u001b[38;5;241;43m.\u001b[39;49m\u001b[43mcall\u001b[49m\u001b[43m(\u001b[49m\u001b[43m{\u001b[49m\n\u001b[1;32m     30\u001b[0m \u001b[43m        \u001b[49m\u001b[38;5;124;43m'\u001b[39;49m\u001b[38;5;124;43mto\u001b[39;49m\u001b[38;5;124;43m'\u001b[39;49m\u001b[43m:\u001b[49m\u001b[43m \u001b[49m\u001b[43mtoken_contract_address\u001b[49m\u001b[43m,\u001b[49m\n\u001b[1;32m     31\u001b[0m \u001b[43m        \u001b[49m\u001b[38;5;124;43m'\u001b[39;49m\u001b[38;5;124;43mdata\u001b[39;49m\u001b[38;5;124;43m'\u001b[39;49m\u001b[43m:\u001b[49m\u001b[43m \u001b[49m\u001b[43mmethod_id\u001b[49m\n\u001b[1;32m     32\u001b[0m \u001b[43m    \u001b[49m\u001b[43m}\u001b[49m\u001b[43m)\u001b[49m\n\u001b[1;32m     33\u001b[0m     response_map[method_name] \u001b[38;5;241m=\u001b[39m response\n\u001b[1;32m     36\u001b[0m \u001b[38;5;66;03m# return the response for each method\u001b[39;00m\n",
      "File \u001b[0;32m~/github/ethereum-optimism/op-analytics-alt/.venv/lib/python3.12/site-packages/web3/eth/eth.py:244\u001b[0m, in \u001b[0;36mEth.call\u001b[0;34m(self, transaction, block_identifier, state_override, ccip_read_enabled)\u001b[0m\n\u001b[1;32m    234\u001b[0m ccip_read_enabled_on_provider \u001b[38;5;241m=\u001b[39m \u001b[38;5;28mself\u001b[39m\u001b[38;5;241m.\u001b[39mw3\u001b[38;5;241m.\u001b[39mprovider\u001b[38;5;241m.\u001b[39mglobal_ccip_read_enabled\n\u001b[1;32m    235\u001b[0m \u001b[38;5;28;01mif\u001b[39;00m (\n\u001b[1;32m    236\u001b[0m     \u001b[38;5;66;03m# default conditions:\u001b[39;00m\n\u001b[1;32m    237\u001b[0m     ccip_read_enabled_on_provider\n\u001b[0;32m   (...)\u001b[0m\n\u001b[1;32m    242\u001b[0m     \u001b[38;5;129;01mand\u001b[39;00m ccip_read_enabled \u001b[38;5;129;01mis\u001b[39;00m \u001b[38;5;28;01mTrue\u001b[39;00m\n\u001b[1;32m    243\u001b[0m ):\n\u001b[0;32m--> 244\u001b[0m     \u001b[38;5;28;01mreturn\u001b[39;00m \u001b[38;5;28;43mself\u001b[39;49m\u001b[38;5;241;43m.\u001b[39;49m\u001b[43m_durin_call\u001b[49m\u001b[43m(\u001b[49m\u001b[43mtransaction\u001b[49m\u001b[43m,\u001b[49m\u001b[43m \u001b[49m\u001b[43mblock_identifier\u001b[49m\u001b[43m,\u001b[49m\u001b[43m \u001b[49m\u001b[43mstate_override\u001b[49m\u001b[43m)\u001b[49m\n\u001b[1;32m    246\u001b[0m \u001b[38;5;28;01mreturn\u001b[39;00m \u001b[38;5;28mself\u001b[39m\u001b[38;5;241m.\u001b[39m_call(transaction, block_identifier, state_override)\n",
      "File \u001b[0;32m~/github/ethereum-optimism/op-analytics-alt/.venv/lib/python3.12/site-packages/web3/eth/eth.py:263\u001b[0m, in \u001b[0;36mEth._durin_call\u001b[0;34m(self, transaction, block_identifier, state_override)\u001b[0m\n\u001b[1;32m    261\u001b[0m \u001b[38;5;28;01mfor\u001b[39;00m _ \u001b[38;5;129;01min\u001b[39;00m \u001b[38;5;28mrange\u001b[39m(max_redirects):\n\u001b[1;32m    262\u001b[0m     \u001b[38;5;28;01mtry\u001b[39;00m:\n\u001b[0;32m--> 263\u001b[0m         \u001b[38;5;28;01mreturn\u001b[39;00m \u001b[38;5;28;43mself\u001b[39;49m\u001b[38;5;241;43m.\u001b[39;49m\u001b[43m_call\u001b[49m\u001b[43m(\u001b[49m\u001b[43mtransaction\u001b[49m\u001b[43m,\u001b[49m\u001b[43m \u001b[49m\u001b[43mblock_identifier\u001b[49m\u001b[43m,\u001b[49m\u001b[43m \u001b[49m\u001b[43mstate_override\u001b[49m\u001b[43m)\u001b[49m\n\u001b[1;32m    264\u001b[0m     \u001b[38;5;28;01mexcept\u001b[39;00m OffchainLookup \u001b[38;5;28;01mas\u001b[39;00m offchain_lookup:\n\u001b[1;32m    265\u001b[0m         durin_calldata \u001b[38;5;241m=\u001b[39m handle_offchain_lookup(\n\u001b[1;32m    266\u001b[0m             offchain_lookup\u001b[38;5;241m.\u001b[39mpayload,\n\u001b[1;32m    267\u001b[0m             transaction,\n\u001b[1;32m    268\u001b[0m         )\n",
      "File \u001b[0;32m~/github/ethereum-optimism/op-analytics-alt/.venv/lib/python3.12/site-packages/web3/module.py:101\u001b[0m, in \u001b[0;36mretrieve_blocking_method_call_fn.<locals>.caller\u001b[0;34m(*args, **kwargs)\u001b[0m\n\u001b[1;32m     99\u001b[0m \u001b[38;5;28;01mdef\u001b[39;00m \u001b[38;5;21mcaller\u001b[39m(\u001b[38;5;241m*\u001b[39margs: Any, \u001b[38;5;241m*\u001b[39m\u001b[38;5;241m*\u001b[39mkwargs: Any) \u001b[38;5;241m-\u001b[39m\u001b[38;5;241m>\u001b[39m Union[TReturn, LogFilter]:\n\u001b[1;32m    100\u001b[0m     \u001b[38;5;28;01mtry\u001b[39;00m:\n\u001b[0;32m--> 101\u001b[0m         (method_str, params), response_formatters \u001b[38;5;241m=\u001b[39m \u001b[43mmethod\u001b[49m\u001b[38;5;241;43m.\u001b[39;49m\u001b[43mprocess_params\u001b[49m\u001b[43m(\u001b[49m\n\u001b[1;32m    102\u001b[0m \u001b[43m            \u001b[49m\u001b[43mmodule\u001b[49m\u001b[43m,\u001b[49m\u001b[43m \u001b[49m\u001b[38;5;241;43m*\u001b[39;49m\u001b[43margs\u001b[49m\u001b[43m,\u001b[49m\u001b[43m \u001b[49m\u001b[38;5;241;43m*\u001b[39;49m\u001b[38;5;241;43m*\u001b[39;49m\u001b[43mkwargs\u001b[49m\n\u001b[1;32m    103\u001b[0m \u001b[43m        \u001b[49m\u001b[43m)\u001b[49m\n\u001b[1;32m    104\u001b[0m     \u001b[38;5;28;01mexcept\u001b[39;00m _UseExistingFilter \u001b[38;5;28;01mas\u001b[39;00m err:\n\u001b[1;32m    105\u001b[0m         \u001b[38;5;28;01mreturn\u001b[39;00m LogFilter(eth_module\u001b[38;5;241m=\u001b[39mmodule, filter_id\u001b[38;5;241m=\u001b[39merr\u001b[38;5;241m.\u001b[39mfilter_id)\n",
      "File \u001b[0;32m~/github/ethereum-optimism/op-analytics-alt/.venv/lib/python3.12/site-packages/web3/method.py:237\u001b[0m, in \u001b[0;36mMethod.process_params\u001b[0;34m(self, module, *args, **kwargs)\u001b[0m\n\u001b[1;32m    229\u001b[0m method \u001b[38;5;241m=\u001b[39m \u001b[38;5;28mself\u001b[39m\u001b[38;5;241m.\u001b[39mmethod_selector_fn()\n\u001b[1;32m    230\u001b[0m response_formatters \u001b[38;5;241m=\u001b[39m (\n\u001b[1;32m    231\u001b[0m     \u001b[38;5;28mself\u001b[39m\u001b[38;5;241m.\u001b[39mresult_formatters(method, module),\n\u001b[1;32m    232\u001b[0m     get_error_formatters(method),\n\u001b[1;32m    233\u001b[0m     \u001b[38;5;28mself\u001b[39m\u001b[38;5;241m.\u001b[39mnull_result_formatters(method),\n\u001b[1;32m    234\u001b[0m )\n\u001b[1;32m    235\u001b[0m request \u001b[38;5;241m=\u001b[39m (\n\u001b[1;32m    236\u001b[0m     method,\n\u001b[0;32m--> 237\u001b[0m     \u001b[43m_apply_request_formatters\u001b[49m\u001b[43m(\u001b[49m\u001b[43mparams\u001b[49m\u001b[43m,\u001b[49m\u001b[43m \u001b[49m\u001b[38;5;28;43mself\u001b[39;49m\u001b[38;5;241;43m.\u001b[39;49m\u001b[43mrequest_formatters\u001b[49m\u001b[43m(\u001b[49m\u001b[43mmethod\u001b[49m\u001b[43m)\u001b[49m\u001b[43m)\u001b[49m,\n\u001b[1;32m    238\u001b[0m )\n\u001b[1;32m    239\u001b[0m \u001b[38;5;28;01mreturn\u001b[39;00m request, response_formatters\n",
      "File \u001b[0;32m~/github/ethereum-optimism/op-analytics-alt/.venv/lib/python3.12/site-packages/eth_utils/functional.py:47\u001b[0m, in \u001b[0;36mapply_to_return_value.<locals>.outer.<locals>.inner\u001b[0;34m(*args, **kwargs)\u001b[0m\n\u001b[1;32m     45\u001b[0m \u001b[38;5;129m@functools\u001b[39m\u001b[38;5;241m.\u001b[39mwraps(fn)\n\u001b[1;32m     46\u001b[0m \u001b[38;5;28;01mdef\u001b[39;00m \u001b[38;5;21minner\u001b[39m(\u001b[38;5;241m*\u001b[39margs, \u001b[38;5;241m*\u001b[39m\u001b[38;5;241m*\u001b[39mkwargs) \u001b[38;5;241m-\u001b[39m\u001b[38;5;241m>\u001b[39m T:  \u001b[38;5;66;03m# type: ignore\u001b[39;00m\n\u001b[0;32m---> 47\u001b[0m     \u001b[38;5;28;01mreturn\u001b[39;00m callback(\u001b[43mfn\u001b[49m\u001b[43m(\u001b[49m\u001b[38;5;241;43m*\u001b[39;49m\u001b[43margs\u001b[49m\u001b[43m,\u001b[49m\u001b[43m \u001b[49m\u001b[38;5;241;43m*\u001b[39;49m\u001b[38;5;241;43m*\u001b[39;49m\u001b[43mkwargs\u001b[49m\u001b[43m)\u001b[49m)\n",
      "File \u001b[0;32m~/github/ethereum-optimism/op-analytics-alt/.venv/lib/python3.12/site-packages/web3/method.py:64\u001b[0m, in \u001b[0;36m_apply_request_formatters\u001b[0;34m(params, request_formatters)\u001b[0m\n\u001b[1;32m     59\u001b[0m \u001b[38;5;129m@to_tuple\u001b[39m\n\u001b[1;32m     60\u001b[0m \u001b[38;5;28;01mdef\u001b[39;00m \u001b[38;5;21m_apply_request_formatters\u001b[39m(\n\u001b[1;32m     61\u001b[0m     params: Any, request_formatters: Dict[RPCEndpoint, Callable[\u001b[38;5;241m.\u001b[39m\u001b[38;5;241m.\u001b[39m\u001b[38;5;241m.\u001b[39m, TReturn]]\n\u001b[1;32m     62\u001b[0m ) \u001b[38;5;241m-\u001b[39m\u001b[38;5;241m>\u001b[39m Tuple[Any, \u001b[38;5;241m.\u001b[39m\u001b[38;5;241m.\u001b[39m\u001b[38;5;241m.\u001b[39m]:\n\u001b[1;32m     63\u001b[0m     \u001b[38;5;28;01mif\u001b[39;00m request_formatters:\n\u001b[0;32m---> 64\u001b[0m         formatted_params \u001b[38;5;241m=\u001b[39m \u001b[43mpipe\u001b[49m\u001b[43m(\u001b[49m\u001b[43mparams\u001b[49m\u001b[43m,\u001b[49m\u001b[43m \u001b[49m\u001b[43mrequest_formatters\u001b[49m\u001b[43m)\u001b[49m\n\u001b[1;32m     65\u001b[0m         \u001b[38;5;28;01mreturn\u001b[39;00m formatted_params\n\u001b[1;32m     66\u001b[0m     \u001b[38;5;28;01mreturn\u001b[39;00m params\n",
      "File \u001b[0;32m~/github/ethereum-optimism/op-analytics-alt/.venv/lib/python3.12/site-packages/cytoolz/functoolz.pyx:685\u001b[0m, in \u001b[0;36mcytoolz.functoolz.pipe\u001b[0;34m()\u001b[0m\n",
      "File \u001b[0;32m~/github/ethereum-optimism/op-analytics-alt/.venv/lib/python3.12/site-packages/cytoolz/functoolz.pyx:660\u001b[0m, in \u001b[0;36mcytoolz.functoolz.c_pipe\u001b[0;34m()\u001b[0m\n",
      "File \u001b[0;32m~/github/ethereum-optimism/op-analytics-alt/.venv/lib/python3.12/site-packages/cytoolz/functoolz.pyx:523\u001b[0m, in \u001b[0;36mcytoolz.functoolz.Compose.__call__\u001b[0;34m()\u001b[0m\n",
      "File \u001b[0;32m~/github/ethereum-optimism/op-analytics-alt/.venv/lib/python3.12/site-packages/cytoolz/functoolz.pyx:268\u001b[0m, in \u001b[0;36mcytoolz.functoolz.curry.__call__\u001b[0;34m()\u001b[0m\n",
      "File \u001b[0;32m~/github/ethereum-optimism/op-analytics-alt/.venv/lib/python3.12/site-packages/eth_utils/decorators.py:102\u001b[0m, in \u001b[0;36mreturn_arg_type.<locals>.decorator.<locals>.wrapper\u001b[0;34m(*args, **kwargs)\u001b[0m\n\u001b[1;32m    100\u001b[0m result \u001b[38;5;241m=\u001b[39m to_wrap(\u001b[38;5;241m*\u001b[39margs, \u001b[38;5;241m*\u001b[39m\u001b[38;5;241m*\u001b[39mkwargs)\n\u001b[1;32m    101\u001b[0m ReturnType \u001b[38;5;241m=\u001b[39m \u001b[38;5;28mtype\u001b[39m(args[at_position])\n\u001b[0;32m--> 102\u001b[0m \u001b[38;5;28;01mreturn\u001b[39;00m \u001b[43mReturnType\u001b[49m\u001b[43m(\u001b[49m\u001b[43mresult\u001b[49m\u001b[43m)\u001b[49m\n",
      "File \u001b[0;32m~/github/ethereum-optimism/op-analytics-alt/.venv/lib/python3.12/site-packages/eth_utils/applicators.py:36\u001b[0m, in \u001b[0;36mapply_formatter_at_index\u001b[0;34m(formatter, at_index, value)\u001b[0m\n\u001b[1;32m     34\u001b[0m \u001b[38;5;28;01mfor\u001b[39;00m index, item \u001b[38;5;129;01min\u001b[39;00m \u001b[38;5;28menumerate\u001b[39m(value):\n\u001b[1;32m     35\u001b[0m     \u001b[38;5;28;01mif\u001b[39;00m index \u001b[38;5;241m==\u001b[39m at_index:\n\u001b[0;32m---> 36\u001b[0m         \u001b[38;5;28;01myield\u001b[39;00m \u001b[43mformatter\u001b[49m\u001b[43m(\u001b[49m\u001b[43mitem\u001b[49m\u001b[43m)\u001b[49m\n\u001b[1;32m     37\u001b[0m     \u001b[38;5;28;01melse\u001b[39;00m:\n\u001b[1;32m     38\u001b[0m         \u001b[38;5;28;01myield\u001b[39;00m item\n",
      "File \u001b[0;32m~/github/ethereum-optimism/op-analytics-alt/.venv/lib/python3.12/site-packages/cytoolz/functoolz.pyx:268\u001b[0m, in \u001b[0;36mcytoolz.functoolz.curry.__call__\u001b[0;34m()\u001b[0m\n",
      "File \u001b[0;32m~/github/ethereum-optimism/op-analytics-alt/.venv/lib/python3.12/site-packages/web3/_utils/rpc_abi.py:215\u001b[0m, in \u001b[0;36mapply_abi_formatters_to_dict\u001b[0;34m(normalizers, abi_dict, data)\u001b[0m\n\u001b[1;32m    208\u001b[0m \u001b[38;5;129m@curry\u001b[39m\n\u001b[1;32m    209\u001b[0m \u001b[38;5;28;01mdef\u001b[39;00m \u001b[38;5;21mapply_abi_formatters_to_dict\u001b[39m(\n\u001b[1;32m    210\u001b[0m     normalizers: Sequence[Callable[[TypeStr, Any], Tuple[TypeStr, Any]]],\n\u001b[1;32m    211\u001b[0m     abi_dict: Dict[\u001b[38;5;28mstr\u001b[39m, Any],\n\u001b[1;32m    212\u001b[0m     data: Dict[Any, Any],\n\u001b[1;32m    213\u001b[0m ) \u001b[38;5;241m-\u001b[39m\u001b[38;5;241m>\u001b[39m Dict[Any, Any]:\n\u001b[1;32m    214\u001b[0m     fields \u001b[38;5;241m=\u001b[39m \u001b[38;5;28mlist\u001b[39m(abi_dict\u001b[38;5;241m.\u001b[39mkeys() \u001b[38;5;241m&\u001b[39m data\u001b[38;5;241m.\u001b[39mkeys())\n\u001b[0;32m--> 215\u001b[0m     formatted_values \u001b[38;5;241m=\u001b[39m \u001b[43mmap_abi_data\u001b[49m\u001b[43m(\u001b[49m\n\u001b[1;32m    216\u001b[0m \u001b[43m        \u001b[49m\u001b[43mnormalizers\u001b[49m\u001b[43m,\u001b[49m\n\u001b[1;32m    217\u001b[0m \u001b[43m        \u001b[49m\u001b[43m[\u001b[49m\u001b[43mabi_dict\u001b[49m\u001b[43m[\u001b[49m\u001b[43mfield\u001b[49m\u001b[43m]\u001b[49m\u001b[43m \u001b[49m\u001b[38;5;28;43;01mfor\u001b[39;49;00m\u001b[43m \u001b[49m\u001b[43mfield\u001b[49m\u001b[43m \u001b[49m\u001b[38;5;129;43;01min\u001b[39;49;00m\u001b[43m \u001b[49m\u001b[43mfields\u001b[49m\u001b[43m]\u001b[49m\u001b[43m,\u001b[49m\n\u001b[1;32m    218\u001b[0m \u001b[43m        \u001b[49m\u001b[43m[\u001b[49m\u001b[43mdata\u001b[49m\u001b[43m[\u001b[49m\u001b[43mfield\u001b[49m\u001b[43m]\u001b[49m\u001b[43m \u001b[49m\u001b[38;5;28;43;01mfor\u001b[39;49;00m\u001b[43m \u001b[49m\u001b[43mfield\u001b[49m\u001b[43m \u001b[49m\u001b[38;5;129;43;01min\u001b[39;49;00m\u001b[43m \u001b[49m\u001b[43mfields\u001b[49m\u001b[43m]\u001b[49m\u001b[43m,\u001b[49m\n\u001b[1;32m    219\u001b[0m \u001b[43m    \u001b[49m\u001b[43m)\u001b[49m\n\u001b[1;32m    220\u001b[0m     formatted_dict \u001b[38;5;241m=\u001b[39m \u001b[38;5;28mdict\u001b[39m(\u001b[38;5;28mzip\u001b[39m(fields, formatted_values))\n\u001b[1;32m    221\u001b[0m     \u001b[38;5;28;01mreturn\u001b[39;00m \u001b[38;5;28mdict\u001b[39m(data, \u001b[38;5;241m*\u001b[39m\u001b[38;5;241m*\u001b[39mformatted_dict)\n",
      "File \u001b[0;32m~/github/ethereum-optimism/op-analytics-alt/.venv/lib/python3.12/site-packages/cytoolz/functoolz.pyx:268\u001b[0m, in \u001b[0;36mcytoolz.functoolz.curry.__call__\u001b[0;34m()\u001b[0m\n",
      "File \u001b[0;32m~/github/ethereum-optimism/op-analytics-alt/.venv/lib/python3.12/site-packages/web3/_utils/abi.py:620\u001b[0m, in \u001b[0;36mmap_abi_data\u001b[0;34m(normalizers, types, data)\u001b[0m\n\u001b[1;32m    592\u001b[0m \u001b[38;5;250m\u001b[39m\u001b[38;5;124;03m\"\"\"\u001b[39;00m\n\u001b[1;32m    593\u001b[0m \u001b[38;5;124;03mApplies normalizers to your data, in the context of the relevant types.\u001b[39;00m\n\u001b[1;32m    594\u001b[0m \u001b[38;5;124;03mEach normalizer is in the format:\u001b[39;00m\n\u001b[0;32m   (...)\u001b[0m\n\u001b[1;32m    612\u001b[0m \u001b[38;5;124;03m3. Stripping the types back out of the tree\u001b[39;00m\n\u001b[1;32m    613\u001b[0m \u001b[38;5;124;03m\"\"\"\u001b[39;00m\n\u001b[1;32m    614\u001b[0m pipeline \u001b[38;5;241m=\u001b[39m itertools\u001b[38;5;241m.\u001b[39mchain(\n\u001b[1;32m    615\u001b[0m     [abi_data_tree(types)],\n\u001b[1;32m    616\u001b[0m     \u001b[38;5;28mmap\u001b[39m(data_tree_map, normalizers),\n\u001b[1;32m    617\u001b[0m     [partial(recursive_map, strip_abi_type)],\n\u001b[1;32m    618\u001b[0m )\n\u001b[0;32m--> 620\u001b[0m \u001b[38;5;28;01mreturn\u001b[39;00m \u001b[43mpipe\u001b[49m\u001b[43m(\u001b[49m\u001b[43mdata\u001b[49m\u001b[43m,\u001b[49m\u001b[43m \u001b[49m\u001b[38;5;241;43m*\u001b[39;49m\u001b[43mpipeline\u001b[49m\u001b[43m)\u001b[49m\n",
      "File \u001b[0;32m~/github/ethereum-optimism/op-analytics-alt/.venv/lib/python3.12/site-packages/cytoolz/functoolz.pyx:685\u001b[0m, in \u001b[0;36mcytoolz.functoolz.pipe\u001b[0;34m()\u001b[0m\n",
      "File \u001b[0;32m~/github/ethereum-optimism/op-analytics-alt/.venv/lib/python3.12/site-packages/cytoolz/functoolz.pyx:660\u001b[0m, in \u001b[0;36mcytoolz.functoolz.c_pipe\u001b[0;34m()\u001b[0m\n",
      "File \u001b[0;32m~/github/ethereum-optimism/op-analytics-alt/.venv/lib/python3.12/site-packages/cytoolz/functoolz.pyx:268\u001b[0m, in \u001b[0;36mcytoolz.functoolz.curry.__call__\u001b[0;34m()\u001b[0m\n",
      "File \u001b[0;32m~/github/ethereum-optimism/op-analytics-alt/.venv/lib/python3.12/site-packages/web3/_utils/abi.py:655\u001b[0m, in \u001b[0;36mdata_tree_map\u001b[0;34m(func, data_tree)\u001b[0m\n\u001b[1;32m    652\u001b[0m     \u001b[38;5;28;01melse\u001b[39;00m:\n\u001b[1;32m    653\u001b[0m         \u001b[38;5;28;01mreturn\u001b[39;00m elements\n\u001b[0;32m--> 655\u001b[0m \u001b[38;5;28;01mreturn\u001b[39;00m \u001b[43mrecursive_map\u001b[49m\u001b[43m(\u001b[49m\u001b[43mmap_to_typed_data\u001b[49m\u001b[43m,\u001b[49m\u001b[43m \u001b[49m\u001b[43mdata_tree\u001b[49m\u001b[43m)\u001b[49m\n",
      "File \u001b[0;32m~/github/ethereum-optimism/op-analytics-alt/.venv/lib/python3.12/site-packages/web3/_utils/decorators.py:34\u001b[0m, in \u001b[0;36mreject_recursive_repeats.<locals>.wrapped\u001b[0;34m(*args)\u001b[0m\n\u001b[1;32m     32\u001b[0m to_wrap\u001b[38;5;241m.\u001b[39m__already_called[thread_local_args] \u001b[38;5;241m=\u001b[39m \u001b[38;5;28;01mTrue\u001b[39;00m  \u001b[38;5;66;03m# type: ignore\u001b[39;00m\n\u001b[1;32m     33\u001b[0m \u001b[38;5;28;01mtry\u001b[39;00m:\n\u001b[0;32m---> 34\u001b[0m     wrapped_val \u001b[38;5;241m=\u001b[39m \u001b[43mto_wrap\u001b[49m\u001b[43m(\u001b[49m\u001b[38;5;241;43m*\u001b[39;49m\u001b[43margs\u001b[49m\u001b[43m)\u001b[49m\n\u001b[1;32m     35\u001b[0m \u001b[38;5;28;01mfinally\u001b[39;00m:\n\u001b[1;32m     36\u001b[0m     \u001b[38;5;28;01mdel\u001b[39;00m to_wrap\u001b[38;5;241m.\u001b[39m__already_called[thread_local_args]  \u001b[38;5;66;03m# type: ignore\u001b[39;00m\n",
      "File \u001b[0;32m~/github/ethereum-optimism/op-analytics-alt/.venv/lib/python3.12/site-packages/web3/_utils/formatters.py:84\u001b[0m, in \u001b[0;36mrecursive_map\u001b[0;34m(func, data)\u001b[0m\n\u001b[1;32m     81\u001b[0m \u001b[38;5;28;01mdef\u001b[39;00m \u001b[38;5;21mrecurse\u001b[39m(item: Any) \u001b[38;5;241m-\u001b[39m\u001b[38;5;241m>\u001b[39m TReturn:\n\u001b[1;32m     82\u001b[0m     \u001b[38;5;28;01mreturn\u001b[39;00m recursive_map(func, item)\n\u001b[0;32m---> 84\u001b[0m items_mapped \u001b[38;5;241m=\u001b[39m \u001b[43mmap_collection\u001b[49m\u001b[43m(\u001b[49m\u001b[43mrecurse\u001b[49m\u001b[43m,\u001b[49m\u001b[43m \u001b[49m\u001b[43mdata\u001b[49m\u001b[43m)\u001b[49m\n\u001b[1;32m     85\u001b[0m \u001b[38;5;28;01mreturn\u001b[39;00m func(items_mapped)\n",
      "File \u001b[0;32m~/github/ethereum-optimism/op-analytics-alt/.venv/lib/python3.12/site-packages/web3/_utils/formatters.py:68\u001b[0m, in \u001b[0;36mmap_collection\u001b[0;34m(func, collection)\u001b[0m\n\u001b[1;32m     66\u001b[0m     \u001b[38;5;28;01mreturn\u001b[39;00m collection\n\u001b[1;32m     67\u001b[0m \u001b[38;5;28;01melif\u001b[39;00m \u001b[38;5;28misinstance\u001b[39m(collection, Iterable):\n\u001b[0;32m---> 68\u001b[0m     \u001b[38;5;28;01mreturn\u001b[39;00m \u001b[43mdatatype\u001b[49m\u001b[43m(\u001b[49m\u001b[38;5;28;43mmap\u001b[39;49m\u001b[43m(\u001b[49m\u001b[43mfunc\u001b[49m\u001b[43m,\u001b[49m\u001b[43m \u001b[49m\u001b[43mcollection\u001b[49m\u001b[43m)\u001b[49m\u001b[43m)\u001b[49m\n\u001b[1;32m     69\u001b[0m \u001b[38;5;28;01melse\u001b[39;00m:\n\u001b[1;32m     70\u001b[0m     \u001b[38;5;28;01mreturn\u001b[39;00m collection\n",
      "File \u001b[0;32m~/github/ethereum-optimism/op-analytics-alt/.venv/lib/python3.12/site-packages/web3/_utils/formatters.py:82\u001b[0m, in \u001b[0;36mrecursive_map.<locals>.recurse\u001b[0;34m(item)\u001b[0m\n\u001b[1;32m     81\u001b[0m \u001b[38;5;28;01mdef\u001b[39;00m \u001b[38;5;21mrecurse\u001b[39m(item: Any) \u001b[38;5;241m-\u001b[39m\u001b[38;5;241m>\u001b[39m TReturn:\n\u001b[0;32m---> 82\u001b[0m     \u001b[38;5;28;01mreturn\u001b[39;00m \u001b[43mrecursive_map\u001b[49m\u001b[43m(\u001b[49m\u001b[43mfunc\u001b[49m\u001b[43m,\u001b[49m\u001b[43m \u001b[49m\u001b[43mitem\u001b[49m\u001b[43m)\u001b[49m\n",
      "File \u001b[0;32m~/github/ethereum-optimism/op-analytics-alt/.venv/lib/python3.12/site-packages/web3/_utils/decorators.py:34\u001b[0m, in \u001b[0;36mreject_recursive_repeats.<locals>.wrapped\u001b[0;34m(*args)\u001b[0m\n\u001b[1;32m     32\u001b[0m to_wrap\u001b[38;5;241m.\u001b[39m__already_called[thread_local_args] \u001b[38;5;241m=\u001b[39m \u001b[38;5;28;01mTrue\u001b[39;00m  \u001b[38;5;66;03m# type: ignore\u001b[39;00m\n\u001b[1;32m     33\u001b[0m \u001b[38;5;28;01mtry\u001b[39;00m:\n\u001b[0;32m---> 34\u001b[0m     wrapped_val \u001b[38;5;241m=\u001b[39m \u001b[43mto_wrap\u001b[49m\u001b[43m(\u001b[49m\u001b[38;5;241;43m*\u001b[39;49m\u001b[43margs\u001b[49m\u001b[43m)\u001b[49m\n\u001b[1;32m     35\u001b[0m \u001b[38;5;28;01mfinally\u001b[39;00m:\n\u001b[1;32m     36\u001b[0m     \u001b[38;5;28;01mdel\u001b[39;00m to_wrap\u001b[38;5;241m.\u001b[39m__already_called[thread_local_args]  \u001b[38;5;66;03m# type: ignore\u001b[39;00m\n",
      "File \u001b[0;32m~/github/ethereum-optimism/op-analytics-alt/.venv/lib/python3.12/site-packages/web3/_utils/formatters.py:85\u001b[0m, in \u001b[0;36mrecursive_map\u001b[0;34m(func, data)\u001b[0m\n\u001b[1;32m     82\u001b[0m     \u001b[38;5;28;01mreturn\u001b[39;00m recursive_map(func, item)\n\u001b[1;32m     84\u001b[0m items_mapped \u001b[38;5;241m=\u001b[39m map_collection(recurse, data)\n\u001b[0;32m---> 85\u001b[0m \u001b[38;5;28;01mreturn\u001b[39;00m \u001b[43mfunc\u001b[49m\u001b[43m(\u001b[49m\u001b[43mitems_mapped\u001b[49m\u001b[43m)\u001b[49m\n",
      "File \u001b[0;32m~/github/ethereum-optimism/op-analytics-alt/.venv/lib/python3.12/site-packages/web3/_utils/abi.py:651\u001b[0m, in \u001b[0;36mdata_tree_map.<locals>.map_to_typed_data\u001b[0;34m(elements)\u001b[0m\n\u001b[1;32m    649\u001b[0m \u001b[38;5;28;01mdef\u001b[39;00m \u001b[38;5;21mmap_to_typed_data\u001b[39m(elements: Any) \u001b[38;5;241m-\u001b[39m\u001b[38;5;241m>\u001b[39m \u001b[38;5;124m\"\u001b[39m\u001b[38;5;124mABITypedData\u001b[39m\u001b[38;5;124m\"\u001b[39m:\n\u001b[1;32m    650\u001b[0m     \u001b[38;5;28;01mif\u001b[39;00m \u001b[38;5;28misinstance\u001b[39m(elements, ABITypedData) \u001b[38;5;129;01mand\u001b[39;00m elements\u001b[38;5;241m.\u001b[39mabi_type \u001b[38;5;129;01mis\u001b[39;00m \u001b[38;5;129;01mnot\u001b[39;00m \u001b[38;5;28;01mNone\u001b[39;00m:\n\u001b[0;32m--> 651\u001b[0m         \u001b[38;5;28;01mreturn\u001b[39;00m ABITypedData(\u001b[43mfunc\u001b[49m\u001b[43m(\u001b[49m\u001b[38;5;241;43m*\u001b[39;49m\u001b[43melements\u001b[49m\u001b[43m)\u001b[49m)\n\u001b[1;32m    652\u001b[0m     \u001b[38;5;28;01melse\u001b[39;00m:\n\u001b[1;32m    653\u001b[0m         \u001b[38;5;28;01mreturn\u001b[39;00m elements\n",
      "File \u001b[0;32m~/github/ethereum-optimism/op-analytics-alt/.venv/lib/python3.12/site-packages/web3/_utils/normalizers.py:79\u001b[0m, in \u001b[0;36mimplicitly_identity.<locals>.wrapper\u001b[0;34m(type_str, data)\u001b[0m\n\u001b[1;32m     77\u001b[0m \u001b[38;5;129m@functools\u001b[39m\u001b[38;5;241m.\u001b[39mwraps(to_wrap)\n\u001b[1;32m     78\u001b[0m \u001b[38;5;28;01mdef\u001b[39;00m \u001b[38;5;21mwrapper\u001b[39m(type_str: TypeStr, data: Any) \u001b[38;5;241m-\u001b[39m\u001b[38;5;241m>\u001b[39m Tuple[TypeStr, Any]:\n\u001b[0;32m---> 79\u001b[0m     modified \u001b[38;5;241m=\u001b[39m \u001b[43mto_wrap\u001b[49m\u001b[43m(\u001b[49m\u001b[43mtype_str\u001b[49m\u001b[43m,\u001b[49m\u001b[43m \u001b[49m\u001b[43mdata\u001b[49m\u001b[43m)\u001b[49m\n\u001b[1;32m     80\u001b[0m     \u001b[38;5;28;01mif\u001b[39;00m modified \u001b[38;5;129;01mis\u001b[39;00m \u001b[38;5;28;01mNone\u001b[39;00m:\n\u001b[1;32m     81\u001b[0m         \u001b[38;5;28;01mreturn\u001b[39;00m type_str, data\n",
      "File \u001b[0;32m~/github/ethereum-optimism/op-analytics-alt/.venv/lib/python3.12/site-packages/web3/_utils/normalizers.py:202\u001b[0m, in \u001b[0;36mabi_address_to_hex\u001b[0;34m(type_str, data)\u001b[0m\n\u001b[1;32m    197\u001b[0m \u001b[38;5;129m@implicitly_identity\u001b[39m\n\u001b[1;32m    198\u001b[0m \u001b[38;5;28;01mdef\u001b[39;00m \u001b[38;5;21mabi_address_to_hex\u001b[39m(\n\u001b[1;32m    199\u001b[0m     type_str: TypeStr, data: Any\n\u001b[1;32m    200\u001b[0m ) \u001b[38;5;241m-\u001b[39m\u001b[38;5;241m>\u001b[39m Optional[Tuple[TypeStr, ChecksumAddress]]:\n\u001b[1;32m    201\u001b[0m     \u001b[38;5;28;01mif\u001b[39;00m type_str \u001b[38;5;241m==\u001b[39m \u001b[38;5;124m\"\u001b[39m\u001b[38;5;124maddress\u001b[39m\u001b[38;5;124m\"\u001b[39m:\n\u001b[0;32m--> 202\u001b[0m         \u001b[43mvalidate_address\u001b[49m\u001b[43m(\u001b[49m\u001b[43mdata\u001b[49m\u001b[43m)\u001b[49m\n\u001b[1;32m    203\u001b[0m         \u001b[38;5;28;01mif\u001b[39;00m is_binary_address(data):\n\u001b[1;32m    204\u001b[0m             \u001b[38;5;28;01mreturn\u001b[39;00m type_str, to_checksum_address(data)\n",
      "File \u001b[0;32m~/github/ethereum-optimism/op-analytics-alt/.venv/lib/python3.12/site-packages/web3/_utils/validation.py:186\u001b[0m, in \u001b[0;36mvalidate_address\u001b[0;34m(value)\u001b[0m\n\u001b[1;32m    184\u001b[0m \u001b[38;5;28;01mif\u001b[39;00m \u001b[38;5;129;01mnot\u001b[39;00m is_checksum_address(value):\n\u001b[1;32m    185\u001b[0m     \u001b[38;5;28;01mif\u001b[39;00m value \u001b[38;5;241m==\u001b[39m value\u001b[38;5;241m.\u001b[39mlower():\n\u001b[0;32m--> 186\u001b[0m         \u001b[38;5;28;01mraise\u001b[39;00m InvalidAddress(\n\u001b[1;32m    187\u001b[0m             \u001b[38;5;124m\"\u001b[39m\u001b[38;5;124mweb3.py only accepts checksum addresses. \u001b[39m\u001b[38;5;124m\"\u001b[39m\n\u001b[1;32m    188\u001b[0m             \u001b[38;5;124m\"\u001b[39m\u001b[38;5;124mThe software that gave you this non-checksum address should be \u001b[39m\u001b[38;5;124m\"\u001b[39m\n\u001b[1;32m    189\u001b[0m             \u001b[38;5;124m\"\u001b[39m\u001b[38;5;124mconsidered unsafe, please file it as a bug on their platform. \u001b[39m\u001b[38;5;124m\"\u001b[39m\n\u001b[1;32m    190\u001b[0m             \u001b[38;5;124m\"\u001b[39m\u001b[38;5;124mTry using an ENS name instead. Or, if you must accept lower safety, \u001b[39m\u001b[38;5;124m\"\u001b[39m\n\u001b[1;32m    191\u001b[0m             \u001b[38;5;124m\"\u001b[39m\u001b[38;5;124muse Web3.to_checksum_address(lower_case_address).\u001b[39m\u001b[38;5;124m\"\u001b[39m,\n\u001b[1;32m    192\u001b[0m             value,\n\u001b[1;32m    193\u001b[0m         )\n\u001b[1;32m    194\u001b[0m     \u001b[38;5;28;01melse\u001b[39;00m:\n\u001b[1;32m    195\u001b[0m         \u001b[38;5;28;01mraise\u001b[39;00m InvalidAddress(\n\u001b[1;32m    196\u001b[0m             \u001b[38;5;124m\"\u001b[39m\u001b[38;5;124mAddress has an invalid EIP-55 checksum. \u001b[39m\u001b[38;5;124m\"\u001b[39m\n\u001b[1;32m    197\u001b[0m             \u001b[38;5;124m\"\u001b[39m\u001b[38;5;124mAfter looking up the address from the original source, try again.\u001b[39m\u001b[38;5;124m\"\u001b[39m,\n\u001b[1;32m    198\u001b[0m             value,\n\u001b[1;32m    199\u001b[0m         )\n",
      "\u001b[0;31mInvalidAddress\u001b[0m: ('web3.py only accepts checksum addresses. The software that gave you this non-checksum address should be considered unsafe, please file it as a bug on their platform. Try using an ENS name instead. Or, if you must accept lower safety, use Web3.to_checksum_address(lower_case_address).', '0xeb585163debb1e637c6d617de3bef99347cd75c8')"
     ]
    }
   ],
   "source": [
    "checksum_addr = w3.to_checksum_address(\"0xeb585163debb1e637c6d617de3bef99347cd75c8\")\n",
    "print(checksum_addr)\n",
    "\n",
    "response = get_token_metadata(checksum_addr, \"https://mainnet.optimism.io\", METHOD_NAME)"
   ]
  },
  {
   "cell_type": "code",
   "execution_count": 8,
   "metadata": {},
   "outputs": [
    {
     "ename": "InvalidAddress",
     "evalue": "('web3.py only accepts checksum addresses. The software that gave you this non-checksum address should be considered unsafe, please file it as a bug on their platform. Try using an ENS name instead. Or, if you must accept lower safety, use Web3.to_checksum_address(lower_case_address).', '0x2cfc85d8e48f8eab294be644d9e25c3030863003')",
     "output_type": "error",
     "traceback": [
      "\u001b[0;31m---------------------------------------------------------------------------\u001b[0m",
      "\u001b[0;31mInvalidAddress\u001b[0m                            Traceback (most recent call last)",
      "Cell \u001b[0;32mIn[8], line 1\u001b[0m\n\u001b[0;32m----> 1\u001b[0m response \u001b[38;5;241m=\u001b[39m \u001b[43mget_token_metadata\u001b[49m\u001b[43m(\u001b[49m\u001b[38;5;124;43m\"\u001b[39;49m\u001b[38;5;124;43m0x2cfc85d8e48f8eab294be644d9e25c3030863003\u001b[39;49m\u001b[38;5;124;43m\"\u001b[39;49m\u001b[43m,\u001b[49m\u001b[43m \u001b[49m\u001b[38;5;124;43m\"\u001b[39;49m\u001b[38;5;124;43mhttps://worldchain-mainnet.g.alchemy.com/public\u001b[39;49m\u001b[38;5;124;43m\"\u001b[39;49m\u001b[43m,\u001b[49m\u001b[43m \u001b[49m\u001b[43mMETHOD_NAME\u001b[49m\u001b[43m)\u001b[49m\n",
      "Cell \u001b[0;32mIn[4], line 29\u001b[0m, in \u001b[0;36mget_token_metadata\u001b[0;34m(token_contract_address, rpc, method_name_list)\u001b[0m\n\u001b[1;32m     26\u001b[0m response_map \u001b[38;5;241m=\u001b[39m {}\n\u001b[1;32m     28\u001b[0m \u001b[38;5;28;01mfor\u001b[39;00m method_id, method_name \u001b[38;5;129;01min\u001b[39;00m \u001b[38;5;28mzip\u001b[39m(method_ids, method_name_list):\n\u001b[0;32m---> 29\u001b[0m     response \u001b[38;5;241m=\u001b[39m \u001b[43mw3_conn\u001b[49m\u001b[38;5;241;43m.\u001b[39;49m\u001b[43meth\u001b[49m\u001b[38;5;241;43m.\u001b[39;49m\u001b[43mcall\u001b[49m\u001b[43m(\u001b[49m\u001b[43m{\u001b[49m\n\u001b[1;32m     30\u001b[0m \u001b[43m        \u001b[49m\u001b[38;5;124;43m'\u001b[39;49m\u001b[38;5;124;43mto\u001b[39;49m\u001b[38;5;124;43m'\u001b[39;49m\u001b[43m:\u001b[49m\u001b[43m \u001b[49m\u001b[43mtoken_contract_address\u001b[49m\u001b[43m,\u001b[49m\n\u001b[1;32m     31\u001b[0m \u001b[43m        \u001b[49m\u001b[38;5;124;43m'\u001b[39;49m\u001b[38;5;124;43mdata\u001b[39;49m\u001b[38;5;124;43m'\u001b[39;49m\u001b[43m:\u001b[49m\u001b[43m \u001b[49m\u001b[43mmethod_id\u001b[49m\n\u001b[1;32m     32\u001b[0m \u001b[43m    \u001b[49m\u001b[43m}\u001b[49m\u001b[43m)\u001b[49m\n\u001b[1;32m     33\u001b[0m     response_map[method_name] \u001b[38;5;241m=\u001b[39m response\n\u001b[1;32m     36\u001b[0m \u001b[38;5;66;03m# return the response for each method\u001b[39;00m\n",
      "File \u001b[0;32m~/github/ethereum-optimism/op-analytics-alt/.venv/lib/python3.12/site-packages/web3/eth/eth.py:244\u001b[0m, in \u001b[0;36mEth.call\u001b[0;34m(self, transaction, block_identifier, state_override, ccip_read_enabled)\u001b[0m\n\u001b[1;32m    234\u001b[0m ccip_read_enabled_on_provider \u001b[38;5;241m=\u001b[39m \u001b[38;5;28mself\u001b[39m\u001b[38;5;241m.\u001b[39mw3\u001b[38;5;241m.\u001b[39mprovider\u001b[38;5;241m.\u001b[39mglobal_ccip_read_enabled\n\u001b[1;32m    235\u001b[0m \u001b[38;5;28;01mif\u001b[39;00m (\n\u001b[1;32m    236\u001b[0m     \u001b[38;5;66;03m# default conditions:\u001b[39;00m\n\u001b[1;32m    237\u001b[0m     ccip_read_enabled_on_provider\n\u001b[0;32m   (...)\u001b[0m\n\u001b[1;32m    242\u001b[0m     \u001b[38;5;129;01mand\u001b[39;00m ccip_read_enabled \u001b[38;5;129;01mis\u001b[39;00m \u001b[38;5;28;01mTrue\u001b[39;00m\n\u001b[1;32m    243\u001b[0m ):\n\u001b[0;32m--> 244\u001b[0m     \u001b[38;5;28;01mreturn\u001b[39;00m \u001b[38;5;28;43mself\u001b[39;49m\u001b[38;5;241;43m.\u001b[39;49m\u001b[43m_durin_call\u001b[49m\u001b[43m(\u001b[49m\u001b[43mtransaction\u001b[49m\u001b[43m,\u001b[49m\u001b[43m \u001b[49m\u001b[43mblock_identifier\u001b[49m\u001b[43m,\u001b[49m\u001b[43m \u001b[49m\u001b[43mstate_override\u001b[49m\u001b[43m)\u001b[49m\n\u001b[1;32m    246\u001b[0m \u001b[38;5;28;01mreturn\u001b[39;00m \u001b[38;5;28mself\u001b[39m\u001b[38;5;241m.\u001b[39m_call(transaction, block_identifier, state_override)\n",
      "File \u001b[0;32m~/github/ethereum-optimism/op-analytics-alt/.venv/lib/python3.12/site-packages/web3/eth/eth.py:263\u001b[0m, in \u001b[0;36mEth._durin_call\u001b[0;34m(self, transaction, block_identifier, state_override)\u001b[0m\n\u001b[1;32m    261\u001b[0m \u001b[38;5;28;01mfor\u001b[39;00m _ \u001b[38;5;129;01min\u001b[39;00m \u001b[38;5;28mrange\u001b[39m(max_redirects):\n\u001b[1;32m    262\u001b[0m     \u001b[38;5;28;01mtry\u001b[39;00m:\n\u001b[0;32m--> 263\u001b[0m         \u001b[38;5;28;01mreturn\u001b[39;00m \u001b[38;5;28;43mself\u001b[39;49m\u001b[38;5;241;43m.\u001b[39;49m\u001b[43m_call\u001b[49m\u001b[43m(\u001b[49m\u001b[43mtransaction\u001b[49m\u001b[43m,\u001b[49m\u001b[43m \u001b[49m\u001b[43mblock_identifier\u001b[49m\u001b[43m,\u001b[49m\u001b[43m \u001b[49m\u001b[43mstate_override\u001b[49m\u001b[43m)\u001b[49m\n\u001b[1;32m    264\u001b[0m     \u001b[38;5;28;01mexcept\u001b[39;00m OffchainLookup \u001b[38;5;28;01mas\u001b[39;00m offchain_lookup:\n\u001b[1;32m    265\u001b[0m         durin_calldata \u001b[38;5;241m=\u001b[39m handle_offchain_lookup(\n\u001b[1;32m    266\u001b[0m             offchain_lookup\u001b[38;5;241m.\u001b[39mpayload,\n\u001b[1;32m    267\u001b[0m             transaction,\n\u001b[1;32m    268\u001b[0m         )\n",
      "File \u001b[0;32m~/github/ethereum-optimism/op-analytics-alt/.venv/lib/python3.12/site-packages/web3/module.py:101\u001b[0m, in \u001b[0;36mretrieve_blocking_method_call_fn.<locals>.caller\u001b[0;34m(*args, **kwargs)\u001b[0m\n\u001b[1;32m     99\u001b[0m \u001b[38;5;28;01mdef\u001b[39;00m \u001b[38;5;21mcaller\u001b[39m(\u001b[38;5;241m*\u001b[39margs: Any, \u001b[38;5;241m*\u001b[39m\u001b[38;5;241m*\u001b[39mkwargs: Any) \u001b[38;5;241m-\u001b[39m\u001b[38;5;241m>\u001b[39m Union[TReturn, LogFilter]:\n\u001b[1;32m    100\u001b[0m     \u001b[38;5;28;01mtry\u001b[39;00m:\n\u001b[0;32m--> 101\u001b[0m         (method_str, params), response_formatters \u001b[38;5;241m=\u001b[39m \u001b[43mmethod\u001b[49m\u001b[38;5;241;43m.\u001b[39;49m\u001b[43mprocess_params\u001b[49m\u001b[43m(\u001b[49m\n\u001b[1;32m    102\u001b[0m \u001b[43m            \u001b[49m\u001b[43mmodule\u001b[49m\u001b[43m,\u001b[49m\u001b[43m \u001b[49m\u001b[38;5;241;43m*\u001b[39;49m\u001b[43margs\u001b[49m\u001b[43m,\u001b[49m\u001b[43m \u001b[49m\u001b[38;5;241;43m*\u001b[39;49m\u001b[38;5;241;43m*\u001b[39;49m\u001b[43mkwargs\u001b[49m\n\u001b[1;32m    103\u001b[0m \u001b[43m        \u001b[49m\u001b[43m)\u001b[49m\n\u001b[1;32m    104\u001b[0m     \u001b[38;5;28;01mexcept\u001b[39;00m _UseExistingFilter \u001b[38;5;28;01mas\u001b[39;00m err:\n\u001b[1;32m    105\u001b[0m         \u001b[38;5;28;01mreturn\u001b[39;00m LogFilter(eth_module\u001b[38;5;241m=\u001b[39mmodule, filter_id\u001b[38;5;241m=\u001b[39merr\u001b[38;5;241m.\u001b[39mfilter_id)\n",
      "File \u001b[0;32m~/github/ethereum-optimism/op-analytics-alt/.venv/lib/python3.12/site-packages/web3/method.py:237\u001b[0m, in \u001b[0;36mMethod.process_params\u001b[0;34m(self, module, *args, **kwargs)\u001b[0m\n\u001b[1;32m    229\u001b[0m method \u001b[38;5;241m=\u001b[39m \u001b[38;5;28mself\u001b[39m\u001b[38;5;241m.\u001b[39mmethod_selector_fn()\n\u001b[1;32m    230\u001b[0m response_formatters \u001b[38;5;241m=\u001b[39m (\n\u001b[1;32m    231\u001b[0m     \u001b[38;5;28mself\u001b[39m\u001b[38;5;241m.\u001b[39mresult_formatters(method, module),\n\u001b[1;32m    232\u001b[0m     get_error_formatters(method),\n\u001b[1;32m    233\u001b[0m     \u001b[38;5;28mself\u001b[39m\u001b[38;5;241m.\u001b[39mnull_result_formatters(method),\n\u001b[1;32m    234\u001b[0m )\n\u001b[1;32m    235\u001b[0m request \u001b[38;5;241m=\u001b[39m (\n\u001b[1;32m    236\u001b[0m     method,\n\u001b[0;32m--> 237\u001b[0m     \u001b[43m_apply_request_formatters\u001b[49m\u001b[43m(\u001b[49m\u001b[43mparams\u001b[49m\u001b[43m,\u001b[49m\u001b[43m \u001b[49m\u001b[38;5;28;43mself\u001b[39;49m\u001b[38;5;241;43m.\u001b[39;49m\u001b[43mrequest_formatters\u001b[49m\u001b[43m(\u001b[49m\u001b[43mmethod\u001b[49m\u001b[43m)\u001b[49m\u001b[43m)\u001b[49m,\n\u001b[1;32m    238\u001b[0m )\n\u001b[1;32m    239\u001b[0m \u001b[38;5;28;01mreturn\u001b[39;00m request, response_formatters\n",
      "File \u001b[0;32m~/github/ethereum-optimism/op-analytics-alt/.venv/lib/python3.12/site-packages/eth_utils/functional.py:47\u001b[0m, in \u001b[0;36mapply_to_return_value.<locals>.outer.<locals>.inner\u001b[0;34m(*args, **kwargs)\u001b[0m\n\u001b[1;32m     45\u001b[0m \u001b[38;5;129m@functools\u001b[39m\u001b[38;5;241m.\u001b[39mwraps(fn)\n\u001b[1;32m     46\u001b[0m \u001b[38;5;28;01mdef\u001b[39;00m \u001b[38;5;21minner\u001b[39m(\u001b[38;5;241m*\u001b[39margs, \u001b[38;5;241m*\u001b[39m\u001b[38;5;241m*\u001b[39mkwargs) \u001b[38;5;241m-\u001b[39m\u001b[38;5;241m>\u001b[39m T:  \u001b[38;5;66;03m# type: ignore\u001b[39;00m\n\u001b[0;32m---> 47\u001b[0m     \u001b[38;5;28;01mreturn\u001b[39;00m callback(\u001b[43mfn\u001b[49m\u001b[43m(\u001b[49m\u001b[38;5;241;43m*\u001b[39;49m\u001b[43margs\u001b[49m\u001b[43m,\u001b[49m\u001b[43m \u001b[49m\u001b[38;5;241;43m*\u001b[39;49m\u001b[38;5;241;43m*\u001b[39;49m\u001b[43mkwargs\u001b[49m\u001b[43m)\u001b[49m)\n",
      "File \u001b[0;32m~/github/ethereum-optimism/op-analytics-alt/.venv/lib/python3.12/site-packages/web3/method.py:64\u001b[0m, in \u001b[0;36m_apply_request_formatters\u001b[0;34m(params, request_formatters)\u001b[0m\n\u001b[1;32m     59\u001b[0m \u001b[38;5;129m@to_tuple\u001b[39m\n\u001b[1;32m     60\u001b[0m \u001b[38;5;28;01mdef\u001b[39;00m \u001b[38;5;21m_apply_request_formatters\u001b[39m(\n\u001b[1;32m     61\u001b[0m     params: Any, request_formatters: Dict[RPCEndpoint, Callable[\u001b[38;5;241m.\u001b[39m\u001b[38;5;241m.\u001b[39m\u001b[38;5;241m.\u001b[39m, TReturn]]\n\u001b[1;32m     62\u001b[0m ) \u001b[38;5;241m-\u001b[39m\u001b[38;5;241m>\u001b[39m Tuple[Any, \u001b[38;5;241m.\u001b[39m\u001b[38;5;241m.\u001b[39m\u001b[38;5;241m.\u001b[39m]:\n\u001b[1;32m     63\u001b[0m     \u001b[38;5;28;01mif\u001b[39;00m request_formatters:\n\u001b[0;32m---> 64\u001b[0m         formatted_params \u001b[38;5;241m=\u001b[39m \u001b[43mpipe\u001b[49m\u001b[43m(\u001b[49m\u001b[43mparams\u001b[49m\u001b[43m,\u001b[49m\u001b[43m \u001b[49m\u001b[43mrequest_formatters\u001b[49m\u001b[43m)\u001b[49m\n\u001b[1;32m     65\u001b[0m         \u001b[38;5;28;01mreturn\u001b[39;00m formatted_params\n\u001b[1;32m     66\u001b[0m     \u001b[38;5;28;01mreturn\u001b[39;00m params\n",
      "File \u001b[0;32m~/github/ethereum-optimism/op-analytics-alt/.venv/lib/python3.12/site-packages/cytoolz/functoolz.pyx:685\u001b[0m, in \u001b[0;36mcytoolz.functoolz.pipe\u001b[0;34m()\u001b[0m\n",
      "File \u001b[0;32m~/github/ethereum-optimism/op-analytics-alt/.venv/lib/python3.12/site-packages/cytoolz/functoolz.pyx:660\u001b[0m, in \u001b[0;36mcytoolz.functoolz.c_pipe\u001b[0;34m()\u001b[0m\n",
      "File \u001b[0;32m~/github/ethereum-optimism/op-analytics-alt/.venv/lib/python3.12/site-packages/cytoolz/functoolz.pyx:523\u001b[0m, in \u001b[0;36mcytoolz.functoolz.Compose.__call__\u001b[0;34m()\u001b[0m\n",
      "File \u001b[0;32m~/github/ethereum-optimism/op-analytics-alt/.venv/lib/python3.12/site-packages/cytoolz/functoolz.pyx:268\u001b[0m, in \u001b[0;36mcytoolz.functoolz.curry.__call__\u001b[0;34m()\u001b[0m\n",
      "File \u001b[0;32m~/github/ethereum-optimism/op-analytics-alt/.venv/lib/python3.12/site-packages/eth_utils/decorators.py:102\u001b[0m, in \u001b[0;36mreturn_arg_type.<locals>.decorator.<locals>.wrapper\u001b[0;34m(*args, **kwargs)\u001b[0m\n\u001b[1;32m    100\u001b[0m result \u001b[38;5;241m=\u001b[39m to_wrap(\u001b[38;5;241m*\u001b[39margs, \u001b[38;5;241m*\u001b[39m\u001b[38;5;241m*\u001b[39mkwargs)\n\u001b[1;32m    101\u001b[0m ReturnType \u001b[38;5;241m=\u001b[39m \u001b[38;5;28mtype\u001b[39m(args[at_position])\n\u001b[0;32m--> 102\u001b[0m \u001b[38;5;28;01mreturn\u001b[39;00m \u001b[43mReturnType\u001b[49m\u001b[43m(\u001b[49m\u001b[43mresult\u001b[49m\u001b[43m)\u001b[49m\n",
      "File \u001b[0;32m~/github/ethereum-optimism/op-analytics-alt/.venv/lib/python3.12/site-packages/eth_utils/applicators.py:36\u001b[0m, in \u001b[0;36mapply_formatter_at_index\u001b[0;34m(formatter, at_index, value)\u001b[0m\n\u001b[1;32m     34\u001b[0m \u001b[38;5;28;01mfor\u001b[39;00m index, item \u001b[38;5;129;01min\u001b[39;00m \u001b[38;5;28menumerate\u001b[39m(value):\n\u001b[1;32m     35\u001b[0m     \u001b[38;5;28;01mif\u001b[39;00m index \u001b[38;5;241m==\u001b[39m at_index:\n\u001b[0;32m---> 36\u001b[0m         \u001b[38;5;28;01myield\u001b[39;00m \u001b[43mformatter\u001b[49m\u001b[43m(\u001b[49m\u001b[43mitem\u001b[49m\u001b[43m)\u001b[49m\n\u001b[1;32m     37\u001b[0m     \u001b[38;5;28;01melse\u001b[39;00m:\n\u001b[1;32m     38\u001b[0m         \u001b[38;5;28;01myield\u001b[39;00m item\n",
      "File \u001b[0;32m~/github/ethereum-optimism/op-analytics-alt/.venv/lib/python3.12/site-packages/cytoolz/functoolz.pyx:268\u001b[0m, in \u001b[0;36mcytoolz.functoolz.curry.__call__\u001b[0;34m()\u001b[0m\n",
      "File \u001b[0;32m~/github/ethereum-optimism/op-analytics-alt/.venv/lib/python3.12/site-packages/web3/_utils/rpc_abi.py:215\u001b[0m, in \u001b[0;36mapply_abi_formatters_to_dict\u001b[0;34m(normalizers, abi_dict, data)\u001b[0m\n\u001b[1;32m    208\u001b[0m \u001b[38;5;129m@curry\u001b[39m\n\u001b[1;32m    209\u001b[0m \u001b[38;5;28;01mdef\u001b[39;00m \u001b[38;5;21mapply_abi_formatters_to_dict\u001b[39m(\n\u001b[1;32m    210\u001b[0m     normalizers: Sequence[Callable[[TypeStr, Any], Tuple[TypeStr, Any]]],\n\u001b[1;32m    211\u001b[0m     abi_dict: Dict[\u001b[38;5;28mstr\u001b[39m, Any],\n\u001b[1;32m    212\u001b[0m     data: Dict[Any, Any],\n\u001b[1;32m    213\u001b[0m ) \u001b[38;5;241m-\u001b[39m\u001b[38;5;241m>\u001b[39m Dict[Any, Any]:\n\u001b[1;32m    214\u001b[0m     fields \u001b[38;5;241m=\u001b[39m \u001b[38;5;28mlist\u001b[39m(abi_dict\u001b[38;5;241m.\u001b[39mkeys() \u001b[38;5;241m&\u001b[39m data\u001b[38;5;241m.\u001b[39mkeys())\n\u001b[0;32m--> 215\u001b[0m     formatted_values \u001b[38;5;241m=\u001b[39m \u001b[43mmap_abi_data\u001b[49m\u001b[43m(\u001b[49m\n\u001b[1;32m    216\u001b[0m \u001b[43m        \u001b[49m\u001b[43mnormalizers\u001b[49m\u001b[43m,\u001b[49m\n\u001b[1;32m    217\u001b[0m \u001b[43m        \u001b[49m\u001b[43m[\u001b[49m\u001b[43mabi_dict\u001b[49m\u001b[43m[\u001b[49m\u001b[43mfield\u001b[49m\u001b[43m]\u001b[49m\u001b[43m \u001b[49m\u001b[38;5;28;43;01mfor\u001b[39;49;00m\u001b[43m \u001b[49m\u001b[43mfield\u001b[49m\u001b[43m \u001b[49m\u001b[38;5;129;43;01min\u001b[39;49;00m\u001b[43m \u001b[49m\u001b[43mfields\u001b[49m\u001b[43m]\u001b[49m\u001b[43m,\u001b[49m\n\u001b[1;32m    218\u001b[0m \u001b[43m        \u001b[49m\u001b[43m[\u001b[49m\u001b[43mdata\u001b[49m\u001b[43m[\u001b[49m\u001b[43mfield\u001b[49m\u001b[43m]\u001b[49m\u001b[43m \u001b[49m\u001b[38;5;28;43;01mfor\u001b[39;49;00m\u001b[43m \u001b[49m\u001b[43mfield\u001b[49m\u001b[43m \u001b[49m\u001b[38;5;129;43;01min\u001b[39;49;00m\u001b[43m \u001b[49m\u001b[43mfields\u001b[49m\u001b[43m]\u001b[49m\u001b[43m,\u001b[49m\n\u001b[1;32m    219\u001b[0m \u001b[43m    \u001b[49m\u001b[43m)\u001b[49m\n\u001b[1;32m    220\u001b[0m     formatted_dict \u001b[38;5;241m=\u001b[39m \u001b[38;5;28mdict\u001b[39m(\u001b[38;5;28mzip\u001b[39m(fields, formatted_values))\n\u001b[1;32m    221\u001b[0m     \u001b[38;5;28;01mreturn\u001b[39;00m \u001b[38;5;28mdict\u001b[39m(data, \u001b[38;5;241m*\u001b[39m\u001b[38;5;241m*\u001b[39mformatted_dict)\n",
      "File \u001b[0;32m~/github/ethereum-optimism/op-analytics-alt/.venv/lib/python3.12/site-packages/cytoolz/functoolz.pyx:268\u001b[0m, in \u001b[0;36mcytoolz.functoolz.curry.__call__\u001b[0;34m()\u001b[0m\n",
      "File \u001b[0;32m~/github/ethereum-optimism/op-analytics-alt/.venv/lib/python3.12/site-packages/web3/_utils/abi.py:620\u001b[0m, in \u001b[0;36mmap_abi_data\u001b[0;34m(normalizers, types, data)\u001b[0m\n\u001b[1;32m    592\u001b[0m \u001b[38;5;250m\u001b[39m\u001b[38;5;124;03m\"\"\"\u001b[39;00m\n\u001b[1;32m    593\u001b[0m \u001b[38;5;124;03mApplies normalizers to your data, in the context of the relevant types.\u001b[39;00m\n\u001b[1;32m    594\u001b[0m \u001b[38;5;124;03mEach normalizer is in the format:\u001b[39;00m\n\u001b[0;32m   (...)\u001b[0m\n\u001b[1;32m    612\u001b[0m \u001b[38;5;124;03m3. Stripping the types back out of the tree\u001b[39;00m\n\u001b[1;32m    613\u001b[0m \u001b[38;5;124;03m\"\"\"\u001b[39;00m\n\u001b[1;32m    614\u001b[0m pipeline \u001b[38;5;241m=\u001b[39m itertools\u001b[38;5;241m.\u001b[39mchain(\n\u001b[1;32m    615\u001b[0m     [abi_data_tree(types)],\n\u001b[1;32m    616\u001b[0m     \u001b[38;5;28mmap\u001b[39m(data_tree_map, normalizers),\n\u001b[1;32m    617\u001b[0m     [partial(recursive_map, strip_abi_type)],\n\u001b[1;32m    618\u001b[0m )\n\u001b[0;32m--> 620\u001b[0m \u001b[38;5;28;01mreturn\u001b[39;00m \u001b[43mpipe\u001b[49m\u001b[43m(\u001b[49m\u001b[43mdata\u001b[49m\u001b[43m,\u001b[49m\u001b[43m \u001b[49m\u001b[38;5;241;43m*\u001b[39;49m\u001b[43mpipeline\u001b[49m\u001b[43m)\u001b[49m\n",
      "File \u001b[0;32m~/github/ethereum-optimism/op-analytics-alt/.venv/lib/python3.12/site-packages/cytoolz/functoolz.pyx:685\u001b[0m, in \u001b[0;36mcytoolz.functoolz.pipe\u001b[0;34m()\u001b[0m\n",
      "File \u001b[0;32m~/github/ethereum-optimism/op-analytics-alt/.venv/lib/python3.12/site-packages/cytoolz/functoolz.pyx:660\u001b[0m, in \u001b[0;36mcytoolz.functoolz.c_pipe\u001b[0;34m()\u001b[0m\n",
      "File \u001b[0;32m~/github/ethereum-optimism/op-analytics-alt/.venv/lib/python3.12/site-packages/cytoolz/functoolz.pyx:268\u001b[0m, in \u001b[0;36mcytoolz.functoolz.curry.__call__\u001b[0;34m()\u001b[0m\n",
      "File \u001b[0;32m~/github/ethereum-optimism/op-analytics-alt/.venv/lib/python3.12/site-packages/web3/_utils/abi.py:655\u001b[0m, in \u001b[0;36mdata_tree_map\u001b[0;34m(func, data_tree)\u001b[0m\n\u001b[1;32m    652\u001b[0m     \u001b[38;5;28;01melse\u001b[39;00m:\n\u001b[1;32m    653\u001b[0m         \u001b[38;5;28;01mreturn\u001b[39;00m elements\n\u001b[0;32m--> 655\u001b[0m \u001b[38;5;28;01mreturn\u001b[39;00m \u001b[43mrecursive_map\u001b[49m\u001b[43m(\u001b[49m\u001b[43mmap_to_typed_data\u001b[49m\u001b[43m,\u001b[49m\u001b[43m \u001b[49m\u001b[43mdata_tree\u001b[49m\u001b[43m)\u001b[49m\n",
      "File \u001b[0;32m~/github/ethereum-optimism/op-analytics-alt/.venv/lib/python3.12/site-packages/web3/_utils/decorators.py:34\u001b[0m, in \u001b[0;36mreject_recursive_repeats.<locals>.wrapped\u001b[0;34m(*args)\u001b[0m\n\u001b[1;32m     32\u001b[0m to_wrap\u001b[38;5;241m.\u001b[39m__already_called[thread_local_args] \u001b[38;5;241m=\u001b[39m \u001b[38;5;28;01mTrue\u001b[39;00m  \u001b[38;5;66;03m# type: ignore\u001b[39;00m\n\u001b[1;32m     33\u001b[0m \u001b[38;5;28;01mtry\u001b[39;00m:\n\u001b[0;32m---> 34\u001b[0m     wrapped_val \u001b[38;5;241m=\u001b[39m \u001b[43mto_wrap\u001b[49m\u001b[43m(\u001b[49m\u001b[38;5;241;43m*\u001b[39;49m\u001b[43margs\u001b[49m\u001b[43m)\u001b[49m\n\u001b[1;32m     35\u001b[0m \u001b[38;5;28;01mfinally\u001b[39;00m:\n\u001b[1;32m     36\u001b[0m     \u001b[38;5;28;01mdel\u001b[39;00m to_wrap\u001b[38;5;241m.\u001b[39m__already_called[thread_local_args]  \u001b[38;5;66;03m# type: ignore\u001b[39;00m\n",
      "File \u001b[0;32m~/github/ethereum-optimism/op-analytics-alt/.venv/lib/python3.12/site-packages/web3/_utils/formatters.py:84\u001b[0m, in \u001b[0;36mrecursive_map\u001b[0;34m(func, data)\u001b[0m\n\u001b[1;32m     81\u001b[0m \u001b[38;5;28;01mdef\u001b[39;00m \u001b[38;5;21mrecurse\u001b[39m(item: Any) \u001b[38;5;241m-\u001b[39m\u001b[38;5;241m>\u001b[39m TReturn:\n\u001b[1;32m     82\u001b[0m     \u001b[38;5;28;01mreturn\u001b[39;00m recursive_map(func, item)\n\u001b[0;32m---> 84\u001b[0m items_mapped \u001b[38;5;241m=\u001b[39m \u001b[43mmap_collection\u001b[49m\u001b[43m(\u001b[49m\u001b[43mrecurse\u001b[49m\u001b[43m,\u001b[49m\u001b[43m \u001b[49m\u001b[43mdata\u001b[49m\u001b[43m)\u001b[49m\n\u001b[1;32m     85\u001b[0m \u001b[38;5;28;01mreturn\u001b[39;00m func(items_mapped)\n",
      "File \u001b[0;32m~/github/ethereum-optimism/op-analytics-alt/.venv/lib/python3.12/site-packages/web3/_utils/formatters.py:68\u001b[0m, in \u001b[0;36mmap_collection\u001b[0;34m(func, collection)\u001b[0m\n\u001b[1;32m     66\u001b[0m     \u001b[38;5;28;01mreturn\u001b[39;00m collection\n\u001b[1;32m     67\u001b[0m \u001b[38;5;28;01melif\u001b[39;00m \u001b[38;5;28misinstance\u001b[39m(collection, Iterable):\n\u001b[0;32m---> 68\u001b[0m     \u001b[38;5;28;01mreturn\u001b[39;00m \u001b[43mdatatype\u001b[49m\u001b[43m(\u001b[49m\u001b[38;5;28;43mmap\u001b[39;49m\u001b[43m(\u001b[49m\u001b[43mfunc\u001b[49m\u001b[43m,\u001b[49m\u001b[43m \u001b[49m\u001b[43mcollection\u001b[49m\u001b[43m)\u001b[49m\u001b[43m)\u001b[49m\n\u001b[1;32m     69\u001b[0m \u001b[38;5;28;01melse\u001b[39;00m:\n\u001b[1;32m     70\u001b[0m     \u001b[38;5;28;01mreturn\u001b[39;00m collection\n",
      "File \u001b[0;32m~/github/ethereum-optimism/op-analytics-alt/.venv/lib/python3.12/site-packages/web3/_utils/formatters.py:82\u001b[0m, in \u001b[0;36mrecursive_map.<locals>.recurse\u001b[0;34m(item)\u001b[0m\n\u001b[1;32m     81\u001b[0m \u001b[38;5;28;01mdef\u001b[39;00m \u001b[38;5;21mrecurse\u001b[39m(item: Any) \u001b[38;5;241m-\u001b[39m\u001b[38;5;241m>\u001b[39m TReturn:\n\u001b[0;32m---> 82\u001b[0m     \u001b[38;5;28;01mreturn\u001b[39;00m \u001b[43mrecursive_map\u001b[49m\u001b[43m(\u001b[49m\u001b[43mfunc\u001b[49m\u001b[43m,\u001b[49m\u001b[43m \u001b[49m\u001b[43mitem\u001b[49m\u001b[43m)\u001b[49m\n",
      "File \u001b[0;32m~/github/ethereum-optimism/op-analytics-alt/.venv/lib/python3.12/site-packages/web3/_utils/decorators.py:34\u001b[0m, in \u001b[0;36mreject_recursive_repeats.<locals>.wrapped\u001b[0;34m(*args)\u001b[0m\n\u001b[1;32m     32\u001b[0m to_wrap\u001b[38;5;241m.\u001b[39m__already_called[thread_local_args] \u001b[38;5;241m=\u001b[39m \u001b[38;5;28;01mTrue\u001b[39;00m  \u001b[38;5;66;03m# type: ignore\u001b[39;00m\n\u001b[1;32m     33\u001b[0m \u001b[38;5;28;01mtry\u001b[39;00m:\n\u001b[0;32m---> 34\u001b[0m     wrapped_val \u001b[38;5;241m=\u001b[39m \u001b[43mto_wrap\u001b[49m\u001b[43m(\u001b[49m\u001b[38;5;241;43m*\u001b[39;49m\u001b[43margs\u001b[49m\u001b[43m)\u001b[49m\n\u001b[1;32m     35\u001b[0m \u001b[38;5;28;01mfinally\u001b[39;00m:\n\u001b[1;32m     36\u001b[0m     \u001b[38;5;28;01mdel\u001b[39;00m to_wrap\u001b[38;5;241m.\u001b[39m__already_called[thread_local_args]  \u001b[38;5;66;03m# type: ignore\u001b[39;00m\n",
      "File \u001b[0;32m~/github/ethereum-optimism/op-analytics-alt/.venv/lib/python3.12/site-packages/web3/_utils/formatters.py:85\u001b[0m, in \u001b[0;36mrecursive_map\u001b[0;34m(func, data)\u001b[0m\n\u001b[1;32m     82\u001b[0m     \u001b[38;5;28;01mreturn\u001b[39;00m recursive_map(func, item)\n\u001b[1;32m     84\u001b[0m items_mapped \u001b[38;5;241m=\u001b[39m map_collection(recurse, data)\n\u001b[0;32m---> 85\u001b[0m \u001b[38;5;28;01mreturn\u001b[39;00m \u001b[43mfunc\u001b[49m\u001b[43m(\u001b[49m\u001b[43mitems_mapped\u001b[49m\u001b[43m)\u001b[49m\n",
      "File \u001b[0;32m~/github/ethereum-optimism/op-analytics-alt/.venv/lib/python3.12/site-packages/web3/_utils/abi.py:651\u001b[0m, in \u001b[0;36mdata_tree_map.<locals>.map_to_typed_data\u001b[0;34m(elements)\u001b[0m\n\u001b[1;32m    649\u001b[0m \u001b[38;5;28;01mdef\u001b[39;00m \u001b[38;5;21mmap_to_typed_data\u001b[39m(elements: Any) \u001b[38;5;241m-\u001b[39m\u001b[38;5;241m>\u001b[39m \u001b[38;5;124m\"\u001b[39m\u001b[38;5;124mABITypedData\u001b[39m\u001b[38;5;124m\"\u001b[39m:\n\u001b[1;32m    650\u001b[0m     \u001b[38;5;28;01mif\u001b[39;00m \u001b[38;5;28misinstance\u001b[39m(elements, ABITypedData) \u001b[38;5;129;01mand\u001b[39;00m elements\u001b[38;5;241m.\u001b[39mabi_type \u001b[38;5;129;01mis\u001b[39;00m \u001b[38;5;129;01mnot\u001b[39;00m \u001b[38;5;28;01mNone\u001b[39;00m:\n\u001b[0;32m--> 651\u001b[0m         \u001b[38;5;28;01mreturn\u001b[39;00m ABITypedData(\u001b[43mfunc\u001b[49m\u001b[43m(\u001b[49m\u001b[38;5;241;43m*\u001b[39;49m\u001b[43melements\u001b[49m\u001b[43m)\u001b[49m)\n\u001b[1;32m    652\u001b[0m     \u001b[38;5;28;01melse\u001b[39;00m:\n\u001b[1;32m    653\u001b[0m         \u001b[38;5;28;01mreturn\u001b[39;00m elements\n",
      "File \u001b[0;32m~/github/ethereum-optimism/op-analytics-alt/.venv/lib/python3.12/site-packages/web3/_utils/normalizers.py:79\u001b[0m, in \u001b[0;36mimplicitly_identity.<locals>.wrapper\u001b[0;34m(type_str, data)\u001b[0m\n\u001b[1;32m     77\u001b[0m \u001b[38;5;129m@functools\u001b[39m\u001b[38;5;241m.\u001b[39mwraps(to_wrap)\n\u001b[1;32m     78\u001b[0m \u001b[38;5;28;01mdef\u001b[39;00m \u001b[38;5;21mwrapper\u001b[39m(type_str: TypeStr, data: Any) \u001b[38;5;241m-\u001b[39m\u001b[38;5;241m>\u001b[39m Tuple[TypeStr, Any]:\n\u001b[0;32m---> 79\u001b[0m     modified \u001b[38;5;241m=\u001b[39m \u001b[43mto_wrap\u001b[49m\u001b[43m(\u001b[49m\u001b[43mtype_str\u001b[49m\u001b[43m,\u001b[49m\u001b[43m \u001b[49m\u001b[43mdata\u001b[49m\u001b[43m)\u001b[49m\n\u001b[1;32m     80\u001b[0m     \u001b[38;5;28;01mif\u001b[39;00m modified \u001b[38;5;129;01mis\u001b[39;00m \u001b[38;5;28;01mNone\u001b[39;00m:\n\u001b[1;32m     81\u001b[0m         \u001b[38;5;28;01mreturn\u001b[39;00m type_str, data\n",
      "File \u001b[0;32m~/github/ethereum-optimism/op-analytics-alt/.venv/lib/python3.12/site-packages/web3/_utils/normalizers.py:202\u001b[0m, in \u001b[0;36mabi_address_to_hex\u001b[0;34m(type_str, data)\u001b[0m\n\u001b[1;32m    197\u001b[0m \u001b[38;5;129m@implicitly_identity\u001b[39m\n\u001b[1;32m    198\u001b[0m \u001b[38;5;28;01mdef\u001b[39;00m \u001b[38;5;21mabi_address_to_hex\u001b[39m(\n\u001b[1;32m    199\u001b[0m     type_str: TypeStr, data: Any\n\u001b[1;32m    200\u001b[0m ) \u001b[38;5;241m-\u001b[39m\u001b[38;5;241m>\u001b[39m Optional[Tuple[TypeStr, ChecksumAddress]]:\n\u001b[1;32m    201\u001b[0m     \u001b[38;5;28;01mif\u001b[39;00m type_str \u001b[38;5;241m==\u001b[39m \u001b[38;5;124m\"\u001b[39m\u001b[38;5;124maddress\u001b[39m\u001b[38;5;124m\"\u001b[39m:\n\u001b[0;32m--> 202\u001b[0m         \u001b[43mvalidate_address\u001b[49m\u001b[43m(\u001b[49m\u001b[43mdata\u001b[49m\u001b[43m)\u001b[49m\n\u001b[1;32m    203\u001b[0m         \u001b[38;5;28;01mif\u001b[39;00m is_binary_address(data):\n\u001b[1;32m    204\u001b[0m             \u001b[38;5;28;01mreturn\u001b[39;00m type_str, to_checksum_address(data)\n",
      "File \u001b[0;32m~/github/ethereum-optimism/op-analytics-alt/.venv/lib/python3.12/site-packages/web3/_utils/validation.py:186\u001b[0m, in \u001b[0;36mvalidate_address\u001b[0;34m(value)\u001b[0m\n\u001b[1;32m    184\u001b[0m \u001b[38;5;28;01mif\u001b[39;00m \u001b[38;5;129;01mnot\u001b[39;00m is_checksum_address(value):\n\u001b[1;32m    185\u001b[0m     \u001b[38;5;28;01mif\u001b[39;00m value \u001b[38;5;241m==\u001b[39m value\u001b[38;5;241m.\u001b[39mlower():\n\u001b[0;32m--> 186\u001b[0m         \u001b[38;5;28;01mraise\u001b[39;00m InvalidAddress(\n\u001b[1;32m    187\u001b[0m             \u001b[38;5;124m\"\u001b[39m\u001b[38;5;124mweb3.py only accepts checksum addresses. \u001b[39m\u001b[38;5;124m\"\u001b[39m\n\u001b[1;32m    188\u001b[0m             \u001b[38;5;124m\"\u001b[39m\u001b[38;5;124mThe software that gave you this non-checksum address should be \u001b[39m\u001b[38;5;124m\"\u001b[39m\n\u001b[1;32m    189\u001b[0m             \u001b[38;5;124m\"\u001b[39m\u001b[38;5;124mconsidered unsafe, please file it as a bug on their platform. \u001b[39m\u001b[38;5;124m\"\u001b[39m\n\u001b[1;32m    190\u001b[0m             \u001b[38;5;124m\"\u001b[39m\u001b[38;5;124mTry using an ENS name instead. Or, if you must accept lower safety, \u001b[39m\u001b[38;5;124m\"\u001b[39m\n\u001b[1;32m    191\u001b[0m             \u001b[38;5;124m\"\u001b[39m\u001b[38;5;124muse Web3.to_checksum_address(lower_case_address).\u001b[39m\u001b[38;5;124m\"\u001b[39m,\n\u001b[1;32m    192\u001b[0m             value,\n\u001b[1;32m    193\u001b[0m         )\n\u001b[1;32m    194\u001b[0m     \u001b[38;5;28;01melse\u001b[39;00m:\n\u001b[1;32m    195\u001b[0m         \u001b[38;5;28;01mraise\u001b[39;00m InvalidAddress(\n\u001b[1;32m    196\u001b[0m             \u001b[38;5;124m\"\u001b[39m\u001b[38;5;124mAddress has an invalid EIP-55 checksum. \u001b[39m\u001b[38;5;124m\"\u001b[39m\n\u001b[1;32m    197\u001b[0m             \u001b[38;5;124m\"\u001b[39m\u001b[38;5;124mAfter looking up the address from the original source, try again.\u001b[39m\u001b[38;5;124m\"\u001b[39m,\n\u001b[1;32m    198\u001b[0m             value,\n\u001b[1;32m    199\u001b[0m         )\n",
      "\u001b[0;31mInvalidAddress\u001b[0m: ('web3.py only accepts checksum addresses. The software that gave you this non-checksum address should be considered unsafe, please file it as a bug on their platform. Try using an ENS name instead. Or, if you must accept lower safety, use Web3.to_checksum_address(lower_case_address).', '0x2cfc85d8e48f8eab294be644d9e25c3030863003')"
     ]
    }
   ],
   "source": [
    "response = get_token_metadata(\"0x2cfc85d8e48f8eab294be644d9e25c3030863003\", \"https://worldchain-mainnet.g.alchemy.com/public\", METHOD_NAME)"
   ]
  },
  {
   "cell_type": "code",
   "execution_count": null,
   "metadata": {},
   "outputs": [],
   "source": []
  }
 ],
 "metadata": {
  "kernelspec": {
   "display_name": ".venv",
   "language": "python",
   "name": "python3"
  },
  "language_info": {
   "codemirror_mode": {
    "name": "ipython",
    "version": 3
   },
   "file_extension": ".py",
   "mimetype": "text/x-python",
   "name": "python",
   "nbconvert_exporter": "python",
   "pygments_lexer": "ipython3",
   "version": "3.12.6"
  }
 },
 "nbformat": 4,
 "nbformat_minor": 2
}
