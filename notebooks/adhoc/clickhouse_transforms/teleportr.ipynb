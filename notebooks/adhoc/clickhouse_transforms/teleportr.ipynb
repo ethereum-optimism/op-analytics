{
 "cells": [
  {
   "cell_type": "code",
   "execution_count": 11,
   "metadata": {},
   "outputs": [
    {
     "name": "stdout",
     "output_type": "stream",
     "text": [
      "\u001b[2m2025-02-21 18:04:44\u001b[0m [\u001b[32m\u001b[1minfo     \u001b[0m] \u001b[1m1/1 markers pending.          \u001b[0m \u001b[36menv\u001b[0m=\u001b[35mPROD\u001b[0m \u001b[36mfilename\u001b[0m=\u001b[35mmain.py\u001b[0m \u001b[36mlineno\u001b[0m=\u001b[35m54\u001b[0m \u001b[36mprocess\u001b[0m=\u001b[35m92159\u001b[0m\n",
      "\u001b[2m2025-02-21 18:04:44\u001b[0m [\u001b[32m\u001b[1minfo     \u001b[0m] \u001b[1mPrepared 1 transform tasks.   \u001b[0m \u001b[36menv\u001b[0m=\u001b[35mPROD\u001b[0m \u001b[36mfilename\u001b[0m=\u001b[35mmain.py\u001b[0m \u001b[36mlineno\u001b[0m=\u001b[35m68\u001b[0m \u001b[36mprocess\u001b[0m=\u001b[35m92159\u001b[0m\n",
      "\u001b[2m2025-02-21 18:04:44\u001b[0m [\u001b[32m\u001b[1minfo     \u001b[0m] \u001b[1mfact_teleportr_events_v1.sql -> 0 written rows\u001b[0m \u001b[36mddl\u001b[0m=\u001b[35mfact_teleportr_events_v1.sql\u001b[0m \u001b[36mdt\u001b[0m=\u001b[35m2025-02-15\u001b[0m \u001b[36melapsed_ns\u001b[0m=\u001b[35m92001467\u001b[0m \u001b[36menv\u001b[0m=\u001b[35mPROD\u001b[0m \u001b[36mfilename\u001b[0m=\u001b[35mcreate.py\u001b[0m \u001b[36mlineno\u001b[0m=\u001b[35m44\u001b[0m \u001b[36mprocess\u001b[0m=\u001b[35m92159\u001b[0m \u001b[36mquery_id\u001b[0m=\u001b[35md2f9a149-8e1a-4f7e-a664-dcdad881e5a6\u001b[0m \u001b[36mread_bytes\u001b[0m=\u001b[35m142\u001b[0m \u001b[36mread_rows\u001b[0m=\u001b[35m2\u001b[0m \u001b[36mresult_bytes\u001b[0m=\u001b[35m0\u001b[0m \u001b[36mresult_rows\u001b[0m=\u001b[35m0\u001b[0m \u001b[36mtask\u001b[0m=\u001b[35m1/1\u001b[0m \u001b[36mtotal_rows_to_read\u001b[0m=\u001b[35m2\u001b[0m \u001b[36mwritten_bytes\u001b[0m=\u001b[35m0\u001b[0m \u001b[36mwritten_rows\u001b[0m=\u001b[35m0\u001b[0m\n",
      "\u001b[2m2025-02-21 18:04:44\u001b[0m [\u001b[32m\u001b[1minfo     \u001b[0m] \u001b[1mrunning ddl 01_fact_teleportr_events_v1.sql\u001b[0m \u001b[36mddl\u001b[0m=\u001b[35m01_fact_teleportr_events_v1.sql\u001b[0m \u001b[36mdt\u001b[0m=\u001b[35m2025-02-15\u001b[0m \u001b[36menv\u001b[0m=\u001b[35mPROD\u001b[0m \u001b[36mfilename\u001b[0m=\u001b[35mtransform.py\u001b[0m \u001b[36mlineno\u001b[0m=\u001b[35m94\u001b[0m \u001b[36mprocess\u001b[0m=\u001b[35m92159\u001b[0m \u001b[36mtask\u001b[0m=\u001b[35m1/1\u001b[0m\n",
      "\u001b[2m2025-02-21 18:05:11\u001b[0m [\u001b[32m\u001b[1minfo     \u001b[0m] \u001b[1m01_fact_teleportr_events_v1.sql -> 15383 written rows\u001b[0m \u001b[36mddl\u001b[0m=\u001b[35m01_fact_teleportr_events_v1.sql\u001b[0m \u001b[36mdt\u001b[0m=\u001b[35m2025-02-15\u001b[0m \u001b[36melapsed_ns\u001b[0m=\u001b[35m26508653430\u001b[0m \u001b[36menv\u001b[0m=\u001b[35mPROD\u001b[0m \u001b[36mfilename\u001b[0m=\u001b[35mtransform.py\u001b[0m \u001b[36mlineno\u001b[0m=\u001b[35m107\u001b[0m \u001b[36mprocess\u001b[0m=\u001b[35m92159\u001b[0m \u001b[36mquery_id\u001b[0m=\u001b[35mbccacccf-11b4-4bd0-b7e4-54b81853fc26\u001b[0m \u001b[36mread_bytes\u001b[0m=\u001b[35m3975414492\u001b[0m \u001b[36mread_rows\u001b[0m=\u001b[35m54867896\u001b[0m \u001b[36mresult_bytes\u001b[0m=\u001b[35m10063228\u001b[0m \u001b[36mresult_rows\u001b[0m=\u001b[35m15383\u001b[0m \u001b[36mtask\u001b[0m=\u001b[35m1/1\u001b[0m \u001b[36mtotal_rows_to_read\u001b[0m=\u001b[35m54588\u001b[0m \u001b[36mwritten_bytes\u001b[0m=\u001b[35m10063228\u001b[0m \u001b[36mwritten_rows\u001b[0m=\u001b[35m15383\u001b[0m\n"
     ]
    }
   ],
   "source": [
    "import os\n",
    "\n",
    "# Override to force BQ write.\n",
    "os.environ[\"OPLABS_ENV\"] = \"prod\"\n",
    "\n",
    "from op_analytics.transforms.main import execute_dt_transforms\n",
    "\n",
    "results = execute_dt_transforms(\n",
    "    group_name=\"teleportr\",\n",
    "    # range_spec=\"@20240701:20240702\",\n",
    "    range_spec=\"@20250215:+1\",\n",
    "    update_only=[1],\n",
    "    skip_create=False,\n",
    "    raise_if_empty=True,\n",
    "    max_tasks=None,\n",
    "    force_complete=True,\n",
    ")"
   ]
  }
 ],
 "metadata": {
  "kernelspec": {
   "display_name": ".venv",
   "language": "python",
   "name": "python3"
  },
  "language_info": {
   "codemirror_mode": {
    "name": "ipython",
    "version": 3
   },
   "file_extension": ".py",
   "mimetype": "text/x-python",
   "name": "python",
   "nbconvert_exporter": "python",
   "pygments_lexer": "ipython3",
   "version": "3.12.3"
  }
 },
 "nbformat": 4,
 "nbformat_minor": 2
}
