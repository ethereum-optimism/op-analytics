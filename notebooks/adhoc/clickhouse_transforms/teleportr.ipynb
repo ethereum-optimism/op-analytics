{
 "cells": [
  {
   "cell_type": "code",
   "execution_count": 6,
   "metadata": {},
   "outputs": [
    {
     "name": "stdout",
     "output_type": "stream",
     "text": [
      "\u001b[2m2025-02-20 19:02:45\u001b[0m [\u001b[32m\u001b[1minfo     \u001b[0m] \u001b[1m4/4 markers pending.          \u001b[0m \u001b[36menv\u001b[0m=\u001b[35mPROD\u001b[0m \u001b[36mfilename\u001b[0m=\u001b[35mmain.py\u001b[0m \u001b[36mlineno\u001b[0m=\u001b[35m54\u001b[0m \u001b[36mprocess\u001b[0m=\u001b[35m42731\u001b[0m\n",
      "\u001b[2m2025-02-20 19:02:45\u001b[0m [\u001b[32m\u001b[1minfo     \u001b[0m] \u001b[1mPrepared 4 transform tasks.   \u001b[0m \u001b[36menv\u001b[0m=\u001b[35mPROD\u001b[0m \u001b[36mfilename\u001b[0m=\u001b[35mmain.py\u001b[0m \u001b[36mlineno\u001b[0m=\u001b[35m68\u001b[0m \u001b[36mprocess\u001b[0m=\u001b[35m42731\u001b[0m\n",
      "\u001b[2m2025-02-20 19:02:46\u001b[0m [\u001b[32m\u001b[1minfo     \u001b[0m] \u001b[1mrunning ddl 01_fact_teleportr_events_v1.sql\u001b[0m \u001b[36mddl\u001b[0m=\u001b[35m01_fact_teleportr_events_v1.sql\u001b[0m \u001b[36mdt\u001b[0m=\u001b[35m2024-07-02\u001b[0m \u001b[36menv\u001b[0m=\u001b[35mPROD\u001b[0m \u001b[36mfilename\u001b[0m=\u001b[35mtransform.py\u001b[0m \u001b[36mlineno\u001b[0m=\u001b[35m94\u001b[0m \u001b[36mprocess\u001b[0m=\u001b[35m42731\u001b[0m \u001b[36mtask\u001b[0m=\u001b[35m1/4\u001b[0m\n",
      "\u001b[2m2025-02-20 19:03:04\u001b[0m [\u001b[32m\u001b[1minfo     \u001b[0m] \u001b[1m01_fact_teleportr_events_v1.sql -> 5 written rows\u001b[0m \u001b[36mddl\u001b[0m=\u001b[35m01_fact_teleportr_events_v1.sql\u001b[0m \u001b[36mdt\u001b[0m=\u001b[35m2024-07-02\u001b[0m \u001b[36melapsed_ns\u001b[0m=\u001b[35m18315522868\u001b[0m \u001b[36menv\u001b[0m=\u001b[35mPROD\u001b[0m \u001b[36mfilename\u001b[0m=\u001b[35mtransform.py\u001b[0m \u001b[36mlineno\u001b[0m=\u001b[35m107\u001b[0m \u001b[36mprocess\u001b[0m=\u001b[35m42731\u001b[0m \u001b[36mquery_id\u001b[0m=\u001b[35m073b0c3e-d661-4075-8977-3c8b4df8b513\u001b[0m \u001b[36mread_bytes\u001b[0m=\u001b[35m2085532726\u001b[0m \u001b[36mread_rows\u001b[0m=\u001b[35m32350848\u001b[0m \u001b[36mresult_bytes\u001b[0m=\u001b[35m24963\u001b[0m \u001b[36mresult_rows\u001b[0m=\u001b[35m5\u001b[0m \u001b[36mtask\u001b[0m=\u001b[35m1/4\u001b[0m \u001b[36mtotal_rows_to_read\u001b[0m=\u001b[35m52338\u001b[0m \u001b[36mwritten_bytes\u001b[0m=\u001b[35m24963\u001b[0m \u001b[36mwritten_rows\u001b[0m=\u001b[35m5\u001b[0m\n",
      "\u001b[2m2025-02-20 19:03:04\u001b[0m [\u001b[32m\u001b[1minfo     \u001b[0m] \u001b[1mrunning ddl 01_fact_teleportr_events_v1.sql\u001b[0m \u001b[36mddl\u001b[0m=\u001b[35m01_fact_teleportr_events_v1.sql\u001b[0m \u001b[36mdt\u001b[0m=\u001b[35m2024-07-03\u001b[0m \u001b[36menv\u001b[0m=\u001b[35mPROD\u001b[0m \u001b[36mfilename\u001b[0m=\u001b[35mtransform.py\u001b[0m \u001b[36mlineno\u001b[0m=\u001b[35m94\u001b[0m \u001b[36mprocess\u001b[0m=\u001b[35m42731\u001b[0m \u001b[36mtask\u001b[0m=\u001b[35m2/4\u001b[0m\n",
      "\u001b[2m2025-02-20 19:03:29\u001b[0m [\u001b[32m\u001b[1minfo     \u001b[0m] \u001b[1m01_fact_teleportr_events_v1.sql -> 30 written rows\u001b[0m \u001b[36mddl\u001b[0m=\u001b[35m01_fact_teleportr_events_v1.sql\u001b[0m \u001b[36mdt\u001b[0m=\u001b[35m2024-07-03\u001b[0m \u001b[36melapsed_ns\u001b[0m=\u001b[35m25014776029\u001b[0m \u001b[36menv\u001b[0m=\u001b[35mPROD\u001b[0m \u001b[36mfilename\u001b[0m=\u001b[35mtransform.py\u001b[0m \u001b[36mlineno\u001b[0m=\u001b[35m107\u001b[0m \u001b[36mprocess\u001b[0m=\u001b[35m42731\u001b[0m \u001b[36mquery_id\u001b[0m=\u001b[35ma5bce419-3f56-4504-b20e-649b1d96c5d7\u001b[0m \u001b[36mread_bytes\u001b[0m=\u001b[35m2651067079\u001b[0m \u001b[36mread_rows\u001b[0m=\u001b[35m35109152\u001b[0m \u001b[36mresult_bytes\u001b[0m=\u001b[35m40086\u001b[0m \u001b[36mresult_rows\u001b[0m=\u001b[35m30\u001b[0m \u001b[36mtask\u001b[0m=\u001b[35m2/4\u001b[0m \u001b[36mtotal_rows_to_read\u001b[0m=\u001b[35m52338\u001b[0m \u001b[36mwritten_bytes\u001b[0m=\u001b[35m40086\u001b[0m \u001b[36mwritten_rows\u001b[0m=\u001b[35m30\u001b[0m\n",
      "\u001b[2m2025-02-20 19:03:30\u001b[0m [\u001b[32m\u001b[1minfo     \u001b[0m] \u001b[1mrunning ddl 01_fact_teleportr_events_v1.sql\u001b[0m \u001b[36mddl\u001b[0m=\u001b[35m01_fact_teleportr_events_v1.sql\u001b[0m \u001b[36mdt\u001b[0m=\u001b[35m2024-07-04\u001b[0m \u001b[36menv\u001b[0m=\u001b[35mPROD\u001b[0m \u001b[36mfilename\u001b[0m=\u001b[35mtransform.py\u001b[0m \u001b[36mlineno\u001b[0m=\u001b[35m94\u001b[0m \u001b[36mprocess\u001b[0m=\u001b[35m42731\u001b[0m \u001b[36mtask\u001b[0m=\u001b[35m3/4\u001b[0m\n",
      "\u001b[2m2025-02-20 19:03:51\u001b[0m [\u001b[32m\u001b[1minfo     \u001b[0m] \u001b[1m01_fact_teleportr_events_v1.sql -> 38 written rows\u001b[0m \u001b[36mddl\u001b[0m=\u001b[35m01_fact_teleportr_events_v1.sql\u001b[0m \u001b[36mdt\u001b[0m=\u001b[35m2024-07-04\u001b[0m \u001b[36melapsed_ns\u001b[0m=\u001b[35m20848006399\u001b[0m \u001b[36menv\u001b[0m=\u001b[35mPROD\u001b[0m \u001b[36mfilename\u001b[0m=\u001b[35mtransform.py\u001b[0m \u001b[36mlineno\u001b[0m=\u001b[35m107\u001b[0m \u001b[36mprocess\u001b[0m=\u001b[35m42731\u001b[0m \u001b[36mquery_id\u001b[0m=\u001b[35maa3fa41d-2e0e-4459-bdd4-d5ec4c8cf5a2\u001b[0m \u001b[36mread_bytes\u001b[0m=\u001b[35m2848152559\u001b[0m \u001b[36mread_rows\u001b[0m=\u001b[35m35037863\u001b[0m \u001b[36mresult_bytes\u001b[0m=\u001b[35m44704\u001b[0m \u001b[36mresult_rows\u001b[0m=\u001b[35m38\u001b[0m \u001b[36mtask\u001b[0m=\u001b[35m3/4\u001b[0m \u001b[36mtotal_rows_to_read\u001b[0m=\u001b[35m52338\u001b[0m \u001b[36mwritten_bytes\u001b[0m=\u001b[35m44704\u001b[0m \u001b[36mwritten_rows\u001b[0m=\u001b[35m38\u001b[0m\n",
      "\u001b[2m2025-02-20 19:03:51\u001b[0m [\u001b[32m\u001b[1minfo     \u001b[0m] \u001b[1mrunning ddl 01_fact_teleportr_events_v1.sql\u001b[0m \u001b[36mddl\u001b[0m=\u001b[35m01_fact_teleportr_events_v1.sql\u001b[0m \u001b[36mdt\u001b[0m=\u001b[35m2024-07-05\u001b[0m \u001b[36menv\u001b[0m=\u001b[35mPROD\u001b[0m \u001b[36mfilename\u001b[0m=\u001b[35mtransform.py\u001b[0m \u001b[36mlineno\u001b[0m=\u001b[35m94\u001b[0m \u001b[36mprocess\u001b[0m=\u001b[35m42731\u001b[0m \u001b[36mtask\u001b[0m=\u001b[35m4/4\u001b[0m\n",
      "\u001b[2m2025-02-20 19:04:11\u001b[0m [\u001b[32m\u001b[1minfo     \u001b[0m] \u001b[1m01_fact_teleportr_events_v1.sql -> 22 written rows\u001b[0m \u001b[36mddl\u001b[0m=\u001b[35m01_fact_teleportr_events_v1.sql\u001b[0m \u001b[36mdt\u001b[0m=\u001b[35m2024-07-05\u001b[0m \u001b[36melapsed_ns\u001b[0m=\u001b[35m20052049302\u001b[0m \u001b[36menv\u001b[0m=\u001b[35mPROD\u001b[0m \u001b[36mfilename\u001b[0m=\u001b[35mtransform.py\u001b[0m \u001b[36mlineno\u001b[0m=\u001b[35m107\u001b[0m \u001b[36mprocess\u001b[0m=\u001b[35m42731\u001b[0m \u001b[36mquery_id\u001b[0m=\u001b[35mcbc917b4-444f-4fa0-a715-983eca81783e\u001b[0m \u001b[36mread_bytes\u001b[0m=\u001b[35m2771373491\u001b[0m \u001b[36mread_rows\u001b[0m=\u001b[35m34617418\u001b[0m \u001b[36mresult_bytes\u001b[0m=\u001b[35m34282\u001b[0m \u001b[36mresult_rows\u001b[0m=\u001b[35m22\u001b[0m \u001b[36mtask\u001b[0m=\u001b[35m4/4\u001b[0m \u001b[36mtotal_rows_to_read\u001b[0m=\u001b[35m52338\u001b[0m \u001b[36mwritten_bytes\u001b[0m=\u001b[35m34282\u001b[0m \u001b[36mwritten_rows\u001b[0m=\u001b[35m22\u001b[0m\n"
     ]
    }
   ],
   "source": [
    "import os\n",
    "\n",
    "# Override to force BQ write.\n",
    "os.environ[\"OPLABS_ENV\"] = \"prod\"\n",
    "\n",
    "from op_analytics.transforms.main import execute_dt_transforms\n",
    "\n",
    "results = execute_dt_transforms(\n",
    "    group_name=\"teleportr\",\n",
    "    range_spec=\"@20240702:20240706\",\n",
    "    # range_spec=\"@20250215:+1\",\n",
    "    update_only=[1],\n",
    "    skip_create=True,\n",
    "    raise_if_empty=True,\n",
    "    max_tasks=None,\n",
    "    force_complete=True,\n",
    ")"
   ]
  }
 ],
 "metadata": {
  "kernelspec": {
   "display_name": ".venv",
   "language": "python",
   "name": "python3"
  },
  "language_info": {
   "codemirror_mode": {
    "name": "ipython",
    "version": 3
   },
   "file_extension": ".py",
   "mimetype": "text/x-python",
   "name": "python",
   "nbconvert_exporter": "python",
   "pygments_lexer": "ipython3",
   "version": "3.12.3"
  }
 },
 "nbformat": 4,
 "nbformat_minor": 2
}
