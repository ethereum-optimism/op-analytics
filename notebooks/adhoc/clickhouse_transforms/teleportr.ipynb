{
 "cells": [
  {
   "cell_type": "code",
   "execution_count": 19,
   "metadata": {},
   "outputs": [
    {
     "name": "stdout",
     "output_type": "stream",
     "text": [
      "\u001b[2m2025-02-22 23:57:29\u001b[0m [\u001b[32m\u001b[1minfo     \u001b[0m] \u001b[1m2/2 markers pending.          \u001b[0m \u001b[36menv\u001b[0m=\u001b[35mPROD\u001b[0m \u001b[36mfilename\u001b[0m=\u001b[35mmain.py\u001b[0m \u001b[36mlineno\u001b[0m=\u001b[35m54\u001b[0m \u001b[36mprocess\u001b[0m=\u001b[35m20323\u001b[0m\n",
      "\u001b[2m2025-02-22 23:57:29\u001b[0m [\u001b[32m\u001b[1minfo     \u001b[0m] \u001b[1mPrepared 2 transform tasks.   \u001b[0m \u001b[36menv\u001b[0m=\u001b[35mPROD\u001b[0m \u001b[36mfilename\u001b[0m=\u001b[35mmain.py\u001b[0m \u001b[36mlineno\u001b[0m=\u001b[35m68\u001b[0m \u001b[36mprocess\u001b[0m=\u001b[35m20323\u001b[0m\n",
      "\u001b[2m2025-02-22 23:57:30\u001b[0m [\u001b[32m\u001b[1minfo     \u001b[0m] \u001b[1mfact_teleportr_events_v1.sql -> 0 written rows\u001b[0m \u001b[36mddl\u001b[0m=\u001b[35mfact_teleportr_events_v1.sql\u001b[0m \u001b[36mdt\u001b[0m=\u001b[35m2024-09-24\u001b[0m \u001b[36melapsed_ns\u001b[0m=\u001b[35m86522256\u001b[0m \u001b[36menv\u001b[0m=\u001b[35mPROD\u001b[0m \u001b[36mfilename\u001b[0m=\u001b[35mcreate.py\u001b[0m \u001b[36mlineno\u001b[0m=\u001b[35m44\u001b[0m \u001b[36mprocess\u001b[0m=\u001b[35m20323\u001b[0m \u001b[36mquery_id\u001b[0m=\u001b[35m2a19ea9a-bc52-446f-839e-2887fcf74f12\u001b[0m \u001b[36mread_bytes\u001b[0m=\u001b[35m284\u001b[0m \u001b[36mread_rows\u001b[0m=\u001b[35m4\u001b[0m \u001b[36mresult_bytes\u001b[0m=\u001b[35m0\u001b[0m \u001b[36mresult_rows\u001b[0m=\u001b[35m0\u001b[0m \u001b[36mtask\u001b[0m=\u001b[35m1/2\u001b[0m \u001b[36mtotal_rows_to_read\u001b[0m=\u001b[35m4\u001b[0m \u001b[36mwritten_bytes\u001b[0m=\u001b[35m0\u001b[0m \u001b[36mwritten_rows\u001b[0m=\u001b[35m0\u001b[0m\n",
      "\u001b[2m2025-02-22 23:57:30\u001b[0m [\u001b[32m\u001b[1minfo     \u001b[0m] \u001b[1mrunning ddl 01_fact_teleportr_events_v1.sql\u001b[0m \u001b[36mddl\u001b[0m=\u001b[35m01_fact_teleportr_events_v1.sql\u001b[0m \u001b[36mdt\u001b[0m=\u001b[35m2024-09-24\u001b[0m \u001b[36menv\u001b[0m=\u001b[35mPROD\u001b[0m \u001b[36mfilename\u001b[0m=\u001b[35mtransform.py\u001b[0m \u001b[36mlineno\u001b[0m=\u001b[35m94\u001b[0m \u001b[36mprocess\u001b[0m=\u001b[35m20323\u001b[0m \u001b[36mtask\u001b[0m=\u001b[35m1/2\u001b[0m\n",
      "\u001b[2m2025-02-22 23:57:46\u001b[0m [\u001b[32m\u001b[1minfo     \u001b[0m] \u001b[1m01_fact_teleportr_events_v1.sql -> 446 written rows\u001b[0m \u001b[36mddl\u001b[0m=\u001b[35m01_fact_teleportr_events_v1.sql\u001b[0m \u001b[36mdt\u001b[0m=\u001b[35m2024-09-24\u001b[0m \u001b[36melapsed_ns\u001b[0m=\u001b[35m16519777480\u001b[0m \u001b[36menv\u001b[0m=\u001b[35mPROD\u001b[0m \u001b[36mfilename\u001b[0m=\u001b[35mtransform.py\u001b[0m \u001b[36mlineno\u001b[0m=\u001b[35m107\u001b[0m \u001b[36mprocess\u001b[0m=\u001b[35m20323\u001b[0m \u001b[36mquery_id\u001b[0m=\u001b[35mfe3aac04-19d0-4e92-be15-016df1a56bcf\u001b[0m \u001b[36mread_bytes\u001b[0m=\u001b[35m2122106155\u001b[0m \u001b[36mread_rows\u001b[0m=\u001b[35m28901149\u001b[0m \u001b[36mresult_bytes\u001b[0m=\u001b[35m308160\u001b[0m \u001b[36mresult_rows\u001b[0m=\u001b[35m446\u001b[0m \u001b[36mtask\u001b[0m=\u001b[35m1/2\u001b[0m \u001b[36mtotal_rows_to_read\u001b[0m=\u001b[35m65674\u001b[0m \u001b[36mwritten_bytes\u001b[0m=\u001b[35m308160\u001b[0m \u001b[36mwritten_rows\u001b[0m=\u001b[35m446\u001b[0m\n",
      "\u001b[2m2025-02-22 23:57:47\u001b[0m [\u001b[32m\u001b[1minfo     \u001b[0m] \u001b[1mfact_teleportr_events_v1.sql -> 0 written rows\u001b[0m \u001b[36mddl\u001b[0m=\u001b[35mfact_teleportr_events_v1.sql\u001b[0m \u001b[36mdt\u001b[0m=\u001b[35m2024-09-25\u001b[0m \u001b[36melapsed_ns\u001b[0m=\u001b[35m82768897\u001b[0m \u001b[36menv\u001b[0m=\u001b[35mPROD\u001b[0m \u001b[36mfilename\u001b[0m=\u001b[35mcreate.py\u001b[0m \u001b[36mlineno\u001b[0m=\u001b[35m44\u001b[0m \u001b[36mprocess\u001b[0m=\u001b[35m20323\u001b[0m \u001b[36mquery_id\u001b[0m=\u001b[35m04672bc2-36f4-4894-9c26-dfa4818aeb37\u001b[0m \u001b[36mread_bytes\u001b[0m=\u001b[35m284\u001b[0m \u001b[36mread_rows\u001b[0m=\u001b[35m4\u001b[0m \u001b[36mresult_bytes\u001b[0m=\u001b[35m0\u001b[0m \u001b[36mresult_rows\u001b[0m=\u001b[35m0\u001b[0m \u001b[36mtask\u001b[0m=\u001b[35m2/2\u001b[0m \u001b[36mtotal_rows_to_read\u001b[0m=\u001b[35m4\u001b[0m \u001b[36mwritten_bytes\u001b[0m=\u001b[35m0\u001b[0m \u001b[36mwritten_rows\u001b[0m=\u001b[35m0\u001b[0m\n",
      "\u001b[2m2025-02-22 23:57:47\u001b[0m [\u001b[32m\u001b[1minfo     \u001b[0m] \u001b[1mrunning ddl 01_fact_teleportr_events_v1.sql\u001b[0m \u001b[36mddl\u001b[0m=\u001b[35m01_fact_teleportr_events_v1.sql\u001b[0m \u001b[36mdt\u001b[0m=\u001b[35m2024-09-25\u001b[0m \u001b[36menv\u001b[0m=\u001b[35mPROD\u001b[0m \u001b[36mfilename\u001b[0m=\u001b[35mtransform.py\u001b[0m \u001b[36mlineno\u001b[0m=\u001b[35m94\u001b[0m \u001b[36mprocess\u001b[0m=\u001b[35m20323\u001b[0m \u001b[36mtask\u001b[0m=\u001b[35m2/2\u001b[0m\n",
      "\u001b[2m2025-02-22 23:58:04\u001b[0m [\u001b[32m\u001b[1minfo     \u001b[0m] \u001b[1m01_fact_teleportr_events_v1.sql -> 363 written rows\u001b[0m \u001b[36mddl\u001b[0m=\u001b[35m01_fact_teleportr_events_v1.sql\u001b[0m \u001b[36mdt\u001b[0m=\u001b[35m2024-09-25\u001b[0m \u001b[36melapsed_ns\u001b[0m=\u001b[35m17283554900\u001b[0m \u001b[36menv\u001b[0m=\u001b[35mPROD\u001b[0m \u001b[36mfilename\u001b[0m=\u001b[35mtransform.py\u001b[0m \u001b[36mlineno\u001b[0m=\u001b[35m107\u001b[0m \u001b[36mprocess\u001b[0m=\u001b[35m20323\u001b[0m \u001b[36mquery_id\u001b[0m=\u001b[35m892d0f9a-7f37-4da5-8798-d65ead290be8\u001b[0m \u001b[36mread_bytes\u001b[0m=\u001b[35m2159871143\u001b[0m \u001b[36mread_rows\u001b[0m=\u001b[35m31045792\u001b[0m \u001b[36mresult_bytes\u001b[0m=\u001b[35m256010\u001b[0m \u001b[36mresult_rows\u001b[0m=\u001b[35m363\u001b[0m \u001b[36mtask\u001b[0m=\u001b[35m2/2\u001b[0m \u001b[36mtotal_rows_to_read\u001b[0m=\u001b[35m65674\u001b[0m \u001b[36mwritten_bytes\u001b[0m=\u001b[35m256010\u001b[0m \u001b[36mwritten_rows\u001b[0m=\u001b[35m363\u001b[0m\n"
     ]
    }
   ],
   "source": [
    "import os\n",
    "\n",
    "# Override to force BQ write.\n",
    "os.environ[\"OPLABS_ENV\"] = \"prod\"\n",
    "\n",
    "from op_analytics.transforms.main import execute_dt_transforms\n",
    "\n",
    "results = execute_dt_transforms(\n",
    "    group_name=\"teleportr\",\n",
    "    range_spec=\"@20240924:20240926\",\n",
    "    # range_spec=\"@20240924:+1\",\n",
    "    update_only=[1],\n",
    "    skip_create=False,\n",
    "    raise_if_empty=True,\n",
    "    max_tasks=None,\n",
    "    force_complete=True,\n",
    ")"
   ]
  }
 ],
 "metadata": {
  "kernelspec": {
   "display_name": ".venv",
   "language": "python",
   "name": "python3"
  },
  "language_info": {
   "codemirror_mode": {
    "name": "ipython",
    "version": 3
   },
   "file_extension": ".py",
   "mimetype": "text/x-python",
   "name": "python",
   "nbconvert_exporter": "python",
   "pygments_lexer": "ipython3",
   "version": "3.12.3"
  }
 },
 "nbformat": 4,
 "nbformat_minor": 2
}
