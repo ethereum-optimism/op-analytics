{
  "cells": [
    {
      "cell_type": "markdown",
      "metadata": {
        "vscode": {
          "languageId": "raw"
        }
      },
      "source": [
        "# Fees Sankey Diagram Prototype\n",
        "\n",
        "This notebook demonstrates how to generate and visualize Superchain fee flows using a Sankey diagram.\n",
        "\n",
        "We'll focus on **Base** with **28 days** of data as our test case.\n",
        "\n",
        "## Overview\n",
        "\n",
        "The Sankey diagram shows the hierarchical breakdown of fees:\n",
        "- **Level 1 (Main categories):** Chain, MEV, Stablecoin, App fees (must sum to 100%)\n",
        "- **Level 2 (Sub-breakdowns):** Revenue shares and components within each category\n",
        "\n",
        "## Revenue Flow Structure\n",
        "\n",
        "**Chain fees:** Revenue share to Optimism + Revenue to Chain + Gas costs + Remaining  \n",
        "**MEV fees:** Revenue share to App + Remaining  \n",
        "**Stablecoin fees:** Revenue share to App + Remaining  \n",
        "**App fees:** Revenue to App + Remaining  \n"
      ]
    },
    {
      "cell_type": "code",
      "execution_count": 1,
      "metadata": {},
      "outputs": [
        {
          "name": "stdout",
          "output_type": "stream",
          "text": [
            "✅ Imports successful!\n"
          ]
        }
      ],
      "source": [
        "import pandas as pd\n",
        "import plotly.graph_objects as go\n",
        "from plotly.offline import iplot\n",
        "import plotly.io as pio\n",
        "\n",
        "# Set up plotly for notebook display\n",
        "pio.renderers.default = \"notebook\"\n",
        "\n",
        "# Import our fees sankey function\n",
        "from op_analytics.transforms.fees_sankey.generate_sankey_fees_dataset import execute_pull\n",
        "\n",
        "print(\"✅ Imports successful!\")\n"
      ]
    },
    {
      "cell_type": "markdown",
      "metadata": {
        "vscode": {
          "languageId": "raw"
        }
      },
      "source": [
        "## Generate Sankey Data\n",
        "\n",
        "Let's generate the fee flow data using our transform function with dry-run mode to avoid writing to databases.\n"
      ]
    },
    {
      "cell_type": "code",
      "execution_count": 2,
      "metadata": {},
      "outputs": [
        {
          "name": "stdout",
          "output_type": "stream",
          "text": [
            "\u001b[2m2025-07-15 16:43:23\u001b[0m [\u001b[32m\u001b[1minfo     \u001b[0m] \u001b[1mStarting Sankey fees dataset generation\u001b[0m \u001b[36mdays\u001b[0m=\u001b[35m28\u001b[0m \u001b[36mdry_run\u001b[0m=\u001b[35mTrue\u001b[0m \u001b[36mfilename\u001b[0m=\u001b[35mgenerate_sankey_fees_dataset.py\u001b[0m \u001b[36mlineno\u001b[0m=\u001b[35m411\u001b[0m \u001b[36mpipeline_step\u001b[0m=\u001b[35mfees_sankey\u001b[0m \u001b[36mprocess\u001b[0m=\u001b[35m46820\u001b[0m\n",
            "\u001b[2m2025-07-15 16:43:25\u001b[0m [\u001b[32m\u001b[1minfo     \u001b[0m] \u001b[1mQuerying source data          \u001b[0m \u001b[36mfilename\u001b[0m=\u001b[35mgenerate_sankey_fees_dataset.py\u001b[0m \u001b[36mlineno\u001b[0m=\u001b[35m417\u001b[0m \u001b[36mpipeline_step\u001b[0m=\u001b[35mfees_sankey\u001b[0m \u001b[36mprocess\u001b[0m=\u001b[35m46820\u001b[0m \u001b[36mtable\u001b[0m=\u001b[35moplabs-tools-data.materialized_tables.daily_superchain_health_mv\u001b[0m\n",
            "\u001b[2m2025-07-15 16:43:26\u001b[0m [\u001b[32m\u001b[1minfo     \u001b[0m] \u001b[1mRetrieved chains with fee data\u001b[0m \u001b[36mchains_count\u001b[0m=\u001b[35m66\u001b[0m \u001b[36mfilename\u001b[0m=\u001b[35mgenerate_sankey_fees_dataset.py\u001b[0m \u001b[36mlineno\u001b[0m=\u001b[35m429\u001b[0m \u001b[36mmax_rss\u001b[0m=\u001b[35m192.1\u001b[0m \u001b[36mpipeline_step\u001b[0m=\u001b[35mfees_sankey\u001b[0m \u001b[36mprocess\u001b[0m=\u001b[35m46820\u001b[0m\n",
            "\u001b[2m2025-07-15 16:43:26\u001b[0m [\u001b[32m\u001b[1minfo     \u001b[0m] \u001b[1mFee data summary              \u001b[0m \u001b[36mfilename\u001b[0m=\u001b[35mgenerate_sankey_fees_dataset.py\u001b[0m \u001b[36mlineno\u001b[0m=\u001b[35m435\u001b[0m \u001b[36mmax_fees_usd\u001b[0m=\u001b[35mnp.float64(676014.7496697985)\u001b[0m \u001b[36mmin_fees_usd\u001b[0m=\u001b[35mnp.float64(0.003217326523783194)\u001b[0m \u001b[36mpipeline_step\u001b[0m=\u001b[35mfees_sankey\u001b[0m \u001b[36mprocess\u001b[0m=\u001b[35m46820\u001b[0m\n",
            "\u001b[2m2025-07-15 16:43:26\u001b[0m [\u001b[32m\u001b[1minfo     \u001b[0m] \u001b[1mProcessing fee flows          \u001b[0m \u001b[36mfilename\u001b[0m=\u001b[35mgenerate_sankey_fees_dataset.py\u001b[0m \u001b[36mlineno\u001b[0m=\u001b[35m446\u001b[0m \u001b[36mpipeline_step\u001b[0m=\u001b[35mfees_sankey\u001b[0m \u001b[36mprocess\u001b[0m=\u001b[35m46820\u001b[0m\n",
            "\u001b[2m2025-07-15 16:43:26\u001b[0m [\u001b[32m\u001b[1minfo     \u001b[0m] \u001b[1mGenerated fee flow edges      \u001b[0m \u001b[36medges_count\u001b[0m=\u001b[35m316\u001b[0m \u001b[36mfilename\u001b[0m=\u001b[35mgenerate_sankey_fees_dataset.py\u001b[0m \u001b[36mlineno\u001b[0m=\u001b[35m448\u001b[0m \u001b[36mpipeline_step\u001b[0m=\u001b[35mfees_sankey\u001b[0m \u001b[36mprocess\u001b[0m=\u001b[35m46820\u001b[0m\n",
            "\u001b[2m2025-07-15 16:43:26\u001b[0m [\u001b[32m\u001b[1minfo     \u001b[0m] \u001b[1mValidating output dataset     \u001b[0m \u001b[36mfilename\u001b[0m=\u001b[35mgenerate_sankey_fees_dataset.py\u001b[0m \u001b[36mlineno\u001b[0m=\u001b[35m315\u001b[0m \u001b[36mpipeline_step\u001b[0m=\u001b[35mfees_sankey\u001b[0m \u001b[36mprocess\u001b[0m=\u001b[35m46820\u001b[0m\n",
            "\u001b[2m2025-07-15 16:43:26\u001b[0m [\u001b[32m\u001b[1minfo     \u001b[0m] \u001b[1mSchema validation passed      \u001b[0m \u001b[36mcolumns\u001b[0m=\u001b[35m['chain_set', 'source', 'destination', 'value', 'pct_of_total_fees_usd']\u001b[0m \u001b[36mfilename\u001b[0m=\u001b[35mgenerate_sankey_fees_dataset.py\u001b[0m \u001b[36mlineno\u001b[0m=\u001b[35m324\u001b[0m \u001b[36mpipeline_step\u001b[0m=\u001b[35mfees_sankey\u001b[0m \u001b[36mprocess\u001b[0m=\u001b[35m46820\u001b[0m\n",
            "\u001b[2m2025-07-15 16:43:26\u001b[0m [\u001b[32m\u001b[1minfo     \u001b[0m] \u001b[1mLevel 1 percentage validation \u001b[0m \u001b[36mfilename\u001b[0m=\u001b[35mgenerate_sankey_fees_dataset.py\u001b[0m \u001b[36mlineno\u001b[0m=\u001b[35m331\u001b[0m \u001b[36mpipeline_step\u001b[0m=\u001b[35mfees_sankey\u001b[0m \u001b[36mprocess\u001b[0m=\u001b[35m46820\u001b[0m\n",
            "\u001b[2m2025-07-15 16:43:26\u001b[0m [\u001b[32m\u001b[1minfo     \u001b[0m] \u001b[1mAll Level 1 percentages sum to 100%\u001b[0m \u001b[36mchains_count\u001b[0m=\u001b[35m66\u001b[0m \u001b[36mfilename\u001b[0m=\u001b[35mgenerate_sankey_fees_dataset.py\u001b[0m \u001b[36mlineno\u001b[0m=\u001b[35m338\u001b[0m \u001b[36mpipeline_step\u001b[0m=\u001b[35mfees_sankey\u001b[0m \u001b[36mprocess\u001b[0m=\u001b[35m46820\u001b[0m\n",
            "\u001b[2m2025-07-15 16:43:26\u001b[0m [\u001b[32m\u001b[1minfo     \u001b[0m] \u001b[1mEdge type breakdown           \u001b[0m \u001b[36medge_types\u001b[0m=\u001b[35m{'total_fees_usd': 115, 'total_chain_fees_usd': 114, 'total_app_fees_usd_excl_stable_mev': 82, 'total_mev_fees_usd': 4, 'total_stablecoin_fees_usd': 1}\u001b[0m \u001b[36mfilename\u001b[0m=\u001b[35mgenerate_sankey_fees_dataset.py\u001b[0m \u001b[36mlineno\u001b[0m=\u001b[35m342\u001b[0m \u001b[36mpipeline_step\u001b[0m=\u001b[35mfees_sankey\u001b[0m \u001b[36mprocess\u001b[0m=\u001b[35m46820\u001b[0m \u001b[36mtotal_edges\u001b[0m=\u001b[35m316\u001b[0m\n",
            "\u001b[2m2025-07-15 16:43:26\u001b[0m [\u001b[32m\u001b[1minfo     \u001b[0m] \u001b[1mSample Level 2 edges          \u001b[0m \u001b[36mfilename\u001b[0m=\u001b[35mgenerate_sankey_fees_dataset.py\u001b[0m \u001b[36mlineno\u001b[0m=\u001b[35m350\u001b[0m \u001b[36mpipeline_step\u001b[0m=\u001b[35mfees_sankey\u001b[0m \u001b[36mprocess\u001b[0m=\u001b[35m46820\u001b[0m \u001b[36msample_data\u001b[0m=\u001b[35m[{'chain_set': 'Bitcoin', 'source': 'total_chain_fees_usd', 'destination': 'remaining_chain_fees_usd', 'value': 676014.7496697985, 'pct_of_total_fees_usd': 96.31777761377788}, {'chain_set': 'Bitcoin', 'source': 'total_app_fees_usd_excl_stable_mev', 'destination': 'total_app_revenue_usd_excl_stable_mev', 'value': 22969.0, 'pct_of_total_fees_usd': 3.2725958051824757}, {'chain_set': 'Bitcoin', 'source': 'total_app_fees_usd_excl_stable_mev', 'destination': 'remaining_app_fees_usd_excl_stable_mev', 'value': 2875.0, 'pct_of_total_fees_usd': 0.4096265810396455}, {'chain_set': 'Base', 'source': 'total_chain_fees_usd', 'destination': 'revshare_estimated_usd', 'value': 16285.827373132564, 'pct_of_total_fees_usd': 0.6507665790775451}, {'chain_set': 'Base', 'source': 'total_chain_fees_usd', 'destination': 'chain_governor_profit_estimated_usd', 'value': 92286.35511441786, 'pct_of_total_fees_usd': 3.6876772814394227}]\u001b[0m\n",
            "\u001b[2m2025-07-15 16:43:26\u001b[0m [\u001b[32m\u001b[1minfo     \u001b[0m] \u001b[1mSample output preview         \u001b[0m \u001b[36mfilename\u001b[0m=\u001b[35mgenerate_sankey_fees_dataset.py\u001b[0m \u001b[36mlineno\u001b[0m=\u001b[35m458\u001b[0m \u001b[36mpipeline_step\u001b[0m=\u001b[35mfees_sankey\u001b[0m \u001b[36mprocess\u001b[0m=\u001b[35m46820\u001b[0m\n",
            "\u001b[2m2025-07-15 16:43:26\u001b[0m [\u001b[32m\u001b[1minfo     \u001b[0m] \u001b[1mchain_set                             source                            destination        value  pct_of_total_fees_usd\n",
            "  Bitcoin                     total_fees_usd                   total_chain_fees_usd 6.760147e+05              96.317778\n",
            "  Bitcoin                     total_fees_usd     total_app_fees_usd_excl_stable_mev 2.584400e+04               3.682222\n",
            "  Bitcoin               total_chain_fees_usd               remaining_chain_fees_usd 6.760147e+05              96.317778\n",
            "  Bitcoin total_app_fees_usd_excl_stable_mev  total_app_revenue_usd_excl_stable_mev 2.296900e+04               3.272596\n",
            "  Bitcoin total_app_fees_usd_excl_stable_mev remaining_app_fees_usd_excl_stable_mev 2.875000e+03               0.409627\n",
            "     Base                     total_fees_usd                   total_chain_fees_usd 1.109525e+05               4.433559\n",
            "     Base                     total_fees_usd     total_app_fees_usd_excl_stable_mev 2.391608e+06              95.566441\n",
            "     Base               total_chain_fees_usd                 revshare_estimated_usd 1.628583e+04               0.650767\n",
            "     Base               total_chain_fees_usd    chain_governor_profit_estimated_usd 9.228636e+04               3.687677\n",
            "     Base               total_chain_fees_usd                  usd_gas_costs_per_day 2.380320e+03               0.095115\u001b[0m \u001b[36mfilename\u001b[0m=\u001b[35mgenerate_sankey_fees_dataset.py\u001b[0m \u001b[36mlineno\u001b[0m=\u001b[35m459\u001b[0m \u001b[36mpipeline_step\u001b[0m=\u001b[35mfees_sankey\u001b[0m \u001b[36mprocess\u001b[0m=\u001b[35m46820\u001b[0m\n",
            "\u001b[2m2025-07-15 16:43:26\u001b[0m [\u001b[32m\u001b[1minfo     \u001b[0m] \u001b[1mDry run complete - no data written\u001b[0m \u001b[36mfilename\u001b[0m=\u001b[35mgenerate_sankey_fees_dataset.py\u001b[0m \u001b[36mlineno\u001b[0m=\u001b[35m466\u001b[0m \u001b[36mpipeline_step\u001b[0m=\u001b[35mfees_sankey\u001b[0m \u001b[36mprocess\u001b[0m=\u001b[35m46820\u001b[0m\n",
            "\u001b[2m2025-07-15 16:43:26\u001b[0m [\u001b[32m\u001b[1minfo     \u001b[0m] \u001b[1mSankey fees dataset generation complete\u001b[0m \u001b[36mfilename\u001b[0m=\u001b[35mgenerate_sankey_fees_dataset.py\u001b[0m \u001b[36mlineno\u001b[0m=\u001b[35m468\u001b[0m \u001b[36mmax_rss\u001b[0m=\u001b[35m192.1\u001b[0m \u001b[36mpipeline_step\u001b[0m=\u001b[35mfees_sankey\u001b[0m \u001b[36mprocess\u001b[0m=\u001b[35m46820\u001b[0m\n",
            "Execution Summary:\n",
            "  chains_processed: 66\n",
            "  edges_generated: 316\n",
            "  level1_edges: 115\n",
            "  level2_edges: 201\n",
            "  dry_run: True\n"
          ]
        },
        {
          "ename": "KeyError",
          "evalue": "'dataframe'",
          "output_type": "error",
          "traceback": [
            "\u001b[31m---------------------------------------------------------------------------\u001b[39m",
            "\u001b[31mKeyError\u001b[39m                                  Traceback (most recent call last)",
            "\u001b[36mCell\u001b[39m\u001b[36m \u001b[39m\u001b[32mIn[2]\u001b[39m\u001b[32m, line 9\u001b[39m\n\u001b[32m      6\u001b[39m     \u001b[38;5;28mprint\u001b[39m(\u001b[33mf\u001b[39m\u001b[33m\"\u001b[39m\u001b[33m  \u001b[39m\u001b[38;5;132;01m{\u001b[39;00mkey\u001b[38;5;132;01m}\u001b[39;00m\u001b[33m: \u001b[39m\u001b[38;5;132;01m{\u001b[39;00mvalue\u001b[38;5;132;01m}\u001b[39;00m\u001b[33m\"\u001b[39m)\n\u001b[32m      8\u001b[39m \u001b[38;5;66;03m# Get the generated DataFrame\u001b[39;00m\n\u001b[32m----> \u001b[39m\u001b[32m9\u001b[39m df = \u001b[43mresult\u001b[49m\u001b[43m[\u001b[49m\u001b[33;43m'\u001b[39;49m\u001b[33;43mdataframe\u001b[39;49m\u001b[33;43m'\u001b[39;49m\u001b[43m]\u001b[49m\n\u001b[32m     10\u001b[39m \u001b[38;5;28mprint\u001b[39m(\u001b[33mf\u001b[39m\u001b[33m\"\u001b[39m\u001b[38;5;130;01m\\n\u001b[39;00m\u001b[33m📊 Generated \u001b[39m\u001b[38;5;132;01m{\u001b[39;00m\u001b[38;5;28mlen\u001b[39m(df)\u001b[38;5;132;01m}\u001b[39;00m\u001b[33m fee flow edges\u001b[39m\u001b[33m\"\u001b[39m)\n\u001b[32m     11\u001b[39m \u001b[38;5;28mprint\u001b[39m(\u001b[33mf\u001b[39m\u001b[33m\"\u001b[39m\u001b[33m📈 Total fee value: $\u001b[39m\u001b[38;5;132;01m{\u001b[39;00mdf[\u001b[33m'\u001b[39m\u001b[33mvalue\u001b[39m\u001b[33m'\u001b[39m].sum()\u001b[38;5;132;01m:\u001b[39;00m\u001b[33m,.2f\u001b[39m\u001b[38;5;132;01m}\u001b[39;00m\u001b[33m\"\u001b[39m)\n",
            "\u001b[31mKeyError\u001b[39m: 'dataframe'"
          ]
        }
      ],
      "source": [
        "# Generate the fee flow data (28 days lookback, dry-run mode)\n",
        "result = execute_pull(days=28, dry_run=True)\n",
        "\n",
        "print(\"Execution Summary:\")\n",
        "for key, value in result.items():\n",
        "    print(f\"  {key}: {value}\")\n",
        "\n",
        "# Get the generated DataFrame\n",
        "df = result['dataframe']\n",
        "print(f\"\\n📊 Generated {len(df)} fee flow edges\")\n",
        "print(f\"📈 Total fee value: ${df['value'].sum():,.2f}\")\n",
        "\n",
        "# Show sample of the data\n",
        "print(\"\\n🔍 Sample data:\")\n",
        "df.head(10)\n"
      ]
    },
    {
      "cell_type": "markdown",
      "metadata": {
        "vscode": {
          "languageId": "raw"
        }
      },
      "source": [
        "## Filter for Base\n",
        "\n",
        "Let's focus on Base data for our Sankey visualization test case.\n"
      ]
    },
    {
      "cell_type": "code",
      "execution_count": null,
      "metadata": {},
      "outputs": [],
      "source": [
        "# Filter for Base\n",
        "base_df = df[df['chain_set'] == 'Base'].copy()\n",
        "\n",
        "print(f\"📍 Base fee flow edges: {len(base_df)}\")\n",
        "print(f\"💰 Base total fees: ${base_df['value'].sum():,.2f}\")\n",
        "\n",
        "# Show breakdown by level\n",
        "level1_df = base_df[base_df['source'] == 'Total Fees']\n",
        "level2_df = base_df[base_df['source'] != 'Total Fees']\n",
        "\n",
        "print(f\"\\n📊 Level 1 edges (main categories): {len(level1_df)}\")\n",
        "print(f\"📊 Level 2 edges (sub-breakdowns): {len(level2_df)}\")\n",
        "\n",
        "print(f\"\\n✅ Level 1 percentage check: {level1_df['pct_of_total_fees_usd'].sum():.1f}% (should be 100%)\")\n",
        "\n",
        "print(\"\\n🔍 Base data:\")\n",
        "base_df.sort_values('value', ascending=False)\n"
      ]
    },
    {
      "cell_type": "markdown",
      "metadata": {
        "vscode": {
          "languageId": "raw"
        }
      },
      "source": [
        "## Create Sankey Diagram\n",
        "\n",
        "Now let's create a beautiful Sankey diagram using Plotly. We'll need to:\n",
        "1. Build node lists (all unique sources and destinations)\n",
        "2. Create links with proper indices\n",
        "3. Apply colors and formatting\n"
      ]
    },
    {
      "cell_type": "code",
      "execution_count": null,
      "metadata": {},
      "outputs": [],
      "source": [
        "def create_sankey_diagram(df, title=\"Superchain Fee Flows\"):\n",
        "    \"\"\"Create a Plotly Sankey diagram from fee flow data.\"\"\"\n",
        "    \n",
        "    # Filter out zero-value flows for cleaner visualization\n",
        "    df_filtered = df[df['value'] > 0].copy()\n",
        "    \n",
        "    # Get all unique nodes (sources and destinations)\n",
        "    all_sources = df_filtered['source'].unique()\n",
        "    all_destinations = df_filtered['destination'].unique()\n",
        "    all_nodes = list(set(list(all_sources) + list(all_destinations)))\n",
        "    \n",
        "    # Create node index mapping\n",
        "    node_indices = {node: i for i, node in enumerate(all_nodes)}\n",
        "    \n",
        "    # Create source and target indices for links\n",
        "    source_indices = [node_indices[source] for source in df_filtered['source']]\n",
        "    target_indices = [node_indices[dest] for dest in df_filtered['destination']]\n",
        "    values = df_filtered['value'].tolist()\n",
        "    \n",
        "    # Define colors for different node types\n",
        "    node_colors = []\n",
        "    for node in all_nodes:\n",
        "        if node == 'Total Fees':\n",
        "            node_colors.append('#1f77b4')  # Blue for total\n",
        "        elif 'fees' in node.lower():\n",
        "            node_colors.append('#ff7f0e')  # Orange for fee categories\n",
        "        elif 'revenue' in node.lower() or 'optimism' in node.lower():\n",
        "            node_colors.append('#2ca02c')  # Green for revenue\n",
        "        elif 'remaining' in node.lower():\n",
        "            node_colors.append('#d62728')  # Red for remaining\n",
        "        elif 'gas' in node.lower():\n",
        "            node_colors.append('#9467bd')  # Purple for gas costs\n",
        "        else:\n",
        "            node_colors.append('#8c564b')  # Brown for others\n",
        "    \n",
        "    # Create labels with values for better readability\n",
        "    node_labels = []\n",
        "    for node in all_nodes:\n",
        "        # Calculate total inflow for this node\n",
        "        inflow = df_filtered[df_filtered['destination'] == node]['value'].sum()\n",
        "        if inflow > 0:\n",
        "            node_labels.append(f\"{node}<br>${inflow:,.0f}\")\n",
        "        else:\n",
        "            node_labels.append(node)\n",
        "    \n",
        "    # Create the Sankey diagram\n",
        "    fig = go.Figure(data=[go.Sankey(\n",
        "        node=dict(\n",
        "            pad=15,\n",
        "            thickness=20,\n",
        "            line=dict(color=\"black\", width=0.5),\n",
        "            label=node_labels,\n",
        "            color=node_colors\n",
        "        ),\n",
        "        link=dict(\n",
        "            source=source_indices,\n",
        "            target=target_indices,\n",
        "            value=values,\n",
        "            color=['rgba(255,127,14,0.4)' for _ in values]  # Semi-transparent orange\n",
        "        )\n",
        "    )])\\n    \n",
        "    fig.update_layout(\n",
        "        title_text=f\"{title}<br><sub>28-day lookback • Values in USD</sub>\",\n",
        "        font_size=10,\n",
        "        width=1000,\n",
        "        height=600\n",
        "    )\\n    \n",
        "    return fig\n",
        "\n",
        "# Create and display the Sankey diagram\n",
        "sankey_fig = create_sankey_diagram(base_df, \"Base Fee Flows\")\n",
        "sankey_fig.show()\n"
      ]
    },
    {
      "cell_type": "raw",
      "metadata": {
        "vscode": {
          "languageId": "raw"
        }
      },
      "source": [
        "## Analysis Summary\n",
        "\n",
        "Let's examine the key insights from our Base fee flow analysis.\n"
      ]
    },
    {
      "cell_type": "code",
      "execution_count": null,
      "metadata": {},
      "outputs": [],
      "source": [
        "# Detailed analysis of Base fee flows\n",
        "print(\"🔍 BASE FEE FLOW ANALYSIS\")\n",
        "print(\"=\" * 50)\n",
        "\n",
        "total_fees = base_df['value'].sum()\n",
        "print(f\"💰 Total Fee Volume: ${total_fees:,.2f}\")\n",
        "\n",
        "print(f\"\\n📊 LEVEL 1 BREAKDOWN (Main Categories):\")\n",
        "for _, row in level1_df.sort_values('value', ascending=False).iterrows():\n",
        "    print(f\"  • {row['destination']:20} ${row['value']:>10,.0f} ({row['pct_of_total_fees_usd']:>5.1f}%)\")\n",
        "\n",
        "print(f\"\\n🔧 LEVEL 2 BREAKDOWN (Sub-components):\")\n",
        "for _, row in level2_df.sort_values('value', ascending=False).iterrows():\n",
        "    print(f\"  • {row['source']} → {row['destination']}\")\n",
        "    print(f\"    ${row['value']:,.0f}\")\n",
        "\n",
        "print(f\"\\n✅ VALIDATION:\")\n",
        "print(f\"  • Level 1 percentages sum to: {level1_df['pct_of_total_fees_usd'].sum():.1f}%\")\n",
        "print(f\"  • Total edges generated: {len(base_df)}\")\n",
        "print(f\"  • Zero-value edges: {len(base_df[base_df['value'] == 0])}\")\n",
        "\n",
        "print(f\"\\n🎯 READY FOR VISUALIZATION!\")\n",
        "print(f\"  • Data structure validated ✅\")\n",
        "print(f\"  • Percentages correctly calculated ✅\")\n",
        "print(f\"  • Sankey diagram rendered above ✅\")\n"
      ]
    },
    {
      "cell_type": "raw",
      "metadata": {},
      "source": []
    },
    {
      "cell_type": "raw",
      "metadata": {},
      "source": []
    },
    {
      "cell_type": "markdown",
      "metadata": {
        "vscode": {
          "languageId": "raw"
        }
      },
      "source": [
        "# Fees Sankey Transform Prototype\n",
        "\n",
        "This notebook is for prototyping and testing the fees sankey transform that generates datasets for Sankey diagram visualization of Superchain fee flows.\n",
        "\n",
        "## Purpose\n",
        "- Test fee flow logic\n",
        "- Validate output structure\n",
        "- Prototype new features\n",
        "- Backfill historical data if needed\n"
      ]
    },
    {
      "cell_type": "code",
      "execution_count": null,
      "metadata": {},
      "outputs": [],
      "source": [
        "import sys\n",
        "import os\n",
        "sys.path.append('../../../src')\n",
        "\n",
        "import pandas as pd\n",
        "import polars as pl\n",
        "from op_analytics.coreutils.logger import structlog\n",
        "from op_analytics.transforms.fees_sankey.generate_sankey_fees_dataset import (\n",
        "    get_source_data, \n",
        "    process_fee_flows, \n",
        "    validate_output\n",
        ")\n",
        "\n",
        "log = structlog.get_logger()\n"
      ]
    },
    {
      "cell_type": "markdown",
      "metadata": {
        "vscode": {
          "languageId": "raw"
        }
      },
      "source": [
        "## Test Configuration\n"
      ]
    },
    {
      "cell_type": "code",
      "execution_count": null,
      "metadata": {},
      "outputs": [],
      "source": [
        "# Configuration\n",
        "DAYS = 30  # Look back 30 days for testing\n",
        "DRY_RUN = True  # Don't write to databases during prototyping\n",
        "\n",
        "print(f\"Configuration: {DAYS} days lookback, dry_run={DRY_RUN}\")\n"
      ]
    },
    {
      "cell_type": "markdown",
      "metadata": {
        "vscode": {
          "languageId": "raw"
        }
      },
      "source": [
        "## Run Transform\n",
        "\n",
        "Execute the fees sankey transform with dry run for testing:\n"
      ]
    },
    {
      "cell_type": "code",
      "execution_count": null,
      "metadata": {},
      "outputs": [],
      "source": [
        "# Run the transform execute_pull function for testing\n",
        "from op_analytics.transforms.fees_sankey.generate_sankey_fees_dataset import execute_pull\n",
        "\n",
        "# This will run the full pipeline in dry-run mode\n",
        "try:\n",
        "    result = execute_pull(days=DAYS, dry_run=DRY_RUN)\n",
        "    print(\"✅ Transform completed successfully!\")\n",
        "    print(f\"Summary: {result}\")\n",
        "except Exception as e:\n",
        "    print(f\"❌ Transform failed: {e}\")\n",
        "    import traceback\n",
        "    traceback.print_exc()\n"
      ]
    }
  ],
  "metadata": {
    "kernelspec": {
      "display_name": ".venv",
      "language": "python",
      "name": "python3"
    },
    "language_info": {
      "codemirror_mode": {
        "name": "ipython",
        "version": 3
      },
      "file_extension": ".py",
      "mimetype": "text/x-python",
      "name": "python",
      "nbconvert_exporter": "python",
      "pygments_lexer": "ipython3",
      "version": "3.12.4"
    }
  },
  "nbformat": 4,
  "nbformat_minor": 2
}
