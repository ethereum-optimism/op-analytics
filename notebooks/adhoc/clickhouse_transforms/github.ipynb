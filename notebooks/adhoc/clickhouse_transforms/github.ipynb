{
 "cells": [
  {
   "cell_type": "code",
   "execution_count": null,
   "metadata": {},
   "outputs": [],
   "source": [
    "from op_analytics.transforms.main import execute_dt_transforms\n",
    "\n",
    "results = execute_dt_transforms(\n",
    "    group_name=\"github\",\n",
    "    range_spec=\"@20250319:+1\",\n",
    "    steps_to_run=[],\n",
    "    raise_if_empty=True,\n",
    "    force_complete=True,\n",
    "    allow_missing_gcs_data=True,\n",
    ")"
   ]
  },
  {
   "cell_type": "code",
   "execution_count": null,
   "metadata": {},
   "outputs": [],
   "source": [
    "##########\n",
    "# BACKFILL\n",
    "##########\n",
    "\n",
    "import os\n",
    "\n",
    "# Override to force BQ write.\n",
    "os.environ[\"OPLABS_ENV\"] = \"prod\"\n",
    "\n",
    "from op_analytics.transforms.main import execute_dt_transforms\n",
    "\n",
    "for range_spec in ['@20201231:+1','@20211231:+1', '@20221231:+1','@20231231:+1', '@20250113:+1', '@20250115:20250312']:\n",
    "    # Added to run through missing dates more easily\n",
    "    results = execute_dt_transforms(\n",
    "        group_name=\"github\",\n",
    "        range_spec=range_spec,\n",
    "        steps_to_run=[1],\n",
    "        raise_if_empty=True,\n",
    "        force_complete=True,\n",
    "        allow_missing_gcs_data=True,\n",
    "    )"
   ]
  },
  {
   "cell_type": "markdown",
   "metadata": {},
   "source": []
  },
  {
   "cell_type": "code",
   "execution_count": null,
   "metadata": {},
   "outputs": [],
   "source": []
  }
 ],
 "metadata": {
  "kernelspec": {
   "display_name": "Python 3",
   "language": "python",
   "name": "python3"
  },
  "language_info": {
   "codemirror_mode": {
    "name": "ipython",
    "version": 3
   },
   "file_extension": ".py",
   "mimetype": "text/x-python",
   "name": "python",
   "nbconvert_exporter": "python",
   "pygments_lexer": "ipython3",
   "version": "3.13.2"
  }
 },
 "nbformat": 4,
 "nbformat_minor": 2
}
