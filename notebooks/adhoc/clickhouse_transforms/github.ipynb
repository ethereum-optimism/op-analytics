{
 "cells": [
  {
   "cell_type": "code",
   "execution_count": 2,
   "metadata": {},
   "outputs": [
    {
     "name": "stdout",
     "output_type": "stream",
     "text": [
      "\u001b[2m2025-03-11 12:26:28\u001b[0m [\u001b[32m\u001b[1minfo     \u001b[0m] \u001b[1mloaded vault from .env file   \u001b[0m \u001b[36menv\u001b[0m=\u001b[35mPROD\u001b[0m \u001b[36mfilename\u001b[0m=\u001b[35mvault.py\u001b[0m \u001b[36mlineno\u001b[0m=\u001b[35m32\u001b[0m \u001b[36mprocess\u001b[0m=\u001b[35m79683\u001b[0m\n",
      "\u001b[2m2025-03-11 12:26:28\u001b[0m [\u001b[32m\u001b[1mdebug    \u001b[0m] \u001b[1mloaded vault: 18 items        \u001b[0m \u001b[36menv\u001b[0m=\u001b[35mPROD\u001b[0m \u001b[36mfilename\u001b[0m=\u001b[35mvault.py\u001b[0m \u001b[36mlineno\u001b[0m=\u001b[35m79\u001b[0m \u001b[36mprocess\u001b[0m=\u001b[35m79683\u001b[0m\n",
      "\u001b[2m2025-03-11 12:26:29\u001b[0m [\u001b[32m\u001b[1minfo     \u001b[0m] \u001b[1mCREATE fact_daily_dex_trades_v1.sql\u001b[0m \u001b[36mddl\u001b[0m=\u001b[35mfact_daily_dex_trades_v1.sql\u001b[0m \u001b[36menv\u001b[0m=\u001b[35mPROD\u001b[0m \u001b[36mfilename\u001b[0m=\u001b[35mcreate.py\u001b[0m \u001b[36mlineno\u001b[0m=\u001b[35m103\u001b[0m \u001b[36mprocess\u001b[0m=\u001b[35m79683\u001b[0m\n",
      "\u001b[2m2025-03-11 12:26:29\u001b[0m [\u001b[32m\u001b[1mdebug    \u001b[0m] \u001b[1mconnecting to OPLABS Clickhouse client...\u001b[0m \u001b[36menv\u001b[0m=\u001b[35mPROD\u001b[0m \u001b[36mfilename\u001b[0m=\u001b[35mclient.py\u001b[0m \u001b[36mlineno\u001b[0m=\u001b[35m56\u001b[0m \u001b[36mprocess\u001b[0m=\u001b[35m79683\u001b[0m\n",
      "\u001b[2m2025-03-11 12:26:29\u001b[0m [\u001b[32m\u001b[1mdebug    \u001b[0m] \u001b[1minitialized OPLABS Clickhouse client.\u001b[0m \u001b[36menv\u001b[0m=\u001b[35mPROD\u001b[0m \u001b[36mfilename\u001b[0m=\u001b[35mclient.py\u001b[0m \u001b[36mlineno\u001b[0m=\u001b[35m61\u001b[0m \u001b[36mprocess\u001b[0m=\u001b[35m79683\u001b[0m\n",
      "\u001b[2m2025-03-11 12:26:29\u001b[0m [\u001b[32m\u001b[1minfo     \u001b[0m] \u001b[1m5/5 markers pending.          \u001b[0m \u001b[36menv\u001b[0m=\u001b[35mPROD\u001b[0m \u001b[36mfilename\u001b[0m=\u001b[35mmain.py\u001b[0m \u001b[36mlineno\u001b[0m=\u001b[35m59\u001b[0m \u001b[36mprocess\u001b[0m=\u001b[35m79683\u001b[0m\n",
      "\u001b[2m2025-03-11 12:26:29\u001b[0m [\u001b[32m\u001b[1minfo     \u001b[0m] \u001b[1mPrepared 5 transform tasks.   \u001b[0m \u001b[36menv\u001b[0m=\u001b[35mPROD\u001b[0m \u001b[36mfilename\u001b[0m=\u001b[35mmain.py\u001b[0m \u001b[36mlineno\u001b[0m=\u001b[35m73\u001b[0m \u001b[36mprocess\u001b[0m=\u001b[35m79683\u001b[0m\n",
      "\u001b[2m2025-03-11 12:26:29\u001b[0m [\u001b[32m\u001b[1minfo     \u001b[0m] \u001b[1mrunning ddl 01_fact_daily_dex_trades_v1.sql\u001b[0m \u001b[36mddl\u001b[0m=\u001b[35m01_fact_daily_dex_trades_v1.sql\u001b[0m \u001b[36mdt\u001b[0m=\u001b[35m2025-03-06\u001b[0m \u001b[36menv\u001b[0m=\u001b[35mPROD\u001b[0m \u001b[36mfilename\u001b[0m=\u001b[35mtask.py\u001b[0m \u001b[36mlineno\u001b[0m=\u001b[35m86\u001b[0m \u001b[36mprocess\u001b[0m=\u001b[35m79683\u001b[0m \u001b[36mtask\u001b[0m=\u001b[35m1/5\u001b[0m\n",
      "\u001b[2m2025-03-11 12:26:30\u001b[0m [\u001b[32m\u001b[1minfo     \u001b[0m] \u001b[1m01_fact_daily_dex_trades_v1.sql -> 6964 written rows\u001b[0m \u001b[36mddl\u001b[0m=\u001b[35m01_fact_daily_dex_trades_v1.sql\u001b[0m \u001b[36mdt\u001b[0m=\u001b[35m2025-03-06\u001b[0m \u001b[36melapsed_ns\u001b[0m=\u001b[35m592993659\u001b[0m \u001b[36menv\u001b[0m=\u001b[35mPROD\u001b[0m \u001b[36mfilename\u001b[0m=\u001b[35mtask.py\u001b[0m \u001b[36mlineno\u001b[0m=\u001b[35m108\u001b[0m \u001b[36mprocess\u001b[0m=\u001b[35m79683\u001b[0m \u001b[36mquery_id\u001b[0m=\u001b[35md06ab30a-36dc-4072-834c-a11306479872\u001b[0m \u001b[36mread_bytes\u001b[0m=\u001b[35m1136246\u001b[0m \u001b[36mread_rows\u001b[0m=\u001b[35m7048\u001b[0m \u001b[36mresult_bytes\u001b[0m=\u001b[35m3497729\u001b[0m \u001b[36mresult_rows\u001b[0m=\u001b[35m6964\u001b[0m \u001b[36mtask\u001b[0m=\u001b[35m1/5\u001b[0m \u001b[36mtotal_rows_to_read\u001b[0m=\u001b[35m0\u001b[0m \u001b[36mwritten_bytes\u001b[0m=\u001b[35m3497729\u001b[0m \u001b[36mwritten_rows\u001b[0m=\u001b[35m6964\u001b[0m\n",
      "\u001b[2m2025-03-11 12:26:30\u001b[0m [\u001b[32m\u001b[1minfo     \u001b[0m] \u001b[1mrunning ddl 01_fact_daily_dex_trades_v1.sql\u001b[0m \u001b[36mddl\u001b[0m=\u001b[35m01_fact_daily_dex_trades_v1.sql\u001b[0m \u001b[36mdt\u001b[0m=\u001b[35m2025-03-07\u001b[0m \u001b[36menv\u001b[0m=\u001b[35mPROD\u001b[0m \u001b[36mfilename\u001b[0m=\u001b[35mtask.py\u001b[0m \u001b[36mlineno\u001b[0m=\u001b[35m86\u001b[0m \u001b[36mprocess\u001b[0m=\u001b[35m79683\u001b[0m \u001b[36mtask\u001b[0m=\u001b[35m2/5\u001b[0m\n",
      "\u001b[2m2025-03-11 12:26:31\u001b[0m [\u001b[32m\u001b[1minfo     \u001b[0m] \u001b[1m01_fact_daily_dex_trades_v1.sql -> 7284 written rows\u001b[0m \u001b[36mddl\u001b[0m=\u001b[35m01_fact_daily_dex_trades_v1.sql\u001b[0m \u001b[36mdt\u001b[0m=\u001b[35m2025-03-07\u001b[0m \u001b[36melapsed_ns\u001b[0m=\u001b[35m575523227\u001b[0m \u001b[36menv\u001b[0m=\u001b[35mPROD\u001b[0m \u001b[36mfilename\u001b[0m=\u001b[35mtask.py\u001b[0m \u001b[36mlineno\u001b[0m=\u001b[35m108\u001b[0m \u001b[36mprocess\u001b[0m=\u001b[35m79683\u001b[0m \u001b[36mquery_id\u001b[0m=\u001b[35m44e1875d-77ec-4c3b-8523-2abb687290c6\u001b[0m \u001b[36mread_bytes\u001b[0m=\u001b[35m1183666\u001b[0m \u001b[36mread_rows\u001b[0m=\u001b[35m7368\u001b[0m \u001b[36mresult_bytes\u001b[0m=\u001b[35m3659444\u001b[0m \u001b[36mresult_rows\u001b[0m=\u001b[35m7284\u001b[0m \u001b[36mtask\u001b[0m=\u001b[35m2/5\u001b[0m \u001b[36mtotal_rows_to_read\u001b[0m=\u001b[35m0\u001b[0m \u001b[36mwritten_bytes\u001b[0m=\u001b[35m3659444\u001b[0m \u001b[36mwritten_rows\u001b[0m=\u001b[35m7284\u001b[0m\n",
      "\u001b[2m2025-03-11 12:26:31\u001b[0m [\u001b[32m\u001b[1minfo     \u001b[0m] \u001b[1mrunning ddl 01_fact_daily_dex_trades_v1.sql\u001b[0m \u001b[36mddl\u001b[0m=\u001b[35m01_fact_daily_dex_trades_v1.sql\u001b[0m \u001b[36mdt\u001b[0m=\u001b[35m2025-03-08\u001b[0m \u001b[36menv\u001b[0m=\u001b[35mPROD\u001b[0m \u001b[36mfilename\u001b[0m=\u001b[35mtask.py\u001b[0m \u001b[36mlineno\u001b[0m=\u001b[35m86\u001b[0m \u001b[36mprocess\u001b[0m=\u001b[35m79683\u001b[0m \u001b[36mtask\u001b[0m=\u001b[35m3/5\u001b[0m\n",
      "\u001b[2m2025-03-11 12:26:32\u001b[0m [\u001b[32m\u001b[1minfo     \u001b[0m] \u001b[1m01_fact_daily_dex_trades_v1.sql -> 6319 written rows\u001b[0m \u001b[36mddl\u001b[0m=\u001b[35m01_fact_daily_dex_trades_v1.sql\u001b[0m \u001b[36mdt\u001b[0m=\u001b[35m2025-03-08\u001b[0m \u001b[36melapsed_ns\u001b[0m=\u001b[35m540358150\u001b[0m \u001b[36menv\u001b[0m=\u001b[35mPROD\u001b[0m \u001b[36mfilename\u001b[0m=\u001b[35mtask.py\u001b[0m \u001b[36mlineno\u001b[0m=\u001b[35m108\u001b[0m \u001b[36mprocess\u001b[0m=\u001b[35m79683\u001b[0m \u001b[36mquery_id\u001b[0m=\u001b[35ma1cf4e34-1e31-4050-89da-e05df4b9f040\u001b[0m \u001b[36mread_bytes\u001b[0m=\u001b[35m1037763\u001b[0m \u001b[36mread_rows\u001b[0m=\u001b[35m6403\u001b[0m \u001b[36mresult_bytes\u001b[0m=\u001b[35m3174922\u001b[0m \u001b[36mresult_rows\u001b[0m=\u001b[35m6319\u001b[0m \u001b[36mtask\u001b[0m=\u001b[35m3/5\u001b[0m \u001b[36mtotal_rows_to_read\u001b[0m=\u001b[35m0\u001b[0m \u001b[36mwritten_bytes\u001b[0m=\u001b[35m3174922\u001b[0m \u001b[36mwritten_rows\u001b[0m=\u001b[35m6319\u001b[0m\n",
      "\u001b[2m2025-03-11 12:26:32\u001b[0m [\u001b[32m\u001b[1minfo     \u001b[0m] \u001b[1mrunning ddl 01_fact_daily_dex_trades_v1.sql\u001b[0m \u001b[36mddl\u001b[0m=\u001b[35m01_fact_daily_dex_trades_v1.sql\u001b[0m \u001b[36mdt\u001b[0m=\u001b[35m2025-03-09\u001b[0m \u001b[36menv\u001b[0m=\u001b[35mPROD\u001b[0m \u001b[36mfilename\u001b[0m=\u001b[35mtask.py\u001b[0m \u001b[36mlineno\u001b[0m=\u001b[35m86\u001b[0m \u001b[36mprocess\u001b[0m=\u001b[35m79683\u001b[0m \u001b[36mtask\u001b[0m=\u001b[35m4/5\u001b[0m\n",
      "\u001b[2m2025-03-11 12:26:33\u001b[0m [\u001b[32m\u001b[1minfo     \u001b[0m] \u001b[1m01_fact_daily_dex_trades_v1.sql -> 6773 written rows\u001b[0m \u001b[36mddl\u001b[0m=\u001b[35m01_fact_daily_dex_trades_v1.sql\u001b[0m \u001b[36mdt\u001b[0m=\u001b[35m2025-03-09\u001b[0m \u001b[36melapsed_ns\u001b[0m=\u001b[35m515425450\u001b[0m \u001b[36menv\u001b[0m=\u001b[35mPROD\u001b[0m \u001b[36mfilename\u001b[0m=\u001b[35mtask.py\u001b[0m \u001b[36mlineno\u001b[0m=\u001b[35m108\u001b[0m \u001b[36mprocess\u001b[0m=\u001b[35m79683\u001b[0m \u001b[36mquery_id\u001b[0m=\u001b[35mea88d79a-e805-49b7-824b-c76223c0b14e\u001b[0m \u001b[36mread_bytes\u001b[0m=\u001b[35m1105602\u001b[0m \u001b[36mread_rows\u001b[0m=\u001b[35m6857\u001b[0m \u001b[36mresult_bytes\u001b[0m=\u001b[35m3401015\u001b[0m \u001b[36mresult_rows\u001b[0m=\u001b[35m6773\u001b[0m \u001b[36mtask\u001b[0m=\u001b[35m4/5\u001b[0m \u001b[36mtotal_rows_to_read\u001b[0m=\u001b[35m0\u001b[0m \u001b[36mwritten_bytes\u001b[0m=\u001b[35m3401015\u001b[0m \u001b[36mwritten_rows\u001b[0m=\u001b[35m6773\u001b[0m\n",
      "\u001b[2m2025-03-11 12:26:33\u001b[0m [\u001b[32m\u001b[1minfo     \u001b[0m] \u001b[1mrunning ddl 01_fact_daily_dex_trades_v1.sql\u001b[0m \u001b[36mddl\u001b[0m=\u001b[35m01_fact_daily_dex_trades_v1.sql\u001b[0m \u001b[36mdt\u001b[0m=\u001b[35m2025-03-10\u001b[0m \u001b[36menv\u001b[0m=\u001b[35mPROD\u001b[0m \u001b[36mfilename\u001b[0m=\u001b[35mtask.py\u001b[0m \u001b[36mlineno\u001b[0m=\u001b[35m86\u001b[0m \u001b[36mprocess\u001b[0m=\u001b[35m79683\u001b[0m \u001b[36mtask\u001b[0m=\u001b[35m5/5\u001b[0m\n",
      "\u001b[2m2025-03-11 12:26:34\u001b[0m [\u001b[32m\u001b[1minfo     \u001b[0m] \u001b[1m01_fact_daily_dex_trades_v1.sql -> 7846 written rows\u001b[0m \u001b[36mddl\u001b[0m=\u001b[35m01_fact_daily_dex_trades_v1.sql\u001b[0m \u001b[36mdt\u001b[0m=\u001b[35m2025-03-10\u001b[0m \u001b[36melapsed_ns\u001b[0m=\u001b[35m737370062\u001b[0m \u001b[36menv\u001b[0m=\u001b[35mPROD\u001b[0m \u001b[36mfilename\u001b[0m=\u001b[35mtask.py\u001b[0m \u001b[36mlineno\u001b[0m=\u001b[35m108\u001b[0m \u001b[36mprocess\u001b[0m=\u001b[35m79683\u001b[0m \u001b[36mquery_id\u001b[0m=\u001b[35m5d0115dc-1227-4aac-82c9-cb329f2c187f\u001b[0m \u001b[36mread_bytes\u001b[0m=\u001b[35m1267829\u001b[0m \u001b[36mread_rows\u001b[0m=\u001b[35m7930\u001b[0m \u001b[36mresult_bytes\u001b[0m=\u001b[35m3940680\u001b[0m \u001b[36mresult_rows\u001b[0m=\u001b[35m7846\u001b[0m \u001b[36mtask\u001b[0m=\u001b[35m5/5\u001b[0m \u001b[36mtotal_rows_to_read\u001b[0m=\u001b[35m0\u001b[0m \u001b[36mwritten_bytes\u001b[0m=\u001b[35m3940680\u001b[0m \u001b[36mwritten_rows\u001b[0m=\u001b[35m7846\u001b[0m\n"
     ]
    }
   ],
   "source": [
    "import os\n",
    "\n",
    "# Override to force BQ write.\n",
    "os.environ[\"OPLABS_ENV\"] = \"prod\"\n",
    "\n",
    "from op_analytics.transforms.main import execute_dt_transforms\n",
    "\n",
    "results = execute_dt_transforms(\n",
    "    group_name=\"dune\",\n",
    "    range_spec=\"@20250306:20250311\",\n",
    "\n",
    "    # range_spec=\"@20241018:+1\",\n",
    "    update_only=[1],\n",
    "    raise_if_empty=True,\n",
    "    force_complete=False,\n",
    ")"
   ]
  },
  {
   "cell_type": "code",
   "execution_count": null,
   "metadata": {},
   "outputs": [],
   "source": []
  }
 ],
 "metadata": {
  "kernelspec": {
   "display_name": ".venv",
   "language": "python",
   "name": "python3"
  },
  "language_info": {
   "codemirror_mode": {
    "name": "ipython",
    "version": 3
   },
   "file_extension": ".py",
   "mimetype": "text/x-python",
   "name": "python",
   "nbconvert_exporter": "python",
   "pygments_lexer": "ipython3",
   "version": "3.12.6"
  }
 },
 "nbformat": 4,
 "nbformat_minor": 2
}
