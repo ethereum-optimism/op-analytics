{
 "cells": [
  {
   "cell_type": "code",
   "execution_count": 2,
   "metadata": {},
   "outputs": [
    {
     "name": "stdout",
     "output_type": "stream",
     "text": [
      "\u001b[2m2025-02-11 13:20:26\u001b[0m [\u001b[32m\u001b[1minfo     \u001b[0m] \u001b[1m1/128 markers pending.        \u001b[0m \u001b[36menv\u001b[0m=\u001b[35mPROD\u001b[0m \u001b[36mfilename\u001b[0m=\u001b[35mmain.py\u001b[0m \u001b[36mlineno\u001b[0m=\u001b[35m46\u001b[0m \u001b[36mprocess\u001b[0m=\u001b[35m33911\u001b[0m\n",
      "\u001b[2m2025-02-11 13:20:26\u001b[0m [\u001b[32m\u001b[1minfo     \u001b[0m] \u001b[1mPrepared 1 transform tasks.   \u001b[0m \u001b[36menv\u001b[0m=\u001b[35mPROD\u001b[0m \u001b[36mfilename\u001b[0m=\u001b[35mmain.py\u001b[0m \u001b[36mlineno\u001b[0m=\u001b[35m60\u001b[0m \u001b[36mprocess\u001b[0m=\u001b[35m33911\u001b[0m\n",
      "\u001b[2m2025-02-11 13:20:26\u001b[0m [\u001b[32m\u001b[1minfo     \u001b[0m] \u001b[1mfact_erc20_daily_transfers_v1.sql -> 0 written rows\u001b[0m \u001b[36mddl\u001b[0m=\u001b[35mfact_erc20_daily_transfers_v1.sql\u001b[0m \u001b[36mdt\u001b[0m=\u001b[35m2025-02-10\u001b[0m \u001b[36melapsed_ns\u001b[0m=\u001b[35m79219086\u001b[0m \u001b[36menv\u001b[0m=\u001b[35mPROD\u001b[0m \u001b[36mfilename\u001b[0m=\u001b[35mcreate.py\u001b[0m \u001b[36mlineno\u001b[0m=\u001b[35m44\u001b[0m \u001b[36mprocess\u001b[0m=\u001b[35m33911\u001b[0m \u001b[36mquery_id\u001b[0m=\u001b[35m38c6c325-f583-4d05-96fb-95620e392ab7\u001b[0m \u001b[36mread_bytes\u001b[0m=\u001b[35m142\u001b[0m \u001b[36mread_rows\u001b[0m=\u001b[35m2\u001b[0m \u001b[36mresult_bytes\u001b[0m=\u001b[35m0\u001b[0m \u001b[36mresult_rows\u001b[0m=\u001b[35m0\u001b[0m \u001b[36mtask\u001b[0m=\u001b[35m1/1\u001b[0m \u001b[36mtotal_rows_to_read\u001b[0m=\u001b[35m2\u001b[0m \u001b[36mwritten_bytes\u001b[0m=\u001b[35m0\u001b[0m \u001b[36mwritten_rows\u001b[0m=\u001b[35m0\u001b[0m\n",
      "\u001b[2m2025-02-11 13:20:26\u001b[0m [\u001b[32m\u001b[1minfo     \u001b[0m] \u001b[1mrunning ddl 01_fact_erc20_daily_transfers_v1.sql\u001b[0m \u001b[36mddl\u001b[0m=\u001b[35m01_fact_erc20_daily_transfers_v1.sql\u001b[0m \u001b[36mdt\u001b[0m=\u001b[35m2025-02-10\u001b[0m \u001b[36menv\u001b[0m=\u001b[35mPROD\u001b[0m \u001b[36mfilename\u001b[0m=\u001b[35mtransform.py\u001b[0m \u001b[36mlineno\u001b[0m=\u001b[35m94\u001b[0m \u001b[36mprocess\u001b[0m=\u001b[35m33911\u001b[0m \u001b[36mtask\u001b[0m=\u001b[35m1/1\u001b[0m\n",
      "\u001b[2m2025-02-11 13:20:28\u001b[0m [\u001b[32m\u001b[1minfo     \u001b[0m] \u001b[1m01_fact_erc20_daily_transfers_v1.sql -> 59106 written rows\u001b[0m \u001b[36mddl\u001b[0m=\u001b[35m01_fact_erc20_daily_transfers_v1.sql\u001b[0m \u001b[36mdt\u001b[0m=\u001b[35m2025-02-10\u001b[0m \u001b[36melapsed_ns\u001b[0m=\u001b[35m1889799223\u001b[0m \u001b[36menv\u001b[0m=\u001b[35mPROD\u001b[0m \u001b[36mfilename\u001b[0m=\u001b[35mtransform.py\u001b[0m \u001b[36mlineno\u001b[0m=\u001b[35m107\u001b[0m \u001b[36mprocess\u001b[0m=\u001b[35m33911\u001b[0m \u001b[36mquery_id\u001b[0m=\u001b[35mf0b0706f-42cc-4932-a3a4-0180bacf6581\u001b[0m \u001b[36mread_bytes\u001b[0m=\u001b[35m4573269631\u001b[0m \u001b[36mread_rows\u001b[0m=\u001b[35m17140610\u001b[0m \u001b[36mresult_bytes\u001b[0m=\u001b[35m10231784\u001b[0m \u001b[36mresult_rows\u001b[0m=\u001b[35m59106\u001b[0m \u001b[36mtask\u001b[0m=\u001b[35m1/1\u001b[0m \u001b[36mtotal_rows_to_read\u001b[0m=\u001b[35m17140610\u001b[0m \u001b[36mwritten_bytes\u001b[0m=\u001b[35m10231784\u001b[0m \u001b[36mwritten_rows\u001b[0m=\u001b[35m59106\u001b[0m\n"
     ]
    }
   ],
   "source": [
    "import os\n",
    "\n",
    "# Override to force BQ write.\n",
    "os.environ[\"OPLABS_ENV\"] = \"prod\"\n",
    "\n",
    "from op_analytics.transforms.main import execute_dt_transforms\n",
    "\n",
    "results = execute_dt_transforms(\n",
    "    group_name=\"erc20transfers\",\n",
    "    range_spec=\"@20241006:20250211\",\n",
    "    # range_spec=\"@20241001:+1\",\n",
    "    update_only=[1],\n",
    "    skip_create=False,\n",
    "    raise_if_empty=True,\n",
    "    max_tasks=None,\n",
    "    force_complete=False,\n",
    ")"
   ]
  },
  {
   "cell_type": "code",
   "execution_count": null,
   "metadata": {},
   "outputs": [],
   "source": []
  }
 ],
 "metadata": {
  "kernelspec": {
   "display_name": ".venv",
   "language": "python",
   "name": "python3"
  },
  "language_info": {
   "codemirror_mode": {
    "name": "ipython",
    "version": 3
   },
   "file_extension": ".py",
   "mimetype": "text/x-python",
   "name": "python",
   "nbconvert_exporter": "python",
   "pygments_lexer": "ipython3",
   "version": "3.12.3"
  }
 },
 "nbformat": 4,
 "nbformat_minor": 2
}
