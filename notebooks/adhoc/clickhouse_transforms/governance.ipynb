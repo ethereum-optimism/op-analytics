{
 "cells": [
  {
   "cell_type": "code",
   "execution_count": 4,
   "metadata": {},
   "outputs": [
    {
     "name": "stdout",
     "output_type": "stream",
     "text": [
      "\u001b[2m2025-03-11 11:09:43\u001b[0m [\u001b[32m\u001b[1minfo     \u001b[0m] \u001b[1mCREATE 01_fact_delegate_votes_changed_v1.sql\u001b[0m \u001b[36mddl\u001b[0m=\u001b[35m01_fact_delegate_votes_changed_v1.sql\u001b[0m \u001b[36mfilename\u001b[0m=\u001b[35mcreate.py\u001b[0m \u001b[36mlineno\u001b[0m=\u001b[35m103\u001b[0m \u001b[36mprocess\u001b[0m=\u001b[35m75917\u001b[0m\n",
      "\u001b[2m2025-03-11 11:09:43\u001b[0m [\u001b[32m\u001b[1minfo     \u001b[0m] \u001b[1mCREATE 02_fact_delegation_events_v1.sql\u001b[0m \u001b[36mddl\u001b[0m=\u001b[35m02_fact_delegation_events_v1.sql\u001b[0m \u001b[36mfilename\u001b[0m=\u001b[35mcreate.py\u001b[0m \u001b[36mlineno\u001b[0m=\u001b[35m103\u001b[0m \u001b[36mprocess\u001b[0m=\u001b[35m75917\u001b[0m\n",
      "\u001b[2m2025-03-11 11:09:43\u001b[0m [\u001b[32m\u001b[1minfo     \u001b[0m] \u001b[1mCREATE 03_fact_votes_v1.sql   \u001b[0m \u001b[36mddl\u001b[0m=\u001b[35m03_fact_votes_v1.sql\u001b[0m \u001b[36mfilename\u001b[0m=\u001b[35mcreate.py\u001b[0m \u001b[36mlineno\u001b[0m=\u001b[35m103\u001b[0m \u001b[36mprocess\u001b[0m=\u001b[35m75917\u001b[0m\n",
      "\u001b[2m2025-03-11 11:09:44\u001b[0m [\u001b[32m\u001b[1minfo     \u001b[0m] \u001b[1mCREATE 04_fact_proposals_created_v1.sql\u001b[0m \u001b[36mddl\u001b[0m=\u001b[35m04_fact_proposals_created_v1.sql\u001b[0m \u001b[36mfilename\u001b[0m=\u001b[35mcreate.py\u001b[0m \u001b[36mlineno\u001b[0m=\u001b[35m103\u001b[0m \u001b[36mprocess\u001b[0m=\u001b[35m75917\u001b[0m\n",
      "\u001b[2m2025-03-11 11:09:44\u001b[0m [\u001b[32m\u001b[1minfo     \u001b[0m] \u001b[1mCREATE 05_fact_proposals_started_v1.sql\u001b[0m \u001b[36mddl\u001b[0m=\u001b[35m05_fact_proposals_started_v1.sql\u001b[0m \u001b[36mfilename\u001b[0m=\u001b[35mcreate.py\u001b[0m \u001b[36mlineno\u001b[0m=\u001b[35m103\u001b[0m \u001b[36mprocess\u001b[0m=\u001b[35m75917\u001b[0m\n",
      "\u001b[2m2025-03-11 11:09:44\u001b[0m [\u001b[32m\u001b[1minfo     \u001b[0m] \u001b[1mCREATE 06_fact_proposals_ended_v1.sql\u001b[0m \u001b[36mddl\u001b[0m=\u001b[35m06_fact_proposals_ended_v1.sql\u001b[0m \u001b[36mfilename\u001b[0m=\u001b[35mcreate.py\u001b[0m \u001b[36mlineno\u001b[0m=\u001b[35m103\u001b[0m \u001b[36mprocess\u001b[0m=\u001b[35m75917\u001b[0m\n",
      "\u001b[2m2025-03-11 11:09:44\u001b[0m [\u001b[32m\u001b[1minfo     \u001b[0m] \u001b[1mCREATE 07_fact_proposals_cancelled_v1.sql\u001b[0m \u001b[36mddl\u001b[0m=\u001b[35m07_fact_proposals_cancelled_v1.sql\u001b[0m \u001b[36mfilename\u001b[0m=\u001b[35mcreate.py\u001b[0m \u001b[36mlineno\u001b[0m=\u001b[35m103\u001b[0m \u001b[36mprocess\u001b[0m=\u001b[35m75917\u001b[0m\n",
      "\u001b[2m2025-03-11 11:09:45\u001b[0m [\u001b[32m\u001b[1minfo     \u001b[0m] \u001b[1mCREATE 08_dim_proposals_v1.sql\u001b[0m \u001b[36mddl\u001b[0m=\u001b[35m08_dim_proposals_v1.sql\u001b[0m \u001b[36mfilename\u001b[0m=\u001b[35mcreate.py\u001b[0m \u001b[36mlineno\u001b[0m=\u001b[35m103\u001b[0m \u001b[36mprocess\u001b[0m=\u001b[35m75917\u001b[0m\n",
      "\u001b[2m2025-03-11 11:09:45\u001b[0m [\u001b[32m\u001b[1minfo     \u001b[0m] \u001b[1mCREATE 09_fact_delegates_v1.sql\u001b[0m \u001b[36mddl\u001b[0m=\u001b[35m09_fact_delegates_v1.sql\u001b[0m \u001b[36mfilename\u001b[0m=\u001b[35mcreate.py\u001b[0m \u001b[36mlineno\u001b[0m=\u001b[35m103\u001b[0m \u001b[36mprocess\u001b[0m=\u001b[35m75917\u001b[0m\n",
      "\u001b[2m2025-03-11 11:09:45\u001b[0m [\u001b[32m\u001b[1minfo     \u001b[0m] \u001b[1m1/1 markers pending.          \u001b[0m \u001b[36mfilename\u001b[0m=\u001b[35mmain.py\u001b[0m \u001b[36mlineno\u001b[0m=\u001b[35m59\u001b[0m \u001b[36mprocess\u001b[0m=\u001b[35m75917\u001b[0m\n",
      "\u001b[2m2025-03-11 11:09:45\u001b[0m [\u001b[32m\u001b[1minfo     \u001b[0m] \u001b[1mPrepared 1 transform tasks.   \u001b[0m \u001b[36mfilename\u001b[0m=\u001b[35mmain.py\u001b[0m \u001b[36mlineno\u001b[0m=\u001b[35m73\u001b[0m \u001b[36mprocess\u001b[0m=\u001b[35m75917\u001b[0m\n",
      "\u001b[2m2025-03-11 11:09:45\u001b[0m [\u001b[32m\u001b[1minfo     \u001b[0m] \u001b[1mskipping index=1 ddl=01_fact_delegate_votes_changed_v1.sql\u001b[0m \u001b[36mddl\u001b[0m=\u001b[35m01_fact_delegate_votes_changed_v1.sql\u001b[0m \u001b[36mdt\u001b[0m=\u001b[35m2025-02-20\u001b[0m \u001b[36mfilename\u001b[0m=\u001b[35mtask.py\u001b[0m \u001b[36mlineno\u001b[0m=\u001b[35m64\u001b[0m \u001b[36mprocess\u001b[0m=\u001b[35m75917\u001b[0m \u001b[36mtask\u001b[0m=\u001b[35m1/1\u001b[0m\n",
      "\u001b[2m2025-03-11 11:09:45\u001b[0m [\u001b[32m\u001b[1minfo     \u001b[0m] \u001b[1mskipping index=2 ddl=02_fact_delegation_events_v1.sql\u001b[0m \u001b[36mddl\u001b[0m=\u001b[35m02_fact_delegation_events_v1.sql\u001b[0m \u001b[36mdt\u001b[0m=\u001b[35m2025-02-20\u001b[0m \u001b[36mfilename\u001b[0m=\u001b[35mtask.py\u001b[0m \u001b[36mlineno\u001b[0m=\u001b[35m64\u001b[0m \u001b[36mprocess\u001b[0m=\u001b[35m75917\u001b[0m \u001b[36mtask\u001b[0m=\u001b[35m1/1\u001b[0m\n",
      "\u001b[2m2025-03-11 11:09:45\u001b[0m [\u001b[32m\u001b[1minfo     \u001b[0m] \u001b[1mrunning ddl 03_fact_votes_v1.sql\u001b[0m \u001b[36mddl\u001b[0m=\u001b[35m03_fact_votes_v1.sql\u001b[0m \u001b[36mdt\u001b[0m=\u001b[35m2025-02-20\u001b[0m \u001b[36mfilename\u001b[0m=\u001b[35mtask.py\u001b[0m \u001b[36mlineno\u001b[0m=\u001b[35m86\u001b[0m \u001b[36mprocess\u001b[0m=\u001b[35m75917\u001b[0m \u001b[36mtask\u001b[0m=\u001b[35m1/1\u001b[0m\n",
      "\u001b[2m2025-03-11 11:09:51\u001b[0m [\u001b[32m\u001b[1minfo     \u001b[0m] \u001b[1m03_fact_votes_v1.sql -> 3 written rows\u001b[0m \u001b[36mddl\u001b[0m=\u001b[35m03_fact_votes_v1.sql\u001b[0m \u001b[36mdt\u001b[0m=\u001b[35m2025-02-20\u001b[0m \u001b[36melapsed_ns\u001b[0m=\u001b[35m5962472097\u001b[0m \u001b[36mfilename\u001b[0m=\u001b[35mtask.py\u001b[0m \u001b[36mlineno\u001b[0m=\u001b[35m108\u001b[0m \u001b[36mprocess\u001b[0m=\u001b[35m75917\u001b[0m \u001b[36mquery_id\u001b[0m=\u001b[35m30fdbdca-d252-4b9c-b57d-dacf8acb7113\u001b[0m \u001b[36mread_bytes\u001b[0m=\u001b[35m244759183\u001b[0m \u001b[36mread_rows\u001b[0m=\u001b[35m873388\u001b[0m \u001b[36mresult_bytes\u001b[0m=\u001b[35m536\u001b[0m \u001b[36mresult_rows\u001b[0m=\u001b[35m3\u001b[0m \u001b[36mtask\u001b[0m=\u001b[35m1/1\u001b[0m \u001b[36mtotal_rows_to_read\u001b[0m=\u001b[35m0\u001b[0m \u001b[36mwritten_bytes\u001b[0m=\u001b[35m536\u001b[0m \u001b[36mwritten_rows\u001b[0m=\u001b[35m3\u001b[0m\n",
      "\u001b[2m2025-03-11 11:09:51\u001b[0m [\u001b[32m\u001b[1minfo     \u001b[0m] \u001b[1mrunning ddl 04_fact_proposals_created_v1.sql\u001b[0m \u001b[36mddl\u001b[0m=\u001b[35m04_fact_proposals_created_v1.sql\u001b[0m \u001b[36mdt\u001b[0m=\u001b[35m2025-02-20\u001b[0m \u001b[36mfilename\u001b[0m=\u001b[35mtask.py\u001b[0m \u001b[36mlineno\u001b[0m=\u001b[35m86\u001b[0m \u001b[36mprocess\u001b[0m=\u001b[35m75917\u001b[0m \u001b[36mtask\u001b[0m=\u001b[35m1/1\u001b[0m\n",
      "\u001b[2m2025-03-11 11:09:53\u001b[0m [\u001b[32m\u001b[1minfo     \u001b[0m] \u001b[1m04_fact_proposals_created_v1.sql -> 3 written rows\u001b[0m \u001b[36mddl\u001b[0m=\u001b[35m04_fact_proposals_created_v1.sql\u001b[0m \u001b[36mdt\u001b[0m=\u001b[35m2025-02-20\u001b[0m \u001b[36melapsed_ns\u001b[0m=\u001b[35m1881156949\u001b[0m \u001b[36mfilename\u001b[0m=\u001b[35mtask.py\u001b[0m \u001b[36mlineno\u001b[0m=\u001b[35m108\u001b[0m \u001b[36mprocess\u001b[0m=\u001b[35m75917\u001b[0m \u001b[36mquery_id\u001b[0m=\u001b[35m85409dd4-5f42-4053-b7a9-9144b9d051d6\u001b[0m \u001b[36mread_bytes\u001b[0m=\u001b[35m32203615\u001b[0m \u001b[36mread_rows\u001b[0m=\u001b[35m87058\u001b[0m \u001b[36mresult_bytes\u001b[0m=\u001b[35m1078\u001b[0m \u001b[36mresult_rows\u001b[0m=\u001b[35m3\u001b[0m \u001b[36mtask\u001b[0m=\u001b[35m1/1\u001b[0m \u001b[36mtotal_rows_to_read\u001b[0m=\u001b[35m0\u001b[0m \u001b[36mwritten_bytes\u001b[0m=\u001b[35m1078\u001b[0m \u001b[36mwritten_rows\u001b[0m=\u001b[35m3\u001b[0m\n",
      "\u001b[2m2025-03-11 11:09:53\u001b[0m [\u001b[32m\u001b[1minfo     \u001b[0m] \u001b[1mskipping index=8 ddl=08_dim_proposals_v1.sql\u001b[0m \u001b[36mddl\u001b[0m=\u001b[35m08_dim_proposals_v1.sql\u001b[0m \u001b[36mdt\u001b[0m=\u001b[35m2025-02-20\u001b[0m \u001b[36mfilename\u001b[0m=\u001b[35mtask.py\u001b[0m \u001b[36mlineno\u001b[0m=\u001b[35m64\u001b[0m \u001b[36mprocess\u001b[0m=\u001b[35m75917\u001b[0m \u001b[36mtask\u001b[0m=\u001b[35m1/1\u001b[0m\n",
      "\u001b[2m2025-03-11 11:09:53\u001b[0m [\u001b[32m\u001b[1minfo     \u001b[0m] \u001b[1mskipping index=9 ddl=09_fact_delegates_v1.sql\u001b[0m \u001b[36mddl\u001b[0m=\u001b[35m09_fact_delegates_v1.sql\u001b[0m \u001b[36mdt\u001b[0m=\u001b[35m2025-02-20\u001b[0m \u001b[36mfilename\u001b[0m=\u001b[35mtask.py\u001b[0m \u001b[36mlineno\u001b[0m=\u001b[35m64\u001b[0m \u001b[36mprocess\u001b[0m=\u001b[35m75917\u001b[0m \u001b[36mtask\u001b[0m=\u001b[35m1/1\u001b[0m\n"
     ]
    }
   ],
   "source": [
    "from op_analytics.transforms.main import execute_dt_transforms\n",
    "\n",
    "\n",
    "results = execute_dt_transforms(\n",
    "    group_name=\"governance\",\n",
    "    # range_spec=\"m2days\",\n",
    "    range_spec=\"@20250220:+1\",\n",
    "    # range_spec=\"20240101:20250304\",\n",
    "    update_only=[\n",
    "        # 1, \n",
    "        # 2, \n",
    "        3, \n",
    "        4],\n",
    "    raise_if_empty=True,\n",
    "    force_complete=True,\n",
    ")"
   ]
  },
  {
   "cell_type": "code",
   "execution_count": null,
   "metadata": {},
   "outputs": [],
   "source": []
  }
 ],
 "metadata": {
  "kernelspec": {
   "display_name": ".venv",
   "language": "python",
   "name": "python3"
  },
  "language_info": {
   "codemirror_mode": {
    "name": "ipython",
    "version": 3
   },
   "file_extension": ".py",
   "mimetype": "text/x-python",
   "name": "python",
   "nbconvert_exporter": "python",
   "pygments_lexer": "ipython3",
   "version": "3.12.6"
  }
 },
 "nbformat": 4,
 "nbformat_minor": 2
}
