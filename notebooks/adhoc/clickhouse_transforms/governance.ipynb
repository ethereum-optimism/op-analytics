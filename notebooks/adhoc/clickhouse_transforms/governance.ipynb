{
 "cells": [
  {
   "cell_type": "code",
   "execution_count": 1,
   "metadata": {},
   "outputs": [
    {
     "name": "stdout",
     "output_type": "stream",
     "text": [
      "\u001b[2m2025-03-10 09:54:56\u001b[0m [\u001b[32m\u001b[1mdebug    \u001b[0m] \u001b[1mconnecting to OPLABS Clickhouse client...\u001b[0m \u001b[36mfilename\u001b[0m=\u001b[35mclient.py\u001b[0m \u001b[36mlineno\u001b[0m=\u001b[35m56\u001b[0m \u001b[36mprocess\u001b[0m=\u001b[35m48456\u001b[0m\n",
      "\u001b[2m2025-03-10 09:54:56\u001b[0m [\u001b[32m\u001b[1minfo     \u001b[0m] \u001b[1mloaded vault from .env file   \u001b[0m \u001b[36mfilename\u001b[0m=\u001b[35mvault.py\u001b[0m \u001b[36mlineno\u001b[0m=\u001b[35m32\u001b[0m \u001b[36mprocess\u001b[0m=\u001b[35m48456\u001b[0m\n",
      "\u001b[2m2025-03-10 09:54:56\u001b[0m [\u001b[32m\u001b[1mdebug    \u001b[0m] \u001b[1mloaded vault: 18 items        \u001b[0m \u001b[36mfilename\u001b[0m=\u001b[35mvault.py\u001b[0m \u001b[36mlineno\u001b[0m=\u001b[35m79\u001b[0m \u001b[36mprocess\u001b[0m=\u001b[35m48456\u001b[0m\n",
      "\u001b[2m2025-03-10 09:54:56\u001b[0m [\u001b[32m\u001b[1mdebug    \u001b[0m] \u001b[1minitialized OPLABS Clickhouse client.\u001b[0m \u001b[36mfilename\u001b[0m=\u001b[35mclient.py\u001b[0m \u001b[36mlineno\u001b[0m=\u001b[35m61\u001b[0m \u001b[36mprocess\u001b[0m=\u001b[35m48456\u001b[0m\n",
      "\u001b[2m2025-03-10 09:54:56\u001b[0m [\u001b[32m\u001b[1minfo     \u001b[0m] \u001b[1m1/1 markers pending.          \u001b[0m \u001b[36mfilename\u001b[0m=\u001b[35mmain.py\u001b[0m \u001b[36mlineno\u001b[0m=\u001b[35m54\u001b[0m \u001b[36mprocess\u001b[0m=\u001b[35m48456\u001b[0m\n",
      "\u001b[2m2025-03-10 09:54:56\u001b[0m [\u001b[32m\u001b[1minfo     \u001b[0m] \u001b[1mPrepared 1 transform tasks.   \u001b[0m \u001b[36mfilename\u001b[0m=\u001b[35mmain.py\u001b[0m \u001b[36mlineno\u001b[0m=\u001b[35m68\u001b[0m \u001b[36mprocess\u001b[0m=\u001b[35m48456\u001b[0m\n",
      "\u001b[2m2025-03-10 09:54:57\u001b[0m [\u001b[32m\u001b[1minfo     \u001b[0m] \u001b[1mdim_proposals_v1.sql -> 0 written rows\u001b[0m \u001b[36mddl\u001b[0m=\u001b[35mdim_proposals_v1.sql\u001b[0m \u001b[36mdt\u001b[0m=\u001b[35m2025-02-20\u001b[0m \u001b[36melapsed_ns\u001b[0m=\u001b[35m191700891\u001b[0m \u001b[36mfilename\u001b[0m=\u001b[35mcreate.py\u001b[0m \u001b[36mlineno\u001b[0m=\u001b[35m44\u001b[0m \u001b[36mprocess\u001b[0m=\u001b[35m48456\u001b[0m \u001b[36mquery_id\u001b[0m=\u001b[35mf97327c3-eeed-4d35-a497-f2cd1a8efae8\u001b[0m \u001b[36mread_bytes\u001b[0m=\u001b[35m142\u001b[0m \u001b[36mread_rows\u001b[0m=\u001b[35m2\u001b[0m \u001b[36mresult_bytes\u001b[0m=\u001b[35m0\u001b[0m \u001b[36mresult_rows\u001b[0m=\u001b[35m0\u001b[0m \u001b[36mtask\u001b[0m=\u001b[35m1/1\u001b[0m \u001b[36mtotal_rows_to_read\u001b[0m=\u001b[35m2\u001b[0m \u001b[36mwritten_bytes\u001b[0m=\u001b[35m0\u001b[0m \u001b[36mwritten_rows\u001b[0m=\u001b[35m0\u001b[0m\n",
      "\u001b[2m2025-03-10 09:54:57\u001b[0m [\u001b[32m\u001b[1minfo     \u001b[0m] \u001b[1mfact_delegate_votes_changed_v1.sql -> 0 written rows\u001b[0m \u001b[36mddl\u001b[0m=\u001b[35mfact_delegate_votes_changed_v1.sql\u001b[0m \u001b[36mdt\u001b[0m=\u001b[35m2025-02-20\u001b[0m \u001b[36melapsed_ns\u001b[0m=\u001b[35m79141604\u001b[0m \u001b[36mfilename\u001b[0m=\u001b[35mcreate.py\u001b[0m \u001b[36mlineno\u001b[0m=\u001b[35m44\u001b[0m \u001b[36mprocess\u001b[0m=\u001b[35m48456\u001b[0m \u001b[36mquery_id\u001b[0m=\u001b[35m6ce95a99-f7fd-46f2-9189-1fca27283dce\u001b[0m \u001b[36mread_bytes\u001b[0m=\u001b[35m142\u001b[0m \u001b[36mread_rows\u001b[0m=\u001b[35m2\u001b[0m \u001b[36mresult_bytes\u001b[0m=\u001b[35m0\u001b[0m \u001b[36mresult_rows\u001b[0m=\u001b[35m0\u001b[0m \u001b[36mtask\u001b[0m=\u001b[35m1/1\u001b[0m \u001b[36mtotal_rows_to_read\u001b[0m=\u001b[35m2\u001b[0m \u001b[36mwritten_bytes\u001b[0m=\u001b[35m0\u001b[0m \u001b[36mwritten_rows\u001b[0m=\u001b[35m0\u001b[0m\n",
      "\u001b[2m2025-03-10 09:54:58\u001b[0m [\u001b[32m\u001b[1minfo     \u001b[0m] \u001b[1mfact_delegates_v1.sql -> 0 written rows\u001b[0m \u001b[36mddl\u001b[0m=\u001b[35mfact_delegates_v1.sql\u001b[0m \u001b[36mdt\u001b[0m=\u001b[35m2025-02-20\u001b[0m \u001b[36melapsed_ns\u001b[0m=\u001b[35m189911898\u001b[0m \u001b[36mfilename\u001b[0m=\u001b[35mcreate.py\u001b[0m \u001b[36mlineno\u001b[0m=\u001b[35m44\u001b[0m \u001b[36mprocess\u001b[0m=\u001b[35m48456\u001b[0m \u001b[36mquery_id\u001b[0m=\u001b[35m22aadc25-36ac-4596-bc77-0d59b7eb5846\u001b[0m \u001b[36mread_bytes\u001b[0m=\u001b[35m142\u001b[0m \u001b[36mread_rows\u001b[0m=\u001b[35m2\u001b[0m \u001b[36mresult_bytes\u001b[0m=\u001b[35m0\u001b[0m \u001b[36mresult_rows\u001b[0m=\u001b[35m0\u001b[0m \u001b[36mtask\u001b[0m=\u001b[35m1/1\u001b[0m \u001b[36mtotal_rows_to_read\u001b[0m=\u001b[35m2\u001b[0m \u001b[36mwritten_bytes\u001b[0m=\u001b[35m0\u001b[0m \u001b[36mwritten_rows\u001b[0m=\u001b[35m0\u001b[0m\n",
      "\u001b[2m2025-03-10 09:54:58\u001b[0m [\u001b[32m\u001b[1minfo     \u001b[0m] \u001b[1mfact_delegation_events_v1.sql -> 0 written rows\u001b[0m \u001b[36mddl\u001b[0m=\u001b[35mfact_delegation_events_v1.sql\u001b[0m \u001b[36mdt\u001b[0m=\u001b[35m2025-02-20\u001b[0m \u001b[36melapsed_ns\u001b[0m=\u001b[35m187992875\u001b[0m \u001b[36mfilename\u001b[0m=\u001b[35mcreate.py\u001b[0m \u001b[36mlineno\u001b[0m=\u001b[35m44\u001b[0m \u001b[36mprocess\u001b[0m=\u001b[35m48456\u001b[0m \u001b[36mquery_id\u001b[0m=\u001b[35m0a152169-f06b-40ec-8305-8230f9be4073\u001b[0m \u001b[36mread_bytes\u001b[0m=\u001b[35m142\u001b[0m \u001b[36mread_rows\u001b[0m=\u001b[35m2\u001b[0m \u001b[36mresult_bytes\u001b[0m=\u001b[35m0\u001b[0m \u001b[36mresult_rows\u001b[0m=\u001b[35m0\u001b[0m \u001b[36mtask\u001b[0m=\u001b[35m1/1\u001b[0m \u001b[36mtotal_rows_to_read\u001b[0m=\u001b[35m2\u001b[0m \u001b[36mwritten_bytes\u001b[0m=\u001b[35m0\u001b[0m \u001b[36mwritten_rows\u001b[0m=\u001b[35m0\u001b[0m\n",
      "\u001b[2m2025-03-10 09:54:58\u001b[0m [\u001b[32m\u001b[1minfo     \u001b[0m] \u001b[1mfact_votes_v1.sql -> 0 written rows\u001b[0m \u001b[36mddl\u001b[0m=\u001b[35mfact_votes_v1.sql\u001b[0m \u001b[36mdt\u001b[0m=\u001b[35m2025-02-20\u001b[0m \u001b[36melapsed_ns\u001b[0m=\u001b[35m191290389\u001b[0m \u001b[36mfilename\u001b[0m=\u001b[35mcreate.py\u001b[0m \u001b[36mlineno\u001b[0m=\u001b[35m44\u001b[0m \u001b[36mprocess\u001b[0m=\u001b[35m48456\u001b[0m \u001b[36mquery_id\u001b[0m=\u001b[35m3345a198-1342-4284-aaa6-8246bc0c89cf\u001b[0m \u001b[36mread_bytes\u001b[0m=\u001b[35m142\u001b[0m \u001b[36mread_rows\u001b[0m=\u001b[35m2\u001b[0m \u001b[36mresult_bytes\u001b[0m=\u001b[35m0\u001b[0m \u001b[36mresult_rows\u001b[0m=\u001b[35m0\u001b[0m \u001b[36mtask\u001b[0m=\u001b[35m1/1\u001b[0m \u001b[36mtotal_rows_to_read\u001b[0m=\u001b[35m2\u001b[0m \u001b[36mwritten_bytes\u001b[0m=\u001b[35m0\u001b[0m \u001b[36mwritten_rows\u001b[0m=\u001b[35m0\u001b[0m\n",
      "\u001b[2m2025-03-10 09:54:58\u001b[0m [\u001b[32m\u001b[1minfo     \u001b[0m] \u001b[1mrunning ddl 01_fact_delegate_votes_changed_v1.sql\u001b[0m \u001b[36mddl\u001b[0m=\u001b[35m01_fact_delegate_votes_changed_v1.sql\u001b[0m \u001b[36mdt\u001b[0m=\u001b[35m2025-02-20\u001b[0m \u001b[36mfilename\u001b[0m=\u001b[35mtransform.py\u001b[0m \u001b[36mlineno\u001b[0m=\u001b[35m94\u001b[0m \u001b[36mprocess\u001b[0m=\u001b[35m48456\u001b[0m \u001b[36mtask\u001b[0m=\u001b[35m1/1\u001b[0m\n",
      "\u001b[2m2025-03-10 09:55:01\u001b[0m [\u001b[32m\u001b[1minfo     \u001b[0m] \u001b[1m01_fact_delegate_votes_changed_v1.sql -> 13536 written rows\u001b[0m \u001b[36mddl\u001b[0m=\u001b[35m01_fact_delegate_votes_changed_v1.sql\u001b[0m \u001b[36mdt\u001b[0m=\u001b[35m2025-02-20\u001b[0m \u001b[36melapsed_ns\u001b[0m=\u001b[35m2813795582\u001b[0m \u001b[36mfilename\u001b[0m=\u001b[35mtransform.py\u001b[0m \u001b[36mlineno\u001b[0m=\u001b[35m107\u001b[0m \u001b[36mprocess\u001b[0m=\u001b[35m48456\u001b[0m \u001b[36mquery_id\u001b[0m=\u001b[35mfb531b61-7e19-4a93-adf5-230828e83711\u001b[0m \u001b[36mread_bytes\u001b[0m=\u001b[35m146189229\u001b[0m \u001b[36mread_rows\u001b[0m=\u001b[35m3724766\u001b[0m \u001b[36mresult_bytes\u001b[0m=\u001b[35m3208688\u001b[0m \u001b[36mresult_rows\u001b[0m=\u001b[35m13536\u001b[0m \u001b[36mtask\u001b[0m=\u001b[35m1/1\u001b[0m \u001b[36mtotal_rows_to_read\u001b[0m=\u001b[35m0\u001b[0m \u001b[36mwritten_bytes\u001b[0m=\u001b[35m3208688\u001b[0m \u001b[36mwritten_rows\u001b[0m=\u001b[35m13536\u001b[0m\n",
      "\u001b[2m2025-03-10 09:55:01\u001b[0m [\u001b[32m\u001b[1minfo     \u001b[0m] \u001b[1mrunning ddl 02_fact_delegation_events_v1.sql\u001b[0m \u001b[36mddl\u001b[0m=\u001b[35m02_fact_delegation_events_v1.sql\u001b[0m \u001b[36mdt\u001b[0m=\u001b[35m2025-02-20\u001b[0m \u001b[36mfilename\u001b[0m=\u001b[35mtransform.py\u001b[0m \u001b[36mlineno\u001b[0m=\u001b[35m94\u001b[0m \u001b[36mprocess\u001b[0m=\u001b[35m48456\u001b[0m \u001b[36mtask\u001b[0m=\u001b[35m1/1\u001b[0m\n",
      "\u001b[2m2025-03-10 09:55:04\u001b[0m [\u001b[32m\u001b[1minfo     \u001b[0m] \u001b[1m02_fact_delegation_events_v1.sql -> 92 written rows\u001b[0m \u001b[36mddl\u001b[0m=\u001b[35m02_fact_delegation_events_v1.sql\u001b[0m \u001b[36mdt\u001b[0m=\u001b[35m2025-02-20\u001b[0m \u001b[36melapsed_ns\u001b[0m=\u001b[35m2965120098\u001b[0m \u001b[36mfilename\u001b[0m=\u001b[35mtransform.py\u001b[0m \u001b[36mlineno\u001b[0m=\u001b[35m107\u001b[0m \u001b[36mprocess\u001b[0m=\u001b[35m48456\u001b[0m \u001b[36mquery_id\u001b[0m=\u001b[35m14e70baf-2a0c-4a45-9b57-eea8bb7e4cac\u001b[0m \u001b[36mread_bytes\u001b[0m=\u001b[35m351008670\u001b[0m \u001b[36mread_rows\u001b[0m=\u001b[35m1476522\u001b[0m \u001b[36mresult_bytes\u001b[0m=\u001b[35m24572\u001b[0m \u001b[36mresult_rows\u001b[0m=\u001b[35m92\u001b[0m \u001b[36mtask\u001b[0m=\u001b[35m1/1\u001b[0m \u001b[36mtotal_rows_to_read\u001b[0m=\u001b[35m52317\u001b[0m \u001b[36mwritten_bytes\u001b[0m=\u001b[35m24572\u001b[0m \u001b[36mwritten_rows\u001b[0m=\u001b[35m92\u001b[0m\n",
      "\u001b[2m2025-03-10 09:55:04\u001b[0m [\u001b[32m\u001b[1minfo     \u001b[0m] \u001b[1mskipping index=3 ddl=03_fact_votes_v1.sql\u001b[0m \u001b[36mddl\u001b[0m=\u001b[35m03_fact_votes_v1.sql\u001b[0m \u001b[36mdt\u001b[0m=\u001b[35m2025-02-20\u001b[0m \u001b[36mfilename\u001b[0m=\u001b[35mtransform.py\u001b[0m \u001b[36mlineno\u001b[0m=\u001b[35m72\u001b[0m \u001b[36mprocess\u001b[0m=\u001b[35m48456\u001b[0m \u001b[36mtask\u001b[0m=\u001b[35m1/1\u001b[0m\n",
      "\u001b[2m2025-03-10 09:55:04\u001b[0m [\u001b[32m\u001b[1minfo     \u001b[0m] \u001b[1mskipping index=4 ddl=04_dim_proposals_v1.sql\u001b[0m \u001b[36mddl\u001b[0m=\u001b[35m04_dim_proposals_v1.sql\u001b[0m \u001b[36mdt\u001b[0m=\u001b[35m2025-02-20\u001b[0m \u001b[36mfilename\u001b[0m=\u001b[35mtransform.py\u001b[0m \u001b[36mlineno\u001b[0m=\u001b[35m72\u001b[0m \u001b[36mprocess\u001b[0m=\u001b[35m48456\u001b[0m \u001b[36mtask\u001b[0m=\u001b[35m1/1\u001b[0m\n",
      "\u001b[2m2025-03-10 09:55:04\u001b[0m [\u001b[32m\u001b[1minfo     \u001b[0m] \u001b[1mskipping index=5 ddl=05_fact_delegates_v1.sql\u001b[0m \u001b[36mddl\u001b[0m=\u001b[35m05_fact_delegates_v1.sql\u001b[0m \u001b[36mdt\u001b[0m=\u001b[35m2025-02-20\u001b[0m \u001b[36mfilename\u001b[0m=\u001b[35mtransform.py\u001b[0m \u001b[36mlineno\u001b[0m=\u001b[35m72\u001b[0m \u001b[36mprocess\u001b[0m=\u001b[35m48456\u001b[0m \u001b[36mtask\u001b[0m=\u001b[35m1/1\u001b[0m\n"
     ]
    }
   ],
   "source": [
    "from op_analytics.transforms.main import execute_dt_transforms\n",
    "\n",
    "\n",
    "results = execute_dt_transforms(\n",
    "    group_name=\"governance\",\n",
    "    # range_spec=\"m2days\",\n",
    "    range_spec=\"@20250220:+1\",\n",
    "    # range_spec=\"20240101:20250304\",\n",
    "    update_only=[1, 2],\n",
    "    skip_create=False,\n",
    "    raise_if_empty=True,\n",
    "    max_tasks=None,\n",
    "    force_complete=True,\n",
    ")"
   ]
  },
  {
   "cell_type": "code",
   "execution_count": null,
   "metadata": {},
   "outputs": [],
   "source": []
  }
 ],
 "metadata": {
  "kernelspec": {
   "display_name": ".venv",
   "language": "python",
   "name": "python3"
  },
  "language_info": {
   "codemirror_mode": {
    "name": "ipython",
    "version": 3
   },
   "file_extension": ".py",
   "mimetype": "text/x-python",
   "name": "python",
   "nbconvert_exporter": "python",
   "pygments_lexer": "ipython3",
   "version": "3.12.6"
  }
 },
 "nbformat": 4,
 "nbformat_minor": 2
}
