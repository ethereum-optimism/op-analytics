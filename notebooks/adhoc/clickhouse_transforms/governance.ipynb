{
 "cells": [
  {
   "cell_type": "code",
   "execution_count": 7,
   "metadata": {},
   "outputs": [
    {
     "name": "stdout",
     "output_type": "stream",
     "text": [
      "\u001b[2m2025-03-04 10:54:59\u001b[0m [\u001b[32m\u001b[1minfo     \u001b[0m] \u001b[1m4/4 markers pending.          \u001b[0m \u001b[36mfilename\u001b[0m=\u001b[35mmain.py\u001b[0m \u001b[36mlineno\u001b[0m=\u001b[35m54\u001b[0m \u001b[36mprocess\u001b[0m=\u001b[35m7428\u001b[0m\n",
      "\u001b[2m2025-03-04 10:54:59\u001b[0m [\u001b[32m\u001b[1minfo     \u001b[0m] \u001b[1mPrepared 4 transform tasks.   \u001b[0m \u001b[36mfilename\u001b[0m=\u001b[35mmain.py\u001b[0m \u001b[36mlineno\u001b[0m=\u001b[35m68\u001b[0m \u001b[36mprocess\u001b[0m=\u001b[35m7428\u001b[0m\n",
      "\u001b[2m2025-03-04 10:55:00\u001b[0m [\u001b[32m\u001b[1minfo     \u001b[0m] \u001b[1mfact_delegate_votes_changed_v1.sql -> 0 written rows\u001b[0m \u001b[36mddl\u001b[0m=\u001b[35mfact_delegate_votes_changed_v1.sql\u001b[0m \u001b[36mdt\u001b[0m=\u001b[35m2025-02-20\u001b[0m \u001b[36melapsed_ns\u001b[0m=\u001b[35m82694356\u001b[0m \u001b[36mfilename\u001b[0m=\u001b[35mcreate.py\u001b[0m \u001b[36mlineno\u001b[0m=\u001b[35m44\u001b[0m \u001b[36mprocess\u001b[0m=\u001b[35m7428\u001b[0m \u001b[36mquery_id\u001b[0m=\u001b[35m8af3bd19-271a-45f8-8b69-6ae651afe49f\u001b[0m \u001b[36mread_bytes\u001b[0m=\u001b[35m142\u001b[0m \u001b[36mread_rows\u001b[0m=\u001b[35m2\u001b[0m \u001b[36mresult_bytes\u001b[0m=\u001b[35m0\u001b[0m \u001b[36mresult_rows\u001b[0m=\u001b[35m0\u001b[0m \u001b[36mtask\u001b[0m=\u001b[35m1/4\u001b[0m \u001b[36mtotal_rows_to_read\u001b[0m=\u001b[35m2\u001b[0m \u001b[36mwritten_bytes\u001b[0m=\u001b[35m0\u001b[0m \u001b[36mwritten_rows\u001b[0m=\u001b[35m0\u001b[0m\n",
      "\u001b[2m2025-03-04 10:55:00\u001b[0m [\u001b[32m\u001b[1minfo     \u001b[0m] \u001b[1mrunning ddl 01_fact_delegate_votes_changed_v1.sql\u001b[0m \u001b[36mddl\u001b[0m=\u001b[35m01_fact_delegate_votes_changed_v1.sql\u001b[0m \u001b[36mdt\u001b[0m=\u001b[35m2025-02-20\u001b[0m \u001b[36mfilename\u001b[0m=\u001b[35mtransform.py\u001b[0m \u001b[36mlineno\u001b[0m=\u001b[35m94\u001b[0m \u001b[36mprocess\u001b[0m=\u001b[35m7428\u001b[0m \u001b[36mtask\u001b[0m=\u001b[35m1/4\u001b[0m\n",
      "\u001b[2m2025-03-04 10:55:02\u001b[0m [\u001b[32m\u001b[1minfo     \u001b[0m] \u001b[1m01_fact_delegate_votes_changed_v1.sql -> 13536 written rows\u001b[0m \u001b[36mddl\u001b[0m=\u001b[35m01_fact_delegate_votes_changed_v1.sql\u001b[0m \u001b[36mdt\u001b[0m=\u001b[35m2025-02-20\u001b[0m \u001b[36melapsed_ns\u001b[0m=\u001b[35m1967645974\u001b[0m \u001b[36mfilename\u001b[0m=\u001b[35mtransform.py\u001b[0m \u001b[36mlineno\u001b[0m=\u001b[35m107\u001b[0m \u001b[36mprocess\u001b[0m=\u001b[35m7428\u001b[0m \u001b[36mquery_id\u001b[0m=\u001b[35ma11c9a73-fa72-45c3-a498-ad60b58b29ee\u001b[0m \u001b[36mread_bytes\u001b[0m=\u001b[35m146189229\u001b[0m \u001b[36mread_rows\u001b[0m=\u001b[35m3724766\u001b[0m \u001b[36mresult_bytes\u001b[0m=\u001b[35m3208688\u001b[0m \u001b[36mresult_rows\u001b[0m=\u001b[35m13536\u001b[0m \u001b[36mtask\u001b[0m=\u001b[35m1/4\u001b[0m \u001b[36mtotal_rows_to_read\u001b[0m=\u001b[35m0\u001b[0m \u001b[36mwritten_bytes\u001b[0m=\u001b[35m3208688\u001b[0m \u001b[36mwritten_rows\u001b[0m=\u001b[35m13536\u001b[0m\n",
      "\u001b[2m2025-03-04 10:55:02\u001b[0m [\u001b[32m\u001b[1minfo     \u001b[0m] \u001b[1mfact_delegate_votes_changed_v1.sql -> 0 written rows\u001b[0m \u001b[36mddl\u001b[0m=\u001b[35mfact_delegate_votes_changed_v1.sql\u001b[0m \u001b[36mdt\u001b[0m=\u001b[35m2025-02-21\u001b[0m \u001b[36melapsed_ns\u001b[0m=\u001b[35m77942377\u001b[0m \u001b[36mfilename\u001b[0m=\u001b[35mcreate.py\u001b[0m \u001b[36mlineno\u001b[0m=\u001b[35m44\u001b[0m \u001b[36mprocess\u001b[0m=\u001b[35m7428\u001b[0m \u001b[36mquery_id\u001b[0m=\u001b[35m1f20339e-e140-4e85-a69a-98b0d0b1b9b8\u001b[0m \u001b[36mread_bytes\u001b[0m=\u001b[35m142\u001b[0m \u001b[36mread_rows\u001b[0m=\u001b[35m2\u001b[0m \u001b[36mresult_bytes\u001b[0m=\u001b[35m0\u001b[0m \u001b[36mresult_rows\u001b[0m=\u001b[35m0\u001b[0m \u001b[36mtask\u001b[0m=\u001b[35m2/4\u001b[0m \u001b[36mtotal_rows_to_read\u001b[0m=\u001b[35m2\u001b[0m \u001b[36mwritten_bytes\u001b[0m=\u001b[35m0\u001b[0m \u001b[36mwritten_rows\u001b[0m=\u001b[35m0\u001b[0m\n",
      "\u001b[2m2025-03-04 10:55:02\u001b[0m [\u001b[32m\u001b[1minfo     \u001b[0m] \u001b[1mrunning ddl 01_fact_delegate_votes_changed_v1.sql\u001b[0m \u001b[36mddl\u001b[0m=\u001b[35m01_fact_delegate_votes_changed_v1.sql\u001b[0m \u001b[36mdt\u001b[0m=\u001b[35m2025-02-21\u001b[0m \u001b[36mfilename\u001b[0m=\u001b[35mtransform.py\u001b[0m \u001b[36mlineno\u001b[0m=\u001b[35m94\u001b[0m \u001b[36mprocess\u001b[0m=\u001b[35m7428\u001b[0m \u001b[36mtask\u001b[0m=\u001b[35m2/4\u001b[0m\n",
      "\u001b[2m2025-03-04 10:55:05\u001b[0m [\u001b[32m\u001b[1minfo     \u001b[0m] \u001b[1m01_fact_delegate_votes_changed_v1.sql -> 16199 written rows\u001b[0m \u001b[36mddl\u001b[0m=\u001b[35m01_fact_delegate_votes_changed_v1.sql\u001b[0m \u001b[36mdt\u001b[0m=\u001b[35m2025-02-21\u001b[0m \u001b[36melapsed_ns\u001b[0m=\u001b[35m2233752504\u001b[0m \u001b[36mfilename\u001b[0m=\u001b[35mtransform.py\u001b[0m \u001b[36mlineno\u001b[0m=\u001b[35m107\u001b[0m \u001b[36mprocess\u001b[0m=\u001b[35m7428\u001b[0m \u001b[36mquery_id\u001b[0m=\u001b[35maca455f8-e595-4c71-bcb3-890aeee64853\u001b[0m \u001b[36mread_bytes\u001b[0m=\u001b[35m163584412\u001b[0m \u001b[36mread_rows\u001b[0m=\u001b[35m3936031\u001b[0m \u001b[36mresult_bytes\u001b[0m=\u001b[35m3839859\u001b[0m \u001b[36mresult_rows\u001b[0m=\u001b[35m16199\u001b[0m \u001b[36mtask\u001b[0m=\u001b[35m2/4\u001b[0m \u001b[36mtotal_rows_to_read\u001b[0m=\u001b[35m0\u001b[0m \u001b[36mwritten_bytes\u001b[0m=\u001b[35m3839859\u001b[0m \u001b[36mwritten_rows\u001b[0m=\u001b[35m16199\u001b[0m\n",
      "\u001b[2m2025-03-04 10:55:05\u001b[0m [\u001b[32m\u001b[1minfo     \u001b[0m] \u001b[1mfact_delegate_votes_changed_v1.sql -> 0 written rows\u001b[0m \u001b[36mddl\u001b[0m=\u001b[35mfact_delegate_votes_changed_v1.sql\u001b[0m \u001b[36mdt\u001b[0m=\u001b[35m2025-02-22\u001b[0m \u001b[36melapsed_ns\u001b[0m=\u001b[35m77403777\u001b[0m \u001b[36mfilename\u001b[0m=\u001b[35mcreate.py\u001b[0m \u001b[36mlineno\u001b[0m=\u001b[35m44\u001b[0m \u001b[36mprocess\u001b[0m=\u001b[35m7428\u001b[0m \u001b[36mquery_id\u001b[0m=\u001b[35m37ed17af-4a60-4a45-b2dd-7fab66892370\u001b[0m \u001b[36mread_bytes\u001b[0m=\u001b[35m142\u001b[0m \u001b[36mread_rows\u001b[0m=\u001b[35m2\u001b[0m \u001b[36mresult_bytes\u001b[0m=\u001b[35m0\u001b[0m \u001b[36mresult_rows\u001b[0m=\u001b[35m0\u001b[0m \u001b[36mtask\u001b[0m=\u001b[35m3/4\u001b[0m \u001b[36mtotal_rows_to_read\u001b[0m=\u001b[35m2\u001b[0m \u001b[36mwritten_bytes\u001b[0m=\u001b[35m0\u001b[0m \u001b[36mwritten_rows\u001b[0m=\u001b[35m0\u001b[0m\n",
      "\u001b[2m2025-03-04 10:55:05\u001b[0m [\u001b[32m\u001b[1minfo     \u001b[0m] \u001b[1mrunning ddl 01_fact_delegate_votes_changed_v1.sql\u001b[0m \u001b[36mddl\u001b[0m=\u001b[35m01_fact_delegate_votes_changed_v1.sql\u001b[0m \u001b[36mdt\u001b[0m=\u001b[35m2025-02-22\u001b[0m \u001b[36mfilename\u001b[0m=\u001b[35mtransform.py\u001b[0m \u001b[36mlineno\u001b[0m=\u001b[35m94\u001b[0m \u001b[36mprocess\u001b[0m=\u001b[35m7428\u001b[0m \u001b[36mtask\u001b[0m=\u001b[35m3/4\u001b[0m\n",
      "\u001b[2m2025-03-04 10:55:07\u001b[0m [\u001b[32m\u001b[1minfo     \u001b[0m] \u001b[1m01_fact_delegate_votes_changed_v1.sql -> 5012 written rows\u001b[0m \u001b[36mddl\u001b[0m=\u001b[35m01_fact_delegate_votes_changed_v1.sql\u001b[0m \u001b[36mdt\u001b[0m=\u001b[35m2025-02-22\u001b[0m \u001b[36melapsed_ns\u001b[0m=\u001b[35m2082382019\u001b[0m \u001b[36mfilename\u001b[0m=\u001b[35mtransform.py\u001b[0m \u001b[36mlineno\u001b[0m=\u001b[35m107\u001b[0m \u001b[36mprocess\u001b[0m=\u001b[35m7428\u001b[0m \u001b[36mquery_id\u001b[0m=\u001b[35m48c6f5e3-9e23-46d2-9c7b-511214db83bd\u001b[0m \u001b[36mread_bytes\u001b[0m=\u001b[35m147813950\u001b[0m \u001b[36mread_rows\u001b[0m=\u001b[35m3714210\u001b[0m \u001b[36mresult_bytes\u001b[0m=\u001b[35m1188452\u001b[0m \u001b[36mresult_rows\u001b[0m=\u001b[35m5012\u001b[0m \u001b[36mtask\u001b[0m=\u001b[35m3/4\u001b[0m \u001b[36mtotal_rows_to_read\u001b[0m=\u001b[35m0\u001b[0m \u001b[36mwritten_bytes\u001b[0m=\u001b[35m1188452\u001b[0m \u001b[36mwritten_rows\u001b[0m=\u001b[35m5012\u001b[0m\n",
      "\u001b[2m2025-03-04 10:55:08\u001b[0m [\u001b[32m\u001b[1minfo     \u001b[0m] \u001b[1mfact_delegate_votes_changed_v1.sql -> 0 written rows\u001b[0m \u001b[36mddl\u001b[0m=\u001b[35mfact_delegate_votes_changed_v1.sql\u001b[0m \u001b[36mdt\u001b[0m=\u001b[35m2025-02-23\u001b[0m \u001b[36melapsed_ns\u001b[0m=\u001b[35m79694517\u001b[0m \u001b[36mfilename\u001b[0m=\u001b[35mcreate.py\u001b[0m \u001b[36mlineno\u001b[0m=\u001b[35m44\u001b[0m \u001b[36mprocess\u001b[0m=\u001b[35m7428\u001b[0m \u001b[36mquery_id\u001b[0m=\u001b[35mccbd1c12-b2a8-4103-9505-71ba94419566\u001b[0m \u001b[36mread_bytes\u001b[0m=\u001b[35m142\u001b[0m \u001b[36mread_rows\u001b[0m=\u001b[35m2\u001b[0m \u001b[36mresult_bytes\u001b[0m=\u001b[35m0\u001b[0m \u001b[36mresult_rows\u001b[0m=\u001b[35m0\u001b[0m \u001b[36mtask\u001b[0m=\u001b[35m4/4\u001b[0m \u001b[36mtotal_rows_to_read\u001b[0m=\u001b[35m2\u001b[0m \u001b[36mwritten_bytes\u001b[0m=\u001b[35m0\u001b[0m \u001b[36mwritten_rows\u001b[0m=\u001b[35m0\u001b[0m\n",
      "\u001b[2m2025-03-04 10:55:08\u001b[0m [\u001b[32m\u001b[1minfo     \u001b[0m] \u001b[1mrunning ddl 01_fact_delegate_votes_changed_v1.sql\u001b[0m \u001b[36mddl\u001b[0m=\u001b[35m01_fact_delegate_votes_changed_v1.sql\u001b[0m \u001b[36mdt\u001b[0m=\u001b[35m2025-02-23\u001b[0m \u001b[36mfilename\u001b[0m=\u001b[35mtransform.py\u001b[0m \u001b[36mlineno\u001b[0m=\u001b[35m94\u001b[0m \u001b[36mprocess\u001b[0m=\u001b[35m7428\u001b[0m \u001b[36mtask\u001b[0m=\u001b[35m4/4\u001b[0m\n",
      "\u001b[2m2025-03-04 10:55:10\u001b[0m [\u001b[32m\u001b[1minfo     \u001b[0m] \u001b[1m01_fact_delegate_votes_changed_v1.sql -> 4034 written rows\u001b[0m \u001b[36mddl\u001b[0m=\u001b[35m01_fact_delegate_votes_changed_v1.sql\u001b[0m \u001b[36mdt\u001b[0m=\u001b[35m2025-02-23\u001b[0m \u001b[36melapsed_ns\u001b[0m=\u001b[35m2287309282\u001b[0m \u001b[36mfilename\u001b[0m=\u001b[35mtransform.py\u001b[0m \u001b[36mlineno\u001b[0m=\u001b[35m107\u001b[0m \u001b[36mprocess\u001b[0m=\u001b[35m7428\u001b[0m \u001b[36mquery_id\u001b[0m=\u001b[35m99d6dbac-ef21-43cb-a108-c731b2be1ac2\u001b[0m \u001b[36mread_bytes\u001b[0m=\u001b[35m170191868\u001b[0m \u001b[36mread_rows\u001b[0m=\u001b[35m4604512\u001b[0m \u001b[36mresult_bytes\u001b[0m=\u001b[35m956818\u001b[0m \u001b[36mresult_rows\u001b[0m=\u001b[35m4034\u001b[0m \u001b[36mtask\u001b[0m=\u001b[35m4/4\u001b[0m \u001b[36mtotal_rows_to_read\u001b[0m=\u001b[35m0\u001b[0m \u001b[36mwritten_bytes\u001b[0m=\u001b[35m956818\u001b[0m \u001b[36mwritten_rows\u001b[0m=\u001b[35m4034\u001b[0m\n"
     ]
    }
   ],
   "source": [
    "from op_analytics.transforms.main import execute_dt_transforms\n",
    "\n",
    "\n",
    "results = execute_dt_transforms(\n",
    "    group_name=\"governance\",\n",
    "    # range_spec=\"m2days\",\n",
    "    # range_spec=\"@20250220:+4\",\n",
    "    # range_spec=\"20240101:20250304\",\n",
    "    update_only=[1, 2, 3],\n",
    "    skip_create=False,\n",
    "    raise_if_empty=True,\n",
    "    max_tasks=None,\n",
    "    force_complete=True,\n",
    ")"
   ]
  },
  {
   "cell_type": "code",
   "execution_count": null,
   "metadata": {},
   "outputs": [],
   "source": []
  }
 ],
 "metadata": {
  "kernelspec": {
   "display_name": ".venv",
   "language": "python",
   "name": "python3"
  },
  "language_info": {
   "codemirror_mode": {
    "name": "ipython",
    "version": 3
   },
   "file_extension": ".py",
   "mimetype": "text/x-python",
   "name": "python",
   "nbconvert_exporter": "python",
   "pygments_lexer": "ipython3",
   "version": "3.12.6"
  }
 },
 "nbformat": 4,
 "nbformat_minor": 2
}
