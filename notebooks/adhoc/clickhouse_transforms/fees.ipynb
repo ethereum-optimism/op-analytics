{
 "cells": [
  {
   "cell_type": "code",
   "execution_count": 1,
   "metadata": {},
   "outputs": [
    {
     "name": "stdout",
     "output_type": "stream",
     "text": [
      "\u001b[2m2025-03-10 16:55:54\u001b[0m [\u001b[32m\u001b[1mdebug    \u001b[0m] \u001b[1mconnecting to OPLABS Clickhouse client...\u001b[0m \u001b[36menv\u001b[0m=\u001b[35mPROD\u001b[0m \u001b[36mfilename\u001b[0m=\u001b[35mclient.py\u001b[0m \u001b[36mlineno\u001b[0m=\u001b[35m56\u001b[0m \u001b[36mprocess\u001b[0m=\u001b[35m18309\u001b[0m\n",
      "\u001b[2m2025-03-10 16:55:54\u001b[0m [\u001b[32m\u001b[1minfo     \u001b[0m] \u001b[1mloaded vault from .env file   \u001b[0m \u001b[36menv\u001b[0m=\u001b[35mPROD\u001b[0m \u001b[36mfilename\u001b[0m=\u001b[35mvault.py\u001b[0m \u001b[36mlineno\u001b[0m=\u001b[35m32\u001b[0m \u001b[36mprocess\u001b[0m=\u001b[35m18309\u001b[0m\n",
      "\u001b[2m2025-03-10 16:55:54\u001b[0m [\u001b[32m\u001b[1mdebug    \u001b[0m] \u001b[1mloaded vault: 20 items        \u001b[0m \u001b[36menv\u001b[0m=\u001b[35mPROD\u001b[0m \u001b[36mfilename\u001b[0m=\u001b[35mvault.py\u001b[0m \u001b[36mlineno\u001b[0m=\u001b[35m79\u001b[0m \u001b[36mprocess\u001b[0m=\u001b[35m18309\u001b[0m\n",
      "\u001b[2m2025-03-10 16:55:54\u001b[0m [\u001b[32m\u001b[1mdebug    \u001b[0m] \u001b[1minitialized OPLABS Clickhouse client.\u001b[0m \u001b[36menv\u001b[0m=\u001b[35mPROD\u001b[0m \u001b[36mfilename\u001b[0m=\u001b[35mclient.py\u001b[0m \u001b[36mlineno\u001b[0m=\u001b[35m61\u001b[0m \u001b[36mprocess\u001b[0m=\u001b[35m18309\u001b[0m\n",
      "\u001b[2m2025-03-10 16:55:54\u001b[0m [\u001b[32m\u001b[1minfo     \u001b[0m] \u001b[1m1/1 markers pending.          \u001b[0m \u001b[36menv\u001b[0m=\u001b[35mPROD\u001b[0m \u001b[36mfilename\u001b[0m=\u001b[35mmain.py\u001b[0m \u001b[36mlineno\u001b[0m=\u001b[35m54\u001b[0m \u001b[36mprocess\u001b[0m=\u001b[35m18309\u001b[0m\n",
      "\u001b[2m2025-03-10 16:55:55\u001b[0m [\u001b[32m\u001b[1minfo     \u001b[0m] \u001b[1mCREATE 01_agg_daily_transactions_grouping_sets.sql\u001b[0m \u001b[36mddl\u001b[0m=\u001b[35m01_agg_daily_transactions_grouping_sets.sql\u001b[0m \u001b[36menv\u001b[0m=\u001b[35mPROD\u001b[0m \u001b[36mfilename\u001b[0m=\u001b[35mcreate.py\u001b[0m \u001b[36mlineno\u001b[0m=\u001b[35m67\u001b[0m \u001b[36mprocess\u001b[0m=\u001b[35m18309\u001b[0m\n",
      "\u001b[2m2025-03-10 16:55:55\u001b[0m [\u001b[32m\u001b[1minfo     \u001b[0m] \u001b[1mCREATE 02_agg_daily_transactions.sql\u001b[0m \u001b[36mddl\u001b[0m=\u001b[35m02_agg_daily_transactions.sql\u001b[0m \u001b[36menv\u001b[0m=\u001b[35mPROD\u001b[0m \u001b[36mfilename\u001b[0m=\u001b[35mcreate.py\u001b[0m \u001b[36mlineno\u001b[0m=\u001b[35m67\u001b[0m \u001b[36mprocess\u001b[0m=\u001b[35m18309\u001b[0m\n",
      "\u001b[2m2025-03-10 16:55:55\u001b[0m [\u001b[32m\u001b[1minfo     \u001b[0m] \u001b[1mCREATE 10_view_agg_daily_transactions_tx_from_tx_to_method.sql\u001b[0m \u001b[36mddl\u001b[0m=\u001b[35m10_view_agg_daily_transactions_tx_from_tx_to_method.sql\u001b[0m \u001b[36menv\u001b[0m=\u001b[35mPROD\u001b[0m \u001b[36mfilename\u001b[0m=\u001b[35mcreate.py\u001b[0m \u001b[36mlineno\u001b[0m=\u001b[35m67\u001b[0m \u001b[36mprocess\u001b[0m=\u001b[35m18309\u001b[0m\n",
      "\u001b[2m2025-03-10 16:55:55\u001b[0m [\u001b[32m\u001b[1minfo     \u001b[0m] \u001b[1mCREATE 11_view_agg_daily_transactions_tx_to_method.sql\u001b[0m \u001b[36mddl\u001b[0m=\u001b[35m11_view_agg_daily_transactions_tx_to_method.sql\u001b[0m \u001b[36menv\u001b[0m=\u001b[35mPROD\u001b[0m \u001b[36mfilename\u001b[0m=\u001b[35mcreate.py\u001b[0m \u001b[36mlineno\u001b[0m=\u001b[35m67\u001b[0m \u001b[36mprocess\u001b[0m=\u001b[35m18309\u001b[0m\n",
      "\u001b[2m2025-03-10 16:55:55\u001b[0m [\u001b[32m\u001b[1minfo     \u001b[0m] \u001b[1mCREATE 12_view_agg_daily_transactions_tx_to.sql\u001b[0m \u001b[36mddl\u001b[0m=\u001b[35m12_view_agg_daily_transactions_tx_to.sql\u001b[0m \u001b[36menv\u001b[0m=\u001b[35mPROD\u001b[0m \u001b[36mfilename\u001b[0m=\u001b[35mcreate.py\u001b[0m \u001b[36mlineno\u001b[0m=\u001b[35m67\u001b[0m \u001b[36mprocess\u001b[0m=\u001b[35m18309\u001b[0m\n",
      "\u001b[2m2025-03-10 16:55:55\u001b[0m [\u001b[32m\u001b[1minfo     \u001b[0m] \u001b[1mPrepared 1 transform tasks.   \u001b[0m \u001b[36menv\u001b[0m=\u001b[35mPROD\u001b[0m \u001b[36mfilename\u001b[0m=\u001b[35mmain.py\u001b[0m \u001b[36mlineno\u001b[0m=\u001b[35m75\u001b[0m \u001b[36mprocess\u001b[0m=\u001b[35m18309\u001b[0m\n",
      "\u001b[2m2025-03-10 16:55:55\u001b[0m [\u001b[32m\u001b[1minfo     \u001b[0m] \u001b[1mrunning ddl 01_agg_daily_transactions_grouping_sets.sql\u001b[0m \u001b[36mddl\u001b[0m=\u001b[35m01_agg_daily_transactions_grouping_sets.sql\u001b[0m \u001b[36mdt\u001b[0m=\u001b[35m2025-03-01\u001b[0m \u001b[36menv\u001b[0m=\u001b[35mPROD\u001b[0m \u001b[36mfilename\u001b[0m=\u001b[35mtransform.py\u001b[0m \u001b[36mlineno\u001b[0m=\u001b[35m82\u001b[0m \u001b[36mprocess\u001b[0m=\u001b[35m18309\u001b[0m \u001b[36mtask\u001b[0m=\u001b[35m1/1\u001b[0m\n",
      "\u001b[2m2025-03-10 16:56:17\u001b[0m [\u001b[32m\u001b[1minfo     \u001b[0m] \u001b[1m01_agg_daily_transactions_grouping_sets.sql -> 4342546 written rows\u001b[0m \u001b[36mddl\u001b[0m=\u001b[35m01_agg_daily_transactions_grouping_sets.sql\u001b[0m \u001b[36mdt\u001b[0m=\u001b[35m2025-03-01\u001b[0m \u001b[36melapsed_ns\u001b[0m=\u001b[35m21133582329\u001b[0m \u001b[36menv\u001b[0m=\u001b[35mPROD\u001b[0m \u001b[36mfilename\u001b[0m=\u001b[35mtransform.py\u001b[0m \u001b[36mlineno\u001b[0m=\u001b[35m104\u001b[0m \u001b[36mprocess\u001b[0m=\u001b[35m18309\u001b[0m \u001b[36mquery_id\u001b[0m=\u001b[35mb386f992-26a3-4521-a143-bda2a47a10ae\u001b[0m \u001b[36mread_bytes\u001b[0m=\u001b[35m1303260533\u001b[0m \u001b[36mread_rows\u001b[0m=\u001b[35m11650114\u001b[0m \u001b[36mresult_bytes\u001b[0m=\u001b[35m1691732946\u001b[0m \u001b[36mresult_rows\u001b[0m=\u001b[35m4342546\u001b[0m \u001b[36mtask\u001b[0m=\u001b[35m1/1\u001b[0m \u001b[36mtotal_rows_to_read\u001b[0m=\u001b[35m0\u001b[0m \u001b[36mwritten_bytes\u001b[0m=\u001b[35m1691732946\u001b[0m \u001b[36mwritten_rows\u001b[0m=\u001b[35m4342546\u001b[0m\n",
      "\u001b[2m2025-03-10 16:56:17\u001b[0m [\u001b[32m\u001b[1minfo     \u001b[0m] \u001b[1mrunning ddl 02_agg_daily_transactions.sql\u001b[0m \u001b[36mddl\u001b[0m=\u001b[35m02_agg_daily_transactions.sql\u001b[0m \u001b[36mdt\u001b[0m=\u001b[35m2025-03-01\u001b[0m \u001b[36menv\u001b[0m=\u001b[35mPROD\u001b[0m \u001b[36mfilename\u001b[0m=\u001b[35mtransform.py\u001b[0m \u001b[36mlineno\u001b[0m=\u001b[35m82\u001b[0m \u001b[36mprocess\u001b[0m=\u001b[35m18309\u001b[0m \u001b[36mtask\u001b[0m=\u001b[35m1/1\u001b[0m\n",
      "\u001b[2m2025-03-10 16:56:17\u001b[0m [\u001b[32m\u001b[1minfo     \u001b[0m] \u001b[1m02_agg_daily_transactions.sql -> 25 written rows\u001b[0m \u001b[36mddl\u001b[0m=\u001b[35m02_agg_daily_transactions.sql\u001b[0m \u001b[36mdt\u001b[0m=\u001b[35m2025-03-01\u001b[0m \u001b[36melapsed_ns\u001b[0m=\u001b[35m154608962\u001b[0m \u001b[36menv\u001b[0m=\u001b[35mPROD\u001b[0m \u001b[36mfilename\u001b[0m=\u001b[35mtransform.py\u001b[0m \u001b[36mlineno\u001b[0m=\u001b[35m104\u001b[0m \u001b[36mprocess\u001b[0m=\u001b[35m18309\u001b[0m \u001b[36mquery_id\u001b[0m=\u001b[35me98180b7-c0c7-4d95-b936-335ae77ddfaa\u001b[0m \u001b[36mread_bytes\u001b[0m=\u001b[35m52514864\u001b[0m \u001b[36mread_rows\u001b[0m=\u001b[35m541458\u001b[0m \u001b[36mresult_bytes\u001b[0m=\u001b[35m6660\u001b[0m \u001b[36mresult_rows\u001b[0m=\u001b[35m25\u001b[0m \u001b[36mtask\u001b[0m=\u001b[35m1/1\u001b[0m \u001b[36mtotal_rows_to_read\u001b[0m=\u001b[35m541458\u001b[0m \u001b[36mwritten_bytes\u001b[0m=\u001b[35m6660\u001b[0m \u001b[36mwritten_rows\u001b[0m=\u001b[35m25\u001b[0m\n"
     ]
    }
   ],
   "source": [
    "import os\n",
    "\n",
    "# Override to force BQ write.\n",
    "os.environ[\"OPLABS_ENV\"] = \"prod\"\n",
    "\n",
    "from op_analytics.transforms.main import execute_dt_transforms\n",
    "\n",
    "results = execute_dt_transforms(\n",
    "    group_name=\"fees\",\n",
    "    range_spec=\"@20241001:20250310\",\n",
    "    # range_spec=\"@20241018:+1\",\n",
    "    # update_only=[1, 2],\n",
    "    raise_if_empty=True,\n",
    "    force_complete=True,\n",
    ")"
   ]
  },
  {
   "cell_type": "code",
   "execution_count": null,
   "metadata": {},
   "outputs": [],
   "source": []
  }
 ],
 "metadata": {
  "kernelspec": {
   "display_name": ".venv",
   "language": "python",
   "name": "python3"
  },
  "language_info": {
   "codemirror_mode": {
    "name": "ipython",
    "version": 3
   },
   "file_extension": ".py",
   "mimetype": "text/x-python",
   "name": "python",
   "nbconvert_exporter": "python",
   "pygments_lexer": "ipython3",
   "version": "3.12.6"
  }
 },
 "nbformat": 4,
 "nbformat_minor": 2
}
