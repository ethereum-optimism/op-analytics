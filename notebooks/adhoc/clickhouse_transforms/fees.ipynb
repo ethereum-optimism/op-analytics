{
 "cells": [
  {
   "cell_type": "code",
   "execution_count": null,
   "metadata": {},
   "outputs": [],
   "source": [
    "import os\n",
    "\n",
    "# Override to force BQ write.\n",
    "os.environ[\"OPLABS_ENV\"] = \"prod\"\n",
    "\n",
    "from op_analytics.transforms.main import execute_dt_transforms\n",
    "\n",
    "results = execute_dt_transforms(\n",
    "    group_name=\"fees\",\n",
    "    range_spec=\"@20250322:20250401\",\n",
    "    # range_spec=\"@20250310:20250311\",\n",
    "    # range_spec=\"@20241018:+1\",\n",
    "    # steps_to_run=[3],\n",
    "    raise_if_empty=True,\n",
    "    force_complete=True,\n",
    "    reverse=True\n",
    ")"
   ]
  },
  {
   "cell_type": "code",
   "execution_count": null,
   "metadata": {},
   "outputs": [],
   "source": []
  }
 ],
 "metadata": {
  "kernelspec": {
   "display_name": ".venv",
   "language": "python",
   "name": "python3"
  },
  "language_info": {
   "codemirror_mode": {
    "name": "ipython",
    "version": 3
   },
   "file_extension": ".py",
   "mimetype": "text/x-python",
   "name": "python",
   "nbconvert_exporter": "python",
   "pygments_lexer": "ipython3",
   "version": "3.12.6"
  }
 },
 "nbformat": 4,
 "nbformat_minor": 2
}
