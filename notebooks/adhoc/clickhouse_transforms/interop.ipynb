{
 "cells": [
  {
   "cell_type": "code",
   "execution_count": null,
   "metadata": {},
   "outputs": [],
   "source": [
    "import os\n",
    "\n",
    "# Override to force BQ write.\n",
    "os.environ[\"OPLABS_ENV\"] = \"prod\"\n",
    "\n",
    "from op_analytics.transforms.main import execute_dt_transforms\n",
    "\n",
    "\n",
    "results = execute_dt_transforms(\n",
    "    group_name=\"interop\",\n",
    "    range_spec=\"@20241001:20250206\",\n",
    "    # range_spec=\"@20241001:+1\",\n",
    "    update_only=[6],\n",
    "    skip_create=False,\n",
    "    raise_if_empty=False,\n",
    "    max_tasks=None,\n",
    "    force_complete=True,\n",
    ")"
   ]
  }
 ],
 "metadata": {
  "kernelspec": {
   "display_name": ".venv",
   "language": "python",
   "name": "python3"
  },
  "language_info": {
   "name": "python",
   "version": "3.12.6"
  }
 },
 "nbformat": 4,
 "nbformat_minor": 2
}
