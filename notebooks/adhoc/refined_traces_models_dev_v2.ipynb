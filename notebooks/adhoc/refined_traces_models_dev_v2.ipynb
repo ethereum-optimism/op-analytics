{
 "cells": [
  {
   "cell_type": "markdown",
   "metadata": {},
   "source": [
    "## Prepare data reader and up model execution context"
   ]
  },
  {
   "cell_type": "code",
   "execution_count": null,
   "metadata": {},
   "outputs": [
    {
     "name": "stdout",
     "output_type": "stream",
     "text": [
      "\u001b[2m2024-12-18 12:33:27\u001b[0m [\u001b[32m\u001b[1minfo     \u001b[0m] \u001b[1mprepared 22 input batches.    \u001b[0m \u001b[36mfilename\u001b[0m=\u001b[35mbyblock.py\u001b[0m \u001b[36mlineno\u001b[0m=\u001b[35m85\u001b[0m \u001b[36mprocess\u001b[0m=\u001b[35m96452\u001b[0m\n",
      "\u001b[2m2024-12-18 12:33:27\u001b[0m [\u001b[32m\u001b[1minfo     \u001b[0m] \u001b[1mreading dataset='ingestion/blocks_v1' using 1/1 parquet paths, first path is gs://oplabs-tools-data-sink/ingestion/blocks_v1/chain=op/dt=2024-11-18/000128144000.parquet\u001b[0m \u001b[36mfilename\u001b[0m=\u001b[35mreader.py\u001b[0m \u001b[36mlineno\u001b[0m=\u001b[35m68\u001b[0m \u001b[36mprocess\u001b[0m=\u001b[35m96452\u001b[0m\n",
      "\u001b[2m2024-12-18 12:33:27\u001b[0m [\u001b[32m\u001b[1minfo     \u001b[0m] \u001b[1mreading dataset='ingestion/traces_v1' using 1/1 parquet paths, first path is gs://oplabs-tools-data-sink/ingestion/traces_v1/chain=op/dt=2024-11-18/000128144000.parquet\u001b[0m \u001b[36mfilename\u001b[0m=\u001b[35mreader.py\u001b[0m \u001b[36mlineno\u001b[0m=\u001b[35m68\u001b[0m \u001b[36mprocess\u001b[0m=\u001b[35m96452\u001b[0m\n",
      "\u001b[2m2024-12-18 12:33:27\u001b[0m [\u001b[32m\u001b[1minfo     \u001b[0m] \u001b[1mreading dataset='ingestion/transactions_v1' using 1/1 parquet paths, first path is gs://oplabs-tools-data-sink/ingestion/transactions_v1/chain=op/dt=2024-11-18/000128144000.parquet\u001b[0m \u001b[36mfilename\u001b[0m=\u001b[35mreader.py\u001b[0m \u001b[36mlineno\u001b[0m=\u001b[35m68\u001b[0m \u001b[36mprocess\u001b[0m=\u001b[35m96452\u001b[0m\n",
      "\n",
      "INPUT: ingestion/blocks_v1\n",
      "INPUT: ingestion/traces_v1\n",
      "INPUT: ingestion/transactions_v1\n",
      "\n",
      "AUX VIEW: refined_transactions_fees\n",
      "AUX VIEW: refined_traces_fees\n"
     ]
    }
   ],
   "source": [
    "\n",
    "from op_analytics.coreutils.partitioned.location import DataLocation\n",
    "from op_analytics.coreutils.partitioned.reader import DataReader\n",
    "from op_analytics.datapipeline.etl.blockbatch.construct import construct_data_readers\n",
    "from op_analytics.datapipeline.models.compute.testutils import setup_execution_context\n",
    "\n",
    "model_name = \"refined_traces\"\n",
    "\n",
    "# Define the input data range.\n",
    "readers: list[DataReader] = construct_data_readers(\n",
    "    chains=[\"op\"],\n",
    "    models=[model_name],\n",
    "    range_spec=\"@20241118:+1\",\n",
    "    read_from=DataLocation.GCS,\n",
    ")\n",
    "\n",
    "\n",
    "# Set up execution context and get handles to model input args.\n",
    "# In subsequent cells you can use the model input args however you want.\n",
    "ctx, input_datasets, aux_views = setup_execution_context(\n",
    "    model_name=model_name,\n",
    "    data_reader=readers[0] # use the first reader\n",
    ")\n"
   ]
  },
  {
   "cell_type": "markdown",
   "metadata": {},
   "source": [
    "## Execute the model\n",
    "\n",
    "It's up to you how the model manipulates the data. \n",
    "\n",
    "Develop the various steps in notebook cells and then copy the final code over to the model function."
   ]
  },
  {
   "cell_type": "code",
   "execution_count": 7,
   "metadata": {},
   "outputs": [
    {
     "name": "stdout",
     "output_type": "stream",
     "text": [
      "\u001b[2m2024-12-18 12:41:20\u001b[0m [\u001b[32m\u001b[1minfo     \u001b[0m] \u001b[1mcreated view ingestion_blocks_v1_view using 1 parquet paths\u001b[0m \u001b[36mfilename\u001b[0m=\u001b[35mclient.py\u001b[0m \u001b[36mlineno\u001b[0m=\u001b[35m138\u001b[0m \u001b[36mprocess\u001b[0m=\u001b[35m96452\u001b[0m\n",
      "\u001b[2m2024-12-18 12:41:20\u001b[0m [\u001b[32m\u001b[1minfo     \u001b[0m] \u001b[1mduck db size: 12.3KB          \u001b[0m \u001b[36mfilename\u001b[0m=\u001b[35mclient.py\u001b[0m \u001b[36mlineno\u001b[0m=\u001b[35m33\u001b[0m \u001b[36mprocess\u001b[0m=\u001b[35m96452\u001b[0m\n",
      "\u001b[2m2024-12-18 12:41:21\u001b[0m [\u001b[32m\u001b[1minfo     \u001b[0m] \u001b[1mcreated view ingestion_transactions_v1_view using 1 parquet paths\u001b[0m \u001b[36mfilename\u001b[0m=\u001b[35mclient.py\u001b[0m \u001b[36mlineno\u001b[0m=\u001b[35m138\u001b[0m \u001b[36mprocess\u001b[0m=\u001b[35m96452\u001b[0m\n",
      "\u001b[2m2024-12-18 12:41:21\u001b[0m [\u001b[32m\u001b[1minfo     \u001b[0m] \u001b[1mduck db size: 12.3KB          \u001b[0m \u001b[36mfilename\u001b[0m=\u001b[35mclient.py\u001b[0m \u001b[36mlineno\u001b[0m=\u001b[35m33\u001b[0m \u001b[36mprocess\u001b[0m=\u001b[35m96452\u001b[0m\n",
      "\u001b[2m2024-12-18 12:41:21\u001b[0m [\u001b[32m\u001b[1minfo     \u001b[0m] \u001b[1mRendering query               \u001b[0m \u001b[36mfilename\u001b[0m=\u001b[35mquerybuilder.py\u001b[0m \u001b[36mlineno\u001b[0m=\u001b[35m40\u001b[0m \u001b[36mprocess\u001b[0m=\u001b[35m96452\u001b[0m \u001b[36mtemplate\u001b[0m=\u001b[35mrefined_transactions_fees\u001b[0m\n",
      "\u001b[2m2024-12-18 12:41:24\u001b[0m [\u001b[32m\u001b[1minfo     \u001b[0m] \u001b[1mduck db size: 8.4MB           \u001b[0m \u001b[36mfilename\u001b[0m=\u001b[35mclient.py\u001b[0m \u001b[36mlineno\u001b[0m=\u001b[35m33\u001b[0m \u001b[36mprocess\u001b[0m=\u001b[35m96452\u001b[0m\n"
     ]
    }
   ],
   "source": [
    "# Create a table with the refined transactions\n",
    "\n",
    "blocks_view = input_datasets[\"ingestion/blocks_v1\"].create_view()\n",
    "transactions_view = input_datasets[\"ingestion/transactions_v1\"].create_view()\n",
    "\n",
    "refined_txs = aux_views[\"refined_transactions_fees\"].create_table(\n",
    "    duckdb_context=ctx,\n",
    "    template_parameters={\n",
    "        \"raw_blocks\": blocks_view,\n",
    "        \"raw_transactions\": transactions_view,\n",
    "    },\n",
    ")"
   ]
  },
  {
   "cell_type": "code",
   "execution_count": 8,
   "metadata": {},
   "outputs": [
    {
     "name": "stdout",
     "output_type": "stream",
     "text": [
      "┌─────────────────────────────────────┬────────────────┬─────────┬─────────┬─────────┬─────────┐\n",
      "│             column_name             │  column_type   │  null   │   key   │ default │  extra  │\n",
      "│               varchar               │    varchar     │ varchar │ varchar │ varchar │ varchar │\n",
      "├─────────────────────────────────────┼────────────────┼─────────┼─────────┼─────────┼─────────┤\n",
      "│ dt                                  │ DATE           │ YES     │ NULL    │ NULL    │ NULL    │\n",
      "│ chain                               │ VARCHAR        │ YES     │ NULL    │ NULL    │ NULL    │\n",
      "│ chain_id                            │ INTEGER        │ YES     │ NULL    │ NULL    │ NULL    │\n",
      "│ network                             │ VARCHAR        │ YES     │ NULL    │ NULL    │ NULL    │\n",
      "│ nonce                               │ BIGINT         │ YES     │ NULL    │ NULL    │ NULL    │\n",
      "│ transaction_index                   │ BIGINT         │ YES     │ NULL    │ NULL    │ NULL    │\n",
      "│ from_address                        │ VARCHAR        │ YES     │ NULL    │ NULL    │ NULL    │\n",
      "│ to_address                          │ VARCHAR        │ YES     │ NULL    │ NULL    │ NULL    │\n",
      "│ block_number                        │ BIGINT         │ YES     │ NULL    │ NULL    │ NULL    │\n",
      "│ block_timestamp                     │ UINTEGER       │ YES     │ NULL    │ NULL    │ NULL    │\n",
      "│ hash                                │ VARCHAR        │ YES     │ NULL    │ NULL    │ NULL    │\n",
      "│ transaction_type                    │ INTEGER        │ YES     │ NULL    │ NULL    │ NULL    │\n",
      "│ gas_price                           │ BIGINT         │ YES     │ NULL    │ NULL    │ NULL    │\n",
      "│ gas_limit                           │ BIGINT         │ YES     │ NULL    │ NULL    │ NULL    │\n",
      "│ l2_gas_used                         │ BIGINT         │ YES     │ NULL    │ NULL    │ NULL    │\n",
      "│ receipt_l1_gas_used                 │ BIGINT         │ YES     │ NULL    │ NULL    │ NULL    │\n",
      "│ l1_fee                              │ BIGINT         │ YES     │ NULL    │ NULL    │ NULL    │\n",
      "│ l1_gas_price                        │ BIGINT         │ YES     │ NULL    │ NULL    │ NULL    │\n",
      "│ l1_blob_base_fee                    │ BIGINT         │ YES     │ NULL    │ NULL    │ NULL    │\n",
      "│ base_fee_per_gas                    │ BIGINT         │ YES     │ NULL    │ NULL    │ NULL    │\n",
      "│ max_priority_fee_per_gas            │ BIGINT         │ YES     │ NULL    │ NULL    │ NULL    │\n",
      "│ l1_fee_scalar                       │ DECIMAL(12,6)  │ YES     │ NULL    │ NULL    │ NULL    │\n",
      "│ l1_base_fee_scalar                  │ DECIMAL(26,7)  │ YES     │ NULL    │ NULL    │ NULL    │\n",
      "│ l1_blob_base_fee_scalar             │ DECIMAL(26,7)  │ YES     │ NULL    │ NULL    │ NULL    │\n",
      "│ legacy_extra_fee_per_gas            │ BIGINT         │ YES     │ NULL    │ NULL    │ NULL    │\n",
      "│ l2_fee                              │ BIGINT         │ YES     │ NULL    │ NULL    │ NULL    │\n",
      "│ l2_priority_fee                     │ BIGINT         │ YES     │ NULL    │ NULL    │ NULL    │\n",
      "│ l2_base_fee                         │ BIGINT         │ YES     │ NULL    │ NULL    │ NULL    │\n",
      "│ method_id                           │ VARCHAR        │ YES     │ NULL    │ NULL    │ NULL    │\n",
      "│ success                             │ BOOLEAN        │ YES     │ NULL    │ NULL    │ NULL    │\n",
      "│ input_byte_length                   │ INTEGER        │ YES     │ NULL    │ NULL    │ NULL    │\n",
      "│ input_zero_bytes                    │ INTEGER        │ YES     │ NULL    │ NULL    │ NULL    │\n",
      "│ is_system_transaction               │ BOOLEAN        │ YES     │ NULL    │ NULL    │ NULL    │\n",
      "│ is_attributes_deposited_transaction │ BOOLEAN        │ YES     │ NULL    │ NULL    │ NULL    │\n",
      "│ block_hour                          │ TIMESTAMP      │ YES     │ NULL    │ NULL    │ NULL    │\n",
      "│ estimated_size                      │ BIGINT         │ YES     │ NULL    │ NULL    │ NULL    │\n",
      "│ l1_gas_used_unified                 │ BIGINT         │ YES     │ NULL    │ NULL    │ NULL    │\n",
      "│ tx_fee                              │ BIGINT         │ YES     │ NULL    │ NULL    │ NULL    │\n",
      "│ l2_legacy_extra_fee                 │ BIGINT         │ YES     │ NULL    │ NULL    │ NULL    │\n",
      "│ l1_base_fee                         │ DECIMAL(38,12) │ YES     │ NULL    │ NULL    │ NULL    │\n",
      "│ l1_base_scaled_size                 │ DECIMAL(38,12) │ YES     │ NULL    │ NULL    │ NULL    │\n",
      "│ l1_blob_fee                         │ DECIMAL(38,12) │ YES     │ NULL    │ NULL    │ NULL    │\n",
      "│ l1_blob_scaled_size                 │ DECIMAL(38,12) │ YES     │ NULL    │ NULL    │ NULL    │\n",
      "│ tx_fee_native                       │ DECIMAL(38,19) │ YES     │ NULL    │ NULL    │ NULL    │\n",
      "│ l1_fee_native                       │ DECIMAL(38,19) │ YES     │ NULL    │ NULL    │ NULL    │\n",
      "│ l2_fee_native                       │ DECIMAL(38,19) │ YES     │ NULL    │ NULL    │ NULL    │\n",
      "│ l1_base_fee_native                  │ DECIMAL(38,19) │ YES     │ NULL    │ NULL    │ NULL    │\n",
      "│ l1_blob_fee_native                  │ DECIMAL(38,19) │ YES     │ NULL    │ NULL    │ NULL    │\n",
      "│ l2_base_fee_native                  │ DECIMAL(38,19) │ YES     │ NULL    │ NULL    │ NULL    │\n",
      "│ l2_priority_fee_native              │ DECIMAL(38,19) │ YES     │ NULL    │ NULL    │ NULL    │\n",
      "│ l2_legacy_extra_fee_native          │ DECIMAL(38,19) │ YES     │ NULL    │ NULL    │ NULL    │\n",
      "│ l2_gas_price_gwei                   │ DECIMAL(38,10) │ YES     │ NULL    │ NULL    │ NULL    │\n",
      "│ l2_base_gas_price_gwei              │ DECIMAL(38,10) │ YES     │ NULL    │ NULL    │ NULL    │\n",
      "│ l2_priority_gas_price_gwei          │ DECIMAL(38,10) │ YES     │ NULL    │ NULL    │ NULL    │\n",
      "│ l2_legacy_extra_gas_price_gwei      │ DECIMAL(38,10) │ YES     │ NULL    │ NULL    │ NULL    │\n",
      "│ l1_base_gas_price_gwei              │ DECIMAL(38,10) │ YES     │ NULL    │ NULL    │ NULL    │\n",
      "│ l1_blob_base_gas_price_gwei         │ DECIMAL(38,10) │ YES     │ NULL    │ NULL    │ NULL    │\n",
      "├─────────────────────────────────────┴────────────────┴─────────┴─────────┴─────────┴─────────┤\n",
      "│ 57 rows                                                                            6 columns │\n",
      "└──────────────────────────────────────────────────────────────────────────────────────────────┘\n",
      "\n"
     ]
    }
   ],
   "source": [
    "client.sql(f\"DESCRIBE {refined_txs}\").show(max_rows=1000)"
   ]
  },
  {
   "cell_type": "code",
   "execution_count": null,
   "metadata": {},
   "outputs": [],
   "source": [
    "# traces_view  = input_datasets[\"ingestion/traces_v1\"].create_view()\n",
    "\n",
    "# refined_traces = aux_views[\"refined_traces_fees\"].create_table(\n",
    "#     duckdb_context=duckdb_context,\n",
    "#     template_parameters={\n",
    "#         \"raw_traces\": traces_view,\n",
    "#         \"refined_txs\": refined_txs,\n",
    "#     },\n",
    "# )"
   ]
  },
  {
   "cell_type": "code",
   "execution_count": 9,
   "metadata": {},
   "outputs": [
    {
     "data": {
      "text/plain": [
       "┌────────────────────────────────┐\n",
       "│              name              │\n",
       "│            varchar             │\n",
       "├────────────────────────────────┤\n",
       "│ ingestion_blocks_v1_view       │\n",
       "│ ingestion_transactions_v1_view │\n",
       "│ refined_transactions_fees      │\n",
       "└────────────────────────────────┘"
      ]
     },
     "execution_count": 9,
     "metadata": {},
     "output_type": "execute_result"
    }
   ],
   "source": [
    "client.sql(\"SHOW TABLES\")"
   ]
  },
  {
   "cell_type": "code",
   "execution_count": 10,
   "metadata": {},
   "outputs": [
    {
     "data": {
      "text/plain": [
       "┌──────────────┐\n",
       "│ count_star() │\n",
       "│    int64     │\n",
       "├──────────────┤\n",
       "│        33168 │\n",
       "└──────────────┘"
      ]
     },
     "execution_count": 10,
     "metadata": {},
     "output_type": "execute_result"
    }
   ],
   "source": [
    "client.sql(\"SELECT COUNT(*) FROM refined_transactions_fees\")"
   ]
  },
  {
   "cell_type": "code",
   "execution_count": null,
   "metadata": {},
   "outputs": [],
   "source": [
    "client.sql(\"SELECT COUNT(*) FROM refined_traces_fees\")"
   ]
  },
  {
   "cell_type": "code",
   "execution_count": 11,
   "metadata": {},
   "outputs": [
    {
     "data": {
      "text/html": [
       "<div><style>\n",
       ".dataframe > thead > tr,\n",
       ".dataframe > tbody > tr {\n",
       "  text-align: right;\n",
       "  white-space: pre-wrap;\n",
       "}\n",
       "</style>\n",
       "<small>shape: (57, 6)</small><table border=\"1\" class=\"dataframe\"><thead><tr><th>column_name</th><th>column_type</th><th>null</th><th>key</th><th>default</th><th>extra</th></tr><tr><td>str</td><td>str</td><td>str</td><td>str</td><td>str</td><td>str</td></tr></thead><tbody><tr><td>&quot;dt&quot;</td><td>&quot;DATE&quot;</td><td>&quot;YES&quot;</td><td>null</td><td>null</td><td>null</td></tr><tr><td>&quot;chain&quot;</td><td>&quot;VARCHAR&quot;</td><td>&quot;YES&quot;</td><td>null</td><td>null</td><td>null</td></tr><tr><td>&quot;chain_id&quot;</td><td>&quot;INTEGER&quot;</td><td>&quot;YES&quot;</td><td>null</td><td>null</td><td>null</td></tr><tr><td>&quot;network&quot;</td><td>&quot;VARCHAR&quot;</td><td>&quot;YES&quot;</td><td>null</td><td>null</td><td>null</td></tr><tr><td>&quot;nonce&quot;</td><td>&quot;BIGINT&quot;</td><td>&quot;YES&quot;</td><td>null</td><td>null</td><td>null</td></tr><tr><td>&quot;transaction_index&quot;</td><td>&quot;BIGINT&quot;</td><td>&quot;YES&quot;</td><td>null</td><td>null</td><td>null</td></tr><tr><td>&quot;from_address&quot;</td><td>&quot;VARCHAR&quot;</td><td>&quot;YES&quot;</td><td>null</td><td>null</td><td>null</td></tr><tr><td>&quot;to_address&quot;</td><td>&quot;VARCHAR&quot;</td><td>&quot;YES&quot;</td><td>null</td><td>null</td><td>null</td></tr><tr><td>&quot;block_number&quot;</td><td>&quot;BIGINT&quot;</td><td>&quot;YES&quot;</td><td>null</td><td>null</td><td>null</td></tr><tr><td>&quot;block_timestamp&quot;</td><td>&quot;UINTEGER&quot;</td><td>&quot;YES&quot;</td><td>null</td><td>null</td><td>null</td></tr><tr><td>&quot;hash&quot;</td><td>&quot;VARCHAR&quot;</td><td>&quot;YES&quot;</td><td>null</td><td>null</td><td>null</td></tr><tr><td>&quot;transaction_type&quot;</td><td>&quot;INTEGER&quot;</td><td>&quot;YES&quot;</td><td>null</td><td>null</td><td>null</td></tr><tr><td>&quot;gas_price&quot;</td><td>&quot;BIGINT&quot;</td><td>&quot;YES&quot;</td><td>null</td><td>null</td><td>null</td></tr><tr><td>&quot;gas_limit&quot;</td><td>&quot;BIGINT&quot;</td><td>&quot;YES&quot;</td><td>null</td><td>null</td><td>null</td></tr><tr><td>&quot;l2_gas_used&quot;</td><td>&quot;BIGINT&quot;</td><td>&quot;YES&quot;</td><td>null</td><td>null</td><td>null</td></tr><tr><td>&quot;receipt_l1_gas_used&quot;</td><td>&quot;BIGINT&quot;</td><td>&quot;YES&quot;</td><td>null</td><td>null</td><td>null</td></tr><tr><td>&quot;l1_fee&quot;</td><td>&quot;BIGINT&quot;</td><td>&quot;YES&quot;</td><td>null</td><td>null</td><td>null</td></tr><tr><td>&quot;l1_gas_price&quot;</td><td>&quot;BIGINT&quot;</td><td>&quot;YES&quot;</td><td>null</td><td>null</td><td>null</td></tr><tr><td>&quot;l1_blob_base_fee&quot;</td><td>&quot;BIGINT&quot;</td><td>&quot;YES&quot;</td><td>null</td><td>null</td><td>null</td></tr><tr><td>&quot;base_fee_per_gas&quot;</td><td>&quot;BIGINT&quot;</td><td>&quot;YES&quot;</td><td>null</td><td>null</td><td>null</td></tr><tr><td>&quot;max_priority_fee_per_gas&quot;</td><td>&quot;BIGINT&quot;</td><td>&quot;YES&quot;</td><td>null</td><td>null</td><td>null</td></tr><tr><td>&quot;l1_fee_scalar&quot;</td><td>&quot;DECIMAL(12,6)&quot;</td><td>&quot;YES&quot;</td><td>null</td><td>null</td><td>null</td></tr><tr><td>&quot;l1_base_fee_scalar&quot;</td><td>&quot;DECIMAL(26,7)&quot;</td><td>&quot;YES&quot;</td><td>null</td><td>null</td><td>null</td></tr><tr><td>&quot;l1_blob_base_fee_scalar&quot;</td><td>&quot;DECIMAL(26,7)&quot;</td><td>&quot;YES&quot;</td><td>null</td><td>null</td><td>null</td></tr><tr><td>&quot;legacy_extra_fee_per_gas&quot;</td><td>&quot;BIGINT&quot;</td><td>&quot;YES&quot;</td><td>null</td><td>null</td><td>null</td></tr><tr><td>&quot;l2_fee&quot;</td><td>&quot;BIGINT&quot;</td><td>&quot;YES&quot;</td><td>null</td><td>null</td><td>null</td></tr><tr><td>&quot;l2_priority_fee&quot;</td><td>&quot;BIGINT&quot;</td><td>&quot;YES&quot;</td><td>null</td><td>null</td><td>null</td></tr><tr><td>&quot;l2_base_fee&quot;</td><td>&quot;BIGINT&quot;</td><td>&quot;YES&quot;</td><td>null</td><td>null</td><td>null</td></tr><tr><td>&quot;method_id&quot;</td><td>&quot;VARCHAR&quot;</td><td>&quot;YES&quot;</td><td>null</td><td>null</td><td>null</td></tr><tr><td>&quot;success&quot;</td><td>&quot;BOOLEAN&quot;</td><td>&quot;YES&quot;</td><td>null</td><td>null</td><td>null</td></tr><tr><td>&quot;input_byte_length&quot;</td><td>&quot;INTEGER&quot;</td><td>&quot;YES&quot;</td><td>null</td><td>null</td><td>null</td></tr><tr><td>&quot;input_zero_bytes&quot;</td><td>&quot;INTEGER&quot;</td><td>&quot;YES&quot;</td><td>null</td><td>null</td><td>null</td></tr><tr><td>&quot;is_system_transaction&quot;</td><td>&quot;BOOLEAN&quot;</td><td>&quot;YES&quot;</td><td>null</td><td>null</td><td>null</td></tr><tr><td>&quot;is_attributes_deposited_transaction&quot;</td><td>&quot;BOOLEAN&quot;</td><td>&quot;YES&quot;</td><td>null</td><td>null</td><td>null</td></tr><tr><td>&quot;block_hour&quot;</td><td>&quot;TIMESTAMP&quot;</td><td>&quot;YES&quot;</td><td>null</td><td>null</td><td>null</td></tr><tr><td>&quot;estimated_size&quot;</td><td>&quot;BIGINT&quot;</td><td>&quot;YES&quot;</td><td>null</td><td>null</td><td>null</td></tr><tr><td>&quot;l1_gas_used_unified&quot;</td><td>&quot;BIGINT&quot;</td><td>&quot;YES&quot;</td><td>null</td><td>null</td><td>null</td></tr><tr><td>&quot;tx_fee&quot;</td><td>&quot;BIGINT&quot;</td><td>&quot;YES&quot;</td><td>null</td><td>null</td><td>null</td></tr><tr><td>&quot;l2_legacy_extra_fee&quot;</td><td>&quot;BIGINT&quot;</td><td>&quot;YES&quot;</td><td>null</td><td>null</td><td>null</td></tr><tr><td>&quot;l1_base_fee&quot;</td><td>&quot;DECIMAL(38,12)&quot;</td><td>&quot;YES&quot;</td><td>null</td><td>null</td><td>null</td></tr><tr><td>&quot;l1_base_scaled_size&quot;</td><td>&quot;DECIMAL(38,12)&quot;</td><td>&quot;YES&quot;</td><td>null</td><td>null</td><td>null</td></tr><tr><td>&quot;l1_blob_fee&quot;</td><td>&quot;DECIMAL(38,12)&quot;</td><td>&quot;YES&quot;</td><td>null</td><td>null</td><td>null</td></tr><tr><td>&quot;l1_blob_scaled_size&quot;</td><td>&quot;DECIMAL(38,12)&quot;</td><td>&quot;YES&quot;</td><td>null</td><td>null</td><td>null</td></tr><tr><td>&quot;tx_fee_native&quot;</td><td>&quot;DECIMAL(38,19)&quot;</td><td>&quot;YES&quot;</td><td>null</td><td>null</td><td>null</td></tr><tr><td>&quot;l1_fee_native&quot;</td><td>&quot;DECIMAL(38,19)&quot;</td><td>&quot;YES&quot;</td><td>null</td><td>null</td><td>null</td></tr><tr><td>&quot;l2_fee_native&quot;</td><td>&quot;DECIMAL(38,19)&quot;</td><td>&quot;YES&quot;</td><td>null</td><td>null</td><td>null</td></tr><tr><td>&quot;l1_base_fee_native&quot;</td><td>&quot;DECIMAL(38,19)&quot;</td><td>&quot;YES&quot;</td><td>null</td><td>null</td><td>null</td></tr><tr><td>&quot;l1_blob_fee_native&quot;</td><td>&quot;DECIMAL(38,19)&quot;</td><td>&quot;YES&quot;</td><td>null</td><td>null</td><td>null</td></tr><tr><td>&quot;l2_base_fee_native&quot;</td><td>&quot;DECIMAL(38,19)&quot;</td><td>&quot;YES&quot;</td><td>null</td><td>null</td><td>null</td></tr><tr><td>&quot;l2_priority_fee_native&quot;</td><td>&quot;DECIMAL(38,19)&quot;</td><td>&quot;YES&quot;</td><td>null</td><td>null</td><td>null</td></tr><tr><td>&quot;l2_legacy_extra_fee_native&quot;</td><td>&quot;DECIMAL(38,19)&quot;</td><td>&quot;YES&quot;</td><td>null</td><td>null</td><td>null</td></tr><tr><td>&quot;l2_gas_price_gwei&quot;</td><td>&quot;DECIMAL(38,10)&quot;</td><td>&quot;YES&quot;</td><td>null</td><td>null</td><td>null</td></tr><tr><td>&quot;l2_base_gas_price_gwei&quot;</td><td>&quot;DECIMAL(38,10)&quot;</td><td>&quot;YES&quot;</td><td>null</td><td>null</td><td>null</td></tr><tr><td>&quot;l2_priority_gas_price_gwei&quot;</td><td>&quot;DECIMAL(38,10)&quot;</td><td>&quot;YES&quot;</td><td>null</td><td>null</td><td>null</td></tr><tr><td>&quot;l2_legacy_extra_gas_price_gwei&quot;</td><td>&quot;DECIMAL(38,10)&quot;</td><td>&quot;YES&quot;</td><td>null</td><td>null</td><td>null</td></tr><tr><td>&quot;l1_base_gas_price_gwei&quot;</td><td>&quot;DECIMAL(38,10)&quot;</td><td>&quot;YES&quot;</td><td>null</td><td>null</td><td>null</td></tr><tr><td>&quot;l1_blob_base_gas_price_gwei&quot;</td><td>&quot;DECIMAL(38,10)&quot;</td><td>&quot;YES&quot;</td><td>null</td><td>null</td><td>null</td></tr></tbody></table></div>"
      ],
      "text/plain": [
       "shape: (57, 6)\n",
       "┌─────────────────────────────────────┬────────────────┬──────┬──────┬─────────┬───────┐\n",
       "│ column_name                         ┆ column_type    ┆ null ┆ key  ┆ default ┆ extra │\n",
       "│ ---                                 ┆ ---            ┆ ---  ┆ ---  ┆ ---     ┆ ---   │\n",
       "│ str                                 ┆ str            ┆ str  ┆ str  ┆ str     ┆ str   │\n",
       "╞═════════════════════════════════════╪════════════════╪══════╪══════╪═════════╪═══════╡\n",
       "│ dt                                  ┆ DATE           ┆ YES  ┆ null ┆ null    ┆ null  │\n",
       "│ chain                               ┆ VARCHAR        ┆ YES  ┆ null ┆ null    ┆ null  │\n",
       "│ chain_id                            ┆ INTEGER        ┆ YES  ┆ null ┆ null    ┆ null  │\n",
       "│ network                             ┆ VARCHAR        ┆ YES  ┆ null ┆ null    ┆ null  │\n",
       "│ nonce                               ┆ BIGINT         ┆ YES  ┆ null ┆ null    ┆ null  │\n",
       "│ transaction_index                   ┆ BIGINT         ┆ YES  ┆ null ┆ null    ┆ null  │\n",
       "│ from_address                        ┆ VARCHAR        ┆ YES  ┆ null ┆ null    ┆ null  │\n",
       "│ to_address                          ┆ VARCHAR        ┆ YES  ┆ null ┆ null    ┆ null  │\n",
       "│ block_number                        ┆ BIGINT         ┆ YES  ┆ null ┆ null    ┆ null  │\n",
       "│ block_timestamp                     ┆ UINTEGER       ┆ YES  ┆ null ┆ null    ┆ null  │\n",
       "│ hash                                ┆ VARCHAR        ┆ YES  ┆ null ┆ null    ┆ null  │\n",
       "│ transaction_type                    ┆ INTEGER        ┆ YES  ┆ null ┆ null    ┆ null  │\n",
       "│ gas_price                           ┆ BIGINT         ┆ YES  ┆ null ┆ null    ┆ null  │\n",
       "│ gas_limit                           ┆ BIGINT         ┆ YES  ┆ null ┆ null    ┆ null  │\n",
       "│ l2_gas_used                         ┆ BIGINT         ┆ YES  ┆ null ┆ null    ┆ null  │\n",
       "│ receipt_l1_gas_used                 ┆ BIGINT         ┆ YES  ┆ null ┆ null    ┆ null  │\n",
       "│ l1_fee                              ┆ BIGINT         ┆ YES  ┆ null ┆ null    ┆ null  │\n",
       "│ l1_gas_price                        ┆ BIGINT         ┆ YES  ┆ null ┆ null    ┆ null  │\n",
       "│ l1_blob_base_fee                    ┆ BIGINT         ┆ YES  ┆ null ┆ null    ┆ null  │\n",
       "│ base_fee_per_gas                    ┆ BIGINT         ┆ YES  ┆ null ┆ null    ┆ null  │\n",
       "│ max_priority_fee_per_gas            ┆ BIGINT         ┆ YES  ┆ null ┆ null    ┆ null  │\n",
       "│ l1_fee_scalar                       ┆ DECIMAL(12,6)  ┆ YES  ┆ null ┆ null    ┆ null  │\n",
       "│ l1_base_fee_scalar                  ┆ DECIMAL(26,7)  ┆ YES  ┆ null ┆ null    ┆ null  │\n",
       "│ l1_blob_base_fee_scalar             ┆ DECIMAL(26,7)  ┆ YES  ┆ null ┆ null    ┆ null  │\n",
       "│ legacy_extra_fee_per_gas            ┆ BIGINT         ┆ YES  ┆ null ┆ null    ┆ null  │\n",
       "│ l2_fee                              ┆ BIGINT         ┆ YES  ┆ null ┆ null    ┆ null  │\n",
       "│ l2_priority_fee                     ┆ BIGINT         ┆ YES  ┆ null ┆ null    ┆ null  │\n",
       "│ l2_base_fee                         ┆ BIGINT         ┆ YES  ┆ null ┆ null    ┆ null  │\n",
       "│ method_id                           ┆ VARCHAR        ┆ YES  ┆ null ┆ null    ┆ null  │\n",
       "│ success                             ┆ BOOLEAN        ┆ YES  ┆ null ┆ null    ┆ null  │\n",
       "│ input_byte_length                   ┆ INTEGER        ┆ YES  ┆ null ┆ null    ┆ null  │\n",
       "│ input_zero_bytes                    ┆ INTEGER        ┆ YES  ┆ null ┆ null    ┆ null  │\n",
       "│ is_system_transaction               ┆ BOOLEAN        ┆ YES  ┆ null ┆ null    ┆ null  │\n",
       "│ is_attributes_deposited_transaction ┆ BOOLEAN        ┆ YES  ┆ null ┆ null    ┆ null  │\n",
       "│ block_hour                          ┆ TIMESTAMP      ┆ YES  ┆ null ┆ null    ┆ null  │\n",
       "│ estimated_size                      ┆ BIGINT         ┆ YES  ┆ null ┆ null    ┆ null  │\n",
       "│ l1_gas_used_unified                 ┆ BIGINT         ┆ YES  ┆ null ┆ null    ┆ null  │\n",
       "│ tx_fee                              ┆ BIGINT         ┆ YES  ┆ null ┆ null    ┆ null  │\n",
       "│ l2_legacy_extra_fee                 ┆ BIGINT         ┆ YES  ┆ null ┆ null    ┆ null  │\n",
       "│ l1_base_fee                         ┆ DECIMAL(38,12) ┆ YES  ┆ null ┆ null    ┆ null  │\n",
       "│ l1_base_scaled_size                 ┆ DECIMAL(38,12) ┆ YES  ┆ null ┆ null    ┆ null  │\n",
       "│ l1_blob_fee                         ┆ DECIMAL(38,12) ┆ YES  ┆ null ┆ null    ┆ null  │\n",
       "│ l1_blob_scaled_size                 ┆ DECIMAL(38,12) ┆ YES  ┆ null ┆ null    ┆ null  │\n",
       "│ tx_fee_native                       ┆ DECIMAL(38,19) ┆ YES  ┆ null ┆ null    ┆ null  │\n",
       "│ l1_fee_native                       ┆ DECIMAL(38,19) ┆ YES  ┆ null ┆ null    ┆ null  │\n",
       "│ l2_fee_native                       ┆ DECIMAL(38,19) ┆ YES  ┆ null ┆ null    ┆ null  │\n",
       "│ l1_base_fee_native                  ┆ DECIMAL(38,19) ┆ YES  ┆ null ┆ null    ┆ null  │\n",
       "│ l1_blob_fee_native                  ┆ DECIMAL(38,19) ┆ YES  ┆ null ┆ null    ┆ null  │\n",
       "│ l2_base_fee_native                  ┆ DECIMAL(38,19) ┆ YES  ┆ null ┆ null    ┆ null  │\n",
       "│ l2_priority_fee_native              ┆ DECIMAL(38,19) ┆ YES  ┆ null ┆ null    ┆ null  │\n",
       "│ l2_legacy_extra_fee_native          ┆ DECIMAL(38,19) ┆ YES  ┆ null ┆ null    ┆ null  │\n",
       "│ l2_gas_price_gwei                   ┆ DECIMAL(38,10) ┆ YES  ┆ null ┆ null    ┆ null  │\n",
       "│ l2_base_gas_price_gwei              ┆ DECIMAL(38,10) ┆ YES  ┆ null ┆ null    ┆ null  │\n",
       "│ l2_priority_gas_price_gwei          ┆ DECIMAL(38,10) ┆ YES  ┆ null ┆ null    ┆ null  │\n",
       "│ l2_legacy_extra_gas_price_gwei      ┆ DECIMAL(38,10) ┆ YES  ┆ null ┆ null    ┆ null  │\n",
       "│ l1_base_gas_price_gwei              ┆ DECIMAL(38,10) ┆ YES  ┆ null ┆ null    ┆ null  │\n",
       "│ l1_blob_base_gas_price_gwei         ┆ DECIMAL(38,10) ┆ YES  ┆ null ┆ null    ┆ null  │\n",
       "└─────────────────────────────────────┴────────────────┴──────┴──────┴─────────┴───────┘"
      ]
     },
     "execution_count": 11,
     "metadata": {},
     "output_type": "execute_result"
    }
   ],
   "source": [
    "import polars as pl\n",
    "\n",
    "# Configure Polars \n",
    "cfg = pl.Config()\n",
    "cfg.set_tbl_rows(2000)\n",
    "cfg.set_tbl_width_chars(2000)\n",
    "cfg.set_fmt_str_lengths(1000)\n",
    "\n",
    "client.sql(f\"DESCRIBE {refined_txs}\").pl()\n"
   ]
  },
  {
   "cell_type": "code",
   "execution_count": null,
   "metadata": {},
   "outputs": [],
   "source": [
    "client.sql(f\"DESCRIBE {refined_traces}\").pl()"
   ]
  },
  {
   "cell_type": "code",
   "execution_count": null,
   "metadata": {},
   "outputs": [],
   "source": [
    "client.sql(\"SHOW TABLES\")"
   ]
  },
  {
   "cell_type": "code",
   "execution_count": null,
   "metadata": {},
   "outputs": [],
   "source": [
    "client.sql(\"SELECT COUNT(*) FROM refined_transactions_fees\")"
   ]
  },
  {
   "cell_type": "markdown",
   "metadata": {},
   "source": [
    "## Verify model results - Traces"
   ]
  },
  {
   "cell_type": "code",
   "execution_count": null,
   "metadata": {},
   "outputs": [],
   "source": [
    "duckdb_client.sql(\"SELECT * FROM daily_traces_tr_to_v1 ORDER BY count_transactions_called DESC LIMIT 10\")"
   ]
  },
  {
   "cell_type": "markdown",
   "metadata": {},
   "source": [
    "### Test Transaction Metrics"
   ]
  },
  {
   "cell_type": "code",
   "execution_count": null,
   "metadata": {},
   "outputs": [],
   "source": [
    "duckdb_client.sql(\"\"\"\n",
    "                  SELECT trace_to_address,\n",
    "                    count_transactions_called_with_internal_type_call, count_transactions_called_with_internal_type_call_or_delegate,\n",
    "                    count_transactions_called\n",
    "                  FROM daily_traces_tr_to_v1\n",
    "                  ORDER BY count_transactions_called_with_internal_type_call DESC\n",
    "                  LIMIT 10\n",
    "                  \"\"\")"
   ]
  },
  {
   "cell_type": "markdown",
   "metadata": {},
   "source": [
    "### Test Gas Used Metrics"
   ]
  },
  {
   "cell_type": "code",
   "execution_count": null,
   "metadata": {},
   "outputs": [],
   "source": [
    "duckdb_client.sql(\"\"\"\n",
    "                  SELECT\n",
    "                    trace_to_address,\n",
    "                  \n",
    "                    sum_trace_gas_used_minus_subtraces_tx_success_called_with_internal_type_call,\n",
    "                    sum_tx_l2_gas_used_amortized_by_call_tx_success_called_with_internal_type_call,\n",
    "                  \n",
    "                    sum_tx_l2_fee_native_minus_subtraces_tx_success_called_with_internal_type_call\n",
    "                    sum_tx_l2_fee_native_amortized_by_call_tx_success_called_with_internal_type_call,\n",
    "                    sum_tx_fee_native_amortized_by_call_tx_success_called_with_internal_type_call,\n",
    "                  \n",
    "                    count_transactions_called_with_internal_type_call,\n",
    "                    count_transactions_called_with_internal_type_call_or_delegate,\n",
    "                    count_transactions_called\n",
    "                  \n",
    "                  FROM daily_traces_tr_to_v1\n",
    "                  ORDER BY sum_trace_gas_used_minus_subtraces_tx_success_called_with_internal_type_call DESC\n",
    "                  LIMIT 10\n",
    "                  \"\"\")"
   ]
  },
  {
   "cell_type": "code",
   "execution_count": null,
   "metadata": {},
   "outputs": [],
   "source": [
    "duckdb_client.sql(\"\"\"\n",
    "    SELECT * FROM refined_traces_fees_v1\n",
    "                  where transaction_hash = '0xc620133c2339f36d8bfae889ea29e9986a70182f7bbe3380d0622f3801619eda'\n",
    "                  AND block_number = 128145924\n",
    "                  ORDER BY trace_address ASC\n",
    "                  LIMIT 10\n",
    "                  \"\"\")"
   ]
  },
  {
   "cell_type": "markdown",
   "metadata": {},
   "source": [
    "### Check the data output size"
   ]
  },
  {
   "cell_type": "code",
   "execution_count": null,
   "metadata": {},
   "outputs": [],
   "source": [
    "duckdb_client.sql(\"SELECT COUNT(*) AS interm_num_calls, COUNT(DISTINCT transaction_hash) AS num_txs, COUNT(DISTINCT trace_to_address) AS num_trace_tos FROM refined_traces_fees_v1\")"
   ]
  },
  {
   "cell_type": "code",
   "execution_count": null,
   "metadata": {},
   "outputs": [],
   "source": [
    "duckdb_client.sql(\"SELECT COUNT(*) AS num_rows, COUNT(DISTINCT transaction_hash) AS num_txs, COUNT(DISTINCT trace_to_address) AS num_trace_tos FROM aggregated_traces_tr_to_hash_v1\")"
   ]
  },
  {
   "cell_type": "code",
   "execution_count": null,
   "metadata": {},
   "outputs": [],
   "source": [
    "duckdb_client.sql(\"SELECT COUNT(*) AS num_rows, COUNT(DISTINCT trace_to_address) AS num_trace_tos FROM daily_traces_tr_to_v1\")"
   ]
  },
  {
   "cell_type": "markdown",
   "metadata": {},
   "source": [
    "### Get table schema"
   ]
  },
  {
   "cell_type": "code",
   "execution_count": null,
   "metadata": {},
   "outputs": [],
   "source": [
    "duckdb_client.sql(\"DESCRIBE daily_traces_tr_to_v1\")\n"
   ]
  }
 ],
 "metadata": {
  "kernelspec": {
   "display_name": ".venv",
   "language": "python",
   "name": "python3"
  },
  "language_info": {
   "codemirror_mode": {
    "name": "ipython",
    "version": 3
   },
   "file_extension": ".py",
   "mimetype": "text/x-python",
   "name": "python",
   "nbconvert_exporter": "python",
   "pygments_lexer": "ipython3",
   "version": "3.12.6"
  }
 },
 "nbformat": 4,
 "nbformat_minor": 2
}
