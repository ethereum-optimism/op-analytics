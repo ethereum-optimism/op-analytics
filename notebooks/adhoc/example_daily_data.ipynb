{
 "cells": [
  {
   "cell_type": "code",
   "execution_count": null,
   "metadata": {},
   "outputs": [],
   "source": [
    "from op_datasets.etl.intermediate.construct import construct_tasks\n",
    "from op_datasets.etl.intermediate.models.daily_address_summary import (\n",
    "    daily_address_summary,\n",
    ")\n",
    "\n",
    "import polars as pl"
   ]
  },
  {
   "cell_type": "code",
   "execution_count": null,
   "metadata": {},
   "outputs": [],
   "source": [

    "tasks = construct_tasks(\n",
    "    chains=[\"op\"],\n",
    "    models=[\"dummy\"],\n",
    "    range_spec=\"@20241001:+1\",\n",
    "    source_spec=\"gcs\",\n",
    "    sinks_spec=[\"dummy\"],  # writing is not working yet\n",

    ")"
   ]
  },
  {
   "cell_type": "code",
   "execution_count": 3,

   "metadata": {},
   "outputs": [],
   "source": [
    "%load_ext autoreload"
   ]
  },
  {
   "cell_type": "code",
   "execution_count": 4,

   "metadata": {},
   "outputs": [],
   "source": [
    "%autoreload 2"
   ]
  },
  {
   "cell_type": "code",
   "execution_count": null,
   "metadata": {},
   "outputs": [],
   "source": [
    "result = daily_address_summary(tasks[0])\n",

    "result.keys()"
   ]
  },
  {
   "cell_type": "code",
   "execution_count": 6,

   "metadata": {},
   "outputs": [],
   "source": [
    "result[\"daily_address_summary\"].to_parquet(\"output.parquet\", compression=\"zstd\")"
   ]
  },
  {
   "cell_type": "code",
   "execution_count": 7,
   "metadata": {},
   "outputs": [],
   "source": [

    "df = pl.scan_parquet(\"output.parquet\")"
   ]
  },
  {
   "cell_type": "code",
   "execution_count": null,
   "metadata": {},
   "outputs": [],
   "source": [
    "df.limit(10).collect()"
   ]
  },
  {
   "cell_type": "code",
   "execution_count": null,
   "metadata": {},
   "outputs": [],
   "source": [
    "len(df.collect())\n",
    "# txs = tasks[0].input_duckdb_relations[\"transactions\"]\n",
    "# blks = tasks[0].input_duckdb_relations[\"blocks\"]\n",
    "# SYSTEM_TX_HASH = '0x7301aee7244d13ab6fe2ff485c3edfa5169ec3e03fb0c065b1ef462aa4bc32fe'\n",
    "# system_tx_result = txs.query(\"transactions\", f\"SELECT * FROM transactions WHERE hash = '{SYSTEM_TX_HASH}'\")"
   ]

  }
 ],
 "metadata": {
  "kernelspec": {
   "display_name": ".venv",
   "language": "python",
   "name": "python3"
  },
  "language_info": {
   "codemirror_mode": {
    "name": "ipython",
    "version": 3
   },
   "file_extension": ".py",
   "mimetype": "text/x-python",
   "name": "python",
   "nbconvert_exporter": "python",
   "pygments_lexer": "ipython3",
   "version": "3.12.3"

  }
 },
 "nbformat": 4,
 "nbformat_minor": 2
}
