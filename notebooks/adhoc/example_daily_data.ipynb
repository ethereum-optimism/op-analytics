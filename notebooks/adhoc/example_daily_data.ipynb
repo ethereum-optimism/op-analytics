{
 "cells": [
  {
   "cell_type": "markdown",
   "metadata": {},
   "source": [
    "## Prepare data reader for a given chain and date"
   ]
  },
  {
   "cell_type": "code",
   "execution_count": 1,
   "metadata": {},
   "outputs": [
    {
     "name": "stdout",
     "output_type": "stream",
     "text": [
      "\u001b[2m2024-12-05 15:37:41\u001b[0m [\u001b[32m\u001b[1minfo     \u001b[0m] \u001b[1mRendering query               \u001b[0m \u001b[36mfilename\u001b[0m=\u001b[35mquerybuilder.py\u001b[0m \u001b[36mlineno\u001b[0m=\u001b[35m40\u001b[0m \u001b[36mmodel\u001b[0m=\u001b[35mdaily_address_summary\u001b[0m \u001b[36mtemplate\u001b[0m=\u001b[35mtransaction_fees\u001b[0m\n",
      "\u001b[2m2024-12-05 15:37:41\u001b[0m [\u001b[32m\u001b[1minfo     \u001b[0m] \u001b[1mRendering query               \u001b[0m \u001b[36mfilename\u001b[0m=\u001b[35mquerybuilder.py\u001b[0m \u001b[36mlineno\u001b[0m=\u001b[35m40\u001b[0m \u001b[36mmodel\u001b[0m=\u001b[35mdaily_address_summary\u001b[0m \u001b[36mtemplate\u001b[0m=\u001b[35mdaily_address_summary\u001b[0m\n",
      "\u001b[2m2024-12-05 15:37:41\u001b[0m [\u001b[32m\u001b[1minfo     \u001b[0m] \u001b[1mRendering query               \u001b[0m \u001b[36mfilename\u001b[0m=\u001b[35mquerybuilder.py\u001b[0m \u001b[36mlineno\u001b[0m=\u001b[35m40\u001b[0m \u001b[36mmodel\u001b[0m=\u001b[35mcontract_creation\u001b[0m \u001b[36mtemplate\u001b[0m=\u001b[35mcontract_creation_traces\u001b[0m\n",
      "\u001b[2m2024-12-05 15:37:41\u001b[0m [\u001b[32m\u001b[1minfo     \u001b[0m] \u001b[1mLoaded 2 python modules with intermediate model definitions.\u001b[0m \u001b[36mfilename\u001b[0m=\u001b[35mregistry.py\u001b[0m \u001b[36mlineno\u001b[0m=\u001b[35m62\u001b[0m\n",
      "\u001b[2m2024-12-05 15:37:41\u001b[0m [\u001b[32m\u001b[1minfo     \u001b[0m] \u001b[1mloaded vault from .env file   \u001b[0m \u001b[36mfilename\u001b[0m=\u001b[35mvault.py\u001b[0m \u001b[36mlineno\u001b[0m=\u001b[35m32\u001b[0m\n",
      "\u001b[2m2024-12-05 15:37:41\u001b[0m [\u001b[32m\u001b[1mdebug    \u001b[0m] \u001b[1mloaded vault: 18 items        \u001b[0m \u001b[36mfilename\u001b[0m=\u001b[35mvault.py\u001b[0m \u001b[36mlineno\u001b[0m=\u001b[35m76\u001b[0m\n",
      "\u001b[2m2024-12-05 15:37:41\u001b[0m [\u001b[32m\u001b[1mdebug    \u001b[0m] \u001b[1mFound vault variable GOOGLE_SERVICE_ACCOUNT (has JSON key)\u001b[0m \u001b[36mfilename\u001b[0m=\u001b[35mgcpauth.py\u001b[0m \u001b[36mlineno\u001b[0m=\u001b[35m18\u001b[0m\n",
      "\u001b[2m2024-12-05 15:37:42\u001b[0m [\u001b[32m\u001b[1minfo     \u001b[0m] \u001b[1mLoaded OP chains metadata from /Users/pedro/github/ethereum-optimism/op-analytics-alt/op_chains_tracking/inputs/chain_metadata_raw.csv\u001b[0m \u001b[36mfilename\u001b[0m=\u001b[35mload.py\u001b[0m \u001b[36mlineno\u001b[0m=\u001b[35m85\u001b[0m\n",
      "\u001b[2m2024-12-05 15:37:42\u001b[0m [\u001b[32m\u001b[1minfo     \u001b[0m] \u001b[1m[REPO vs. GSHEETS] ERROR: Chain Metadata is different\u001b[0m \u001b[36mfilename\u001b[0m=\u001b[35mload.py\u001b[0m \u001b[36mlineno\u001b[0m=\u001b[35m97\u001b[0m\n",
      "\u001b[2m2024-12-05 15:37:42\u001b[0m [\u001b[32m\u001b[1mdebug    \u001b[0m] \u001b[1mconnecting to OPLABS Clickhouse client...\u001b[0m \u001b[36mfilename\u001b[0m=\u001b[35mclient.py\u001b[0m \u001b[36mlineno\u001b[0m=\u001b[35m25\u001b[0m\n",
      "\u001b[2m2024-12-05 15:37:42\u001b[0m [\u001b[32m\u001b[1mdebug    \u001b[0m] \u001b[1minitialized OPLABS Clickhouse client.\u001b[0m \u001b[36mfilename\u001b[0m=\u001b[35mclient.py\u001b[0m \u001b[36mlineno\u001b[0m=\u001b[35m37\u001b[0m\n",
      "\u001b[2m2024-12-05 15:37:42\u001b[0m [\u001b[32m\u001b[1minfo     \u001b[0m] \u001b[1mprepared 1 input batches.     \u001b[0m \u001b[36mfilename\u001b[0m=\u001b[35mreader.py\u001b[0m \u001b[36mlineno\u001b[0m=\u001b[35m187\u001b[0m\n"
     ]
    }
   ],
   "source": [
    "from op_analytics.coreutils.duckdb_inmem import init_client\n",
    "from op_analytics.coreutils.partitioned.reader import DataReader\n",
    "from op_analytics.coreutils.partitioned.location import DataLocation\n",
    "from op_analytics.datapipeline.etl.intermediate.construct import construct_data_readers\n",
    "\n",
    "from op_analytics.datapipeline.models.compute.udfs import create_duckdb_macros\n",
    "\n",
    "\n",
    "# Define the input data range.\n",
    "read_batches: list[DataReader] = construct_data_readers(\n",
    "    chains=[\"op\"],\n",
    "    models=[\"daily_address_summary\"],\n",
    "    range_spec=\"@20241030:+1\",\n",
    "    read_from=DataLocation.GCS\n",
    ")\n",
    "\n",
    "\n",
    "# Select input for one date and build the intermediate model inputs.\n",
    "batch = read_batches[0]\n",
    "\n",
    "\n",
    "duckdb_client = init_client()\n",
    "create_duckdb_macros(duckdb_client)\n"
   ]
  },
  {
   "cell_type": "markdown",
   "metadata": {},
   "source": [
    "## Run the model\n",
    "\n",
    "This automatically registers the model outputs as duckdb tables."
   ]
  },
  {
   "cell_type": "code",
   "execution_count": 2,
   "metadata": {},
   "outputs": [
    {
     "name": "stdout",
     "output_type": "stream",
     "text": [
      "\u001b[2m2024-12-05 15:38:04\u001b[0m [\u001b[32m\u001b[1minfo     \u001b[0m] \u001b[1mExecuting model...            \u001b[0m \u001b[36mfilename\u001b[0m=\u001b[35mtestutils.py\u001b[0m \u001b[36mlineno\u001b[0m=\u001b[35m226\u001b[0m\n",
      "\u001b[2m2024-12-05 15:38:04\u001b[0m [\u001b[32m\u001b[1minfo     \u001b[0m] \u001b[1mduckdb dataset='ingestion/blocks_v1' using 23/23 parquet paths, first path is gs://oplabs-tools-data-sink/ingestion/blocks_v1/chain=op/dt=2024-10-30/000127322000.parquet\u001b[0m \u001b[36mfilename\u001b[0m=\u001b[35mreader.py\u001b[0m \u001b[36mlineno\u001b[0m=\u001b[35m63\u001b[0m\n",
      "\u001b[2m2024-12-05 15:38:05\u001b[0m [\u001b[32m\u001b[1minfo     \u001b[0m] \u001b[1mregistered view: 'ingestion_blocks_v1' using 23 parquet paths\u001b[0m \u001b[36mfilename\u001b[0m=\u001b[35mclient.py\u001b[0m \u001b[36mlineno\u001b[0m=\u001b[35m53\u001b[0m\n",
      "\u001b[2m2024-12-05 15:38:05\u001b[0m [\u001b[32m\u001b[1minfo     \u001b[0m] \u001b[1mduckdb dataset='ingestion/transactions_v1' using 23/23 parquet paths, first path is gs://oplabs-tools-data-sink/ingestion/transactions_v1/chain=op/dt=2024-10-30/000127322000.parquet\u001b[0m \u001b[36mfilename\u001b[0m=\u001b[35mreader.py\u001b[0m \u001b[36mlineno\u001b[0m=\u001b[35m63\u001b[0m\n",
      "\u001b[2m2024-12-05 15:38:06\u001b[0m [\u001b[32m\u001b[1minfo     \u001b[0m] \u001b[1mregistered view: 'ingestion_transactions_v1' using 23 parquet paths\u001b[0m \u001b[36mfilename\u001b[0m=\u001b[35mclient.py\u001b[0m \u001b[36mlineno\u001b[0m=\u001b[35m53\u001b[0m\n",
      "dict_keys(['summary_v1'])\n"
     ]
    },
    {
     "data": {
      "text/plain": [
       "┌───────────────────────────┐\n",
       "│           name            │\n",
       "│          varchar          │\n",
       "├───────────────────────────┤\n",
       "│ daily_address_summary     │\n",
       "│ ingestion_blocks_v1       │\n",
       "│ ingestion_transactions_v1 │\n",
       "│ summary_v1                │\n",
       "│ transaction_fees          │\n",
       "└───────────────────────────┘"
      ]
     },
     "execution_count": 2,
     "metadata": {},
     "output_type": "execute_result"
    }
   ],
   "source": [
    "from op_analytics.datapipeline.models.compute.testutils import execute_model_in_memory\n",
    "\n",
    "\n",
    "execute_model_in_memory(\n",
    "    duckdb_client=duckdb_client,\n",
    "    model=\"daily_address_summary\",\n",
    "    data_reader=batch,\n",
    ")\n",
    "\n",
    "# The duckdb database will have the following:\n",
    "#   - input tables\n",
    "#   - views used by the model\n",
    "#   - model outputs\n",
    "#\n",
    "# You can use duckdb to inspect any of the above results.\n",
    "duckdb_client.sql(\"SHOW TABLES\")"
   ]
  },
  {
   "cell_type": "markdown",
   "metadata": {},
   "source": [
    "## Verify model results"
   ]
  },
  {
   "cell_type": "code",
   "execution_count": 3,
   "metadata": {},
   "outputs": [
    {
     "data": {
      "text/plain": [
       "┌────────────┬─────────┬──────────┬────────────────────────────────────────────┬────────┬────────────────┬───────────┬───────────────────┬──────────────────┬──────────────────┬────────────────────┬───────────┬───────────┬────────────────────┬─────────────────────┬─────────────────────┬───────────────────┬───────────────────┬─────────────────┬─────────────────────────┬────────────────┬─────────────────┬─────────────────────────┬─────────────────┬─────────────────────────┬───────────────────────┬────────────────────────┬───────────────────────┬───────────────────────┬─────────────────────────┬────────────────────────────┬───────────────────────┬───────────────────────┬───────────────────────┬───────────────────────┬────────────────────────┬────────────────────────────┬────────────────────────┬──────────────────────┐\n",
       "│     dt     │  chain  │ chain_id │                  address                   │ tx_cnt │ success_tx_cnt │ block_cnt │ success_block_cnt │ block_number_min │ block_number_max │ active_block_range │ nonce_min │ nonce_max │ active_nonce_range │ block_timestamp_min │ block_timestamp_max │ active_time_range │ active_hours_ucnt │ to_address_ucnt │ success_to_address_ucnt │ method_id_ucnt │ l2_gas_used_sum │ success_l2_gas_used_sum │ l1_gas_used_sum │ success_l1_gas_used_sum │    tx_fee_sum_eth     │ success_tx_fee_sum_eth │    l2_fee_sum_eth     │  l2_base_fee_sum_eth  │ l2_priority_fee_sum_eth │ l2_base_legacy_fee_sum_eth │    l1_fee_sum_eth     │  l1_base_fee_sum_eth  │  l1_blob_fee_sum_eth  │ l2_gas_price_avg_gwei │ l2_base_price_avg_gwei │ l2_priority_price_avg_gwei │ l1_base_price_avg_gwei │ l1_blob_fee_avg_gwei │\n",
       "│    date    │ varchar │  int32   │                  varchar                   │ int64  │     int64      │   int64   │       int64       │      int64       │      int64       │       int64        │   int64   │   int64   │       int64        │       uint32        │       uint32        │      uint32       │       int64       │      int64      │          int64          │     int64      │  decimal(38,0)  │      decimal(38,0)      │  decimal(38,0)  │      decimal(38,0)      │    decimal(38,19)     │     decimal(38,19)     │    decimal(38,19)     │    decimal(38,19)     │     decimal(38,19)      │       decimal(38,19)       │    decimal(38,19)     │    decimal(38,19)     │    decimal(38,19)     │    decimal(38,10)     │     decimal(38,10)     │       decimal(38,10)       │     decimal(38,10)     │    decimal(38,10)    │\n",
       "├────────────┼─────────┼──────────┼────────────────────────────────────────────┼────────┼────────────────┼───────────┼───────────────────┼──────────────────┼──────────────────┼────────────────────┼───────────┼───────────┼────────────────────┼─────────────────────┼─────────────────────┼───────────────────┼───────────────────┼─────────────────┼─────────────────────────┼────────────────┼─────────────────┼─────────────────────────┼─────────────────┼─────────────────────────┼───────────────────────┼────────────────────────┼───────────────────────┼───────────────────────┼─────────────────────────┼────────────────────────────┼───────────────────────┼───────────────────────┼───────────────────────┼───────────────────────┼────────────────────────┼────────────────────────────┼────────────────────────┼──────────────────────┤\n",
       "│ 2024-10-30 │ op      │       10 │ 0xaa971288ea224d94014d7cafd31faa5a6ba34fa9 │   6099 │           5980 │      4637 │              4584 │        127323823 │        127367011 │              43189 │    263880 │    269978 │               6099 │          1730246423 │          1730332799 │             86376 │                24 │               3 │                       3 │              5 │      2011866171 │              1991937468 │        15349044 │                15026564 │ 0.0295394861834670890 │  0.0291519833502175670 │ 0.0271367522283079090 │ 0.0000009284876573830 │   0.0271358237406505260 │      0.0000000000000000000 │ 0.0024027339551591800 │ 0.0010233699604265900 │ 0.0013790109078847010 │          0.0134883490 │           0.0000004620 │               0.0134878870 │          12.7555395470 │         1.4173502350 │\n",
       "│ 2024-10-30 │ op      │       10 │ 0x80c67432656d59144ceff962e8faf8926599bcf8 │  17702 │          17702 │     17633 │             17633 │        127323813 │        127367008 │              43196 │   1057544 │   1075245 │              17702 │          1730246403 │          1730332793 │             86390 │                24 │            8349 │                    8349 │              2 │       372007232 │               372007232 │        28334322 │                28334322 │ 0.0047049174966654290 │  0.0047049174966654290 │ 0.0004465811645339340 │ 0.0000001724861339340 │   0.0004464086784000000 │      0.0000000000000000000 │ 0.0042583363321314950 │ 0.0018015727516364060 │ 0.0024567633068750720 │          0.0012004640 │           0.0000004640 │               0.0012000000 │          12.1642819940 │         1.3678589040 │\n",
       "│ 2024-10-30 │ op      │       10 │ 0x7cda773fc37b31d0f5fb309b5e078a43fd71c4d8 │      1 │              1 │         1 │                 1 │        127344003 │        127344003 │                  1 │       211 │       211 │                  1 │          1730286783 │          1730286783 │                 0 │                 1 │               1 │                       1 │              1 │          211807 │                  211807 │            1600 │                    1600 │ 0.0000003574901318760 │  0.0000003574901318760 │ 0.0000000212499608890 │ 0.0000000000692608890 │   0.0000000211807000000 │      0.0000000000000000000 │ 0.0000003362401709870 │ 0.0000000940855941590 │ 0.0000002421545768280 │          0.0001003270 │           0.0000003270 │               0.0001000000 │          11.2499514730 │         2.3876106580 │\n",
       "│ 2024-10-30 │ op      │       10 │ 0x9a9c86edafb44f065c1aa76f03e997f75ec3497a │    158 │            158 │       158 │               158 │        127327802 │        127365302 │              37501 │     48638 │     48795 │                158 │          1730254381 │          1730329381 │             75000 │                22 │               1 │                       1 │              3 │         4588854 │                 4588854 │          252800 │                  252800 │ 0.0000519553863943680 │  0.0000519553863943680 │ 0.0000045909825292270 │ 0.0000000021285292270 │   0.0000045888540000000 │      0.0000000000000000000 │ 0.0000473644038651410 │ 0.0000190663862292320 │ 0.0000282980176359900 │          0.0010004640 │           0.0000004640 │               0.0010000000 │          14.4290858240 │         1.7659148270 │\n",
       "│ 2024-10-30 │ op      │       10 │ 0x28a3b352f53804c6afb1c08093eaf25ddef9aa14 │     10 │             10 │        10 │                10 │        127343963 │        127344134 │                172 │         0 │         9 │                 10 │          1730286703 │          1730287045 │               342 │                 1 │               3 │                       3 │              3 │         2127359 │                 2127359 │           53260 │                   53260 │ 0.0000137701522657060 │  0.0000137701522657060 │ 0.0000003201331506270 │ 0.0000000006925036370 │   0.0000003194406469900 │      0.0000000000000000000 │ 0.0000134500191150790 │ 0.0000029457010747910 │ 0.0000105028255853550 │          0.0001504840 │           0.0000003260 │               0.0001501580 │          10.5812021380 │         3.1109698420 │\n",
       "│ 2024-10-30 │ op      │       10 │ 0x0f2e509e09e02f350a19a7c52c42deed18940f93 │      3 │              3 │         3 │                 3 │        127342750 │        127344007 │               1258 │       124 │       126 │                  3 │          1730284277 │          1730286791 │              2514 │                 2 │               2 │                       2 │              2 │           87132 │                   87132 │            5516 │                    5516 │ 0.0000016285149832490 │  0.0000016285149832490 │ 0.0000001045923101640 │ 0.0000000000339101640 │   0.0000001045584000000 │      0.0000000000000000000 │ 0.0000015239226730850 │ 0.0000002898918134670 │ 0.0000012338838385960 │          0.0012003890 │           0.0000003890 │               0.0012000000 │          10.0544702510 │         3.5289119960 │\n",
       "│ 2024-10-30 │ op      │       10 │ 0x8f6966f2244f596d107031049d0e134fd4f2cf47 │      4 │              4 │         4 │                 4 │        127344008 │        127344760 │                753 │        36 │        39 │                  4 │          1730286793 │          1730288297 │              1504 │                 1 │               1 │                       1 │              1 │           84000 │                   84000 │            6400 │                    6400 │ 0.0000012836405214330 │  0.0000012836405214330 │ 0.0000001008278460000 │ 0.0000000000278460000 │   0.0000001008000000000 │      0.0000000000000000000 │ 0.0000011828126754330 │ 0.0000003118171294790 │ 0.0000008709955459560 │          0.0012003320 │           0.0000003320 │               0.0012000000 │           9.3211070370 │         2.1469739240 │\n",
       "│ 2024-10-30 │ op      │       10 │ 0x5fafb81c4cb955a2268d96bddf12b2f228c534b5 │     69 │             55 │        69 │                55 │        127323841 │        127360205 │              36365 │       875 │       943 │                 69 │          1730246459 │          1730319187 │             72728 │                15 │               1 │                       1 │              2 │        13256726 │                12926004 │          120443 │                   98043 │ 0.0000310144657892840 │  0.0000244561817408950 │ 0.0000018422436719890 │ 0.0000000061961519890 │   0.0000018360475200000 │      0.0000000000000000000 │ 0.0000291722221172950 │ 0.0000110937461564040 │ 0.0000180757038473500 │          0.0001389670 │           0.0000004670 │               0.0001384990 │          17.6215521610 │         2.3675789090 │\n",
       "│ 2024-10-30 │ op      │       10 │ 0x9b1c1f60243ea8573803f4ea8dd2b7f3c66c26f3 │   1214 │           1214 │      1214 │              1214 │        127323819 │        127367011 │              43193 │      9131 │     10344 │               1214 │          1730246415 │          1730332799 │             86384 │                24 │               1 │                       1 │              2 │        64884944 │                64884944 │         2824647 │                 2824647 │ 0.0005114662231347030 │  0.0005114662231347030 │ 0.0000649155637663880 │ 0.0000000306197663880 │   0.0000648849440000000 │      0.0000000000000000000 │ 0.0004465506593683150 │ 0.0001844771371566040 │ 0.0002619855991240930 │          0.0010004720 │           0.0000004720 │               0.0010000000 │          12.4947010340 │         1.4632011980 │\n",
       "│ 2024-10-30 │ op      │       10 │ 0xc9bb27e26370993755a9e4b21feeeb003f5a5e08 │      3 │              3 │         3 │                 3 │        127342916 │        127344011 │               1096 │        37 │        39 │                  3 │          1730284609 │          1730286799 │              2190 │                 2 │               2 │                       2 │              1 │           63000 │                   63000 │            4800 │                    4800 │ 0.0000012846498797310 │  0.0000012846498797310 │ 0.0000000756252630000 │ 0.0000000000252630000 │   0.0000000756000000000 │      0.0000000000000000000 │ 0.0000012090246167310 │ 0.0000002550951601520 │ 0.0000009539294565800 │          0.0012004010 │           0.0000004010 │               0.0012000000 │          10.1673665640 │         3.1352041980 │\n",
       "├────────────┴─────────┴──────────┴────────────────────────────────────────────┴────────┴────────────────┴───────────┴───────────────────┴──────────────────┴──────────────────┴────────────────────┴───────────┴───────────┴────────────────────┴─────────────────────┴─────────────────────┴───────────────────┴───────────────────┴─────────────────┴─────────────────────────┴────────────────┴─────────────────┴─────────────────────────┴─────────────────┴─────────────────────────┴───────────────────────┴────────────────────────┴───────────────────────┴───────────────────────┴─────────────────────────┴────────────────────────────┴───────────────────────┴───────────────────────┴───────────────────────┴───────────────────────┴────────────────────────┴────────────────────────────┴────────────────────────┴──────────────────────┤\n",
       "│ 10 rows                                                                                                                                                                                                                                                                                                                                                                                                                                                                                                                                                                                                                                                                                                                                                                                                                                    39 columns │\n",
       "└───────────────────────────────────────────────────────────────────────────────────────────────────────────────────────────────────────────────────────────────────────────────────────────────────────────────────────────────────────────────────────────────────────────────────────────────────────────────────────────────────────────────────────────────────────────────────────────────────────────────────────────────────────────────────────────────────────────────────────────────────────────────────────────────────────────────────────────────────────────────────────────────────────────────────────────────────────────────────────────────────────────────────────────────────────────────────────────────────────────────────────────────────────────────────────────────────────────────────────────────────────────────────────┘"
      ]
     },
     "execution_count": 3,
     "metadata": {},
     "output_type": "execute_result"
    }
   ],
   "source": [
    "duckdb_client.sql(\"SELECT * FROM summary_v1 LIMIT 10\")"
   ]
  },
  {
   "cell_type": "markdown",
   "metadata": {},
   "source": [
    "### You can also convert the results to dataframes to inspect them in more familiar ways"
   ]
  },
  {
   "cell_type": "code",
   "execution_count": 4,
   "metadata": {},
   "outputs": [
    {
     "data": {
      "text/html": [
       "<div><style>\n",
       ".dataframe > thead > tr,\n",
       ".dataframe > tbody > tr {\n",
       "  text-align: right;\n",
       "  white-space: pre-wrap;\n",
       "}\n",
       "</style>\n",
       "<small>shape: (5, 39)</small><table border=\"1\" class=\"dataframe\"><thead><tr><th>dt</th><th>chain</th><th>chain_id</th><th>address</th><th>tx_cnt</th><th>success_tx_cnt</th><th>block_cnt</th><th>success_block_cnt</th><th>block_number_min</th><th>block_number_max</th><th>active_block_range</th><th>nonce_min</th><th>nonce_max</th><th>active_nonce_range</th><th>block_timestamp_min</th><th>block_timestamp_max</th><th>active_time_range</th><th>active_hours_ucnt</th><th>to_address_ucnt</th><th>success_to_address_ucnt</th><th>method_id_ucnt</th><th>l2_gas_used_sum</th><th>success_l2_gas_used_sum</th><th>l1_gas_used_sum</th><th>success_l1_gas_used_sum</th><th>tx_fee_sum_eth</th><th>success_tx_fee_sum_eth</th><th>l2_fee_sum_eth</th><th>l2_base_fee_sum_eth</th><th>l2_priority_fee_sum_eth</th><th>l2_base_legacy_fee_sum_eth</th><th>l1_fee_sum_eth</th><th>l1_base_fee_sum_eth</th><th>l1_blob_fee_sum_eth</th><th>l2_gas_price_avg_gwei</th><th>l2_base_price_avg_gwei</th><th>l2_priority_price_avg_gwei</th><th>l1_base_price_avg_gwei</th><th>l1_blob_fee_avg_gwei</th></tr><tr><td>date</td><td>str</td><td>i32</td><td>str</td><td>i64</td><td>i64</td><td>i64</td><td>i64</td><td>i64</td><td>i64</td><td>i64</td><td>i64</td><td>i64</td><td>i64</td><td>u32</td><td>u32</td><td>u32</td><td>i64</td><td>i64</td><td>i64</td><td>i64</td><td>decimal[38,0]</td><td>decimal[38,0]</td><td>decimal[38,0]</td><td>decimal[38,0]</td><td>decimal[38,19]</td><td>decimal[38,19]</td><td>decimal[38,19]</td><td>decimal[38,19]</td><td>decimal[38,19]</td><td>decimal[38,19]</td><td>decimal[38,19]</td><td>decimal[38,19]</td><td>decimal[38,19]</td><td>decimal[38,10]</td><td>decimal[38,10]</td><td>decimal[38,10]</td><td>decimal[38,10]</td><td>decimal[38,10]</td></tr></thead><tbody><tr><td>2024-10-30</td><td>&quot;op&quot;</td><td>10</td><td>&quot;0xaa971288ea224d94014d7cafd31f…</td><td>6099</td><td>5980</td><td>4637</td><td>4584</td><td>127323823</td><td>127367011</td><td>43189</td><td>263880</td><td>269978</td><td>6099</td><td>1730246423</td><td>1730332799</td><td>86376</td><td>24</td><td>3</td><td>3</td><td>5</td><td>2011866171</td><td>1991937468</td><td>15349044</td><td>15026564</td><td>0.0295394861834670890</td><td>0.0291519833502175670</td><td>0.0271367522283079090</td><td>0.0000009284876573830</td><td>0.0271358237406505260</td><td>0.0000000000000000000</td><td>0.0024027339551591800</td><td>0.0010233699604265900</td><td>0.0013790109078847010</td><td>0.0134883490</td><td>0.0000004620</td><td>0.0134878870</td><td>12.7555395470</td><td>1.4173502350</td></tr><tr><td>2024-10-30</td><td>&quot;op&quot;</td><td>10</td><td>&quot;0x80c67432656d59144ceff962e8fa…</td><td>17702</td><td>17702</td><td>17633</td><td>17633</td><td>127323813</td><td>127367008</td><td>43196</td><td>1057544</td><td>1075245</td><td>17702</td><td>1730246403</td><td>1730332793</td><td>86390</td><td>24</td><td>8349</td><td>8349</td><td>2</td><td>372007232</td><td>372007232</td><td>28334322</td><td>28334322</td><td>0.0047049174966654290</td><td>0.0047049174966654290</td><td>0.0004465811645339340</td><td>0.0000001724861339340</td><td>0.0004464086784000000</td><td>0.0000000000000000000</td><td>0.0042583363321314950</td><td>0.0018015727516364060</td><td>0.0024567633068750720</td><td>0.0012004640</td><td>0.0000004640</td><td>0.0012000000</td><td>12.1642819940</td><td>1.3678589040</td></tr><tr><td>2024-10-30</td><td>&quot;op&quot;</td><td>10</td><td>&quot;0x7cda773fc37b31d0f5fb309b5e07…</td><td>1</td><td>1</td><td>1</td><td>1</td><td>127344003</td><td>127344003</td><td>1</td><td>211</td><td>211</td><td>1</td><td>1730286783</td><td>1730286783</td><td>0</td><td>1</td><td>1</td><td>1</td><td>1</td><td>211807</td><td>211807</td><td>1600</td><td>1600</td><td>0.0000003574901318760</td><td>0.0000003574901318760</td><td>0.0000000212499608890</td><td>0.0000000000692608890</td><td>0.0000000211807000000</td><td>0.0000000000000000000</td><td>0.0000003362401709870</td><td>0.0000000940855941590</td><td>0.0000002421545768280</td><td>0.0001003270</td><td>0.0000003270</td><td>0.0001000000</td><td>11.2499514730</td><td>2.3876106580</td></tr><tr><td>2024-10-30</td><td>&quot;op&quot;</td><td>10</td><td>&quot;0x9a9c86edafb44f065c1aa76f03e9…</td><td>158</td><td>158</td><td>158</td><td>158</td><td>127327802</td><td>127365302</td><td>37501</td><td>48638</td><td>48795</td><td>158</td><td>1730254381</td><td>1730329381</td><td>75000</td><td>22</td><td>1</td><td>1</td><td>3</td><td>4588854</td><td>4588854</td><td>252800</td><td>252800</td><td>0.0000519553863943680</td><td>0.0000519553863943680</td><td>0.0000045909825292270</td><td>0.0000000021285292270</td><td>0.0000045888540000000</td><td>0.0000000000000000000</td><td>0.0000473644038651410</td><td>0.0000190663862292320</td><td>0.0000282980176359900</td><td>0.0010004640</td><td>0.0000004640</td><td>0.0010000000</td><td>14.4290858240</td><td>1.7659148270</td></tr><tr><td>2024-10-30</td><td>&quot;op&quot;</td><td>10</td><td>&quot;0x28a3b352f53804c6afb1c08093ea…</td><td>10</td><td>10</td><td>10</td><td>10</td><td>127343963</td><td>127344134</td><td>172</td><td>0</td><td>9</td><td>10</td><td>1730286703</td><td>1730287045</td><td>342</td><td>1</td><td>3</td><td>3</td><td>3</td><td>2127359</td><td>2127359</td><td>53260</td><td>53260</td><td>0.0000137701522657060</td><td>0.0000137701522657060</td><td>0.0000003201331506270</td><td>0.0000000006925036370</td><td>0.0000003194406469900</td><td>0.0000000000000000000</td><td>0.0000134500191150790</td><td>0.0000029457010747910</td><td>0.0000105028255853550</td><td>0.0001504840</td><td>0.0000003260</td><td>0.0001501580</td><td>10.5812021380</td><td>3.1109698420</td></tr></tbody></table></div>"
      ],
      "text/plain": [
       "shape: (5, 39)\n",
       "┌────────────┬───────┬──────────┬────────────┬───┬────────────┬────────────┬───────────┬───────────┐\n",
       "│ dt         ┆ chain ┆ chain_id ┆ address    ┆ … ┆ l2_base_pr ┆ l2_priorit ┆ l1_base_p ┆ l1_blob_f │\n",
       "│ ---        ┆ ---   ┆ ---      ┆ ---        ┆   ┆ ice_avg_gw ┆ y_price_av ┆ rice_avg_ ┆ ee_avg_gw │\n",
       "│ date       ┆ str   ┆ i32      ┆ str        ┆   ┆ ei         ┆ g_gwei     ┆ gwei      ┆ ei        │\n",
       "│            ┆       ┆          ┆            ┆   ┆ ---        ┆ ---        ┆ ---       ┆ ---       │\n",
       "│            ┆       ┆          ┆            ┆   ┆ decimal[38 ┆ decimal[38 ┆ decimal[3 ┆ decimal[3 │\n",
       "│            ┆       ┆          ┆            ┆   ┆ ,10]       ┆ ,10]       ┆ 8,10]     ┆ 8,10]     │\n",
       "╞════════════╪═══════╪══════════╪════════════╪═══╪════════════╪════════════╪═══════════╪═══════════╡\n",
       "│ 2024-10-30 ┆ op    ┆ 10       ┆ 0xaa971288 ┆ … ┆ 0.00000046 ┆ 0.01348788 ┆ 12.755539 ┆ 1.4173502 │\n",
       "│            ┆       ┆          ┆ ea224d9401 ┆   ┆ 20         ┆ 70         ┆ 5470      ┆ 350       │\n",
       "│            ┆       ┆          ┆ 4d7cafd31f ┆   ┆            ┆            ┆           ┆           │\n",
       "│            ┆       ┆          ┆ …          ┆   ┆            ┆            ┆           ┆           │\n",
       "│ 2024-10-30 ┆ op    ┆ 10       ┆ 0x80c67432 ┆ … ┆ 0.00000046 ┆ 0.00120000 ┆ 12.164281 ┆ 1.3678589 │\n",
       "│            ┆       ┆          ┆ 656d59144c ┆   ┆ 40         ┆ 00         ┆ 9940      ┆ 040       │\n",
       "│            ┆       ┆          ┆ eff962e8fa ┆   ┆            ┆            ┆           ┆           │\n",
       "│            ┆       ┆          ┆ …          ┆   ┆            ┆            ┆           ┆           │\n",
       "│ 2024-10-30 ┆ op    ┆ 10       ┆ 0x7cda773f ┆ … ┆ 0.00000032 ┆ 0.00010000 ┆ 11.249951 ┆ 2.3876106 │\n",
       "│            ┆       ┆          ┆ c37b31d0f5 ┆   ┆ 70         ┆ 00         ┆ 4730      ┆ 580       │\n",
       "│            ┆       ┆          ┆ fb309b5e07 ┆   ┆            ┆            ┆           ┆           │\n",
       "│            ┆       ┆          ┆ …          ┆   ┆            ┆            ┆           ┆           │\n",
       "│ 2024-10-30 ┆ op    ┆ 10       ┆ 0x9a9c86ed ┆ … ┆ 0.00000046 ┆ 0.00100000 ┆ 14.429085 ┆ 1.7659148 │\n",
       "│            ┆       ┆          ┆ afb44f065c ┆   ┆ 40         ┆ 00         ┆ 8240      ┆ 270       │\n",
       "│            ┆       ┆          ┆ 1aa76f03e9 ┆   ┆            ┆            ┆           ┆           │\n",
       "│            ┆       ┆          ┆ …          ┆   ┆            ┆            ┆           ┆           │\n",
       "│ 2024-10-30 ┆ op    ┆ 10       ┆ 0x28a3b352 ┆ … ┆ 0.00000032 ┆ 0.00015015 ┆ 10.581202 ┆ 3.1109698 │\n",
       "│            ┆       ┆          ┆ f53804c6af ┆   ┆ 60         ┆ 80         ┆ 1380      ┆ 420       │\n",
       "│            ┆       ┆          ┆ b1c08093ea ┆   ┆            ┆            ┆           ┆           │\n",
       "│            ┆       ┆          ┆ …          ┆   ┆            ┆            ┆           ┆           │\n",
       "└────────────┴───────┴──────────┴────────────┴───┴────────────┴────────────┴───────────┴───────────┘"
      ]
     },
     "execution_count": 4,
     "metadata": {},
     "output_type": "execute_result"
    }
   ],
   "source": [
    "duckdb_client.sql(\"SELECT * FROM summary_v1 LIMIT 10\").pl().head()"
   ]
  },
  {
   "cell_type": "code",
   "execution_count": null,
   "metadata": {},
   "outputs": [],
   "source": []
  }
 ],
 "metadata": {
  "kernelspec": {
   "display_name": ".venv",
   "language": "python",
   "name": "python3"
  },
  "language_info": {
   "codemirror_mode": {
    "name": "ipython",
    "version": 3
   },
   "file_extension": ".py",
   "mimetype": "text/x-python",
   "name": "python",
   "nbconvert_exporter": "python",
   "pygments_lexer": "ipython3",
   "version": "3.12.6"
  }
 },
 "nbformat": 4,
 "nbformat_minor": 2
}
