{
 "cells": [
  {
   "cell_type": "code",
   "execution_count": 48,
   "metadata": {},
   "outputs": [
    {
     "name": "stdout",
     "output_type": "stream",
     "text": [
      "\u001b[2m2024-10-24 14:47:29\u001b[0m [\u001b[32m\u001b[1minfo     \u001b[0m] \u001b[1mLoaded 1 python modules with intermediate model definitions.\u001b[0m\n"
     ]
    }
   ],
   "source": [
    "from op_datasets.etl.intermediate.construct import construct_tasks\n",
    "\n",
    "\n",
    "tasks = construct_tasks(\n",
    "    chains=[\"op\"],\n",
    "    models=[\"dummy\"],\n",
    "    range_spec=\"@20241001:+1\",\n",
    "    source_spec=\"gcs\",\n",
    "    sinks_spec=[\"dummy\"],  # writing is not working yet\n",
    ")"
   ]
  },
  {
   "cell_type": "code",
   "execution_count": 50,
   "metadata": {},
   "outputs": [
    {
     "name": "stdout",
     "output_type": "stream",
     "text": [
      "The autoreload extension is already loaded. To reload it, use:\n",
      "  %reload_ext autoreload\n"
     ]
    }
   ],
   "source": [
    "%load_ext autoreload"
   ]
  },
  {
   "cell_type": "code",
   "execution_count": 51,
   "metadata": {},
   "outputs": [],
   "source": [
    "%autoreload 2"
   ]
  },
  {
   "cell_type": "code",
   "execution_count": 60,
   "metadata": {},
   "outputs": [],
   "source": [
    "from op_datasets.etl.intermediate.models.daily_address_summary import (\n",
    "    daily_address_summary,\n",
    ")\n",
    "\n",
    "result = daily_address_summary(tasks[0])"
   ]
  },
  {
   "cell_type": "code",
   "execution_count": 61,
   "metadata": {},
   "outputs": [
    {
     "data": {
      "text/plain": [
       "dict_keys(['daily_address_summary'])"
      ]
     },
     "execution_count": 61,
     "metadata": {},
     "output_type": "execute_result"
    }
   ],
   "source": [
    "result.keys()"
   ]
  },
  {
   "cell_type": "code",
   "execution_count": 62,
   "metadata": {},
   "outputs": [],
   "source": [
    "result[\"daily_address_summary\"].to_parquet(\"output.parquet\", compression=\"zstd\")"
   ]
  },
  {
   "cell_type": "code",
   "execution_count": 63,
   "metadata": {},
   "outputs": [],
   "source": [
    "import polars as pl\n",
    "\n",
    "df = pl.scan_parquet(\"output.parquet\")"
   ]
  },
  {
   "cell_type": "code",
   "execution_count": 64,
   "metadata": {},
   "outputs": [
    {
     "data": {
      "text/html": [
       "<div><style>\n",
       ".dataframe > thead > tr,\n",
       ".dataframe > tbody > tr {\n",
       "  text-align: right;\n",
       "  white-space: pre-wrap;\n",
       "}\n",
       "</style>\n",
       "<small>shape: (10, 38)</small><table border=\"1\" class=\"dataframe\"><thead><tr><th>dt</th><th>chain</th><th>chain_id</th><th>from_address</th><th>total_txs</th><th>total_txs_success</th><th>total_blocks</th><th>total_blocks_success</th><th>min_block_number</th><th>max_block_number</th><th>block_interval_active</th><th>min_nonce</th><th>max_nonce</th><th>nonce_interval_active</th><th>min_block_timestamp</th><th>max_block_timestamp</th><th>time_interval_active</th><th>unique_hours_active</th><th>num_to_addresses</th><th>num_to_addresses_success</th><th>total_l2_gas_used</th><th>total_l2_gas_used_success</th><th>total_l1_gas_used</th><th>total_l1_gas_used_success</th><th>total_gas_fees</th><th>total_gas_fees_success</th><th>l2_contrib_gas_fees</th><th>l1_contrib_gas_fees</th><th>l1_contrib_contrib_gas_fees_blobgas</th><th>l1_contrib_gas_fees_l1gas</th><th>l2_contrib_gas_fees_basefee</th><th>l2_contrib_gas_fees_priorityfee</th><th>l2_contrib_gas_fees_legacyfee</th><th>avg_l2_gas_price_gwei</th><th>avg_l2_base_fee_gwei</th><th>avg_l2_priority_fee_gwei</th><th>avg_l1_gas_price_gwei</th><th>avg_l1_blob_base_fee_gwei</th></tr><tr><td>date</td><td>str</td><td>i32</td><td>str</td><td>i64</td><td>f64</td><td>i64</td><td>i64</td><td>i64</td><td>i64</td><td>i64</td><td>i64</td><td>i64</td><td>i64</td><td>u32</td><td>u32</td><td>u32</td><td>i64</td><td>i64</td><td>i64</td><td>f64</td><td>f64</td><td>f64</td><td>f64</td><td>decimal[38,19]</td><td>decimal[38,19]</td><td>decimal[38,19]</td><td>decimal[38,19]</td><td>decimal[38,19]</td><td>decimal[38,19]</td><td>decimal[38,19]</td><td>decimal[38,19]</td><td>decimal[38,19]</td><td>decimal[38,10]</td><td>decimal[38,10]</td><td>decimal[38,10]</td><td>decimal[38,10]</td><td>decimal[38,10]</td></tr></thead><tbody><tr><td>2024-10-01</td><td>&quot;op&quot;</td><td>10</td><td>&quot;0x00fafac3b782d0a074bb2fb9e5ae…</td><td>4</td><td>4.0</td><td>4</td><td>4</td><td>126086572</td><td>126086814</td><td>243</td><td>136</td><td>139</td><td>4</td><td>1727771921</td><td>1727772405</td><td>484</td><td>1</td><td>4</td><td>4</td><td>465687.0</td><td>465687.0</td><td>8649.0</td><td>8649.0</td><td>0.0000012437853109980</td><td>0.0000012437853109980</td><td>0.0000005228024379000</td><td>0.0000007209828730980</td><td>0.0000000000000005480</td><td>0.0000007209828725500</td><td>0.0000000585031472840</td><td>0.0000000000000000000</td><td>0.0000011852821637140</td><td>0.0011226480</td><td>0.0001256280</td><td>0.0000000000</td><td>15.9466902780</td><td>0.0000000010</td></tr><tr><td>2024-10-01</td><td>&quot;op&quot;</td><td>10</td><td>&quot;0x00926b5a1453f233e2ec0a5ce276…</td><td>2</td><td>2.0</td><td>2</td><td>2</td><td>126073650</td><td>126087753</td><td>14104</td><td>72</td><td>73</td><td>2</td><td>1727746077</td><td>1727774283</td><td>28206</td><td>2</td><td>2</td><td>2</td><td>87273.0</td><td>87273.0</td><td>3200.0</td><td>3200.0</td><td>0.0000054290150665830</td><td>0.0000054290150665830</td><td>0.0000052363800000000</td><td>0.0000001926350665830</td><td>0.0000000000000002030</td><td>0.0000001926350663800</td><td>0.0000000344024109420</td><td>0.0000000000000000000</td><td>0.0000053946126556410</td><td>0.0600000000</td><td>0.0003941930</td><td>0.0000000000</td><td>11.5168276730</td><td>0.0000000010</td></tr><tr><td>2024-10-01</td><td>&quot;op&quot;</td><td>10</td><td>&quot;0x007b8eb47956bc6e92f356471322…</td><td>25</td><td>25.0</td><td>25</td><td>25</td><td>126080734</td><td>126110710</td><td>29977</td><td>768</td><td>792</td><td>25</td><td>1727760245</td><td>1727820197</td><td>59952</td><td>15</td><td>1</td><td>1</td><td>740800.0</td><td>740800.0</td><td>40000.0</td><td>40000.0</td><td>0.0000737577000035610</td><td>0.0000737577000035610</td><td>0.0000681536000000000</td><td>0.0000056041000035610</td><td>0.0000000000000039550</td><td>0.0000056040999996060</td><td>0.0000185321640248960</td><td>0.0000000000000000000</td><td>0.0000552255359786650</td><td>0.0920000000</td><td>0.0250164200</td><td>0.0000000000</td><td>26.8036158390</td><td>0.0000000020</td></tr><tr><td>2024-10-01</td><td>&quot;op&quot;</td><td>10</td><td>&quot;0x00a673a7983331ed5eeec4b491f6…</td><td>1</td><td>1.0</td><td>1</td><td>1</td><td>126105286</td><td>126105286</td><td>1</td><td>0</td><td>0</td><td>1</td><td>1727809349</td><td>1727809349</td><td>0</td><td>1</td><td>1</td><td>1</td><td>29950.0</td><td>29950.0</td><td>1600.0</td><td>1600.0</td><td>0.0000010199855900540</td><td>0.0000010199855900540</td><td>0.0000008637151415500</td><td>0.0000001562704485040</td><td>0.0000000000000001010</td><td>0.0000001562704484030</td><td>0.0000007909366415500</td><td>0.0000000727785000000</td><td>0.0000000000000000000</td><td>0.0288385690</td><td>0.0264085690</td><td>0.0024300000</td><td>18.6854850300</td><td>0.0000000010</td></tr><tr><td>2024-10-01</td><td>&quot;op&quot;</td><td>10</td><td>&quot;0x0043830246f38445df02909f7e07…</td><td>8</td><td>8.0</td><td>8</td><td>8</td><td>126074744</td><td>126105975</td><td>31232</td><td>219</td><td>226</td><td>8</td><td>1727748265</td><td>1727810727</td><td>62462</td><td>4</td><td>4</td><td>4</td><td>1.322818e6</td><td>1.322818e6</td><td>21185.0</td><td>21185.0</td><td>0.0000222004965262580</td><td>0.0000222004965262580</td><td>0.0000197004770478450</td><td>0.0000025000194784130</td><td>0.0000000000000013430</td><td>0.0000025000194770700</td><td>0.0000180607317630910</td><td>0.0000033124453416370</td><td>0.0000000000000000000</td><td>0.0148928100</td><td>0.0136532250</td><td>0.0025040820</td><td>22.5722280760</td><td>0.0000000010</td></tr><tr><td>2024-10-01</td><td>&quot;op&quot;</td><td>10</td><td>&quot;0x000000e28faa823d5b53ff6c2922…</td><td>1</td><td>1.0</td><td>1</td><td>1</td><td>126082739</td><td>126082739</td><td>1</td><td>908</td><td>908</td><td>1</td><td>1727764255</td><td>1727764255</td><td>0</td><td>1</td><td>1</td><td>1</td><td>703370.0</td><td>703370.0</td><td>1600.0</td><td>1600.0</td><td>0.0000009785580636050</td><td>0.0000009785580636050</td><td>0.0000008498116340000</td><td>0.0000001287464296050</td><td>0.0000000000000001010</td><td>0.0000001287464295040</td><td>0.0000001445833304600</td><td>0.0000007737070000000</td><td>0.0000000000000000000</td><td>0.0012082000</td><td>0.0002055580</td><td>0.0011000000</td><td>15.3943980180</td><td>0.0000000010</td></tr><tr><td>2024-10-01</td><td>&quot;op&quot;</td><td>10</td><td>&quot;0x008cc93d4e75ed1cdd98fef15d8a…</td><td>2</td><td>2.0</td><td>2</td><td>2</td><td>126101994</td><td>126101999</td><td>6</td><td>18</td><td>19</td><td>2</td><td>1727802765</td><td>1727802775</td><td>10</td><td>1</td><td>2</td><td>2</td><td>220373.0</td><td>220373.0</td><td>4358.0</td><td>4358.0</td><td>0.0000086793649117100</td><td>0.0000086793649117100</td><td>0.0000080661141508050</td><td>0.0000006132507609050</td><td>0.0000000000000012800</td><td>0.0000006132507596250</td><td>0.0000067097818249070</td><td>0.0000080661141508050</td><td>0.0000000000000000000</td><td>0.0366020980</td><td>0.0304473860</td><td>0.0366020980</td><td>26.9194783610</td><td>0.0000000050</td></tr><tr><td>2024-10-01</td><td>&quot;op&quot;</td><td>10</td><td>&quot;0x000062dcd53d5374e7eedf1a46d0…</td><td>10</td><td>10.0</td><td>10</td><td>10</td><td>126074451</td><td>126106024</td><td>31574</td><td>260</td><td>269</td><td>10</td><td>1727747679</td><td>1727810825</td><td>63146</td><td>6</td><td>4</td><td>4</td><td>1.663723e6</td><td>1.663723e6</td><td>27224.0</td><td>27224.0</td><td>0.0000143972916918290</td><td>0.0000143972916918290</td><td>0.0000116947995160110</td><td>0.0000027024921758180</td><td>0.0000000000000017260</td><td>0.0000027024921740920</td><td>0.0000098317938355460</td><td>0.0000031501620786560</td><td>0.0000000000000000000</td><td>0.0070292950</td><td>0.0059095140</td><td>0.0018934410</td><td>18.9888082360</td><td>0.0000000010</td></tr><tr><td>2024-10-01</td><td>&quot;op&quot;</td><td>10</td><td>&quot;0x005c8064645102b9e22b0578e10e…</td><td>1</td><td>1.0</td><td>1</td><td>1</td><td>126081689</td><td>126081689</td><td>1</td><td>127</td><td>127</td><td>1</td><td>1727762155</td><td>1727762155</td><td>0</td><td>1</td><td>1</td><td>1</td><td>234431.0</td><td>234431.0</td><td>2423.0</td><td>2423.0</td><td>0.0000002646428742160</td><td>0.0000002646428742160</td><td>0.0000000626976332260</td><td>0.0000002019452409900</td><td>0.0000000000000001540</td><td>0.0000002019452408360</td><td>0.0000000392545332260</td><td>0.0000000234431000000</td><td>0.0000000000000000000</td><td>0.0002674460</td><td>0.0001674460</td><td>0.0001000000</td><td>15.9403907380</td><td>0.0000000010</td></tr><tr><td>2024-10-01</td><td>&quot;op&quot;</td><td>10</td><td>&quot;0x0042be03d25878882952c29834f0…</td><td>1</td><td>1.0</td><td>1</td><td>1</td><td>126108020</td><td>126108020</td><td>1</td><td>4</td><td>4</td><td>1</td><td>1727814817</td><td>1727814817</td><td>0</td><td>1</td><td>1</td><td>1</td><td>621316.0</td><td>621316.0</td><td>31119.0</td><td>31119.0</td><td>0.0000240736717825850</td><td>0.0000240736717825850</td><td>0.0000211500104364560</td><td>0.0000029236613461290</td><td>0.0000000000000019730</td><td>0.0000029236613441560</td><td>0.0000205069545896160</td><td>0.0000006430558468400</td><td>0.0000000000000000000</td><td>0.0340406660</td><td>0.0330056760</td><td>0.0010349900</td><td>17.9741653250</td><td>0.0000000010</td></tr></tbody></table></div>"
      ],
      "text/plain": [
       "shape: (10, 38)\n",
       "┌────────────┬───────┬──────────┬────────────┬───┬────────────┬────────────┬───────────┬───────────┐\n",
       "│ dt         ┆ chain ┆ chain_id ┆ from_addre ┆ … ┆ avg_l2_bas ┆ avg_l2_pri ┆ avg_l1_ga ┆ avg_l1_bl │\n",
       "│ ---        ┆ ---   ┆ ---      ┆ ss         ┆   ┆ e_fee_gwei ┆ ority_fee_ ┆ s_price_g ┆ ob_base_f │\n",
       "│ date       ┆ str   ┆ i32      ┆ ---        ┆   ┆ ---        ┆ gwei       ┆ wei       ┆ ee_gwei   │\n",
       "│            ┆       ┆          ┆ str        ┆   ┆ decimal[38 ┆ ---        ┆ ---       ┆ ---       │\n",
       "│            ┆       ┆          ┆            ┆   ┆ ,10]       ┆ decimal[38 ┆ decimal[3 ┆ decimal[3 │\n",
       "│            ┆       ┆          ┆            ┆   ┆            ┆ ,10]       ┆ 8,10]     ┆ 8,10]     │\n",
       "╞════════════╪═══════╪══════════╪════════════╪═══╪════════════╪════════════╪═══════════╪═══════════╡\n",
       "│ 2024-10-01 ┆ op    ┆ 10       ┆ 0x00fafac3 ┆ … ┆ 0.00012562 ┆ 0.00000000 ┆ 15.946690 ┆ 0.0000000 │\n",
       "│            ┆       ┆          ┆ b782d0a074 ┆   ┆ 80         ┆ 00         ┆ 2780      ┆ 010       │\n",
       "│            ┆       ┆          ┆ bb2fb9e5ae ┆   ┆            ┆            ┆           ┆           │\n",
       "│            ┆       ┆          ┆ …          ┆   ┆            ┆            ┆           ┆           │\n",
       "│ 2024-10-01 ┆ op    ┆ 10       ┆ 0x00926b5a ┆ … ┆ 0.00039419 ┆ 0.00000000 ┆ 11.516827 ┆ 0.0000000 │\n",
       "│            ┆       ┆          ┆ 1453f233e2 ┆   ┆ 30         ┆ 00         ┆ 6730      ┆ 010       │\n",
       "│            ┆       ┆          ┆ ec0a5ce276 ┆   ┆            ┆            ┆           ┆           │\n",
       "│            ┆       ┆          ┆ …          ┆   ┆            ┆            ┆           ┆           │\n",
       "│ 2024-10-01 ┆ op    ┆ 10       ┆ 0x007b8eb4 ┆ … ┆ 0.02501642 ┆ 0.00000000 ┆ 26.803615 ┆ 0.0000000 │\n",
       "│            ┆       ┆          ┆ 7956bc6e92 ┆   ┆ 00         ┆ 00         ┆ 8390      ┆ 020       │\n",
       "│            ┆       ┆          ┆ f356471322 ┆   ┆            ┆            ┆           ┆           │\n",
       "│            ┆       ┆          ┆ …          ┆   ┆            ┆            ┆           ┆           │\n",
       "│ 2024-10-01 ┆ op    ┆ 10       ┆ 0x00a673a7 ┆ … ┆ 0.02640856 ┆ 0.00243000 ┆ 18.685485 ┆ 0.0000000 │\n",
       "│            ┆       ┆          ┆ 983331ed5e ┆   ┆ 90         ┆ 00         ┆ 0300      ┆ 010       │\n",
       "│            ┆       ┆          ┆ eec4b491f6 ┆   ┆            ┆            ┆           ┆           │\n",
       "│            ┆       ┆          ┆ …          ┆   ┆            ┆            ┆           ┆           │\n",
       "│ 2024-10-01 ┆ op    ┆ 10       ┆ 0x00438302 ┆ … ┆ 0.01365322 ┆ 0.00250408 ┆ 22.572228 ┆ 0.0000000 │\n",
       "│            ┆       ┆          ┆ 46f38445df ┆   ┆ 50         ┆ 20         ┆ 0760      ┆ 010       │\n",
       "│            ┆       ┆          ┆ 02909f7e07 ┆   ┆            ┆            ┆           ┆           │\n",
       "│            ┆       ┆          ┆ …          ┆   ┆            ┆            ┆           ┆           │\n",
       "│ 2024-10-01 ┆ op    ┆ 10       ┆ 0x000000e2 ┆ … ┆ 0.00020555 ┆ 0.00110000 ┆ 15.394398 ┆ 0.0000000 │\n",
       "│            ┆       ┆          ┆ 8faa823d5b ┆   ┆ 80         ┆ 00         ┆ 0180      ┆ 010       │\n",
       "│            ┆       ┆          ┆ 53ff6c2922 ┆   ┆            ┆            ┆           ┆           │\n",
       "│            ┆       ┆          ┆ …          ┆   ┆            ┆            ┆           ┆           │\n",
       "│ 2024-10-01 ┆ op    ┆ 10       ┆ 0x008cc93d ┆ … ┆ 0.03044738 ┆ 0.03660209 ┆ 26.919478 ┆ 0.0000000 │\n",
       "│            ┆       ┆          ┆ 4e75ed1cdd ┆   ┆ 60         ┆ 80         ┆ 3610      ┆ 050       │\n",
       "│            ┆       ┆          ┆ 98fef15d8a ┆   ┆            ┆            ┆           ┆           │\n",
       "│            ┆       ┆          ┆ …          ┆   ┆            ┆            ┆           ┆           │\n",
       "│ 2024-10-01 ┆ op    ┆ 10       ┆ 0x000062dc ┆ … ┆ 0.00590951 ┆ 0.00189344 ┆ 18.988808 ┆ 0.0000000 │\n",
       "│            ┆       ┆          ┆ d53d5374e7 ┆   ┆ 40         ┆ 10         ┆ 2360      ┆ 010       │\n",
       "│            ┆       ┆          ┆ eedf1a46d0 ┆   ┆            ┆            ┆           ┆           │\n",
       "│            ┆       ┆          ┆ …          ┆   ┆            ┆            ┆           ┆           │\n",
       "│ 2024-10-01 ┆ op    ┆ 10       ┆ 0x005c8064 ┆ … ┆ 0.00016744 ┆ 0.00010000 ┆ 15.940390 ┆ 0.0000000 │\n",
       "│            ┆       ┆          ┆ 645102b9e2 ┆   ┆ 60         ┆ 00         ┆ 7380      ┆ 010       │\n",
       "│            ┆       ┆          ┆ 2b0578e10e ┆   ┆            ┆            ┆           ┆           │\n",
       "│            ┆       ┆          ┆ …          ┆   ┆            ┆            ┆           ┆           │\n",
       "│ 2024-10-01 ┆ op    ┆ 10       ┆ 0x0042be03 ┆ … ┆ 0.03300567 ┆ 0.00103499 ┆ 17.974165 ┆ 0.0000000 │\n",
       "│            ┆       ┆          ┆ d258788829 ┆   ┆ 60         ┆ 00         ┆ 3250      ┆ 010       │\n",
       "│            ┆       ┆          ┆ 52c29834f0 ┆   ┆            ┆            ┆           ┆           │\n",
       "│            ┆       ┆          ┆ …          ┆   ┆            ┆            ┆           ┆           │\n",
       "└────────────┴───────┴──────────┴────────────┴───┴────────────┴────────────┴───────────┴───────────┘"
      ]
     },
     "execution_count": 64,
     "metadata": {},
     "output_type": "execute_result"
    }
   ],
   "source": [
    "df.limit(10).collect()"
   ]
  },
  {
   "cell_type": "code",
   "execution_count": 33,
   "metadata": {},
   "outputs": [
    {
     "data": {
      "text/plain": [
       "393"
      ]
     },
     "execution_count": 33,
     "metadata": {},
     "output_type": "execute_result"
    }
   ],
   "source": [
    "len(df.collect())"
   ]
  },
  {
   "cell_type": "code",
   "execution_count": null,
   "metadata": {},
   "outputs": [],
   "source": []
  }
 ],
 "metadata": {
  "kernelspec": {
   "display_name": ".venv",
   "language": "python",
   "name": "python3"
  },
  "language_info": {
   "codemirror_mode": {
    "name": "ipython",
    "version": 3
   },
   "file_extension": ".py",
   "mimetype": "text/x-python",
   "name": "python",
   "nbconvert_exporter": "python",
   "pygments_lexer": "ipython3",
   "version": "3.12.3"
  }
 },
 "nbformat": 4,
 "nbformat_minor": 2
}
