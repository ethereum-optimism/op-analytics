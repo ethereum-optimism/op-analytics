{
 "cells": [
  {
   "cell_type": "code",
   "execution_count": 1,
   "metadata": {},
   "outputs": [
    {
     "name": "stdout",
     "output_type": "stream",
     "text": [
      "\u001b[2m2025-02-21 12:40:03\u001b[0m [\u001b[32m\u001b[1minfo     \u001b[0m] \u001b[1mchain=op fetched 114 tokens   \u001b[0m \u001b[36mfilename\u001b[0m=\u001b[35msugarwrapper.py\u001b[0m \u001b[36mlineno\u001b[0m=\u001b[35m86\u001b[0m \u001b[36mprocess\u001b[0m=\u001b[35m22324\u001b[0m\n",
      "\u001b[2m2025-02-21 12:40:04\u001b[0m [\u001b[32m\u001b[1minfo     \u001b[0m] \u001b[1mchain='op' fetched 10 prices from batch 001/012\u001b[0m \u001b[36mfilename\u001b[0m=\u001b[35msugarwrapper.py\u001b[0m \u001b[36mlineno\u001b[0m=\u001b[35m102\u001b[0m \u001b[36mprocess\u001b[0m=\u001b[35m22324\u001b[0m\n",
      "\u001b[2m2025-02-21 12:40:04\u001b[0m [\u001b[32m\u001b[1minfo     \u001b[0m] \u001b[1mchain='op' fetched 10 prices from batch 002/012\u001b[0m \u001b[36mfilename\u001b[0m=\u001b[35msugarwrapper.py\u001b[0m \u001b[36mlineno\u001b[0m=\u001b[35m102\u001b[0m \u001b[36mprocess\u001b[0m=\u001b[35m22324\u001b[0m\n",
      "\u001b[2m2025-02-21 12:40:05\u001b[0m [\u001b[32m\u001b[1minfo     \u001b[0m] \u001b[1mchain='op' fetched 10 prices from batch 003/012\u001b[0m \u001b[36mfilename\u001b[0m=\u001b[35msugarwrapper.py\u001b[0m \u001b[36mlineno\u001b[0m=\u001b[35m102\u001b[0m \u001b[36mprocess\u001b[0m=\u001b[35m22324\u001b[0m\n",
      "\u001b[2m2025-02-21 12:40:05\u001b[0m [\u001b[32m\u001b[1minfo     \u001b[0m] \u001b[1mchain='op' fetched 10 prices from batch 004/012\u001b[0m \u001b[36mfilename\u001b[0m=\u001b[35msugarwrapper.py\u001b[0m \u001b[36mlineno\u001b[0m=\u001b[35m102\u001b[0m \u001b[36mprocess\u001b[0m=\u001b[35m22324\u001b[0m\n",
      "\u001b[2m2025-02-21 12:40:06\u001b[0m [\u001b[32m\u001b[1minfo     \u001b[0m] \u001b[1mchain='op' fetched 10 prices from batch 005/012\u001b[0m \u001b[36mfilename\u001b[0m=\u001b[35msugarwrapper.py\u001b[0m \u001b[36mlineno\u001b[0m=\u001b[35m102\u001b[0m \u001b[36mprocess\u001b[0m=\u001b[35m22324\u001b[0m\n",
      "\u001b[2m2025-02-21 12:40:07\u001b[0m [\u001b[32m\u001b[1minfo     \u001b[0m] \u001b[1mchain='op' fetched 10 prices from batch 006/012\u001b[0m \u001b[36mfilename\u001b[0m=\u001b[35msugarwrapper.py\u001b[0m \u001b[36mlineno\u001b[0m=\u001b[35m102\u001b[0m \u001b[36mprocess\u001b[0m=\u001b[35m22324\u001b[0m\n",
      "\u001b[2m2025-02-21 12:40:07\u001b[0m [\u001b[32m\u001b[1minfo     \u001b[0m] \u001b[1mchain='op' fetched 10 prices from batch 007/012\u001b[0m \u001b[36mfilename\u001b[0m=\u001b[35msugarwrapper.py\u001b[0m \u001b[36mlineno\u001b[0m=\u001b[35m102\u001b[0m \u001b[36mprocess\u001b[0m=\u001b[35m22324\u001b[0m\n",
      "\u001b[2m2025-02-21 12:40:08\u001b[0m [\u001b[32m\u001b[1minfo     \u001b[0m] \u001b[1mchain='op' fetched 10 prices from batch 008/012\u001b[0m \u001b[36mfilename\u001b[0m=\u001b[35msugarwrapper.py\u001b[0m \u001b[36mlineno\u001b[0m=\u001b[35m102\u001b[0m \u001b[36mprocess\u001b[0m=\u001b[35m22324\u001b[0m\n",
      "\u001b[2m2025-02-21 12:40:09\u001b[0m [\u001b[32m\u001b[1minfo     \u001b[0m] \u001b[1mchain='op' fetched 10 prices from batch 009/012\u001b[0m \u001b[36mfilename\u001b[0m=\u001b[35msugarwrapper.py\u001b[0m \u001b[36mlineno\u001b[0m=\u001b[35m102\u001b[0m \u001b[36mprocess\u001b[0m=\u001b[35m22324\u001b[0m\n",
      "\u001b[2m2025-02-21 12:40:09\u001b[0m [\u001b[32m\u001b[1minfo     \u001b[0m] \u001b[1mchain='op' fetched 10 prices from batch 010/012\u001b[0m \u001b[36mfilename\u001b[0m=\u001b[35msugarwrapper.py\u001b[0m \u001b[36mlineno\u001b[0m=\u001b[35m102\u001b[0m \u001b[36mprocess\u001b[0m=\u001b[35m22324\u001b[0m\n",
      "\u001b[2m2025-02-21 12:40:10\u001b[0m [\u001b[32m\u001b[1minfo     \u001b[0m] \u001b[1mchain='op' fetched 10 prices from batch 011/012\u001b[0m \u001b[36mfilename\u001b[0m=\u001b[35msugarwrapper.py\u001b[0m \u001b[36mlineno\u001b[0m=\u001b[35m102\u001b[0m \u001b[36mprocess\u001b[0m=\u001b[35m22324\u001b[0m\n",
      "\u001b[2m2025-02-21 12:40:10\u001b[0m [\u001b[32m\u001b[1minfo     \u001b[0m] \u001b[1mchain='op' fetched 3 prices from batch 012/012\u001b[0m \u001b[36mfilename\u001b[0m=\u001b[35msugarwrapper.py\u001b[0m \u001b[36mlineno\u001b[0m=\u001b[35m102\u001b[0m \u001b[36mprocess\u001b[0m=\u001b[35m22324\u001b[0m\n",
      "\u001b[2m2025-02-21 12:40:10\u001b[0m [\u001b[32m\u001b[1minfo     \u001b[0m] \u001b[1mchain='op' done fetching 114 prices\u001b[0m \u001b[36mfilename\u001b[0m=\u001b[35msugarwrapper.py\u001b[0m \u001b[36mlineno\u001b[0m=\u001b[35m106\u001b[0m \u001b[36mprocess\u001b[0m=\u001b[35m22324\u001b[0m\n",
      "\u001b[2m2025-02-21 12:40:11\u001b[0m [\u001b[32m\u001b[1minfo     \u001b[0m] \u001b[1mchain='op' iteration=1 fetched 50 pools\u001b[0m \u001b[36mfilename\u001b[0m=\u001b[35msugarwrapper.py\u001b[0m \u001b[36mlineno\u001b[0m=\u001b[35m116\u001b[0m \u001b[36mprocess\u001b[0m=\u001b[35m22324\u001b[0m\n",
      "\u001b[2m2025-02-21 12:40:11\u001b[0m [\u001b[32m\u001b[1minfo     \u001b[0m] \u001b[1mchain='op' iteration=2 fetched 50 pools\u001b[0m \u001b[36mfilename\u001b[0m=\u001b[35msugarwrapper.py\u001b[0m \u001b[36mlineno\u001b[0m=\u001b[35m116\u001b[0m \u001b[36mprocess\u001b[0m=\u001b[35m22324\u001b[0m\n",
      "\u001b[2m2025-02-21 12:40:12\u001b[0m [\u001b[32m\u001b[1minfo     \u001b[0m] \u001b[1mchain='op' iteration=3 fetched 50 pools\u001b[0m \u001b[36mfilename\u001b[0m=\u001b[35msugarwrapper.py\u001b[0m \u001b[36mlineno\u001b[0m=\u001b[35m116\u001b[0m \u001b[36mprocess\u001b[0m=\u001b[35m22324\u001b[0m\n",
      "\u001b[2m2025-02-21 12:40:12\u001b[0m [\u001b[32m\u001b[1minfo     \u001b[0m] \u001b[1mchain='op' iteration=4 fetched 50 pools\u001b[0m \u001b[36mfilename\u001b[0m=\u001b[35msugarwrapper.py\u001b[0m \u001b[36mlineno\u001b[0m=\u001b[35m116\u001b[0m \u001b[36mprocess\u001b[0m=\u001b[35m22324\u001b[0m\n",
      "\u001b[2m2025-02-21 12:40:13\u001b[0m [\u001b[32m\u001b[1minfo     \u001b[0m] \u001b[1mchain='op' iteration=5 fetched 50 pools\u001b[0m \u001b[36mfilename\u001b[0m=\u001b[35msugarwrapper.py\u001b[0m \u001b[36mlineno\u001b[0m=\u001b[35m116\u001b[0m \u001b[36mprocess\u001b[0m=\u001b[35m22324\u001b[0m\n",
      "\u001b[2m2025-02-21 12:40:13\u001b[0m [\u001b[32m\u001b[1minfo     \u001b[0m] \u001b[1mchain='op' iteration=6 fetched 50 pools\u001b[0m \u001b[36mfilename\u001b[0m=\u001b[35msugarwrapper.py\u001b[0m \u001b[36mlineno\u001b[0m=\u001b[35m116\u001b[0m \u001b[36mprocess\u001b[0m=\u001b[35m22324\u001b[0m\n",
      "\u001b[2m2025-02-21 12:40:14\u001b[0m [\u001b[32m\u001b[1minfo     \u001b[0m] \u001b[1mchain='op' iteration=7 fetched 50 pools\u001b[0m \u001b[36mfilename\u001b[0m=\u001b[35msugarwrapper.py\u001b[0m \u001b[36mlineno\u001b[0m=\u001b[35m116\u001b[0m \u001b[36mprocess\u001b[0m=\u001b[35m22324\u001b[0m\n",
      "\u001b[2m2025-02-21 12:40:14\u001b[0m [\u001b[32m\u001b[1minfo     \u001b[0m] \u001b[1mchain='op' iteration=8 fetched 50 pools\u001b[0m \u001b[36mfilename\u001b[0m=\u001b[35msugarwrapper.py\u001b[0m \u001b[36mlineno\u001b[0m=\u001b[35m116\u001b[0m \u001b[36mprocess\u001b[0m=\u001b[35m22324\u001b[0m\n",
      "\u001b[2m2025-02-21 12:40:15\u001b[0m [\u001b[32m\u001b[1minfo     \u001b[0m] \u001b[1mchain='op' iteration=9 fetched 50 pools\u001b[0m \u001b[36mfilename\u001b[0m=\u001b[35msugarwrapper.py\u001b[0m \u001b[36mlineno\u001b[0m=\u001b[35m116\u001b[0m \u001b[36mprocess\u001b[0m=\u001b[35m22324\u001b[0m\n",
      "\u001b[2m2025-02-21 12:40:15\u001b[0m [\u001b[32m\u001b[1minfo     \u001b[0m] \u001b[1mchain='op' iteration=10 fetched 50 pools\u001b[0m \u001b[36mfilename\u001b[0m=\u001b[35msugarwrapper.py\u001b[0m \u001b[36mlineno\u001b[0m=\u001b[35m116\u001b[0m \u001b[36mprocess\u001b[0m=\u001b[35m22324\u001b[0m\n",
      "\u001b[2m2025-02-21 12:40:16\u001b[0m [\u001b[32m\u001b[1minfo     \u001b[0m] \u001b[1mchain='op' iteration=11 fetched 50 pools\u001b[0m \u001b[36mfilename\u001b[0m=\u001b[35msugarwrapper.py\u001b[0m \u001b[36mlineno\u001b[0m=\u001b[35m116\u001b[0m \u001b[36mprocess\u001b[0m=\u001b[35m22324\u001b[0m\n",
      "\u001b[2m2025-02-21 12:40:16\u001b[0m [\u001b[32m\u001b[1minfo     \u001b[0m] \u001b[1mchain='op' iteration=12 fetched 50 pools\u001b[0m \u001b[36mfilename\u001b[0m=\u001b[35msugarwrapper.py\u001b[0m \u001b[36mlineno\u001b[0m=\u001b[35m116\u001b[0m \u001b[36mprocess\u001b[0m=\u001b[35m22324\u001b[0m\n",
      "\u001b[2m2025-02-21 12:40:17\u001b[0m [\u001b[32m\u001b[1minfo     \u001b[0m] \u001b[1mchain='op' iteration=13 fetched 50 pools\u001b[0m \u001b[36mfilename\u001b[0m=\u001b[35msugarwrapper.py\u001b[0m \u001b[36mlineno\u001b[0m=\u001b[35m116\u001b[0m \u001b[36mprocess\u001b[0m=\u001b[35m22324\u001b[0m\n",
      "\u001b[2m2025-02-21 12:40:17\u001b[0m [\u001b[32m\u001b[1minfo     \u001b[0m] \u001b[1mchain='op' iteration=14 fetched 50 pools\u001b[0m \u001b[36mfilename\u001b[0m=\u001b[35msugarwrapper.py\u001b[0m \u001b[36mlineno\u001b[0m=\u001b[35m116\u001b[0m \u001b[36mprocess\u001b[0m=\u001b[35m22324\u001b[0m\n",
      "\u001b[2m2025-02-21 12:40:18\u001b[0m [\u001b[32m\u001b[1minfo     \u001b[0m] \u001b[1mchain='op' iteration=15 fetched 50 pools\u001b[0m \u001b[36mfilename\u001b[0m=\u001b[35msugarwrapper.py\u001b[0m \u001b[36mlineno\u001b[0m=\u001b[35m116\u001b[0m \u001b[36mprocess\u001b[0m=\u001b[35m22324\u001b[0m\n",
      "\u001b[2m2025-02-21 12:40:18\u001b[0m [\u001b[32m\u001b[1minfo     \u001b[0m] \u001b[1mchain='op' iteration=16 fetched 50 pools\u001b[0m \u001b[36mfilename\u001b[0m=\u001b[35msugarwrapper.py\u001b[0m \u001b[36mlineno\u001b[0m=\u001b[35m116\u001b[0m \u001b[36mprocess\u001b[0m=\u001b[35m22324\u001b[0m\n",
      "\u001b[2m2025-02-21 12:40:19\u001b[0m [\u001b[32m\u001b[1minfo     \u001b[0m] \u001b[1mchain='op' iteration=17 fetched 50 pools\u001b[0m \u001b[36mfilename\u001b[0m=\u001b[35msugarwrapper.py\u001b[0m \u001b[36mlineno\u001b[0m=\u001b[35m116\u001b[0m \u001b[36mprocess\u001b[0m=\u001b[35m22324\u001b[0m\n",
      "\u001b[2m2025-02-21 12:40:19\u001b[0m [\u001b[32m\u001b[1minfo     \u001b[0m] \u001b[1mchain='op' iteration=18 fetched 50 pools\u001b[0m \u001b[36mfilename\u001b[0m=\u001b[35msugarwrapper.py\u001b[0m \u001b[36mlineno\u001b[0m=\u001b[35m116\u001b[0m \u001b[36mprocess\u001b[0m=\u001b[35m22324\u001b[0m\n",
      "\u001b[2m2025-02-21 12:40:20\u001b[0m [\u001b[32m\u001b[1minfo     \u001b[0m] \u001b[1mchain='op' iteration=19 fetched 50 pools\u001b[0m \u001b[36mfilename\u001b[0m=\u001b[35msugarwrapper.py\u001b[0m \u001b[36mlineno\u001b[0m=\u001b[35m116\u001b[0m \u001b[36mprocess\u001b[0m=\u001b[35m22324\u001b[0m\n",
      "\u001b[2m2025-02-21 12:40:20\u001b[0m [\u001b[32m\u001b[1minfo     \u001b[0m] \u001b[1mchain='op' iteration=20 fetched 50 pools\u001b[0m \u001b[36mfilename\u001b[0m=\u001b[35msugarwrapper.py\u001b[0m \u001b[36mlineno\u001b[0m=\u001b[35m116\u001b[0m \u001b[36mprocess\u001b[0m=\u001b[35m22324\u001b[0m\n",
      "\u001b[2m2025-02-21 12:40:21\u001b[0m [\u001b[32m\u001b[1minfo     \u001b[0m] \u001b[1mchain='op' iteration=21 fetched 50 pools\u001b[0m \u001b[36mfilename\u001b[0m=\u001b[35msugarwrapper.py\u001b[0m \u001b[36mlineno\u001b[0m=\u001b[35m116\u001b[0m \u001b[36mprocess\u001b[0m=\u001b[35m22324\u001b[0m\n",
      "\u001b[2m2025-02-21 12:40:21\u001b[0m [\u001b[32m\u001b[1minfo     \u001b[0m] \u001b[1mchain='op' iteration=22 fetched 50 pools\u001b[0m \u001b[36mfilename\u001b[0m=\u001b[35msugarwrapper.py\u001b[0m \u001b[36mlineno\u001b[0m=\u001b[35m116\u001b[0m \u001b[36mprocess\u001b[0m=\u001b[35m22324\u001b[0m\n",
      "\u001b[2m2025-02-21 12:40:22\u001b[0m [\u001b[32m\u001b[1minfo     \u001b[0m] \u001b[1mchain='op' iteration=23 fetched 50 pools\u001b[0m \u001b[36mfilename\u001b[0m=\u001b[35msugarwrapper.py\u001b[0m \u001b[36mlineno\u001b[0m=\u001b[35m116\u001b[0m \u001b[36mprocess\u001b[0m=\u001b[35m22324\u001b[0m\n",
      "\u001b[2m2025-02-21 12:40:22\u001b[0m [\u001b[32m\u001b[1minfo     \u001b[0m] \u001b[1mchain='op' iteration=24 fetched 50 pools\u001b[0m \u001b[36mfilename\u001b[0m=\u001b[35msugarwrapper.py\u001b[0m \u001b[36mlineno\u001b[0m=\u001b[35m116\u001b[0m \u001b[36mprocess\u001b[0m=\u001b[35m22324\u001b[0m\n",
      "\u001b[2m2025-02-21 12:40:23\u001b[0m [\u001b[32m\u001b[1minfo     \u001b[0m] \u001b[1mchain='op' iteration=25 fetched 50 pools\u001b[0m \u001b[36mfilename\u001b[0m=\u001b[35msugarwrapper.py\u001b[0m \u001b[36mlineno\u001b[0m=\u001b[35m116\u001b[0m \u001b[36mprocess\u001b[0m=\u001b[35m22324\u001b[0m\n",
      "\u001b[2m2025-02-21 12:40:23\u001b[0m [\u001b[32m\u001b[1minfo     \u001b[0m] \u001b[1mchain='op' iteration=26 fetched 0 pools\u001b[0m \u001b[36mfilename\u001b[0m=\u001b[35msugarwrapper.py\u001b[0m \u001b[36mlineno\u001b[0m=\u001b[35m116\u001b[0m \u001b[36mprocess\u001b[0m=\u001b[35m22324\u001b[0m\n",
      "\u001b[2m2025-02-21 12:40:23\u001b[0m [\u001b[32m\u001b[1minfo     \u001b[0m] \u001b[1mchain='op' done fetching 1250 pools\u001b[0m \u001b[36mfilename\u001b[0m=\u001b[35msugarwrapper.py\u001b[0m \u001b[36mlineno\u001b[0m=\u001b[35m122\u001b[0m \u001b[36mprocess\u001b[0m=\u001b[35m22324\u001b[0m\n",
      "--- TOKENS ---\n",
      "Token(token_address='ETH', symbol='ETH', decimals=18, listed=True, wrapped_token_address='0x4200000000000000000000000000000000000006')\n",
      "Token(token_address='0x9560e827aF36c94D2Ac33a39bCE1Fe78631088Db', symbol='VELO', decimals=18, listed=True, wrapped_token_address=None)\n",
      "Token(token_address='0x3417E54A51924C225330f8770514aD5560B9098D', symbol='RED', decimals=18, listed=True, wrapped_token_address=None)\n",
      "Token(token_address='0x7F5c764cBc14f9669B88837ca1490cCa17c31607', symbol='USDC', decimals=6, listed=True, wrapped_token_address=None)\n",
      "Token(token_address='0x4200000000000000000000000000000000000006', symbol='WETH', decimals=18, listed=True, wrapped_token_address=None)\n",
      "\n",
      "--- PRICES --- \n",
      "Price(token=Token(token_address='0x7F5c764cBc14f9669B88837ca1490cCa17c31607', symbol='USDC', decimals=6, listed=True, wrapped_token_address=None), price=1)\n",
      "Price(token=Token(token_address='ETH', symbol='ETH', decimals=18, listed=True, wrapped_token_address='0x4200000000000000000000000000000000000006'), price=2304.91307)\n",
      "Price(token=Token(token_address='0x9560e827aF36c94D2Ac33a39bCE1Fe78631088Db', symbol='VELO', decimals=18, listed=True, wrapped_token_address=None), price=0.071947)\n",
      "Price(token=Token(token_address='0x3417E54A51924C225330f8770514aD5560B9098D', symbol='RED', decimals=18, listed=True, wrapped_token_address=None), price=0.130691)\n",
      "Price(token=Token(token_address='0x4200000000000000000000000000000000000006', symbol='WETH', decimals=18, listed=True, wrapped_token_address=None), price=2304.91307)\n",
      "\n",
      "--- POOLS --- \n",
      "LiquidityPool(lp='0x7A7f1187c4710010DB17d0a9ad3fcE85e6ecD90a', factory='0xF1046053aa5682b4F9a81b5481394DA16BE5FF5a', symbol='vAMM-RED/VELO', is_stable=False, is_cl=False, total_supply=1209914069634735393007620, decimals=18, token0=Token(token_address='0x3417E54A51924C225330f8770514aD5560B9098D', symbol='RED', decimals=18, listed=True, wrapped_token_address=None), token1=Token(token_address='0x9560e827aF36c94D2Ac33a39bCE1Fe78631088Db', symbol='VELO', decimals=18, listed=True, wrapped_token_address=None), pool_fee=100, gauge_total_supply=778032194270535722478194, emissions_token=Token(token_address='0x9560e827aF36c94D2Ac33a39bCE1Fe78631088Db', symbol='VELO', decimals=18, listed=True, wrapped_token_address=None), nfpm='0x0000000000000000000000000000000000000000', alm='0x0000000000000000000000000000000000000000')\n",
      "LiquidityPool(lp='0x8134A2fDC127549480865fB8E5A9E8A8a95a54c5', factory='0xF1046053aa5682b4F9a81b5481394DA16BE5FF5a', symbol='vAMM-USDC/VELO', is_stable=False, is_cl=False, total_supply=804832561827643531, decimals=18, token0=Token(token_address='0x7F5c764cBc14f9669B88837ca1490cCa17c31607', symbol='USDC', decimals=6, listed=True, wrapped_token_address=None), token1=Token(token_address='0x9560e827aF36c94D2Ac33a39bCE1Fe78631088Db', symbol='VELO', decimals=18, listed=True, wrapped_token_address=None), pool_fee=100, gauge_total_supply=788220422215472013, emissions_token=Token(token_address='0x9560e827aF36c94D2Ac33a39bCE1Fe78631088Db', symbol='VELO', decimals=18, listed=True, wrapped_token_address=None), nfpm='0x0000000000000000000000000000000000000000', alm='0x0000000000000000000000000000000000000000')\n",
      "LiquidityPool(lp='0x58e6433A6903886E440Ddf519eCC573c4046a6b2', factory='0xF1046053aa5682b4F9a81b5481394DA16BE5FF5a', symbol='vAMM-WETH/VELO', is_stable=False, is_cl=False, total_supply=17037528816952999289930, decimals=18, token0=Token(token_address='0x4200000000000000000000000000000000000006', symbol='WETH', decimals=18, listed=True, wrapped_token_address=None), token1=Token(token_address='0x9560e827aF36c94D2Ac33a39bCE1Fe78631088Db', symbol='VELO', decimals=18, listed=True, wrapped_token_address=None), pool_fee=100, gauge_total_supply=16884326103306000860965, emissions_token=Token(token_address='0x9560e827aF36c94D2Ac33a39bCE1Fe78631088Db', symbol='VELO', decimals=18, listed=True, wrapped_token_address=None), nfpm='0x0000000000000000000000000000000000000000', alm='0x0000000000000000000000000000000000000000')\n",
      "LiquidityPool(lp='0x1AD06Ca54de04DBe9e2817F4C13eCB406DCbeAf0', factory='0xF1046053aa5682b4F9a81b5481394DA16BE5FF5a', symbol='sAMM-alETH/frxETH', is_stable=True, is_cl=False, total_supply=161829553232327207628, decimals=18, token0=Token(token_address='0x3E29D3A9316dAB217754d13b28646B76607c5f04', symbol='alETH', decimals=18, listed=True, wrapped_token_address=None), token1=Token(token_address='0x6806411765Af15Bddd26f8f544A34cC40cb9838B', symbol='frxETH', decimals=18, listed=True, wrapped_token_address=None), pool_fee=5, gauge_total_supply=161821257365890908748, emissions_token=Token(token_address='0x9560e827aF36c94D2Ac33a39bCE1Fe78631088Db', symbol='VELO', decimals=18, listed=True, wrapped_token_address=None), nfpm='0x0000000000000000000000000000000000000000', alm='0x0000000000000000000000000000000000000000')\n",
      "LiquidityPool(lp='0xC5c247580A4A6E4d3811c0DA6215057aaC480bAc', factory='0xF1046053aa5682b4F9a81b5481394DA16BE5FF5a', symbol='vAMM-wstETH/LDO', is_stable=False, is_cl=False, total_supply=1078128090075582121813, decimals=18, token0=Token(token_address='0x1F32b1c2345538c0c6f582fCB022739c4A194Ebb', symbol='wstETH', decimals=18, listed=True, wrapped_token_address=None), token1=Token(token_address='0xFdb794692724153d1488CcdBE0C56c252596735F', symbol='LDO', decimals=18, listed=True, wrapped_token_address=None), pool_fee=30, gauge_total_supply=1072454533402742005799, emissions_token=Token(token_address='0x9560e827aF36c94D2Ac33a39bCE1Fe78631088Db', symbol='VELO', decimals=18, listed=True, wrapped_token_address=None), nfpm='0x0000000000000000000000000000000000000000', alm='0x0000000000000000000000000000000000000000')\n",
      "\n",
      "--- MISSING TOKEN INFO --- \n",
      "MissingTokenInfo(token0='0x46f21fDa29F1339e0aB543763FF683D399e393eC', token1='0x9560e827aF36c94D2Ac33a39bCE1Fe78631088Db', pool_type=0)\n",
      "MissingTokenInfo(token0='0x7aE97042a4A0eB4D1eB370C34BfEC71042a056B7', token1='0x9560e827aF36c94D2Ac33a39bCE1Fe78631088Db', pool_type=-1)\n",
      "MissingTokenInfo(token0='0x340fE1D898ECCAad394e2ba0fC1F93d27c7b717A', token1='0x7F5c764cBc14f9669B88837ca1490cCa17c31607', pool_type=-1)\n",
      "MissingTokenInfo(token0='0x10010078a54396F62c96dF8532dc2B4847d47ED3', token1='0x7F5c764cBc14f9669B88837ca1490cCa17c31607', pool_type=-1)\n",
      "MissingTokenInfo(token0='0xCa0E54b636DB823847B29F506BFFEE743F57729D', token1='0xDA10009cBd5D07dd0CeCc66161FC93D7c9000da1', pool_type=0)\n"
     ]
    }
   ],
   "source": [
    "from op_analytics.datasources.velodrome.sugarwrapper import fetch_pools \n",
    "\n",
    "ans = fetch_pools(\"op\")\n",
    "\n",
    "ans.show()"
   ]
  }
 ],
 "metadata": {
  "kernelspec": {
   "display_name": ".venv",
   "language": "python",
   "name": "python3"
  },
  "language_info": {
   "codemirror_mode": {
    "name": "ipython",
    "version": 3
   },
   "file_extension": ".py",
   "mimetype": "text/x-python",
   "name": "python",
   "nbconvert_exporter": "python",
   "pygments_lexer": "ipython3",
   "version": "3.12.6"
  }
 },
 "nbformat": 4,
 "nbformat_minor": 2
}
