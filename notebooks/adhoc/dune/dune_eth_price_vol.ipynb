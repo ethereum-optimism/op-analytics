{
 "cells": [
  {
   "cell_type": "code",
   "execution_count": 1,
   "metadata": {},
   "outputs": [
    {
     "name": "stdout",
     "output_type": "stream",
     "text": [
      "\u001b[2m2025-05-15 17:08:06\u001b[0m [\u001b[32m\u001b[1minfo     \u001b[0m] \u001b[1mloaded vault from .env file   \u001b[0m \u001b[36mfilename\u001b[0m=\u001b[35mvault.py\u001b[0m \u001b[36mlineno\u001b[0m=\u001b[35m32\u001b[0m \u001b[36mprocess\u001b[0m=\u001b[35m68715\u001b[0m\n",
      "\u001b[2m2025-05-15 17:08:06\u001b[0m [\u001b[32m\u001b[1mdebug    \u001b[0m] \u001b[1mloaded vault: 28 items        \u001b[0m \u001b[36mfilename\u001b[0m=\u001b[35mvault.py\u001b[0m \u001b[36mlineno\u001b[0m=\u001b[35m79\u001b[0m \u001b[36mprocess\u001b[0m=\u001b[35m68715\u001b[0m\n",
      "initiating new execution of query_id = 5139749\n",
      "waiting for results, execution_id = 01JVAWD85NFQZ0CB5JJ7PFZ7KD, t = 0.00\n",
      "waiting for results, execution_id = 01JVAWD85NFQZ0CB5JJ7PFZ7KD, t = 1.01\n",
      "waiting for results, execution_id = 01JVAWD85NFQZ0CB5JJ7PFZ7KD, t = 2.01\n",
      "waiting for results, execution_id = 01JVAWD85NFQZ0CB5JJ7PFZ7KD, t = 3.01\n",
      "waiting for results, execution_id = 01JVAWD85NFQZ0CB5JJ7PFZ7KD, t = 4.01\n",
      "waiting for results, execution_id = 01JVAWD85NFQZ0CB5JJ7PFZ7KD, t = 5.02\n",
      "waiting for results, execution_id = 01JVAWD85NFQZ0CB5JJ7PFZ7KD, t = 6.02\n",
      "waiting for results, execution_id = 01JVAWD85NFQZ0CB5JJ7PFZ7KD, t = 7.02\n",
      "waiting for results, execution_id = 01JVAWD85NFQZ0CB5JJ7PFZ7KD, t = 8.03\n",
      "waiting for results, execution_id = 01JVAWD85NFQZ0CB5JJ7PFZ7KD, t = 9.03\n",
      "waiting for results, execution_id = 01JVAWD85NFQZ0CB5JJ7PFZ7KD, t = 10.04\n",
      "getting results, execution_id = 01JVAWD85NFQZ0CB5JJ7PFZ7KD\n",
      "shape: (15, 10)\n",
      "┌────────┬─────────────┬────────────┬─────────┬───┬─────────┬────────────┬────────────┬────────────┐\n",
      "│ symbol ┆ realized_vo ┆ hl_abs_cha ┆ high    ┆ … ┆ close   ┆ avg        ┆ med        ┆ dt         │\n",
      "│ ---    ┆ latility    ┆ nge        ┆ ---     ┆   ┆ ---     ┆ ---        ┆ ---        ┆ ---        │\n",
      "│ str    ┆ ---         ┆ ---        ┆ f64     ┆   ┆ f64     ┆ f64        ┆ f64        ┆ str        │\n",
      "│        ┆ f64         ┆ f64        ┆         ┆   ┆         ┆            ┆            ┆            │\n",
      "╞════════╪═════════════╪════════════╪═════════╪═══╪═════════╪════════════╪════════════╪════════════╡\n",
      "│ ETH    ┆ 0.0         ┆ 0.0        ┆ 1227.27 ┆ … ┆ 1227.27 ┆ 1227.27    ┆ 1227.27    ┆ 2021-01-15 │\n",
      "│ ETH    ┆ 0.057531    ┆ 0.133191   ┆ 1237.92 ┆ … ┆ 1217.58 ┆ 1167.84409 ┆ 1166.33277 ┆ 2021-01-14 │\n",
      "│        ┆             ┆            ┆         ┆   ┆         ┆ 7          ┆ 5          ┆            │\n",
      "│ ETH    ┆ 0.06564     ┆ 0.132581   ┆ 1133.17 ┆ … ┆ 1128.8  ┆ 1068.30322 ┆ 1066.43732 ┆ 2021-01-13 │\n",
      "│        ┆             ┆            ┆         ┆   ┆         ┆ 9          ┆ 9          ┆            │\n",
      "│ ETH    ┆ 0.085949    ┆ 0.12       ┆ 1147.72 ┆ … ┆ 1045.95 ┆ 1088.11138 ┆ 1086.45619 ┆ 2021-01-12 │\n",
      "│        ┆             ┆            ┆         ┆   ┆         ┆ 9          ┆ 5          ┆            │\n",
      "│ ETH    ┆ 0.170782    ┆ 0.35998    ┆ 1262.17 ┆ … ┆ 1091.85 ┆ 1074.21375 ┆ 1072.93837 ┆ 2021-01-11 │\n",
      "│        ┆             ┆            ┆         ┆   ┆         ┆            ┆ 6          ┆            │\n",
      "│ …      ┆ …           ┆ …          ┆ …       ┆ … ┆ …       ┆ …          ┆ …          ┆ …          │\n",
      "│ ETH    ┆ 0.09713     ┆ 0.133647   ┆ 1124.68 ┆ … ┆ 1104.83 ┆ 1058.54336 ┆ 1052.93710 ┆ 2021-01-05 │\n",
      "│        ┆             ┆            ┆         ┆   ┆         ┆ 8          ┆ 9          ┆            │\n",
      "│ ETH    ┆ 0.132983    ┆ 0.25501    ┆ 1157.32 ┆ … ┆ 1043.08 ┆ 1014.88298 ┆ 1014.39903 ┆ 2021-01-04 │\n",
      "│        ┆             ┆            ┆         ┆   ┆         ┆ 6          ┆ 3          ┆            │\n",
      "│ ETH    ┆ 0.088893    ┆ 0.309042   ┆ 1010.96 ┆ … ┆ 987.07  ┆ 859.637049 ┆ 830.36972  ┆ 2021-01-03 │\n",
      "│ ETH    ┆ 0.041273    ┆ 0.094811   ┆ 786.6   ┆ … ┆ 774.71  ┆ 750.057882 ┆ 740.832561 ┆ 2021-01-02 │\n",
      "│ ETH    ┆ 0.026365    ┆ 0.037497   ┆ 748.99  ┆ … ┆ 730.43  ┆ 737.141528 ┆ 737.676013 ┆ 2021-01-01 │\n",
      "└────────┴─────────────┴────────────┴─────────┴───┴─────────┴────────────┴────────────┴────────────┘\n",
      "DuneETHPriceVOlSummary(df=shape: (15, 10)\n",
      "┌────────┬─────────────┬────────────┬─────────┬───┬─────────┬────────────┬────────────┬────────────┐\n",
      "│ symbol ┆ realized_vo ┆ hl_abs_cha ┆ high    ┆ … ┆ close   ┆ avg        ┆ med        ┆ dt         │\n",
      "│ ---    ┆ latility    ┆ nge        ┆ ---     ┆   ┆ ---     ┆ ---        ┆ ---        ┆ ---        │\n",
      "│ str    ┆ ---         ┆ ---        ┆ f64     ┆   ┆ f64     ┆ f64        ┆ f64        ┆ str        │\n",
      "│        ┆ f64         ┆ f64        ┆         ┆   ┆         ┆            ┆            ┆            │\n",
      "╞════════╪═════════════╪════════════╪═════════╪═══╪═════════╪════════════╪════════════╪════════════╡\n",
      "│ ETH    ┆ 0.0         ┆ 0.0        ┆ 1227.27 ┆ … ┆ 1227.27 ┆ 1227.27    ┆ 1227.27    ┆ 2021-01-15 │\n",
      "│ ETH    ┆ 0.057531    ┆ 0.133191   ┆ 1237.92 ┆ … ┆ 1217.58 ┆ 1167.84409 ┆ 1166.33277 ┆ 2021-01-14 │\n",
      "│        ┆             ┆            ┆         ┆   ┆         ┆ 7          ┆ 5          ┆            │\n",
      "│ ETH    ┆ 0.06564     ┆ 0.132581   ┆ 1133.17 ┆ … ┆ 1128.8  ┆ 1068.30322 ┆ 1066.43732 ┆ 2021-01-13 │\n",
      "│        ┆             ┆            ┆         ┆   ┆         ┆ 9          ┆ 9          ┆            │\n",
      "│ ETH    ┆ 0.085949    ┆ 0.12       ┆ 1147.72 ┆ … ┆ 1045.95 ┆ 1088.11138 ┆ 1086.45619 ┆ 2021-01-12 │\n",
      "│        ┆             ┆            ┆         ┆   ┆         ┆ 9          ┆ 5          ┆            │\n",
      "│ ETH    ┆ 0.170782    ┆ 0.35998    ┆ 1262.17 ┆ … ┆ 1091.85 ┆ 1074.21375 ┆ 1072.93837 ┆ 2021-01-11 │\n",
      "│        ┆             ┆            ┆         ┆   ┆         ┆            ┆ 6          ┆            │\n",
      "│ …      ┆ …           ┆ …          ┆ …       ┆ … ┆ …       ┆ …          ┆ …          ┆ …          │\n",
      "│ ETH    ┆ 0.09713     ┆ 0.133647   ┆ 1124.68 ┆ … ┆ 1104.83 ┆ 1058.54336 ┆ 1052.93710 ┆ 2021-01-05 │\n",
      "│        ┆             ┆            ┆         ┆   ┆         ┆ 8          ┆ 9          ┆            │\n",
      "│ ETH    ┆ 0.132983    ┆ 0.25501    ┆ 1157.32 ┆ … ┆ 1043.08 ┆ 1014.88298 ┆ 1014.39903 ┆ 2021-01-04 │\n",
      "│        ┆             ┆            ┆         ┆   ┆         ┆ 6          ┆ 3          ┆            │\n",
      "│ ETH    ┆ 0.088893    ┆ 0.309042   ┆ 1010.96 ┆ … ┆ 987.07  ┆ 859.637049 ┆ 830.36972  ┆ 2021-01-03 │\n",
      "│ ETH    ┆ 0.041273    ┆ 0.094811   ┆ 786.6   ┆ … ┆ 774.71  ┆ 750.057882 ┆ 740.832561 ┆ 2021-01-02 │\n",
      "│ ETH    ┆ 0.026365    ┆ 0.037497   ┆ 748.99  ┆ … ┆ 730.43  ┆ 737.141528 ┆ 737.676013 ┆ 2021-01-01 │\n",
      "└────────┴─────────────┴────────────┴─────────┴───┴─────────┴────────────┴────────────┴────────────┘)\n",
      "\u001b[2m2025-05-15 17:08:17\u001b[0m [\u001b[32m\u001b[1mdebug    \u001b[0m] \u001b[1mFound vault variable GOOGLE_SERVICE_ACCOUNT (has JSON key)\u001b[0m \u001b[36mfilename\u001b[0m=\u001b[35mgcpauth.py\u001b[0m \u001b[36mlineno\u001b[0m=\u001b[35m18\u001b[0m \u001b[36mprocess\u001b[0m=\u001b[35m68715\u001b[0m \u001b[36mroot\u001b[0m=\u001b[35mdune/daily_eth_price_volatility_v1\u001b[0m\n",
      "\u001b[2m2025-05-15 17:08:17\u001b[0m [\u001b[32m\u001b[1minfo     \u001b[0m] \u001b[1mInitialized gcsfs client for bucket=gs://oplabs-tools-data-sink\u001b[0m \u001b[36mfilename\u001b[0m=\u001b[35mgcs_parquet.py\u001b[0m \u001b[36mlineno\u001b[0m=\u001b[35m32\u001b[0m \u001b[36mprocess\u001b[0m=\u001b[35m68715\u001b[0m \u001b[36mroot\u001b[0m=\u001b[35mdune/daily_eth_price_volatility_v1\u001b[0m\n",
      "\u001b[2m2025-05-15 17:08:17\u001b[0m [\u001b[32m\u001b[1minfo     \u001b[0m] \u001b[1mdone writing 1rows 3.2KB      \u001b[0m \u001b[36mfilename\u001b[0m=\u001b[35mgcs_parquet.py\u001b[0m \u001b[36mlineno\u001b[0m=\u001b[35m57\u001b[0m \u001b[36mmaxrss\u001b[0m=\u001b[35m199196672\u001b[0m \u001b[36mpath\u001b[0m=\u001b[35m'oplabs-tools-data-sink/dune/daily_eth_price_volatility_v1/dt=2021-01-01/out.parquet'\u001b[0m \u001b[36mprocess\u001b[0m=\u001b[35m68715\u001b[0m \u001b[36mroot\u001b[0m=\u001b[35mdune/daily_eth_price_volatility_v1\u001b[0m \u001b[36mrows\u001b[0m=\u001b[35m1\u001b[0m \u001b[36msize\u001b[0m=\u001b[35m3154\u001b[0m\n",
      "\u001b[2m2025-05-15 17:08:17\u001b[0m [\u001b[32m\u001b[1minfo     \u001b[0m] \u001b[1mmemory usage                  \u001b[0m \u001b[36mfilename\u001b[0m=\u001b[35mgcs_parquet.py\u001b[0m \u001b[36mlineno\u001b[0m=\u001b[35m65\u001b[0m \u001b[36mmax_rss\u001b[0m=\u001b[35m199.2\u001b[0m \u001b[36mprocess\u001b[0m=\u001b[35m68715\u001b[0m \u001b[36mroot\u001b[0m=\u001b[35mdune/daily_eth_price_volatility_v1\u001b[0m\n",
      "\u001b[2m2025-05-15 17:08:18\u001b[0m [\u001b[32m\u001b[1mdebug    \u001b[0m] \u001b[1mconnecting to OPLABS Clickhouse client...\u001b[0m \u001b[36mfilename\u001b[0m=\u001b[35mclient.py\u001b[0m \u001b[36mlineno\u001b[0m=\u001b[35m56\u001b[0m \u001b[36mprocess\u001b[0m=\u001b[35m68715\u001b[0m \u001b[36mroot\u001b[0m=\u001b[35mdune/daily_eth_price_volatility_v1\u001b[0m\n",
      "\u001b[2m2025-05-15 17:08:18\u001b[0m [\u001b[32m\u001b[1mdebug    \u001b[0m] \u001b[1minitialized OPLABS Clickhouse client.\u001b[0m \u001b[36mfilename\u001b[0m=\u001b[35mclient.py\u001b[0m \u001b[36mlineno\u001b[0m=\u001b[35m61\u001b[0m \u001b[36mprocess\u001b[0m=\u001b[35m68715\u001b[0m \u001b[36mroot\u001b[0m=\u001b[35mdune/daily_eth_price_volatility_v1\u001b[0m\n",
      "\u001b[2m2025-05-15 17:08:18\u001b[0m [\u001b[32m\u001b[1mdebug    \u001b[0m] \u001b[1mdone writing dune/daily_eth_price_volatility_v1 to GCS\u001b[0m \u001b[36mfilename\u001b[0m=\u001b[35mwritemanager.py\u001b[0m \u001b[36mlineno\u001b[0m=\u001b[35m131\u001b[0m \u001b[36mprocess\u001b[0m=\u001b[35m68715\u001b[0m \u001b[36mroot\u001b[0m=\u001b[35mdune/daily_eth_price_volatility_v1\u001b[0m\n",
      "\u001b[2m2025-05-15 17:08:18\u001b[0m [\u001b[32m\u001b[1minfo     \u001b[0m] \u001b[1mdone writing 1rows 3.2KB      \u001b[0m \u001b[36mfilename\u001b[0m=\u001b[35mgcs_parquet.py\u001b[0m \u001b[36mlineno\u001b[0m=\u001b[35m57\u001b[0m \u001b[36mmaxrss\u001b[0m=\u001b[35m202522624\u001b[0m \u001b[36mpath\u001b[0m=\u001b[35m'oplabs-tools-data-sink/dune/daily_eth_price_volatility_v1/dt=2021-01-02/out.parquet'\u001b[0m \u001b[36mprocess\u001b[0m=\u001b[35m68715\u001b[0m \u001b[36mroot\u001b[0m=\u001b[35mdune/daily_eth_price_volatility_v1\u001b[0m \u001b[36mrows\u001b[0m=\u001b[35m1\u001b[0m \u001b[36msize\u001b[0m=\u001b[35m3154\u001b[0m\n",
      "\u001b[2m2025-05-15 17:08:18\u001b[0m [\u001b[32m\u001b[1minfo     \u001b[0m] \u001b[1mmemory usage                  \u001b[0m \u001b[36mfilename\u001b[0m=\u001b[35mgcs_parquet.py\u001b[0m \u001b[36mlineno\u001b[0m=\u001b[35m65\u001b[0m \u001b[36mmax_rss\u001b[0m=\u001b[35m202.52\u001b[0m \u001b[36mprocess\u001b[0m=\u001b[35m68715\u001b[0m \u001b[36mroot\u001b[0m=\u001b[35mdune/daily_eth_price_volatility_v1\u001b[0m\n",
      "\u001b[2m2025-05-15 17:08:19\u001b[0m [\u001b[32m\u001b[1mdebug    \u001b[0m] \u001b[1mdone writing dune/daily_eth_price_volatility_v1 to GCS\u001b[0m \u001b[36mfilename\u001b[0m=\u001b[35mwritemanager.py\u001b[0m \u001b[36mlineno\u001b[0m=\u001b[35m131\u001b[0m \u001b[36mprocess\u001b[0m=\u001b[35m68715\u001b[0m \u001b[36mroot\u001b[0m=\u001b[35mdune/daily_eth_price_volatility_v1\u001b[0m\n",
      "\u001b[2m2025-05-15 17:08:19\u001b[0m [\u001b[32m\u001b[1minfo     \u001b[0m] \u001b[1mdone writing 1rows 3.2KB      \u001b[0m \u001b[36mfilename\u001b[0m=\u001b[35mgcs_parquet.py\u001b[0m \u001b[36mlineno\u001b[0m=\u001b[35m57\u001b[0m \u001b[36mmaxrss\u001b[0m=\u001b[35m202752000\u001b[0m \u001b[36mpath\u001b[0m=\u001b[35m'oplabs-tools-data-sink/dune/daily_eth_price_volatility_v1/dt=2021-01-03/out.parquet'\u001b[0m \u001b[36mprocess\u001b[0m=\u001b[35m68715\u001b[0m \u001b[36mroot\u001b[0m=\u001b[35mdune/daily_eth_price_volatility_v1\u001b[0m \u001b[36mrows\u001b[0m=\u001b[35m1\u001b[0m \u001b[36msize\u001b[0m=\u001b[35m3154\u001b[0m\n",
      "\u001b[2m2025-05-15 17:08:19\u001b[0m [\u001b[32m\u001b[1minfo     \u001b[0m] \u001b[1mmemory usage                  \u001b[0m \u001b[36mfilename\u001b[0m=\u001b[35mgcs_parquet.py\u001b[0m \u001b[36mlineno\u001b[0m=\u001b[35m65\u001b[0m \u001b[36mmax_rss\u001b[0m=\u001b[35m202.75\u001b[0m \u001b[36mprocess\u001b[0m=\u001b[35m68715\u001b[0m \u001b[36mroot\u001b[0m=\u001b[35mdune/daily_eth_price_volatility_v1\u001b[0m\n",
      "\u001b[2m2025-05-15 17:08:19\u001b[0m [\u001b[32m\u001b[1mdebug    \u001b[0m] \u001b[1mdone writing dune/daily_eth_price_volatility_v1 to GCS\u001b[0m \u001b[36mfilename\u001b[0m=\u001b[35mwritemanager.py\u001b[0m \u001b[36mlineno\u001b[0m=\u001b[35m131\u001b[0m \u001b[36mprocess\u001b[0m=\u001b[35m68715\u001b[0m \u001b[36mroot\u001b[0m=\u001b[35mdune/daily_eth_price_volatility_v1\u001b[0m\n",
      "\u001b[2m2025-05-15 17:08:19\u001b[0m [\u001b[32m\u001b[1minfo     \u001b[0m] \u001b[1mdone writing 1rows 3.2KB      \u001b[0m \u001b[36mfilename\u001b[0m=\u001b[35mgcs_parquet.py\u001b[0m \u001b[36mlineno\u001b[0m=\u001b[35m57\u001b[0m \u001b[36mmaxrss\u001b[0m=\u001b[35m202752000\u001b[0m \u001b[36mpath\u001b[0m=\u001b[35m'oplabs-tools-data-sink/dune/daily_eth_price_volatility_v1/dt=2021-01-04/out.parquet'\u001b[0m \u001b[36mprocess\u001b[0m=\u001b[35m68715\u001b[0m \u001b[36mroot\u001b[0m=\u001b[35mdune/daily_eth_price_volatility_v1\u001b[0m \u001b[36mrows\u001b[0m=\u001b[35m1\u001b[0m \u001b[36msize\u001b[0m=\u001b[35m3154\u001b[0m\n",
      "\u001b[2m2025-05-15 17:08:19\u001b[0m [\u001b[32m\u001b[1minfo     \u001b[0m] \u001b[1mmemory usage                  \u001b[0m \u001b[36mfilename\u001b[0m=\u001b[35mgcs_parquet.py\u001b[0m \u001b[36mlineno\u001b[0m=\u001b[35m65\u001b[0m \u001b[36mmax_rss\u001b[0m=\u001b[35m202.75\u001b[0m \u001b[36mprocess\u001b[0m=\u001b[35m68715\u001b[0m \u001b[36mroot\u001b[0m=\u001b[35mdune/daily_eth_price_volatility_v1\u001b[0m\n",
      "\u001b[2m2025-05-15 17:08:20\u001b[0m [\u001b[32m\u001b[1mdebug    \u001b[0m] \u001b[1mdone writing dune/daily_eth_price_volatility_v1 to GCS\u001b[0m \u001b[36mfilename\u001b[0m=\u001b[35mwritemanager.py\u001b[0m \u001b[36mlineno\u001b[0m=\u001b[35m131\u001b[0m \u001b[36mprocess\u001b[0m=\u001b[35m68715\u001b[0m \u001b[36mroot\u001b[0m=\u001b[35mdune/daily_eth_price_volatility_v1\u001b[0m\n",
      "\u001b[2m2025-05-15 17:08:20\u001b[0m [\u001b[32m\u001b[1minfo     \u001b[0m] \u001b[1mdone writing 1rows 3.2KB      \u001b[0m \u001b[36mfilename\u001b[0m=\u001b[35mgcs_parquet.py\u001b[0m \u001b[36mlineno\u001b[0m=\u001b[35m57\u001b[0m \u001b[36mmaxrss\u001b[0m=\u001b[35m202752000\u001b[0m \u001b[36mpath\u001b[0m=\u001b[35m'oplabs-tools-data-sink/dune/daily_eth_price_volatility_v1/dt=2021-01-05/out.parquet'\u001b[0m \u001b[36mprocess\u001b[0m=\u001b[35m68715\u001b[0m \u001b[36mroot\u001b[0m=\u001b[35mdune/daily_eth_price_volatility_v1\u001b[0m \u001b[36mrows\u001b[0m=\u001b[35m1\u001b[0m \u001b[36msize\u001b[0m=\u001b[35m3154\u001b[0m\n",
      "\u001b[2m2025-05-15 17:08:20\u001b[0m [\u001b[32m\u001b[1minfo     \u001b[0m] \u001b[1mmemory usage                  \u001b[0m \u001b[36mfilename\u001b[0m=\u001b[35mgcs_parquet.py\u001b[0m \u001b[36mlineno\u001b[0m=\u001b[35m65\u001b[0m \u001b[36mmax_rss\u001b[0m=\u001b[35m202.75\u001b[0m \u001b[36mprocess\u001b[0m=\u001b[35m68715\u001b[0m \u001b[36mroot\u001b[0m=\u001b[35mdune/daily_eth_price_volatility_v1\u001b[0m\n",
      "\u001b[2m2025-05-15 17:08:20\u001b[0m [\u001b[32m\u001b[1mdebug    \u001b[0m] \u001b[1mdone writing dune/daily_eth_price_volatility_v1 to GCS\u001b[0m \u001b[36mfilename\u001b[0m=\u001b[35mwritemanager.py\u001b[0m \u001b[36mlineno\u001b[0m=\u001b[35m131\u001b[0m \u001b[36mprocess\u001b[0m=\u001b[35m68715\u001b[0m \u001b[36mroot\u001b[0m=\u001b[35mdune/daily_eth_price_volatility_v1\u001b[0m\n",
      "\u001b[2m2025-05-15 17:08:20\u001b[0m [\u001b[32m\u001b[1minfo     \u001b[0m] \u001b[1mdone writing 1rows 3.2KB      \u001b[0m \u001b[36mfilename\u001b[0m=\u001b[35mgcs_parquet.py\u001b[0m \u001b[36mlineno\u001b[0m=\u001b[35m57\u001b[0m \u001b[36mmaxrss\u001b[0m=\u001b[35m202752000\u001b[0m \u001b[36mpath\u001b[0m=\u001b[35m'oplabs-tools-data-sink/dune/daily_eth_price_volatility_v1/dt=2021-01-06/out.parquet'\u001b[0m \u001b[36mprocess\u001b[0m=\u001b[35m68715\u001b[0m \u001b[36mroot\u001b[0m=\u001b[35mdune/daily_eth_price_volatility_v1\u001b[0m \u001b[36mrows\u001b[0m=\u001b[35m1\u001b[0m \u001b[36msize\u001b[0m=\u001b[35m3154\u001b[0m\n",
      "\u001b[2m2025-05-15 17:08:20\u001b[0m [\u001b[32m\u001b[1minfo     \u001b[0m] \u001b[1mmemory usage                  \u001b[0m \u001b[36mfilename\u001b[0m=\u001b[35mgcs_parquet.py\u001b[0m \u001b[36mlineno\u001b[0m=\u001b[35m65\u001b[0m \u001b[36mmax_rss\u001b[0m=\u001b[35m202.75\u001b[0m \u001b[36mprocess\u001b[0m=\u001b[35m68715\u001b[0m \u001b[36mroot\u001b[0m=\u001b[35mdune/daily_eth_price_volatility_v1\u001b[0m\n",
      "\u001b[2m2025-05-15 17:08:21\u001b[0m [\u001b[32m\u001b[1mdebug    \u001b[0m] \u001b[1mdone writing dune/daily_eth_price_volatility_v1 to GCS\u001b[0m \u001b[36mfilename\u001b[0m=\u001b[35mwritemanager.py\u001b[0m \u001b[36mlineno\u001b[0m=\u001b[35m131\u001b[0m \u001b[36mprocess\u001b[0m=\u001b[35m68715\u001b[0m \u001b[36mroot\u001b[0m=\u001b[35mdune/daily_eth_price_volatility_v1\u001b[0m\n",
      "\u001b[2m2025-05-15 17:08:21\u001b[0m [\u001b[32m\u001b[1minfo     \u001b[0m] \u001b[1mdone writing 1rows 3.2KB      \u001b[0m \u001b[36mfilename\u001b[0m=\u001b[35mgcs_parquet.py\u001b[0m \u001b[36mlineno\u001b[0m=\u001b[35m57\u001b[0m \u001b[36mmaxrss\u001b[0m=\u001b[35m202752000\u001b[0m \u001b[36mpath\u001b[0m=\u001b[35m'oplabs-tools-data-sink/dune/daily_eth_price_volatility_v1/dt=2021-01-07/out.parquet'\u001b[0m \u001b[36mprocess\u001b[0m=\u001b[35m68715\u001b[0m \u001b[36mroot\u001b[0m=\u001b[35mdune/daily_eth_price_volatility_v1\u001b[0m \u001b[36mrows\u001b[0m=\u001b[35m1\u001b[0m \u001b[36msize\u001b[0m=\u001b[35m3154\u001b[0m\n",
      "\u001b[2m2025-05-15 17:08:21\u001b[0m [\u001b[32m\u001b[1minfo     \u001b[0m] \u001b[1mmemory usage                  \u001b[0m \u001b[36mfilename\u001b[0m=\u001b[35mgcs_parquet.py\u001b[0m \u001b[36mlineno\u001b[0m=\u001b[35m65\u001b[0m \u001b[36mmax_rss\u001b[0m=\u001b[35m202.75\u001b[0m \u001b[36mprocess\u001b[0m=\u001b[35m68715\u001b[0m \u001b[36mroot\u001b[0m=\u001b[35mdune/daily_eth_price_volatility_v1\u001b[0m\n",
      "\u001b[2m2025-05-15 17:08:21\u001b[0m [\u001b[32m\u001b[1mdebug    \u001b[0m] \u001b[1mdone writing dune/daily_eth_price_volatility_v1 to GCS\u001b[0m \u001b[36mfilename\u001b[0m=\u001b[35mwritemanager.py\u001b[0m \u001b[36mlineno\u001b[0m=\u001b[35m131\u001b[0m \u001b[36mprocess\u001b[0m=\u001b[35m68715\u001b[0m \u001b[36mroot\u001b[0m=\u001b[35mdune/daily_eth_price_volatility_v1\u001b[0m\n",
      "\u001b[2m2025-05-15 17:08:21\u001b[0m [\u001b[32m\u001b[1minfo     \u001b[0m] \u001b[1mdone writing 1rows 3.2KB      \u001b[0m \u001b[36mfilename\u001b[0m=\u001b[35mgcs_parquet.py\u001b[0m \u001b[36mlineno\u001b[0m=\u001b[35m57\u001b[0m \u001b[36mmaxrss\u001b[0m=\u001b[35m202752000\u001b[0m \u001b[36mpath\u001b[0m=\u001b[35m'oplabs-tools-data-sink/dune/daily_eth_price_volatility_v1/dt=2021-01-08/out.parquet'\u001b[0m \u001b[36mprocess\u001b[0m=\u001b[35m68715\u001b[0m \u001b[36mroot\u001b[0m=\u001b[35mdune/daily_eth_price_volatility_v1\u001b[0m \u001b[36mrows\u001b[0m=\u001b[35m1\u001b[0m \u001b[36msize\u001b[0m=\u001b[35m3154\u001b[0m\n",
      "\u001b[2m2025-05-15 17:08:21\u001b[0m [\u001b[32m\u001b[1minfo     \u001b[0m] \u001b[1mmemory usage                  \u001b[0m \u001b[36mfilename\u001b[0m=\u001b[35mgcs_parquet.py\u001b[0m \u001b[36mlineno\u001b[0m=\u001b[35m65\u001b[0m \u001b[36mmax_rss\u001b[0m=\u001b[35m202.75\u001b[0m \u001b[36mprocess\u001b[0m=\u001b[35m68715\u001b[0m \u001b[36mroot\u001b[0m=\u001b[35mdune/daily_eth_price_volatility_v1\u001b[0m\n",
      "\u001b[2m2025-05-15 17:08:22\u001b[0m [\u001b[32m\u001b[1mdebug    \u001b[0m] \u001b[1mdone writing dune/daily_eth_price_volatility_v1 to GCS\u001b[0m \u001b[36mfilename\u001b[0m=\u001b[35mwritemanager.py\u001b[0m \u001b[36mlineno\u001b[0m=\u001b[35m131\u001b[0m \u001b[36mprocess\u001b[0m=\u001b[35m68715\u001b[0m \u001b[36mroot\u001b[0m=\u001b[35mdune/daily_eth_price_volatility_v1\u001b[0m\n",
      "\u001b[2m2025-05-15 17:08:22\u001b[0m [\u001b[32m\u001b[1minfo     \u001b[0m] \u001b[1mdone writing 1rows 3.2KB      \u001b[0m \u001b[36mfilename\u001b[0m=\u001b[35mgcs_parquet.py\u001b[0m \u001b[36mlineno\u001b[0m=\u001b[35m57\u001b[0m \u001b[36mmaxrss\u001b[0m=\u001b[35m202752000\u001b[0m \u001b[36mpath\u001b[0m=\u001b[35m'oplabs-tools-data-sink/dune/daily_eth_price_volatility_v1/dt=2021-01-09/out.parquet'\u001b[0m \u001b[36mprocess\u001b[0m=\u001b[35m68715\u001b[0m \u001b[36mroot\u001b[0m=\u001b[35mdune/daily_eth_price_volatility_v1\u001b[0m \u001b[36mrows\u001b[0m=\u001b[35m1\u001b[0m \u001b[36msize\u001b[0m=\u001b[35m3154\u001b[0m\n",
      "\u001b[2m2025-05-15 17:08:22\u001b[0m [\u001b[32m\u001b[1minfo     \u001b[0m] \u001b[1mmemory usage                  \u001b[0m \u001b[36mfilename\u001b[0m=\u001b[35mgcs_parquet.py\u001b[0m \u001b[36mlineno\u001b[0m=\u001b[35m65\u001b[0m \u001b[36mmax_rss\u001b[0m=\u001b[35m202.75\u001b[0m \u001b[36mprocess\u001b[0m=\u001b[35m68715\u001b[0m \u001b[36mroot\u001b[0m=\u001b[35mdune/daily_eth_price_volatility_v1\u001b[0m\n",
      "\u001b[2m2025-05-15 17:08:22\u001b[0m [\u001b[32m\u001b[1mdebug    \u001b[0m] \u001b[1mdone writing dune/daily_eth_price_volatility_v1 to GCS\u001b[0m \u001b[36mfilename\u001b[0m=\u001b[35mwritemanager.py\u001b[0m \u001b[36mlineno\u001b[0m=\u001b[35m131\u001b[0m \u001b[36mprocess\u001b[0m=\u001b[35m68715\u001b[0m \u001b[36mroot\u001b[0m=\u001b[35mdune/daily_eth_price_volatility_v1\u001b[0m\n",
      "\u001b[2m2025-05-15 17:08:22\u001b[0m [\u001b[32m\u001b[1minfo     \u001b[0m] \u001b[1mdone writing 1rows 3.2KB      \u001b[0m \u001b[36mfilename\u001b[0m=\u001b[35mgcs_parquet.py\u001b[0m \u001b[36mlineno\u001b[0m=\u001b[35m57\u001b[0m \u001b[36mmaxrss\u001b[0m=\u001b[35m202752000\u001b[0m \u001b[36mpath\u001b[0m=\u001b[35m'oplabs-tools-data-sink/dune/daily_eth_price_volatility_v1/dt=2021-01-10/out.parquet'\u001b[0m \u001b[36mprocess\u001b[0m=\u001b[35m68715\u001b[0m \u001b[36mroot\u001b[0m=\u001b[35mdune/daily_eth_price_volatility_v1\u001b[0m \u001b[36mrows\u001b[0m=\u001b[35m1\u001b[0m \u001b[36msize\u001b[0m=\u001b[35m3154\u001b[0m\n",
      "\u001b[2m2025-05-15 17:08:22\u001b[0m [\u001b[32m\u001b[1minfo     \u001b[0m] \u001b[1mmemory usage                  \u001b[0m \u001b[36mfilename\u001b[0m=\u001b[35mgcs_parquet.py\u001b[0m \u001b[36mlineno\u001b[0m=\u001b[35m65\u001b[0m \u001b[36mmax_rss\u001b[0m=\u001b[35m202.75\u001b[0m \u001b[36mprocess\u001b[0m=\u001b[35m68715\u001b[0m \u001b[36mroot\u001b[0m=\u001b[35mdune/daily_eth_price_volatility_v1\u001b[0m\n",
      "\u001b[2m2025-05-15 17:08:23\u001b[0m [\u001b[32m\u001b[1mdebug    \u001b[0m] \u001b[1mdone writing dune/daily_eth_price_volatility_v1 to GCS\u001b[0m \u001b[36mfilename\u001b[0m=\u001b[35mwritemanager.py\u001b[0m \u001b[36mlineno\u001b[0m=\u001b[35m131\u001b[0m \u001b[36mprocess\u001b[0m=\u001b[35m68715\u001b[0m \u001b[36mroot\u001b[0m=\u001b[35mdune/daily_eth_price_volatility_v1\u001b[0m\n",
      "\u001b[2m2025-05-15 17:08:23\u001b[0m [\u001b[32m\u001b[1minfo     \u001b[0m] \u001b[1mdone writing 1rows 3.2KB      \u001b[0m \u001b[36mfilename\u001b[0m=\u001b[35mgcs_parquet.py\u001b[0m \u001b[36mlineno\u001b[0m=\u001b[35m57\u001b[0m \u001b[36mmaxrss\u001b[0m=\u001b[35m202752000\u001b[0m \u001b[36mpath\u001b[0m=\u001b[35m'oplabs-tools-data-sink/dune/daily_eth_price_volatility_v1/dt=2021-01-11/out.parquet'\u001b[0m \u001b[36mprocess\u001b[0m=\u001b[35m68715\u001b[0m \u001b[36mroot\u001b[0m=\u001b[35mdune/daily_eth_price_volatility_v1\u001b[0m \u001b[36mrows\u001b[0m=\u001b[35m1\u001b[0m \u001b[36msize\u001b[0m=\u001b[35m3154\u001b[0m\n",
      "\u001b[2m2025-05-15 17:08:23\u001b[0m [\u001b[32m\u001b[1minfo     \u001b[0m] \u001b[1mmemory usage                  \u001b[0m \u001b[36mfilename\u001b[0m=\u001b[35mgcs_parquet.py\u001b[0m \u001b[36mlineno\u001b[0m=\u001b[35m65\u001b[0m \u001b[36mmax_rss\u001b[0m=\u001b[35m202.75\u001b[0m \u001b[36mprocess\u001b[0m=\u001b[35m68715\u001b[0m \u001b[36mroot\u001b[0m=\u001b[35mdune/daily_eth_price_volatility_v1\u001b[0m\n",
      "\u001b[2m2025-05-15 17:08:24\u001b[0m [\u001b[32m\u001b[1mdebug    \u001b[0m] \u001b[1mdone writing dune/daily_eth_price_volatility_v1 to GCS\u001b[0m \u001b[36mfilename\u001b[0m=\u001b[35mwritemanager.py\u001b[0m \u001b[36mlineno\u001b[0m=\u001b[35m131\u001b[0m \u001b[36mprocess\u001b[0m=\u001b[35m68715\u001b[0m \u001b[36mroot\u001b[0m=\u001b[35mdune/daily_eth_price_volatility_v1\u001b[0m\n",
      "\u001b[2m2025-05-15 17:08:24\u001b[0m [\u001b[32m\u001b[1minfo     \u001b[0m] \u001b[1mdone writing 1rows 3.2KB      \u001b[0m \u001b[36mfilename\u001b[0m=\u001b[35mgcs_parquet.py\u001b[0m \u001b[36mlineno\u001b[0m=\u001b[35m57\u001b[0m \u001b[36mmaxrss\u001b[0m=\u001b[35m202752000\u001b[0m \u001b[36mpath\u001b[0m=\u001b[35m'oplabs-tools-data-sink/dune/daily_eth_price_volatility_v1/dt=2021-01-12/out.parquet'\u001b[0m \u001b[36mprocess\u001b[0m=\u001b[35m68715\u001b[0m \u001b[36mroot\u001b[0m=\u001b[35mdune/daily_eth_price_volatility_v1\u001b[0m \u001b[36mrows\u001b[0m=\u001b[35m1\u001b[0m \u001b[36msize\u001b[0m=\u001b[35m3154\u001b[0m\n",
      "\u001b[2m2025-05-15 17:08:24\u001b[0m [\u001b[32m\u001b[1minfo     \u001b[0m] \u001b[1mmemory usage                  \u001b[0m \u001b[36mfilename\u001b[0m=\u001b[35mgcs_parquet.py\u001b[0m \u001b[36mlineno\u001b[0m=\u001b[35m65\u001b[0m \u001b[36mmax_rss\u001b[0m=\u001b[35m202.75\u001b[0m \u001b[36mprocess\u001b[0m=\u001b[35m68715\u001b[0m \u001b[36mroot\u001b[0m=\u001b[35mdune/daily_eth_price_volatility_v1\u001b[0m\n",
      "\u001b[2m2025-05-15 17:08:24\u001b[0m [\u001b[32m\u001b[1mdebug    \u001b[0m] \u001b[1mdone writing dune/daily_eth_price_volatility_v1 to GCS\u001b[0m \u001b[36mfilename\u001b[0m=\u001b[35mwritemanager.py\u001b[0m \u001b[36mlineno\u001b[0m=\u001b[35m131\u001b[0m \u001b[36mprocess\u001b[0m=\u001b[35m68715\u001b[0m \u001b[36mroot\u001b[0m=\u001b[35mdune/daily_eth_price_volatility_v1\u001b[0m\n",
      "\u001b[2m2025-05-15 17:08:24\u001b[0m [\u001b[32m\u001b[1minfo     \u001b[0m] \u001b[1mdone writing 1rows 3.2KB      \u001b[0m \u001b[36mfilename\u001b[0m=\u001b[35mgcs_parquet.py\u001b[0m \u001b[36mlineno\u001b[0m=\u001b[35m57\u001b[0m \u001b[36mmaxrss\u001b[0m=\u001b[35m202752000\u001b[0m \u001b[36mpath\u001b[0m=\u001b[35m'oplabs-tools-data-sink/dune/daily_eth_price_volatility_v1/dt=2021-01-13/out.parquet'\u001b[0m \u001b[36mprocess\u001b[0m=\u001b[35m68715\u001b[0m \u001b[36mroot\u001b[0m=\u001b[35mdune/daily_eth_price_volatility_v1\u001b[0m \u001b[36mrows\u001b[0m=\u001b[35m1\u001b[0m \u001b[36msize\u001b[0m=\u001b[35m3154\u001b[0m\n",
      "\u001b[2m2025-05-15 17:08:24\u001b[0m [\u001b[32m\u001b[1minfo     \u001b[0m] \u001b[1mmemory usage                  \u001b[0m \u001b[36mfilename\u001b[0m=\u001b[35mgcs_parquet.py\u001b[0m \u001b[36mlineno\u001b[0m=\u001b[35m65\u001b[0m \u001b[36mmax_rss\u001b[0m=\u001b[35m202.75\u001b[0m \u001b[36mprocess\u001b[0m=\u001b[35m68715\u001b[0m \u001b[36mroot\u001b[0m=\u001b[35mdune/daily_eth_price_volatility_v1\u001b[0m\n",
      "\u001b[2m2025-05-15 17:08:25\u001b[0m [\u001b[32m\u001b[1mdebug    \u001b[0m] \u001b[1mdone writing dune/daily_eth_price_volatility_v1 to GCS\u001b[0m \u001b[36mfilename\u001b[0m=\u001b[35mwritemanager.py\u001b[0m \u001b[36mlineno\u001b[0m=\u001b[35m131\u001b[0m \u001b[36mprocess\u001b[0m=\u001b[35m68715\u001b[0m \u001b[36mroot\u001b[0m=\u001b[35mdune/daily_eth_price_volatility_v1\u001b[0m\n",
      "\u001b[2m2025-05-15 17:08:25\u001b[0m [\u001b[32m\u001b[1minfo     \u001b[0m] \u001b[1mdone writing 1rows 3.2KB      \u001b[0m \u001b[36mfilename\u001b[0m=\u001b[35mgcs_parquet.py\u001b[0m \u001b[36mlineno\u001b[0m=\u001b[35m57\u001b[0m \u001b[36mmaxrss\u001b[0m=\u001b[35m202752000\u001b[0m \u001b[36mpath\u001b[0m=\u001b[35m'oplabs-tools-data-sink/dune/daily_eth_price_volatility_v1/dt=2021-01-14/out.parquet'\u001b[0m \u001b[36mprocess\u001b[0m=\u001b[35m68715\u001b[0m \u001b[36mroot\u001b[0m=\u001b[35mdune/daily_eth_price_volatility_v1\u001b[0m \u001b[36mrows\u001b[0m=\u001b[35m1\u001b[0m \u001b[36msize\u001b[0m=\u001b[35m3154\u001b[0m\n",
      "\u001b[2m2025-05-15 17:08:25\u001b[0m [\u001b[32m\u001b[1minfo     \u001b[0m] \u001b[1mmemory usage                  \u001b[0m \u001b[36mfilename\u001b[0m=\u001b[35mgcs_parquet.py\u001b[0m \u001b[36mlineno\u001b[0m=\u001b[35m65\u001b[0m \u001b[36mmax_rss\u001b[0m=\u001b[35m202.75\u001b[0m \u001b[36mprocess\u001b[0m=\u001b[35m68715\u001b[0m \u001b[36mroot\u001b[0m=\u001b[35mdune/daily_eth_price_volatility_v1\u001b[0m\n",
      "\u001b[2m2025-05-15 17:08:25\u001b[0m [\u001b[32m\u001b[1mdebug    \u001b[0m] \u001b[1mdone writing dune/daily_eth_price_volatility_v1 to GCS\u001b[0m \u001b[36mfilename\u001b[0m=\u001b[35mwritemanager.py\u001b[0m \u001b[36mlineno\u001b[0m=\u001b[35m131\u001b[0m \u001b[36mprocess\u001b[0m=\u001b[35m68715\u001b[0m \u001b[36mroot\u001b[0m=\u001b[35mdune/daily_eth_price_volatility_v1\u001b[0m\n",
      "\u001b[2m2025-05-15 17:08:25\u001b[0m [\u001b[32m\u001b[1minfo     \u001b[0m] \u001b[1mdone writing 1rows 3.2KB      \u001b[0m \u001b[36mfilename\u001b[0m=\u001b[35mgcs_parquet.py\u001b[0m \u001b[36mlineno\u001b[0m=\u001b[35m57\u001b[0m \u001b[36mmaxrss\u001b[0m=\u001b[35m202752000\u001b[0m \u001b[36mpath\u001b[0m=\u001b[35m'oplabs-tools-data-sink/dune/daily_eth_price_volatility_v1/dt=2021-01-15/out.parquet'\u001b[0m \u001b[36mprocess\u001b[0m=\u001b[35m68715\u001b[0m \u001b[36mroot\u001b[0m=\u001b[35mdune/daily_eth_price_volatility_v1\u001b[0m \u001b[36mrows\u001b[0m=\u001b[35m1\u001b[0m \u001b[36msize\u001b[0m=\u001b[35m3154\u001b[0m\n",
      "\u001b[2m2025-05-15 17:08:25\u001b[0m [\u001b[32m\u001b[1minfo     \u001b[0m] \u001b[1mmemory usage                  \u001b[0m \u001b[36mfilename\u001b[0m=\u001b[35mgcs_parquet.py\u001b[0m \u001b[36mlineno\u001b[0m=\u001b[35m65\u001b[0m \u001b[36mmax_rss\u001b[0m=\u001b[35m202.75\u001b[0m \u001b[36mprocess\u001b[0m=\u001b[35m68715\u001b[0m \u001b[36mroot\u001b[0m=\u001b[35mdune/daily_eth_price_volatility_v1\u001b[0m\n",
      "\u001b[2m2025-05-15 17:08:26\u001b[0m [\u001b[32m\u001b[1mdebug    \u001b[0m] \u001b[1mdone writing dune/daily_eth_price_volatility_v1 to GCS\u001b[0m \u001b[36mfilename\u001b[0m=\u001b[35mwritemanager.py\u001b[0m \u001b[36mlineno\u001b[0m=\u001b[35m131\u001b[0m \u001b[36mprocess\u001b[0m=\u001b[35m68715\u001b[0m \u001b[36mroot\u001b[0m=\u001b[35mdune/daily_eth_price_volatility_v1\u001b[0m\n"
     ]
    }
   ],
   "source": [
    "# Backfill the results\n",
    "\n",
    "from op_analytics.coreutils.partitioned.dailydatawrite import write_to_prod\n",
    "from op_analytics.datasources.dune.eth_price_vol import execute_pull\n",
    "\n",
    "\n",
    "backfill = [\n",
    "    (\"2021-01-01\", \"2021-01-15\"),\n",
    "    # (\"2024-11-01\", \"2024-12-01\"),\n",
    "    # (\"2024-12-01\", \"2025-01-01\"),\n",
    "]\n",
    "\n",
    "with write_to_prod():\n",
    "    for d0, d1 in backfill:\n",
    "        execute_pull(min_dt=d0, max_dt=d1)\n",
    "    "
   ]
  },
  {
   "cell_type": "code",
   "execution_count": 2,
   "metadata": {},
   "outputs": [
    {
     "name": "stdout",
     "output_type": "stream",
     "text": [
      "initiating new execution of query_id = 5139749\n",
      "waiting for results, execution_id = 01JVAWEZ0PSYS9B649NSA75JYH, t = 0.00\n",
      "waiting for results, execution_id = 01JVAWEZ0PSYS9B649NSA75JYH, t = 1.00\n",
      "waiting for results, execution_id = 01JVAWEZ0PSYS9B649NSA75JYH, t = 2.01\n",
      "waiting for results, execution_id = 01JVAWEZ0PSYS9B649NSA75JYH, t = 3.01\n",
      "waiting for results, execution_id = 01JVAWEZ0PSYS9B649NSA75JYH, t = 4.02\n",
      "waiting for results, execution_id = 01JVAWEZ0PSYS9B649NSA75JYH, t = 5.02\n",
      "waiting for results, execution_id = 01JVAWEZ0PSYS9B649NSA75JYH, t = 6.03\n",
      "getting results, execution_id = 01JVAWEZ0PSYS9B649NSA75JYH\n",
      "shape: (7, 10)\n",
      "┌────────┬─────────────┬────────────┬─────────┬───┬─────────┬────────────┬────────────┬────────────┐\n",
      "│ symbol ┆ realized_vo ┆ hl_abs_cha ┆ high    ┆ … ┆ close   ┆ avg        ┆ med        ┆ dt         │\n",
      "│ ---    ┆ latility    ┆ nge        ┆ ---     ┆   ┆ ---     ┆ ---        ┆ ---        ┆ ---        │\n",
      "│ str    ┆ ---         ┆ ---        ┆ f64     ┆   ┆ f64     ┆ f64        ┆ f64        ┆ str        │\n",
      "│        ┆ f64         ┆ f64        ┆         ┆   ┆         ┆            ┆            ┆            │\n",
      "╞════════╪═════════════╪════════════╪═════════╪═══╪═════════╪════════════╪════════════╪════════════╡\n",
      "│ ETH    ┆ 0.037256    ┆ 0.062151   ┆ 2716.27 ┆ … ┆ 2609.28 ┆ 2623.03531 ┆ 2610.74440 ┆ 2025-05-14 │\n",
      "│        ┆             ┆            ┆         ┆   ┆         ┆ 2          ┆ 2          ┆            │\n",
      "│ ETH    ┆ 0.037818    ┆ 0.123766   ┆ 2726.93 ┆ … ┆ 2677.66 ┆ 2537.61454 ┆ 2505.62149 ┆ 2025-05-13 │\n",
      "│        ┆             ┆            ┆         ┆   ┆         ┆ 9          ┆ 8          ┆            │\n",
      "│ ETH    ┆ 0.046969    ┆ 0.079075   ┆ 2611.34 ┆ … ┆ 2491.97 ┆ 2514.56906 ┆ 2513.63089 ┆ 2025-05-12 │\n",
      "│        ┆             ┆            ┆         ┆   ┆         ┆ 2          ┆ 8          ┆            │\n",
      "│ ETH    ┆ 0.041832    ┆ 0.056928   ┆ 2585.88 ┆ … ┆ 2509.87 ┆ 2512.14246 ┆ 2510.13195 ┆ 2025-05-11 │\n",
      "│        ┆             ┆            ┆         ┆   ┆         ┆ 5          ┆ 6          ┆            │\n",
      "│ ETH    ┆ 0.044311    ┆ 0.111694   ┆ 2587.58 ┆ … ┆ 2583.25 ┆ 2419.70972 ┆ 2411.09369 ┆ 2025-05-10 │\n",
      "│        ┆             ┆            ┆         ┆   ┆         ┆ 2          ┆ 7          ┆            │\n",
      "│ ETH    ┆ 0.075218    ┆ 0.122866   ┆ 2457.56 ┆ … ┆ 2340.62 ┆ 2300.72520 ┆ 2329.76218 ┆ 2025-05-09 │\n",
      "│        ┆             ┆            ┆         ┆   ┆         ┆ 8          ┆ 2          ┆            │\n",
      "│ ETH    ┆ 0.048213    ┆ 0.223719   ┆ 2216.13 ┆ … ┆ 2195.04 ┆ 1982.84402 ┆ 1957.58282 ┆ 2025-05-08 │\n",
      "│        ┆             ┆            ┆         ┆   ┆         ┆ 8          ┆ 9          ┆            │\n",
      "└────────┴─────────────┴────────────┴─────────┴───┴─────────┴────────────┴────────────┴────────────┘\n"
     ]
    }
   ],
   "source": [
    "# Test that we can fetch the data.\n",
    "\n",
    "from op_analytics.datasources.dune.eth_price_vol import DuneETHPriceVOlSummary\n",
    "\n",
    "result = DuneETHPriceVOlSummary.fetch()"
   ]
  },
  {
   "cell_type": "code",
   "execution_count": 3,
   "metadata": {},
   "outputs": [
    {
     "data": {
      "text/html": [
       "<div><style>\n",
       ".dataframe > thead > tr,\n",
       ".dataframe > tbody > tr {\n",
       "  text-align: right;\n",
       "  white-space: pre-wrap;\n",
       "}\n",
       "</style>\n",
       "<small>shape: (7, 10)</small><table border=\"1\" class=\"dataframe\"><thead><tr><th>symbol</th><th>realized_volatility</th><th>hl_abs_change</th><th>high</th><th>low</th><th>open</th><th>close</th><th>avg</th><th>med</th><th>dt</th></tr><tr><td>str</td><td>f64</td><td>f64</td><td>f64</td><td>f64</td><td>f64</td><td>f64</td><td>f64</td><td>f64</td><td>str</td></tr></thead><tbody><tr><td>&quot;ETH&quot;</td><td>0.037256</td><td>0.062151</td><td>2716.27</td><td>2557.33</td><td>2678.51</td><td>2609.28</td><td>2623.035312</td><td>2610.744402</td><td>&quot;2025-05-14&quot;</td></tr><tr><td>&quot;ETH&quot;</td><td>0.037818</td><td>0.123766</td><td>2726.93</td><td>2426.6</td><td>2495.51</td><td>2677.66</td><td>2537.614549</td><td>2505.621498</td><td>&quot;2025-05-13&quot;</td></tr><tr><td>&quot;ETH&quot;</td><td>0.046969</td><td>0.079075</td><td>2611.34</td><td>2419.98</td><td>2512.37</td><td>2491.97</td><td>2514.569062</td><td>2513.630898</td><td>&quot;2025-05-12&quot;</td></tr><tr><td>&quot;ETH&quot;</td><td>0.041832</td><td>0.056928</td><td>2585.88</td><td>2446.6</td><td>2580.79</td><td>2509.87</td><td>2512.142465</td><td>2510.131956</td><td>&quot;2025-05-11&quot;</td></tr><tr><td>&quot;ETH&quot;</td><td>0.044311</td><td>0.111694</td><td>2587.58</td><td>2327.6</td><td>2344.6</td><td>2583.25</td><td>2419.709722</td><td>2411.093697</td><td>&quot;2025-05-10&quot;</td></tr><tr><td>&quot;ETH&quot;</td><td>0.075218</td><td>0.122866</td><td>2457.56</td><td>2188.65</td><td>2205.09</td><td>2340.62</td><td>2300.725208</td><td>2329.762182</td><td>&quot;2025-05-09&quot;</td></tr><tr><td>&quot;ETH&quot;</td><td>0.048213</td><td>0.223719</td><td>2216.13</td><td>1810.98</td><td>1812.25</td><td>2195.04</td><td>1982.844028</td><td>1957.582829</td><td>&quot;2025-05-08&quot;</td></tr></tbody></table></div>"
      ],
      "text/plain": [
       "shape: (7, 10)\n",
       "┌────────┬─────────────┬────────────┬─────────┬───┬─────────┬────────────┬────────────┬────────────┐\n",
       "│ symbol ┆ realized_vo ┆ hl_abs_cha ┆ high    ┆ … ┆ close   ┆ avg        ┆ med        ┆ dt         │\n",
       "│ ---    ┆ latility    ┆ nge        ┆ ---     ┆   ┆ ---     ┆ ---        ┆ ---        ┆ ---        │\n",
       "│ str    ┆ ---         ┆ ---        ┆ f64     ┆   ┆ f64     ┆ f64        ┆ f64        ┆ str        │\n",
       "│        ┆ f64         ┆ f64        ┆         ┆   ┆         ┆            ┆            ┆            │\n",
       "╞════════╪═════════════╪════════════╪═════════╪═══╪═════════╪════════════╪════════════╪════════════╡\n",
       "│ ETH    ┆ 0.037256    ┆ 0.062151   ┆ 2716.27 ┆ … ┆ 2609.28 ┆ 2623.03531 ┆ 2610.74440 ┆ 2025-05-14 │\n",
       "│        ┆             ┆            ┆         ┆   ┆         ┆ 2          ┆ 2          ┆            │\n",
       "│ ETH    ┆ 0.037818    ┆ 0.123766   ┆ 2726.93 ┆ … ┆ 2677.66 ┆ 2537.61454 ┆ 2505.62149 ┆ 2025-05-13 │\n",
       "│        ┆             ┆            ┆         ┆   ┆         ┆ 9          ┆ 8          ┆            │\n",
       "│ ETH    ┆ 0.046969    ┆ 0.079075   ┆ 2611.34 ┆ … ┆ 2491.97 ┆ 2514.56906 ┆ 2513.63089 ┆ 2025-05-12 │\n",
       "│        ┆             ┆            ┆         ┆   ┆         ┆ 2          ┆ 8          ┆            │\n",
       "│ ETH    ┆ 0.041832    ┆ 0.056928   ┆ 2585.88 ┆ … ┆ 2509.87 ┆ 2512.14246 ┆ 2510.13195 ┆ 2025-05-11 │\n",
       "│        ┆             ┆            ┆         ┆   ┆         ┆ 5          ┆ 6          ┆            │\n",
       "│ ETH    ┆ 0.044311    ┆ 0.111694   ┆ 2587.58 ┆ … ┆ 2583.25 ┆ 2419.70972 ┆ 2411.09369 ┆ 2025-05-10 │\n",
       "│        ┆             ┆            ┆         ┆   ┆         ┆ 2          ┆ 7          ┆            │\n",
       "│ ETH    ┆ 0.075218    ┆ 0.122866   ┆ 2457.56 ┆ … ┆ 2340.62 ┆ 2300.72520 ┆ 2329.76218 ┆ 2025-05-09 │\n",
       "│        ┆             ┆            ┆         ┆   ┆         ┆ 8          ┆ 2          ┆            │\n",
       "│ ETH    ┆ 0.048213    ┆ 0.223719   ┆ 2216.13 ┆ … ┆ 2195.04 ┆ 1982.84402 ┆ 1957.58282 ┆ 2025-05-08 │\n",
       "│        ┆             ┆            ┆         ┆   ┆         ┆ 8          ┆ 9          ┆            │\n",
       "└────────┴─────────────┴────────────┴─────────┴───┴─────────┴────────────┴────────────┴────────────┘"
      ]
     },
     "execution_count": 3,
     "metadata": {},
     "output_type": "execute_result"
    }
   ],
   "source": [
    "result.df"
   ]
  },
  {
   "cell_type": "code",
   "execution_count": 4,
   "metadata": {},
   "outputs": [
    {
     "name": "stdout",
     "output_type": "stream",
     "text": [
      "\u001b[2m2025-05-15 17:09:22\u001b[0m [\u001b[32m\u001b[1minfo     \u001b[0m] \u001b[1mdone writing 1rows 3.2KB      \u001b[0m \u001b[36mfilename\u001b[0m=\u001b[35mgcs_parquet.py\u001b[0m \u001b[36mlineno\u001b[0m=\u001b[35m57\u001b[0m \u001b[36mmaxrss\u001b[0m=\u001b[35m202752000\u001b[0m \u001b[36mpath\u001b[0m=\u001b[35m'/Users/michaelsilberling/Documents/GitHub/op-analytics/ozone/warehouse/dune/daily_eth_price_volatility_v1/dt=2025-05-08/out.parquet'\u001b[0m \u001b[36mprocess\u001b[0m=\u001b[35m68715\u001b[0m \u001b[36mroot\u001b[0m=\u001b[35mdune/daily_eth_price_volatility_v1\u001b[0m \u001b[36mrows\u001b[0m=\u001b[35m1\u001b[0m \u001b[36msize\u001b[0m=\u001b[35m3154\u001b[0m\n",
      "\u001b[2m2025-05-15 17:09:22\u001b[0m [\u001b[32m\u001b[1minfo     \u001b[0m] \u001b[1mmemory usage                  \u001b[0m \u001b[36mfilename\u001b[0m=\u001b[35mgcs_parquet.py\u001b[0m \u001b[36mlineno\u001b[0m=\u001b[35m65\u001b[0m \u001b[36mmax_rss\u001b[0m=\u001b[35m202.75\u001b[0m \u001b[36mprocess\u001b[0m=\u001b[35m68715\u001b[0m \u001b[36mroot\u001b[0m=\u001b[35mdune/daily_eth_price_volatility_v1\u001b[0m\n",
      "\u001b[2m2025-05-15 17:09:24\u001b[0m [\u001b[32m\u001b[1mdebug    \u001b[0m] \u001b[1mdone writing dune/daily_eth_price_volatility_v1 to LOCAL\u001b[0m \u001b[36mfilename\u001b[0m=\u001b[35mwritemanager.py\u001b[0m \u001b[36mlineno\u001b[0m=\u001b[35m131\u001b[0m \u001b[36mprocess\u001b[0m=\u001b[35m68715\u001b[0m \u001b[36mroot\u001b[0m=\u001b[35mdune/daily_eth_price_volatility_v1\u001b[0m\n",
      "\u001b[2m2025-05-15 17:09:24\u001b[0m [\u001b[32m\u001b[1minfo     \u001b[0m] \u001b[1mdone writing 1rows 3.2KB      \u001b[0m \u001b[36mfilename\u001b[0m=\u001b[35mgcs_parquet.py\u001b[0m \u001b[36mlineno\u001b[0m=\u001b[35m57\u001b[0m \u001b[36mmaxrss\u001b[0m=\u001b[35m202752000\u001b[0m \u001b[36mpath\u001b[0m=\u001b[35m'/Users/michaelsilberling/Documents/GitHub/op-analytics/ozone/warehouse/dune/daily_eth_price_volatility_v1/dt=2025-05-09/out.parquet'\u001b[0m \u001b[36mprocess\u001b[0m=\u001b[35m68715\u001b[0m \u001b[36mroot\u001b[0m=\u001b[35mdune/daily_eth_price_volatility_v1\u001b[0m \u001b[36mrows\u001b[0m=\u001b[35m1\u001b[0m \u001b[36msize\u001b[0m=\u001b[35m3154\u001b[0m\n",
      "\u001b[2m2025-05-15 17:09:24\u001b[0m [\u001b[32m\u001b[1minfo     \u001b[0m] \u001b[1mmemory usage                  \u001b[0m \u001b[36mfilename\u001b[0m=\u001b[35mgcs_parquet.py\u001b[0m \u001b[36mlineno\u001b[0m=\u001b[35m65\u001b[0m \u001b[36mmax_rss\u001b[0m=\u001b[35m202.75\u001b[0m \u001b[36mprocess\u001b[0m=\u001b[35m68715\u001b[0m \u001b[36mroot\u001b[0m=\u001b[35mdune/daily_eth_price_volatility_v1\u001b[0m\n",
      "\u001b[2m2025-05-15 17:09:24\u001b[0m [\u001b[32m\u001b[1mdebug    \u001b[0m] \u001b[1mdone writing dune/daily_eth_price_volatility_v1 to LOCAL\u001b[0m \u001b[36mfilename\u001b[0m=\u001b[35mwritemanager.py\u001b[0m \u001b[36mlineno\u001b[0m=\u001b[35m131\u001b[0m \u001b[36mprocess\u001b[0m=\u001b[35m68715\u001b[0m \u001b[36mroot\u001b[0m=\u001b[35mdune/daily_eth_price_volatility_v1\u001b[0m\n",
      "\u001b[2m2025-05-15 17:09:24\u001b[0m [\u001b[32m\u001b[1minfo     \u001b[0m] \u001b[1mdone writing 1rows 3.2KB      \u001b[0m \u001b[36mfilename\u001b[0m=\u001b[35mgcs_parquet.py\u001b[0m \u001b[36mlineno\u001b[0m=\u001b[35m57\u001b[0m \u001b[36mmaxrss\u001b[0m=\u001b[35m202752000\u001b[0m \u001b[36mpath\u001b[0m=\u001b[35m'/Users/michaelsilberling/Documents/GitHub/op-analytics/ozone/warehouse/dune/daily_eth_price_volatility_v1/dt=2025-05-10/out.parquet'\u001b[0m \u001b[36mprocess\u001b[0m=\u001b[35m68715\u001b[0m \u001b[36mroot\u001b[0m=\u001b[35mdune/daily_eth_price_volatility_v1\u001b[0m \u001b[36mrows\u001b[0m=\u001b[35m1\u001b[0m \u001b[36msize\u001b[0m=\u001b[35m3154\u001b[0m\n",
      "\u001b[2m2025-05-15 17:09:24\u001b[0m [\u001b[32m\u001b[1minfo     \u001b[0m] \u001b[1mmemory usage                  \u001b[0m \u001b[36mfilename\u001b[0m=\u001b[35mgcs_parquet.py\u001b[0m \u001b[36mlineno\u001b[0m=\u001b[35m65\u001b[0m \u001b[36mmax_rss\u001b[0m=\u001b[35m202.75\u001b[0m \u001b[36mprocess\u001b[0m=\u001b[35m68715\u001b[0m \u001b[36mroot\u001b[0m=\u001b[35mdune/daily_eth_price_volatility_v1\u001b[0m\n",
      "\u001b[2m2025-05-15 17:09:24\u001b[0m [\u001b[32m\u001b[1mdebug    \u001b[0m] \u001b[1mdone writing dune/daily_eth_price_volatility_v1 to LOCAL\u001b[0m \u001b[36mfilename\u001b[0m=\u001b[35mwritemanager.py\u001b[0m \u001b[36mlineno\u001b[0m=\u001b[35m131\u001b[0m \u001b[36mprocess\u001b[0m=\u001b[35m68715\u001b[0m \u001b[36mroot\u001b[0m=\u001b[35mdune/daily_eth_price_volatility_v1\u001b[0m\n",
      "\u001b[2m2025-05-15 17:09:24\u001b[0m [\u001b[32m\u001b[1minfo     \u001b[0m] \u001b[1mdone writing 1rows 3.2KB      \u001b[0m \u001b[36mfilename\u001b[0m=\u001b[35mgcs_parquet.py\u001b[0m \u001b[36mlineno\u001b[0m=\u001b[35m57\u001b[0m \u001b[36mmaxrss\u001b[0m=\u001b[35m202752000\u001b[0m \u001b[36mpath\u001b[0m=\u001b[35m'/Users/michaelsilberling/Documents/GitHub/op-analytics/ozone/warehouse/dune/daily_eth_price_volatility_v1/dt=2025-05-11/out.parquet'\u001b[0m \u001b[36mprocess\u001b[0m=\u001b[35m68715\u001b[0m \u001b[36mroot\u001b[0m=\u001b[35mdune/daily_eth_price_volatility_v1\u001b[0m \u001b[36mrows\u001b[0m=\u001b[35m1\u001b[0m \u001b[36msize\u001b[0m=\u001b[35m3154\u001b[0m\n",
      "\u001b[2m2025-05-15 17:09:24\u001b[0m [\u001b[32m\u001b[1minfo     \u001b[0m] \u001b[1mmemory usage                  \u001b[0m \u001b[36mfilename\u001b[0m=\u001b[35mgcs_parquet.py\u001b[0m \u001b[36mlineno\u001b[0m=\u001b[35m65\u001b[0m \u001b[36mmax_rss\u001b[0m=\u001b[35m202.75\u001b[0m \u001b[36mprocess\u001b[0m=\u001b[35m68715\u001b[0m \u001b[36mroot\u001b[0m=\u001b[35mdune/daily_eth_price_volatility_v1\u001b[0m\n",
      "\u001b[2m2025-05-15 17:09:24\u001b[0m [\u001b[32m\u001b[1mdebug    \u001b[0m] \u001b[1mdone writing dune/daily_eth_price_volatility_v1 to LOCAL\u001b[0m \u001b[36mfilename\u001b[0m=\u001b[35mwritemanager.py\u001b[0m \u001b[36mlineno\u001b[0m=\u001b[35m131\u001b[0m \u001b[36mprocess\u001b[0m=\u001b[35m68715\u001b[0m \u001b[36mroot\u001b[0m=\u001b[35mdune/daily_eth_price_volatility_v1\u001b[0m\n",
      "\u001b[2m2025-05-15 17:09:24\u001b[0m [\u001b[32m\u001b[1minfo     \u001b[0m] \u001b[1mdone writing 1rows 3.2KB      \u001b[0m \u001b[36mfilename\u001b[0m=\u001b[35mgcs_parquet.py\u001b[0m \u001b[36mlineno\u001b[0m=\u001b[35m57\u001b[0m \u001b[36mmaxrss\u001b[0m=\u001b[35m202752000\u001b[0m \u001b[36mpath\u001b[0m=\u001b[35m'/Users/michaelsilberling/Documents/GitHub/op-analytics/ozone/warehouse/dune/daily_eth_price_volatility_v1/dt=2025-05-12/out.parquet'\u001b[0m \u001b[36mprocess\u001b[0m=\u001b[35m68715\u001b[0m \u001b[36mroot\u001b[0m=\u001b[35mdune/daily_eth_price_volatility_v1\u001b[0m \u001b[36mrows\u001b[0m=\u001b[35m1\u001b[0m \u001b[36msize\u001b[0m=\u001b[35m3154\u001b[0m\n",
      "\u001b[2m2025-05-15 17:09:24\u001b[0m [\u001b[32m\u001b[1minfo     \u001b[0m] \u001b[1mmemory usage                  \u001b[0m \u001b[36mfilename\u001b[0m=\u001b[35mgcs_parquet.py\u001b[0m \u001b[36mlineno\u001b[0m=\u001b[35m65\u001b[0m \u001b[36mmax_rss\u001b[0m=\u001b[35m202.75\u001b[0m \u001b[36mprocess\u001b[0m=\u001b[35m68715\u001b[0m \u001b[36mroot\u001b[0m=\u001b[35mdune/daily_eth_price_volatility_v1\u001b[0m\n",
      "\u001b[2m2025-05-15 17:09:24\u001b[0m [\u001b[32m\u001b[1mdebug    \u001b[0m] \u001b[1mdone writing dune/daily_eth_price_volatility_v1 to LOCAL\u001b[0m \u001b[36mfilename\u001b[0m=\u001b[35mwritemanager.py\u001b[0m \u001b[36mlineno\u001b[0m=\u001b[35m131\u001b[0m \u001b[36mprocess\u001b[0m=\u001b[35m68715\u001b[0m \u001b[36mroot\u001b[0m=\u001b[35mdune/daily_eth_price_volatility_v1\u001b[0m\n",
      "\u001b[2m2025-05-15 17:09:24\u001b[0m [\u001b[32m\u001b[1minfo     \u001b[0m] \u001b[1mdone writing 1rows 3.2KB      \u001b[0m \u001b[36mfilename\u001b[0m=\u001b[35mgcs_parquet.py\u001b[0m \u001b[36mlineno\u001b[0m=\u001b[35m57\u001b[0m \u001b[36mmaxrss\u001b[0m=\u001b[35m202752000\u001b[0m \u001b[36mpath\u001b[0m=\u001b[35m'/Users/michaelsilberling/Documents/GitHub/op-analytics/ozone/warehouse/dune/daily_eth_price_volatility_v1/dt=2025-05-13/out.parquet'\u001b[0m \u001b[36mprocess\u001b[0m=\u001b[35m68715\u001b[0m \u001b[36mroot\u001b[0m=\u001b[35mdune/daily_eth_price_volatility_v1\u001b[0m \u001b[36mrows\u001b[0m=\u001b[35m1\u001b[0m \u001b[36msize\u001b[0m=\u001b[35m3154\u001b[0m\n",
      "\u001b[2m2025-05-15 17:09:24\u001b[0m [\u001b[32m\u001b[1minfo     \u001b[0m] \u001b[1mmemory usage                  \u001b[0m \u001b[36mfilename\u001b[0m=\u001b[35mgcs_parquet.py\u001b[0m \u001b[36mlineno\u001b[0m=\u001b[35m65\u001b[0m \u001b[36mmax_rss\u001b[0m=\u001b[35m202.75\u001b[0m \u001b[36mprocess\u001b[0m=\u001b[35m68715\u001b[0m \u001b[36mroot\u001b[0m=\u001b[35mdune/daily_eth_price_volatility_v1\u001b[0m\n",
      "\u001b[2m2025-05-15 17:09:24\u001b[0m [\u001b[32m\u001b[1mdebug    \u001b[0m] \u001b[1mdone writing dune/daily_eth_price_volatility_v1 to LOCAL\u001b[0m \u001b[36mfilename\u001b[0m=\u001b[35mwritemanager.py\u001b[0m \u001b[36mlineno\u001b[0m=\u001b[35m131\u001b[0m \u001b[36mprocess\u001b[0m=\u001b[35m68715\u001b[0m \u001b[36mroot\u001b[0m=\u001b[35mdune/daily_eth_price_volatility_v1\u001b[0m\n",
      "\u001b[2m2025-05-15 17:09:24\u001b[0m [\u001b[32m\u001b[1minfo     \u001b[0m] \u001b[1mdone writing 1rows 3.2KB      \u001b[0m \u001b[36mfilename\u001b[0m=\u001b[35mgcs_parquet.py\u001b[0m \u001b[36mlineno\u001b[0m=\u001b[35m57\u001b[0m \u001b[36mmaxrss\u001b[0m=\u001b[35m202752000\u001b[0m \u001b[36mpath\u001b[0m=\u001b[35m'/Users/michaelsilberling/Documents/GitHub/op-analytics/ozone/warehouse/dune/daily_eth_price_volatility_v1/dt=2025-05-14/out.parquet'\u001b[0m \u001b[36mprocess\u001b[0m=\u001b[35m68715\u001b[0m \u001b[36mroot\u001b[0m=\u001b[35mdune/daily_eth_price_volatility_v1\u001b[0m \u001b[36mrows\u001b[0m=\u001b[35m1\u001b[0m \u001b[36msize\u001b[0m=\u001b[35m3154\u001b[0m\n",
      "\u001b[2m2025-05-15 17:09:24\u001b[0m [\u001b[32m\u001b[1minfo     \u001b[0m] \u001b[1mmemory usage                  \u001b[0m \u001b[36mfilename\u001b[0m=\u001b[35mgcs_parquet.py\u001b[0m \u001b[36mlineno\u001b[0m=\u001b[35m65\u001b[0m \u001b[36mmax_rss\u001b[0m=\u001b[35m202.75\u001b[0m \u001b[36mprocess\u001b[0m=\u001b[35m68715\u001b[0m \u001b[36mroot\u001b[0m=\u001b[35mdune/daily_eth_price_volatility_v1\u001b[0m\n",
      "\u001b[2m2025-05-15 17:09:24\u001b[0m [\u001b[32m\u001b[1mdebug    \u001b[0m] \u001b[1mdone writing dune/daily_eth_price_volatility_v1 to LOCAL\u001b[0m \u001b[36mfilename\u001b[0m=\u001b[35mwritemanager.py\u001b[0m \u001b[36mlineno\u001b[0m=\u001b[35m131\u001b[0m \u001b[36mprocess\u001b[0m=\u001b[35m68715\u001b[0m \u001b[36mroot\u001b[0m=\u001b[35mdune/daily_eth_price_volatility_v1\u001b[0m\n"
     ]
    }
   ],
   "source": [
    "# Test writing the data\n",
    "\n",
    "from op_analytics.datasources.dune.dataaccess import Dune\n",
    "\n",
    "Dune.ETH_PRICE_VOL.write(\n",
    "    dataframe=result.df,\n",
    "    sort_by=[\"dt\"],\n",
    ")"
   ]
  },
  {
   "cell_type": "code",
   "execution_count": null,
   "metadata": {},
   "outputs": [],
   "source": [
    "# Test reading back local data.\n",
    "\n",
    "from op_analytics.coreutils.partitioned.location import DataLocation\n",
    "\n",
    "read_df = Dune.ETH_PRICE_VOL.read_polars(min_date=\"2025-02-27\", max_date=\"2025-02-28\", location=DataLocation.LOCAL)"
   ]
  },
  {
   "cell_type": "code",
   "execution_count": null,
   "metadata": {},
   "outputs": [],
   "source": [
    "read_df"
   ]
  },
  {
   "cell_type": "code",
   "execution_count": null,
   "metadata": {},
   "outputs": [],
   "source": [
    "from op_analytics.datasources.dune.dataaccess import Dune\n",
    "read_df = Dune.ETH_PRICE_VOL.read_polars(min_date=\"2025-02-27\", max_date=\"2025-02-28\")"
   ]
  },
  {
   "cell_type": "code",
   "execution_count": null,
   "metadata": {},
   "outputs": [],
   "source": [
    "read_df.collect_schema()"
   ]
  }
 ],
 "metadata": {
  "kernelspec": {
   "display_name": ".venv",
   "language": "python",
   "name": "python3"
  },
  "language_info": {
   "codemirror_mode": {
    "name": "ipython",
    "version": 3
   },
   "file_extension": ".py",
   "mimetype": "text/x-python",
   "name": "python",
   "nbconvert_exporter": "python",
   "pygments_lexer": "ipython3",
   "version": "3.12.4"
  }
 },
 "nbformat": 4,
 "nbformat_minor": 2
}
