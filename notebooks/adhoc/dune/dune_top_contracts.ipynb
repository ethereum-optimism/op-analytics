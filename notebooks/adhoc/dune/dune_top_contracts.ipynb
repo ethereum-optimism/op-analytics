{
  "cells": [
    {
      "cell_type": "markdown",
      "metadata": {
        "vscode": {
          "languageId": "raw"
        }
      },
      "source": [
        "# Top Contracts Dune Data Puller\n",
        "\n",
        "This notebook runs the top contracts data puller to fetch data from Dune query ID 5536798.\n",
        "\n",
        "## Parameters:\n",
        "- `top_n_contracts_per_chain`: Number of top contracts per chain (default: 5000)\n",
        "- `min_usd_per_day_threshold`: Minimum USD threshold per day (default: 100)\n",
        "- `chunk_days`: Days per chunk for large ranges (default: 30)\n",
        "\n",
        "## Automatic Chunking:\n",
        "The puller automatically breaks large date ranges into smaller chunks to prevent query timeouts. No manual chunking needed!\n"
      ]
    },
    {
      "cell_type": "code",
      "execution_count": null,
      "metadata": {},
      "outputs": [],
      "source": [
        "# Trailing Days to Run\n",
        "TRAILING_DAYS = 365\n",
        "# You can customize these parameters as needed\n",
        "TOP_N_CONTRACTS = 5000  # Default: 5000\n",
        "MIN_USD_THRESHOLD = 100  # Default: 100\n",
        "CHUNK_SIZE = 7  # Days per chunk (optional, defaults to 30)"
      ]
    },
    {
      "cell_type": "code",
      "execution_count": null,
      "metadata": {},
      "outputs": [],
      "source": [
        "# Backfill the results - 365 days to get the table started\n",
        "# The puller automatically chunks large date ranges into 30-day periods\n",
        "\n",
        "from op_analytics.coreutils.partitioned.dailydatawrite import write_to_prod\n",
        "from op_analytics.datasources.dune.top_contracts import execute_pull\n",
        "from datetime import datetime, timedelta\n",
        "\n",
        "end_date = datetime.now().strftime(\"%Y-%m-%d\")\n",
        "start_date = (datetime.now() - timedelta(days=TRAILING_DAYS)).strftime(\"%Y-%m-%d\")\n",
        "\n",
        "print(f\"Running top contracts puller from {start_date} to {end_date}\")\n",
        "print(\"The puller will automatically chunk this into ~30-day periods to avoid query timeouts\")\n",
        "\n",
        "with write_to_prod():\n",
        "    result = execute_pull(\n",
        "        min_dt=start_date, \n",
        "        max_dt=end_date,\n",
        "        top_n_contracts_per_chain=TOP_N_CONTRACTS,\n",
        "        min_usd_per_day_threshold=MIN_USD_THRESHOLD,\n",
        "        chunk_days=CHUNK_SIZE  # Optional: customize chunk size\n",
        "    )\n",
        "    \n",
        "print(f\"Completed! Processed {result.get('chunks_processed', 0)} chunks\")\n",
        "print(f\"Data summary: {result.get('df', {})}\")\n"
      ]
    },
    {
      "cell_type": "code",
      "execution_count": null,
      "metadata": {},
      "outputs": [],
      "source": [
        "# Test that we can fetch the data\n",
        "\n",
        "from op_analytics.datasources.dune.top_contracts import DuneTopContractsSummary\n",
        "\n",
        "# Test fetch for the last 7 days (default)\n",
        "test_result = DuneTopContractsSummary.fetch()\n",
        "print(f\"Shape: {test_result.df.shape}\")\n",
        "print(\"Sample data:\")\n",
        "print(test_result.df.head())\n"
      ]
    },
    {
      "cell_type": "markdown",
      "metadata": {
        "vscode": {
          "languageId": "raw"
        }
      },
      "source": [
        "## Alternative: Run with custom parameters\n",
        "\n",
        "You can also run specific date ranges or adjust the parameters. The puller automatically handles chunking for any date range:\n"
      ]
    },
    {
      "cell_type": "code",
      "execution_count": null,
      "metadata": {},
      "outputs": [],
      "source": [
        "# Example: Run with custom parameters for a specific date range\n",
        "# The puller automatically chunks large ranges - no need to manually break them up!\n",
        "# Uncomment and modify as needed\n",
        "\n",
        "# with write_to_prod():\n",
        "#     result = execute_pull(\n",
        "#         min_dt=\"2024-01-01\", \n",
        "#         max_dt=\"2024-12-31\",                   # Full year 2024 - will be auto-chunked\n",
        "#         top_n_contracts_per_chain=1000,        # Custom: top 1000 contracts per chain  \n",
        "#         min_usd_per_day_threshold=500,         # Custom: $500 minimum threshold\n",
        "#         chunk_days=15                          # Custom: 15-day chunks instead of 30\n",
        "#     )\n",
        "#     print(f\"Processed {result['chunks_processed']} chunks for the full year!\")\n"
      ]
    },
    {
      "cell_type": "raw",
      "metadata": {
        "vscode": {
          "languageId": "raw"
        }
      },
      "source": [
        "# Top Contracts Dune Data Puller\n",
        "\n",
        "This notebook runs the top contracts data puller to fetch data from Dune query ID 5536798.\n",
        "\n",
        "## Parameters:\n",
        "- `top_n_contracts_per_chain`: Number of top contracts per chain (default: 5000)\n",
        "- `min_usd_per_day_threshold`: Minimum USD threshold per day (default: 100)\n",
        "- Date range: Automatically chunked into 30-day periods to avoid query failures\n",
        "\n",
        "## Chunking Strategy:\n",
        "The notebook automatically breaks large date ranges into 30-day chunks to prevent query timeouts.\n"
      ]
    },
    {
      "cell_type": "code",
      "execution_count": null,
      "metadata": {},
      "outputs": [],
      "source": [
        "# Backfill the results - 365 days to get the table started\n",
        "# The puller automatically chunks large date ranges into 30-day periods\n",
        "\n",
        "from op_analytics.coreutils.partitioned.dailydatawrite import write_to_prod\n",
        "from op_analytics.datasources.dune.top_contracts import execute_pull\n",
        "from datetime import datetime, timedelta\n",
        "\n",
        "# Calculate date 365 days ago\n",
        "end_date = datetime.now().strftime(\"%Y-%m-%d\")\n",
        "start_date = (datetime.now() - timedelta(days=365)).strftime(\"%Y-%m-%d\")\n",
        "\n",
        "print(f\"Running top contracts puller from {start_date} to {end_date}\")\n",
        "print(\"The puller will automatically chunk this into ~30-day periods to avoid query timeouts\")\n",
        "\n",
        "# You can customize these parameters as needed\n",
        "TOP_N_CONTRACTS = 5000  # Default: 5000\n",
        "MIN_USD_THRESHOLD = 100  # Default: 100\n",
        "CHUNK_SIZE = 30  # Days per chunk (optional, defaults to 30)\n",
        "\n",
        "with write_to_prod():\n",
        "    result = execute_pull(\n",
        "        min_dt=start_date, \n",
        "        max_dt=end_date,\n",
        "        top_n_contracts_per_chain=TOP_N_CONTRACTS,\n",
        "        min_usd_per_day_threshold=MIN_USD_THRESHOLD,\n",
        "        chunk_days=CHUNK_SIZE  # Optional: customize chunk size\n",
        "    )\n",
        "    \n",
        "print(f\"Completed! Processed {result.get('chunks_processed', 0)} chunks\")\n",
        "print(f\"Data summary: {result.get('df', {})}\")\n"
      ]
    },
    {
      "cell_type": "code",
      "execution_count": null,
      "metadata": {},
      "outputs": [],
      "source": [
        "# Test that we can fetch the data\n",
        "\n",
        "from op_analytics.datasources.dune.top_contracts import DuneTopContractsSummary\n",
        "\n",
        "# Test fetch for the last 7 days (default)\n",
        "test_result = DuneTopContractsSummary.fetch()\n",
        "print(f\"Shape: {test_result.df.shape}\")\n",
        "print(\"Sample data:\")\n",
        "print(test_result.df.head())\n"
      ]
    }
  ],
  "metadata": {
    "kernelspec": {
      "display_name": ".venv",
      "language": "python",
      "name": "python3"
    },
    "language_info": {
      "codemirror_mode": {
        "name": "ipython",
        "version": 3
      },
      "file_extension": ".py",
      "mimetype": "text/x-python",
      "name": "python",
      "nbconvert_exporter": "python",
      "pygments_lexer": "ipython3",
      "version": "3.12.11"
    }
  },
  "nbformat": 4,
  "nbformat_minor": 2
}
