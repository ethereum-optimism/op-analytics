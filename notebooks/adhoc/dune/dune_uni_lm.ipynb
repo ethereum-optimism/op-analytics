{
 "cells": [
  {
   "cell_type": "code",
   "execution_count": null,
   "metadata": {},
   "outputs": [],
   "source": [
    "# Override to force BQ write.\n",
    "import os\n",
    "os.environ[\"OPLABS_ENV\"] = \"prod\"\n",
    "\n",
    "# Backfill the results\n",
    "\n",
    "from op_analytics.coreutils.partitioned.dailydatawrite import write_to_prod\n",
    "from op_analytics.datasources.dune.unichain_lm import execute_pull\n",
    "\n",
    "with write_to_prod():\n",
    "    execute_pull()\n",
    "    "
   ]
  },
  {
   "cell_type": "code",
   "execution_count": null,
   "metadata": {},
   "outputs": [],
   "source": [
    "# Test that we can fetch the data.\n",
    "\n",
    "from op_analytics.datasources.dune.unichain_lm import DuneUniLMSummary\n",
    "\n",
    "# result = DuneUniLMSummary.fetch()"
   ]
  },
  {
   "cell_type": "code",
   "execution_count": null,
   "metadata": {},
   "outputs": [],
   "source": [
    "result.df"
   ]
  },
  {
   "cell_type": "code",
   "execution_count": null,
   "metadata": {},
   "outputs": [],
   "source": [
    "# Test writing the data\n",
    "\n",
    "from op_analytics.datasources.dune.dataaccess import Dune\n",
    "\n",
    "# Dune.UNI_LM_2025.write(\n",
    "#     dataframe=result.df,\n",
    "#     sort_by=[\"dt\"],\n",
    "# )"
   ]
  },
  {
   "cell_type": "code",
   "execution_count": null,
   "metadata": {},
   "outputs": [],
   "source": [
    "# Test reading back local data.\n",
    "\n",
    "from op_analytics.coreutils.partitioned.location import DataLocation\n",
    "\n",
    "# read_df = Dune.UNI_LM_2025.read_polars(min_date=\"2025-05-07\", max_date=\"2025-05-11\", location=DataLocation.LOCAL)"
   ]
  },
  {
   "cell_type": "code",
   "execution_count": null,
   "metadata": {},
   "outputs": [],
   "source": [
    "# read_df"
   ]
  },
  {
   "cell_type": "code",
   "execution_count": null,
   "metadata": {},
   "outputs": [],
   "source": [
    "from op_analytics.datasources.dune.dataaccess import Dune\n",
    "# read_df = Dune.UNI_LM_2025.read_polars(min_date=\"2025-02-27\", max_date=\"2025-02-28\")"
   ]
  },
  {
   "cell_type": "code",
   "execution_count": null,
   "metadata": {},
   "outputs": [],
   "source": [
    "# read_df.collect_schema()"
   ]
  }
 ],
 "metadata": {
  "kernelspec": {
   "display_name": ".venv",
   "language": "python",
   "name": "python3"
  },
  "language_info": {
   "codemirror_mode": {
    "name": "ipython",
    "version": 3
   },
   "file_extension": ".py",
   "mimetype": "text/x-python",
   "name": "python",
   "nbconvert_exporter": "python",
   "pygments_lexer": "ipython3",
   "version": "3.12.4"
  }
 },
 "nbformat": 4,
 "nbformat_minor": 2
}
