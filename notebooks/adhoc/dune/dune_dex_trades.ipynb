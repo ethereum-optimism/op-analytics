{
 "cells": [
  {
   "cell_type": "code",
   "execution_count": 1,
   "metadata": {},
   "outputs": [
    {
     "name": "stdout",
     "output_type": "stream",
     "text": [
      "\u001b[2m2025-03-06 10:15:19\u001b[0m [\u001b[32m\u001b[1minfo     \u001b[0m] \u001b[1mloaded vault from .env file   \u001b[0m \u001b[36mfilename\u001b[0m=\u001b[35mvault.py\u001b[0m \u001b[36mlineno\u001b[0m=\u001b[35m32\u001b[0m \u001b[36mprocess\u001b[0m=\u001b[35m44835\u001b[0m\n",
      "\u001b[2m2025-03-06 10:15:19\u001b[0m [\u001b[32m\u001b[1mdebug    \u001b[0m] \u001b[1mloaded vault: 20 items        \u001b[0m \u001b[36mfilename\u001b[0m=\u001b[35mvault.py\u001b[0m \u001b[36mlineno\u001b[0m=\u001b[35m79\u001b[0m \u001b[36mprocess\u001b[0m=\u001b[35m44835\u001b[0m\n",
      "initiating new execution of query_id = 4724100\n",
      "waiting for results, execution_id = 01JNP0CZBWTK6KN31TN9M31X6Q, t = 0.00\n",
      "waiting for results, execution_id = 01JNP0CZBWTK6KN31TN9M31X6Q, t = 1.00\n",
      "waiting for results, execution_id = 01JNP0CZBWTK6KN31TN9M31X6Q, t = 2.01\n",
      "waiting for results, execution_id = 01JNP0CZBWTK6KN31TN9M31X6Q, t = 3.01\n",
      "waiting for results, execution_id = 01JNP0CZBWTK6KN31TN9M31X6Q, t = 4.01\n",
      "waiting for results, execution_id = 01JNP0CZBWTK6KN31TN9M31X6Q, t = 5.01\n",
      "waiting for results, execution_id = 01JNP0CZBWTK6KN31TN9M31X6Q, t = 6.01\n",
      "waiting for results, execution_id = 01JNP0CZBWTK6KN31TN9M31X6Q, t = 7.45\n",
      "waiting for results, execution_id = 01JNP0CZBWTK6KN31TN9M31X6Q, t = 8.46\n",
      "waiting for results, execution_id = 01JNP0CZBWTK6KN31TN9M31X6Q, t = 9.46\n",
      "waiting for results, execution_id = 01JNP0CZBWTK6KN31TN9M31X6Q, t = 10.47\n",
      "waiting for results, execution_id = 01JNP0CZBWTK6KN31TN9M31X6Q, t = 11.47\n",
      "waiting for results, execution_id = 01JNP0CZBWTK6KN31TN9M31X6Q, t = 12.47\n",
      "waiting for results, execution_id = 01JNP0CZBWTK6KN31TN9M31X6Q, t = 13.47\n",
      "waiting for results, execution_id = 01JNP0CZBWTK6KN31TN9M31X6Q, t = 14.48\n",
      "waiting for results, execution_id = 01JNP0CZBWTK6KN31TN9M31X6Q, t = 15.48\n",
      "waiting for results, execution_id = 01JNP0CZBWTK6KN31TN9M31X6Q, t = 16.49\n",
      "waiting for results, execution_id = 01JNP0CZBWTK6KN31TN9M31X6Q, t = 17.49\n",
      "waiting for results, execution_id = 01JNP0CZBWTK6KN31TN9M31X6Q, t = 18.49\n",
      "waiting for results, execution_id = 01JNP0CZBWTK6KN31TN9M31X6Q, t = 19.50\n",
      "waiting for results, execution_id = 01JNP0CZBWTK6KN31TN9M31X6Q, t = 20.50\n",
      "waiting for results, execution_id = 01JNP0CZBWTK6KN31TN9M31X6Q, t = 21.50\n",
      "waiting for results, execution_id = 01JNP0CZBWTK6KN31TN9M31X6Q, t = 22.51\n",
      "waiting for results, execution_id = 01JNP0CZBWTK6KN31TN9M31X6Q, t = 23.51\n",
      "waiting for results, execution_id = 01JNP0CZBWTK6KN31TN9M31X6Q, t = 24.51\n",
      "waiting for results, execution_id = 01JNP0CZBWTK6KN31TN9M31X6Q, t = 25.52\n",
      "waiting for results, execution_id = 01JNP0CZBWTK6KN31TN9M31X6Q, t = 26.52\n",
      "waiting for results, execution_id = 01JNP0CZBWTK6KN31TN9M31X6Q, t = 27.52\n",
      "waiting for results, execution_id = 01JNP0CZBWTK6KN31TN9M31X6Q, t = 28.53\n",
      "waiting for results, execution_id = 01JNP0CZBWTK6KN31TN9M31X6Q, t = 29.53\n",
      "waiting for results, execution_id = 01JNP0CZBWTK6KN31TN9M31X6Q, t = 30.53\n",
      "waiting for results, execution_id = 01JNP0CZBWTK6KN31TN9M31X6Q, t = 31.53\n",
      "waiting for results, execution_id = 01JNP0CZBWTK6KN31TN9M31X6Q, t = 32.54\n",
      "waiting for results, execution_id = 01JNP0CZBWTK6KN31TN9M31X6Q, t = 33.54\n",
      "waiting for results, execution_id = 01JNP0CZBWTK6KN31TN9M31X6Q, t = 34.55\n",
      "waiting for results, execution_id = 01JNP0CZBWTK6KN31TN9M31X6Q, t = 35.55\n",
      "waiting for results, execution_id = 01JNP0CZBWTK6KN31TN9M31X6Q, t = 36.55\n",
      "waiting for results, execution_id = 01JNP0CZBWTK6KN31TN9M31X6Q, t = 37.56\n",
      "waiting for results, execution_id = 01JNP0CZBWTK6KN31TN9M31X6Q, t = 38.56\n",
      "waiting for results, execution_id = 01JNP0CZBWTK6KN31TN9M31X6Q, t = 39.56\n",
      "waiting for results, execution_id = 01JNP0CZBWTK6KN31TN9M31X6Q, t = 40.57\n",
      "waiting for results, execution_id = 01JNP0CZBWTK6KN31TN9M31X6Q, t = 41.57\n",
      "waiting for results, execution_id = 01JNP0CZBWTK6KN31TN9M31X6Q, t = 42.57\n",
      "getting results, execution_id = 01JNP0CZBWTK6KN31TN9M31X6Q\n",
      "\u001b[2m2025-03-06 10:16:06\u001b[0m [\u001b[32m\u001b[1mdebug    \u001b[0m] \u001b[1mFound vault variable GOOGLE_SERVICE_ACCOUNT (has JSON key)\u001b[0m \u001b[36mfilename\u001b[0m=\u001b[35mgcpauth.py\u001b[0m \u001b[36mlineno\u001b[0m=\u001b[35m18\u001b[0m \u001b[36mprocess\u001b[0m=\u001b[35m44835\u001b[0m \u001b[36mroot\u001b[0m=\u001b[35mdune/daily_dex_trades_summary_v1\u001b[0m\n",
      "\u001b[2m2025-03-06 10:16:06\u001b[0m [\u001b[32m\u001b[1minfo     \u001b[0m] \u001b[1mInitialized gcsfs client for bucket=gs://oplabs-tools-data-sink\u001b[0m \u001b[36mfilename\u001b[0m=\u001b[35mgcs_parquet.py\u001b[0m \u001b[36mlineno\u001b[0m=\u001b[35m32\u001b[0m \u001b[36mprocess\u001b[0m=\u001b[35m44835\u001b[0m \u001b[36mroot\u001b[0m=\u001b[35mdune/daily_dex_trades_summary_v1\u001b[0m\n",
      "\u001b[2m2025-03-06 10:16:06\u001b[0m [\u001b[32m\u001b[1minfo     \u001b[0m] \u001b[1mdone writing 5.8Krows 951.2KB \u001b[0m \u001b[36mfilename\u001b[0m=\u001b[35mgcs_parquet.py\u001b[0m \u001b[36mlineno\u001b[0m=\u001b[35m57\u001b[0m \u001b[36mmaxrss\u001b[0m=\u001b[35m621805568\u001b[0m \u001b[36mpath\u001b[0m=\u001b[35moplabs-tools-data-sink/dune/daily_dex_trades_summary_v1/dt=2024-10-01/out.parquet\u001b[0m \u001b[36mprocess\u001b[0m=\u001b[35m44835\u001b[0m \u001b[36mroot\u001b[0m=\u001b[35mdune/daily_dex_trades_summary_v1\u001b[0m \u001b[36mrows\u001b[0m=\u001b[35m5802\u001b[0m \u001b[36msize\u001b[0m=\u001b[35m951246\u001b[0m\n",
      "\u001b[2m2025-03-06 10:16:06\u001b[0m [\u001b[32m\u001b[1minfo     \u001b[0m] \u001b[1mmemory usage                  \u001b[0m \u001b[36mfilename\u001b[0m=\u001b[35mgcs_parquet.py\u001b[0m \u001b[36mlineno\u001b[0m=\u001b[35m65\u001b[0m \u001b[36mmax_rss\u001b[0m=\u001b[35m621.89\u001b[0m \u001b[36mprocess\u001b[0m=\u001b[35m44835\u001b[0m \u001b[36mroot\u001b[0m=\u001b[35mdune/daily_dex_trades_summary_v1\u001b[0m\n",
      "\u001b[2m2025-03-06 10:16:06\u001b[0m [\u001b[32m\u001b[1mdebug    \u001b[0m] \u001b[1mconnecting to OPLABS Clickhouse client...\u001b[0m \u001b[36mfilename\u001b[0m=\u001b[35mclient.py\u001b[0m \u001b[36mlineno\u001b[0m=\u001b[35m56\u001b[0m \u001b[36mprocess\u001b[0m=\u001b[35m44835\u001b[0m \u001b[36mroot\u001b[0m=\u001b[35mdune/daily_dex_trades_summary_v1\u001b[0m\n",
      "\u001b[2m2025-03-06 10:16:07\u001b[0m [\u001b[32m\u001b[1mdebug    \u001b[0m] \u001b[1minitialized OPLABS Clickhouse client.\u001b[0m \u001b[36mfilename\u001b[0m=\u001b[35mclient.py\u001b[0m \u001b[36mlineno\u001b[0m=\u001b[35m61\u001b[0m \u001b[36mprocess\u001b[0m=\u001b[35m44835\u001b[0m \u001b[36mroot\u001b[0m=\u001b[35mdune/daily_dex_trades_summary_v1\u001b[0m\n",
      "\u001b[2m2025-03-06 10:16:07\u001b[0m [\u001b[32m\u001b[1mdebug    \u001b[0m] \u001b[1mdone writing dune/daily_dex_trades_summary_v1 to GCS\u001b[0m \u001b[36mfilename\u001b[0m=\u001b[35mwritehelper.py\u001b[0m \u001b[36mlineno\u001b[0m=\u001b[35m131\u001b[0m \u001b[36mprocess\u001b[0m=\u001b[35m44835\u001b[0m \u001b[36mroot\u001b[0m=\u001b[35mdune/daily_dex_trades_summary_v1\u001b[0m\n",
      "\u001b[2m2025-03-06 10:16:07\u001b[0m [\u001b[32m\u001b[1minfo     \u001b[0m] \u001b[1mdone writing 5.4Krows 877.3KB \u001b[0m \u001b[36mfilename\u001b[0m=\u001b[35mgcs_parquet.py\u001b[0m \u001b[36mlineno\u001b[0m=\u001b[35m57\u001b[0m \u001b[36mmaxrss\u001b[0m=\u001b[35m642793472\u001b[0m \u001b[36mpath\u001b[0m=\u001b[35moplabs-tools-data-sink/dune/daily_dex_trades_summary_v1/dt=2024-10-02/out.parquet\u001b[0m \u001b[36mprocess\u001b[0m=\u001b[35m44835\u001b[0m \u001b[36mroot\u001b[0m=\u001b[35mdune/daily_dex_trades_summary_v1\u001b[0m \u001b[36mrows\u001b[0m=\u001b[35m5406\u001b[0m \u001b[36msize\u001b[0m=\u001b[35m877312\u001b[0m\n",
      "\u001b[2m2025-03-06 10:16:07\u001b[0m [\u001b[32m\u001b[1minfo     \u001b[0m] \u001b[1mmemory usage                  \u001b[0m \u001b[36mfilename\u001b[0m=\u001b[35mgcs_parquet.py\u001b[0m \u001b[36mlineno\u001b[0m=\u001b[35m65\u001b[0m \u001b[36mmax_rss\u001b[0m=\u001b[35m642.81\u001b[0m \u001b[36mprocess\u001b[0m=\u001b[35m44835\u001b[0m \u001b[36mroot\u001b[0m=\u001b[35mdune/daily_dex_trades_summary_v1\u001b[0m\n",
      "\u001b[2m2025-03-06 10:16:08\u001b[0m [\u001b[32m\u001b[1mdebug    \u001b[0m] \u001b[1mdone writing dune/daily_dex_trades_summary_v1 to GCS\u001b[0m \u001b[36mfilename\u001b[0m=\u001b[35mwritehelper.py\u001b[0m \u001b[36mlineno\u001b[0m=\u001b[35m131\u001b[0m \u001b[36mprocess\u001b[0m=\u001b[35m44835\u001b[0m \u001b[36mroot\u001b[0m=\u001b[35mdune/daily_dex_trades_summary_v1\u001b[0m\n",
      "\u001b[2m2025-03-06 10:16:08\u001b[0m [\u001b[32m\u001b[1minfo     \u001b[0m] \u001b[1mdone writing 5.1Krows 834.8KB \u001b[0m \u001b[36mfilename\u001b[0m=\u001b[35mgcs_parquet.py\u001b[0m \u001b[36mlineno\u001b[0m=\u001b[35m57\u001b[0m \u001b[36mmaxrss\u001b[0m=\u001b[35m646397952\u001b[0m \u001b[36mpath\u001b[0m=\u001b[35moplabs-tools-data-sink/dune/daily_dex_trades_summary_v1/dt=2024-10-03/out.parquet\u001b[0m \u001b[36mprocess\u001b[0m=\u001b[35m44835\u001b[0m \u001b[36mroot\u001b[0m=\u001b[35mdune/daily_dex_trades_summary_v1\u001b[0m \u001b[36mrows\u001b[0m=\u001b[35m5142\u001b[0m \u001b[36msize\u001b[0m=\u001b[35m834792\u001b[0m\n",
      "\u001b[2m2025-03-06 10:16:08\u001b[0m [\u001b[32m\u001b[1minfo     \u001b[0m] \u001b[1mmemory usage                  \u001b[0m \u001b[36mfilename\u001b[0m=\u001b[35mgcs_parquet.py\u001b[0m \u001b[36mlineno\u001b[0m=\u001b[35m65\u001b[0m \u001b[36mmax_rss\u001b[0m=\u001b[35m646.4\u001b[0m \u001b[36mprocess\u001b[0m=\u001b[35m44835\u001b[0m \u001b[36mroot\u001b[0m=\u001b[35mdune/daily_dex_trades_summary_v1\u001b[0m\n",
      "\u001b[2m2025-03-06 10:16:08\u001b[0m [\u001b[32m\u001b[1mdebug    \u001b[0m] \u001b[1mdone writing dune/daily_dex_trades_summary_v1 to GCS\u001b[0m \u001b[36mfilename\u001b[0m=\u001b[35mwritehelper.py\u001b[0m \u001b[36mlineno\u001b[0m=\u001b[35m131\u001b[0m \u001b[36mprocess\u001b[0m=\u001b[35m44835\u001b[0m \u001b[36mroot\u001b[0m=\u001b[35mdune/daily_dex_trades_summary_v1\u001b[0m\n",
      "\u001b[2m2025-03-06 10:16:08\u001b[0m [\u001b[32m\u001b[1minfo     \u001b[0m] \u001b[1mdone writing 5.1Krows 828.6KB \u001b[0m \u001b[36mfilename\u001b[0m=\u001b[35mgcs_parquet.py\u001b[0m \u001b[36mlineno\u001b[0m=\u001b[35m57\u001b[0m \u001b[36mmaxrss\u001b[0m=\u001b[35m649543680\u001b[0m \u001b[36mpath\u001b[0m=\u001b[35moplabs-tools-data-sink/dune/daily_dex_trades_summary_v1/dt=2024-10-04/out.parquet\u001b[0m \u001b[36mprocess\u001b[0m=\u001b[35m44835\u001b[0m \u001b[36mroot\u001b[0m=\u001b[35mdune/daily_dex_trades_summary_v1\u001b[0m \u001b[36mrows\u001b[0m=\u001b[35m5054\u001b[0m \u001b[36msize\u001b[0m=\u001b[35m828565\u001b[0m\n",
      "\u001b[2m2025-03-06 10:16:08\u001b[0m [\u001b[32m\u001b[1minfo     \u001b[0m] \u001b[1mmemory usage                  \u001b[0m \u001b[36mfilename\u001b[0m=\u001b[35mgcs_parquet.py\u001b[0m \u001b[36mlineno\u001b[0m=\u001b[35m65\u001b[0m \u001b[36mmax_rss\u001b[0m=\u001b[35m649.54\u001b[0m \u001b[36mprocess\u001b[0m=\u001b[35m44835\u001b[0m \u001b[36mroot\u001b[0m=\u001b[35mdune/daily_dex_trades_summary_v1\u001b[0m\n",
      "\u001b[2m2025-03-06 10:16:09\u001b[0m [\u001b[32m\u001b[1mdebug    \u001b[0m] \u001b[1mdone writing dune/daily_dex_trades_summary_v1 to GCS\u001b[0m \u001b[36mfilename\u001b[0m=\u001b[35mwritehelper.py\u001b[0m \u001b[36mlineno\u001b[0m=\u001b[35m131\u001b[0m \u001b[36mprocess\u001b[0m=\u001b[35m44835\u001b[0m \u001b[36mroot\u001b[0m=\u001b[35mdune/daily_dex_trades_summary_v1\u001b[0m\n",
      "\u001b[2m2025-03-06 10:16:09\u001b[0m [\u001b[32m\u001b[1minfo     \u001b[0m] \u001b[1mdone writing 4.7Krows 773.0KB \u001b[0m \u001b[36mfilename\u001b[0m=\u001b[35mgcs_parquet.py\u001b[0m \u001b[36mlineno\u001b[0m=\u001b[35m57\u001b[0m \u001b[36mmaxrss\u001b[0m=\u001b[35m652214272\u001b[0m \u001b[36mpath\u001b[0m=\u001b[35moplabs-tools-data-sink/dune/daily_dex_trades_summary_v1/dt=2024-10-05/out.parquet\u001b[0m \u001b[36mprocess\u001b[0m=\u001b[35m44835\u001b[0m \u001b[36mroot\u001b[0m=\u001b[35mdune/daily_dex_trades_summary_v1\u001b[0m \u001b[36mrows\u001b[0m=\u001b[35m4675\u001b[0m \u001b[36msize\u001b[0m=\u001b[35m772975\u001b[0m\n",
      "\u001b[2m2025-03-06 10:16:09\u001b[0m [\u001b[32m\u001b[1minfo     \u001b[0m] \u001b[1mmemory usage                  \u001b[0m \u001b[36mfilename\u001b[0m=\u001b[35mgcs_parquet.py\u001b[0m \u001b[36mlineno\u001b[0m=\u001b[35m65\u001b[0m \u001b[36mmax_rss\u001b[0m=\u001b[35m652.21\u001b[0m \u001b[36mprocess\u001b[0m=\u001b[35m44835\u001b[0m \u001b[36mroot\u001b[0m=\u001b[35mdune/daily_dex_trades_summary_v1\u001b[0m\n",
      "\u001b[2m2025-03-06 10:16:09\u001b[0m [\u001b[32m\u001b[1mdebug    \u001b[0m] \u001b[1mdone writing dune/daily_dex_trades_summary_v1 to GCS\u001b[0m \u001b[36mfilename\u001b[0m=\u001b[35mwritehelper.py\u001b[0m \u001b[36mlineno\u001b[0m=\u001b[35m131\u001b[0m \u001b[36mprocess\u001b[0m=\u001b[35m44835\u001b[0m \u001b[36mroot\u001b[0m=\u001b[35mdune/daily_dex_trades_summary_v1\u001b[0m\n",
      "\u001b[2m2025-03-06 10:16:09\u001b[0m [\u001b[32m\u001b[1minfo     \u001b[0m] \u001b[1mdone writing 4.6Krows 755.0KB \u001b[0m \u001b[36mfilename\u001b[0m=\u001b[35mgcs_parquet.py\u001b[0m \u001b[36mlineno\u001b[0m=\u001b[35m57\u001b[0m \u001b[36mmaxrss\u001b[0m=\u001b[35m654442496\u001b[0m \u001b[36mpath\u001b[0m=\u001b[35moplabs-tools-data-sink/dune/daily_dex_trades_summary_v1/dt=2024-10-06/out.parquet\u001b[0m \u001b[36mprocess\u001b[0m=\u001b[35m44835\u001b[0m \u001b[36mroot\u001b[0m=\u001b[35mdune/daily_dex_trades_summary_v1\u001b[0m \u001b[36mrows\u001b[0m=\u001b[35m4559\u001b[0m \u001b[36msize\u001b[0m=\u001b[35m755026\u001b[0m\n",
      "\u001b[2m2025-03-06 10:16:09\u001b[0m [\u001b[32m\u001b[1minfo     \u001b[0m] \u001b[1mmemory usage                  \u001b[0m \u001b[36mfilename\u001b[0m=\u001b[35mgcs_parquet.py\u001b[0m \u001b[36mlineno\u001b[0m=\u001b[35m65\u001b[0m \u001b[36mmax_rss\u001b[0m=\u001b[35m654.44\u001b[0m \u001b[36mprocess\u001b[0m=\u001b[35m44835\u001b[0m \u001b[36mroot\u001b[0m=\u001b[35mdune/daily_dex_trades_summary_v1\u001b[0m\n",
      "\u001b[2m2025-03-06 10:16:10\u001b[0m [\u001b[32m\u001b[1mdebug    \u001b[0m] \u001b[1mdone writing dune/daily_dex_trades_summary_v1 to GCS\u001b[0m \u001b[36mfilename\u001b[0m=\u001b[35mwritehelper.py\u001b[0m \u001b[36mlineno\u001b[0m=\u001b[35m131\u001b[0m \u001b[36mprocess\u001b[0m=\u001b[35m44835\u001b[0m \u001b[36mroot\u001b[0m=\u001b[35mdune/daily_dex_trades_summary_v1\u001b[0m\n",
      "\u001b[2m2025-03-06 10:16:10\u001b[0m [\u001b[32m\u001b[1minfo     \u001b[0m] \u001b[1mdone writing 5.6Krows 933.0KB \u001b[0m \u001b[36mfilename\u001b[0m=\u001b[35mgcs_parquet.py\u001b[0m \u001b[36mlineno\u001b[0m=\u001b[35m57\u001b[0m \u001b[36mmaxrss\u001b[0m=\u001b[35m655998976\u001b[0m \u001b[36mpath\u001b[0m=\u001b[35moplabs-tools-data-sink/dune/daily_dex_trades_summary_v1/dt=2024-10-07/out.parquet\u001b[0m \u001b[36mprocess\u001b[0m=\u001b[35m44835\u001b[0m \u001b[36mroot\u001b[0m=\u001b[35mdune/daily_dex_trades_summary_v1\u001b[0m \u001b[36mrows\u001b[0m=\u001b[35m5638\u001b[0m \u001b[36msize\u001b[0m=\u001b[35m933020\u001b[0m\n",
      "\u001b[2m2025-03-06 10:16:10\u001b[0m [\u001b[32m\u001b[1minfo     \u001b[0m] \u001b[1mmemory usage                  \u001b[0m \u001b[36mfilename\u001b[0m=\u001b[35mgcs_parquet.py\u001b[0m \u001b[36mlineno\u001b[0m=\u001b[35m65\u001b[0m \u001b[36mmax_rss\u001b[0m=\u001b[35m656.0\u001b[0m \u001b[36mprocess\u001b[0m=\u001b[35m44835\u001b[0m \u001b[36mroot\u001b[0m=\u001b[35mdune/daily_dex_trades_summary_v1\u001b[0m\n",
      "\u001b[2m2025-03-06 10:16:10\u001b[0m [\u001b[32m\u001b[1mdebug    \u001b[0m] \u001b[1mdone writing dune/daily_dex_trades_summary_v1 to GCS\u001b[0m \u001b[36mfilename\u001b[0m=\u001b[35mwritehelper.py\u001b[0m \u001b[36mlineno\u001b[0m=\u001b[35m131\u001b[0m \u001b[36mprocess\u001b[0m=\u001b[35m44835\u001b[0m \u001b[36mroot\u001b[0m=\u001b[35mdune/daily_dex_trades_summary_v1\u001b[0m\n",
      "\u001b[2m2025-03-06 10:16:10\u001b[0m [\u001b[32m\u001b[1minfo     \u001b[0m] \u001b[1mdone writing 5.4Krows 899.2KB \u001b[0m \u001b[36mfilename\u001b[0m=\u001b[35mgcs_parquet.py\u001b[0m \u001b[36mlineno\u001b[0m=\u001b[35m57\u001b[0m \u001b[36mmaxrss\u001b[0m=\u001b[35m657276928\u001b[0m \u001b[36mpath\u001b[0m=\u001b[35moplabs-tools-data-sink/dune/daily_dex_trades_summary_v1/dt=2024-10-08/out.parquet\u001b[0m \u001b[36mprocess\u001b[0m=\u001b[35m44835\u001b[0m \u001b[36mroot\u001b[0m=\u001b[35mdune/daily_dex_trades_summary_v1\u001b[0m \u001b[36mrows\u001b[0m=\u001b[35m5428\u001b[0m \u001b[36msize\u001b[0m=\u001b[35m899166\u001b[0m\n",
      "\u001b[2m2025-03-06 10:16:10\u001b[0m [\u001b[32m\u001b[1minfo     \u001b[0m] \u001b[1mmemory usage                  \u001b[0m \u001b[36mfilename\u001b[0m=\u001b[35mgcs_parquet.py\u001b[0m \u001b[36mlineno\u001b[0m=\u001b[35m65\u001b[0m \u001b[36mmax_rss\u001b[0m=\u001b[35m657.28\u001b[0m \u001b[36mprocess\u001b[0m=\u001b[35m44835\u001b[0m \u001b[36mroot\u001b[0m=\u001b[35mdune/daily_dex_trades_summary_v1\u001b[0m\n",
      "\u001b[2m2025-03-06 10:16:11\u001b[0m [\u001b[32m\u001b[1mdebug    \u001b[0m] \u001b[1mdone writing dune/daily_dex_trades_summary_v1 to GCS\u001b[0m \u001b[36mfilename\u001b[0m=\u001b[35mwritehelper.py\u001b[0m \u001b[36mlineno\u001b[0m=\u001b[35m131\u001b[0m \u001b[36mprocess\u001b[0m=\u001b[35m44835\u001b[0m \u001b[36mroot\u001b[0m=\u001b[35mdune/daily_dex_trades_summary_v1\u001b[0m\n",
      "\u001b[2m2025-03-06 10:16:11\u001b[0m [\u001b[32m\u001b[1minfo     \u001b[0m] \u001b[1mdone writing 5.6Krows 927.4KB \u001b[0m \u001b[36mfilename\u001b[0m=\u001b[35mgcs_parquet.py\u001b[0m \u001b[36mlineno\u001b[0m=\u001b[35m57\u001b[0m \u001b[36mmaxrss\u001b[0m=\u001b[35m657801216\u001b[0m \u001b[36mpath\u001b[0m=\u001b[35moplabs-tools-data-sink/dune/daily_dex_trades_summary_v1/dt=2024-10-09/out.parquet\u001b[0m \u001b[36mprocess\u001b[0m=\u001b[35m44835\u001b[0m \u001b[36mroot\u001b[0m=\u001b[35mdune/daily_dex_trades_summary_v1\u001b[0m \u001b[36mrows\u001b[0m=\u001b[35m5584\u001b[0m \u001b[36msize\u001b[0m=\u001b[35m927435\u001b[0m\n",
      "\u001b[2m2025-03-06 10:16:11\u001b[0m [\u001b[32m\u001b[1minfo     \u001b[0m] \u001b[1mmemory usage                  \u001b[0m \u001b[36mfilename\u001b[0m=\u001b[35mgcs_parquet.py\u001b[0m \u001b[36mlineno\u001b[0m=\u001b[35m65\u001b[0m \u001b[36mmax_rss\u001b[0m=\u001b[35m657.8\u001b[0m \u001b[36mprocess\u001b[0m=\u001b[35m44835\u001b[0m \u001b[36mroot\u001b[0m=\u001b[35mdune/daily_dex_trades_summary_v1\u001b[0m\n",
      "\u001b[2m2025-03-06 10:16:11\u001b[0m [\u001b[32m\u001b[1mdebug    \u001b[0m] \u001b[1mdone writing dune/daily_dex_trades_summary_v1 to GCS\u001b[0m \u001b[36mfilename\u001b[0m=\u001b[35mwritehelper.py\u001b[0m \u001b[36mlineno\u001b[0m=\u001b[35m131\u001b[0m \u001b[36mprocess\u001b[0m=\u001b[35m44835\u001b[0m \u001b[36mroot\u001b[0m=\u001b[35mdune/daily_dex_trades_summary_v1\u001b[0m\n",
      "\u001b[2m2025-03-06 10:16:11\u001b[0m [\u001b[32m\u001b[1minfo     \u001b[0m] \u001b[1mdone writing 5.5Krows 914.0KB \u001b[0m \u001b[36mfilename\u001b[0m=\u001b[35mgcs_parquet.py\u001b[0m \u001b[36mlineno\u001b[0m=\u001b[35m57\u001b[0m \u001b[36mmaxrss\u001b[0m=\u001b[35m659030016\u001b[0m \u001b[36mpath\u001b[0m=\u001b[35moplabs-tools-data-sink/dune/daily_dex_trades_summary_v1/dt=2024-10-10/out.parquet\u001b[0m \u001b[36mprocess\u001b[0m=\u001b[35m44835\u001b[0m \u001b[36mroot\u001b[0m=\u001b[35mdune/daily_dex_trades_summary_v1\u001b[0m \u001b[36mrows\u001b[0m=\u001b[35m5524\u001b[0m \u001b[36msize\u001b[0m=\u001b[35m914042\u001b[0m\n",
      "\u001b[2m2025-03-06 10:16:11\u001b[0m [\u001b[32m\u001b[1minfo     \u001b[0m] \u001b[1mmemory usage                  \u001b[0m \u001b[36mfilename\u001b[0m=\u001b[35mgcs_parquet.py\u001b[0m \u001b[36mlineno\u001b[0m=\u001b[35m65\u001b[0m \u001b[36mmax_rss\u001b[0m=\u001b[35m659.03\u001b[0m \u001b[36mprocess\u001b[0m=\u001b[35m44835\u001b[0m \u001b[36mroot\u001b[0m=\u001b[35mdune/daily_dex_trades_summary_v1\u001b[0m\n",
      "\u001b[2m2025-03-06 10:16:12\u001b[0m [\u001b[32m\u001b[1mdebug    \u001b[0m] \u001b[1mdone writing dune/daily_dex_trades_summary_v1 to GCS\u001b[0m \u001b[36mfilename\u001b[0m=\u001b[35mwritehelper.py\u001b[0m \u001b[36mlineno\u001b[0m=\u001b[35m131\u001b[0m \u001b[36mprocess\u001b[0m=\u001b[35m44835\u001b[0m \u001b[36mroot\u001b[0m=\u001b[35mdune/daily_dex_trades_summary_v1\u001b[0m\n"
     ]
    }
   ],
   "source": [
    "# Backfill the results\n",
    "\n",
    "from op_analytics.coreutils.partitioned.dailydatawrite import write_to_prod\n",
    "from op_analytics.datasources.dune.dextrades import execute_pull\n",
    "\n",
    "\n",
    "backfill = [\n",
    "    (\"2024-10-01\", \"2024-10-10\"),\n",
    "    # (\"2024-11-01\", \"2024-12-01\"),\n",
    "    # (\"2024-12-01\", \"2025-01-01\"),\n",
    "]\n",
    "\n",
    "with write_to_prod():\n",
    "    for d0, d1 in backfill:\n",
    "        execute_pull(min_dt=d0, max_dt=d1)\n",
    "    "
   ]
  },
  {
   "cell_type": "code",
   "execution_count": null,
   "metadata": {},
   "outputs": [
    {
     "name": "stdout",
     "output_type": "stream",
     "text": [
      "\u001b[2m2025-03-06 09:44:42\u001b[0m [\u001b[32m\u001b[1minfo     \u001b[0m] \u001b[1mloaded vault from .env file   \u001b[0m \u001b[36mfilename\u001b[0m=\u001b[35mvault.py\u001b[0m \u001b[36mlineno\u001b[0m=\u001b[35m32\u001b[0m \u001b[36mprocess\u001b[0m=\u001b[35m39845\u001b[0m\n",
      "\u001b[2m2025-03-06 09:44:42\u001b[0m [\u001b[32m\u001b[1mdebug    \u001b[0m] \u001b[1mloaded vault: 20 items        \u001b[0m \u001b[36mfilename\u001b[0m=\u001b[35mvault.py\u001b[0m \u001b[36mlineno\u001b[0m=\u001b[35m79\u001b[0m \u001b[36mprocess\u001b[0m=\u001b[35m39845\u001b[0m\n",
      "getting results, query_id = 4724100\n"
     ]
    }
   ],
   "source": [
    "# Test that we can fetch the data.\n",
    "\n",
    "from op_analytics.datasources.dune.dextrades import DuneDexTradesSummary\n",
    "\n",
    "result = DuneDexTradesSummary.fetch()"
   ]
  },
  {
   "cell_type": "code",
   "execution_count": 2,
   "metadata": {},
   "outputs": [
    {
     "data": {
      "text/html": [
       "<div><style>\n",
       ".dataframe > thead > tr,\n",
       ".dataframe > tbody > tr {\n",
       "  text-align: right;\n",
       "  white-space: pre-wrap;\n",
       "}\n",
       "</style>\n",
       "<small>shape: (55_237, 27)</small><table border=\"1\" class=\"dataframe\"><thead><tr><th>blockchain</th><th>project</th><th>version</th><th>token_pair_address_id</th><th>token_bought_address</th><th>token_sold_address</th><th>token_bought_symbol</th><th>token_sold_symbol</th><th>token_pair</th><th>sum_token_bought_amount</th><th>sum_token_bought_amount_raw</th><th>avg_swap_token_bought_amount</th><th>avg_swap_token_bought_amount_raw</th><th>med_swap_sum_token_bought_amount</th><th>med_swap_token_bought_amount_raw</th><th>sum_token_sold_amount</th><th>sum_token_sold_amount_raw</th><th>avg_swap_token_sold_amount</th><th>avg_swap_token_sold_amount_raw</th><th>med_swap_token_sold_amount</th><th>med_swap_token_sold_amount_raw</th><th>sum_amount_usd</th><th>avg_swap_amount_usd</th><th>med_swap_amount_usd</th><th>count_swaps</th><th>count_transactions</th><th>dt</th></tr><tr><td>str</td><td>str</td><td>str</td><td>str</td><td>str</td><td>str</td><td>str</td><td>str</td><td>str</td><td>f64</td><td>str</td><td>f64</td><td>f64</td><td>f64</td><td>f64</td><td>f64</td><td>str</td><td>f64</td><td>f64</td><td>f64</td><td>f64</td><td>f64</td><td>f64</td><td>f64</td><td>i64</td><td>i64</td><td>str</td></tr></thead><tbody><tr><td>&quot;bnb&quot;</td><td>&quot;pancakeswap&quot;</td><td>&quot;2&quot;</td><td>&quot;0x55d398326f99059ff77548524699…</td><td>&quot;0x55d398326f99059ff77548524699…</td><td>&quot;0x7b32a83d5bc64e9545b4deb8da64…</td><td>&quot;USDT&quot;</td><td>&quot;COIN&quot;</td><td>&quot;COIN-USDT&quot;</td><td>1.1954e8</td><td>&quot;119540054153005347424710603&quot;</td><td>82158.11282</td><td>8.2158e22</td><td>13056.982142</td><td>1.3057e22</td><td>1.5935e15</td><td>&quot;159351025595180172479062833694…</td><td>1.0952e12</td><td>1.0952e30</td><td>51454.356735</td><td>5.1454e22</td><td>1.1957e8</td><td>82176.237679</td><td>13061.59846</td><td>1455</td><td>1406</td><td>&quot;2025-03-06&quot;</td></tr><tr><td>&quot;bnb&quot;</td><td>&quot;pancakeswap&quot;</td><td>&quot;2&quot;</td><td>&quot;0x7b32a83d5bc64e9545b4deb8da64…</td><td>&quot;0x7b32a83d5bc64e9545b4deb8da64…</td><td>&quot;0x55d398326f99059ff77548524699…</td><td>&quot;COIN&quot;</td><td>&quot;USDT&quot;</td><td>&quot;COIN-USDT&quot;</td><td>5.2809e14</td><td>&quot;528085786847592269067993951952…</td><td>3.2044e11</td><td>3.2044e29</td><td>50086.097776</td><td>5.0086e22</td><td>1.1953e8</td><td>&quot;119530054158358452646533524&quot;</td><td>72530.372669</td><td>7.2530e22</td><td>11894.071224</td><td>1.1894e22</td><td>1.1956e8</td><td>72546.265884</td><td>11897.895772</td><td>1648</td><td>1599</td><td>&quot;2025-03-06&quot;</td></tr><tr><td>&quot;bnb&quot;</td><td>&quot;pancakeswap&quot;</td><td>&quot;2&quot;</td><td>&quot;0xe57a9362b782b0e73ee138ceeabe…</td><td>&quot;0xe57a9362b782b0e73ee138ceeabe…</td><td>&quot;0x55d398326f99059ff77548524699…</td><td>null</td><td>&quot;USDT&quot;</td><td>null</td><td>null</td><td>&quot;23048835507752576114819087153&quot;</td><td>null</td><td>6.6043e25</td><td>null</td><td>3.9893e21</td><td>1.0073e8</td><td>&quot;100727114760390691796032616&quot;</td><td>288616.374672</td><td>2.8862e23</td><td>0.1</td><td>1.0000e17</td><td>1.0080e8</td><td>288820.097775</td><td>0.100071</td><td>349</td><td>300</td><td>&quot;2025-03-06&quot;</td></tr><tr><td>&quot;bnb&quot;</td><td>&quot;pancakeswap&quot;</td><td>&quot;2&quot;</td><td>&quot;0x55d398326f99059ff77548524699…</td><td>&quot;0x55d398326f99059ff77548524699…</td><td>&quot;0xe57a9362b782b0e73ee138ceeabe…</td><td>&quot;USDT&quot;</td><td>null</td><td>null</td><td>1.0029e8</td><td>&quot;100293216705450892000000000&quot;</td><td>318391.164144</td><td>3.1839e23</td><td>0.1</td><td>1.0000e17</td><td>null</td><td>&quot;22660521779648464813948530925&quot;</td><td>null</td><td>7.1938e25</td><td>null</td><td>4.0091e21</td><td>1.0036e8</td><td>318616.000949</td><td>0.100071</td><td>315</td><td>266</td><td>&quot;2025-03-06&quot;</td></tr><tr><td>&quot;base&quot;</td><td>&quot;aerodrome&quot;</td><td>&quot;slipstream&quot;</td><td>&quot;0x833589fcd6edb6e08f4c7c32d4f7…</td><td>&quot;0x833589fcd6edb6e08f4c7c32d4f7…</td><td>&quot;0x4200000000000000000000000000…</td><td>&quot;USDC&quot;</td><td>&quot;WETH&quot;</td><td>&quot;USDC-WETH&quot;</td><td>6.1481e7</td><td>&quot;61480574819856&quot;</td><td>8844.853233</td><td>8.8449e9</td><td>3407.547893</td><td>3.4075e9</td><td>26945.682453</td><td>&quot;26945682452820766496189&quot;</td><td>3.876519</td><td>3.8765e18</td><td>1.494441</td><td>1.4944e18</td><td>6.1493e7</td><td>8846.676161</td><td>3407.401997</td><td>6951</td><td>6894</td><td>&quot;2025-03-06&quot;</td></tr><tr><td>&hellip;</td><td>&hellip;</td><td>&hellip;</td><td>&hellip;</td><td>&hellip;</td><td>&hellip;</td><td>&hellip;</td><td>&hellip;</td><td>&hellip;</td><td>&hellip;</td><td>&hellip;</td><td>&hellip;</td><td>&hellip;</td><td>&hellip;</td><td>&hellip;</td><td>&hellip;</td><td>&hellip;</td><td>&hellip;</td><td>&hellip;</td><td>&hellip;</td><td>&hellip;</td><td>&hellip;</td><td>&hellip;</td><td>&hellip;</td><td>&hellip;</td><td>&hellip;</td><td>&hellip;</td></tr><tr><td>&quot;berachain&quot;</td><td>&quot;burrbear&quot;</td><td>&quot;1&quot;</td><td>&quot;0xd77552d3849ab4d8c3b189a9582d…</td><td>&quot;0xd77552d3849ab4d8c3b189a9582d…</td><td>&quot;0x1ce0a25d13ce4d52071ae7e02cf1…</td><td>&quot;wgBERA&quot;</td><td>null</td><td>null</td><td>3271.350678</td><td>&quot;3271350677529962314591&quot;</td><td>4.068844</td><td>4.0688e18</td><td>2.805086</td><td>2.8051e18</td><td>null</td><td>&quot;24175819287319539511646&quot;</td><td>null</td><td>3.0069e19</td><td>null</td><td>2.0663e19</td><td>null</td><td>null</td><td>null</td><td>804</td><td>804</td><td>&quot;2025-02-27&quot;</td></tr><tr><td>&quot;bnb&quot;</td><td>&quot;pancakeswap&quot;</td><td>&quot;2&quot;</td><td>&quot;0x7008ed7fdfa1fd5be00cd5c1ca8c…</td><td>&quot;0x7008ed7fdfa1fd5be00cd5c1ca8c…</td><td>&quot;0x9756b9da0ec60119e50465be9a26…</td><td>&quot;YES&quot;</td><td>&quot;FIST-family&quot;</td><td>&quot;FIST-family-YES&quot;</td><td>560558.319388</td><td>&quot;560558319388368580146155&quot;</td><td>4214.724206</td><td>4.2147e21</td><td>3187.450933</td><td>3.1875e21</td><td>1174.51241</td><td>&quot;1174512410286624609775&quot;</td><td>8.83092</td><td>8.8309e18</td><td>6.701339</td><td>6.7013e18</td><td>null</td><td>null</td><td>null</td><td>133</td><td>133</td><td>&quot;2025-02-27&quot;</td></tr><tr><td>&quot;base&quot;</td><td>&quot;uniswap&quot;</td><td>&quot;3&quot;</td><td>&quot;0x333333c465a19c85f85c6cfbed7b…</td><td>&quot;0x333333c465a19c85f85c6cfbed7b…</td><td>&quot;0x0cfdc3d046be72e354a526ed3dc7…</td><td>&quot;ORA&quot;</td><td>&quot;HAI&quot;</td><td>&quot;HAI-ORA&quot;</td><td>65688.322399</td><td>&quot;65688322399015159793889&quot;</td><td>103.773021</td><td>1.0377e20</td><td>5.551394</td><td>5.5514e18</td><td>3.3882e7</td><td>&quot;33882224551129359541164913&quot;</td><td>53526.421092</td><td>5.3526e22</td><td>2777.378323</td><td>2.7774e21</td><td>null</td><td>null</td><td>null</td><td>633</td><td>633</td><td>&quot;2025-02-27&quot;</td></tr><tr><td>&quot;bnb&quot;</td><td>&quot;pancakeswap&quot;</td><td>&quot;2&quot;</td><td>&quot;0xb299d5bdf3c17d14aafb305f97b1…</td><td>&quot;0xb299d5bdf3c17d14aafb305f97b1…</td><td>&quot;0x08ce6a169dde55faf99669344626…</td><td>&quot;Dimei&quot;</td><td>null</td><td>null</td><td>1480.714807</td><td>&quot;1480714806539459231893&quot;</td><td>5.288267</td><td>5.2883e18</td><td>3.050542</td><td>3.0505e18</td><td>null</td><td>&quot;70773037401505284525554&quot;</td><td>null</td><td>2.5276e20</td><td>null</td><td>1.4699e20</td><td>null</td><td>null</td><td>null</td><td>280</td><td>280</td><td>&quot;2025-02-27&quot;</td></tr><tr><td>&quot;berachain&quot;</td><td>&quot;kodiak&quot;</td><td>&quot;3&quot;</td><td>&quot;0xcc0966d8418d412c599a6421b760…</td><td>&quot;0xcc0966d8418d412c599a6421b760…</td><td>&quot;0x541fd749419ca806a8bc7da8ac23…</td><td>null</td><td>null</td><td>null</td><td>null</td><td>&quot;102175435884390&quot;</td><td>null</td><td>4.8888e11</td><td>null</td><td>4.3923e11</td><td>null</td><td>&quot;101689049749515&quot;</td><td>null</td><td>4.8655e11</td><td>null</td><td>4.3714e11</td><td>null</td><td>null</td><td>null</td><td>209</td><td>209</td><td>&quot;2025-02-27&quot;</td></tr></tbody></table></div>"
      ],
      "text/plain": [
       "shape: (55_237, 27)\n",
       "┌───────────┬───────────┬───────────┬───────────┬───┬───────────┬───────────┬───────────┬──────────┐\n",
       "│ blockchai ┆ project   ┆ version   ┆ token_pai ┆ … ┆ med_swap_ ┆ count_swa ┆ count_tra ┆ dt       │\n",
       "│ n         ┆ ---       ┆ ---       ┆ r_address ┆   ┆ amount_us ┆ ps        ┆ nsactions ┆ ---      │\n",
       "│ ---       ┆ str       ┆ str       ┆ _id       ┆   ┆ d         ┆ ---       ┆ ---       ┆ str      │\n",
       "│ str       ┆           ┆           ┆ ---       ┆   ┆ ---       ┆ i64       ┆ i64       ┆          │\n",
       "│           ┆           ┆           ┆ str       ┆   ┆ f64       ┆           ┆           ┆          │\n",
       "╞═══════════╪═══════════╪═══════════╪═══════════╪═══╪═══════════╪═══════════╪═══════════╪══════════╡\n",
       "│ bnb       ┆ pancakesw ┆ 2         ┆ 0x55d3983 ┆ … ┆ 13061.598 ┆ 1455      ┆ 1406      ┆ 2025-03- │\n",
       "│           ┆ ap        ┆           ┆ 26f99059f ┆   ┆ 46        ┆           ┆           ┆ 06       │\n",
       "│           ┆           ┆           ┆ f77548524 ┆   ┆           ┆           ┆           ┆          │\n",
       "│           ┆           ┆           ┆ 699…      ┆   ┆           ┆           ┆           ┆          │\n",
       "│ bnb       ┆ pancakesw ┆ 2         ┆ 0x7b32a83 ┆ … ┆ 11897.895 ┆ 1648      ┆ 1599      ┆ 2025-03- │\n",
       "│           ┆ ap        ┆           ┆ d5bc64e95 ┆   ┆ 772       ┆           ┆           ┆ 06       │\n",
       "│           ┆           ┆           ┆ 45b4deb8d ┆   ┆           ┆           ┆           ┆          │\n",
       "│           ┆           ┆           ┆ a64…      ┆   ┆           ┆           ┆           ┆          │\n",
       "│ bnb       ┆ pancakesw ┆ 2         ┆ 0xe57a936 ┆ … ┆ 0.100071  ┆ 349       ┆ 300       ┆ 2025-03- │\n",
       "│           ┆ ap        ┆           ┆ 2b782b0e7 ┆   ┆           ┆           ┆           ┆ 06       │\n",
       "│           ┆           ┆           ┆ 3ee138cee ┆   ┆           ┆           ┆           ┆          │\n",
       "│           ┆           ┆           ┆ abe…      ┆   ┆           ┆           ┆           ┆          │\n",
       "│ bnb       ┆ pancakesw ┆ 2         ┆ 0x55d3983 ┆ … ┆ 0.100071  ┆ 315       ┆ 266       ┆ 2025-03- │\n",
       "│           ┆ ap        ┆           ┆ 26f99059f ┆   ┆           ┆           ┆           ┆ 06       │\n",
       "│           ┆           ┆           ┆ f77548524 ┆   ┆           ┆           ┆           ┆          │\n",
       "│           ┆           ┆           ┆ 699…      ┆   ┆           ┆           ┆           ┆          │\n",
       "│ base      ┆ aerodrome ┆ slipstrea ┆ 0x833589f ┆ … ┆ 3407.4019 ┆ 6951      ┆ 6894      ┆ 2025-03- │\n",
       "│           ┆           ┆ m         ┆ cd6edb6e0 ┆   ┆ 97        ┆           ┆           ┆ 06       │\n",
       "│           ┆           ┆           ┆ 8f4c7c32d ┆   ┆           ┆           ┆           ┆          │\n",
       "│           ┆           ┆           ┆ 4f7…      ┆   ┆           ┆           ┆           ┆          │\n",
       "│ …         ┆ …         ┆ …         ┆ …         ┆ … ┆ …         ┆ …         ┆ …         ┆ …        │\n",
       "│ berachain ┆ burrbear  ┆ 1         ┆ 0xd77552d ┆ … ┆ null      ┆ 804       ┆ 804       ┆ 2025-02- │\n",
       "│           ┆           ┆           ┆ 3849ab4d8 ┆   ┆           ┆           ┆           ┆ 27       │\n",
       "│           ┆           ┆           ┆ c3b189a95 ┆   ┆           ┆           ┆           ┆          │\n",
       "│           ┆           ┆           ┆ 82d…      ┆   ┆           ┆           ┆           ┆          │\n",
       "│ bnb       ┆ pancakesw ┆ 2         ┆ 0x7008ed7 ┆ … ┆ null      ┆ 133       ┆ 133       ┆ 2025-02- │\n",
       "│           ┆ ap        ┆           ┆ fdfa1fd5b ┆   ┆           ┆           ┆           ┆ 27       │\n",
       "│           ┆           ┆           ┆ e00cd5c1c ┆   ┆           ┆           ┆           ┆          │\n",
       "│           ┆           ┆           ┆ a8c…      ┆   ┆           ┆           ┆           ┆          │\n",
       "│ base      ┆ uniswap   ┆ 3         ┆ 0x333333c ┆ … ┆ null      ┆ 633       ┆ 633       ┆ 2025-02- │\n",
       "│           ┆           ┆           ┆ 465a19c85 ┆   ┆           ┆           ┆           ┆ 27       │\n",
       "│           ┆           ┆           ┆ f85c6cfbe ┆   ┆           ┆           ┆           ┆          │\n",
       "│           ┆           ┆           ┆ d7b…      ┆   ┆           ┆           ┆           ┆          │\n",
       "│ bnb       ┆ pancakesw ┆ 2         ┆ 0xb299d5b ┆ … ┆ null      ┆ 280       ┆ 280       ┆ 2025-02- │\n",
       "│           ┆ ap        ┆           ┆ df3c17d14 ┆   ┆           ┆           ┆           ┆ 27       │\n",
       "│           ┆           ┆           ┆ aafb305f9 ┆   ┆           ┆           ┆           ┆          │\n",
       "│           ┆           ┆           ┆ 7b1…      ┆   ┆           ┆           ┆           ┆          │\n",
       "│ berachain ┆ kodiak    ┆ 3         ┆ 0xcc0966d ┆ … ┆ null      ┆ 209       ┆ 209       ┆ 2025-02- │\n",
       "│           ┆           ┆           ┆ 8418d412c ┆   ┆           ┆           ┆           ┆ 27       │\n",
       "│           ┆           ┆           ┆ 599a6421b ┆   ┆           ┆           ┆           ┆          │\n",
       "│           ┆           ┆           ┆ 760…      ┆   ┆           ┆           ┆           ┆          │\n",
       "└───────────┴───────────┴───────────┴───────────┴───┴───────────┴───────────┴───────────┴──────────┘"
      ]
     },
     "execution_count": 2,
     "metadata": {},
     "output_type": "execute_result"
    }
   ],
   "source": [
    "result.df"
   ]
  },
  {
   "cell_type": "code",
   "execution_count": null,
   "metadata": {},
   "outputs": [
    {
     "name": "stdout",
     "output_type": "stream",
     "text": [
      "\u001b[2m2025-03-06 09:45:01\u001b[0m [\u001b[32m\u001b[1minfo     \u001b[0m] \u001b[1mdone writing 7.0Krows 1.1MB   \u001b[0m \u001b[36mfilename\u001b[0m=\u001b[35mgcs_parquet.py\u001b[0m \u001b[36mlineno\u001b[0m=\u001b[35m57\u001b[0m \u001b[36mmaxrss\u001b[0m=\u001b[35m699793408\u001b[0m \u001b[36mpath\u001b[0m=\u001b[35m/Users/pedro/github/ethereum-optimism/op-analytics-alt/ozone/warehouse/dune/daily_dex_trades_summary_v1/dt=2025-02-27/out.parquet\u001b[0m \u001b[36mprocess\u001b[0m=\u001b[35m39845\u001b[0m \u001b[36mroot\u001b[0m=\u001b[35mdune/daily_dex_trades_summary_v1\u001b[0m \u001b[36mrows\u001b[0m=\u001b[35m7009\u001b[0m \u001b[36msize\u001b[0m=\u001b[35m1138250\u001b[0m\n",
      "\u001b[2m2025-03-06 09:45:01\u001b[0m [\u001b[32m\u001b[1minfo     \u001b[0m] \u001b[1mmemory usage                  \u001b[0m \u001b[36mfilename\u001b[0m=\u001b[35mgcs_parquet.py\u001b[0m \u001b[36mlineno\u001b[0m=\u001b[35m65\u001b[0m \u001b[36mmax_rss\u001b[0m=\u001b[35m699.79\u001b[0m \u001b[36mprocess\u001b[0m=\u001b[35m39845\u001b[0m \u001b[36mroot\u001b[0m=\u001b[35mdune/daily_dex_trades_summary_v1\u001b[0m\n"
     ]
    },
    {
     "name": "stdout",
     "output_type": "stream",
     "text": [
      "\u001b[2m2025-03-06 09:45:01\u001b[0m [\u001b[32m\u001b[1mdebug    \u001b[0m] \u001b[1mdone writing dune/daily_dex_trades_summary_v1 to LOCAL\u001b[0m \u001b[36mfilename\u001b[0m=\u001b[35mwritehelper.py\u001b[0m \u001b[36mlineno\u001b[0m=\u001b[35m131\u001b[0m \u001b[36mprocess\u001b[0m=\u001b[35m39845\u001b[0m \u001b[36mroot\u001b[0m=\u001b[35mdune/daily_dex_trades_summary_v1\u001b[0m\n",
      "\u001b[2m2025-03-06 09:45:01\u001b[0m [\u001b[32m\u001b[1minfo     \u001b[0m] \u001b[1mdone writing 7.8Krows 1.3MB   \u001b[0m \u001b[36mfilename\u001b[0m=\u001b[35mgcs_parquet.py\u001b[0m \u001b[36mlineno\u001b[0m=\u001b[35m57\u001b[0m \u001b[36mmaxrss\u001b[0m=\u001b[35m699793408\u001b[0m \u001b[36mpath\u001b[0m=\u001b[35m/Users/pedro/github/ethereum-optimism/op-analytics-alt/ozone/warehouse/dune/daily_dex_trades_summary_v1/dt=2025-02-28/out.parquet\u001b[0m \u001b[36mprocess\u001b[0m=\u001b[35m39845\u001b[0m \u001b[36mroot\u001b[0m=\u001b[35mdune/daily_dex_trades_summary_v1\u001b[0m \u001b[36mrows\u001b[0m=\u001b[35m7786\u001b[0m \u001b[36msize\u001b[0m=\u001b[35m1251895\u001b[0m\n",
      "\u001b[2m2025-03-06 09:45:01\u001b[0m [\u001b[32m\u001b[1minfo     \u001b[0m] \u001b[1mmemory usage                  \u001b[0m \u001b[36mfilename\u001b[0m=\u001b[35mgcs_parquet.py\u001b[0m \u001b[36mlineno\u001b[0m=\u001b[35m65\u001b[0m \u001b[36mmax_rss\u001b[0m=\u001b[35m699.79\u001b[0m \u001b[36mprocess\u001b[0m=\u001b[35m39845\u001b[0m \u001b[36mroot\u001b[0m=\u001b[35mdune/daily_dex_trades_summary_v1\u001b[0m\n",
      "\u001b[2m2025-03-06 09:45:01\u001b[0m [\u001b[32m\u001b[1mdebug    \u001b[0m] \u001b[1mdone writing dune/daily_dex_trades_summary_v1 to LOCAL\u001b[0m \u001b[36mfilename\u001b[0m=\u001b[35mwritehelper.py\u001b[0m \u001b[36mlineno\u001b[0m=\u001b[35m131\u001b[0m \u001b[36mprocess\u001b[0m=\u001b[35m39845\u001b[0m \u001b[36mroot\u001b[0m=\u001b[35mdune/daily_dex_trades_summary_v1\u001b[0m\n",
      "\u001b[2m2025-03-06 09:45:01\u001b[0m [\u001b[32m\u001b[1minfo     \u001b[0m] \u001b[1mdone writing 6.3Krows 1.0MB   \u001b[0m \u001b[36mfilename\u001b[0m=\u001b[35mgcs_parquet.py\u001b[0m \u001b[36mlineno\u001b[0m=\u001b[35m57\u001b[0m \u001b[36mmaxrss\u001b[0m=\u001b[35m699793408\u001b[0m \u001b[36mpath\u001b[0m=\u001b[35m/Users/pedro/github/ethereum-optimism/op-analytics-alt/ozone/warehouse/dune/daily_dex_trades_summary_v1/dt=2025-03-01/out.parquet\u001b[0m \u001b[36mprocess\u001b[0m=\u001b[35m39845\u001b[0m \u001b[36mroot\u001b[0m=\u001b[35mdune/daily_dex_trades_summary_v1\u001b[0m \u001b[36mrows\u001b[0m=\u001b[35m6256\u001b[0m \u001b[36msize\u001b[0m=\u001b[35m1019560\u001b[0m\n",
      "\u001b[2m2025-03-06 09:45:01\u001b[0m [\u001b[32m\u001b[1minfo     \u001b[0m] \u001b[1mmemory usage                  \u001b[0m \u001b[36mfilename\u001b[0m=\u001b[35mgcs_parquet.py\u001b[0m \u001b[36mlineno\u001b[0m=\u001b[35m65\u001b[0m \u001b[36mmax_rss\u001b[0m=\u001b[35m699.79\u001b[0m \u001b[36mprocess\u001b[0m=\u001b[35m39845\u001b[0m \u001b[36mroot\u001b[0m=\u001b[35mdune/daily_dex_trades_summary_v1\u001b[0m\n",
      "\u001b[2m2025-03-06 09:45:01\u001b[0m [\u001b[32m\u001b[1mdebug    \u001b[0m] \u001b[1mdone writing dune/daily_dex_trades_summary_v1 to LOCAL\u001b[0m \u001b[36mfilename\u001b[0m=\u001b[35mwritehelper.py\u001b[0m \u001b[36mlineno\u001b[0m=\u001b[35m131\u001b[0m \u001b[36mprocess\u001b[0m=\u001b[35m39845\u001b[0m \u001b[36mroot\u001b[0m=\u001b[35mdune/daily_dex_trades_summary_v1\u001b[0m\n",
      "\u001b[2m2025-03-06 09:45:01\u001b[0m [\u001b[32m\u001b[1minfo     \u001b[0m] \u001b[1mdone writing 7.3Krows 1.2MB   \u001b[0m \u001b[36mfilename\u001b[0m=\u001b[35mgcs_parquet.py\u001b[0m \u001b[36mlineno\u001b[0m=\u001b[35m57\u001b[0m \u001b[36mmaxrss\u001b[0m=\u001b[35m699793408\u001b[0m \u001b[36mpath\u001b[0m=\u001b[35m/Users/pedro/github/ethereum-optimism/op-analytics-alt/ozone/warehouse/dune/daily_dex_trades_summary_v1/dt=2025-03-02/out.parquet\u001b[0m \u001b[36mprocess\u001b[0m=\u001b[35m39845\u001b[0m \u001b[36mroot\u001b[0m=\u001b[35mdune/daily_dex_trades_summary_v1\u001b[0m \u001b[36mrows\u001b[0m=\u001b[35m7283\u001b[0m \u001b[36msize\u001b[0m=\u001b[35m1177121\u001b[0m\n",
      "\u001b[2m2025-03-06 09:45:01\u001b[0m [\u001b[32m\u001b[1minfo     \u001b[0m] \u001b[1mmemory usage                  \u001b[0m \u001b[36mfilename\u001b[0m=\u001b[35mgcs_parquet.py\u001b[0m \u001b[36mlineno\u001b[0m=\u001b[35m65\u001b[0m \u001b[36mmax_rss\u001b[0m=\u001b[35m699.79\u001b[0m \u001b[36mprocess\u001b[0m=\u001b[35m39845\u001b[0m \u001b[36mroot\u001b[0m=\u001b[35mdune/daily_dex_trades_summary_v1\u001b[0m\n",
      "\u001b[2m2025-03-06 09:45:01\u001b[0m [\u001b[32m\u001b[1mdebug    \u001b[0m] \u001b[1mdone writing dune/daily_dex_trades_summary_v1 to LOCAL\u001b[0m \u001b[36mfilename\u001b[0m=\u001b[35mwritehelper.py\u001b[0m \u001b[36mlineno\u001b[0m=\u001b[35m131\u001b[0m \u001b[36mprocess\u001b[0m=\u001b[35m39845\u001b[0m \u001b[36mroot\u001b[0m=\u001b[35mdune/daily_dex_trades_summary_v1\u001b[0m\n",
      "\u001b[2m2025-03-06 09:45:01\u001b[0m [\u001b[32m\u001b[1minfo     \u001b[0m] \u001b[1mdone writing 7.6Krows 1.2MB   \u001b[0m \u001b[36mfilename\u001b[0m=\u001b[35mgcs_parquet.py\u001b[0m \u001b[36mlineno\u001b[0m=\u001b[35m57\u001b[0m \u001b[36mmaxrss\u001b[0m=\u001b[35m699793408\u001b[0m \u001b[36mpath\u001b[0m=\u001b[35m/Users/pedro/github/ethereum-optimism/op-analytics-alt/ozone/warehouse/dune/daily_dex_trades_summary_v1/dt=2025-03-03/out.parquet\u001b[0m \u001b[36mprocess\u001b[0m=\u001b[35m39845\u001b[0m \u001b[36mroot\u001b[0m=\u001b[35mdune/daily_dex_trades_summary_v1\u001b[0m \u001b[36mrows\u001b[0m=\u001b[35m7632\u001b[0m \u001b[36msize\u001b[0m=\u001b[35m1233359\u001b[0m\n",
      "\u001b[2m2025-03-06 09:45:01\u001b[0m [\u001b[32m\u001b[1minfo     \u001b[0m] \u001b[1mmemory usage                  \u001b[0m \u001b[36mfilename\u001b[0m=\u001b[35mgcs_parquet.py\u001b[0m \u001b[36mlineno\u001b[0m=\u001b[35m65\u001b[0m \u001b[36mmax_rss\u001b[0m=\u001b[35m699.79\u001b[0m \u001b[36mprocess\u001b[0m=\u001b[35m39845\u001b[0m \u001b[36mroot\u001b[0m=\u001b[35mdune/daily_dex_trades_summary_v1\u001b[0m\n",
      "\u001b[2m2025-03-06 09:45:01\u001b[0m [\u001b[32m\u001b[1mdebug    \u001b[0m] \u001b[1mdone writing dune/daily_dex_trades_summary_v1 to LOCAL\u001b[0m \u001b[36mfilename\u001b[0m=\u001b[35mwritehelper.py\u001b[0m \u001b[36mlineno\u001b[0m=\u001b[35m131\u001b[0m \u001b[36mprocess\u001b[0m=\u001b[35m39845\u001b[0m \u001b[36mroot\u001b[0m=\u001b[35mdune/daily_dex_trades_summary_v1\u001b[0m\n",
      "\u001b[2m2025-03-06 09:45:01\u001b[0m [\u001b[32m\u001b[1minfo     \u001b[0m] \u001b[1mdone writing 8.0Krows 1.3MB   \u001b[0m \u001b[36mfilename\u001b[0m=\u001b[35mgcs_parquet.py\u001b[0m \u001b[36mlineno\u001b[0m=\u001b[35m57\u001b[0m \u001b[36mmaxrss\u001b[0m=\u001b[35m699793408\u001b[0m \u001b[36mpath\u001b[0m=\u001b[35m/Users/pedro/github/ethereum-optimism/op-analytics-alt/ozone/warehouse/dune/daily_dex_trades_summary_v1/dt=2025-03-04/out.parquet\u001b[0m \u001b[36mprocess\u001b[0m=\u001b[35m39845\u001b[0m \u001b[36mroot\u001b[0m=\u001b[35mdune/daily_dex_trades_summary_v1\u001b[0m \u001b[36mrows\u001b[0m=\u001b[35m8044\u001b[0m \u001b[36msize\u001b[0m=\u001b[35m1290512\u001b[0m\n",
      "\u001b[2m2025-03-06 09:45:01\u001b[0m [\u001b[32m\u001b[1minfo     \u001b[0m] \u001b[1mmemory usage                  \u001b[0m \u001b[36mfilename\u001b[0m=\u001b[35mgcs_parquet.py\u001b[0m \u001b[36mlineno\u001b[0m=\u001b[35m65\u001b[0m \u001b[36mmax_rss\u001b[0m=\u001b[35m699.79\u001b[0m \u001b[36mprocess\u001b[0m=\u001b[35m39845\u001b[0m \u001b[36mroot\u001b[0m=\u001b[35mdune/daily_dex_trades_summary_v1\u001b[0m\n",
      "\u001b[2m2025-03-06 09:45:01\u001b[0m [\u001b[32m\u001b[1mdebug    \u001b[0m] \u001b[1mdone writing dune/daily_dex_trades_summary_v1 to LOCAL\u001b[0m \u001b[36mfilename\u001b[0m=\u001b[35mwritehelper.py\u001b[0m \u001b[36mlineno\u001b[0m=\u001b[35m131\u001b[0m \u001b[36mprocess\u001b[0m=\u001b[35m39845\u001b[0m \u001b[36mroot\u001b[0m=\u001b[35mdune/daily_dex_trades_summary_v1\u001b[0m\n",
      "\u001b[2m2025-03-06 09:45:01\u001b[0m [\u001b[32m\u001b[1minfo     \u001b[0m] \u001b[1mdone writing 6.9Krows 1.1MB   \u001b[0m \u001b[36mfilename\u001b[0m=\u001b[35mgcs_parquet.py\u001b[0m \u001b[36mlineno\u001b[0m=\u001b[35m57\u001b[0m \u001b[36mmaxrss\u001b[0m=\u001b[35m699793408\u001b[0m \u001b[36mpath\u001b[0m=\u001b[35m/Users/pedro/github/ethereum-optimism/op-analytics-alt/ozone/warehouse/dune/daily_dex_trades_summary_v1/dt=2025-03-05/out.parquet\u001b[0m \u001b[36mprocess\u001b[0m=\u001b[35m39845\u001b[0m \u001b[36mroot\u001b[0m=\u001b[35mdune/daily_dex_trades_summary_v1\u001b[0m \u001b[36mrows\u001b[0m=\u001b[35m6869\u001b[0m \u001b[36msize\u001b[0m=\u001b[35m1112723\u001b[0m\n",
      "\u001b[2m2025-03-06 09:45:01\u001b[0m [\u001b[32m\u001b[1minfo     \u001b[0m] \u001b[1mmemory usage                  \u001b[0m \u001b[36mfilename\u001b[0m=\u001b[35mgcs_parquet.py\u001b[0m \u001b[36mlineno\u001b[0m=\u001b[35m65\u001b[0m \u001b[36mmax_rss\u001b[0m=\u001b[35m699.79\u001b[0m \u001b[36mprocess\u001b[0m=\u001b[35m39845\u001b[0m \u001b[36mroot\u001b[0m=\u001b[35mdune/daily_dex_trades_summary_v1\u001b[0m\n",
      "\u001b[2m2025-03-06 09:45:01\u001b[0m [\u001b[32m\u001b[1mdebug    \u001b[0m] \u001b[1mdone writing dune/daily_dex_trades_summary_v1 to LOCAL\u001b[0m \u001b[36mfilename\u001b[0m=\u001b[35mwritehelper.py\u001b[0m \u001b[36mlineno\u001b[0m=\u001b[35m131\u001b[0m \u001b[36mprocess\u001b[0m=\u001b[35m39845\u001b[0m \u001b[36mroot\u001b[0m=\u001b[35mdune/daily_dex_trades_summary_v1\u001b[0m\n",
      "\u001b[2m2025-03-06 09:45:01\u001b[0m [\u001b[32m\u001b[1minfo     \u001b[0m] \u001b[1mdone writing 4.4Krows 698.5KB \u001b[0m \u001b[36mfilename\u001b[0m=\u001b[35mgcs_parquet.py\u001b[0m \u001b[36mlineno\u001b[0m=\u001b[35m57\u001b[0m \u001b[36mmaxrss\u001b[0m=\u001b[35m699793408\u001b[0m \u001b[36mpath\u001b[0m=\u001b[35m/Users/pedro/github/ethereum-optimism/op-analytics-alt/ozone/warehouse/dune/daily_dex_trades_summary_v1/dt=2025-03-06/out.parquet\u001b[0m \u001b[36mprocess\u001b[0m=\u001b[35m39845\u001b[0m \u001b[36mroot\u001b[0m=\u001b[35mdune/daily_dex_trades_summary_v1\u001b[0m \u001b[36mrows\u001b[0m=\u001b[35m4358\u001b[0m \u001b[36msize\u001b[0m=\u001b[35m698544\u001b[0m\n",
      "\u001b[2m2025-03-06 09:45:01\u001b[0m [\u001b[32m\u001b[1minfo     \u001b[0m] \u001b[1mmemory usage                  \u001b[0m \u001b[36mfilename\u001b[0m=\u001b[35mgcs_parquet.py\u001b[0m \u001b[36mlineno\u001b[0m=\u001b[35m65\u001b[0m \u001b[36mmax_rss\u001b[0m=\u001b[35m699.79\u001b[0m \u001b[36mprocess\u001b[0m=\u001b[35m39845\u001b[0m \u001b[36mroot\u001b[0m=\u001b[35mdune/daily_dex_trades_summary_v1\u001b[0m\n",
      "\u001b[2m2025-03-06 09:45:01\u001b[0m [\u001b[32m\u001b[1mdebug    \u001b[0m] \u001b[1mdone writing dune/daily_dex_trades_summary_v1 to LOCAL\u001b[0m \u001b[36mfilename\u001b[0m=\u001b[35mwritehelper.py\u001b[0m \u001b[36mlineno\u001b[0m=\u001b[35m131\u001b[0m \u001b[36mprocess\u001b[0m=\u001b[35m39845\u001b[0m \u001b[36mroot\u001b[0m=\u001b[35mdune/daily_dex_trades_summary_v1\u001b[0m\n"
     ]
    }
   ],
   "source": [
    "# Test writing the data\n",
    "\n",
    "from op_analytics.datasources.dune.dataaccess import Dune\n",
    "\n",
    "Dune.DEX_TRADES.write(\n",
    "    dataframe=result.df,\n",
    "    sort_by=[\"dt\"],\n",
    ")"
   ]
  },
  {
   "cell_type": "code",
   "execution_count": 6,
   "metadata": {},
   "outputs": [
    {
     "name": "stdout",
     "output_type": "stream",
     "text": [
      "\u001b[2m2025-03-06 09:46:47\u001b[0m [\u001b[32m\u001b[1minfo     \u001b[0m] \u001b[1mReading data from 'dune/daily_dex_trades_summary_v1' with filters min_date=2025-02-27, max_date=2025-02-28, date_range_spec=None\u001b[0m \u001b[36mfilename\u001b[0m=\u001b[35mdailydata.py\u001b[0m \u001b[36mlineno\u001b[0m=\u001b[35m94\u001b[0m \u001b[36mprocess\u001b[0m=\u001b[35m39845\u001b[0m\n",
      "\u001b[2m2025-03-06 09:46:47\u001b[0m [\u001b[32m\u001b[1minfo     \u001b[0m] \u001b[1mquerying markers for 'dune/daily_dex_trades_summary_v1' DateFilter(min_date=datetime.date(2025, 2, 27), max_date=datetime.date(2025, 2, 28), datevals=None)\u001b[0m \u001b[36mfilename\u001b[0m=\u001b[35mdailydataread.py\u001b[0m \u001b[36mlineno\u001b[0m=\u001b[35m53\u001b[0m \u001b[36mprocess\u001b[0m=\u001b[35m39845\u001b[0m\n",
      "\u001b[2m2025-03-06 09:46:47\u001b[0m [\u001b[32m\u001b[1minfo     \u001b[0m] \u001b[1m1 markers found               \u001b[0m \u001b[36mfilename\u001b[0m=\u001b[35mdailydataread.py\u001b[0m \u001b[36mlineno\u001b[0m=\u001b[35m31\u001b[0m \u001b[36mmax_dt\u001b[0m=\u001b[35m2025-02-27\u001b[0m \u001b[36mmin_dt\u001b[0m=\u001b[35m2025-02-27\u001b[0m \u001b[36mprocess\u001b[0m=\u001b[35m39845\u001b[0m\n",
      "\u001b[2m2025-03-06 09:46:47\u001b[0m [\u001b[32m\u001b[1minfo     \u001b[0m] \u001b[1m1 distinct paths              \u001b[0m \u001b[36mfilename\u001b[0m=\u001b[35mdailydataread.py\u001b[0m \u001b[36mlineno\u001b[0m=\u001b[35m65\u001b[0m \u001b[36mprocess\u001b[0m=\u001b[35m39845\u001b[0m\n",
      "\u001b[2m2025-03-06 09:46:47\u001b[0m [\u001b[32m\u001b[1minfo     \u001b[0m] \u001b[1mregistered view: 'dune_daily_dex_trades_summary_v1' using 1 parquet paths\u001b[0m \u001b[36mfilename\u001b[0m=\u001b[35mclient.py\u001b[0m \u001b[36mlineno\u001b[0m=\u001b[35m311\u001b[0m \u001b[36mprocess\u001b[0m=\u001b[35m39845\u001b[0m\n",
      "┌──────────────────────────────────┐\n",
      "│               name               │\n",
      "│             varchar              │\n",
      "├──────────────────────────────────┤\n",
      "│ dune_daily_dex_trades_summary_v1 │\n",
      "└──────────────────────────────────┘\n",
      "\n"
     ]
    }
   ],
   "source": [
    "# Test reading back local data.\n",
    "\n",
    "from op_analytics.coreutils.partitioned.location import DataLocation\n",
    "\n",
    "read_df = Dune.DEX_TRADES.read_polars(min_date=\"2025-02-27\", max_date=\"2025-02-28\", location=DataLocation.LOCAL)"
   ]
  },
  {
   "cell_type": "code",
   "execution_count": 7,
   "metadata": {},
   "outputs": [
    {
     "data": {
      "text/html": [
       "<div><style>\n",
       ".dataframe > thead > tr,\n",
       ".dataframe > tbody > tr {\n",
       "  text-align: right;\n",
       "  white-space: pre-wrap;\n",
       "}\n",
       "</style>\n",
       "<small>shape: (7_009, 27)</small><table border=\"1\" class=\"dataframe\"><thead><tr><th>blockchain</th><th>project</th><th>version</th><th>token_pair_address_id</th><th>token_bought_address</th><th>token_sold_address</th><th>token_bought_symbol</th><th>token_sold_symbol</th><th>token_pair</th><th>sum_token_bought_amount</th><th>sum_token_bought_amount_raw</th><th>avg_swap_token_bought_amount</th><th>avg_swap_token_bought_amount_raw</th><th>med_swap_sum_token_bought_amount</th><th>med_swap_token_bought_amount_raw</th><th>sum_token_sold_amount</th><th>sum_token_sold_amount_raw</th><th>avg_swap_token_sold_amount</th><th>avg_swap_token_sold_amount_raw</th><th>med_swap_token_sold_amount</th><th>med_swap_token_sold_amount_raw</th><th>sum_amount_usd</th><th>avg_swap_amount_usd</th><th>med_swap_amount_usd</th><th>count_swaps</th><th>count_transactions</th><th>dt</th></tr><tr><td>str</td><td>str</td><td>str</td><td>str</td><td>str</td><td>str</td><td>str</td><td>str</td><td>str</td><td>f64</td><td>str</td><td>f64</td><td>f64</td><td>f64</td><td>f64</td><td>f64</td><td>str</td><td>f64</td><td>f64</td><td>f64</td><td>f64</td><td>f64</td><td>f64</td><td>f64</td><td>i64</td><td>i64</td><td>date</td></tr></thead><tbody><tr><td>&quot;base&quot;</td><td>&quot;aerodrome&quot;</td><td>&quot;slipstream&quot;</td><td>&quot;0x833589fcd6edb6e08f4c7c32d4f7…</td><td>&quot;0x833589fcd6edb6e08f4c7c32d4f7…</td><td>&quot;0x4200000000000000000000000000…</td><td>&quot;USDC&quot;</td><td>&quot;WETH&quot;</td><td>&quot;USDC-WETH&quot;</td><td>1.3428e8</td><td>&quot;134283125240792&quot;</td><td>10688.778575</td><td>1.0689e10</td><td>4260.459139</td><td>4.2605e9</td><td>57733.659993</td><td>&quot;57733659993339993119266&quot;</td><td>4.595531</td><td>4.5955e18</td><td>1.835087</td><td>1.8351e18</td><td>1.3439e8</td><td>10697.306662</td><td>4266.750228</td><td>12563</td><td>12264</td><td>2025-02-27</td></tr><tr><td>&quot;base&quot;</td><td>&quot;aerodrome&quot;</td><td>&quot;slipstream&quot;</td><td>&quot;0x4200000000000000000000000000…</td><td>&quot;0x4200000000000000000000000000…</td><td>&quot;0x833589fcd6edb6e08f4c7c32d4f7…</td><td>&quot;WETH&quot;</td><td>&quot;USDC&quot;</td><td>&quot;USDC-WETH&quot;</td><td>57001.781848</td><td>&quot;57001781848316459773791&quot;</td><td>4.105278</td><td>4.1053e18</td><td>1.656338</td><td>1.6563e18</td><td>1.3265e8</td><td>&quot;132651005085671&quot;</td><td>9553.547359</td><td>9.5535e9</td><td>3842.384416</td><td>3.8424e9</td><td>1.3269e8</td><td>9556.479932</td><td>3844.557387</td><td>13885</td><td>13502</td><td>2025-02-27</td></tr><tr><td>&quot;ethereum&quot;</td><td>&quot;fluid&quot;</td><td>&quot;1&quot;</td><td>&quot;0xa0b86991c6218b36c1d19d4a2e9e…</td><td>&quot;0xa0b86991c6218b36c1d19d4a2e9e…</td><td>&quot;0xc02aaa39b223fe8d0a0e5c4f27ea…</td><td>&quot;USDC&quot;</td><td>&quot;WETH&quot;</td><td>&quot;USDC-WETH&quot;</td><td>1.3001e8</td><td>&quot;130007298251360&quot;</td><td>76474.881324</td><td>7.6475e10</td><td>54029.689078</td><td>5.4030e10</td><td>56129.53015</td><td>&quot;56129530149853180130899&quot;</td><td>33.017371</td><td>3.3017e19</td><td>23.238896</td><td>2.3239e19</td><td>1.3011e8</td><td>76537.764683</td><td>54073.129808</td><td>1700</td><td>1646</td><td>2025-02-27</td></tr><tr><td>&quot;ethereum&quot;</td><td>&quot;fluid&quot;</td><td>&quot;1&quot;</td><td>&quot;0xc02aaa39b223fe8d0a0e5c4f27ea…</td><td>&quot;0xc02aaa39b223fe8d0a0e5c4f27ea…</td><td>&quot;0xa0b86991c6218b36c1d19d4a2e9e…</td><td>&quot;WETH&quot;</td><td>&quot;USDC&quot;</td><td>&quot;USDC-WETH&quot;</td><td>56039.709157</td><td>&quot;56039709156524897000000&quot;</td><td>32.151296</td><td>3.2151e19</td><td>22.19302</td><td>2.2193e19</td><td>1.2983e8</td><td>&quot;129830319068036&quot;</td><td>74486.700555</td><td>7.4487e10</td><td>51561.806432</td><td>5.1562e10</td><td>1.2983e8</td><td>74487.577093</td><td>51551.756228</td><td>1743</td><td>1686</td><td>2025-02-27</td></tr><tr><td>&quot;arbitrum&quot;</td><td>&quot;uniswap&quot;</td><td>&quot;3&quot;</td><td>&quot;0xaf88d065e77c8cc2239327c5edb3…</td><td>&quot;0xaf88d065e77c8cc2239327c5edb3…</td><td>&quot;0x82af49447d8a07e3bd95bd0d56f3…</td><td>&quot;USDC&quot;</td><td>&quot;WETH&quot;</td><td>&quot;USDC-WETH&quot;</td><td>1.2966e8</td><td>&quot;129663669130118&quot;</td><td>1332.069747</td><td>1.3321e9</td><td>570.181875</td><td>5.7018e8</td><td>55909.014829</td><td>&quot;55909014828557768007620&quot;</td><td>0.574368</td><td>5.7437e17</td><td>0.245813</td><td>2.4581e17</td><td>1.2977e8</td><td>1333.173247</td><td>570.695392</td><td>97340</td><td>96908</td><td>2025-02-27</td></tr><tr><td>&hellip;</td><td>&hellip;</td><td>&hellip;</td><td>&hellip;</td><td>&hellip;</td><td>&hellip;</td><td>&hellip;</td><td>&hellip;</td><td>&hellip;</td><td>&hellip;</td><td>&hellip;</td><td>&hellip;</td><td>&hellip;</td><td>&hellip;</td><td>&hellip;</td><td>&hellip;</td><td>&hellip;</td><td>&hellip;</td><td>&hellip;</td><td>&hellip;</td><td>&hellip;</td><td>&hellip;</td><td>&hellip;</td><td>&hellip;</td><td>&hellip;</td><td>&hellip;</td><td>&hellip;</td></tr><tr><td>&quot;berachain&quot;</td><td>&quot;burrbear&quot;</td><td>&quot;1&quot;</td><td>&quot;0xd77552d3849ab4d8c3b189a9582d…</td><td>&quot;0xd77552d3849ab4d8c3b189a9582d…</td><td>&quot;0x1ce0a25d13ce4d52071ae7e02cf1…</td><td>&quot;wgBERA&quot;</td><td>null</td><td>null</td><td>3271.350678</td><td>&quot;3271350677529962314591&quot;</td><td>4.068844</td><td>4.0688e18</td><td>2.805086</td><td>2.8051e18</td><td>null</td><td>&quot;24175819287319539511646&quot;</td><td>null</td><td>3.0069e19</td><td>null</td><td>2.0663e19</td><td>null</td><td>null</td><td>null</td><td>804</td><td>804</td><td>2025-02-27</td></tr><tr><td>&quot;bnb&quot;</td><td>&quot;pancakeswap&quot;</td><td>&quot;2&quot;</td><td>&quot;0x7008ed7fdfa1fd5be00cd5c1ca8c…</td><td>&quot;0x7008ed7fdfa1fd5be00cd5c1ca8c…</td><td>&quot;0x9756b9da0ec60119e50465be9a26…</td><td>&quot;YES&quot;</td><td>&quot;FIST-family&quot;</td><td>&quot;FIST-family-YES&quot;</td><td>560558.319388</td><td>&quot;560558319388368580146155&quot;</td><td>4214.724206</td><td>4.2147e21</td><td>3187.450933</td><td>3.1875e21</td><td>1174.51241</td><td>&quot;1174512410286624609775&quot;</td><td>8.83092</td><td>8.8309e18</td><td>6.701339</td><td>6.7013e18</td><td>null</td><td>null</td><td>null</td><td>133</td><td>133</td><td>2025-02-27</td></tr><tr><td>&quot;base&quot;</td><td>&quot;uniswap&quot;</td><td>&quot;3&quot;</td><td>&quot;0x333333c465a19c85f85c6cfbed7b…</td><td>&quot;0x333333c465a19c85f85c6cfbed7b…</td><td>&quot;0x0cfdc3d046be72e354a526ed3dc7…</td><td>&quot;ORA&quot;</td><td>&quot;HAI&quot;</td><td>&quot;HAI-ORA&quot;</td><td>65688.322399</td><td>&quot;65688322399015159793889&quot;</td><td>103.773021</td><td>1.0377e20</td><td>5.551394</td><td>5.5514e18</td><td>3.3882e7</td><td>&quot;33882224551129359541164913&quot;</td><td>53526.421092</td><td>5.3526e22</td><td>2777.378323</td><td>2.7774e21</td><td>null</td><td>null</td><td>null</td><td>633</td><td>633</td><td>2025-02-27</td></tr><tr><td>&quot;bnb&quot;</td><td>&quot;pancakeswap&quot;</td><td>&quot;2&quot;</td><td>&quot;0xb299d5bdf3c17d14aafb305f97b1…</td><td>&quot;0xb299d5bdf3c17d14aafb305f97b1…</td><td>&quot;0x08ce6a169dde55faf99669344626…</td><td>&quot;Dimei&quot;</td><td>null</td><td>null</td><td>1480.714807</td><td>&quot;1480714806539459231893&quot;</td><td>5.288267</td><td>5.2883e18</td><td>3.050542</td><td>3.0505e18</td><td>null</td><td>&quot;70773037401505284525554&quot;</td><td>null</td><td>2.5276e20</td><td>null</td><td>1.4699e20</td><td>null</td><td>null</td><td>null</td><td>280</td><td>280</td><td>2025-02-27</td></tr><tr><td>&quot;berachain&quot;</td><td>&quot;kodiak&quot;</td><td>&quot;3&quot;</td><td>&quot;0xcc0966d8418d412c599a6421b760…</td><td>&quot;0xcc0966d8418d412c599a6421b760…</td><td>&quot;0x541fd749419ca806a8bc7da8ac23…</td><td>null</td><td>null</td><td>null</td><td>null</td><td>&quot;102175435884390&quot;</td><td>null</td><td>4.8888e11</td><td>null</td><td>4.3923e11</td><td>null</td><td>&quot;101689049749515&quot;</td><td>null</td><td>4.8655e11</td><td>null</td><td>4.3714e11</td><td>null</td><td>null</td><td>null</td><td>209</td><td>209</td><td>2025-02-27</td></tr></tbody></table></div>"
      ],
      "text/plain": [
       "shape: (7_009, 27)\n",
       "┌───────────┬───────────┬───────────┬───────────┬───┬───────────┬───────────┬───────────┬──────────┐\n",
       "│ blockchai ┆ project   ┆ version   ┆ token_pai ┆ … ┆ med_swap_ ┆ count_swa ┆ count_tra ┆ dt       │\n",
       "│ n         ┆ ---       ┆ ---       ┆ r_address ┆   ┆ amount_us ┆ ps        ┆ nsactions ┆ ---      │\n",
       "│ ---       ┆ str       ┆ str       ┆ _id       ┆   ┆ d         ┆ ---       ┆ ---       ┆ date     │\n",
       "│ str       ┆           ┆           ┆ ---       ┆   ┆ ---       ┆ i64       ┆ i64       ┆          │\n",
       "│           ┆           ┆           ┆ str       ┆   ┆ f64       ┆           ┆           ┆          │\n",
       "╞═══════════╪═══════════╪═══════════╪═══════════╪═══╪═══════════╪═══════════╪═══════════╪══════════╡\n",
       "│ base      ┆ aerodrome ┆ slipstrea ┆ 0x833589f ┆ … ┆ 4266.7502 ┆ 12563     ┆ 12264     ┆ 2025-02- │\n",
       "│           ┆           ┆ m         ┆ cd6edb6e0 ┆   ┆ 28        ┆           ┆           ┆ 27       │\n",
       "│           ┆           ┆           ┆ 8f4c7c32d ┆   ┆           ┆           ┆           ┆          │\n",
       "│           ┆           ┆           ┆ 4f7…      ┆   ┆           ┆           ┆           ┆          │\n",
       "│ base      ┆ aerodrome ┆ slipstrea ┆ 0x4200000 ┆ … ┆ 3844.5573 ┆ 13885     ┆ 13502     ┆ 2025-02- │\n",
       "│           ┆           ┆ m         ┆ 000000000 ┆   ┆ 87        ┆           ┆           ┆ 27       │\n",
       "│           ┆           ┆           ┆ 000000000 ┆   ┆           ┆           ┆           ┆          │\n",
       "│           ┆           ┆           ┆ 000…      ┆   ┆           ┆           ┆           ┆          │\n",
       "│ ethereum  ┆ fluid     ┆ 1         ┆ 0xa0b8699 ┆ … ┆ 54073.129 ┆ 1700      ┆ 1646      ┆ 2025-02- │\n",
       "│           ┆           ┆           ┆ 1c6218b36 ┆   ┆ 808       ┆           ┆           ┆ 27       │\n",
       "│           ┆           ┆           ┆ c1d19d4a2 ┆   ┆           ┆           ┆           ┆          │\n",
       "│           ┆           ┆           ┆ e9e…      ┆   ┆           ┆           ┆           ┆          │\n",
       "│ ethereum  ┆ fluid     ┆ 1         ┆ 0xc02aaa3 ┆ … ┆ 51551.756 ┆ 1743      ┆ 1686      ┆ 2025-02- │\n",
       "│           ┆           ┆           ┆ 9b223fe8d ┆   ┆ 228       ┆           ┆           ┆ 27       │\n",
       "│           ┆           ┆           ┆ 0a0e5c4f2 ┆   ┆           ┆           ┆           ┆          │\n",
       "│           ┆           ┆           ┆ 7ea…      ┆   ┆           ┆           ┆           ┆          │\n",
       "│ arbitrum  ┆ uniswap   ┆ 3         ┆ 0xaf88d06 ┆ … ┆ 570.69539 ┆ 97340     ┆ 96908     ┆ 2025-02- │\n",
       "│           ┆           ┆           ┆ 5e77c8cc2 ┆   ┆ 2         ┆           ┆           ┆ 27       │\n",
       "│           ┆           ┆           ┆ 239327c5e ┆   ┆           ┆           ┆           ┆          │\n",
       "│           ┆           ┆           ┆ db3…      ┆   ┆           ┆           ┆           ┆          │\n",
       "│ …         ┆ …         ┆ …         ┆ …         ┆ … ┆ …         ┆ …         ┆ …         ┆ …        │\n",
       "│ berachain ┆ burrbear  ┆ 1         ┆ 0xd77552d ┆ … ┆ null      ┆ 804       ┆ 804       ┆ 2025-02- │\n",
       "│           ┆           ┆           ┆ 3849ab4d8 ┆   ┆           ┆           ┆           ┆ 27       │\n",
       "│           ┆           ┆           ┆ c3b189a95 ┆   ┆           ┆           ┆           ┆          │\n",
       "│           ┆           ┆           ┆ 82d…      ┆   ┆           ┆           ┆           ┆          │\n",
       "│ bnb       ┆ pancakesw ┆ 2         ┆ 0x7008ed7 ┆ … ┆ null      ┆ 133       ┆ 133       ┆ 2025-02- │\n",
       "│           ┆ ap        ┆           ┆ fdfa1fd5b ┆   ┆           ┆           ┆           ┆ 27       │\n",
       "│           ┆           ┆           ┆ e00cd5c1c ┆   ┆           ┆           ┆           ┆          │\n",
       "│           ┆           ┆           ┆ a8c…      ┆   ┆           ┆           ┆           ┆          │\n",
       "│ base      ┆ uniswap   ┆ 3         ┆ 0x333333c ┆ … ┆ null      ┆ 633       ┆ 633       ┆ 2025-02- │\n",
       "│           ┆           ┆           ┆ 465a19c85 ┆   ┆           ┆           ┆           ┆ 27       │\n",
       "│           ┆           ┆           ┆ f85c6cfbe ┆   ┆           ┆           ┆           ┆          │\n",
       "│           ┆           ┆           ┆ d7b…      ┆   ┆           ┆           ┆           ┆          │\n",
       "│ bnb       ┆ pancakesw ┆ 2         ┆ 0xb299d5b ┆ … ┆ null      ┆ 280       ┆ 280       ┆ 2025-02- │\n",
       "│           ┆ ap        ┆           ┆ df3c17d14 ┆   ┆           ┆           ┆           ┆ 27       │\n",
       "│           ┆           ┆           ┆ aafb305f9 ┆   ┆           ┆           ┆           ┆          │\n",
       "│           ┆           ┆           ┆ 7b1…      ┆   ┆           ┆           ┆           ┆          │\n",
       "│ berachain ┆ kodiak    ┆ 3         ┆ 0xcc0966d ┆ … ┆ null      ┆ 209       ┆ 209       ┆ 2025-02- │\n",
       "│           ┆           ┆           ┆ 8418d412c ┆   ┆           ┆           ┆           ┆ 27       │\n",
       "│           ┆           ┆           ┆ 599a6421b ┆   ┆           ┆           ┆           ┆          │\n",
       "│           ┆           ┆           ┆ 760…      ┆   ┆           ┆           ┆           ┆          │\n",
       "└───────────┴───────────┴───────────┴───────────┴───┴───────────┴───────────┴───────────┴──────────┘"
      ]
     },
     "execution_count": 7,
     "metadata": {},
     "output_type": "execute_result"
    }
   ],
   "source": [
    "read_df"
   ]
  }
 ],
 "metadata": {
  "kernelspec": {
   "display_name": ".venv",
   "language": "python",
   "name": "python3"
  },
  "language_info": {
   "codemirror_mode": {
    "name": "ipython",
    "version": 3
   },
   "file_extension": ".py",
   "mimetype": "text/x-python",
   "name": "python",
   "nbconvert_exporter": "python",
   "pygments_lexer": "ipython3",
   "version": "3.12.6"
  }
 },
 "nbformat": 4,
 "nbformat_minor": 2
}
