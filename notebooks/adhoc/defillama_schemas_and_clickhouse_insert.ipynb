{
 "cells": [
  {
   "cell_type": "code",
   "execution_count": 1,
   "metadata": {},
   "outputs": [
    {
     "name": "stdout",
     "output_type": "stream",
     "text": [
      "\u001b[2m2025-01-10 12:28:55\u001b[0m [\u001b[32m\u001b[1minfo     \u001b[0m] \u001b[1minitialized duckdb at /var/folders/tz/g2vwn0qx5ll32j7jfsshhps40000gn/T/bxyfqqnr/op-analytics.duck.db\u001b[0m \u001b[36mfilename\u001b[0m=\u001b[35mclient.py\u001b[0m \u001b[36mlineno\u001b[0m=\u001b[35m94\u001b[0m \u001b[36mprocess\u001b[0m=\u001b[35m92831\u001b[0m\n",
      "\u001b[2m2025-01-10 12:28:55\u001b[0m [\u001b[32m\u001b[1minfo     \u001b[0m] \u001b[1mloaded vault from .env file   \u001b[0m \u001b[36mfilename\u001b[0m=\u001b[35mvault.py\u001b[0m \u001b[36mlineno\u001b[0m=\u001b[35m32\u001b[0m \u001b[36mprocess\u001b[0m=\u001b[35m92831\u001b[0m\n",
      "\u001b[2m2025-01-10 12:28:55\u001b[0m [\u001b[32m\u001b[1mdebug    \u001b[0m] \u001b[1mloaded vault: 18 items        \u001b[0m \u001b[36mfilename\u001b[0m=\u001b[35mvault.py\u001b[0m \u001b[36mlineno\u001b[0m=\u001b[35m76\u001b[0m \u001b[36mprocess\u001b[0m=\u001b[35m92831\u001b[0m\n"
     ]
    }
   ],
   "source": [
    "from op_analytics.cli.subcommands.pulls.defillama.dataaccess import DefiLlama\n",
    "from op_analytics.coreutils.duckdb_inmem.client import init_client\n",
    "\n",
    "duckdb_ctx = init_client()"
   ]
  },
  {
   "cell_type": "code",
   "execution_count": 5,
   "metadata": {},
   "outputs": [
    {
     "name": "stdout",
     "output_type": "stream",
     "text": [
      "\u001b[2m2025-01-10 12:29:20\u001b[0m [\u001b[32m\u001b[1minfo     \u001b[0m] \u001b[1mquerying markers for 'defillama/volume_fees_revenue_breakdown_v1' DateFilter(min_date=None, max_date=None, datevals=[datetime.date(2025, 1, 8)])\u001b[0m \u001b[36mfilename\u001b[0m=\u001b[35mdailydata.py\u001b[0m \u001b[36mlineno\u001b[0m=\u001b[35m101\u001b[0m \u001b[36mprocess\u001b[0m=\u001b[35m92831\u001b[0m\n",
      "\u001b[2m2025-01-10 12:29:21\u001b[0m [\u001b[32m\u001b[1minfo     \u001b[0m] \u001b[1m1 markers found               \u001b[0m \u001b[36mfilename\u001b[0m=\u001b[35mdailydata.py\u001b[0m \u001b[36mlineno\u001b[0m=\u001b[35m115\u001b[0m \u001b[36mmax_dt\u001b[0m=\u001b[35m2025-01-08\u001b[0m \u001b[36mmin_dt\u001b[0m=\u001b[35m2025-01-08\u001b[0m \u001b[36mprocess\u001b[0m=\u001b[35m92831\u001b[0m\n",
      "\u001b[2m2025-01-10 12:29:21\u001b[0m [\u001b[32m\u001b[1minfo     \u001b[0m] \u001b[1m1 distinct paths              \u001b[0m \u001b[36mfilename\u001b[0m=\u001b[35mdailydata.py\u001b[0m \u001b[36mlineno\u001b[0m=\u001b[35m125\u001b[0m \u001b[36mprocess\u001b[0m=\u001b[35m92831\u001b[0m\n",
      "\u001b[2m2025-01-10 12:29:21\u001b[0m [\u001b[32m\u001b[1minfo     \u001b[0m] \u001b[1musing gcs path: https://storage.googleapis.com/oplabs-tools-data-sink/defillama/volume_fees_revenue_breakdown_v1/dt=2025-01-08/out.parquet\u001b[0m \u001b[36mfilename\u001b[0m=\u001b[35minferschema.py\u001b[0m \u001b[36mlineno\u001b[0m=\u001b[35m19\u001b[0m \u001b[36mprocess\u001b[0m=\u001b[35m92831\u001b[0m\n",
      "CREATE TABLE IF NOT EXISTS defillama.volume_fees_revenue_breakdown_v1\n",
      "(\n",
      "    `chain` Nullable(String),\n",
      "    `breakdown_name` Nullable(String),\n",
      "    `total_volume_usd` Nullable(Int64),\n",
      "    `total_fees_usd` Nullable(Int64),\n",
      "    `total_revenue_usd` Nullable(Int64)\n",
      ")\n",
      "ENGINE = ReplacingMergeTree\n",
      "\n"
     ]
    }
   ],
   "source": [
    "DefiLlama.VOLUME_FEES_REVENUE_BREAKDOWN.clickhouse_schema(\"2025-01-08\")"
   ]
  },
  {
   "cell_type": "code",
   "execution_count": 6,
   "metadata": {},
   "outputs": [
    {
     "name": "stdout",
     "output_type": "stream",
     "text": [
      "\u001b[2m2025-01-10 12:29:45\u001b[0m [\u001b[32m\u001b[1minfo     \u001b[0m] \u001b[1mincremental load to clickhouse\u001b[0m \u001b[36mfilename\u001b[0m=\u001b[35mdailydata.py\u001b[0m \u001b[36mlineno\u001b[0m=\u001b[35m238\u001b[0m \u001b[36mmax_date\u001b[0m=\u001b[35m2025-01-11\u001b[0m \u001b[36mmin_date\u001b[0m=\u001b[35m2025-01-10\u001b[0m \u001b[36mprocess\u001b[0m=\u001b[35m92831\u001b[0m \u001b[36mused_clickhouse_watermark\u001b[0m=\u001b[35mFalse\u001b[0m\n",
      "\u001b[2m2025-01-10 12:29:45\u001b[0m [\u001b[32m\u001b[1minfo     \u001b[0m] \u001b[1mReading data from 'defillama/fees_protocols_metadata_v1' with filters min_date=2025-01-10, max_date=2025-01-11, date_range_spec=None\u001b[0m \u001b[36mfilename\u001b[0m=\u001b[35mdailydata.py\u001b[0m \u001b[36mlineno\u001b[0m=\u001b[35m174\u001b[0m \u001b[36mprocess\u001b[0m=\u001b[35m92831\u001b[0m\n",
      "\u001b[2m2025-01-10 12:29:45\u001b[0m [\u001b[32m\u001b[1minfo     \u001b[0m] \u001b[1mquerying markers for 'defillama/fees_protocols_metadata_v1' DateFilter(min_date=datetime.date(2025, 1, 10), max_date=datetime.date(2025, 1, 11), datevals=None)\u001b[0m \u001b[36mfilename\u001b[0m=\u001b[35mdailydata.py\u001b[0m \u001b[36mlineno\u001b[0m=\u001b[35m101\u001b[0m \u001b[36mprocess\u001b[0m=\u001b[35m92831\u001b[0m\n",
      "\u001b[2m2025-01-10 12:29:45\u001b[0m [\u001b[32m\u001b[1minfo     \u001b[0m] \u001b[1m1 markers found               \u001b[0m \u001b[36mfilename\u001b[0m=\u001b[35mdailydata.py\u001b[0m \u001b[36mlineno\u001b[0m=\u001b[35m115\u001b[0m \u001b[36mmax_dt\u001b[0m=\u001b[35m2025-01-10\u001b[0m \u001b[36mmin_dt\u001b[0m=\u001b[35m2025-01-10\u001b[0m \u001b[36mprocess\u001b[0m=\u001b[35m92831\u001b[0m\n",
      "\u001b[2m2025-01-10 12:29:45\u001b[0m [\u001b[32m\u001b[1minfo     \u001b[0m] \u001b[1m1 distinct paths              \u001b[0m \u001b[36mfilename\u001b[0m=\u001b[35mdailydata.py\u001b[0m \u001b[36mlineno\u001b[0m=\u001b[35m125\u001b[0m \u001b[36mprocess\u001b[0m=\u001b[35m92831\u001b[0m\n",
      "\u001b[2m2025-01-10 12:29:47\u001b[0m [\u001b[32m\u001b[1minfo     \u001b[0m] \u001b[1mregistered view: 'defillama_fees_protocols_metadata_v1' using 1 parquet paths\u001b[0m \u001b[36mfilename\u001b[0m=\u001b[35mclient.py\u001b[0m \u001b[36mlineno\u001b[0m=\u001b[35m273\u001b[0m \u001b[36mprocess\u001b[0m=\u001b[35m92831\u001b[0m\n",
      "┌──────────────────────────────────────┐\n",
      "│                 name                 │\n",
      "│               varchar                │\n",
      "├──────────────────────────────────────┤\n",
      "│ defillama_fees_protocols_metadata_v1 │\n",
      "└──────────────────────────────────────┘\n",
      "\n",
      "\u001b[2m2025-01-10 12:29:48\u001b[0m [\u001b[32m\u001b[1minfo     \u001b[0m] \u001b[1minsert summary                \u001b[0m \u001b[36mfilename\u001b[0m=\u001b[35mdailydata.py\u001b[0m \u001b[36mlineno\u001b[0m=\u001b[35m260\u001b[0m \u001b[36mprocess\u001b[0m=\u001b[35m92831\u001b[0m \u001b[36mwritten_bytes\u001b[0m=\u001b[35m429.9KB\u001b[0m \u001b[36mwritten_rows\u001b[0m=\u001b[35m653rows\u001b[0m\n"
     ]
    },
    {
     "data": {
      "text/plain": [
       "{'defillama/fees_protocols_metadata_v1': {'written_bytes': '429.9KB',\n",
       "  'written_rows': '653rows'}}"
      ]
     },
     "execution_count": 6,
     "metadata": {},
     "output_type": "execute_result"
    }
   ],
   "source": [
    "DefiLlama.FEES_PROTOCOLS_METADATA.insert_to_clickhouse(\n",
    "    min_date=\"2025-01-10\",\n",
    "    max_date=\"2025-01-11\",\n",
    ")"
   ]
  },
  {
   "cell_type": "code",
   "execution_count": 7,
   "metadata": {},
   "outputs": [
    {
     "name": "stdout",
     "output_type": "stream",
     "text": [
      "\u001b[2m2025-01-10 14:27:20\u001b[0m [\u001b[32m\u001b[1minfo     \u001b[0m] \u001b[1mincremental load to clickhouse\u001b[0m \u001b[36mfilename\u001b[0m=\u001b[35mdailydata.py\u001b[0m \u001b[36mlineno\u001b[0m=\u001b[35m238\u001b[0m \u001b[36mmax_date\u001b[0m=\u001b[35m2025-01-11\u001b[0m \u001b[36mmin_date\u001b[0m=\u001b[35m2014-01-29\u001b[0m \u001b[36mprocess\u001b[0m=\u001b[35m92831\u001b[0m \u001b[36mused_clickhouse_watermark\u001b[0m=\u001b[35mFalse\u001b[0m\n",
      "\u001b[2m2025-01-10 14:27:20\u001b[0m [\u001b[32m\u001b[1minfo     \u001b[0m] \u001b[1mReading data from 'defillama/volume_fees_revenue_breakdown_v1' with filters min_date=2014-01-29, max_date=2025-01-11, date_range_spec=None\u001b[0m \u001b[36mfilename\u001b[0m=\u001b[35mdailydata.py\u001b[0m \u001b[36mlineno\u001b[0m=\u001b[35m174\u001b[0m \u001b[36mprocess\u001b[0m=\u001b[35m92831\u001b[0m\n",
      "\u001b[2m2025-01-10 14:27:20\u001b[0m [\u001b[32m\u001b[1minfo     \u001b[0m] \u001b[1mquerying markers for 'defillama/volume_fees_revenue_breakdown_v1' DateFilter(min_date=datetime.date(2014, 1, 29), max_date=datetime.date(2025, 1, 11), datevals=None)\u001b[0m \u001b[36mfilename\u001b[0m=\u001b[35mdailydata.py\u001b[0m \u001b[36mlineno\u001b[0m=\u001b[35m101\u001b[0m \u001b[36mprocess\u001b[0m=\u001b[35m92831\u001b[0m\n",
      "\u001b[2m2025-01-10 14:27:20\u001b[0m [\u001b[32m\u001b[1minfo     \u001b[0m] \u001b[1m4003 markers found            \u001b[0m \u001b[36mfilename\u001b[0m=\u001b[35mdailydata.py\u001b[0m \u001b[36mlineno\u001b[0m=\u001b[35m115\u001b[0m \u001b[36mmax_dt\u001b[0m=\u001b[35m2025-01-10\u001b[0m \u001b[36mmin_dt\u001b[0m=\u001b[35m2014-01-29\u001b[0m \u001b[36mprocess\u001b[0m=\u001b[35m92831\u001b[0m\n",
      "\u001b[2m2025-01-10 14:27:20\u001b[0m [\u001b[32m\u001b[1minfo     \u001b[0m] \u001b[1m4000 distinct paths           \u001b[0m \u001b[36mfilename\u001b[0m=\u001b[35mdailydata.py\u001b[0m \u001b[36mlineno\u001b[0m=\u001b[35m125\u001b[0m \u001b[36mprocess\u001b[0m=\u001b[35m92831\u001b[0m\n",
      "\u001b[2m2025-01-10 14:27:22\u001b[0m [\u001b[32m\u001b[1minfo     \u001b[0m] \u001b[1mregistered view: 'defillama_volume_fees_revenue_breakdown_v1' using 4000 parquet paths\u001b[0m \u001b[36mfilename\u001b[0m=\u001b[35mclient.py\u001b[0m \u001b[36mlineno\u001b[0m=\u001b[35m273\u001b[0m \u001b[36mprocess\u001b[0m=\u001b[35m92831\u001b[0m\n",
      "┌────────────────────────────────────────────┐\n",
      "│                    name                    │\n",
      "│                  varchar                   │\n",
      "├────────────────────────────────────────────┤\n",
      "│ defillama_fees_protocols_metadata_v1       │\n",
      "│ defillama_volume_fees_revenue_breakdown_v1 │\n",
      "└────────────────────────────────────────────┘\n",
      "\n",
      "\u001b[2m2025-01-10 14:32:20\u001b[0m [\u001b[32m\u001b[1minfo     \u001b[0m] \u001b[1minsert summary                \u001b[0m \u001b[36mfilename\u001b[0m=\u001b[35mdailydata.py\u001b[0m \u001b[36mlineno\u001b[0m=\u001b[35m260\u001b[0m \u001b[36mprocess\u001b[0m=\u001b[35m92831\u001b[0m \u001b[36mwritten_bytes\u001b[0m=\u001b[35m53.2MB\u001b[0m \u001b[36mwritten_rows\u001b[0m=\u001b[35m840.6Krows\u001b[0m\n"
     ]
    },
    {
     "data": {
      "text/plain": [
       "{'defillama/volume_fees_revenue_breakdown_v1': {'written_bytes': '53.2MB',\n",
       "  'written_rows': '840.6Krows'}}"
      ]
     },
     "execution_count": 7,
     "metadata": {},
     "output_type": "execute_result"
    }
   ],
   "source": [
    "DefiLlama.VOLUME_FEES_REVENUE_BREAKDOWN.insert_to_clickhouse(\n",
    "    min_date=\"2014-01-29\",\n",
    "    max_date=\"2025-01-11\",\n",
    ")\n"
   ]
  },
  {
   "cell_type": "code",
   "execution_count": null,
   "metadata": {},
   "outputs": [],
   "source": []
  }
 ],
 "metadata": {
  "kernelspec": {
   "display_name": ".venv",
   "language": "python",
   "name": "python3"
  },
  "language_info": {
   "codemirror_mode": {
    "name": "ipython",
    "version": 3
   },
   "file_extension": ".py",
   "mimetype": "text/x-python",
   "name": "python",
   "nbconvert_exporter": "python",
   "pygments_lexer": "ipython3",
   "version": "3.12.6"
  }
 },
 "nbformat": 4,
 "nbformat_minor": 2
}
