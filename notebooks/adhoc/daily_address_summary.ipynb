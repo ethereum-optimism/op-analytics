{
 "cells": [
  {
   "cell_type": "code",
   "execution_count": 1,
   "metadata": {},
   "outputs": [
    {
     "name": "stdout",
     "output_type": "stream",
     "text": [
      "\u001b[2m2024-10-17 22:20:10\u001b[0m [\u001b[32m\u001b[1minfo     \u001b[0m] \u001b[1mLoaded env var: OP_ANALYTICS_VAULT\u001b[0m\n"
     ]
    }
   ],
   "source": [
    "import polars as pl\n",
    "from op_datasets.processing.execute import reader, BatchInput\n",
    "from op_datasets.logic.transforms.daily_address_summary import (\n",
    "    daily_address_summary,\n",
    "    CONDITIONS,\n",
    ")\n",
    "from op_coreutils.logger import structlog\n",
    "from op_coreutils.bigquery.write import overwrite_partitions\n",
    "\n",
    "from datetime import datetime\n",
    "import os\n",
    "\n",
    "os.environ[\"OPLABS_ENV\"] = \"PROD\"\n",
    "\n",
    "\n",
    "log = structlog.get_logger()"
   ]
  },
  {
   "cell_type": "code",
   "execution_count": 2,
   "metadata": {},
   "outputs": [
    {
     "name": "stdout",
     "output_type": "stream",
     "text": [
      "\u001b[2m2024-10-17 22:20:11\u001b[0m [\u001b[32m\u001b[1minfo     \u001b[0m] \u001b[1mLoaded 5 items into vault.    \u001b[0m\n",
      "\u001b[2m2024-10-17 22:20:11\u001b[0m [\u001b[32m\u001b[1minfo     \u001b[0m] \u001b[1mInitialized Clickhouse client.\u001b[0m\n",
      "\u001b[2m2024-10-17 22:20:12\u001b[0m [\u001b[32m\u001b[1minfo     \u001b[0m] \u001b[1mQuery success: blocks in 1.33s 2000 rows\u001b[0m\n",
      "\u001b[2m2024-10-17 22:20:13\u001b[0m [\u001b[32m\u001b[1minfo     \u001b[0m] \u001b[1mQuery success: transactions in 2.52s 43972 rows\u001b[0m\n",
      "\u001b[2m2024-10-17 22:20:14\u001b[0m [\u001b[32m\u001b[1minfo     \u001b[0m] \u001b[1mQuery success: logs in 3.34s 187138 rows\u001b[0m\n"
     ]
    }
   ],
   "source": [
    "inputbatch: BatchInput = None\n",
    "for _inputbatch in reader(\n",
    "    chain=\"op\", block_spec=\"126071012:+500\", source_spec=\"goldsky\"\n",
    "):\n",
    "    inputbatch = _inputbatch\n",
    "    break\n",
    "\n",
    "dataframes = inputbatch.dataframes"
   ]
  },
  {
   "cell_type": "code",
   "execution_count": 3,
   "metadata": {},
   "outputs": [
    {
     "data": {
      "text/plain": [
       "{'blocks': shape: (1_012, 24)\n",
       " ┌───────┬─────────┬──────────┬────────────┬───┬──────────┬───────────┬────────────┬────────────────┐\n",
       " │ chain ┆ network ┆ chain_id ┆ dt         ┆ … ┆ gas_used ┆ gas_limit ┆ extra_data ┆ transaction_co │\n",
       " │ ---   ┆ ---     ┆ ---      ┆ ---        ┆   ┆ ---      ┆ ---       ┆ ---        ┆ unt            │\n",
       " │ str   ┆ str     ┆ i32      ┆ str        ┆   ┆ i64      ┆ i64       ┆ str        ┆ ---            │\n",
       " │       ┆         ┆          ┆            ┆   ┆          ┆           ┆            ┆ i64            │\n",
       " ╞═══════╪═════════╪══════════╪════════════╪═══╪══════════╪═══════════╪════════════╪════════════════╡\n",
       " │ op    ┆ mainnet ┆ 10       ┆ 2024-09-30 ┆ … ┆ 1779886  ┆ 30000000  ┆ 0x         ┆ 14             │\n",
       " │ op    ┆ mainnet ┆ 10       ┆ 2024-09-30 ┆ … ┆ 4285527  ┆ 30000000  ┆ 0x         ┆ 27             │\n",
       " │ op    ┆ mainnet ┆ 10       ┆ 2024-09-30 ┆ … ┆ 6187833  ┆ 30000000  ┆ 0x         ┆ 30             │\n",
       " │ op    ┆ mainnet ┆ 10       ┆ 2024-09-30 ┆ … ┆ 5164371  ┆ 30000000  ┆ 0x         ┆ 23             │\n",
       " │ op    ┆ mainnet ┆ 10       ┆ 2024-09-30 ┆ … ┆ 11982660 ┆ 30000000  ┆ 0x         ┆ 26             │\n",
       " │ …     ┆ …       ┆ …        ┆ …          ┆ … ┆ …        ┆ …         ┆ …          ┆ …              │\n",
       " │ op    ┆ mainnet ┆ 10       ┆ 2024-09-30 ┆ … ┆ 1671032  ┆ 30000000  ┆ 0x         ┆ 12             │\n",
       " │ op    ┆ mainnet ┆ 10       ┆ 2024-09-30 ┆ … ┆ 2826526  ┆ 30000000  ┆ 0x         ┆ 17             │\n",
       " │ op    ┆ mainnet ┆ 10       ┆ 2024-09-30 ┆ … ┆ 2714582  ┆ 30000000  ┆ 0x         ┆ 9              │\n",
       " │ op    ┆ mainnet ┆ 10       ┆ 2024-09-30 ┆ … ┆ 2495457  ┆ 30000000  ┆ 0x         ┆ 16             │\n",
       " │ op    ┆ mainnet ┆ 10       ┆ 2024-09-30 ┆ … ┆ 3249887  ┆ 30000000  ┆ 0x         ┆ 20             │\n",
       " └───────┴─────────┴──────────┴────────────┴───┴──────────┴───────────┴────────────┴────────────────┘,\n",
       " 'transactions': shape: (21_442, 32)\n",
       " ┌────────────┬───────┬─────────┬──────────┬───┬─────────────┬────────────┬────────────┬────────────┐\n",
       " │ dt         ┆ chain ┆ network ┆ chain_id ┆ … ┆ receipt_l1_ ┆ receipt_l1 ┆ receipt_l1 ┆ receipt_l1 │\n",
       " │ ---        ┆ ---   ┆ ---     ┆ ---      ┆   ┆ fee_scalar  ┆ _blob_base ┆ _blob_base ┆ _base_fee_ │\n",
       " │ str        ┆ str   ┆ str     ┆ i32      ┆   ┆ ---         ┆ _fee       ┆ _fee_scala ┆ scalar     │\n",
       " │            ┆       ┆         ┆          ┆   ┆ f64         ┆ ---        ┆ …          ┆ ---        │\n",
       " │            ┆       ┆         ┆          ┆   ┆             ┆ i64        ┆ ---        ┆ i64        │\n",
       " │            ┆       ┆         ┆          ┆   ┆             ┆            ┆ i64        ┆            │\n",
       " ╞════════════╪═══════╪═════════╪══════════╪═══╪═════════════╪════════════╪════════════╪════════════╡\n",
       " │ 2024-09-30 ┆ op    ┆ mainnet ┆ 10       ┆ … ┆ null        ┆ null       ┆ null       ┆ null       │\n",
       " │ 2024-09-30 ┆ op    ┆ mainnet ┆ 10       ┆ … ┆ null        ┆ 1          ┆ 1014213    ┆ 5227       │\n",
       " │ 2024-09-30 ┆ op    ┆ mainnet ┆ 10       ┆ … ┆ null        ┆ 1          ┆ 1014213    ┆ 5227       │\n",
       " │ 2024-09-30 ┆ op    ┆ mainnet ┆ 10       ┆ … ┆ null        ┆ 1          ┆ 1014213    ┆ 5227       │\n",
       " │ 2024-09-30 ┆ op    ┆ mainnet ┆ 10       ┆ … ┆ null        ┆ 1          ┆ 1014213    ┆ 5227       │\n",
       " │ …          ┆ …     ┆ …       ┆ …        ┆ … ┆ …           ┆ …          ┆ …          ┆ …          │\n",
       " │ 2024-09-30 ┆ op    ┆ mainnet ┆ 10       ┆ … ┆ null        ┆ 1          ┆ 1014213    ┆ 5227       │\n",
       " │ 2024-09-30 ┆ op    ┆ mainnet ┆ 10       ┆ … ┆ null        ┆ 1          ┆ 1014213    ┆ 5227       │\n",
       " │ 2024-09-30 ┆ op    ┆ mainnet ┆ 10       ┆ … ┆ null        ┆ 1          ┆ 1014213    ┆ 5227       │\n",
       " │ 2024-09-30 ┆ op    ┆ mainnet ┆ 10       ┆ … ┆ null        ┆ 1          ┆ 1014213    ┆ 5227       │\n",
       " │ 2024-09-30 ┆ op    ┆ mainnet ┆ 10       ┆ … ┆ null        ┆ 1          ┆ 1014213    ┆ 5227       │\n",
       " └────────────┴───────┴─────────┴──────────┴───┴─────────────┴────────────┴────────────┴────────────┘,\n",
       " 'logs': shape: (95_945, 15)\n",
       " ┌────────────┬───────┬─────────┬──────────┬───┬─────────────┬────────────┬────────────┬────────────┐\n",
       " │ dt         ┆ chain ┆ network ┆ chain_id ┆ … ┆ topics      ┆ data       ┆ topic0     ┆ indexed_ar │\n",
       " │ ---        ┆ ---   ┆ ---     ┆ ---      ┆   ┆ ---         ┆ ---        ┆ ---        ┆ gs         │\n",
       " │ str        ┆ str   ┆ str     ┆ i32      ┆   ┆ str         ┆ str        ┆ str        ┆ ---        │\n",
       " │            ┆       ┆         ┆          ┆   ┆             ┆            ┆            ┆ list[str]  │\n",
       " ╞════════════╪═══════╪═════════╪══════════╪═══╪═════════════╪════════════╪════════════╪════════════╡\n",
       " │ 2024-09-30 ┆ op    ┆ mainnet ┆ 10       ┆ … ┆ 0x2cb0eed75 ┆ 0x00000000 ┆ 0x2cb0eed7 ┆ []         │\n",
       " │            ┆       ┆         ┆          ┆   ┆ 38baeae4c6f ┆ 0000000000 ┆ 538baeae4c ┆            │\n",
       " │            ┆       ┆         ┆          ┆   ┆ de038c0f…   ┆ 000000fe65 ┆ 6fde038c0f ┆            │\n",
       " │            ┆       ┆         ┆          ┆   ┆             ┆ …          ┆ …          ┆            │\n",
       " │ 2024-09-30 ┆ op    ┆ mainnet ┆ 10       ┆ … ┆ 0x2cb0eed75 ┆ 0x00000000 ┆ 0x2cb0eed7 ┆ []         │\n",
       " │            ┆       ┆         ┆          ┆   ┆ 38baeae4c6f ┆ 0000000000 ┆ 538baeae4c ┆            │\n",
       " │            ┆       ┆         ┆          ┆   ┆ de038c0f…   ┆ 000000a7b5 ┆ 6fde038c0f ┆            │\n",
       " │            ┆       ┆         ┆          ┆   ┆             ┆ …          ┆ …          ┆            │\n",
       " │ 2024-09-30 ┆ op    ┆ mainnet ┆ 10       ┆ … ┆ 0xddf252ad1 ┆ 0x00000000 ┆ 0xddf252ad ┆ [\"0x000000 │\n",
       " │            ┆       ┆         ┆          ┆   ┆ be2c89b69c2 ┆ 0000000000 ┆ 1be2c89b69 ┆ 0000000000 │\n",
       " │            ┆       ┆         ┆          ┆   ┆ b068fc37…   ┆ 0000000000 ┆ c2b068fc37 ┆ 000000007b │\n",
       " │            ┆       ┆         ┆          ┆   ┆             ┆ …          ┆ …          ┆ …          │\n",
       " │ 2024-09-30 ┆ op    ┆ mainnet ┆ 10       ┆ … ┆ 0x442e715f6 ┆ 0xf3d819e0 ┆ 0x442e715f ┆ []         │\n",
       " │            ┆       ┆         ┆          ┆   ┆ 26346e8c543 ┆ b94b95c7f6 ┆ 626346e8c5 ┆            │\n",
       " │            ┆       ┆         ┆          ┆   ┆ 81002da6…   ┆ 13ac21b7b0 ┆ 4381002da6 ┆            │\n",
       " │            ┆       ┆         ┆          ┆   ┆             ┆ …          ┆ …          ┆            │\n",
       " │ 2024-09-30 ┆ op    ┆ mainnet ┆ 10       ┆ … ┆ 0x7084f5476 ┆ 0x00000000 ┆ 0x7084f547 ┆ [\"0x000000 │\n",
       " │            ┆       ┆         ┆          ┆   ┆ 618d8e60b11 ┆ 0000000000 ┆ 6618d8e60b ┆ 0000000000 │\n",
       " │            ┆       ┆         ┆          ┆   ┆ ef0d7d3f…   ┆ 0000000000 ┆ 11ef0d7d3f ┆ 00000000c8 │\n",
       " │            ┆       ┆         ┆          ┆   ┆             ┆ …          ┆ …          ┆ …          │\n",
       " │ …          ┆ …     ┆ …       ┆ …        ┆ … ┆ …           ┆ …          ┆ …          ┆ …          │\n",
       " │ 2024-09-30 ┆ op    ┆ mainnet ┆ 10       ┆ … ┆ 0x442e715f6 ┆ 0xf18713a1 ┆ 0x442e715f ┆ []         │\n",
       " │            ┆       ┆         ┆          ┆   ┆ 26346e8c543 ┆ 46d8ddd0bc ┆ 626346e8c5 ┆            │\n",
       " │            ┆       ┆         ┆          ┆   ┆ 81002da6…   ┆ 89cf72d1c2 ┆ 4381002da6 ┆            │\n",
       " │            ┆       ┆         ┆          ┆   ┆             ┆ …          ┆ …          ┆            │\n",
       " │ 2024-09-30 ┆ op    ┆ mainnet ┆ 10       ┆ … ┆ 0xddf252ad1 ┆ 0x00000000 ┆ 0xddf252ad ┆ [\"0x000000 │\n",
       " │            ┆       ┆         ┆          ┆   ┆ be2c89b69c2 ┆ 0000000000 ┆ 1be2c89b69 ┆ 0000000000 │\n",
       " │            ┆       ┆         ┆          ┆   ┆ b068fc37…   ┆ 0000000000 ┆ c2b068fc37 ┆ 000000006a │\n",
       " │            ┆       ┆         ┆          ┆   ┆             ┆ …          ┆ …          ┆ …          │\n",
       " │ 2024-09-30 ┆ op    ┆ mainnet ┆ 10       ┆ … ┆ 0x442e715f6 ┆ 0x8e88e6e5 ┆ 0x442e715f ┆ []         │\n",
       " │            ┆       ┆         ┆          ┆   ┆ 26346e8c543 ┆ ea9cb56542 ┆ 626346e8c5 ┆            │\n",
       " │            ┆       ┆         ┆          ┆   ┆ 81002da6…   ┆ 3cdbecba4e ┆ 4381002da6 ┆            │\n",
       " │            ┆       ┆         ┆          ┆   ┆             ┆ …          ┆ …          ┆            │\n",
       " │ 2024-09-30 ┆ op    ┆ mainnet ┆ 10       ┆ … ┆ 0x66753cd23 ┆ 0x00000000 ┆ 0x66753cd2 ┆ []         │\n",
       " │            ┆       ┆         ┆          ┆   ┆ 56569ee0812 ┆ 0000000000 ┆ 356569ee08 ┆            │\n",
       " │            ┆       ┆         ┆          ┆   ┆ 32e3be89…   ┆ 000000dc6f ┆ 1232e3be89 ┆            │\n",
       " │            ┆       ┆         ┆          ┆   ┆             ┆ …          ┆ …          ┆            │\n",
       " │ 2024-09-30 ┆ op    ┆ mainnet ┆ 10       ┆ … ┆ 0xddf252ad1 ┆ 0x00000000 ┆ 0xddf252ad ┆ [\"0x000000 │\n",
       " │            ┆       ┆         ┆          ┆   ┆ be2c89b69c2 ┆ 0000000000 ┆ 1be2c89b69 ┆ 0000000000 │\n",
       " │            ┆       ┆         ┆          ┆   ┆ b068fc37…   ┆ 0000000000 ┆ c2b068fc37 ┆ 000000009c │\n",
       " │            ┆       ┆         ┆          ┆   ┆             ┆ …          ┆ …          ┆ …          │\n",
       " └────────────┴───────┴─────────┴──────────┴───┴─────────────┴────────────┴────────────┴────────────┘}"
      ]
     },
     "execution_count": 3,
     "metadata": {},
     "output_type": "execute_result"
    }
   ],
   "source": [
    "dataframes"
   ]
  },
  {
   "cell_type": "code",
   "execution_count": 4,
   "metadata": {},
   "outputs": [
    {
     "name": "stdout",
     "output_type": "stream",
     "text": [
      "\u001b[2m2024-10-17 22:20:14\u001b[0m [\u001b[32m\u001b[1minfo     \u001b[0m] \u001b[1mMin block number: 126070000   \u001b[0m\n",
      "\u001b[2m2024-10-17 22:20:14\u001b[0m [\u001b[32m\u001b[1minfo     \u001b[0m] \u001b[1mMax block number: 126071011   \u001b[0m\n",
      "\u001b[2m2024-10-17 22:20:14\u001b[0m [\u001b[32m\u001b[1minfo     \u001b[0m] \u001b[1mMin block number: 2024-09-30 19:26:17\u001b[0m\n",
      "\u001b[2m2024-10-17 22:20:14\u001b[0m [\u001b[32m\u001b[1minfo     \u001b[0m] \u001b[1mMax block number: 2024-09-30 19:59:59\u001b[0m\n"
     ]
    }
   ],
   "source": [
    "# check if our blocks are in the range we want\n",
    "\n",
    "log.info(f\"Min block number: {dataframes['blocks']['number'].min()}\")\n",
    "log.info(f\"Max block number: {dataframes['blocks']['number'].max()}\")\n",
    "log.info(\n",
    "    f\"Min block number: {datetime.fromtimestamp(dataframes['blocks']['timestamp'].min())}\"\n",
    ")\n",
    "log.info(\n",
    "    f\"Max block number: {datetime.fromtimestamp(dataframes['blocks']['timestamp'].max())}\"\n",
    ")"
   ]
  },
  {
   "cell_type": "code",
   "execution_count": 5,
   "metadata": {},
   "outputs": [],
   "source": [
    "result = daily_address_summary(\n",
    "    dataframes[\"transactions\"],\n",
    "    conditions=CONDITIONS,\n",
    "    address=\"from_address\",\n",
    "    chain_id=\"chain_id\",\n",
    "    chain=\"chain\",\n",
    "    dt=\"dt\",\n",
    ")"
   ]
  },
  {
   "cell_type": "code",
   "execution_count": 6,
   "metadata": {},
   "outputs": [
    {
     "data": {
      "text/html": [
       "<div><style>\n",
       ".dataframe > thead > tr,\n",
       ".dataframe > tbody > tr {\n",
       "  text-align: right;\n",
       "  white-space: pre-wrap;\n",
       "}\n",
       "</style>\n",
       "<small>shape: (5, 44)</small><table border=\"1\" class=\"dataframe\"><thead><tr><th>from_address</th><th>chain_id</th><th>chain</th><th>dt</th><th>total_txs</th><th>total_txs_success</th><th>total_txs_fail</th><th>total_blocks</th><th>total_blocks_success</th><th>total_blocks_fail</th><th>min_block_number</th><th>max_block_number</th><th>block_interval_active</th><th>min_nonce</th><th>max_nonce</th><th>nonce_interval_active</th><th>total_l2_gas_used</th><th>total_l2_gas_used_success</th><th>total_l2_gas_used_fail</th><th>total_l1_gas_used</th><th>total_l1_gas_used_success</th><th>total_l1_gas_used_fail</th><th>total_gas_fees</th><th>total_gas_fees_success</th><th>total_gas_fees_fail</th><th>l2_contrib_gas_fees</th><th>l1_contrib_gas_fees</th><th>l1_blobgas_contrib_gas_fees</th><th>l1_l1gas_contrib_gas_fees</th><th>l2_contrib_gas_fees_base_fees</th><th>l2_contrib_gas_fees_priority_fees</th><th>avg_l2_gas_price_gwei</th><th>avg_l2_base_fee_gwei</th><th>avg_l2_priority_fee_gwei</th><th>avg_l1_gas_price_gwei</th><th>avg_l1_blob_base_fee_gwei</th><th>min_block_timestamp</th><th>max_block_timestamp</th><th>time_interval_active</th><th>unique_hours_active</th><th>perc_daily_hours_active</th><th>num_to_addresses</th><th>num_to_addresses_success</th><th>num_to_addresses_fail</th></tr><tr><td>str</td><td>i32</td><td>str</td><td>str</td><td>u32</td><td>u32</td><td>u32</td><td>u32</td><td>u32</td><td>u32</td><td>i64</td><td>i64</td><td>i64</td><td>i64</td><td>i64</td><td>i64</td><td>i64</td><td>i64</td><td>i64</td><td>i64</td><td>i64</td><td>i64</td><td>decimal[*,22]</td><td>decimal[*,22]</td><td>decimal[*,22]</td><td>decimal[*,22]</td><td>decimal[*,22]</td><td>decimal[*,22]</td><td>decimal[*,22]</td><td>decimal[*,22]</td><td>decimal[*,22]</td><td>decimal[*,13]</td><td>decimal[*,13]</td><td>decimal[*,13]</td><td>decimal[*,13]</td><td>decimal[*,13]</td><td>datetime[μs]</td><td>datetime[μs]</td><td>duration[μs]</td><td>u32</td><td>f64</td><td>u32</td><td>u32</td><td>u32</td></tr></thead><tbody><tr><td>&quot;0x5fca00fdaad9e4b8c6ae8a4264c6…</td><td>10</td><td>&quot;op&quot;</td><td>&quot;2024-09-30&quot;</td><td>9</td><td>9</td><td>0</td><td>9</td><td>9</td><td>0</td><td>126070221</td><td>126070998</td><td>778</td><td>7141</td><td>7149</td><td>9</td><td>543035</td><td>543035</td><td>0</td><td>29826</td><td>29826</td><td>0</td><td>0.0000020346019401950000</td><td>0.0000020346019401950000</td><td>0.0000000000000000000000</td><td>0.0000010801944224650000</td><td>0.0000009544075177300000</td><td>0.0000000302499169380000</td><td>0.0000000000000000000000</td><td>0.0000005371594224650000</td><td>0.0000005430350000000000</td><td>0.0019891801126</td><td>0.0009891801126</td><td>0.0010000000000</td><td>6.1209760809670</td><td>0.0000000010000</td><td>2024-09-30 23:33:39</td><td>2024-09-30 23:59:33</td><td>25m 54s</td><td>1</td><td>0.041667</td><td>1</td><td>1</td><td>0</td></tr><tr><td>&quot;0xf4911c3fc51ba098b42174175ead…</td><td>10</td><td>&quot;op&quot;</td><td>&quot;2024-09-30&quot;</td><td>1</td><td>1</td><td>0</td><td>1</td><td>1</td><td>0</td><td>126070364</td><td>126070364</td><td>1</td><td>0</td><td>0</td><td>1</td><td>35212</td><td>35212</td><td>0</td><td>1600</td><td>1600</td><td>0</td><td>0.0000705176592191790000</td><td>0.0000705176592191790000</td><td>0.0000000000000000000000</td><td>0.0000704603652634240000</td><td>0.0000000572939557550000</td><td>0.0000000016227408000000</td><td>0.0000000000000000000000</td><td>0.0000000363652634240000</td><td>0.0000704240000000000000</td><td>2.0010327520000</td><td>0.0010327520000</td><td>2.0000000000000</td><td>6.8507216920000</td><td>0.0000000010000</td><td>2024-09-30 23:38:25</td><td>2024-09-30 23:38:25</td><td>0µs</td><td>1</td><td>0.041667</td><td>1</td><td>1</td><td>0</td></tr><tr><td>&quot;0x2973b942305df55b6fb1ed676a39…</td><td>10</td><td>&quot;op&quot;</td><td>&quot;2024-09-30&quot;</td><td>1</td><td>1</td><td>0</td><td>1</td><td>1</td><td>0</td><td>126070098</td><td>126070098</td><td>1</td><td>243</td><td>243</td><td>1</td><td>40832</td><td>40832</td><td>0</td><td>1600</td><td>1600</td><td>0</td><td>0.0000001183029323210000</td><td>0.0000001183029323210000</td><td>0.0000000000000000000000</td><td>0.0000000728691138560000</td><td>0.0000000454338184650000</td><td>0.0000000016227408000000</td><td>0.0000000000000000000000</td><td>0.0000000320371138560000</td><td>0.0000000408320000000000</td><td>0.0017846080000</td><td>0.0007846080000</td><td>0.0010000000000</td><td>5.4325878090000</td><td>0.0000000010000</td><td>2024-09-30 23:29:33</td><td>2024-09-30 23:29:33</td><td>0µs</td><td>1</td><td>0.041667</td><td>1</td><td>1</td><td>0</td></tr><tr><td>&quot;0x9d960adcf4f919af4309a16c0e28…</td><td>10</td><td>&quot;op&quot;</td><td>&quot;2024-09-30&quot;</td><td>1</td><td>1</td><td>0</td><td>1</td><td>1</td><td>0</td><td>126070822</td><td>126070822</td><td>1</td><td>16</td><td>16</td><td>1</td><td>21000</td><td>21000</td><td>0</td><td>1600</td><td>1600</td><td>0</td><td>0.0000001120831125150000</td><td>0.0000001120831125150000</td><td>0.0000000000000000000000</td><td>0.0000000458589390000000</td><td>0.0000000662241735150000</td><td>0.0000000016227408000000</td><td>0.0000000000000000000000</td><td>0.0000000458589390000000</td><td>0.0000000000000000000000</td><td>0.0021837590000</td><td>0.0021837590000</td><td>0.0000000000000</td><td>7.9185208310000</td><td>0.0000000010000</td><td>2024-09-30 23:53:41</td><td>2024-09-30 23:53:41</td><td>0µs</td><td>1</td><td>0.041667</td><td>1</td><td>1</td><td>0</td></tr><tr><td>&quot;0xa605857c215afb293770423f39bd…</td><td>10</td><td>&quot;op&quot;</td><td>&quot;2024-09-30&quot;</td><td>1</td><td>1</td><td>0</td><td>1</td><td>1</td><td>0</td><td>126071010</td><td>126071010</td><td>1</td><td>453</td><td>453</td><td>1</td><td>53067</td><td>53067</td><td>0</td><td>1600</td><td>1600</td><td>0</td><td>0.0000001253853286940000</td><td>0.0000001253853286940000</td><td>0.0000000000000000000000</td><td>0.0000000642414243240000</td><td>0.0000000611439043700000</td><td>0.0000000016227408000000</td><td>0.0000000000000000000000</td><td>0.0000000589347243240000</td><td>0.0000000053067000000000</td><td>0.0012105720000</td><td>0.0011105720000</td><td>0.0001000000000</td><td>7.3110656530000</td><td>0.0000000010000</td><td>2024-09-30 23:59:57</td><td>2024-09-30 23:59:57</td><td>0µs</td><td>1</td><td>0.041667</td><td>1</td><td>1</td><td>0</td></tr></tbody></table></div>"
      ],
      "text/plain": [
       "shape: (5, 44)\n",
       "┌────────────┬──────────┬───────┬────────────┬───┬────────────┬────────────┬───────────┬───────────┐\n",
       "│ from_addre ┆ chain_id ┆ chain ┆ dt         ┆ … ┆ perc_daily ┆ num_to_add ┆ num_to_ad ┆ num_to_ad │\n",
       "│ ss         ┆ ---      ┆ ---   ┆ ---        ┆   ┆ _hours_act ┆ resses     ┆ dresses_s ┆ dresses_f │\n",
       "│ ---        ┆ i32      ┆ str   ┆ str        ┆   ┆ ive        ┆ ---        ┆ uccess    ┆ ail       │\n",
       "│ str        ┆          ┆       ┆            ┆   ┆ ---        ┆ u32        ┆ ---       ┆ ---       │\n",
       "│            ┆          ┆       ┆            ┆   ┆ f64        ┆            ┆ u32       ┆ u32       │\n",
       "╞════════════╪══════════╪═══════╪════════════╪═══╪════════════╪════════════╪═══════════╪═══════════╡\n",
       "│ 0x5fca00fd ┆ 10       ┆ op    ┆ 2024-09-30 ┆ … ┆ 0.041667   ┆ 1          ┆ 1         ┆ 0         │\n",
       "│ aad9e4b8c6 ┆          ┆       ┆            ┆   ┆            ┆            ┆           ┆           │\n",
       "│ ae8a4264c6 ┆          ┆       ┆            ┆   ┆            ┆            ┆           ┆           │\n",
       "│ …          ┆          ┆       ┆            ┆   ┆            ┆            ┆           ┆           │\n",
       "│ 0xf4911c3f ┆ 10       ┆ op    ┆ 2024-09-30 ┆ … ┆ 0.041667   ┆ 1          ┆ 1         ┆ 0         │\n",
       "│ c51ba098b4 ┆          ┆       ┆            ┆   ┆            ┆            ┆           ┆           │\n",
       "│ 2174175ead ┆          ┆       ┆            ┆   ┆            ┆            ┆           ┆           │\n",
       "│ …          ┆          ┆       ┆            ┆   ┆            ┆            ┆           ┆           │\n",
       "│ 0x2973b942 ┆ 10       ┆ op    ┆ 2024-09-30 ┆ … ┆ 0.041667   ┆ 1          ┆ 1         ┆ 0         │\n",
       "│ 305df55b6f ┆          ┆       ┆            ┆   ┆            ┆            ┆           ┆           │\n",
       "│ b1ed676a39 ┆          ┆       ┆            ┆   ┆            ┆            ┆           ┆           │\n",
       "│ …          ┆          ┆       ┆            ┆   ┆            ┆            ┆           ┆           │\n",
       "│ 0x9d960adc ┆ 10       ┆ op    ┆ 2024-09-30 ┆ … ┆ 0.041667   ┆ 1          ┆ 1         ┆ 0         │\n",
       "│ f4f919af43 ┆          ┆       ┆            ┆   ┆            ┆            ┆           ┆           │\n",
       "│ 09a16c0e28 ┆          ┆       ┆            ┆   ┆            ┆            ┆           ┆           │\n",
       "│ …          ┆          ┆       ┆            ┆   ┆            ┆            ┆           ┆           │\n",
       "│ 0xa605857c ┆ 10       ┆ op    ┆ 2024-09-30 ┆ … ┆ 0.041667   ┆ 1          ┆ 1         ┆ 0         │\n",
       "│ 215afb2937 ┆          ┆       ┆            ┆   ┆            ┆            ┆           ┆           │\n",
       "│ 70423f39bd ┆          ┆       ┆            ┆   ┆            ┆            ┆           ┆           │\n",
       "│ …          ┆          ┆       ┆            ┆   ┆            ┆            ┆           ┆           │\n",
       "└────────────┴──────────┴───────┴────────────┴───┴────────────┴────────────┴───────────┴───────────┘"
      ]
     },
     "execution_count": 6,
     "metadata": {},
     "output_type": "execute_result"
    }
   ],
   "source": [
    "result.head()"
   ]
  },
  {
   "cell_type": "code",
   "execution_count": 7,
   "metadata": {},
   "outputs": [
    {
     "name": "stdout",
     "output_type": "stream",
     "text": [
      "\u001b[2m2024-10-17 22:20:14\u001b[0m [\u001b[32m\u001b[1minfo     \u001b[0m] \u001b[1mWriting 1 partitions to BQ [2024-09-30 00:00:00 ... 2024-09-30 00:00:00]\u001b[0m\n",
      "\u001b[2m2024-10-17 22:20:14\u001b[0m [\u001b[32m\u001b[1minfo     \u001b[0m] \u001b[1mDRYRUN OVERWRITE PARTITION: Wrote 2.3Krows 283.7KB to BQ temp.daily_address_summary\u001b[0m\n"
     ]
    }
   ],
   "source": [
    "overwrite_partitions(result, \"temp\", \"daily_address_summary\", expiration_days=999)"
   ]
  },
  {
   "cell_type": "code",
   "execution_count": 8,
   "metadata": {},
   "outputs": [],
   "source": [
    "# create test dfs\n",
    "test_single_tx_df = dataframes[\"transactions\"].filter(\n",
    "    dataframes[\"transactions\"][\"hash\"]\n",
    "    == \"0xc64c1471f38b0444d143011c0261a6c14d76a8b32115d39a3f3bf11af337eb55\"\n",
    ")\n",
    "test_single_tx_df.write_parquet(\n",
    "    \"../../tests/op_datasets/test_daily_address_summary/test_daily_address_summary_single_tx.parquet\"\n",
    ")\n",
    "\n",
    "test_multiple_txs_df = dataframes[\"transactions\"].filter(\n",
    "    dataframes[\"transactions\"][\"from_address\"]\n",
    "    == \"0xd18a8be700b1fc5f7df8a3dbd772fbdecb16ee3a\"\n",
    ")\n",
    "\n",
    "test_multiple_txs_df.write_parquet(\n",
    "    \"../../tests/op_datasets/test_daily_address_summary/test_daily_address_summary_multiple_txs.parquet\"\n",
    ")"
   ]
  },
  {
   "cell_type": "code",
   "execution_count": 9,
   "metadata": {},
   "outputs": [],
   "source": [
    "test_result = daily_address_summary(\n",
    "    test_single_tx_df,\n",
    "    conditions=CONDITIONS,\n",
    "    address=\"from_address\",\n",
    "    chain_id=\"chain_id\",\n",
    "    chain=\"chain\",\n",
    "    dt=\"dt\",\n",
    ")"
   ]
  },
  {
   "cell_type": "code",
   "execution_count": 10,
   "metadata": {},
   "outputs": [
    {
     "data": {
      "text/html": [
       "<div><style>\n",
       ".dataframe > thead > tr,\n",
       ".dataframe > tbody > tr {\n",
       "  text-align: right;\n",
       "  white-space: pre-wrap;\n",
       "}\n",
       "</style>\n",
       "<small>shape: (1, 44)</small><table border=\"1\" class=\"dataframe\"><thead><tr><th>from_address</th><th>chain_id</th><th>chain</th><th>dt</th><th>total_txs</th><th>total_txs_success</th><th>total_txs_fail</th><th>total_blocks</th><th>total_blocks_success</th><th>total_blocks_fail</th><th>min_block_number</th><th>max_block_number</th><th>block_interval_active</th><th>min_nonce</th><th>max_nonce</th><th>nonce_interval_active</th><th>total_l2_gas_used</th><th>total_l2_gas_used_success</th><th>total_l2_gas_used_fail</th><th>total_l1_gas_used</th><th>total_l1_gas_used_success</th><th>total_l1_gas_used_fail</th><th>total_gas_fees</th><th>total_gas_fees_success</th><th>total_gas_fees_fail</th><th>l2_contrib_gas_fees</th><th>l1_contrib_gas_fees</th><th>l1_blobgas_contrib_gas_fees</th><th>l1_l1gas_contrib_gas_fees</th><th>l2_contrib_gas_fees_base_fees</th><th>l2_contrib_gas_fees_priority_fees</th><th>avg_l2_gas_price_gwei</th><th>avg_l2_base_fee_gwei</th><th>avg_l2_priority_fee_gwei</th><th>avg_l1_gas_price_gwei</th><th>avg_l1_blob_base_fee_gwei</th><th>min_block_timestamp</th><th>max_block_timestamp</th><th>time_interval_active</th><th>unique_hours_active</th><th>perc_daily_hours_active</th><th>num_to_addresses</th><th>num_to_addresses_success</th><th>num_to_addresses_fail</th></tr><tr><td>str</td><td>i32</td><td>str</td><td>str</td><td>u32</td><td>u32</td><td>u32</td><td>u32</td><td>u32</td><td>u32</td><td>i64</td><td>i64</td><td>i64</td><td>i64</td><td>i64</td><td>i64</td><td>i64</td><td>i64</td><td>i64</td><td>i64</td><td>i64</td><td>i64</td><td>decimal[*,22]</td><td>decimal[*,22]</td><td>decimal[*,22]</td><td>decimal[*,22]</td><td>decimal[*,22]</td><td>decimal[*,22]</td><td>decimal[*,22]</td><td>decimal[*,22]</td><td>decimal[*,22]</td><td>decimal[*,13]</td><td>decimal[*,13]</td><td>decimal[*,13]</td><td>decimal[*,13]</td><td>decimal[*,13]</td><td>datetime[μs]</td><td>datetime[μs]</td><td>duration[μs]</td><td>u32</td><td>f64</td><td>u32</td><td>u32</td><td>u32</td></tr></thead><tbody><tr><td>&quot;0xd2c52bfce3a40c8ec8cb79a64501…</td><td>10</td><td>&quot;op&quot;</td><td>&quot;2024-09-30&quot;</td><td>1</td><td>0</td><td>1</td><td>1</td><td>0</td><td>1</td><td>126070912</td><td>126070912</td><td>1</td><td>5176</td><td>5176</td><td>1</td><td>119116</td><td>0</td><td>119116</td><td>2396</td><td>0</td><td>2396</td><td>0.0000031211542931570000</td><td>0.0000000000000000000000</td><td>0.0000031211542931570000</td><td>0.0000030281419376400000</td><td>0.0000000930123555170000</td><td>0.0000000024300543480000</td><td>0.0000000000000000000000</td><td>0.0000030281419376400000</td><td>0.0000000000000000000000</td><td>0.0254217900000</td><td>0.0254217900000</td><td>0.0000000000000</td><td>7.4238484020000</td><td>0.0000000010000</td><td>2024-09-30 23:56:41</td><td>2024-09-30 23:56:41</td><td>0µs</td><td>1</td><td>0.041667</td><td>1</td><td>0</td><td>1</td></tr></tbody></table></div>"
      ],
      "text/plain": [
       "shape: (1, 44)\n",
       "┌────────────┬──────────┬───────┬────────────┬───┬────────────┬────────────┬───────────┬───────────┐\n",
       "│ from_addre ┆ chain_id ┆ chain ┆ dt         ┆ … ┆ perc_daily ┆ num_to_add ┆ num_to_ad ┆ num_to_ad │\n",
       "│ ss         ┆ ---      ┆ ---   ┆ ---        ┆   ┆ _hours_act ┆ resses     ┆ dresses_s ┆ dresses_f │\n",
       "│ ---        ┆ i32      ┆ str   ┆ str        ┆   ┆ ive        ┆ ---        ┆ uccess    ┆ ail       │\n",
       "│ str        ┆          ┆       ┆            ┆   ┆ ---        ┆ u32        ┆ ---       ┆ ---       │\n",
       "│            ┆          ┆       ┆            ┆   ┆ f64        ┆            ┆ u32       ┆ u32       │\n",
       "╞════════════╪══════════╪═══════╪════════════╪═══╪════════════╪════════════╪═══════════╪═══════════╡\n",
       "│ 0xd2c52bfc ┆ 10       ┆ op    ┆ 2024-09-30 ┆ … ┆ 0.041667   ┆ 1          ┆ 0         ┆ 1         │\n",
       "│ e3a40c8ec8 ┆          ┆       ┆            ┆   ┆            ┆            ┆           ┆           │\n",
       "│ cb79a64501 ┆          ┆       ┆            ┆   ┆            ┆            ┆           ┆           │\n",
       "│ …          ┆          ┆       ┆            ┆   ┆            ┆            ┆           ┆           │\n",
       "└────────────┴──────────┴───────┴────────────┴───┴────────────┴────────────┴───────────┴───────────┘"
      ]
     },
     "execution_count": 10,
     "metadata": {},
     "output_type": "execute_result"
    }
   ],
   "source": [
    "test_result"
   ]
  },
  {
   "cell_type": "code",
   "execution_count": 11,
   "metadata": {},
   "outputs": [
    {
     "data": {
      "text/html": [
       "<div><style>\n",
       ".dataframe > thead > tr,\n",
       ".dataframe > tbody > tr {\n",
       "  text-align: right;\n",
       "  white-space: pre-wrap;\n",
       "}\n",
       "</style>\n",
       "<small>shape: (1, 32)</small><table border=\"1\" class=\"dataframe\"><thead><tr><th>dt</th><th>chain</th><th>network</th><th>chain_id</th><th>block_timestamp</th><th>block_number</th><th>block_hash</th><th>hash</th><th>nonce</th><th>transaction_index</th><th>from_address</th><th>to_address</th><th>value_64</th><th>value_lossless</th><th>gas</th><th>gas_price</th><th>input</th><th>transaction_type</th><th>max_fee_per_gas</th><th>max_priority_fee_per_gas</th><th>receipt_cumulative_gas_used</th><th>receipt_gas_used</th><th>receipt_contract_address</th><th>receipt_status</th><th>receipt_effective_gas_price</th><th>receipt_l1_gas_price</th><th>receipt_l1_gas_used</th><th>receipt_l1_fee</th><th>receipt_l1_fee_scalar</th><th>receipt_l1_blob_base_fee</th><th>receipt_l1_blob_base_fee_scalar</th><th>receipt_l1_base_fee_scalar</th></tr><tr><td>str</td><td>str</td><td>str</td><td>i32</td><td>u32</td><td>i64</td><td>str</td><td>str</td><td>i64</td><td>i64</td><td>str</td><td>str</td><td>i64</td><td>str</td><td>i64</td><td>i64</td><td>str</td><td>i32</td><td>i64</td><td>i64</td><td>i64</td><td>i64</td><td>str</td><td>i32</td><td>i64</td><td>i64</td><td>i64</td><td>i64</td><td>f64</td><td>i64</td><td>i64</td><td>i64</td></tr></thead><tbody><tr><td>&quot;2024-09-30&quot;</td><td>&quot;op&quot;</td><td>&quot;mainnet&quot;</td><td>10</td><td>1727740601</td><td>126070912</td><td>&quot;0xb2533105b565d1e534999d4a4a8e…</td><td>&quot;0xc64c1471f38b0444d143011c0261…</td><td>5176</td><td>4</td><td>&quot;0xd2c52bfce3a40c8ec8cb79a64501…</td><td>&quot;0xcc78b2a3df6444a739badfb67410…</td><td>0</td><td>&quot;0&quot;</td><td>1241000</td><td>25421790</td><td>&quot;0x0000000102040830725ac80454f1…</td><td>0</td><td>0</td><td>0</td><td>450678</td><td>119116</td><td>&quot;&quot;</td><td>0</td><td>25421790</td><td>7423848402</td><td>2396</td><td>93012355517</td><td>null</td><td>1</td><td>1014213</td><td>5227</td></tr></tbody></table></div>"
      ],
      "text/plain": [
       "shape: (1, 32)\n",
       "┌────────────┬───────┬─────────┬──────────┬───┬─────────────┬────────────┬────────────┬────────────┐\n",
       "│ dt         ┆ chain ┆ network ┆ chain_id ┆ … ┆ receipt_l1_ ┆ receipt_l1 ┆ receipt_l1 ┆ receipt_l1 │\n",
       "│ ---        ┆ ---   ┆ ---     ┆ ---      ┆   ┆ fee_scalar  ┆ _blob_base ┆ _blob_base ┆ _base_fee_ │\n",
       "│ str        ┆ str   ┆ str     ┆ i32      ┆   ┆ ---         ┆ _fee       ┆ _fee_scala ┆ scalar     │\n",
       "│            ┆       ┆         ┆          ┆   ┆ f64         ┆ ---        ┆ …          ┆ ---        │\n",
       "│            ┆       ┆         ┆          ┆   ┆             ┆ i64        ┆ ---        ┆ i64        │\n",
       "│            ┆       ┆         ┆          ┆   ┆             ┆            ┆ i64        ┆            │\n",
       "╞════════════╪═══════╪═════════╪══════════╪═══╪═════════════╪════════════╪════════════╪════════════╡\n",
       "│ 2024-09-30 ┆ op    ┆ mainnet ┆ 10       ┆ … ┆ null        ┆ 1          ┆ 1014213    ┆ 5227       │\n",
       "└────────────┴───────┴─────────┴──────────┴───┴─────────────┴────────────┴────────────┴────────────┘"
      ]
     },
     "execution_count": 11,
     "metadata": {},
     "output_type": "execute_result"
    }
   ],
   "source": [
    "test_df = dataframes[\"transactions\"].filter(\n",
    "    dataframes[\"transactions\"][\"hash\"]\n",
    "    == \"0xc64c1471f38b0444d143011c0261a6c14d76a8b32115d39a3f3bf11af337eb55\"\n",
    ")\n",
    "test_df"
   ]
  },
  {
   "cell_type": "code",
   "execution_count": 12,
   "metadata": {},
   "outputs": [],
   "source": [
    "receipt_l1_gas_used = pl.select(test_df[\"receipt_l1_gas_used\"]).item()\n",
    "receipt_l1_base_fee_scalar = pl.select(test_df[\"receipt_l1_base_fee_scalar\"]).item()\n",
    "receipt_l1_gas_price = pl.select(test_df[\"receipt_l1_gas_price\"]).item()"
   ]
  },
  {
   "cell_type": "code",
   "execution_count": 13,
   "metadata": {},
   "outputs": [
    {
     "data": {
      "text/plain": [
       "0.09297547561102057"
      ]
     },
     "execution_count": 13,
     "metadata": {},
     "output_type": "execute_result"
    }
   ],
   "source": [
    "(receipt_l1_gas_used * receipt_l1_base_fee_scalar * receipt_l1_gas_price) / 1e18"
   ]
  },
  {
   "cell_type": "code",
   "execution_count": 14,
   "metadata": {},
   "outputs": [
    {
     "name": "stdout",
     "output_type": "stream",
     "text": [
      "0x29ca6a42c2164ccddd912b227e3547685d34e27f63f0c29504b4420787a4c54f\n",
      "0xdfe5c1ec2e815e37421e08cf838636e6d1c2ca3b069ca05a698c501e14920af5\n",
      "0x4fe06c4733a8115872d016e976c60dcc8dba796beb583044acebc5048378a4aa\n"
     ]
    }
   ],
   "source": [
    "for i in list(test_multiple_txs_df[\"hash\"]):\n",
    "    print(i)"
   ]
  }
 ],
 "metadata": {
  "kernelspec": {
   "display_name": ".venv",
   "language": "python",
   "name": "python3"
  },
  "language_info": {
   "codemirror_mode": {
    "name": "ipython",
    "version": 3
   },
   "file_extension": ".py",
   "mimetype": "text/x-python",
   "name": "python",
   "nbconvert_exporter": "python",
   "pygments_lexer": "ipython3",
   "version": "3.12.3"
  }
 },
 "nbformat": 4,
 "nbformat_minor": 2
}
