{
 "cells": [
  {
   "cell_type": "code",
   "execution_count": 1,
   "metadata": {},
   "outputs": [
    {
     "name": "stdout",
     "output_type": "stream",
     "text": [
      "\u001b[2m2024-10-17 11:30:14\u001b[0m [\u001b[32m\u001b[1minfo     \u001b[0m] \u001b[1mLoaded env var: OP_ANALYTICS_VAULT\u001b[0m\n"
     ]
    }
   ],
   "source": [
    "import polars as pl\n",
    "from op_datasets.processing.execute import reader, BatchInput\n",
    "from op_datasets.logic.transforms.daily_address_summary import (\n",
    "    daily_address_summary,\n",
    "    CONDITIONS,\n",
    ")\n",
    "from op_coreutils.logger import structlog\n",
    "from op_coreutils.bigquery.write import overwrite_partitions\n",
    "\n",
    "from datetime import datetime\n",
    "import os\n",
    "\n",
    "os.environ[\"OPLABS_ENV\"] = \"PROD\"\n",
    "\n",
    "\n",
    "log = structlog.get_logger()"
   ]
  },
  {
   "cell_type": "code",
   "execution_count": 2,
   "metadata": {},
   "outputs": [
    {
     "name": "stdout",
     "output_type": "stream",
     "text": [
      "\u001b[2m2024-10-17 11:30:15\u001b[0m [\u001b[32m\u001b[1minfo     \u001b[0m] \u001b[1mLoaded 5 items into vault.    \u001b[0m\n",
      "\u001b[2m2024-10-17 11:30:16\u001b[0m [\u001b[32m\u001b[1minfo     \u001b[0m] \u001b[1mInitialized Clickhouse client.\u001b[0m\n",
      "\u001b[2m2024-10-17 11:30:16\u001b[0m [\u001b[32m\u001b[1minfo     \u001b[0m] \u001b[1mQuery success: blocks in 1.26s 2000 rows\u001b[0m\n",
      "\u001b[2m2024-10-17 11:30:18\u001b[0m [\u001b[32m\u001b[1minfo     \u001b[0m] \u001b[1mQuery success: transactions in 2.57s 43972 rows\u001b[0m\n",
      "\u001b[2m2024-10-17 11:30:18\u001b[0m [\u001b[32m\u001b[1minfo     \u001b[0m] \u001b[1mQuery success: logs in 2.76s 187138 rows\u001b[0m\n"
     ]
    }
   ],
   "source": [
    "inputbatch: BatchInput = None\n",
    "for _inputbatch in reader(\n",
    "    chain=\"op\", block_spec=\"126071012:+500\", source_spec=\"goldsky\"\n",
    "):\n",
    "    inputbatch = _inputbatch\n",
    "    break\n",
    "\n",
    "dataframes = inputbatch.dataframes"
   ]
  },
  {
   "cell_type": "code",
   "execution_count": 3,
   "metadata": {},
   "outputs": [
    {
     "data": {
      "text/plain": [
       "{'blocks': shape: (1_012, 24)\n",
       " ┌───────┬─────────┬──────────┬────────────┬───┬──────────┬───────────┬────────────┬────────────────┐\n",
       " │ chain ┆ network ┆ chain_id ┆ dt         ┆ … ┆ gas_used ┆ gas_limit ┆ extra_data ┆ transaction_co │\n",
       " │ ---   ┆ ---     ┆ ---      ┆ ---        ┆   ┆ ---      ┆ ---       ┆ ---        ┆ unt            │\n",
       " │ str   ┆ str     ┆ i32      ┆ str        ┆   ┆ i64      ┆ i64       ┆ str        ┆ ---            │\n",
       " │       ┆         ┆          ┆            ┆   ┆          ┆           ┆            ┆ i64            │\n",
       " ╞═══════╪═════════╪══════════╪════════════╪═══╪══════════╪═══════════╪════════════╪════════════════╡\n",
       " │ op    ┆ mainnet ┆ 10       ┆ 2024-09-30 ┆ … ┆ 1779886  ┆ 30000000  ┆ 0x         ┆ 14             │\n",
       " │ op    ┆ mainnet ┆ 10       ┆ 2024-09-30 ┆ … ┆ 4285527  ┆ 30000000  ┆ 0x         ┆ 27             │\n",
       " │ op    ┆ mainnet ┆ 10       ┆ 2024-09-30 ┆ … ┆ 6187833  ┆ 30000000  ┆ 0x         ┆ 30             │\n",
       " │ op    ┆ mainnet ┆ 10       ┆ 2024-09-30 ┆ … ┆ 5164371  ┆ 30000000  ┆ 0x         ┆ 23             │\n",
       " │ op    ┆ mainnet ┆ 10       ┆ 2024-09-30 ┆ … ┆ 11982660 ┆ 30000000  ┆ 0x         ┆ 26             │\n",
       " │ …     ┆ …       ┆ …        ┆ …          ┆ … ┆ …        ┆ …         ┆ …          ┆ …              │\n",
       " │ op    ┆ mainnet ┆ 10       ┆ 2024-09-30 ┆ … ┆ 1671032  ┆ 30000000  ┆ 0x         ┆ 12             │\n",
       " │ op    ┆ mainnet ┆ 10       ┆ 2024-09-30 ┆ … ┆ 2826526  ┆ 30000000  ┆ 0x         ┆ 17             │\n",
       " │ op    ┆ mainnet ┆ 10       ┆ 2024-09-30 ┆ … ┆ 2714582  ┆ 30000000  ┆ 0x         ┆ 9              │\n",
       " │ op    ┆ mainnet ┆ 10       ┆ 2024-09-30 ┆ … ┆ 2495457  ┆ 30000000  ┆ 0x         ┆ 16             │\n",
       " │ op    ┆ mainnet ┆ 10       ┆ 2024-09-30 ┆ … ┆ 3249887  ┆ 30000000  ┆ 0x         ┆ 20             │\n",
       " └───────┴─────────┴──────────┴────────────┴───┴──────────┴───────────┴────────────┴────────────────┘,\n",
       " 'transactions': shape: (21_442, 32)\n",
       " ┌────────────┬───────┬─────────┬──────────┬───┬─────────────┬────────────┬────────────┬────────────┐\n",
       " │ dt         ┆ chain ┆ network ┆ chain_id ┆ … ┆ receipt_l1_ ┆ receipt_l1 ┆ receipt_l1 ┆ receipt_l1 │\n",
       " │ ---        ┆ ---   ┆ ---     ┆ ---      ┆   ┆ fee_scalar  ┆ _blob_base ┆ _blob_base ┆ _base_fee_ │\n",
       " │ str        ┆ str   ┆ str     ┆ i32      ┆   ┆ ---         ┆ _fee       ┆ _fee_scala ┆ scalar     │\n",
       " │            ┆       ┆         ┆          ┆   ┆ f64         ┆ ---        ┆ …          ┆ ---        │\n",
       " │            ┆       ┆         ┆          ┆   ┆             ┆ i64        ┆ ---        ┆ i64        │\n",
       " │            ┆       ┆         ┆          ┆   ┆             ┆            ┆ i64        ┆            │\n",
       " ╞════════════╪═══════╪═════════╪══════════╪═══╪═════════════╪════════════╪════════════╪════════════╡\n",
       " │ 2024-09-30 ┆ op    ┆ mainnet ┆ 10       ┆ … ┆ null        ┆ null       ┆ null       ┆ null       │\n",
       " │ 2024-09-30 ┆ op    ┆ mainnet ┆ 10       ┆ … ┆ null        ┆ 1          ┆ 1014213    ┆ 5227       │\n",
       " │ 2024-09-30 ┆ op    ┆ mainnet ┆ 10       ┆ … ┆ null        ┆ 1          ┆ 1014213    ┆ 5227       │\n",
       " │ 2024-09-30 ┆ op    ┆ mainnet ┆ 10       ┆ … ┆ null        ┆ 1          ┆ 1014213    ┆ 5227       │\n",
       " │ 2024-09-30 ┆ op    ┆ mainnet ┆ 10       ┆ … ┆ null        ┆ 1          ┆ 1014213    ┆ 5227       │\n",
       " │ …          ┆ …     ┆ …       ┆ …        ┆ … ┆ …           ┆ …          ┆ …          ┆ …          │\n",
       " │ 2024-09-30 ┆ op    ┆ mainnet ┆ 10       ┆ … ┆ null        ┆ 1          ┆ 1014213    ┆ 5227       │\n",
       " │ 2024-09-30 ┆ op    ┆ mainnet ┆ 10       ┆ … ┆ null        ┆ 1          ┆ 1014213    ┆ 5227       │\n",
       " │ 2024-09-30 ┆ op    ┆ mainnet ┆ 10       ┆ … ┆ null        ┆ 1          ┆ 1014213    ┆ 5227       │\n",
       " │ 2024-09-30 ┆ op    ┆ mainnet ┆ 10       ┆ … ┆ null        ┆ 1          ┆ 1014213    ┆ 5227       │\n",
       " │ 2024-09-30 ┆ op    ┆ mainnet ┆ 10       ┆ … ┆ null        ┆ 1          ┆ 1014213    ┆ 5227       │\n",
       " └────────────┴───────┴─────────┴──────────┴───┴─────────────┴────────────┴────────────┴────────────┘,\n",
       " 'logs': shape: (95_945, 15)\n",
       " ┌────────────┬───────┬─────────┬──────────┬───┬─────────────┬────────────┬────────────┬────────────┐\n",
       " │ dt         ┆ chain ┆ network ┆ chain_id ┆ … ┆ topics      ┆ data       ┆ topic0     ┆ indexed_ar │\n",
       " │ ---        ┆ ---   ┆ ---     ┆ ---      ┆   ┆ ---         ┆ ---        ┆ ---        ┆ gs         │\n",
       " │ str        ┆ str   ┆ str     ┆ i32      ┆   ┆ str         ┆ str        ┆ str        ┆ ---        │\n",
       " │            ┆       ┆         ┆          ┆   ┆             ┆            ┆            ┆ list[str]  │\n",
       " ╞════════════╪═══════╪═════════╪══════════╪═══╪═════════════╪════════════╪════════════╪════════════╡\n",
       " │ 2024-09-30 ┆ op    ┆ mainnet ┆ 10       ┆ … ┆ 0x2cb0eed75 ┆ 0x00000000 ┆ 0x2cb0eed7 ┆ []         │\n",
       " │            ┆       ┆         ┆          ┆   ┆ 38baeae4c6f ┆ 0000000000 ┆ 538baeae4c ┆            │\n",
       " │            ┆       ┆         ┆          ┆   ┆ de038c0f…   ┆ 000000fe65 ┆ 6fde038c0f ┆            │\n",
       " │            ┆       ┆         ┆          ┆   ┆             ┆ …          ┆ …          ┆            │\n",
       " │ 2024-09-30 ┆ op    ┆ mainnet ┆ 10       ┆ … ┆ 0x2cb0eed75 ┆ 0x00000000 ┆ 0x2cb0eed7 ┆ []         │\n",
       " │            ┆       ┆         ┆          ┆   ┆ 38baeae4c6f ┆ 0000000000 ┆ 538baeae4c ┆            │\n",
       " │            ┆       ┆         ┆          ┆   ┆ de038c0f…   ┆ 000000a7b5 ┆ 6fde038c0f ┆            │\n",
       " │            ┆       ┆         ┆          ┆   ┆             ┆ …          ┆ …          ┆            │\n",
       " │ 2024-09-30 ┆ op    ┆ mainnet ┆ 10       ┆ … ┆ 0xddf252ad1 ┆ 0x00000000 ┆ 0xddf252ad ┆ [\"0x000000 │\n",
       " │            ┆       ┆         ┆          ┆   ┆ be2c89b69c2 ┆ 0000000000 ┆ 1be2c89b69 ┆ 0000000000 │\n",
       " │            ┆       ┆         ┆          ┆   ┆ b068fc37…   ┆ 0000000000 ┆ c2b068fc37 ┆ 000000007b │\n",
       " │            ┆       ┆         ┆          ┆   ┆             ┆ …          ┆ …          ┆ …          │\n",
       " │ 2024-09-30 ┆ op    ┆ mainnet ┆ 10       ┆ … ┆ 0x442e715f6 ┆ 0xf3d819e0 ┆ 0x442e715f ┆ []         │\n",
       " │            ┆       ┆         ┆          ┆   ┆ 26346e8c543 ┆ b94b95c7f6 ┆ 626346e8c5 ┆            │\n",
       " │            ┆       ┆         ┆          ┆   ┆ 81002da6…   ┆ 13ac21b7b0 ┆ 4381002da6 ┆            │\n",
       " │            ┆       ┆         ┆          ┆   ┆             ┆ …          ┆ …          ┆            │\n",
       " │ 2024-09-30 ┆ op    ┆ mainnet ┆ 10       ┆ … ┆ 0x7084f5476 ┆ 0x00000000 ┆ 0x7084f547 ┆ [\"0x000000 │\n",
       " │            ┆       ┆         ┆          ┆   ┆ 618d8e60b11 ┆ 0000000000 ┆ 6618d8e60b ┆ 0000000000 │\n",
       " │            ┆       ┆         ┆          ┆   ┆ ef0d7d3f…   ┆ 0000000000 ┆ 11ef0d7d3f ┆ 00000000c8 │\n",
       " │            ┆       ┆         ┆          ┆   ┆             ┆ …          ┆ …          ┆ …          │\n",
       " │ …          ┆ …     ┆ …       ┆ …        ┆ … ┆ …           ┆ …          ┆ …          ┆ …          │\n",
       " │ 2024-09-30 ┆ op    ┆ mainnet ┆ 10       ┆ … ┆ 0x442e715f6 ┆ 0xf18713a1 ┆ 0x442e715f ┆ []         │\n",
       " │            ┆       ┆         ┆          ┆   ┆ 26346e8c543 ┆ 46d8ddd0bc ┆ 626346e8c5 ┆            │\n",
       " │            ┆       ┆         ┆          ┆   ┆ 81002da6…   ┆ 89cf72d1c2 ┆ 4381002da6 ┆            │\n",
       " │            ┆       ┆         ┆          ┆   ┆             ┆ …          ┆ …          ┆            │\n",
       " │ 2024-09-30 ┆ op    ┆ mainnet ┆ 10       ┆ … ┆ 0xddf252ad1 ┆ 0x00000000 ┆ 0xddf252ad ┆ [\"0x000000 │\n",
       " │            ┆       ┆         ┆          ┆   ┆ be2c89b69c2 ┆ 0000000000 ┆ 1be2c89b69 ┆ 0000000000 │\n",
       " │            ┆       ┆         ┆          ┆   ┆ b068fc37…   ┆ 0000000000 ┆ c2b068fc37 ┆ 000000006a │\n",
       " │            ┆       ┆         ┆          ┆   ┆             ┆ …          ┆ …          ┆ …          │\n",
       " │ 2024-09-30 ┆ op    ┆ mainnet ┆ 10       ┆ … ┆ 0x442e715f6 ┆ 0x8e88e6e5 ┆ 0x442e715f ┆ []         │\n",
       " │            ┆       ┆         ┆          ┆   ┆ 26346e8c543 ┆ ea9cb56542 ┆ 626346e8c5 ┆            │\n",
       " │            ┆       ┆         ┆          ┆   ┆ 81002da6…   ┆ 3cdbecba4e ┆ 4381002da6 ┆            │\n",
       " │            ┆       ┆         ┆          ┆   ┆             ┆ …          ┆ …          ┆            │\n",
       " │ 2024-09-30 ┆ op    ┆ mainnet ┆ 10       ┆ … ┆ 0x66753cd23 ┆ 0x00000000 ┆ 0x66753cd2 ┆ []         │\n",
       " │            ┆       ┆         ┆          ┆   ┆ 56569ee0812 ┆ 0000000000 ┆ 356569ee08 ┆            │\n",
       " │            ┆       ┆         ┆          ┆   ┆ 32e3be89…   ┆ 000000dc6f ┆ 1232e3be89 ┆            │\n",
       " │            ┆       ┆         ┆          ┆   ┆             ┆ …          ┆ …          ┆            │\n",
       " │ 2024-09-30 ┆ op    ┆ mainnet ┆ 10       ┆ … ┆ 0xddf252ad1 ┆ 0x00000000 ┆ 0xddf252ad ┆ [\"0x000000 │\n",
       " │            ┆       ┆         ┆          ┆   ┆ be2c89b69c2 ┆ 0000000000 ┆ 1be2c89b69 ┆ 0000000000 │\n",
       " │            ┆       ┆         ┆          ┆   ┆ b068fc37…   ┆ 0000000000 ┆ c2b068fc37 ┆ 000000009c │\n",
       " │            ┆       ┆         ┆          ┆   ┆             ┆ …          ┆ …          ┆ …          │\n",
       " └────────────┴───────┴─────────┴──────────┴───┴─────────────┴────────────┴────────────┴────────────┘}"
      ]
     },
     "execution_count": 3,
     "metadata": {},
     "output_type": "execute_result"
    }
   ],
   "source": [
    "dataframes"
   ]
  },
  {
   "cell_type": "code",
   "execution_count": 4,
   "metadata": {},
   "outputs": [
    {
     "name": "stdout",
     "output_type": "stream",
     "text": [
      "\u001b[2m2024-10-17 11:30:18\u001b[0m [\u001b[32m\u001b[1minfo     \u001b[0m] \u001b[1mMin block number: 126070000   \u001b[0m\n",
      "\u001b[2m2024-10-17 11:30:18\u001b[0m [\u001b[32m\u001b[1minfo     \u001b[0m] \u001b[1mMax block number: 126071011   \u001b[0m\n",
      "\u001b[2m2024-10-17 11:30:18\u001b[0m [\u001b[32m\u001b[1minfo     \u001b[0m] \u001b[1mMin block number: 2024-09-30 19:26:17\u001b[0m\n",
      "\u001b[2m2024-10-17 11:30:18\u001b[0m [\u001b[32m\u001b[1minfo     \u001b[0m] \u001b[1mMax block number: 2024-09-30 19:59:59\u001b[0m\n"
     ]
    }
   ],
   "source": [
    "# check if our blocks are in the range we want\n",
    "\n",
    "log.info(f\"Min block number: {dataframes['blocks']['number'].min()}\")\n",
    "log.info(f\"Max block number: {dataframes['blocks']['number'].max()}\")\n",
    "log.info(\n",
    "    f\"Min block number: {datetime.fromtimestamp(dataframes['blocks']['timestamp'].min())}\"\n",
    ")\n",
    "log.info(\n",
    "    f\"Max block number: {datetime.fromtimestamp(dataframes['blocks']['timestamp'].max())}\"\n",
    ")"
   ]
  },
  {
   "cell_type": "code",
   "execution_count": 5,
   "metadata": {},
   "outputs": [],
   "source": [
    "result = daily_address_summary(\n",
    "    dataframes[\"transactions\"],\n",
    "    conditions=CONDITIONS,\n",
    "    address=\"from_address\",\n",
    "    chain_id=\"chain_id\",\n",
    "    chain=\"chain\",\n",
    "    dt=\"dt\",\n",
    ")"
   ]
  },
  {
   "cell_type": "code",
   "execution_count": 6,
   "metadata": {},
   "outputs": [
    {
     "data": {
      "text/html": [
       "<div><style>\n",
       ".dataframe > thead > tr,\n",
       ".dataframe > tbody > tr {\n",
       "  text-align: right;\n",
       "  white-space: pre-wrap;\n",
       "}\n",
       "</style>\n",
       "<small>shape: (5, 44)</small><table border=\"1\" class=\"dataframe\"><thead><tr><th>from_address</th><th>chain_id</th><th>chain</th><th>dt</th><th>total_txs</th><th>total_txs_success</th><th>total_txs_fail</th><th>total_blocks</th><th>total_blocks_success</th><th>total_blocks_fail</th><th>min_block_number</th><th>max_block_number</th><th>block_interval_active</th><th>min_nonce</th><th>max_nonce</th><th>nonce_interval_active</th><th>total_l2_gas_used</th><th>total_l2_gas_used_success</th><th>total_l2_gas_used_fail</th><th>total_l1_gas_used</th><th>total_l1_gas_used_success</th><th>total_l1_gas_used_fail</th><th>total_gas_fees</th><th>total_gas_fees_success</th><th>total_gas_fees_fail</th><th>l2_contrib_gas_fees</th><th>l1_contrib_gas_fees</th><th>l1_blobgas_contrib_gas_fees</th><th>l1_l1gas_contrib_gas_fees</th><th>l2_contrib_gas_fees_base_fee</th><th>l2_contrib_gas_fees_priority_fee</th><th>avg_l2_gas_price_gwei</th><th>avg_l2_base_fee_gwei</th><th>avg_l2_priority_fee_gwei</th><th>avg_l1_gas_price_gwei</th><th>avg_l1_blob_base_fee_gwei</th><th>min_block_timestamp</th><th>max_block_timestamp</th><th>time_interval_active</th><th>unique_hours_active</th><th>perc_daily_hours_active</th><th>num_to_addresses</th><th>num_to_addresses_success</th><th>num_to_addresses_fail</th></tr><tr><td>str</td><td>i32</td><td>str</td><td>str</td><td>u32</td><td>u32</td><td>u32</td><td>u32</td><td>u32</td><td>u32</td><td>i64</td><td>i64</td><td>i64</td><td>i64</td><td>i64</td><td>i64</td><td>i64</td><td>i64</td><td>i64</td><td>i64</td><td>i64</td><td>i64</td><td>decimal[*,22]</td><td>decimal[*,22]</td><td>decimal[*,22]</td><td>decimal[*,22]</td><td>decimal[*,22]</td><td>decimal[*,22]</td><td>decimal[*,22]</td><td>decimal[*,22]</td><td>decimal[*,22]</td><td>decimal[*,17]</td><td>decimal[*,17]</td><td>decimal[*,17]</td><td>decimal[*,17]</td><td>decimal[*,17]</td><td>datetime[μs]</td><td>datetime[μs]</td><td>duration[μs]</td><td>u32</td><td>f64</td><td>u32</td><td>u32</td><td>u32</td></tr></thead><tbody><tr><td>&quot;0x90ed778edda7ea75f9b331a138a5…</td><td>10</td><td>&quot;op&quot;</td><td>&quot;2024-09-30&quot;</td><td>1</td><td>1</td><td>0</td><td>1</td><td>1</td><td>0</td><td>126070736</td><td>126070736</td><td>1</td><td>4175</td><td>4175</td><td>1</td><td>51532</td><td>51532</td><td>0</td><td>1600</td><td>1600</td><td>0</td><td>0.0000052812459416470000</td><td>0.0000052812459416470000</td><td>0.0000000000000000000000</td><td>0.0000052169436926360000</td><td>0.0000000643022490110000</td><td>0.0000000016227408000000</td><td>0.0000000000000000000000</td><td>0.0000000637436926360000</td><td>0.0000051532000000000000</td><td>0.10123697300000000</td><td>0.00123697300000000</td><td>0.10000000000000000</td><td>7.68871352000000000</td><td>0.00000000100000000</td><td>2024-09-30 23:50:49</td><td>2024-09-30 23:50:49</td><td>0µs</td><td>1</td><td>0.041667</td><td>1</td><td>1</td><td>0</td></tr><tr><td>&quot;0xba3534f139f02b3dc358175858eb…</td><td>10</td><td>&quot;op&quot;</td><td>&quot;2024-09-30&quot;</td><td>1</td><td>1</td><td>0</td><td>1</td><td>1</td><td>0</td><td>126070458</td><td>126070458</td><td>1</td><td>2</td><td>2</td><td>1</td><td>34750</td><td>34750</td><td>0</td><td>1600</td><td>1600</td><td>0</td><td>0.0000004399850244850000</td><td>0.0000004399850244850000</td><td>0.0000000000000000000000</td><td>0.0000003844624977500000</td><td>0.0000000555225267350000</td><td>0.0000000016227408000000</td><td>0.0000000000000000000000</td><td>0.0000000369624977500000</td><td>0.0000003475000000000000</td><td>0.01106366900000000</td><td>0.00106366900000000</td><td>0.01000000000000000</td><td>6.63890934500000000</td><td>0.00000000100000000</td><td>2024-09-30 23:41:33</td><td>2024-09-30 23:41:33</td><td>0µs</td><td>1</td><td>0.041667</td><td>1</td><td>1</td><td>0</td></tr><tr><td>&quot;0xbdccb78e31a28e84235491e8a2d7…</td><td>10</td><td>&quot;op&quot;</td><td>&quot;2024-09-30&quot;</td><td>9</td><td>9</td><td>0</td><td>9</td><td>9</td><td>0</td><td>126070076</td><td>126070742</td><td>667</td><td>40756</td><td>40764</td><td>9</td><td>2197735</td><td>2197735</td><td>0</td><td>14400</td><td>14400</td><td>0</td><td>0.0000104140830998830000</td><td>0.0000104140830998830000</td><td>0.0000000000000000000000</td><td>0.0000099395688969620000</td><td>0.0000004745142029210000</td><td>0.0000000146046672000000</td><td>0.0000000000000000000000</td><td>0.0000021127629035180000</td><td>0.0000078268059934440000</td><td>0.00452264212790077</td><td>0.00096133651396460</td><td>0.00356130561393616</td><td>6.30426155344444444</td><td>0.00000000100000000</td><td>2024-09-30 23:28:49</td><td>2024-09-30 23:51:01</td><td>22m 12s</td><td>1</td><td>0.041667</td><td>1</td><td>1</td><td>0</td></tr><tr><td>&quot;0xc3be5fc83d407f5810b0b0cd4a82…</td><td>10</td><td>&quot;op&quot;</td><td>&quot;2024-09-30&quot;</td><td>2</td><td>2</td><td>0</td><td>2</td><td>2</td><td>0</td><td>126070114</td><td>126070980</td><td>867</td><td>309</td><td>310</td><td>2</td><td>59240</td><td>59240</td><td>0</td><td>3200</td><td>3200</td><td>0</td><td>0.0000002975833542980000</td><td>0.0000002975833542980000</td><td>0.0000000000000000000000</td><td>0.0000001817146716800000</td><td>0.0000001158686826180000</td><td>0.0000000032454816000000</td><td>0.0000000000000000000000</td><td>0.0000001817146716800000</td><td>0.0000000000000000000000</td><td>0.00306743200000000</td><td>0.00306743200000000</td><td>0.00000000000000000</td><td>6.92729352500000000</td><td>0.00000000100000000</td><td>2024-09-30 23:30:05</td><td>2024-09-30 23:58:57</td><td>28m 52s</td><td>1</td><td>0.041667</td><td>1</td><td>1</td><td>0</td></tr><tr><td>&quot;0x6a135231ecf380bf85bc9c302c18…</td><td>10</td><td>&quot;op&quot;</td><td>&quot;2024-09-30&quot;</td><td>1</td><td>1</td><td>0</td><td>1</td><td>1</td><td>0</td><td>126070323</td><td>126070323</td><td>1</td><td>0</td><td>0</td><td>1</td><td>21000</td><td>21000</td><td>0</td><td>1600</td><td>1600</td><td>0</td><td>0.0000000984047167430000</td><td>0.0000000984047167430000</td><td>0.0000000000000000000000</td><td>0.0000000427536480000000</td><td>0.0000000556510687430000</td><td>0.0000000016227408000000</td><td>0.0000000000000000000000</td><td>0.0000000427536480000000</td><td>0.0000000000000000000000</td><td>0.00203588800000000</td><td>0.00203588800000000</td><td>0.00000000000000000</td><td>6.65427930000000000</td><td>0.00000000100000000</td><td>2024-09-30 23:37:03</td><td>2024-09-30 23:37:03</td><td>0µs</td><td>1</td><td>0.041667</td><td>1</td><td>1</td><td>0</td></tr></tbody></table></div>"
      ],
      "text/plain": [
       "shape: (5, 44)\n",
       "┌────────────┬──────────┬───────┬────────────┬───┬────────────┬────────────┬───────────┬───────────┐\n",
       "│ from_addre ┆ chain_id ┆ chain ┆ dt         ┆ … ┆ perc_daily ┆ num_to_add ┆ num_to_ad ┆ num_to_ad │\n",
       "│ ss         ┆ ---      ┆ ---   ┆ ---        ┆   ┆ _hours_act ┆ resses     ┆ dresses_s ┆ dresses_f │\n",
       "│ ---        ┆ i32      ┆ str   ┆ str        ┆   ┆ ive        ┆ ---        ┆ uccess    ┆ ail       │\n",
       "│ str        ┆          ┆       ┆            ┆   ┆ ---        ┆ u32        ┆ ---       ┆ ---       │\n",
       "│            ┆          ┆       ┆            ┆   ┆ f64        ┆            ┆ u32       ┆ u32       │\n",
       "╞════════════╪══════════╪═══════╪════════════╪═══╪════════════╪════════════╪═══════════╪═══════════╡\n",
       "│ 0x90ed778e ┆ 10       ┆ op    ┆ 2024-09-30 ┆ … ┆ 0.041667   ┆ 1          ┆ 1         ┆ 0         │\n",
       "│ dda7ea75f9 ┆          ┆       ┆            ┆   ┆            ┆            ┆           ┆           │\n",
       "│ b331a138a5 ┆          ┆       ┆            ┆   ┆            ┆            ┆           ┆           │\n",
       "│ …          ┆          ┆       ┆            ┆   ┆            ┆            ┆           ┆           │\n",
       "│ 0xba3534f1 ┆ 10       ┆ op    ┆ 2024-09-30 ┆ … ┆ 0.041667   ┆ 1          ┆ 1         ┆ 0         │\n",
       "│ 39f02b3dc3 ┆          ┆       ┆            ┆   ┆            ┆            ┆           ┆           │\n",
       "│ 58175858eb ┆          ┆       ┆            ┆   ┆            ┆            ┆           ┆           │\n",
       "│ …          ┆          ┆       ┆            ┆   ┆            ┆            ┆           ┆           │\n",
       "│ 0xbdccb78e ┆ 10       ┆ op    ┆ 2024-09-30 ┆ … ┆ 0.041667   ┆ 1          ┆ 1         ┆ 0         │\n",
       "│ 31a28e8423 ┆          ┆       ┆            ┆   ┆            ┆            ┆           ┆           │\n",
       "│ 5491e8a2d7 ┆          ┆       ┆            ┆   ┆            ┆            ┆           ┆           │\n",
       "│ …          ┆          ┆       ┆            ┆   ┆            ┆            ┆           ┆           │\n",
       "│ 0xc3be5fc8 ┆ 10       ┆ op    ┆ 2024-09-30 ┆ … ┆ 0.041667   ┆ 1          ┆ 1         ┆ 0         │\n",
       "│ 3d407f5810 ┆          ┆       ┆            ┆   ┆            ┆            ┆           ┆           │\n",
       "│ b0b0cd4a82 ┆          ┆       ┆            ┆   ┆            ┆            ┆           ┆           │\n",
       "│ …          ┆          ┆       ┆            ┆   ┆            ┆            ┆           ┆           │\n",
       "│ 0x6a135231 ┆ 10       ┆ op    ┆ 2024-09-30 ┆ … ┆ 0.041667   ┆ 1          ┆ 1         ┆ 0         │\n",
       "│ ecf380bf85 ┆          ┆       ┆            ┆   ┆            ┆            ┆           ┆           │\n",
       "│ bc9c302c18 ┆          ┆       ┆            ┆   ┆            ┆            ┆           ┆           │\n",
       "│ …          ┆          ┆       ┆            ┆   ┆            ┆            ┆           ┆           │\n",
       "└────────────┴──────────┴───────┴────────────┴───┴────────────┴────────────┴───────────┴───────────┘"
      ]
     },
     "execution_count": 6,
     "metadata": {},
     "output_type": "execute_result"
    }
   ],
   "source": [
    "# list(result.head()[\"hash\"])\n",
    "result.head()"
   ]
  },
  {
   "cell_type": "code",
   "execution_count": 7,
   "metadata": {},
   "outputs": [
    {
     "name": "stdout",
     "output_type": "stream",
     "text": [
      "\u001b[2m2024-10-17 11:30:18\u001b[0m [\u001b[32m\u001b[1minfo     \u001b[0m] \u001b[1mWriting 1 partitions to BQ [2024-09-30 00:00:00 ... 2024-09-30 00:00:00]\u001b[0m\n",
      "\u001b[2m2024-10-17 11:30:18\u001b[0m [\u001b[32m\u001b[1minfo     \u001b[0m] \u001b[1mDRYRUN OVERWRITE PARTITION: Wrote 2.3Krows 290.7KB to BQ temp.daily_address_summary\u001b[0m\n"
     ]
    }
   ],
   "source": [
    "overwrite_partitions(result, \"temp\", \"daily_address_summary\", expiration_days=999)"
   ]
  }
 ],
 "metadata": {
  "kernelspec": {
   "display_name": ".venv",
   "language": "python",
   "name": "python3"
  },
  "language_info": {
   "codemirror_mode": {
    "name": "ipython",
    "version": 3
   },
   "file_extension": ".py",
   "mimetype": "text/x-python",
   "name": "python",
   "nbconvert_exporter": "python",
   "pygments_lexer": "ipython3",
   "version": "3.12.3"
  }
 },
 "nbformat": 4,
 "nbformat_minor": 2
}
