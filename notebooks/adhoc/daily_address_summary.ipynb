{
 "cells": [
  {
   "cell_type": "code",
   "execution_count": 1,
   "metadata": {},
   "outputs": [
    {
     "name": "stdout",
     "output_type": "stream",
     "text": [
      "\u001b[2m2024-10-16 18:58:49\u001b[0m [\u001b[32m\u001b[1minfo     \u001b[0m] \u001b[1mLoaded env var: OP_ANALYTICS_VAULT\u001b[0m\n"
     ]
    }
   ],
   "source": [
    "import polars as pl\n",
    "from op_datasets.processing.execute import reader, BatchInput\n",
    "from op_datasets.logic.transforms.daily_address_summary import (\n",
    "    daily_address_summary,\n",
    "    CONDITIONS,\n",
    ")\n",
    "from op_coreutils.logger import structlog\n",
    "from op_coreutils.bigquery.write import overwrite_partitions\n",
    "\n",
    "from datetime import datetime\n",
    "import os\n",
    "\n",
    "os.environ[\"OPLABS_ENV\"] = \"prod\"\n",
    "\n",
    "\n",
    "log = structlog.get_logger()"
   ]
  },
  {
   "cell_type": "code",
   "execution_count": 2,
   "metadata": {},
   "outputs": [
    {
     "name": "stdout",
     "output_type": "stream",
     "text": [
      "\u001b[2m2024-10-16 18:58:50\u001b[0m [\u001b[32m\u001b[1minfo     \u001b[0m] \u001b[1mLoaded 5 items into vault.    \u001b[0m\n",
      "\u001b[2m2024-10-16 18:58:51\u001b[0m [\u001b[32m\u001b[1minfo     \u001b[0m] \u001b[1mInitialized Clickhouse client.\u001b[0m\n",
      "\u001b[2m2024-10-16 18:58:51\u001b[0m [\u001b[32m\u001b[1minfo     \u001b[0m] \u001b[1mQuery success: blocks in 1.35s 2000 rows\u001b[0m\n",
      "\u001b[2m2024-10-16 18:58:52\u001b[0m [\u001b[32m\u001b[1minfo     \u001b[0m] \u001b[1mQuery success: transactions in 1.97s 14166 rows\u001b[0m\n",
      "\u001b[2m2024-10-16 18:58:52\u001b[0m [\u001b[32m\u001b[1minfo     \u001b[0m] \u001b[1mQuery success: logs in 2.40s 59381 rows\u001b[0m\n"
     ]
    }
   ],
   "source": [
    "inputbatch: BatchInput = None\n",
    "for _inputbatch in reader(\n",
    "    chain=\"op\", block_spec=\"105376883:+500\", source_spec=\"goldsky\"\n",
    "):\n",
    "    inputbatch = _inputbatch\n",
    "    break\n",
    "\n",
    "dataframes = inputbatch.dataframes"
   ]
  },
  {
   "cell_type": "code",
   "execution_count": 3,
   "metadata": {},
   "outputs": [
    {
     "data": {
      "text/plain": [
       "{'blocks': shape: (2_000, 24)\n",
       " ┌───────┬─────────┬──────────┬────────────┬───┬──────────┬───────────┬────────────┬────────────────┐\n",
       " │ chain ┆ network ┆ chain_id ┆ dt         ┆ … ┆ gas_used ┆ gas_limit ┆ extra_data ┆ transaction_co │\n",
       " │ ---   ┆ ---     ┆ ---      ┆ ---        ┆   ┆ ---      ┆ ---       ┆ ---        ┆ unt            │\n",
       " │ str   ┆ str     ┆ i32      ┆ str        ┆   ┆ i64      ┆ i64       ┆ str        ┆ ---            │\n",
       " │       ┆         ┆          ┆            ┆   ┆          ┆           ┆            ┆ i64            │\n",
       " ╞═══════╪═════════╪══════════╪════════════╪═══╪══════════╪═══════════╪════════════╪════════════════╡\n",
       " │ op    ┆ mainnet ┆ 10       ┆ 2023-06-09 ┆ … ┆ 676868   ┆ 30000000  ┆ 0x         ┆ 5              │\n",
       " │ op    ┆ mainnet ┆ 10       ┆ 2023-06-09 ┆ … ┆ 1149120  ┆ 30000000  ┆ 0x         ┆ 7              │\n",
       " │ op    ┆ mainnet ┆ 10       ┆ 2023-06-09 ┆ … ┆ 3368746  ┆ 30000000  ┆ 0x         ┆ 9              │\n",
       " │ op    ┆ mainnet ┆ 10       ┆ 2023-06-09 ┆ … ┆ 4173936  ┆ 30000000  ┆ 0x         ┆ 7              │\n",
       " │ op    ┆ mainnet ┆ 10       ┆ 2023-06-09 ┆ … ┆ 2970850  ┆ 30000000  ┆ 0x         ┆ 10             │\n",
       " │ …     ┆ …       ┆ …        ┆ …          ┆ … ┆ …        ┆ …         ┆ …          ┆ …              │\n",
       " │ op    ┆ mainnet ┆ 10       ┆ 2023-06-09 ┆ … ┆ 2845100  ┆ 30000000  ┆ 0x         ┆ 6              │\n",
       " │ op    ┆ mainnet ┆ 10       ┆ 2023-06-09 ┆ … ┆ 1902960  ┆ 30000000  ┆ 0x         ┆ 12             │\n",
       " │ op    ┆ mainnet ┆ 10       ┆ 2023-06-09 ┆ … ┆ 9648970  ┆ 30000000  ┆ 0x         ┆ 8              │\n",
       " │ op    ┆ mainnet ┆ 10       ┆ 2023-06-09 ┆ … ┆ 3989177  ┆ 30000000  ┆ 0x         ┆ 9              │\n",
       " │ op    ┆ mainnet ┆ 10       ┆ 2023-06-09 ┆ … ┆ 2432169  ┆ 30000000  ┆ 0x         ┆ 8              │\n",
       " └───────┴─────────┴──────────┴────────────┴───┴──────────┴───────────┴────────────┴────────────────┘,\n",
       " 'transactions': shape: (14_166, 32)\n",
       " ┌────────────┬───────┬─────────┬──────────┬───┬─────────────┬────────────┬────────────┬────────────┐\n",
       " │ dt         ┆ chain ┆ network ┆ chain_id ┆ … ┆ receipt_l1_ ┆ receipt_l1 ┆ receipt_l1 ┆ receipt_l1 │\n",
       " │ ---        ┆ ---   ┆ ---     ┆ ---      ┆   ┆ fee_scalar  ┆ _blob_base ┆ _blob_base ┆ _base_fee_ │\n",
       " │ str        ┆ str   ┆ str     ┆ i32      ┆   ┆ ---         ┆ _fee       ┆ _fee_scala ┆ scalar     │\n",
       " │            ┆       ┆         ┆          ┆   ┆ f64         ┆ ---        ┆ …          ┆ ---        │\n",
       " │            ┆       ┆         ┆          ┆   ┆             ┆ i64        ┆ ---        ┆ i64        │\n",
       " │            ┆       ┆         ┆          ┆   ┆             ┆            ┆ i64        ┆            │\n",
       " ╞════════════╪═══════╪═════════╪══════════╪═══╪═════════════╪════════════╪════════════╪════════════╡\n",
       " │ 2023-06-09 ┆ op    ┆ mainnet ┆ 10       ┆ … ┆ null        ┆ null       ┆ null       ┆ null       │\n",
       " │ 2023-06-09 ┆ op    ┆ mainnet ┆ 10       ┆ … ┆ 0.684       ┆ null       ┆ null       ┆ null       │\n",
       " │ 2023-06-09 ┆ op    ┆ mainnet ┆ 10       ┆ … ┆ 0.684       ┆ null       ┆ null       ┆ null       │\n",
       " │ 2023-06-09 ┆ op    ┆ mainnet ┆ 10       ┆ … ┆ 0.684       ┆ null       ┆ null       ┆ null       │\n",
       " │ 2023-06-09 ┆ op    ┆ mainnet ┆ 10       ┆ … ┆ 0.684       ┆ null       ┆ null       ┆ null       │\n",
       " │ …          ┆ …     ┆ …       ┆ …        ┆ … ┆ …           ┆ …          ┆ …          ┆ …          │\n",
       " │ 2023-06-09 ┆ op    ┆ mainnet ┆ 10       ┆ … ┆ 0.684       ┆ null       ┆ null       ┆ null       │\n",
       " │ 2023-06-09 ┆ op    ┆ mainnet ┆ 10       ┆ … ┆ 0.684       ┆ null       ┆ null       ┆ null       │\n",
       " │ 2023-06-09 ┆ op    ┆ mainnet ┆ 10       ┆ … ┆ 0.684       ┆ null       ┆ null       ┆ null       │\n",
       " │ 2023-06-09 ┆ op    ┆ mainnet ┆ 10       ┆ … ┆ 0.684       ┆ null       ┆ null       ┆ null       │\n",
       " │ 2023-06-09 ┆ op    ┆ mainnet ┆ 10       ┆ … ┆ 0.684       ┆ null       ┆ null       ┆ null       │\n",
       " └────────────┴───────┴─────────┴──────────┴───┴─────────────┴────────────┴────────────┴────────────┘,\n",
       " 'logs': shape: (59_381, 15)\n",
       " ┌────────────┬───────┬─────────┬──────────┬───┬─────────────┬────────────┬────────────┬────────────┐\n",
       " │ dt         ┆ chain ┆ network ┆ chain_id ┆ … ┆ topics      ┆ data       ┆ topic0     ┆ indexed_ar │\n",
       " │ ---        ┆ ---   ┆ ---     ┆ ---      ┆   ┆ ---         ┆ ---        ┆ ---        ┆ gs         │\n",
       " │ str        ┆ str   ┆ str     ┆ i32      ┆   ┆ str         ┆ str        ┆ str        ┆ ---        │\n",
       " │            ┆       ┆         ┆          ┆   ┆             ┆            ┆            ┆ list[str]  │\n",
       " ╞════════════╪═══════╪═════════╪══════════╪═══╪═════════════╪════════════╪════════════╪════════════╡\n",
       " │ 2023-06-09 ┆ op    ┆ mainnet ┆ 10       ┆ … ┆ 0xddf252ad1 ┆ 0x00000000 ┆ 0xddf252ad ┆ [\"0x000000 │\n",
       " │            ┆       ┆         ┆          ┆   ┆ be2c89b69c2 ┆ 0000000000 ┆ 1be2c89b69 ┆ 0000000000 │\n",
       " │            ┆       ┆         ┆          ┆   ┆ b068fc37…   ┆ 0000000000 ┆ c2b068fc37 ┆ 0000000059 │\n",
       " │            ┆       ┆         ┆          ┆   ┆             ┆ …          ┆ …          ┆ …          │\n",
       " │ 2023-06-09 ┆ op    ┆ mainnet ┆ 10       ┆ … ┆ 0x8c5be1e5e ┆ 0xffffffff ┆ 0x8c5be1e5 ┆ [\"0x000000 │\n",
       " │            ┆       ┆         ┆          ┆   ┆ bec7d5bd14f ┆ ffffffffff ┆ ebec7d5bd1 ┆ 0000000000 │\n",
       " │            ┆       ┆         ┆          ┆   ┆ 71427d1e…   ┆ ffffffffff ┆ 4f71427d1e ┆ 0000000059 │\n",
       " │            ┆       ┆         ┆          ┆   ┆             ┆ …          ┆ …          ┆ …          │\n",
       " │ 2023-06-09 ┆ op    ┆ mainnet ┆ 10       ┆ … ┆ 0xa9e09a39b ┆ 0x00000000 ┆ 0xa9e09a39 ┆ [\"0x000000 │\n",
       " │            ┆       ┆         ┆          ┆   ┆ 54248cb5161 ┆ 0000000000 ┆ b54248cb51 ┆ 0000000000 │\n",
       " │            ┆       ┆         ┆          ┆   ┆ a8bad4e5…   ┆ 0000000000 ┆ 61a8bad4e5 ┆ 00000000ef │\n",
       " │            ┆       ┆         ┆          ┆   ┆             ┆ …          ┆ …          ┆ …          │\n",
       " │ 2023-06-09 ┆ op    ┆ mainnet ┆ 10       ┆ … ┆ 0xddf252ad1 ┆ 0x00000000 ┆ 0xddf252ad ┆ [\"0x000000 │\n",
       " │            ┆       ┆         ┆          ┆   ┆ be2c89b69c2 ┆ 0000000000 ┆ 1be2c89b69 ┆ 0000000000 │\n",
       " │            ┆       ┆         ┆          ┆   ┆ b068fc37…   ┆ 0000000000 ┆ c2b068fc37 ┆ 0000000047 │\n",
       " │            ┆       ┆         ┆          ┆   ┆             ┆ …          ┆ …          ┆ …          │\n",
       " │ 2023-06-09 ┆ op    ┆ mainnet ┆ 10       ┆ … ┆ 0xddf252ad1 ┆ 0x00000000 ┆ 0xddf252ad ┆ [\"0x000000 │\n",
       " │            ┆       ┆         ┆          ┆   ┆ be2c89b69c2 ┆ 0000000000 ┆ 1be2c89b69 ┆ 0000000000 │\n",
       " │            ┆       ┆         ┆          ┆   ┆ b068fc37…   ┆ 0000000000 ┆ c2b068fc37 ┆ 0000000047 │\n",
       " │            ┆       ┆         ┆          ┆   ┆             ┆ …          ┆ …          ┆ …          │\n",
       " │ …          ┆ …     ┆ …       ┆ …        ┆ … ┆ …           ┆ …          ┆ …          ┆ …          │\n",
       " │ 2023-06-09 ┆ op    ┆ mainnet ┆ 10       ┆ … ┆ 0xcb47d8bf3 ┆ 0x00000000 ┆ 0xcb47d8bf ┆ [\"0x000000 │\n",
       " │            ┆       ┆         ┆          ┆   ┆ 51d355bdd54 ┆ 0000000000 ┆ 351d355bdd ┆ 0000000000 │\n",
       " │            ┆       ┆         ┆          ┆   ┆ 97973533…   ┆ 0000000000 ┆ 5497973533 ┆ 00000000d8 │\n",
       " │            ┆       ┆         ┆          ┆   ┆             ┆ …          ┆ …          ┆ …          │\n",
       " │ 2023-06-09 ┆ op    ┆ mainnet ┆ 10       ┆ … ┆ 0xf6a97944f ┆ 0x00000000 ┆ 0xf6a97944 ┆ [\"0x000000 │\n",
       " │            ┆       ┆         ┆          ┆   ┆ 31ea060dfde ┆ 0000000000 ┆ f31ea060df ┆ 0000000000 │\n",
       " │            ┆       ┆         ┆          ┆   ┆ 0566e416…   ┆ 0000000000 ┆ de0566e416 ┆ 0000000000 │\n",
       " │            ┆       ┆         ┆          ┆   ┆             ┆ …          ┆ …          ┆ …          │\n",
       " │ 2023-06-09 ┆ op    ┆ mainnet ┆ 10       ┆ … ┆ 0x0109fc6f5 ┆ 0x00000000 ┆ 0x0109fc6f ┆ [\"0x000000 │\n",
       " │            ┆       ┆         ┆          ┆   ┆ 5cf40689f02 ┆ 0000000000 ┆ 55cf40689f ┆ 0000000000 │\n",
       " │            ┆       ┆         ┆          ┆   ┆ fbaad7af…   ┆ 0000000000 ┆ 02fbaad7af ┆ 0000000000 │\n",
       " │            ┆       ┆         ┆          ┆   ┆             ┆ …          ┆ …          ┆ …          │\n",
       " │ 2023-06-09 ┆ op    ┆ mainnet ┆ 10       ┆ … ┆ 0x0559884fd ┆ 0x00000000 ┆ 0x0559884f ┆ [\"0x000000 │\n",
       " │            ┆       ┆         ┆          ┆   ┆ 3a460db3073 ┆ 0000000000 ┆ d3a460db30 ┆ 0000000000 │\n",
       " │            ┆       ┆         ┆          ┆   ┆ b7fc896c…   ┆ 0000000000 ┆ 73b7fc896c ┆ 0000000000 │\n",
       " │            ┆       ┆         ┆          ┆   ┆             ┆ …          ┆ …          ┆ …          │\n",
       " │ 2023-06-09 ┆ op    ┆ mainnet ┆ 10       ┆ … ┆ 0xddf252ad1 ┆ 0x00000000 ┆ 0xddf252ad ┆ [\"0x000000 │\n",
       " │            ┆       ┆         ┆          ┆   ┆ be2c89b69c2 ┆ 0000000000 ┆ 1be2c89b69 ┆ 0000000000 │\n",
       " │            ┆       ┆         ┆          ┆   ┆ b068fc37…   ┆ 0000000000 ┆ c2b068fc37 ┆ 00000000d1 │\n",
       " │            ┆       ┆         ┆          ┆   ┆             ┆ …          ┆ …          ┆ …          │\n",
       " └────────────┴───────┴─────────┴──────────┴───┴─────────────┴────────────┴────────────┴────────────┘}"
      ]
     },
     "execution_count": 3,
     "metadata": {},
     "output_type": "execute_result"
    }
   ],
   "source": [
    "dataframes"
   ]
  },
  {
   "cell_type": "code",
   "execution_count": 4,
   "metadata": {},
   "outputs": [],
   "source": [
    "# # check if our blocks are in the range we want\n",
    "# log.info(f\"Min block number: {dataframes[\"blocks\"][\"number\"].min()}\")\n",
    "# log.info(f\"Max block number: {dataframes[\"blocks\"][\"number\"].max()}\")\n",
    "\n",
    "# log.info(f\"Min block number: {datetime.fromtimestamp( dataframes[\"blocks\"][\"timestamp\"].min() )}\")\n",
    "# log.info(f\"Max block number: {datetime.fromtimestamp( dataframes[\"blocks\"][\"timestamp\"].max() )}\")"
   ]
  },
  {
   "cell_type": "code",
   "execution_count": 5,
   "metadata": {},
   "outputs": [],
   "source": [
    "result = daily_address_summary(\n",
    "    dataframes[\"transactions\"],\n",
    "    conditions=CONDITIONS,\n",
    "    address=\"from_address\",\n",
    "    chain_id=\"chain_id\",\n",
    "    chain=\"chain\",\n",
    "    dt=\"dt\",\n",
    ")"
   ]
  },
  {
   "cell_type": "code",
   "execution_count": 6,
   "metadata": {},
   "outputs": [
    {
     "data": {
      "text/html": [
       "<div><style>\n",
       ".dataframe > thead > tr,\n",
       ".dataframe > tbody > tr {\n",
       "  text-align: right;\n",
       "  white-space: pre-wrap;\n",
       "}\n",
       "</style>\n",
       "<small>shape: (5, 44)</small><table border=\"1\" class=\"dataframe\"><thead><tr><th>from_address</th><th>chain_id</th><th>chain</th><th>dt</th><th>total_txs</th><th>total_txs_success</th><th>total_txs_fail</th><th>total_blocks</th><th>total_blocks_success</th><th>total_blocks_fail</th><th>min_block_number</th><th>max_block_number</th><th>block_interval_active</th><th>min_nonce</th><th>max_nonce</th><th>nonce_interval_active</th><th>total_l2_gas_used</th><th>total_l2_gas_used_success</th><th>total_l2_gas_used_fail</th><th>total_l1_gas_used</th><th>total_l1_gas_used_success</th><th>total_l1_gas_used_fail</th><th>total_gas_fees</th><th>total_gas_fees_success</th><th>total_gas_fees_fail</th><th>l2_contrib_gas_fees</th><th>l1_contrib_gas_fees</th><th>l1_blobgas_contrib_gas_fees</th><th>l1_l1gas_contrib_gas_fees</th><th>l2_contrib_gas_fees_base_fee</th><th>l2_contrib_gas_fees_priority_fee</th><th>avg_l2_gas_price_gwei</th><th>avg_l2_base_fee_gwei</th><th>avg_l2_priority_fee_gwei</th><th>avg_l1_gas_price_gwei</th><th>avg_l1_blob_base_fee_gwei</th><th>min_block_timestamp</th><th>max_block_timestamp</th><th>time_interval_active</th><th>unique_hours_active</th><th>perc_daily_hours_active</th><th>num_to_addresses</th><th>num_to_addresses_success</th><th>num_to_addresses_fail</th></tr><tr><td>str</td><td>i32</td><td>str</td><td>str</td><td>u32</td><td>u32</td><td>u32</td><td>u32</td><td>u32</td><td>u32</td><td>i64</td><td>i64</td><td>i64</td><td>i64</td><td>i64</td><td>i64</td><td>i64</td><td>i64</td><td>i64</td><td>i64</td><td>i64</td><td>i64</td><td>decimal[*,22]</td><td>decimal[*,22]</td><td>decimal[*,22]</td><td>decimal[*,22]</td><td>decimal[*,22]</td><td>decimal[*,22]</td><td>decimal[*,22]</td><td>decimal[*,22]</td><td>decimal[*,22]</td><td>decimal[*,17]</td><td>decimal[*,17]</td><td>decimal[*,17]</td><td>decimal[*,17]</td><td>decimal[*,17]</td><td>datetime[μs]</td><td>datetime[μs]</td><td>duration[μs]</td><td>u32</td><td>f64</td><td>u32</td><td>u32</td><td>u32</td></tr></thead><tbody><tr><td>&quot;0x6007c3e4883dcd8f9c375ca9dbe0…</td><td>10</td><td>&quot;op&quot;</td><td>&quot;2023-06-09&quot;</td><td>23</td><td>23</td><td>0</td><td>23</td><td>23</td><td>0</td><td>105376049</td><td>105377980</td><td>1932</td><td>5834</td><td>5856</td><td>23</td><td>2467065</td><td>2467065</td><td>0</td><td>105656</td><td>105656</td><td>0</td><td>0.0013539667245995610000</td><td>0.0013539667245995610000</td><td>0.0000000000000000000000</td><td>0.0000000007545587550000</td><td>0.0013539659700408060000</td><td>0.0000000000000000000000</td><td>0.0013539659700408172827</td><td>0.0000000007545587550000</td><td>0.0000000000000000000000</td><td>0.00000030585280687</td><td>0.00000030585280687</td><td>0.00000000000000000</td><td>18.73516328784334065</td><td>0.00000000000000000</td><td>2023-06-09 22:47:55</td><td>2023-06-09 23:52:17</td><td>1h 4m 22s</td><td>2</td><td>0.083333</td><td>1</td><td>1</td><td>0</td></tr><tr><td>&quot;0xddb211cd80c3c4484638514d6aa1…</td><td>10</td><td>&quot;op&quot;</td><td>&quot;2023-06-09&quot;</td><td>8</td><td>8</td><td>0</td><td>8</td><td>8</td><td>0</td><td>105376282</td><td>105376540</td><td>259</td><td>0</td><td>7</td><td>8</td><td>1788015</td><td>1788015</td><td>0</td><td>44748</td><td>44748</td><td>0</td><td>0.0005531253587214600000</td><td>0.0005531253587214600000</td><td>0.0000000000000000000000</td><td>0.0000000079504763970000</td><td>0.0005531174082450630000</td><td>0.0000000000000000000000</td><td>0.0005531174082450678614</td><td>0.0000000079504763970000</td><td>0.0000000000000000000000</td><td>0.00000444653786293</td><td>0.00000444653786293</td><td>0.00000000000000000</td><td>18.07122511944301421</td><td>0.00000000000000000</td><td>2023-06-09 22:55:41</td><td>2023-06-09 23:04:17</td><td>8m 36s</td><td>2</td><td>0.083333</td><td>5</td><td>5</td><td>0</td></tr><tr><td>&quot;0x2d6c0ce4958919e7c43c3a9f70ca…</td><td>10</td><td>&quot;op&quot;</td><td>&quot;2023-06-09&quot;</td><td>4</td><td>4</td><td>0</td><td>4</td><td>4</td><td>0</td><td>105376330</td><td>105377966</td><td>1637</td><td>164</td><td>167</td><td>4</td><td>442130</td><td>442130</td><td>0</td><td>9776</td><td>9776</td><td>0</td><td>0.0001168805378722170000</td><td>0.0001168805378722170000</td><td>0.0000000000000000000000</td><td>0.0000000001591878220000</td><td>0.0001168803786843950000</td><td>0.0000000000000000000000</td><td>0.0001168803786843973537</td><td>0.0000000000245517120000</td><td>0.0000000001346361100000</td><td>0.00000036004754710</td><td>0.00000005553052722</td><td>0.00000030451701988</td><td>17.47931123308265139</td><td>0.00000000000000000</td><td>2023-06-09 22:57:17</td><td>2023-06-09 23:51:49</td><td>54m 32s</td><td>2</td><td>0.083333</td><td>4</td><td>4</td><td>0</td></tr><tr><td>&quot;0xa96614b5c2491121ac12cbab3f83…</td><td>10</td><td>&quot;op&quot;</td><td>&quot;2023-06-09&quot;</td><td>1</td><td>1</td><td>0</td><td>1</td><td>1</td><td>0</td><td>105377827</td><td>105377827</td><td>1</td><td>70</td><td>70</td><td>1</td><td>96432</td><td>96432</td><td>0</td><td>2088</td><td>2088</td><td>0</td><td>0.0000235072283158480000</td><td>0.0000235072283158480000</td><td>0.0000000000000000000000</td><td>0.0000000000596914080000</td><td>0.0000235071686244400000</td><td>0.0000000000000000000000</td><td>0.0000235071686244409932</td><td>0.0000000000000000000000</td><td>0.0000000000596914080000</td><td>0.00000061900000000</td><td>0.00000000000000000</td><td>0.00000061900000000</td><td>16.45938965100000000</td><td>0.00000000000000000</td><td>2023-06-09 23:47:11</td><td>2023-06-09 23:47:11</td><td>0µs</td><td>1</td><td>0.041667</td><td>1</td><td>1</td><td>0</td></tr><tr><td>&quot;0x024cd06d84a2804d6077134db8cb…</td><td>10</td><td>&quot;op&quot;</td><td>&quot;2023-06-09&quot;</td><td>1</td><td>1</td><td>0</td><td>1</td><td>1</td><td>0</td><td>105376233</td><td>105376233</td><td>1</td><td>387</td><td>387</td><td>1</td><td>118222</td><td>118222</td><td>0</td><td>3344</td><td>3344</td><td>0</td><td>0.0000388541499102090000</td><td>0.0000388541499102090000</td><td>0.0000000000000000000000</td><td>0.0000000000115857560000</td><td>0.0000388541383244530000</td><td>0.0000000000000000000000</td><td>0.0000388541383244530616</td><td>0.0000000000060293220000</td><td>0.0000000000055564340000</td><td>0.00000009800000000</td><td>0.00000005100000000</td><td>0.00000004700000000</td><td>16.98693056100000000</td><td>0.00000000000000000</td><td>2023-06-09 22:54:03</td><td>2023-06-09 22:54:03</td><td>0µs</td><td>1</td><td>0.041667</td><td>1</td><td>1</td><td>0</td></tr></tbody></table></div>"
      ],
      "text/plain": [
       "shape: (5, 44)\n",
       "┌────────────┬──────────┬───────┬────────────┬───┬────────────┬────────────┬───────────┬───────────┐\n",
       "│ from_addre ┆ chain_id ┆ chain ┆ dt         ┆ … ┆ perc_daily ┆ num_to_add ┆ num_to_ad ┆ num_to_ad │\n",
       "│ ss         ┆ ---      ┆ ---   ┆ ---        ┆   ┆ _hours_act ┆ resses     ┆ dresses_s ┆ dresses_f │\n",
       "│ ---        ┆ i32      ┆ str   ┆ str        ┆   ┆ ive        ┆ ---        ┆ uccess    ┆ ail       │\n",
       "│ str        ┆          ┆       ┆            ┆   ┆ ---        ┆ u32        ┆ ---       ┆ ---       │\n",
       "│            ┆          ┆       ┆            ┆   ┆ f64        ┆            ┆ u32       ┆ u32       │\n",
       "╞════════════╪══════════╪═══════╪════════════╪═══╪════════════╪════════════╪═══════════╪═══════════╡\n",
       "│ 0x6007c3e4 ┆ 10       ┆ op    ┆ 2023-06-09 ┆ … ┆ 0.083333   ┆ 1          ┆ 1         ┆ 0         │\n",
       "│ 883dcd8f9c ┆          ┆       ┆            ┆   ┆            ┆            ┆           ┆           │\n",
       "│ 375ca9dbe0 ┆          ┆       ┆            ┆   ┆            ┆            ┆           ┆           │\n",
       "│ …          ┆          ┆       ┆            ┆   ┆            ┆            ┆           ┆           │\n",
       "│ 0xddb211cd ┆ 10       ┆ op    ┆ 2023-06-09 ┆ … ┆ 0.083333   ┆ 5          ┆ 5         ┆ 0         │\n",
       "│ 80c3c44846 ┆          ┆       ┆            ┆   ┆            ┆            ┆           ┆           │\n",
       "│ 38514d6aa1 ┆          ┆       ┆            ┆   ┆            ┆            ┆           ┆           │\n",
       "│ …          ┆          ┆       ┆            ┆   ┆            ┆            ┆           ┆           │\n",
       "│ 0x2d6c0ce4 ┆ 10       ┆ op    ┆ 2023-06-09 ┆ … ┆ 0.083333   ┆ 4          ┆ 4         ┆ 0         │\n",
       "│ 958919e7c4 ┆          ┆       ┆            ┆   ┆            ┆            ┆           ┆           │\n",
       "│ 3c3a9f70ca ┆          ┆       ┆            ┆   ┆            ┆            ┆           ┆           │\n",
       "│ …          ┆          ┆       ┆            ┆   ┆            ┆            ┆           ┆           │\n",
       "│ 0xa96614b5 ┆ 10       ┆ op    ┆ 2023-06-09 ┆ … ┆ 0.041667   ┆ 1          ┆ 1         ┆ 0         │\n",
       "│ c2491121ac ┆          ┆       ┆            ┆   ┆            ┆            ┆           ┆           │\n",
       "│ 12cbab3f83 ┆          ┆       ┆            ┆   ┆            ┆            ┆           ┆           │\n",
       "│ …          ┆          ┆       ┆            ┆   ┆            ┆            ┆           ┆           │\n",
       "│ 0x024cd06d ┆ 10       ┆ op    ┆ 2023-06-09 ┆ … ┆ 0.041667   ┆ 1          ┆ 1         ┆ 0         │\n",
       "│ 84a2804d60 ┆          ┆       ┆            ┆   ┆            ┆            ┆           ┆           │\n",
       "│ 77134db8cb ┆          ┆       ┆            ┆   ┆            ┆            ┆           ┆           │\n",
       "│ …          ┆          ┆       ┆            ┆   ┆            ┆            ┆           ┆           │\n",
       "└────────────┴──────────┴───────┴────────────┴───┴────────────┴────────────┴───────────┴───────────┘"
      ]
     },
     "execution_count": 6,
     "metadata": {},
     "output_type": "execute_result"
    }
   ],
   "source": [
    "# list(result.head()[\"hash\"])\n",
    "result.head()"
   ]
  },
  {
   "cell_type": "code",
   "execution_count": 7,
   "metadata": {},
   "outputs": [
    {
     "name": "stdout",
     "output_type": "stream",
     "text": [
      "\u001b[2m2024-10-16 18:58:53\u001b[0m [\u001b[32m\u001b[1minfo     \u001b[0m] \u001b[1mWriting 1 partitions to BQ [2023-06-09 00:00:00 ... 2023-06-09 00:00:00]\u001b[0m\n",
      "\u001b[2m2024-10-16 18:58:53\u001b[0m [\u001b[32m\u001b[1minfo     \u001b[0m] \u001b[1mDRYRUN OVERWRITE PARTITION: Wrote 2.9Krows 390.9KB to BQ temp.daily_address_summary\u001b[0m\n"
     ]
    }
   ],
   "source": [
    "overwrite_partitions(result, \"temp\", \"daily_address_summary\", expiration_days=999)"
   ]
  }
 ],
 "metadata": {
  "kernelspec": {
   "display_name": ".venv",
   "language": "python",
   "name": "python3"
  },
  "language_info": {
   "codemirror_mode": {
    "name": "ipython",
    "version": 3
   },
   "file_extension": ".py",
   "mimetype": "text/x-python",
   "name": "python",
   "nbconvert_exporter": "python",
   "pygments_lexer": "ipython3",
   "version": "3.12.3"
  }
 },
 "nbformat": 4,
 "nbformat_minor": 2
}
