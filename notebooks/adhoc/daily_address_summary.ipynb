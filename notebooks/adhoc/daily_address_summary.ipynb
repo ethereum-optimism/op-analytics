{
 "cells": [
  {
   "cell_type": "code",
   "execution_count": 1,
   "metadata": {},
   "outputs": [
    {
     "name": "stdout",
     "output_type": "stream",
     "text": [
      "\u001b[2m2024-10-15 14:01:48\u001b[0m [\u001b[32m\u001b[1minfo     \u001b[0m] \u001b[1mLoaded env var: OP_ANALYTICS_VAULT\u001b[0m\n",
      "\u001b[2m2024-10-15 14:01:49\u001b[0m [\u001b[32m\u001b[1minfo     \u001b[0m] \u001b[1mLoaded 5 items into vault.    \u001b[0m\n",
      "\u001b[2m2024-10-15 14:01:50\u001b[0m [\u001b[32m\u001b[1minfo     \u001b[0m] \u001b[1mInitialized Clickhouse client.\u001b[0m\n",
      "\u001b[2m2024-10-15 14:01:50\u001b[0m [\u001b[32m\u001b[1minfo     \u001b[0m] \u001b[1mQuery success: blocks in 1.39s 2000 rows\u001b[0m\n",
      "\u001b[2m2024-10-15 14:01:52\u001b[0m [\u001b[32m\u001b[1minfo     \u001b[0m] \u001b[1mQuery success: logs in 3.23s 59381 rows\u001b[0m\n",
      "\u001b[2m2024-10-15 14:01:53\u001b[0m [\u001b[32m\u001b[1minfo     \u001b[0m] \u001b[1mQuery success: transactions in 3.88s 14166 rows\u001b[0m\n"
     ]
    }
   ],
   "source": [
    "from op_datasets.processing.execute import reader, BatchInput\n",
    "\n",
    "# pick some block range that covers multiple days\n",
    "inputbatch: BatchInput = None\n",
    "for _inputbatch in reader(\n",
    "    chain=\"op\", block_spec=\"105376883:+500\", source_spec=\"goldsky\"\n",
    "):\n",
    "    inputbatch = _inputbatch\n",
    "    break\n",
    "\n",
    "dataframes = inputbatch.dataframes"
   ]
  },
  {
   "cell_type": "code",
   "execution_count": 2,
   "metadata": {},
   "outputs": [
    {
     "data": {
      "text/plain": [
       "{'blocks': shape: (2_000, 24)\n",
       " ┌───────┬─────────┬──────────┬────────────┬───┬──────────┬───────────┬────────────┬────────────────┐\n",
       " │ chain ┆ network ┆ chain_id ┆ dt         ┆ … ┆ gas_used ┆ gas_limit ┆ extra_data ┆ transaction_co │\n",
       " │ ---   ┆ ---     ┆ ---      ┆ ---        ┆   ┆ ---      ┆ ---       ┆ ---        ┆ unt            │\n",
       " │ str   ┆ str     ┆ i32      ┆ str        ┆   ┆ i64      ┆ i64       ┆ str        ┆ ---            │\n",
       " │       ┆         ┆          ┆            ┆   ┆          ┆           ┆            ┆ i64            │\n",
       " ╞═══════╪═════════╪══════════╪════════════╪═══╪══════════╪═══════════╪════════════╪════════════════╡\n",
       " │ op    ┆ mainnet ┆ 10       ┆ 2023-06-09 ┆ … ┆ 676868   ┆ 30000000  ┆ 0x         ┆ 5              │\n",
       " │ op    ┆ mainnet ┆ 10       ┆ 2023-06-09 ┆ … ┆ 1149120  ┆ 30000000  ┆ 0x         ┆ 7              │\n",
       " │ op    ┆ mainnet ┆ 10       ┆ 2023-06-09 ┆ … ┆ 3368746  ┆ 30000000  ┆ 0x         ┆ 9              │\n",
       " │ op    ┆ mainnet ┆ 10       ┆ 2023-06-09 ┆ … ┆ 4173936  ┆ 30000000  ┆ 0x         ┆ 7              │\n",
       " │ op    ┆ mainnet ┆ 10       ┆ 2023-06-09 ┆ … ┆ 2970850  ┆ 30000000  ┆ 0x         ┆ 10             │\n",
       " │ …     ┆ …       ┆ …        ┆ …          ┆ … ┆ …        ┆ …         ┆ …          ┆ …              │\n",
       " │ op    ┆ mainnet ┆ 10       ┆ 2023-06-09 ┆ … ┆ 2845100  ┆ 30000000  ┆ 0x         ┆ 6              │\n",
       " │ op    ┆ mainnet ┆ 10       ┆ 2023-06-09 ┆ … ┆ 1902960  ┆ 30000000  ┆ 0x         ┆ 12             │\n",
       " │ op    ┆ mainnet ┆ 10       ┆ 2023-06-09 ┆ … ┆ 9648970  ┆ 30000000  ┆ 0x         ┆ 8              │\n",
       " │ op    ┆ mainnet ┆ 10       ┆ 2023-06-09 ┆ … ┆ 3989177  ┆ 30000000  ┆ 0x         ┆ 9              │\n",
       " │ op    ┆ mainnet ┆ 10       ┆ 2023-06-09 ┆ … ┆ 2432169  ┆ 30000000  ┆ 0x         ┆ 8              │\n",
       " └───────┴─────────┴──────────┴────────────┴───┴──────────┴───────────┴────────────┴────────────────┘,\n",
       " 'transactions': shape: (14_166, 32)\n",
       " ┌────────────┬───────┬─────────┬──────────┬───┬─────────────┬────────────┬────────────┬────────────┐\n",
       " │ dt         ┆ chain ┆ network ┆ chain_id ┆ … ┆ receipt_l1_ ┆ receipt_l1 ┆ receipt_l1 ┆ receipt_l1 │\n",
       " │ ---        ┆ ---   ┆ ---     ┆ ---      ┆   ┆ fee_scalar  ┆ _blob_base ┆ _blob_base ┆ _base_fee_ │\n",
       " │ str        ┆ str   ┆ str     ┆ i32      ┆   ┆ ---         ┆ _fee       ┆ _fee_scala ┆ scalar     │\n",
       " │            ┆       ┆         ┆          ┆   ┆ f64         ┆ ---        ┆ …          ┆ ---        │\n",
       " │            ┆       ┆         ┆          ┆   ┆             ┆ i64        ┆ ---        ┆ i64        │\n",
       " │            ┆       ┆         ┆          ┆   ┆             ┆            ┆ i64        ┆            │\n",
       " ╞════════════╪═══════╪═════════╪══════════╪═══╪═════════════╪════════════╪════════════╪════════════╡\n",
       " │ 2023-06-09 ┆ op    ┆ mainnet ┆ 10       ┆ … ┆ null        ┆ null       ┆ null       ┆ null       │\n",
       " │ 2023-06-09 ┆ op    ┆ mainnet ┆ 10       ┆ … ┆ 0.684       ┆ null       ┆ null       ┆ null       │\n",
       " │ 2023-06-09 ┆ op    ┆ mainnet ┆ 10       ┆ … ┆ 0.684       ┆ null       ┆ null       ┆ null       │\n",
       " │ 2023-06-09 ┆ op    ┆ mainnet ┆ 10       ┆ … ┆ 0.684       ┆ null       ┆ null       ┆ null       │\n",
       " │ 2023-06-09 ┆ op    ┆ mainnet ┆ 10       ┆ … ┆ 0.684       ┆ null       ┆ null       ┆ null       │\n",
       " │ …          ┆ …     ┆ …       ┆ …        ┆ … ┆ …           ┆ …          ┆ …          ┆ …          │\n",
       " │ 2023-06-09 ┆ op    ┆ mainnet ┆ 10       ┆ … ┆ 0.684       ┆ null       ┆ null       ┆ null       │\n",
       " │ 2023-06-09 ┆ op    ┆ mainnet ┆ 10       ┆ … ┆ 0.684       ┆ null       ┆ null       ┆ null       │\n",
       " │ 2023-06-09 ┆ op    ┆ mainnet ┆ 10       ┆ … ┆ 0.684       ┆ null       ┆ null       ┆ null       │\n",
       " │ 2023-06-09 ┆ op    ┆ mainnet ┆ 10       ┆ … ┆ 0.684       ┆ null       ┆ null       ┆ null       │\n",
       " │ 2023-06-09 ┆ op    ┆ mainnet ┆ 10       ┆ … ┆ 0.684       ┆ null       ┆ null       ┆ null       │\n",
       " └────────────┴───────┴─────────┴──────────┴───┴─────────────┴────────────┴────────────┴────────────┘,\n",
       " 'logs': shape: (59_381, 15)\n",
       " ┌────────────┬───────┬─────────┬──────────┬───┬─────────────┬────────────┬────────────┬────────────┐\n",
       " │ dt         ┆ chain ┆ network ┆ chain_id ┆ … ┆ topics      ┆ data       ┆ topic0     ┆ indexed_ar │\n",
       " │ ---        ┆ ---   ┆ ---     ┆ ---      ┆   ┆ ---         ┆ ---        ┆ ---        ┆ gs         │\n",
       " │ str        ┆ str   ┆ str     ┆ i32      ┆   ┆ str         ┆ str        ┆ str        ┆ ---        │\n",
       " │            ┆       ┆         ┆          ┆   ┆             ┆            ┆            ┆ list[str]  │\n",
       " ╞════════════╪═══════╪═════════╪══════════╪═══╪═════════════╪════════════╪════════════╪════════════╡\n",
       " │ 2023-06-09 ┆ op    ┆ mainnet ┆ 10       ┆ … ┆ 0xddf252ad1 ┆ 0x00000000 ┆ 0xddf252ad ┆ [\"0x000000 │\n",
       " │            ┆       ┆         ┆          ┆   ┆ be2c89b69c2 ┆ 0000000000 ┆ 1be2c89b69 ┆ 0000000000 │\n",
       " │            ┆       ┆         ┆          ┆   ┆ b068fc37…   ┆ 0000000000 ┆ c2b068fc37 ┆ 0000000059 │\n",
       " │            ┆       ┆         ┆          ┆   ┆             ┆ …          ┆ …          ┆ …          │\n",
       " │ 2023-06-09 ┆ op    ┆ mainnet ┆ 10       ┆ … ┆ 0x8c5be1e5e ┆ 0xffffffff ┆ 0x8c5be1e5 ┆ [\"0x000000 │\n",
       " │            ┆       ┆         ┆          ┆   ┆ bec7d5bd14f ┆ ffffffffff ┆ ebec7d5bd1 ┆ 0000000000 │\n",
       " │            ┆       ┆         ┆          ┆   ┆ 71427d1e…   ┆ ffffffffff ┆ 4f71427d1e ┆ 0000000059 │\n",
       " │            ┆       ┆         ┆          ┆   ┆             ┆ …          ┆ …          ┆ …          │\n",
       " │ 2023-06-09 ┆ op    ┆ mainnet ┆ 10       ┆ … ┆ 0xa9e09a39b ┆ 0x00000000 ┆ 0xa9e09a39 ┆ [\"0x000000 │\n",
       " │            ┆       ┆         ┆          ┆   ┆ 54248cb5161 ┆ 0000000000 ┆ b54248cb51 ┆ 0000000000 │\n",
       " │            ┆       ┆         ┆          ┆   ┆ a8bad4e5…   ┆ 0000000000 ┆ 61a8bad4e5 ┆ 00000000ef │\n",
       " │            ┆       ┆         ┆          ┆   ┆             ┆ …          ┆ …          ┆ …          │\n",
       " │ 2023-06-09 ┆ op    ┆ mainnet ┆ 10       ┆ … ┆ 0xddf252ad1 ┆ 0x00000000 ┆ 0xddf252ad ┆ [\"0x000000 │\n",
       " │            ┆       ┆         ┆          ┆   ┆ be2c89b69c2 ┆ 0000000000 ┆ 1be2c89b69 ┆ 0000000000 │\n",
       " │            ┆       ┆         ┆          ┆   ┆ b068fc37…   ┆ 0000000000 ┆ c2b068fc37 ┆ 0000000047 │\n",
       " │            ┆       ┆         ┆          ┆   ┆             ┆ …          ┆ …          ┆ …          │\n",
       " │ 2023-06-09 ┆ op    ┆ mainnet ┆ 10       ┆ … ┆ 0xddf252ad1 ┆ 0x00000000 ┆ 0xddf252ad ┆ [\"0x000000 │\n",
       " │            ┆       ┆         ┆          ┆   ┆ be2c89b69c2 ┆ 0000000000 ┆ 1be2c89b69 ┆ 0000000000 │\n",
       " │            ┆       ┆         ┆          ┆   ┆ b068fc37…   ┆ 0000000000 ┆ c2b068fc37 ┆ 0000000047 │\n",
       " │            ┆       ┆         ┆          ┆   ┆             ┆ …          ┆ …          ┆ …          │\n",
       " │ …          ┆ …     ┆ …       ┆ …        ┆ … ┆ …           ┆ …          ┆ …          ┆ …          │\n",
       " │ 2023-06-09 ┆ op    ┆ mainnet ┆ 10       ┆ … ┆ 0xcb47d8bf3 ┆ 0x00000000 ┆ 0xcb47d8bf ┆ [\"0x000000 │\n",
       " │            ┆       ┆         ┆          ┆   ┆ 51d355bdd54 ┆ 0000000000 ┆ 351d355bdd ┆ 0000000000 │\n",
       " │            ┆       ┆         ┆          ┆   ┆ 97973533…   ┆ 0000000000 ┆ 5497973533 ┆ 00000000d8 │\n",
       " │            ┆       ┆         ┆          ┆   ┆             ┆ …          ┆ …          ┆ …          │\n",
       " │ 2023-06-09 ┆ op    ┆ mainnet ┆ 10       ┆ … ┆ 0xf6a97944f ┆ 0x00000000 ┆ 0xf6a97944 ┆ [\"0x000000 │\n",
       " │            ┆       ┆         ┆          ┆   ┆ 31ea060dfde ┆ 0000000000 ┆ f31ea060df ┆ 0000000000 │\n",
       " │            ┆       ┆         ┆          ┆   ┆ 0566e416…   ┆ 0000000000 ┆ de0566e416 ┆ 0000000000 │\n",
       " │            ┆       ┆         ┆          ┆   ┆             ┆ …          ┆ …          ┆ …          │\n",
       " │ 2023-06-09 ┆ op    ┆ mainnet ┆ 10       ┆ … ┆ 0x0109fc6f5 ┆ 0x00000000 ┆ 0x0109fc6f ┆ [\"0x000000 │\n",
       " │            ┆       ┆         ┆          ┆   ┆ 5cf40689f02 ┆ 0000000000 ┆ 55cf40689f ┆ 0000000000 │\n",
       " │            ┆       ┆         ┆          ┆   ┆ fbaad7af…   ┆ 0000000000 ┆ 02fbaad7af ┆ 0000000000 │\n",
       " │            ┆       ┆         ┆          ┆   ┆             ┆ …          ┆ …          ┆ …          │\n",
       " │ 2023-06-09 ┆ op    ┆ mainnet ┆ 10       ┆ … ┆ 0x0559884fd ┆ 0x00000000 ┆ 0x0559884f ┆ [\"0x000000 │\n",
       " │            ┆       ┆         ┆          ┆   ┆ 3a460db3073 ┆ 0000000000 ┆ d3a460db30 ┆ 0000000000 │\n",
       " │            ┆       ┆         ┆          ┆   ┆ b7fc896c…   ┆ 0000000000 ┆ 73b7fc896c ┆ 0000000000 │\n",
       " │            ┆       ┆         ┆          ┆   ┆             ┆ …          ┆ …          ┆ …          │\n",
       " │ 2023-06-09 ┆ op    ┆ mainnet ┆ 10       ┆ … ┆ 0xddf252ad1 ┆ 0x00000000 ┆ 0xddf252ad ┆ [\"0x000000 │\n",
       " │            ┆       ┆         ┆          ┆   ┆ be2c89b69c2 ┆ 0000000000 ┆ 1be2c89b69 ┆ 0000000000 │\n",
       " │            ┆       ┆         ┆          ┆   ┆ b068fc37…   ┆ 0000000000 ┆ c2b068fc37 ┆ 00000000d1 │\n",
       " │            ┆       ┆         ┆          ┆   ┆             ┆ …          ┆ …          ┆ …          │\n",
       " └────────────┴───────┴─────────┴──────────┴───┴─────────────┴────────────┴────────────┴────────────┘}"
      ]
     },
     "execution_count": 2,
     "metadata": {},
     "output_type": "execute_result"
    }
   ],
   "source": [
    "dataframes"
   ]
  },
  {
   "cell_type": "code",
   "execution_count": 3,
   "metadata": {},
   "outputs": [],
   "source": [
    "import polars as pl"
   ]
  },
  {
   "cell_type": "code",
   "execution_count": 4,
   "metadata": {},
   "outputs": [],
   "source": [
    "def daily_address_summary(\n",
    "    df: pl.DataFrame, conditions: dict[str, callable], **groupby_args: dict[str, str]\n",
    ") -> pl.DataFrame:\n",
    "    # Create filter expression from conditions dictionary\n",
    "    filter_expr = pl.lit(True)\n",
    "    for col, condition in conditions.items():\n",
    "        filter_expr &= condition(pl.col(col))\n",
    "\n",
    "    # Apply the filter to the DataFrame\n",
    "    _filter_df = df.filter(filter_expr)\n",
    "\n",
    "    # Extract groupby columns from the arguments\n",
    "    groupby_cols = list(groupby_args.values())\n",
    "\n",
    "    # SQL query to perform aggregations\n",
    "    groupby_clause = \", \".join(groupby_cols)\n",
    "\n",
    "    query = f\"\"\"\n",
    "    SELECT \n",
    "        {groupby_clause}\n",
    "\n",
    "        -- transactions\n",
    "        ,COUNT(hash) AS total_txs\n",
    "        ,COUNT(CASE WHEN receipt_status = 1 THEN hash ELSE NULL END) AS total_txs_success\n",
    "        ,COUNT(CASE WHEN receipt_status != 1 THEN hash ELSE NULL END) AS total_txs_fail\n",
    "\n",
    "        -- blocks\n",
    "        ,COUNT(DISTINCT block_number) AS total_blocks\n",
    "        ,COUNT(DISTINCT CASE WHEN receipt_status = 1 THEN block_number ELSE NULL END) AS total_blocks_success\n",
    "        ,COUNT(DISTINCT CASE WHEN receipt_status != 1 THEN block_number ELSE NULL END) AS total_blocks_fail\n",
    "        ,MIN(block_number) AS min_block_number\n",
    "        ,MAX(block_number) AS max_block_number\n",
    "        ,MAX(block_number) - MIN(block_number) + 1 AS block_interval_active\n",
    "\n",
    "        -- nonce\n",
    "        ,MIN(nonce) AS min_nonce\n",
    "        ,MAX(nonce) AS max_nonce\n",
    "        ,MAX(nonce) - MIN(nonce) + 1 AS nonce_interval_active\n",
    "\n",
    "        -- gas usage\n",
    "        ,SUM(receipt_gas_used) AS total_gas_used\n",
    "        ,SUM(CASE WHEN receipt_status = 1 THEN receipt_gas_used ELSE 0 END) AS total_gas_used_success\n",
    "        ,SUM(CASE WHEN receipt_status != 1 THEN receipt_gas_used ELSE 0 END) AS total_gas_used_fail\n",
    "\n",
    "        -- block timestamp\n",
    "        ,MIN(block_timestamp) AS min_block_timestamp\n",
    "        ,MAX(block_timestamp) AS max_block_timestamp\n",
    "        ,MAX(block_timestamp) - MIN(block_timestamp) AS time_interval_active\n",
    "\n",
    "        -- to addresses, to identify contracts in the future\n",
    "        ,COUNT(DISTINCT to_address) AS num_to_addresses\n",
    "        ,COUNT(DISTINCT CASE WHEN receipt_status = 1 THEN to_address ELSE NULL END) AS num_to_addresses_success\n",
    "        ,COUNT(DISTINCT CASE WHEN receipt_status != 1 THEN to_address ELSE NULL END) AS num_to_addresses_fail\n",
    "\n",
    "        -- get number of hours active\n",
    "    \n",
    "    FROM\n",
    "        _filter_df\n",
    "    GROUP BY\n",
    "        {groupby_clause}\n",
    "    \"\"\"\n",
    "\n",
    "    # Execute the query and collect the result\n",
    "    result = pl.sql(query).collect()\n",
    "\n",
    "    return result"
   ]
  },
  {
   "cell_type": "code",
   "execution_count": 5,
   "metadata": {},
   "outputs": [],
   "source": [
    "CONDITIONS = {\n",
    "    \"gas_price\": lambda x: x > 0,\n",
    "}"
   ]
  },
  {
   "cell_type": "code",
   "execution_count": 6,
   "metadata": {},
   "outputs": [],
   "source": [
    "result = daily_address_summary(\n",
    "    dataframes[\"transactions\"],\n",
    "    conditions=CONDITIONS,\n",
    "    address=\"from_address\",\n",
    "    chain_id=\"chain_id\",\n",
    "    chain=\"chain\",\n",
    "    dt=\"dt\",\n",
    ")"
   ]
  },
  {
   "cell_type": "code",
   "execution_count": 7,
   "metadata": {},
   "outputs": [
    {
     "data": {
      "text/html": [
       "<div><style>\n",
       ".dataframe > thead > tr,\n",
       ".dataframe > tbody > tr {\n",
       "  text-align: right;\n",
       "  white-space: pre-wrap;\n",
       "}\n",
       "</style>\n",
       "<small>shape: (5, 25)</small><table border=\"1\" class=\"dataframe\"><thead><tr><th>from_address</th><th>chain_id</th><th>chain</th><th>dt</th><th>total_txs</th><th>total_txs_success</th><th>total_txs_fail</th><th>total_blocks</th><th>total_blocks_success</th><th>total_blocks_fail</th><th>min_block_number</th><th>max_block_number</th><th>block_interval_active</th><th>min_nonce</th><th>max_nonce</th><th>nonce_interval_active</th><th>total_gas_used</th><th>total_gas_used_success</th><th>total_gas_used_fail</th><th>min_block_timestamp</th><th>max_block_timestamp</th><th>time_interval_active</th><th>num_to_addresses</th><th>num_to_addresses_success</th><th>num_to_addresses_fail</th></tr><tr><td>str</td><td>i32</td><td>str</td><td>str</td><td>u32</td><td>u32</td><td>u32</td><td>u32</td><td>u32</td><td>u32</td><td>i64</td><td>i64</td><td>i64</td><td>i64</td><td>i64</td><td>i64</td><td>i64</td><td>i64</td><td>i64</td><td>u32</td><td>u32</td><td>u32</td><td>u32</td><td>u32</td><td>u32</td></tr></thead><tbody><tr><td>&quot;0x848f0b533ea9cfcb3f59ec4ea841…</td><td>10</td><td>&quot;op&quot;</td><td>&quot;2023-06-09&quot;</td><td>2</td><td>2</td><td>0</td><td>2</td><td>2</td><td>0</td><td>105377653</td><td>105377662</td><td>10</td><td>1</td><td>2</td><td>2</td><td>302928</td><td>302928</td><td>0</td><td>1686354083</td><td>1686354101</td><td>18</td><td>2</td><td>2</td><td>0</td></tr><tr><td>&quot;0x368b9d607072165fb207dfe4af46…</td><td>10</td><td>&quot;op&quot;</td><td>&quot;2023-06-09&quot;</td><td>1</td><td>1</td><td>0</td><td>1</td><td>1</td><td>0</td><td>105376287</td><td>105376287</td><td>1</td><td>26</td><td>26</td><td>1</td><td>270700</td><td>270700</td><td>0</td><td>1686351351</td><td>1686351351</td><td>0</td><td>1</td><td>1</td><td>0</td></tr><tr><td>&quot;0x9477081461ae9a118cdb2bab35fb…</td><td>10</td><td>&quot;op&quot;</td><td>&quot;2023-06-09&quot;</td><td>1</td><td>1</td><td>0</td><td>1</td><td>1</td><td>0</td><td>105377564</td><td>105377564</td><td>1</td><td>1</td><td>1</td><td>1</td><td>21000</td><td>21000</td><td>0</td><td>1686353905</td><td>1686353905</td><td>0</td><td>1</td><td>1</td><td>0</td></tr><tr><td>&quot;0x3b0350e3c9d5a04450c29e7c3a56…</td><td>10</td><td>&quot;op&quot;</td><td>&quot;2023-06-09&quot;</td><td>2</td><td>2</td><td>0</td><td>2</td><td>2</td><td>0</td><td>105376796</td><td>105376833</td><td>38</td><td>43</td><td>44</td><td>2</td><td>56087</td><td>56087</td><td>0</td><td>1686352369</td><td>1686352443</td><td>74</td><td>2</td><td>2</td><td>0</td></tr><tr><td>&quot;0x1d3286a3348fa99852d147c57a79…</td><td>10</td><td>&quot;op&quot;</td><td>&quot;2023-06-09&quot;</td><td>17</td><td>15</td><td>2</td><td>16</td><td>14</td><td>2</td><td>105376080</td><td>105377943</td><td>1864</td><td>234467</td><td>234483</td><td>17</td><td>3383196</td><td>3297576</td><td>85620</td><td>1686350937</td><td>1686354663</td><td>3726</td><td>2</td><td>2</td><td>1</td></tr></tbody></table></div>"
      ],
      "text/plain": [
       "shape: (5, 25)\n",
       "┌────────────┬──────────┬───────┬────────────┬───┬────────────┬────────────┬───────────┬───────────┐\n",
       "│ from_addre ┆ chain_id ┆ chain ┆ dt         ┆ … ┆ time_inter ┆ num_to_add ┆ num_to_ad ┆ num_to_ad │\n",
       "│ ss         ┆ ---      ┆ ---   ┆ ---        ┆   ┆ val_active ┆ resses     ┆ dresses_s ┆ dresses_f │\n",
       "│ ---        ┆ i32      ┆ str   ┆ str        ┆   ┆ ---        ┆ ---        ┆ uccess    ┆ ail       │\n",
       "│ str        ┆          ┆       ┆            ┆   ┆ u32        ┆ u32        ┆ ---       ┆ ---       │\n",
       "│            ┆          ┆       ┆            ┆   ┆            ┆            ┆ u32       ┆ u32       │\n",
       "╞════════════╪══════════╪═══════╪════════════╪═══╪════════════╪════════════╪═══════════╪═══════════╡\n",
       "│ 0x848f0b53 ┆ 10       ┆ op    ┆ 2023-06-09 ┆ … ┆ 18         ┆ 2          ┆ 2         ┆ 0         │\n",
       "│ 3ea9cfcb3f ┆          ┆       ┆            ┆   ┆            ┆            ┆           ┆           │\n",
       "│ 59ec4ea841 ┆          ┆       ┆            ┆   ┆            ┆            ┆           ┆           │\n",
       "│ …          ┆          ┆       ┆            ┆   ┆            ┆            ┆           ┆           │\n",
       "│ 0x368b9d60 ┆ 10       ┆ op    ┆ 2023-06-09 ┆ … ┆ 0          ┆ 1          ┆ 1         ┆ 0         │\n",
       "│ 7072165fb2 ┆          ┆       ┆            ┆   ┆            ┆            ┆           ┆           │\n",
       "│ 07dfe4af46 ┆          ┆       ┆            ┆   ┆            ┆            ┆           ┆           │\n",
       "│ …          ┆          ┆       ┆            ┆   ┆            ┆            ┆           ┆           │\n",
       "│ 0x94770814 ┆ 10       ┆ op    ┆ 2023-06-09 ┆ … ┆ 0          ┆ 1          ┆ 1         ┆ 0         │\n",
       "│ 61ae9a118c ┆          ┆       ┆            ┆   ┆            ┆            ┆           ┆           │\n",
       "│ db2bab35fb ┆          ┆       ┆            ┆   ┆            ┆            ┆           ┆           │\n",
       "│ …          ┆          ┆       ┆            ┆   ┆            ┆            ┆           ┆           │\n",
       "│ 0x3b0350e3 ┆ 10       ┆ op    ┆ 2023-06-09 ┆ … ┆ 74         ┆ 2          ┆ 2         ┆ 0         │\n",
       "│ c9d5a04450 ┆          ┆       ┆            ┆   ┆            ┆            ┆           ┆           │\n",
       "│ c29e7c3a56 ┆          ┆       ┆            ┆   ┆            ┆            ┆           ┆           │\n",
       "│ …          ┆          ┆       ┆            ┆   ┆            ┆            ┆           ┆           │\n",
       "│ 0x1d3286a3 ┆ 10       ┆ op    ┆ 2023-06-09 ┆ … ┆ 3726       ┆ 2          ┆ 2         ┆ 1         │\n",
       "│ 348fa99852 ┆          ┆       ┆            ┆   ┆            ┆            ┆           ┆           │\n",
       "│ d147c57a79 ┆          ┆       ┆            ┆   ┆            ┆            ┆           ┆           │\n",
       "│ …          ┆          ┆       ┆            ┆   ┆            ┆            ┆           ┆           │\n",
       "└────────────┴──────────┴───────┴────────────┴───┴────────────┴────────────┴───────────┴───────────┘"
      ]
     },
     "execution_count": 7,
     "metadata": {},
     "output_type": "execute_result"
    }
   ],
   "source": [
    "result.head()"
   ]
  },
  {
   "cell_type": "code",
   "execution_count": 8,
   "metadata": {},
   "outputs": [],
   "source": [
    "from op_coreutils.bigquery.write import overwrite_partitions\n",
    "import os\n",
    "\n",
    "os.environ[\"OPLABS_ENV\"] = \"prod\""
   ]
  },
  {
   "cell_type": "code",
   "execution_count": 9,
   "metadata": {},
   "outputs": [
    {
     "name": "stdout",
     "output_type": "stream",
     "text": [
      "\u001b[2m2024-10-15 14:01:53\u001b[0m [\u001b[32m\u001b[1minfo     \u001b[0m] \u001b[1mWriting 1 partitions to BQ [2023-06-09 00:00:00 ... 2023-06-09 00:00:00]\u001b[0m\n",
      "\u001b[2m2024-10-15 14:01:53\u001b[0m [\u001b[32m\u001b[1minfo     \u001b[0m] \u001b[1mDRYRUN OVERWRITE PARTITION: Wrote 2.9Krows 162.8KB to BQ temp.daily_address_summary\u001b[0m\n"
     ]
    }
   ],
   "source": [
    "overwrite_partitions(result, \"temp\", \"daily_address_summary\", expiration_days=999)"
   ]
  }
 ],
 "metadata": {
  "kernelspec": {
   "display_name": ".venv",
   "language": "python",
   "name": "python3"
  },
  "language_info": {
   "codemirror_mode": {
    "name": "ipython",
    "version": 3
   },
   "file_extension": ".py",
   "mimetype": "text/x-python",
   "name": "python",
   "nbconvert_exporter": "python",
   "pygments_lexer": "ipython3",
   "version": "3.12.3"
  }
 },
 "nbformat": 4,
 "nbformat_minor": 2
}
