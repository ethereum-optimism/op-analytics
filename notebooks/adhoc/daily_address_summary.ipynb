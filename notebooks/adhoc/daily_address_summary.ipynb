{
 "cells": [
  {
   "cell_type": "code",
   "execution_count": 5,
   "metadata": {},
   "outputs": [],
   "source": [
    "import polars as pl\n",
    "from op_datasets.etl.ingestion import construct_tasks, reader\n",
    "from op_datasets.logic.transforms.daily_address_summary import (\n",
    "    daily_address_summary,\n",
    "    CONDITIONS,\n",
    ")\n",
    "from op_coreutils.logger import structlog\n",
    "\n",
    "from datetime import datetime\n",
    "import os\n",
    "\n",
    "os.environ[\"OPLABS_ENV\"] = \"PROD\"\n",
    "\n",
    "\n",
    "log = structlog.get_logger()"
   ]
  },
  {
   "cell_type": "code",
   "execution_count": null,
   "metadata": {},
   "outputs": [],
   "source": [
    "tasks = construct_tasks(chains=[\"op\"], block_spec=\"126071012:+500\")\n",
    "task = tasks[0]\n",
    "\n",
    "reader(task, source_spec=\"goldsky\", dataset_names=[\"blocks\", \"transactions\"])"
   ]
  },
  {
   "cell_type": "code",
   "execution_count": null,
   "metadata": {},
   "outputs": [],
   "source": [
    "dataframes = task.input_dataframes\n",
    "\n",
    "dataframes"
   ]
  },
  {
   "cell_type": "code",
   "execution_count": null,
   "metadata": {},
   "outputs": [],
   "source": [
    "# check if our blocks are in the range we want\n",
    "\n",
    "log.info(f\"Min block number: {dataframes['blocks']['number'].min()}\")\n",
    "log.info(f\"Max block number: {dataframes['blocks']['number'].max()}\")\n",
    "log.info(\n",
    "    f\"Min block number: {datetime.fromtimestamp(dataframes['blocks']['timestamp'].min())}\"\n",
    ")\n",
    "log.info(\n",
    "    f\"Max block number: {datetime.fromtimestamp(dataframes['blocks']['timestamp'].max())}\"\n",
    ")"
   ]
  },
  {
   "cell_type": "code",
   "execution_count": 11,
   "metadata": {},
   "outputs": [],
   "source": [
    "result = daily_address_summary(\n",
    "    dataframes[\"transactions\"],\n",
    "    conditions=CONDITIONS,\n",
    "    address=\"from_address\",\n",
    "    chain_id=\"chain_id\",\n",
    "    chain=\"chain\",\n",
    "    dt=\"dt\",\n",
    ")"
   ]
  },
  {
   "cell_type": "code",
   "execution_count": null,
   "metadata": {},
   "outputs": [],
   "source": [
    "result.head()"
   ]
  },
  {
   "cell_type": "code",
   "execution_count": 14,
   "metadata": {},
   "outputs": [],
   "source": [
    "# overwrite_partitions(result, \"temp\", \"daily_address_summary\", expiration_days=999)"
   ]
  },
  {
   "cell_type": "code",
   "execution_count": 15,
   "metadata": {},
   "outputs": [],
   "source": [
    "# create test dfs\n",
    "test_single_tx_df = dataframes[\"transactions\"].filter(\n",
    "    dataframes[\"transactions\"][\"hash\"]\n",
    "    == \"0xc64c1471f38b0444d143011c0261a6c14d76a8b32115d39a3f3bf11af337eb55\"\n",
    ")\n",
    "test_single_tx_df.write_parquet(\n",
    "    \"../../tests/op_datasets/test_daily_address_summary/test_daily_address_summary_single_tx.parquet\"\n",
    ")\n",
    "\n",
    "test_multiple_txs_df = dataframes[\"transactions\"].filter(\n",
    "    dataframes[\"transactions\"][\"from_address\"]\n",
    "    == \"0xd18a8be700b1fc5f7df8a3dbd772fbdecb16ee3a\"\n",
    ")\n",
    "\n",
    "test_multiple_txs_df.write_parquet(\n",
    "    \"../../tests/op_datasets/test_daily_address_summary/test_daily_address_summary_multiple_txs.parquet\"\n",
    ")"
   ]
  },
  {
   "cell_type": "code",
   "execution_count": 16,
   "metadata": {},
   "outputs": [],
   "source": [
    "test_result = daily_address_summary(\n",
    "    test_single_tx_df,\n",
    "    conditions=CONDITIONS,\n",
    "    address=\"from_address\",\n",
    "    chain_id=\"chain_id\",\n",
    "    chain=\"chain\",\n",
    "    dt=\"dt\",\n",
    ")"
   ]
  },
  {
   "cell_type": "code",
   "execution_count": null,
   "metadata": {},
   "outputs": [],
   "source": [
    "test_result"
   ]
  },
  {
   "cell_type": "code",
   "execution_count": null,
   "metadata": {},
   "outputs": [],
   "source": [
    "test_df = dataframes[\"transactions\"].filter(\n",
    "    dataframes[\"transactions\"][\"hash\"]\n",
    "    == \"0xc64c1471f38b0444d143011c0261a6c14d76a8b32115d39a3f3bf11af337eb55\"\n",
    ")\n",
    "test_df"
   ]
  },
  {
   "cell_type": "code",
   "execution_count": 19,
   "metadata": {},
   "outputs": [],
   "source": [
    "receipt_l1_gas_used = pl.select(test_df[\"receipt_l1_gas_used\"]).item()\n",
    "receipt_l1_base_fee_scalar = pl.select(test_df[\"receipt_l1_base_fee_scalar\"]).item()\n",
    "receipt_l1_gas_price = pl.select(test_df[\"receipt_l1_gas_price\"]).item()"
   ]
  },
  {
   "cell_type": "code",
   "execution_count": null,
   "metadata": {},
   "outputs": [],
   "source": [
    "(receipt_l1_gas_used * receipt_l1_base_fee_scalar * receipt_l1_gas_price) / 1e18"
   ]
  },
  {
   "cell_type": "code",
   "execution_count": null,
   "metadata": {},
   "outputs": [],
   "source": [
    "for i in list(test_multiple_txs_df[\"hash\"]):\n",
    "    print(i)"
   ]
  }
 ],
 "metadata": {
  "kernelspec": {
   "display_name": ".venv",
   "language": "python",
   "name": "python3"
  },
  "language_info": {
   "codemirror_mode": {
    "name": "ipython",
    "version": 3
   },
   "file_extension": ".py",
   "mimetype": "text/x-python",
   "name": "python",
   "nbconvert_exporter": "python",
   "pygments_lexer": "ipython3",
   "version": "3.12.3"
  }
 },
 "nbformat": 4,
 "nbformat_minor": 2
}
