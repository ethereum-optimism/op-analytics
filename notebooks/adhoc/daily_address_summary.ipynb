{
 "cells": [
  {
   "cell_type": "code",
   "execution_count": 1,
   "metadata": {},
   "outputs": [
    {
     "name": "stdout",
     "output_type": "stream",
     "text": [
      "\u001b[2m2024-10-16 19:00:24\u001b[0m [\u001b[32m\u001b[1minfo     \u001b[0m] \u001b[1mLoaded env var: OP_ANALYTICS_VAULT\u001b[0m\n"
     ]
    }
   ],
   "source": [
    "import polars as pl\n",
    "from op_datasets.processing.execute import reader, BatchInput\n",
    "from op_datasets.logic.transforms.daily_address_summary import (\n",
    "    daily_address_summary,\n",
    "    CONDITIONS,\n",
    ")\n",
    "from op_coreutils.logger import structlog\n",
    "from op_coreutils.bigquery.write import overwrite_partitions\n",
    "\n",
    "from datetime import datetime\n",
    "import os\n",
    "\n",
    "os.environ[\"OPLABS_ENV\"] = prod\n",
    "\n",
    "\n",
    "log = structlog.get_logger()"
   ]
  },
  {
   "cell_type": "code",
   "execution_count": 2,
   "metadata": {},
   "outputs": [
    {
     "name": "stdout",
     "output_type": "stream",
     "text": [
      "\u001b[2m2024-10-16 19:00:24\u001b[0m [\u001b[32m\u001b[1minfo     \u001b[0m] \u001b[1mLoaded 5 items into vault.    \u001b[0m\n",
      "\u001b[2m2024-10-16 19:00:25\u001b[0m [\u001b[32m\u001b[1minfo     \u001b[0m] \u001b[1mInitialized Clickhouse client.\u001b[0m\n",
      "\u001b[2m2024-10-16 19:00:26\u001b[0m [\u001b[32m\u001b[1minfo     \u001b[0m] \u001b[1mQuery success: blocks in 1.81s 2000 rows\u001b[0m\n",
      "\u001b[2m2024-10-16 19:00:27\u001b[0m [\u001b[32m\u001b[1minfo     \u001b[0m] \u001b[1mQuery success: transactions in 2.46s 14166 rows\u001b[0m\n",
      "\u001b[2m2024-10-16 19:00:27\u001b[0m [\u001b[32m\u001b[1minfo     \u001b[0m] \u001b[1mQuery success: logs in 2.51s 59381 rows\u001b[0m\n"
     ]
    }
   ],
   "source": [
    "inputbatch: BatchInput = None\n",
    "for _inputbatch in reader(\n",
    "    chain=\"op\", block_spec=\"105376883:+500\", source_spec=\"goldsky\"\n",
    "):\n",
    "    inputbatch = _inputbatch\n",
    "    break\n",
    "\n",
    "dataframes = inputbatch.dataframes"
   ]
  },
  {
   "cell_type": "code",
   "execution_count": 3,
   "metadata": {},
   "outputs": [
    {
     "data": {
      "text/plain": [
       "{'blocks': shape: (2_000, 24)\n",
       " ┌───────┬─────────┬──────────┬────────────┬───┬──────────┬───────────┬────────────┬────────────────┐\n",
       " │ chain ┆ network ┆ chain_id ┆ dt         ┆ … ┆ gas_used ┆ gas_limit ┆ extra_data ┆ transaction_co │\n",
       " │ ---   ┆ ---     ┆ ---      ┆ ---        ┆   ┆ ---      ┆ ---       ┆ ---        ┆ unt            │\n",
       " │ str   ┆ str     ┆ i32      ┆ str        ┆   ┆ i64      ┆ i64       ┆ str        ┆ ---            │\n",
       " │       ┆         ┆          ┆            ┆   ┆          ┆           ┆            ┆ i64            │\n",
       " ╞═══════╪═════════╪══════════╪════════════╪═══╪══════════╪═══════════╪════════════╪════════════════╡\n",
       " │ op    ┆ mainnet ┆ 10       ┆ 2023-06-09 ┆ … ┆ 676868   ┆ 30000000  ┆ 0x         ┆ 5              │\n",
       " │ op    ┆ mainnet ┆ 10       ┆ 2023-06-09 ┆ … ┆ 1149120  ┆ 30000000  ┆ 0x         ┆ 7              │\n",
       " │ op    ┆ mainnet ┆ 10       ┆ 2023-06-09 ┆ … ┆ 3368746  ┆ 30000000  ┆ 0x         ┆ 9              │\n",
       " │ op    ┆ mainnet ┆ 10       ┆ 2023-06-09 ┆ … ┆ 4173936  ┆ 30000000  ┆ 0x         ┆ 7              │\n",
       " │ op    ┆ mainnet ┆ 10       ┆ 2023-06-09 ┆ … ┆ 2970850  ┆ 30000000  ┆ 0x         ┆ 10             │\n",
       " │ …     ┆ …       ┆ …        ┆ …          ┆ … ┆ …        ┆ …         ┆ …          ┆ …              │\n",
       " │ op    ┆ mainnet ┆ 10       ┆ 2023-06-09 ┆ … ┆ 2845100  ┆ 30000000  ┆ 0x         ┆ 6              │\n",
       " │ op    ┆ mainnet ┆ 10       ┆ 2023-06-09 ┆ … ┆ 1902960  ┆ 30000000  ┆ 0x         ┆ 12             │\n",
       " │ op    ┆ mainnet ┆ 10       ┆ 2023-06-09 ┆ … ┆ 9648970  ┆ 30000000  ┆ 0x         ┆ 8              │\n",
       " │ op    ┆ mainnet ┆ 10       ┆ 2023-06-09 ┆ … ┆ 3989177  ┆ 30000000  ┆ 0x         ┆ 9              │\n",
       " │ op    ┆ mainnet ┆ 10       ┆ 2023-06-09 ┆ … ┆ 2432169  ┆ 30000000  ┆ 0x         ┆ 8              │\n",
       " └───────┴─────────┴──────────┴────────────┴───┴──────────┴───────────┴────────────┴────────────────┘,\n",
       " 'transactions': shape: (14_166, 32)\n",
       " ┌────────────┬───────┬─────────┬──────────┬───┬─────────────┬────────────┬────────────┬────────────┐\n",
       " │ dt         ┆ chain ┆ network ┆ chain_id ┆ … ┆ receipt_l1_ ┆ receipt_l1 ┆ receipt_l1 ┆ receipt_l1 │\n",
       " │ ---        ┆ ---   ┆ ---     ┆ ---      ┆   ┆ fee_scalar  ┆ _blob_base ┆ _blob_base ┆ _base_fee_ │\n",
       " │ str        ┆ str   ┆ str     ┆ i32      ┆   ┆ ---         ┆ _fee       ┆ _fee_scala ┆ scalar     │\n",
       " │            ┆       ┆         ┆          ┆   ┆ f64         ┆ ---        ┆ …          ┆ ---        │\n",
       " │            ┆       ┆         ┆          ┆   ┆             ┆ i64        ┆ ---        ┆ i64        │\n",
       " │            ┆       ┆         ┆          ┆   ┆             ┆            ┆ i64        ┆            │\n",
       " ╞════════════╪═══════╪═════════╪══════════╪═══╪═════════════╪════════════╪════════════╪════════════╡\n",
       " │ 2023-06-09 ┆ op    ┆ mainnet ┆ 10       ┆ … ┆ null        ┆ null       ┆ null       ┆ null       │\n",
       " │ 2023-06-09 ┆ op    ┆ mainnet ┆ 10       ┆ … ┆ 0.684       ┆ null       ┆ null       ┆ null       │\n",
       " │ 2023-06-09 ┆ op    ┆ mainnet ┆ 10       ┆ … ┆ 0.684       ┆ null       ┆ null       ┆ null       │\n",
       " │ 2023-06-09 ┆ op    ┆ mainnet ┆ 10       ┆ … ┆ 0.684       ┆ null       ┆ null       ┆ null       │\n",
       " │ 2023-06-09 ┆ op    ┆ mainnet ┆ 10       ┆ … ┆ 0.684       ┆ null       ┆ null       ┆ null       │\n",
       " │ …          ┆ …     ┆ …       ┆ …        ┆ … ┆ …           ┆ …          ┆ …          ┆ …          │\n",
       " │ 2023-06-09 ┆ op    ┆ mainnet ┆ 10       ┆ … ┆ 0.684       ┆ null       ┆ null       ┆ null       │\n",
       " │ 2023-06-09 ┆ op    ┆ mainnet ┆ 10       ┆ … ┆ 0.684       ┆ null       ┆ null       ┆ null       │\n",
       " │ 2023-06-09 ┆ op    ┆ mainnet ┆ 10       ┆ … ┆ 0.684       ┆ null       ┆ null       ┆ null       │\n",
       " │ 2023-06-09 ┆ op    ┆ mainnet ┆ 10       ┆ … ┆ 0.684       ┆ null       ┆ null       ┆ null       │\n",
       " │ 2023-06-09 ┆ op    ┆ mainnet ┆ 10       ┆ … ┆ 0.684       ┆ null       ┆ null       ┆ null       │\n",
       " └────────────┴───────┴─────────┴──────────┴───┴─────────────┴────────────┴────────────┴────────────┘,\n",
       " 'logs': shape: (59_381, 15)\n",
       " ┌────────────┬───────┬─────────┬──────────┬───┬─────────────┬────────────┬────────────┬────────────┐\n",
       " │ dt         ┆ chain ┆ network ┆ chain_id ┆ … ┆ topics      ┆ data       ┆ topic0     ┆ indexed_ar │\n",
       " │ ---        ┆ ---   ┆ ---     ┆ ---      ┆   ┆ ---         ┆ ---        ┆ ---        ┆ gs         │\n",
       " │ str        ┆ str   ┆ str     ┆ i32      ┆   ┆ str         ┆ str        ┆ str        ┆ ---        │\n",
       " │            ┆       ┆         ┆          ┆   ┆             ┆            ┆            ┆ list[str]  │\n",
       " ╞════════════╪═══════╪═════════╪══════════╪═══╪═════════════╪════════════╪════════════╪════════════╡\n",
       " │ 2023-06-09 ┆ op    ┆ mainnet ┆ 10       ┆ … ┆ 0xddf252ad1 ┆ 0x00000000 ┆ 0xddf252ad ┆ [\"0x000000 │\n",
       " │            ┆       ┆         ┆          ┆   ┆ be2c89b69c2 ┆ 0000000000 ┆ 1be2c89b69 ┆ 0000000000 │\n",
       " │            ┆       ┆         ┆          ┆   ┆ b068fc37…   ┆ 0000000000 ┆ c2b068fc37 ┆ 0000000059 │\n",
       " │            ┆       ┆         ┆          ┆   ┆             ┆ …          ┆ …          ┆ …          │\n",
       " │ 2023-06-09 ┆ op    ┆ mainnet ┆ 10       ┆ … ┆ 0x8c5be1e5e ┆ 0xffffffff ┆ 0x8c5be1e5 ┆ [\"0x000000 │\n",
       " │            ┆       ┆         ┆          ┆   ┆ bec7d5bd14f ┆ ffffffffff ┆ ebec7d5bd1 ┆ 0000000000 │\n",
       " │            ┆       ┆         ┆          ┆   ┆ 71427d1e…   ┆ ffffffffff ┆ 4f71427d1e ┆ 0000000059 │\n",
       " │            ┆       ┆         ┆          ┆   ┆             ┆ …          ┆ …          ┆ …          │\n",
       " │ 2023-06-09 ┆ op    ┆ mainnet ┆ 10       ┆ … ┆ 0xa9e09a39b ┆ 0x00000000 ┆ 0xa9e09a39 ┆ [\"0x000000 │\n",
       " │            ┆       ┆         ┆          ┆   ┆ 54248cb5161 ┆ 0000000000 ┆ b54248cb51 ┆ 0000000000 │\n",
       " │            ┆       ┆         ┆          ┆   ┆ a8bad4e5…   ┆ 0000000000 ┆ 61a8bad4e5 ┆ 00000000ef │\n",
       " │            ┆       ┆         ┆          ┆   ┆             ┆ …          ┆ …          ┆ …          │\n",
       " │ 2023-06-09 ┆ op    ┆ mainnet ┆ 10       ┆ … ┆ 0xddf252ad1 ┆ 0x00000000 ┆ 0xddf252ad ┆ [\"0x000000 │\n",
       " │            ┆       ┆         ┆          ┆   ┆ be2c89b69c2 ┆ 0000000000 ┆ 1be2c89b69 ┆ 0000000000 │\n",
       " │            ┆       ┆         ┆          ┆   ┆ b068fc37…   ┆ 0000000000 ┆ c2b068fc37 ┆ 0000000047 │\n",
       " │            ┆       ┆         ┆          ┆   ┆             ┆ …          ┆ …          ┆ …          │\n",
       " │ 2023-06-09 ┆ op    ┆ mainnet ┆ 10       ┆ … ┆ 0xddf252ad1 ┆ 0x00000000 ┆ 0xddf252ad ┆ [\"0x000000 │\n",
       " │            ┆       ┆         ┆          ┆   ┆ be2c89b69c2 ┆ 0000000000 ┆ 1be2c89b69 ┆ 0000000000 │\n",
       " │            ┆       ┆         ┆          ┆   ┆ b068fc37…   ┆ 0000000000 ┆ c2b068fc37 ┆ 0000000047 │\n",
       " │            ┆       ┆         ┆          ┆   ┆             ┆ …          ┆ …          ┆ …          │\n",
       " │ …          ┆ …     ┆ …       ┆ …        ┆ … ┆ …           ┆ …          ┆ …          ┆ …          │\n",
       " │ 2023-06-09 ┆ op    ┆ mainnet ┆ 10       ┆ … ┆ 0xcb47d8bf3 ┆ 0x00000000 ┆ 0xcb47d8bf ┆ [\"0x000000 │\n",
       " │            ┆       ┆         ┆          ┆   ┆ 51d355bdd54 ┆ 0000000000 ┆ 351d355bdd ┆ 0000000000 │\n",
       " │            ┆       ┆         ┆          ┆   ┆ 97973533…   ┆ 0000000000 ┆ 5497973533 ┆ 00000000d8 │\n",
       " │            ┆       ┆         ┆          ┆   ┆             ┆ …          ┆ …          ┆ …          │\n",
       " │ 2023-06-09 ┆ op    ┆ mainnet ┆ 10       ┆ … ┆ 0xf6a97944f ┆ 0x00000000 ┆ 0xf6a97944 ┆ [\"0x000000 │\n",
       " │            ┆       ┆         ┆          ┆   ┆ 31ea060dfde ┆ 0000000000 ┆ f31ea060df ┆ 0000000000 │\n",
       " │            ┆       ┆         ┆          ┆   ┆ 0566e416…   ┆ 0000000000 ┆ de0566e416 ┆ 0000000000 │\n",
       " │            ┆       ┆         ┆          ┆   ┆             ┆ …          ┆ …          ┆ …          │\n",
       " │ 2023-06-09 ┆ op    ┆ mainnet ┆ 10       ┆ … ┆ 0x0109fc6f5 ┆ 0x00000000 ┆ 0x0109fc6f ┆ [\"0x000000 │\n",
       " │            ┆       ┆         ┆          ┆   ┆ 5cf40689f02 ┆ 0000000000 ┆ 55cf40689f ┆ 0000000000 │\n",
       " │            ┆       ┆         ┆          ┆   ┆ fbaad7af…   ┆ 0000000000 ┆ 02fbaad7af ┆ 0000000000 │\n",
       " │            ┆       ┆         ┆          ┆   ┆             ┆ …          ┆ …          ┆ …          │\n",
       " │ 2023-06-09 ┆ op    ┆ mainnet ┆ 10       ┆ … ┆ 0x0559884fd ┆ 0x00000000 ┆ 0x0559884f ┆ [\"0x000000 │\n",
       " │            ┆       ┆         ┆          ┆   ┆ 3a460db3073 ┆ 0000000000 ┆ d3a460db30 ┆ 0000000000 │\n",
       " │            ┆       ┆         ┆          ┆   ┆ b7fc896c…   ┆ 0000000000 ┆ 73b7fc896c ┆ 0000000000 │\n",
       " │            ┆       ┆         ┆          ┆   ┆             ┆ …          ┆ …          ┆ …          │\n",
       " │ 2023-06-09 ┆ op    ┆ mainnet ┆ 10       ┆ … ┆ 0xddf252ad1 ┆ 0x00000000 ┆ 0xddf252ad ┆ [\"0x000000 │\n",
       " │            ┆       ┆         ┆          ┆   ┆ be2c89b69c2 ┆ 0000000000 ┆ 1be2c89b69 ┆ 0000000000 │\n",
       " │            ┆       ┆         ┆          ┆   ┆ b068fc37…   ┆ 0000000000 ┆ c2b068fc37 ┆ 00000000d1 │\n",
       " │            ┆       ┆         ┆          ┆   ┆             ┆ …          ┆ …          ┆ …          │\n",
       " └────────────┴───────┴─────────┴──────────┴───┴─────────────┴────────────┴────────────┴────────────┘}"
      ]
     },
     "execution_count": 3,
     "metadata": {},
     "output_type": "execute_result"
    }
   ],
   "source": [
    "dataframes"
   ]
  },
  {
   "cell_type": "code",
   "execution_count": 4,
   "metadata": {},
   "outputs": [
    {
     "name": "stdout",
     "output_type": "stream",
     "text": [
      "\u001b[2m2024-10-16 19:00:27\u001b[0m [\u001b[32m\u001b[1minfo     \u001b[0m] \u001b[1mMin block number: 105376000   \u001b[0m\n",
      "\u001b[2m2024-10-16 19:00:27\u001b[0m [\u001b[32m\u001b[1minfo     \u001b[0m] \u001b[1mMax block number: 105377999   \u001b[0m\n",
      "\u001b[2m2024-10-16 19:00:27\u001b[0m [\u001b[32m\u001b[1minfo     \u001b[0m] \u001b[1mMin block number: 2023-06-09 18:46:17\u001b[0m\n",
      "\u001b[2m2024-10-16 19:00:27\u001b[0m [\u001b[32m\u001b[1minfo     \u001b[0m] \u001b[1mMax block number: 2023-06-09 19:52:55\u001b[0m\n"
     ]
    }
   ],
   "source": [
    "# check if our blocks are in the range we want\n",
    "\n",
    "log.info(f\"Min block number: {dataframes['blocks']['number'].min()}\")\n",
    "log.info(f\"Max block number: {dataframes['blocks']['number'].max()}\")\n",
    "log.info(\n",
    "    f\"Min block number: {datetime.fromtimestamp(dataframes['blocks']['timestamp'].min())}\"\n",
    ")\n",
    "log.info(\n",
    "    f\"Max block number: {datetime.fromtimestamp(dataframes['blocks']['timestamp'].max())}\"\n",
    ")"
   ]
  },
  {
   "cell_type": "code",
   "execution_count": 5,
   "metadata": {},
   "outputs": [],
   "source": [
    "result = daily_address_summary(\n",
    "    dataframes[\"transactions\"],\n",
    "    conditions=CONDITIONS,\n",
    "    address=\"from_address\",\n",
    "    chain_id=\"chain_id\",\n",
    "    chain=\"chain\",\n",
    "    dt=\"dt\",\n",
    ")"
   ]
  },
  {
   "cell_type": "code",
   "execution_count": 6,
   "metadata": {},
   "outputs": [
    {
     "data": {
      "text/html": [
       "<div><style>\n",
       ".dataframe > thead > tr,\n",
       ".dataframe > tbody > tr {\n",
       "  text-align: right;\n",
       "  white-space: pre-wrap;\n",
       "}\n",
       "</style>\n",
       "<small>shape: (5, 44)</small><table border=\"1\" class=\"dataframe\"><thead><tr><th>from_address</th><th>chain_id</th><th>chain</th><th>dt</th><th>total_txs</th><th>total_txs_success</th><th>total_txs_fail</th><th>total_blocks</th><th>total_blocks_success</th><th>total_blocks_fail</th><th>min_block_number</th><th>max_block_number</th><th>block_interval_active</th><th>min_nonce</th><th>max_nonce</th><th>nonce_interval_active</th><th>total_l2_gas_used</th><th>total_l2_gas_used_success</th><th>total_l2_gas_used_fail</th><th>total_l1_gas_used</th><th>total_l1_gas_used_success</th><th>total_l1_gas_used_fail</th><th>total_gas_fees</th><th>total_gas_fees_success</th><th>total_gas_fees_fail</th><th>l2_contrib_gas_fees</th><th>l1_contrib_gas_fees</th><th>l1_blobgas_contrib_gas_fees</th><th>l1_l1gas_contrib_gas_fees</th><th>l2_contrib_gas_fees_base_fee</th><th>l2_contrib_gas_fees_priority_fee</th><th>avg_l2_gas_price_gwei</th><th>avg_l2_base_fee_gwei</th><th>avg_l2_priority_fee_gwei</th><th>avg_l1_gas_price_gwei</th><th>avg_l1_blob_base_fee_gwei</th><th>min_block_timestamp</th><th>max_block_timestamp</th><th>time_interval_active</th><th>unique_hours_active</th><th>perc_daily_hours_active</th><th>num_to_addresses</th><th>num_to_addresses_success</th><th>num_to_addresses_fail</th></tr><tr><td>str</td><td>i32</td><td>str</td><td>str</td><td>u32</td><td>u32</td><td>u32</td><td>u32</td><td>u32</td><td>u32</td><td>i64</td><td>i64</td><td>i64</td><td>i64</td><td>i64</td><td>i64</td><td>i64</td><td>i64</td><td>i64</td><td>i64</td><td>i64</td><td>i64</td><td>decimal[*,22]</td><td>decimal[*,22]</td><td>decimal[*,22]</td><td>decimal[*,22]</td><td>decimal[*,22]</td><td>decimal[*,22]</td><td>decimal[*,22]</td><td>decimal[*,22]</td><td>decimal[*,22]</td><td>decimal[*,17]</td><td>decimal[*,17]</td><td>decimal[*,17]</td><td>decimal[*,17]</td><td>decimal[*,17]</td><td>datetime[μs]</td><td>datetime[μs]</td><td>duration[μs]</td><td>u32</td><td>f64</td><td>u32</td><td>u32</td><td>u32</td></tr></thead><tbody><tr><td>&quot;0xdcd0ccf5ac9c9f2f65f4da06c8ca…</td><td>10</td><td>&quot;op&quot;</td><td>&quot;2023-06-09&quot;</td><td>1</td><td>1</td><td>0</td><td>1</td><td>1</td><td>0</td><td>105377564</td><td>105377564</td><td>1</td><td>0</td><td>0</td><td>1</td><td>21000</td><td>21000</td><td>0</td><td>1900</td><td>1900</td><td>0</td><td>0.0000238703515274720000</td><td>0.0000238703515274720000</td><td>0.0000000000000000000000</td><td>0.0000000000127680000000</td><td>0.0000238703387594720000</td><td>0.0000000000000000000000</td><td>0.0000238703387594724045</td><td>0.0000000000127680000000</td><td>0.0000000000000000000000</td><td>0.00000060800000000</td><td>0.00000060800000000</td><td>0.00000000000000000</td><td>18.36745056900000000</td><td>0.00000000000000000</td><td>2023-06-09 23:38:25</td><td>2023-06-09 23:38:25</td><td>0µs</td><td>1</td><td>0.041667</td><td>1</td><td>1</td><td>0</td></tr><tr><td>&quot;0x0654f1957e5ab4837dc351ace517…</td><td>10</td><td>&quot;op&quot;</td><td>&quot;2023-06-09&quot;</td><td>3</td><td>3</td><td>0</td><td>3</td><td>3</td><td>0</td><td>105376321</td><td>105376550</td><td>230</td><td>0</td><td>2</td><td>3</td><td>812294</td><td>812294</td><td>0</td><td>15788</td><td>15788</td><td>0</td><td>0.0001982178932599750000</td><td>0.0001982178932599750000</td><td>0.0000000000000000000000</td><td>0.0000000001210792180000</td><td>0.0001982177721807570000</td><td>0.0000000000000000000000</td><td>0.0001982177721807583753</td><td>0.0000000000466853610000</td><td>0.0000000000743938570000</td><td>0.00000014905836802</td><td>0.00000005747347758</td><td>0.00000009158489044</td><td>18.35521057713149227</td><td>0.00000000000000000</td><td>2023-06-09 22:56:59</td><td>2023-06-09 23:04:37</td><td>7m 38s</td><td>2</td><td>0.083333</td><td>3</td><td>3</td><td>0</td></tr><tr><td>&quot;0xd631465b98dd0df6bc368a9fd409…</td><td>10</td><td>&quot;op&quot;</td><td>&quot;2023-06-09&quot;</td><td>1</td><td>1</td><td>0</td><td>1</td><td>1</td><td>0</td><td>105377119</td><td>105377119</td><td>1</td><td>1</td><td>1</td><td>1</td><td>221553</td><td>221553</td><td>0</td><td>4804</td><td>4804</td><td>0</td><td>0.0000595396660303510000</td><td>0.0000595396660303510000</td><td>0.0000000000000000000000</td><td>0.0000000000708969600000</td><td>0.0000595395951333910000</td><td>0.0000000000000000000000</td><td>0.0000595395951333910660</td><td>0.0000000000708969600000</td><td>0.0000000000000000000000</td><td>0.00000032000000000</td><td>0.00000032000000000</td><td>0.00000000000000000</td><td>18.11952367100000000</td><td>0.00000000000000000</td><td>2023-06-09 23:23:35</td><td>2023-06-09 23:23:35</td><td>0µs</td><td>1</td><td>0.041667</td><td>1</td><td>1</td><td>0</td></tr><tr><td>&quot;0xac73fa5bfdf8dafa2a56018653b8…</td><td>10</td><td>&quot;op&quot;</td><td>&quot;2023-06-09&quot;</td><td>3</td><td>3</td><td>0</td><td>3</td><td>3</td><td>0</td><td>105376018</td><td>105376874</td><td>857</td><td>3</td><td>5</td><td>3</td><td>1390274</td><td>1390274</td><td>0</td><td>24456</td><td>24456</td><td>0</td><td>0.0004452100210582060000</td><td>0.0004452100210582060000</td><td>0.0000000000000000000000</td><td>0.0000000002342876020000</td><td>0.0004452097867706040000</td><td>0.0000000000000000000000</td><td>0.0004452097867706053624</td><td>0.0000000000749719020000</td><td>0.0000000001593157000000</td><td>0.00000016851901279</td><td>0.00000005392599012</td><td>0.00000011459302267</td><td>26.61479805064671246</td><td>0.00000000000000000</td><td>2023-06-09 22:46:53</td><td>2023-06-09 23:15:25</td><td>28m 32s</td><td>2</td><td>0.083333</td><td>2</td><td>2</td><td>0</td></tr><tr><td>&quot;0x7b4dddd2a05372c361ca5ad7d2b4…</td><td>10</td><td>&quot;op&quot;</td><td>&quot;2023-06-09&quot;</td><td>1</td><td>1</td><td>0</td><td>1</td><td>1</td><td>0</td><td>105376894</td><td>105376894</td><td>1</td><td>0</td><td>0</td><td>1</td><td>36702</td><td>36702</td><td>0</td><td>2432</td><td>2432</td><td>0</td><td>0.0002308465629605320000</td><td>0.0002308465629605320000</td><td>0.0000000000000000000000</td><td>0.0001835100000000000000</td><td>0.0000473365629605320000</td><td>0.0000000000000000000000</td><td>0.0000473365629605329893</td><td>0.0001835100000000000000</td><td>0.0000000000000000000000</td><td>5.00000000000000000</td><td>5.00000000000000000</td><td>0.00000000000000000</td><td>28.45620945900000000</td><td>0.00000000000000000</td><td>2023-06-09 23:16:05</td><td>2023-06-09 23:16:05</td><td>0µs</td><td>1</td><td>0.041667</td><td>1</td><td>1</td><td>0</td></tr></tbody></table></div>"
      ],
      "text/plain": [
       "shape: (5, 44)\n",
       "┌────────────┬──────────┬───────┬────────────┬───┬────────────┬────────────┬───────────┬───────────┐\n",
       "│ from_addre ┆ chain_id ┆ chain ┆ dt         ┆ … ┆ perc_daily ┆ num_to_add ┆ num_to_ad ┆ num_to_ad │\n",
       "│ ss         ┆ ---      ┆ ---   ┆ ---        ┆   ┆ _hours_act ┆ resses     ┆ dresses_s ┆ dresses_f │\n",
       "│ ---        ┆ i32      ┆ str   ┆ str        ┆   ┆ ive        ┆ ---        ┆ uccess    ┆ ail       │\n",
       "│ str        ┆          ┆       ┆            ┆   ┆ ---        ┆ u32        ┆ ---       ┆ ---       │\n",
       "│            ┆          ┆       ┆            ┆   ┆ f64        ┆            ┆ u32       ┆ u32       │\n",
       "╞════════════╪══════════╪═══════╪════════════╪═══╪════════════╪════════════╪═══════════╪═══════════╡\n",
       "│ 0xdcd0ccf5 ┆ 10       ┆ op    ┆ 2023-06-09 ┆ … ┆ 0.041667   ┆ 1          ┆ 1         ┆ 0         │\n",
       "│ ac9c9f2f65 ┆          ┆       ┆            ┆   ┆            ┆            ┆           ┆           │\n",
       "│ f4da06c8ca ┆          ┆       ┆            ┆   ┆            ┆            ┆           ┆           │\n",
       "│ …          ┆          ┆       ┆            ┆   ┆            ┆            ┆           ┆           │\n",
       "│ 0x0654f195 ┆ 10       ┆ op    ┆ 2023-06-09 ┆ … ┆ 0.083333   ┆ 3          ┆ 3         ┆ 0         │\n",
       "│ 7e5ab4837d ┆          ┆       ┆            ┆   ┆            ┆            ┆           ┆           │\n",
       "│ c351ace517 ┆          ┆       ┆            ┆   ┆            ┆            ┆           ┆           │\n",
       "│ …          ┆          ┆       ┆            ┆   ┆            ┆            ┆           ┆           │\n",
       "│ 0xd631465b ┆ 10       ┆ op    ┆ 2023-06-09 ┆ … ┆ 0.041667   ┆ 1          ┆ 1         ┆ 0         │\n",
       "│ 98dd0df6bc ┆          ┆       ┆            ┆   ┆            ┆            ┆           ┆           │\n",
       "│ 368a9fd409 ┆          ┆       ┆            ┆   ┆            ┆            ┆           ┆           │\n",
       "│ …          ┆          ┆       ┆            ┆   ┆            ┆            ┆           ┆           │\n",
       "│ 0xac73fa5b ┆ 10       ┆ op    ┆ 2023-06-09 ┆ … ┆ 0.083333   ┆ 2          ┆ 2         ┆ 0         │\n",
       "│ fdf8dafa2a ┆          ┆       ┆            ┆   ┆            ┆            ┆           ┆           │\n",
       "│ 56018653b8 ┆          ┆       ┆            ┆   ┆            ┆            ┆           ┆           │\n",
       "│ …          ┆          ┆       ┆            ┆   ┆            ┆            ┆           ┆           │\n",
       "│ 0x7b4dddd2 ┆ 10       ┆ op    ┆ 2023-06-09 ┆ … ┆ 0.041667   ┆ 1          ┆ 1         ┆ 0         │\n",
       "│ a05372c361 ┆          ┆       ┆            ┆   ┆            ┆            ┆           ┆           │\n",
       "│ ca5ad7d2b4 ┆          ┆       ┆            ┆   ┆            ┆            ┆           ┆           │\n",
       "│ …          ┆          ┆       ┆            ┆   ┆            ┆            ┆           ┆           │\n",
       "└────────────┴──────────┴───────┴────────────┴───┴────────────┴────────────┴───────────┴───────────┘"
      ]
     },
     "execution_count": 6,
     "metadata": {},
     "output_type": "execute_result"
    }
   ],
   "source": [
    "# list(result.head()[\"hash\"])\n",
    "result.head()"
   ]
  },
  {
   "cell_type": "code",
   "execution_count": 7,
   "metadata": {},
   "outputs": [
    {
     "name": "stdout",
     "output_type": "stream",
     "text": [
      "\u001b[2m2024-10-16 19:00:27\u001b[0m [\u001b[32m\u001b[1minfo     \u001b[0m] \u001b[1mWriting 1 partitions to BQ [2023-06-09 00:00:00 ... 2023-06-09 00:00:00]\u001b[0m\n",
      "\u001b[2m2024-10-16 19:00:27\u001b[0m [\u001b[32m\u001b[1minfo     \u001b[0m] \u001b[1mDRYRUN OVERWRITE PARTITION: Wrote 2.9Krows 390.1KB to BQ temp.daily_address_summary\u001b[0m\n"
     ]
    }
   ],
   "source": [
    "overwrite_partitions(result, \"temp\", \"daily_address_summary\", expiration_days=999)"
   ]
  }
 ],
 "metadata": {
  "kernelspec": {
   "display_name": ".venv",
   "language": "python",
   "name": "python3"
  },
  "language_info": {
   "codemirror_mode": {
    "name": "ipython",
    "version": 3
   },
   "file_extension": ".py",
   "mimetype": "text/x-python",
   "name": "python",
   "nbconvert_exporter": "python",
   "pygments_lexer": "ipython3",
   "version": "3.12.3"
  }
 },
 "nbformat": 4,
 "nbformat_minor": 2
}
