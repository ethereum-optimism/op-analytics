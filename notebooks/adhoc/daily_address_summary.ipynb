{
 "cells": [
  {
   "cell_type": "code",
   "execution_count": 1,
   "metadata": {},
   "outputs": [
    {
     "name": "stdout",
     "output_type": "stream",
     "text": [
      "\u001b[2m2024-10-16 18:52:55\u001b[0m [\u001b[32m\u001b[1minfo     \u001b[0m] \u001b[1mLoaded env var: OP_ANALYTICS_VAULT\u001b[0m\n"
     ]
    }
   ],
   "source": [
    "import polars as pl\n",
    "from op_datasets.processing.execute import reader, BatchInput\n",
    "from op_datasets.logic.transforms.daily_address_summary import (\n",
    "    daily_address_summary,\n",
    "    CONDITIONS,\n",
    ")\n",
    "from op_coreutils.logger import structlog\n",
    "from op_coreutils.bigquery.write import overwrite_partitions\n",
    "\n",
    "from datetime import datetime\n",
    "import os\n",
    "\n",
    "os.environ[\"OPLABS_ENV\"] = \"prod\"\n",
    "\n",
    "\n",
    "log = structlog.get_logger()"
   ]
  },
  {
   "cell_type": "code",
   "execution_count": 2,
   "metadata": {},
   "outputs": [
    {
     "name": "stdout",
     "output_type": "stream",
     "text": [
      "\u001b[2m2024-10-16 18:52:56\u001b[0m [\u001b[32m\u001b[1minfo     \u001b[0m] \u001b[1mLoaded 5 items into vault.    \u001b[0m\n",
      "\u001b[2m2024-10-16 18:52:57\u001b[0m [\u001b[32m\u001b[1minfo     \u001b[0m] \u001b[1mInitialized Clickhouse client.\u001b[0m\n",
      "\u001b[2m2024-10-16 18:52:57\u001b[0m [\u001b[32m\u001b[1minfo     \u001b[0m] \u001b[1mQuery success: blocks in 1.74s 2000 rows\u001b[0m\n",
      "\u001b[2m2024-10-16 18:52:58\u001b[0m [\u001b[32m\u001b[1minfo     \u001b[0m] \u001b[1mQuery success: transactions in 2.36s 14166 rows\u001b[0m\n",
      "\u001b[2m2024-10-16 18:52:58\u001b[0m [\u001b[32m\u001b[1minfo     \u001b[0m] \u001b[1mQuery success: logs in 2.58s 59381 rows\u001b[0m\n"
     ]
    }
   ],
   "source": [
    "inputbatch: BatchInput = None\n",
    "for _inputbatch in reader(\n",
    "    chain=\"op\", block_spec=\"105376883:+500\", source_spec=\"goldsky\"\n",
    "):\n",
    "    inputbatch = _inputbatch\n",
    "    break\n",
    "\n",
    "dataframes = inputbatch.dataframes"
   ]
  },
  {
   "cell_type": "code",
   "execution_count": 3,
   "metadata": {},
   "outputs": [
    {
     "data": {
      "text/plain": [
       "{'blocks': shape: (2_000, 24)\n",
       " ┌───────┬─────────┬──────────┬────────────┬───┬──────────┬───────────┬────────────┬────────────────┐\n",
       " │ chain ┆ network ┆ chain_id ┆ dt         ┆ … ┆ gas_used ┆ gas_limit ┆ extra_data ┆ transaction_co │\n",
       " │ ---   ┆ ---     ┆ ---      ┆ ---        ┆   ┆ ---      ┆ ---       ┆ ---        ┆ unt            │\n",
       " │ str   ┆ str     ┆ i32      ┆ str        ┆   ┆ i64      ┆ i64       ┆ str        ┆ ---            │\n",
       " │       ┆         ┆          ┆            ┆   ┆          ┆           ┆            ┆ i64            │\n",
       " ╞═══════╪═════════╪══════════╪════════════╪═══╪══════════╪═══════════╪════════════╪════════════════╡\n",
       " │ op    ┆ mainnet ┆ 10       ┆ 2023-06-09 ┆ … ┆ 676868   ┆ 30000000  ┆ 0x         ┆ 5              │\n",
       " │ op    ┆ mainnet ┆ 10       ┆ 2023-06-09 ┆ … ┆ 1149120  ┆ 30000000  ┆ 0x         ┆ 7              │\n",
       " │ op    ┆ mainnet ┆ 10       ┆ 2023-06-09 ┆ … ┆ 3368746  ┆ 30000000  ┆ 0x         ┆ 9              │\n",
       " │ op    ┆ mainnet ┆ 10       ┆ 2023-06-09 ┆ … ┆ 4173936  ┆ 30000000  ┆ 0x         ┆ 7              │\n",
       " │ op    ┆ mainnet ┆ 10       ┆ 2023-06-09 ┆ … ┆ 2970850  ┆ 30000000  ┆ 0x         ┆ 10             │\n",
       " │ …     ┆ …       ┆ …        ┆ …          ┆ … ┆ …        ┆ …         ┆ …          ┆ …              │\n",
       " │ op    ┆ mainnet ┆ 10       ┆ 2023-06-09 ┆ … ┆ 2845100  ┆ 30000000  ┆ 0x         ┆ 6              │\n",
       " │ op    ┆ mainnet ┆ 10       ┆ 2023-06-09 ┆ … ┆ 1902960  ┆ 30000000  ┆ 0x         ┆ 12             │\n",
       " │ op    ┆ mainnet ┆ 10       ┆ 2023-06-09 ┆ … ┆ 9648970  ┆ 30000000  ┆ 0x         ┆ 8              │\n",
       " │ op    ┆ mainnet ┆ 10       ┆ 2023-06-09 ┆ … ┆ 3989177  ┆ 30000000  ┆ 0x         ┆ 9              │\n",
       " │ op    ┆ mainnet ┆ 10       ┆ 2023-06-09 ┆ … ┆ 2432169  ┆ 30000000  ┆ 0x         ┆ 8              │\n",
       " └───────┴─────────┴──────────┴────────────┴───┴──────────┴───────────┴────────────┴────────────────┘,\n",
       " 'transactions': shape: (14_166, 32)\n",
       " ┌────────────┬───────┬─────────┬──────────┬───┬─────────────┬────────────┬────────────┬────────────┐\n",
       " │ dt         ┆ chain ┆ network ┆ chain_id ┆ … ┆ receipt_l1_ ┆ receipt_l1 ┆ receipt_l1 ┆ receipt_l1 │\n",
       " │ ---        ┆ ---   ┆ ---     ┆ ---      ┆   ┆ fee_scalar  ┆ _blob_base ┆ _blob_base ┆ _base_fee_ │\n",
       " │ str        ┆ str   ┆ str     ┆ i32      ┆   ┆ ---         ┆ _fee       ┆ _fee_scala ┆ scalar     │\n",
       " │            ┆       ┆         ┆          ┆   ┆ f64         ┆ ---        ┆ …          ┆ ---        │\n",
       " │            ┆       ┆         ┆          ┆   ┆             ┆ i64        ┆ ---        ┆ i64        │\n",
       " │            ┆       ┆         ┆          ┆   ┆             ┆            ┆ i64        ┆            │\n",
       " ╞════════════╪═══════╪═════════╪══════════╪═══╪═════════════╪════════════╪════════════╪════════════╡\n",
       " │ 2023-06-09 ┆ op    ┆ mainnet ┆ 10       ┆ … ┆ null        ┆ null       ┆ null       ┆ null       │\n",
       " │ 2023-06-09 ┆ op    ┆ mainnet ┆ 10       ┆ … ┆ 0.684       ┆ null       ┆ null       ┆ null       │\n",
       " │ 2023-06-09 ┆ op    ┆ mainnet ┆ 10       ┆ … ┆ 0.684       ┆ null       ┆ null       ┆ null       │\n",
       " │ 2023-06-09 ┆ op    ┆ mainnet ┆ 10       ┆ … ┆ 0.684       ┆ null       ┆ null       ┆ null       │\n",
       " │ 2023-06-09 ┆ op    ┆ mainnet ┆ 10       ┆ … ┆ 0.684       ┆ null       ┆ null       ┆ null       │\n",
       " │ …          ┆ …     ┆ …       ┆ …        ┆ … ┆ …           ┆ …          ┆ …          ┆ …          │\n",
       " │ 2023-06-09 ┆ op    ┆ mainnet ┆ 10       ┆ … ┆ 0.684       ┆ null       ┆ null       ┆ null       │\n",
       " │ 2023-06-09 ┆ op    ┆ mainnet ┆ 10       ┆ … ┆ 0.684       ┆ null       ┆ null       ┆ null       │\n",
       " │ 2023-06-09 ┆ op    ┆ mainnet ┆ 10       ┆ … ┆ 0.684       ┆ null       ┆ null       ┆ null       │\n",
       " │ 2023-06-09 ┆ op    ┆ mainnet ┆ 10       ┆ … ┆ 0.684       ┆ null       ┆ null       ┆ null       │\n",
       " │ 2023-06-09 ┆ op    ┆ mainnet ┆ 10       ┆ … ┆ 0.684       ┆ null       ┆ null       ┆ null       │\n",
       " └────────────┴───────┴─────────┴──────────┴───┴─────────────┴────────────┴────────────┴────────────┘,\n",
       " 'logs': shape: (59_381, 15)\n",
       " ┌────────────┬───────┬─────────┬──────────┬───┬─────────────┬────────────┬────────────┬────────────┐\n",
       " │ dt         ┆ chain ┆ network ┆ chain_id ┆ … ┆ topics      ┆ data       ┆ topic0     ┆ indexed_ar │\n",
       " │ ---        ┆ ---   ┆ ---     ┆ ---      ┆   ┆ ---         ┆ ---        ┆ ---        ┆ gs         │\n",
       " │ str        ┆ str   ┆ str     ┆ i32      ┆   ┆ str         ┆ str        ┆ str        ┆ ---        │\n",
       " │            ┆       ┆         ┆          ┆   ┆             ┆            ┆            ┆ list[str]  │\n",
       " ╞════════════╪═══════╪═════════╪══════════╪═══╪═════════════╪════════════╪════════════╪════════════╡\n",
       " │ 2023-06-09 ┆ op    ┆ mainnet ┆ 10       ┆ … ┆ 0xddf252ad1 ┆ 0x00000000 ┆ 0xddf252ad ┆ [\"0x000000 │\n",
       " │            ┆       ┆         ┆          ┆   ┆ be2c89b69c2 ┆ 0000000000 ┆ 1be2c89b69 ┆ 0000000000 │\n",
       " │            ┆       ┆         ┆          ┆   ┆ b068fc37…   ┆ 0000000000 ┆ c2b068fc37 ┆ 0000000059 │\n",
       " │            ┆       ┆         ┆          ┆   ┆             ┆ …          ┆ …          ┆ …          │\n",
       " │ 2023-06-09 ┆ op    ┆ mainnet ┆ 10       ┆ … ┆ 0x8c5be1e5e ┆ 0xffffffff ┆ 0x8c5be1e5 ┆ [\"0x000000 │\n",
       " │            ┆       ┆         ┆          ┆   ┆ bec7d5bd14f ┆ ffffffffff ┆ ebec7d5bd1 ┆ 0000000000 │\n",
       " │            ┆       ┆         ┆          ┆   ┆ 71427d1e…   ┆ ffffffffff ┆ 4f71427d1e ┆ 0000000059 │\n",
       " │            ┆       ┆         ┆          ┆   ┆             ┆ …          ┆ …          ┆ …          │\n",
       " │ 2023-06-09 ┆ op    ┆ mainnet ┆ 10       ┆ … ┆ 0xa9e09a39b ┆ 0x00000000 ┆ 0xa9e09a39 ┆ [\"0x000000 │\n",
       " │            ┆       ┆         ┆          ┆   ┆ 54248cb5161 ┆ 0000000000 ┆ b54248cb51 ┆ 0000000000 │\n",
       " │            ┆       ┆         ┆          ┆   ┆ a8bad4e5…   ┆ 0000000000 ┆ 61a8bad4e5 ┆ 00000000ef │\n",
       " │            ┆       ┆         ┆          ┆   ┆             ┆ …          ┆ …          ┆ …          │\n",
       " │ 2023-06-09 ┆ op    ┆ mainnet ┆ 10       ┆ … ┆ 0xddf252ad1 ┆ 0x00000000 ┆ 0xddf252ad ┆ [\"0x000000 │\n",
       " │            ┆       ┆         ┆          ┆   ┆ be2c89b69c2 ┆ 0000000000 ┆ 1be2c89b69 ┆ 0000000000 │\n",
       " │            ┆       ┆         ┆          ┆   ┆ b068fc37…   ┆ 0000000000 ┆ c2b068fc37 ┆ 0000000047 │\n",
       " │            ┆       ┆         ┆          ┆   ┆             ┆ …          ┆ …          ┆ …          │\n",
       " │ 2023-06-09 ┆ op    ┆ mainnet ┆ 10       ┆ … ┆ 0xddf252ad1 ┆ 0x00000000 ┆ 0xddf252ad ┆ [\"0x000000 │\n",
       " │            ┆       ┆         ┆          ┆   ┆ be2c89b69c2 ┆ 0000000000 ┆ 1be2c89b69 ┆ 0000000000 │\n",
       " │            ┆       ┆         ┆          ┆   ┆ b068fc37…   ┆ 0000000000 ┆ c2b068fc37 ┆ 0000000047 │\n",
       " │            ┆       ┆         ┆          ┆   ┆             ┆ …          ┆ …          ┆ …          │\n",
       " │ …          ┆ …     ┆ …       ┆ …        ┆ … ┆ …           ┆ …          ┆ …          ┆ …          │\n",
       " │ 2023-06-09 ┆ op    ┆ mainnet ┆ 10       ┆ … ┆ 0xcb47d8bf3 ┆ 0x00000000 ┆ 0xcb47d8bf ┆ [\"0x000000 │\n",
       " │            ┆       ┆         ┆          ┆   ┆ 51d355bdd54 ┆ 0000000000 ┆ 351d355bdd ┆ 0000000000 │\n",
       " │            ┆       ┆         ┆          ┆   ┆ 97973533…   ┆ 0000000000 ┆ 5497973533 ┆ 00000000d8 │\n",
       " │            ┆       ┆         ┆          ┆   ┆             ┆ …          ┆ …          ┆ …          │\n",
       " │ 2023-06-09 ┆ op    ┆ mainnet ┆ 10       ┆ … ┆ 0xf6a97944f ┆ 0x00000000 ┆ 0xf6a97944 ┆ [\"0x000000 │\n",
       " │            ┆       ┆         ┆          ┆   ┆ 31ea060dfde ┆ 0000000000 ┆ f31ea060df ┆ 0000000000 │\n",
       " │            ┆       ┆         ┆          ┆   ┆ 0566e416…   ┆ 0000000000 ┆ de0566e416 ┆ 0000000000 │\n",
       " │            ┆       ┆         ┆          ┆   ┆             ┆ …          ┆ …          ┆ …          │\n",
       " │ 2023-06-09 ┆ op    ┆ mainnet ┆ 10       ┆ … ┆ 0x0109fc6f5 ┆ 0x00000000 ┆ 0x0109fc6f ┆ [\"0x000000 │\n",
       " │            ┆       ┆         ┆          ┆   ┆ 5cf40689f02 ┆ 0000000000 ┆ 55cf40689f ┆ 0000000000 │\n",
       " │            ┆       ┆         ┆          ┆   ┆ fbaad7af…   ┆ 0000000000 ┆ 02fbaad7af ┆ 0000000000 │\n",
       " │            ┆       ┆         ┆          ┆   ┆             ┆ …          ┆ …          ┆ …          │\n",
       " │ 2023-06-09 ┆ op    ┆ mainnet ┆ 10       ┆ … ┆ 0x0559884fd ┆ 0x00000000 ┆ 0x0559884f ┆ [\"0x000000 │\n",
       " │            ┆       ┆         ┆          ┆   ┆ 3a460db3073 ┆ 0000000000 ┆ d3a460db30 ┆ 0000000000 │\n",
       " │            ┆       ┆         ┆          ┆   ┆ b7fc896c…   ┆ 0000000000 ┆ 73b7fc896c ┆ 0000000000 │\n",
       " │            ┆       ┆         ┆          ┆   ┆             ┆ …          ┆ …          ┆ …          │\n",
       " │ 2023-06-09 ┆ op    ┆ mainnet ┆ 10       ┆ … ┆ 0xddf252ad1 ┆ 0x00000000 ┆ 0xddf252ad ┆ [\"0x000000 │\n",
       " │            ┆       ┆         ┆          ┆   ┆ be2c89b69c2 ┆ 0000000000 ┆ 1be2c89b69 ┆ 0000000000 │\n",
       " │            ┆       ┆         ┆          ┆   ┆ b068fc37…   ┆ 0000000000 ┆ c2b068fc37 ┆ 00000000d1 │\n",
       " │            ┆       ┆         ┆          ┆   ┆             ┆ …          ┆ …          ┆ …          │\n",
       " └────────────┴───────┴─────────┴──────────┴───┴─────────────┴────────────┴────────────┴────────────┘}"
      ]
     },
     "execution_count": 3,
     "metadata": {},
     "output_type": "execute_result"
    }
   ],
   "source": [
    "dataframes"
   ]
  },
  {
   "cell_type": "code",
   "execution_count": 4,
   "metadata": {},
   "outputs": [
    {
     "name": "stdout",
     "output_type": "stream",
     "text": [
      "\u001b[2m2024-10-16 18:52:58\u001b[0m [\u001b[32m\u001b[1minfo     \u001b[0m] \u001b[1mMin block number: 105376000   \u001b[0m\n",
      "\u001b[2m2024-10-16 18:52:58\u001b[0m [\u001b[32m\u001b[1minfo     \u001b[0m] \u001b[1mMax block number: 105377999   \u001b[0m\n",
      "\u001b[2m2024-10-16 18:52:58\u001b[0m [\u001b[32m\u001b[1minfo     \u001b[0m] \u001b[1mMin block number: 2023-06-09 18:46:17\u001b[0m\n",
      "\u001b[2m2024-10-16 18:52:58\u001b[0m [\u001b[32m\u001b[1minfo     \u001b[0m] \u001b[1mMax block number: 2023-06-09 19:52:55\u001b[0m\n"
     ]
    }
   ],
   "source": [
    "# # check if our blocks are in the range we want\n",
    "# log.info(f\"Min block number: {dataframes[\"blocks\"][\"number\"].min()}\")\n",
    "# log.info(f\"Max block number: {dataframes[\"blocks\"][\"number\"].max()}\")\n",
    "\n",
    "# log.info(f\"Min block number: {datetime.fromtimestamp( dataframes[\"blocks\"][\"timestamp\"].min() )}\")\n",
    "# log.info(f\"Max block number: {datetime.fromtimestamp( dataframes[\"blocks\"][\"timestamp\"].max() )}\")"
   ]
  },
  {
   "cell_type": "code",
   "execution_count": 5,
   "metadata": {},
   "outputs": [
    {
     "data": {
      "text/html": [
       "<div><style>\n",
       ".dataframe > thead > tr,\n",
       ".dataframe > tbody > tr {\n",
       "  text-align: right;\n",
       "  white-space: pre-wrap;\n",
       "}\n",
       "</style>\n",
       "<small>shape: (14_166,)</small><table border=\"1\" class=\"dataframe\"><thead><tr><th>receipt_l1_fee_scalar</th></tr><tr><td>f64</td></tr></thead><tbody><tr><td>null</td></tr><tr><td>0.684</td></tr><tr><td>0.684</td></tr><tr><td>0.684</td></tr><tr><td>0.684</td></tr><tr><td>&hellip;</td></tr><tr><td>0.684</td></tr><tr><td>0.684</td></tr><tr><td>0.684</td></tr><tr><td>0.684</td></tr><tr><td>0.684</td></tr></tbody></table></div>"
      ],
      "text/plain": [
       "shape: (14_166,)\n",
       "Series: 'receipt_l1_fee_scalar' [f64]\n",
       "[\n",
       "\tnull\n",
       "\t0.684\n",
       "\t0.684\n",
       "\t0.684\n",
       "\t0.684\n",
       "\t…\n",
       "\t0.684\n",
       "\t0.684\n",
       "\t0.684\n",
       "\t0.684\n",
       "\t0.684\n",
       "]"
      ]
     },
     "execution_count": 5,
     "metadata": {},
     "output_type": "execute_result"
    }
   ],
   "source": [
    "dataframes[\"transactions\"][\"receipt_l1_fee_scalar\"]"
   ]
  },
  {
   "cell_type": "code",
   "execution_count": 6,
   "metadata": {},
   "outputs": [],
   "source": [
    "result = daily_address_summary(\n",
    "    dataframes[\"transactions\"],\n",
    "    conditions=CONDITIONS,\n",
    "    address=\"from_address\",\n",
    "    chain_id=\"chain_id\",\n",
    "    chain=\"chain\",\n",
    "    dt=\"dt\",\n",
    ")"
   ]
  },
  {
   "cell_type": "code",
   "execution_count": 7,
   "metadata": {},
   "outputs": [
    {
     "data": {
      "text/html": [
       "<div><style>\n",
       ".dataframe > thead > tr,\n",
       ".dataframe > tbody > tr {\n",
       "  text-align: right;\n",
       "  white-space: pre-wrap;\n",
       "}\n",
       "</style>\n",
       "<small>shape: (5, 40)</small><table border=\"1\" class=\"dataframe\"><thead><tr><th>from_address</th><th>chain_id</th><th>chain</th><th>dt</th><th>total_txs</th><th>total_txs_success</th><th>total_txs_fail</th><th>total_blocks</th><th>total_blocks_success</th><th>total_blocks_fail</th><th>min_block_number</th><th>max_block_number</th><th>block_interval_active</th><th>min_nonce</th><th>max_nonce</th><th>nonce_interval_active</th><th>total_l2_gas_used</th><th>total_l2_gas_used_success</th><th>total_l2_gas_used_fail</th><th>total_l1_gas_used</th><th>total_l1_gas_used_success</th><th>total_l1_gas_used_fail</th><th>total_gas_fees</th><th>total_gas_fees_success</th><th>total_gas_fees_fail</th><th>l2_contrib_gas_fees</th><th>l1_contrib_gas_fees</th><th>l1_blobgas_contrib_gas_fees</th><th>l1_l1gas_contrib_gas_fees</th><th>l2_contrib_gas_fees_base_fee</th><th>l2_contrib_gas_fees_priority_fee</th><th>avg_l2_gas_price_gwei</th><th>min_block_timestamp</th><th>max_block_timestamp</th><th>time_interval_active</th><th>unique_hours_active</th><th>perc_daily_hours_active</th><th>num_to_addresses</th><th>num_to_addresses_success</th><th>num_to_addresses_fail</th></tr><tr><td>str</td><td>i32</td><td>str</td><td>str</td><td>u32</td><td>u32</td><td>u32</td><td>u32</td><td>u32</td><td>u32</td><td>i64</td><td>i64</td><td>i64</td><td>i64</td><td>i64</td><td>i64</td><td>i64</td><td>i64</td><td>i64</td><td>i64</td><td>i64</td><td>i64</td><td>decimal[*,22]</td><td>decimal[*,22]</td><td>decimal[*,22]</td><td>decimal[*,22]</td><td>decimal[*,22]</td><td>decimal[*,22]</td><td>decimal[*,22]</td><td>decimal[*,22]</td><td>decimal[*,22]</td><td>decimal[*,17]</td><td>datetime[μs]</td><td>datetime[μs]</td><td>duration[μs]</td><td>u32</td><td>f64</td><td>u32</td><td>u32</td><td>u32</td></tr></thead><tbody><tr><td>&quot;0xa4e29db539566c480fbf48ad66a3…</td><td>10</td><td>&quot;op&quot;</td><td>&quot;2023-06-09&quot;</td><td>2</td><td>2</td><td>0</td><td>2</td><td>2</td><td>0</td><td>105377061</td><td>105377071</td><td>11</td><td>10</td><td>11</td><td>2</td><td>554463</td><td>554463</td><td>0</td><td>7416</td><td>7416</td><td>0</td><td>0.0000928869167702470000</td><td>0.0000928869167702470000</td><td>0.0000000000000000000000</td><td>0.0000000001658204040000</td><td>0.0000928867509498430000</td><td>0.0000000000000000000000</td><td>0.0000928867509498440153</td><td>0.0000000000299769690000</td><td>0.0000000001358434350000</td><td>0.00000029906486816</td><td>2023-06-09 23:21:39</td><td>2023-06-09 23:21:59</td><td>20s</td><td>1</td><td>0.041667</td><td>2</td><td>2</td><td>0</td></tr><tr><td>&quot;0x5511ef434c16d126464238062247…</td><td>10</td><td>&quot;op&quot;</td><td>&quot;2023-06-09&quot;</td><td>7</td><td>7</td><td>0</td><td>7</td><td>7</td><td>0</td><td>105376375</td><td>105377732</td><td>1358</td><td>0</td><td>6</td><td>7</td><td>2101214</td><td>2101214</td><td>0</td><td>52408</td><td>52408</td><td>0</td><td>0.0006474036449318910000</td><td>0.0006474036449318910000</td><td>0.0000000000000000000000</td><td>0.0000000093201616600000</td><td>0.0006473943247702310000</td><td>0.0000000000000000000000</td><td>0.0006473943247702350463</td><td>0.0000000093201616600000</td><td>0.0000000000000000000000</td><td>0.00000443560801517</td><td>2023-06-09 22:58:47</td><td>2023-06-09 23:44:01</td><td>45m 14s</td><td>2</td><td>0.083333</td><td>3</td><td>3</td><td>0</td></tr><tr><td>&quot;0xbec6606a5c665a176db1300e24d7…</td><td>10</td><td>&quot;op&quot;</td><td>&quot;2023-06-09&quot;</td><td>3</td><td>3</td><td>0</td><td>3</td><td>3</td><td>0</td><td>105376803</td><td>105377115</td><td>313</td><td>432</td><td>434</td><td>3</td><td>1569888</td><td>1569888</td><td>0</td><td>15064</td><td>15064</td><td>0</td><td>0.0002054057770890380000</td><td>0.0002054057770890380000</td><td>0.0000000000000000000000</td><td>0.0000000004725362880000</td><td>0.0002054053045527500000</td><td>0.0000000000000000000000</td><td>0.0002054053045527516193</td><td>0.0000000000941932800000</td><td>0.0000000003783430080000</td><td>0.00000030100000000</td><td>2023-06-09 23:13:03</td><td>2023-06-09 23:23:27</td><td>10m 24s</td><td>1</td><td>0.041667</td><td>1</td><td>1</td><td>0</td></tr><tr><td>&quot;0x2b7c4f597972feb0db51281d7623…</td><td>10</td><td>&quot;op&quot;</td><td>&quot;2023-06-09&quot;</td><td>1</td><td>1</td><td>0</td><td>1</td><td>1</td><td>0</td><td>105376045</td><td>105376045</td><td>1</td><td>8</td><td>8</td><td>1</td><td>390711</td><td>390711</td><td>0</td><td>3596</td><td>3596</td><td>0</td><td>0.0000440181913800020000</td><td>0.0000440181913800020000</td><td>0.0000000000000000000000</td><td>0.0000000000386803890000</td><td>0.0000440181526996130000</td><td>0.0000000000000000000000</td><td>0.0000440181526996137615</td><td>0.0000000000203169720000</td><td>0.0000000000183634170000</td><td>0.00000009900000000</td><td>2023-06-09 22:47:47</td><td>2023-06-09 22:47:47</td><td>0µs</td><td>1</td><td>0.041667</td><td>1</td><td>1</td><td>0</td></tr><tr><td>&quot;0xd75af65e049392c13fa41b442085…</td><td>10</td><td>&quot;op&quot;</td><td>&quot;2023-06-09&quot;</td><td>1</td><td>1</td><td>0</td><td>1</td><td>1</td><td>0</td><td>105377887</td><td>105377887</td><td>1</td><td>0</td><td>0</td><td>1</td><td>240408</td><td>240408</td><td>0</td><td>4528</td><td>4528</td><td>0</td><td>0.0000563644686447520000</td><td>0.0000563644686447520000</td><td>0.0000000000000000000000</td><td>0.0000000001560247920000</td><td>0.0000563643126199600000</td><td>0.0000000000000000000000</td><td>0.0000563643126199607001</td><td>0.0000000000129820320000</td><td>0.0000000001430427600000</td><td>0.00000064900000000</td><td>2023-06-09 23:49:11</td><td>2023-06-09 23:49:11</td><td>0µs</td><td>1</td><td>0.041667</td><td>1</td><td>1</td><td>0</td></tr></tbody></table></div>"
      ],
      "text/plain": [
       "shape: (5, 40)\n",
       "┌────────────┬──────────┬───────┬────────────┬───┬────────────┬────────────┬───────────┬───────────┐\n",
       "│ from_addre ┆ chain_id ┆ chain ┆ dt         ┆ … ┆ perc_daily ┆ num_to_add ┆ num_to_ad ┆ num_to_ad │\n",
       "│ ss         ┆ ---      ┆ ---   ┆ ---        ┆   ┆ _hours_act ┆ resses     ┆ dresses_s ┆ dresses_f │\n",
       "│ ---        ┆ i32      ┆ str   ┆ str        ┆   ┆ ive        ┆ ---        ┆ uccess    ┆ ail       │\n",
       "│ str        ┆          ┆       ┆            ┆   ┆ ---        ┆ u32        ┆ ---       ┆ ---       │\n",
       "│            ┆          ┆       ┆            ┆   ┆ f64        ┆            ┆ u32       ┆ u32       │\n",
       "╞════════════╪══════════╪═══════╪════════════╪═══╪════════════╪════════════╪═══════════╪═══════════╡\n",
       "│ 0xa4e29db5 ┆ 10       ┆ op    ┆ 2023-06-09 ┆ … ┆ 0.041667   ┆ 2          ┆ 2         ┆ 0         │\n",
       "│ 39566c480f ┆          ┆       ┆            ┆   ┆            ┆            ┆           ┆           │\n",
       "│ bf48ad66a3 ┆          ┆       ┆            ┆   ┆            ┆            ┆           ┆           │\n",
       "│ …          ┆          ┆       ┆            ┆   ┆            ┆            ┆           ┆           │\n",
       "│ 0x5511ef43 ┆ 10       ┆ op    ┆ 2023-06-09 ┆ … ┆ 0.083333   ┆ 3          ┆ 3         ┆ 0         │\n",
       "│ 4c16d12646 ┆          ┆       ┆            ┆   ┆            ┆            ┆           ┆           │\n",
       "│ 4238062247 ┆          ┆       ┆            ┆   ┆            ┆            ┆           ┆           │\n",
       "│ …          ┆          ┆       ┆            ┆   ┆            ┆            ┆           ┆           │\n",
       "│ 0xbec6606a ┆ 10       ┆ op    ┆ 2023-06-09 ┆ … ┆ 0.041667   ┆ 1          ┆ 1         ┆ 0         │\n",
       "│ 5c665a176d ┆          ┆       ┆            ┆   ┆            ┆            ┆           ┆           │\n",
       "│ b1300e24d7 ┆          ┆       ┆            ┆   ┆            ┆            ┆           ┆           │\n",
       "│ …          ┆          ┆       ┆            ┆   ┆            ┆            ┆           ┆           │\n",
       "│ 0x2b7c4f59 ┆ 10       ┆ op    ┆ 2023-06-09 ┆ … ┆ 0.041667   ┆ 1          ┆ 1         ┆ 0         │\n",
       "│ 7972feb0db ┆          ┆       ┆            ┆   ┆            ┆            ┆           ┆           │\n",
       "│ 51281d7623 ┆          ┆       ┆            ┆   ┆            ┆            ┆           ┆           │\n",
       "│ …          ┆          ┆       ┆            ┆   ┆            ┆            ┆           ┆           │\n",
       "│ 0xd75af65e ┆ 10       ┆ op    ┆ 2023-06-09 ┆ … ┆ 0.041667   ┆ 1          ┆ 1         ┆ 0         │\n",
       "│ 049392c13f ┆          ┆       ┆            ┆   ┆            ┆            ┆           ┆           │\n",
       "│ a41b442085 ┆          ┆       ┆            ┆   ┆            ┆            ┆           ┆           │\n",
       "│ …          ┆          ┆       ┆            ┆   ┆            ┆            ┆           ┆           │\n",
       "└────────────┴──────────┴───────┴────────────┴───┴────────────┴────────────┴───────────┴───────────┘"
      ]
     },
     "execution_count": 7,
     "metadata": {},
     "output_type": "execute_result"
    }
   ],
   "source": [
    "# list(result.head()[\"hash\"])\n",
    "result.head()"
   ]
  },
  {
   "cell_type": "code",
   "execution_count": 8,
   "metadata": {},
   "outputs": [
    {
     "name": "stdout",
     "output_type": "stream",
     "text": [
      "\u001b[2m2024-10-16 18:52:58\u001b[0m [\u001b[32m\u001b[1minfo     \u001b[0m] \u001b[1mWriting 1 partitions to BQ [2023-06-09 00:00:00 ... 2023-06-09 00:00:00]\u001b[0m\n",
      "\u001b[2m2024-10-16 18:52:58\u001b[0m [\u001b[32m\u001b[1minfo     \u001b[0m] \u001b[1mDRYRUN OVERWRITE PARTITION: Wrote 2.9Krows 351.1KB to BQ temp.daily_address_summary\u001b[0m\n"
     ]
    }
   ],
   "source": [
    "overwrite_partitions(result, \"temp\", \"daily_address_summary\", expiration_days=999)"
   ]
  }
 ],
 "metadata": {
  "kernelspec": {
   "display_name": ".venv",
   "language": "python",
   "name": "python3"
  },
  "language_info": {
   "codemirror_mode": {
    "name": "ipython",
    "version": 3
   },
   "file_extension": ".py",
   "mimetype": "text/x-python",
   "name": "python",
   "nbconvert_exporter": "python",
   "pygments_lexer": "ipython3",
   "version": "3.12.3"
  }
 },
 "nbformat": 4,
 "nbformat_minor": 2
}
