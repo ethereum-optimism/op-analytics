{
 "cells": [
  {
   "cell_type": "code",
   "execution_count": null,
   "metadata": {},
   "outputs": [],
   "source": [
    "import os\n",
    "from unittest.mock import patch\n",
    "\n",
    "from op_analytics.coreutils.partitioned import dailydata\n",
    "from op_analytics.coreutils.partitioned.location import DataLocation\n",
    "\n",
    "\n",
    "def mock_location():\n",
    "    return DataLocation.GCS\n",
    "\n",
    "os.environ[\"ALLOW_WRITE\"] = \"true\"\n",
    "\n",
    "with patch.object(dailydata, \"determine_location\", mock_location):\n",
    "    \n",
    "    # NOTE: Before running these the LAST_N_DAYS values were manually modified.\n",
    "    \n",
    "    # Protocols (modified to 120 days)\n",
    "    from op_analytics.datasources.defillama import protocols\n",
    "    result = protocols.execute_pull()\n",
    "    \n",
    "    # Stablecoins (modified to 120 days)\n",
    "    # from op_analytics.datasources.defillama import stablecoins\n",
    "    # result = stablecoins.execute_pull()\n",
    "    \n",
    "    # Historical chain TVL (modified to 120 days)\n",
    "    # from op_analytics.datasources.defillama import historical_chain_tvl\n",
    "    # result = historical_chain_tvl.execute_pull()\n",
    "    \n",
    "    # Volume, Fees, Revenue (modified to 120 days)\n",
    "    # from op_analytics.datasources.defillama.volume_fees_revenue import execute\n",
    "    # result = execute.execute_pull()\n",
    "    \n",
    "    # TVL breakdown (modifield to 120 days)\n",
    "    # from op_analytics.datasources.defillama import tvl_breakdown_enrichment\n",
    "    # result = tvl_breakdown_enrichment.execute_pull()"
   ]
  },
  {
   "cell_type": "code",
   "execution_count": null,
   "metadata": {},
   "outputs": [],
   "source": []
  }
 ],
 "metadata": {
  "kernelspec": {
   "display_name": ".venv",
   "language": "python",
   "name": "python3"
  },
  "language_info": {
   "codemirror_mode": {
    "name": "ipython",
    "version": 3
   },
   "file_extension": ".py",
   "mimetype": "text/x-python",
   "name": "python",
   "nbconvert_exporter": "python",
   "pygments_lexer": "ipython3",
   "version": "3.12.6"
  }
 },
 "nbformat": 4,
 "nbformat_minor": 2
}
