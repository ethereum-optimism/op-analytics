{
  "cells": [
    {
      "cell_type": "raw",
      "metadata": {
        "vscode": {
          "languageId": "raw"
        }
      },
      "source": [
        "# DeFiLlama Price Puller Example\n",
        "\n",
        "This notebook demonstrates how to use the new DeFiLlama price puller functionality.\n",
        "\n",
        "The DeFiLlama price puller supports:\n",
        "- Current prices\n",
        "- Historical prices with flexible date ranges\n",
        "- First recorded prices\n",
        "- Both CoinGecko slugs and chain:address format\n",
        "- Custom token lists from files\n",
        "- Gas tokens from chain metadata\n"
      ]
    },
    {
      "cell_type": "code",
      "execution_count": null,
      "metadata": {},
      "outputs": [],
      "source": [
        "import sys\n",
        "sys.path.append('../../..')\n",
        "\n",
        "from src.op_analytics.datasources.defillama.tokenprice.execute import (\n",
        "    execute_pull_current,\n",
        "    execute_pull_historical,\n",
        "    execute_pull_first_prices,\n",
        ")\n",
        "from src.op_analytics.datasources.defillama.tokenprice.price_data import DefiLlamaTokenPrices\n",
        "from op_analytics.datapipeline.chains.tokens import get_token_ids_from_metadata\n",
        "from op_analytics.coreutils.request import new_session\n",
        "from datetime import datetime, timedelta\n",
        "import polars as pl\n",
        "\n",
        "# Optional: Set up logging\n",
        "import logging\n",
        "logging.basicConfig(level=logging.INFO)\n"
      ]
    },
    {
      "cell_type": "raw",
      "metadata": {
        "vscode": {
          "languageId": "raw"
        }
      },
      "source": [
        "## 1. Get Token IDs from Chain Metadata\n",
        "\n",
        "This will get both CoinGecko slugs and gas tokens from the chain metadata:\n"
      ]
    },
    {
      "cell_type": "code",
      "execution_count": null,
      "metadata": {},
      "outputs": [],
      "source": [
        "# Get token IDs from chain metadata\n",
        "token_ids = get_token_ids_from_metadata()\n",
        "print(f\"Found {len(token_ids)} token IDs from chain metadata\")\n",
        "print(\"First 10 token IDs:\", token_ids[:10])\n"
      ]
    },
    {
      "cell_type": "raw",
      "metadata": {
        "vscode": {
          "languageId": "raw"
        }
      },
      "source": [
        "## 2. Direct API Usage (Without Writing to GCS)\n",
        "\n",
        "Use the price data class directly for analysis:\n"
      ]
    },
    {
      "cell_type": "code",
      "execution_count": null,
      "metadata": {},
      "outputs": [],
      "source": [
        "session = new_session()\n",
        "\n",
        "# Get current prices for multiple tokens\n",
        "tokens = [\"bitcoin\", \"ethereum\", \"ethereum:0xa0b86991c6218b36c1d19d4a2e9eb0ce3606eb48\"]\n",
        "price_data = DefiLlamaTokenPrices.fetch_prices_current(tokens, session=session)\n",
        "\n",
        "print(f\"Fetched {len(price_data)} current prices\")\n",
        "print(price_data.df.head())\n",
        "\n",
        "# Get historical prices for the last 7 days\n",
        "price_data = DefiLlamaTokenPrices.fetch_prices_by_days(\n",
        "    token_ids=[\"bitcoin\", \"ethereum\"],\n",
        "    days=7,\n",
        "    session=session\n",
        ")\n",
        "\n",
        "print(f\"\\\\nFetched {len(price_data)} historical prices\")\n",
        "print(price_data.df.head())\n",
        "\n",
        "# Basic analysis\n",
        "print(\"\\\\nPrice summary:\")\n",
        "print(price_data.df.group_by(\"token_id\").agg([\n",
        "    pl.col(\"price_usd\").min().alias(\"min_price\"),\n",
        "    pl.col(\"price_usd\").max().alias(\"max_price\"),\n",
        "    pl.col(\"price_usd\").mean().alias(\"avg_price\"),\n",
        "    pl.col(\"dt\").count().alias(\"data_points\")\n",
        "]))\n"
      ]
    },
    {
      "cell_type": "raw",
      "metadata": {
        "vscode": {
          "languageId": "raw"
        }
      },
      "source": [
        "## Summary\n",
        "\n",
        "The DeFiLlama price puller provides:\n",
        "\n",
        "1. **Three main execution modes**: `current`, `historical`, and `first`\n",
        "2. **Flexible token identification**: CoinGecko slugs, chain:address format, custom files\n",
        "3. **Automatic chain metadata integration**: Pulls gas tokens and CoinGecko IDs from your chain metadata\n",
        "4. **Full DeFiLlama API parameter support**: timestamps, periods, spans, search width\n",
        "5. **GCS integration**: Writes data to your existing data pipeline\n",
        "6. **Direct API access**: Use the price data classes for analysis without writing to GCS\n",
        "\n",
        "### Command Line Usage:\n",
        "\n",
        "```bash\n",
        "# Current prices\n",
        "python -m src.op_analytics.datasources.defillama.tokenprice.execute --mode current\n",
        "\n",
        "# Historical prices (last 30 days)\n",
        "python -m src.op_analytics.datasources.defillama.tokenprice.execute --mode historical --days 30\n",
        "\n",
        "# Custom historical with timestamps\n",
        "python -m src.op_analytics.datasources.defillama.tokenprice.execute --mode historical --start-timestamp 1704067200 --period 1h\n",
        "\n",
        "# Single token\n",
        "python -m src.op_analytics.datasources.defillama.tokenprice.execute --mode current --token-id bitcoin\n",
        "\n",
        "# With custom token file\n",
        "python -m src.op_analytics.datasources.defillama.tokenprice.execute --mode current --extra-token-ids-file /path/to/tokens.txt\n",
        "```\n",
        "\n",
        "### Key Features:\n",
        "\n",
        "- **Support for both formats**: CoinGecko slugs (e.g., \"bitcoin\") and chain:address format (e.g., \"ethereum:0xa0b86991c6218b36c1d19d4a2e9eb0ce3606eb48\")\n",
        "- **Automatic gas token detection**: Pulls gas tokens from your chain metadata\n",
        "- **Flexible time ranges**: Use days, timestamps, or first recorded prices\n",
        "- **Custom token lists**: Load tokens from CSV or TXT files\n",
        "- **Skip existing partitions**: Efficient backfilling with `--skip-existing-partitions`\n"
      ]
    }
  ],
  "metadata": {
    "language_info": {
      "name": "python"
    }
  },
  "nbformat": 4,
  "nbformat_minor": 2
}
