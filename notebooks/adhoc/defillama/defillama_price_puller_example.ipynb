{
  "cells": [
    {
      "cell_type": "markdown",
      "metadata": {
        "vscode": {
          "languageId": "raw"
        }
      },
      "source": [
        "# DeFiLlama Price Puller Example\n",
        "\n",
        "This notebook demonstrates how to use the new DeFiLlama price puller functionality.\n",
        "\n",
        "The DeFiLlama price puller supports:\n",
        "- Current prices\n",
        "- Historical prices with flexible date ranges\n",
        "- First recorded prices\n",
        "- Both CoinGecko slugs and chain:address format\n",
        "- Custom token lists from files\n",
        "- Gas tokens from chain metadata\n"
      ]
    },
    {
      "cell_type": "code",
      "execution_count": 4,
      "metadata": {},
      "outputs": [],
      "source": [
        "import sys\n",
        "sys.path.append('../../..')\n",
        "\n",
        "from src.op_analytics.datasources.defillama.tokenprice.execute import (\n",
        "    execute_pull_current,\n",
        "    execute_pull_historical,\n",
        "    execute_pull_first_prices,\n",
        ")\n",
        "from src.op_analytics.datasources.defillama.tokenprice.price_data import DefiLlamaTokenPrices\n",
        "from op_analytics.datapipeline.chains.tokens import get_token_ids_from_metadata\n",
        "from op_analytics.coreutils.request import new_session\n",
        "from datetime import datetime, timedelta\n",
        "import polars as pl\n",
        "\n",
        "# Optional: Set up logging\n",
        "import logging\n",
        "logging.basicConfig(level=logging.INFO)\n"
      ]
    },
    {
      "cell_type": "markdown",
      "metadata": {
        "vscode": {
          "languageId": "raw"
        }
      },
      "source": [
        "## 1. Get Token IDs from Chain Metadata\n",
        "\n",
        "This will get both CoinGecko slugs and gas tokens from the chain metadata:\n"
      ]
    },
    {
      "cell_type": "code",
      "execution_count": 2,
      "metadata": {},
      "outputs": [
        {
          "name": "stdout",
          "output_type": "stream",
          "text": [
            "\u001b[2m2025-07-09 15:33:46\u001b[0m [\u001b[32m\u001b[1minfo     \u001b[0m] \u001b[1mloaded vault from .env file   \u001b[0m \u001b[36mfilename\u001b[0m=\u001b[35mvault.py\u001b[0m \u001b[36mlineno\u001b[0m=\u001b[35m32\u001b[0m \u001b[36mprocess\u001b[0m=\u001b[35m43292\u001b[0m\n",
            "\u001b[2m2025-07-09 15:33:46\u001b[0m [\u001b[32m\u001b[1mdebug    \u001b[0m] \u001b[1mloaded vault: 28 items        \u001b[0m \u001b[36mfilename\u001b[0m=\u001b[35mvault.py\u001b[0m \u001b[36mlineno\u001b[0m=\u001b[35m79\u001b[0m \u001b[36mprocess\u001b[0m=\u001b[35m43292\u001b[0m\n",
            "\u001b[2m2025-07-09 15:33:46\u001b[0m [\u001b[32m\u001b[1mdebug    \u001b[0m] \u001b[1mFound vault variable GOOGLE_SERVICE_ACCOUNT (has JSON key)\u001b[0m \u001b[36mfilename\u001b[0m=\u001b[35mgcpauth.py\u001b[0m \u001b[36mlineno\u001b[0m=\u001b[35m18\u001b[0m \u001b[36mprocess\u001b[0m=\u001b[35m43292\u001b[0m\n",
            "\u001b[2m2025-07-09 15:33:48\u001b[0m [\u001b[32m\u001b[1minfo     \u001b[0m] \u001b[1mLoaded OP chains metadata from /Users/michaelsilberling/Documents/GitHub/op-analytics/op_chains_tracking/inputs/chain_metadata_raw.csv\u001b[0m \u001b[36mfilename\u001b[0m=\u001b[35mload.py\u001b[0m \u001b[36mlineno\u001b[0m=\u001b[35m87\u001b[0m \u001b[36mprocess\u001b[0m=\u001b[35m43292\u001b[0m\n",
            "\u001b[2m2025-07-09 15:33:48\u001b[0m [\u001b[32m\u001b[1minfo     \u001b[0m] \u001b[1m[REPO vs. GSHEETS] ERROR: Chain Metadata is different\u001b[0m \u001b[36mfilename\u001b[0m=\u001b[35mload.py\u001b[0m \u001b[36mlineno\u001b[0m=\u001b[35m99\u001b[0m \u001b[36mprocess\u001b[0m=\u001b[35m43292\u001b[0m\n",
            "\u001b[2m2025-07-09 15:33:48\u001b[0m [\u001b[32m\u001b[1minfo     \u001b[0m] \u001b[1mfound_token_ids               \u001b[0m \u001b[36mcoingecko_count\u001b[0m=\u001b[35m12\u001b[0m \u001b[36mcount\u001b[0m=\u001b[35m27\u001b[0m \u001b[36mfilename\u001b[0m=\u001b[35mtokens.py\u001b[0m \u001b[36mgas_token_count\u001b[0m=\u001b[35m15\u001b[0m \u001b[36mlineno\u001b[0m=\u001b[35m58\u001b[0m \u001b[36mprocess\u001b[0m=\u001b[35m43292\u001b[0m\n",
            "Found 27 token IDs from chain metadata\n",
            "First 10 token IDs: ['automata', 'SYS', 'RSS3', 'GSWIFT', 'ETH', 'celo', 'mantle', 'frxETH', 'rss3', 'hashkey-ecopoints']\n"
          ]
        }
      ],
      "source": [
        "# Get token IDs from chain metadata\n",
        "token_ids = get_token_ids_from_metadata()\n",
        "print(f\"Found {len(token_ids)} token IDs from chain metadata\")\n",
        "print(\"First 10 token IDs:\", token_ids[:10])\n"
      ]
    },
    {
      "cell_type": "markdown",
      "metadata": {
        "vscode": {
          "languageId": "raw"
        }
      },
      "source": [
        "## 2. Direct API Usage (Without Writing to GCS)\n",
        "\n",
        "Use the price data class directly for analysis:\n"
      ]
    },
    {
      "cell_type": "code",
      "execution_count": 3,
      "metadata": {},
      "outputs": [
        {
          "name": "stdout",
          "output_type": "stream",
          "text": [
            "\u001b[2m2025-07-09 15:33:49\u001b[0m [\u001b[32m\u001b[1minfo     \u001b[0m] \u001b[1mfetched_current_prices        \u001b[0m \u001b[36mfilename\u001b[0m=\u001b[35mprice_data.py\u001b[0m \u001b[36mlineno\u001b[0m=\u001b[35m150\u001b[0m \u001b[36mprocess\u001b[0m=\u001b[35m43292\u001b[0m \u001b[36mtoken_count\u001b[0m=\u001b[35m3\u001b[0m\n",
            "Fetched 3 current prices\n",
            "shape: (3, 4)\n",
            "┌─────────────────────────────────┬────────────┬───────────┬────────────────────────────┐\n",
            "│ token_id                        ┆ dt         ┆ price_usd ┆ last_updated               │\n",
            "│ ---                             ┆ ---        ┆ ---       ┆ ---                        │\n",
            "│ str                             ┆ str        ┆ f64       ┆ str                        │\n",
            "╞═════════════════════════════════╪════════════╪═══════════╪════════════════════════════╡\n",
            "│ bitcoin                         ┆ 2025-07-09 ┆ 109718.0  ┆ 2025-07-09T15:33:49.638084 │\n",
            "│ ethereum                        ┆ 2025-07-09 ┆ 2723.41   ┆ 2025-07-09T15:33:49.638084 │\n",
            "│ ethereum:0xa0b86991c6218b36c1d… ┆ 2025-07-09 ┆ 0.999902  ┆ 2025-07-09T15:33:49.638084 │\n",
            "└─────────────────────────────────┴────────────┴───────────┴────────────────────────────┘\n",
            "\u001b[2m2025-07-09 15:33:51\u001b[0m [\u001b[32m\u001b[1minfo     \u001b[0m] \u001b[1mfetched_historical_prices     \u001b[0m \u001b[36mfilename\u001b[0m=\u001b[35mprice_data.py\u001b[0m \u001b[36mlineno\u001b[0m=\u001b[35m305\u001b[0m \u001b[36mparams\u001b[0m=\u001b[35m{'start': 1751484829, 'span': 7}\u001b[0m \u001b[36mprocess\u001b[0m=\u001b[35m43292\u001b[0m \u001b[36mtoken_count\u001b[0m=\u001b[35m3\u001b[0m\n",
            "\\nFetched 21 historical prices\n",
            "shape: (5, 4)\n",
            "┌─────────────────────────────────┬────────────┬───────────┬────────────────────────────┐\n",
            "│ token_id                        ┆ dt         ┆ price_usd ┆ last_updated               │\n",
            "│ ---                             ┆ ---        ┆ ---       ┆ ---                        │\n",
            "│ str                             ┆ str        ┆ f64       ┆ str                        │\n",
            "╞═════════════════════════════════╪════════════╪═══════════╪════════════════════════════╡\n",
            "│ ethereum:0xa0b86991c6218b36c1d… ┆ 2025-07-02 ┆ 0.999864  ┆ 2025-07-09T15:33:51.155860 │\n",
            "│ ethereum:0xa0b86991c6218b36c1d… ┆ 2025-07-03 ┆ 0.999901  ┆ 2025-07-09T15:33:51.155870 │\n",
            "│ ethereum:0xa0b86991c6218b36c1d… ┆ 2025-07-04 ┆ 0.999899  ┆ 2025-07-09T15:33:51.155876 │\n",
            "│ ethereum:0xa0b86991c6218b36c1d… ┆ 2025-07-05 ┆ 0.999806  ┆ 2025-07-09T15:33:51.155880 │\n",
            "│ ethereum:0xa0b86991c6218b36c1d… ┆ 2025-07-06 ┆ 0.9999    ┆ 2025-07-09T15:33:51.155883 │\n",
            "└─────────────────────────────────┴────────────┴───────────┴────────────────────────────┘\n",
            "\\nHistorical prices sorted by token and date:\n",
            "shape: (21, 4)\n",
            "┌─────────────────────────────────┬────────────┬───────────────┬────────────────────────────┐\n",
            "│ token_id                        ┆ dt         ┆ price_usd     ┆ last_updated               │\n",
            "│ ---                             ┆ ---        ┆ ---           ┆ ---                        │\n",
            "│ str                             ┆ str        ┆ f64           ┆ str                        │\n",
            "╞═════════════════════════════════╪════════════╪═══════════════╪════════════════════════════╡\n",
            "│ bitcoin                         ┆ 2025-07-02 ┆ 109564.775607 ┆ 2025-07-09T15:33:51.155895 │\n",
            "│ bitcoin                         ┆ 2025-07-03 ┆ 109889.0      ┆ 2025-07-09T15:33:51.155899 │\n",
            "│ bitcoin                         ┆ 2025-07-04 ┆ 107341.0      ┆ 2025-07-09T15:33:51.155902 │\n",
            "│ bitcoin                         ┆ 2025-07-05 ┆ 108050.0      ┆ 2025-07-09T15:33:51.155906 │\n",
            "│ bitcoin                         ┆ 2025-07-06 ┆ 108494.0      ┆ 2025-07-09T15:33:51.155912 │\n",
            "│ …                               ┆ …          ┆ …             ┆ …                          │\n",
            "│ ethereum:0xa0b86991c6218b36c1d… ┆ 2025-07-04 ┆ 0.999899      ┆ 2025-07-09T15:33:51.155876 │\n",
            "│ ethereum:0xa0b86991c6218b36c1d… ┆ 2025-07-05 ┆ 0.999806      ┆ 2025-07-09T15:33:51.155880 │\n",
            "│ ethereum:0xa0b86991c6218b36c1d… ┆ 2025-07-06 ┆ 0.9999        ┆ 2025-07-09T15:33:51.155883 │\n",
            "│ ethereum:0xa0b86991c6218b36c1d… ┆ 2025-07-07 ┆ 0.999898      ┆ 2025-07-09T15:33:51.155887 │\n",
            "│ ethereum:0xa0b86991c6218b36c1d… ┆ 2025-07-08 ┆ 0.999865      ┆ 2025-07-09T15:33:51.155891 │\n",
            "└─────────────────────────────────┴────────────┴───────────────┴────────────────────────────┘\n",
            "\\nPrice summary:\n",
            "shape: (3, 7)\n",
            "┌──────────────────┬───────────┬───────────┬───────────────┬─────────────┬────────────┬────────────┐\n",
            "│ token_id         ┆ min_price ┆ max_price ┆ avg_price     ┆ data_points ┆ min_dt     ┆ max_dt     │\n",
            "│ ---              ┆ ---       ┆ ---       ┆ ---           ┆ ---         ┆ ---        ┆ ---        │\n",
            "│ str              ┆ f64       ┆ f64       ┆ f64           ┆ u32         ┆ str        ┆ str        │\n",
            "╞══════════════════╪═══════════╪═══════════╪═══════════════╪═════════════╪════════════╪════════════╡\n",
            "│ ethereum:0xa0b86 ┆ 0.999806  ┆ 0.999901  ┆ 0.999876      ┆ 7           ┆ 2025-07-02 ┆ 2025-07-08 │\n",
            "│ 991c6218b36c1d…  ┆           ┆           ┆               ┆             ┆            ┆            │\n",
            "│ bitcoin          ┆ 107341.0  ┆ 109889.0  ┆ 108644.110801 ┆ 7           ┆ 2025-07-02 ┆ 2025-07-08 │\n",
            "│ ethereum         ┆ 2478.73   ┆ 2609.7    ┆ 2549.291429   ┆ 7           ┆ 2025-07-02 ┆ 2025-07-08 │\n",
            "└──────────────────┴───────────┴───────────┴───────────────┴─────────────┴────────────┴────────────┘\n"
          ]
        }
      ],
      "source": [
        "session = new_session()\n",
        "\n",
        "# Get current prices for multiple tokens\n",
        "tokens = [\"bitcoin\", \"ethereum\", \"ethereum:0xa0b86991c6218b36c1d19d4a2e9eb0ce3606eb48\"]\n",
        "price_data = DefiLlamaTokenPrices.fetch_prices_current(tokens, session=session)\n",
        "\n",
        "print(f\"Fetched {len(price_data)} current prices\")\n",
        "print(price_data.df.head())\n",
        "\n",
        "# Get historical prices for the last 7 days \n",
        "# This uses start timestamp + span=days to get exactly 7 daily data points from the start date\n",
        "price_data = DefiLlamaTokenPrices.fetch_prices_by_days(\n",
        "    token_ids=tokens,\n",
        "    days=7,\n",
        "    session=session\n",
        ")\n",
        "\n",
        "print(f\"\\\\nFetched {len(price_data)} historical prices\")\n",
        "print(price_data.df.head())\n",
        "\n",
        "# Sort by token_id and date to see the progression\n",
        "print(\"\\\\nHistorical prices sorted by token and date:\")\n",
        "historical_sorted = price_data.df.sort([\"token_id\", \"dt\"])\n",
        "print(historical_sorted)\n",
        "\n",
        "# Basic analysis\n",
        "print(\"\\\\nPrice summary:\")\n",
        "print(price_data.df.group_by(\"token_id\").agg([\n",
        "    pl.col(\"price_usd\").min().alias(\"min_price\"),\n",
        "    pl.col(\"price_usd\").max().alias(\"max_price\"),\n",
        "    pl.col(\"price_usd\").mean().alias(\"avg_price\"),\n",
        "    pl.col(\"dt\").count().alias(\"data_points\"),\n",
        "    pl.col(\"dt\").min().alias(\"min_dt\"),\n",
        "    pl.col(\"dt\").max().alias(\"max_dt\"),\n",
        "]))\n"
      ]
    },
    {
      "cell_type": "code",
      "execution_count": null,
      "metadata": {},
      "outputs": [
        {
          "name": "stdout",
          "output_type": "stream",
          "text": [
            "\u001b[2m2025-07-09 15:38:27\u001b[0m [\u001b[32m\u001b[1minfo     \u001b[0m] \u001b[1mfound_token_ids               \u001b[0m \u001b[36mcoingecko_count\u001b[0m=\u001b[35m12\u001b[0m \u001b[36mcount\u001b[0m=\u001b[35m27\u001b[0m \u001b[36mfilename\u001b[0m=\u001b[35mtokens.py\u001b[0m \u001b[36mgas_token_count\u001b[0m=\u001b[35m15\u001b[0m \u001b[36mlineno\u001b[0m=\u001b[35m58\u001b[0m \u001b[36mprocess\u001b[0m=\u001b[35m43292\u001b[0m\n",
            "\u001b[2m2025-07-09 15:38:27\u001b[0m [\u001b[32m\u001b[1minfo     \u001b[0m] \u001b[1mfinal_token_ids               \u001b[0m \u001b[36mcount\u001b[0m=\u001b[35m27\u001b[0m \u001b[36mfilename\u001b[0m=\u001b[35mtokens.py\u001b[0m \u001b[36mlineno\u001b[0m=\u001b[35m154\u001b[0m \u001b[36mprocess\u001b[0m=\u001b[35m43292\u001b[0m\n",
            "\u001b[2m2025-07-09 15:38:27\u001b[0m [\u001b[32m\u001b[1minfo     \u001b[0m] \u001b[1mhistorical_price_pull_start   \u001b[0m \u001b[36mfilename\u001b[0m=\u001b[35mexecute.py\u001b[0m \u001b[36mlineno\u001b[0m=\u001b[35m136\u001b[0m \u001b[36mprocess\u001b[0m=\u001b[35m43292\u001b[0m \u001b[36mtoken_count\u001b[0m=\u001b[35m27\u001b[0m\n",
            "\u001b[2m2025-07-09 15:38:27\u001b[0m [\u001b[32m\u001b[1minfo     \u001b[0m] \u001b[1mfetching_historical_prices    \u001b[0m \u001b[36mfilename\u001b[0m=\u001b[35mexecute.py\u001b[0m \u001b[36mlineno\u001b[0m=\u001b[35m144\u001b[0m \u001b[36mprocess\u001b[0m=\u001b[35m43292\u001b[0m \u001b[36mtoken_count\u001b[0m=\u001b[35m27\u001b[0m\n",
            "\u001b[2m2025-07-09 15:40:58\u001b[0m [\u001b[31m\u001b[1merror    \u001b[0m] \u001b[1mretrying exception HTTPSConnectionPool(host='pro-api.llama.fi', port=443): Max retries exceeded with url: /slPjmq113xSROlwRStlysKOhP0coMlgQkcPd0lgLMV3sL316g8l8CQ/coins/chart/coingecko:automata,coingecko:SYS,coingecko:RSS3,coingecko:GSWIFT,coingecko:ETH,coingecko:celo,coingecko:mantle,coingecko:frxETH,coingecko:rss3,coingecko:hashkey-ecopoints,coingecko:frax-ether,coingecko:BNB,coingecko:ATA,coingecko:unknown,coingecko:syscoin,coingecko:BNRY,coingecko:gameswift,coingecko:binary-holdings,coingecko:SEXY,coingecko:settled-ethxy-token,coingecko:CELO,coingecko:binancecoin,coingecko:HSK,coingecko:MNT,coingecko:clearpool,coingecko:UNITE,coingecko:CPOOL?start=1720553907&span=365 (Caused by ResponseError('too many 504 error responses'))\u001b[0m \u001b[36mfilename\u001b[0m=\u001b[35mrequest.py\u001b[0m \u001b[36mlineno\u001b[0m=\u001b[35m30\u001b[0m \u001b[36mprocess\u001b[0m=\u001b[35m43292\u001b[0m\n",
            "\u001b[2m2025-07-09 15:40:58\u001b[0m [\u001b[33m\u001b[1mwarning  \u001b[0m] \u001b[1mstamina.retry_scheduled       \u001b[0m \u001b[36margs\u001b[0m=\u001b[35m()\u001b[0m \u001b[36mcallable\u001b[0m=\u001b[35m'<context block>'\u001b[0m \u001b[36mcaused_by\u001b[0m=\u001b[35m'RetryError(MaxRetryError(\"HTTPSConnectionPool(host=\\'pro-api.llama.fi\\', port=443): Max retries exceeded with url: /slPjmq113xSROlwRStlysKOhP0coMlgQkcPd0lgLMV3sL316g8l8CQ/coins/chart/coingecko:automata,coingecko:SYS,coingecko:RSS3,coingecko:GSWIFT,coingecko:ETH,coingecko:celo,coingecko:mantle,coingecko:frxETH,coingecko:rss3,coingecko:hashkey-ecopoints,coingecko:frax-ether,coingecko:BNB,coingecko:ATA,coingecko:unknown,coingecko:syscoin,coingecko:BNRY,coingecko:gameswift,coingecko:binary-holdings,coingecko:SEXY,coingecko:settled-ethxy-token,coingecko:CELO,coingecko:binancecoin,coingecko:HSK,coingecko:MNT,coingecko:clearpool,coingecko:UNITE,coingecko:CPOOL?start=1720553907&span=365 (Caused by ResponseError(\\'too many 504 error responses\\'))\"))'\u001b[0m \u001b[36mfilename\u001b[0m=\u001b[35m_structlog.py\u001b[0m \u001b[36mkwargs\u001b[0m=\u001b[35m{}\u001b[0m \u001b[36mlineno\u001b[0m=\u001b[35m21\u001b[0m \u001b[36mprocess\u001b[0m=\u001b[35m43292\u001b[0m \u001b[36mretry_num\u001b[0m=\u001b[35m1\u001b[0m \u001b[36mwait_for\u001b[0m=\u001b[35m10.22\u001b[0m \u001b[36mwaited_so_far\u001b[0m=\u001b[35m0.0\u001b[0m\n",
            "\u001b[2m2025-07-09 15:41:08\u001b[0m [\u001b[33m\u001b[1mwarning  \u001b[0m] \u001b[1mretry attempt https://pro-api.llama.fi/slPjmq113xSROlwRStlysKOhP0coMlgQkcPd0lgLMV3sL316g8l8CQ/coins/chart/coingecko:automata,coingecko:SYS,coingecko:RSS3,coingecko:GSWIFT,coingecko:ETH,coingecko:celo,coingecko:mantle,coingecko:frxETH,coingecko:rss3,coingecko:hashkey-ecopoints,coingecko:frax-ether,coingecko:BNB,coingecko:ATA,coingecko:unknown,coingecko:syscoin,coingecko:BNRY,coingecko:gameswift,coingecko:binary-holdings,coingecko:SEXY,coingecko:settled-ethxy-token,coingecko:CELO,coingecko:binancecoin,coingecko:HSK,coingecko:MNT,coingecko:clearpool,coingecko:UNITE,coingecko:CPOOL\u001b[0m \u001b[36mattempt\u001b[0m=\u001b[35m2\u001b[0m \u001b[36mfilename\u001b[0m=\u001b[35mrequest.py\u001b[0m \u001b[36mlineno\u001b[0m=\u001b[35m75\u001b[0m \u001b[36mprocess\u001b[0m=\u001b[35m43292\u001b[0m\n"
          ]
        }
      ],
      "source": [
        "# Overall run\n",
        "from op_analytics.coreutils.partitioned.dailydatawrite import write_to_prod\n",
        "\n",
        "# Path to your config file\n",
        "extra_token_ids_file = \"../../../src/op_analytics/datasources/coingecko/config/extra_token_ids.txt\"\n",
        "with write_to_prod():\n",
        "    result = execute_pull_historical(days=365)"
      ]
    },
    {
      "cell_type": "code",
      "execution_count": null,
      "metadata": {},
      "outputs": [],
      "source": [
        "\n"
      ]
    },
    {
      "cell_type": "markdown",
      "metadata": {
        "vscode": {
          "languageId": "raw"
        }
      },
      "source": [
        "## Summary\n",
        "\n",
        "The DeFiLlama price puller provides:\n",
        "\n",
        "1. **Three main execution modes**: `current`, `historical`, and `first`\n",
        "2. **Flexible token identification**: CoinGecko slugs, chain:address format, custom files\n",
        "3. **Automatic chain metadata integration**: Pulls gas tokens and CoinGecko IDs from your chain metadata\n",
        "4. **Full DeFiLlama API parameter support**: timestamps, periods, spans, search width\n",
        "5. **GCS integration**: Writes data to your existing data pipeline\n",
        "6. **Direct API access**: Use the price data classes for analysis without writing to GCS\n",
        "\n",
        "### Command Line Usage:\n",
        "\n",
        "```bash\n",
        "# Current prices\n",
        "python -m src.op_analytics.datasources.defillama.tokenprice.execute --mode current\n",
        "\n",
        "# Historical prices (last 30 days)\n",
        "python -m src.op_analytics.datasources.defillama.tokenprice.execute --mode historical --days 30\n",
        "\n",
        "# Custom historical with timestamps\n",
        "python -m src.op_analytics.datasources.defillama.tokenprice.execute --mode historical --start-timestamp 1704067200 --period 1h\n",
        "\n",
        "# Single token\n",
        "python -m src.op_analytics.datasources.defillama.tokenprice.execute --mode current --token-id bitcoin\n",
        "\n",
        "# With custom token file\n",
        "python -m src.op_analytics.datasources.defillama.tokenprice.execute --mode current --extra-token-ids-file /path/to/tokens.txt\n",
        "```\n",
        "\n",
        "### Key Features:\n",
        "\n",
        "- **Support for both formats**: CoinGecko slugs (e.g., \"bitcoin\") and chain:address format (e.g., \"ethereum:0xa0b86991c6218b36c1d19d4a2e9eb0ce3606eb48\")\n",
        "- **Automatic gas token detection**: Pulls gas tokens from your chain metadata\n",
        "- **Flexible time ranges**: Use days, timestamps, or first recorded prices\n",
        "- **Custom token lists**: Load tokens from CSV or TXT files\n",
        "- **Skip existing partitions**: Efficient backfilling with `--skip-existing-partitions`\n"
      ]
    }
  ],
  "metadata": {
    "kernelspec": {
      "display_name": ".venv",
      "language": "python",
      "name": "python3"
    },
    "language_info": {
      "codemirror_mode": {
        "name": "ipython",
        "version": 3
      },
      "file_extension": ".py",
      "mimetype": "text/x-python",
      "name": "python",
      "nbconvert_exporter": "python",
      "pygments_lexer": "ipython3",
      "version": "3.12.4"
    }
  },
  "nbformat": 4,
  "nbformat_minor": 2
}
