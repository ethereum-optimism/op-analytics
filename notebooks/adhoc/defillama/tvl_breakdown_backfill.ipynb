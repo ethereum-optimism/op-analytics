{
 "cells": [
  {
   "cell_type": "code",
   "execution_count": 3,
   "metadata": {},
   "outputs": [
    {
     "name": "stdout",
     "output_type": "stream",
     "text": [
      "\u001b[2m2025-01-24 06:49:05\u001b[0m [\u001b[32m\u001b[1minfo     \u001b[0m] \u001b[1mReading data from 'defillama/protocols_metadata_v1' with filters min_date=2025-01-23, max_date=2025-01-24, date_range_spec=None\u001b[0m \u001b[36mfilename\u001b[0m=\u001b[35mdailydata.py\u001b[0m \u001b[36mlineno\u001b[0m=\u001b[35m187\u001b[0m \u001b[36mprocess\u001b[0m=\u001b[35m18660\u001b[0m\n",
      "\u001b[2m2025-01-24 06:49:05\u001b[0m [\u001b[32m\u001b[1minfo     \u001b[0m] \u001b[1mquerying markers for 'defillama/protocols_metadata_v1' DateFilter(min_date=datetime.date(2025, 1, 23), max_date=datetime.date(2025, 1, 24), datevals=None)\u001b[0m \u001b[36mfilename\u001b[0m=\u001b[35mdailydata.py\u001b[0m \u001b[36mlineno\u001b[0m=\u001b[35m105\u001b[0m \u001b[36mprocess\u001b[0m=\u001b[35m18660\u001b[0m\n",
      "\u001b[2m2025-01-24 06:49:05\u001b[0m [\u001b[32m\u001b[1mdebug    \u001b[0m] \u001b[1mconnecting to OPLABS Clickhouse client...\u001b[0m \u001b[36mfilename\u001b[0m=\u001b[35mclient.py\u001b[0m \u001b[36mlineno\u001b[0m=\u001b[35m36\u001b[0m \u001b[36mprocess\u001b[0m=\u001b[35m18660\u001b[0m\n",
      "\u001b[2m2025-01-24 06:49:05\u001b[0m [\u001b[32m\u001b[1mdebug    \u001b[0m] \u001b[1minitialized OPLABS Clickhouse client.\u001b[0m \u001b[36mfilename\u001b[0m=\u001b[35mclient.py\u001b[0m \u001b[36mlineno\u001b[0m=\u001b[35m41\u001b[0m \u001b[36mprocess\u001b[0m=\u001b[35m18660\u001b[0m\n",
      "\u001b[2m2025-01-24 06:49:05\u001b[0m [\u001b[32m\u001b[1minfo     \u001b[0m] \u001b[1m1 markers found               \u001b[0m \u001b[36mfilename\u001b[0m=\u001b[35mdailydata.py\u001b[0m \u001b[36mlineno\u001b[0m=\u001b[35m119\u001b[0m \u001b[36mmax_dt\u001b[0m=\u001b[35m2025-01-23\u001b[0m \u001b[36mmin_dt\u001b[0m=\u001b[35m2025-01-23\u001b[0m \u001b[36mprocess\u001b[0m=\u001b[35m18660\u001b[0m\n",
      "\u001b[2m2025-01-24 06:49:05\u001b[0m [\u001b[32m\u001b[1minfo     \u001b[0m] \u001b[1m1 distinct paths              \u001b[0m \u001b[36mfilename\u001b[0m=\u001b[35mdailydata.py\u001b[0m \u001b[36mlineno\u001b[0m=\u001b[35m129\u001b[0m \u001b[36mprocess\u001b[0m=\u001b[35m18660\u001b[0m\n",
      "['gs://oplabs-tools-data-sink/defillama/protocols_metadata_v1/dt=2025-01-23/out.parquet']\n",
      "\u001b[2m2025-01-24 06:49:06\u001b[0m [\u001b[32m\u001b[1minfo     \u001b[0m] \u001b[1mregistered view: 'defillama_protocols_metadata_v1' using 1 parquet paths\u001b[0m \u001b[36mfilename\u001b[0m=\u001b[35mclient.py\u001b[0m \u001b[36mlineno\u001b[0m=\u001b[35m292\u001b[0m \u001b[36mprocess\u001b[0m=\u001b[35m18660\u001b[0m\n",
      "┌─────────────────────────────────┐\n",
      "│              name               │\n",
      "│             varchar             │\n",
      "├─────────────────────────────────┤\n",
      "│ defillama_protocols_metadata_v1 │\n",
      "└─────────────────────────────────┘\n",
      "\n",
      "\u001b[2m2025-01-24 06:49:06\u001b[0m [\u001b[32m\u001b[1minfo     \u001b[0m] \u001b[1mReading data from 'defillama/protocols_token_tvl_v1' with filters min_date=2025-01-14, max_date=2025-01-24, date_range_spec=None\u001b[0m \u001b[36mfilename\u001b[0m=\u001b[35mdailydata.py\u001b[0m \u001b[36mlineno\u001b[0m=\u001b[35m187\u001b[0m \u001b[36mprocess\u001b[0m=\u001b[35m18660\u001b[0m\n",
      "\u001b[2m2025-01-24 06:49:06\u001b[0m [\u001b[32m\u001b[1minfo     \u001b[0m] \u001b[1mquerying markers for 'defillama/protocols_token_tvl_v1' DateFilter(min_date=datetime.date(2025, 1, 14), max_date=datetime.date(2025, 1, 24), datevals=None)\u001b[0m \u001b[36mfilename\u001b[0m=\u001b[35mdailydata.py\u001b[0m \u001b[36mlineno\u001b[0m=\u001b[35m105\u001b[0m \u001b[36mprocess\u001b[0m=\u001b[35m18660\u001b[0m\n",
      "\u001b[2m2025-01-24 06:49:06\u001b[0m [\u001b[32m\u001b[1minfo     \u001b[0m] \u001b[1m59 markers found              \u001b[0m \u001b[36mfilename\u001b[0m=\u001b[35mdailydata.py\u001b[0m \u001b[36mlineno\u001b[0m=\u001b[35m119\u001b[0m \u001b[36mmax_dt\u001b[0m=\u001b[35m2025-01-23\u001b[0m \u001b[36mmin_dt\u001b[0m=\u001b[35m2025-01-14\u001b[0m \u001b[36mprocess\u001b[0m=\u001b[35m18660\u001b[0m\n",
      "\u001b[2m2025-01-24 06:49:06\u001b[0m [\u001b[32m\u001b[1minfo     \u001b[0m] \u001b[1m10 distinct paths             \u001b[0m \u001b[36mfilename\u001b[0m=\u001b[35mdailydata.py\u001b[0m \u001b[36mlineno\u001b[0m=\u001b[35m129\u001b[0m \u001b[36mprocess\u001b[0m=\u001b[35m18660\u001b[0m\n",
      "['gs://oplabs-tools-data-sink/defillama/protocols_token_tvl_v1/dt=2025-01-14/out.parquet', 'gs://oplabs-tools-data-sink/defillama/protocols_token_tvl_v1/dt=2025-01-15/out.parquet', 'gs://oplabs-tools-data-sink/defillama/protocols_token_tvl_v1/dt=2025-01-16/out.parquet', 'gs://oplabs-tools-data-sink/defillama/protocols_token_tvl_v1/dt=2025-01-17/out.parquet', 'gs://oplabs-tools-data-sink/defillama/protocols_token_tvl_v1/dt=2025-01-18/out.parquet', 'gs://oplabs-tools-data-sink/defillama/protocols_token_tvl_v1/dt=2025-01-19/out.parquet', 'gs://oplabs-tools-data-sink/defillama/protocols_token_tvl_v1/dt=2025-01-20/out.parquet', 'gs://oplabs-tools-data-sink/defillama/protocols_token_tvl_v1/dt=2025-01-21/out.parquet', 'gs://oplabs-tools-data-sink/defillama/protocols_token_tvl_v1/dt=2025-01-22/out.parquet', 'gs://oplabs-tools-data-sink/defillama/protocols_token_tvl_v1/dt=2025-01-23/out.parquet']\n",
      "\u001b[2m2025-01-24 06:49:07\u001b[0m [\u001b[32m\u001b[1minfo     \u001b[0m] \u001b[1mregistered view: 'defillama_protocols_token_tvl_v1' using 10 parquet paths\u001b[0m \u001b[36mfilename\u001b[0m=\u001b[35mclient.py\u001b[0m \u001b[36mlineno\u001b[0m=\u001b[35m292\u001b[0m \u001b[36mprocess\u001b[0m=\u001b[35m18660\u001b[0m\n",
      "┌──────────────────────────────────┐\n",
      "│               name               │\n",
      "│             varchar              │\n",
      "├──────────────────────────────────┤\n",
      "│ defillama_protocols_metadata_v1  │\n",
      "│ defillama_protocols_token_tvl_v1 │\n",
      "└──────────────────────────────────┘\n",
      "\n"
     ]
    }
   ],
   "source": [
    "from op_analytics.datasources.defillama.tvl_breakdown_enrichment import DefillamaTVLBreakdown\n",
    "\n",
    "\n",
    "data = DefillamaTVLBreakdown.of_date(current_dt=\"2025-01-24\", lookback_days=10)"
   ]
  },
  {
   "cell_type": "code",
   "execution_count": 4,
   "metadata": {},
   "outputs": [
    {
     "data": {
      "text/html": [
       "<div><style>\n",
       ".dataframe > thead > tr,\n",
       ".dataframe > tbody > tr {\n",
       "  text-align: right;\n",
       "  white-space: pre-wrap;\n",
       "}\n",
       "</style>\n",
       "<small>shape: (1_006_244, 13)</small><table border=\"1\" class=\"dataframe\"><thead><tr><th>dt</th><th>protocol_slug</th><th>chain</th><th>token</th><th>app_token_tvl</th><th>app_token_tvl_usd</th><th>protocol_name</th><th>protocol_category</th><th>parent_protocol</th><th>misrepresented_tokens</th><th>is_protocol_misrepresented</th><th>is_double_counted</th><th>to_filter_out</th></tr><tr><td>datetime[μs]</td><td>str</td><td>str</td><td>str</td><td>f64</td><td>f64</td><td>str</td><td>str</td><td>str</td><td>i32</td><td>i32</td><td>i8</td><td>i8</td></tr></thead><tbody><tr><td>2025-01-16&nbsp;00:00:00</td><td>&quot;meteora-pools&quot;</td><td>&quot;Solana&quot;</td><td>&quot;PUFF&quot;</td><td>197.39922</td><td>0.55533</td><td>&quot;Meteora&nbsp;pools&quot;</td><td>&quot;Dexes&quot;</td><td>&quot;meteora&quot;</td><td>0</td><td>0</td><td>0</td><td>0</td></tr><tr><td>2025-01-16&nbsp;00:00:00</td><td>&quot;meteora-vaults&quot;</td><td>&quot;Solana&quot;</td><td>&quot;DUEL&quot;</td><td>146747.72692</td><td>71.76404</td><td>&quot;Meteora&nbsp;vaults&quot;</td><td>&quot;Yield&nbsp;Aggregator&quot;</td><td>&quot;meteora&quot;</td><td>0</td><td>0</td><td>1</td><td>0</td></tr><tr><td>2025-01-17&nbsp;00:00:00</td><td>&quot;klayswap-v1&quot;</td><td>&quot;Klaytn&quot;</td><td>&quot;PSUB&quot;</td><td>778409.07683</td><td>23.32114</td><td>&quot;KlaySwap&nbsp;V1&quot;</td><td>&quot;Dexes&quot;</td><td>&quot;klayswap&quot;</td><td>1</td><td>0</td><td>0</td><td>0</td></tr><tr><td>2025-01-17&nbsp;00:00:00</td><td>&quot;bitswap&quot;</td><td>&quot;Ethereum&quot;</td><td>&quot;BSSB&quot;</td><td>18241.87945</td><td>2333.33704</td><td>&quot;BitSwap&quot;</td><td>&quot;Cross&nbsp;Chain&nbsp;Bridge&quot;</td><td>&quot;bitswap&quot;</td><td>0</td><td>0</td><td>0</td><td>0</td></tr><tr><td>2025-01-22&nbsp;00:00:00</td><td>&quot;drops&quot;</td><td>&quot;pool2&quot;</td><td>&quot;WETH&quot;</td><td>1.15565</td><td>3858.33791</td><td>&quot;Drops&quot;</td><td>&quot;NFT&nbsp;Lending&quot;</td><td>&quot;drops&quot;</td><td>0</td><td>0</td><td>0</td><td>1</td></tr><tr><td>&hellip;</td><td>&hellip;</td><td>&hellip;</td><td>&hellip;</td><td>&hellip;</td><td>&hellip;</td><td>&hellip;</td><td>&hellip;</td><td>&hellip;</td><td>&hellip;</td><td>&hellip;</td><td>&hellip;</td><td>&hellip;</td></tr><tr><td>2025-01-22&nbsp;00:00:00</td><td>&quot;klex-finance&quot;</td><td>&quot;Klaytn&quot;</td><td>&quot;KDAI&quot;</td><td>0.76609</td><td>0.11315</td><td>&quot;KLEX&nbsp;Finance&quot;</td><td>&quot;Dexes&quot;</td><td>&quot;klex-finance&quot;</td><td>0</td><td>0</td><td>0</td><td>0</td></tr><tr><td>2025-01-17&nbsp;00:00:00</td><td>&quot;autoshark&quot;</td><td>&quot;Binance&quot;</td><td>&quot;AAVE&quot;</td><td>0.0</td><td>0.0</td><td>&quot;AutoShark&quot;</td><td>&quot;Dexes&quot;</td><td>&quot;autoshark&quot;</td><td>0</td><td>0</td><td>0</td><td>0</td></tr><tr><td>2025-01-22&nbsp;00:00:00</td><td>&quot;streamflow&quot;</td><td>&quot;Solana-vesting&quot;</td><td>&quot;CAT&quot;</td><td>3.0105e7</td><td>2367.96355</td><td>&quot;Streamflow&quot;</td><td>&quot;Payments&quot;</td><td>&quot;streamflow&quot;</td><td>0</td><td>0</td><td>0</td><td>1</td></tr><tr><td>2025-01-21&nbsp;00:00:00</td><td>&quot;railgun&quot;</td><td>&quot;Ethereum&quot;</td><td>&quot;NEAR&quot;</td><td>832877.58249</td><td>4.2707e6</td><td>&quot;Railgun&quot;</td><td>&quot;Privacy&quot;</td><td>&quot;railgun&quot;</td><td>0</td><td>0</td><td>0</td><td>0</td></tr><tr><td>2025-01-19&nbsp;00:00:00</td><td>&quot;solbank-finance&quot;</td><td>&quot;Solana&quot;</td><td>&quot;MARKKACY&quot;</td><td>1.0510e6</td><td>649.09004</td><td>&quot;Solbank&nbsp;Finance&quot;</td><td>&quot;Yield&quot;</td><td>&quot;solbank-finance&quot;</td><td>0</td><td>0</td><td>1</td><td>0</td></tr></tbody></table></div>"
      ],
      "text/plain": [
       "shape: (1_006_244, 13)\n",
       "┌───────────┬───────────┬───────────┬──────────┬───┬───────────┬───────────┬───────────┬───────────┐\n",
       "│ dt        ┆ protocol_ ┆ chain     ┆ token    ┆ … ┆ misrepres ┆ is_protoc ┆ is_double ┆ to_filter │\n",
       "│ ---       ┆ slug      ┆ ---       ┆ ---      ┆   ┆ ented_tok ┆ ol_misrep ┆ _counted  ┆ _out      │\n",
       "│ datetime[ ┆ ---       ┆ str       ┆ str      ┆   ┆ ens       ┆ resented  ┆ ---       ┆ ---       │\n",
       "│ μs]       ┆ str       ┆           ┆          ┆   ┆ ---       ┆ ---       ┆ i8        ┆ i8        │\n",
       "│           ┆           ┆           ┆          ┆   ┆ i32       ┆ i32       ┆           ┆           │\n",
       "╞═══════════╪═══════════╪═══════════╪══════════╪═══╪═══════════╪═══════════╪═══════════╪═══════════╡\n",
       "│ 2025-01-1 ┆ meteora-p ┆ Solana    ┆ PUFF     ┆ … ┆ 0         ┆ 0         ┆ 0         ┆ 0         │\n",
       "│ 6         ┆ ools      ┆           ┆          ┆   ┆           ┆           ┆           ┆           │\n",
       "│ 00:00:00  ┆           ┆           ┆          ┆   ┆           ┆           ┆           ┆           │\n",
       "│ 2025-01-1 ┆ meteora-v ┆ Solana    ┆ DUEL     ┆ … ┆ 0         ┆ 0         ┆ 1         ┆ 0         │\n",
       "│ 6         ┆ aults     ┆           ┆          ┆   ┆           ┆           ┆           ┆           │\n",
       "│ 00:00:00  ┆           ┆           ┆          ┆   ┆           ┆           ┆           ┆           │\n",
       "│ 2025-01-1 ┆ klayswap- ┆ Klaytn    ┆ PSUB     ┆ … ┆ 1         ┆ 0         ┆ 0         ┆ 0         │\n",
       "│ 7         ┆ v1        ┆           ┆          ┆   ┆           ┆           ┆           ┆           │\n",
       "│ 00:00:00  ┆           ┆           ┆          ┆   ┆           ┆           ┆           ┆           │\n",
       "│ 2025-01-1 ┆ bitswap   ┆ Ethereum  ┆ BSSB     ┆ … ┆ 0         ┆ 0         ┆ 0         ┆ 0         │\n",
       "│ 7         ┆           ┆           ┆          ┆   ┆           ┆           ┆           ┆           │\n",
       "│ 00:00:00  ┆           ┆           ┆          ┆   ┆           ┆           ┆           ┆           │\n",
       "│ 2025-01-2 ┆ drops     ┆ pool2     ┆ WETH     ┆ … ┆ 0         ┆ 0         ┆ 0         ┆ 1         │\n",
       "│ 2         ┆           ┆           ┆          ┆   ┆           ┆           ┆           ┆           │\n",
       "│ 00:00:00  ┆           ┆           ┆          ┆   ┆           ┆           ┆           ┆           │\n",
       "│ …         ┆ …         ┆ …         ┆ …        ┆ … ┆ …         ┆ …         ┆ …         ┆ …         │\n",
       "│ 2025-01-2 ┆ klex-fina ┆ Klaytn    ┆ KDAI     ┆ … ┆ 0         ┆ 0         ┆ 0         ┆ 0         │\n",
       "│ 2         ┆ nce       ┆           ┆          ┆   ┆           ┆           ┆           ┆           │\n",
       "│ 00:00:00  ┆           ┆           ┆          ┆   ┆           ┆           ┆           ┆           │\n",
       "│ 2025-01-1 ┆ autoshark ┆ Binance   ┆ AAVE     ┆ … ┆ 0         ┆ 0         ┆ 0         ┆ 0         │\n",
       "│ 7         ┆           ┆           ┆          ┆   ┆           ┆           ┆           ┆           │\n",
       "│ 00:00:00  ┆           ┆           ┆          ┆   ┆           ┆           ┆           ┆           │\n",
       "│ 2025-01-2 ┆ streamflo ┆ Solana-ve ┆ CAT      ┆ … ┆ 0         ┆ 0         ┆ 0         ┆ 1         │\n",
       "│ 2         ┆ w         ┆ sting     ┆          ┆   ┆           ┆           ┆           ┆           │\n",
       "│ 00:00:00  ┆           ┆           ┆          ┆   ┆           ┆           ┆           ┆           │\n",
       "│ 2025-01-2 ┆ railgun   ┆ Ethereum  ┆ NEAR     ┆ … ┆ 0         ┆ 0         ┆ 0         ┆ 0         │\n",
       "│ 1         ┆           ┆           ┆          ┆   ┆           ┆           ┆           ┆           │\n",
       "│ 00:00:00  ┆           ┆           ┆          ┆   ┆           ┆           ┆           ┆           │\n",
       "│ 2025-01-1 ┆ solbank-f ┆ Solana    ┆ MARKKACY ┆ … ┆ 0         ┆ 0         ┆ 1         ┆ 0         │\n",
       "│ 9         ┆ inance    ┆           ┆          ┆   ┆           ┆           ┆           ┆           │\n",
       "│ 00:00:00  ┆           ┆           ┆          ┆   ┆           ┆           ┆           ┆           │\n",
       "└───────────┴───────────┴───────────┴──────────┴───┴───────────┴───────────┴───────────┴───────────┘"
      ]
     },
     "execution_count": 4,
     "metadata": {},
     "output_type": "execute_result"
    }
   ],
   "source": [
    "data.df_tvl_breakdown"
   ]
  },
  {
   "cell_type": "code",
   "execution_count": 7,
   "metadata": {},
   "outputs": [
    {
     "name": "stdout",
     "output_type": "stream",
     "text": [
      "\u001b[2m2025-01-24 06:50:19\u001b[0m [\u001b[32m\u001b[1minfo     \u001b[0m] \u001b[1mdone writing 100.0Krows 1.6MB \u001b[0m \u001b[36mfilename\u001b[0m=\u001b[35mgcs_parquet.py\u001b[0m \u001b[36mlineno\u001b[0m=\u001b[35m57\u001b[0m \u001b[36mmaxrss\u001b[0m=\u001b[35m1238368256\u001b[0m \u001b[36mpath\u001b[0m=\u001b[35m/Users/pedro/github/ethereum-optimism/op-analytics-alt/ozone/warehouse/defillama/protocol_token_tvl_breakdown_v1/dt=2025-01-14/out.parquet\u001b[0m \u001b[36mprocess\u001b[0m=\u001b[35m18660\u001b[0m \u001b[36mroot\u001b[0m=\u001b[35mdefillama/protocol_token_tvl_breakdown_v1\u001b[0m \u001b[36mrows\u001b[0m=\u001b[35m100029\u001b[0m \u001b[36msize\u001b[0m=\u001b[35m1624129\u001b[0m\n",
      "\u001b[2m2025-01-24 06:50:19\u001b[0m [\u001b[32m\u001b[1minfo     \u001b[0m] \u001b[1mmemory usage                  \u001b[0m \u001b[36mfilename\u001b[0m=\u001b[35mgcs_parquet.py\u001b[0m \u001b[36mlineno\u001b[0m=\u001b[35m65\u001b[0m \u001b[36mmax_rss\u001b[0m=\u001b[35m1238.37\u001b[0m \u001b[36mprocess\u001b[0m=\u001b[35m18660\u001b[0m \u001b[36mroot\u001b[0m=\u001b[35mdefillama/protocol_token_tvl_breakdown_v1\u001b[0m\n",
      "\u001b[2m2025-01-24 06:53:12\u001b[0m [\u001b[32m\u001b[1mdebug    \u001b[0m] \u001b[1mdone writing defillama/protocol_token_tvl_breakdown_v1 to LOCAL\u001b[0m \u001b[36mfilename\u001b[0m=\u001b[35mwritehelper.py\u001b[0m \u001b[36mlineno\u001b[0m=\u001b[35m131\u001b[0m \u001b[36mprocess\u001b[0m=\u001b[35m18660\u001b[0m \u001b[36mroot\u001b[0m=\u001b[35mdefillama/protocol_token_tvl_breakdown_v1\u001b[0m\n",
      "\u001b[2m2025-01-24 06:53:12\u001b[0m [\u001b[32m\u001b[1minfo     \u001b[0m] \u001b[1mdone writing 100.4Krows 1.6MB \u001b[0m \u001b[36mfilename\u001b[0m=\u001b[35mgcs_parquet.py\u001b[0m \u001b[36mlineno\u001b[0m=\u001b[35m57\u001b[0m \u001b[36mmaxrss\u001b[0m=\u001b[35m1238368256\u001b[0m \u001b[36mpath\u001b[0m=\u001b[35m/Users/pedro/github/ethereum-optimism/op-analytics-alt/ozone/warehouse/defillama/protocol_token_tvl_breakdown_v1/dt=2025-01-15/out.parquet\u001b[0m \u001b[36mprocess\u001b[0m=\u001b[35m18660\u001b[0m \u001b[36mroot\u001b[0m=\u001b[35mdefillama/protocol_token_tvl_breakdown_v1\u001b[0m \u001b[36mrows\u001b[0m=\u001b[35m100426\u001b[0m \u001b[36msize\u001b[0m=\u001b[35m1633850\u001b[0m\n",
      "\u001b[2m2025-01-24 06:53:12\u001b[0m [\u001b[32m\u001b[1minfo     \u001b[0m] \u001b[1mmemory usage                  \u001b[0m \u001b[36mfilename\u001b[0m=\u001b[35mgcs_parquet.py\u001b[0m \u001b[36mlineno\u001b[0m=\u001b[35m65\u001b[0m \u001b[36mmax_rss\u001b[0m=\u001b[35m1238.37\u001b[0m \u001b[36mprocess\u001b[0m=\u001b[35m18660\u001b[0m \u001b[36mroot\u001b[0m=\u001b[35mdefillama/protocol_token_tvl_breakdown_v1\u001b[0m\n",
      "\u001b[2m2025-01-24 06:53:14\u001b[0m [\u001b[32m\u001b[1mdebug    \u001b[0m] \u001b[1mdone writing defillama/protocol_token_tvl_breakdown_v1 to LOCAL\u001b[0m \u001b[36mfilename\u001b[0m=\u001b[35mwritehelper.py\u001b[0m \u001b[36mlineno\u001b[0m=\u001b[35m131\u001b[0m \u001b[36mprocess\u001b[0m=\u001b[35m18660\u001b[0m \u001b[36mroot\u001b[0m=\u001b[35mdefillama/protocol_token_tvl_breakdown_v1\u001b[0m\n",
      "\u001b[2m2025-01-24 06:53:14\u001b[0m [\u001b[32m\u001b[1minfo     \u001b[0m] \u001b[1mdone writing 98.9Krows 1.6MB  \u001b[0m \u001b[36mfilename\u001b[0m=\u001b[35mgcs_parquet.py\u001b[0m \u001b[36mlineno\u001b[0m=\u001b[35m57\u001b[0m \u001b[36mmaxrss\u001b[0m=\u001b[35m1238368256\u001b[0m \u001b[36mpath\u001b[0m=\u001b[35m/Users/pedro/github/ethereum-optimism/op-analytics-alt/ozone/warehouse/defillama/protocol_token_tvl_breakdown_v1/dt=2025-01-16/out.parquet\u001b[0m \u001b[36mprocess\u001b[0m=\u001b[35m18660\u001b[0m \u001b[36mroot\u001b[0m=\u001b[35mdefillama/protocol_token_tvl_breakdown_v1\u001b[0m \u001b[36mrows\u001b[0m=\u001b[35m98895\u001b[0m \u001b[36msize\u001b[0m=\u001b[35m1611459\u001b[0m\n",
      "\u001b[2m2025-01-24 06:53:14\u001b[0m [\u001b[32m\u001b[1minfo     \u001b[0m] \u001b[1mmemory usage                  \u001b[0m \u001b[36mfilename\u001b[0m=\u001b[35mgcs_parquet.py\u001b[0m \u001b[36mlineno\u001b[0m=\u001b[35m65\u001b[0m \u001b[36mmax_rss\u001b[0m=\u001b[35m1238.37\u001b[0m \u001b[36mprocess\u001b[0m=\u001b[35m18660\u001b[0m \u001b[36mroot\u001b[0m=\u001b[35mdefillama/protocol_token_tvl_breakdown_v1\u001b[0m\n",
      "\u001b[2m2025-01-24 06:53:15\u001b[0m [\u001b[32m\u001b[1mdebug    \u001b[0m] \u001b[1mdone writing defillama/protocol_token_tvl_breakdown_v1 to LOCAL\u001b[0m \u001b[36mfilename\u001b[0m=\u001b[35mwritehelper.py\u001b[0m \u001b[36mlineno\u001b[0m=\u001b[35m131\u001b[0m \u001b[36mprocess\u001b[0m=\u001b[35m18660\u001b[0m \u001b[36mroot\u001b[0m=\u001b[35mdefillama/protocol_token_tvl_breakdown_v1\u001b[0m\n",
      "\u001b[2m2025-01-24 06:53:15\u001b[0m [\u001b[32m\u001b[1minfo     \u001b[0m] \u001b[1mdone writing 100.8Krows 1.6MB \u001b[0m \u001b[36mfilename\u001b[0m=\u001b[35mgcs_parquet.py\u001b[0m \u001b[36mlineno\u001b[0m=\u001b[35m57\u001b[0m \u001b[36mmaxrss\u001b[0m=\u001b[35m1238368256\u001b[0m \u001b[36mpath\u001b[0m=\u001b[35m/Users/pedro/github/ethereum-optimism/op-analytics-alt/ozone/warehouse/defillama/protocol_token_tvl_breakdown_v1/dt=2025-01-17/out.parquet\u001b[0m \u001b[36mprocess\u001b[0m=\u001b[35m18660\u001b[0m \u001b[36mroot\u001b[0m=\u001b[35mdefillama/protocol_token_tvl_breakdown_v1\u001b[0m \u001b[36mrows\u001b[0m=\u001b[35m100796\u001b[0m \u001b[36msize\u001b[0m=\u001b[35m1637089\u001b[0m\n",
      "\u001b[2m2025-01-24 06:53:15\u001b[0m [\u001b[32m\u001b[1minfo     \u001b[0m] \u001b[1mmemory usage                  \u001b[0m \u001b[36mfilename\u001b[0m=\u001b[35mgcs_parquet.py\u001b[0m \u001b[36mlineno\u001b[0m=\u001b[35m65\u001b[0m \u001b[36mmax_rss\u001b[0m=\u001b[35m1238.37\u001b[0m \u001b[36mprocess\u001b[0m=\u001b[35m18660\u001b[0m \u001b[36mroot\u001b[0m=\u001b[35mdefillama/protocol_token_tvl_breakdown_v1\u001b[0m\n",
      "\u001b[2m2025-01-24 06:53:18\u001b[0m [\u001b[32m\u001b[1mdebug    \u001b[0m] \u001b[1mdone writing defillama/protocol_token_tvl_breakdown_v1 to LOCAL\u001b[0m \u001b[36mfilename\u001b[0m=\u001b[35mwritehelper.py\u001b[0m \u001b[36mlineno\u001b[0m=\u001b[35m131\u001b[0m \u001b[36mprocess\u001b[0m=\u001b[35m18660\u001b[0m \u001b[36mroot\u001b[0m=\u001b[35mdefillama/protocol_token_tvl_breakdown_v1\u001b[0m\n",
      "\u001b[2m2025-01-24 06:53:18\u001b[0m [\u001b[32m\u001b[1minfo     \u001b[0m] \u001b[1mdone writing 101.1Krows 1.6MB \u001b[0m \u001b[36mfilename\u001b[0m=\u001b[35mgcs_parquet.py\u001b[0m \u001b[36mlineno\u001b[0m=\u001b[35m57\u001b[0m \u001b[36mmaxrss\u001b[0m=\u001b[35m1238368256\u001b[0m \u001b[36mpath\u001b[0m=\u001b[35m/Users/pedro/github/ethereum-optimism/op-analytics-alt/ozone/warehouse/defillama/protocol_token_tvl_breakdown_v1/dt=2025-01-18/out.parquet\u001b[0m \u001b[36mprocess\u001b[0m=\u001b[35m18660\u001b[0m \u001b[36mroot\u001b[0m=\u001b[35mdefillama/protocol_token_tvl_breakdown_v1\u001b[0m \u001b[36mrows\u001b[0m=\u001b[35m101116\u001b[0m \u001b[36msize\u001b[0m=\u001b[35m1641220\u001b[0m\n",
      "\u001b[2m2025-01-24 06:53:18\u001b[0m [\u001b[32m\u001b[1minfo     \u001b[0m] \u001b[1mmemory usage                  \u001b[0m \u001b[36mfilename\u001b[0m=\u001b[35mgcs_parquet.py\u001b[0m \u001b[36mlineno\u001b[0m=\u001b[35m65\u001b[0m \u001b[36mmax_rss\u001b[0m=\u001b[35m1238.37\u001b[0m \u001b[36mprocess\u001b[0m=\u001b[35m18660\u001b[0m \u001b[36mroot\u001b[0m=\u001b[35mdefillama/protocol_token_tvl_breakdown_v1\u001b[0m\n",
      "\u001b[2m2025-01-24 06:53:18\u001b[0m [\u001b[32m\u001b[1mdebug    \u001b[0m] \u001b[1mdone writing defillama/protocol_token_tvl_breakdown_v1 to LOCAL\u001b[0m \u001b[36mfilename\u001b[0m=\u001b[35mwritehelper.py\u001b[0m \u001b[36mlineno\u001b[0m=\u001b[35m131\u001b[0m \u001b[36mprocess\u001b[0m=\u001b[35m18660\u001b[0m \u001b[36mroot\u001b[0m=\u001b[35mdefillama/protocol_token_tvl_breakdown_v1\u001b[0m\n",
      "\u001b[2m2025-01-24 06:53:18\u001b[0m [\u001b[32m\u001b[1minfo     \u001b[0m] \u001b[1mdone writing 101.2Krows 1.6MB \u001b[0m \u001b[36mfilename\u001b[0m=\u001b[35mgcs_parquet.py\u001b[0m \u001b[36mlineno\u001b[0m=\u001b[35m57\u001b[0m \u001b[36mmaxrss\u001b[0m=\u001b[35m1238368256\u001b[0m \u001b[36mpath\u001b[0m=\u001b[35m/Users/pedro/github/ethereum-optimism/op-analytics-alt/ozone/warehouse/defillama/protocol_token_tvl_breakdown_v1/dt=2025-01-19/out.parquet\u001b[0m \u001b[36mprocess\u001b[0m=\u001b[35m18660\u001b[0m \u001b[36mroot\u001b[0m=\u001b[35mdefillama/protocol_token_tvl_breakdown_v1\u001b[0m \u001b[36mrows\u001b[0m=\u001b[35m101240\u001b[0m \u001b[36msize\u001b[0m=\u001b[35m1641375\u001b[0m\n",
      "\u001b[2m2025-01-24 06:53:18\u001b[0m [\u001b[32m\u001b[1minfo     \u001b[0m] \u001b[1mmemory usage                  \u001b[0m \u001b[36mfilename\u001b[0m=\u001b[35mgcs_parquet.py\u001b[0m \u001b[36mlineno\u001b[0m=\u001b[35m65\u001b[0m \u001b[36mmax_rss\u001b[0m=\u001b[35m1238.37\u001b[0m \u001b[36mprocess\u001b[0m=\u001b[35m18660\u001b[0m \u001b[36mroot\u001b[0m=\u001b[35mdefillama/protocol_token_tvl_breakdown_v1\u001b[0m\n",
      "\u001b[2m2025-01-24 06:53:18\u001b[0m [\u001b[32m\u001b[1mdebug    \u001b[0m] \u001b[1mdone writing defillama/protocol_token_tvl_breakdown_v1 to LOCAL\u001b[0m \u001b[36mfilename\u001b[0m=\u001b[35mwritehelper.py\u001b[0m \u001b[36mlineno\u001b[0m=\u001b[35m131\u001b[0m \u001b[36mprocess\u001b[0m=\u001b[35m18660\u001b[0m \u001b[36mroot\u001b[0m=\u001b[35mdefillama/protocol_token_tvl_breakdown_v1\u001b[0m\n",
      "\u001b[2m2025-01-24 06:53:18\u001b[0m [\u001b[32m\u001b[1minfo     \u001b[0m] \u001b[1mdone writing 102.0Krows 1.7MB \u001b[0m \u001b[36mfilename\u001b[0m=\u001b[35mgcs_parquet.py\u001b[0m \u001b[36mlineno\u001b[0m=\u001b[35m57\u001b[0m \u001b[36mmaxrss\u001b[0m=\u001b[35m1238368256\u001b[0m \u001b[36mpath\u001b[0m=\u001b[35m/Users/pedro/github/ethereum-optimism/op-analytics-alt/ozone/warehouse/defillama/protocol_token_tvl_breakdown_v1/dt=2025-01-20/out.parquet\u001b[0m \u001b[36mprocess\u001b[0m=\u001b[35m18660\u001b[0m \u001b[36mroot\u001b[0m=\u001b[35mdefillama/protocol_token_tvl_breakdown_v1\u001b[0m \u001b[36mrows\u001b[0m=\u001b[35m101994\u001b[0m \u001b[36msize\u001b[0m=\u001b[35m1657957\u001b[0m\n",
      "\u001b[2m2025-01-24 06:53:18\u001b[0m [\u001b[32m\u001b[1minfo     \u001b[0m] \u001b[1mmemory usage                  \u001b[0m \u001b[36mfilename\u001b[0m=\u001b[35mgcs_parquet.py\u001b[0m \u001b[36mlineno\u001b[0m=\u001b[35m65\u001b[0m \u001b[36mmax_rss\u001b[0m=\u001b[35m1238.37\u001b[0m \u001b[36mprocess\u001b[0m=\u001b[35m18660\u001b[0m \u001b[36mroot\u001b[0m=\u001b[35mdefillama/protocol_token_tvl_breakdown_v1\u001b[0m\n",
      "\u001b[2m2025-01-24 06:53:18\u001b[0m [\u001b[32m\u001b[1mdebug    \u001b[0m] \u001b[1mdone writing defillama/protocol_token_tvl_breakdown_v1 to LOCAL\u001b[0m \u001b[36mfilename\u001b[0m=\u001b[35mwritehelper.py\u001b[0m \u001b[36mlineno\u001b[0m=\u001b[35m131\u001b[0m \u001b[36mprocess\u001b[0m=\u001b[35m18660\u001b[0m \u001b[36mroot\u001b[0m=\u001b[35mdefillama/protocol_token_tvl_breakdown_v1\u001b[0m\n",
      "\u001b[2m2025-01-24 06:53:18\u001b[0m [\u001b[32m\u001b[1minfo     \u001b[0m] \u001b[1mdone writing 101.9Krows 1.7MB \u001b[0m \u001b[36mfilename\u001b[0m=\u001b[35mgcs_parquet.py\u001b[0m \u001b[36mlineno\u001b[0m=\u001b[35m57\u001b[0m \u001b[36mmaxrss\u001b[0m=\u001b[35m1238368256\u001b[0m \u001b[36mpath\u001b[0m=\u001b[35m/Users/pedro/github/ethereum-optimism/op-analytics-alt/ozone/warehouse/defillama/protocol_token_tvl_breakdown_v1/dt=2025-01-21/out.parquet\u001b[0m \u001b[36mprocess\u001b[0m=\u001b[35m18660\u001b[0m \u001b[36mroot\u001b[0m=\u001b[35mdefillama/protocol_token_tvl_breakdown_v1\u001b[0m \u001b[36mrows\u001b[0m=\u001b[35m101853\u001b[0m \u001b[36msize\u001b[0m=\u001b[35m1657887\u001b[0m\n",
      "\u001b[2m2025-01-24 06:53:18\u001b[0m [\u001b[32m\u001b[1minfo     \u001b[0m] \u001b[1mmemory usage                  \u001b[0m \u001b[36mfilename\u001b[0m=\u001b[35mgcs_parquet.py\u001b[0m \u001b[36mlineno\u001b[0m=\u001b[35m65\u001b[0m \u001b[36mmax_rss\u001b[0m=\u001b[35m1238.37\u001b[0m \u001b[36mprocess\u001b[0m=\u001b[35m18660\u001b[0m \u001b[36mroot\u001b[0m=\u001b[35mdefillama/protocol_token_tvl_breakdown_v1\u001b[0m\n",
      "\u001b[2m2025-01-24 06:53:18\u001b[0m [\u001b[32m\u001b[1mdebug    \u001b[0m] \u001b[1mdone writing defillama/protocol_token_tvl_breakdown_v1 to LOCAL\u001b[0m \u001b[36mfilename\u001b[0m=\u001b[35mwritehelper.py\u001b[0m \u001b[36mlineno\u001b[0m=\u001b[35m131\u001b[0m \u001b[36mprocess\u001b[0m=\u001b[35m18660\u001b[0m \u001b[36mroot\u001b[0m=\u001b[35mdefillama/protocol_token_tvl_breakdown_v1\u001b[0m\n",
      "\u001b[2m2025-01-24 06:53:18\u001b[0m [\u001b[32m\u001b[1minfo     \u001b[0m] \u001b[1mdone writing 101.3Krows 1.7MB \u001b[0m \u001b[36mfilename\u001b[0m=\u001b[35mgcs_parquet.py\u001b[0m \u001b[36mlineno\u001b[0m=\u001b[35m57\u001b[0m \u001b[36mmaxrss\u001b[0m=\u001b[35m1238368256\u001b[0m \u001b[36mpath\u001b[0m=\u001b[35m/Users/pedro/github/ethereum-optimism/op-analytics-alt/ozone/warehouse/defillama/protocol_token_tvl_breakdown_v1/dt=2025-01-22/out.parquet\u001b[0m \u001b[36mprocess\u001b[0m=\u001b[35m18660\u001b[0m \u001b[36mroot\u001b[0m=\u001b[35mdefillama/protocol_token_tvl_breakdown_v1\u001b[0m \u001b[36mrows\u001b[0m=\u001b[35m101343\u001b[0m \u001b[36msize\u001b[0m=\u001b[35m1653157\u001b[0m\n",
      "\u001b[2m2025-01-24 06:53:18\u001b[0m [\u001b[32m\u001b[1minfo     \u001b[0m] \u001b[1mmemory usage                  \u001b[0m \u001b[36mfilename\u001b[0m=\u001b[35mgcs_parquet.py\u001b[0m \u001b[36mlineno\u001b[0m=\u001b[35m65\u001b[0m \u001b[36mmax_rss\u001b[0m=\u001b[35m1238.37\u001b[0m \u001b[36mprocess\u001b[0m=\u001b[35m18660\u001b[0m \u001b[36mroot\u001b[0m=\u001b[35mdefillama/protocol_token_tvl_breakdown_v1\u001b[0m\n",
      "\u001b[2m2025-01-24 06:53:18\u001b[0m [\u001b[32m\u001b[1mdebug    \u001b[0m] \u001b[1mdone writing defillama/protocol_token_tvl_breakdown_v1 to LOCAL\u001b[0m \u001b[36mfilename\u001b[0m=\u001b[35mwritehelper.py\u001b[0m \u001b[36mlineno\u001b[0m=\u001b[35m131\u001b[0m \u001b[36mprocess\u001b[0m=\u001b[35m18660\u001b[0m \u001b[36mroot\u001b[0m=\u001b[35mdefillama/protocol_token_tvl_breakdown_v1\u001b[0m\n",
      "\u001b[2m2025-01-24 06:53:18\u001b[0m [\u001b[32m\u001b[1minfo     \u001b[0m] \u001b[1mdone writing 98.6Krows 1.6MB  \u001b[0m \u001b[36mfilename\u001b[0m=\u001b[35mgcs_parquet.py\u001b[0m \u001b[36mlineno\u001b[0m=\u001b[35m57\u001b[0m \u001b[36mmaxrss\u001b[0m=\u001b[35m1238368256\u001b[0m \u001b[36mpath\u001b[0m=\u001b[35m/Users/pedro/github/ethereum-optimism/op-analytics-alt/ozone/warehouse/defillama/protocol_token_tvl_breakdown_v1/dt=2025-01-23/out.parquet\u001b[0m \u001b[36mprocess\u001b[0m=\u001b[35m18660\u001b[0m \u001b[36mroot\u001b[0m=\u001b[35mdefillama/protocol_token_tvl_breakdown_v1\u001b[0m \u001b[36mrows\u001b[0m=\u001b[35m98552\u001b[0m \u001b[36msize\u001b[0m=\u001b[35m1603172\u001b[0m\n",
      "\u001b[2m2025-01-24 06:53:18\u001b[0m [\u001b[32m\u001b[1minfo     \u001b[0m] \u001b[1mmemory usage                  \u001b[0m \u001b[36mfilename\u001b[0m=\u001b[35mgcs_parquet.py\u001b[0m \u001b[36mlineno\u001b[0m=\u001b[35m65\u001b[0m \u001b[36mmax_rss\u001b[0m=\u001b[35m1238.37\u001b[0m \u001b[36mprocess\u001b[0m=\u001b[35m18660\u001b[0m \u001b[36mroot\u001b[0m=\u001b[35mdefillama/protocol_token_tvl_breakdown_v1\u001b[0m\n",
      "\u001b[2m2025-01-24 06:53:18\u001b[0m [\u001b[32m\u001b[1mdebug    \u001b[0m] \u001b[1mdone writing defillama/protocol_token_tvl_breakdown_v1 to LOCAL\u001b[0m \u001b[36mfilename\u001b[0m=\u001b[35mwritehelper.py\u001b[0m \u001b[36mlineno\u001b[0m=\u001b[35m131\u001b[0m \u001b[36mprocess\u001b[0m=\u001b[35m18660\u001b[0m \u001b[36mroot\u001b[0m=\u001b[35mdefillama/protocol_token_tvl_breakdown_v1\u001b[0m\n"
     ]
    }
   ],
   "source": [
    "from op_analytics.datasources.defillama.dataaccess import DefiLlama\n",
    "\n",
    "DefiLlama.PROTOCOL_TOKEN_TVL_BREAKDOWN.write(\n",
    "    dataframe=data.df_tvl_breakdown,\n",
    "    sort_by=[\"chain\", \"protocol_slug\", \"token\"],\n",
    ")"
   ]
  },
  {
   "cell_type": "code",
   "execution_count": 2,
   "metadata": {},
   "outputs": [
    {
     "name": "stdout",
     "output_type": "stream",
     "text": [
      "\u001b[2m2025-01-24 06:59:17\u001b[0m [\u001b[32m\u001b[1minfo     \u001b[0m] \u001b[1mReading data from 'defillama/protocol_token_tvl_breakdown_v1' with filters min_date=2025-01-15, max_date=2025-01-18, date_range_spec=None\u001b[0m \u001b[36mfilename\u001b[0m=\u001b[35mdailydata.py\u001b[0m \u001b[36mlineno\u001b[0m=\u001b[35m187\u001b[0m \u001b[36mprocess\u001b[0m=\u001b[35m20679\u001b[0m\n",
      "\u001b[2m2025-01-24 06:59:17\u001b[0m [\u001b[32m\u001b[1minfo     \u001b[0m] \u001b[1mquerying markers for 'defillama/protocol_token_tvl_breakdown_v1' DateFilter(min_date=datetime.date(2025, 1, 15), max_date=datetime.date(2025, 1, 18), datevals=None)\u001b[0m \u001b[36mfilename\u001b[0m=\u001b[35mdailydata.py\u001b[0m \u001b[36mlineno\u001b[0m=\u001b[35m105\u001b[0m \u001b[36mprocess\u001b[0m=\u001b[35m20679\u001b[0m\n",
      "\u001b[2m2025-01-24 06:59:17\u001b[0m [\u001b[32m\u001b[1minfo     \u001b[0m] \u001b[1m6 markers found               \u001b[0m \u001b[36mfilename\u001b[0m=\u001b[35mdailydata.py\u001b[0m \u001b[36mlineno\u001b[0m=\u001b[35m119\u001b[0m \u001b[36mmax_dt\u001b[0m=\u001b[35m2025-01-17\u001b[0m \u001b[36mmin_dt\u001b[0m=\u001b[35m2025-01-15\u001b[0m \u001b[36mprocess\u001b[0m=\u001b[35m20679\u001b[0m\n",
      "\u001b[2m2025-01-24 06:59:17\u001b[0m [\u001b[32m\u001b[1minfo     \u001b[0m] \u001b[1m3 distinct paths              \u001b[0m \u001b[36mfilename\u001b[0m=\u001b[35mdailydata.py\u001b[0m \u001b[36mlineno\u001b[0m=\u001b[35m129\u001b[0m \u001b[36mprocess\u001b[0m=\u001b[35m20679\u001b[0m\n",
      "['/Users/pedro/github/ethereum-optimism/op-analytics-alt/ozone/warehouse/defillama/protocol_token_tvl_breakdown_v1/dt=2025-01-15/out.parquet', '/Users/pedro/github/ethereum-optimism/op-analytics-alt/ozone/warehouse/defillama/protocol_token_tvl_breakdown_v1/dt=2025-01-16/out.parquet', '/Users/pedro/github/ethereum-optimism/op-analytics-alt/ozone/warehouse/defillama/protocol_token_tvl_breakdown_v1/dt=2025-01-17/out.parquet']\n",
      "\u001b[2m2025-01-24 06:59:17\u001b[0m [\u001b[32m\u001b[1minfo     \u001b[0m] \u001b[1mregistered view: 'defillama_protocol_token_tvl_breakdown_v1' using 3 parquet paths\u001b[0m \u001b[36mfilename\u001b[0m=\u001b[35mclient.py\u001b[0m \u001b[36mlineno\u001b[0m=\u001b[35m292\u001b[0m \u001b[36mprocess\u001b[0m=\u001b[35m20679\u001b[0m\n",
      "┌───────────────────────────────────────────┐\n",
      "│                   name                    │\n",
      "│                  varchar                  │\n",
      "├───────────────────────────────────────────┤\n",
      "│ defillama_protocol_token_tvl_breakdown_v1 │\n",
      "└───────────────────────────────────────────┘\n",
      "\n"
     ]
    },
    {
     "data": {
      "text/plain": [
       "'defillama_protocol_token_tvl_breakdown_v1'"
      ]
     },
     "execution_count": 2,
     "metadata": {},
     "output_type": "execute_result"
    }
   ],
   "source": [
    "from op_analytics.coreutils.partitioned.location import DataLocation\n",
    "from op_analytics.datasources.defillama.dataaccess import DefiLlama\n",
    "\n",
    "df = DefiLlama.PROTOCOL_TOKEN_TVL_BREAKDOWN.read(\n",
    "    min_date=\"2025-01-15\",\n",
    "    max_date=\"2025-01-18\",\n",
    "    location=DataLocation.LOCAL,\n",
    ")\n",
    "df"
   ]
  },
  {
   "cell_type": "code",
   "execution_count": 3,
   "metadata": {},
   "outputs": [
    {
     "data": {
      "text/plain": [
       "┌───────────────┬─────────┬─────────┬────────────────┬───────────────────┬───────────────┬───────────────────┬─────────────────┬───────────────────────┬────────────────────────────┬───────────────────┬───────────────┬────────────┐\n",
       "│ protocol_slug │  chain  │  token  │ app_token_tvl  │ app_token_tvl_usd │ protocol_name │ protocol_category │ parent_protocol │ misrepresented_tokens │ is_protocol_misrepresented │ is_double_counted │ to_filter_out │     dt     │\n",
       "│    varchar    │ varchar │ varchar │     double     │      double       │    varchar    │      varchar      │     varchar     │         int32         │           int32            │       int8        │     int8      │    date    │\n",
       "├───────────────┼─────────┼─────────┼────────────────┼───────────────────┼───────────────┼───────────────────┼─────────────────┼───────────────────────┼────────────────────────────┼───────────────────┼───────────────┼────────────┤\n",
       "│ ainn-swap     │ AILayer │ IUSD    │     50083.0974 │       45213.61801 │ AINN Swap     │ Dexes             │ ainn-swap       │                     0 │                          0 │                 0 │             0 │ 2025-01-15 │\n",
       "│ ainn-swap     │ AILayer │ ORDI    │    88111.86873 │        5592.72464 │ AINN Swap     │ Dexes             │ ainn-swap       │                     0 │                          0 │                 0 │             0 │ 2025-01-15 │\n",
       "│ ainn-swap     │ AILayer │ WBTC    │        0.80791 │       78039.62544 │ AINN Swap     │ Dexes             │ ainn-swap       │                     0 │                          0 │                 0 │             0 │ 2025-01-15 │\n",
       "│ bitfi         │ AILayer │ BFBTC   │         2163.0 │       208913355.0 │ BitFi         │ Anchor BTC        │ bitfi           │                     0 │                          0 │                 1 │             0 │ 2025-01-15 │\n",
       "│ desyn-safe    │ AILayer │ BBTC    │         0.0001 │            9.6966 │ DeSyn Safe    │ Farm              │ desyn-protocol  │                     0 │                          0 │                 0 │             0 │ 2025-01-15 │\n",
       "│ desyn-safe    │ AILayer │ BFBTC   │      2162.9994 │     208913297.049 │ DeSyn Safe    │ Farm              │ desyn-protocol  │                     0 │                          0 │                 0 │             0 │ 2025-01-15 │\n",
       "│ pell-network  │ AILayer │ BFBTC   │         0.0003 │           28.9755 │ Pell Network  │ Restaking         │ pell-network    │                     0 │                          0 │                 0 │             0 │ 2025-01-15 │\n",
       "│ pell-network  │ AILayer │ WBTC    │        0.00068 │          65.53432 │ Pell Network  │ Restaking         │ pell-network    │                     0 │                          0 │                 0 │             0 │ 2025-01-15 │\n",
       "│ alvey-dex     │ ALV     │ ALV     │ 19898012.70988 │       88690.41715 │ Alvey Dex     │ Dexes             │ alvey-dex       │                     1 │                          0 │                 0 │             0 │ 2025-01-15 │\n",
       "│ ampleswap     │ ALV     │ ALV     │  1202095.12998 │        5358.03852 │ AmpleSwap     │ Dexes             │ ampleswap       │                     1 │                          0 │                 0 │             0 │ 2025-01-15 │\n",
       "├───────────────┴─────────┴─────────┴────────────────┴───────────────────┴───────────────┴───────────────────┴─────────────────┴───────────────────────┴────────────────────────────┴───────────────────┴───────────────┴────────────┤\n",
       "│ 10 rows                                                                                                                                                                                                                 13 columns │\n",
       "└────────────────────────────────────────────────────────────────────────────────────────────────────────────────────────────────────────────────────────────────────────────────────────────────────────────────────────────────────┘"
      ]
     },
     "execution_count": 3,
     "metadata": {},
     "output_type": "execute_result"
    }
   ],
   "source": [
    "from op_analytics.coreutils.duckdb_inmem.client import init_client\n",
    "\n",
    "duckdb_ctx = init_client()\n",
    "\n",
    "duckdb_ctx.client.sql(\"SELECT * FROM defillama_protocol_token_tvl_breakdown_v1 LIMIT 10\")"
   ]
  },
  {
   "cell_type": "code",
   "execution_count": null,
   "metadata": {},
   "outputs": [],
   "source": [
    "import os\n",
    "from unittest.mock import patch\n",
    "\n",
    "from op_analytics.coreutils.partitioned import dailydata\n",
    "from op_analytics.coreutils.partitioned.location import DataLocation\n",
    "from op_analytics.datasources.defillama.dataaccess import DefiLlama\n",
    "\n",
    "\n",
    "\n",
    "def mock_location():\n",
    "    return DataLocation.GCS\n",
    "\n",
    "os.environ[\"ALLOW_WRITE\"] = \"true\"\n",
    "\n",
    "with patch.object(dailydata, \"determine_location\", mock_location):\n",
    "\n",
    "    # WARNING: Uncomment below to write to PROD.\n",
    "    \n",
    "    # DefiLlama.PROTOCOL_TOKEN_TVL_BREAKDOWN.write(\n",
    "    #     dataframe=data.df_tvl_breakdown,\n",
    "    #     sort_by=[\"chain\", \"protocol_slug\", \"token\"],\n",
    "    # )"
   ]
  }
 ],
 "metadata": {
  "kernelspec": {
   "display_name": ".venv",
   "language": "python",
   "name": "python3"
  },
  "language_info": {
   "codemirror_mode": {
    "name": "ipython",
    "version": 3
   },
   "file_extension": ".py",
   "mimetype": "text/x-python",
   "name": "python",
   "nbconvert_exporter": "python",
   "pygments_lexer": "ipython3",
   "version": "3.12.6"
  }
 },
 "nbformat": 4,
 "nbformat_minor": 2
}
