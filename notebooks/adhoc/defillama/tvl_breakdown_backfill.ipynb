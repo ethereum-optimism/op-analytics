{
 "cells": [
  {
   "cell_type": "code",
   "execution_count": 1,
   "metadata": {},
   "outputs": [
    {
     "name": "stdout",
     "output_type": "stream",
     "text": [
      "\u001b[2m2025-01-24 06:34:55\u001b[0m [\u001b[32m\u001b[1minfo     \u001b[0m] \u001b[1minitialized duckdb at /var/folders/tz/g2vwn0qx5ll32j7jfsshhps40000gn/T/x6pqu9l1/op-analytics.duck.db\u001b[0m \u001b[36mfilename\u001b[0m=\u001b[35mclient.py\u001b[0m \u001b[36mlineno\u001b[0m=\u001b[35m94\u001b[0m \u001b[36mprocess\u001b[0m=\u001b[35m16034\u001b[0m\n",
      "\u001b[2m2025-01-24 06:34:55\u001b[0m [\u001b[32m\u001b[1minfo     \u001b[0m] \u001b[1mloaded vault from .env file   \u001b[0m \u001b[36mfilename\u001b[0m=\u001b[35mvault.py\u001b[0m \u001b[36mlineno\u001b[0m=\u001b[35m32\u001b[0m \u001b[36mprocess\u001b[0m=\u001b[35m16034\u001b[0m\n",
      "\u001b[2m2025-01-24 06:34:55\u001b[0m [\u001b[32m\u001b[1mdebug    \u001b[0m] \u001b[1mloaded vault: 18 items        \u001b[0m \u001b[36mfilename\u001b[0m=\u001b[35mvault.py\u001b[0m \u001b[36mlineno\u001b[0m=\u001b[35m79\u001b[0m \u001b[36mprocess\u001b[0m=\u001b[35m16034\u001b[0m\n",
      "\u001b[2m2025-01-24 06:34:55\u001b[0m [\u001b[32m\u001b[1minfo     \u001b[0m] \u001b[1mReading data from 'defillama/protocols_metadata_v1' with filters min_date=2025-01-23, max_date=2025-01-24, date_range_spec=None\u001b[0m \u001b[36mfilename\u001b[0m=\u001b[35mdailydata.py\u001b[0m \u001b[36mlineno\u001b[0m=\u001b[35m188\u001b[0m \u001b[36mprocess\u001b[0m=\u001b[35m16034\u001b[0m\n",
      "\u001b[2m2025-01-24 06:34:55\u001b[0m [\u001b[32m\u001b[1minfo     \u001b[0m] \u001b[1mquerying markers for 'defillama/protocols_metadata_v1' DateFilter(min_date=datetime.date(2025, 1, 23), max_date=datetime.date(2025, 1, 24), datevals=None)\u001b[0m \u001b[36mfilename\u001b[0m=\u001b[35mdailydata.py\u001b[0m \u001b[36mlineno\u001b[0m=\u001b[35m105\u001b[0m \u001b[36mprocess\u001b[0m=\u001b[35m16034\u001b[0m\n",
      "\u001b[2m2025-01-24 06:34:55\u001b[0m [\u001b[32m\u001b[1mdebug    \u001b[0m] \u001b[1mconnecting to OPLABS Clickhouse client...\u001b[0m \u001b[36mfilename\u001b[0m=\u001b[35mclient.py\u001b[0m \u001b[36mlineno\u001b[0m=\u001b[35m36\u001b[0m \u001b[36mprocess\u001b[0m=\u001b[35m16034\u001b[0m\n",
      "\u001b[2m2025-01-24 06:34:56\u001b[0m [\u001b[32m\u001b[1mdebug    \u001b[0m] \u001b[1minitialized OPLABS Clickhouse client.\u001b[0m \u001b[36mfilename\u001b[0m=\u001b[35mclient.py\u001b[0m \u001b[36mlineno\u001b[0m=\u001b[35m41\u001b[0m \u001b[36mprocess\u001b[0m=\u001b[35m16034\u001b[0m\n",
      "\u001b[2m2025-01-24 06:34:56\u001b[0m [\u001b[32m\u001b[1minfo     \u001b[0m] \u001b[1m1 markers found               \u001b[0m \u001b[36mfilename\u001b[0m=\u001b[35mdailydata.py\u001b[0m \u001b[36mlineno\u001b[0m=\u001b[35m119\u001b[0m \u001b[36mmax_dt\u001b[0m=\u001b[35m2025-01-23\u001b[0m \u001b[36mmin_dt\u001b[0m=\u001b[35m2025-01-23\u001b[0m \u001b[36mprocess\u001b[0m=\u001b[35m16034\u001b[0m\n",
      "\u001b[2m2025-01-24 06:34:56\u001b[0m [\u001b[32m\u001b[1minfo     \u001b[0m] \u001b[1m1 distinct paths              \u001b[0m \u001b[36mfilename\u001b[0m=\u001b[35mdailydata.py\u001b[0m \u001b[36mlineno\u001b[0m=\u001b[35m129\u001b[0m \u001b[36mprocess\u001b[0m=\u001b[35m16034\u001b[0m\n",
      "\u001b[2m2025-01-24 06:34:57\u001b[0m [\u001b[32m\u001b[1minfo     \u001b[0m] \u001b[1mregistered view: 'defillama_protocols_metadata_v1' using 1 parquet paths\u001b[0m \u001b[36mfilename\u001b[0m=\u001b[35mclient.py\u001b[0m \u001b[36mlineno\u001b[0m=\u001b[35m291\u001b[0m \u001b[36mprocess\u001b[0m=\u001b[35m16034\u001b[0m\n",
      "┌─────────────────────────────────┐\n",
      "│              name               │\n",
      "│             varchar             │\n",
      "├─────────────────────────────────┤\n",
      "│ defillama_protocols_metadata_v1 │\n",
      "└─────────────────────────────────┘\n",
      "\n",
      "\u001b[2m2025-01-24 06:34:57\u001b[0m [\u001b[32m\u001b[1minfo     \u001b[0m] \u001b[1mReading data from 'defillama/protocols_token_tvl_v1' with filters min_date=2025-01-14, max_date=2025-01-24, date_range_spec=None\u001b[0m \u001b[36mfilename\u001b[0m=\u001b[35mdailydata.py\u001b[0m \u001b[36mlineno\u001b[0m=\u001b[35m188\u001b[0m \u001b[36mprocess\u001b[0m=\u001b[35m16034\u001b[0m\n",
      "\u001b[2m2025-01-24 06:34:57\u001b[0m [\u001b[32m\u001b[1minfo     \u001b[0m] \u001b[1mquerying markers for 'defillama/protocols_token_tvl_v1' DateFilter(min_date=datetime.date(2025, 1, 14), max_date=datetime.date(2025, 1, 24), datevals=None)\u001b[0m \u001b[36mfilename\u001b[0m=\u001b[35mdailydata.py\u001b[0m \u001b[36mlineno\u001b[0m=\u001b[35m105\u001b[0m \u001b[36mprocess\u001b[0m=\u001b[35m16034\u001b[0m\n",
      "\u001b[2m2025-01-24 06:34:57\u001b[0m [\u001b[32m\u001b[1minfo     \u001b[0m] \u001b[1m59 markers found              \u001b[0m \u001b[36mfilename\u001b[0m=\u001b[35mdailydata.py\u001b[0m \u001b[36mlineno\u001b[0m=\u001b[35m119\u001b[0m \u001b[36mmax_dt\u001b[0m=\u001b[35m2025-01-23\u001b[0m \u001b[36mmin_dt\u001b[0m=\u001b[35m2025-01-14\u001b[0m \u001b[36mprocess\u001b[0m=\u001b[35m16034\u001b[0m\n",
      "\u001b[2m2025-01-24 06:34:57\u001b[0m [\u001b[32m\u001b[1minfo     \u001b[0m] \u001b[1m10 distinct paths             \u001b[0m \u001b[36mfilename\u001b[0m=\u001b[35mdailydata.py\u001b[0m \u001b[36mlineno\u001b[0m=\u001b[35m129\u001b[0m \u001b[36mprocess\u001b[0m=\u001b[35m16034\u001b[0m\n",
      "\u001b[2m2025-01-24 06:34:58\u001b[0m [\u001b[32m\u001b[1minfo     \u001b[0m] \u001b[1mregistered view: 'defillama_protocols_token_tvl_v1' using 10 parquet paths\u001b[0m \u001b[36mfilename\u001b[0m=\u001b[35mclient.py\u001b[0m \u001b[36mlineno\u001b[0m=\u001b[35m291\u001b[0m \u001b[36mprocess\u001b[0m=\u001b[35m16034\u001b[0m\n",
      "┌──────────────────────────────────┐\n",
      "│               name               │\n",
      "│             varchar              │\n",
      "├──────────────────────────────────┤\n",
      "│ defillama_protocols_metadata_v1  │\n",
      "│ defillama_protocols_token_tvl_v1 │\n",
      "└──────────────────────────────────┘\n",
      "\n"
     ]
    }
   ],
   "source": [
    "from op_analytics.datasources.defillama.tvl_breakdown_enrichment import DefillamaTVLBreakdown\n",
    "\n",
    "\n",
    "data = DefillamaTVLBreakdown.of_date(current_dt=\"2025-01-24\", lookback_days=10)"
   ]
  },
  {
   "cell_type": "code",
   "execution_count": 2,
   "metadata": {},
   "outputs": [
    {
     "data": {
      "text/html": [
       "<div><style>\n",
       ".dataframe > thead > tr,\n",
       ".dataframe > tbody > tr {\n",
       "  text-align: right;\n",
       "  white-space: pre-wrap;\n",
       "}\n",
       "</style>\n",
       "<small>shape: (1_006_244, 13)</small><table border=\"1\" class=\"dataframe\"><thead><tr><th>dt</th><th>protocol_slug</th><th>chain</th><th>token</th><th>app_token_tvl</th><th>app_token_tvl_usd</th><th>protocol_name</th><th>protocol_category</th><th>parent_protocol</th><th>misrepresented_tokens</th><th>is_protocol_misrepresented</th><th>is_double_counted</th><th>to_filter_out</th></tr><tr><td>datetime[μs]</td><td>str</td><td>str</td><td>str</td><td>f64</td><td>f64</td><td>str</td><td>str</td><td>str</td><td>i32</td><td>i32</td><td>i8</td><td>i8</td></tr></thead><tbody><tr><td>2025-01-23&nbsp;00:00:00</td><td>&quot;uniswap-v3&quot;</td><td>&quot;Ethereum&quot;</td><td>&quot;EVERY&quot;</td><td>33781.04948</td><td>142.77392</td><td>&quot;Uniswap&nbsp;V3&quot;</td><td>&quot;Dexes&quot;</td><td>&quot;uniswap&quot;</td><td>0</td><td>0</td><td>0</td><td>0</td></tr><tr><td>2025-01-20&nbsp;00:00:00</td><td>&quot;symmetry&quot;</td><td>&quot;Solana&quot;</td><td>&quot;FIDA&quot;</td><td>760.59255</td><td>177.83034</td><td>&quot;Symmetry&quot;</td><td>&quot;Indexes&quot;</td><td>&quot;symmetry&quot;</td><td>0</td><td>0</td><td>0</td><td>0</td></tr><tr><td>2025-01-18&nbsp;00:00:00</td><td>&quot;astherus-perps&quot;</td><td>&quot;Ethereum&quot;</td><td>&quot;WBTC&quot;</td><td>0.15175</td><td>15747.06405</td><td>&quot;Astherus&nbsp;Perps&quot;</td><td>&quot;Derivatives&quot;</td><td>&quot;astherus&quot;</td><td>0</td><td>0</td><td>0</td><td>0</td></tr><tr><td>2025-01-15&nbsp;00:00:00</td><td>&quot;beefy&quot;</td><td>&quot;Lisk&quot;</td><td>&quot;USDT&quot;</td><td>558066.29231</td><td>557875.99171</td><td>&quot;Beefy&quot;</td><td>&quot;Yield&nbsp;Aggregator&quot;</td><td>&quot;beefy&quot;</td><td>1</td><td>1</td><td>1</td><td>0</td></tr><tr><td>2025-01-23&nbsp;00:00:00</td><td>&quot;streamflow&quot;</td><td>&quot;vesting&quot;</td><td>&quot;PAPERCLIPS&quot;</td><td>1.4749e8</td><td>217033.85112</td><td>&quot;Streamflow&quot;</td><td>&quot;Payments&quot;</td><td>&quot;streamflow&quot;</td><td>0</td><td>0</td><td>0</td><td>0</td></tr><tr><td>&hellip;</td><td>&hellip;</td><td>&hellip;</td><td>&hellip;</td><td>&hellip;</td><td>&hellip;</td><td>&hellip;</td><td>&hellip;</td><td>&hellip;</td><td>&hellip;</td><td>&hellip;</td><td>&hellip;</td><td>&hellip;</td></tr><tr><td>2025-01-17&nbsp;00:00:00</td><td>&quot;osmosis-dex&quot;</td><td>&quot;Osmosis&quot;</td><td>&quot;GRAV&quot;</td><td>7.1694e6</td><td>4606.49394</td><td>&quot;Osmosis&nbsp;DEX&quot;</td><td>&quot;Dexes&quot;</td><td>&quot;osmosis-dex&quot;</td><td>1</td><td>0</td><td>0</td><td>0</td></tr><tr><td>2025-01-21&nbsp;00:00:00</td><td>&quot;becoswap&quot;</td><td>&quot;Kardia&quot;</td><td>&quot;WKAI&quot;</td><td>2.8142e6</td><td>4730.76401</td><td>&quot;BecoSwap&quot;</td><td>&quot;Dexes&quot;</td><td>&quot;becoswap&quot;</td><td>1</td><td>0</td><td>0</td><td>0</td></tr><tr><td>2025-01-17&nbsp;00:00:00</td><td>&quot;streamflow&quot;</td><td>&quot;vesting&quot;</td><td>&quot;SHIBASSO&quot;</td><td>50000.0</td><td>0.109</td><td>&quot;Streamflow&quot;</td><td>&quot;Payments&quot;</td><td>&quot;streamflow&quot;</td><td>0</td><td>0</td><td>0</td><td>0</td></tr><tr><td>2025-01-16&nbsp;00:00:00</td><td>&quot;karak&quot;</td><td>&quot;Ethereum&quot;</td><td>&quot;SFRAX&quot;</td><td>186919.27731</td><td>205870.11174</td><td>&quot;Karak&quot;</td><td>&quot;Restaking&quot;</td><td>&quot;subseaprotocol&quot;</td><td>0</td><td>0</td><td>0</td><td>0</td></tr><tr><td>2025-01-23&nbsp;00:00:00</td><td>&quot;uniswap-v3&quot;</td><td>&quot;Blast&quot;</td><td>&quot;BLAST&quot;</td><td>1.7208e6</td><td>12951.98277</td><td>&quot;Uniswap&nbsp;V3&quot;</td><td>&quot;Dexes&quot;</td><td>&quot;uniswap&quot;</td><td>0</td><td>0</td><td>0</td><td>0</td></tr></tbody></table></div>"
      ],
      "text/plain": [
       "shape: (1_006_244, 13)\n",
       "┌───────────┬───────────┬──────────┬───────────┬───┬───────────┬───────────┬───────────┬───────────┐\n",
       "│ dt        ┆ protocol_ ┆ chain    ┆ token     ┆ … ┆ misrepres ┆ is_protoc ┆ is_double ┆ to_filter │\n",
       "│ ---       ┆ slug      ┆ ---      ┆ ---       ┆   ┆ ented_tok ┆ ol_misrep ┆ _counted  ┆ _out      │\n",
       "│ datetime[ ┆ ---       ┆ str      ┆ str       ┆   ┆ ens       ┆ resented  ┆ ---       ┆ ---       │\n",
       "│ μs]       ┆ str       ┆          ┆           ┆   ┆ ---       ┆ ---       ┆ i8        ┆ i8        │\n",
       "│           ┆           ┆          ┆           ┆   ┆ i32       ┆ i32       ┆           ┆           │\n",
       "╞═══════════╪═══════════╪══════════╪═══════════╪═══╪═══════════╪═══════════╪═══════════╪═══════════╡\n",
       "│ 2025-01-2 ┆ uniswap-v ┆ Ethereum ┆ EVERY     ┆ … ┆ 0         ┆ 0         ┆ 0         ┆ 0         │\n",
       "│ 3         ┆ 3         ┆          ┆           ┆   ┆           ┆           ┆           ┆           │\n",
       "│ 00:00:00  ┆           ┆          ┆           ┆   ┆           ┆           ┆           ┆           │\n",
       "│ 2025-01-2 ┆ symmetry  ┆ Solana   ┆ FIDA      ┆ … ┆ 0         ┆ 0         ┆ 0         ┆ 0         │\n",
       "│ 0         ┆           ┆          ┆           ┆   ┆           ┆           ┆           ┆           │\n",
       "│ 00:00:00  ┆           ┆          ┆           ┆   ┆           ┆           ┆           ┆           │\n",
       "│ 2025-01-1 ┆ astherus- ┆ Ethereum ┆ WBTC      ┆ … ┆ 0         ┆ 0         ┆ 0         ┆ 0         │\n",
       "│ 8         ┆ perps     ┆          ┆           ┆   ┆           ┆           ┆           ┆           │\n",
       "│ 00:00:00  ┆           ┆          ┆           ┆   ┆           ┆           ┆           ┆           │\n",
       "│ 2025-01-1 ┆ beefy     ┆ Lisk     ┆ USDT      ┆ … ┆ 1         ┆ 1         ┆ 1         ┆ 0         │\n",
       "│ 5         ┆           ┆          ┆           ┆   ┆           ┆           ┆           ┆           │\n",
       "│ 00:00:00  ┆           ┆          ┆           ┆   ┆           ┆           ┆           ┆           │\n",
       "│ 2025-01-2 ┆ streamflo ┆ vesting  ┆ PAPERCLIP ┆ … ┆ 0         ┆ 0         ┆ 0         ┆ 0         │\n",
       "│ 3         ┆ w         ┆          ┆ S         ┆   ┆           ┆           ┆           ┆           │\n",
       "│ 00:00:00  ┆           ┆          ┆           ┆   ┆           ┆           ┆           ┆           │\n",
       "│ …         ┆ …         ┆ …        ┆ …         ┆ … ┆ …         ┆ …         ┆ …         ┆ …         │\n",
       "│ 2025-01-1 ┆ osmosis-d ┆ Osmosis  ┆ GRAV      ┆ … ┆ 1         ┆ 0         ┆ 0         ┆ 0         │\n",
       "│ 7         ┆ ex        ┆          ┆           ┆   ┆           ┆           ┆           ┆           │\n",
       "│ 00:00:00  ┆           ┆          ┆           ┆   ┆           ┆           ┆           ┆           │\n",
       "│ 2025-01-2 ┆ becoswap  ┆ Kardia   ┆ WKAI      ┆ … ┆ 1         ┆ 0         ┆ 0         ┆ 0         │\n",
       "│ 1         ┆           ┆          ┆           ┆   ┆           ┆           ┆           ┆           │\n",
       "│ 00:00:00  ┆           ┆          ┆           ┆   ┆           ┆           ┆           ┆           │\n",
       "│ 2025-01-1 ┆ streamflo ┆ vesting  ┆ SHIBASSO  ┆ … ┆ 0         ┆ 0         ┆ 0         ┆ 0         │\n",
       "│ 7         ┆ w         ┆          ┆           ┆   ┆           ┆           ┆           ┆           │\n",
       "│ 00:00:00  ┆           ┆          ┆           ┆   ┆           ┆           ┆           ┆           │\n",
       "│ 2025-01-1 ┆ karak     ┆ Ethereum ┆ SFRAX     ┆ … ┆ 0         ┆ 0         ┆ 0         ┆ 0         │\n",
       "│ 6         ┆           ┆          ┆           ┆   ┆           ┆           ┆           ┆           │\n",
       "│ 00:00:00  ┆           ┆          ┆           ┆   ┆           ┆           ┆           ┆           │\n",
       "│ 2025-01-2 ┆ uniswap-v ┆ Blast    ┆ BLAST     ┆ … ┆ 0         ┆ 0         ┆ 0         ┆ 0         │\n",
       "│ 3         ┆ 3         ┆          ┆           ┆   ┆           ┆           ┆           ┆           │\n",
       "│ 00:00:00  ┆           ┆          ┆           ┆   ┆           ┆           ┆           ┆           │\n",
       "└───────────┴───────────┴──────────┴───────────┴───┴───────────┴───────────┴───────────┴───────────┘"
      ]
     },
     "execution_count": 2,
     "metadata": {},
     "output_type": "execute_result"
    }
   ],
   "source": [
    "data.df_tvl_breakdown"
   ]
  },
  {
   "cell_type": "code",
   "execution_count": 3,
   "metadata": {},
   "outputs": [
    {
     "name": "stdout",
     "output_type": "stream",
     "text": [
      "\u001b[2m2025-01-24 06:35:46\u001b[0m [\u001b[32m\u001b[1minfo     \u001b[0m] \u001b[1mdone writing 100.0Krows 1.6MB \u001b[0m \u001b[36mfilename\u001b[0m=\u001b[35mgcs_parquet.py\u001b[0m \u001b[36mlineno\u001b[0m=\u001b[35m57\u001b[0m \u001b[36mmaxrss\u001b[0m=\u001b[35m1251459072\u001b[0m \u001b[36mpath\u001b[0m=\u001b[35m/Users/pedro/github/ethereum-optimism/op-analytics-alt/ozone/warehouse/defillama/protocol_token_tvl_breakdown_v1/dt=2025-01-14/out.parquet\u001b[0m \u001b[36mprocess\u001b[0m=\u001b[35m16034\u001b[0m \u001b[36mroot\u001b[0m=\u001b[35mdefillama/protocol_token_tvl_breakdown_v1\u001b[0m \u001b[36mrows\u001b[0m=\u001b[35m100029\u001b[0m \u001b[36msize\u001b[0m=\u001b[35m1624129\u001b[0m\n",
      "\u001b[2m2025-01-24 06:35:46\u001b[0m [\u001b[32m\u001b[1minfo     \u001b[0m] \u001b[1mmemory usage                  \u001b[0m \u001b[36mfilename\u001b[0m=\u001b[35mgcs_parquet.py\u001b[0m \u001b[36mlineno\u001b[0m=\u001b[35m65\u001b[0m \u001b[36mmax_rss\u001b[0m=\u001b[35m1251.46\u001b[0m \u001b[36mprocess\u001b[0m=\u001b[35m16034\u001b[0m \u001b[36mroot\u001b[0m=\u001b[35mdefillama/protocol_token_tvl_breakdown_v1\u001b[0m\n",
      "\u001b[2m2025-01-24 06:35:46\u001b[0m [\u001b[32m\u001b[1mdebug    \u001b[0m] \u001b[1mdone writing defillama/protocol_token_tvl_breakdown_v1 to LOCAL\u001b[0m \u001b[36mfilename\u001b[0m=\u001b[35mwritehelper.py\u001b[0m \u001b[36mlineno\u001b[0m=\u001b[35m131\u001b[0m \u001b[36mprocess\u001b[0m=\u001b[35m16034\u001b[0m \u001b[36mroot\u001b[0m=\u001b[35mdefillama/protocol_token_tvl_breakdown_v1\u001b[0m\n",
      "\u001b[2m2025-01-24 06:35:46\u001b[0m [\u001b[32m\u001b[1minfo     \u001b[0m] \u001b[1mdone writing 100.4Krows 1.6MB \u001b[0m \u001b[36mfilename\u001b[0m=\u001b[35mgcs_parquet.py\u001b[0m \u001b[36mlineno\u001b[0m=\u001b[35m57\u001b[0m \u001b[36mmaxrss\u001b[0m=\u001b[35m1251459072\u001b[0m \u001b[36mpath\u001b[0m=\u001b[35m/Users/pedro/github/ethereum-optimism/op-analytics-alt/ozone/warehouse/defillama/protocol_token_tvl_breakdown_v1/dt=2025-01-15/out.parquet\u001b[0m \u001b[36mprocess\u001b[0m=\u001b[35m16034\u001b[0m \u001b[36mroot\u001b[0m=\u001b[35mdefillama/protocol_token_tvl_breakdown_v1\u001b[0m \u001b[36mrows\u001b[0m=\u001b[35m100426\u001b[0m \u001b[36msize\u001b[0m=\u001b[35m1633850\u001b[0m\n",
      "\u001b[2m2025-01-24 06:35:46\u001b[0m [\u001b[32m\u001b[1minfo     \u001b[0m] \u001b[1mmemory usage                  \u001b[0m \u001b[36mfilename\u001b[0m=\u001b[35mgcs_parquet.py\u001b[0m \u001b[36mlineno\u001b[0m=\u001b[35m65\u001b[0m \u001b[36mmax_rss\u001b[0m=\u001b[35m1251.46\u001b[0m \u001b[36mprocess\u001b[0m=\u001b[35m16034\u001b[0m \u001b[36mroot\u001b[0m=\u001b[35mdefillama/protocol_token_tvl_breakdown_v1\u001b[0m\n",
      "\u001b[2m2025-01-24 06:35:46\u001b[0m [\u001b[32m\u001b[1mdebug    \u001b[0m] \u001b[1mdone writing defillama/protocol_token_tvl_breakdown_v1 to LOCAL\u001b[0m \u001b[36mfilename\u001b[0m=\u001b[35mwritehelper.py\u001b[0m \u001b[36mlineno\u001b[0m=\u001b[35m131\u001b[0m \u001b[36mprocess\u001b[0m=\u001b[35m16034\u001b[0m \u001b[36mroot\u001b[0m=\u001b[35mdefillama/protocol_token_tvl_breakdown_v1\u001b[0m\n",
      "\u001b[2m2025-01-24 06:35:46\u001b[0m [\u001b[32m\u001b[1minfo     \u001b[0m] \u001b[1mdone writing 98.9Krows 1.6MB  \u001b[0m \u001b[36mfilename\u001b[0m=\u001b[35mgcs_parquet.py\u001b[0m \u001b[36mlineno\u001b[0m=\u001b[35m57\u001b[0m \u001b[36mmaxrss\u001b[0m=\u001b[35m1251459072\u001b[0m \u001b[36mpath\u001b[0m=\u001b[35m/Users/pedro/github/ethereum-optimism/op-analytics-alt/ozone/warehouse/defillama/protocol_token_tvl_breakdown_v1/dt=2025-01-16/out.parquet\u001b[0m \u001b[36mprocess\u001b[0m=\u001b[35m16034\u001b[0m \u001b[36mroot\u001b[0m=\u001b[35mdefillama/protocol_token_tvl_breakdown_v1\u001b[0m \u001b[36mrows\u001b[0m=\u001b[35m98895\u001b[0m \u001b[36msize\u001b[0m=\u001b[35m1611459\u001b[0m\n",
      "\u001b[2m2025-01-24 06:35:46\u001b[0m [\u001b[32m\u001b[1minfo     \u001b[0m] \u001b[1mmemory usage                  \u001b[0m \u001b[36mfilename\u001b[0m=\u001b[35mgcs_parquet.py\u001b[0m \u001b[36mlineno\u001b[0m=\u001b[35m65\u001b[0m \u001b[36mmax_rss\u001b[0m=\u001b[35m1251.46\u001b[0m \u001b[36mprocess\u001b[0m=\u001b[35m16034\u001b[0m \u001b[36mroot\u001b[0m=\u001b[35mdefillama/protocol_token_tvl_breakdown_v1\u001b[0m\n",
      "\u001b[2m2025-01-24 06:35:46\u001b[0m [\u001b[32m\u001b[1mdebug    \u001b[0m] \u001b[1mdone writing defillama/protocol_token_tvl_breakdown_v1 to LOCAL\u001b[0m \u001b[36mfilename\u001b[0m=\u001b[35mwritehelper.py\u001b[0m \u001b[36mlineno\u001b[0m=\u001b[35m131\u001b[0m \u001b[36mprocess\u001b[0m=\u001b[35m16034\u001b[0m \u001b[36mroot\u001b[0m=\u001b[35mdefillama/protocol_token_tvl_breakdown_v1\u001b[0m\n",
      "\u001b[2m2025-01-24 06:35:46\u001b[0m [\u001b[32m\u001b[1minfo     \u001b[0m] \u001b[1mdone writing 100.8Krows 1.6MB \u001b[0m \u001b[36mfilename\u001b[0m=\u001b[35mgcs_parquet.py\u001b[0m \u001b[36mlineno\u001b[0m=\u001b[35m57\u001b[0m \u001b[36mmaxrss\u001b[0m=\u001b[35m1251459072\u001b[0m \u001b[36mpath\u001b[0m=\u001b[35m/Users/pedro/github/ethereum-optimism/op-analytics-alt/ozone/warehouse/defillama/protocol_token_tvl_breakdown_v1/dt=2025-01-17/out.parquet\u001b[0m \u001b[36mprocess\u001b[0m=\u001b[35m16034\u001b[0m \u001b[36mroot\u001b[0m=\u001b[35mdefillama/protocol_token_tvl_breakdown_v1\u001b[0m \u001b[36mrows\u001b[0m=\u001b[35m100796\u001b[0m \u001b[36msize\u001b[0m=\u001b[35m1637089\u001b[0m\n",
      "\u001b[2m2025-01-24 06:35:46\u001b[0m [\u001b[32m\u001b[1minfo     \u001b[0m] \u001b[1mmemory usage                  \u001b[0m \u001b[36mfilename\u001b[0m=\u001b[35mgcs_parquet.py\u001b[0m \u001b[36mlineno\u001b[0m=\u001b[35m65\u001b[0m \u001b[36mmax_rss\u001b[0m=\u001b[35m1251.46\u001b[0m \u001b[36mprocess\u001b[0m=\u001b[35m16034\u001b[0m \u001b[36mroot\u001b[0m=\u001b[35mdefillama/protocol_token_tvl_breakdown_v1\u001b[0m\n",
      "\u001b[2m2025-01-24 06:35:46\u001b[0m [\u001b[32m\u001b[1mdebug    \u001b[0m] \u001b[1mdone writing defillama/protocol_token_tvl_breakdown_v1 to LOCAL\u001b[0m \u001b[36mfilename\u001b[0m=\u001b[35mwritehelper.py\u001b[0m \u001b[36mlineno\u001b[0m=\u001b[35m131\u001b[0m \u001b[36mprocess\u001b[0m=\u001b[35m16034\u001b[0m \u001b[36mroot\u001b[0m=\u001b[35mdefillama/protocol_token_tvl_breakdown_v1\u001b[0m\n",
      "\u001b[2m2025-01-24 06:35:46\u001b[0m [\u001b[32m\u001b[1minfo     \u001b[0m] \u001b[1mdone writing 101.1Krows 1.6MB \u001b[0m \u001b[36mfilename\u001b[0m=\u001b[35mgcs_parquet.py\u001b[0m \u001b[36mlineno\u001b[0m=\u001b[35m57\u001b[0m \u001b[36mmaxrss\u001b[0m=\u001b[35m1251459072\u001b[0m \u001b[36mpath\u001b[0m=\u001b[35m/Users/pedro/github/ethereum-optimism/op-analytics-alt/ozone/warehouse/defillama/protocol_token_tvl_breakdown_v1/dt=2025-01-18/out.parquet\u001b[0m \u001b[36mprocess\u001b[0m=\u001b[35m16034\u001b[0m \u001b[36mroot\u001b[0m=\u001b[35mdefillama/protocol_token_tvl_breakdown_v1\u001b[0m \u001b[36mrows\u001b[0m=\u001b[35m101116\u001b[0m \u001b[36msize\u001b[0m=\u001b[35m1641220\u001b[0m\n",
      "\u001b[2m2025-01-24 06:35:46\u001b[0m [\u001b[32m\u001b[1minfo     \u001b[0m] \u001b[1mmemory usage                  \u001b[0m \u001b[36mfilename\u001b[0m=\u001b[35mgcs_parquet.py\u001b[0m \u001b[36mlineno\u001b[0m=\u001b[35m65\u001b[0m \u001b[36mmax_rss\u001b[0m=\u001b[35m1251.46\u001b[0m \u001b[36mprocess\u001b[0m=\u001b[35m16034\u001b[0m \u001b[36mroot\u001b[0m=\u001b[35mdefillama/protocol_token_tvl_breakdown_v1\u001b[0m\n",
      "\u001b[2m2025-01-24 06:35:46\u001b[0m [\u001b[32m\u001b[1mdebug    \u001b[0m] \u001b[1mdone writing defillama/protocol_token_tvl_breakdown_v1 to LOCAL\u001b[0m \u001b[36mfilename\u001b[0m=\u001b[35mwritehelper.py\u001b[0m \u001b[36mlineno\u001b[0m=\u001b[35m131\u001b[0m \u001b[36mprocess\u001b[0m=\u001b[35m16034\u001b[0m \u001b[36mroot\u001b[0m=\u001b[35mdefillama/protocol_token_tvl_breakdown_v1\u001b[0m\n",
      "\u001b[2m2025-01-24 06:35:46\u001b[0m [\u001b[32m\u001b[1minfo     \u001b[0m] \u001b[1mdone writing 101.2Krows 1.6MB \u001b[0m \u001b[36mfilename\u001b[0m=\u001b[35mgcs_parquet.py\u001b[0m \u001b[36mlineno\u001b[0m=\u001b[35m57\u001b[0m \u001b[36mmaxrss\u001b[0m=\u001b[35m1251459072\u001b[0m \u001b[36mpath\u001b[0m=\u001b[35m/Users/pedro/github/ethereum-optimism/op-analytics-alt/ozone/warehouse/defillama/protocol_token_tvl_breakdown_v1/dt=2025-01-19/out.parquet\u001b[0m \u001b[36mprocess\u001b[0m=\u001b[35m16034\u001b[0m \u001b[36mroot\u001b[0m=\u001b[35mdefillama/protocol_token_tvl_breakdown_v1\u001b[0m \u001b[36mrows\u001b[0m=\u001b[35m101240\u001b[0m \u001b[36msize\u001b[0m=\u001b[35m1641375\u001b[0m\n",
      "\u001b[2m2025-01-24 06:35:46\u001b[0m [\u001b[32m\u001b[1minfo     \u001b[0m] \u001b[1mmemory usage                  \u001b[0m \u001b[36mfilename\u001b[0m=\u001b[35mgcs_parquet.py\u001b[0m \u001b[36mlineno\u001b[0m=\u001b[35m65\u001b[0m \u001b[36mmax_rss\u001b[0m=\u001b[35m1251.46\u001b[0m \u001b[36mprocess\u001b[0m=\u001b[35m16034\u001b[0m \u001b[36mroot\u001b[0m=\u001b[35mdefillama/protocol_token_tvl_breakdown_v1\u001b[0m\n",
      "\u001b[2m2025-01-24 06:35:46\u001b[0m [\u001b[32m\u001b[1mdebug    \u001b[0m] \u001b[1mdone writing defillama/protocol_token_tvl_breakdown_v1 to LOCAL\u001b[0m \u001b[36mfilename\u001b[0m=\u001b[35mwritehelper.py\u001b[0m \u001b[36mlineno\u001b[0m=\u001b[35m131\u001b[0m \u001b[36mprocess\u001b[0m=\u001b[35m16034\u001b[0m \u001b[36mroot\u001b[0m=\u001b[35mdefillama/protocol_token_tvl_breakdown_v1\u001b[0m\n",
      "\u001b[2m2025-01-24 06:35:46\u001b[0m [\u001b[32m\u001b[1minfo     \u001b[0m] \u001b[1mdone writing 102.0Krows 1.7MB \u001b[0m \u001b[36mfilename\u001b[0m=\u001b[35mgcs_parquet.py\u001b[0m \u001b[36mlineno\u001b[0m=\u001b[35m57\u001b[0m \u001b[36mmaxrss\u001b[0m=\u001b[35m1251459072\u001b[0m \u001b[36mpath\u001b[0m=\u001b[35m/Users/pedro/github/ethereum-optimism/op-analytics-alt/ozone/warehouse/defillama/protocol_token_tvl_breakdown_v1/dt=2025-01-20/out.parquet\u001b[0m \u001b[36mprocess\u001b[0m=\u001b[35m16034\u001b[0m \u001b[36mroot\u001b[0m=\u001b[35mdefillama/protocol_token_tvl_breakdown_v1\u001b[0m \u001b[36mrows\u001b[0m=\u001b[35m101994\u001b[0m \u001b[36msize\u001b[0m=\u001b[35m1657957\u001b[0m\n",
      "\u001b[2m2025-01-24 06:35:46\u001b[0m [\u001b[32m\u001b[1minfo     \u001b[0m] \u001b[1mmemory usage                  \u001b[0m \u001b[36mfilename\u001b[0m=\u001b[35mgcs_parquet.py\u001b[0m \u001b[36mlineno\u001b[0m=\u001b[35m65\u001b[0m \u001b[36mmax_rss\u001b[0m=\u001b[35m1251.46\u001b[0m \u001b[36mprocess\u001b[0m=\u001b[35m16034\u001b[0m \u001b[36mroot\u001b[0m=\u001b[35mdefillama/protocol_token_tvl_breakdown_v1\u001b[0m\n",
      "\u001b[2m2025-01-24 06:35:46\u001b[0m [\u001b[32m\u001b[1mdebug    \u001b[0m] \u001b[1mdone writing defillama/protocol_token_tvl_breakdown_v1 to LOCAL\u001b[0m \u001b[36mfilename\u001b[0m=\u001b[35mwritehelper.py\u001b[0m \u001b[36mlineno\u001b[0m=\u001b[35m131\u001b[0m \u001b[36mprocess\u001b[0m=\u001b[35m16034\u001b[0m \u001b[36mroot\u001b[0m=\u001b[35mdefillama/protocol_token_tvl_breakdown_v1\u001b[0m\n",
      "\u001b[2m2025-01-24 06:35:46\u001b[0m [\u001b[32m\u001b[1minfo     \u001b[0m] \u001b[1mdone writing 101.9Krows 1.7MB \u001b[0m \u001b[36mfilename\u001b[0m=\u001b[35mgcs_parquet.py\u001b[0m \u001b[36mlineno\u001b[0m=\u001b[35m57\u001b[0m \u001b[36mmaxrss\u001b[0m=\u001b[35m1251459072\u001b[0m \u001b[36mpath\u001b[0m=\u001b[35m/Users/pedro/github/ethereum-optimism/op-analytics-alt/ozone/warehouse/defillama/protocol_token_tvl_breakdown_v1/dt=2025-01-21/out.parquet\u001b[0m \u001b[36mprocess\u001b[0m=\u001b[35m16034\u001b[0m \u001b[36mroot\u001b[0m=\u001b[35mdefillama/protocol_token_tvl_breakdown_v1\u001b[0m \u001b[36mrows\u001b[0m=\u001b[35m101853\u001b[0m \u001b[36msize\u001b[0m=\u001b[35m1657887\u001b[0m\n",
      "\u001b[2m2025-01-24 06:35:46\u001b[0m [\u001b[32m\u001b[1minfo     \u001b[0m] \u001b[1mmemory usage                  \u001b[0m \u001b[36mfilename\u001b[0m=\u001b[35mgcs_parquet.py\u001b[0m \u001b[36mlineno\u001b[0m=\u001b[35m65\u001b[0m \u001b[36mmax_rss\u001b[0m=\u001b[35m1251.46\u001b[0m \u001b[36mprocess\u001b[0m=\u001b[35m16034\u001b[0m \u001b[36mroot\u001b[0m=\u001b[35mdefillama/protocol_token_tvl_breakdown_v1\u001b[0m\n",
      "\u001b[2m2025-01-24 06:35:46\u001b[0m [\u001b[32m\u001b[1mdebug    \u001b[0m] \u001b[1mdone writing defillama/protocol_token_tvl_breakdown_v1 to LOCAL\u001b[0m \u001b[36mfilename\u001b[0m=\u001b[35mwritehelper.py\u001b[0m \u001b[36mlineno\u001b[0m=\u001b[35m131\u001b[0m \u001b[36mprocess\u001b[0m=\u001b[35m16034\u001b[0m \u001b[36mroot\u001b[0m=\u001b[35mdefillama/protocol_token_tvl_breakdown_v1\u001b[0m\n",
      "\u001b[2m2025-01-24 06:35:46\u001b[0m [\u001b[32m\u001b[1minfo     \u001b[0m] \u001b[1mdone writing 101.3Krows 1.7MB \u001b[0m \u001b[36mfilename\u001b[0m=\u001b[35mgcs_parquet.py\u001b[0m \u001b[36mlineno\u001b[0m=\u001b[35m57\u001b[0m \u001b[36mmaxrss\u001b[0m=\u001b[35m1251459072\u001b[0m \u001b[36mpath\u001b[0m=\u001b[35m/Users/pedro/github/ethereum-optimism/op-analytics-alt/ozone/warehouse/defillama/protocol_token_tvl_breakdown_v1/dt=2025-01-22/out.parquet\u001b[0m \u001b[36mprocess\u001b[0m=\u001b[35m16034\u001b[0m \u001b[36mroot\u001b[0m=\u001b[35mdefillama/protocol_token_tvl_breakdown_v1\u001b[0m \u001b[36mrows\u001b[0m=\u001b[35m101343\u001b[0m \u001b[36msize\u001b[0m=\u001b[35m1653157\u001b[0m\n",
      "\u001b[2m2025-01-24 06:35:46\u001b[0m [\u001b[32m\u001b[1minfo     \u001b[0m] \u001b[1mmemory usage                  \u001b[0m \u001b[36mfilename\u001b[0m=\u001b[35mgcs_parquet.py\u001b[0m \u001b[36mlineno\u001b[0m=\u001b[35m65\u001b[0m \u001b[36mmax_rss\u001b[0m=\u001b[35m1251.46\u001b[0m \u001b[36mprocess\u001b[0m=\u001b[35m16034\u001b[0m \u001b[36mroot\u001b[0m=\u001b[35mdefillama/protocol_token_tvl_breakdown_v1\u001b[0m\n",
      "\u001b[2m2025-01-24 06:35:46\u001b[0m [\u001b[32m\u001b[1mdebug    \u001b[0m] \u001b[1mdone writing defillama/protocol_token_tvl_breakdown_v1 to LOCAL\u001b[0m \u001b[36mfilename\u001b[0m=\u001b[35mwritehelper.py\u001b[0m \u001b[36mlineno\u001b[0m=\u001b[35m131\u001b[0m \u001b[36mprocess\u001b[0m=\u001b[35m16034\u001b[0m \u001b[36mroot\u001b[0m=\u001b[35mdefillama/protocol_token_tvl_breakdown_v1\u001b[0m\n",
      "\u001b[2m2025-01-24 06:35:46\u001b[0m [\u001b[32m\u001b[1minfo     \u001b[0m] \u001b[1mdone writing 98.6Krows 1.6MB  \u001b[0m \u001b[36mfilename\u001b[0m=\u001b[35mgcs_parquet.py\u001b[0m \u001b[36mlineno\u001b[0m=\u001b[35m57\u001b[0m \u001b[36mmaxrss\u001b[0m=\u001b[35m1251459072\u001b[0m \u001b[36mpath\u001b[0m=\u001b[35m/Users/pedro/github/ethereum-optimism/op-analytics-alt/ozone/warehouse/defillama/protocol_token_tvl_breakdown_v1/dt=2025-01-23/out.parquet\u001b[0m \u001b[36mprocess\u001b[0m=\u001b[35m16034\u001b[0m \u001b[36mroot\u001b[0m=\u001b[35mdefillama/protocol_token_tvl_breakdown_v1\u001b[0m \u001b[36mrows\u001b[0m=\u001b[35m98552\u001b[0m \u001b[36msize\u001b[0m=\u001b[35m1603172\u001b[0m\n",
      "\u001b[2m2025-01-24 06:35:46\u001b[0m [\u001b[32m\u001b[1minfo     \u001b[0m] \u001b[1mmemory usage                  \u001b[0m \u001b[36mfilename\u001b[0m=\u001b[35mgcs_parquet.py\u001b[0m \u001b[36mlineno\u001b[0m=\u001b[35m65\u001b[0m \u001b[36mmax_rss\u001b[0m=\u001b[35m1251.46\u001b[0m \u001b[36mprocess\u001b[0m=\u001b[35m16034\u001b[0m \u001b[36mroot\u001b[0m=\u001b[35mdefillama/protocol_token_tvl_breakdown_v1\u001b[0m\n",
      "\u001b[2m2025-01-24 06:35:46\u001b[0m [\u001b[32m\u001b[1mdebug    \u001b[0m] \u001b[1mdone writing defillama/protocol_token_tvl_breakdown_v1 to LOCAL\u001b[0m \u001b[36mfilename\u001b[0m=\u001b[35mwritehelper.py\u001b[0m \u001b[36mlineno\u001b[0m=\u001b[35m131\u001b[0m \u001b[36mprocess\u001b[0m=\u001b[35m16034\u001b[0m \u001b[36mroot\u001b[0m=\u001b[35mdefillama/protocol_token_tvl_breakdown_v1\u001b[0m\n"
     ]
    }
   ],
   "source": [
    "from op_analytics.coreutils.partitioned.location import DataLocation\n",
    "from op_analytics.datasources.defillama.dataaccess import DefiLlama\n",
    "\n",
    "DefiLlama.PROTOCOL_TOKEN_TVL_BREAKDOWN.write(\n",
    "    dataframe=data.df_tvl_breakdown,\n",
    "    sort_by=[\"chain\", \"protocol_slug\", \"token\"],\n",
    ")"
   ]
  },
  {
   "cell_type": "code",
   "execution_count": 4,
   "metadata": {},
   "outputs": [
    {
     "name": "stdout",
     "output_type": "stream",
     "text": [
      "\u001b[2m2025-01-24 06:36:27\u001b[0m [\u001b[32m\u001b[1minfo     \u001b[0m] \u001b[1mReading data from 'defillama/protocol_token_tvl_breakdown_v1' with filters min_date=2024-01-15, max_date=2024-01-18, date_range_spec=None\u001b[0m \u001b[36mfilename\u001b[0m=\u001b[35mdailydata.py\u001b[0m \u001b[36mlineno\u001b[0m=\u001b[35m188\u001b[0m \u001b[36mprocess\u001b[0m=\u001b[35m16034\u001b[0m\n",
      "\u001b[2m2025-01-24 06:36:27\u001b[0m [\u001b[32m\u001b[1minfo     \u001b[0m] \u001b[1mquerying markers for 'defillama/protocol_token_tvl_breakdown_v1' DateFilter(min_date=datetime.date(2024, 1, 15), max_date=datetime.date(2024, 1, 18), datevals=None)\u001b[0m \u001b[36mfilename\u001b[0m=\u001b[35mdailydata.py\u001b[0m \u001b[36mlineno\u001b[0m=\u001b[35m105\u001b[0m \u001b[36mprocess\u001b[0m=\u001b[35m16034\u001b[0m\n",
      "\u001b[2m2025-01-24 06:36:27\u001b[0m [\u001b[32m\u001b[1minfo     \u001b[0m] \u001b[1m6 markers found               \u001b[0m \u001b[36mfilename\u001b[0m=\u001b[35mdailydata.py\u001b[0m \u001b[36mlineno\u001b[0m=\u001b[35m119\u001b[0m \u001b[36mmax_dt\u001b[0m=\u001b[35m2024-01-17\u001b[0m \u001b[36mmin_dt\u001b[0m=\u001b[35m2024-01-15\u001b[0m \u001b[36mprocess\u001b[0m=\u001b[35m16034\u001b[0m\n",
      "\u001b[2m2025-01-24 06:36:27\u001b[0m [\u001b[32m\u001b[1minfo     \u001b[0m] \u001b[1m3 distinct paths              \u001b[0m \u001b[36mfilename\u001b[0m=\u001b[35mdailydata.py\u001b[0m \u001b[36mlineno\u001b[0m=\u001b[35m129\u001b[0m \u001b[36mprocess\u001b[0m=\u001b[35m16034\u001b[0m\n",
      "\u001b[2m2025-01-24 06:36:28\u001b[0m [\u001b[32m\u001b[1minfo     \u001b[0m] \u001b[1mregistered view: 'defillama_protocol_token_tvl_breakdown_v1' using 3 parquet paths\u001b[0m \u001b[36mfilename\u001b[0m=\u001b[35mclient.py\u001b[0m \u001b[36mlineno\u001b[0m=\u001b[35m291\u001b[0m \u001b[36mprocess\u001b[0m=\u001b[35m16034\u001b[0m\n",
      "┌───────────────────────────────────────────┐\n",
      "│                   name                    │\n",
      "│                  varchar                  │\n",
      "├───────────────────────────────────────────┤\n",
      "│ defillama_protocol_token_tvl_breakdown_v1 │\n",
      "│ defillama_protocols_metadata_v1           │\n",
      "│ defillama_protocols_token_tvl_v1          │\n",
      "└───────────────────────────────────────────┘\n",
      "\n"
     ]
    },
    {
     "data": {
      "text/plain": [
       "'defillama_protocol_token_tvl_breakdown_v1'"
      ]
     },
     "execution_count": 4,
     "metadata": {},
     "output_type": "execute_result"
    }
   ],
   "source": [
    "df = DefiLlama.PROTOCOL_TOKEN_TVL_BREAKDOWN.read(min_date=\"2024-01-15\", max_date=\"2024-01-18\")\n",
    "df"
   ]
  },
  {
   "cell_type": "code",
   "execution_count": null,
   "metadata": {},
   "outputs": [],
   "source": [
    "import os\n",
    "from unittest.mock import patch\n",
    "\n",
    "from op_analytics.coreutils.partitioned import dailydata\n",
    "from op_analytics.coreutils.partitioned.location import DataLocation\n",
    "from op_analytics.datasources.defillama.dataaccess import DefiLlama\n",
    "\n",
    "\n",
    "\n",
    "def mock_location():\n",
    "    return DataLocation.GCS\n",
    "\n",
    "os.environ[\"ALLOW_WRITE\"] = \"true\"\n",
    "\n",
    "with patch.object(dailydata, \"determine_location\", mock_location):\n",
    "\n",
    "    # WARNING: Uncomment below to write to PROD.\n",
    "    \n",
    "    # DefiLlama.PROTOCOL_TOKEN_TVL_BREAKDOWN.write(\n",
    "    #     dataframe=data.df_tvl_breakdown,\n",
    "    #     sort_by=[\"chain\", \"protocol_slug\", \"token\"],\n",
    "    # )"
   ]
  }
 ],
 "metadata": {
  "kernelspec": {
   "display_name": ".venv",
   "language": "python",
   "name": "python3"
  },
  "language_info": {
   "codemirror_mode": {
    "name": "ipython",
    "version": 3
   },
   "file_extension": ".py",
   "mimetype": "text/x-python",
   "name": "python",
   "nbconvert_exporter": "python",
   "pygments_lexer": "ipython3",
   "version": "3.12.6"
  }
 },
 "nbformat": 4,
 "nbformat_minor": 2
}
