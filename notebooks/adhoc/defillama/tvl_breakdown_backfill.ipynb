{
 "cells": [
  {
   "cell_type": "code",
   "execution_count": 1,
   "metadata": {},
   "outputs": [
    {
     "name": "stdout",
     "output_type": "stream",
     "text": [
      "\u001b[2m2025-01-15 17:31:12\u001b[0m [\u001b[32m\u001b[1minfo     \u001b[0m] \u001b[1minitialized duckdb at /var/folders/tz/g2vwn0qx5ll32j7jfsshhps40000gn/T/wcljk76x/op-analytics.duck.db\u001b[0m \u001b[36mfilename\u001b[0m=\u001b[35mclient.py\u001b[0m \u001b[36mlineno\u001b[0m=\u001b[35m94\u001b[0m \u001b[36mprocess\u001b[0m=\u001b[35m50397\u001b[0m\n",
      "\u001b[2m2025-01-15 17:31:12\u001b[0m [\u001b[32m\u001b[1minfo     \u001b[0m] \u001b[1mloaded vault from .env file   \u001b[0m \u001b[36mfilename\u001b[0m=\u001b[35mvault.py\u001b[0m \u001b[36mlineno\u001b[0m=\u001b[35m32\u001b[0m \u001b[36mprocess\u001b[0m=\u001b[35m50397\u001b[0m\n",
      "\u001b[2m2025-01-15 17:31:12\u001b[0m [\u001b[32m\u001b[1mdebug    \u001b[0m] \u001b[1mloaded vault: 18 items        \u001b[0m \u001b[36mfilename\u001b[0m=\u001b[35mvault.py\u001b[0m \u001b[36mlineno\u001b[0m=\u001b[35m79\u001b[0m \u001b[36mprocess\u001b[0m=\u001b[35m50397\u001b[0m\n",
      "\u001b[2m2025-01-15 17:31:12\u001b[0m [\u001b[32m\u001b[1minfo     \u001b[0m] \u001b[1mReading data from 'defillama/protocols_metadata_v1' with filters min_date=2025-01-13, max_date=2025-01-14, date_range_spec=None\u001b[0m \u001b[36mfilename\u001b[0m=\u001b[35mdailydata.py\u001b[0m \u001b[36mlineno\u001b[0m=\u001b[35m188\u001b[0m \u001b[36mprocess\u001b[0m=\u001b[35m50397\u001b[0m\n",
      "\u001b[2m2025-01-15 17:31:12\u001b[0m [\u001b[32m\u001b[1minfo     \u001b[0m] \u001b[1mquerying markers for 'defillama/protocols_metadata_v1' DateFilter(min_date=datetime.date(2025, 1, 13), max_date=datetime.date(2025, 1, 14), datevals=None)\u001b[0m \u001b[36mfilename\u001b[0m=\u001b[35mdailydata.py\u001b[0m \u001b[36mlineno\u001b[0m=\u001b[35m105\u001b[0m \u001b[36mprocess\u001b[0m=\u001b[35m50397\u001b[0m\n",
      "\u001b[2m2025-01-15 17:31:12\u001b[0m [\u001b[32m\u001b[1mdebug    \u001b[0m] \u001b[1mconnecting to OPLABS Clickhouse client...\u001b[0m \u001b[36mfilename\u001b[0m=\u001b[35mclient.py\u001b[0m \u001b[36mlineno\u001b[0m=\u001b[35m36\u001b[0m \u001b[36mprocess\u001b[0m=\u001b[35m50397\u001b[0m\n",
      "\u001b[2m2025-01-15 17:31:13\u001b[0m [\u001b[32m\u001b[1mdebug    \u001b[0m] \u001b[1minitialized OPLABS Clickhouse client.\u001b[0m \u001b[36mfilename\u001b[0m=\u001b[35mclient.py\u001b[0m \u001b[36mlineno\u001b[0m=\u001b[35m41\u001b[0m \u001b[36mprocess\u001b[0m=\u001b[35m50397\u001b[0m\n",
      "\u001b[2m2025-01-15 17:31:13\u001b[0m [\u001b[32m\u001b[1minfo     \u001b[0m] \u001b[1m1 markers found               \u001b[0m \u001b[36mfilename\u001b[0m=\u001b[35mdailydata.py\u001b[0m \u001b[36mlineno\u001b[0m=\u001b[35m119\u001b[0m \u001b[36mmax_dt\u001b[0m=\u001b[35m2025-01-13\u001b[0m \u001b[36mmin_dt\u001b[0m=\u001b[35m2025-01-13\u001b[0m \u001b[36mprocess\u001b[0m=\u001b[35m50397\u001b[0m\n",
      "\u001b[2m2025-01-15 17:31:13\u001b[0m [\u001b[32m\u001b[1minfo     \u001b[0m] \u001b[1m1 distinct paths              \u001b[0m \u001b[36mfilename\u001b[0m=\u001b[35mdailydata.py\u001b[0m \u001b[36mlineno\u001b[0m=\u001b[35m129\u001b[0m \u001b[36mprocess\u001b[0m=\u001b[35m50397\u001b[0m\n",
      "\u001b[2m2025-01-15 17:31:14\u001b[0m [\u001b[32m\u001b[1minfo     \u001b[0m] \u001b[1mregistered view: 'defillama_protocols_metadata_v1' using 1 parquet paths\u001b[0m \u001b[36mfilename\u001b[0m=\u001b[35mclient.py\u001b[0m \u001b[36mlineno\u001b[0m=\u001b[35m273\u001b[0m \u001b[36mprocess\u001b[0m=\u001b[35m50397\u001b[0m\n",
      "┌─────────────────────────────────┐\n",
      "│              name               │\n",
      "│             varchar             │\n",
      "├─────────────────────────────────┤\n",
      "│ defillama_protocols_metadata_v1 │\n",
      "└─────────────────────────────────┘\n",
      "\n",
      "\u001b[2m2025-01-15 17:31:14\u001b[0m [\u001b[32m\u001b[1minfo     \u001b[0m] \u001b[1mReading data from 'defillama/protocols_token_tvl_v1' with filters min_date=2025-01-04, max_date=2025-01-14, date_range_spec=None\u001b[0m \u001b[36mfilename\u001b[0m=\u001b[35mdailydata.py\u001b[0m \u001b[36mlineno\u001b[0m=\u001b[35m188\u001b[0m \u001b[36mprocess\u001b[0m=\u001b[35m50397\u001b[0m\n",
      "\u001b[2m2025-01-15 17:31:14\u001b[0m [\u001b[32m\u001b[1minfo     \u001b[0m] \u001b[1mquerying markers for 'defillama/protocols_token_tvl_v1' DateFilter(min_date=datetime.date(2025, 1, 4), max_date=datetime.date(2025, 1, 14), datevals=None)\u001b[0m \u001b[36mfilename\u001b[0m=\u001b[35mdailydata.py\u001b[0m \u001b[36mlineno\u001b[0m=\u001b[35m105\u001b[0m \u001b[36mprocess\u001b[0m=\u001b[35m50397\u001b[0m\n",
      "\u001b[2m2025-01-15 17:31:14\u001b[0m [\u001b[32m\u001b[1minfo     \u001b[0m] \u001b[1m72 markers found              \u001b[0m \u001b[36mfilename\u001b[0m=\u001b[35mdailydata.py\u001b[0m \u001b[36mlineno\u001b[0m=\u001b[35m119\u001b[0m \u001b[36mmax_dt\u001b[0m=\u001b[35m2025-01-13\u001b[0m \u001b[36mmin_dt\u001b[0m=\u001b[35m2025-01-04\u001b[0m \u001b[36mprocess\u001b[0m=\u001b[35m50397\u001b[0m\n",
      "\u001b[2m2025-01-15 17:31:14\u001b[0m [\u001b[32m\u001b[1minfo     \u001b[0m] \u001b[1m10 distinct paths             \u001b[0m \u001b[36mfilename\u001b[0m=\u001b[35mdailydata.py\u001b[0m \u001b[36mlineno\u001b[0m=\u001b[35m129\u001b[0m \u001b[36mprocess\u001b[0m=\u001b[35m50397\u001b[0m\n",
      "\u001b[2m2025-01-15 17:31:15\u001b[0m [\u001b[32m\u001b[1minfo     \u001b[0m] \u001b[1mregistered view: 'defillama_protocols_token_tvl_v1' using 10 parquet paths\u001b[0m \u001b[36mfilename\u001b[0m=\u001b[35mclient.py\u001b[0m \u001b[36mlineno\u001b[0m=\u001b[35m273\u001b[0m \u001b[36mprocess\u001b[0m=\u001b[35m50397\u001b[0m\n",
      "┌──────────────────────────────────┐\n",
      "│               name               │\n",
      "│             varchar              │\n",
      "├──────────────────────────────────┤\n",
      "│ defillama_protocols_metadata_v1  │\n",
      "│ defillama_protocols_token_tvl_v1 │\n",
      "└──────────────────────────────────┘\n",
      "\n"
     ]
    }
   ],
   "source": [
    "from op_analytics.datasources.defillama.tvl_breakdown_enrichment import DefillamaTVLBreakdown\n",
    "\n",
    "\n",
    "data = DefillamaTVLBreakdown.of_date(current_dt=\"2025-01-14\", lookback_days=10)"
   ]
  },
  {
   "cell_type": "code",
   "execution_count": 2,
   "metadata": {},
   "outputs": [
    {
     "data": {
      "text/html": [
       "<div><style>\n",
       ".dataframe > thead > tr,\n",
       ".dataframe > tbody > tr {\n",
       "  text-align: right;\n",
       "  white-space: pre-wrap;\n",
       "}\n",
       "</style>\n",
       "<small>shape: (988_720, 12)</small><table border=\"1\" class=\"dataframe\"><thead><tr><th>dt</th><th>protocol_slug</th><th>chain</th><th>token</th><th>app_token_tvl</th><th>app_token_tvl_usd</th><th>protocol_name</th><th>protocol_category</th><th>parent_protocol</th><th>misrepresented_tokens</th><th>is_protocol_misrepresented</th><th>to_filter_out</th></tr><tr><td>datetime[μs]</td><td>str</td><td>str</td><td>str</td><td>f64</td><td>f64</td><td>str</td><td>str</td><td>str</td><td>i32</td><td>i32</td><td>bool</td></tr></thead><tbody><tr><td>2025-01-12&nbsp;00:00:00</td><td>&quot;xdai-stake-bridge&quot;</td><td>&quot;Ethereum&quot;</td><td>&quot;STETH&quot;</td><td>10.24059</td><td>33587.20313</td><td>&quot;xDAI&nbsp;Stake&nbsp;Bridge&quot;</td><td>&quot;Chain&quot;</td><td>&quot;xdai-stake-bridge&quot;</td><td>0</td><td>0</td><td>true</td></tr><tr><td>2025-01-09&nbsp;00:00:00</td><td>&quot;nimbora-yield&quot;</td><td>&quot;Starknet&quot;</td><td>&quot;DAI&quot;</td><td>813917.27442</td><td>813854.60279</td><td>&quot;Nimbora&nbsp;Yield&quot;</td><td>&quot;Yield&quot;</td><td>&quot;nimbora&quot;</td><td>0</td><td>0</td><td>false</td></tr><tr><td>2025-01-06&nbsp;00:00:00</td><td>&quot;fringe-v1&quot;</td><td>&quot;Ethereum&quot;</td><td>&quot;LINK&quot;</td><td>103.0</td><td>2400.93</td><td>&quot;Fringe&nbsp;V1&quot;</td><td>&quot;Lending&quot;</td><td>&quot;fringe-finance&quot;</td><td>0</td><td>0</td><td>false</td></tr><tr><td>2025-01-06&nbsp;00:00:00</td><td>&quot;defibox&quot;</td><td>&quot;Binance&quot;</td><td>&quot;USDT&quot;</td><td>2951.11855</td><td>2954.06967</td><td>&quot;DefiBox&quot;</td><td>&quot;Dexes&quot;</td><td>&quot;defibox&quot;</td><td>1</td><td>0</td><td>false</td></tr><tr><td>2025-01-11&nbsp;00:00:00</td><td>&quot;koala-defi&quot;</td><td>&quot;staking&quot;</td><td>&quot;BUSD&quot;</td><td>1720.34773</td><td>1729.31784</td><td>&quot;Koala&nbsp;Defi&quot;</td><td>&quot;Farm&quot;</td><td>&quot;koala-defi&quot;</td><td>1</td><td>0</td><td>true</td></tr><tr><td>&hellip;</td><td>&hellip;</td><td>&hellip;</td><td>&hellip;</td><td>&hellip;</td><td>&hellip;</td><td>&hellip;</td><td>&hellip;</td><td>&hellip;</td><td>&hellip;</td><td>&hellip;</td><td>&hellip;</td></tr><tr><td>2025-01-04&nbsp;00:00:00</td><td>&quot;sturdy-v2&quot;</td><td>&quot;Ethereum&quot;</td><td>&quot;SWETH&quot;</td><td>0.00008</td><td>0.30314</td><td>&quot;Sturdy&nbsp;V2&quot;</td><td>&quot;Lending&quot;</td><td>&quot;sturdy&quot;</td><td>0</td><td>0</td><td>false</td></tr><tr><td>2025-01-06&nbsp;00:00:00</td><td>&quot;arbitrum-bridge&quot;</td><td>&quot;Ethereum&quot;</td><td>&quot;SDEX&quot;</td><td>12722.7741</td><td>203.69645</td><td>&quot;Arbitrum&nbsp;Bridge&quot;</td><td>&quot;Chain&quot;</td><td>&quot;arbitrum-bridge&quot;</td><td>0</td><td>0</td><td>true</td></tr><tr><td>2025-01-11&nbsp;00:00:00</td><td>&quot;aave-v3&quot;</td><td>&quot;Ethereum-borrowed&quot;</td><td>&quot;OSETH&quot;</td><td>184.95263</td><td>626652.13342</td><td>&quot;AAVE&nbsp;V3&quot;</td><td>&quot;Lending&quot;</td><td>&quot;aave&quot;</td><td>0</td><td>0</td><td>true</td></tr><tr><td>2025-01-12&nbsp;00:00:00</td><td>&quot;arbitrum-bridge&quot;</td><td>&quot;Ethereum&quot;</td><td>&quot;PAXG&quot;</td><td>27.90212</td><td>75222.99411</td><td>&quot;Arbitrum&nbsp;Bridge&quot;</td><td>&quot;Chain&quot;</td><td>&quot;arbitrum-bridge&quot;</td><td>0</td><td>0</td><td>true</td></tr><tr><td>2025-01-06&nbsp;00:00:00</td><td>&quot;orca&quot;</td><td>&quot;Solana&quot;</td><td>&quot;BULLY&quot;</td><td>2.8344e6</td><td>207911.81708</td><td>&quot;Orca&quot;</td><td>&quot;Dexes&quot;</td><td>&quot;orca&quot;</td><td>0</td><td>0</td><td>false</td></tr></tbody></table></div>"
      ],
      "text/plain": [
       "shape: (988_720, 12)\n",
       "┌────────────┬────────────┬────────────┬───────┬───┬───────────┬───────────┬───────────┬───────────┐\n",
       "│ dt         ┆ protocol_s ┆ chain      ┆ token ┆ … ┆ parent_pr ┆ misrepres ┆ is_protoc ┆ to_filter │\n",
       "│ ---        ┆ lug        ┆ ---        ┆ ---   ┆   ┆ otocol    ┆ ented_tok ┆ ol_misrep ┆ _out      │\n",
       "│ datetime[μ ┆ ---        ┆ str        ┆ str   ┆   ┆ ---       ┆ ens       ┆ resented  ┆ ---       │\n",
       "│ s]         ┆ str        ┆            ┆       ┆   ┆ str       ┆ ---       ┆ ---       ┆ bool      │\n",
       "│            ┆            ┆            ┆       ┆   ┆           ┆ i32       ┆ i32       ┆           │\n",
       "╞════════════╪════════════╪════════════╪═══════╪═══╪═══════════╪═══════════╪═══════════╪═══════════╡\n",
       "│ 2025-01-12 ┆ xdai-stake ┆ Ethereum   ┆ STETH ┆ … ┆ xdai-stak ┆ 0         ┆ 0         ┆ true      │\n",
       "│ 00:00:00   ┆ -bridge    ┆            ┆       ┆   ┆ e-bridge  ┆           ┆           ┆           │\n",
       "│ 2025-01-09 ┆ nimbora-yi ┆ Starknet   ┆ DAI   ┆ … ┆ nimbora   ┆ 0         ┆ 0         ┆ false     │\n",
       "│ 00:00:00   ┆ eld        ┆            ┆       ┆   ┆           ┆           ┆           ┆           │\n",
       "│ 2025-01-06 ┆ fringe-v1  ┆ Ethereum   ┆ LINK  ┆ … ┆ fringe-fi ┆ 0         ┆ 0         ┆ false     │\n",
       "│ 00:00:00   ┆            ┆            ┆       ┆   ┆ nance     ┆           ┆           ┆           │\n",
       "│ 2025-01-06 ┆ defibox    ┆ Binance    ┆ USDT  ┆ … ┆ defibox   ┆ 1         ┆ 0         ┆ false     │\n",
       "│ 00:00:00   ┆            ┆            ┆       ┆   ┆           ┆           ┆           ┆           │\n",
       "│ 2025-01-11 ┆ koala-defi ┆ staking    ┆ BUSD  ┆ … ┆ koala-def ┆ 1         ┆ 0         ┆ true      │\n",
       "│ 00:00:00   ┆            ┆            ┆       ┆   ┆ i         ┆           ┆           ┆           │\n",
       "│ …          ┆ …          ┆ …          ┆ …     ┆ … ┆ …         ┆ …         ┆ …         ┆ …         │\n",
       "│ 2025-01-04 ┆ sturdy-v2  ┆ Ethereum   ┆ SWETH ┆ … ┆ sturdy    ┆ 0         ┆ 0         ┆ false     │\n",
       "│ 00:00:00   ┆            ┆            ┆       ┆   ┆           ┆           ┆           ┆           │\n",
       "│ 2025-01-06 ┆ arbitrum-b ┆ Ethereum   ┆ SDEX  ┆ … ┆ arbitrum- ┆ 0         ┆ 0         ┆ true      │\n",
       "│ 00:00:00   ┆ ridge      ┆            ┆       ┆   ┆ bridge    ┆           ┆           ┆           │\n",
       "│ 2025-01-11 ┆ aave-v3    ┆ Ethereum-b ┆ OSETH ┆ … ┆ aave      ┆ 0         ┆ 0         ┆ true      │\n",
       "│ 00:00:00   ┆            ┆ orrowed    ┆       ┆   ┆           ┆           ┆           ┆           │\n",
       "│ 2025-01-12 ┆ arbitrum-b ┆ Ethereum   ┆ PAXG  ┆ … ┆ arbitrum- ┆ 0         ┆ 0         ┆ true      │\n",
       "│ 00:00:00   ┆ ridge      ┆            ┆       ┆   ┆ bridge    ┆           ┆           ┆           │\n",
       "│ 2025-01-06 ┆ orca       ┆ Solana     ┆ BULLY ┆ … ┆ orca      ┆ 0         ┆ 0         ┆ false     │\n",
       "│ 00:00:00   ┆            ┆            ┆       ┆   ┆           ┆           ┆           ┆           │\n",
       "└────────────┴────────────┴────────────┴───────┴───┴───────────┴───────────┴───────────┴───────────┘"
      ]
     },
     "execution_count": 2,
     "metadata": {},
     "output_type": "execute_result"
    }
   ],
   "source": [
    "data.df_tvl_breakdown"
   ]
  },
  {
   "cell_type": "code",
   "execution_count": null,
   "metadata": {},
   "outputs": [],
   "source": [
    "import os\n",
    "from unittest.mock import patch\n",
    "\n",
    "from op_analytics.coreutils.partitioned import dailydata\n",
    "from op_analytics.coreutils.partitioned.location import DataLocation\n",
    "from op_analytics.datasources.defillama.dataaccess import DefiLlama\n",
    "\n",
    "\n",
    "\n",
    "def mock_location():\n",
    "    return DataLocation.GCS\n",
    "\n",
    "os.environ[\"ALLOW_WRITE\"] = \"true\"\n",
    "\n",
    "with patch.object(dailydata, \"determine_location\", mock_location):\n",
    "\n",
    "    # WARNING: Uncomment below to write to PROD.\n",
    "    \n",
    "    # DefiLlama.PROTOCOL_TOKEN_TVL_BREAKDOWN.write(\n",
    "    #     dataframe=data.df_tvl_breakdown,\n",
    "    #     sort_by=[\"chain\", \"protocol_slug\", \"token\"],\n",
    "    # )"
   ]
  }
 ],
 "metadata": {
  "kernelspec": {
   "display_name": ".venv",
   "language": "python",
   "name": "python3"
  },
  "language_info": {
   "codemirror_mode": {
    "name": "ipython",
    "version": 3
   },
   "file_extension": ".py",
   "mimetype": "text/x-python",
   "name": "python",
   "nbconvert_exporter": "python",
   "pygments_lexer": "ipython3",
   "version": "3.12.6"
  }
 },
 "nbformat": 4,
 "nbformat_minor": 2
}
