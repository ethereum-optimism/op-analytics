{
 "cells": [
  {
   "cell_type": "code",
   "execution_count": null,
   "metadata": {},
   "outputs": [],
   "source": [
    "from datetime import date\n",
    "from op_analytics.datasources.defillama.yieldpools.execute import execute_pull\n",
    "\n",
    "\n",
    "result = execute_pull(\n",
    "    process_dt=date(2025, 2, 18)\n",
    ")"
   ]
  },
  {
   "cell_type": "code",
   "execution_count": null,
   "metadata": {},
   "outputs": [],
   "source": [
    "# Test: Fetch data for a single yield pool.\n",
    "\n",
    "from op_analytics.datasources.defillama.yieldpools.metadata import YieldPoolsMetadata\n",
    "from op_analytics.datasources.defillama.yieldpools.yieldpool import YieldPool\n",
    "\n",
    "\n",
    "from datetime import date\n",
    "\n",
    "from op_analytics.coreutils.request import new_session\n",
    "\n",
    "session = new_session()\n",
    "meta = YieldPoolsMetadata.fetch(session, process_dt=date(2025, 2, 20))\n",
    "\n",
    "pool_id = list(meta.indexed.keys())[0]\n",
    "print(f\"{pool_id=}\")\n",
    "\n",
    "pool = YieldPool.fetch(session, pool_id=pool_id, pool_metadata=meta)\n",
    "pool.df"
   ]
  },
  {
   "cell_type": "code",
   "execution_count": null,
   "metadata": {},
   "outputs": [],
   "source": []
  }
 ],
 "metadata": {
  "kernelspec": {
   "display_name": ".venv",
   "language": "python",
   "name": "python3"
  },
  "language_info": {
   "codemirror_mode": {
    "name": "ipython",
    "version": 3
   },
   "file_extension": ".py",
   "mimetype": "text/x-python",
   "name": "python",
   "nbconvert_exporter": "python",
   "pygments_lexer": "ipython3",
   "version": "3.12.6"
  }
 },
 "nbformat": 4,
 "nbformat_minor": 2
}
