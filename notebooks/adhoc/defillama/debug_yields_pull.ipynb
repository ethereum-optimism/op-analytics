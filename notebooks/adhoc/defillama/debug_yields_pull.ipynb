{
 "cells": [
  {
   "cell_type": "code",
   "execution_count": null,
   "metadata": {},
   "outputs": [],
   "source": [
    "from datetime import date\n",
    "from op_analytics.datasources.defillama.yieldpools.execute import execute_pull\n",
    "\n",
    "\n",
    "result = execute_pull(\n",
    "    process_dt=date(2025, 2, 18)\n",
    ")"
   ]
  },
  {
   "cell_type": "code",
   "execution_count": 2,
   "metadata": {},
   "outputs": [
    {
     "name": "stdout",
     "output_type": "stream",
     "text": [
      "\u001b[2m2025-02-20 12:28:13\u001b[0m [\u001b[32m\u001b[1minfo     \u001b[0m] \u001b[1mfetched yield pools metadata from defillama\u001b[0m \u001b[36mfilename\u001b[0m=\u001b[35mmetadata.py\u001b[0m \u001b[36mlineno\u001b[0m=\u001b[35m39\u001b[0m \u001b[36mprocess\u001b[0m=\u001b[35m32018\u001b[0m\n",
      "pool_id='747c1d2a-c668-4682-b9f9-296708a3dd90'\n"
     ]
    },
    {
     "data": {
      "text/html": [
       "<div><style>\n",
       ".dataframe > thead > tr,\n",
       ".dataframe > tbody > tr {\n",
       "  text-align: right;\n",
       "  white-space: pre-wrap;\n",
       "}\n",
       "</style>\n",
       "<small>shape: (998, 15)</small><table border=\"1\" class=\"dataframe\"><thead><tr><th>dt</th><th>pool</th><th>protocol_slug</th><th>chain</th><th>symbol</th><th>underlying_tokens</th><th>reward_tokens</th><th>il_risk</th><th>is_stablecoin</th><th>exposure</th><th>pool_meta</th><th>tvl_usd</th><th>apy</th><th>apy_base</th><th>apy_reward</th></tr><tr><td>str</td><td>str</td><td>str</td><td>str</td><td>str</td><td>list[str]</td><td>list[str]</td><td>str</td><td>bool</td><td>str</td><td>str</td><td>f64</td><td>f64</td><td>f64</td><td>f64</td></tr></thead><tbody><tr><td>&quot;2022-05-03&quot;</td><td>&quot;747c1d2a-c668-4682-b9f9-296708…</td><td>&quot;lido&quot;</td><td>&quot;Ethereum&quot;</td><td>&quot;STETH&quot;</td><td>[&quot;0x0000000000000000000000000000000000000000&quot;]</td><td>null</td><td>&quot;no&quot;</td><td>false</td><td>&quot;single&quot;</td><td>&quot;main_pool&quot;</td><td>1.1074e10</td><td>3.6</td><td>3.6</td><td>0.0</td></tr><tr><td>&quot;2022-05-04&quot;</td><td>&quot;747c1d2a-c668-4682-b9f9-296708…</td><td>&quot;lido&quot;</td><td>&quot;Ethereum&quot;</td><td>&quot;STETH&quot;</td><td>[&quot;0x0000000000000000000000000000000000000000&quot;]</td><td>null</td><td>&quot;no&quot;</td><td>false</td><td>&quot;single&quot;</td><td>&quot;main_pool&quot;</td><td>1.1745e10</td><td>3.6</td><td>3.6</td><td>0.0</td></tr><tr><td>&quot;2022-05-05&quot;</td><td>&quot;747c1d2a-c668-4682-b9f9-296708…</td><td>&quot;lido&quot;</td><td>&quot;Ethereum&quot;</td><td>&quot;STETH&quot;</td><td>[&quot;0x0000000000000000000000000000000000000000&quot;]</td><td>null</td><td>&quot;no&quot;</td><td>false</td><td>&quot;single&quot;</td><td>&quot;main_pool&quot;</td><td>1.1008e10</td><td>3.6</td><td>3.6</td><td>0.0</td></tr><tr><td>&quot;2022-05-06&quot;</td><td>&quot;747c1d2a-c668-4682-b9f9-296708…</td><td>&quot;lido&quot;</td><td>&quot;Ethereum&quot;</td><td>&quot;STETH&quot;</td><td>[&quot;0x0000000000000000000000000000000000000000&quot;]</td><td>null</td><td>&quot;no&quot;</td><td>false</td><td>&quot;single&quot;</td><td>&quot;main_pool&quot;</td><td>1.0974e10</td><td>3.5</td><td>3.5</td><td>0.0</td></tr><tr><td>&quot;2022-05-07&quot;</td><td>&quot;747c1d2a-c668-4682-b9f9-296708…</td><td>&quot;lido&quot;</td><td>&quot;Ethereum&quot;</td><td>&quot;STETH&quot;</td><td>[&quot;0x0000000000000000000000000000000000000000&quot;]</td><td>null</td><td>&quot;no&quot;</td><td>false</td><td>&quot;single&quot;</td><td>&quot;main_pool&quot;</td><td>1.0737e10</td><td>3.5</td><td>3.5</td><td>0.0</td></tr><tr><td>&hellip;</td><td>&hellip;</td><td>&hellip;</td><td>&hellip;</td><td>&hellip;</td><td>&hellip;</td><td>&hellip;</td><td>&hellip;</td><td>&hellip;</td><td>&hellip;</td><td>&hellip;</td><td>&hellip;</td><td>&hellip;</td><td>&hellip;</td><td>&hellip;</td></tr><tr><td>&quot;2025-02-16&quot;</td><td>&quot;747c1d2a-c668-4682-b9f9-296708…</td><td>&quot;lido&quot;</td><td>&quot;Ethereum&quot;</td><td>&quot;STETH&quot;</td><td>[&quot;0x0000000000000000000000000000000000000000&quot;]</td><td>null</td><td>&quot;no&quot;</td><td>false</td><td>&quot;single&quot;</td><td>&quot;main_pool&quot;</td><td>2.5119e10</td><td>2.65</td><td>2.65</td><td>0.0</td></tr><tr><td>&quot;2025-02-17&quot;</td><td>&quot;747c1d2a-c668-4682-b9f9-296708…</td><td>&quot;lido&quot;</td><td>&quot;Ethereum&quot;</td><td>&quot;STETH&quot;</td><td>[&quot;0x0000000000000000000000000000000000000000&quot;]</td><td>null</td><td>&quot;no&quot;</td><td>false</td><td>&quot;single&quot;</td><td>&quot;main_pool&quot;</td><td>2.5832e10</td><td>2.765</td><td>2.765</td><td>0.0</td></tr><tr><td>&quot;2025-02-18&quot;</td><td>&quot;747c1d2a-c668-4682-b9f9-296708…</td><td>&quot;lido&quot;</td><td>&quot;Ethereum&quot;</td><td>&quot;STETH&quot;</td><td>[&quot;0x0000000000000000000000000000000000000000&quot;]</td><td>null</td><td>&quot;no&quot;</td><td>false</td><td>&quot;single&quot;</td><td>&quot;main_pool&quot;</td><td>2.5052e10</td><td>2.944</td><td>2.944</td><td>0.0</td></tr><tr><td>&quot;2025-02-19&quot;</td><td>&quot;747c1d2a-c668-4682-b9f9-296708…</td><td>&quot;lido&quot;</td><td>&quot;Ethereum&quot;</td><td>&quot;STETH&quot;</td><td>[&quot;0x0000000000000000000000000000000000000000&quot;]</td><td>null</td><td>&quot;no&quot;</td><td>false</td><td>&quot;single&quot;</td><td>&quot;main_pool&quot;</td><td>2.5502e10</td><td>2.785</td><td>2.785</td><td>0.0</td></tr><tr><td>&quot;2025-02-20&quot;</td><td>&quot;747c1d2a-c668-4682-b9f9-296708…</td><td>&quot;lido&quot;</td><td>&quot;Ethereum&quot;</td><td>&quot;STETH&quot;</td><td>[&quot;0x0000000000000000000000000000000000000000&quot;]</td><td>null</td><td>&quot;no&quot;</td><td>false</td><td>&quot;single&quot;</td><td>&quot;main_pool&quot;</td><td>2.5567e10</td><td>2.722</td><td>2.722</td><td>0.0</td></tr></tbody></table></div>"
      ],
      "text/plain": [
       "shape: (998, 15)\n",
       "┌────────────┬─────────────┬────────────┬──────────┬───┬───────────┬───────┬──────────┬────────────┐\n",
       "│ dt         ┆ pool        ┆ protocol_s ┆ chain    ┆ … ┆ tvl_usd   ┆ apy   ┆ apy_base ┆ apy_reward │\n",
       "│ ---        ┆ ---         ┆ lug        ┆ ---      ┆   ┆ ---       ┆ ---   ┆ ---      ┆ ---        │\n",
       "│ str        ┆ str         ┆ ---        ┆ str      ┆   ┆ f64       ┆ f64   ┆ f64      ┆ f64        │\n",
       "│            ┆             ┆ str        ┆          ┆   ┆           ┆       ┆          ┆            │\n",
       "╞════════════╪═════════════╪════════════╪══════════╪═══╪═══════════╪═══════╪══════════╪════════════╡\n",
       "│ 2022-05-03 ┆ 747c1d2a-c6 ┆ lido       ┆ Ethereum ┆ … ┆ 1.1074e10 ┆ 3.6   ┆ 3.6      ┆ 0.0        │\n",
       "│            ┆ 68-4682-b9f ┆            ┆          ┆   ┆           ┆       ┆          ┆            │\n",
       "│            ┆ 9-296708…   ┆            ┆          ┆   ┆           ┆       ┆          ┆            │\n",
       "│ 2022-05-04 ┆ 747c1d2a-c6 ┆ lido       ┆ Ethereum ┆ … ┆ 1.1745e10 ┆ 3.6   ┆ 3.6      ┆ 0.0        │\n",
       "│            ┆ 68-4682-b9f ┆            ┆          ┆   ┆           ┆       ┆          ┆            │\n",
       "│            ┆ 9-296708…   ┆            ┆          ┆   ┆           ┆       ┆          ┆            │\n",
       "│ 2022-05-05 ┆ 747c1d2a-c6 ┆ lido       ┆ Ethereum ┆ … ┆ 1.1008e10 ┆ 3.6   ┆ 3.6      ┆ 0.0        │\n",
       "│            ┆ 68-4682-b9f ┆            ┆          ┆   ┆           ┆       ┆          ┆            │\n",
       "│            ┆ 9-296708…   ┆            ┆          ┆   ┆           ┆       ┆          ┆            │\n",
       "│ 2022-05-06 ┆ 747c1d2a-c6 ┆ lido       ┆ Ethereum ┆ … ┆ 1.0974e10 ┆ 3.5   ┆ 3.5      ┆ 0.0        │\n",
       "│            ┆ 68-4682-b9f ┆            ┆          ┆   ┆           ┆       ┆          ┆            │\n",
       "│            ┆ 9-296708…   ┆            ┆          ┆   ┆           ┆       ┆          ┆            │\n",
       "│ 2022-05-07 ┆ 747c1d2a-c6 ┆ lido       ┆ Ethereum ┆ … ┆ 1.0737e10 ┆ 3.5   ┆ 3.5      ┆ 0.0        │\n",
       "│            ┆ 68-4682-b9f ┆            ┆          ┆   ┆           ┆       ┆          ┆            │\n",
       "│            ┆ 9-296708…   ┆            ┆          ┆   ┆           ┆       ┆          ┆            │\n",
       "│ …          ┆ …           ┆ …          ┆ …        ┆ … ┆ …         ┆ …     ┆ …        ┆ …          │\n",
       "│ 2025-02-16 ┆ 747c1d2a-c6 ┆ lido       ┆ Ethereum ┆ … ┆ 2.5119e10 ┆ 2.65  ┆ 2.65     ┆ 0.0        │\n",
       "│            ┆ 68-4682-b9f ┆            ┆          ┆   ┆           ┆       ┆          ┆            │\n",
       "│            ┆ 9-296708…   ┆            ┆          ┆   ┆           ┆       ┆          ┆            │\n",
       "│ 2025-02-17 ┆ 747c1d2a-c6 ┆ lido       ┆ Ethereum ┆ … ┆ 2.5832e10 ┆ 2.765 ┆ 2.765    ┆ 0.0        │\n",
       "│            ┆ 68-4682-b9f ┆            ┆          ┆   ┆           ┆       ┆          ┆            │\n",
       "│            ┆ 9-296708…   ┆            ┆          ┆   ┆           ┆       ┆          ┆            │\n",
       "│ 2025-02-18 ┆ 747c1d2a-c6 ┆ lido       ┆ Ethereum ┆ … ┆ 2.5052e10 ┆ 2.944 ┆ 2.944    ┆ 0.0        │\n",
       "│            ┆ 68-4682-b9f ┆            ┆          ┆   ┆           ┆       ┆          ┆            │\n",
       "│            ┆ 9-296708…   ┆            ┆          ┆   ┆           ┆       ┆          ┆            │\n",
       "│ 2025-02-19 ┆ 747c1d2a-c6 ┆ lido       ┆ Ethereum ┆ … ┆ 2.5502e10 ┆ 2.785 ┆ 2.785    ┆ 0.0        │\n",
       "│            ┆ 68-4682-b9f ┆            ┆          ┆   ┆           ┆       ┆          ┆            │\n",
       "│            ┆ 9-296708…   ┆            ┆          ┆   ┆           ┆       ┆          ┆            │\n",
       "│ 2025-02-20 ┆ 747c1d2a-c6 ┆ lido       ┆ Ethereum ┆ … ┆ 2.5567e10 ┆ 2.722 ┆ 2.722    ┆ 0.0        │\n",
       "│            ┆ 68-4682-b9f ┆            ┆          ┆   ┆           ┆       ┆          ┆            │\n",
       "│            ┆ 9-296708…   ┆            ┆          ┆   ┆           ┆       ┆          ┆            │\n",
       "└────────────┴─────────────┴────────────┴──────────┴───┴───────────┴───────┴──────────┴────────────┘"
      ]
     },
     "execution_count": 2,
     "metadata": {},
     "output_type": "execute_result"
    }
   ],
   "source": [
    "# Test: Fetch data for a single yield pool.\n",
    "\n",
    "from op_analytics.datasources.defillama.yieldpools.metadata import YieldPoolsMetadata\n",
    "from op_analytics.datasources.defillama.yieldpools.yieldpool import YieldPool\n",
    "\n",
    "\n",
    "from datetime import date\n",
    "\n",
    "from op_analytics.coreutils.request import new_session\n",
    "\n",
    "session = new_session()\n",
    "meta = YieldPoolsMetadata.fetch(session, process_dt=date(2025, 2, 20))\n",
    "\n",
    "pool_id = list(meta.indexed.keys())[0]\n",
    "print(f\"{pool_id=}\")\n",
    "\n",
    "pool = YieldPool.fetch(session, pool_id=pool_id, pools_metadata=meta)\n",
    "pool.df"
   ]
  },
  {
   "cell_type": "code",
   "execution_count": null,
   "metadata": {},
   "outputs": [],
   "source": []
  }
 ],
 "metadata": {
  "kernelspec": {
   "display_name": ".venv",
   "language": "python",
   "name": "python3"
  },
  "language_info": {
   "codemirror_mode": {
    "name": "ipython",
    "version": 3
   },
   "file_extension": ".py",
   "mimetype": "text/x-python",
   "name": "python",
   "nbconvert_exporter": "python",
   "pygments_lexer": "ipython3",
   "version": "3.12.6"
  }
 },
 "nbformat": 4,
 "nbformat_minor": 2
}
