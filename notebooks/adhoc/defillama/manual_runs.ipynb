{
 "cells": [
  {
   "cell_type": "markdown",
   "metadata": {},
   "source": [
    "# Notebook to run DefiLLama from laptop\n",
    "\n",
    "The cells here are set up to run the same code that is executed on the dagster scheduler.\n",
    "\n",
    "Ideally we should always run things from dagster. Manual runs can be triggered from the\n",
    "dagster UI using the \"Materialize Asset\" button.\n",
    "\n",
    "However, sometimes dagster fails and we need to run manually. For example if the resources\n",
    "on the dagster pods are not enough (running out of memory) then we can use manual runs\n",
    "from our laptop as an emergency measure."
   ]
  },
  {
   "cell_type": "code",
   "execution_count": 1,
   "metadata": {},
   "outputs": [],
   "source": [
    "from op_analytics.coreutils.partitioned.dailydatawrite import write_to_prod"
   ]
  },
  {
   "cell_type": "code",
   "execution_count": null,
   "metadata": {},
   "outputs": [],
   "source": [
    "# Protocols TVL\n",
    "\n",
    "with write_to_prod():\n",
    "    from op_analytics.datasources.defillama.protocolstvl import execute\n",
    "    result = execute.execute_pull()\n"
   ]
  },
  {
   "cell_type": "code",
   "execution_count": null,
   "metadata": {},
   "outputs": [],
   "source": [
    "# Stablecoins\n",
    "\n",
    "with write_to_prod():\n",
    "    from op_analytics.datasources.defillama import stablecoins\n",
    "    result = stablecoins.execute_pull()"
   ]
  },
  {
   "cell_type": "code",
   "execution_count": null,
   "metadata": {},
   "outputs": [],
   "source": [
    "# TVL Breakdown \n",
    "\n",
    "with write_to_prod():\n",
    "    from op_analytics.datasources.defillama import tvl_breakdown_enrichment\n",
    "    result = tvl_breakdown_enrichment.execute_pull()\n",
    "    print(result)"
   ]
  }
 ],
 "metadata": {
  "kernelspec": {
   "display_name": ".venv",
   "language": "python",
   "name": "python3"
  },
  "language_info": {
   "codemirror_mode": {
    "name": "ipython",
    "version": 3
   },
   "file_extension": ".py",
   "mimetype": "text/x-python",
   "name": "python",
   "nbconvert_exporter": "python",
   "pygments_lexer": "ipython3",
   "version": "3.12.6"
  }
 },
 "nbformat": 4,
 "nbformat_minor": 2
}
