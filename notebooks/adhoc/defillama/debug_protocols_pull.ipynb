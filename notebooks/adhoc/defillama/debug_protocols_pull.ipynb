{
 "cells": [
  {
   "cell_type": "code",
   "execution_count": null,
   "metadata": {},
   "outputs": [],
   "source": [
    "# Test: run the full thing.\n",
    "\n",
    "from datetime import date\n",
    "from op_analytics.datasources.defillama.protocolstvl.execute import execute_pull\n",
    "\n",
    "\n",
    "execute_pull(\n",
    "    process_dt=date(2025, 2, 19),\n",
    ")"
   ]
  },
  {
   "cell_type": "code",
   "execution_count": null,
   "metadata": {},
   "outputs": [],
   "source": [
    "# Test: copying data from clickhouse to GCS.\n",
    "\n",
    "from datetime import date\n",
    "from op_analytics.datasources.defillama.protocolstvl.utils import copy_to_gcs\n",
    "\n",
    "\n",
    "# It had taken ~60s to write the data in one go using partitioned writes from clickhouse.\n",
    "# It takes almost twice as long to do it dt by dt. Which is safer so not that bad.\n",
    "\n",
    "copy_to_gcs(\n",
    "    process_dt=date(2025, 2, 18),\n",
    "    last_n_days=360,\n",
    ")"
   ]
  },
  {
   "cell_type": "code",
   "execution_count": null,
   "metadata": {},
   "outputs": [],
   "source": [
    "# Test: Fetch data from DefiLlama for a single protocol.\n",
    "\n",
    "from op_analytics.coreutils.request import new_session\n",
    "from op_analytics.datasources.defillama.protocolstvl.protocol import ProtocolTVL\n",
    "\n",
    "\n",
    "data = ProtocolTVL.fetch(new_session(), slug=\"wagyuswap\")"
   ]
  }
 ],
 "metadata": {
  "kernelspec": {
   "display_name": ".venv",
   "language": "python",
   "name": "python3"
  },
  "language_info": {
   "codemirror_mode": {
    "name": "ipython",
    "version": 3
   },
   "file_extension": ".py",
   "mimetype": "text/x-python",
   "name": "python",
   "nbconvert_exporter": "python",
   "pygments_lexer": "ipython3",
   "version": "3.12.6"
  }
 },
 "nbformat": 4,
 "nbformat_minor": 4
}
