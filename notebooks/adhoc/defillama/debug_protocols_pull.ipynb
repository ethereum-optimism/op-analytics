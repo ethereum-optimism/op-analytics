{
 "cells": [
  {
   "cell_type": "code",
   "execution_count": null,
   "metadata": {},
   "outputs": [],
   "source": [
    "# Test: run the full thing.\n",
    "\n",
    "from datetime import date\n",
    "from op_analytics.datasources.defillama.protocolstvl.execute import execute_pull\n",
    "\n",
    "execute_pull(\n",
    "    process_dt=None, # date(2025, 2, 19),\n",
    ")"
   ]
  },
  {
   "cell_type": "code",
   "execution_count": null,
   "metadata": {},
   "outputs": [],
   "source": [
    "# Test: copying data from clickhouse to GCS.\n",
    "\n",
    "from datetime import date\n",
    "from op_analytics.datasources.defillama.protocolstvl.fetch import copy_to_gcs\n",
    "\n",
    "\n",
    "# It had taken ~60s to write the data in one go using partitioned writes from clickhouse.\n",
    "# It takes almost twice as long to do it dt by dt. Which is safer so not that bad.\n",
    "\n",
    "copy_to_gcs(\n",
    "    process_dt=date(2025, 2, 18),\n",
    "    last_n_days=360,\n",
    ")"
   ]
  },
  {
   "cell_type": "code",
   "execution_count": 1,
   "metadata": {},
   "outputs": [
    {
     "name": "stdout",
     "output_type": "stream",
     "text": [
      "\u001b[2m2025-03-06 21:57:28\u001b[0m [\u001b[32m\u001b[1minfo     \u001b[0m] \u001b[1mFetched from https://api.llama.fi/protocol/wagyuswap: 0.53 seconds\u001b[0m \u001b[36mfilename\u001b[0m=\u001b[35mrequest.py\u001b[0m \u001b[36mlineno\u001b[0m=\u001b[35m96\u001b[0m \u001b[36mprocess\u001b[0m=\u001b[35m53088\u001b[0m\n"
     ]
    }
   ],
   "source": [
    "# Test: Fetch data from DefiLlama for a single protocol.\n",
    "\n",
    "from op_analytics.datasources.defillama.protocolstvl.protocol import ProtocolTVL\n",
    "\n",
    "data = ProtocolTVL.fetch(slug=\"wagyuswap\")"
   ]
  },
  {
   "cell_type": "code",
   "execution_count": 2,
   "metadata": {},
   "outputs": [
    {
     "data": {
      "text/plain": [
       "ProtocolTVL(tvl_df=shape: (1_184, 4)\n",
       "┌───────────────┬───────┬────────────┬───────────────┐\n",
       "│ protocol_slug ┆ chain ┆ dt         ┆ total_app_tvl │\n",
       "│ ---           ┆ ---   ┆ ---        ┆ ---           │\n",
       "│ str           ┆ str   ┆ str        ┆ f64           │\n",
       "╞═══════════════╪═══════╪════════════╪═══════════════╡\n",
       "│ wagyuswap     ┆ Velas ┆ 2021-12-10 ┆ 3.3350e7      │\n",
       "│ wagyuswap     ┆ Velas ┆ 2021-12-11 ┆ 3.2715e7      │\n",
       "│ wagyuswap     ┆ Velas ┆ 2021-12-12 ┆ 3.2907e7      │\n",
       "│ wagyuswap     ┆ Velas ┆ 2021-12-13 ┆ 3.3911e7      │\n",
       "│ wagyuswap     ┆ Velas ┆ 2021-12-14 ┆ 3.0232e7      │\n",
       "│ …             ┆ …     ┆ …          ┆ …             │\n",
       "│ wagyuswap     ┆ Velas ┆ 2025-03-03 ┆ 479887.61801  │\n",
       "│ wagyuswap     ┆ Velas ┆ 2025-03-04 ┆ 472785.91298  │\n",
       "│ wagyuswap     ┆ Velas ┆ 2025-03-05 ┆ 470494.2034   │\n",
       "│ wagyuswap     ┆ Velas ┆ 2025-03-06 ┆ 468780.17676  │\n",
       "│ wagyuswap     ┆ Velas ┆ 2025-03-07 ┆ 468633.46587  │\n",
       "└───────────────┴───────┴────────────┴───────────────┘, token_tvl_df=shape: (15_482, 6)\n",
       "┌───────────────┬───────┬────────────┬────────┬───────────────┬───────────────────┐\n",
       "│ protocol_slug ┆ chain ┆ dt         ┆ token  ┆ app_token_tvl ┆ app_token_tvl_usd │\n",
       "│ ---           ┆ ---   ┆ ---        ┆ ---    ┆ ---           ┆ ---               │\n",
       "│ str           ┆ str   ┆ str        ┆ str    ┆ f64           ┆ f64               │\n",
       "╞═══════════════╪═══════╪════════════╪════════╪═══════════════╪═══════════════════╡\n",
       "│ wagyuswap     ┆ Velas ┆ 2022-08-27 ┆ MATIC  ┆ 80318.13111   ┆ 64613.68757       │\n",
       "│ wagyuswap     ┆ Velas ┆ 2022-08-27 ┆ BAMBOO ┆ 56643.63978   ┆ 1207.04028        │\n",
       "│ wagyuswap     ┆ Velas ┆ 2022-08-27 ┆ WVLX   ┆ 5.3043e7      ┆ 2.2233e6          │\n",
       "│ wagyuswap     ┆ Velas ┆ 2022-08-27 ┆ SCAR   ┆ 4.2480e7      ┆ 70342.09469       │\n",
       "│ wagyuswap     ┆ Velas ┆ 2022-08-27 ┆ USDT   ┆ 215058.05863  ┆ 215488.17475      │\n",
       "│ …             ┆ …     ┆ …          ┆ …      ┆ …             ┆ …                 │\n",
       "│ wagyuswap     ┆ Velas ┆ 2025-03-07 ┆ VLXPAD ┆ 1.2039e6      ┆ 2824.57366        │\n",
       "│ wagyuswap     ┆ Velas ┆ 2025-03-07 ┆ DAI    ┆ 3.5143        ┆ 3.50794           │\n",
       "│ wagyuswap     ┆ Velas ┆ 2025-03-07 ┆ AVAX   ┆ 382.89139     ┆ 7745.89278        │\n",
       "│ wagyuswap     ┆ Velas ┆ 2025-03-07 ┆ QMALL  ┆ 174729.29637  ┆ 1688.14884        │\n",
       "│ wagyuswap     ┆ Velas ┆ 2025-03-07 ┆ PLSPAD ┆ 3.4673e6      ┆ 1192.72251        │\n",
       "└───────────────┴───────┴────────────┴────────┴───────────────┴───────────────────┘)"
      ]
     },
     "execution_count": 2,
     "metadata": {},
     "output_type": "execute_result"
    }
   ],
   "source": [
    "data"
   ]
  },
  {
   "cell_type": "code",
   "execution_count": null,
   "metadata": {},
   "outputs": [],
   "source": []
  }
 ],
 "metadata": {
  "kernelspec": {
   "display_name": ".venv",
   "language": "python",
   "name": "python3"
  },
  "language_info": {
   "codemirror_mode": {
    "name": "ipython",
    "version": 3
   },
   "file_extension": ".py",
   "mimetype": "text/x-python",
   "name": "python",
   "nbconvert_exporter": "python",
   "pygments_lexer": "ipython3",
   "version": "3.12.6"
  }
 },
 "nbformat": 4,
 "nbformat_minor": 4
}
