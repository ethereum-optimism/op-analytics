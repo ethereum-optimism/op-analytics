{
 "cells": [
  {
   "cell_type": "code",
   "execution_count": null,
   "metadata": {},
   "outputs": [],
   "source": [
    "# Test: run the full thing.\n",
    "\n",
    "from datetime import date\n",
    "from op_analytics.datasources.defillama.protocolstvl.execute import execute_pull\n",
    "from op_analytics.coreutils.partitioned.dailydatawrite import write_to_prod\n",
    "\n",
    "with write_to_prod():\n",
    "    execute_pull(\n",
    "        process_dt=None, # date(2025, 2, 19),\n",
    "    )"
   ]
  },
  {
   "cell_type": "code",
   "execution_count": null,
   "metadata": {},
   "outputs": [],
   "source": [
    "# Test: copying data from clickhouse to GCS.\n",
    "\n",
    "from datetime import date\n",
    "from op_analytics.datasources.defillama.protocolstvl.copy import copy_to_gcs\n",
    "\n",
    "\n",
    "# It had taken ~60s to write the data in one go using partitioned writes from clickhouse.\n",
    "# It takes almost twice as long to do it dt by dt. Which is safer so not that bad.\n",
    "\n",
    "copy_to_gcs(\n",
    "    process_dt=date(2025, 2, 18),\n",
    "    last_n_days=360,\n",
    ")"
   ]
  },
  {
   "cell_type": "code",
   "execution_count": null,
   "metadata": {},
   "outputs": [],
   "source": [
    "# Test: Fetch data from DefiLlama for a single protocol.\n",
    "\n",
    "from op_analytics.datasources.defillama.protocolstvl.protocol import ProtocolTVL\n",
    "\n",
    "data = ProtocolTVL.fetch(slug=\"wagyuswap\")"
   ]
  },
  {
   "cell_type": "code",
   "execution_count": null,
   "metadata": {},
   "outputs": [],
   "source": [
    "data"
   ]
  },
  {
   "cell_type": "code",
   "execution_count": null,
   "metadata": {},
   "outputs": [],
   "source": []
  }
 ],
 "metadata": {
  "kernelspec": {
   "display_name": ".venv",
   "language": "python",
   "name": "python3"
  },
  "language_info": {
   "codemirror_mode": {
    "name": "ipython",
    "version": 3
   },
   "file_extension": ".py",
   "mimetype": "text/x-python",
   "name": "python",
   "nbconvert_exporter": "python",
   "pygments_lexer": "ipython3",
   "version": "3.12.6"
  }
 },
 "nbformat": 4,
 "nbformat_minor": 4
}
