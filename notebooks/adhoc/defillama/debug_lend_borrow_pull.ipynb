{
 "cells": [
  {
   "cell_type": "code",
   "execution_count": null,
   "metadata": {},
   "outputs": [],
   "source": [
    "from datetime import date\n",
    "from op_analytics.datasources.defillama.lendborrowpools.execute import execute_pull\n",
    "\n",
    "\n",
    "result = execute_pull(\n",
    "    process_dt=date(2025, 2, 25)\n",
    ")"
   ]
  },
  {
   "cell_type": "code",
   "execution_count": null,
   "metadata": {},
   "outputs": [],
   "source": [
    "# Test: Fetch data for a single pool.\n",
    "\n",
    "from op_analytics.datasources.defillama.lendborrowpools.metadata import LendBorrowPoolsMetadata\n",
    "from op_analytics.datasources.defillama.lendborrowpools.lendborrowpool import LendBorrowPool\n",
    "\n",
    "\n",
    "from datetime import date\n",
    "\n",
    "from op_analytics.coreutils.request import new_session\n",
    "\n",
    "session = new_session()\n",
    "meta = LendBorrowPoolsMetadata.fetch(process_dt=date(2025, 2, 20), session=session)\n",
    "\n",
    "pool_id = list(meta.indexed.keys())[0]\n",
    "print(f\"{pool_id=}\")\n",
    "\n",
    "pool = LendBorrowPool.fetch(pool_id=pool_id, metadata=meta, session=session)\n",
    "pool.df"
   ]
  }
 ],
 "metadata": {
  "kernelspec": {
   "display_name": ".venv",
   "language": "python",
   "name": "python3"
  },
  "language_info": {
   "codemirror_mode": {
    "name": "ipython",
    "version": 3
   },
   "file_extension": ".py",
   "mimetype": "text/x-python",
   "name": "python",
   "nbconvert_exporter": "python",
   "pygments_lexer": "ipython3",
   "version": "3.12.6"
  }
 },
 "nbformat": 4,
 "nbformat_minor": 2
}
