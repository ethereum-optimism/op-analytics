{
 "cells": [
  {
   "cell_type": "code",
   "execution_count": 2,
   "id": "8256023c",
   "metadata": {},
   "outputs": [
    {
     "name": "stdout",
     "output_type": "stream",
     "text": [
      "/Users/chuck/codebase/op-analytics/.venv/bin/python: No module named pip\n",
      "Note: you may need to restart the kernel to use updated packages.\n"
     ]
    }
   ],
   "source": [
    "%pip install pyautogui"
   ]
  },
  {
   "cell_type": "code",
   "execution_count": null,
   "id": "5c6b052d",
   "metadata": {},
   "outputs": [],
   "source": [
    "import pyautogui\n",
    "import time\n",
    "\n",
    "def keep_screen_awake():\n",
    "    try:\n",
    "        print(\"Press Ctrl+C to stop the script.\")\n",
    "        while True:\n",
    "            # Get the current mouse position\n",
    "            x, y = pyautogui.position()\n",
    "            \n",
    "            # Move the mouse a little bit (to the right by 1 pixel)\n",
    "            pyautogui.moveTo(x + 1, y, duration=0.2)\n",
    "            # Then move it back to the original position\n",
    "            pyautogui.moveTo(x, y, duration=0.2)\n",
    "            print(\"Moving mouse\")\n",
    "            # Wait for 5 minutes (300 seconds)\n",
    "            time.sleep(300)\n",
    "    except KeyboardInterrupt:\n",
    "        print(\"\\nScript stopped by user.\")\n",
    "\n",
    "\n"
   ]
  },
  {
   "cell_type": "code",
   "execution_count": 7,
   "id": "79119f96",
   "metadata": {},
   "outputs": [
    {
     "name": "stdout",
     "output_type": "stream",
     "text": [
      "Press Ctrl+C to stop the script.\n",
      "Moving mouse\n",
      "Moving mouse\n",
      "Moving mouse\n",
      "Moving mouse\n",
      "Moving mouse\n",
      "Moving mouse\n",
      "Moving mouse\n",
      "Moving mouse\n",
      "Moving mouse\n",
      "Moving mouse\n",
      "Moving mouse\n",
      "Moving mouse\n",
      "Moving mouse\n",
      "Moving mouse\n",
      "Moving mouse\n",
      "Moving mouse\n",
      "Moving mouse\n",
      "Moving mouse\n",
      "Moving mouse\n",
      "Moving mouse\n",
      "Moving mouse\n",
      "Moving mouse\n",
      "Moving mouse\n",
      "Moving mouse\n",
      "Moving mouse\n",
      "Moving mouse\n",
      "Moving mouse\n",
      "Moving mouse\n",
      "Moving mouse\n",
      "Moving mouse\n",
      "Moving mouse\n",
      "Moving mouse\n",
      "Moving mouse\n",
      "Moving mouse\n",
      "Moving mouse\n",
      "Moving mouse\n",
      "Moving mouse\n",
      "Moving mouse\n",
      "Moving mouse\n",
      "Moving mouse\n",
      "Moving mouse\n",
      "Moving mouse\n",
      "Moving mouse\n",
      "Moving mouse\n",
      "Moving mouse\n",
      "Moving mouse\n",
      "Moving mouse\n",
      "Moving mouse\n",
      "Moving mouse\n",
      "Moving mouse\n",
      "Moving mouse\n",
      "Moving mouse\n",
      "Moving mouse\n",
      "Moving mouse\n",
      "Moving mouse\n",
      "\n",
      "Script stopped by user.\n"
     ]
    }
   ],
   "source": [
    "keep_screen_awake()"
   ]
  },
  {
   "cell_type": "code",
   "execution_count": null,
   "id": "a9c92b12",
   "metadata": {},
   "outputs": [],
   "source": []
  }
 ],
 "metadata": {
  "kernelspec": {
   "display_name": ".venv",
   "language": "python",
   "name": "python3"
  },
  "language_info": {
   "codemirror_mode": {
    "name": "ipython",
    "version": 3
   },
   "file_extension": ".py",
   "mimetype": "text/x-python",
   "name": "python",
   "nbconvert_exporter": "python",
   "pygments_lexer": "ipython3",
   "version": "3.12.7"
  }
 },
 "nbformat": 4,
 "nbformat_minor": 5
}
