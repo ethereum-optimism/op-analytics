{
 "cells": [
  {
   "cell_type": "markdown",
   "metadata": {},
   "source": [
    "## Define input data"
   ]
  },
  {
   "cell_type": "code",
   "execution_count": 1,
   "metadata": {},
   "outputs": [
    {
     "name": "stdout",
     "output_type": "stream",
     "text": [
      "\u001b[2m2024-11-10 11:52:19\u001b[0m [\u001b[32m\u001b[1minfo     \u001b[0m] \u001b[1mLoaded env var: OP_ANALYTICS_VAULT\u001b[0m\n",
      "\u001b[2m2024-11-10 11:52:20\u001b[0m [\u001b[32m\u001b[1minfo     \u001b[0m] \u001b[1mConnecting to OPLABS Clickhouse client...\u001b[0m\n",
      "\u001b[2m2024-11-10 11:52:20\u001b[0m [\u001b[32m\u001b[1minfo     \u001b[0m] \u001b[1mLoaded 17 items into vault.   \u001b[0m\n",
      "\u001b[2m2024-11-10 11:52:44\u001b[0m [\u001b[32m\u001b[1minfo     \u001b[0m] \u001b[1mInitialized OPLABS Clickhouse client.\u001b[0m\n",
      "\u001b[2m2024-11-10 11:52:45\u001b[0m [\u001b[32m\u001b[1minfo     \u001b[0m] \u001b[1m2024-10-30 data input is ready.\u001b[0m \u001b[36mchain\u001b[0m=\u001b[35mop\u001b[0m \u001b[36mdate\u001b[0m=\u001b[35m2024-10-30\u001b[0m\n",
      "\u001b[2m2024-11-10 11:52:45\u001b[0m [\u001b[32m\u001b[1minfo     \u001b[0m] \u001b[1mPrepared 1 input batches.     \u001b[0m \u001b[36mchain\u001b[0m=\u001b[35mop\u001b[0m \u001b[36mdate\u001b[0m=\u001b[35m2024-10-30\u001b[0m\n"
     ]
    }
   ],
   "source": [
    "from op_coreutils.duckdb_inmem import init_client\n",
    "from op_coreutils.partitioned import DataReader\n",
    "from op_datasets.etl.intermediate.construct import construnct_intermediate_model_batches\n",
    "from op_datasets.etl.intermediate.udfs import create_duckdb_macros\n",
    "\n",
    "\n",
    "\n",
    "# Define the input data range.\n",
    "batches: list[DataReader] = construnct_intermediate_model_batches(\n",
    "    chains=[\"op\"],\n",
    "    range_spec=\"@20241030:+1\",\n",
    ")\n",
    "\n",
    "\n",
    "\n",
    "# Select input for one date\n",
    "batch = batches[0]\n",
    "\n",
    "duckdb_client = init_client()\n",
    "create_duckdb_macros(duckdb_client)"
   ]
  },
  {
   "cell_type": "markdown",
   "metadata": {},
   "source": [
    "## Register the input relation as a view and run a duckdb query on it\n"
   ]
  },
  {
   "cell_type": "code",
   "execution_count": 3,
   "metadata": {},
   "outputs": [
    {
     "data": {
      "text/plain": [
       "┌─────────────────────┬────────────────────┐\n",
       "│ receipt_l1_gas_used │   estimated_size   │\n",
       "│        int64        │       double       │\n",
       "├─────────────────────┼────────────────────┤\n",
       "│                NULL │               NULL │\n",
       "│                1600 │  99.99999999967905 │\n",
       "│                8205 │  512.8503999996193 │\n",
       "│                1600 │  99.99999999967905 │\n",
       "│                1600 │  99.99999999967905 │\n",
       "│                9450 │  590.6448999995525 │\n",
       "│                1600 │  99.99999999967905 │\n",
       "│                1600 │  99.99999999967905 │\n",
       "│                1600 │  99.99999999967905 │\n",
       "│                7737 │ 483.57289999966065 │\n",
       "├─────────────────────┴────────────────────┤\n",
       "│ 10 rows                        2 columns │\n",
       "└──────────────────────────────────────────┘"
      ]
     },
     "execution_count": 3,
     "metadata": {},
     "output_type": "execute_result"
    }
   ],
   "source": [
    "duckdb_client.register(view_name=\"transactions\", python_object=batch.duckdb_relation(\"transactions\"))\n",
    "duckdb_client.sql(\"\"\"\n",
    "\n",
    "SELECT\n",
    "    receipt_l1_gas_used ,\n",
    "    receipt_l1_fee / (\n",
    "        COALESCE(16*micro(receipt_l1_base_fee_scalar), receipt_l1_fee_scalar) * receipt_l1_gas_price + \n",
    "        COALESCE(micro(receipt_l1_blob_base_fee_scalar) * receipt_l1_blob_base_fee, 0)) AS estimated_size\n",
    "FROM transactions\n",
    "LIMIT 10\n",
    "\"\"\")"
   ]
  },
  {
   "cell_type": "code",
   "execution_count": null,
   "metadata": {},
   "outputs": [],
   "source": []
  }
 ],
 "metadata": {
  "kernelspec": {
   "display_name": ".venv",
   "language": "python",
   "name": "python3"
  },
  "language_info": {
   "codemirror_mode": {
    "name": "ipython",
    "version": 3
   },
   "file_extension": ".py",
   "mimetype": "text/x-python",
   "name": "python",
   "nbconvert_exporter": "python",
   "pygments_lexer": "ipython3",
   "version": "3.12.6"
  }
 },
 "nbformat": 4,
 "nbformat_minor": 2
}
