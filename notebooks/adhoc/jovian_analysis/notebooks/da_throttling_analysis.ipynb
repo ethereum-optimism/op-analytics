{
 "cells": [
  {
   "cell_type": "markdown",
   "id": "5b8bb4f3",
   "metadata": {},
   "source": [
    "# DA Throttling Analysis on Base\n",
    "\n",
    "**Context**\n",
    "- Investigate two windows for DA throttling: May 27, 4:14 pm → May 29, 3:29 pm CDT (highlight May 28 ~9:05–9:35 am CDT) and July 31, 5:30–6:30 pm PT.\n",
    "- Sampling: 10% random, seeded for the long CDT window; full fetch for the 1-hour PT window.\n",
    "\n",
    "**Analysis**\n",
    "- Analyze DA throttling events using time-series visualization to understand:\n",
    "  - When throttling starts/ends\n",
    "  - How DA utilization patterns change during throttling\n",
    "  - Base fee patterns\n"
   ]
  },
  {
   "cell_type": "markdown",
   "id": "005da3d0",
   "metadata": {},
   "source": [
    "# Step 1: Imports and Setup"
   ]
  },
  {
   "cell_type": "code",
   "execution_count": 1,
   "id": "edfb4d77",
   "metadata": {},
   "outputs": [],
   "source": [
    "%load_ext autoreload\n",
    "%autoreload 2"
   ]
  },
  {
   "cell_type": "code",
   "execution_count": 2,
   "id": "a5e87f7c",
   "metadata": {},
   "outputs": [
    {
     "name": "stdout",
     "output_type": "stream",
     "text": [
      "✅ Modules loaded successfully\n",
      "✅ Available scalars: [160, 400, 600, 800]\n"
     ]
    }
   ],
   "source": [
    "# Core imports\n",
    "import sys\n",
    "from pathlib import Path\n",
    "import polars as pl\n",
    "from datetime import datetime, timedelta\n",
    "from collections import Counter\n",
    "import matplotlib.pyplot as plt\n",
    "import time\n",
    "import numpy as np\n",
    "\n",
    "# Add parent directory to path\n",
    "sys.path.append(str(Path.cwd().parent))\n",
    "\n",
    "# Import Jovian modules\n",
    "from jovian_src.chain_config import (\n",
    "    get_chain_display_name\n",
    ")\n",
    "from jovian_src.constants import (\n",
    "    DEFAULT_DA_FOOTPRINT_GAS_SCALARS\n",
    ")\n",
    "from jovian_src.clickhouse_fetcher import (\n",
    "    load_gas_limits,\n",
    "    fetch_top_percentile_blocks,\n",
    "    fetch_random_sample_blocks,\n",
    "    get_gas_limit_for_date\n",
    ")\n",
    "from jovian_src.analysis_functions import (\n",
    "    perform_jovian_analysis,\n",
    "    generate_jovian_recommendation\n",
    ")\n",
    "from jovian_src.visualization_jovian import (\n",
    "    generate_all_visualizations,\n",
    "    plot_block_metric_distribution\n",
    ")\n",
    "\n",
    "print(\"✅ Modules loaded successfully\")\n",
    "print(f\"✅ Available scalars: {DEFAULT_DA_FOOTPRINT_GAS_SCALARS}\")"
   ]
  },
  {
   "cell_type": "markdown",
   "id": "552984f3",
   "metadata": {},
   "source": [
    "# Step 2: Configuration"
   ]
  },
  {
   "cell_type": "code",
   "execution_count": null,
   "id": "de90f43d",
   "metadata": {},
   "outputs": [],
   "source": [
    "# ============================================================================\n",
    "# ANALYSIS CONFIGURATION - EDIT THESE PARAMETERS\n",
    "# ============================================================================\n",
    "\n",
    "# Chain selection\n",
    "CHAIN = \"base\"  # Options: base, op\n",
    "\n",
    "# Sampling method\n",
    "SAMPLING_METHOD = \"random\"  # \"top_percentile\" or \"random\"\n",
    "RANDOM_SEED = 42     # For reproducible random sampling\n",
    "SAMPLE_FRACTION = 0.01  # For random sampling (1% = 0.01)\n",
    "\n",
    "# Date range\n",
    "START_DATE = \"2025-05-27\"\n",
    "END_DATE = \"2025-05-29\"  # Inclusive\n",
    "\n",
    "# Analysis parameters\n",
    "DA_FOOTPRINT_GAS_SCALARS = DEFAULT_DA_FOOTPRINT_GAS_SCALARS  # [160, 400, 600, 800]\n",
    "BLOCK_LIMIT = None   # None = all blocks for selected method\n",
    "FORCE_REFRESH = False  # Set True to ignore cache and re-download\n",
    "\n",
    "# Output settings\n",
    "SAVE_RESULTS = True\n",
    "SHOW_PLOTS = True\n",
    "\n",
    "print(\"✅ Configuration loaded:\")\n",
    "print(f\"   Chain: {CHAIN}\")\n",
    "print(f\"   Method: {SAMPLING_METHOD}\")\n",
    "if SAMPLING_METHOD == \"top_percentile\":\n",
    "    print(f\"   Percentile: Top {100-PERCENTILE}%\")\n",
    "else:\n",
    "    print(f\"   Sample: {int(SAMPLE_FRACTION*100)}% random\")\n",
    "print(f\"   Date range: {START_DATE} to {END_DATE}\")"
   ]
  }
 ],
 "metadata": {
  "kernelspec": {
   "display_name": ".venv",
   "language": "python",
   "name": "python3"
  },
  "language_info": {
   "codemirror_mode": {
    "name": "ipython",
    "version": 3
   },
   "file_extension": ".py",
   "mimetype": "text/x-python",
   "name": "python",
   "nbconvert_exporter": "python",
   "pygments_lexer": "ipython3",
   "version": "3.12.3"
  }
 },
 "nbformat": 4,
 "nbformat_minor": 5
}
