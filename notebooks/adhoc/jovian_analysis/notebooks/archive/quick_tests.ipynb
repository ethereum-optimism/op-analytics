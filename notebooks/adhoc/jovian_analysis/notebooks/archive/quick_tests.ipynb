{
 "cells": [
  {
   "cell_type": "code",
   "execution_count": null,
   "id": "bee0b70f",
   "metadata": {},
   "outputs": [],
   "source": [
    "import sys, os\n",
    "# add the repo root (one level up from notebooks/) to sys.path\n",
    "sys.path.append(os.path.abspath(\"..\"))\n",
    "\n",
    "from jovian_src.chain_config import get_gas_limits_path\n",
    "print(get_gas_limits_path(\"base\"))\n",
    "print(get_gas_limits_path(\"op\"))\n",
    "\n"
   ]
  },
  {
   "cell_type": "code",
   "execution_count": null,
   "id": "5d3ff6f8",
   "metadata": {},
   "outputs": [],
   "source": [
    "from jovian_src.clickhouse_fetcher import fetch_top_percentile_blocks\n",
    "\n",
    "# After you fetch df for a single date:\n",
    "df, gas_limit = fetch_top_percentile_blocks(chain=\"base\", date=\"2025-07-15\", percentile=99.0)\n",
    "\n",
    "df.head()"
   ]
  }
 ],
 "metadata": {
  "kernelspec": {
   "display_name": ".venv",
   "language": "python",
   "name": "python3"
  },
  "language_info": {
   "codemirror_mode": {
    "name": "ipython",
    "version": 3
   },
   "file_extension": ".py",
   "mimetype": "text/x-python",
   "name": "python",
   "nbconvert_exporter": "python",
   "pygments_lexer": "ipython3",
   "version": "3.12.3"
  }
 },
 "nbformat": 4,
 "nbformat_minor": 5
}
