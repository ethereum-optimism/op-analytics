{
 "cells": [
  {
   "cell_type": "code",
   "execution_count": 1,
   "id": "bee0b70f",
   "metadata": {},
   "outputs": [
    {
     "name": "stdout",
     "output_type": "stream",
     "text": [
      "/Users/chuxinhuang/work/op-analytics/notebooks/adhoc/jovian_top_percentile_analysis/gas_limits/base_gas_limits.csv\n",
      "/Users/chuxinhuang/work/op-analytics/notebooks/adhoc/jovian_top_percentile_analysis/gas_limits/op_gas_limits.csv\n"
     ]
    }
   ],
   "source": [
    "import sys, os\n",
    "# add the repo root (one level up from notebooks/) to sys.path\n",
    "sys.path.append(os.path.abspath(\"..\"))\n",
    "\n",
    "from jovian_src.chain_config import get_gas_limits_path\n",
    "print(get_gas_limits_path(\"base\"))\n",
    "print(get_gas_limits_path(\"op\"))\n",
    "\n"
   ]
  },
  {
   "cell_type": "code",
   "execution_count": 2,
   "id": "5d3ff6f8",
   "metadata": {},
   "outputs": [
    {
     "name": "stdout",
     "output_type": "stream",
     "text": [
      "\u001b[2m2025-08-25 18:18:54\u001b[0m [\u001b[32m\u001b[1minfo     \u001b[0m] \u001b[1mloaded vault from .env file   \u001b[0m \u001b[36mfilename\u001b[0m=\u001b[35mvault.py\u001b[0m \u001b[36mlineno\u001b[0m=\u001b[35m32\u001b[0m \u001b[36mprocess\u001b[0m=\u001b[35m94480\u001b[0m\n",
      "\u001b[2m2025-08-25 18:18:54\u001b[0m [\u001b[32m\u001b[1mdebug    \u001b[0m] \u001b[1mloaded vault: 28 items        \u001b[0m \u001b[36mfilename\u001b[0m=\u001b[35mvault.py\u001b[0m \u001b[36mlineno\u001b[0m=\u001b[35m79\u001b[0m \u001b[36mprocess\u001b[0m=\u001b[35m94480\u001b[0m\n",
      "\u001b[2m2025-08-25 18:18:54\u001b[0m [\u001b[32m\u001b[1mdebug    \u001b[0m] \u001b[1mconnecting to OPLABS Clickhouse client...\u001b[0m \u001b[36mfilename\u001b[0m=\u001b[35mclient.py\u001b[0m \u001b[36mlineno\u001b[0m=\u001b[35m56\u001b[0m \u001b[36mprocess\u001b[0m=\u001b[35m94480\u001b[0m\n",
      "\u001b[2m2025-08-25 18:18:54\u001b[0m [\u001b[32m\u001b[1mdebug    \u001b[0m] \u001b[1minitialized OPLABS Clickhouse client.\u001b[0m \u001b[36mfilename\u001b[0m=\u001b[35mclient.py\u001b[0m \u001b[36mlineno\u001b[0m=\u001b[35m61\u001b[0m \u001b[36mprocess\u001b[0m=\u001b[35m94480\u001b[0m\n"
     ]
    },
    {
     "data": {
      "text/html": [
       "<div><style>\n",
       ".dataframe > thead > tr,\n",
       ".dataframe > tbody > tr {\n",
       "  text-align: right;\n",
       "  white-space: pre-wrap;\n",
       "}\n",
       "</style>\n",
       "<small>shape: (5, 9)</small><table border=\"1\" class=\"dataframe\"><thead><tr><th>block_number</th><th>transaction_index</th><th>input</th><th>calldata_size</th><th>block_total_calldata</th><th>block_total_gas_used</th><th>gas_limit</th><th>chain</th><th>sampling_method</th></tr><tr><td>i64</td><td>i64</td><td>str</td><td>f64</td><td>f64</td><td>i64</td><td>i32</td><td>str</td><td>str</td></tr></thead><tbody><tr><td>32892630</td><td>0</td><td>&quot;0x098999be000008dd00101c120000…</td><td>176.0</td><td>718117.0</td><td>149981181</td><td>150000000</td><td>&quot;base&quot;</td><td>&quot;top_percentile&quot;</td></tr><tr><td>32892630</td><td>1</td><td>&quot;0x&quot;</td><td>0.0</td><td>718117.0</td><td>149981181</td><td>150000000</td><td>&quot;base&quot;</td><td>&quot;top_percentile&quot;</td></tr><tr><td>32892630</td><td>2</td><td>&quot;0xce1ee58600000000000000000000…</td><td>484.0</td><td>718117.0</td><td>149981181</td><td>150000000</td><td>&quot;base&quot;</td><td>&quot;top_percentile&quot;</td></tr><tr><td>32892630</td><td>3</td><td>&quot;0x1fff991f00000000000000000000…</td><td>1764.0</td><td>718117.0</td><td>149981181</td><td>150000000</td><td>&quot;base&quot;</td><td>&quot;top_percentile&quot;</td></tr><tr><td>32892630</td><td>4</td><td>&quot;0x1fff991f00000000000000000000…</td><td>1764.0</td><td>718117.0</td><td>149981181</td><td>150000000</td><td>&quot;base&quot;</td><td>&quot;top_percentile&quot;</td></tr></tbody></table></div>"
      ],
      "text/plain": [
       "shape: (5, 9)\n",
       "┌────────────┬────────────┬────────────┬───────────┬───┬───────────┬───────────┬───────┬───────────┐\n",
       "│ block_numb ┆ transactio ┆ input      ┆ calldata_ ┆ … ┆ block_tot ┆ gas_limit ┆ chain ┆ sampling_ │\n",
       "│ er         ┆ n_index    ┆ ---        ┆ size      ┆   ┆ al_gas_us ┆ ---       ┆ ---   ┆ method    │\n",
       "│ ---        ┆ ---        ┆ str        ┆ ---       ┆   ┆ ed        ┆ i32       ┆ str   ┆ ---       │\n",
       "│ i64        ┆ i64        ┆            ┆ f64       ┆   ┆ ---       ┆           ┆       ┆ str       │\n",
       "│            ┆            ┆            ┆           ┆   ┆ i64       ┆           ┆       ┆           │\n",
       "╞════════════╪════════════╪════════════╪═══════════╪═══╪═══════════╪═══════════╪═══════╪═══════════╡\n",
       "│ 32892630   ┆ 0          ┆ 0x098999be ┆ 176.0     ┆ … ┆ 149981181 ┆ 150000000 ┆ base  ┆ top_perce │\n",
       "│            ┆            ┆ 000008dd00 ┆           ┆   ┆           ┆           ┆       ┆ ntile     │\n",
       "│            ┆            ┆ 101c120000 ┆           ┆   ┆           ┆           ┆       ┆           │\n",
       "│            ┆            ┆ …          ┆           ┆   ┆           ┆           ┆       ┆           │\n",
       "│ 32892630   ┆ 1          ┆ 0x         ┆ 0.0       ┆ … ┆ 149981181 ┆ 150000000 ┆ base  ┆ top_perce │\n",
       "│            ┆            ┆            ┆           ┆   ┆           ┆           ┆       ┆ ntile     │\n",
       "│ 32892630   ┆ 2          ┆ 0xce1ee586 ┆ 484.0     ┆ … ┆ 149981181 ┆ 150000000 ┆ base  ┆ top_perce │\n",
       "│            ┆            ┆ 0000000000 ┆           ┆   ┆           ┆           ┆       ┆ ntile     │\n",
       "│            ┆            ┆ 0000000000 ┆           ┆   ┆           ┆           ┆       ┆           │\n",
       "│            ┆            ┆ …          ┆           ┆   ┆           ┆           ┆       ┆           │\n",
       "│ 32892630   ┆ 3          ┆ 0x1fff991f ┆ 1764.0    ┆ … ┆ 149981181 ┆ 150000000 ┆ base  ┆ top_perce │\n",
       "│            ┆            ┆ 0000000000 ┆           ┆   ┆           ┆           ┆       ┆ ntile     │\n",
       "│            ┆            ┆ 0000000000 ┆           ┆   ┆           ┆           ┆       ┆           │\n",
       "│            ┆            ┆ …          ┆           ┆   ┆           ┆           ┆       ┆           │\n",
       "│ 32892630   ┆ 4          ┆ 0x1fff991f ┆ 1764.0    ┆ … ┆ 149981181 ┆ 150000000 ┆ base  ┆ top_perce │\n",
       "│            ┆            ┆ 0000000000 ┆           ┆   ┆           ┆           ┆       ┆ ntile     │\n",
       "│            ┆            ┆ 0000000000 ┆           ┆   ┆           ┆           ┆       ┆           │\n",
       "│            ┆            ┆ …          ┆           ┆   ┆           ┆           ┆       ┆           │\n",
       "└────────────┴────────────┴────────────┴───────────┴───┴───────────┴───────────┴───────┴───────────┘"
      ]
     },
     "execution_count": 2,
     "metadata": {},
     "output_type": "execute_result"
    }
   ],
   "source": [
    "from jovian_src.clickhouse_fetcher import fetch_top_percentile_blocks\n",
    "\n",
    "# After you fetch df for a single date:\n",
    "df, gas_limit = fetch_top_percentile_blocks(chain=\"base\", date=\"2025-07-15\", percentile=99.0)\n",
    "\n",
    "df.head()"
   ]
  }
 ],
 "metadata": {
  "kernelspec": {
   "display_name": ".venv",
   "language": "python",
   "name": "python3"
  },
  "language_info": {
   "codemirror_mode": {
    "name": "ipython",
    "version": 3
   },
   "file_extension": ".py",
   "mimetype": "text/x-python",
   "name": "python",
   "nbconvert_exporter": "python",
   "pygments_lexer": "ipython3",
   "version": "3.12.3"
  }
 },
 "nbformat": 4,
 "nbformat_minor": 5
}
