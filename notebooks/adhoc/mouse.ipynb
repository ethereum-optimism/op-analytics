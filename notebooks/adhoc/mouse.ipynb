{
 "cells": [
  {
   "cell_type": "code",
   "execution_count": null,
   "id": "524b3a96-fb31-494e-9067-039b5f3004b8",
   "metadata": {},
   "outputs": [],
   "source": []
  },
  {
   "cell_type": "code",
   "execution_count": 8,
   "id": "cf2b28c3-1aa3-486f-afb2-baa4e3adfd89",
   "metadata": {
    "execution": {
     "iopub.execute_input": "2025-01-27T22:35:07.325185Z",
     "iopub.status.busy": "2025-01-27T22:35:07.324781Z",
     "iopub.status.idle": "2025-01-27T22:35:08.049144Z",
     "shell.execute_reply": "2025-01-27T22:35:08.048285Z",
     "shell.execute_reply.started": "2025-01-27T22:35:07.325160Z"
    }
   },
   "outputs": [
    {
     "name": "stdout",
     "output_type": "stream",
     "text": [
      "\u001b[2mUsing Python 3.12.7 environment at /Users/chuck/codebase/op-analytics/.venv\u001b[0m\n",
      "\u001b[2K\u001b[2mResolved \u001b[1m7 packages\u001b[0m \u001b[2min 454ms\u001b[0m\u001b[0m                                         \u001b[0m\n",
      "\u001b[2K\u001b[2mPrepared \u001b[1m3 packages\u001b[0m \u001b[2min 101ms\u001b[0m\u001b[0m                                             \n",
      "\u001b[2K\u001b[2mInstalled \u001b[1m3 packages\u001b[0m \u001b[2min 4ms\u001b[0m\u001b[0mlicationservices==11.0           \u001b[0m\n",
      " \u001b[32m+\u001b[39m \u001b[1mpynput\u001b[0m\u001b[2m==1.7.7\u001b[0m\n",
      " \u001b[32m+\u001b[39m \u001b[1mpyobjc-framework-applicationservices\u001b[0m\u001b[2m==11.0\u001b[0m\n",
      " \u001b[32m+\u001b[39m \u001b[1mpyobjc-framework-coretext\u001b[0m\u001b[2m==11.0\u001b[0m\n"
     ]
    }
   ],
   "source": [
    "! uv pip install pynput\n"
   ]
  },
  {
   "cell_type": "code",
   "execution_count": 1,
   "id": "1346512a-f4ca-44a7-a5ce-fe0f7b7eab9a",
   "metadata": {
    "execution": {
     "iopub.execute_input": "2025-01-27T22:35:23.527628Z",
     "iopub.status.busy": "2025-01-27T22:35:23.527376Z",
     "iopub.status.idle": "2025-01-27T22:35:23.612704Z",
     "shell.execute_reply": "2025-01-27T22:35:23.612330Z",
     "shell.execute_reply.started": "2025-01-27T22:35:23.527604Z"
    }
   },
   "outputs": [
    {
     "ename": "ModuleNotFoundError",
     "evalue": "No module named 'pynput'",
     "output_type": "error",
     "traceback": [
      "\u001b[0;31m---------------------------------------------------------------------------\u001b[0m",
      "\u001b[0;31mModuleNotFoundError\u001b[0m                       Traceback (most recent call last)",
      "Cell \u001b[0;32mIn[1], line 1\u001b[0m\n\u001b[0;32m----> 1\u001b[0m \u001b[38;5;28;01mfrom\u001b[39;00m\u001b[38;5;250m \u001b[39m\u001b[38;5;21;01mpynput\u001b[39;00m\u001b[38;5;21;01m.\u001b[39;00m\u001b[38;5;21;01mmouse\u001b[39;00m\u001b[38;5;250m \u001b[39m\u001b[38;5;28;01mimport\u001b[39;00m Controller\n\u001b[1;32m      2\u001b[0m \u001b[38;5;28;01mimport\u001b[39;00m\u001b[38;5;250m \u001b[39m\u001b[38;5;21;01mtime\u001b[39;00m\n\u001b[1;32m      4\u001b[0m \u001b[38;5;66;03m# Create a mouse controller object\u001b[39;00m\n",
      "\u001b[0;31mModuleNotFoundError\u001b[0m: No module named 'pynput'"
     ]
    }
   ],
   "source": [
    "from pynput.mouse import Controller\n",
    "import time\n",
    "\n",
    "# Create a mouse controller object\n",
    "mouse = Controller()\n",
    "\n",
    "def move_mouse():\n",
    "    print(\"Mouse mover started. Press Ctrl+C to stop.\")\n",
    "    try:\n",
    "        while True:\n",
    "            # Get the current mouse position\n",
    "            x, y = mouse.position\n",
    "\n",
    "            # Move the mouse slightly (1 pixel right, then back)\n",
    "            mouse.position = (x + 1, y)\n",
    "            mouse.position = (x, y)\n",
    "\n",
    "            # Wait for 5 minutes\n",
    "            time.sleep(5 * 60)\n",
    "    except KeyboardInterrupt:\n",
    "        print(\"Mouse mover stopped.\")\n",
    "\n"
   ]
  },
  {
   "cell_type": "code",
   "execution_count": null,
   "id": "995fb99d-d6b9-49f3-99c8-e6a6a17be4dc",
   "metadata": {},
   "outputs": [],
   "source": []
  }
 ],
 "metadata": {
  "kernelspec": {
   "display_name": "Python 3 (ipykernel)",
   "language": "python",
   "name": "python3"
  },
  "language_info": {
   "codemirror_mode": {
    "name": "ipython",
    "version": 3
   },
   "file_extension": ".py",
   "mimetype": "text/x-python",
   "name": "python",
   "nbconvert_exporter": "python",
   "pygments_lexer": "ipython3",
   "version": "3.12.7"
  }
 },
 "nbformat": 4,
 "nbformat_minor": 5
}
