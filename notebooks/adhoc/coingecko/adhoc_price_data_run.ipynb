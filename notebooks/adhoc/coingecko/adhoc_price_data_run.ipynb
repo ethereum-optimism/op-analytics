{
 "cells": [
  {
   "cell_type": "code",
   "execution_count": 1,
   "metadata": {},
   "outputs": [],
   "source": [
    "# CoinGecko Price Data Ad Hoc Run\n",
    "\n",
    "# 1. Load chain metadata and get CoinGecko token IDs\n",
    "from op_analytics.datapipeline.chains.load import load_chain_metadata\n",
    "import polars as pl"
   ]
  },
  {
   "cell_type": "code",
   "execution_count": null,
   "metadata": {},
   "outputs": [],
   "source": [
    "\n",
    "meta = load_chain_metadata()\n",
    "meta.head()\n",
    "\n",
    "token_ids = meta.filter(pl.col(\"cgt_coingecko_api_key\").is_not_null())[\"cgt_coingecko_api_key\"].unique().to_list()\n",
    "token_ids[:5]"
   ]
  },
  {
   "cell_type": "code",
   "execution_count": null,
   "metadata": {},
   "outputs": [],
   "source": [
    "# 2. Fetch CoinGecko price data for a small subset of tokens\n",
    "from op_analytics.datasources.coingecko.price_data import CoinGeckoDataSource\n",
    "\n",
    "data_source = CoinGeckoDataSource()\n",
    "prices = data_source.get_token_prices(token_ids[:3], days=7)\n",
    "prices.head()"
   ]
  },
  {
   "cell_type": "code",
   "execution_count": null,
   "metadata": {},
   "outputs": [],
   "source": [
    "# 3. Write the fetched price data to the production BigQuery table\n",
    "from op_analytics.datasources.coingecko.dataaccess import CoinGecko\n",
    "from op_analytics.coreutils.partitioned.dailydatawrite import write_to_prod\n",
    "\n",
    "with write_to_prod():\n",
    "    CoinGecko.DAILY_PRICES.write(\n",
    "        dataframe=prices,\n",
    "        sort_by=[\"token_id\"],\n",
    "    )"
   ]
  },
  {
   "cell_type": "code",
   "execution_count": null,
   "metadata": {},
   "outputs": [],
   "source": [
    "# 4. Optionally, read back from production to verify\n",
    "view = CoinGecko.DAILY_PRICES.read(min_date=prices[\"dt\"].min())\n",
    "view.head() \n"
   ]
  }
 ],
 "metadata": {
  "kernelspec": {
   "display_name": ".venv",
   "language": "python",
   "name": "python3"
  },
  "language_info": {
   "codemirror_mode": {
    "name": "ipython",
    "version": 3
   },
   "file_extension": ".py",
   "mimetype": "text/x-python",
   "name": "python",
   "nbconvert_exporter": "python",
   "pygments_lexer": "ipython3",
   "version": "3.12.4"
  }
 },
 "nbformat": 4,
 "nbformat_minor": 2
}
