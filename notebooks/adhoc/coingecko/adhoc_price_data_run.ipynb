{
 "cells": [
  {
   "cell_type": "code",
   "execution_count": 1,
   "metadata": {},
   "outputs": [],
   "source": [
    "# Standard library imports\n",
    "import requests\n",
    "\n",
    "# Third-party imports\n",
    "import polars as pl\n",
    "import os\n",
    "\n",
    "# Local imports\n",
    "from op_analytics.datapipeline.chains.load import load_chain_metadata\n",
    "from op_analytics.datasources.coingecko.price_data import CoinGeckoDataSource\n",
    "from op_analytics.datasources.coingecko.dataaccess import CoinGecko\n",
    "from op_analytics.coreutils.request import new_session\n",
    "os.environ[\"ALLOW_WRITE\"] = \"true\""
   ]
  },
  {
   "cell_type": "code",
   "execution_count": null,
   "metadata": {},
   "outputs": [],
   "source": [
    "# 1. Load chain metadata to get token IDs\n",
    "from op_analytics.datapipeline.chains.load import load_chain_metadata\n",
    "\n",
    "# Load chain metadata\n",
    "chain_metadata = load_chain_metadata()\n"
   ]
  },
  {
   "cell_type": "code",
   "execution_count": null,
   "metadata": {},
   "outputs": [],
   "source": [
    "# Get unique non-null CoinGecko API keys\n",
    "token_ids = (\n",
    "    chain_metadata.filter(pl.col(\"cgt_coingecko_api\").is_not_null())\n",
    "    .select(\"cgt_coingecko_api\")\n",
    "    .unique()\n",
    "    .to_series()\n",
    "    .to_list()\n",
    ")\n",
    "\n",
    "print(f\"Found {len(token_ids)} unique tokens with CoinGecko API keys\")"
   ]
  },
  {
   "cell_type": "code",
   "execution_count": null,
   "metadata": {},
   "outputs": [],
   "source": [
    "# 2. Initialize the data source\n",
    "from op_analytics.datasources.coingecko.price_data import CoinGeckoDataSource\n",
    "from op_analytics.coreutils.request import new_session\n",
    "\n",
    "# Create a session with debug logging\n",
    "session = requests.Session()\n",
    "data_source = CoinGeckoDataSource(session=session)"
   ]
  },
  {
   "cell_type": "code",
   "execution_count": null,
   "metadata": {},
   "outputs": [],
   "source": [
    "# 3. Fetch price data for all tokens\n",
    "# Fetch 7 days of data for all tokens\n",
    "all_prices = []\n",
    "for token_id in token_ids:\n",
    "    try:\n",
    "        prices = data_source.get_token_prices(token_ids=[token_id], days=365)\n",
    "        all_prices.append(prices)\n",
    "        print(f\"Successfully fetched data for {token_id}\")\n",
    "    except Exception as e:\n",
    "        print(f\"Error fetching data for {token_id}: {e}\")\n",
    "\n",
    "# Combine all price data\n",
    "prices_df = pl.concat(all_prices)\n",
    "print(f\"\\nSuccessfully fetched price data for {len(prices_df)} token-days\")\n",
    "print(\"\\nSample of fetched data:\")\n",
    "print(prices_df.head())"
   ]
  },
  {
   "cell_type": "code",
   "execution_count": null,
   "metadata": {},
   "outputs": [],
   "source": [
    "# 4. Write to BigQuery\n",
    "from op_analytics.datasources.coingecko.dataaccess import CoinGecko\n",
    "\n",
    "# Write the data to BigQuery\n",
    "CoinGecko.DAILY_PRICES.write(result)\n",
    "print(\"Successfully wrote data to BigQuery\")"
   ]
  },
  {
   "cell_type": "code",
   "execution_count": null,
   "metadata": {},
   "outputs": [],
   "source": [
    "# 5. Read back from production to verify\n",
    "df = CoinGecko.DAILY_PRICES.read_polars(min_date=prices_df[\"dt\"].min())\n",
    "print(\"\\nData from production:\")\n",
    "print(df.head())"
   ]
  },
  {
   "cell_type": "code",
   "execution_count": null,
   "metadata": {},
   "outputs": [],
   "source": [
    "# 6. Optional: Analyze the data\n",
    "# Get the date range of the data\n",
    "print(f\"Overall date range: {prices_df['dt'].min()} to {prices_df['dt'].max()}\")\n",
    "\n",
    "# Count unique tokens\n",
    "print(f\"Number of unique tokens: {prices_df['token_id'].n_unique()}\")\n",
    "\n",
    "# Get date range and average price per token\n",
    "token_stats = prices_df.group_by('token_id').agg([\n",
    "    pl.col('price_usd').mean().alias('avg_price'),\n",
    "    pl.col('dt').min().alias('min_date'),\n",
    "    pl.col('dt').max().alias('max_date'),\n",
    "    pl.col('dt').count().alias('days_of_data')\n",
    "]).sort('token_id')\n",
    "\n",
    "print(\"\\nStats per token:\")\n",
    "print(token_stats)"
   ]
  },
  {
   "cell_type": "code",
   "execution_count": null,
   "metadata": {},
   "outputs": [],
   "source": [
    "# Overall run\n",
    "from op_analytics.datasources.coingecko.execute import execute_pull\n",
    "from op_analytics.coreutils.partitioned.dailydatawrite import write_to_prod\n",
    "\n",
    "# Path to your config file\n",
    "extra_token_ids_file = \"../../../src/op_analytics/datasources/coingecko/config/extra_token_ids.txt\"\n",
    "\n",
    "with write_to_prod():\n",
    "    # Run the full pipeline, including extra tokens\n",
    "    result = execute_pull(days=365, extra_token_ids_file=extra_token_ids_file)"
   ]
  },
  {
   "cell_type": "code",
   "execution_count": null,
   "metadata": {},
   "outputs": [],
   "source": [
    "print(result.sample(5))"
   ]
  }
 ],
 "metadata": {
  "kernelspec": {
   "display_name": ".venv",
   "language": "python",
   "name": "python3"
  },
  "language_info": {
   "codemirror_mode": {
    "name": "ipython",
    "version": 3
   },
   "file_extension": ".py",
   "mimetype": "text/x-python",
   "name": "python",
   "nbconvert_exporter": "python",
   "pygments_lexer": "ipython3",
   "version": "3.12.4"
  }
 },
 "nbformat": 4,
 "nbformat_minor": 2
}
