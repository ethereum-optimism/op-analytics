{
 "cells": [
  {
   "cell_type": "code",
   "execution_count": 30,
   "metadata": {},
   "outputs": [],
   "source": [
    "from pprint import pprint\n",
    "\n",
    "from op_analytics.coreutils.partitioned.location import DataLocation\n",
    "from op_analytics.coreutils.partitioned.reader import DataReader\n",
    "from op_analytics.datapipeline.etl.ingestion.reader.byblock import construct_readers_byblock\n",
    "from op_analytics.datapipeline.etl.ingestion.reader.request import BlockBatchRequest\n",
    "from op_analytics.datapipeline.models.compute.markers import ModelsDataSpec\n",
    "from op_analytics.datapipeline.models.compute.testutils import setup_execution_context"
   ]
  },
  {
   "cell_type": "code",
   "execution_count": 31,
   "metadata": {},
   "outputs": [
    {
     "name": "stdout",
     "output_type": "stream",
     "text": [
      "\u001b[2m2025-01-16 15:57:51\u001b[0m [\u001b[32m\u001b[1minfo     \u001b[0m] \u001b[1mprepared 22 input batches.    \u001b[0m \u001b[36mfilename\u001b[0m=\u001b[35mbyblock.py\u001b[0m \u001b[36mlineno\u001b[0m=\u001b[35m78\u001b[0m \u001b[36mprocess\u001b[0m=\u001b[35m97802\u001b[0m\n",
      "DataReader(partitions=Partition(cols=[PartitionColumn(name='chain', value='op'),\n",
      "                                      PartitionColumn(name='dt',\n",
      "                                                      value='2024-11-18')]),\n",
      "           read_from=DataLocation.GCS,\n",
      "           dataset_paths={'ingestion/logs_v1': ['gs://oplabs-tools-data-sink/ingestion/logs_v1/chain=op/dt=2024-11-18/000128144000.parquet'],\n",
      "                          'ingestion/transactions_v1': ['gs://oplabs-tools-data-sink/ingestion/transactions_v1/chain=op/dt=2024-11-18/000128144000.parquet']},\n",
      "           inputs_ready=True,\n",
      "           extra_marker_data={'max_block': 128146000,\n",
      "                              'min_block': 128144000,\n",
      "                              'num_blocks': 2000})\n",
      "\u001b[2m2025-01-16 15:57:51\u001b[0m [\u001b[32m\u001b[1minfo     \u001b[0m] \u001b[1mreading dataset='ingestion/logs_v1' using 1/1 parquet paths, first path is gs://oplabs-tools-data-sink/ingestion/logs_v1/chain=op/dt=2024-11-18/000128144000.parquet\u001b[0m \u001b[36mfilename\u001b[0m=\u001b[35mreader.py\u001b[0m \u001b[36mlineno\u001b[0m=\u001b[35m68\u001b[0m \u001b[36mprocess\u001b[0m=\u001b[35m97802\u001b[0m\n",
      "\u001b[2m2025-01-16 15:57:51\u001b[0m [\u001b[32m\u001b[1minfo     \u001b[0m] \u001b[1mreading dataset='ingestion/transactions_v1' using 1/1 parquet paths, first path is gs://oplabs-tools-data-sink/ingestion/transactions_v1/chain=op/dt=2024-11-18/000128144000.parquet\u001b[0m \u001b[36mfilename\u001b[0m=\u001b[35mreader.py\u001b[0m \u001b[36mlineno\u001b[0m=\u001b[35m68\u001b[0m \u001b[36mprocess\u001b[0m=\u001b[35m97802\u001b[0m\n",
      "\n",
      "INPUT: ingestion/logs_v1\n",
      "INPUT: ingestion/transactions_v1\n",
      "\n",
      "AUX VIEW: telepotr/bridging_transactions\n"
     ]
    }
   ],
   "source": [
    "model_name = \"teleportr\"\n",
    "\n",
    "# Prepare data raeders\n",
    "data_spec = ModelsDataSpec(models=[model_name])\n",
    "blockbatch_request = BlockBatchRequest.build(\n",
    "    chains=[\"op\"],\n",
    "    range_spec=\"@20241118:+1\",\n",
    "    root_paths_to_read=data_spec.input_root_paths,\n",
    ")\n",
    "readers: list[DataReader] = construct_readers_byblock(\n",
    "    blockbatch_request=blockbatch_request,\n",
    "    read_from=DataLocation.GCS,\n",
    ")\n",
    "\n",
    "\n",
    "# Show details for the batch we are processing.\n",
    "pprint(readers[0])\n",
    "\n",
    "# Set up execution context and get handles to model input args.\n",
    "# In subsequent cells you can use the model input args however you want.\n",
    "ctx, input_datasets, aux_views = setup_execution_context(\n",
    "    model_name=model_name,\n",
    "    data_reader=readers[0],  # use the first reader\n",
    ")"
   ]
  },
  {
   "cell_type": "code",
   "execution_count": 32,
   "metadata": {},
   "outputs": [],
   "source": [
    "from op_analytics.datapipeline.chains.goldsky_chains import goldsky_mainnet_chains_df\n",
    "from op_analytics.datapipeline.chains.across_bridge import load_across_bridge_addresses\n",
    "\n",
    "# Fetch across bridge addesses\n",
    "goldsky_df = goldsky_mainnet_chains_df()\n",
    "across_bridge_addresses_df = load_across_bridge_addresses(chains_df=goldsky_df)\n",
    "\n",
    "\n",
    "ctx.client.sql(\"CREATE TABLE IF NOT EXISTS across_bridge_metadata AS SELECT * FROM across_bridge_addresses_df\")\n",
    "ctx.client.sql(\"CREATE TABLE IF NOT EXISTS op_stack_chain_metadata AS SELECT * FROM goldsky_df\")"
   ]
  },
  {
   "cell_type": "code",
   "execution_count": 33,
   "metadata": {},
   "outputs": [
    {
     "data": {
      "text/plain": [
       "┌─────────────────────────┐\n",
       "│          name           │\n",
       "│         varchar         │\n",
       "├─────────────────────────┤\n",
       "│ across_bridge_metadata  │\n",
       "│ op_stack_chain_metadata │\n",
       "└─────────────────────────┘"
      ]
     },
     "execution_count": 33,
     "metadata": {},
     "output_type": "execute_result"
    }
   ],
   "source": [
    "ctx.client.sql(\"SHOW TABLES\")"
   ]
  },
  {
   "cell_type": "code",
   "execution_count": 34,
   "metadata": {},
   "outputs": [],
   "source": [
    "# view = auxiliary_views[\"teleportr/bridging_transactions\"].create_view(\n",
    "#     duckdb_context=ctx,\n",
    "#     template_parameters={\n",
    "#         \"raw_logs\": input_datasets[\"ingestion/logs_v1\"].as_subquery(),\n",
    "#         \"raw_transactions\": input_datasets[\"ingestion/transactions_v1\"].as_subquery(),\n",
    "#         \"across_bridge_metadata\": \"across_bridge_metadata\",\n",
    "#         \"op_stack_chain_metadata\": \"op_stack_chain_metadata\",\n",
    "#     },\n",
    "# )"
   ]
  },
  {
   "cell_type": "code",
   "execution_count": 35,
   "metadata": {},
   "outputs": [
    {
     "name": "stdout",
     "output_type": "stream",
     "text": [
      "\u001b[2m2025-01-16 15:57:52\u001b[0m [\u001b[32m\u001b[1minfo     \u001b[0m] \u001b[1mconstructed read_parquet() string with 1 paths\u001b[0m \u001b[36mfilename\u001b[0m=\u001b[35mclient.py\u001b[0m \u001b[36mlineno\u001b[0m=\u001b[35m245\u001b[0m \u001b[36mprocess\u001b[0m=\u001b[35m97802\u001b[0m\n",
      "\u001b[2m2025-01-16 15:57:52\u001b[0m [\u001b[32m\u001b[1minfo     \u001b[0m] \u001b[1mconstructed read_parquet() string with 1 paths\u001b[0m \u001b[36mfilename\u001b[0m=\u001b[35mclient.py\u001b[0m \u001b[36mlineno\u001b[0m=\u001b[35m245\u001b[0m \u001b[36mprocess\u001b[0m=\u001b[35m97802\u001b[0m\n",
      "\u001b[2m2025-01-16 15:57:52\u001b[0m [\u001b[32m\u001b[1minfo     \u001b[0m] \u001b[1mRendering query               \u001b[0m \u001b[36mfilename\u001b[0m=\u001b[35mquerybuilder.py\u001b[0m \u001b[36mlineno\u001b[0m=\u001b[35m40\u001b[0m \u001b[36mprocess\u001b[0m=\u001b[35m97802\u001b[0m \u001b[36mtemplate\u001b[0m=\u001b[35mtelepotr/bridging_transactions\u001b[0m\n"
     ]
    }
   ],
   "source": [
    "\n",
    "rel = aux_views[\"teleportr/bridging_transactions\"].to_relation(\n",
    "    duckdb_context=ctx,\n",
    "    template_parameters={\n",
    "        \"raw_logs\": input_datasets[\"ingestion/logs_v1\"].as_subquery(),\n",
    "        \"raw_transactions\": input_datasets[\"ingestion/transactions_v1\"].as_subquery(),\n",
    "        \"across_bridge_metadata\": \"across_bridge_metadata\",\n",
    "        \"op_stack_chain_metadata\": \"op_stack_chain_metadata\",\n",
    "    },\n",
    ")"
   ]
  },
  {
   "cell_type": "code",
   "execution_count": 36,
   "metadata": {},
   "outputs": [
    {
     "data": {
      "text/plain": [
       "┌────────────┬─────────────────┬──────────────┬───────────┬──────────────┬────────────────────────────────────────────┬────────────────────────────────────────────────────────────────────┬────────────┬────────────────────────────────────────────┬────────────────────────────────────────────┬──────────────┬─────────────────────┬─────────────────────┬─────────────────┬───────────────┬──────────────────────┬────────────────────────────────────────────┬────────────────────────────────────────────┬────────────────────────────────────────────┬─────────────┬───────────┬───────────────────────┬───────────────────────┬───────────┬───────────────────────┐\n",
       "│     dt     │ block_timestamp │ block_number │ src_chain │ src_chain_id │              contract_address              │                          transaction_hash                          │ deposit_id │            input_token_address             │            output_token_address            │ dst_chain_id │    input_amount     │    output_amount    │ quote_timestamp │ fill_deadline │ exclusivity_deadline │             recipient_address              │              relayer_address               │             depositor_address              │ integrator  │ log_index │        l2_fee         │        l1_fee         │ dst_chain │        tx_fee         │\n",
       "│    date    │     uint32      │    int64     │  varchar  │    int32     │                  varchar                   │                              varchar                               │   int64    │                  varchar                   │                  varchar                   │   varchar    │        int64        │        int64        │      int64      │     int64     │        int64         │                  varchar                   │                  varchar                   │                  varchar                   │   varchar   │   int64   │    decimal(38,19)     │    decimal(38,19)     │  varchar  │    decimal(38,19)     │\n",
       "├────────────┼─────────────────┼──────────────┼───────────┼──────────────┼────────────────────────────────────────────┼────────────────────────────────────────────────────────────────────┼────────────┼────────────────────────────────────────────┼────────────────────────────────────────────┼──────────────┼─────────────────────┼─────────────────────┼─────────────────┼───────────────┼──────────────────────┼────────────────────────────────────────────┼────────────────────────────────────────────┼────────────────────────────────────────────┼─────────────┼───────────┼───────────────────────┼───────────────────────┼───────────┼───────────────────────┤\n",
       "│ 2024-11-18 │      1731890587 │    128145905 │ op        │           10 │ 0x6f26bf09b1c792e3228e5467807a900a503c0281 │ 0xa8463fba5925f74c19b1069b53ea9d6253e6ae5a8ac88b29c49def7fd52aabd9 │    2249170 │ 0x4200000000000000000000000000000000000006 │ 0x0000000000000000000000000000000000000000 │ 8453         │   30000000000000000 │   29983631764179514 │      1731890471 │    1731911576 │                    0 │ 0x000000000000000000000000b2e7f410ec15a4ed │ 0x0000000000000000000000000000000000000000 │ 0xb2e7f410ec15a4edaeee75df1d18aa4264dc5676 │ Brid.gg     │        99 │ 0.0000000063582117520 │ 0.0000004858615332990 │ base      │ 0.0000004922197450510 │\n",
       "│ 2024-11-18 │      1731890733 │    128145978 │ op        │           10 │ 0x6f26bf09b1c792e3228e5467807a900a503c0281 │ 0x827c6ceaacf58dd047ea721a2a2e8d7713e98e85ab89484d609bf4fafb93a1d2 │    2249177 │ 0x4200000000000000000000000000000000000006 │ 0x4200000000000000000000000000000000000006 │ 8453         │   90000000000000000 │   89975230759103297 │      1731890471 │    1731905079 │                    0 │ 0x0000000000000000000000008e1614b3187182bc │ 0x0000000000000000000000000000000000000000 │ 0x8e1614b3187182bc824c2c1a03eeff827667e71e │ SuperBridge │       491 │ 0.0000000002252884000 │ 0.0000003946532760190 │ base      │ 0.0000003948785644190 │\n",
       "│ 2024-11-18 │      1731888477 │    128144850 │ op        │           10 │ 0x6f26bf09b1c792e3228e5467807a900a503c0281 │ 0xc547c918633e20599d517eef7e5208b1c542f386d3e1701501d09e1e1bb2d0cd │    2249112 │ 0x4200000000000000000000000000000000000006 │ 0x4200000000000000000000000000000000000006 │ 7777777      │    8400000000000000 │    8393686091333132 │      1731888311 │    1731902841 │                    0 │ 0x00000000000000000000000082bb9506ca2caded │ 0x0000000000000000000000000000000000000000 │ 0x82bb9506ca2caded1f7b63d9ef31cbb0f5f42db6 │ SuperBridge │        76 │ 0.0000000062591600120 │ 0.0000002930766104350 │ zora      │ 0.0000002993357704470 │\n",
       "│ 2024-11-18 │      1731888601 │    128144912 │ op        │           10 │ 0x6f26bf09b1c792e3228e5467807a900a503c0281 │ 0xc884220d7ef3fef94421fbef1cc592febaa05c448ba93ee55f508b1068c14f0d │    2249116 │ 0x4200000000000000000000000000000000000006 │ 0x4200000000000000000000000000000000000006 │ 7777777      │    8400000000000000 │    8393887378416010 │      1731888311 │    1731902949 │                    0 │ 0x00000000000000000000000082bb9506ca2caded │ 0x0000000000000000000000000000000000000000 │ 0x82bb9506ca2caded1f7b63d9ef31cbb0f5f42db6 │ SuperBridge │        32 │ 0.0000000062576675000 │ 0.0000002754100375050 │ zora      │ 0.0000002816677050050 │\n",
       "│ 2024-11-18 │      1731889899 │    128145561 │ op        │           10 │ 0x6f26bf09b1c792e3228e5467807a900a503c0281 │ 0x077f7ce8a4909dd9158802754d994db445a02c83476f10628e06cab5c7dd6ae3 │    2249152 │ 0x4200000000000000000000000000000000000006 │ 0x4200000000000000000000000000000000000006 │ 8453         │ 3375959000000000000 │ 3375526624200039564 │      1731889751 │    1731904281 │                    0 │ 0x000000000000000000000000bf8d37f6af255b5d │ 0x0000000000000000000000000000000000000000 │ 0xbf8d37f6af255b5d8d56e5cb77c24fa7d3fa1a40 │ SuperBridge │        97 │ 0.0000000001446429000 │ 0.0000004283732793250 │ base      │ 0.0000004285179222250 │\n",
       "│ 2024-11-18 │      1731889065 │    128145144 │ op        │           10 │ 0x6f26bf09b1c792e3228e5467807a900a503c0281 │ 0x54b9f3b025e57f765082b2e02d5078eae490ab3c88af2f66f14f6e6c098d7343 │    2249131 │ 0x4200000000000000000000000000000000000006 │ 0x4200000000000000000000000000000000000006 │ 7777777      │    8400000000000000 │    8394222472741129 │      1731888791 │    1731903369 │                    0 │ 0x00000000000000000000000082bb9506ca2caded │ 0x0000000000000000000000000000000000000000 │ 0x82bb9506ca2caded1f7b63d9ef31cbb0f5f42db6 │ SuperBridge │        96 │ 0.0000000062636375480 │ 0.0000003499658422910 │ zora      │ 0.0000003562294798390 │\n",
       "│ 2024-11-18 │      1731888209 │    128144716 │ op        │           10 │ 0x6f26bf09b1c792e3228e5467807a900a503c0281 │ 0x1fba7019b0ad41711850575b767b68779e436c970f157d9902495ff7c4fb52a2 │    2249108 │ 0x4200000000000000000000000000000000000006 │ 0x4200000000000000000000000000000000000006 │ 7777777      │    8400000000000000 │    8394449824230488 │      1731888071 │    1731902582 │                    0 │ 0x00000000000000000000000082bb9506ca2caded │ 0x0000000000000000000000000000000000000000 │ 0x82bb9506ca2caded1f7b63d9ef31cbb0f5f42db6 │ SuperBridge │        31 │ 0.0000000062609634640 │ 0.0000001785367339770 │ zora      │ 0.0000001847976974410 │\n",
       "│ 2024-11-18 │      1731888315 │    128144769 │ op        │           10 │ 0x6f26bf09b1c792e3228e5467807a900a503c0281 │ 0x98032fdfbcc4a8ecc5a03ab9d169ad8e3943ab64c2a6ef5f03a8e5c5f70b50c1 │    2249110 │ 0x4200000000000000000000000000000000000006 │ 0x4200000000000000000000000000000000000006 │ 8453         │ 1309000000000000000 │ 1308824699220401892 │      1731888071 │    1731902691 │                    0 │ 0x0000000000000000000000003c87c2bf038f1372 │ 0x0000000000000000000000000000000000000000 │ 0x3c87c2bf038f13726de2f06fbb0aedae2f108bf9 │ SuperBridge │        68 │ 0.0000000062631308880 │ 0.0000002193850502130 │ base      │ 0.0000002256481811010 │\n",
       "│ 2024-11-18 │      1731888795 │    128145009 │ op        │           10 │ 0x6f26bf09b1c792e3228e5467807a900a503c0281 │ 0x03360cc72f2aa6b0aec088e5d39312ba553ead8a9101dc9c42922ea0b55b7e5d │    2249123 │ 0x4200000000000000000000000000000000000006 │ 0x4200000000000000000000000000000000000006 │ 7777777      │    8400000000000000 │    8394332067071513 │      1731888551 │    1731903123 │                    0 │ 0x00000000000000000000000082bb9506ca2caded │ 0x0000000000000000000000000000000000000000 │ 0x82bb9506ca2caded1f7b63d9ef31cbb0f5f42db6 │ SuperBridge │       109 │ 0.0000000062572321840 │ 0.0000002491012782830 │ zora      │ 0.0000002553585104670 │\n",
       "│ 2024-11-18 │      1731888851 │    128145037 │ op        │           10 │ 0x6f26bf09b1c792e3228e5467807a900a503c0281 │ 0x84f66475971f2f3e5e7fe3e7e41e07bfda1dc16afc3d44dc39c81a7f5876831d │    2249125 │ 0x4200000000000000000000000000000000000006 │ 0x4200000000000000000000000000000000000006 │ 7777777      │    3500000000000000 │    3494971768107432 │      1731888551 │    1731903218 │                    0 │ 0x000000000000000000000000490fc308d8dbcc06 │ 0x0000000000000000000000000000000000000000 │ 0x490fc308d8dbcc067fa1f1fa2d755819824b4eb5 │ SuperBridge │       102 │ 0.0000000062598080000 │ 0.0000003186762554800 │ zora      │ 0.0000003249360634800 │\n",
       "├────────────┴─────────────────┴──────────────┴───────────┴──────────────┴────────────────────────────────────────────┴────────────────────────────────────────────────────────────────────┴────────────┴────────────────────────────────────────────┴────────────────────────────────────────────┴──────────────┴─────────────────────┴─────────────────────┴─────────────────┴───────────────┴──────────────────────┴────────────────────────────────────────────┴────────────────────────────────────────────┴────────────────────────────────────────────┴─────────────┴───────────┴───────────────────────┴───────────────────────┴───────────┴───────────────────────┤\n",
       "│ 10 rows                                                                                                                                                                                                                                                                                                                                                                                                                                                                                                                                                                                                                                                       25 columns │\n",
       "└──────────────────────────────────────────────────────────────────────────────────────────────────────────────────────────────────────────────────────────────────────────────────────────────────────────────────────────────────────────────────────────────────────────────────────────────────────────────────────────────────────────────────────────────────────────────────────────────────────────────────────────────────────────────────────────────────────────────────────────────────────────────────────────────────────────────────────────────────────────────────────────────────────────────────────────────────────────────────────────────────────────┘"
      ]
     },
     "execution_count": 36,
     "metadata": {},
     "output_type": "execute_result"
    }
   ],
   "source": [
    "rel"
   ]
  }
 ],
 "metadata": {
  "kernelspec": {
   "display_name": ".venv",
   "language": "python",
   "name": "python3"
  },
  "language_info": {
   "codemirror_mode": {
    "name": "ipython",
    "version": 3
   },
   "file_extension": ".py",
   "mimetype": "text/x-python",
   "name": "python",
   "nbconvert_exporter": "python",
   "pygments_lexer": "ipython3",
   "version": "3.12.3"
  }
 },
 "nbformat": 4,
 "nbformat_minor": 2
}
