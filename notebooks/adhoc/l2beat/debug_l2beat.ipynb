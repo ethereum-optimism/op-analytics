{
 "cells": [
  {
   "cell_type": "code",
   "execution_count": null,
   "metadata": {},
   "outputs": [],
   "source": [
    "from op_analytics.datasources.l2beat import execute\n",
    "from op_analytics.coreutils.partitioned.dailydatawrite import write_to_prod\n",
    "\n",
    "with write_to_prod():\n",
    "    result = execute.execute_pull()\n"
   ]
  },
  {
   "cell_type": "code",
   "execution_count": null,
   "metadata": {},
   "outputs": [],
   "source": [
    "from op_analytics.coreutils.request import new_session, get_data\n",
    "SUMMARY_ENDPOINT = \"https://l2beat.com/api/scaling/summary\"\n",
    "\n",
    "session = new_session()\n",
    "summary = get_data(session, SUMMARY_ENDPOINT)"
   ]
  },
  {
   "cell_type": "code",
   "execution_count": null,
   "metadata": {},
   "outputs": [],
   "source": [
    "from op_analytics.datasources.l2beat.utils import L2BeatProject\n",
    "\n",
    "projects = []\n",
    "for project_data in list(summary[\"projects\"].values()):\n",
    "    projects.append(L2BeatProject(id=project_data[\"id\"], slug=project_data[\"slug\"]))\n",
    "# for project_data in list(summary[\"data\"][\"projects\"].values()):\n",
    "#     projects.append(L2BeatProject(id=project_data[\"id\"], slug=project_data[\"slug\"]))"
   ]
  },
  {
   "cell_type": "code",
   "execution_count": null,
   "metadata": {},
   "outputs": [],
   "source": [
    "from op_analytics.datasources.l2beat.projects import L2BeatProjects\n",
    "\n",
    "result = L2BeatProjects.fetch()"
   ]
  },
  {
   "cell_type": "code",
   "execution_count": null,
   "metadata": {},
   "outputs": [],
   "source": [
    "result.df"
   ]
  },
  {
   "cell_type": "code",
   "execution_count": null,
   "metadata": {},
   "outputs": [],
   "source": [
    "result.tvl_df"
   ]
  },
  {
   "cell_type": "code",
   "execution_count": null,
   "metadata": {},
   "outputs": [],
   "source": [
    "result.activity_df"
   ]
  }
 ],
 "metadata": {
  "kernelspec": {
   "display_name": ".venv",
   "language": "python",
   "name": "python3"
  },
  "language_info": {
   "codemirror_mode": {
    "name": "ipython",
    "version": 3
   },
   "file_extension": ".py",
   "mimetype": "text/x-python",
   "name": "python",
   "nbconvert_exporter": "python",
   "pygments_lexer": "ipython3",
   "version": "3.12.3"
  }
 },
 "nbformat": 4,
 "nbformat_minor": 2
}
