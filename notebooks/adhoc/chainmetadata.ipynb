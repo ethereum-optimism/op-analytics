{
 "cells": [
  {
   "cell_type": "code",
   "execution_count": null,
   "metadata": {},
   "outputs": [],
   "source": [
    "from op_analytics.datapipeline.chains.load import load_chain_metadata_impl\n",
    "\n",
    "\n",
    "df = load_chain_metadata_impl()"
   ]
  },
  {
   "cell_type": "code",
   "execution_count": null,
   "metadata": {},
   "outputs": [],
   "source": [
    "from op_analytics.datapipeline.chains.across_bridge import load_across_bridge_addresses\n",
    "from op_analytics.datapipeline.chains.goldsky_chains import goldsky_mainnet_chains_df\n",
    "\n",
    "\n",
    "goldsky_df = goldsky_mainnet_chains_df()\n",
    "load_across_bridge_addresses(chains_df=goldsky_df)"
   ]
  },
  {
   "cell_type": "code",
   "execution_count": null,
   "metadata": {},
   "outputs": [],
   "source": [
    "from op_analytics.coreutils.partitioned.dailydatawrite import write_to_prod\n",
    "from op_analytics.datapipeline.chains.upload import upload_all\n",
    "\n",
    "with write_to_prod():\n",
    "    upload_all()"
   ]
  },
  {
   "cell_type": "code",
   "execution_count": null,
   "metadata": {},
   "outputs": [],
   "source": []
  }
 ],
 "metadata": {
  "kernelspec": {
   "display_name": ".venv",
   "language": "python",
   "name": "python3"
  },
  "language_info": {
   "codemirror_mode": {
    "name": "ipython",
    "version": 3
   },
   "file_extension": ".py",
   "mimetype": "text/x-python",
   "name": "python",
   "nbconvert_exporter": "python",
   "pygments_lexer": "ipython3",
   "version": "3.12.6"
  }
 },
 "nbformat": 4,
 "nbformat_minor": 2
}
