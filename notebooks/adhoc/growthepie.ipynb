{
 "cells": [
  {
   "cell_type": "code",
   "execution_count": 3,
   "metadata": {},
   "outputs": [],
   "source": [
    "from op_analytics.coreutils.duckdb_inmem.client import init_client\n",
    "from op_analytics.cli.subcommands.pulls.growthepie.dataaccess import GrowThePie\n",
    "\n",
    "duckdb_ctx = init_client()"
   ]
  },
  {
   "cell_type": "code",
   "execution_count": 5,
   "metadata": {},
   "outputs": [
    {
     "name": "stdout",
     "output_type": "stream",
     "text": [
      "\u001b[2m2025-01-03 05:58:28\u001b[0m [\u001b[32m\u001b[1minfo     \u001b[0m] \u001b[1mquerying markers for 'growthepie/chains_daily_fundamentals_v1' DateFilter(min_date=datetime.date(2024, 11, 1), max_date=None, datevals=None)\u001b[0m \u001b[36mfilename\u001b[0m=\u001b[35mdailydata.py\u001b[0m \u001b[36mlineno\u001b[0m=\u001b[35m112\u001b[0m \u001b[36mprocess\u001b[0m=\u001b[35m98461\u001b[0m\n",
      "\u001b[2m2025-01-03 05:58:29\u001b[0m [\u001b[32m\u001b[1minfo     \u001b[0m] \u001b[1m65 markers found              \u001b[0m \u001b[36mfilename\u001b[0m=\u001b[35mdailydata.py\u001b[0m \u001b[36mlineno\u001b[0m=\u001b[35m126\u001b[0m \u001b[36mprocess\u001b[0m=\u001b[35m98461\u001b[0m\n",
      "\u001b[2m2025-01-03 05:58:29\u001b[0m [\u001b[32m\u001b[1minfo     \u001b[0m] \u001b[1m62 distinct paths             \u001b[0m \u001b[36mfilename\u001b[0m=\u001b[35mdailydata.py\u001b[0m \u001b[36mlineno\u001b[0m=\u001b[35m132\u001b[0m \u001b[36mprocess\u001b[0m=\u001b[35m98461\u001b[0m\n",
      "\u001b[2m2025-01-03 05:58:32\u001b[0m [\u001b[32m\u001b[1minfo     \u001b[0m] \u001b[1mregistered view: 'growthepie_chains_daily_fundamentals_v1' using 62 parquet paths\u001b[0m \u001b[36mfilename\u001b[0m=\u001b[35mclient.py\u001b[0m \u001b[36mlineno\u001b[0m=\u001b[35m159\u001b[0m \u001b[36mprocess\u001b[0m=\u001b[35m98461\u001b[0m\n",
      "┌─────────────────────────────────────────┐\n",
      "│                  name                   │\n",
      "│                 varchar                 │\n",
      "├─────────────────────────────────────────┤\n",
      "│ growthepie_chains_daily_fundamentals_v1 │\n",
      "└─────────────────────────────────────────┘\n",
      "\n"
     ]
    }
   ],
   "source": [
    "fundamentals = GrowThePie.FUNDAMENTALS_SUMMARY.read(min_date=\"2024-11-01\")"
   ]
  },
  {
   "cell_type": "code",
   "execution_count": 6,
   "metadata": {},
   "outputs": [
    {
     "data": {
      "text/plain": [
       "┌─────────────┬─────────────┬─────────┬─────────┬─────────┬─────────┐\n",
       "│ column_name │ column_type │  null   │   key   │ default │  extra  │\n",
       "│   varchar   │   varchar   │ varchar │ varchar │ varchar │ varchar │\n",
       "├─────────────┼─────────────┼─────────┼─────────┼─────────┼─────────┤\n",
       "│ metric_key  │ VARCHAR     │ YES     │ NULL    │ NULL    │ NULL    │\n",
       "│ origin_key  │ VARCHAR     │ YES     │ NULL    │ NULL    │ NULL    │\n",
       "│ value       │ DOUBLE      │ YES     │ NULL    │ NULL    │ NULL    │\n",
       "│ dt          │ DATE        │ YES     │ NULL    │ NULL    │ NULL    │\n",
       "└─────────────┴─────────────┴─────────┴─────────┴─────────┴─────────┘"
      ]
     },
     "execution_count": 6,
     "metadata": {},
     "output_type": "execute_result"
    }
   ],
   "source": [
    "duckdb_ctx.client.sql(f\"DESCRIBE {fundamentals}\")"
   ]
  },
  {
   "cell_type": "code",
   "execution_count": 7,
   "metadata": {},
   "outputs": [
    {
     "data": {
      "text/plain": [
       "┌────────────────┬────────────┬────────────────────┬────────────┐\n",
       "│   metric_key   │ origin_key │       value        │     dt     │\n",
       "│    varchar     │  varchar   │       double       │    date    │\n",
       "├────────────────┼────────────┼────────────────────┼────────────┤\n",
       "│ daa            │ starknet   │             7245.0 │ 2024-11-01 │\n",
       "│ txcount        │ rhino      │             4426.0 │ 2024-11-01 │\n",
       "│ daa            │ rhino      │             1641.0 │ 2024-11-01 │\n",
       "│ txcount        │ starknet   │            59311.0 │ 2024-11-01 │\n",
       "│ txcount        │ blast      │           513018.0 │ 2024-11-01 │\n",
       "│ daa            │ blast      │            19741.0 │ 2024-11-01 │\n",
       "│ aa_last7d      │ orderly    │               55.0 │ 2024-11-01 │\n",
       "│ txcount        │ worldchain │           520595.0 │ 2024-11-01 │\n",
       "│ gas_per_second │ blast      │ 2.4999156911805556 │ 2024-11-01 │\n",
       "│ txcount        │ gravity    │          2003045.0 │ 2024-11-01 │\n",
       "├────────────────┴────────────┴────────────────────┴────────────┤\n",
       "│ 10 rows                                             4 columns │\n",
       "└───────────────────────────────────────────────────────────────┘"
      ]
     },
     "execution_count": 7,
     "metadata": {},
     "output_type": "execute_result"
    }
   ],
   "source": [
    "duckdb_ctx.client.sql(f\"SELECT * FROM {fundamentals} LIMIT 10\")"
   ]
  },
  {
   "cell_type": "code",
   "execution_count": null,
   "metadata": {},
   "outputs": [],
   "source": []
  }
 ],
 "metadata": {
  "kernelspec": {
   "display_name": ".venv",
   "language": "python",
   "name": "python3"
  },
  "language_info": {
   "codemirror_mode": {
    "name": "ipython",
    "version": 3
   },
   "file_extension": ".py",
   "mimetype": "text/x-python",
   "name": "python",
   "nbconvert_exporter": "python",
   "pygments_lexer": "ipython3",
   "version": "3.12.6"
  }
 },
 "nbformat": 4,
 "nbformat_minor": 2
}
