{
 "cells": [
  {
   "cell_type": "code",
   "execution_count": 1,
   "metadata": {},
   "outputs": [
    {
     "name": "stdout",
     "output_type": "stream",
     "text": [
      "\u001b[2m2025-01-06 10:37:27\u001b[0m [\u001b[32m\u001b[1minfo     \u001b[0m] \u001b[1minitialized duckdb at /var/folders/tz/g2vwn0qx5ll32j7jfsshhps40000gn/T/ggmau06_/op-analytics.duck.db\u001b[0m \u001b[36mfilename\u001b[0m=\u001b[35mclient.py\u001b[0m \u001b[36mlineno\u001b[0m=\u001b[35m61\u001b[0m \u001b[36mprocess\u001b[0m=\u001b[35m68215\u001b[0m\n",
      "\u001b[2m2025-01-06 10:37:27\u001b[0m [\u001b[32m\u001b[1minfo     \u001b[0m] \u001b[1mloaded vault from .env file   \u001b[0m \u001b[36mfilename\u001b[0m=\u001b[35mvault.py\u001b[0m \u001b[36mlineno\u001b[0m=\u001b[35m32\u001b[0m \u001b[36mprocess\u001b[0m=\u001b[35m68215\u001b[0m\n",
      "\u001b[2m2025-01-06 10:37:27\u001b[0m [\u001b[32m\u001b[1mdebug    \u001b[0m] \u001b[1mloaded vault: 18 items        \u001b[0m \u001b[36mfilename\u001b[0m=\u001b[35mvault.py\u001b[0m \u001b[36mlineno\u001b[0m=\u001b[35m76\u001b[0m \u001b[36mprocess\u001b[0m=\u001b[35m68215\u001b[0m\n"
     ]
    }
   ],
   "source": [
    "from op_analytics.cli.subcommands.pulls.defillama.dataaccess import DefiLlama\n",
    "from op_analytics.coreutils.duckdb_inmem.client import init_client\n",
    "\n",
    "duckdb_ctx = init_client()"
   ]
  },
  {
   "cell_type": "code",
   "execution_count": 6,
   "metadata": {},
   "outputs": [
    {
     "name": "stdout",
     "output_type": "stream",
     "text": [
      "\u001b[2m2025-01-06 11:07:13\u001b[0m [\u001b[32m\u001b[1minfo     \u001b[0m] \u001b[1mquerying markers for 'defillama/dexs_crypto_v1' DateFilter(min_date=None, max_date=None, datevals=[datetime.date(2025, 1, 3)])\u001b[0m \u001b[36mfilename\u001b[0m=\u001b[35mdailydata.py\u001b[0m \u001b[36mlineno\u001b[0m=\u001b[35m103\u001b[0m \u001b[36mprocess\u001b[0m=\u001b[35m68215\u001b[0m\n",
      "\u001b[2m2025-01-06 11:07:13\u001b[0m [\u001b[32m\u001b[1minfo     \u001b[0m] \u001b[1m1 markers found               \u001b[0m \u001b[36mfilename\u001b[0m=\u001b[35mdailydata.py\u001b[0m \u001b[36mlineno\u001b[0m=\u001b[35m117\u001b[0m \u001b[36mmax_dt\u001b[0m=\u001b[35m2025-01-03\u001b[0m \u001b[36mmin_dt\u001b[0m=\u001b[35m2025-01-03\u001b[0m \u001b[36mprocess\u001b[0m=\u001b[35m68215\u001b[0m\n",
      "\u001b[2m2025-01-06 11:07:13\u001b[0m [\u001b[32m\u001b[1minfo     \u001b[0m] \u001b[1m1 distinct paths              \u001b[0m \u001b[36mfilename\u001b[0m=\u001b[35mdailydata.py\u001b[0m \u001b[36mlineno\u001b[0m=\u001b[35m127\u001b[0m \u001b[36mprocess\u001b[0m=\u001b[35m68215\u001b[0m\n",
      "\u001b[2m2025-01-06 11:07:13\u001b[0m [\u001b[32m\u001b[1minfo     \u001b[0m] \u001b[1musing gcs path: https://storage.googleapis.com/oplabs-tools-data-sink/defillama/dexs_crypto_v1/dt=2025-01-03/out.parquet\u001b[0m \u001b[36mfilename\u001b[0m=\u001b[35mdailydata.py\u001b[0m \u001b[36mlineno\u001b[0m=\u001b[35m207\u001b[0m \u001b[36mprocess\u001b[0m=\u001b[35m68215\u001b[0m\n",
      "CREATE TABLE IF NOT EXISTS defillama.dexs_crypto_v1\n",
      "    (\n",
      "        `total_volume_usd` Nullable(Int64),\n",
      "    `total_fees_usd` Nullable(Int64),\n",
      "    `total_revenue_usd` Nullable(Int64)\n",
      "    )\n",
      "    ENGINE = ReplacingMergeTree\n",
      "    \n"
     ]
    }
   ],
   "source": [
    "DefiLlama.DEXS_FEES_TOTAL.clickhouse_schema(\"2025-01-03\")"
   ]
  },
  {
   "cell_type": "code",
   "execution_count": 14,
   "metadata": {},
   "outputs": [
    {
     "name": "stdout",
     "output_type": "stream",
     "text": [
      "\u001b[2m2025-01-06 11:42:58\u001b[0m [\u001b[32m\u001b[1minfo     \u001b[0m] \u001b[1mincremental load to clickhouse\u001b[0m \u001b[36mfilename\u001b[0m=\u001b[35mdailydata.py\u001b[0m \u001b[36mlineno\u001b[0m=\u001b[35m277\u001b[0m \u001b[36mmax_date\u001b[0m=\u001b[35m2025-01-07\u001b[0m \u001b[36mmin_date\u001b[0m=\u001b[35m2025-01-06\u001b[0m \u001b[36mprocess\u001b[0m=\u001b[35m68215\u001b[0m \u001b[36mused_clickhouse_watermark\u001b[0m=\u001b[35mFalse\u001b[0m\n",
      "\u001b[2m2025-01-06 11:42:58\u001b[0m [\u001b[32m\u001b[1minfo     \u001b[0m] \u001b[1mReading data from 'defillama/dexs_protocols_metadata_v1' with filters min_date=2025-01-06, max_date=2025-01-07, date_range_spec=None\u001b[0m \u001b[36mfilename\u001b[0m=\u001b[35mdailydata.py\u001b[0m \u001b[36mlineno\u001b[0m=\u001b[35m176\u001b[0m \u001b[36mprocess\u001b[0m=\u001b[35m68215\u001b[0m\n",
      "\u001b[2m2025-01-06 11:42:58\u001b[0m [\u001b[32m\u001b[1minfo     \u001b[0m] \u001b[1mquerying markers for 'defillama/dexs_protocols_metadata_v1' DateFilter(min_date=datetime.date(2025, 1, 6), max_date=datetime.date(2025, 1, 7), datevals=None)\u001b[0m \u001b[36mfilename\u001b[0m=\u001b[35mdailydata.py\u001b[0m \u001b[36mlineno\u001b[0m=\u001b[35m103\u001b[0m \u001b[36mprocess\u001b[0m=\u001b[35m68215\u001b[0m\n",
      "\u001b[2m2025-01-06 11:42:58\u001b[0m [\u001b[32m\u001b[1minfo     \u001b[0m] \u001b[1m1 markers found               \u001b[0m \u001b[36mfilename\u001b[0m=\u001b[35mdailydata.py\u001b[0m \u001b[36mlineno\u001b[0m=\u001b[35m117\u001b[0m \u001b[36mmax_dt\u001b[0m=\u001b[35m2025-01-06\u001b[0m \u001b[36mmin_dt\u001b[0m=\u001b[35m2025-01-06\u001b[0m \u001b[36mprocess\u001b[0m=\u001b[35m68215\u001b[0m\n",
      "\u001b[2m2025-01-06 11:42:58\u001b[0m [\u001b[32m\u001b[1minfo     \u001b[0m] \u001b[1m1 distinct paths              \u001b[0m \u001b[36mfilename\u001b[0m=\u001b[35mdailydata.py\u001b[0m \u001b[36mlineno\u001b[0m=\u001b[35m127\u001b[0m \u001b[36mprocess\u001b[0m=\u001b[35m68215\u001b[0m\n",
      "\u001b[2m2025-01-06 11:42:59\u001b[0m [\u001b[32m\u001b[1minfo     \u001b[0m] \u001b[1mregistered view: 'defillama_dexs_protocols_metadata_v1' using 1 parquet paths\u001b[0m \u001b[36mfilename\u001b[0m=\u001b[35mclient.py\u001b[0m \u001b[36mlineno\u001b[0m=\u001b[35m170\u001b[0m \u001b[36mprocess\u001b[0m=\u001b[35m68215\u001b[0m\n",
      "┌──────────────────────────────────────┐\n",
      "│                 name                 │\n",
      "│               varchar                │\n",
      "├──────────────────────────────────────┤\n",
      "│ defillama_dexs_by_chain_protocol_v1  │\n",
      "│ defillama_dexs_by_chain_v1           │\n",
      "│ defillama_dexs_crypto_v1             │\n",
      "│ defillama_dexs_protocols_metadata_v1 │\n",
      "└──────────────────────────────────────┘\n",
      "\n",
      "\u001b[2m2025-01-06 11:43:00\u001b[0m [\u001b[32m\u001b[1minfo     \u001b[0m] \u001b[1minsert summary                \u001b[0m \u001b[36mfilename\u001b[0m=\u001b[35mdailydata.py\u001b[0m \u001b[36mlineno\u001b[0m=\u001b[35m294\u001b[0m \u001b[36mprocess\u001b[0m=\u001b[35m68215\u001b[0m \u001b[36mwritten_bytes\u001b[0m=\u001b[35m469.1KB\u001b[0m \u001b[36mwritten_rows\u001b[0m=\u001b[35m634rows\u001b[0m\n"
     ]
    }
   ],
   "source": [
    "DefiLlama.DEXS_PROTOCOLS_METADATA.insert_to_clickhouse(\n",
    "    min_date=\"2025-01-06\",\n",
    "    max_date=\"2025-01-07\",\n",
    ")"
   ]
  },
  {
   "cell_type": "code",
   "execution_count": 10,
   "metadata": {},
   "outputs": [
    {
     "name": "stdout",
     "output_type": "stream",
     "text": [
      "\u001b[2m2025-01-06 11:35:53\u001b[0m [\u001b[32m\u001b[1minfo     \u001b[0m] \u001b[1mquerying markers for 'defillama/dexs_protocols_metadata_v1' DateFilter(min_date=None, max_date=None, datevals=[datetime.date(2025, 1, 6)])\u001b[0m \u001b[36mfilename\u001b[0m=\u001b[35mdailydata.py\u001b[0m \u001b[36mlineno\u001b[0m=\u001b[35m103\u001b[0m \u001b[36mprocess\u001b[0m=\u001b[35m68215\u001b[0m\n",
      "\u001b[2m2025-01-06 11:35:53\u001b[0m [\u001b[32m\u001b[1minfo     \u001b[0m] \u001b[1m1 markers found               \u001b[0m \u001b[36mfilename\u001b[0m=\u001b[35mdailydata.py\u001b[0m \u001b[36mlineno\u001b[0m=\u001b[35m117\u001b[0m \u001b[36mmax_dt\u001b[0m=\u001b[35m2025-01-06\u001b[0m \u001b[36mmin_dt\u001b[0m=\u001b[35m2025-01-06\u001b[0m \u001b[36mprocess\u001b[0m=\u001b[35m68215\u001b[0m\n",
      "\u001b[2m2025-01-06 11:35:53\u001b[0m [\u001b[32m\u001b[1minfo     \u001b[0m] \u001b[1m1 distinct paths              \u001b[0m \u001b[36mfilename\u001b[0m=\u001b[35mdailydata.py\u001b[0m \u001b[36mlineno\u001b[0m=\u001b[35m127\u001b[0m \u001b[36mprocess\u001b[0m=\u001b[35m68215\u001b[0m\n",
      "\u001b[2m2025-01-06 11:35:53\u001b[0m [\u001b[32m\u001b[1minfo     \u001b[0m] \u001b[1musing gcs path: https://storage.googleapis.com/oplabs-tools-data-sink/defillama/dexs_protocols_metadata_v1/dt=2025-01-06/out.parquet\u001b[0m \u001b[36mfilename\u001b[0m=\u001b[35mdailydata.py\u001b[0m \u001b[36mlineno\u001b[0m=\u001b[35m207\u001b[0m \u001b[36mprocess\u001b[0m=\u001b[35m68215\u001b[0m\n",
      "CREATE TABLE IF NOT EXISTS defillama.dexs_protocols_metadata_v1\n",
      "    (\n",
      "        `defillamaId` Nullable(String),\n",
      "    `name` Nullable(String),\n",
      "    `displayName` Nullable(String),\n",
      "    `module` Nullable(String),\n",
      "    `category` Nullable(String),\n",
      "    `logo` Nullable(String),\n",
      "    `chains` Array(Nullable(String)),\n",
      "    `protocolType` Nullable(String),\n",
      "    `methodologyURL` Nullable(String),\n",
      "    `methodology` Array(Tuple(\n",
      "    key Nullable(String),\n",
      "    value Nullable(String))),\n",
      "    `latestFetchIsOk` Nullable(Bool),\n",
      "    `slug` Nullable(String),\n",
      "    `id` Nullable(String),\n",
      "    `parentProtocol` Nullable(String)\n",
      "    )\n",
      "    ENGINE = ReplacingMergeTree\n",
      "    \n"
     ]
    }
   ],
   "source": [
    "DefiLlama.DEXS_PROTOCOLS_METADATA.clickhouse_schema(\"2025-01-06\")"
   ]
  },
  {
   "cell_type": "code",
   "execution_count": null,
   "metadata": {},
   "outputs": [],
   "source": []
  }
 ],
 "metadata": {
  "kernelspec": {
   "display_name": ".venv",
   "language": "python",
   "name": "python3"
  },
  "language_info": {
   "codemirror_mode": {
    "name": "ipython",
    "version": 3
   },
   "file_extension": ".py",
   "mimetype": "text/x-python",
   "name": "python",
   "nbconvert_exporter": "python",
   "pygments_lexer": "ipython3",
   "version": "3.12.6"
  }
 },
 "nbformat": 4,
 "nbformat_minor": 2
}
