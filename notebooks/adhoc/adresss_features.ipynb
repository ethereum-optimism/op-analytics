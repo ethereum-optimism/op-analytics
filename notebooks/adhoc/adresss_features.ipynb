{
 "cells": [
  {
   "cell_type": "code",
   "execution_count": 1,
   "metadata": {},
   "outputs": [
    {
     "name": "stdout",
     "output_type": "stream",
     "text": [
      "\u001b[2m2024-10-10 16:28:00\u001b[0m [\u001b[32m\u001b[1minfo     \u001b[0m] \u001b[1mLoaded env var: CLICKHOUSE_GOLDSKY_DBT_HOST\u001b[0m\n",
      "\u001b[2m2024-10-10 16:28:00\u001b[0m [\u001b[32m\u001b[1minfo     \u001b[0m] \u001b[1mLoaded env var: CLICKHOUSE_GOLDSKY_DBT_PORT\u001b[0m\n",
      "\u001b[2m2024-10-10 16:28:00\u001b[0m [\u001b[32m\u001b[1minfo     \u001b[0m] \u001b[1mLoaded env var: CLICKHOUSE_GOLDSKY_DBT_USER\u001b[0m\n",
      "\u001b[2m2024-10-10 16:28:00\u001b[0m [\u001b[32m\u001b[1minfo     \u001b[0m] \u001b[1mLoaded env var: CLICKHOUSE_GOLDSKY_DBT_PASSWORD\u001b[0m\n",
      "\u001b[2m2024-10-10 16:28:00\u001b[0m [\u001b[32m\u001b[1minfo     \u001b[0m] \u001b[1mLoaded env var: GITHUB_ACTIONS_GCP_SERVICE_ACCOUNT\u001b[0m\n"
     ]
    }
   ],
   "source": [
    "from op_coreutils.logger import bind_contextvars, clear_contextvars, structlog\n",
    "from op_coreutils.clickhouse.client import append_df\n",
    "\n",
    "\n",
    "from op_datasets.processing.blockrange import BlockRange\n",
    "from op_datasets.coretables.read import filter_to_date, read_core_tables\n",
    "from op_datasets.processing.ozone import DateTask, split_block_range\n",
    "from op_datasets.schemas import ONCHAIN_CORE_DATASETS, CoreDataset\n",
    "from op_datasets.processing.write import write_to_sink\n",
    "\n"
   ]
  },
  {
   "cell_type": "code",
   "execution_count": 2,
   "metadata": {},
   "outputs": [
    {
     "name": "stdout",
     "output_type": "stream",
     "text": [
      "\u001b[2m2024-10-10 16:28:05\u001b[0m [\u001b[32m\u001b[1minfo     \u001b[0m] \u001b[1mInitialized Clickhouse client.\u001b[0m\n",
      "\u001b[2m2024-10-10 16:28:06\u001b[0m [\u001b[32m\u001b[1minfo     \u001b[0m] \u001b[1mQuery success: blocks in 1.29s 2000 rows\u001b[0m\n",
      "\u001b[2m2024-10-10 16:28:09\u001b[0m [\u001b[32m\u001b[1minfo     \u001b[0m] \u001b[1mQuery success: transactions in 4.43s 14166 rows\u001b[0m\n",
      "\u001b[2m2024-10-10 16:28:09\u001b[0m [\u001b[32m\u001b[1minfo     \u001b[0m] \u001b[1mFiltering blocks              \u001b[0m \u001b[36mdt\u001b[0m=\u001b[35m2023-06-09\u001b[0m \u001b[36mmax_block\u001b[0m=\u001b[35m105377999\u001b[0m \u001b[36mmin_block\u001b[0m=\u001b[35m105376000\u001b[0m\n"
     ]
    }
   ],
   "source": [
    "\n",
    "from op_datasets.processing.execute import split_block_range, split_dates\n",
    "\n",
    "chain = \"op\"\n",
    "block_range = BlockRange.from_spec(\"105376883:+500\")\n",
    "source_spec = \"goldsky\"\n",
    "sinks_spec = \"file://ozone\"\n",
    "\n",
    "dt = None\n",
    "dataframes = None\n",
    "for batch in split_block_range(block_range):\n",
    "    for _dt, _dataframes in split_dates(batch, chain, source_spec):\n",
    "        dt = _dt\n",
    "        dataframes = _dataframes\n",
    "        break\n",
    "        "
   ]
  },
  {
   "cell_type": "code",
   "execution_count": 3,
   "metadata": {},
   "outputs": [
    {
     "data": {
      "text/plain": [
       "dict_keys(['blocks', 'transactions'])"
      ]
     },
     "execution_count": 3,
     "metadata": {},
     "output_type": "execute_result"
    }
   ],
   "source": [
    "dataframes.keys()"
   ]
  },
  {
   "cell_type": "code",
   "execution_count": 4,
   "metadata": {},
   "outputs": [
    {
     "data": {
      "text/html": [
       "<div><style>\n",
       ".dataframe > thead > tr,\n",
       ".dataframe > tbody > tr {\n",
       "  text-align: right;\n",
       "  white-space: pre-wrap;\n",
       "}\n",
       "</style>\n",
       "<small>shape: (2_000, 24)</small><table border=\"1\" class=\"dataframe\"><thead><tr><th>chain</th><th>network</th><th>chain_id</th><th>dt</th><th>timestamp</th><th>number</th><th>hash</th><th>parent_hash</th><th>nonce</th><th>sha3_uncles</th><th>logs_bloom</th><th>transactions_root</th><th>state_root</th><th>receipts_root</th><th>withdrawals_root</th><th>miner</th><th>difficulty</th><th>total_difficulty</th><th>size</th><th>base_fee_per_gas</th><th>gas_used</th><th>gas_limit</th><th>extra_data</th><th>transaction_count</th></tr><tr><td>str</td><td>str</td><td>i32</td><td>str</td><td>u32</td><td>i64</td><td>str</td><td>str</td><td>str</td><td>str</td><td>str</td><td>str</td><td>str</td><td>str</td><td>str</td><td>str</td><td>f64</td><td>f64</td><td>i64</td><td>i64</td><td>i64</td><td>i64</td><td>str</td><td>i64</td></tr></thead><tbody><tr><td>&quot;op&quot;</td><td>&quot;mainnet&quot;</td><td>10</td><td>&quot;2023-06-09&quot;</td><td>1686350777</td><td>105376000</td><td>&quot;0xf39de7bb1d732c9e4f44a936237a…</td><td>&quot;0x0700a7de40bc26fe8d1a9b51f5ca…</td><td>&quot;0x0000000000000000&quot;</td><td>&quot;0x1dcc4de8dec75d7aab85b567b6cc…</td><td>&quot;0x0020200802800008400000800800…</td><td>&quot;0x07dd81167998b686d00eb025c093…</td><td>&quot;0x3f93fa2d6754a8f6c677a4398446…</td><td>&quot;0x3b6652be45133b033aec22f19ed3…</td><td>&quot;&quot;</td><td>&quot;0x4200000000000000000000000000…</td><td>0.0</td><td>0.0</td><td>2134</td><td>53</td><td>676868</td><td>30000000</td><td>&quot;0x&quot;</td><td>5</td></tr><tr><td>&quot;op&quot;</td><td>&quot;mainnet&quot;</td><td>10</td><td>&quot;2023-06-09&quot;</td><td>1686350779</td><td>105376001</td><td>&quot;0x36db4816b0aea3af6c9b3f1f4f33…</td><td>&quot;0xf39de7bb1d732c9e4f44a936237a…</td><td>&quot;0x0000000000000000&quot;</td><td>&quot;0x1dcc4de8dec75d7aab85b567b6cc…</td><td>&quot;0x040001000a000000000020a00400…</td><td>&quot;0x57df5daa8aff47e38f5767a9c1be…</td><td>&quot;0xbcfd4ea29b78a130fc48d42b7e39…</td><td>&quot;0x87d29faf35ebd5612fccbf8679c0…</td><td>&quot;&quot;</td><td>&quot;0x4200000000000000000000000000…</td><td>0.0</td><td>0.0</td><td>4699</td><td>53</td><td>1149120</td><td>30000000</td><td>&quot;0x&quot;</td><td>7</td></tr><tr><td>&quot;op&quot;</td><td>&quot;mainnet&quot;</td><td>10</td><td>&quot;2023-06-09&quot;</td><td>1686350781</td><td>105376002</td><td>&quot;0xe11a8093ae0e5bbb6fccf2157683…</td><td>&quot;0x36db4816b0aea3af6c9b3f1f4f33…</td><td>&quot;0x0000000000000000&quot;</td><td>&quot;0x1dcc4de8dec75d7aab85b567b6cc…</td><td>&quot;0x068010080a000008400018800000…</td><td>&quot;0x9fd507e7819cc1987c4a4e7f82a8…</td><td>&quot;0x0a597b7425428e5e97aae3b80a5f…</td><td>&quot;0xa317a4d3763fe2b9d1acaf0116a0…</td><td>&quot;&quot;</td><td>&quot;0x4200000000000000000000000000…</td><td>0.0</td><td>0.0</td><td>4625</td><td>53</td><td>3368746</td><td>30000000</td><td>&quot;0x&quot;</td><td>9</td></tr><tr><td>&quot;op&quot;</td><td>&quot;mainnet&quot;</td><td>10</td><td>&quot;2023-06-09&quot;</td><td>1686350783</td><td>105376003</td><td>&quot;0x95373c66c1660837bf9a977717a6…</td><td>&quot;0xe11a8093ae0e5bbb6fccf2157683…</td><td>&quot;0x0000000000000000&quot;</td><td>&quot;0x1dcc4de8dec75d7aab85b567b6cc…</td><td>&quot;0x1600004008000000400000800000…</td><td>&quot;0xf88050b75d582ff062230a3bce31…</td><td>&quot;0x88d19aad1c8b07f8f92ad728b972…</td><td>&quot;0x4bf34499818063108e0897c75121…</td><td>&quot;&quot;</td><td>&quot;0x4200000000000000000000000000…</td><td>0.0</td><td>0.0</td><td>3117</td><td>53</td><td>4173936</td><td>30000000</td><td>&quot;0x&quot;</td><td>7</td></tr><tr><td>&quot;op&quot;</td><td>&quot;mainnet&quot;</td><td>10</td><td>&quot;2023-06-09&quot;</td><td>1686350785</td><td>105376004</td><td>&quot;0x5aba44199a8e2231e9dfdf5d34ca…</td><td>&quot;0x95373c66c1660837bf9a977717a6…</td><td>&quot;0x0000000000000000&quot;</td><td>&quot;0x1dcc4de8dec75d7aab85b567b6cc…</td><td>&quot;0x0260240800800002004402800840…</td><td>&quot;0xc45d054308d31aea5039df0f6c14…</td><td>&quot;0xbdfc94e4b98d7933c516ad7ba993…</td><td>&quot;0x5f4989089282557c66cb381c7063…</td><td>&quot;&quot;</td><td>&quot;0x4200000000000000000000000000…</td><td>0.0</td><td>0.0</td><td>3993</td><td>53</td><td>2970850</td><td>30000000</td><td>&quot;0x&quot;</td><td>10</td></tr><tr><td>&hellip;</td><td>&hellip;</td><td>&hellip;</td><td>&hellip;</td><td>&hellip;</td><td>&hellip;</td><td>&hellip;</td><td>&hellip;</td><td>&hellip;</td><td>&hellip;</td><td>&hellip;</td><td>&hellip;</td><td>&hellip;</td><td>&hellip;</td><td>&hellip;</td><td>&hellip;</td><td>&hellip;</td><td>&hellip;</td><td>&hellip;</td><td>&hellip;</td><td>&hellip;</td><td>&hellip;</td><td>&hellip;</td><td>&hellip;</td></tr><tr><td>&quot;op&quot;</td><td>&quot;mainnet&quot;</td><td>10</td><td>&quot;2023-06-09&quot;</td><td>1686354767</td><td>105377995</td><td>&quot;0x70221a9a550a43cafcee6f983490…</td><td>&quot;0x3a3984726bfcca8570cbfb4aed49…</td><td>&quot;0x0000000000000000&quot;</td><td>&quot;0x1dcc4de8dec75d7aab85b567b6cc…</td><td>&quot;0x060000000a000000040020a00000…</td><td>&quot;0x675f91eb283384984e179e524c5a…</td><td>&quot;0xc1fd212fea90b694036bb883597b…</td><td>&quot;0x05024795289cf33398f0a823eb36…</td><td>&quot;&quot;</td><td>&quot;0x4200000000000000000000000000…</td><td>0.0</td><td>0.0</td><td>5321</td><td>58</td><td>2845100</td><td>30000000</td><td>&quot;0x&quot;</td><td>6</td></tr><tr><td>&quot;op&quot;</td><td>&quot;mainnet&quot;</td><td>10</td><td>&quot;2023-06-09&quot;</td><td>1686354769</td><td>105377996</td><td>&quot;0x1c11039e7313c341e9ed0b089c1d…</td><td>&quot;0x70221a9a550a43cafcee6f983490…</td><td>&quot;0x0000000000000000&quot;</td><td>&quot;0x1dcc4de8dec75d7aab85b567b6cc…</td><td>&quot;0x040010500a000002400800800004…</td><td>&quot;0x9d368953eec6e055f55cd777a3a8…</td><td>&quot;0xa92575772a1881333a5575eb3a38…</td><td>&quot;0xd0e8ba3c49d465f48bea09a0c047…</td><td>&quot;&quot;</td><td>&quot;0x4200000000000000000000000000…</td><td>0.0</td><td>0.0</td><td>5167</td><td>58</td><td>1902960</td><td>30000000</td><td>&quot;0x&quot;</td><td>12</td></tr><tr><td>&quot;op&quot;</td><td>&quot;mainnet&quot;</td><td>10</td><td>&quot;2023-06-09&quot;</td><td>1686354771</td><td>105377997</td><td>&quot;0xae2a16ca21762e21f874c5fa6e09…</td><td>&quot;0x1c11039e7313c341e9ed0b089c1d…</td><td>&quot;0x0000000000000000&quot;</td><td>&quot;0x1dcc4de8dec75d7aab85b567b6cc…</td><td>&quot;0x060000402a010808400000880240…</td><td>&quot;0xaa173d7365f15157ebc2cb86962f…</td><td>&quot;0xd485043c0f989a2a3a18cb57660b…</td><td>&quot;0xe323e1920b01399398d499ea2794…</td><td>&quot;&quot;</td><td>&quot;0x4200000000000000000000000000…</td><td>0.0</td><td>0.0</td><td>4411</td><td>58</td><td>9648970</td><td>30000000</td><td>&quot;0x&quot;</td><td>8</td></tr><tr><td>&quot;op&quot;</td><td>&quot;mainnet&quot;</td><td>10</td><td>&quot;2023-06-09&quot;</td><td>1686354773</td><td>105377998</td><td>&quot;0xe2bc65e74eb02e126c638042d7a6…</td><td>&quot;0xae2a16ca21762e21f874c5fa6e09…</td><td>&quot;0x0000000000000000&quot;</td><td>&quot;0x1dcc4de8dec75d7aab85b567b6cc…</td><td>&quot;0x000000000200400a400002880040…</td><td>&quot;0x2c69f93004e29efbe8c88b35fcaf…</td><td>&quot;0x2281e2742065da8574a9da0df002…</td><td>&quot;0x1cad47f7987960289d5b866549d8…</td><td>&quot;&quot;</td><td>&quot;0x4200000000000000000000000000…</td><td>0.0</td><td>0.0</td><td>4071</td><td>59</td><td>3989177</td><td>30000000</td><td>&quot;0x&quot;</td><td>9</td></tr><tr><td>&quot;op&quot;</td><td>&quot;mainnet&quot;</td><td>10</td><td>&quot;2023-06-09&quot;</td><td>1686354775</td><td>105377999</td><td>&quot;0xea9dfd24e2c5145d214f28e8da6a…</td><td>&quot;0xe2bc65e74eb02e126c638042d7a6…</td><td>&quot;0x0000000000000000&quot;</td><td>&quot;0x1dcc4de8dec75d7aab85b567b6cc…</td><td>&quot;0x8602000048010008404092800000…</td><td>&quot;0xfffa63100791da9e2ab3954f41e3…</td><td>&quot;0x6210df4f59a996d71a6101d98ab5…</td><td>&quot;0xb099f78b710db4f2cab9d1e4cd1a…</td><td>&quot;&quot;</td><td>&quot;0x4200000000000000000000000000…</td><td>0.0</td><td>0.0</td><td>4582</td><td>59</td><td>2432169</td><td>30000000</td><td>&quot;0x&quot;</td><td>8</td></tr></tbody></table></div>"
      ],
      "text/plain": [
       "shape: (2_000, 24)\n",
       "┌───────┬─────────┬──────────┬────────────┬───┬──────────┬───────────┬────────────┬────────────────┐\n",
       "│ chain ┆ network ┆ chain_id ┆ dt         ┆ … ┆ gas_used ┆ gas_limit ┆ extra_data ┆ transaction_co │\n",
       "│ ---   ┆ ---     ┆ ---      ┆ ---        ┆   ┆ ---      ┆ ---       ┆ ---        ┆ unt            │\n",
       "│ str   ┆ str     ┆ i32      ┆ str        ┆   ┆ i64      ┆ i64       ┆ str        ┆ ---            │\n",
       "│       ┆         ┆          ┆            ┆   ┆          ┆           ┆            ┆ i64            │\n",
       "╞═══════╪═════════╪══════════╪════════════╪═══╪══════════╪═══════════╪════════════╪════════════════╡\n",
       "│ op    ┆ mainnet ┆ 10       ┆ 2023-06-09 ┆ … ┆ 676868   ┆ 30000000  ┆ 0x         ┆ 5              │\n",
       "│ op    ┆ mainnet ┆ 10       ┆ 2023-06-09 ┆ … ┆ 1149120  ┆ 30000000  ┆ 0x         ┆ 7              │\n",
       "│ op    ┆ mainnet ┆ 10       ┆ 2023-06-09 ┆ … ┆ 3368746  ┆ 30000000  ┆ 0x         ┆ 9              │\n",
       "│ op    ┆ mainnet ┆ 10       ┆ 2023-06-09 ┆ … ┆ 4173936  ┆ 30000000  ┆ 0x         ┆ 7              │\n",
       "│ op    ┆ mainnet ┆ 10       ┆ 2023-06-09 ┆ … ┆ 2970850  ┆ 30000000  ┆ 0x         ┆ 10             │\n",
       "│ …     ┆ …       ┆ …        ┆ …          ┆ … ┆ …        ┆ …         ┆ …          ┆ …              │\n",
       "│ op    ┆ mainnet ┆ 10       ┆ 2023-06-09 ┆ … ┆ 2845100  ┆ 30000000  ┆ 0x         ┆ 6              │\n",
       "│ op    ┆ mainnet ┆ 10       ┆ 2023-06-09 ┆ … ┆ 1902960  ┆ 30000000  ┆ 0x         ┆ 12             │\n",
       "│ op    ┆ mainnet ┆ 10       ┆ 2023-06-09 ┆ … ┆ 9648970  ┆ 30000000  ┆ 0x         ┆ 8              │\n",
       "│ op    ┆ mainnet ┆ 10       ┆ 2023-06-09 ┆ … ┆ 3989177  ┆ 30000000  ┆ 0x         ┆ 9              │\n",
       "│ op    ┆ mainnet ┆ 10       ┆ 2023-06-09 ┆ … ┆ 2432169  ┆ 30000000  ┆ 0x         ┆ 8              │\n",
       "└───────┴─────────┴──────────┴────────────┴───┴──────────┴───────────┴────────────┴────────────────┘"
      ]
     },
     "execution_count": 4,
     "metadata": {},
     "output_type": "execute_result"
    }
   ],
   "source": [
    "dataframes[\"blocks\"]"
   ]
  },
  {
   "cell_type": "code",
   "execution_count": 6,
   "metadata": {},
   "outputs": [
    {
     "data": {
      "text/html": [
       "<div><style>\n",
       ".dataframe > thead > tr,\n",
       ".dataframe > tbody > tr {\n",
       "  text-align: right;\n",
       "  white-space: pre-wrap;\n",
       "}\n",
       "</style>\n",
       "<small>shape: (14_166, 32)</small><table border=\"1\" class=\"dataframe\"><thead><tr><th>dt</th><th>chain</th><th>network</th><th>chain_id</th><th>block_timestamp</th><th>block_number</th><th>block_hash</th><th>hash</th><th>nonce</th><th>transaction_index</th><th>from_address</th><th>to_address</th><th>value_64</th><th>value_lossless</th><th>gas</th><th>gas_price</th><th>input</th><th>transaction_type</th><th>max_fee_per_gas</th><th>max_priority_fee_per_gas</th><th>receipt_cumulative_gas_used</th><th>receipt_gas_used</th><th>receipt_contract_address</th><th>receipt_status</th><th>receipt_effective_gas_price</th><th>receipt_l1_gas_price</th><th>receipt_l1_gas_used</th><th>receipt_l1_fee</th><th>receipt_l1_fee_scalar</th><th>receipt_l1_blob_base_fee</th><th>receipt_l1_blob_base_fee_scalar</th><th>receipt_l1_base_fee_scalar</th></tr><tr><td>str</td><td>str</td><td>str</td><td>i32</td><td>u32</td><td>i64</td><td>str</td><td>str</td><td>i64</td><td>i64</td><td>str</td><td>str</td><td>i64</td><td>str</td><td>i64</td><td>i64</td><td>str</td><td>i32</td><td>i64</td><td>i64</td><td>i64</td><td>i64</td><td>str</td><td>i32</td><td>i64</td><td>i64</td><td>i64</td><td>i64</td><td>f64</td><td>i64</td><td>i64</td><td>i64</td></tr></thead><tbody><tr><td>&quot;2023-06-09&quot;</td><td>&quot;op&quot;</td><td>&quot;mainnet&quot;</td><td>10</td><td>1686350777</td><td>105376000</td><td>&quot;0xf39de7bb1d732c9e4f44a936237a…</td><td>&quot;0x57f50c462841315a0e79a2650fd4…</td><td>140936</td><td>0</td><td>&quot;0xdeaddeaddeaddeaddeaddeaddead…</td><td>&quot;0x4200000000000000000000000000…</td><td>0</td><td>&quot;0&quot;</td><td>1000000</td><td>0</td><td>&quot;0x015d8eb900000000000000000000…</td><td>126</td><td>0</td><td>0</td><td>46913</td><td>46913</td><td>&quot;&quot;</td><td>1</td><td>0</td><td>null</td><td>null</td><td>null</td><td>null</td><td>null</td><td>null</td><td>null</td></tr><tr><td>&quot;2023-06-09&quot;</td><td>&quot;op&quot;</td><td>&quot;mainnet&quot;</td><td>10</td><td>1686350777</td><td>105376000</td><td>&quot;0xf39de7bb1d732c9e4f44a936237a…</td><td>&quot;0x3e53770009212acc648e9faba440…</td><td>164300</td><td>1</td><td>&quot;0x593eb985684616112b09d6fb5d36…</td><td>&quot;0x6a5ed50521eae16df75ad9dfb57a…</td><td>0</td><td>&quot;0&quot;</td><td>5000000</td><td>214</td><td>&quot;0xa6f2ae3a&quot;</td><td>0</td><td>0</td><td>0</td><td>217262</td><td>170349</td><td>&quot;&quot;</td><td>1</td><td>214</td><td>17823396239</td><td>1884</td><td>22968226503764</td><td>0.684</td><td>null</td><td>null</td><td>null</td></tr><tr><td>&quot;2023-06-09&quot;</td><td>&quot;op&quot;</td><td>&quot;mainnet&quot;</td><td>10</td><td>1686350777</td><td>105376000</td><td>&quot;0xf39de7bb1d732c9e4f44a936237a…</td><td>&quot;0x484ed2a2299be2df85746aafd9eb…</td><td>966638</td><td>2</td><td>&quot;0xb8ff877ed78ba520ece21b1de784…</td><td>&quot;0xa0cc33dd6f4819d473226257792a…</td><td>0</td><td>&quot;0&quot;</td><td>173950</td><td>128</td><td>&quot;0x6c459a2800000000000000000000…</td><td>0</td><td>0</td><td>0</td><td>326160</td><td>108898</td><td>&quot;&quot;</td><td>1</td><td>128</td><td>17823396239</td><td>6692</td><td>81583530659869</td><td>0.684</td><td>null</td><td>null</td><td>null</td></tr><tr><td>&quot;2023-06-09&quot;</td><td>&quot;op&quot;</td><td>&quot;mainnet&quot;</td><td>10</td><td>1686350777</td><td>105376000</td><td>&quot;0xf39de7bb1d732c9e4f44a936237a…</td><td>&quot;0xe00836acfc2e456039312de9b217…</td><td>1</td><td>3</td><td>&quot;0x11ed66e8cd3fe0cd749d55664cd2…</td><td>&quot;0xaaecb31961db53ea5ada85ee1bf4…</td><td>2496332147965529</td><td>&quot;2496332147965529&quot;</td><td>22050</td><td>118</td><td>&quot;0x&quot;</td><td>0</td><td>0</td><td>0</td><td>347160</td><td>21000</td><td>&quot;&quot;</td><td>1</td><td>118</td><td>17823396239</td><td>1852</td><td>22578108006885</td><td>0.684</td><td>null</td><td>null</td><td>null</td></tr><tr><td>&quot;2023-06-09&quot;</td><td>&quot;op&quot;</td><td>&quot;mainnet&quot;</td><td>10</td><td>1686350777</td><td>105376000</td><td>&quot;0xf39de7bb1d732c9e4f44a936237a…</td><td>&quot;0x88b6192a9ec8df00f92864badf46…</td><td>11</td><td>4</td><td>&quot;0xefb0eb8c4ecdff8d08b8fd5aacbc…</td><td>&quot;0x52629961f71c1c2564c5aa22372c…</td><td>0</td><td>&quot;0&quot;</td><td>339474</td><td>102</td><td>&quot;0x76319ee000000000000000000000…</td><td>2</td><td>122</td><td>49</td><td>676868</td><td>329708</td><td>&quot;&quot;</td><td>1</td><td>102</td><td>17823396239</td><td>4856</td><td>59200481901423</td><td>0.684</td><td>null</td><td>null</td><td>null</td></tr><tr><td>&hellip;</td><td>&hellip;</td><td>&hellip;</td><td>&hellip;</td><td>&hellip;</td><td>&hellip;</td><td>&hellip;</td><td>&hellip;</td><td>&hellip;</td><td>&hellip;</td><td>&hellip;</td><td>&hellip;</td><td>&hellip;</td><td>&hellip;</td><td>&hellip;</td><td>&hellip;</td><td>&hellip;</td><td>&hellip;</td><td>&hellip;</td><td>&hellip;</td><td>&hellip;</td><td>&hellip;</td><td>&hellip;</td><td>&hellip;</td><td>&hellip;</td><td>&hellip;</td><td>&hellip;</td><td>&hellip;</td><td>&hellip;</td><td>&hellip;</td><td>&hellip;</td><td>&hellip;</td></tr><tr><td>&quot;2023-06-09&quot;</td><td>&quot;op&quot;</td><td>&quot;mainnet&quot;</td><td>10</td><td>1686354775</td><td>105377999</td><td>&quot;0xea9dfd24e2c5145d214f28e8da6a…</td><td>&quot;0x64f9d972224d75e06c28e77b1f12…</td><td>15</td><td>3</td><td>&quot;0xd163a98169ac9fd8a5613a8f8504…</td><td>&quot;0xb0d502e938ed5f4df2e681fe6e41…</td><td>0</td><td>&quot;0&quot;</td><td>322651</td><td>606</td><td>&quot;0x87b21efc00000000000000000000…</td><td>2</td><td>623</td><td>547</td><td>1912546</td><td>301739</td><td>&quot;&quot;</td><td>1</td><td>606</td><td>17849053713</td><td>2624</td><td>32035767188951</td><td>0.684</td><td>null</td><td>null</td><td>null</td></tr><tr><td>&quot;2023-06-09&quot;</td><td>&quot;op&quot;</td><td>&quot;mainnet&quot;</td><td>10</td><td>1686354775</td><td>105377999</td><td>&quot;0xea9dfd24e2c5145d214f28e8da6a…</td><td>&quot;0xbc2e4e52320a4b183428118cf371…</td><td>3</td><td>4</td><td>&quot;0xf091c1da488e63a711c13a508a07…</td><td>&quot;0x296f55f8fb28e498b858d0bcda06…</td><td>314492516189394</td><td>&quot;314492516189394&quot;</td><td>218342</td><td>606</td><td>&quot;0x2e15238c00000000000000000000…</td><td>2</td><td>623</td><td>547</td><td>2120913</td><td>208367</td><td>&quot;&quot;</td><td>1</td><td>606</td><td>17849053713</td><td>3844</td><td>46930445531376</td><td>0.684</td><td>null</td><td>null</td><td>null</td></tr><tr><td>&quot;2023-06-09&quot;</td><td>&quot;op&quot;</td><td>&quot;mainnet&quot;</td><td>10</td><td>1686354775</td><td>105377999</td><td>&quot;0xea9dfd24e2c5145d214f28e8da6a…</td><td>&quot;0x7fabc6ccce3d88f2ec357a6ff051…</td><td>3</td><td>5</td><td>&quot;0x1b3a60cf61fc60c1a111631af76b…</td><td>&quot;0x00000000000000adc04c56bf30ac…</td><td>1200000000000000</td><td>&quot;1200000000000000&quot;</td><td>195902</td><td>606</td><td>&quot;0x0000000000000000000000000000…</td><td>2</td><td>623</td><td>547</td><td>2261836</td><td>140923</td><td>&quot;&quot;</td><td>1</td><td>606</td><td>17849053713</td><td>7668</td><td>93616716007958</td><td>0.684</td><td>null</td><td>null</td><td>null</td></tr><tr><td>&quot;2023-06-09&quot;</td><td>&quot;op&quot;</td><td>&quot;mainnet&quot;</td><td>10</td><td>1686354775</td><td>105377999</td><td>&quot;0xea9dfd24e2c5145d214f28e8da6a…</td><td>&quot;0x2712b30b4a7f2ff161441d363c7a…</td><td>4</td><td>6</td><td>&quot;0x875735f71f730f08e3b5d15039c7…</td><td>&quot;0x94b008aa00579c1307b0ef2c499a…</td><td>0</td><td>&quot;0&quot;</td><td>77757</td><td>604</td><td>&quot;0xa9059cbb00000000000000000000…</td><td>0</td><td>0</td><td>0</td><td>2308874</td><td>47038</td><td>&quot;&quot;</td><td>1</td><td>604</td><td>17849053713</td><td>2388</td><td>29154501542384</td><td>0.684</td><td>null</td><td>null</td><td>null</td></tr><tr><td>&quot;2023-06-09&quot;</td><td>&quot;op&quot;</td><td>&quot;mainnet&quot;</td><td>10</td><td>1686354775</td><td>105377999</td><td>&quot;0xea9dfd24e2c5145d214f28e8da6a…</td><td>&quot;0xabea44550d4b37e335f028f1f9e2…</td><td>133</td><td>7</td><td>&quot;0xa5630017920afd3589b62254acda…</td><td>&quot;0x3fc91a3afd70395cd496c647d5a6…</td><td>1000000000000000</td><td>&quot;1000000000000000&quot;</td><td>178269</td><td>601</td><td>&quot;0x3593564c00000000000000000000…</td><td>2</td><td>621</td><td>542</td><td>2432169</td><td>123295</td><td>&quot;&quot;</td><td>1</td><td>601</td><td>17849053713</td><td>5404</td><td>65976099805295</td><td>0.684</td><td>null</td><td>null</td><td>null</td></tr></tbody></table></div>"
      ],
      "text/plain": [
       "shape: (14_166, 32)\n",
       "┌────────────┬───────┬─────────┬──────────┬───┬─────────────┬────────────┬────────────┬────────────┐\n",
       "│ dt         ┆ chain ┆ network ┆ chain_id ┆ … ┆ receipt_l1_ ┆ receipt_l1 ┆ receipt_l1 ┆ receipt_l1 │\n",
       "│ ---        ┆ ---   ┆ ---     ┆ ---      ┆   ┆ fee_scalar  ┆ _blob_base ┆ _blob_base ┆ _base_fee_ │\n",
       "│ str        ┆ str   ┆ str     ┆ i32      ┆   ┆ ---         ┆ _fee       ┆ _fee_scala ┆ scalar     │\n",
       "│            ┆       ┆         ┆          ┆   ┆ f64         ┆ ---        ┆ …          ┆ ---        │\n",
       "│            ┆       ┆         ┆          ┆   ┆             ┆ i64        ┆ ---        ┆ i64        │\n",
       "│            ┆       ┆         ┆          ┆   ┆             ┆            ┆ i64        ┆            │\n",
       "╞════════════╪═══════╪═════════╪══════════╪═══╪═════════════╪════════════╪════════════╪════════════╡\n",
       "│ 2023-06-09 ┆ op    ┆ mainnet ┆ 10       ┆ … ┆ null        ┆ null       ┆ null       ┆ null       │\n",
       "│ 2023-06-09 ┆ op    ┆ mainnet ┆ 10       ┆ … ┆ 0.684       ┆ null       ┆ null       ┆ null       │\n",
       "│ 2023-06-09 ┆ op    ┆ mainnet ┆ 10       ┆ … ┆ 0.684       ┆ null       ┆ null       ┆ null       │\n",
       "│ 2023-06-09 ┆ op    ┆ mainnet ┆ 10       ┆ … ┆ 0.684       ┆ null       ┆ null       ┆ null       │\n",
       "│ 2023-06-09 ┆ op    ┆ mainnet ┆ 10       ┆ … ┆ 0.684       ┆ null       ┆ null       ┆ null       │\n",
       "│ …          ┆ …     ┆ …       ┆ …        ┆ … ┆ …           ┆ …          ┆ …          ┆ …          │\n",
       "│ 2023-06-09 ┆ op    ┆ mainnet ┆ 10       ┆ … ┆ 0.684       ┆ null       ┆ null       ┆ null       │\n",
       "│ 2023-06-09 ┆ op    ┆ mainnet ┆ 10       ┆ … ┆ 0.684       ┆ null       ┆ null       ┆ null       │\n",
       "│ 2023-06-09 ┆ op    ┆ mainnet ┆ 10       ┆ … ┆ 0.684       ┆ null       ┆ null       ┆ null       │\n",
       "│ 2023-06-09 ┆ op    ┆ mainnet ┆ 10       ┆ … ┆ 0.684       ┆ null       ┆ null       ┆ null       │\n",
       "│ 2023-06-09 ┆ op    ┆ mainnet ┆ 10       ┆ … ┆ 0.684       ┆ null       ┆ null       ┆ null       │\n",
       "└────────────┴───────┴─────────┴──────────┴───┴─────────────┴────────────┴────────────┴────────────┘"
      ]
     },
     "execution_count": 6,
     "metadata": {},
     "output_type": "execute_result"
    }
   ],
   "source": [
    "dataframes[\"transactions\"]"
   ]
  },
  {
   "cell_type": "code",
   "execution_count": 7,
   "metadata": {},
   "outputs": [],
   "source": [
    "def my_logic_for_address_model(_dataframes):\n",
    "    return _dataframes[\"transactions\"]"
   ]
  },
  {
   "cell_type": "code",
   "execution_count": 8,
   "metadata": {},
   "outputs": [
    {
     "data": {
      "text/html": [
       "<div><style>\n",
       ".dataframe > thead > tr,\n",
       ".dataframe > tbody > tr {\n",
       "  text-align: right;\n",
       "  white-space: pre-wrap;\n",
       "}\n",
       "</style>\n",
       "<small>shape: (14_166, 32)</small><table border=\"1\" class=\"dataframe\"><thead><tr><th>dt</th><th>chain</th><th>network</th><th>chain_id</th><th>block_timestamp</th><th>block_number</th><th>block_hash</th><th>hash</th><th>nonce</th><th>transaction_index</th><th>from_address</th><th>to_address</th><th>value_64</th><th>value_lossless</th><th>gas</th><th>gas_price</th><th>input</th><th>transaction_type</th><th>max_fee_per_gas</th><th>max_priority_fee_per_gas</th><th>receipt_cumulative_gas_used</th><th>receipt_gas_used</th><th>receipt_contract_address</th><th>receipt_status</th><th>receipt_effective_gas_price</th><th>receipt_l1_gas_price</th><th>receipt_l1_gas_used</th><th>receipt_l1_fee</th><th>receipt_l1_fee_scalar</th><th>receipt_l1_blob_base_fee</th><th>receipt_l1_blob_base_fee_scalar</th><th>receipt_l1_base_fee_scalar</th></tr><tr><td>str</td><td>str</td><td>str</td><td>i32</td><td>u32</td><td>i64</td><td>str</td><td>str</td><td>i64</td><td>i64</td><td>str</td><td>str</td><td>i64</td><td>str</td><td>i64</td><td>i64</td><td>str</td><td>i32</td><td>i64</td><td>i64</td><td>i64</td><td>i64</td><td>str</td><td>i32</td><td>i64</td><td>i64</td><td>i64</td><td>i64</td><td>f64</td><td>i64</td><td>i64</td><td>i64</td></tr></thead><tbody><tr><td>&quot;2023-06-09&quot;</td><td>&quot;op&quot;</td><td>&quot;mainnet&quot;</td><td>10</td><td>1686350777</td><td>105376000</td><td>&quot;0xf39de7bb1d732c9e4f44a936237a…</td><td>&quot;0x57f50c462841315a0e79a2650fd4…</td><td>140936</td><td>0</td><td>&quot;0xdeaddeaddeaddeaddeaddeaddead…</td><td>&quot;0x4200000000000000000000000000…</td><td>0</td><td>&quot;0&quot;</td><td>1000000</td><td>0</td><td>&quot;0x015d8eb900000000000000000000…</td><td>126</td><td>0</td><td>0</td><td>46913</td><td>46913</td><td>&quot;&quot;</td><td>1</td><td>0</td><td>null</td><td>null</td><td>null</td><td>null</td><td>null</td><td>null</td><td>null</td></tr><tr><td>&quot;2023-06-09&quot;</td><td>&quot;op&quot;</td><td>&quot;mainnet&quot;</td><td>10</td><td>1686350777</td><td>105376000</td><td>&quot;0xf39de7bb1d732c9e4f44a936237a…</td><td>&quot;0x3e53770009212acc648e9faba440…</td><td>164300</td><td>1</td><td>&quot;0x593eb985684616112b09d6fb5d36…</td><td>&quot;0x6a5ed50521eae16df75ad9dfb57a…</td><td>0</td><td>&quot;0&quot;</td><td>5000000</td><td>214</td><td>&quot;0xa6f2ae3a&quot;</td><td>0</td><td>0</td><td>0</td><td>217262</td><td>170349</td><td>&quot;&quot;</td><td>1</td><td>214</td><td>17823396239</td><td>1884</td><td>22968226503764</td><td>0.684</td><td>null</td><td>null</td><td>null</td></tr><tr><td>&quot;2023-06-09&quot;</td><td>&quot;op&quot;</td><td>&quot;mainnet&quot;</td><td>10</td><td>1686350777</td><td>105376000</td><td>&quot;0xf39de7bb1d732c9e4f44a936237a…</td><td>&quot;0x484ed2a2299be2df85746aafd9eb…</td><td>966638</td><td>2</td><td>&quot;0xb8ff877ed78ba520ece21b1de784…</td><td>&quot;0xa0cc33dd6f4819d473226257792a…</td><td>0</td><td>&quot;0&quot;</td><td>173950</td><td>128</td><td>&quot;0x6c459a2800000000000000000000…</td><td>0</td><td>0</td><td>0</td><td>326160</td><td>108898</td><td>&quot;&quot;</td><td>1</td><td>128</td><td>17823396239</td><td>6692</td><td>81583530659869</td><td>0.684</td><td>null</td><td>null</td><td>null</td></tr><tr><td>&quot;2023-06-09&quot;</td><td>&quot;op&quot;</td><td>&quot;mainnet&quot;</td><td>10</td><td>1686350777</td><td>105376000</td><td>&quot;0xf39de7bb1d732c9e4f44a936237a…</td><td>&quot;0xe00836acfc2e456039312de9b217…</td><td>1</td><td>3</td><td>&quot;0x11ed66e8cd3fe0cd749d55664cd2…</td><td>&quot;0xaaecb31961db53ea5ada85ee1bf4…</td><td>2496332147965529</td><td>&quot;2496332147965529&quot;</td><td>22050</td><td>118</td><td>&quot;0x&quot;</td><td>0</td><td>0</td><td>0</td><td>347160</td><td>21000</td><td>&quot;&quot;</td><td>1</td><td>118</td><td>17823396239</td><td>1852</td><td>22578108006885</td><td>0.684</td><td>null</td><td>null</td><td>null</td></tr><tr><td>&quot;2023-06-09&quot;</td><td>&quot;op&quot;</td><td>&quot;mainnet&quot;</td><td>10</td><td>1686350777</td><td>105376000</td><td>&quot;0xf39de7bb1d732c9e4f44a936237a…</td><td>&quot;0x88b6192a9ec8df00f92864badf46…</td><td>11</td><td>4</td><td>&quot;0xefb0eb8c4ecdff8d08b8fd5aacbc…</td><td>&quot;0x52629961f71c1c2564c5aa22372c…</td><td>0</td><td>&quot;0&quot;</td><td>339474</td><td>102</td><td>&quot;0x76319ee000000000000000000000…</td><td>2</td><td>122</td><td>49</td><td>676868</td><td>329708</td><td>&quot;&quot;</td><td>1</td><td>102</td><td>17823396239</td><td>4856</td><td>59200481901423</td><td>0.684</td><td>null</td><td>null</td><td>null</td></tr><tr><td>&hellip;</td><td>&hellip;</td><td>&hellip;</td><td>&hellip;</td><td>&hellip;</td><td>&hellip;</td><td>&hellip;</td><td>&hellip;</td><td>&hellip;</td><td>&hellip;</td><td>&hellip;</td><td>&hellip;</td><td>&hellip;</td><td>&hellip;</td><td>&hellip;</td><td>&hellip;</td><td>&hellip;</td><td>&hellip;</td><td>&hellip;</td><td>&hellip;</td><td>&hellip;</td><td>&hellip;</td><td>&hellip;</td><td>&hellip;</td><td>&hellip;</td><td>&hellip;</td><td>&hellip;</td><td>&hellip;</td><td>&hellip;</td><td>&hellip;</td><td>&hellip;</td><td>&hellip;</td></tr><tr><td>&quot;2023-06-09&quot;</td><td>&quot;op&quot;</td><td>&quot;mainnet&quot;</td><td>10</td><td>1686354775</td><td>105377999</td><td>&quot;0xea9dfd24e2c5145d214f28e8da6a…</td><td>&quot;0x64f9d972224d75e06c28e77b1f12…</td><td>15</td><td>3</td><td>&quot;0xd163a98169ac9fd8a5613a8f8504…</td><td>&quot;0xb0d502e938ed5f4df2e681fe6e41…</td><td>0</td><td>&quot;0&quot;</td><td>322651</td><td>606</td><td>&quot;0x87b21efc00000000000000000000…</td><td>2</td><td>623</td><td>547</td><td>1912546</td><td>301739</td><td>&quot;&quot;</td><td>1</td><td>606</td><td>17849053713</td><td>2624</td><td>32035767188951</td><td>0.684</td><td>null</td><td>null</td><td>null</td></tr><tr><td>&quot;2023-06-09&quot;</td><td>&quot;op&quot;</td><td>&quot;mainnet&quot;</td><td>10</td><td>1686354775</td><td>105377999</td><td>&quot;0xea9dfd24e2c5145d214f28e8da6a…</td><td>&quot;0xbc2e4e52320a4b183428118cf371…</td><td>3</td><td>4</td><td>&quot;0xf091c1da488e63a711c13a508a07…</td><td>&quot;0x296f55f8fb28e498b858d0bcda06…</td><td>314492516189394</td><td>&quot;314492516189394&quot;</td><td>218342</td><td>606</td><td>&quot;0x2e15238c00000000000000000000…</td><td>2</td><td>623</td><td>547</td><td>2120913</td><td>208367</td><td>&quot;&quot;</td><td>1</td><td>606</td><td>17849053713</td><td>3844</td><td>46930445531376</td><td>0.684</td><td>null</td><td>null</td><td>null</td></tr><tr><td>&quot;2023-06-09&quot;</td><td>&quot;op&quot;</td><td>&quot;mainnet&quot;</td><td>10</td><td>1686354775</td><td>105377999</td><td>&quot;0xea9dfd24e2c5145d214f28e8da6a…</td><td>&quot;0x7fabc6ccce3d88f2ec357a6ff051…</td><td>3</td><td>5</td><td>&quot;0x1b3a60cf61fc60c1a111631af76b…</td><td>&quot;0x00000000000000adc04c56bf30ac…</td><td>1200000000000000</td><td>&quot;1200000000000000&quot;</td><td>195902</td><td>606</td><td>&quot;0x0000000000000000000000000000…</td><td>2</td><td>623</td><td>547</td><td>2261836</td><td>140923</td><td>&quot;&quot;</td><td>1</td><td>606</td><td>17849053713</td><td>7668</td><td>93616716007958</td><td>0.684</td><td>null</td><td>null</td><td>null</td></tr><tr><td>&quot;2023-06-09&quot;</td><td>&quot;op&quot;</td><td>&quot;mainnet&quot;</td><td>10</td><td>1686354775</td><td>105377999</td><td>&quot;0xea9dfd24e2c5145d214f28e8da6a…</td><td>&quot;0x2712b30b4a7f2ff161441d363c7a…</td><td>4</td><td>6</td><td>&quot;0x875735f71f730f08e3b5d15039c7…</td><td>&quot;0x94b008aa00579c1307b0ef2c499a…</td><td>0</td><td>&quot;0&quot;</td><td>77757</td><td>604</td><td>&quot;0xa9059cbb00000000000000000000…</td><td>0</td><td>0</td><td>0</td><td>2308874</td><td>47038</td><td>&quot;&quot;</td><td>1</td><td>604</td><td>17849053713</td><td>2388</td><td>29154501542384</td><td>0.684</td><td>null</td><td>null</td><td>null</td></tr><tr><td>&quot;2023-06-09&quot;</td><td>&quot;op&quot;</td><td>&quot;mainnet&quot;</td><td>10</td><td>1686354775</td><td>105377999</td><td>&quot;0xea9dfd24e2c5145d214f28e8da6a…</td><td>&quot;0xabea44550d4b37e335f028f1f9e2…</td><td>133</td><td>7</td><td>&quot;0xa5630017920afd3589b62254acda…</td><td>&quot;0x3fc91a3afd70395cd496c647d5a6…</td><td>1000000000000000</td><td>&quot;1000000000000000&quot;</td><td>178269</td><td>601</td><td>&quot;0x3593564c00000000000000000000…</td><td>2</td><td>621</td><td>542</td><td>2432169</td><td>123295</td><td>&quot;&quot;</td><td>1</td><td>601</td><td>17849053713</td><td>5404</td><td>65976099805295</td><td>0.684</td><td>null</td><td>null</td><td>null</td></tr></tbody></table></div>"
      ],
      "text/plain": [
       "shape: (14_166, 32)\n",
       "┌────────────┬───────┬─────────┬──────────┬───┬─────────────┬────────────┬────────────┬────────────┐\n",
       "│ dt         ┆ chain ┆ network ┆ chain_id ┆ … ┆ receipt_l1_ ┆ receipt_l1 ┆ receipt_l1 ┆ receipt_l1 │\n",
       "│ ---        ┆ ---   ┆ ---     ┆ ---      ┆   ┆ fee_scalar  ┆ _blob_base ┆ _blob_base ┆ _base_fee_ │\n",
       "│ str        ┆ str   ┆ str     ┆ i32      ┆   ┆ ---         ┆ _fee       ┆ _fee_scala ┆ scalar     │\n",
       "│            ┆       ┆         ┆          ┆   ┆ f64         ┆ ---        ┆ …          ┆ ---        │\n",
       "│            ┆       ┆         ┆          ┆   ┆             ┆ i64        ┆ ---        ┆ i64        │\n",
       "│            ┆       ┆         ┆          ┆   ┆             ┆            ┆ i64        ┆            │\n",
       "╞════════════╪═══════╪═════════╪══════════╪═══╪═════════════╪════════════╪════════════╪════════════╡\n",
       "│ 2023-06-09 ┆ op    ┆ mainnet ┆ 10       ┆ … ┆ null        ┆ null       ┆ null       ┆ null       │\n",
       "│ 2023-06-09 ┆ op    ┆ mainnet ┆ 10       ┆ … ┆ 0.684       ┆ null       ┆ null       ┆ null       │\n",
       "│ 2023-06-09 ┆ op    ┆ mainnet ┆ 10       ┆ … ┆ 0.684       ┆ null       ┆ null       ┆ null       │\n",
       "│ 2023-06-09 ┆ op    ┆ mainnet ┆ 10       ┆ … ┆ 0.684       ┆ null       ┆ null       ┆ null       │\n",
       "│ 2023-06-09 ┆ op    ┆ mainnet ┆ 10       ┆ … ┆ 0.684       ┆ null       ┆ null       ┆ null       │\n",
       "│ …          ┆ …     ┆ …       ┆ …        ┆ … ┆ …           ┆ …          ┆ …          ┆ …          │\n",
       "│ 2023-06-09 ┆ op    ┆ mainnet ┆ 10       ┆ … ┆ 0.684       ┆ null       ┆ null       ┆ null       │\n",
       "│ 2023-06-09 ┆ op    ┆ mainnet ┆ 10       ┆ … ┆ 0.684       ┆ null       ┆ null       ┆ null       │\n",
       "│ 2023-06-09 ┆ op    ┆ mainnet ┆ 10       ┆ … ┆ 0.684       ┆ null       ┆ null       ┆ null       │\n",
       "│ 2023-06-09 ┆ op    ┆ mainnet ┆ 10       ┆ … ┆ 0.684       ┆ null       ┆ null       ┆ null       │\n",
       "│ 2023-06-09 ┆ op    ┆ mainnet ┆ 10       ┆ … ┆ 0.684       ┆ null       ┆ null       ┆ null       │\n",
       "└────────────┴───────┴─────────┴──────────┴───┴─────────────┴────────────┴────────────┴────────────┘"
      ]
     },
     "execution_count": 8,
     "metadata": {},
     "output_type": "execute_result"
    }
   ],
   "source": [
    "my_logic_for_address_model(dataframes)"
   ]
  },
  {
   "cell_type": "code",
   "execution_count": null,
   "metadata": {},
   "outputs": [],
   "source": []
  }
 ],
 "metadata": {
  "kernelspec": {
   "display_name": ".venv",
   "language": "python",
   "name": "python3"
  },
  "language_info": {
   "codemirror_mode": {
    "name": "ipython",
    "version": 3
   },
   "file_extension": ".py",
   "mimetype": "text/x-python",
   "name": "python",
   "nbconvert_exporter": "python",
   "pygments_lexer": "ipython3",
   "version": "3.12.6"
  }
 },
 "nbformat": 4,
 "nbformat_minor": 2
}
