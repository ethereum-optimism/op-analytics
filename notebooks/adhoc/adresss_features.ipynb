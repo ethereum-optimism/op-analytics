{
 "cells": [
  {
   "cell_type": "code",
   "execution_count": 1,
   "metadata": {},
   "outputs": [
    {
     "name": "stdout",
     "output_type": "stream",
     "text": [
      "\u001b[2m2024-10-12 11:57:44\u001b[0m [\u001b[32m\u001b[1minfo     \u001b[0m] \u001b[1mLoaded env var: CLICKHOUSE_GOLDSKY_DBT_HOST\u001b[0m\n",
      "\u001b[2m2024-10-12 11:57:44\u001b[0m [\u001b[32m\u001b[1minfo     \u001b[0m] \u001b[1mLoaded env var: CLICKHOUSE_GOLDSKY_DBT_PORT\u001b[0m\n",
      "\u001b[2m2024-10-12 11:57:44\u001b[0m [\u001b[32m\u001b[1minfo     \u001b[0m] \u001b[1mLoaded env var: CLICKHOUSE_GOLDSKY_DBT_USER\u001b[0m\n",
      "\u001b[2m2024-10-12 11:57:44\u001b[0m [\u001b[32m\u001b[1minfo     \u001b[0m] \u001b[1mLoaded env var: CLICKHOUSE_GOLDSKY_DBT_PASSWORD\u001b[0m\n",
      "\u001b[2m2024-10-12 11:57:44\u001b[0m [\u001b[32m\u001b[1minfo     \u001b[0m] \u001b[1mLoaded env var: GITHUB_ACTIONS_GCP_SERVICE_ACCOUNT\u001b[0m\n",
      "\u001b[2m2024-10-12 11:57:45\u001b[0m [\u001b[32m\u001b[1minfo     \u001b[0m] \u001b[1mInitialized Clickhouse client.\u001b[0m\n",
      "\u001b[2m2024-10-12 11:57:47\u001b[0m [\u001b[32m\u001b[1minfo     \u001b[0m] \u001b[1mQuery success: blocks in 2.73s 2000 rows\u001b[0m\n",
      "\u001b[2m2024-10-12 11:57:48\u001b[0m [\u001b[32m\u001b[1minfo     \u001b[0m] \u001b[1mQuery success: transactions in 3.74s 14166 rows\u001b[0m\n",
      "\u001b[2m2024-10-12 11:57:48\u001b[0m [\u001b[32m\u001b[1minfo     \u001b[0m] \u001b[1mFiltering blocks              \u001b[0m \u001b[36mdt\u001b[0m=\u001b[35m2023-06-09\u001b[0m \u001b[36mmax_block\u001b[0m=\u001b[35m105377999\u001b[0m \u001b[36mmin_block\u001b[0m=\u001b[35m105376000\u001b[0m\n"
     ]
    }
   ],
   "source": [
    "from op_datasets.processing.execute import reader, BatchInput\n",
    "\n",
    "inputbatch: BatchInput = None\n",
    "for _inputbatch in reader(chain=\"op\", block_spec=\"105376883:+500\", source_spec=\"goldsky\"):\n",
    "    inputbatch = _inputbatch\n",
    "    break\n",
    "\n",
    "dataframes = inputbatch.dataframes"
   ]
  },
  {
   "cell_type": "code",
   "execution_count": 2,
   "metadata": {},
   "outputs": [
    {
     "data": {
      "text/plain": [
       "{'blocks': shape: (2_000, 24)\n",
       " ┌───────┬─────────┬──────────┬────────────┬───┬──────────┬───────────┬────────────┬────────────────┐\n",
       " │ chain ┆ network ┆ chain_id ┆ dt         ┆ … ┆ gas_used ┆ gas_limit ┆ extra_data ┆ transaction_co │\n",
       " │ ---   ┆ ---     ┆ ---      ┆ ---        ┆   ┆ ---      ┆ ---       ┆ ---        ┆ unt            │\n",
       " │ str   ┆ str     ┆ i32      ┆ str        ┆   ┆ i64      ┆ i64       ┆ str        ┆ ---            │\n",
       " │       ┆         ┆          ┆            ┆   ┆          ┆           ┆            ┆ i64            │\n",
       " ╞═══════╪═════════╪══════════╪════════════╪═══╪══════════╪═══════════╪════════════╪════════════════╡\n",
       " │ op    ┆ mainnet ┆ 10       ┆ 2023-06-09 ┆ … ┆ 676868   ┆ 30000000  ┆ 0x         ┆ 5              │\n",
       " │ op    ┆ mainnet ┆ 10       ┆ 2023-06-09 ┆ … ┆ 1149120  ┆ 30000000  ┆ 0x         ┆ 7              │\n",
       " │ op    ┆ mainnet ┆ 10       ┆ 2023-06-09 ┆ … ┆ 3368746  ┆ 30000000  ┆ 0x         ┆ 9              │\n",
       " │ op    ┆ mainnet ┆ 10       ┆ 2023-06-09 ┆ … ┆ 4173936  ┆ 30000000  ┆ 0x         ┆ 7              │\n",
       " │ op    ┆ mainnet ┆ 10       ┆ 2023-06-09 ┆ … ┆ 2970850  ┆ 30000000  ┆ 0x         ┆ 10             │\n",
       " │ …     ┆ …       ┆ …        ┆ …          ┆ … ┆ …        ┆ …         ┆ …          ┆ …              │\n",
       " │ op    ┆ mainnet ┆ 10       ┆ 2023-06-09 ┆ … ┆ 2845100  ┆ 30000000  ┆ 0x         ┆ 6              │\n",
       " │ op    ┆ mainnet ┆ 10       ┆ 2023-06-09 ┆ … ┆ 1902960  ┆ 30000000  ┆ 0x         ┆ 12             │\n",
       " │ op    ┆ mainnet ┆ 10       ┆ 2023-06-09 ┆ … ┆ 9648970  ┆ 30000000  ┆ 0x         ┆ 8              │\n",
       " │ op    ┆ mainnet ┆ 10       ┆ 2023-06-09 ┆ … ┆ 3989177  ┆ 30000000  ┆ 0x         ┆ 9              │\n",
       " │ op    ┆ mainnet ┆ 10       ┆ 2023-06-09 ┆ … ┆ 2432169  ┆ 30000000  ┆ 0x         ┆ 8              │\n",
       " └───────┴─────────┴──────────┴────────────┴───┴──────────┴───────────┴────────────┴────────────────┘,\n",
       " 'transactions': shape: (14_166, 32)\n",
       " ┌────────────┬───────┬─────────┬──────────┬───┬─────────────┬────────────┬────────────┬────────────┐\n",
       " │ dt         ┆ chain ┆ network ┆ chain_id ┆ … ┆ receipt_l1_ ┆ receipt_l1 ┆ receipt_l1 ┆ receipt_l1 │\n",
       " │ ---        ┆ ---   ┆ ---     ┆ ---      ┆   ┆ fee_scalar  ┆ _blob_base ┆ _blob_base ┆ _base_fee_ │\n",
       " │ str        ┆ str   ┆ str     ┆ i32      ┆   ┆ ---         ┆ _fee       ┆ _fee_scala ┆ scalar     │\n",
       " │            ┆       ┆         ┆          ┆   ┆ f64         ┆ ---        ┆ …          ┆ ---        │\n",
       " │            ┆       ┆         ┆          ┆   ┆             ┆ i64        ┆ ---        ┆ i64        │\n",
       " │            ┆       ┆         ┆          ┆   ┆             ┆            ┆ i64        ┆            │\n",
       " ╞════════════╪═══════╪═════════╪══════════╪═══╪═════════════╪════════════╪════════════╪════════════╡\n",
       " │ 2023-06-09 ┆ op    ┆ mainnet ┆ 10       ┆ … ┆ null        ┆ null       ┆ null       ┆ null       │\n",
       " │ 2023-06-09 ┆ op    ┆ mainnet ┆ 10       ┆ … ┆ 0.684       ┆ null       ┆ null       ┆ null       │\n",
       " │ 2023-06-09 ┆ op    ┆ mainnet ┆ 10       ┆ … ┆ 0.684       ┆ null       ┆ null       ┆ null       │\n",
       " │ 2023-06-09 ┆ op    ┆ mainnet ┆ 10       ┆ … ┆ 0.684       ┆ null       ┆ null       ┆ null       │\n",
       " │ 2023-06-09 ┆ op    ┆ mainnet ┆ 10       ┆ … ┆ 0.684       ┆ null       ┆ null       ┆ null       │\n",
       " │ …          ┆ …     ┆ …       ┆ …        ┆ … ┆ …           ┆ …          ┆ …          ┆ …          │\n",
       " │ 2023-06-09 ┆ op    ┆ mainnet ┆ 10       ┆ … ┆ 0.684       ┆ null       ┆ null       ┆ null       │\n",
       " │ 2023-06-09 ┆ op    ┆ mainnet ┆ 10       ┆ … ┆ 0.684       ┆ null       ┆ null       ┆ null       │\n",
       " │ 2023-06-09 ┆ op    ┆ mainnet ┆ 10       ┆ … ┆ 0.684       ┆ null       ┆ null       ┆ null       │\n",
       " │ 2023-06-09 ┆ op    ┆ mainnet ┆ 10       ┆ … ┆ 0.684       ┆ null       ┆ null       ┆ null       │\n",
       " │ 2023-06-09 ┆ op    ┆ mainnet ┆ 10       ┆ … ┆ 0.684       ┆ null       ┆ null       ┆ null       │\n",
       " └────────────┴───────┴─────────┴──────────┴───┴─────────────┴────────────┴────────────┴────────────┘}"
      ]
     },
     "execution_count": 2,
     "metadata": {},
     "output_type": "execute_result"
    }
   ],
   "source": [
    "dataframes"
   ]
  },
  {
   "cell_type": "code",
   "execution_count": 3,
   "metadata": {},
   "outputs": [],
   "source": [
    "def my_logic_for_address_model(_dataframes):\n",
    "    return _dataframes[\"transactions\"]"
   ]
  },
  {
   "cell_type": "code",
   "execution_count": 4,
   "metadata": {},
   "outputs": [
    {
     "data": {
      "text/html": [
       "<div><style>\n",
       ".dataframe > thead > tr,\n",
       ".dataframe > tbody > tr {\n",
       "  text-align: right;\n",
       "  white-space: pre-wrap;\n",
       "}\n",
       "</style>\n",
       "<small>shape: (14_166, 32)</small><table border=\"1\" class=\"dataframe\"><thead><tr><th>dt</th><th>chain</th><th>network</th><th>chain_id</th><th>block_timestamp</th><th>block_number</th><th>block_hash</th><th>hash</th><th>nonce</th><th>transaction_index</th><th>from_address</th><th>to_address</th><th>value_64</th><th>value_lossless</th><th>gas</th><th>gas_price</th><th>input</th><th>transaction_type</th><th>max_fee_per_gas</th><th>max_priority_fee_per_gas</th><th>receipt_cumulative_gas_used</th><th>receipt_gas_used</th><th>receipt_contract_address</th><th>receipt_status</th><th>receipt_effective_gas_price</th><th>receipt_l1_gas_price</th><th>receipt_l1_gas_used</th><th>receipt_l1_fee</th><th>receipt_l1_fee_scalar</th><th>receipt_l1_blob_base_fee</th><th>receipt_l1_blob_base_fee_scalar</th><th>receipt_l1_base_fee_scalar</th></tr><tr><td>str</td><td>str</td><td>str</td><td>i32</td><td>u32</td><td>i64</td><td>str</td><td>str</td><td>i64</td><td>i64</td><td>str</td><td>str</td><td>i64</td><td>str</td><td>i64</td><td>i64</td><td>str</td><td>i32</td><td>i64</td><td>i64</td><td>i64</td><td>i64</td><td>str</td><td>i32</td><td>i64</td><td>i64</td><td>i64</td><td>i64</td><td>f64</td><td>i64</td><td>i64</td><td>i64</td></tr></thead><tbody><tr><td>&quot;2023-06-09&quot;</td><td>&quot;op&quot;</td><td>&quot;mainnet&quot;</td><td>10</td><td>1686350777</td><td>105376000</td><td>&quot;0xf39de7bb1d732c9e4f44a936237a…</td><td>&quot;0x57f50c462841315a0e79a2650fd4…</td><td>140936</td><td>0</td><td>&quot;0xdeaddeaddeaddeaddeaddeaddead…</td><td>&quot;0x4200000000000000000000000000…</td><td>0</td><td>&quot;0&quot;</td><td>1000000</td><td>0</td><td>&quot;0x015d8eb900000000000000000000…</td><td>126</td><td>0</td><td>0</td><td>46913</td><td>46913</td><td>&quot;&quot;</td><td>1</td><td>0</td><td>null</td><td>null</td><td>null</td><td>null</td><td>null</td><td>null</td><td>null</td></tr><tr><td>&quot;2023-06-09&quot;</td><td>&quot;op&quot;</td><td>&quot;mainnet&quot;</td><td>10</td><td>1686350777</td><td>105376000</td><td>&quot;0xf39de7bb1d732c9e4f44a936237a…</td><td>&quot;0x3e53770009212acc648e9faba440…</td><td>164300</td><td>1</td><td>&quot;0x593eb985684616112b09d6fb5d36…</td><td>&quot;0x6a5ed50521eae16df75ad9dfb57a…</td><td>0</td><td>&quot;0&quot;</td><td>5000000</td><td>214</td><td>&quot;0xa6f2ae3a&quot;</td><td>0</td><td>0</td><td>0</td><td>217262</td><td>170349</td><td>&quot;&quot;</td><td>1</td><td>214</td><td>17823396239</td><td>1884</td><td>22968226503764</td><td>0.684</td><td>null</td><td>null</td><td>null</td></tr><tr><td>&quot;2023-06-09&quot;</td><td>&quot;op&quot;</td><td>&quot;mainnet&quot;</td><td>10</td><td>1686350777</td><td>105376000</td><td>&quot;0xf39de7bb1d732c9e4f44a936237a…</td><td>&quot;0x484ed2a2299be2df85746aafd9eb…</td><td>966638</td><td>2</td><td>&quot;0xb8ff877ed78ba520ece21b1de784…</td><td>&quot;0xa0cc33dd6f4819d473226257792a…</td><td>0</td><td>&quot;0&quot;</td><td>173950</td><td>128</td><td>&quot;0x6c459a2800000000000000000000…</td><td>0</td><td>0</td><td>0</td><td>326160</td><td>108898</td><td>&quot;&quot;</td><td>1</td><td>128</td><td>17823396239</td><td>6692</td><td>81583530659869</td><td>0.684</td><td>null</td><td>null</td><td>null</td></tr><tr><td>&quot;2023-06-09&quot;</td><td>&quot;op&quot;</td><td>&quot;mainnet&quot;</td><td>10</td><td>1686350777</td><td>105376000</td><td>&quot;0xf39de7bb1d732c9e4f44a936237a…</td><td>&quot;0xe00836acfc2e456039312de9b217…</td><td>1</td><td>3</td><td>&quot;0x11ed66e8cd3fe0cd749d55664cd2…</td><td>&quot;0xaaecb31961db53ea5ada85ee1bf4…</td><td>2496332147965529</td><td>&quot;2496332147965529&quot;</td><td>22050</td><td>118</td><td>&quot;0x&quot;</td><td>0</td><td>0</td><td>0</td><td>347160</td><td>21000</td><td>&quot;&quot;</td><td>1</td><td>118</td><td>17823396239</td><td>1852</td><td>22578108006885</td><td>0.684</td><td>null</td><td>null</td><td>null</td></tr><tr><td>&quot;2023-06-09&quot;</td><td>&quot;op&quot;</td><td>&quot;mainnet&quot;</td><td>10</td><td>1686350777</td><td>105376000</td><td>&quot;0xf39de7bb1d732c9e4f44a936237a…</td><td>&quot;0x88b6192a9ec8df00f92864badf46…</td><td>11</td><td>4</td><td>&quot;0xefb0eb8c4ecdff8d08b8fd5aacbc…</td><td>&quot;0x52629961f71c1c2564c5aa22372c…</td><td>0</td><td>&quot;0&quot;</td><td>339474</td><td>102</td><td>&quot;0x76319ee000000000000000000000…</td><td>2</td><td>122</td><td>49</td><td>676868</td><td>329708</td><td>&quot;&quot;</td><td>1</td><td>102</td><td>17823396239</td><td>4856</td><td>59200481901423</td><td>0.684</td><td>null</td><td>null</td><td>null</td></tr><tr><td>&hellip;</td><td>&hellip;</td><td>&hellip;</td><td>&hellip;</td><td>&hellip;</td><td>&hellip;</td><td>&hellip;</td><td>&hellip;</td><td>&hellip;</td><td>&hellip;</td><td>&hellip;</td><td>&hellip;</td><td>&hellip;</td><td>&hellip;</td><td>&hellip;</td><td>&hellip;</td><td>&hellip;</td><td>&hellip;</td><td>&hellip;</td><td>&hellip;</td><td>&hellip;</td><td>&hellip;</td><td>&hellip;</td><td>&hellip;</td><td>&hellip;</td><td>&hellip;</td><td>&hellip;</td><td>&hellip;</td><td>&hellip;</td><td>&hellip;</td><td>&hellip;</td><td>&hellip;</td></tr><tr><td>&quot;2023-06-09&quot;</td><td>&quot;op&quot;</td><td>&quot;mainnet&quot;</td><td>10</td><td>1686354775</td><td>105377999</td><td>&quot;0xea9dfd24e2c5145d214f28e8da6a…</td><td>&quot;0x64f9d972224d75e06c28e77b1f12…</td><td>15</td><td>3</td><td>&quot;0xd163a98169ac9fd8a5613a8f8504…</td><td>&quot;0xb0d502e938ed5f4df2e681fe6e41…</td><td>0</td><td>&quot;0&quot;</td><td>322651</td><td>606</td><td>&quot;0x87b21efc00000000000000000000…</td><td>2</td><td>623</td><td>547</td><td>1912546</td><td>301739</td><td>&quot;&quot;</td><td>1</td><td>606</td><td>17849053713</td><td>2624</td><td>32035767188951</td><td>0.684</td><td>null</td><td>null</td><td>null</td></tr><tr><td>&quot;2023-06-09&quot;</td><td>&quot;op&quot;</td><td>&quot;mainnet&quot;</td><td>10</td><td>1686354775</td><td>105377999</td><td>&quot;0xea9dfd24e2c5145d214f28e8da6a…</td><td>&quot;0xbc2e4e52320a4b183428118cf371…</td><td>3</td><td>4</td><td>&quot;0xf091c1da488e63a711c13a508a07…</td><td>&quot;0x296f55f8fb28e498b858d0bcda06…</td><td>314492516189394</td><td>&quot;314492516189394&quot;</td><td>218342</td><td>606</td><td>&quot;0x2e15238c00000000000000000000…</td><td>2</td><td>623</td><td>547</td><td>2120913</td><td>208367</td><td>&quot;&quot;</td><td>1</td><td>606</td><td>17849053713</td><td>3844</td><td>46930445531376</td><td>0.684</td><td>null</td><td>null</td><td>null</td></tr><tr><td>&quot;2023-06-09&quot;</td><td>&quot;op&quot;</td><td>&quot;mainnet&quot;</td><td>10</td><td>1686354775</td><td>105377999</td><td>&quot;0xea9dfd24e2c5145d214f28e8da6a…</td><td>&quot;0x7fabc6ccce3d88f2ec357a6ff051…</td><td>3</td><td>5</td><td>&quot;0x1b3a60cf61fc60c1a111631af76b…</td><td>&quot;0x00000000000000adc04c56bf30ac…</td><td>1200000000000000</td><td>&quot;1200000000000000&quot;</td><td>195902</td><td>606</td><td>&quot;0x0000000000000000000000000000…</td><td>2</td><td>623</td><td>547</td><td>2261836</td><td>140923</td><td>&quot;&quot;</td><td>1</td><td>606</td><td>17849053713</td><td>7668</td><td>93616716007958</td><td>0.684</td><td>null</td><td>null</td><td>null</td></tr><tr><td>&quot;2023-06-09&quot;</td><td>&quot;op&quot;</td><td>&quot;mainnet&quot;</td><td>10</td><td>1686354775</td><td>105377999</td><td>&quot;0xea9dfd24e2c5145d214f28e8da6a…</td><td>&quot;0x2712b30b4a7f2ff161441d363c7a…</td><td>4</td><td>6</td><td>&quot;0x875735f71f730f08e3b5d15039c7…</td><td>&quot;0x94b008aa00579c1307b0ef2c499a…</td><td>0</td><td>&quot;0&quot;</td><td>77757</td><td>604</td><td>&quot;0xa9059cbb00000000000000000000…</td><td>0</td><td>0</td><td>0</td><td>2308874</td><td>47038</td><td>&quot;&quot;</td><td>1</td><td>604</td><td>17849053713</td><td>2388</td><td>29154501542384</td><td>0.684</td><td>null</td><td>null</td><td>null</td></tr><tr><td>&quot;2023-06-09&quot;</td><td>&quot;op&quot;</td><td>&quot;mainnet&quot;</td><td>10</td><td>1686354775</td><td>105377999</td><td>&quot;0xea9dfd24e2c5145d214f28e8da6a…</td><td>&quot;0xabea44550d4b37e335f028f1f9e2…</td><td>133</td><td>7</td><td>&quot;0xa5630017920afd3589b62254acda…</td><td>&quot;0x3fc91a3afd70395cd496c647d5a6…</td><td>1000000000000000</td><td>&quot;1000000000000000&quot;</td><td>178269</td><td>601</td><td>&quot;0x3593564c00000000000000000000…</td><td>2</td><td>621</td><td>542</td><td>2432169</td><td>123295</td><td>&quot;&quot;</td><td>1</td><td>601</td><td>17849053713</td><td>5404</td><td>65976099805295</td><td>0.684</td><td>null</td><td>null</td><td>null</td></tr></tbody></table></div>"
      ],
      "text/plain": [
       "shape: (14_166, 32)\n",
       "┌────────────┬───────┬─────────┬──────────┬───┬─────────────┬────────────┬────────────┬────────────┐\n",
       "│ dt         ┆ chain ┆ network ┆ chain_id ┆ … ┆ receipt_l1_ ┆ receipt_l1 ┆ receipt_l1 ┆ receipt_l1 │\n",
       "│ ---        ┆ ---   ┆ ---     ┆ ---      ┆   ┆ fee_scalar  ┆ _blob_base ┆ _blob_base ┆ _base_fee_ │\n",
       "│ str        ┆ str   ┆ str     ┆ i32      ┆   ┆ ---         ┆ _fee       ┆ _fee_scala ┆ scalar     │\n",
       "│            ┆       ┆         ┆          ┆   ┆ f64         ┆ ---        ┆ …          ┆ ---        │\n",
       "│            ┆       ┆         ┆          ┆   ┆             ┆ i64        ┆ ---        ┆ i64        │\n",
       "│            ┆       ┆         ┆          ┆   ┆             ┆            ┆ i64        ┆            │\n",
       "╞════════════╪═══════╪═════════╪══════════╪═══╪═════════════╪════════════╪════════════╪════════════╡\n",
       "│ 2023-06-09 ┆ op    ┆ mainnet ┆ 10       ┆ … ┆ null        ┆ null       ┆ null       ┆ null       │\n",
       "│ 2023-06-09 ┆ op    ┆ mainnet ┆ 10       ┆ … ┆ 0.684       ┆ null       ┆ null       ┆ null       │\n",
       "│ 2023-06-09 ┆ op    ┆ mainnet ┆ 10       ┆ … ┆ 0.684       ┆ null       ┆ null       ┆ null       │\n",
       "│ 2023-06-09 ┆ op    ┆ mainnet ┆ 10       ┆ … ┆ 0.684       ┆ null       ┆ null       ┆ null       │\n",
       "│ 2023-06-09 ┆ op    ┆ mainnet ┆ 10       ┆ … ┆ 0.684       ┆ null       ┆ null       ┆ null       │\n",
       "│ …          ┆ …     ┆ …       ┆ …        ┆ … ┆ …           ┆ …          ┆ …          ┆ …          │\n",
       "│ 2023-06-09 ┆ op    ┆ mainnet ┆ 10       ┆ … ┆ 0.684       ┆ null       ┆ null       ┆ null       │\n",
       "│ 2023-06-09 ┆ op    ┆ mainnet ┆ 10       ┆ … ┆ 0.684       ┆ null       ┆ null       ┆ null       │\n",
       "│ 2023-06-09 ┆ op    ┆ mainnet ┆ 10       ┆ … ┆ 0.684       ┆ null       ┆ null       ┆ null       │\n",
       "│ 2023-06-09 ┆ op    ┆ mainnet ┆ 10       ┆ … ┆ 0.684       ┆ null       ┆ null       ┆ null       │\n",
       "│ 2023-06-09 ┆ op    ┆ mainnet ┆ 10       ┆ … ┆ 0.684       ┆ null       ┆ null       ┆ null       │\n",
       "└────────────┴───────┴─────────┴──────────┴───┴─────────────┴────────────┴────────────┴────────────┘"
      ]
     },
     "execution_count": 4,
     "metadata": {},
     "output_type": "execute_result"
    }
   ],
   "source": [
    "my_logic_for_address_model(dataframes)"
   ]
  },
  {
   "cell_type": "code",
   "execution_count": null,
   "metadata": {},
   "outputs": [],
   "source": []
  }
 ],
 "metadata": {
  "kernelspec": {
   "display_name": ".venv",
   "language": "python",
   "name": "python3"
  },
  "language_info": {
   "codemirror_mode": {
    "name": "ipython",
    "version": 3
   },
   "file_extension": ".py",
   "mimetype": "text/x-python",
   "name": "python",
   "nbconvert_exporter": "python",
   "pygments_lexer": "ipython3",
   "version": "3.12.6"
  }
 },
 "nbformat": 4,
 "nbformat_minor": 2
}
