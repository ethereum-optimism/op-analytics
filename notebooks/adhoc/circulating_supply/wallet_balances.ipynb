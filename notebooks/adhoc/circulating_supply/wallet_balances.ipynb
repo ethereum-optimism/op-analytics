{
  "cells": [
    {
      "cell_type": "markdown",
      "metadata": {},
      "source": [
        "# Circulating Supply – Wallet Balances Pull\n",
        "\n",
        "This notebook runs `execute_wallet_balance_pull` from `op_analytics.datasources.walletbalances` using the exact configuration from `USAGE_EXAMPLE.md`.\n",
        "\n",
        "It will:\n",
        "- Read wallets from `inputs/wallets.csv` and Safe API\n",
        "- Read tokens from `inputs/tokens.csv`\n",
        "- Query balances from `https://mainnet.optimism.io/`\n",
        "- Save results to `outputs/wallet_token_balances.csv`\n",
        "- Preview the saved CSV\n"
      ]
    },
    {
      "cell_type": "code",
      "execution_count": null,
      "metadata": {},
      "outputs": [],
      "source": [
        "from pathlib import Path\n",
        "from op_analytics.datasources.walletbalances.main import execute_wallet_balance_pull\n",
        "\n",
        "# Configuration from USAGE_EXAMPLE.md\n",
        "project_root = Path(\"/Users/michael/Documents/GitHub/op-analytics\")\n",
        "wallets_csv = project_root / \"src/op_analytics/datasources/walletbalances/inputs/wallets.csv\"\n",
        "tokens_csv = project_root / \"src/op_analytics/datasources/walletbalances/inputs/tokens.csv\"\n",
        "output_csv = project_root / \"src/op_analytics/datasources/walletbalances/outputs/wallet_token_balances.csv\"\n",
        "rpc_endpoint = \"https://mainnet.optimism.io/\"\n",
        "rate_limit_delay = 0.2\n",
        "safe_api_url = (\n",
        "    \"https://safe-transaction-optimism.safe.global/api/v1/owners/\"\n",
        "    \"0xE4553b743E74dA3424Ac51f8C1E586fd43aE226F/safes/\"\n",
        ")\n",
        "\n",
        "# Ensure output directory exists\n",
        "output_csv.parent.mkdir(parents=True, exist_ok=True)\n",
        "\n",
        "wallets_csv, tokens_csv, output_csv\n"
      ]
    },
    {
      "cell_type": "code",
      "execution_count": null,
      "metadata": {},
      "outputs": [],
      "source": [
        "# Execute the wallet balance pull (this may take ~30 minutes per USAGE_EXAMPLE notes)\n",
        "results = execute_wallet_balance_pull(\n",
        "    wallets_csv=str(wallets_csv),\n",
        "    tokens_csv=str(tokens_csv),\n",
        "    output_csv=str(output_csv),\n",
        "    rpc_endpoint=rpc_endpoint,\n",
        "    rate_limit_delay=rate_limit_delay,\n",
        "    safe_api_url=safe_api_url,\n",
        ")\n",
        "\n",
        "len(results)\n"
      ]
    },
    {
      "cell_type": "code",
      "execution_count": null,
      "metadata": {},
      "outputs": [],
      "source": [
        "import pandas as pd\n",
        "\n",
        "# Preview saved CSV\n",
        "_df = pd.read_csv(output_csv)\n",
        "_display_rows = 20\n",
        "\n",
        "print(f\"Loaded {_df.shape[0]} rows from: {output_csv}\")\n",
        "_df.head(_display_rows)\n"
      ]
    },
    {
      "cell_type": "code",
      "execution_count": null,
      "metadata": {},
      "outputs": [],
      "source": [
        "# Quick summary breakdowns (optional)\n",
        "summary = {\n",
        "    \"rows\": len(_df),\n",
        "    \"unique_wallets\": _df[\"wallet\"].nunique(),\n",
        "    \"unique_tokens\": _df[\"token\"].nunique(),\n",
        "    \"labels\": sorted(_df[\"wallet_label\"].fillna(\"\").unique().tolist()),\n",
        "}\n",
        "summary\n"
      ]
    }
  ],
  "metadata": {
    "language_info": {
      "name": "python"
    }
  },
  "nbformat": 4,
  "nbformat_minor": 2
}
