{
 "cells": [
  {
   "cell_type": "code",
   "execution_count": 2,
   "metadata": {},
   "outputs": [
    {
     "name": "stdout",
     "output_type": "stream",
     "text": [
      "\u001b[2m2024-10-18 16:09:24\u001b[0m [\u001b[32m\u001b[1minfo     \u001b[0m] \u001b[1mLoaded env var: OP_ANALYTICS_VAULT\u001b[0m\n",
      "\u001b[2m2024-10-18 16:09:25\u001b[0m [\u001b[32m\u001b[1minfo     \u001b[0m] \u001b[1mWill process chain='op' 1 batch(es) 2000 total blocks starting at #105376000\u001b[0m\n"
     ]
    }
   ],
   "source": [
    "from op_datasets.etl.ingestion import construct_tasks, reader\n",
    "\n",
    "\n",
    "# Construct the tasks for the desired block spec. \n",
    "tasks = construct_tasks(chains=[\"op\"], block_spec=\"105376883:+500\")\n",
    "\n",
    "\n",
    "# Select only the first task.\n",
    "task = tasks[0]"
   ]
  },
  {
   "cell_type": "code",
   "execution_count": 3,
   "metadata": {},
   "outputs": [
    {
     "name": "stdout",
     "output_type": "stream",
     "text": [
      "\u001b[2m2024-10-18 16:09:26\u001b[0m [\u001b[32m\u001b[1minfo     \u001b[0m] \u001b[1mReading input data from 'goldsky' for op#105376000\u001b[0m\n",
      "\u001b[2m2024-10-18 16:09:26\u001b[0m [\u001b[32m\u001b[1minfo     \u001b[0m] \u001b[1mLoaded 13 items into vault.   \u001b[0m\n",
      "\u001b[2m2024-10-18 16:09:26\u001b[0m [\u001b[32m\u001b[1minfo     \u001b[0m] \u001b[1mInitialized GOLDSKY Clickhouse client.\u001b[0m\n",
      "\u001b[2m2024-10-18 16:09:27\u001b[0m [\u001b[32m\u001b[1minfo     \u001b[0m] \u001b[1mQuery success: transactions in 1.76s 14166 rows\u001b[0m\n",
      "\u001b[2m2024-10-18 16:09:28\u001b[0m [\u001b[32m\u001b[1minfo     \u001b[0m] \u001b[1mQuery success: logs in 1.99s 59381 rows\u001b[0m\n",
      "\u001b[2m2024-10-18 16:09:28\u001b[0m [\u001b[32m\u001b[1minfo     \u001b[0m] \u001b[1mQuery success: blocks in 2.36s 2000 rows\u001b[0m\n",
      "\u001b[2m2024-10-18 16:09:33\u001b[0m [\u001b[32m\u001b[1minfo     \u001b[0m] \u001b[1mQuery success: traces in 7.23s 816977 rows\u001b[0m\n"
     ]
    },
    {
     "data": {
      "text/plain": [
       "dict_keys(['blocks', 'transactions', 'logs', 'traces'])"
      ]
     },
     "execution_count": 3,
     "metadata": {},
     "output_type": "execute_result"
    }
   ],
   "source": [
    "\n",
    "# Read the data and update the tasks input_dataframes.\n",
    "# You can select only some of the core datsets if you don't need to work with all 4 of them.\n",
    "reader(task, source_spec=\"goldsky\", dataset_names=[\"blocks\", \"transactions\"])\n",
    "\n",
    "task.input_dataframes.keys()"
   ]
  },
  {
   "cell_type": "code",
   "execution_count": 4,
   "metadata": {},
   "outputs": [
    {
     "data": {
      "text/html": [
       "<div><style>\n",
       ".dataframe > thead > tr,\n",
       ".dataframe > tbody > tr {\n",
       "  text-align: right;\n",
       "  white-space: pre-wrap;\n",
       "}\n",
       "</style>\n",
       "<small>shape: (2_000, 24)</small><table border=\"1\" class=\"dataframe\"><thead><tr><th>chain</th><th>network</th><th>chain_id</th><th>dt</th><th>timestamp</th><th>number</th><th>hash</th><th>parent_hash</th><th>nonce</th><th>sha3_uncles</th><th>logs_bloom</th><th>transactions_root</th><th>state_root</th><th>receipts_root</th><th>withdrawals_root</th><th>miner</th><th>difficulty</th><th>total_difficulty</th><th>size</th><th>base_fee_per_gas</th><th>gas_used</th><th>gas_limit</th><th>extra_data</th><th>transaction_count</th></tr><tr><td>str</td><td>str</td><td>i32</td><td>str</td><td>u32</td><td>i64</td><td>str</td><td>str</td><td>str</td><td>str</td><td>str</td><td>str</td><td>str</td><td>str</td><td>str</td><td>str</td><td>f64</td><td>f64</td><td>i64</td><td>i64</td><td>i64</td><td>i64</td><td>str</td><td>i64</td></tr></thead><tbody><tr><td>&quot;op&quot;</td><td>&quot;mainnet&quot;</td><td>10</td><td>&quot;2023-06-09&quot;</td><td>1686350777</td><td>105376000</td><td>&quot;0xf39de7bb1d732c9e4f44a936237a…</td><td>&quot;0x0700a7de40bc26fe8d1a9b51f5ca…</td><td>&quot;0x0000000000000000&quot;</td><td>&quot;0x1dcc4de8dec75d7aab85b567b6cc…</td><td>&quot;0x0020200802800008400000800800…</td><td>&quot;0x07dd81167998b686d00eb025c093…</td><td>&quot;0x3f93fa2d6754a8f6c677a4398446…</td><td>&quot;0x3b6652be45133b033aec22f19ed3…</td><td>&quot;&quot;</td><td>&quot;0x4200000000000000000000000000…</td><td>0.0</td><td>0.0</td><td>2134</td><td>53</td><td>676868</td><td>30000000</td><td>&quot;0x&quot;</td><td>5</td></tr><tr><td>&quot;op&quot;</td><td>&quot;mainnet&quot;</td><td>10</td><td>&quot;2023-06-09&quot;</td><td>1686350779</td><td>105376001</td><td>&quot;0x36db4816b0aea3af6c9b3f1f4f33…</td><td>&quot;0xf39de7bb1d732c9e4f44a936237a…</td><td>&quot;0x0000000000000000&quot;</td><td>&quot;0x1dcc4de8dec75d7aab85b567b6cc…</td><td>&quot;0x040001000a000000000020a00400…</td><td>&quot;0x57df5daa8aff47e38f5767a9c1be…</td><td>&quot;0xbcfd4ea29b78a130fc48d42b7e39…</td><td>&quot;0x87d29faf35ebd5612fccbf8679c0…</td><td>&quot;&quot;</td><td>&quot;0x4200000000000000000000000000…</td><td>0.0</td><td>0.0</td><td>4699</td><td>53</td><td>1149120</td><td>30000000</td><td>&quot;0x&quot;</td><td>7</td></tr><tr><td>&quot;op&quot;</td><td>&quot;mainnet&quot;</td><td>10</td><td>&quot;2023-06-09&quot;</td><td>1686350781</td><td>105376002</td><td>&quot;0xe11a8093ae0e5bbb6fccf2157683…</td><td>&quot;0x36db4816b0aea3af6c9b3f1f4f33…</td><td>&quot;0x0000000000000000&quot;</td><td>&quot;0x1dcc4de8dec75d7aab85b567b6cc…</td><td>&quot;0x068010080a000008400018800000…</td><td>&quot;0x9fd507e7819cc1987c4a4e7f82a8…</td><td>&quot;0x0a597b7425428e5e97aae3b80a5f…</td><td>&quot;0xa317a4d3763fe2b9d1acaf0116a0…</td><td>&quot;&quot;</td><td>&quot;0x4200000000000000000000000000…</td><td>0.0</td><td>0.0</td><td>4625</td><td>53</td><td>3368746</td><td>30000000</td><td>&quot;0x&quot;</td><td>9</td></tr><tr><td>&quot;op&quot;</td><td>&quot;mainnet&quot;</td><td>10</td><td>&quot;2023-06-09&quot;</td><td>1686350783</td><td>105376003</td><td>&quot;0x95373c66c1660837bf9a977717a6…</td><td>&quot;0xe11a8093ae0e5bbb6fccf2157683…</td><td>&quot;0x0000000000000000&quot;</td><td>&quot;0x1dcc4de8dec75d7aab85b567b6cc…</td><td>&quot;0x1600004008000000400000800000…</td><td>&quot;0xf88050b75d582ff062230a3bce31…</td><td>&quot;0x88d19aad1c8b07f8f92ad728b972…</td><td>&quot;0x4bf34499818063108e0897c75121…</td><td>&quot;&quot;</td><td>&quot;0x4200000000000000000000000000…</td><td>0.0</td><td>0.0</td><td>3117</td><td>53</td><td>4173936</td><td>30000000</td><td>&quot;0x&quot;</td><td>7</td></tr><tr><td>&quot;op&quot;</td><td>&quot;mainnet&quot;</td><td>10</td><td>&quot;2023-06-09&quot;</td><td>1686350785</td><td>105376004</td><td>&quot;0x5aba44199a8e2231e9dfdf5d34ca…</td><td>&quot;0x95373c66c1660837bf9a977717a6…</td><td>&quot;0x0000000000000000&quot;</td><td>&quot;0x1dcc4de8dec75d7aab85b567b6cc…</td><td>&quot;0x0260240800800002004402800840…</td><td>&quot;0xc45d054308d31aea5039df0f6c14…</td><td>&quot;0xbdfc94e4b98d7933c516ad7ba993…</td><td>&quot;0x5f4989089282557c66cb381c7063…</td><td>&quot;&quot;</td><td>&quot;0x4200000000000000000000000000…</td><td>0.0</td><td>0.0</td><td>3993</td><td>53</td><td>2970850</td><td>30000000</td><td>&quot;0x&quot;</td><td>10</td></tr><tr><td>&hellip;</td><td>&hellip;</td><td>&hellip;</td><td>&hellip;</td><td>&hellip;</td><td>&hellip;</td><td>&hellip;</td><td>&hellip;</td><td>&hellip;</td><td>&hellip;</td><td>&hellip;</td><td>&hellip;</td><td>&hellip;</td><td>&hellip;</td><td>&hellip;</td><td>&hellip;</td><td>&hellip;</td><td>&hellip;</td><td>&hellip;</td><td>&hellip;</td><td>&hellip;</td><td>&hellip;</td><td>&hellip;</td><td>&hellip;</td></tr><tr><td>&quot;op&quot;</td><td>&quot;mainnet&quot;</td><td>10</td><td>&quot;2023-06-09&quot;</td><td>1686354767</td><td>105377995</td><td>&quot;0x70221a9a550a43cafcee6f983490…</td><td>&quot;0x3a3984726bfcca8570cbfb4aed49…</td><td>&quot;0x0000000000000000&quot;</td><td>&quot;0x1dcc4de8dec75d7aab85b567b6cc…</td><td>&quot;0x060000000a000000040020a00000…</td><td>&quot;0x675f91eb283384984e179e524c5a…</td><td>&quot;0xc1fd212fea90b694036bb883597b…</td><td>&quot;0x05024795289cf33398f0a823eb36…</td><td>&quot;&quot;</td><td>&quot;0x4200000000000000000000000000…</td><td>0.0</td><td>0.0</td><td>5321</td><td>58</td><td>2845100</td><td>30000000</td><td>&quot;0x&quot;</td><td>6</td></tr><tr><td>&quot;op&quot;</td><td>&quot;mainnet&quot;</td><td>10</td><td>&quot;2023-06-09&quot;</td><td>1686354769</td><td>105377996</td><td>&quot;0x1c11039e7313c341e9ed0b089c1d…</td><td>&quot;0x70221a9a550a43cafcee6f983490…</td><td>&quot;0x0000000000000000&quot;</td><td>&quot;0x1dcc4de8dec75d7aab85b567b6cc…</td><td>&quot;0x040010500a000002400800800004…</td><td>&quot;0x9d368953eec6e055f55cd777a3a8…</td><td>&quot;0xa92575772a1881333a5575eb3a38…</td><td>&quot;0xd0e8ba3c49d465f48bea09a0c047…</td><td>&quot;&quot;</td><td>&quot;0x4200000000000000000000000000…</td><td>0.0</td><td>0.0</td><td>5167</td><td>58</td><td>1902960</td><td>30000000</td><td>&quot;0x&quot;</td><td>12</td></tr><tr><td>&quot;op&quot;</td><td>&quot;mainnet&quot;</td><td>10</td><td>&quot;2023-06-09&quot;</td><td>1686354771</td><td>105377997</td><td>&quot;0xae2a16ca21762e21f874c5fa6e09…</td><td>&quot;0x1c11039e7313c341e9ed0b089c1d…</td><td>&quot;0x0000000000000000&quot;</td><td>&quot;0x1dcc4de8dec75d7aab85b567b6cc…</td><td>&quot;0x060000402a010808400000880240…</td><td>&quot;0xaa173d7365f15157ebc2cb86962f…</td><td>&quot;0xd485043c0f989a2a3a18cb57660b…</td><td>&quot;0xe323e1920b01399398d499ea2794…</td><td>&quot;&quot;</td><td>&quot;0x4200000000000000000000000000…</td><td>0.0</td><td>0.0</td><td>4411</td><td>58</td><td>9648970</td><td>30000000</td><td>&quot;0x&quot;</td><td>8</td></tr><tr><td>&quot;op&quot;</td><td>&quot;mainnet&quot;</td><td>10</td><td>&quot;2023-06-09&quot;</td><td>1686354773</td><td>105377998</td><td>&quot;0xe2bc65e74eb02e126c638042d7a6…</td><td>&quot;0xae2a16ca21762e21f874c5fa6e09…</td><td>&quot;0x0000000000000000&quot;</td><td>&quot;0x1dcc4de8dec75d7aab85b567b6cc…</td><td>&quot;0x000000000200400a400002880040…</td><td>&quot;0x2c69f93004e29efbe8c88b35fcaf…</td><td>&quot;0x2281e2742065da8574a9da0df002…</td><td>&quot;0x1cad47f7987960289d5b866549d8…</td><td>&quot;&quot;</td><td>&quot;0x4200000000000000000000000000…</td><td>0.0</td><td>0.0</td><td>4071</td><td>59</td><td>3989177</td><td>30000000</td><td>&quot;0x&quot;</td><td>9</td></tr><tr><td>&quot;op&quot;</td><td>&quot;mainnet&quot;</td><td>10</td><td>&quot;2023-06-09&quot;</td><td>1686354775</td><td>105377999</td><td>&quot;0xea9dfd24e2c5145d214f28e8da6a…</td><td>&quot;0xe2bc65e74eb02e126c638042d7a6…</td><td>&quot;0x0000000000000000&quot;</td><td>&quot;0x1dcc4de8dec75d7aab85b567b6cc…</td><td>&quot;0x8602000048010008404092800000…</td><td>&quot;0xfffa63100791da9e2ab3954f41e3…</td><td>&quot;0x6210df4f59a996d71a6101d98ab5…</td><td>&quot;0xb099f78b710db4f2cab9d1e4cd1a…</td><td>&quot;&quot;</td><td>&quot;0x4200000000000000000000000000…</td><td>0.0</td><td>0.0</td><td>4582</td><td>59</td><td>2432169</td><td>30000000</td><td>&quot;0x&quot;</td><td>8</td></tr></tbody></table></div>"
      ],
      "text/plain": [
       "shape: (2_000, 24)\n",
       "┌───────┬─────────┬──────────┬────────────┬───┬──────────┬───────────┬────────────┬────────────────┐\n",
       "│ chain ┆ network ┆ chain_id ┆ dt         ┆ … ┆ gas_used ┆ gas_limit ┆ extra_data ┆ transaction_co │\n",
       "│ ---   ┆ ---     ┆ ---      ┆ ---        ┆   ┆ ---      ┆ ---       ┆ ---        ┆ unt            │\n",
       "│ str   ┆ str     ┆ i32      ┆ str        ┆   ┆ i64      ┆ i64       ┆ str        ┆ ---            │\n",
       "│       ┆         ┆          ┆            ┆   ┆          ┆           ┆            ┆ i64            │\n",
       "╞═══════╪═════════╪══════════╪════════════╪═══╪══════════╪═══════════╪════════════╪════════════════╡\n",
       "│ op    ┆ mainnet ┆ 10       ┆ 2023-06-09 ┆ … ┆ 676868   ┆ 30000000  ┆ 0x         ┆ 5              │\n",
       "│ op    ┆ mainnet ┆ 10       ┆ 2023-06-09 ┆ … ┆ 1149120  ┆ 30000000  ┆ 0x         ┆ 7              │\n",
       "│ op    ┆ mainnet ┆ 10       ┆ 2023-06-09 ┆ … ┆ 3368746  ┆ 30000000  ┆ 0x         ┆ 9              │\n",
       "│ op    ┆ mainnet ┆ 10       ┆ 2023-06-09 ┆ … ┆ 4173936  ┆ 30000000  ┆ 0x         ┆ 7              │\n",
       "│ op    ┆ mainnet ┆ 10       ┆ 2023-06-09 ┆ … ┆ 2970850  ┆ 30000000  ┆ 0x         ┆ 10             │\n",
       "│ …     ┆ …       ┆ …        ┆ …          ┆ … ┆ …        ┆ …         ┆ …          ┆ …              │\n",
       "│ op    ┆ mainnet ┆ 10       ┆ 2023-06-09 ┆ … ┆ 2845100  ┆ 30000000  ┆ 0x         ┆ 6              │\n",
       "│ op    ┆ mainnet ┆ 10       ┆ 2023-06-09 ┆ … ┆ 1902960  ┆ 30000000  ┆ 0x         ┆ 12             │\n",
       "│ op    ┆ mainnet ┆ 10       ┆ 2023-06-09 ┆ … ┆ 9648970  ┆ 30000000  ┆ 0x         ┆ 8              │\n",
       "│ op    ┆ mainnet ┆ 10       ┆ 2023-06-09 ┆ … ┆ 3989177  ┆ 30000000  ┆ 0x         ┆ 9              │\n",
       "│ op    ┆ mainnet ┆ 10       ┆ 2023-06-09 ┆ … ┆ 2432169  ┆ 30000000  ┆ 0x         ┆ 8              │\n",
       "└───────┴─────────┴──────────┴────────────┴───┴──────────┴───────────┴────────────┴────────────────┘"
      ]
     },
     "execution_count": 4,
     "metadata": {},
     "output_type": "execute_result"
    }
   ],
   "source": [
    "task.input_dataframes[\"blocks\"]"
   ]
  },
  {
   "cell_type": "code",
   "execution_count": 5,
   "metadata": {},
   "outputs": [],
   "source": [
    "def my_logic_for_address_model(_dataframes):\n",
    "    return len(_dataframes[\"transactions\"])"
   ]
  },
  {
   "cell_type": "code",
   "execution_count": 6,
   "metadata": {},
   "outputs": [
    {
     "data": {
      "text/plain": [
       "14166"
      ]
     },
     "execution_count": 6,
     "metadata": {},
     "output_type": "execute_result"
    }
   ],
   "source": [
    "my_logic_for_address_model(task.input_dataframes)"
   ]
  },
  {
   "cell_type": "code",
   "execution_count": null,
   "metadata": {},
   "outputs": [],
   "source": []
  }
 ],
 "metadata": {
  "kernelspec": {
   "display_name": ".venv",
   "language": "python",
   "name": "python3"
  },
  "language_info": {
   "codemirror_mode": {
    "name": "ipython",
    "version": 3
   },
   "file_extension": ".py",
   "mimetype": "text/x-python",
   "name": "python",
   "nbconvert_exporter": "python",
   "pygments_lexer": "ipython3",
   "version": "3.12.6"
  }
 },
 "nbformat": 4,
 "nbformat_minor": 2
}
