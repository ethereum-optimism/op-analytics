{
 "cells": [
  {
   "cell_type": "code",
   "execution_count": 1,
   "metadata": {},
   "outputs": [
    {
     "name": "stdout",
     "output_type": "stream",
     "text": [
      "\u001b[2m2025-03-13 15:58:47\u001b[0m [\u001b[32m\u001b[1minfo     \u001b[0m] \u001b[1mcreating table                \u001b[0m \u001b[36mfilename\u001b[0m=\u001b[35mexecute.py\u001b[0m \u001b[36mlineno\u001b[0m=\u001b[35m14\u001b[0m \u001b[36mprocess\u001b[0m=\u001b[35m29633\u001b[0m \u001b[36mtable_name\u001b[0m=\u001b[35mtransforms_governance.ingest_proposals_v1\u001b[0m\n",
      "\u001b[2m2025-03-13 15:58:47\u001b[0m [\u001b[32m\u001b[1mdebug    \u001b[0m] \u001b[1mconnecting to OPLABS Clickhouse client...\u001b[0m \u001b[36mfilename\u001b[0m=\u001b[35mclient.py\u001b[0m \u001b[36mlineno\u001b[0m=\u001b[35m56\u001b[0m \u001b[36mprocess\u001b[0m=\u001b[35m29633\u001b[0m \u001b[36mtable_name\u001b[0m=\u001b[35mtransforms_governance.ingest_proposals_v1\u001b[0m\n",
      "\u001b[2m2025-03-13 15:58:47\u001b[0m [\u001b[32m\u001b[1minfo     \u001b[0m] \u001b[1mloaded vault from .env file   \u001b[0m \u001b[36mfilename\u001b[0m=\u001b[35mvault.py\u001b[0m \u001b[36mlineno\u001b[0m=\u001b[35m32\u001b[0m \u001b[36mprocess\u001b[0m=\u001b[35m29633\u001b[0m \u001b[36mtable_name\u001b[0m=\u001b[35mtransforms_governance.ingest_proposals_v1\u001b[0m\n",
      "\u001b[2m2025-03-13 15:58:47\u001b[0m [\u001b[32m\u001b[1mdebug    \u001b[0m] \u001b[1mloaded vault: 18 items        \u001b[0m \u001b[36mfilename\u001b[0m=\u001b[35mvault.py\u001b[0m \u001b[36mlineno\u001b[0m=\u001b[35m79\u001b[0m \u001b[36mprocess\u001b[0m=\u001b[35m29633\u001b[0m \u001b[36mtable_name\u001b[0m=\u001b[35mtransforms_governance.ingest_proposals_v1\u001b[0m\n",
      "\u001b[2m2025-03-13 15:58:47\u001b[0m [\u001b[32m\u001b[1mdebug    \u001b[0m] \u001b[1minitialized OPLABS Clickhouse client.\u001b[0m \u001b[36mfilename\u001b[0m=\u001b[35mclient.py\u001b[0m \u001b[36mlineno\u001b[0m=\u001b[35m61\u001b[0m \u001b[36mprocess\u001b[0m=\u001b[35m29633\u001b[0m \u001b[36mtable_name\u001b[0m=\u001b[35mtransforms_governance.ingest_proposals_v1\u001b[0m\n",
      "\u001b[2m2025-03-13 15:58:47\u001b[0m [\u001b[32m\u001b[1minfo     \u001b[0m] \u001b[1mbegin ingestion               \u001b[0m \u001b[36mfilename\u001b[0m=\u001b[35mexecute.py\u001b[0m \u001b[36mlineno\u001b[0m=\u001b[35m17\u001b[0m \u001b[36mprocess\u001b[0m=\u001b[35m29633\u001b[0m \u001b[36mtable_name\u001b[0m=\u001b[35mtransforms_governance.ingest_proposals_v1\u001b[0m\n",
      "\u001b[2m2025-03-13 15:58:48\u001b[0m [\u001b[32m\u001b[1minfo     \u001b[0m] \u001b[1mINSERT INTO transforms_governance.ingest_proposals_v1\u001b[0m \u001b[36melapsed_ns\u001b[0m=\u001b[35m1064934919\u001b[0m \u001b[36mfilename\u001b[0m=\u001b[35mexecute.py\u001b[0m \u001b[36mlineno\u001b[0m=\u001b[35m36\u001b[0m \u001b[36mprocess\u001b[0m=\u001b[35m29633\u001b[0m \u001b[36mquery_id\u001b[0m=\u001b[35m189ff6bd-5778-4d55-9559-9ef298958010\u001b[0m \u001b[36mread_bytes\u001b[0m=\u001b[35m1837809\u001b[0m \u001b[36mread_rows\u001b[0m=\u001b[35m663\u001b[0m \u001b[36mresult_bytes\u001b[0m=\u001b[35m1893913\u001b[0m \u001b[36mresult_rows\u001b[0m=\u001b[35m663\u001b[0m \u001b[36mtable_name\u001b[0m=\u001b[35mtransforms_governance.ingest_proposals_v1\u001b[0m \u001b[36mtotal_rows_to_read\u001b[0m=\u001b[35m0\u001b[0m \u001b[36mwritten_bytes\u001b[0m=\u001b[35m1893913\u001b[0m \u001b[36mwritten_rows\u001b[0m=\u001b[35m663\u001b[0m\n",
      "\u001b[2m2025-03-13 15:58:48\u001b[0m [\u001b[32m\u001b[1minfo     \u001b[0m] \u001b[1mcreating table                \u001b[0m \u001b[36mfilename\u001b[0m=\u001b[35mexecute.py\u001b[0m \u001b[36mlineno\u001b[0m=\u001b[35m14\u001b[0m \u001b[36mprocess\u001b[0m=\u001b[35m29633\u001b[0m \u001b[36mtable_name\u001b[0m=\u001b[35mtransforms_governance.ingest_delegates_v1\u001b[0m\n",
      "\u001b[2m2025-03-13 15:58:48\u001b[0m [\u001b[32m\u001b[1minfo     \u001b[0m] \u001b[1mbegin ingestion               \u001b[0m \u001b[36mfilename\u001b[0m=\u001b[35mexecute.py\u001b[0m \u001b[36mlineno\u001b[0m=\u001b[35m17\u001b[0m \u001b[36mprocess\u001b[0m=\u001b[35m29633\u001b[0m \u001b[36mtable_name\u001b[0m=\u001b[35mtransforms_governance.ingest_delegates_v1\u001b[0m\n",
      "\u001b[2m2025-03-13 15:58:50\u001b[0m [\u001b[32m\u001b[1minfo     \u001b[0m] \u001b[1mINSERT INTO transforms_governance.ingest_delegates_v1\u001b[0m \u001b[36melapsed_ns\u001b[0m=\u001b[35m1510093457\u001b[0m \u001b[36mfilename\u001b[0m=\u001b[35mexecute.py\u001b[0m \u001b[36mlineno\u001b[0m=\u001b[35m36\u001b[0m \u001b[36mprocess\u001b[0m=\u001b[35m29633\u001b[0m \u001b[36mquery_id\u001b[0m=\u001b[35ma2e9884c-cf0a-4f81-ba4f-f77e67fab378\u001b[0m \u001b[36mread_bytes\u001b[0m=\u001b[35m25493238\u001b[0m \u001b[36mread_rows\u001b[0m=\u001b[35m241616\u001b[0m \u001b[36mresult_bytes\u001b[0m=\u001b[35m38297704\u001b[0m \u001b[36mresult_rows\u001b[0m=\u001b[35m241616\u001b[0m \u001b[36mtable_name\u001b[0m=\u001b[35mtransforms_governance.ingest_delegates_v1\u001b[0m \u001b[36mtotal_rows_to_read\u001b[0m=\u001b[35m0\u001b[0m \u001b[36mwritten_bytes\u001b[0m=\u001b[35m38297704\u001b[0m \u001b[36mwritten_rows\u001b[0m=\u001b[35m241616\u001b[0m\n",
      "\u001b[2m2025-03-13 15:58:50\u001b[0m [\u001b[32m\u001b[1minfo     \u001b[0m] \u001b[1mcreating table                \u001b[0m \u001b[36mfilename\u001b[0m=\u001b[35mexecute.py\u001b[0m \u001b[36mlineno\u001b[0m=\u001b[35m14\u001b[0m \u001b[36mprocess\u001b[0m=\u001b[35m29633\u001b[0m \u001b[36mtable_name\u001b[0m=\u001b[35mtransforms_governance.ingest_voting_power_snaps_v1\u001b[0m\n",
      "\u001b[2m2025-03-13 15:58:50\u001b[0m [\u001b[32m\u001b[1minfo     \u001b[0m] \u001b[1mbegin ingestion               \u001b[0m \u001b[36mfilename\u001b[0m=\u001b[35mexecute.py\u001b[0m \u001b[36mlineno\u001b[0m=\u001b[35m17\u001b[0m \u001b[36mprocess\u001b[0m=\u001b[35m29633\u001b[0m \u001b[36mtable_name\u001b[0m=\u001b[35mtransforms_governance.ingest_voting_power_snaps_v1\u001b[0m\n",
      "\u001b[2m2025-03-13 15:58:50\u001b[0m [\u001b[32m\u001b[1minfo     \u001b[0m] \u001b[1mWHERE block_number > 133112610\u001b[0m \u001b[36mfilename\u001b[0m=\u001b[35mexecute.py\u001b[0m \u001b[36mlineno\u001b[0m=\u001b[35m29\u001b[0m \u001b[36mprocess\u001b[0m=\u001b[35m29633\u001b[0m \u001b[36mtable_name\u001b[0m=\u001b[35mtransforms_governance.ingest_voting_power_snaps_v1\u001b[0m\n",
      "\u001b[2m2025-03-13 15:59:14\u001b[0m [\u001b[32m\u001b[1minfo     \u001b[0m] \u001b[1mINSERT INTO transforms_governance.ingest_voting_power_snaps_v1\u001b[0m \u001b[36melapsed_ns\u001b[0m=\u001b[35m23414062564\u001b[0m \u001b[36mfilename\u001b[0m=\u001b[35mexecute.py\u001b[0m \u001b[36mlineno\u001b[0m=\u001b[35m36\u001b[0m \u001b[36mprocess\u001b[0m=\u001b[35m29633\u001b[0m \u001b[36mquery_id\u001b[0m=\u001b[35m3bc5abf1-0337-4712-b07c-831ed6b5eb1a\u001b[0m \u001b[36mread_bytes\u001b[0m=\u001b[35m1950370970\u001b[0m \u001b[36mread_rows\u001b[0m=\u001b[35m10152857\u001b[0m \u001b[36mresult_bytes\u001b[0m=\u001b[35m0\u001b[0m \u001b[36mresult_rows\u001b[0m=\u001b[35m0\u001b[0m \u001b[36mtable_name\u001b[0m=\u001b[35mtransforms_governance.ingest_voting_power_snaps_v1\u001b[0m \u001b[36mtotal_rows_to_read\u001b[0m=\u001b[35m0\u001b[0m \u001b[36mwritten_bytes\u001b[0m=\u001b[35m0\u001b[0m \u001b[36mwritten_rows\u001b[0m=\u001b[35m0\u001b[0m\n",
      "\u001b[2m2025-03-13 15:59:14\u001b[0m [\u001b[32m\u001b[1minfo     \u001b[0m] \u001b[1mcreating table                \u001b[0m \u001b[36mfilename\u001b[0m=\u001b[35mexecute.py\u001b[0m \u001b[36mlineno\u001b[0m=\u001b[35m14\u001b[0m \u001b[36mprocess\u001b[0m=\u001b[35m29633\u001b[0m \u001b[36mtable_name\u001b[0m=\u001b[35mtransforms_governance.ingest_votes_v1\u001b[0m\n",
      "\u001b[2m2025-03-13 15:59:14\u001b[0m [\u001b[32m\u001b[1minfo     \u001b[0m] \u001b[1mbegin ingestion               \u001b[0m \u001b[36mfilename\u001b[0m=\u001b[35mexecute.py\u001b[0m \u001b[36mlineno\u001b[0m=\u001b[35m17\u001b[0m \u001b[36mprocess\u001b[0m=\u001b[35m29633\u001b[0m \u001b[36mtable_name\u001b[0m=\u001b[35mtransforms_governance.ingest_votes_v1\u001b[0m\n",
      "\u001b[2m2025-03-13 15:59:14\u001b[0m [\u001b[32m\u001b[1minfo     \u001b[0m] \u001b[1mWHERE block_number > 0        \u001b[0m \u001b[36mfilename\u001b[0m=\u001b[35mexecute.py\u001b[0m \u001b[36mlineno\u001b[0m=\u001b[35m29\u001b[0m \u001b[36mprocess\u001b[0m=\u001b[35m29633\u001b[0m \u001b[36mtable_name\u001b[0m=\u001b[35mtransforms_governance.ingest_votes_v1\u001b[0m\n",
      "\u001b[2m2025-03-13 15:59:36\u001b[0m [\u001b[32m\u001b[1minfo     \u001b[0m] \u001b[1mINSERT INTO transforms_governance.ingest_votes_v1\u001b[0m \u001b[36melapsed_ns\u001b[0m=\u001b[35m21914236453\u001b[0m \u001b[36mfilename\u001b[0m=\u001b[35mexecute.py\u001b[0m \u001b[36mlineno\u001b[0m=\u001b[35m36\u001b[0m \u001b[36mprocess\u001b[0m=\u001b[35m29633\u001b[0m \u001b[36mquery_id\u001b[0m=\u001b[35m8cd6fd7c-6771-4184-913b-a7f0ac7d3094\u001b[0m \u001b[36mread_bytes\u001b[0m=\u001b[35m1646362737\u001b[0m \u001b[36mread_rows\u001b[0m=\u001b[35m791391\u001b[0m \u001b[36mresult_bytes\u001b[0m=\u001b[35m1686387533\u001b[0m \u001b[36mresult_rows\u001b[0m=\u001b[35m791391\u001b[0m \u001b[36mtable_name\u001b[0m=\u001b[35mtransforms_governance.ingest_votes_v1\u001b[0m \u001b[36mtotal_rows_to_read\u001b[0m=\u001b[35m0\u001b[0m \u001b[36mwritten_bytes\u001b[0m=\u001b[35m1686387533\u001b[0m \u001b[36mwritten_rows\u001b[0m=\u001b[35m791391\u001b[0m\n",
      "\u001b[2m2025-03-13 15:59:36\u001b[0m [\u001b[32m\u001b[1minfo     \u001b[0m] \u001b[1mcreating table                \u001b[0m \u001b[36mfilename\u001b[0m=\u001b[35mexecute.py\u001b[0m \u001b[36mlineno\u001b[0m=\u001b[35m14\u001b[0m \u001b[36mprocess\u001b[0m=\u001b[35m29633\u001b[0m \u001b[36mtable_name\u001b[0m=\u001b[35mtransforms_governance.ingest_delegate_changed_events_v1\u001b[0m\n",
      "\u001b[2m2025-03-13 15:59:36\u001b[0m [\u001b[32m\u001b[1minfo     \u001b[0m] \u001b[1mbegin ingestion               \u001b[0m \u001b[36mfilename\u001b[0m=\u001b[35mexecute.py\u001b[0m \u001b[36mlineno\u001b[0m=\u001b[35m17\u001b[0m \u001b[36mprocess\u001b[0m=\u001b[35m29633\u001b[0m \u001b[36mtable_name\u001b[0m=\u001b[35mtransforms_governance.ingest_delegate_changed_events_v1\u001b[0m\n",
      "\u001b[2m2025-03-13 15:59:36\u001b[0m [\u001b[32m\u001b[1minfo     \u001b[0m] \u001b[1mWHERE block_number > 0        \u001b[0m \u001b[36mfilename\u001b[0m=\u001b[35mexecute.py\u001b[0m \u001b[36mlineno\u001b[0m=\u001b[35m29\u001b[0m \u001b[36mprocess\u001b[0m=\u001b[35m29633\u001b[0m \u001b[36mtable_name\u001b[0m=\u001b[35mtransforms_governance.ingest_delegate_changed_events_v1\u001b[0m\n",
      "\u001b[2m2025-03-13 15:59:45\u001b[0m [\u001b[32m\u001b[1minfo     \u001b[0m] \u001b[1mINSERT INTO transforms_governance.ingest_delegate_changed_events_v1\u001b[0m \u001b[36melapsed_ns\u001b[0m=\u001b[35m8728451252\u001b[0m \u001b[36mfilename\u001b[0m=\u001b[35mexecute.py\u001b[0m \u001b[36mlineno\u001b[0m=\u001b[35m36\u001b[0m \u001b[36mprocess\u001b[0m=\u001b[35m29633\u001b[0m \u001b[36mquery_id\u001b[0m=\u001b[35ma11fac4a-98b4-4fac-83a5-71086e19bcb1\u001b[0m \u001b[36mread_bytes\u001b[0m=\u001b[35m471869199\u001b[0m \u001b[36mread_rows\u001b[0m=\u001b[35m1433047\u001b[0m \u001b[36mresult_bytes\u001b[0m=\u001b[35m560321377\u001b[0m \u001b[36mresult_rows\u001b[0m=\u001b[35m1433047\u001b[0m \u001b[36mtable_name\u001b[0m=\u001b[35mtransforms_governance.ingest_delegate_changed_events_v1\u001b[0m \u001b[36mtotal_rows_to_read\u001b[0m=\u001b[35m0\u001b[0m \u001b[36mwritten_bytes\u001b[0m=\u001b[35m560321377\u001b[0m \u001b[36mwritten_rows\u001b[0m=\u001b[35m1433047\u001b[0m\n"
     ]
    }
   ],
   "source": [
    "from op_analytics.datasources.agora.execute import execute_pull\n",
    "\n",
    "execute_pull()\n"
   ]
  }
 ],
 "metadata": {
  "kernelspec": {
   "display_name": ".venv",
   "language": "python",
   "name": "python3"
  },
  "language_info": {
   "codemirror_mode": {
    "name": "ipython",
    "version": 3
   },
   "file_extension": ".py",
   "mimetype": "text/x-python",
   "name": "python",
   "nbconvert_exporter": "python",
   "pygments_lexer": "ipython3",
   "version": "3.12.6"
  }
 },
 "nbformat": 4,
 "nbformat_minor": 2
}
