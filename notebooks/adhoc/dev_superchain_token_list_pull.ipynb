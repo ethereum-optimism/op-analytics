{
 "cells": [
  {
   "cell_type": "code",
   "execution_count": 35,
   "metadata": {},
   "outputs": [],
   "source": [
    "from op_analytics.datasources.ethereum_optimism.dataaccess import EthereumOptimism\n",
    "from op_analytics.datasources.ethereum_optimism.superchain_token_list import execute_pull\n",
    "from op_analytics.coreutils.duckdb_inmem.client import init_client\n",
    "\n",
    "duckdb_ctx = init_client()"
   ]
  },
  {
   "cell_type": "code",
   "execution_count": 36,
   "metadata": {},
   "outputs": [
    {
     "name": "stdout",
     "output_type": "stream",
     "text": [
      "\u001b[2m2025-01-16 20:53:34\u001b[0m [\u001b[32m\u001b[1minfo     \u001b[0m] \u001b[1mFetched from https://raw.githubusercontent.com/ethereum-optimism/ethereum-optimism.github.io/refs/heads/master/optimism.tokenlist.json: 0.09 seconds\u001b[0m \u001b[36mfilename\u001b[0m=\u001b[35mrequest.py\u001b[0m \u001b[36mlineno\u001b[0m=\u001b[35m81\u001b[0m \u001b[36mprocess\u001b[0m=\u001b[35m15029\u001b[0m\n",
      "\u001b[2m2025-01-16 20:53:34\u001b[0m [\u001b[32m\u001b[1minfo     \u001b[0m] \u001b[1mdone writing 875rows 38.2KB   \u001b[0m \u001b[36mfilename\u001b[0m=\u001b[35mgcs_parquet.py\u001b[0m \u001b[36mlineno\u001b[0m=\u001b[35m57\u001b[0m \u001b[36mmaxrss\u001b[0m=\u001b[35m224854016\u001b[0m \u001b[36mpath\u001b[0m=\u001b[35mozone/warehouse/ethereumoptimism/superchain_token_list_v1/dt=2025-01-17/out.parquet\u001b[0m \u001b[36mprocess\u001b[0m=\u001b[35m15029\u001b[0m \u001b[36mroot\u001b[0m=\u001b[35methereumoptimism/superchain_token_list_v1\u001b[0m \u001b[36mrows\u001b[0m=\u001b[35m875\u001b[0m \u001b[36msize\u001b[0m=\u001b[35m38190\u001b[0m\n",
      "\u001b[2m2025-01-16 20:53:34\u001b[0m [\u001b[32m\u001b[1minfo     \u001b[0m] \u001b[1mmemory usage                  \u001b[0m \u001b[36mfilename\u001b[0m=\u001b[35mgcs_parquet.py\u001b[0m \u001b[36mlineno\u001b[0m=\u001b[35m65\u001b[0m \u001b[36mmax_rss\u001b[0m=\u001b[35m224.85\u001b[0m \u001b[36mprocess\u001b[0m=\u001b[35m15029\u001b[0m \u001b[36mroot\u001b[0m=\u001b[35methereumoptimism/superchain_token_list_v1\u001b[0m\n",
      "\u001b[2m2025-01-16 20:53:34\u001b[0m [\u001b[32m\u001b[1mdebug    \u001b[0m] \u001b[1mdone writing ethereumoptimism/superchain_token_list_v1 to LOCAL\u001b[0m \u001b[36mfilename\u001b[0m=\u001b[35mwritehelper.py\u001b[0m \u001b[36mlineno\u001b[0m=\u001b[35m131\u001b[0m \u001b[36mprocess\u001b[0m=\u001b[35m15029\u001b[0m \u001b[36mroot\u001b[0m=\u001b[35methereumoptimism/superchain_token_list_v1\u001b[0m\n"
     ]
    },
    {
     "data": {
      "text/plain": [
       "{'token_list_df': 875}"
      ]
     },
     "execution_count": 36,
     "metadata": {},
     "output_type": "execute_result"
    }
   ],
   "source": [
    "execute_pull()"
   ]
  },
  {
   "cell_type": "code",
   "execution_count": 39,
   "metadata": {},
   "outputs": [
    {
     "data": {
      "text/html": [
       "<div><style>\n",
       ".dataframe > thead > tr,\n",
       ".dataframe > tbody > tr {\n",
       "  text-align: right;\n",
       "  white-space: pre-wrap;\n",
       "}\n",
       "</style>\n",
       "<small>shape: (5, 11)</small><table border=\"1\" class=\"dataframe\"><thead><tr><th>chain_id</th><th>address</th><th>name</th><th>symbol</th><th>decimals</th><th>logo_uri</th><th>optimism_bridge_address</th><th>mode_bridge_address</th><th>base_bridge_address</th><th>op_list_id</th><th>op_token_id</th></tr><tr><td>i64</td><td>str</td><td>str</td><td>str</td><td>i64</td><td>str</td><td>str</td><td>str</td><td>str</td><td>str</td><td>str</td></tr></thead><tbody><tr><td>1</td><td>&quot;0xb6ed7644c69416d67b522e20bc29…</td><td>&quot;0xBitcoin&quot;</td><td>&quot;0xBTC&quot;</td><td>8</td><td>&quot;https://ethereum-optimism.gith…</td><td>&quot;0x99c9fc46f92e8a1c0dec1b1747d0…</td><td>null</td><td>&quot;0x3154cf16ccdb4c6d922629664174…</td><td>&quot;extended&quot;</td><td>&quot;0xBTC&quot;</td></tr><tr><td>10</td><td>&quot;0xe0bb0d3de8c10976511e5030ca40…</td><td>&quot;0xBitcoin&quot;</td><td>&quot;0xBTC&quot;</td><td>8</td><td>&quot;https://ethereum-optimism.gith…</td><td>&quot;0x4200000000000000000000000000…</td><td>null</td><td>null</td><td>&quot;extended&quot;</td><td>&quot;0xBTC&quot;</td></tr><tr><td>8453</td><td>&quot;0xc4d4fd4f4459730d176844c170f2…</td><td>&quot;0xBitcoin&quot;</td><td>&quot;0xBTC&quot;</td><td>8</td><td>&quot;https://ethereum-optimism.gith…</td><td>null</td><td>null</td><td>&quot;0x4200000000000000000000000000…</td><td>&quot;extended&quot;</td><td>&quot;0xBTC&quot;</td></tr><tr><td>1</td><td>&quot;0x111111111117dc0aa78b770fa6a7…</td><td>&quot;1INCH&nbsp;Token&quot;</td><td>&quot;1INCH&quot;</td><td>18</td><td>&quot;https://ethereum-optimism.gith…</td><td>&quot;0x99c9fc46f92e8a1c0dec1b1747d0…</td><td>null</td><td>&quot;0x3154cf16ccdb4c6d922629664174…</td><td>&quot;extended&quot;</td><td>&quot;1INCH&quot;</td></tr><tr><td>10</td><td>&quot;0xad42d013ac31486b73b6b059e748…</td><td>&quot;1INCH&nbsp;Token&quot;</td><td>&quot;1INCH&quot;</td><td>18</td><td>&quot;https://ethereum-optimism.gith…</td><td>&quot;0x4200000000000000000000000000…</td><td>null</td><td>null</td><td>&quot;extended&quot;</td><td>&quot;1INCH&quot;</td></tr></tbody></table></div>"
      ],
      "text/plain": [
       "shape: (5, 11)\n",
       "┌──────────┬────────────┬────────────┬────────┬───┬────────────┬───────────┬───────────┬───────────┐\n",
       "│ chain_id ┆ address    ┆ name       ┆ symbol ┆ … ┆ mode_bridg ┆ base_brid ┆ op_list_i ┆ op_token_ │\n",
       "│ ---      ┆ ---        ┆ ---        ┆ ---    ┆   ┆ e_address  ┆ ge_addres ┆ d         ┆ id        │\n",
       "│ i64      ┆ str        ┆ str        ┆ str    ┆   ┆ ---        ┆ s         ┆ ---       ┆ ---       │\n",
       "│          ┆            ┆            ┆        ┆   ┆ str        ┆ ---       ┆ str       ┆ str       │\n",
       "│          ┆            ┆            ┆        ┆   ┆            ┆ str       ┆           ┆           │\n",
       "╞══════════╪════════════╪════════════╪════════╪═══╪════════════╪═══════════╪═══════════╪═══════════╡\n",
       "│ 1        ┆ 0xb6ed7644 ┆ 0xBitcoin  ┆ 0xBTC  ┆ … ┆ null       ┆ 0x3154cf1 ┆ extended  ┆ 0xBTC     │\n",
       "│          ┆ c69416d67b ┆            ┆        ┆   ┆            ┆ 6ccdb4c6d ┆           ┆           │\n",
       "│          ┆ 522e20bc29 ┆            ┆        ┆   ┆            ┆ 922629664 ┆           ┆           │\n",
       "│          ┆ …          ┆            ┆        ┆   ┆            ┆ 174…      ┆           ┆           │\n",
       "│ 10       ┆ 0xe0bb0d3d ┆ 0xBitcoin  ┆ 0xBTC  ┆ … ┆ null       ┆ null      ┆ extended  ┆ 0xBTC     │\n",
       "│          ┆ e8c1097651 ┆            ┆        ┆   ┆            ┆           ┆           ┆           │\n",
       "│          ┆ 1e5030ca40 ┆            ┆        ┆   ┆            ┆           ┆           ┆           │\n",
       "│          ┆ …          ┆            ┆        ┆   ┆            ┆           ┆           ┆           │\n",
       "│ 8453     ┆ 0xc4d4fd4f ┆ 0xBitcoin  ┆ 0xBTC  ┆ … ┆ null       ┆ 0x4200000 ┆ extended  ┆ 0xBTC     │\n",
       "│          ┆ 4459730d17 ┆            ┆        ┆   ┆            ┆ 000000000 ┆           ┆           │\n",
       "│          ┆ 6844c170f2 ┆            ┆        ┆   ┆            ┆ 000000000 ┆           ┆           │\n",
       "│          ┆ …          ┆            ┆        ┆   ┆            ┆ 000…      ┆           ┆           │\n",
       "│ 1        ┆ 0x11111111 ┆ 1INCH      ┆ 1INCH  ┆ … ┆ null       ┆ 0x3154cf1 ┆ extended  ┆ 1INCH     │\n",
       "│          ┆ 1117dc0aa7 ┆ Token      ┆        ┆   ┆            ┆ 6ccdb4c6d ┆           ┆           │\n",
       "│          ┆ 8b770fa6a7 ┆            ┆        ┆   ┆            ┆ 922629664 ┆           ┆           │\n",
       "│          ┆ …          ┆            ┆        ┆   ┆            ┆ 174…      ┆           ┆           │\n",
       "│ 10       ┆ 0xad42d013 ┆ 1INCH      ┆ 1INCH  ┆ … ┆ null       ┆ null      ┆ extended  ┆ 1INCH     │\n",
       "│          ┆ ac31486b73 ┆ Token      ┆        ┆   ┆            ┆           ┆           ┆           │\n",
       "│          ┆ b6b059e748 ┆            ┆        ┆   ┆            ┆           ┆           ┆           │\n",
       "│          ┆ …          ┆            ┆        ┆   ┆            ┆           ┆           ┆           │\n",
       "└──────────┴────────────┴────────────┴────────┴───┴────────────┴───────────┴───────────┴───────────┘"
      ]
     },
     "execution_count": 39,
     "metadata": {},
     "output_type": "execute_result"
    }
   ],
   "source": [
    "token_list_df.head()"
   ]
  }
 ],
 "metadata": {
  "kernelspec": {
   "display_name": "op-analytics-AF0rKHly",
   "language": "python",
   "name": "python3"
  },
  "language_info": {
   "codemirror_mode": {
    "name": "ipython",
    "version": 3
   },
   "file_extension": ".py",
   "mimetype": "text/x-python",
   "name": "python",
   "nbconvert_exporter": "python",
   "pygments_lexer": "ipython3",
   "version": "3.12.3"
  }
 },
 "nbformat": 4,
 "nbformat_minor": 2
}
