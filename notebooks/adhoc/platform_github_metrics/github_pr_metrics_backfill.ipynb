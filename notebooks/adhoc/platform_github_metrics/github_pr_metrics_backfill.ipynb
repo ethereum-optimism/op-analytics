{
 "cells": [
  {
   "cell_type": "code",
   "execution_count": 1,
   "metadata": {},
   "outputs": [],
   "source": [
    "# Auto update impots\n",
    "%load_ext autoreload\n",
    "%autoreload 2"
   ]
  },
  {
   "cell_type": "markdown",
   "metadata": {},
   "source": [
    "## Daily Back Fill"
   ]
  },
  {
   "cell_type": "code",
   "execution_count": null,
   "metadata": {},
   "outputs": [],
   "source": [
    "from op_analytics.datasources.github.dataaccess import Github\n",
    "prs_df = Github.PRS.read_polars()\n",
    "comments_df = Github.PR_COMMENTS.read_polars()\n",
    "reviews_df = Github.PR_REVIEWS.read_polars()"
   ]
  },
  {
   "cell_type": "code",
   "execution_count": null,
   "metadata": {},
   "outputs": [],
   "source": [
    "# print the schemas and the names of the dataframes\n",
    "print(\"Pull Requests Schema:\")\n",
    "print(prs_df.schema)\n",
    "print(\"\\nPR Comments Schema:\")\n",
    "print(comments_df.schema) \n",
    "print(\"\\nPR Reviews Schema:\")\n",
    "print(reviews_df.schema)"
   ]
  },
  {
   "cell_type": "code",
   "execution_count": 4,
   "metadata": {},
   "outputs": [],
   "source": [
    "# Assert all max dates of the 3 datasets are the same\n",
    "assert prs_df[\"dt\"].max() == comments_df[\"dt\"].max() == reviews_df[\"dt\"].max(), \"Max dates should be equal across all datasets\""
   ]
  },
  {
   "cell_type": "code",
   "execution_count": null,
   "metadata": {},
   "outputs": [],
   "source": [
    "from op_analytics.datasources.github.metrics.compute import compute_all_metrics\n",
    "detailed_metrics = compute_all_metrics(\n",
    "    prs_df=prs_df,\n",
    "    comments_df=comments_df,\n",
    "    reviews_df=reviews_df,\n",
    ")\n",
    "detailed_metrics"
   ]
  },
  {
   "cell_type": "markdown",
   "metadata": {},
   "source": [
    "## Visualizations"
   ]
  },
  {
   "cell_type": "code",
   "execution_count": null,
   "metadata": {},
   "outputs": [],
   "source": [
    "import polars as pl\n",
    "import plotly.express as px\n",
    "\n",
    "def plot_repo_metric_over_time(\n",
    "    combined_df: pl.DataFrame,\n",
    "    repo_name: str,\n",
    "    metric: str,\n",
    "    x_axis: str = \"period_start\",\n",
    "    markers: bool = True\n",
    ") -> None:\n",
    "    \"\"\"\n",
    "    Plot a single metric for one repo, across all rolling timeframes (e.g. 'rolling_week',\n",
    "    'rolling_month', etc.), in a single timeseries chart.\n",
    "\n",
    "    Args:\n",
    "        combined_df: Polars DataFrame containing rows for multiple period_type \n",
    "                     (e.g. 'rolling_week', 'rolling_month', etc.). \n",
    "                     Must have columns:\n",
    "                       - 'repo' (String)\n",
    "                       - 'period_start' (Datetime)\n",
    "                       - 'period_type' (String; e.g. 'rolling_30d' or 'rolling_week')\n",
    "                       - <metric> (the numeric column to plot)\n",
    "        repo_name: The repo to filter on (e.g. 'optimism', 'supersim', etc.)\n",
    "        metric: The numeric column to plot (e.g. 'new_prs', 'total_comments')\n",
    "        x_axis: Column name to use for the time axis (default: 'period_start')\n",
    "        markers: Whether to show markers on the line chart (default: True)\n",
    "    \"\"\"\n",
    "    # 1) Filter for the selected repo\n",
    "    df_pd = (\n",
    "        combined_df\n",
    "        .filter(pl.col(\"repo\") == repo_name)\n",
    "        .sort([x_axis, \"period_type\"])\n",
    "        .select([\"period_type\", x_axis, metric])\n",
    "        .to_pandas()\n",
    "    )\n",
    "\n",
    "    # 2) Plot a single figure with color='period_type'\n",
    "    fig = px.line(\n",
    "        df_pd,\n",
    "        x=x_axis,\n",
    "        y=metric,\n",
    "        color=\"period_type\",\n",
    "        title=f\"{metric} over time for '{repo_name}' by all timeframes\",\n",
    "        markers=markers\n",
    "    )\n",
    "\n",
    "    fig.update_layout(\n",
    "        xaxis_title=x_axis,\n",
    "        yaxis_title=metric,\n",
    "        legend_title=\"Timeframe\"\n",
    "    )\n",
    "    fig.show()\n",
    "\n",
    "plot_repo_metric_over_time(\n",
    "    combined_df=detailed_metrics,\n",
    "    repo_name=\"optimism\",\n",
    "    metric=\"stale_ratio\",\n",
    "    x_axis=\"period_end\",\n",
    "    markers=True\n",
    ")"
   ]
  }
 ],
 "metadata": {
  "kernelspec": {
   "display_name": ".venv",
   "language": "python",
   "name": "python3"
  },
  "language_info": {
   "codemirror_mode": {
    "name": "ipython",
    "version": 3
   },
   "file_extension": ".py",
   "mimetype": "text/x-python",
   "name": "python",
   "nbconvert_exporter": "python",
   "pygments_lexer": "ipython3",
   "version": "3.12.7"
  }
 },
 "nbformat": 4,
 "nbformat_minor": 2
}
