{
 "cells": [
  {
   "cell_type": "code",
   "execution_count": 1,
   "metadata": {},
   "outputs": [
    {
     "name": "stdout",
     "output_type": "stream",
     "text": [
      "\u001b[2m2025-01-14 22:11:08\u001b[0m [\u001b[32m\u001b[1minfo     \u001b[0m] \u001b[1mloaded vault from .env file   \u001b[0m \u001b[36mfilename\u001b[0m=\u001b[35mvault.py\u001b[0m \u001b[36mlineno\u001b[0m=\u001b[35m32\u001b[0m \u001b[36mprocess\u001b[0m=\u001b[35m71053\u001b[0m\n",
      "\u001b[2m2025-01-14 22:11:08\u001b[0m [\u001b[32m\u001b[1mdebug    \u001b[0m] \u001b[1mloaded vault: 18 items        \u001b[0m \u001b[36mfilename\u001b[0m=\u001b[35mvault.py\u001b[0m \u001b[36mlineno\u001b[0m=\u001b[35m76\u001b[0m \u001b[36mprocess\u001b[0m=\u001b[35m71053\u001b[0m\n",
      "\u001b[2m2025-01-14 22:11:12\u001b[0m [\u001b[32m\u001b[1minfo     \u001b[0m] \u001b[1mfetched 116 open in 3.69s     \u001b[0m \u001b[36mfetch\u001b[0m=\u001b[35mPULLS\u001b[0m \u001b[36mfilename\u001b[0m=\u001b[35mgithubapi.py\u001b[0m \u001b[36mlineno\u001b[0m=\u001b[35m182\u001b[0m \u001b[36mprocess\u001b[0m=\u001b[35m71053\u001b[0m\n"
     ]
    },
    {
     "name": "stdout",
     "output_type": "stream",
     "text": [
      "\u001b[2m2025-01-14 22:16:30\u001b[0m [\u001b[32m\u001b[1minfo     \u001b[0m] \u001b[1mfound 0 closed between 2023-01-01 and 2024-01-01 in 317.33s\u001b[0m \u001b[36mfetch\u001b[0m=\u001b[35mPULLS\u001b[0m \u001b[36mfilename\u001b[0m=\u001b[35mgithubapi.py\u001b[0m \u001b[36mlineno\u001b[0m=\u001b[35m199\u001b[0m \u001b[36mprocess\u001b[0m=\u001b[35m71053\u001b[0m\n"
     ]
    },
    {
     "data": {
      "text/html": [
       "<div><style>\n",
       ".dataframe > thead > tr,\n",
       ".dataframe > tbody > tr {\n",
       "  text-align: right;\n",
       "  white-space: pre-wrap;\n",
       "}\n",
       "</style>\n",
       "<small>shape: (0, 19)</small><table border=\"1\" class=\"dataframe\"><thead><tr><th>html_url</th><th>number</th><th>state</th><th>labels</th><th>draft</th><th>created_at</th><th>updated_at</th><th>closed_at</th><th>merged_at</th><th>author_association</th><th>user</th><th>title</th><th>body</th><th>base</th><th>head</th><th>assignee</th><th>assignees</th><th>requested_reviewers</th><th>requested_teams</th></tr><tr><td>str</td><td>i64</td><td>str</td><td>list[struct[3]]</td><td>bool</td><td>str</td><td>str</td><td>str</td><td>str</td><td>str</td><td>struct[2]</td><td>str</td><td>str</td><td>struct[2]</td><td>struct[2]</td><td>struct[2]</td><td>list[struct[2]]</td><td>list[struct[2]]</td><td>list[struct[3]]</td></tr></thead><tbody></tbody></table></div>"
      ],
      "text/plain": [
       "shape: (0, 19)\n",
       "┌──────────┬────────┬───────┬─────────────┬───┬───────────┬─────────────┬─────────────┬────────────┐\n",
       "│ html_url ┆ number ┆ state ┆ labels      ┆ … ┆ assignee  ┆ assignees   ┆ requested_r ┆ requested_ │\n",
       "│ ---      ┆ ---    ┆ ---   ┆ ---         ┆   ┆ ---       ┆ ---         ┆ eviewers    ┆ teams      │\n",
       "│ str      ┆ i64    ┆ str   ┆ list[struct ┆   ┆ struct[2] ┆ list[struct ┆ ---         ┆ ---        │\n",
       "│          ┆        ┆       ┆ [3]]        ┆   ┆           ┆ [2]]        ┆ list[struct ┆ list[struc │\n",
       "│          ┆        ┆       ┆             ┆   ┆           ┆             ┆ [2]]        ┆ t[3]]      │\n",
       "╞══════════╪════════╪═══════╪═════════════╪═══╪═══════════╪═════════════╪═════════════╪════════════╡\n",
       "└──────────┴────────┴───────┴─────────────┴───┴───────────┴─────────────┴─────────────┴────────────┘"
      ]
     },
     "execution_count": 1,
     "metadata": {},
     "output_type": "execute_result"
    }
   ],
   "source": [
    "# This cell was used to debug the implementation of fetch_prs.\n",
    "\n",
    "from op_analytics.datasources.github.activity.githubapi import fetch_prs, OptimismRepo\n",
    "\n",
    "fetch_prs(\n",
    "    repo=OptimismRepo(\"optimism\"),\n",
    "    include_open=False,\n",
    "    closed_min_dt=\"2023-01-01\",\n",
    "    closed_max_dt=\"2024-01-01\"\n",
    ")"
   ]
  },
  {
   "cell_type": "code",
   "execution_count": 4,
   "metadata": {},
   "outputs": [
    {
     "name": "stdout",
     "output_type": "stream",
     "text": [
      "\u001b[2m2025-01-15 21:08:12\u001b[0m [\u001b[32m\u001b[1minfo     \u001b[0m] \u001b[1mgithub activity fetch         \u001b[0m \u001b[36mclosed_max_dt\u001b[0m=\u001b[35m2020-01-01\u001b[0m \u001b[36mclosed_min_dt\u001b[0m=\u001b[35m2019-01-01\u001b[0m \u001b[36mfilename\u001b[0m=\u001b[35mallrepos.py\u001b[0m \u001b[36minclude_open\u001b[0m=\u001b[35mFalse\u001b[0m \u001b[36mlineno\u001b[0m=\u001b[35m57\u001b[0m \u001b[36mprocess\u001b[0m=\u001b[35m42998\u001b[0m\n",
      "\u001b[2m2025-01-15 21:08:15\u001b[0m [\u001b[32m\u001b[1minfo     \u001b[0m] \u001b[1mfound 0 closed items updated between 2019-01-01 and 2020-01-01 in 1.96s\u001b[0m \u001b[36mcounter\u001b[0m=\u001b[35m003/009\u001b[0m \u001b[36meta\u001b[0m=\u001b[35mNone\u001b[0m \u001b[36mfetch\u001b[0m=\u001b[35mPULLS\u001b[0m \u001b[36mfilename\u001b[0m=\u001b[35mgithubapi.py\u001b[0m \u001b[36mlineno\u001b[0m=\u001b[35m201\u001b[0m \u001b[36mprocess\u001b[0m=\u001b[35m42998\u001b[0m \u001b[36mrepo\u001b[0m=\u001b[35msuperchainerc20-starter\u001b[0m\n",
      "\u001b[2m2025-01-15 21:08:18\u001b[0m [\u001b[32m\u001b[1minfo     \u001b[0m] \u001b[1mfound 0 closed items updated between 2019-01-01 and 2020-01-01 in 2.21s\u001b[0m \u001b[36mcounter\u001b[0m=\u001b[35m003/009\u001b[0m \u001b[36meta\u001b[0m=\u001b[35mNone\u001b[0m \u001b[36mfetch\u001b[0m=\u001b[35mISSUES\u001b[0m \u001b[36mfilename\u001b[0m=\u001b[35mgithubapi.py\u001b[0m \u001b[36mlineno\u001b[0m=\u001b[35m201\u001b[0m \u001b[36mprocess\u001b[0m=\u001b[35m42998\u001b[0m \u001b[36mrepo\u001b[0m=\u001b[35msuperchainerc20-starter\u001b[0m\n",
      "\u001b[2m2025-01-15 21:08:18\u001b[0m [\u001b[32m\u001b[1minfo     \u001b[0m] \u001b[1mfetching comments for 0 prs   \u001b[0m \u001b[36mcounter\u001b[0m=\u001b[35m003/009\u001b[0m \u001b[36meta\u001b[0m=\u001b[35mNone\u001b[0m \u001b[36mfilename\u001b[0m=\u001b[35mgithubapi.py\u001b[0m \u001b[36mlineno\u001b[0m=\u001b[35m92\u001b[0m \u001b[36mprocess\u001b[0m=\u001b[35m42998\u001b[0m \u001b[36mrepo\u001b[0m=\u001b[35msuperchainerc20-starter\u001b[0m\n",
      "\u001b[2m2025-01-15 21:08:18\u001b[0m [\u001b[32m\u001b[1minfo     \u001b[0m] \u001b[1mfetching reviews for 0 prs    \u001b[0m \u001b[36mcounter\u001b[0m=\u001b[35m003/009\u001b[0m \u001b[36meta\u001b[0m=\u001b[35mNone\u001b[0m \u001b[36mfilename\u001b[0m=\u001b[35mgithubapi.py\u001b[0m \u001b[36mlineno\u001b[0m=\u001b[35m99\u001b[0m \u001b[36mprocess\u001b[0m=\u001b[35m42998\u001b[0m \u001b[36mrepo\u001b[0m=\u001b[35msuperchainerc20-starter\u001b[0m\n",
      "\u001b[2m2025-01-15 21:08:19\u001b[0m [\u001b[32m\u001b[1minfo     \u001b[0m] \u001b[1mfound 0 closed items updated between 2019-01-01 and 2020-01-01 in 5.91s\u001b[0m \u001b[36mcounter\u001b[0m=\u001b[35m002/009\u001b[0m \u001b[36meta\u001b[0m=\u001b[35mNone\u001b[0m \u001b[36mfetch\u001b[0m=\u001b[35mPULLS\u001b[0m \u001b[36mfilename\u001b[0m=\u001b[35mgithubapi.py\u001b[0m \u001b[36mlineno\u001b[0m=\u001b[35m201\u001b[0m \u001b[36mprocess\u001b[0m=\u001b[35m42998\u001b[0m \u001b[36mrepo\u001b[0m=\u001b[35msupersim\u001b[0m\n",
      "\u001b[2m2025-01-15 21:08:26\u001b[0m [\u001b[32m\u001b[1minfo     \u001b[0m] \u001b[1mfound 0 closed items updated between 2019-01-01 and 2020-01-01 in 6.45s\u001b[0m \u001b[36mcounter\u001b[0m=\u001b[35m002/009\u001b[0m \u001b[36meta\u001b[0m=\u001b[35mNone\u001b[0m \u001b[36mfetch\u001b[0m=\u001b[35mISSUES\u001b[0m \u001b[36mfilename\u001b[0m=\u001b[35mgithubapi.py\u001b[0m \u001b[36mlineno\u001b[0m=\u001b[35m201\u001b[0m \u001b[36mprocess\u001b[0m=\u001b[35m42998\u001b[0m \u001b[36mrepo\u001b[0m=\u001b[35msupersim\u001b[0m\n",
      "\u001b[2m2025-01-15 21:08:26\u001b[0m [\u001b[32m\u001b[1minfo     \u001b[0m] \u001b[1mfetching comments for 0 prs   \u001b[0m \u001b[36mcounter\u001b[0m=\u001b[35m002/009\u001b[0m \u001b[36meta\u001b[0m=\u001b[35mNone\u001b[0m \u001b[36mfilename\u001b[0m=\u001b[35mgithubapi.py\u001b[0m \u001b[36mlineno\u001b[0m=\u001b[35m92\u001b[0m \u001b[36mprocess\u001b[0m=\u001b[35m42998\u001b[0m \u001b[36mrepo\u001b[0m=\u001b[35msupersim\u001b[0m\n",
      "\u001b[2m2025-01-15 21:08:27\u001b[0m [\u001b[32m\u001b[1minfo     \u001b[0m] \u001b[1mfetching reviews for 0 prs    \u001b[0m \u001b[36mcounter\u001b[0m=\u001b[35m002/009\u001b[0m \u001b[36meta\u001b[0m=\u001b[35mNone\u001b[0m \u001b[36mfilename\u001b[0m=\u001b[35mgithubapi.py\u001b[0m \u001b[36mlineno\u001b[0m=\u001b[35m99\u001b[0m \u001b[36mprocess\u001b[0m=\u001b[35m42998\u001b[0m \u001b[36mrepo\u001b[0m=\u001b[35msupersim\u001b[0m\n",
      "\u001b[2m2025-01-15 21:08:32\u001b[0m [\u001b[32m\u001b[1minfo     \u001b[0m] \u001b[1mfound 0 closed items updated between 2019-01-01 and 2020-01-01 in 12.30s\u001b[0m \u001b[36mcounter\u001b[0m=\u001b[35m005/009\u001b[0m \u001b[36meta\u001b[0m=\u001b[35mNone\u001b[0m \u001b[36mfetch\u001b[0m=\u001b[35mPULLS\u001b[0m \u001b[36mfilename\u001b[0m=\u001b[35mgithubapi.py\u001b[0m \u001b[36mlineno\u001b[0m=\u001b[35m201\u001b[0m \u001b[36mprocess\u001b[0m=\u001b[35m42998\u001b[0m \u001b[36mrepo\u001b[0m=\u001b[35msuperchain-ops\u001b[0m\n",
      "\u001b[2m2025-01-15 21:08:33\u001b[0m [\u001b[32m\u001b[1minfo     \u001b[0m] \u001b[1mfound 0 closed items updated between 2019-01-01 and 2020-01-01 in 20.03s\u001b[0m \u001b[36mcounter\u001b[0m=\u001b[35m004/009\u001b[0m \u001b[36meta\u001b[0m=\u001b[35mNone\u001b[0m \u001b[36mfetch\u001b[0m=\u001b[35mPULLS\u001b[0m \u001b[36mfilename\u001b[0m=\u001b[35mgithubapi.py\u001b[0m \u001b[36mlineno\u001b[0m=\u001b[35m201\u001b[0m \u001b[36mprocess\u001b[0m=\u001b[35m42998\u001b[0m \u001b[36mrepo\u001b[0m=\u001b[35msuperchain-registry\u001b[0m\n",
      "\u001b[2m2025-01-15 21:08:43\u001b[0m [\u001b[32m\u001b[1minfo     \u001b[0m] \u001b[1mfound 0 closed items updated between 2019-01-01 and 2020-01-01 in 9.96s\u001b[0m \u001b[36mcounter\u001b[0m=\u001b[35m005/009\u001b[0m \u001b[36meta\u001b[0m=\u001b[35mNone\u001b[0m \u001b[36mfetch\u001b[0m=\u001b[35mISSUES\u001b[0m \u001b[36mfilename\u001b[0m=\u001b[35mgithubapi.py\u001b[0m \u001b[36mlineno\u001b[0m=\u001b[35m201\u001b[0m \u001b[36mprocess\u001b[0m=\u001b[35m42998\u001b[0m \u001b[36mrepo\u001b[0m=\u001b[35msuperchain-ops\u001b[0m\n",
      "\u001b[2m2025-01-15 21:08:43\u001b[0m [\u001b[32m\u001b[1minfo     \u001b[0m] \u001b[1mfetching comments for 0 prs   \u001b[0m \u001b[36mcounter\u001b[0m=\u001b[35m005/009\u001b[0m \u001b[36meta\u001b[0m=\u001b[35mNone\u001b[0m \u001b[36mfilename\u001b[0m=\u001b[35mgithubapi.py\u001b[0m \u001b[36mlineno\u001b[0m=\u001b[35m92\u001b[0m \u001b[36mprocess\u001b[0m=\u001b[35m42998\u001b[0m \u001b[36mrepo\u001b[0m=\u001b[35msuperchain-ops\u001b[0m\n",
      "\u001b[2m2025-01-15 21:08:43\u001b[0m [\u001b[32m\u001b[1minfo     \u001b[0m] \u001b[1mfetching reviews for 0 prs    \u001b[0m \u001b[36mcounter\u001b[0m=\u001b[35m005/009\u001b[0m \u001b[36meta\u001b[0m=\u001b[35mNone\u001b[0m \u001b[36mfilename\u001b[0m=\u001b[35mgithubapi.py\u001b[0m \u001b[36mlineno\u001b[0m=\u001b[35m99\u001b[0m \u001b[36mprocess\u001b[0m=\u001b[35m42998\u001b[0m \u001b[36mrepo\u001b[0m=\u001b[35msuperchain-ops\u001b[0m\n",
      "\u001b[2m2025-01-15 21:08:52\u001b[0m [\u001b[32m\u001b[1minfo     \u001b[0m] \u001b[1mfound 0 closed items updated between 2019-01-01 and 2020-01-01 in 17.89s\u001b[0m \u001b[36mcounter\u001b[0m=\u001b[35m004/009\u001b[0m \u001b[36meta\u001b[0m=\u001b[35mNone\u001b[0m \u001b[36mfetch\u001b[0m=\u001b[35mISSUES\u001b[0m \u001b[36mfilename\u001b[0m=\u001b[35mgithubapi.py\u001b[0m \u001b[36mlineno\u001b[0m=\u001b[35m201\u001b[0m \u001b[36mprocess\u001b[0m=\u001b[35m42998\u001b[0m \u001b[36mrepo\u001b[0m=\u001b[35msuperchain-registry\u001b[0m\n",
      "\u001b[2m2025-01-15 21:08:52\u001b[0m [\u001b[32m\u001b[1minfo     \u001b[0m] \u001b[1mfetching comments for 0 prs   \u001b[0m \u001b[36mcounter\u001b[0m=\u001b[35m004/009\u001b[0m \u001b[36meta\u001b[0m=\u001b[35mNone\u001b[0m \u001b[36mfilename\u001b[0m=\u001b[35mgithubapi.py\u001b[0m \u001b[36mlineno\u001b[0m=\u001b[35m92\u001b[0m \u001b[36mprocess\u001b[0m=\u001b[35m42998\u001b[0m \u001b[36mrepo\u001b[0m=\u001b[35msuperchain-registry\u001b[0m\n",
      "\u001b[2m2025-01-15 21:08:53\u001b[0m [\u001b[32m\u001b[1minfo     \u001b[0m] \u001b[1mfetching reviews for 0 prs    \u001b[0m \u001b[36mcounter\u001b[0m=\u001b[35m004/009\u001b[0m \u001b[36meta\u001b[0m=\u001b[35mNone\u001b[0m \u001b[36mfilename\u001b[0m=\u001b[35mgithubapi.py\u001b[0m \u001b[36mlineno\u001b[0m=\u001b[35m99\u001b[0m \u001b[36mprocess\u001b[0m=\u001b[35m42998\u001b[0m \u001b[36mrepo\u001b[0m=\u001b[35msuperchain-registry\u001b[0m\n",
      "\u001b[2m2025-01-15 21:08:53\u001b[0m [\u001b[32m\u001b[1minfo     \u001b[0m] \u001b[1mfound 0 closed items updated between 2019-01-01 and 2020-01-01 in 24.40s\u001b[0m \u001b[36mcounter\u001b[0m=\u001b[35m006/009\u001b[0m \u001b[36meta\u001b[0m=\u001b[35mNone\u001b[0m \u001b[36mfetch\u001b[0m=\u001b[35mPULLS\u001b[0m \u001b[36mfilename\u001b[0m=\u001b[35mgithubapi.py\u001b[0m \u001b[36mlineno\u001b[0m=\u001b[35m201\u001b[0m \u001b[36mprocess\u001b[0m=\u001b[35m42998\u001b[0m \u001b[36mrepo\u001b[0m=\u001b[35mdocs\u001b[0m\n",
      "\u001b[2m2025-01-15 21:08:56\u001b[0m [\u001b[32m\u001b[1minfo     \u001b[0m] \u001b[1mfound 0 closed items updated between 2019-01-01 and 2020-01-01 in 11.96s\u001b[0m \u001b[36mcounter\u001b[0m=\u001b[35m007/009\u001b[0m \u001b[36meta\u001b[0m=\u001b[35m64 secs\u001b[0m \u001b[36mfetch\u001b[0m=\u001b[35mPULLS\u001b[0m \u001b[36mfilename\u001b[0m=\u001b[35mgithubapi.py\u001b[0m \u001b[36mlineno\u001b[0m=\u001b[35m201\u001b[0m \u001b[36mprocess\u001b[0m=\u001b[35m42998\u001b[0m \u001b[36mrepo\u001b[0m=\u001b[35mspecs\u001b[0m\n",
      "\u001b[2m2025-01-15 21:08:58\u001b[0m [\u001b[32m\u001b[1minfo     \u001b[0m] \u001b[1mfound 0 closed items updated between 2019-01-01 and 2020-01-01 in 3.93s\u001b[0m \u001b[36mcounter\u001b[0m=\u001b[35m008/009\u001b[0m \u001b[36meta\u001b[0m=\u001b[35m52 secs\u001b[0m \u001b[36mfetch\u001b[0m=\u001b[35mPULLS\u001b[0m \u001b[36mfilename\u001b[0m=\u001b[35mgithubapi.py\u001b[0m \u001b[36mlineno\u001b[0m=\u001b[35m201\u001b[0m \u001b[36mprocess\u001b[0m=\u001b[35m42998\u001b[0m \u001b[36mrepo\u001b[0m=\u001b[35mdesign-docs\u001b[0m\n",
      "\u001b[2m2025-01-15 21:09:03\u001b[0m [\u001b[32m\u001b[1minfo     \u001b[0m] \u001b[1mfound 0 closed items updated between 2019-01-01 and 2020-01-01 in 3.96s\u001b[0m \u001b[36mcounter\u001b[0m=\u001b[35m008/009\u001b[0m \u001b[36meta\u001b[0m=\u001b[35m52 secs\u001b[0m \u001b[36mfetch\u001b[0m=\u001b[35mISSUES\u001b[0m \u001b[36mfilename\u001b[0m=\u001b[35mgithubapi.py\u001b[0m \u001b[36mlineno\u001b[0m=\u001b[35m201\u001b[0m \u001b[36mprocess\u001b[0m=\u001b[35m42998\u001b[0m \u001b[36mrepo\u001b[0m=\u001b[35mdesign-docs\u001b[0m\n",
      "\u001b[2m2025-01-15 21:09:03\u001b[0m [\u001b[32m\u001b[1minfo     \u001b[0m] \u001b[1mfetching comments for 0 prs   \u001b[0m \u001b[36mcounter\u001b[0m=\u001b[35m008/009\u001b[0m \u001b[36meta\u001b[0m=\u001b[35m52 secs\u001b[0m \u001b[36mfilename\u001b[0m=\u001b[35mgithubapi.py\u001b[0m \u001b[36mlineno\u001b[0m=\u001b[35m92\u001b[0m \u001b[36mprocess\u001b[0m=\u001b[35m42998\u001b[0m \u001b[36mrepo\u001b[0m=\u001b[35mdesign-docs\u001b[0m\n",
      "\u001b[2m2025-01-15 21:09:03\u001b[0m [\u001b[32m\u001b[1minfo     \u001b[0m] \u001b[1mfetching reviews for 0 prs    \u001b[0m \u001b[36mcounter\u001b[0m=\u001b[35m008/009\u001b[0m \u001b[36meta\u001b[0m=\u001b[35m52 secs\u001b[0m \u001b[36mfilename\u001b[0m=\u001b[35mgithubapi.py\u001b[0m \u001b[36mlineno\u001b[0m=\u001b[35m99\u001b[0m \u001b[36mprocess\u001b[0m=\u001b[35m42998\u001b[0m \u001b[36mrepo\u001b[0m=\u001b[35mdesign-docs\u001b[0m\n",
      "\u001b[2m2025-01-15 21:09:06\u001b[0m [\u001b[32m\u001b[1minfo     \u001b[0m] \u001b[1mfound 0 closed items updated between 2019-01-01 and 2020-01-01 in 9.40s\u001b[0m \u001b[36mcounter\u001b[0m=\u001b[35m007/009\u001b[0m \u001b[36meta\u001b[0m=\u001b[35m64 secs\u001b[0m \u001b[36mfetch\u001b[0m=\u001b[35mISSUES\u001b[0m \u001b[36mfilename\u001b[0m=\u001b[35mgithubapi.py\u001b[0m \u001b[36mlineno\u001b[0m=\u001b[35m201\u001b[0m \u001b[36mprocess\u001b[0m=\u001b[35m42998\u001b[0m \u001b[36mrepo\u001b[0m=\u001b[35mspecs\u001b[0m\n",
      "\u001b[2m2025-01-15 21:09:06\u001b[0m [\u001b[32m\u001b[1minfo     \u001b[0m] \u001b[1mfetching comments for 0 prs   \u001b[0m \u001b[36mcounter\u001b[0m=\u001b[35m007/009\u001b[0m \u001b[36meta\u001b[0m=\u001b[35m64 secs\u001b[0m \u001b[36mfilename\u001b[0m=\u001b[35mgithubapi.py\u001b[0m \u001b[36mlineno\u001b[0m=\u001b[35m92\u001b[0m \u001b[36mprocess\u001b[0m=\u001b[35m42998\u001b[0m \u001b[36mrepo\u001b[0m=\u001b[35mspecs\u001b[0m\n",
      "\u001b[2m2025-01-15 21:09:07\u001b[0m [\u001b[32m\u001b[1minfo     \u001b[0m] \u001b[1mfetching reviews for 0 prs    \u001b[0m \u001b[36mcounter\u001b[0m=\u001b[35m007/009\u001b[0m \u001b[36meta\u001b[0m=\u001b[35m64 secs\u001b[0m \u001b[36mfilename\u001b[0m=\u001b[35mgithubapi.py\u001b[0m \u001b[36mlineno\u001b[0m=\u001b[35m99\u001b[0m \u001b[36mprocess\u001b[0m=\u001b[35m42998\u001b[0m \u001b[36mrepo\u001b[0m=\u001b[35mspecs\u001b[0m\n",
      "\u001b[2m2025-01-15 21:09:08\u001b[0m [\u001b[32m\u001b[1minfo     \u001b[0m] \u001b[1mfound 0 closed items updated between 2019-01-01 and 2020-01-01 in 3.43s\u001b[0m \u001b[36mcounter\u001b[0m=\u001b[35m009/009\u001b[0m \u001b[36meta\u001b[0m=\u001b[35m42 secs\u001b[0m \u001b[36mfetch\u001b[0m=\u001b[35mPULLS\u001b[0m \u001b[36mfilename\u001b[0m=\u001b[35mgithubapi.py\u001b[0m \u001b[36mlineno\u001b[0m=\u001b[35m201\u001b[0m \u001b[36mprocess\u001b[0m=\u001b[35m42998\u001b[0m \u001b[36mrepo\u001b[0m=\u001b[35minfra\u001b[0m\n",
      "\u001b[2m2025-01-15 21:09:12\u001b[0m [\u001b[32m\u001b[1minfo     \u001b[0m] \u001b[1mfound 0 closed items updated between 2019-01-01 and 2020-01-01 in 2.72s\u001b[0m \u001b[36mcounter\u001b[0m=\u001b[35m009/009\u001b[0m \u001b[36meta\u001b[0m=\u001b[35m42 secs\u001b[0m \u001b[36mfetch\u001b[0m=\u001b[35mISSUES\u001b[0m \u001b[36mfilename\u001b[0m=\u001b[35mgithubapi.py\u001b[0m \u001b[36mlineno\u001b[0m=\u001b[35m201\u001b[0m \u001b[36mprocess\u001b[0m=\u001b[35m42998\u001b[0m \u001b[36mrepo\u001b[0m=\u001b[35minfra\u001b[0m\n",
      "\u001b[2m2025-01-15 21:09:12\u001b[0m [\u001b[32m\u001b[1minfo     \u001b[0m] \u001b[1mfetching comments for 0 prs   \u001b[0m \u001b[36mcounter\u001b[0m=\u001b[35m009/009\u001b[0m \u001b[36meta\u001b[0m=\u001b[35m42 secs\u001b[0m \u001b[36mfilename\u001b[0m=\u001b[35mgithubapi.py\u001b[0m \u001b[36mlineno\u001b[0m=\u001b[35m92\u001b[0m \u001b[36mprocess\u001b[0m=\u001b[35m42998\u001b[0m \u001b[36mrepo\u001b[0m=\u001b[35minfra\u001b[0m\n",
      "\u001b[2m2025-01-15 21:09:13\u001b[0m [\u001b[32m\u001b[1minfo     \u001b[0m] \u001b[1mfetching reviews for 0 prs    \u001b[0m \u001b[36mcounter\u001b[0m=\u001b[35m009/009\u001b[0m \u001b[36meta\u001b[0m=\u001b[35m42 secs\u001b[0m \u001b[36mfilename\u001b[0m=\u001b[35mgithubapi.py\u001b[0m \u001b[36mlineno\u001b[0m=\u001b[35m99\u001b[0m \u001b[36mprocess\u001b[0m=\u001b[35m42998\u001b[0m \u001b[36mrepo\u001b[0m=\u001b[35minfra\u001b[0m\n",
      "\u001b[2m2025-01-15 21:09:22\u001b[0m [\u001b[32m\u001b[1minfo     \u001b[0m] \u001b[1mfound 0 closed items updated between 2019-01-01 and 2020-01-01 in 28.65s\u001b[0m \u001b[36mcounter\u001b[0m=\u001b[35m006/009\u001b[0m \u001b[36meta\u001b[0m=\u001b[35mNone\u001b[0m \u001b[36mfetch\u001b[0m=\u001b[35mISSUES\u001b[0m \u001b[36mfilename\u001b[0m=\u001b[35mgithubapi.py\u001b[0m \u001b[36mlineno\u001b[0m=\u001b[35m201\u001b[0m \u001b[36mprocess\u001b[0m=\u001b[35m42998\u001b[0m \u001b[36mrepo\u001b[0m=\u001b[35mdocs\u001b[0m\n",
      "\u001b[2m2025-01-15 21:09:22\u001b[0m [\u001b[32m\u001b[1minfo     \u001b[0m] \u001b[1mfetching comments for 0 prs   \u001b[0m \u001b[36mcounter\u001b[0m=\u001b[35m006/009\u001b[0m \u001b[36meta\u001b[0m=\u001b[35mNone\u001b[0m \u001b[36mfilename\u001b[0m=\u001b[35mgithubapi.py\u001b[0m \u001b[36mlineno\u001b[0m=\u001b[35m92\u001b[0m \u001b[36mprocess\u001b[0m=\u001b[35m42998\u001b[0m \u001b[36mrepo\u001b[0m=\u001b[35mdocs\u001b[0m\n",
      "\u001b[2m2025-01-15 21:09:23\u001b[0m [\u001b[32m\u001b[1minfo     \u001b[0m] \u001b[1mfetching reviews for 0 prs    \u001b[0m \u001b[36mcounter\u001b[0m=\u001b[35m006/009\u001b[0m \u001b[36meta\u001b[0m=\u001b[35mNone\u001b[0m \u001b[36mfilename\u001b[0m=\u001b[35mgithubapi.py\u001b[0m \u001b[36mlineno\u001b[0m=\u001b[35m99\u001b[0m \u001b[36mprocess\u001b[0m=\u001b[35m42998\u001b[0m \u001b[36mrepo\u001b[0m=\u001b[35mdocs\u001b[0m\n",
      "\u001b[2m2025-01-15 21:15:13\u001b[0m [\u001b[32m\u001b[1minfo     \u001b[0m] \u001b[1mfound 0 closed items updated between 2019-01-01 and 2020-01-01 in 419.59s\u001b[0m \u001b[36mcounter\u001b[0m=\u001b[35m001/009\u001b[0m \u001b[36meta\u001b[0m=\u001b[35mNone\u001b[0m \u001b[36mfetch\u001b[0m=\u001b[35mPULLS\u001b[0m \u001b[36mfilename\u001b[0m=\u001b[35mgithubapi.py\u001b[0m \u001b[36mlineno\u001b[0m=\u001b[35m201\u001b[0m \u001b[36mprocess\u001b[0m=\u001b[35m42998\u001b[0m \u001b[36mrepo\u001b[0m=\u001b[35moptimism\u001b[0m\n",
      "\u001b[2m2025-01-15 21:20:55\u001b[0m [\u001b[32m\u001b[1minfo     \u001b[0m] \u001b[1mfound 0 closed items updated between 2019-01-01 and 2020-01-01 in 341.84s\u001b[0m \u001b[36mcounter\u001b[0m=\u001b[35m001/009\u001b[0m \u001b[36meta\u001b[0m=\u001b[35mNone\u001b[0m \u001b[36mfetch\u001b[0m=\u001b[35mISSUES\u001b[0m \u001b[36mfilename\u001b[0m=\u001b[35mgithubapi.py\u001b[0m \u001b[36mlineno\u001b[0m=\u001b[35m201\u001b[0m \u001b[36mprocess\u001b[0m=\u001b[35m42998\u001b[0m \u001b[36mrepo\u001b[0m=\u001b[35moptimism\u001b[0m\n",
      "\u001b[2m2025-01-15 21:20:55\u001b[0m [\u001b[32m\u001b[1minfo     \u001b[0m] \u001b[1mfetching comments for 0 prs   \u001b[0m \u001b[36mcounter\u001b[0m=\u001b[35m001/009\u001b[0m \u001b[36meta\u001b[0m=\u001b[35mNone\u001b[0m \u001b[36mfilename\u001b[0m=\u001b[35mgithubapi.py\u001b[0m \u001b[36mlineno\u001b[0m=\u001b[35m92\u001b[0m \u001b[36mprocess\u001b[0m=\u001b[35m42998\u001b[0m \u001b[36mrepo\u001b[0m=\u001b[35moptimism\u001b[0m\n",
      "\u001b[2m2025-01-15 21:20:56\u001b[0m [\u001b[32m\u001b[1minfo     \u001b[0m] \u001b[1mfetching reviews for 0 prs    \u001b[0m \u001b[36mcounter\u001b[0m=\u001b[35m001/009\u001b[0m \u001b[36meta\u001b[0m=\u001b[35mNone\u001b[0m \u001b[36mfilename\u001b[0m=\u001b[35mgithubapi.py\u001b[0m \u001b[36mlineno\u001b[0m=\u001b[35m99\u001b[0m \u001b[36mprocess\u001b[0m=\u001b[35m42998\u001b[0m \u001b[36mrepo\u001b[0m=\u001b[35moptimism\u001b[0m\n"
     ]
    }
   ],
   "source": [
    "from op_analytics.datasources.github.activity.allrepos import GithubActivityData\n",
    "\n",
    "# ------------------------------\n",
    "# RUN #1\n",
    "# partition_dt=\"2025-01-13\",\n",
    "# include_open=False,\n",
    "# closed_min_dt=\"2024-01-01\",\n",
    "# closed_max_dt=\"2025-01-14\",\n",
    "#\n",
    "# \"issues\"  \t\"2025-01-13\"\t7581\n",
    "# \"prs\"     \t\"2025-01-13\"\t6411\n",
    "# \"pr_reviews\"\t\"2025-01-13\"\t24880\n",
    "# \"pr_comments\"\t\"2025-01-13\"\t24662\n",
    "\n",
    "\n",
    "# ------------------------------\n",
    "# RUN #2\n",
    "# partition_dt=\"2023-12-31\",\n",
    "# include_open=False,\n",
    "# closed_min_dt=\"2023-01-01\",\n",
    "# closed_max_dt=\"2024-01-01\",\n",
    "# \n",
    "# \"issues\"  \t\"2023-12-31\"\t4322\n",
    "# \"prs\"     \t\"2023-12-31\"\t3961\n",
    "# \"pr_reviews\"\t\"2023-12-31\"\t11591\n",
    "# \"pr_comments\"\t\"2023-12-31\"\t9642\n",
    "\n",
    "\n",
    "# ------------------------------\n",
    "# RUN #3\n",
    "# partition_dt=\"2022-12-31\",\n",
    "# include_open=False,\n",
    "# closed_min_dt=\"2022-01-01\",\n",
    "# closed_max_dt=\"2023-01-01\",\n",
    "# \n",
    "# \"issues\"\t    \"2022-12-31\"\t2548\n",
    "# \"prs\"     \t\"2022-12-31\"\t2352\n",
    "# \"pr_reviews\"\t\"2022-12-31\"\t6515\n",
    "# \"pr_comments\"\t\"2022-12-31\"\t4359\n",
    "\n",
    "\n",
    "# ------------------------------\n",
    "# RUN #4\n",
    "# partition_dt=\"2021-12-31\",\n",
    "# include_open=False,\n",
    "# closed_min_dt=\"2021-01-01\",\n",
    "# closed_max_dt=\"2022-01-01\",\n",
    "# \n",
    "# \"issues\"  \t\"2021-12-31\"\t1584\n",
    "# \"prs\"     \t\"2021-12-31\"\t1316\n",
    "# \"pr_reviews\"\t\"2021-12-31\"\t4014\n",
    "# \"pr_comments\"\t\"2021-12-31\"\t3822\n",
    "\n",
    "\n",
    "# ------------------------------\n",
    "# RUN #5\n",
    "# partition_dt=\"2020-12-31\",\n",
    "# include_open=False,\n",
    "# closed_min_dt=\"2020-01-01\",\n",
    "# closed_max_dt=\"2021-01-01\",\n",
    "# \n",
    "# \"issues\"  \t\"2020-12-31\"\t268\n",
    "# \"prs\"\t        \"2020-12-31\"\t260\n",
    "# \"pr_reviews\"\t\"2020-12-31\"\t515\n",
    "# \"pr_comments\"\t\"2020-12-31\"\t618\n",
    "\n",
    "\n",
    "# ------------------------------\n",
    "# RUN #6\n",
    "# partition_dt=\"2019-12-31\",\n",
    "# include_open=False,\n",
    "# closed_min_dt=\"2019-01-01\",\n",
    "# closed_max_dt=\"2020-01-01\",\n",
    "# \n",
    "# NO RESULTS -- WE ARE DONE !!\n",
    "\n",
    "dfs = GithubActivityData.fetch(\n",
    "    partition_dt=\"2019-12-31\",\n",
    "    include_open=False,\n",
    "    closed_min_dt=\"2019-01-01\",\n",
    "    closed_max_dt=\"2020-01-01\",\n",
    ")"
   ]
  },
  {
   "cell_type": "code",
   "execution_count": 5,
   "metadata": {},
   "outputs": [
    {
     "data": {
      "text/html": [
       "<div><style>\n",
       ".dataframe > thead > tr,\n",
       ".dataframe > tbody > tr {\n",
       "  text-align: right;\n",
       "  white-space: pre-wrap;\n",
       "}\n",
       "</style>\n",
       "<small>shape: (0, 3)</small><table border=\"1\" class=\"dataframe\"><thead><tr><th>table</th><th>dt</th><th>len</th></tr><tr><td>str</td><td>str</td><td>u32</td></tr></thead><tbody></tbody></table></div>"
      ],
      "text/plain": [
       "shape: (0, 3)\n",
       "┌───────┬─────┬─────┐\n",
       "│ table ┆ dt  ┆ len │\n",
       "│ ---   ┆ --- ┆ --- │\n",
       "│ str   ┆ str ┆ u32 │\n",
       "╞═══════╪═════╪═════╡\n",
       "└───────┴─────┴─────┘"
      ]
     },
     "execution_count": 5,
     "metadata": {},
     "output_type": "execute_result"
    }
   ],
   "source": [
    "dfs.counts()"
   ]
  },
  {
   "cell_type": "code",
   "execution_count": 3,
   "metadata": {},
   "outputs": [
    {
     "name": "stdout",
     "output_type": "stream",
     "text": [
      "\u001b[2m2025-01-15 21:07:58\u001b[0m [\u001b[32m\u001b[1mdebug    \u001b[0m] \u001b[1mFound vault variable GOOGLE_SERVICE_ACCOUNT (has JSON key)\u001b[0m \u001b[36mfilename\u001b[0m=\u001b[35mgcpauth.py\u001b[0m \u001b[36mlineno\u001b[0m=\u001b[35m18\u001b[0m \u001b[36mprocess\u001b[0m=\u001b[35m42998\u001b[0m \u001b[36mroot\u001b[0m=\u001b[35mgithub/github_prs_v1\u001b[0m\n",
      "\u001b[2m2025-01-15 21:07:58\u001b[0m [\u001b[32m\u001b[1minfo     \u001b[0m] \u001b[1mInitialized gcsfs client for bucket=gs://oplabs-tools-data-sink\u001b[0m \u001b[36mfilename\u001b[0m=\u001b[35mgcs_parquet.py\u001b[0m \u001b[36mlineno\u001b[0m=\u001b[35m32\u001b[0m \u001b[36mprocess\u001b[0m=\u001b[35m42998\u001b[0m \u001b[36mroot\u001b[0m=\u001b[35mgithub/github_prs_v1\u001b[0m\n",
      "\u001b[2m2025-01-15 21:07:58\u001b[0m [\u001b[32m\u001b[1minfo     \u001b[0m] \u001b[1mdone writing 260rows 59.5KB   \u001b[0m \u001b[36mfilename\u001b[0m=\u001b[35mgcs_parquet.py\u001b[0m \u001b[36mlineno\u001b[0m=\u001b[35m57\u001b[0m \u001b[36mmaxrss\u001b[0m=\u001b[35m1210843136\u001b[0m \u001b[36mpath\u001b[0m=\u001b[35moplabs-tools-data-sink/github/github_prs_v1/dt=2020-12-31/out.parquet\u001b[0m \u001b[36mprocess\u001b[0m=\u001b[35m42998\u001b[0m \u001b[36mroot\u001b[0m=\u001b[35mgithub/github_prs_v1\u001b[0m \u001b[36mrows\u001b[0m=\u001b[35m260\u001b[0m \u001b[36msize\u001b[0m=\u001b[35m59498\u001b[0m\n",
      "\u001b[2m2025-01-15 21:07:58\u001b[0m [\u001b[32m\u001b[1minfo     \u001b[0m] \u001b[1mmemory usage                  \u001b[0m \u001b[36mfilename\u001b[0m=\u001b[35mgcs_parquet.py\u001b[0m \u001b[36mlineno\u001b[0m=\u001b[35m65\u001b[0m \u001b[36mmax_rss\u001b[0m=\u001b[35m1210.84\u001b[0m \u001b[36mprocess\u001b[0m=\u001b[35m42998\u001b[0m \u001b[36mroot\u001b[0m=\u001b[35mgithub/github_prs_v1\u001b[0m\n",
      "\u001b[2m2025-01-15 21:08:00\u001b[0m [\u001b[32m\u001b[1mdebug    \u001b[0m] \u001b[1mconnecting to OPLABS Clickhouse client...\u001b[0m \u001b[36mfilename\u001b[0m=\u001b[35mclient.py\u001b[0m \u001b[36mlineno\u001b[0m=\u001b[35m36\u001b[0m \u001b[36mprocess\u001b[0m=\u001b[35m42998\u001b[0m \u001b[36mroot\u001b[0m=\u001b[35mgithub/github_prs_v1\u001b[0m\n",
      "\u001b[2m2025-01-15 21:08:00\u001b[0m [\u001b[32m\u001b[1mdebug    \u001b[0m] \u001b[1minitialized OPLABS Clickhouse client.\u001b[0m \u001b[36mfilename\u001b[0m=\u001b[35mclient.py\u001b[0m \u001b[36mlineno\u001b[0m=\u001b[35m41\u001b[0m \u001b[36mprocess\u001b[0m=\u001b[35m42998\u001b[0m \u001b[36mroot\u001b[0m=\u001b[35mgithub/github_prs_v1\u001b[0m\n",
      "\u001b[2m2025-01-15 21:08:00\u001b[0m [\u001b[32m\u001b[1mdebug    \u001b[0m] \u001b[1mdone writing github/github_prs_v1 to GCS\u001b[0m \u001b[36mfilename\u001b[0m=\u001b[35mwritehelper.py\u001b[0m \u001b[36mlineno\u001b[0m=\u001b[35m131\u001b[0m \u001b[36mprocess\u001b[0m=\u001b[35m42998\u001b[0m \u001b[36mroot\u001b[0m=\u001b[35mgithub/github_prs_v1\u001b[0m\n",
      "\u001b[2m2025-01-15 21:08:00\u001b[0m [\u001b[32m\u001b[1minfo     \u001b[0m] \u001b[1mdone writing 268rows 46.6KB   \u001b[0m \u001b[36mfilename\u001b[0m=\u001b[35mgcs_parquet.py\u001b[0m \u001b[36mlineno\u001b[0m=\u001b[35m57\u001b[0m \u001b[36mmaxrss\u001b[0m=\u001b[35m1210843136\u001b[0m \u001b[36mpath\u001b[0m=\u001b[35moplabs-tools-data-sink/github/github_issues_v1/dt=2020-12-31/out.parquet\u001b[0m \u001b[36mprocess\u001b[0m=\u001b[35m42998\u001b[0m \u001b[36mroot\u001b[0m=\u001b[35mgithub/github_issues_v1\u001b[0m \u001b[36mrows\u001b[0m=\u001b[35m268\u001b[0m \u001b[36msize\u001b[0m=\u001b[35m46555\u001b[0m\n",
      "\u001b[2m2025-01-15 21:08:00\u001b[0m [\u001b[32m\u001b[1minfo     \u001b[0m] \u001b[1mmemory usage                  \u001b[0m \u001b[36mfilename\u001b[0m=\u001b[35mgcs_parquet.py\u001b[0m \u001b[36mlineno\u001b[0m=\u001b[35m65\u001b[0m \u001b[36mmax_rss\u001b[0m=\u001b[35m1210.84\u001b[0m \u001b[36mprocess\u001b[0m=\u001b[35m42998\u001b[0m \u001b[36mroot\u001b[0m=\u001b[35mgithub/github_issues_v1\u001b[0m\n",
      "\u001b[2m2025-01-15 21:08:01\u001b[0m [\u001b[32m\u001b[1mdebug    \u001b[0m] \u001b[1mdone writing github/github_issues_v1 to GCS\u001b[0m \u001b[36mfilename\u001b[0m=\u001b[35mwritehelper.py\u001b[0m \u001b[36mlineno\u001b[0m=\u001b[35m131\u001b[0m \u001b[36mprocess\u001b[0m=\u001b[35m42998\u001b[0m \u001b[36mroot\u001b[0m=\u001b[35mgithub/github_issues_v1\u001b[0m\n",
      "\u001b[2m2025-01-15 21:08:01\u001b[0m [\u001b[32m\u001b[1minfo     \u001b[0m] \u001b[1mdone writing 618rows 54.7KB   \u001b[0m \u001b[36mfilename\u001b[0m=\u001b[35mgcs_parquet.py\u001b[0m \u001b[36mlineno\u001b[0m=\u001b[35m57\u001b[0m \u001b[36mmaxrss\u001b[0m=\u001b[35m1210843136\u001b[0m \u001b[36mpath\u001b[0m=\u001b[35moplabs-tools-data-sink/github/github_pr_comments_v1/dt=2020-12-31/out.parquet\u001b[0m \u001b[36mprocess\u001b[0m=\u001b[35m42998\u001b[0m \u001b[36mroot\u001b[0m=\u001b[35mgithub/github_pr_comments_v1\u001b[0m \u001b[36mrows\u001b[0m=\u001b[35m618\u001b[0m \u001b[36msize\u001b[0m=\u001b[35m54727\u001b[0m\n",
      "\u001b[2m2025-01-15 21:08:01\u001b[0m [\u001b[32m\u001b[1minfo     \u001b[0m] \u001b[1mmemory usage                  \u001b[0m \u001b[36mfilename\u001b[0m=\u001b[35mgcs_parquet.py\u001b[0m \u001b[36mlineno\u001b[0m=\u001b[35m65\u001b[0m \u001b[36mmax_rss\u001b[0m=\u001b[35m1210.84\u001b[0m \u001b[36mprocess\u001b[0m=\u001b[35m42998\u001b[0m \u001b[36mroot\u001b[0m=\u001b[35mgithub/github_pr_comments_v1\u001b[0m\n",
      "\u001b[2m2025-01-15 21:08:02\u001b[0m [\u001b[32m\u001b[1mdebug    \u001b[0m] \u001b[1mdone writing github/github_pr_comments_v1 to GCS\u001b[0m \u001b[36mfilename\u001b[0m=\u001b[35mwritehelper.py\u001b[0m \u001b[36mlineno\u001b[0m=\u001b[35m131\u001b[0m \u001b[36mprocess\u001b[0m=\u001b[35m42998\u001b[0m \u001b[36mroot\u001b[0m=\u001b[35mgithub/github_pr_comments_v1\u001b[0m\n",
      "\u001b[2m2025-01-15 21:08:02\u001b[0m [\u001b[32m\u001b[1minfo     \u001b[0m] \u001b[1mdone writing 515rows 17.5KB   \u001b[0m \u001b[36mfilename\u001b[0m=\u001b[35mgcs_parquet.py\u001b[0m \u001b[36mlineno\u001b[0m=\u001b[35m57\u001b[0m \u001b[36mmaxrss\u001b[0m=\u001b[35m1210843136\u001b[0m \u001b[36mpath\u001b[0m=\u001b[35moplabs-tools-data-sink/github/github_pr_reviews_v1/dt=2020-12-31/out.parquet\u001b[0m \u001b[36mprocess\u001b[0m=\u001b[35m42998\u001b[0m \u001b[36mroot\u001b[0m=\u001b[35mgithub/github_pr_reviews_v1\u001b[0m \u001b[36mrows\u001b[0m=\u001b[35m515\u001b[0m \u001b[36msize\u001b[0m=\u001b[35m17451\u001b[0m\n",
      "\u001b[2m2025-01-15 21:08:02\u001b[0m [\u001b[32m\u001b[1minfo     \u001b[0m] \u001b[1mmemory usage                  \u001b[0m \u001b[36mfilename\u001b[0m=\u001b[35mgcs_parquet.py\u001b[0m \u001b[36mlineno\u001b[0m=\u001b[35m65\u001b[0m \u001b[36mmax_rss\u001b[0m=\u001b[35m1210.84\u001b[0m \u001b[36mprocess\u001b[0m=\u001b[35m42998\u001b[0m \u001b[36mroot\u001b[0m=\u001b[35mgithub/github_pr_reviews_v1\u001b[0m\n",
      "\u001b[2m2025-01-15 21:08:03\u001b[0m [\u001b[32m\u001b[1mdebug    \u001b[0m] \u001b[1mdone writing github/github_pr_reviews_v1 to GCS\u001b[0m \u001b[36mfilename\u001b[0m=\u001b[35mwritehelper.py\u001b[0m \u001b[36mlineno\u001b[0m=\u001b[35m131\u001b[0m \u001b[36mprocess\u001b[0m=\u001b[35m42998\u001b[0m \u001b[36mroot\u001b[0m=\u001b[35mgithub/github_pr_reviews_v1\u001b[0m\n"
     ]
    }
   ],
   "source": [
    "import os\n",
    "from unittest.mock import patch\n",
    "\n",
    "from op_analytics.coreutils.partitioned import dailydata\n",
    "from op_analytics.coreutils.partitioned.location import DataLocation\n",
    "from op_analytics.datasources.github.dataaccess import Github\n",
    "\n",
    "data = dfs\n",
    "\n",
    "def mock_location():\n",
    "    return DataLocation.GCS\n",
    "\n",
    "os.environ[\"ALLOW_WRITE\"] = \"true\"\n",
    "\n",
    "with patch.object(dailydata, \"determine_location\", mock_location):\n",
    "    Github.PRS.write(\n",
    "        dataframe=data.prs,\n",
    "        sort_by=[\"repo\", \"number\", \"state\", \"updated_at\"],\n",
    "    )\n",
    "\n",
    "    Github.ISSUES.write(\n",
    "        dataframe=data.issues,\n",
    "        sort_by=[\"repo\", \"number\", \"state\", \"updated_at\"],\n",
    "    )\n",
    "\n",
    "    Github.PR_COMMENTS.write(\n",
    "        dataframe=data.pr_comments,\n",
    "        sort_by=[\"repo\", \"pr_number\", \"updated_at\"],\n",
    "    )\n",
    "\n",
    "    Github.PR_REVIEWS.write(\n",
    "        dataframe=data.pr_reviews,\n",
    "        sort_by=[\"repo\", \"pr_number\", \"updated_at\"],\n",
    "    )"
   ]
  },
  {
   "cell_type": "code",
   "execution_count": null,
   "metadata": {},
   "outputs": [],
   "source": []
  }
 ],
 "metadata": {
  "kernelspec": {
   "display_name": ".venv",
   "language": "python",
   "name": "python3"
  },
  "language_info": {
   "codemirror_mode": {
    "name": "ipython",
    "version": 3
   },
   "file_extension": ".py",
   "mimetype": "text/x-python",
   "name": "python",
   "nbconvert_exporter": "python",
   "pygments_lexer": "ipython3",
   "version": "3.12.6"
  }
 },
 "nbformat": 4,
 "nbformat_minor": 2
}
