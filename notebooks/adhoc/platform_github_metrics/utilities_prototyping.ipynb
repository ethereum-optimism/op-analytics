{
 "cells": [
  {
   "cell_type": "code",
   "execution_count": null,
   "metadata": {},
   "outputs": [],
   "source": [
    "from op_analytics.cli.subcommands.pulls.github.activity.allrepos import (\n",
    "    GithubActivityData\n",
    ")\n",
    "\n",
    "\n",
    "dfs = GithubActivityData.fetch(\n",
    "    closed_items_last_n_days=365,\n",
    "    current_dt=\"2025-01-13\",\n",
    "    repo_concurrent_workers=2,\n",
    ")"
   ]
  },
  {
   "cell_type": "code",
   "execution_count": null,
   "metadata": {},
   "outputs": [],
   "source": [
    "dfs.prs"
   ]
  },
  {
   "cell_type": "code",
   "execution_count": null,
   "metadata": {},
   "outputs": [],
   "source": [
    "from op_analytics.cli.subcommands.pulls.github.actvity.singlerepo import (\n",
    "    GithubRepoActivityData,\n",
    ")\n",
    "\n",
    "\n",
    "dfs = GithubRepoActivityData.fetch(\n",
    "    \"optimism\",\n",
    "    current_dt=\"2025-01-01\",\n",
    "    last_n_days=10,\n",
    ")"
   ]
  }
 ],
 "metadata": {
  "kernelspec": {
   "display_name": ".venv",
   "language": "python",
   "name": "python3"
  },
  "language_info": {
   "codemirror_mode": {
    "name": "ipython",
    "version": 3
   },
   "file_extension": ".py",
   "mimetype": "text/x-python",
   "name": "python",
   "nbconvert_exporter": "python",
   "pygments_lexer": "ipython3",
   "version": "3.12.6"
  }
 },
 "nbformat": 4,
 "nbformat_minor": 2
}
