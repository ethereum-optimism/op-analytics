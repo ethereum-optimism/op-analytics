{
 "cells": [
  {
   "cell_type": "code",
   "execution_count": 1,
   "metadata": {},
   "outputs": [
    {
     "name": "stdout",
     "output_type": "stream",
     "text": [
      "\u001b[2m2025-01-03 15:56:17\u001b[0m [\u001b[32m\u001b[1minfo     \u001b[0m] \u001b[1minitialized duckdb at /var/folders/tz/g2vwn0qx5ll32j7jfsshhps40000gn/T/rzpbo34v/op-analytics.duck.db\u001b[0m \u001b[36mfilename\u001b[0m=\u001b[35mclient.py\u001b[0m \u001b[36mlineno\u001b[0m=\u001b[35m61\u001b[0m \u001b[36mprocess\u001b[0m=\u001b[35m51452\u001b[0m\n",
      "\u001b[2m2025-01-03 15:56:17\u001b[0m [\u001b[32m\u001b[1minfo     \u001b[0m] \u001b[1mloaded vault from .env file   \u001b[0m \u001b[36mfilename\u001b[0m=\u001b[35mvault.py\u001b[0m \u001b[36mlineno\u001b[0m=\u001b[35m32\u001b[0m \u001b[36mprocess\u001b[0m=\u001b[35m51452\u001b[0m\n",
      "\u001b[2m2025-01-03 15:56:17\u001b[0m [\u001b[32m\u001b[1mdebug    \u001b[0m] \u001b[1mloaded vault: 18 items        \u001b[0m \u001b[36mfilename\u001b[0m=\u001b[35mvault.py\u001b[0m \u001b[36mlineno\u001b[0m=\u001b[35m76\u001b[0m \u001b[36mprocess\u001b[0m=\u001b[35m51452\u001b[0m\n"
     ]
    }
   ],
   "source": [
    "from op_analytics.datasources.growthepie.dataaccess import GrowThePie\n",
    "from op_analytics.coreutils.duckdb_inmem.client import init_client\n",
    "\n",
    "duckdb_ctx = init_client()"
   ]
  },
  {
   "cell_type": "code",
   "execution_count": 2,
   "metadata": {},
   "outputs": [
    {
     "name": "stdout",
     "output_type": "stream",
     "text": [
      "\u001b[2m2025-01-03 15:56:17\u001b[0m [\u001b[32m\u001b[1minfo     \u001b[0m] \u001b[1mquerying markers for 'growthepie/chains_metadata_v1' DateFilter(min_date=None, max_date=None, datevals=[datetime.date(2025, 1, 3)])\u001b[0m \u001b[36mfilename\u001b[0m=\u001b[35mdailydata.py\u001b[0m \u001b[36mlineno\u001b[0m=\u001b[35m103\u001b[0m \u001b[36mprocess\u001b[0m=\u001b[35m51452\u001b[0m\n",
      "\u001b[2m2025-01-03 15:56:17\u001b[0m [\u001b[32m\u001b[1mdebug    \u001b[0m] \u001b[1mconnecting to OPLABS Clickhouse client...\u001b[0m \u001b[36mfilename\u001b[0m=\u001b[35mclient.py\u001b[0m \u001b[36mlineno\u001b[0m=\u001b[35m36\u001b[0m \u001b[36mprocess\u001b[0m=\u001b[35m51452\u001b[0m\n",
      "\u001b[2m2025-01-03 15:56:18\u001b[0m [\u001b[32m\u001b[1mdebug    \u001b[0m] \u001b[1minitialized OPLABS Clickhouse client.\u001b[0m \u001b[36mfilename\u001b[0m=\u001b[35mclient.py\u001b[0m \u001b[36mlineno\u001b[0m=\u001b[35m41\u001b[0m \u001b[36mprocess\u001b[0m=\u001b[35m51452\u001b[0m\n",
      "\u001b[2m2025-01-03 15:56:18\u001b[0m [\u001b[32m\u001b[1minfo     \u001b[0m] \u001b[1m5 markers found               \u001b[0m \u001b[36mfilename\u001b[0m=\u001b[35mdailydata.py\u001b[0m \u001b[36mlineno\u001b[0m=\u001b[35m117\u001b[0m \u001b[36mmax_dt\u001b[0m=\u001b[35m2025-01-03\u001b[0m \u001b[36mmin_dt\u001b[0m=\u001b[35m2025-01-03\u001b[0m \u001b[36mprocess\u001b[0m=\u001b[35m51452\u001b[0m\n",
      "\u001b[2m2025-01-03 15:56:18\u001b[0m [\u001b[32m\u001b[1minfo     \u001b[0m] \u001b[1m1 distinct paths              \u001b[0m \u001b[36mfilename\u001b[0m=\u001b[35mdailydata.py\u001b[0m \u001b[36mlineno\u001b[0m=\u001b[35m127\u001b[0m \u001b[36mprocess\u001b[0m=\u001b[35m51452\u001b[0m\n",
      "\u001b[2m2025-01-03 15:56:18\u001b[0m [\u001b[32m\u001b[1minfo     \u001b[0m] \u001b[1musing gcs path: https://storage.googleapis.com/oplabs-tools-data-sink/growthepie/chains_metadata_v1/dt=2025-01-03/out.parquet\u001b[0m \u001b[36mfilename\u001b[0m=\u001b[35mdailydata.py\u001b[0m \u001b[36mlineno\u001b[0m=\u001b[35m210\u001b[0m \u001b[36mprocess\u001b[0m=\u001b[35m51452\u001b[0m\n",
      "CREATE TABLE IF NOT EXISTS growthepie.chains_metadata_v1\n",
      "    (\n",
      "        `name` Nullable(String),\n",
      "    `url_key` Nullable(String),\n",
      "    `chain_type` Nullable(String),\n",
      "    `caip2` Nullable(String),\n",
      "    `evm_chain_id` Nullable(Int64),\n",
      "    `deployment` Nullable(String),\n",
      "    `name_short` Nullable(String),\n",
      "    `description` Nullable(String),\n",
      "    `da_layer` Nullable(String),\n",
      "    `symbol` Nullable(String),\n",
      "    `bucket` Nullable(String),\n",
      "    `ecosystem` Array(Nullable(String)),\n",
      "    `colors` Tuple(\n",
      "    light Array(Nullable(String)),\n",
      "    dark Array(Nullable(String)),\n",
      "    darkTextOnBackground Nullable(Bool)),\n",
      "    `logo` Tuple(\n",
      "    body Nullable(String),\n",
      "    width Nullable(Int64),\n",
      "    height Nullable(Int64)),\n",
      "    `technology` Nullable(String),\n",
      "    `purpose` Nullable(String),\n",
      "    `launch_date` Nullable(String),\n",
      "    `enable_contracts` Nullable(Bool),\n",
      "    `l2beat_stage` Tuple(\n",
      "    stage Nullable(String),\n",
      "    hex Nullable(String)),\n",
      "    `l2beat_link` Nullable(String),\n",
      "    `l2beat_id` Nullable(String),\n",
      "    `raas` Nullable(String),\n",
      "    `stack` Tuple(\n",
      "    label Nullable(String),\n",
      "    url Nullable(String)),\n",
      "    `website` Nullable(String),\n",
      "    `twitter` Nullable(String),\n",
      "    `block_explorer` Nullable(String),\n",
      "    `block_explorers` Tuple(\n",
      "    Etherscan Nullable(String),\n",
      "    Blockscout Nullable(String),\n",
      "    Arbiscan Nullable(String),\n",
      "    BaseScan Nullable(String),\n",
      "    `Blast Explorer` Nullable(String),\n",
      "    Immutascan Nullable(String),\n",
      "    LineaScan Nullable(String),\n",
      "    `Loopring Explorer` Nullable(String),\n",
      "    `Optimistic Etherscan` Nullable(String),\n",
      "    PolygonScan Nullable(String),\n",
      "    `Rhino Explorer` Nullable(String),\n",
      "    ScrollScan Nullable(String),\n",
      "    StarkScan Nullable(String),\n",
      "    Voyager Nullable(String),\n",
      "    Taikoscan Nullable(String),\n",
      "    `Alchemy Explorer` Nullable(String),\n",
      "    `zkSync Explorer` Nullable(String)),\n",
      "    `rhino_listed` Nullable(Bool),\n",
      "    `rhino_naming` Nullable(String),\n",
      "    `origin_key` Nullable(String)\n",
      "    )\n",
      "    ENGINE = ReplacingMergeTree\n",
      "    \n"
     ]
    }
   ],
   "source": [
    "GrowThePie.CHAIN_METADATA.clickhouse_schema(\"2025-01-03\")"
   ]
  },
  {
   "cell_type": "code",
   "execution_count": 3,
   "metadata": {},
   "outputs": [
    {
     "name": "stdout",
     "output_type": "stream",
     "text": [
      "\u001b[2m2025-01-03 15:56:19\u001b[0m [\u001b[32m\u001b[1minfo     \u001b[0m] \u001b[1mquerying markers for 'growthepie/chains_daily_fundamentals_v1' DateFilter(min_date=None, max_date=None, datevals=[datetime.date(2024, 1, 2)])\u001b[0m \u001b[36mfilename\u001b[0m=\u001b[35mdailydata.py\u001b[0m \u001b[36mlineno\u001b[0m=\u001b[35m103\u001b[0m \u001b[36mprocess\u001b[0m=\u001b[35m51452\u001b[0m\n",
      "\u001b[2m2025-01-03 15:56:19\u001b[0m [\u001b[32m\u001b[1minfo     \u001b[0m] \u001b[1m1 markers found               \u001b[0m \u001b[36mfilename\u001b[0m=\u001b[35mdailydata.py\u001b[0m \u001b[36mlineno\u001b[0m=\u001b[35m117\u001b[0m \u001b[36mmax_dt\u001b[0m=\u001b[35m2024-01-02\u001b[0m \u001b[36mmin_dt\u001b[0m=\u001b[35m2024-01-02\u001b[0m \u001b[36mprocess\u001b[0m=\u001b[35m51452\u001b[0m\n",
      "\u001b[2m2025-01-03 15:56:19\u001b[0m [\u001b[32m\u001b[1minfo     \u001b[0m] \u001b[1m1 distinct paths              \u001b[0m \u001b[36mfilename\u001b[0m=\u001b[35mdailydata.py\u001b[0m \u001b[36mlineno\u001b[0m=\u001b[35m127\u001b[0m \u001b[36mprocess\u001b[0m=\u001b[35m51452\u001b[0m\n",
      "\u001b[2m2025-01-03 15:56:19\u001b[0m [\u001b[32m\u001b[1minfo     \u001b[0m] \u001b[1musing gcs path: https://storage.googleapis.com/oplabs-tools-data-sink/growthepie/chains_daily_fundamentals_v1/dt=2024-01-02/out.parquet\u001b[0m \u001b[36mfilename\u001b[0m=\u001b[35mdailydata.py\u001b[0m \u001b[36mlineno\u001b[0m=\u001b[35m210\u001b[0m \u001b[36mprocess\u001b[0m=\u001b[35m51452\u001b[0m\n",
      "CREATE TABLE IF NOT EXISTS growthepie.chains_daily_fundamentals_v1\n",
      "    (\n",
      "        `metric_key` Nullable(String),\n",
      "    `origin_key` Nullable(String),\n",
      "    `value` Nullable(Float64)\n",
      "    )\n",
      "    ENGINE = ReplacingMergeTree\n",
      "    \n"
     ]
    }
   ],
   "source": [
    "GrowThePie.FUNDAMENTALS_SUMMARY.clickhouse_schema(\"2024-01-02\")"
   ]
  },
  {
   "cell_type": "code",
   "execution_count": 4,
   "metadata": {},
   "outputs": [
    {
     "name": "stdout",
     "output_type": "stream",
     "text": [
      "\u001b[2m2025-01-03 15:56:20\u001b[0m [\u001b[32m\u001b[1minfo     \u001b[0m] \u001b[1mincremental load to clickhouse\u001b[0m \u001b[36mfilename\u001b[0m=\u001b[35mdailydata.py\u001b[0m \u001b[36mlineno\u001b[0m=\u001b[35m280\u001b[0m \u001b[36mmax_date\u001b[0m=\u001b[35mNone\u001b[0m \u001b[36mmin_date\u001b[0m=\u001b[35m2025-01-03\u001b[0m \u001b[36mprocess\u001b[0m=\u001b[35m51452\u001b[0m \u001b[36mused_clickhouse_watermark\u001b[0m=\u001b[35mTrue\u001b[0m\n",
      "\u001b[2m2025-01-03 15:56:20\u001b[0m [\u001b[32m\u001b[1minfo     \u001b[0m] \u001b[1mquerying markers for 'growthepie/chains_daily_fundamentals_v1' DateFilter(min_date=datetime.date(2025, 1, 3), max_date=None, datevals=None)\u001b[0m \u001b[36mfilename\u001b[0m=\u001b[35mdailydata.py\u001b[0m \u001b[36mlineno\u001b[0m=\u001b[35m103\u001b[0m \u001b[36mprocess\u001b[0m=\u001b[35m51452\u001b[0m\n",
      "\u001b[2m2025-01-03 15:56:20\u001b[0m [\u001b[32m\u001b[1minfo     \u001b[0m] \u001b[1m0 markers found               \u001b[0m \u001b[36mfilename\u001b[0m=\u001b[35mdailydata.py\u001b[0m \u001b[36mlineno\u001b[0m=\u001b[35m117\u001b[0m \u001b[36mmax_dt\u001b[0m=\u001b[35mNone\u001b[0m \u001b[36mmin_dt\u001b[0m=\u001b[35mNone\u001b[0m \u001b[36mprocess\u001b[0m=\u001b[35m51452\u001b[0m\n",
      "\u001b[2m2025-01-03 15:56:20\u001b[0m [\u001b[32m\u001b[1minfo     \u001b[0m] \u001b[1m0 distinct paths              \u001b[0m \u001b[36mfilename\u001b[0m=\u001b[35mdailydata.py\u001b[0m \u001b[36mlineno\u001b[0m=\u001b[35m127\u001b[0m \u001b[36mprocess\u001b[0m=\u001b[35m51452\u001b[0m\n",
      "\u001b[2m2025-01-03 15:56:20\u001b[0m [\u001b[32m\u001b[1minfo     \u001b[0m] \u001b[1mincremental load: did not find new data\u001b[0m \u001b[36mfilename\u001b[0m=\u001b[35mdailydata.py\u001b[0m \u001b[36mlineno\u001b[0m=\u001b[35m290\u001b[0m \u001b[36mprocess\u001b[0m=\u001b[35m51452\u001b[0m\n"
     ]
    }
   ],
   "source": [
    "GrowThePie.FUNDAMENTALS_SUMMARY.insert_to_clickhouse(\n",
    "    min_date=None,\n",
    "    max_date=None\n",
    ")"
   ]
  },
  {
   "cell_type": "code",
   "execution_count": 5,
   "metadata": {},
   "outputs": [
    {
     "name": "stdout",
     "output_type": "stream",
     "text": [
      "\u001b[2m2025-01-03 15:56:20\u001b[0m [\u001b[32m\u001b[1minfo     \u001b[0m] \u001b[1mincremental load to clickhouse\u001b[0m \u001b[36mfilename\u001b[0m=\u001b[35mdailydata.py\u001b[0m \u001b[36mlineno\u001b[0m=\u001b[35m280\u001b[0m \u001b[36mmax_date\u001b[0m=\u001b[35mNone\u001b[0m \u001b[36mmin_date\u001b[0m=\u001b[35m2025-01-04\u001b[0m \u001b[36mprocess\u001b[0m=\u001b[35m51452\u001b[0m \u001b[36mused_clickhouse_watermark\u001b[0m=\u001b[35mTrue\u001b[0m\n",
      "\u001b[2m2025-01-03 15:56:20\u001b[0m [\u001b[32m\u001b[1minfo     \u001b[0m] \u001b[1mquerying markers for 'growthepie/chains_metadata_v1' DateFilter(min_date=datetime.date(2025, 1, 4), max_date=None, datevals=None)\u001b[0m \u001b[36mfilename\u001b[0m=\u001b[35mdailydata.py\u001b[0m \u001b[36mlineno\u001b[0m=\u001b[35m103\u001b[0m \u001b[36mprocess\u001b[0m=\u001b[35m51452\u001b[0m\n",
      "\u001b[2m2025-01-03 15:56:20\u001b[0m [\u001b[32m\u001b[1minfo     \u001b[0m] \u001b[1m0 markers found               \u001b[0m \u001b[36mfilename\u001b[0m=\u001b[35mdailydata.py\u001b[0m \u001b[36mlineno\u001b[0m=\u001b[35m117\u001b[0m \u001b[36mmax_dt\u001b[0m=\u001b[35mNone\u001b[0m \u001b[36mmin_dt\u001b[0m=\u001b[35mNone\u001b[0m \u001b[36mprocess\u001b[0m=\u001b[35m51452\u001b[0m\n",
      "\u001b[2m2025-01-03 15:56:20\u001b[0m [\u001b[32m\u001b[1minfo     \u001b[0m] \u001b[1m0 distinct paths              \u001b[0m \u001b[36mfilename\u001b[0m=\u001b[35mdailydata.py\u001b[0m \u001b[36mlineno\u001b[0m=\u001b[35m127\u001b[0m \u001b[36mprocess\u001b[0m=\u001b[35m51452\u001b[0m\n",
      "\u001b[2m2025-01-03 15:56:20\u001b[0m [\u001b[32m\u001b[1minfo     \u001b[0m] \u001b[1mincremental load: did not find new data\u001b[0m \u001b[36mfilename\u001b[0m=\u001b[35mdailydata.py\u001b[0m \u001b[36mlineno\u001b[0m=\u001b[35m290\u001b[0m \u001b[36mprocess\u001b[0m=\u001b[35m51452\u001b[0m\n"
     ]
    }
   ],
   "source": [
    "GrowThePie.CHAIN_METADATA.insert_to_clickhouse(\n",
    "    min_date=None,\n",
    "    max_date=None\n",
    ")"
   ]
  },
  {
   "cell_type": "code",
   "execution_count": null,
   "metadata": {},
   "outputs": [],
   "source": []
  }
 ],
 "metadata": {
  "kernelspec": {
   "display_name": ".venv",
   "language": "python",
   "name": "python3"
  },
  "language_info": {
   "codemirror_mode": {
    "name": "ipython",
    "version": 3
   },
   "file_extension": ".py",
   "mimetype": "text/x-python",
   "name": "python",
   "nbconvert_exporter": "python",
   "pygments_lexer": "ipython3",
   "version": "3.12.6"
  }
 },
 "nbformat": 4,
 "nbformat_minor": 2
}
