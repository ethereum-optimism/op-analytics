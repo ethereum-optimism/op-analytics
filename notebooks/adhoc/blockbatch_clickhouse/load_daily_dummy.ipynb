{
 "cells": [
  {
   "cell_type": "code",
   "execution_count": 5,
   "metadata": {},
   "outputs": [
    {
     "name": "stdout",
     "output_type": "stream",
     "text": [
      "\u001b[2m2025-04-11 12:24:13\u001b[0m [\u001b[32m\u001b[1minfo     \u001b[0m] \u001b[1m189 are ready to process across 7 dates\u001b[0m \u001b[36mfilename\u001b[0m=\u001b[35mreaders.py\u001b[0m \u001b[36mlineno\u001b[0m=\u001b[35m94\u001b[0m \u001b[36mprocess\u001b[0m=\u001b[35m56503\u001b[0m\n",
      "\u001b[2m2025-04-11 12:24:13\u001b[0m [\u001b[32m\u001b[1minfo     \u001b[0m] \u001b[1m0/7 pending dt insert tasks.  \u001b[0m \u001b[36mfilename\u001b[0m=\u001b[35mloadspec_date.py\u001b[0m \u001b[36mlineno\u001b[0m=\u001b[35m76\u001b[0m \u001b[36mprocess\u001b[0m=\u001b[35m56503\u001b[0m\n",
      "\u001b[2m2025-04-11 12:24:13\u001b[0m [\u001b[32m\u001b[1minfo     \u001b[0m] \u001b[1m0/0 pending dt,chain insert tasks.\u001b[0m \u001b[36mfilename\u001b[0m=\u001b[35mmain.py\u001b[0m \u001b[36mlineno\u001b[0m=\u001b[35m32\u001b[0m \u001b[36mprocess\u001b[0m=\u001b[35m56503\u001b[0m\n",
      "\u001b[2m2025-04-11 12:24:13\u001b[0m [\u001b[32m\u001b[1minfo     \u001b[0m] \u001b[1mCREATE TABLE transforms_dummy.daily_counts_v0\u001b[0m \u001b[36mfilename\u001b[0m=\u001b[35mloadspec_datechain.py\u001b[0m \u001b[36mlineno\u001b[0m=\u001b[35m66\u001b[0m \u001b[36mprocess\u001b[0m=\u001b[35m56503\u001b[0m\n",
      "{}\n"
     ]
    }
   ],
   "source": [
    "from op_analytics.datapipeline.etl.blockbatchloaddaily.main import (\n",
    "    daily_to_clickhouse,\n",
    ")\n",
    "\n",
    "from op_analytics.datapipeline.etl.blockbatchloaddaily.datasets import (\n",
    "    DUMMY_AGGREGATE\n",
    ")\n",
    "\n",
    "result = daily_to_clickhouse(\n",
    "    dataset=DUMMY_AGGREGATE,\n",
    "    range_spec=\"@20250404:20250411\",\n",
    "    dry_run=False,\n",
    ")\n",
    "\n",
    "print(result)"
   ]
  },
  {
   "cell_type": "code",
   "execution_count": null,
   "metadata": {},
   "outputs": [],
   "source": []
  }
 ],
 "metadata": {
  "kernelspec": {
   "display_name": ".venv",
   "language": "python",
   "name": "python3"
  },
  "language_info": {
   "codemirror_mode": {
    "name": "ipython",
    "version": 3
   },
   "file_extension": ".py",
   "mimetype": "text/x-python",
   "name": "python",
   "nbconvert_exporter": "python",
   "pygments_lexer": "ipython3",
   "version": "3.12.6"
  }
 },
 "nbformat": 4,
 "nbformat_minor": 2
}
