{
 "cells": [
  {
   "cell_type": "code",
   "execution_count": 1,
   "metadata": {},
   "outputs": [
    {
     "name": "stdout",
     "output_type": "stream",
     "text": [
      "\u001b[2m2025-04-11 11:02:38\u001b[0m [\u001b[32m\u001b[1mdebug    \u001b[0m] \u001b[1mconnecting to GOLDSKY Clickhouse client...\u001b[0m \u001b[36mcounter\u001b[0m=\u001b[35m001/027\u001b[0m \u001b[36meta\u001b[0m=\u001b[35mNone\u001b[0m \u001b[36mfilename\u001b[0m=\u001b[35mclient.py\u001b[0m \u001b[36mlineno\u001b[0m=\u001b[35m56\u001b[0m \u001b[36mprocess\u001b[0m=\u001b[35m41647\u001b[0m\n",
      "\u001b[2m2025-04-11 11:02:38\u001b[0m [\u001b[32m\u001b[1minfo     \u001b[0m] \u001b[1mloaded vault from .env file   \u001b[0m \u001b[36mcounter\u001b[0m=\u001b[35m001/027\u001b[0m \u001b[36meta\u001b[0m=\u001b[35mNone\u001b[0m \u001b[36mfilename\u001b[0m=\u001b[35mvault.py\u001b[0m \u001b[36mlineno\u001b[0m=\u001b[35m32\u001b[0m \u001b[36mprocess\u001b[0m=\u001b[35m41647\u001b[0m\n",
      "\u001b[2m2025-04-11 11:02:38\u001b[0m [\u001b[32m\u001b[1mdebug    \u001b[0m] \u001b[1mloaded vault: 21 items        \u001b[0m \u001b[36mcounter\u001b[0m=\u001b[35m001/027\u001b[0m \u001b[36meta\u001b[0m=\u001b[35mNone\u001b[0m \u001b[36mfilename\u001b[0m=\u001b[35mvault.py\u001b[0m \u001b[36mlineno\u001b[0m=\u001b[35m79\u001b[0m \u001b[36mprocess\u001b[0m=\u001b[35m41647\u001b[0m\n",
      "\u001b[2m2025-04-11 11:02:39\u001b[0m [\u001b[32m\u001b[1mdebug    \u001b[0m] \u001b[1minitialized GOLDSKY Clickhouse client.\u001b[0m \u001b[36mcounter\u001b[0m=\u001b[35m001/027\u001b[0m \u001b[36meta\u001b[0m=\u001b[35mNone\u001b[0m \u001b[36mfilename\u001b[0m=\u001b[35mclient.py\u001b[0m \u001b[36mlineno\u001b[0m=\u001b[35m61\u001b[0m \u001b[36mprocess\u001b[0m=\u001b[35m41647\u001b[0m\n",
      "\u001b[2m2025-04-11 11:02:40\u001b[0m [\u001b[32m\u001b[1minfo     \u001b[0m] \u001b[1mquerying markers at time range min: 2025-04-04 00:00:00, max: 2025-04-11 00:00:00 root_paths=['blockbatch/refined_traces/refined_traces_fees_v2']\u001b[0m \u001b[36mfilename\u001b[0m=\u001b[35mrequest.py\u001b[0m \u001b[36mlineno\u001b[0m=\u001b[35m146\u001b[0m \u001b[36mprocess\u001b[0m=\u001b[35m41647\u001b[0m\n",
      "\u001b[2m2025-04-11 11:02:40\u001b[0m [\u001b[32m\u001b[1mdebug    \u001b[0m] \u001b[1mconnecting to OPLABS Clickhouse client...\u001b[0m \u001b[36mfilename\u001b[0m=\u001b[35mclient.py\u001b[0m \u001b[36mlineno\u001b[0m=\u001b[35m56\u001b[0m \u001b[36mprocess\u001b[0m=\u001b[35m41647\u001b[0m\n",
      "\u001b[2m2025-04-11 11:02:41\u001b[0m [\u001b[32m\u001b[1mdebug    \u001b[0m] \u001b[1minitialized OPLABS Clickhouse client.\u001b[0m \u001b[36mfilename\u001b[0m=\u001b[35mclient.py\u001b[0m \u001b[36mlineno\u001b[0m=\u001b[35m61\u001b[0m \u001b[36mprocess\u001b[0m=\u001b[35m41647\u001b[0m\n",
      "\u001b[2m2025-04-11 11:02:41\u001b[0m [\u001b[32m\u001b[1minfo     \u001b[0m] \u001b[1mprepared 189 input dt,chain readers\u001b[0m \u001b[36mfilename\u001b[0m=\u001b[35mbydate.py\u001b[0m \u001b[36mlineno\u001b[0m=\u001b[35m92\u001b[0m \u001b[36mprocess\u001b[0m=\u001b[35m41647\u001b[0m\n",
      "\u001b[2m2025-04-11 11:02:41\u001b[0m [\u001b[32m\u001b[1minfo     \u001b[0m] \u001b[1m189 are ready to process across 7 dates\u001b[0m \u001b[36mfilename\u001b[0m=\u001b[35mreaders.py\u001b[0m \u001b[36mlineno\u001b[0m=\u001b[35m81\u001b[0m \u001b[36mprocess\u001b[0m=\u001b[35m41647\u001b[0m\n",
      "\u001b[2m2025-04-11 11:02:41\u001b[0m [\u001b[32m\u001b[1minfo     \u001b[0m] \u001b[1m0/189 pending dt,chain insert tasks.\u001b[0m \u001b[36mfilename\u001b[0m=\u001b[35mloadspec_datechain.py\u001b[0m \u001b[36mlineno\u001b[0m=\u001b[35m188\u001b[0m \u001b[36mprocess\u001b[0m=\u001b[35m41647\u001b[0m\n",
      "\u001b[2m2025-04-11 11:02:41\u001b[0m [\u001b[32m\u001b[1minfo     \u001b[0m] \u001b[1m0/0 pending dt,chain insert tasks.\u001b[0m \u001b[36mfilename\u001b[0m=\u001b[35mmain.py\u001b[0m \u001b[36mlineno\u001b[0m=\u001b[35m31\u001b[0m \u001b[36mprocess\u001b[0m=\u001b[35m41647\u001b[0m\n",
      "\u001b[2m2025-04-11 11:02:41\u001b[0m [\u001b[32m\u001b[1minfo     \u001b[0m] \u001b[1mCREATE TABLE blockbatch_daily.aggtraces__daily_trfrom_trto_v1\u001b[0m \u001b[36mfilename\u001b[0m=\u001b[35mloadspec_datechain.py\u001b[0m \u001b[36mlineno\u001b[0m=\u001b[35m67\u001b[0m \u001b[36mprocess\u001b[0m=\u001b[35m41647\u001b[0m\n",
      "\u001b[2m2025-04-11 11:02:43\u001b[0m [\u001b[32m\u001b[1minfo     \u001b[0m] \u001b[1mquerying markers at time range min: 2025-04-04 00:00:00, max: 2025-04-11 00:00:00 root_paths=['blockbatch/refined_traces/refined_traces_fees_v2']\u001b[0m \u001b[36mfilename\u001b[0m=\u001b[35mrequest.py\u001b[0m \u001b[36mlineno\u001b[0m=\u001b[35m146\u001b[0m \u001b[36mprocess\u001b[0m=\u001b[35m41647\u001b[0m\n",
      "\u001b[2m2025-04-11 11:02:43\u001b[0m [\u001b[32m\u001b[1minfo     \u001b[0m] \u001b[1mprepared 189 input dt,chain readers\u001b[0m \u001b[36mfilename\u001b[0m=\u001b[35mbydate.py\u001b[0m \u001b[36mlineno\u001b[0m=\u001b[35m92\u001b[0m \u001b[36mprocess\u001b[0m=\u001b[35m41647\u001b[0m\n",
      "\u001b[2m2025-04-11 11:02:43\u001b[0m [\u001b[32m\u001b[1minfo     \u001b[0m] \u001b[1m189 are ready to process across 7 dates\u001b[0m \u001b[36mfilename\u001b[0m=\u001b[35mreaders.py\u001b[0m \u001b[36mlineno\u001b[0m=\u001b[35m81\u001b[0m \u001b[36mprocess\u001b[0m=\u001b[35m41647\u001b[0m\n",
      "\u001b[2m2025-04-11 11:02:43\u001b[0m [\u001b[32m\u001b[1minfo     \u001b[0m] \u001b[1m0/189 pending dt,chain insert tasks.\u001b[0m \u001b[36mfilename\u001b[0m=\u001b[35mloadspec_datechain.py\u001b[0m \u001b[36mlineno\u001b[0m=\u001b[35m188\u001b[0m \u001b[36mprocess\u001b[0m=\u001b[35m41647\u001b[0m\n",
      "\u001b[2m2025-04-11 11:02:43\u001b[0m [\u001b[32m\u001b[1minfo     \u001b[0m] \u001b[1m0/0 pending dt,chain insert tasks.\u001b[0m \u001b[36mfilename\u001b[0m=\u001b[35mmain.py\u001b[0m \u001b[36mlineno\u001b[0m=\u001b[35m31\u001b[0m \u001b[36mprocess\u001b[0m=\u001b[35m41647\u001b[0m\n",
      "\u001b[2m2025-04-11 11:02:43\u001b[0m [\u001b[32m\u001b[1minfo     \u001b[0m] \u001b[1mCREATE TABLE blockbatch_daily.aggtraces__daily_trto_v1\u001b[0m \u001b[36mfilename\u001b[0m=\u001b[35mloadspec_datechain.py\u001b[0m \u001b[36mlineno\u001b[0m=\u001b[35m67\u001b[0m \u001b[36mprocess\u001b[0m=\u001b[35m41647\u001b[0m\n",
      "\u001b[2m2025-04-11 11:02:45\u001b[0m [\u001b[32m\u001b[1minfo     \u001b[0m] \u001b[1mquerying markers at time range min: 2025-04-04 00:00:00, max: 2025-04-11 00:00:00 root_paths=['blockbatch/refined_traces/refined_traces_fees_v2']\u001b[0m \u001b[36mfilename\u001b[0m=\u001b[35mrequest.py\u001b[0m \u001b[36mlineno\u001b[0m=\u001b[35m146\u001b[0m \u001b[36mprocess\u001b[0m=\u001b[35m41647\u001b[0m\n",
      "\u001b[2m2025-04-11 11:02:46\u001b[0m [\u001b[32m\u001b[1minfo     \u001b[0m] \u001b[1mprepared 189 input dt,chain readers\u001b[0m \u001b[36mfilename\u001b[0m=\u001b[35mbydate.py\u001b[0m \u001b[36mlineno\u001b[0m=\u001b[35m92\u001b[0m \u001b[36mprocess\u001b[0m=\u001b[35m41647\u001b[0m\n",
      "\u001b[2m2025-04-11 11:02:46\u001b[0m [\u001b[32m\u001b[1minfo     \u001b[0m] \u001b[1m189 are ready to process across 7 dates\u001b[0m \u001b[36mfilename\u001b[0m=\u001b[35mreaders.py\u001b[0m \u001b[36mlineno\u001b[0m=\u001b[35m81\u001b[0m \u001b[36mprocess\u001b[0m=\u001b[35m41647\u001b[0m\n",
      "\u001b[2m2025-04-11 11:02:46\u001b[0m [\u001b[32m\u001b[1minfo     \u001b[0m] \u001b[1m0/189 pending dt,chain insert tasks.\u001b[0m \u001b[36mfilename\u001b[0m=\u001b[35mloadspec_datechain.py\u001b[0m \u001b[36mlineno\u001b[0m=\u001b[35m188\u001b[0m \u001b[36mprocess\u001b[0m=\u001b[35m41647\u001b[0m\n",
      "\u001b[2m2025-04-11 11:02:46\u001b[0m [\u001b[32m\u001b[1minfo     \u001b[0m] \u001b[1m0/0 pending dt,chain insert tasks.\u001b[0m \u001b[36mfilename\u001b[0m=\u001b[35mmain.py\u001b[0m \u001b[36mlineno\u001b[0m=\u001b[35m31\u001b[0m \u001b[36mprocess\u001b[0m=\u001b[35m41647\u001b[0m\n",
      "\u001b[2m2025-04-11 11:02:46\u001b[0m [\u001b[32m\u001b[1minfo     \u001b[0m] \u001b[1mCREATE TABLE blockbatch_daily.aggtraces__daily_trto_txto_txmethod_v1\u001b[0m \u001b[36mfilename\u001b[0m=\u001b[35mloadspec_datechain.py\u001b[0m \u001b[36mlineno\u001b[0m=\u001b[35m67\u001b[0m \u001b[36mprocess\u001b[0m=\u001b[35m41647\u001b[0m\n"
     ]
    }
   ],
   "source": [
    "from op_analytics.datapipeline.etl.blockbatchloaddaily.main import (\n",
    "    daily_to_clickhouse,\n",
    ")\n",
    "\n",
    "from op_analytics.datapipeline.etl.blockbatchloaddaily.datasets import (\n",
    "    TRACES_AGG1,\n",
    "    TRACES_AGG2,\n",
    "    TRACES_AGG3,\n",
    ")\n",
    "\n",
    "for agg in [TRACES_AGG1, TRACES_AGG2, TRACES_AGG3]:\n",
    "    result = daily_to_clickhouse(\n",
    "        dataset=agg,\n",
    "        range_spec=\"@20250404:20250411\",\n",
    "        dry_run=False,\n",
    "    )"
   ]
  }
 ],
 "metadata": {
  "kernelspec": {
   "display_name": ".venv",
   "language": "python",
   "name": "python3"
  },
  "language_info": {
   "codemirror_mode": {
    "name": "ipython",
    "version": 3
   },
   "file_extension": ".py",
   "mimetype": "text/x-python",
   "name": "python",
   "nbconvert_exporter": "python",
   "pygments_lexer": "ipython3",
   "version": "3.12.6"
  }
 },
 "nbformat": 4,
 "nbformat_minor": 2
}
