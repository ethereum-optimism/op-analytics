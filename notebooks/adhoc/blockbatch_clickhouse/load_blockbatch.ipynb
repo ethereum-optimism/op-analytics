{
 "cells": [
  {
   "cell_type": "code",
   "execution_count": 1,
   "metadata": {},
   "outputs": [
    {
     "name": "stdout",
     "output_type": "stream",
     "text": [
      "\u001b[2m2025-04-29 14:53:28\u001b[0m [\u001b[32m\u001b[1minfo     \u001b[0m] \u001b[1mCREATE TABLE blockbatch.contract_creation__create_traces_v1\u001b[0m \u001b[36mfilename\u001b[0m=\u001b[35mloadspec.py\u001b[0m \u001b[36mlineno\u001b[0m=\u001b[35m67\u001b[0m \u001b[36mprocess\u001b[0m=\u001b[35m32363\u001b[0m\n",
      "\u001b[2m2025-04-29 14:53:28\u001b[0m [\u001b[32m\u001b[1mdebug    \u001b[0m] \u001b[1mconnecting to OPLABS Clickhouse client...\u001b[0m \u001b[36mfilename\u001b[0m=\u001b[35mclient.py\u001b[0m \u001b[36mlineno\u001b[0m=\u001b[35m56\u001b[0m \u001b[36mprocess\u001b[0m=\u001b[35m32363\u001b[0m\n",
      "\u001b[2m2025-04-29 14:53:28\u001b[0m [\u001b[32m\u001b[1minfo     \u001b[0m] \u001b[1mloaded vault from .env file   \u001b[0m \u001b[36mfilename\u001b[0m=\u001b[35mvault.py\u001b[0m \u001b[36mlineno\u001b[0m=\u001b[35m32\u001b[0m \u001b[36mprocess\u001b[0m=\u001b[35m32363\u001b[0m\n",
      "\u001b[2m2025-04-29 14:53:28\u001b[0m [\u001b[32m\u001b[1mdebug    \u001b[0m] \u001b[1mloaded vault: 21 items        \u001b[0m \u001b[36mfilename\u001b[0m=\u001b[35mvault.py\u001b[0m \u001b[36mlineno\u001b[0m=\u001b[35m79\u001b[0m \u001b[36mprocess\u001b[0m=\u001b[35m32363\u001b[0m\n",
      "\u001b[2m2025-04-29 14:53:28\u001b[0m [\u001b[32m\u001b[1mdebug    \u001b[0m] \u001b[1minitialized OPLABS Clickhouse client.\u001b[0m \u001b[36mfilename\u001b[0m=\u001b[35mclient.py\u001b[0m \u001b[36mlineno\u001b[0m=\u001b[35m61\u001b[0m \u001b[36mprocess\u001b[0m=\u001b[35m32363\u001b[0m\n",
      "\u001b[2m2025-04-29 14:53:28\u001b[0m [\u001b[32m\u001b[1minfo     \u001b[0m] \u001b[1mPrepared 0 insert tasks.      \u001b[0m \u001b[36mfilename\u001b[0m=\u001b[35mmain.py\u001b[0m \u001b[36mlineno\u001b[0m=\u001b[35m146\u001b[0m \u001b[36mprocess\u001b[0m=\u001b[35m32363\u001b[0m\n",
      "\u001b[2m2025-04-29 14:53:28\u001b[0m [\u001b[32m\u001b[1minfo     \u001b[0m] \u001b[1mCREATE TABLE blockbatch.token_transfers__erc20_transfers_v1\u001b[0m \u001b[36mfilename\u001b[0m=\u001b[35mloadspec.py\u001b[0m \u001b[36mlineno\u001b[0m=\u001b[35m67\u001b[0m \u001b[36mprocess\u001b[0m=\u001b[35m32363\u001b[0m\n",
      "\u001b[2m2025-04-29 14:53:29\u001b[0m [\u001b[32m\u001b[1minfo     \u001b[0m] \u001b[1mPrepared 3 insert tasks.      \u001b[0m \u001b[36mfilename\u001b[0m=\u001b[35mmain.py\u001b[0m \u001b[36mlineno\u001b[0m=\u001b[35m146\u001b[0m \u001b[36mprocess\u001b[0m=\u001b[35m32363\u001b[0m\n",
      "\u001b[2m2025-04-29 14:53:29\u001b[0m [\u001b[32m\u001b[1minfo     \u001b[0m] \u001b[1mrunning insert                \u001b[0m \u001b[36mblockbatch\u001b[0m=\u001b[35m'chain=base/dt=2025-04-19/000029132800.parquet'\u001b[0m \u001b[36mcounter\u001b[0m=\u001b[35m001/003\u001b[0m \u001b[36meta\u001b[0m=\u001b[35mNone\u001b[0m \u001b[36mfilename\u001b[0m=\u001b[35minsert.py\u001b[0m \u001b[36mlineno\u001b[0m=\u001b[35m87\u001b[0m \u001b[36mprocess\u001b[0m=\u001b[35m32363\u001b[0m\n",
      "\u001b[2m2025-04-29 14:53:29\u001b[0m [\u001b[32m\u001b[1minfo     \u001b[0m] \u001b[1mrunning insert                \u001b[0m \u001b[36mblockbatch\u001b[0m=\u001b[35m'chain=base/dt=2025-04-19/000029130000.parquet'\u001b[0m \u001b[36mcounter\u001b[0m=\u001b[35m002/003\u001b[0m \u001b[36meta\u001b[0m=\u001b[35mNone\u001b[0m \u001b[36mfilename\u001b[0m=\u001b[35minsert.py\u001b[0m \u001b[36mlineno\u001b[0m=\u001b[35m87\u001b[0m \u001b[36mprocess\u001b[0m=\u001b[35m32363\u001b[0m\n",
      "\u001b[2m2025-04-29 14:53:29\u001b[0m [\u001b[32m\u001b[1minfo     \u001b[0m] \u001b[1mrunning insert                \u001b[0m \u001b[36mblockbatch\u001b[0m=\u001b[35m'chain=base/dt=2025-04-19/000029131000.parquet'\u001b[0m \u001b[36mcounter\u001b[0m=\u001b[35m003/003\u001b[0m \u001b[36meta\u001b[0m=\u001b[35mNone\u001b[0m \u001b[36mfilename\u001b[0m=\u001b[35minsert.py\u001b[0m \u001b[36mlineno\u001b[0m=\u001b[35m87\u001b[0m \u001b[36mprocess\u001b[0m=\u001b[35m32363\u001b[0m\n",
      "\u001b[2m2025-04-29 14:53:29\u001b[0m [\u001b[32m\u001b[1minfo     \u001b[0m] \u001b[1mread 41.4Krows -> write 41.4Krows (0rows filtered out)\u001b[0m \u001b[36mblockbatch\u001b[0m=\u001b[35m'chain=base/dt=2025-04-19/000029132800.parquet'\u001b[0m \u001b[36mcounter\u001b[0m=\u001b[35m001/003\u001b[0m \u001b[36meta\u001b[0m=\u001b[35mNone\u001b[0m \u001b[36mfilename\u001b[0m=\u001b[35minsert.py\u001b[0m \u001b[36mlineno\u001b[0m=\u001b[35m119\u001b[0m \u001b[36mprocess\u001b[0m=\u001b[35m32363\u001b[0m\n",
      "\u001b[2m2025-04-29 14:53:29\u001b[0m [\u001b[32m\u001b[1minfo     \u001b[0m] \u001b[1mread 35.7Krows -> write 35.7Krows (0rows filtered out)\u001b[0m \u001b[36mblockbatch\u001b[0m=\u001b[35m'chain=base/dt=2025-04-19/000029131000.parquet'\u001b[0m \u001b[36mcounter\u001b[0m=\u001b[35m003/003\u001b[0m \u001b[36meta\u001b[0m=\u001b[35mNone\u001b[0m \u001b[36mfilename\u001b[0m=\u001b[35minsert.py\u001b[0m \u001b[36mlineno\u001b[0m=\u001b[35m119\u001b[0m \u001b[36mprocess\u001b[0m=\u001b[35m32363\u001b[0m\n",
      "\u001b[2m2025-04-29 14:53:29\u001b[0m [\u001b[32m\u001b[1minfo     \u001b[0m] \u001b[1mread 39.4Krows -> write 39.4Krows (0rows filtered out)\u001b[0m \u001b[36mblockbatch\u001b[0m=\u001b[35m'chain=base/dt=2025-04-19/000029130000.parquet'\u001b[0m \u001b[36mcounter\u001b[0m=\u001b[35m002/003\u001b[0m \u001b[36meta\u001b[0m=\u001b[35mNone\u001b[0m \u001b[36mfilename\u001b[0m=\u001b[35minsert.py\u001b[0m \u001b[36mlineno\u001b[0m=\u001b[35m119\u001b[0m \u001b[36mprocess\u001b[0m=\u001b[35m32363\u001b[0m\n",
      "\u001b[2m2025-04-29 14:53:29\u001b[0m [\u001b[32m\u001b[1minfo     \u001b[0m] \u001b[1mCREATE TABLE blockbatch.token_transfers__erc721_transfers_v1\u001b[0m \u001b[36mfilename\u001b[0m=\u001b[35mloadspec.py\u001b[0m \u001b[36mlineno\u001b[0m=\u001b[35m67\u001b[0m \u001b[36mprocess\u001b[0m=\u001b[35m32363\u001b[0m\n",
      "\u001b[2m2025-04-29 14:53:30\u001b[0m [\u001b[32m\u001b[1minfo     \u001b[0m] \u001b[1mPrepared 3 insert tasks.      \u001b[0m \u001b[36mfilename\u001b[0m=\u001b[35mmain.py\u001b[0m \u001b[36mlineno\u001b[0m=\u001b[35m146\u001b[0m \u001b[36mprocess\u001b[0m=\u001b[35m32363\u001b[0m\n",
      "\u001b[2m2025-04-29 14:53:30\u001b[0m [\u001b[32m\u001b[1minfo     \u001b[0m] \u001b[1mrunning insert                \u001b[0m \u001b[36mblockbatch\u001b[0m=\u001b[35m'chain=base/dt=2025-04-19/000029132800.parquet'\u001b[0m \u001b[36mcounter\u001b[0m=\u001b[35m001/003\u001b[0m \u001b[36meta\u001b[0m=\u001b[35mNone\u001b[0m \u001b[36mfilename\u001b[0m=\u001b[35minsert.py\u001b[0m \u001b[36mlineno\u001b[0m=\u001b[35m87\u001b[0m \u001b[36mprocess\u001b[0m=\u001b[35m32363\u001b[0m\n",
      "\u001b[2m2025-04-29 14:53:30\u001b[0m [\u001b[32m\u001b[1minfo     \u001b[0m] \u001b[1mrunning insert                \u001b[0m \u001b[36mblockbatch\u001b[0m=\u001b[35m'chain=base/dt=2025-04-19/000029130000.parquet'\u001b[0m \u001b[36mcounter\u001b[0m=\u001b[35m002/003\u001b[0m \u001b[36meta\u001b[0m=\u001b[35mNone\u001b[0m \u001b[36mfilename\u001b[0m=\u001b[35minsert.py\u001b[0m \u001b[36mlineno\u001b[0m=\u001b[35m87\u001b[0m \u001b[36mprocess\u001b[0m=\u001b[35m32363\u001b[0m\n",
      "\u001b[2m2025-04-29 14:53:30\u001b[0m [\u001b[32m\u001b[1minfo     \u001b[0m] \u001b[1mrunning insert                \u001b[0m \u001b[36mblockbatch\u001b[0m=\u001b[35m'chain=base/dt=2025-04-19/000029131000.parquet'\u001b[0m \u001b[36mcounter\u001b[0m=\u001b[35m003/003\u001b[0m \u001b[36meta\u001b[0m=\u001b[35mNone\u001b[0m \u001b[36mfilename\u001b[0m=\u001b[35minsert.py\u001b[0m \u001b[36mlineno\u001b[0m=\u001b[35m87\u001b[0m \u001b[36mprocess\u001b[0m=\u001b[35m32363\u001b[0m\n",
      "\u001b[2m2025-04-29 14:53:30\u001b[0m [\u001b[32m\u001b[1minfo     \u001b[0m] \u001b[1mread 5.5Krows -> write 5.5Krows (0rows filtered out)\u001b[0m \u001b[36mblockbatch\u001b[0m=\u001b[35m'chain=base/dt=2025-04-19/000029131000.parquet'\u001b[0m \u001b[36mcounter\u001b[0m=\u001b[35m003/003\u001b[0m \u001b[36meta\u001b[0m=\u001b[35mNone\u001b[0m \u001b[36mfilename\u001b[0m=\u001b[35minsert.py\u001b[0m \u001b[36mlineno\u001b[0m=\u001b[35m119\u001b[0m \u001b[36mprocess\u001b[0m=\u001b[35m32363\u001b[0m\n",
      "\u001b[2m2025-04-29 14:53:30\u001b[0m [\u001b[32m\u001b[1minfo     \u001b[0m] \u001b[1mread 2.4Krows -> write 2.4Krows (0rows filtered out)\u001b[0m \u001b[36mblockbatch\u001b[0m=\u001b[35m'chain=base/dt=2025-04-19/000029132800.parquet'\u001b[0m \u001b[36mcounter\u001b[0m=\u001b[35m001/003\u001b[0m \u001b[36meta\u001b[0m=\u001b[35mNone\u001b[0m \u001b[36mfilename\u001b[0m=\u001b[35minsert.py\u001b[0m \u001b[36mlineno\u001b[0m=\u001b[35m119\u001b[0m \u001b[36mprocess\u001b[0m=\u001b[35m32363\u001b[0m\n",
      "\u001b[2m2025-04-29 14:53:30\u001b[0m [\u001b[32m\u001b[1minfo     \u001b[0m] \u001b[1mread 9.4Krows -> write 9.4Krows (0rows filtered out)\u001b[0m \u001b[36mblockbatch\u001b[0m=\u001b[35m'chain=base/dt=2025-04-19/000029130000.parquet'\u001b[0m \u001b[36mcounter\u001b[0m=\u001b[35m002/003\u001b[0m \u001b[36meta\u001b[0m=\u001b[35mNone\u001b[0m \u001b[36mfilename\u001b[0m=\u001b[35minsert.py\u001b[0m \u001b[36mlineno\u001b[0m=\u001b[35m119\u001b[0m \u001b[36mprocess\u001b[0m=\u001b[35m32363\u001b[0m\n"
     ]
    }
   ],
   "source": [
    "from op_analytics.datapipeline.etl.blockbatchload.main import (\n",
    "    load_to_clickhouse\n",
    ")\n",
    "\n",
    "from op_analytics.datapipeline.etl.blockbatchload.datasets import (\n",
    "    CONTRACT_CREATION,\n",
    "    ERC20_TRANSFERS,\n",
    "    ERC721_TRANSFERS,\n",
    ")\n",
    "\n",
    "\n",
    "for d in [CONTRACT_CREATION, ERC20_TRANSFERS, ERC721_TRANSFERS]:\n",
    "    result = load_to_clickhouse(\n",
    "        dataset=d,\n",
    "        range_spec=\"@20250419:20250420\",\n",
    "        dry_run=False   \n",
    "    )"
   ]
  },
  {
   "cell_type": "code",
   "execution_count": null,
   "metadata": {},
   "outputs": [],
   "source": []
  }
 ],
 "metadata": {
  "kernelspec": {
   "display_name": ".venv",
   "language": "python",
   "name": "python3"
  },
  "language_info": {
   "codemirror_mode": {
    "name": "ipython",
    "version": 3
   },
   "file_extension": ".py",
   "mimetype": "text/x-python",
   "name": "python",
   "nbconvert_exporter": "python",
   "pygments_lexer": "ipython3",
   "version": "3.12.6"
  }
 },
 "nbformat": 4,
 "nbformat_minor": 2
}
