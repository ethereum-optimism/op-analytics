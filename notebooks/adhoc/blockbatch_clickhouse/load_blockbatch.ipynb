{
 "cells": [
  {
   "cell_type": "code",
   "execution_count": 6,
   "metadata": {},
   "outputs": [
    {
     "name": "stdout",
     "output_type": "stream",
     "text": [
      "\u001b[2m2025-06-26 13:06:57\u001b[0m [\u001b[32m\u001b[1minfo     \u001b[0m] \u001b[1mCREATE TABLE blockbatch.native_transfers__native_transfers_v1\u001b[0m \u001b[36mfilename\u001b[0m=\u001b[35mloadspec.py\u001b[0m \u001b[36mlineno\u001b[0m=\u001b[35m67\u001b[0m \u001b[36mprocess\u001b[0m=\u001b[35m15049\u001b[0m\n",
      "\u001b[2m2025-06-26 13:06:58\u001b[0m [\u001b[32m\u001b[1minfo     \u001b[0m] \u001b[1mPrepared 0 insert tasks.      \u001b[0m \u001b[36mfilename\u001b[0m=\u001b[35mmain.py\u001b[0m \u001b[36mlineno\u001b[0m=\u001b[35m146\u001b[0m \u001b[36mprocess\u001b[0m=\u001b[35m15049\u001b[0m\n"
     ]
    }
   ],
   "source": [
    "from op_analytics.datapipeline.etl.blockbatchload.main import (\n",
    "    load_to_clickhouse\n",
    ")\n",
    "\n",
    "from op_analytics.datapipeline.etl.blockbatchload.datasets import (\n",
    "    CONTRACT_CREATION,\n",
    "    ERC20_TRANSFERS,\n",
    "    ERC721_TRANSFERS,\n",
    "    NATIVE_TRANSFERS,\n",
    ")\n",
    "\n",
    "\n",
    "for d in [\n",
    "    CONTRACT_CREATION,\n",
    "    ERC20_TRANSFERS,\n",
    "    ERC721_TRANSFERS, \n",
    "    NATIVE_TRANSFERS,\n",
    "]:\n",
    "    result = load_to_clickhouse(\n",
    "        dataset=d,\n",
    "        range_spec=\"@20250531:+7\",\n",
    "        dry_run=False   \n",
    "    )"
   ]
  },
  {
   "cell_type": "code",
   "execution_count": null,
   "metadata": {},
   "outputs": [],
   "source": []
  },
  {
   "cell_type": "code",
   "execution_count": null,
   "metadata": {},
   "outputs": [],
   "source": []
  }
 ],
 "metadata": {
  "kernelspec": {
   "display_name": ".venv",
   "language": "python",
   "name": "python3"
  },
  "language_info": {
   "codemirror_mode": {
    "name": "ipython",
    "version": 3
   },
   "file_extension": ".py",
   "mimetype": "text/x-python",
   "name": "python",
   "nbconvert_exporter": "python",
   "pygments_lexer": "ipython3",
   "version": "3.12.11"
  }
 },
 "nbformat": 4,
 "nbformat_minor": 2
}
