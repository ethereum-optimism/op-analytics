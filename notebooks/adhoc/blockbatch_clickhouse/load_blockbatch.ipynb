{
 "cells": [
  {
   "cell_type": "code",
   "execution_count": null,
   "metadata": {},
   "outputs": [],
   "source": [
    "from op_analytics.datapipeline.etl.blockbatchload.main import (\n",
    "    load_to_clickhouse\n",
    ")\n",
    "\n",
    "from op_analytics.datapipeline.etl.blockbatchload.datasets import (\n",
    "    CONTRACT_CREATION,\n",
    "    ERC20_TRANSFERS,\n",
    "    ERC721_TRANSFERS,\n",
    "    NATIVE_TRANSFERS,\n",
    "    REVSHARE_TRANSFERS\n",
    ")\n",
    "\n",
    "\n",
    "for d in [CONTRACT_CREATION, ERC20_TRANSFERS, ERC721_TRANSFERS, NATIVE_TRANSFERS, REVSHARE_TRANSFERS,]:\n",
    "    result = load_to_clickhouse(\n",
    "        dataset=d,\n",
    "        range_spec=\"@20250630:+19\",\n",
    "        dry_run=False   \n",
    "    )"
   ]
  },
  {
   "cell_type": "code",
   "execution_count": null,
   "metadata": {},
   "outputs": [],
   "source": []
  }
 ],
 "metadata": {
  "kernelspec": {
   "display_name": ".venv",
   "language": "python",
   "name": "python3"
  },
  "language_info": {
   "codemirror_mode": {
    "name": "ipython",
    "version": 3
   },
   "file_extension": ".py",
   "mimetype": "text/x-python",
   "name": "python",
   "nbconvert_exporter": "python",
   "pygments_lexer": "ipython3",
   "version": "3.12.11"
  }
 },
 "nbformat": 4,
 "nbformat_minor": 2
}
