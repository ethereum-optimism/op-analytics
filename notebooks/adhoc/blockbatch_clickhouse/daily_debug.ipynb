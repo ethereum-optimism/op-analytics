{
 "cells": [
  {
   "cell_type": "code",
   "execution_count": null,
   "metadata": {},
   "outputs": [],
   "source": [
    "from op_analytics.datapipeline.etl.blockbatchloaddaily.main import (\n",
    "    daily_to_clickhouse,\n",
    "    LoadSpec,\n",
    ")\n",
    "\n",
    "\n",
    "trgrain = LoadSpec(\n",
    "    input_root_paths=[\n",
    "        \"blockbatch/refined_traces/refined_transactions_fees_v1\",\n",
    "        \"blockbatch/refined_traces/refined_traces_fees_v1\",\n",
    "    ],\n",
    "    output_root_path=\"blockbatch/aggregated_traces/traces_trgrain_v3\",\n",
    "    enforce_row_count=False,\n",
    ")\n",
    "\n",
    "txgrain = LoadSpec(\n",
    "    input_root_paths=[\n",
    "        \"blockbatch/refined_traces/refined_transactions_fees_v1\",\n",
    "        \"blockbatch/refined_traces/refined_traces_fees_v1\",\n",
    "    ],\n",
    "    output_root_path=\"blockbatch_daily/aggregated_traces/traces_txgrain_v3\",\n",
    "    enforce_row_count=False,\n",
    ")\n",
    "\n",
    "\n",
    "result = daily_to_clickhouse(\n",
    "    dataset=txgrain,\n",
    "    range_spec=\"@20250301:+1\",\n",
    "    dry_run=True,\n",
    ")"
   ]
  },
  {
   "cell_type": "code",
   "execution_count": null,
   "metadata": {},
   "outputs": [],
   "source": []
  }
 ],
 "metadata": {
  "kernelspec": {
   "display_name": ".venv",
   "language": "python",
   "name": "python3"
  },
  "language_info": {
   "codemirror_mode": {
    "name": "ipython",
    "version": 3
   },
   "file_extension": ".py",
   "mimetype": "text/x-python",
   "name": "python",
   "nbconvert_exporter": "python",
   "pygments_lexer": "ipython3",
   "version": "3.12.6"
  }
 },
 "nbformat": 4,
 "nbformat_minor": 2
}
