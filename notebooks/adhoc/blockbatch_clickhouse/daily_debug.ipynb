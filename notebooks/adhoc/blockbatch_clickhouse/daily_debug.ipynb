{
 "cells": [
  {
   "cell_type": "code",
   "execution_count": null,
   "metadata": {},
   "outputs": [],
   "source": [
    "from op_analytics.datapipeline.etl.blockbatchloaddaily.main import (\n",
    "    daily_to_clickhouse,\n",
    "    LoadSpec,\n",
    ")\n",
    "\n",
    "AGG1 = \"daily_trfrom_trto_v1\"\n",
    "AGG2 = \"daily_trto_v1\"\n",
    "AGG3 = \"daily_trto_txto_txmethod_v1\"\n",
    "\n",
    "for agg in [AGG1, AGG2, AGG3]:\n",
    "    result = daily_to_clickhouse(\n",
    "            dataset=LoadSpec(\n",
    "                input_root_paths=[\n",
    "                \"blockbatch/refined_traces/refined_traces_fees_v2\",\n",
    "            ],\n",
    "            output_root_path=f\"blockbatch_daily/aggtraces/{agg}\",\n",
    "            enforce_row_count=False,\n",
    "        ),\n",
    "        range_spec=\"@20250227:20250301\",\n",
    "        dry_run=False,\n",
    "    )"
   ]
  },
  {
   "cell_type": "code",
   "execution_count": null,
   "metadata": {},
   "outputs": [],
   "source": []
  }
 ],
 "metadata": {
  "kernelspec": {
   "display_name": ".venv",
   "language": "python",
   "name": "python3"
  },
  "language_info": {
   "codemirror_mode": {
    "name": "ipython",
    "version": 3
   },
   "file_extension": ".py",
   "mimetype": "text/x-python",
   "name": "python",
   "nbconvert_exporter": "python",
   "pygments_lexer": "ipython3",
   "version": "3.12.6"
  }
 },
 "nbformat": 4,
 "nbformat_minor": 2
}
