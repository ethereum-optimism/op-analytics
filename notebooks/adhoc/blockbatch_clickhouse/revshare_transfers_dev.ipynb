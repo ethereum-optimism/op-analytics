{
 "cells": [
  {
   "cell_type": "code",
   "execution_count": 1,
   "metadata": {},
   "outputs": [],
   "source": [
    "from op_analytics.datapipeline.etl.blockbatchload.yaml_loaders import (\n",
    "    load_revshare_from_addresses_to_clickhouse,\n",
    "    load_revshare_to_addresses_to_clickhouse,\n",
    ")\n",
    "\n",
    "from op_analytics.datapipeline.etl.blockbatchload.main import (\n",
    "    load_to_clickhouse\n",
    ")\n",
    "\n",
    "from op_analytics.datapipeline.etl.blockbatchload.datasets import (\n",
    "    REVSHARE_TRANSFERS\n",
    ")"
   ]
  },
  {
   "cell_type": "code",
   "execution_count": 2,
   "metadata": {},
   "outputs": [
    {
     "name": "stdout",
     "output_type": "stream",
     "text": [
      "Loading revshare_from_addresses...\n",
      "\u001b[2m2025-07-01 22:40:31\u001b[0m [\u001b[32m\u001b[1mdebug    \u001b[0m] \u001b[1mconnecting to OPLABS Clickhouse client...\u001b[0m \u001b[36mfilename\u001b[0m=\u001b[35mclient.py\u001b[0m \u001b[36mlineno\u001b[0m=\u001b[35m56\u001b[0m \u001b[36mprocess\u001b[0m=\u001b[35m51899\u001b[0m\n",
      "\u001b[2m2025-07-01 22:40:31\u001b[0m [\u001b[32m\u001b[1minfo     \u001b[0m] \u001b[1mloaded vault from .env file   \u001b[0m \u001b[36mfilename\u001b[0m=\u001b[35mvault.py\u001b[0m \u001b[36mlineno\u001b[0m=\u001b[35m32\u001b[0m \u001b[36mprocess\u001b[0m=\u001b[35m51899\u001b[0m\n",
      "\u001b[2m2025-07-01 22:40:31\u001b[0m [\u001b[32m\u001b[1mdebug    \u001b[0m] \u001b[1mloaded vault: 28 items        \u001b[0m \u001b[36mfilename\u001b[0m=\u001b[35mvault.py\u001b[0m \u001b[36mlineno\u001b[0m=\u001b[35m79\u001b[0m \u001b[36mprocess\u001b[0m=\u001b[35m51899\u001b[0m\n",
      "\u001b[2m2025-07-01 22:40:31\u001b[0m [\u001b[32m\u001b[1mdebug    \u001b[0m] \u001b[1minitialized OPLABS Clickhouse client.\u001b[0m \u001b[36mfilename\u001b[0m=\u001b[35mclient.py\u001b[0m \u001b[36mlineno\u001b[0m=\u001b[35m61\u001b[0m \u001b[36mprocess\u001b[0m=\u001b[35m51899\u001b[0m\n",
      "\u001b[2m2025-07-01 22:40:31\u001b[0m [\u001b[32m\u001b[1minfo     \u001b[0m] \u001b[1mCREATE datasources_revshareconfig.revshare_from_addresses\u001b[0m \u001b[36mfilename\u001b[0m=\u001b[35mdataset.py\u001b[0m \u001b[36mlineno\u001b[0m=\u001b[35m42\u001b[0m \u001b[36mprocess\u001b[0m=\u001b[35m51899\u001b[0m\n",
      "\u001b[2m2025-07-01 22:40:32\u001b[0m [\u001b[32m\u001b[1minfo     \u001b[0m] \u001b[1mINSERT datasources_revshareconfig.revshare_from_addresses\u001b[0m \u001b[36mfilename\u001b[0m=\u001b[35mdataset.py\u001b[0m \u001b[36mlineno\u001b[0m=\u001b[35m54\u001b[0m \u001b[36mprocess\u001b[0m=\u001b[35m51899\u001b[0m \u001b[36mwritten_bytes\u001b[0m=\u001b[35m2.6KB\u001b[0m \u001b[36mwritten_rows\u001b[0m=\u001b[35m20rows\u001b[0m\n",
      "\u001b[2m2025-07-01 22:40:32\u001b[0m [\u001b[32m\u001b[1minfo     \u001b[0m] \u001b[1mLoaded 20 revshare_from_addresses records\u001b[0m \u001b[36mfilename\u001b[0m=\u001b[35myaml_loaders.py\u001b[0m \u001b[36mlineno\u001b[0m=\u001b[35m39\u001b[0m \u001b[36mprocess\u001b[0m=\u001b[35m51899\u001b[0m\n",
      "Loading revshare_to_addresses...\n",
      "\u001b[2m2025-07-01 22:40:32\u001b[0m [\u001b[32m\u001b[1minfo     \u001b[0m] \u001b[1mCREATE datasources_revshareconfig.revshare_to_addresses\u001b[0m \u001b[36mfilename\u001b[0m=\u001b[35mdataset.py\u001b[0m \u001b[36mlineno\u001b[0m=\u001b[35m42\u001b[0m \u001b[36mprocess\u001b[0m=\u001b[35m51899\u001b[0m\n",
      "\u001b[2m2025-07-01 22:40:32\u001b[0m [\u001b[32m\u001b[1minfo     \u001b[0m] \u001b[1mINSERT datasources_revshareconfig.revshare_to_addresses\u001b[0m \u001b[36mfilename\u001b[0m=\u001b[35mdataset.py\u001b[0m \u001b[36mlineno\u001b[0m=\u001b[35m54\u001b[0m \u001b[36mprocess\u001b[0m=\u001b[35m51899\u001b[0m \u001b[36mwritten_bytes\u001b[0m=\u001b[35m669B\u001b[0m \u001b[36mwritten_rows\u001b[0m=\u001b[35m6rows\u001b[0m\n",
      "\u001b[2m2025-07-01 22:40:32\u001b[0m [\u001b[32m\u001b[1minfo     \u001b[0m] \u001b[1mLoaded 6 revshare_to_addresses records\u001b[0m \u001b[36mfilename\u001b[0m=\u001b[35myaml_loaders.py\u001b[0m \u001b[36mlineno\u001b[0m=\u001b[35m66\u001b[0m \u001b[36mprocess\u001b[0m=\u001b[35m51899\u001b[0m\n"
     ]
    }
   ],
   "source": [
    "# Load the config tables first (these must run before the main job)\n",
    "print(\"Loading revshare_from_addresses...\")\n",
    "load_revshare_from_addresses_to_clickhouse()\n",
    "\n",
    "print(\"Loading revshare_to_addresses...\")\n",
    "load_revshare_to_addresses_to_clickhouse()"
   ]
  },
  {
   "cell_type": "code",
   "execution_count": 3,
   "metadata": {},
   "outputs": [],
   "source": [
    "from op_analytics.coreutils.clickhouse.oplabs import run_query_oplabs"
   ]
  },
  {
   "cell_type": "code",
   "execution_count": 4,
   "metadata": {},
   "outputs": [
    {
     "name": "stdout",
     "output_type": "stream",
     "text": [
      "=== REVSHARE FROM ADDRESSES (5 rows) ===\n",
      "shape: (5, 6)\n",
      "┌───────┬─────────────────────────────────┬────────────┬─────────────────┬──────────┬──────────┐\n",
      "│ chain ┆ address                         ┆ tokens     ┆ expected_chains ┆ end_date ┆ chain_id │\n",
      "│ ---   ┆ ---                             ┆ ---        ┆ ---             ┆ ---      ┆ ---      │\n",
      "│ str   ┆ str                             ┆ list[str]  ┆ list[str]       ┆ str      ┆ i32      │\n",
      "╞═══════╪═════════════════════════════════╪════════════╪═════════════════╪══════════╪══════════╡\n",
      "│ base  ┆ 0x09c7bad99688a55a2e83644bfaed… ┆ [\"native\"] ┆ [\"base\"]        ┆ null     ┆ 8453     │\n",
      "│ base  ┆ 0x45969d00739d518f0dde41920b67… ┆ [\"native\"] ┆ [\"base\"]        ┆ null     ┆ 8453     │\n",
      "│ ink   ┆ 0x267be1c1d684f78cb4f6a176c491… ┆ [\"native\"] ┆ [\"ethereum\"]    ┆ null     ┆ 57073    │\n",
      "│ kroma ┆ 0x9d89bca142498fe047bd3e169de8… ┆ [\"native\"] ┆ [\"ethereum\"]    ┆ null     ┆ 255      │\n",
      "│ lyra  ┆ 0x793e01dcf6f9759bf26dd7869b03… ┆ [\"native\"] ┆ [\"ethereum\"]    ┆ null     ┆ 957      │\n",
      "└───────┴─────────────────────────────────┴────────────┴─────────────────┴──────────┴──────────┘\n",
      "\n",
      "=== REVSHARE TO ADDRESSES (5 rows) ===\n",
      "shape: (5, 4)\n",
      "┌─────────────────────────────────┬────────────────────────┬────────────┬─────────────────┐\n",
      "│ address                         ┆ description            ┆ end_date   ┆ expected_chains │\n",
      "│ ---                             ┆ ---                    ┆ ---        ┆ ---             │\n",
      "│ str                             ┆ str                    ┆ str        ┆ list[str]       │\n",
      "╞═════════════════════════════════╪════════════════════════╪════════════╪═════════════════╡\n",
      "│ 0x16a27462b4d61bdd72cbbabd3e43… ┆ OP Receiver - Soneium  ┆ null       ┆ [\"soneium\"]     │\n",
      "│ 0x391716d440c151c42cdf1c95c1d8… ┆ OP Receiver            ┆ 2024-07-04 ┆ [\"ethereum\"]    │\n",
      "│ 0x4300c0d3c0d3c0d3c0d3c0d3c0d3… ┆ OP Receiver - Unichain ┆ null       ┆ [\"unichain\"]    │\n",
      "│ 0x9c3631dde5c8316be5b7554b0ccd… ┆ OP Receiver - Base     ┆ null       ┆ [\"base\"]        │\n",
      "│ 0xa3d596eafab6b13ab18d40fae1a9… ┆ OP Receiver            ┆ null       ┆ [\"ethereum\"]    │\n",
      "└─────────────────────────────────┴────────────────────────┴────────────┴─────────────────┘\n"
     ]
    }
   ],
   "source": [
    "# Print revshare_from_addresses table (5 rows)\n",
    "print(\"=== REVSHARE FROM ADDRESSES (5 rows) ===\")\n",
    "df = run_query_oplabs(\"SELECT * FROM datasources_revshareconfig.revshare_from_addresses ORDER BY chain, address LIMIT 5\")\n",
    "print(df)\n",
    "\n",
    "# Print revshare_to_addresses table (5 rows)\n",
    "print(\"\\n=== REVSHARE TO ADDRESSES (5 rows) ===\")\n",
    "df = run_query_oplabs(\"SELECT * FROM datasources_revshareconfig.revshare_to_addresses ORDER BY address LIMIT 5\")\n",
    "print(df)"
   ]
  },
  {
   "cell_type": "code",
   "execution_count": 5,
   "metadata": {},
   "outputs": [
    {
     "ename": "NotImplementedError",
     "evalue": "",
     "output_type": "error",
     "traceback": [
      "\u001b[31m---------------------------------------------------------------------------\u001b[39m",
      "\u001b[31mNotImplementedError\u001b[39m                       Traceback (most recent call last)",
      "\u001b[36mCell\u001b[39m\u001b[36m \u001b[39m\u001b[32mIn[5]\u001b[39m\u001b[32m, line 2\u001b[39m\n\u001b[32m      1\u001b[39m \u001b[38;5;28;01mfor\u001b[39;00m d \u001b[38;5;129;01min\u001b[39;00m [REVSHARE_TRANSFERS]:\n\u001b[32m----> \u001b[39m\u001b[32m2\u001b[39m     result = \u001b[43mload_to_clickhouse\u001b[49m\u001b[43m(\u001b[49m\n\u001b[32m      3\u001b[39m \u001b[43m        \u001b[49m\u001b[43mdataset\u001b[49m\u001b[43m=\u001b[49m\u001b[43md\u001b[49m\u001b[43m,\u001b[49m\n\u001b[32m      4\u001b[39m \u001b[43m        \u001b[49m\u001b[43mrange_spec\u001b[49m\u001b[43m=\u001b[49m\u001b[33;43m\"\u001b[39;49m\u001b[33;43m@20250622+1\u001b[39;49m\u001b[33;43m\"\u001b[39;49m\u001b[43m,\u001b[49m\n\u001b[32m      5\u001b[39m \u001b[43m        \u001b[49m\u001b[43mdry_run\u001b[49m\u001b[43m=\u001b[49m\u001b[38;5;28;43;01mTrue\u001b[39;49;00m\u001b[43m   \u001b[49m\n\u001b[32m      6\u001b[39m \u001b[43m    \u001b[49m\u001b[43m)\u001b[49m\n\u001b[32m      8\u001b[39m     \u001b[38;5;28mprint\u001b[39m(result)\n",
      "\u001b[36mFile \u001b[39m\u001b[32m~/Documents/GitHub/op-analytics/src/op_analytics/datapipeline/etl/blockbatchload/main.py:67\u001b[39m, in \u001b[36mload_to_clickhouse\u001b[39m\u001b[34m(dataset, range_spec, dry_run)\u001b[39m\n\u001b[32m     20\u001b[39m \u001b[38;5;250m\u001b[39m\u001b[33;03m\"\"\"Insert blockbatch data into Clickhouse.\u001b[39;00m\n\u001b[32m     21\u001b[39m \n\u001b[32m     22\u001b[39m \u001b[33;03mFind the blockbatches that have not yet been loaded to Clickhouse and schedule\u001b[39;00m\n\u001b[32m   (...)\u001b[39m\u001b[32m     63\u001b[39m \u001b[33;03mthat provides the actual data in GCS for the blockbatch being processed.\u001b[39;00m\n\u001b[32m     64\u001b[39m \u001b[33;03m\"\"\"\u001b[39;00m\n\u001b[32m     66\u001b[39m \u001b[38;5;66;03m# Operate over recent days.\u001b[39;00m\n\u001b[32m---> \u001b[39m\u001b[32m67\u001b[39m date_range = \u001b[43mDateRange\u001b[49m\u001b[43m.\u001b[49m\u001b[43mfrom_spec\u001b[49m\u001b[43m(\u001b[49m\u001b[43mrange_spec\u001b[49m\u001b[43m \u001b[49m\u001b[38;5;129;43;01mor\u001b[39;49;00m\u001b[43m \u001b[49m\u001b[33;43m\"\u001b[39;49m\u001b[33;43mm7days\u001b[39;49m\u001b[33;43m\"\u001b[39;49m\u001b[43m)\u001b[49m\n\u001b[32m     69\u001b[39m \u001b[38;5;66;03m# Create the output tables if they don't exist.\u001b[39;00m\n\u001b[32m     70\u001b[39m \u001b[38;5;28;01mif\u001b[39;00m \u001b[38;5;129;01mnot\u001b[39;00m dry_run:\n",
      "\u001b[36mFile \u001b[39m\u001b[32m~/Documents/GitHub/op-analytics/src/op_analytics/coreutils/rangeutils/daterange.py:83\u001b[39m, in \u001b[36mDateRange.from_spec\u001b[39m\u001b[34m(cls, date_range_spec)\u001b[39m\n\u001b[32m     75\u001b[39m     max_val = now_date() + timedelta(days=\u001b[32m1\u001b[39m)\n\u001b[32m     77\u001b[39m     \u001b[38;5;28;01mreturn\u001b[39;00m \u001b[38;5;28mcls\u001b[39m(\n\u001b[32m     78\u001b[39m         \u001b[38;5;28mmin\u001b[39m=max_val - timedelta(days=num_days),\n\u001b[32m     79\u001b[39m         \u001b[38;5;28mmax\u001b[39m=max_val,\n\u001b[32m     80\u001b[39m         requested_max_timestamp=\u001b[38;5;28;01mNone\u001b[39;00m,  \u001b[38;5;66;03m# the max was not explicitly requested\u001b[39;00m\n\u001b[32m     81\u001b[39m     )\n\u001b[32m---> \u001b[39m\u001b[32m83\u001b[39m \u001b[38;5;28;01mraise\u001b[39;00m \u001b[38;5;167;01mNotImplementedError\u001b[39;00m()\n",
      "\u001b[31mNotImplementedError\u001b[39m: "
     ]
    }
   ],
   "source": [
    "for d in [REVSHARE_TRANSFERS]:\n",
    "    result = load_to_clickhouse(\n",
    "        dataset=d,\n",
    "        range_spec=\"@20250622:+1\",\n",
    "        dry_run=True   \n",
    "    )\n",
    "\n",
    "    print(result)"
   ]
  }
 ],
 "metadata": {
  "kernelspec": {
   "display_name": ".venv",
   "language": "python",
   "name": "python3"
  },
  "language_info": {
   "codemirror_mode": {
    "name": "ipython",
    "version": 3
   },
   "file_extension": ".py",
   "mimetype": "text/x-python",
   "name": "python",
   "nbconvert_exporter": "python",
   "pygments_lexer": "ipython3",
   "version": "3.12.4"
  }
 },
 "nbformat": 4,
 "nbformat_minor": 2
}
