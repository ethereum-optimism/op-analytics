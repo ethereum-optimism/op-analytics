{
 "cells": [
  {
   "cell_type": "code",
   "execution_count": 1,
   "metadata": {},
   "outputs": [],
   "source": [
    "from op_analytics.datapipeline.etl.blockbatchload.yaml_loaders import (\n",
    "    load_revshare_from_addresses_to_clickhouse,\n",
    "    load_revshare_to_addresses_to_clickhouse,\n",
    ")\n",
    "\n",
    "from op_analytics.datapipeline.etl.blockbatchload.main import (\n",
    "    load_to_clickhouse\n",
    ")\n",
    "\n",
    "from op_analytics.datapipeline.etl.blockbatchload.datasets import (\n",
    "    REVSHARE_TRANSFERS\n",
    ")"
   ]
  },
  {
   "cell_type": "code",
   "execution_count": null,
   "metadata": {},
   "outputs": [],
   "source": [
    "# Load the config tables first (these must run before the main job)\n",
    "print(\"Loading revshare_from_addresses...\")\n",
    "load_revshare_from_addresses_to_clickhouse()\n",
    "\n",
    "print(\"Loading revshare_to_addresses...\")\n",
    "load_revshare_to_addresses_to_clickhouse()"
   ]
  },
  {
   "cell_type": "code",
   "execution_count": 3,
   "metadata": {},
   "outputs": [],
   "source": [
    "from op_analytics.coreutils.clickhouse.oplabs import run_query_oplabs"
   ]
  },
  {
   "cell_type": "code",
   "execution_count": null,
   "metadata": {},
   "outputs": [],
   "source": [
    "# Print revshare_from_addresses table (5 rows)\n",
    "print(\"=== REVSHARE FROM ADDRESSES (5 rows) ===\")\n",
    "df = run_query_oplabs(\"SELECT * FROM datasources_revshareconfig.revshare_from_addresses ORDER BY chain, address LIMIT 5\")\n",
    "print(df)\n",
    "\n",
    "# Print revshare_to_addresses table (5 rows)\n",
    "print(\"\\n=== REVSHARE TO ADDRESSES (5 rows) ===\")\n",
    "df = run_query_oplabs(\"SELECT * FROM datasources_revshareconfig.revshare_to_addresses ORDER BY address LIMIT 5\")\n",
    "print(df)"
   ]
  },
  {
   "cell_type": "code",
   "execution_count": null,
   "metadata": {},
   "outputs": [],
   "source": [
    "for d in [REVSHARE_TRANSFERS]:\n",
    "    result = load_to_clickhouse(\n",
    "        dataset=d,\n",
    "        range_spec=\"@20250622:20250623\",\n",
    "        dry_run=False   \n",
    "    )\n",
    "\n",
    "    print(result)"
   ]
  }
 ],
 "metadata": {
  "kernelspec": {
   "display_name": ".venv",
   "language": "python",
   "name": "python3"
  },
  "language_info": {
   "codemirror_mode": {
    "name": "ipython",
    "version": 3
   },
   "file_extension": ".py",
   "mimetype": "text/x-python",
   "name": "python",
   "nbconvert_exporter": "python",
   "pygments_lexer": "ipython3",
   "version": "3.12.4"
  }
 },
 "nbformat": 4,
 "nbformat_minor": 2
}
