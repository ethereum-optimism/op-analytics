{
 "cells": [
  {
   "cell_type": "code",
   "execution_count": null,
   "metadata": {},
   "outputs": [],
   "source": [
    "\n",
    "\n",
    "from op_analytics.datapipeline.etl.blockbatchloaddaily.main import (\n",
    "    daily_to_clickhouse,\n",
    ")\n",
    "\n",
    "from op_analytics.datapipeline.etl.blockbatchloaddaily.datasets import (\n",
    "    TRACES_AGG1,\n",
    "    TRACES_AGG2,\n",
    "    TRACES_AGG3,\n",
    "    DAILY_ADDRESS_SUMMARY,\n",
    ")\n",
    "\n",
    "\n",
    "for agg in [TRACES_AGG1, TRACES_AGG2, TRACES_AGG3, DAILY_ADDRESS_SUMMARY]:\n",
    "    result = daily_to_clickhouse(\n",
    "        dataset=agg,\n",
    "        range_spec=\"m4days\",\n",
    "        num_workers=2,\n",
    "    )\n",
    "    print(result)\n"
   ]
  },
  {
   "cell_type": "code",
   "execution_count": null,
   "metadata": {},
   "outputs": [],
   "source": []
  }
 ],
 "metadata": {
  "kernelspec": {
   "display_name": ".venv",
   "language": "python",
   "name": "python3"
  },
  "language_info": {
   "codemirror_mode": {
    "name": "ipython",
    "version": 3
   },
   "file_extension": ".py",
   "mimetype": "text/x-python",
   "name": "python",
   "nbconvert_exporter": "python",
   "pygments_lexer": "ipython3",
   "version": "3.12.6"
  }
 },
 "nbformat": 4,
 "nbformat_minor": 2
}
