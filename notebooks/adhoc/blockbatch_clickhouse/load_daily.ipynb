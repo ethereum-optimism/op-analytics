{
 "cells": [
  {
   "cell_type": "code",
   "execution_count": null,
   "metadata": {},
   "outputs": [],
   "source": [
    "\n",
    "\n",
    "from op_analytics.datapipeline.etl.blockbatchloaddaily.main import (\n",
    "    daily_to_clickhouse,\n",
    ")\n",
    "\n",
    "from op_analytics.datapipeline.etl.blockbatchloaddaily.datasets import (\n",
    "    TRACES_AGG1,\n",
    "    TRACES_AGG2,\n",
    "    TRACES_AGG3,\n",
    "    TRACES_AGG4,\n",
    "    DAILY_ADDRESS_SUMMARY,\n",
    ")\n",
    "\n",
    "agg_list = [\n",
    "    TRACES_AGG4\n",
    "    # TRACES_AGG1, TRACES_AGG2, TRACES_AGG3, TRACES_AGG4, DAILY_ADDRESS_SUMMARY\n",
    "]\n",
    "chains_list = ['op','unichain']\n",
    "# agg_list"
   ]
  },
  {
   "cell_type": "code",
   "execution_count": null,
   "metadata": {},
   "outputs": [],
   "source": [
    "for agg in agg_list:\n",
    "    result = daily_to_clickhouse(\n",
    "        dataset=agg,\n",
    "        range_spec=\"@20250501:20250518\",\n",
    "        num_workers=2,\n",
    "        chains = chains_list\n",
    "    )\n",
    "    print(result)"
   ]
  }
 ],
 "metadata": {
  "kernelspec": {
   "display_name": ".venv",
   "language": "python",
   "name": "python3"
  },
  "language_info": {
   "codemirror_mode": {
    "name": "ipython",
    "version": 3
   },
   "file_extension": ".py",
   "mimetype": "text/x-python",
   "name": "python",
   "nbconvert_exporter": "python",
   "pygments_lexer": "ipython3",
   "version": "3.12.4"
  }
 },
 "nbformat": 4,
 "nbformat_minor": 2
}
