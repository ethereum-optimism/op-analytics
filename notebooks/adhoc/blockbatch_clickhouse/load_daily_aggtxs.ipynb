{
 "cells": [
  {
   "cell_type": "code",
   "execution_count": null,
   "metadata": {},
   "outputs": [],
   "source": [
    "from op_analytics.datapipeline.etl.blockbatchloaddaily.main import (\n",
    "    daily_to_clickhouse,\n",
    ")\n",
    "\n",
    "from op_analytics.datapipeline.etl.blockbatchloaddaily.datasets import (\n",
    "    DAILY_ADDRESS_SUMMARY,\n",
    "    DAILY_SEGMENTS,\n",
    "    DAILY_TX_ACTIVITY_SEGMENTS,\n",
    "    DAILY_CROSS_CHAIN_SEGMENTS,\n",
    ")\n",
    "\n",
    "for agg in [DAILY_ADDRESS_SUMMARY,\n",
    "    DAILY_SEGMENTS,\n",
    "    DAILY_TX_ACTIVITY_SEGMENTS,\n",
    "    DAILY_CROSS_CHAIN_SEGMENTS,]:\n",
    "    result = daily_to_clickhouse(\n",
    "        dataset=agg,\n",
    "        range_spec=\"@20250701:20250723\",\n",
    "        dry_run=False,\n",
    "    )"
   ]
  },
  {
   "cell_type": "code",
   "execution_count": null,
   "metadata": {},
   "outputs": [],
   "source": [
    "\n"
   ]
  }
 ],
 "metadata": {
  "kernelspec": {
   "display_name": ".venv",
   "language": "python",
   "name": "python3"
  },
  "language_info": {
   "codemirror_mode": {
    "name": "ipython",
    "version": 3
   },
   "file_extension": ".py",
   "mimetype": "text/x-python",
   "name": "python",
   "nbconvert_exporter": "python",
   "pygments_lexer": "ipython3",
   "version": "3.12.11"
  }
 },
 "nbformat": 4,
 "nbformat_minor": 2
}
