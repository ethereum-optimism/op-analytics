{
 "cells": [
  {
   "cell_type": "code",
   "execution_count": null,
   "metadata": {},
   "outputs": [],
   "source": [
    "from op_analytics.datapipeline.etl.blockbatchload.main import (\n",
    "    load_to_clickhouse,\n",
    "    LoadSpec,\n",
    ")\n",
    "\n",
    "\n",
    "datasets = [\n",
    "    LoadSpec.pass_through(\n",
    "        root_path=\"blockbatch/contract_creation/create_traces_v1\",\n",
    "        enforce_row_count=True,\n",
    "    ),\n",
    "    LoadSpec.pass_through(\n",
    "        root_path=\"blockbatch/token_transfers/erc20_transfers_v1\",\n",
    "        enforce_row_count=True,\n",
    "    ),\n",
    "    LoadSpec.pass_through(\n",
    "        root_path=\"blockbatch/token_transfers/erc721_transfers_v1\",\n",
    "        enforce_row_count=True,\n",
    "    )\n",
    "]\n",
    "\n",
    "result = load_to_clickhouse(\n",
    "    datasets=datasets,\n",
    "    range_spec=\"@20250305:20250314\",\n",
    "    dry_run=False\n",
    ")"
   ]
  },
  {
   "cell_type": "code",
   "execution_count": null,
   "metadata": {},
   "outputs": [],
   "source": []
  }
 ],
 "metadata": {
  "kernelspec": {
   "display_name": ".venv",
   "language": "python",
   "name": "python3"
  },
  "language_info": {
   "codemirror_mode": {
    "name": "ipython",
    "version": 3
   },
   "file_extension": ".py",
   "mimetype": "text/x-python",
   "name": "python",
   "nbconvert_exporter": "python",
   "pygments_lexer": "ipython3",
   "version": "3.12.6"
  }
 },
 "nbformat": 4,
 "nbformat_minor": 2
}
