{
 "cells": [
  {
   "cell_type": "code",
   "execution_count": null,
   "metadata": {},
   "outputs": [],
   "source": [
    "from op_analytics.datapipeline.etl.blockbatchload.main import (\n",
    "    load_to_clickhouse,\n",
    "    LoadSpec,\n",
    ")\n",
    "\n",
    "\n",
    "datasets = [\n",
    "    #\n",
    "    LoadSpec(\n",
    "        input_root_paths=[\n",
    "            \"blockbatch/refined_traces/refined_transactions_fees_v1\",\n",
    "            \"blockbatch/refined_traces/refined_traces_fees_v1\",\n",
    "        ],\n",
    "        output_root_path=\"blockbatch/aggregated_traces/traces_trgrain_v3\",\n",
    "        enforce_row_count=False,\n",
    "    ),\n",
    "    #\n",
    "    LoadSpec(\n",
    "        input_root_paths=[\n",
    "            \"blockbatch/refined_traces/refined_transactions_fees_v1\",\n",
    "            \"blockbatch/refined_traces/refined_traces_fees_v1\",\n",
    "        ],\n",
    "        output_root_path=\"blockbatch/aggregated_traces/traces_txgrain_v3\",\n",
    "        enforce_row_count=False,\n",
    "    ),\n",
    "]\n",
    "\n",
    "result = load_to_clickhouse(\n",
    "    datasets=datasets,\n",
    "    range_spec=\"@20250301:20250324\",\n",
    ")"
   ]
  }
 ],
 "metadata": {
  "kernelspec": {
   "display_name": ".venv",
   "language": "python",
   "name": "python3"
  },
  "language_info": {
   "codemirror_mode": {
    "name": "ipython",
    "version": 3
   },
   "file_extension": ".py",
   "mimetype": "text/x-python",
   "name": "python",
   "nbconvert_exporter": "python",
   "pygments_lexer": "ipython3",
   "version": "3.12.6"
  }
 },
 "nbformat": 4,
 "nbformat_minor": 2
}
