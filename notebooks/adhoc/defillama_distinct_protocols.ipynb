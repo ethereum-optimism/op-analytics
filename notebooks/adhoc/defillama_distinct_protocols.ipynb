{
 "cells": [
  {
   "cell_type": "code",
   "execution_count": 2,
   "metadata": {},
   "outputs": [],
   "source": [
    "from op_analytics.cli.subcommands.pulls.defillama.dataaccess import DefiLlama"
   ]
  },
  {
   "cell_type": "code",
   "execution_count": 3,
   "metadata": {},
   "outputs": [
    {
     "name": "stdout",
     "output_type": "stream",
     "text": [
      "\u001b[2m2024-12-02 17:48:51\u001b[0m [\u001b[32m\u001b[1minfo     \u001b[0m] \u001b[1mloaded vault from .env file   \u001b[0m \u001b[36mfilename\u001b[0m=\u001b[35mvault.py\u001b[0m \u001b[36mlineno\u001b[0m=\u001b[35m32\u001b[0m\n",
      "\u001b[2m2024-12-02 17:48:51\u001b[0m [\u001b[32m\u001b[1mdebug    \u001b[0m] \u001b[1mloaded vault: 18 items        \u001b[0m \u001b[36mfilename\u001b[0m=\u001b[35mvault.py\u001b[0m \u001b[36mlineno\u001b[0m=\u001b[35m76\u001b[0m\n",
      "\u001b[2m2024-12-02 17:48:51\u001b[0m [\u001b[32m\u001b[1minfo     \u001b[0m] \u001b[1mquerying markers for 'protocols_token_tvl_v1' DateFilter(min_date=datetime.date(2024, 11, 1), max_date=None, datevals=None)\u001b[0m \u001b[36mfilename\u001b[0m=\u001b[35mdataaccess.py\u001b[0m \u001b[36mlineno\u001b[0m=\u001b[35m202\u001b[0m\n",
      "\u001b[2m2024-12-02 17:48:51\u001b[0m [\u001b[32m\u001b[1mdebug    \u001b[0m] \u001b[1mconnecting to OPLABS Clickhouse client...\u001b[0m \u001b[36mfilename\u001b[0m=\u001b[35mclient.py\u001b[0m \u001b[36mlineno\u001b[0m=\u001b[35m26\u001b[0m\n",
      "\u001b[2m2024-12-02 17:48:51\u001b[0m [\u001b[32m\u001b[1mdebug    \u001b[0m] \u001b[1minitialized OPLABS Clickhouse client.\u001b[0m \u001b[36mfilename\u001b[0m=\u001b[35mclient.py\u001b[0m \u001b[36mlineno\u001b[0m=\u001b[35m38\u001b[0m\n",
      "\u001b[2m2024-12-02 17:48:51\u001b[0m [\u001b[32m\u001b[1minfo     \u001b[0m] \u001b[1m40 markers found              \u001b[0m \u001b[36mfilename\u001b[0m=\u001b[35mdataaccess.py\u001b[0m \u001b[36mlineno\u001b[0m=\u001b[35m216\u001b[0m\n",
      "\u001b[2m2024-12-02 17:48:51\u001b[0m [\u001b[32m\u001b[1minfo     \u001b[0m] \u001b[1m32 distinct paths             \u001b[0m \u001b[36mfilename\u001b[0m=\u001b[35mdataaccess.py\u001b[0m \u001b[36mlineno\u001b[0m=\u001b[35m221\u001b[0m\n",
      "\u001b[2m2024-12-02 17:48:52\u001b[0m [\u001b[32m\u001b[1minfo     \u001b[0m] \u001b[1mregistered view 'protocols_token_tvl_v1' using 32 parquet paths\u001b[0m \u001b[36mfilename\u001b[0m=\u001b[35mdataaccess.py\u001b[0m \u001b[36mlineno\u001b[0m=\u001b[35m231\u001b[0m\n",
      "┌────────────────────────┐\n",
      "│          name          │\n",
      "│        varchar         │\n",
      "├────────────────────────┤\n",
      "│ protocols_token_tvl_v1 │\n",
      "└────────────────────────┘\n",
      "\n",
      "┌───────────────────┬─────────────┬─────────┬─────────┬─────────┬─────────┐\n",
      "│    column_name    │ column_type │  null   │   key   │ default │  extra  │\n",
      "│      varchar      │   varchar   │ varchar │ varchar │ varchar │ varchar │\n",
      "├───────────────────┼─────────────┼─────────┼─────────┼─────────┼─────────┤\n",
      "│ protocol_slug     │ VARCHAR     │ YES     │ NULL    │ NULL    │ NULL    │\n",
      "│ chain             │ VARCHAR     │ YES     │ NULL    │ NULL    │ NULL    │\n",
      "│ token             │ VARCHAR     │ YES     │ NULL    │ NULL    │ NULL    │\n",
      "│ app_token_tvl     │ DOUBLE      │ YES     │ NULL    │ NULL    │ NULL    │\n",
      "│ app_token_tvl_usd │ DOUBLE      │ YES     │ NULL    │ NULL    │ NULL    │\n",
      "│ dt                │ DATE        │ YES     │ NULL    │ NULL    │ NULL    │\n",
      "└───────────────────┴─────────────┴─────────┴─────────┴─────────┴─────────┘\n",
      "\n"
     ]
    }
   ],
   "source": [
    "## EXAMPLE 1: Register remote parquet files as a view.\n",
    "\n",
    "duckdb_client = DefiLlama.PROTOCOLS_TOKEN_TVL.read(min_date=\"2024-11-01\")\n",
    "\n",
    "print(duckdb_client.sql(\"DESCRIBE protocols_token_tvl_v1\"))\n",
    "\n"
   ]
  },
  {
   "cell_type": "code",
   "execution_count": null,
   "metadata": {},
   "outputs": [
    {
     "name": "stdout",
     "output_type": "stream",
     "text": [
      "shape: (15, 2)\n",
      "┌────────────┬───────────────────────────────┐\n",
      "│ dt         ┆ count(DISTINCT protocol_slug) │\n",
      "│ ---        ┆ ---                           │\n",
      "│ date       ┆ i64                           │\n",
      "╞════════════╪═══════════════════════════════╡\n",
      "│ 2024-11-18 ┆ 4313                          │\n",
      "│ 2024-11-19 ┆ 4319                          │\n",
      "│ 2024-11-20 ┆ 4323                          │\n",
      "│ 2024-11-21 ┆ 4332                          │\n",
      "│ 2024-11-22 ┆ 4323                          │\n",
      "│ 2024-11-23 ┆ 4305                          │\n",
      "│ 2024-11-24 ┆ 4305                          │\n",
      "│ 2024-11-25 ┆ 4302                          │\n",
      "│ 2024-11-26 ┆ 4335                          │\n",
      "│ 2024-11-27 ┆ 4339                          │\n",
      "│ 2024-11-28 ┆ 4344                          │\n",
      "│ 2024-11-29 ┆ 4348                          │\n",
      "│ 2024-11-30 ┆ 4348                          │\n",
      "│ 2024-12-01 ┆ 4352                          │\n",
      "│ 2024-12-02 ┆ 317                           │\n",
      "└────────────┴───────────────────────────────┘\n"
     ]
    }
   ],
   "source": [
    "import polars as pl\n",
    "from datetime import date\n",
    "\n",
    "df = duckdb_client.sql(\n",
    "\"\"\"\n",
    "SELECT \n",
    "    dt,\n",
    "    COUNT(DISTINCT protocol_slug), \n",
    "FROM protocols_token_tvl_v1\n",
    "GROUP BY 1\n",
    "ORDER BY 1 \n",
    "\"\"\").pl()\n",
    "\n",
    "\n",
    "with pl.Config(tbl_rows=200):\n",
    "    print(df.filter(pl.col(\"dt\") > date(2024, 11, 17)))"
   ]
  }
 ],
 "metadata": {
  "kernelspec": {
   "display_name": ".venv",
   "language": "python",
   "name": "python3"
  },
  "language_info": {
   "codemirror_mode": {
    "name": "ipython",
    "version": 3
   },
   "file_extension": ".py",
   "mimetype": "text/x-python",
   "name": "python",
   "nbconvert_exporter": "python",
   "pygments_lexer": "ipython3",
   "version": "3.12.6"
  }
 },
 "nbformat": 4,
 "nbformat_minor": 2
}
