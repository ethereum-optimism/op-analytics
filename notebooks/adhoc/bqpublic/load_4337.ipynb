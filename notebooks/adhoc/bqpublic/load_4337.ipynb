{
 "cells": [
  {
   "cell_type": "code",
   "execution_count": null,
   "metadata": {},
   "outputs": [
    {
     "name": "stdout",
     "output_type": "stream",
     "text": [
      "\u001b[2m2025-04-29 14:57:46\u001b[0m [\u001b[32m\u001b[1minfo     \u001b[0m] \u001b[1mquerying markers at time range min: 2025-04-22 00:00:00, max: 2025-04-29 00:00:00 root_paths=['blockbatch/account_abstraction/enriched_entrypoint_traces_v2', 'blockbatch/account_abstraction/useroperationevent_logs_v2']\u001b[0m \u001b[36menv\u001b[0m=\u001b[35mPROD\u001b[0m \u001b[36mfilename\u001b[0m=\u001b[35mrequest.py\u001b[0m \u001b[36mlineno\u001b[0m=\u001b[35m146\u001b[0m \u001b[36mprocess\u001b[0m=\u001b[35m32978\u001b[0m\n",
      "\u001b[2m2025-04-29 14:57:47\u001b[0m [\u001b[33m\u001b[1mwarning  \u001b[0m] \u001b[1mmissing date coverage         \u001b[0m \u001b[36mchain\u001b[0m=\u001b[35mxterio\u001b[0m \u001b[36mdataset\u001b[0m=\u001b[35mblockbatch/account_abstraction/enriched_entrypoint_traces_v2\u001b[0m \u001b[36mdate\u001b[0m=\u001b[35m2025-04-28\u001b[0m \u001b[36menv\u001b[0m=\u001b[35mPROD\u001b[0m \u001b[36mfilename\u001b[0m=\u001b[35mbydate.py\u001b[0m \u001b[36mlineno\u001b[0m=\u001b[35m196\u001b[0m \u001b[36mmissing\u001b[0m=\u001b[35m['2025-04-29']\u001b[0m \u001b[36mprocess\u001b[0m=\u001b[35m32978\u001b[0m\n",
      "\u001b[2m2025-04-29 14:57:47\u001b[0m [\u001b[33m\u001b[1mwarning  \u001b[0m] \u001b[1mMISSING DATA                  \u001b[0m \u001b[36mchain\u001b[0m=\u001b[35mxterio\u001b[0m \u001b[36mdate\u001b[0m=\u001b[35m2025-04-28\u001b[0m \u001b[36menv\u001b[0m=\u001b[35mPROD\u001b[0m \u001b[36mfilename\u001b[0m=\u001b[35mbydate.py\u001b[0m \u001b[36mlineno\u001b[0m=\u001b[35m89\u001b[0m \u001b[36mprocess\u001b[0m=\u001b[35m32978\u001b[0m\n",
      "\u001b[2m2025-04-29 14:57:47\u001b[0m [\u001b[32m\u001b[1minfo     \u001b[0m] \u001b[1mprepared 182 input dt,chain readers\u001b[0m \u001b[36menv\u001b[0m=\u001b[35mPROD\u001b[0m \u001b[36mfilename\u001b[0m=\u001b[35mbydate.py\u001b[0m \u001b[36mlineno\u001b[0m=\u001b[35m92\u001b[0m \u001b[36mprocess\u001b[0m=\u001b[35m32978\u001b[0m\n",
      "\u001b[2m2025-04-29 14:57:47\u001b[0m [\u001b[32m\u001b[1minfo     \u001b[0m] \u001b[1minput not ready for 1 dt,chain readers\u001b[0m \u001b[36menv\u001b[0m=\u001b[35mPROD\u001b[0m \u001b[36mfilename\u001b[0m=\u001b[35mbydate.py\u001b[0m \u001b[36mlineno\u001b[0m=\u001b[35m94\u001b[0m \u001b[36mprocess\u001b[0m=\u001b[35m32978\u001b[0m\n",
      "\u001b[2m2025-04-29 14:57:47\u001b[0m [\u001b[32m\u001b[1minfo     \u001b[0m] \u001b[1mpre-fetched 28 markers        \u001b[0m \u001b[36menv\u001b[0m=\u001b[35mPROD\u001b[0m \u001b[36mfilename\u001b[0m=\u001b[35mconstruct.py\u001b[0m \u001b[36mlineno\u001b[0m=\u001b[35m66\u001b[0m \u001b[36mprocess\u001b[0m=\u001b[35m32978\u001b[0m\n",
      "\u001b[2m2025-04-29 14:57:47\u001b[0m [\u001b[32m\u001b[1minfo     \u001b[0m] \u001b[1mConsolidated to 7 dateval tasks.\u001b[0m \u001b[36menv\u001b[0m=\u001b[35mPROD\u001b[0m \u001b[36mfilename\u001b[0m=\u001b[35mconstruct.py\u001b[0m \u001b[36mlineno\u001b[0m=\u001b[35m139\u001b[0m \u001b[36mprocess\u001b[0m=\u001b[35m32978\u001b[0m\n",
      "\u001b[2m2025-04-29 14:57:47\u001b[0m [\u001b[32m\u001b[1minfo     \u001b[0m] \u001b[1mforced execution despite complete markers\u001b[0m \u001b[36mdate\u001b[0m=\u001b[35m2025-04-22\u001b[0m \u001b[36menv\u001b[0m=\u001b[35mPROD\u001b[0m \u001b[36mfilename\u001b[0m=\u001b[35mload.py\u001b[0m \u001b[36mlineno\u001b[0m=\u001b[35m70\u001b[0m \u001b[36mprocess\u001b[0m=\u001b[35m32978\u001b[0m \u001b[36mtask\u001b[0m=\u001b[35m1/7\u001b[0m\n",
      "\u001b[2m2025-04-29 14:57:47\u001b[0m [\u001b[32m\u001b[1minfo     \u001b[0m] \u001b[1mBEGIN Loading 799 files to superchain_4337.enriched_entrypoint_traces_v2\u001b[0m \u001b[36mdate\u001b[0m=\u001b[35m2025-04-22\u001b[0m \u001b[36menv\u001b[0m=\u001b[35mPROD\u001b[0m \u001b[36mfilename\u001b[0m=\u001b[35mloader.py\u001b[0m \u001b[36mlineno\u001b[0m=\u001b[35m112\u001b[0m \u001b[36mprocess\u001b[0m=\u001b[35m32978\u001b[0m \u001b[36mroot\u001b[0m=\u001b[35msuperchain_4337/enriched_entrypoint_traces_v2\u001b[0m \u001b[36mtask\u001b[0m=\u001b[35m1/7\u001b[0m\n",
      "\u001b[2m2025-04-29 14:57:47\u001b[0m [\u001b[32m\u001b[1mdebug    \u001b[0m] \u001b[1mFound vault variable GOOGLE_SERVICE_ACCOUNT (has JSON key)\u001b[0m \u001b[36mdate\u001b[0m=\u001b[35m2025-04-22\u001b[0m \u001b[36menv\u001b[0m=\u001b[35mPROD\u001b[0m \u001b[36mfilename\u001b[0m=\u001b[35mgcpauth.py\u001b[0m \u001b[36mlineno\u001b[0m=\u001b[35m18\u001b[0m \u001b[36mprocess\u001b[0m=\u001b[35m32978\u001b[0m \u001b[36mroot\u001b[0m=\u001b[35msuperchain_4337/enriched_entrypoint_traces_v2\u001b[0m \u001b[36mtask\u001b[0m=\u001b[35m1/7\u001b[0m\n",
      "\u001b[2m2025-04-29 14:58:27\u001b[0m [\u001b[32m\u001b[1minfo     \u001b[0m] \u001b[1mWRITE_TRUNCATE to BQ superchain_4337.enriched_entrypoint_traces_v2$20250422\u001b[0m \u001b[36mdate\u001b[0m=\u001b[35m2025-04-22\u001b[0m \u001b[36menv\u001b[0m=\u001b[35mPROD\u001b[0m \u001b[36mfilename\u001b[0m=\u001b[35mload.py\u001b[0m \u001b[36mlineno\u001b[0m=\u001b[35m63\u001b[0m \u001b[36mprocess\u001b[0m=\u001b[35m32978\u001b[0m \u001b[36mroot\u001b[0m=\u001b[35msuperchain_4337/enriched_entrypoint_traces_v2\u001b[0m \u001b[36mtask\u001b[0m=\u001b[35m1/7\u001b[0m\n",
      "\u001b[2m2025-04-29 14:58:27\u001b[0m [\u001b[32m\u001b[1minfo     \u001b[0m] \u001b[1mDONE Loading 799 files to superchain_4337.enriched_entrypoint_traces_v2\u001b[0m \u001b[36mdate\u001b[0m=\u001b[35m2025-04-22\u001b[0m \u001b[36menv\u001b[0m=\u001b[35mPROD\u001b[0m \u001b[36mfilename\u001b[0m=\u001b[35mloader.py\u001b[0m \u001b[36mlineno\u001b[0m=\u001b[35m123\u001b[0m \u001b[36mprocess\u001b[0m=\u001b[35m32978\u001b[0m \u001b[36mroot\u001b[0m=\u001b[35msuperchain_4337/enriched_entrypoint_traces_v2\u001b[0m \u001b[36mtask\u001b[0m=\u001b[35m1/7\u001b[0m\n",
      "\u001b[2m2025-04-29 14:58:27\u001b[0m [\u001b[32m\u001b[1mdebug    \u001b[0m] \u001b[1mdone writing superchain_4337/enriched_entrypoint_traces_v2 to BIGQUERY\u001b[0m \u001b[36mdate\u001b[0m=\u001b[35m2025-04-22\u001b[0m \u001b[36menv\u001b[0m=\u001b[35mPROD\u001b[0m \u001b[36mfilename\u001b[0m=\u001b[35mwritemanager.py\u001b[0m \u001b[36mlineno\u001b[0m=\u001b[35m131\u001b[0m \u001b[36mprocess\u001b[0m=\u001b[35m32978\u001b[0m \u001b[36mroot\u001b[0m=\u001b[35msuperchain_4337/enriched_entrypoint_traces_v2\u001b[0m \u001b[36mtask\u001b[0m=\u001b[35m1/7\u001b[0m\n",
      "\u001b[2m2025-04-29 14:58:27\u001b[0m [\u001b[32m\u001b[1minfo     \u001b[0m] \u001b[1mtask                          \u001b[0m \u001b[36mdate\u001b[0m=\u001b[35m2025-04-22\u001b[0m \u001b[36menv\u001b[0m=\u001b[35mPROD\u001b[0m \u001b[36mfilename\u001b[0m=\u001b[35mload.py\u001b[0m \u001b[36mlineno\u001b[0m=\u001b[35m75\u001b[0m \u001b[36mprocess\u001b[0m=\u001b[35m32978\u001b[0m \u001b[36mstatus\u001b[0m=\u001b[35msuccess\u001b[0m \u001b[36mtask\u001b[0m=\u001b[35m1/7\u001b[0m\n",
      "\u001b[2m2025-04-29 14:58:27\u001b[0m [\u001b[32m\u001b[1minfo     \u001b[0m] \u001b[1mBEGIN Loading 799 files to superchain_4337.useroperationevent_logs_v2\u001b[0m \u001b[36mdate\u001b[0m=\u001b[35m2025-04-22\u001b[0m \u001b[36menv\u001b[0m=\u001b[35mPROD\u001b[0m \u001b[36mfilename\u001b[0m=\u001b[35mloader.py\u001b[0m \u001b[36mlineno\u001b[0m=\u001b[35m112\u001b[0m \u001b[36mprocess\u001b[0m=\u001b[35m32978\u001b[0m \u001b[36mroot\u001b[0m=\u001b[35msuperchain_4337/useroperationevent_logs_v2\u001b[0m \u001b[36mtask\u001b[0m=\u001b[35m1/7\u001b[0m\n",
      "\u001b[2m2025-04-29 14:59:04\u001b[0m [\u001b[32m\u001b[1minfo     \u001b[0m] \u001b[1mWRITE_TRUNCATE to BQ superchain_4337.useroperationevent_logs_v2$20250422\u001b[0m \u001b[36mdate\u001b[0m=\u001b[35m2025-04-22\u001b[0m \u001b[36menv\u001b[0m=\u001b[35mPROD\u001b[0m \u001b[36mfilename\u001b[0m=\u001b[35mload.py\u001b[0m \u001b[36mlineno\u001b[0m=\u001b[35m63\u001b[0m \u001b[36mprocess\u001b[0m=\u001b[35m32978\u001b[0m \u001b[36mroot\u001b[0m=\u001b[35msuperchain_4337/useroperationevent_logs_v2\u001b[0m \u001b[36mtask\u001b[0m=\u001b[35m1/7\u001b[0m\n",
      "\u001b[2m2025-04-29 14:59:04\u001b[0m [\u001b[32m\u001b[1minfo     \u001b[0m] \u001b[1mDONE Loading 799 files to superchain_4337.useroperationevent_logs_v2\u001b[0m \u001b[36mdate\u001b[0m=\u001b[35m2025-04-22\u001b[0m \u001b[36menv\u001b[0m=\u001b[35mPROD\u001b[0m \u001b[36mfilename\u001b[0m=\u001b[35mloader.py\u001b[0m \u001b[36mlineno\u001b[0m=\u001b[35m123\u001b[0m \u001b[36mprocess\u001b[0m=\u001b[35m32978\u001b[0m \u001b[36mroot\u001b[0m=\u001b[35msuperchain_4337/useroperationevent_logs_v2\u001b[0m \u001b[36mtask\u001b[0m=\u001b[35m1/7\u001b[0m\n",
      "\u001b[2m2025-04-29 14:59:04\u001b[0m [\u001b[32m\u001b[1mdebug    \u001b[0m] \u001b[1mdone writing superchain_4337/useroperationevent_logs_v2 to BIGQUERY\u001b[0m \u001b[36mdate\u001b[0m=\u001b[35m2025-04-22\u001b[0m \u001b[36menv\u001b[0m=\u001b[35mPROD\u001b[0m \u001b[36mfilename\u001b[0m=\u001b[35mwritemanager.py\u001b[0m \u001b[36mlineno\u001b[0m=\u001b[35m131\u001b[0m \u001b[36mprocess\u001b[0m=\u001b[35m32978\u001b[0m \u001b[36mroot\u001b[0m=\u001b[35msuperchain_4337/useroperationevent_logs_v2\u001b[0m \u001b[36mtask\u001b[0m=\u001b[35m1/7\u001b[0m\n",
      "\u001b[2m2025-04-29 14:59:04\u001b[0m [\u001b[32m\u001b[1minfo     \u001b[0m] \u001b[1mtask                          \u001b[0m \u001b[36mdate\u001b[0m=\u001b[35m2025-04-22\u001b[0m \u001b[36menv\u001b[0m=\u001b[35mPROD\u001b[0m \u001b[36mfilename\u001b[0m=\u001b[35mload.py\u001b[0m \u001b[36mlineno\u001b[0m=\u001b[35m75\u001b[0m \u001b[36mprocess\u001b[0m=\u001b[35m32978\u001b[0m \u001b[36mstatus\u001b[0m=\u001b[35msuccess\u001b[0m \u001b[36mtask\u001b[0m=\u001b[35m1/7\u001b[0m\n",
      "\u001b[2m2025-04-29 14:59:04\u001b[0m [\u001b[32m\u001b[1minfo     \u001b[0m] \u001b[1mforced execution despite complete markers\u001b[0m \u001b[36mdate\u001b[0m=\u001b[35m2025-04-23\u001b[0m \u001b[36menv\u001b[0m=\u001b[35mPROD\u001b[0m \u001b[36mfilename\u001b[0m=\u001b[35mload.py\u001b[0m \u001b[36mlineno\u001b[0m=\u001b[35m70\u001b[0m \u001b[36mprocess\u001b[0m=\u001b[35m32978\u001b[0m \u001b[36mtask\u001b[0m=\u001b[35m2/7\u001b[0m\n",
      "\u001b[2m2025-04-29 14:59:04\u001b[0m [\u001b[32m\u001b[1minfo     \u001b[0m] \u001b[1mBEGIN Loading 800 files to superchain_4337.enriched_entrypoint_traces_v2\u001b[0m \u001b[36mdate\u001b[0m=\u001b[35m2025-04-23\u001b[0m \u001b[36menv\u001b[0m=\u001b[35mPROD\u001b[0m \u001b[36mfilename\u001b[0m=\u001b[35mloader.py\u001b[0m \u001b[36mlineno\u001b[0m=\u001b[35m112\u001b[0m \u001b[36mprocess\u001b[0m=\u001b[35m32978\u001b[0m \u001b[36mroot\u001b[0m=\u001b[35msuperchain_4337/enriched_entrypoint_traces_v2\u001b[0m \u001b[36mtask\u001b[0m=\u001b[35m2/7\u001b[0m\n",
      "\u001b[2m2025-04-29 14:59:38\u001b[0m [\u001b[32m\u001b[1minfo     \u001b[0m] \u001b[1mWRITE_TRUNCATE to BQ superchain_4337.enriched_entrypoint_traces_v2$20250423\u001b[0m \u001b[36mdate\u001b[0m=\u001b[35m2025-04-23\u001b[0m \u001b[36menv\u001b[0m=\u001b[35mPROD\u001b[0m \u001b[36mfilename\u001b[0m=\u001b[35mload.py\u001b[0m \u001b[36mlineno\u001b[0m=\u001b[35m63\u001b[0m \u001b[36mprocess\u001b[0m=\u001b[35m32978\u001b[0m \u001b[36mroot\u001b[0m=\u001b[35msuperchain_4337/enriched_entrypoint_traces_v2\u001b[0m \u001b[36mtask\u001b[0m=\u001b[35m2/7\u001b[0m\n",
      "\u001b[2m2025-04-29 14:59:38\u001b[0m [\u001b[32m\u001b[1minfo     \u001b[0m] \u001b[1mDONE Loading 800 files to superchain_4337.enriched_entrypoint_traces_v2\u001b[0m \u001b[36mdate\u001b[0m=\u001b[35m2025-04-23\u001b[0m \u001b[36menv\u001b[0m=\u001b[35mPROD\u001b[0m \u001b[36mfilename\u001b[0m=\u001b[35mloader.py\u001b[0m \u001b[36mlineno\u001b[0m=\u001b[35m123\u001b[0m \u001b[36mprocess\u001b[0m=\u001b[35m32978\u001b[0m \u001b[36mroot\u001b[0m=\u001b[35msuperchain_4337/enriched_entrypoint_traces_v2\u001b[0m \u001b[36mtask\u001b[0m=\u001b[35m2/7\u001b[0m\n",
      "\u001b[2m2025-04-29 14:59:38\u001b[0m [\u001b[32m\u001b[1mdebug    \u001b[0m] \u001b[1mdone writing superchain_4337/enriched_entrypoint_traces_v2 to BIGQUERY\u001b[0m \u001b[36mdate\u001b[0m=\u001b[35m2025-04-23\u001b[0m \u001b[36menv\u001b[0m=\u001b[35mPROD\u001b[0m \u001b[36mfilename\u001b[0m=\u001b[35mwritemanager.py\u001b[0m \u001b[36mlineno\u001b[0m=\u001b[35m131\u001b[0m \u001b[36mprocess\u001b[0m=\u001b[35m32978\u001b[0m \u001b[36mroot\u001b[0m=\u001b[35msuperchain_4337/enriched_entrypoint_traces_v2\u001b[0m \u001b[36mtask\u001b[0m=\u001b[35m2/7\u001b[0m\n",
      "\u001b[2m2025-04-29 14:59:38\u001b[0m [\u001b[32m\u001b[1minfo     \u001b[0m] \u001b[1mtask                          \u001b[0m \u001b[36mdate\u001b[0m=\u001b[35m2025-04-23\u001b[0m \u001b[36menv\u001b[0m=\u001b[35mPROD\u001b[0m \u001b[36mfilename\u001b[0m=\u001b[35mload.py\u001b[0m \u001b[36mlineno\u001b[0m=\u001b[35m75\u001b[0m \u001b[36mprocess\u001b[0m=\u001b[35m32978\u001b[0m \u001b[36mstatus\u001b[0m=\u001b[35msuccess\u001b[0m \u001b[36mtask\u001b[0m=\u001b[35m2/7\u001b[0m\n",
      "\u001b[2m2025-04-29 14:59:38\u001b[0m [\u001b[32m\u001b[1minfo     \u001b[0m] \u001b[1mBEGIN Loading 800 files to superchain_4337.useroperationevent_logs_v2\u001b[0m \u001b[36mdate\u001b[0m=\u001b[35m2025-04-23\u001b[0m \u001b[36menv\u001b[0m=\u001b[35mPROD\u001b[0m \u001b[36mfilename\u001b[0m=\u001b[35mloader.py\u001b[0m \u001b[36mlineno\u001b[0m=\u001b[35m112\u001b[0m \u001b[36mprocess\u001b[0m=\u001b[35m32978\u001b[0m \u001b[36mroot\u001b[0m=\u001b[35msuperchain_4337/useroperationevent_logs_v2\u001b[0m \u001b[36mtask\u001b[0m=\u001b[35m2/7\u001b[0m\n"
     ]
    }
   ],
   "source": [
    "import os \n",
    "\n",
    "# Override to force BQ write.\n",
    "os.environ[\"OPLABS_ENV\"] = \"prod\"\n",
    "\n",
    "from op_analytics.datapipeline.etl.loadbq.main import (\n",
    "    load_superchain_4337_to_bq,\n",
    ")\n",
    "\n",
    "result = load_superchain_4337_to_bq(\n",
    "    range_spec=\"@20250422:20250429\",\n",
    "    dryrun=False,\n",
    "    force_complete=True,\n",
    "    force_not_ready=False,\n",
    ")"
   ]
  },
  {
   "cell_type": "code",
   "execution_count": null,
   "metadata": {},
   "outputs": [],
   "source": []
  },
  {
   "cell_type": "code",
   "execution_count": null,
   "metadata": {},
   "outputs": [],
   "source": []
  }
 ],
 "metadata": {
  "kernelspec": {
   "display_name": ".venv",
   "language": "python",
   "name": "python3"
  },
  "language_info": {
   "codemirror_mode": {
    "name": "ipython",
    "version": 3
   },
   "file_extension": ".py",
   "mimetype": "text/x-python",
   "name": "python",
   "nbconvert_exporter": "python",
   "pygments_lexer": "ipython3",
   "version": "3.12.6"
  }
 },
 "nbformat": 4,
 "nbformat_minor": 2
}
