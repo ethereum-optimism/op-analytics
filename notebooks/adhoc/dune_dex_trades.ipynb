{
 "cells": [
  {
   "cell_type": "code",
   "execution_count": 19,
   "metadata": {},
   "outputs": [],
   "source": [
    "from op_analytics.datasources.dune.dex_trades.daily_dex_trades_summary import DuneDexTradesSummary\n",
    "from op_analytics.coreutils.duckdb_inmem.client import init_client\n",
    "\n",
    "duckdb_ctx = init_client()"
   ]
  },
  {
   "cell_type": "code",
   "execution_count": 20,
   "metadata": {},
   "outputs": [
    {
     "name": "stdout",
     "output_type": "stream",
     "text": [
      "initiating new execution of query_id = 4724100\n",
      "waiting for results, execution_id = 01JNKW70VDK6ZHZNAHKVCFDSWB, t = 0.00\n",
      "waiting for results, execution_id = 01JNKW70VDK6ZHZNAHKVCFDSWB, t = 1.00\n",
      "waiting for results, execution_id = 01JNKW70VDK6ZHZNAHKVCFDSWB, t = 2.00\n",
      "waiting for results, execution_id = 01JNKW70VDK6ZHZNAHKVCFDSWB, t = 3.01\n",
      "waiting for results, execution_id = 01JNKW70VDK6ZHZNAHKVCFDSWB, t = 4.01\n",
      "waiting for results, execution_id = 01JNKW70VDK6ZHZNAHKVCFDSWB, t = 5.02\n",
      "waiting for results, execution_id = 01JNKW70VDK6ZHZNAHKVCFDSWB, t = 6.02\n",
      "waiting for results, execution_id = 01JNKW70VDK6ZHZNAHKVCFDSWB, t = 7.03\n",
      "waiting for results, execution_id = 01JNKW70VDK6ZHZNAHKVCFDSWB, t = 8.03\n",
      "waiting for results, execution_id = 01JNKW70VDK6ZHZNAHKVCFDSWB, t = 9.04\n",
      "waiting for results, execution_id = 01JNKW70VDK6ZHZNAHKVCFDSWB, t = 10.04\n",
      "waiting for results, execution_id = 01JNKW70VDK6ZHZNAHKVCFDSWB, t = 11.04\n",
      "waiting for results, execution_id = 01JNKW70VDK6ZHZNAHKVCFDSWB, t = 12.05\n",
      "waiting for results, execution_id = 01JNKW70VDK6ZHZNAHKVCFDSWB, t = 13.05\n",
      "waiting for results, execution_id = 01JNKW70VDK6ZHZNAHKVCFDSWB, t = 14.06\n",
      "waiting for results, execution_id = 01JNKW70VDK6ZHZNAHKVCFDSWB, t = 15.06\n",
      "waiting for results, execution_id = 01JNKW70VDK6ZHZNAHKVCFDSWB, t = 16.07\n",
      "waiting for results, execution_id = 01JNKW70VDK6ZHZNAHKVCFDSWB, t = 17.07\n",
      "waiting for results, execution_id = 01JNKW70VDK6ZHZNAHKVCFDSWB, t = 18.08\n",
      "waiting for results, execution_id = 01JNKW70VDK6ZHZNAHKVCFDSWB, t = 19.08\n",
      "waiting for results, execution_id = 01JNKW70VDK6ZHZNAHKVCFDSWB, t = 20.09\n",
      "waiting for results, execution_id = 01JNKW70VDK6ZHZNAHKVCFDSWB, t = 21.09\n",
      "waiting for results, execution_id = 01JNKW70VDK6ZHZNAHKVCFDSWB, t = 22.10\n",
      "waiting for results, execution_id = 01JNKW70VDK6ZHZNAHKVCFDSWB, t = 23.10\n",
      "waiting for results, execution_id = 01JNKW70VDK6ZHZNAHKVCFDSWB, t = 24.10\n",
      "waiting for results, execution_id = 01JNKW70VDK6ZHZNAHKVCFDSWB, t = 25.10\n",
      "waiting for results, execution_id = 01JNKW70VDK6ZHZNAHKVCFDSWB, t = 26.11\n",
      "waiting for results, execution_id = 01JNKW70VDK6ZHZNAHKVCFDSWB, t = 27.11\n",
      "waiting for results, execution_id = 01JNKW70VDK6ZHZNAHKVCFDSWB, t = 28.11\n",
      "waiting for results, execution_id = 01JNKW70VDK6ZHZNAHKVCFDSWB, t = 29.11\n",
      "waiting for results, execution_id = 01JNKW70VDK6ZHZNAHKVCFDSWB, t = 30.12\n",
      "waiting for results, execution_id = 01JNKW70VDK6ZHZNAHKVCFDSWB, t = 31.12\n",
      "waiting for results, execution_id = 01JNKW70VDK6ZHZNAHKVCFDSWB, t = 32.12\n",
      "waiting for results, execution_id = 01JNKW70VDK6ZHZNAHKVCFDSWB, t = 33.12\n",
      "waiting for results, execution_id = 01JNKW70VDK6ZHZNAHKVCFDSWB, t = 34.13\n",
      "waiting for results, execution_id = 01JNKW70VDK6ZHZNAHKVCFDSWB, t = 35.13\n",
      "waiting for results, execution_id = 01JNKW70VDK6ZHZNAHKVCFDSWB, t = 36.13\n",
      "getting results, execution_id = 01JNKW70VDK6ZHZNAHKVCFDSWB\n",
      "saving result to cache\n"
     ]
    },
    {
     "data": {
      "text/plain": [
       "DuneDexTradesSummary(summary_df=shape: (0, 27)\n",
       "┌─────┬────────────┬─────────┬─────────┬───┬─────────────┬─────────────┬─────────────┬─────────────┐\n",
       "│ dt  ┆ blockchain ┆ project ┆ version ┆ … ┆ avg_swap_am ┆ med_swap_am ┆ count_swaps ┆ count_trans │\n",
       "│ --- ┆ ---        ┆ ---     ┆ ---     ┆   ┆ ount_usd    ┆ ount_usd    ┆ ---         ┆ actions     │\n",
       "│ str ┆ str        ┆ str     ┆ str     ┆   ┆ ---         ┆ ---         ┆ i64         ┆ ---         │\n",
       "│     ┆            ┆         ┆         ┆   ┆ f64         ┆ f64         ┆             ┆ i64         │\n",
       "╞═════╪════════════╪═════════╪═════════╪═══╪═════════════╪═════════════╪═════════════╪═════════════╡\n",
       "└─────┴────────────┴─────────┴─────────┴───┴─────────────┴─────────────┴─────────────┴─────────────┘)"
      ]
     },
     "execution_count": 20,
     "metadata": {},
     "output_type": "execute_result"
    }
   ],
   "source": [
    "DuneDexTradesSummary.fetch()"
   ]
  }
 ],
 "metadata": {
  "kernelspec": {
   "display_name": ".venv",
   "language": "python",
   "name": "python3"
  },
  "language_info": {
   "codemirror_mode": {
    "name": "ipython",
    "version": 3
   },
   "file_extension": ".py",
   "mimetype": "text/x-python",
   "name": "python",
   "nbconvert_exporter": "python",
   "pygments_lexer": "ipython3",
   "version": "3.12.3"
  }
 },
 "nbformat": 4,
 "nbformat_minor": 2
}
