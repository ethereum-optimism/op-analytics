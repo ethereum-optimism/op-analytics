{
 "cells": [
  {
   "cell_type": "code",
   "execution_count": 7,
   "metadata": {},
   "outputs": [],
   "source": [
    "from op_analytics.datasources.dune.dex_trades.daily_dex_trades_summary import DuneDexTradesSummary\n",
    "from op_analytics.coreutils.duckdb_inmem.client import init_client"
   ]
  },
  {
   "cell_type": "code",
   "execution_count": 8,
   "metadata": {},
   "outputs": [
    {
     "name": "stdout",
     "output_type": "stream",
     "text": [
      "initiating new execution of query_id = 4724100\n",
      "waiting for results, execution_id = 01JN53XS5AWYJG2RQCXE67A4S7, t = 0.00\n",
      "waiting for results, execution_id = 01JN53XS5AWYJG2RQCXE67A4S7, t = 1.01\n",
      "waiting for results, execution_id = 01JN53XS5AWYJG2RQCXE67A4S7, t = 2.01\n",
      "waiting for results, execution_id = 01JN53XS5AWYJG2RQCXE67A4S7, t = 3.01\n",
      "waiting for results, execution_id = 01JN53XS5AWYJG2RQCXE67A4S7, t = 4.02\n",
      "waiting for results, execution_id = 01JN53XS5AWYJG2RQCXE67A4S7, t = 5.02\n",
      "waiting for results, execution_id = 01JN53XS5AWYJG2RQCXE67A4S7, t = 6.02\n",
      "waiting for results, execution_id = 01JN53XS5AWYJG2RQCXE67A4S7, t = 7.02\n",
      "waiting for results, execution_id = 01JN53XS5AWYJG2RQCXE67A4S7, t = 8.03\n",
      "waiting for results, execution_id = 01JN53XS5AWYJG2RQCXE67A4S7, t = 9.03\n",
      "waiting for results, execution_id = 01JN53XS5AWYJG2RQCXE67A4S7, t = 10.04\n",
      "getting results, execution_id = 01JN53XS5AWYJG2RQCXE67A4S7\n",
      "saving result to cache\n"
     ]
    },
    {
     "data": {
      "text/plain": [
       "DuneDexTradesSummary(summary_df=shape: (0, 27)\n",
       "┌─────┬────────────┬─────────┬─────────┬───┬─────────────┬─────────────┬─────────────┬─────────────┐\n",
       "│ dt  ┆ blockchain ┆ project ┆ version ┆ … ┆ avg_swap_am ┆ med_swap_am ┆ count_swaps ┆ count_trans │\n",
       "│ --- ┆ ---        ┆ ---     ┆ ---     ┆   ┆ ount_usd    ┆ ount_usd    ┆ ---         ┆ actions     │\n",
       "│ str ┆ str        ┆ str     ┆ str     ┆   ┆ ---         ┆ ---         ┆ i64         ┆ ---         │\n",
       "│     ┆            ┆         ┆         ┆   ┆ f64         ┆ f64         ┆             ┆ i64         │\n",
       "╞═════╪════════════╪═════════╪═════════╪═══╪═════════════╪═════════════╪═════════════╪═════════════╡\n",
       "└─────┴────────────┴─────────┴─────────┴───┴─────────────┴─────────────┴─────────────┴─────────────┘)"
      ]
     },
     "execution_count": 8,
     "metadata": {},
     "output_type": "execute_result"
    }
   ],
   "source": [
    "DuneDexTradesSummary.fetch()"
   ]
  }
 ],
 "metadata": {
  "kernelspec": {
   "display_name": ".venv",
   "language": "python",
   "name": "python3"
  },
  "language_info": {
   "codemirror_mode": {
    "name": "ipython",
    "version": 3
   },
   "file_extension": ".py",
   "mimetype": "text/x-python",
   "name": "python",
   "nbconvert_exporter": "python",
   "pygments_lexer": "ipython3",
   "version": "3.12.3"
  }
 },
 "nbformat": 4,
 "nbformat_minor": 2
}
