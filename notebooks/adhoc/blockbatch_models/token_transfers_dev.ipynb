{
 "cells": [
  {
   "cell_type": "code",
   "execution_count": 1,
   "metadata": {},
   "outputs": [],
   "source": [
    "from pprint import pprint\n",
    "\n",
    "from op_analytics.coreutils.partitioned.location import DataLocation\n",
    "from op_analytics.coreutils.partitioned.reader import DataReader\n",
    "from op_analytics.datapipeline.etl.ingestion.reader.byblock import construct_readers_byblock\n",
    "from op_analytics.datapipeline.etl.ingestion.reader.request import BlockBatchRequest\n",
    "from op_analytics.datapipeline.models.compute.modelspec import ModelsDataSpec\n",
    "from op_analytics.datapipeline.models.compute.testutils import setup_execution_context"
   ]
  },
  {
   "cell_type": "code",
   "execution_count": 2,
   "metadata": {},
   "outputs": [
    {
     "name": "stdout",
     "output_type": "stream",
     "text": [
      "\u001b[2m2025-06-17 17:16:05\u001b[0m [\u001b[32m\u001b[1mdebug    \u001b[0m] \u001b[1mconnecting to GOLDSKY Clickhouse client...\u001b[0m \u001b[36mcounter\u001b[0m=\u001b[35m001/001\u001b[0m \u001b[36meta\u001b[0m=\u001b[35mNone\u001b[0m \u001b[36mfilename\u001b[0m=\u001b[35mclient.py\u001b[0m \u001b[36mlineno\u001b[0m=\u001b[35m56\u001b[0m \u001b[36mprocess\u001b[0m=\u001b[35m14954\u001b[0m\n",
      "\u001b[2m2025-06-17 17:16:05\u001b[0m [\u001b[32m\u001b[1minfo     \u001b[0m] \u001b[1mloaded vault from .env file   \u001b[0m \u001b[36mcounter\u001b[0m=\u001b[35m001/001\u001b[0m \u001b[36meta\u001b[0m=\u001b[35mNone\u001b[0m \u001b[36mfilename\u001b[0m=\u001b[35mvault.py\u001b[0m \u001b[36mlineno\u001b[0m=\u001b[35m32\u001b[0m \u001b[36mprocess\u001b[0m=\u001b[35m14954\u001b[0m\n",
      "\u001b[2m2025-06-17 17:16:05\u001b[0m [\u001b[32m\u001b[1mdebug    \u001b[0m] \u001b[1mloaded vault: 28 items        \u001b[0m \u001b[36mcounter\u001b[0m=\u001b[35m001/001\u001b[0m \u001b[36meta\u001b[0m=\u001b[35mNone\u001b[0m \u001b[36mfilename\u001b[0m=\u001b[35mvault.py\u001b[0m \u001b[36mlineno\u001b[0m=\u001b[35m79\u001b[0m \u001b[36mprocess\u001b[0m=\u001b[35m14954\u001b[0m\n",
      "\u001b[2m2025-06-17 17:16:06\u001b[0m [\u001b[32m\u001b[1mdebug    \u001b[0m] \u001b[1minitialized GOLDSKY Clickhouse client.\u001b[0m \u001b[36mcounter\u001b[0m=\u001b[35m001/001\u001b[0m \u001b[36meta\u001b[0m=\u001b[35mNone\u001b[0m \u001b[36mfilename\u001b[0m=\u001b[35mclient.py\u001b[0m \u001b[36mlineno\u001b[0m=\u001b[35m61\u001b[0m \u001b[36mprocess\u001b[0m=\u001b[35m14954\u001b[0m\n",
      "\u001b[2m2025-06-17 17:16:06\u001b[0m [\u001b[32m\u001b[1minfo     \u001b[0m] \u001b[1mquerying markers at time range min: 2024-11-18 00:00:00, max: 2024-11-19 00:00:00 root_paths=['ingestion/logs_v1', 'ingestion/traces_v1']\u001b[0m \u001b[36mfilename\u001b[0m=\u001b[35mrequest.py\u001b[0m \u001b[36mlineno\u001b[0m=\u001b[35m146\u001b[0m \u001b[36mprocess\u001b[0m=\u001b[35m14954\u001b[0m\n",
      "\u001b[2m2025-06-17 17:16:06\u001b[0m [\u001b[32m\u001b[1mdebug    \u001b[0m] \u001b[1mconnecting to OPLABS Clickhouse client...\u001b[0m \u001b[36mfilename\u001b[0m=\u001b[35mclient.py\u001b[0m \u001b[36mlineno\u001b[0m=\u001b[35m56\u001b[0m \u001b[36mprocess\u001b[0m=\u001b[35m14954\u001b[0m\n",
      "\u001b[2m2025-06-17 17:16:07\u001b[0m [\u001b[32m\u001b[1mdebug    \u001b[0m] \u001b[1minitialized OPLABS Clickhouse client.\u001b[0m \u001b[36mfilename\u001b[0m=\u001b[35mclient.py\u001b[0m \u001b[36mlineno\u001b[0m=\u001b[35m61\u001b[0m \u001b[36mprocess\u001b[0m=\u001b[35m14954\u001b[0m\n",
      "\u001b[2m2025-06-17 17:16:07\u001b[0m [\u001b[32m\u001b[1minfo     \u001b[0m] \u001b[1mprepared 22 input batches.    \u001b[0m \u001b[36mfilename\u001b[0m=\u001b[35mbyblock.py\u001b[0m \u001b[36mlineno\u001b[0m=\u001b[35m92\u001b[0m \u001b[36mprocess\u001b[0m=\u001b[35m14954\u001b[0m\n",
      "DataReader(partitions=Partition(cols=[PartitionColumn(name='chain', value='op'),\n",
      "                                      PartitionColumn(name='dt',\n",
      "                                                      value='2024-11-18')]),\n",
      "           read_from=DataLocation.GCS,\n",
      "           dataset_paths={'ingestion/logs_v1': ['gs://oplabs-tools-data-sink/ingestion/logs_v1/chain=op/dt=2024-11-18/000128144000.parquet'],\n",
      "                          'ingestion/traces_v1': ['gs://oplabs-tools-data-sink/ingestion/traces_v1/chain=op/dt=2024-11-18/000128144000.parquet']},\n",
      "           inputs_ready=True,\n",
      "           extra_marker_data={'max_block': 128146000,\n",
      "                              'min_block': 128144000,\n",
      "                              'num_blocks': 2000})\n",
      "\u001b[2m2025-06-17 17:16:07\u001b[0m [\u001b[32m\u001b[1minfo     \u001b[0m] \u001b[1minitialized duckdb at /var/folders/by/kltjc8yd0yz_7_wrtrzhrm9m0000gn/T/j7yexdas/op-analytics.duck.db\u001b[0m \u001b[36mfilename\u001b[0m=\u001b[35mclient.py\u001b[0m \u001b[36mlineno\u001b[0m=\u001b[35m118\u001b[0m \u001b[36mprocess\u001b[0m=\u001b[35m14954\u001b[0m\n",
      "\u001b[2m2025-06-17 17:16:07\u001b[0m [\u001b[32m\u001b[1minfo     \u001b[0m] \u001b[1mcreate duckddb gcs secret     \u001b[0m \u001b[36mfilename\u001b[0m=\u001b[35mclient.py\u001b[0m \u001b[36mlineno\u001b[0m=\u001b[35m66\u001b[0m \u001b[36mprocess\u001b[0m=\u001b[35m14954\u001b[0m\n",
      "\u001b[2m2025-06-17 17:16:07\u001b[0m [\u001b[32m\u001b[1minfo     \u001b[0m] \u001b[1mreading dataset='ingestion/logs_v1' using 1/1 parquet paths, first path is gs://oplabs-tools-data-sink/ingestion/logs_v1/chain=op/dt=2024-11-18/000128144000.parquet\u001b[0m \u001b[36mfilename\u001b[0m=\u001b[35mreader.py\u001b[0m \u001b[36mlineno\u001b[0m=\u001b[35m87\u001b[0m \u001b[36mprocess\u001b[0m=\u001b[35m14954\u001b[0m\n",
      "\u001b[2m2025-06-17 17:16:07\u001b[0m [\u001b[32m\u001b[1minfo     \u001b[0m] \u001b[1mreading dataset='ingestion/traces_v1' using 1/1 parquet paths, first path is gs://oplabs-tools-data-sink/ingestion/traces_v1/chain=op/dt=2024-11-18/000128144000.parquet\u001b[0m \u001b[36mfilename\u001b[0m=\u001b[35mreader.py\u001b[0m \u001b[36mlineno\u001b[0m=\u001b[35m87\u001b[0m \u001b[36mprocess\u001b[0m=\u001b[35m14954\u001b[0m\n",
      "\n",
      "INPUT: ingestion/logs_v1\n",
      "INPUT: ingestion/traces_v1\n",
      "\n",
      "AUX TEMPLATE: token_transfers\n",
      "AUX TEMPLATE: native_transfers\n",
      "AUX TEMPLATE: revshare_transfers\n"
     ]
    }
   ],
   "source": [
    "model_name = \"token_transfers\"\n",
    "\n",
    "\n",
    "# Prepare data raeders\n",
    "data_spec = ModelsDataSpec(models=[model_name],\n",
    "    root_path_prefix=\"blockbatch\")\n",
    "blockbatch_request = BlockBatchRequest.build(\n",
    "    chains=[\"op\"],\n",
    "    range_spec=\"@20241118:+1\",\n",
    "    root_paths_to_read=data_spec.input_root_paths,\n",
    ")\n",
    "readers: list[DataReader] = construct_readers_byblock(\n",
    "    blockbatch_request=blockbatch_request,\n",
    "    read_from=DataLocation.GCS,\n",
    ")\n",
    "\n",
    "\n",
    "# Show details for the batch we are processing.\n",
    "pprint(readers[0])\n",
    "\n",
    "# Set up execution context and get handles to model input args.\n",
    "# In subsequent cells you can use the model input args however you want.\n",
    "ctx, input_datasets, auxiliary_templates = setup_execution_context(\n",
    "    model_name=model_name,\n",
    "    data_reader=readers[0],  # use the first reader\n",
    ")"
   ]
  },
  {
   "cell_type": "code",
   "execution_count": 4,
   "metadata": {},
   "outputs": [
    {
     "name": "stdout",
     "output_type": "stream",
     "text": [
      "\u001b[2m2025-06-17 17:17:29\u001b[0m [\u001b[32m\u001b[1minfo     \u001b[0m] \u001b[1mconstructed read_parquet() string with 1 paths\u001b[0m \u001b[36mfilename\u001b[0m=\u001b[35mclient.py\u001b[0m \u001b[36mlineno\u001b[0m=\u001b[35m291\u001b[0m \u001b[36mprocess\u001b[0m=\u001b[35m14954\u001b[0m\n",
      "\u001b[2m2025-06-17 17:17:29\u001b[0m [\u001b[32m\u001b[1minfo     \u001b[0m] \u001b[1mcreated table/view ingestion_logs_v1_view\u001b[0m \u001b[36mfilename\u001b[0m=\u001b[35mclient.py\u001b[0m \u001b[36mlineno\u001b[0m=\u001b[35m230\u001b[0m \u001b[36mprocess\u001b[0m=\u001b[35m14954\u001b[0m\n",
      "\u001b[2m2025-06-17 17:17:29\u001b[0m [\u001b[32m\u001b[1minfo     \u001b[0m] \u001b[1mduck db size: 12.3KB          \u001b[0m \u001b[36mfilename\u001b[0m=\u001b[35mclient.py\u001b[0m \u001b[36mlineno\u001b[0m=\u001b[35m40\u001b[0m \u001b[36mprocess\u001b[0m=\u001b[35m14954\u001b[0m\n",
      "\u001b[2m2025-06-17 17:17:29\u001b[0m [\u001b[32m\u001b[1minfo     \u001b[0m] \u001b[1mconstructed read_parquet() string with 1 paths\u001b[0m \u001b[36mfilename\u001b[0m=\u001b[35mclient.py\u001b[0m \u001b[36mlineno\u001b[0m=\u001b[35m291\u001b[0m \u001b[36mprocess\u001b[0m=\u001b[35m14954\u001b[0m\n",
      "\u001b[2m2025-06-17 17:17:30\u001b[0m [\u001b[32m\u001b[1minfo     \u001b[0m] \u001b[1mcreated table/view ingestion_traces_v1_view\u001b[0m \u001b[36mfilename\u001b[0m=\u001b[35mclient.py\u001b[0m \u001b[36mlineno\u001b[0m=\u001b[35m230\u001b[0m \u001b[36mprocess\u001b[0m=\u001b[35m14954\u001b[0m\n",
      "\u001b[2m2025-06-17 17:17:30\u001b[0m [\u001b[32m\u001b[1minfo     \u001b[0m] \u001b[1mduck db size: 12.3KB          \u001b[0m \u001b[36mfilename\u001b[0m=\u001b[35mclient.py\u001b[0m \u001b[36mlineno\u001b[0m=\u001b[35m40\u001b[0m \u001b[36mprocess\u001b[0m=\u001b[35m14954\u001b[0m\n",
      "\u001b[2m2025-06-17 17:17:30\u001b[0m [\u001b[32m\u001b[1minfo     \u001b[0m] \u001b[1mRendering query               \u001b[0m \u001b[36mfilename\u001b[0m=\u001b[35mquerybuilder.py\u001b[0m \u001b[36mlineno\u001b[0m=\u001b[35m40\u001b[0m \u001b[36mprocess\u001b[0m=\u001b[35m14954\u001b[0m \u001b[36mtemplate\u001b[0m=\u001b[35mtoken_transfers\u001b[0m\n",
      "\u001b[2m2025-06-17 17:17:30\u001b[0m [\u001b[32m\u001b[1minfo     \u001b[0m] \u001b[1mRendering query               \u001b[0m \u001b[36mfilename\u001b[0m=\u001b[35mquerybuilder.py\u001b[0m \u001b[36mlineno\u001b[0m=\u001b[35m40\u001b[0m \u001b[36mprocess\u001b[0m=\u001b[35m14954\u001b[0m \u001b[36mtemplate\u001b[0m=\u001b[35mnative_transfers\u001b[0m\n",
      "\u001b[2m2025-06-17 17:17:30\u001b[0m [\u001b[32m\u001b[1minfo     \u001b[0m] \u001b[1mRendering query               \u001b[0m \u001b[36mfilename\u001b[0m=\u001b[35mquerybuilder.py\u001b[0m \u001b[36mlineno\u001b[0m=\u001b[35m40\u001b[0m \u001b[36mprocess\u001b[0m=\u001b[35m14954\u001b[0m \u001b[36mtemplate\u001b[0m=\u001b[35mrevshare_transfers\u001b[0m\n"
     ]
    },
    {
     "ename": "UndefinedError",
     "evalue": "'native_transfers' is undefined",
     "output_type": "error",
     "traceback": [
      "\u001b[31m---------------------------------------------------------------------------\u001b[39m",
      "\u001b[31mUndefinedError\u001b[39m                            Traceback (most recent call last)",
      "\u001b[36mCell\u001b[39m\u001b[36m \u001b[39m\u001b[32mIn[4]\u001b[39m\u001b[32m, line 17\u001b[39m\n\u001b[32m      4\u001b[39m all_transfers = auxiliary_templates[\u001b[33m\"\u001b[39m\u001b[33mtoken_transfers\u001b[39m\u001b[33m\"\u001b[39m].to_relation(\n\u001b[32m      5\u001b[39m     duckdb_context=ctx,\n\u001b[32m      6\u001b[39m     template_parameters={\n\u001b[32m      7\u001b[39m         \u001b[33m\"\u001b[39m\u001b[33mraw_logs\u001b[39m\u001b[33m\"\u001b[39m: logs_view,\n\u001b[32m      8\u001b[39m     },\n\u001b[32m      9\u001b[39m )\n\u001b[32m     11\u001b[39m native_transfers = auxiliary_templates[\u001b[33m\"\u001b[39m\u001b[33mnative_transfers\u001b[39m\u001b[33m\"\u001b[39m].to_relation(\n\u001b[32m     12\u001b[39m     duckdb_context=ctx,\n\u001b[32m     13\u001b[39m     template_parameters={\n\u001b[32m     14\u001b[39m         \u001b[33m\"\u001b[39m\u001b[33mraw_traces\u001b[39m\u001b[33m\"\u001b[39m: traces_view,\n\u001b[32m     15\u001b[39m     },\n\u001b[32m     16\u001b[39m )\n\u001b[32m---> \u001b[39m\u001b[32m17\u001b[39m revshare_transfers = \u001b[43mauxiliary_templates\u001b[49m\u001b[43m[\u001b[49m\u001b[33;43m\"\u001b[39;49m\u001b[33;43mrevshare_transfers\u001b[39;49m\u001b[33;43m\"\u001b[39;49m\u001b[43m]\u001b[49m\u001b[43m.\u001b[49m\u001b[43mto_relation\u001b[49m\u001b[43m(\u001b[49m\n\u001b[32m     18\u001b[39m \u001b[43m    \u001b[49m\u001b[43mduckdb_context\u001b[49m\u001b[43m=\u001b[49m\u001b[43mctx\u001b[49m\u001b[43m,\u001b[49m\n\u001b[32m     19\u001b[39m \u001b[43m    \u001b[49m\u001b[43mtemplate_parameters\u001b[49m\u001b[43m=\u001b[49m\u001b[43m{\u001b[49m\n\u001b[32m     20\u001b[39m \u001b[43m        \u001b[49m\u001b[33;43m\"\u001b[39;49m\u001b[33;43mraw_traces\u001b[39;49m\u001b[33;43m\"\u001b[39;49m\u001b[43m:\u001b[49m\u001b[43m \u001b[49m\u001b[43mtraces_view\u001b[49m\u001b[43m,\u001b[49m\n\u001b[32m     21\u001b[39m \u001b[43m        \u001b[49m\u001b[33;43m\"\u001b[39;49m\u001b[33;43mraw_logs\u001b[39;49m\u001b[33;43m\"\u001b[39;49m\u001b[43m:\u001b[49m\u001b[43m \u001b[49m\u001b[43mlogs_view\u001b[49m\u001b[43m,\u001b[49m\n\u001b[32m     22\u001b[39m \u001b[43m        \u001b[49m\u001b[33;43m\"\u001b[39;49m\u001b[33;43mfrom_addresses_config\u001b[39;49m\u001b[33;43m\"\u001b[39;49m\u001b[43m:\u001b[49m\u001b[43m \u001b[49m\u001b[33;43m\"\u001b[39;49m\u001b[33;43msrc/op_analytics/datapipeline/models/config/revshare_from_addresses.yaml\u001b[39;49m\u001b[33;43m\"\u001b[39;49m\u001b[43m,\u001b[49m\n\u001b[32m     23\u001b[39m \u001b[43m            \u001b[49m\u001b[33;43m\"\u001b[39;49m\u001b[33;43mto_addresses_config\u001b[39;49m\u001b[33;43m\"\u001b[39;49m\u001b[43m:\u001b[49m\u001b[43m \u001b[49m\u001b[33;43m\"\u001b[39;49m\u001b[33;43msrc/op_analytics/datapipeline/models/config/revshare_to_addresses.yaml\u001b[39;49m\u001b[33;43m\"\u001b[39;49m\u001b[43m,\u001b[49m\n\u001b[32m     24\u001b[39m \u001b[43m    \u001b[49m\u001b[43m}\u001b[49m\u001b[43m,\u001b[49m\n\u001b[32m     25\u001b[39m \u001b[43m)\u001b[49m\n",
      "\u001b[36mFile \u001b[39m\u001b[32m~/Documents/GitHub/op-analytics/src/op_analytics/datapipeline/models/compute/auxtemplate.py:59\u001b[39m, in \u001b[36mAuxiliaryTemplate.to_relation\u001b[39m\u001b[34m(self, duckdb_context, template_parameters)\u001b[39m\n\u001b[32m     54\u001b[39m \u001b[38;5;28;01mdef\u001b[39;00m\u001b[38;5;250m \u001b[39m\u001b[34mto_relation\u001b[39m(\n\u001b[32m     55\u001b[39m     \u001b[38;5;28mself\u001b[39m,\n\u001b[32m     56\u001b[39m     duckdb_context: DuckDBContext,\n\u001b[32m     57\u001b[39m     template_parameters: \u001b[38;5;28mdict\u001b[39m[\u001b[38;5;28mstr\u001b[39m, Any],\n\u001b[32m     58\u001b[39m ) -> duckdb.DuckDBPyRelation:\n\u001b[32m---> \u001b[39m\u001b[32m59\u001b[39m     statement = \u001b[38;5;28;43mself\u001b[39;49m\u001b[43m.\u001b[49m\u001b[43mrender\u001b[49m\u001b[43m(\u001b[49m\u001b[43mtemplate_parameters\u001b[49m\u001b[43m)\u001b[49m\n\u001b[32m     60\u001b[39m     \u001b[38;5;28;01mtry\u001b[39;00m:\n\u001b[32m     61\u001b[39m         \u001b[38;5;28;01mreturn\u001b[39;00m duckdb_context.client.sql(statement)\n",
      "\u001b[36mFile \u001b[39m\u001b[32m~/Documents/GitHub/op-analytics/src/op_analytics/datapipeline/models/compute/auxtemplate.py:29\u001b[39m, in \u001b[36mAuxiliaryTemplate.render\u001b[39m\u001b[34m(self, context)\u001b[39m\n\u001b[32m     24\u001b[39m \u001b[38;5;28;01mdef\u001b[39;00m\u001b[38;5;250m \u001b[39m\u001b[34mrender\u001b[39m(\u001b[38;5;28mself\u001b[39m, context: \u001b[38;5;28mdict\u001b[39m[\u001b[38;5;28mstr\u001b[39m, Any]):\n\u001b[32m     25\u001b[39m     q = TemplatedSQLQuery(\n\u001b[32m     26\u001b[39m         template_name=\u001b[38;5;28mself\u001b[39m.template_name,\n\u001b[32m     27\u001b[39m         context=context,\n\u001b[32m     28\u001b[39m     )\n\u001b[32m---> \u001b[39m\u001b[32m29\u001b[39m     rendered = \u001b[43mq\u001b[49m\u001b[43m.\u001b[49m\u001b[43mrender\u001b[49m\u001b[43m(\u001b[49m\u001b[43m)\u001b[49m\n\u001b[32m     30\u001b[39m     \u001b[38;5;28;01mreturn\u001b[39;00m rendered.query\n",
      "\u001b[36mFile \u001b[39m\u001b[32m~/Documents/GitHub/op-analytics/src/op_analytics/datapipeline/models/compute/querybuilder.py:41\u001b[39m, in \u001b[36mTemplatedSQLQuery.render\u001b[39m\u001b[34m(self)\u001b[39m\n\u001b[32m     38\u001b[39m template = env.get_template(\u001b[38;5;28mself\u001b[39m.template_file)\n\u001b[32m     40\u001b[39m log.info(\u001b[33m\"\u001b[39m\u001b[33mRendering query\u001b[39m\u001b[33m\"\u001b[39m, template=\u001b[38;5;28mself\u001b[39m.template_name)\n\u001b[32m---> \u001b[39m\u001b[32m41\u001b[39m rendered = \u001b[43mtemplate\u001b[49m\u001b[43m.\u001b[49m\u001b[43mrender\u001b[49m\u001b[43m(\u001b[49m\u001b[38;5;28;43mself\u001b[39;49m\u001b[43m.\u001b[49m\u001b[43mcontext\u001b[49m\u001b[43m)\u001b[49m + \u001b[33m\"\u001b[39m\u001b[38;5;130;01m\\n\u001b[39;00m\u001b[33m\"\u001b[39m\n\u001b[32m     43\u001b[39m \u001b[38;5;28;01mreturn\u001b[39;00m RenderedSQLQuery(\n\u001b[32m     44\u001b[39m     template_name=\u001b[38;5;28mself\u001b[39m.template_name,\n\u001b[32m     45\u001b[39m     query=rendered,\n\u001b[32m     46\u001b[39m )\n",
      "\u001b[36mFile \u001b[39m\u001b[32m~/Documents/GitHub/op-analytics/.venv/lib/python3.12/site-packages/jinja2/environment.py:1295\u001b[39m, in \u001b[36mTemplate.render\u001b[39m\u001b[34m(self, *args, **kwargs)\u001b[39m\n\u001b[32m   1293\u001b[39m     \u001b[38;5;28;01mreturn\u001b[39;00m \u001b[38;5;28mself\u001b[39m.environment.concat(\u001b[38;5;28mself\u001b[39m.root_render_func(ctx))  \u001b[38;5;66;03m# type: ignore\u001b[39;00m\n\u001b[32m   1294\u001b[39m \u001b[38;5;28;01mexcept\u001b[39;00m \u001b[38;5;167;01mException\u001b[39;00m:\n\u001b[32m-> \u001b[39m\u001b[32m1295\u001b[39m     \u001b[38;5;28;43mself\u001b[39;49m\u001b[43m.\u001b[49m\u001b[43menvironment\u001b[49m\u001b[43m.\u001b[49m\u001b[43mhandle_exception\u001b[49m\u001b[43m(\u001b[49m\u001b[43m)\u001b[49m\n",
      "\u001b[36mFile \u001b[39m\u001b[32m~/Documents/GitHub/op-analytics/.venv/lib/python3.12/site-packages/jinja2/environment.py:942\u001b[39m, in \u001b[36mEnvironment.handle_exception\u001b[39m\u001b[34m(self, source)\u001b[39m\n\u001b[32m    937\u001b[39m \u001b[38;5;250m\u001b[39m\u001b[33;03m\"\"\"Exception handling helper.  This is used internally to either raise\u001b[39;00m\n\u001b[32m    938\u001b[39m \u001b[33;03mrewritten exceptions or return a rendered traceback for the template.\u001b[39;00m\n\u001b[32m    939\u001b[39m \u001b[33;03m\"\"\"\u001b[39;00m\n\u001b[32m    940\u001b[39m \u001b[38;5;28;01mfrom\u001b[39;00m\u001b[38;5;250m \u001b[39m\u001b[34;01m.\u001b[39;00m\u001b[34;01mdebug\u001b[39;00m\u001b[38;5;250m \u001b[39m\u001b[38;5;28;01mimport\u001b[39;00m rewrite_traceback_stack\n\u001b[32m--> \u001b[39m\u001b[32m942\u001b[39m \u001b[38;5;28;01mraise\u001b[39;00m rewrite_traceback_stack(source=source)\n",
      "\u001b[36mFile \u001b[39m\u001b[32m~/Documents/GitHub/op-analytics/src/op_analytics/datapipeline/models/templates/revshare_transfers.sql.j2:41\u001b[39m, in \u001b[36mtop-level template code\u001b[39m\u001b[34m()\u001b[39m\n\u001b[32m     39\u001b[39m   , f.expected_chains\n\u001b[32m     40\u001b[39m   , ta.description AS to_address_description\n\u001b[32m---> \u001b[39m\u001b[32m41\u001b[39m FROM {{ native_transfers }} t\n\u001b[32m     42\u001b[39m INNER JOIN from_addresses f\n\u001b[32m     43\u001b[39m   ON t.chain = ANY(f.expected_chains)\n",
      "\u001b[31mUndefinedError\u001b[39m: 'native_transfers' is undefined"
     ]
    }
   ],
   "source": [
    "logs_view = input_datasets[\"ingestion/logs_v1\"].create_view()\n",
    "traces_view = input_datasets[\"ingestion/traces_v1\"].create_view()\n",
    "\n",
    "all_transfers = auxiliary_templates[\"token_transfers\"].to_relation(\n",
    "    duckdb_context=ctx,\n",
    "    template_parameters={\n",
    "        \"raw_logs\": logs_view,\n",
    "    },\n",
    ")\n",
    "\n",
    "native_transfers = auxiliary_templates[\"native_transfers\"].to_relation(\n",
    "    duckdb_context=ctx,\n",
    "    template_parameters={\n",
    "        \"raw_traces\": traces_view,\n",
    "    },\n",
    ")\n",
    "revshare_transfers = auxiliary_templates[\"revshare_transfers\"].to_relation(\n",
    "    duckdb_context=ctx,\n",
    "    template_parameters={\n",
    "        \"all_transfers\": all_transfers,\n",
    "            \"native_transfers\": native_transfers,\n",
    "        \"from_addresses_config\": \"src/op_analytics/datapipeline/models/config/revshare_from_addresses.yaml\",\n",
    "            \"to_addresses_config\": \"src/op_analytics/datapipeline/models/config/revshare_to_addresses.yaml\",\n",
    "    },\n",
    ")"
   ]
  },
  {
   "cell_type": "code",
   "execution_count": null,
   "metadata": {},
   "outputs": [],
   "source": [
    "df = ctx.client.sql(f\"SELECT * FROM {logs_view} as l where l.topic0 LIKE '0xddf252ad1be2c89b69c2b068fc378daa952ba7f163c4a11628f55a4df523b3ef%' LIMIT 10\").df()\n",
    "df.head()"
   ]
  },
  {
   "cell_type": "code",
   "execution_count": null,
   "metadata": {},
   "outputs": [],
   "source": [
    "erc20_transfers = (\n",
    "    all_transfers\n",
    "    .filter(\"token_id IS NULL\")\n",
    "    .project(\"* EXCLUDE token_id\")\n",
    ")\n",
    "\n",
    "df = ctx.client.sql(f\"SELECT * FROM erc20_transfers\").df()\n",
    "df.head()"
   ]
  },
  {
   "cell_type": "code",
   "execution_count": null,
   "metadata": {},
   "outputs": [],
   "source": [
    "erc721_transfers = (\n",
    "    all_transfers\n",
    "    .filter(\"token_id IS NOT NULL\")\n",
    "    .project(\"* EXCLUDE (amount, amount_lossless)\")\n",
    ")\n",
    "df = ctx.client.sql(f\"SELECT * FROM erc721_transfers\").df()\n",
    "df.head()"
   ]
  },
  {
   "cell_type": "code",
   "execution_count": null,
   "metadata": {},
   "outputs": [],
   "source": [
    "native_transfers = (\n",
    "    native_transfers\n",
    "    .filter(\"transfer_type = 'native'\")\n",
    "    .project(\"*\")\n",
    ")\n",
    "df = ctx.client.sql(f\"SELECT * FROM native_transfers\").df()\n",
    "df.head()"
   ]
  },
  {
   "cell_type": "code",
   "execution_count": null,
   "metadata": {},
   "outputs": [],
   "source": [
    "revshare_transfers = (\n",
    "    revshare_transfers\n",
    "    .project(\"*\")\n",
    ")\n",
    "df = ctx.client.sql(f\"SELECT * FROM native_transfers\").df()\n",
    "df.head()"
   ]
  }
 ],
 "metadata": {
  "kernelspec": {
   "display_name": ".venv",
   "language": "python",
   "name": "python3"
  },
  "language_info": {
   "codemirror_mode": {
    "name": "ipython",
    "version": 3
   },
   "file_extension": ".py",
   "mimetype": "text/x-python",
   "name": "python",
   "nbconvert_exporter": "python",
   "pygments_lexer": "ipython3",
   "version": "3.12.4"
  }
 },
 "nbformat": 4,
 "nbformat_minor": 2
}
