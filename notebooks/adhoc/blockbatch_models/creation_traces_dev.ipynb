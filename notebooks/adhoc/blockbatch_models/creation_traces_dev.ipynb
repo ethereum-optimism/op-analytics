{
 "cells": [
  {
   "cell_type": "markdown",
   "metadata": {},
   "source": [
    "## Prepare data reader for a given chain and date"
   ]
  },
  {
   "cell_type": "code",
   "execution_count": 1,
   "metadata": {},
   "outputs": [
    {
     "name": "stdout",
     "output_type": "stream",
     "text": [
      "\u001b[2m2024-12-05 15:36:05\u001b[0m [\u001b[32m\u001b[1minfo     \u001b[0m] \u001b[1mRendering query               \u001b[0m \u001b[36mfilename\u001b[0m=\u001b[35mquerybuilder.py\u001b[0m \u001b[36mlineno\u001b[0m=\u001b[35m40\u001b[0m \u001b[36mmodel\u001b[0m=\u001b[35mdaily_address_summary\u001b[0m \u001b[36mtemplate\u001b[0m=\u001b[35mtransaction_fees\u001b[0m\n",
      "\u001b[2m2024-12-05 15:36:05\u001b[0m [\u001b[32m\u001b[1minfo     \u001b[0m] \u001b[1mRendering query               \u001b[0m \u001b[36mfilename\u001b[0m=\u001b[35mquerybuilder.py\u001b[0m \u001b[36mlineno\u001b[0m=\u001b[35m40\u001b[0m \u001b[36mmodel\u001b[0m=\u001b[35mdaily_address_summary\u001b[0m \u001b[36mtemplate\u001b[0m=\u001b[35mdaily_address_summary\u001b[0m\n",
      "\u001b[2m2024-12-05 15:36:05\u001b[0m [\u001b[32m\u001b[1minfo     \u001b[0m] \u001b[1mRendering query               \u001b[0m \u001b[36mfilename\u001b[0m=\u001b[35mquerybuilder.py\u001b[0m \u001b[36mlineno\u001b[0m=\u001b[35m40\u001b[0m \u001b[36mmodel\u001b[0m=\u001b[35mcontract_creation\u001b[0m \u001b[36mtemplate\u001b[0m=\u001b[35mcontract_creation_traces\u001b[0m\n",
      "\u001b[2m2024-12-05 15:36:05\u001b[0m [\u001b[32m\u001b[1minfo     \u001b[0m] \u001b[1mLoaded 2 python modules with intermediate model definitions.\u001b[0m \u001b[36mfilename\u001b[0m=\u001b[35mregistry.py\u001b[0m \u001b[36mlineno\u001b[0m=\u001b[35m62\u001b[0m\n",
      "\u001b[2m2024-12-05 15:36:05\u001b[0m [\u001b[32m\u001b[1minfo     \u001b[0m] \u001b[1mloaded vault from .env file   \u001b[0m \u001b[36mfilename\u001b[0m=\u001b[35mvault.py\u001b[0m \u001b[36mlineno\u001b[0m=\u001b[35m32\u001b[0m\n",
      "\u001b[2m2024-12-05 15:36:05\u001b[0m [\u001b[32m\u001b[1mdebug    \u001b[0m] \u001b[1mloaded vault: 18 items        \u001b[0m \u001b[36mfilename\u001b[0m=\u001b[35mvault.py\u001b[0m \u001b[36mlineno\u001b[0m=\u001b[35m76\u001b[0m\n",
      "\u001b[2m2024-12-05 15:36:05\u001b[0m [\u001b[32m\u001b[1mdebug    \u001b[0m] \u001b[1mFound vault variable GOOGLE_SERVICE_ACCOUNT (has JSON key)\u001b[0m \u001b[36mfilename\u001b[0m=\u001b[35mgcpauth.py\u001b[0m \u001b[36mlineno\u001b[0m=\u001b[35m18\u001b[0m\n",
      "\u001b[2m2024-12-05 15:36:06\u001b[0m [\u001b[32m\u001b[1minfo     \u001b[0m] \u001b[1mLoaded OP chains metadata from /Users/pedro/github/ethereum-optimism/op-analytics-alt/op_chains_tracking/inputs/chain_metadata_raw.csv\u001b[0m \u001b[36mfilename\u001b[0m=\u001b[35mload.py\u001b[0m \u001b[36mlineno\u001b[0m=\u001b[35m85\u001b[0m\n",
      "\u001b[2m2024-12-05 15:36:06\u001b[0m [\u001b[32m\u001b[1minfo     \u001b[0m] \u001b[1m[REPO vs. GSHEETS] ERROR: Chain Metadata is different\u001b[0m \u001b[36mfilename\u001b[0m=\u001b[35mload.py\u001b[0m \u001b[36mlineno\u001b[0m=\u001b[35m97\u001b[0m\n",
      "\u001b[2m2024-12-05 15:36:06\u001b[0m [\u001b[32m\u001b[1mdebug    \u001b[0m] \u001b[1mconnecting to OPLABS Clickhouse client...\u001b[0m \u001b[36mfilename\u001b[0m=\u001b[35mclient.py\u001b[0m \u001b[36mlineno\u001b[0m=\u001b[35m25\u001b[0m\n",
      "\u001b[2m2024-12-05 15:36:06\u001b[0m [\u001b[32m\u001b[1mdebug    \u001b[0m] \u001b[1minitialized OPLABS Clickhouse client.\u001b[0m \u001b[36mfilename\u001b[0m=\u001b[35mclient.py\u001b[0m \u001b[36mlineno\u001b[0m=\u001b[35m37\u001b[0m\n",
      "\u001b[2m2024-12-05 15:36:06\u001b[0m [\u001b[32m\u001b[1minfo     \u001b[0m] \u001b[1mprepared 1 input batches.     \u001b[0m \u001b[36mfilename\u001b[0m=\u001b[35mreader.py\u001b[0m \u001b[36mlineno\u001b[0m=\u001b[35m187\u001b[0m\n"
     ]
    }
   ],
   "source": [
    "from op_analytics.coreutils.duckdb_inmem import init_client\n",
    "from op_analytics.coreutils.partitioned.reader import DataReader\n",
    "from op_analytics.coreutils.partitioned.location import DataLocation\n",
    "from op_analytics.datapipeline.etl.intermediate.construct import construct_data_readers\n",
    "\n",
    "from op_analytics.datapipeline.models.compute.udfs import create_duckdb_macros\n",
    "\n",
    "\n",
    "# Define the input data range.\n",
    "read_batches: list[DataReader] = construct_data_readers(\n",
    "    chains=[\"op\"],\n",
    "    models=[\"contract_creation\"],\n",
    "    range_spec=\"@20241118:+1\",\n",
    "    read_from=DataLocation.GCS\n",
    ")\n",
    "\n",
    "\n",
    "# Select input for one date and build the intermediate model inputs.\n",
    "batch = read_batches[0]\n",
    "\n",
    "\n",
    "duckdb_client = init_client()\n",
    "create_duckdb_macros(duckdb_client)\n"
   ]
  },
  {
   "cell_type": "markdown",
   "metadata": {},
   "source": [
    "## Run the model\n",
    "\n",
    "This automatically registers the model outputs as duckdb tables."
   ]
  },
  {
   "cell_type": "code",
   "execution_count": 2,
   "metadata": {},
   "outputs": [
    {
     "name": "stdout",
     "output_type": "stream",
     "text": [
      "\u001b[2m2024-12-05 15:36:08\u001b[0m [\u001b[32m\u001b[1minfo     \u001b[0m] \u001b[1mExecuting model...            \u001b[0m \u001b[36mfilename\u001b[0m=\u001b[35mtestutils.py\u001b[0m \u001b[36mlineno\u001b[0m=\u001b[35m226\u001b[0m\n",
      "\u001b[2m2024-12-05 15:36:08\u001b[0m [\u001b[32m\u001b[1minfo     \u001b[0m] \u001b[1mduckdb dataset='ingestion/traces_v1' using 1/22 parquet paths, first path is gs://oplabs-tools-data-sink/ingestion/traces_v1/chain=op/dt=2024-11-18/000128144000.parquet\u001b[0m \u001b[36mfilename\u001b[0m=\u001b[35mreader.py\u001b[0m \u001b[36mlineno\u001b[0m=\u001b[35m63\u001b[0m\n",
      "\u001b[2m2024-12-05 15:36:09\u001b[0m [\u001b[32m\u001b[1minfo     \u001b[0m] \u001b[1mregistered view: 'ingestion_traces_v1' using 1 parquet paths\u001b[0m \u001b[36mfilename\u001b[0m=\u001b[35mclient.py\u001b[0m \u001b[36mlineno\u001b[0m=\u001b[35m53\u001b[0m\n",
      "\u001b[2m2024-12-05 15:36:09\u001b[0m [\u001b[32m\u001b[1minfo     \u001b[0m] \u001b[1mduckdb dataset='ingestion/transactions_v1' using 1/22 parquet paths, first path is gs://oplabs-tools-data-sink/ingestion/transactions_v1/chain=op/dt=2024-11-18/000128144000.parquet\u001b[0m \u001b[36mfilename\u001b[0m=\u001b[35mreader.py\u001b[0m \u001b[36mlineno\u001b[0m=\u001b[35m63\u001b[0m\n",
      "\u001b[2m2024-12-05 15:36:11\u001b[0m [\u001b[32m\u001b[1minfo     \u001b[0m] \u001b[1mregistered view: 'ingestion_transactions_v1' using 1 parquet paths\u001b[0m \u001b[36mfilename\u001b[0m=\u001b[35mclient.py\u001b[0m \u001b[36mlineno\u001b[0m=\u001b[35m53\u001b[0m\n",
      "dict_keys(['create_traces_v1'])\n"
     ]
    },
    {
     "data": {
      "text/plain": [
       "┌───────────────────────────┐\n",
       "│           name            │\n",
       "│          varchar          │\n",
       "├───────────────────────────┤\n",
       "│ contract_creation_traces  │\n",
       "│ create_traces_v1          │\n",
       "│ ingestion_traces_v1       │\n",
       "│ ingestion_transactions_v1 │\n",
       "└───────────────────────────┘"
      ]
     },
     "execution_count": 2,
     "metadata": {},
     "output_type": "execute_result"
    }
   ],
   "source": [
    "from op_analytics.datapipeline.models.compute.testutils import execute_model_in_memory\n",
    "\n",
    "execute_model_in_memory(\n",
    "    duckdb_client=duckdb_client,\n",
    "    model=\"contract_creation\",\n",
    "    data_reader=batch,\n",
    "    limit_input_parquet_files=1\n",
    ")\n",
    "\n",
    "# The duckdb database will have the following:\n",
    "#   - input tables\n",
    "#   - views used by the model\n",
    "#   - model outputs\n",
    "# \n",
    "# You can use duckdb to inspect any of the above results.\n",
    "duckdb_client.sql(\"SHOW TABLES\")"
   ]
  },
  {
   "cell_type": "markdown",
   "metadata": {},
   "source": [
    "## Verify model results"
   ]
  },
  {
   "cell_type": "code",
   "execution_count": 3,
   "metadata": {},
   "outputs": [
    {
     "data": {
      "text/plain": [
       "┌─────────┬──────────┬─────────┬────────────┬─────────────────┬──────────────┬────────────────────────────────────────────────────────────────────┬────────────────────────────────────────────────────────────────────┬───────────────────┬────────────────────────────────────────────┬────────────────────────────────────────────┬────────────────────────────────────────────┬────────────────────────────────────────────┬──────────┬────────────────┬────────────────────────────────────────────────────────────────────────────────────────────────────────────────────────────────────────────────────────────────────────────────────────────────────────────────────────────────────────────────────────────────────────────────────────────────────────────────────────────────────────────────────────────────────────────────────────────────────────────────────────────────────────────────────────────────────────────────────────────────────────────────────────────────────────────────────────────────────────────────────────────────────────────────────────────────────────────────────────────────────────────────────────────────────────────────────────────────────────────────────────────────────────────────────────────────────────────────────────────────────────────────────────────────────────────────────────────────────────────────────────────────────────────────────────────────────────────────────────────────────────────────────────────────────────────────────────────────────────────────┬──────────────────────────────────────────────────────────────────────────────────────────────────────────────────────────────────────────────────────────────────────────────────────────────────────────────────────────────────────────────────────────────────────────────────────────────────────────────────────────────────────────────────────────┬────────────┬───────────┬─────────────┬──────────┬──────────┬───────────┬───────────────┬─────────┬────────┬──────────────┬─────────────────┐\n",
       "│ network │ chain_id │  chain  │     dt     │ block_timestamp │ block_number │                             block_hash                             │                          transaction_hash                          │ transaction_index │              tr_from_address               │              tx_from_address               │              contract_address              │               tx_to_address                │ value_64 │ value_lossless │                                                                                                                                                                                                                                                                                                                                                                                                                                                                                                                                      code                                                                                                                                                                                                                                                                                                                                                                                                                                                                                                                                      │                                                                                                                                                                          output                                                                                                                                                                          │ trace_type │ call_type │ reward_type │   gas    │ gas_used │ subtraces │ trace_address │  error  │ status │ tx_method_id │ code_bytelength │\n",
       "│ varchar │  int32   │ varchar │    date    │     uint32      │    int64     │                              varchar                               │                              varchar                               │       int64       │                  varchar                   │                  varchar                   │                  varchar                   │                  varchar                   │  int64   │    varchar     │                                                                                                                                                                                                                                                                                                                                                                                                                                                                                                                                    varchar                                                                                                                                                                                                                                                                                                                                                                                                                                                                                                                                     │                                                                                                                                                                         varchar                                                                                                                                                                          │  varchar   │  varchar  │   varchar   │  int64   │  int64   │   int64   │    varchar    │ varchar │ int64  │   varchar    │     double      │\n",
       "├─────────┼──────────┼─────────┼────────────┼─────────────────┼──────────────┼────────────────────────────────────────────────────────────────────┼────────────────────────────────────────────────────────────────────┼───────────────────┼────────────────────────────────────────────┼────────────────────────────────────────────┼────────────────────────────────────────────┼────────────────────────────────────────────┼──────────┼────────────────┼────────────────────────────────────────────────────────────────────────────────────────────────────────────────────────────────────────────────────────────────────────────────────────────────────────────────────────────────────────────────────────────────────────────────────────────────────────────────────────────────────────────────────────────────────────────────────────────────────────────────────────────────────────────────────────────────────────────────────────────────────────────────────────────────────────────────────────────────────────────────────────────────────────────────────────────────────────────────────────────────────────────────────────────────────────────────────────────────────────────────────────────────────────────────────────────────────────────────────────────────────────────────────────────────────────────────────────────────────────────────────────────────────────────────────────────────────────────────────────────────────────────────────────────────────────────────────────────────────────────────┼──────────────────────────────────────────────────────────────────────────────────────────────────────────────────────────────────────────────────────────────────────────────────────────────────────────────────────────────────────────────────────────────────────────────────────────────────────────────────────────────────────────────────────────┼────────────┼───────────┼─────────────┼──────────┼──────────┼───────────┼───────────────┼─────────┼────────┼──────────────┼─────────────────┤\n",
       "│ mainnet │       10 │ op      │ 2024-11-18 │      1731890627 │    128145925 │ 0xf43fe8bcfb3bd50a6d2a4dcefe0ad238d38ce447c870b38b09779fcdff23fb1a │ 0x0b14740dd518911a9be9b14bd775c3c1c417cb1a0536cad2ae372e8e6fa7938f │                17 │ 0x4e1dcf7ad4e460cfd30791ccc4f9c8a4f820ec67 │ 0xc97240c92596276b8b9366064123fd76a1207164 │ 0xf40496ad3f6b5ef77a7151577953885e4a12beb6 │ 0x24f6f36a551fe6008fa80afcff1d6ace182ead2b │        0 │ 0              │ 0x608060405234801561001057600080fd5b506040516101e63803806101e68339818101604052602081101561003357600080fd5b8101908080519060200190929190505050600073ffffffffffffffffffffffffffffffffffffffff168173ffffffffffffffffffffffffffffffffffffffff1614156100ca576040517f08c379a00000000000000000000000000000000000000000000000000000000081526004018080602001828103825260228152602001806101c46022913960400191505060405180910390fd5b806000806101000a81548173ffffffffffffffffffffffffffffffffffffffff021916908373ffffffffffffffffffffffffffffffffffffffff1602179055505060ab806101196000396000f3fe608060405273ffffffffffffffffffffffffffffffffffffffff600054167fa619486e0000000000000000000000000000000000000000000000000000000060003514156050578060005260206000f35b3660008037600080366000845af43d6000803e60008114156070573d6000fd5b3d6000f3fea264697066735822122003d1488ee65e08fa41e58e888a9865554c535f2c77126a82cb4c0f917f31441364736f6c63430007060033496e76616c69642073696e676c65746f6e20616464726573732070726f766964656400000000000000000000000029fcb43b46531bca003ddc8fcb67ffe91900c762 │ 0x608060405273ffffffffffffffffffffffffffffffffffffffff600054167fa619486e0000000000000000000000000000000000000000000000000000000060003514156050578060005260206000f35b3660008037600080366000845af43d6000803e60008114156070573d6000fd5b3d6000f3fea264697066735822122003d1488ee65e08fa41e58e888a9865554c535f2c77126a82cb4c0f917f31441364736f6c63430007060033 │ create2    │           │             │   258177 │    56609 │         0 │ 0,0           │         │      1 │ 0x540817d7   │           518.0 │\n",
       "│ mainnet │       10 │ op      │ 2024-11-18 │      1731890627 │    128145925 │ 0xf43fe8bcfb3bd50a6d2a4dcefe0ad238d38ce447c870b38b09779fcdff23fb1a │ 0x0b14740dd518911a9be9b14bd775c3c1c417cb1a0536cad2ae372e8e6fa7938f │                17 │ 0x4e1dcf7ad4e460cfd30791ccc4f9c8a4f820ec67 │ 0xc97240c92596276b8b9366064123fd76a1207164 │ 0xb4cc7b7fcd1c79b21d0daaf520cd86bdac9fc815 │ 0x24f6f36a551fe6008fa80afcff1d6ace182ead2b │        0 │ 0              │ 0x608060405234801561001057600080fd5b506040516101e63803806101e68339818101604052602081101561003357600080fd5b8101908080519060200190929190505050600073ffffffffffffffffffffffffffffffffffffffff168173ffffffffffffffffffffffffffffffffffffffff1614156100ca576040517f08c379a00000000000000000000000000000000000000000000000000000000081526004018080602001828103825260228152602001806101c46022913960400191505060405180910390fd5b806000806101000a81548173ffffffffffffffffffffffffffffffffffffffff021916908373ffffffffffffffffffffffffffffffffffffffff1602179055505060ab806101196000396000f3fe608060405273ffffffffffffffffffffffffffffffffffffffff600054167fa619486e0000000000000000000000000000000000000000000000000000000060003514156050578060005260206000f35b3660008037600080366000845af43d6000803e60008114156070573d6000fd5b3d6000f3fea264697066735822122003d1488ee65e08fa41e58e888a9865554c535f2c77126a82cb4c0f917f31441364736f6c63430007060033496e76616c69642073696e676c65746f6e20616464726573732070726f766964656400000000000000000000000029fcb43b46531bca003ddc8fcb67ffe91900c762 │ 0x608060405273ffffffffffffffffffffffffffffffffffffffff600054167fa619486e0000000000000000000000000000000000000000000000000000000060003514156050578060005260206000f35b3660008037600080366000845af43d6000803e60008114156070573d6000fd5b3d6000f3fea264697066735822122003d1488ee65e08fa41e58e888a9865554c535f2c77126a82cb4c0f917f31441364736f6c63430007060033 │ create2    │           │             │   260638 │    56609 │         0 │ 1,0           │         │      1 │ 0x540817d7   │           518.0 │\n",
       "│ mainnet │       10 │ op      │ 2024-11-18 │      1731890629 │    128145926 │ 0x00f2140ae46b91ba9cba478def59de993a527ec9fdf94c12e3479fcbd2d25986 │ 0xb7a0a8d602ef4283b875ea0246d2df18b565a75097d99c9ab59043dfe33f4829 │                12 │ 0x9ec1c3dcf667f2035fb4cd2eb42a1566fd54d2b7 │ 0x52aac8613345af8e9426d22c7d5354ffa2d28ced │ 0xb23d757bc355fe035945b1c0119fcd6db0fbe055 │ 0x9ec1c3dcf667f2035fb4cd2eb42a1566fd54d2b7 │        0 │ 0              │ 0x3d602d80600a3d3981f3363d3d373d3d3d363d739ec1c3dcf667f2035fb4cd2eb42a1566fd54d2b75af43d82803e903d91602b57fd5bf3                                                                                                                                                                                                                                                                                                                                                                                                                                                                                                                                                                                                                                                                                                                                                                                                                                                                                                                                                               │ 0x363d3d373d3d3d363d739ec1c3dcf667f2035fb4cd2eb42a1566fd54d2b75af43d82803e903d91602b57fd5bf3                                                                                                                                                                                                                                                             │ create2    │           │             │ 19629380 │     9031 │         0 │ 0             │         │      1 │ 0xb1ae2ed1   │            55.0 │\n",
       "│ mainnet │       10 │ op      │ 2024-11-18 │      1731890629 │    128145926 │ 0x00f2140ae46b91ba9cba478def59de993a527ec9fdf94c12e3479fcbd2d25986 │ 0xb7a0a8d602ef4283b875ea0246d2df18b565a75097d99c9ab59043dfe33f4829 │                12 │ 0x9ec1c3dcf667f2035fb4cd2eb42a1566fd54d2b7 │ 0x52aac8613345af8e9426d22c7d5354ffa2d28ced │ 0x1c7c4f14d09a059fa7d4cac92af14b21f2b45aba │ 0x9ec1c3dcf667f2035fb4cd2eb42a1566fd54d2b7 │        0 │ 0              │ 0x3d602d80600a3d3981f3363d3d373d3d3d363d739ec1c3dcf667f2035fb4cd2eb42a1566fd54d2b75af43d82803e903d91602b57fd5bf3                                                                                                                                                                                                                                                                                                                                                                                                                                                                                                                                                                                                                                                                                                                                                                                                                                                                                                                                                               │ 0x363d3d373d3d3d363d739ec1c3dcf667f2035fb4cd2eb42a1566fd54d2b75af43d82803e903d91602b57fd5bf3                                                                                                                                                                                                                                                             │ create2    │           │             │ 19449076 │     9031 │         0 │ 2             │         │      1 │ 0xb1ae2ed1   │            55.0 │\n",
       "│ mainnet │       10 │ op      │ 2024-11-18 │      1731890629 │    128145926 │ 0x00f2140ae46b91ba9cba478def59de993a527ec9fdf94c12e3479fcbd2d25986 │ 0xb7a0a8d602ef4283b875ea0246d2df18b565a75097d99c9ab59043dfe33f4829 │                12 │ 0x9ec1c3dcf667f2035fb4cd2eb42a1566fd54d2b7 │ 0x52aac8613345af8e9426d22c7d5354ffa2d28ced │ 0x7144337b778b511531bf7dddeda8a9a7f1219b6c │ 0x9ec1c3dcf667f2035fb4cd2eb42a1566fd54d2b7 │        0 │ 0              │ 0x3d602d80600a3d3981f3363d3d373d3d3d363d739ec1c3dcf667f2035fb4cd2eb42a1566fd54d2b75af43d82803e903d91602b57fd5bf3                                                                                                                                                                                                                                                                                                                                                                                                                                                                                                                                                                                                                                                                                                                                                                                                                                                                                                                                                               │ 0x363d3d373d3d3d363d739ec1c3dcf667f2035fb4cd2eb42a1566fd54d2b75af43d82803e903d91602b57fd5bf3                                                                                                                                                                                                                                                             │ create2    │           │             │ 19283143 │     9031 │         0 │ 4             │         │      1 │ 0xb1ae2ed1   │            55.0 │\n",
       "│ mainnet │       10 │ op      │ 2024-11-18 │      1731890629 │    128145926 │ 0x00f2140ae46b91ba9cba478def59de993a527ec9fdf94c12e3479fcbd2d25986 │ 0xb7a0a8d602ef4283b875ea0246d2df18b565a75097d99c9ab59043dfe33f4829 │                12 │ 0x9ec1c3dcf667f2035fb4cd2eb42a1566fd54d2b7 │ 0x52aac8613345af8e9426d22c7d5354ffa2d28ced │ 0x537c2e494a518453e562a97600472c8e94a8c238 │ 0x9ec1c3dcf667f2035fb4cd2eb42a1566fd54d2b7 │        0 │ 0              │ 0x3d602d80600a3d3981f3363d3d373d3d3d363d739ec1c3dcf667f2035fb4cd2eb42a1566fd54d2b75af43d82803e903d91602b57fd5bf3                                                                                                                                                                                                                                                                                                                                                                                                                                                                                                                                                                                                                                                                                                                                                                                                                                                                                                                                                               │ 0x363d3d373d3d3d363d739ec1c3dcf667f2035fb4cd2eb42a1566fd54d2b75af43d82803e903d91602b57fd5bf3                                                                                                                                                                                                                                                             │ create2    │           │             │ 19117214 │     9031 │         0 │ 6             │         │      1 │ 0xb1ae2ed1   │            55.0 │\n",
       "│ mainnet │       10 │ op      │ 2024-11-18 │      1731890629 │    128145926 │ 0x00f2140ae46b91ba9cba478def59de993a527ec9fdf94c12e3479fcbd2d25986 │ 0xb7a0a8d602ef4283b875ea0246d2df18b565a75097d99c9ab59043dfe33f4829 │                12 │ 0x9ec1c3dcf667f2035fb4cd2eb42a1566fd54d2b7 │ 0x52aac8613345af8e9426d22c7d5354ffa2d28ced │ 0x31c654c0fc04405b3c7bbd21a0c5cffe1a26cdb9 │ 0x9ec1c3dcf667f2035fb4cd2eb42a1566fd54d2b7 │        0 │ 0              │ 0x3d602d80600a3d3981f3363d3d373d3d3d363d739ec1c3dcf667f2035fb4cd2eb42a1566fd54d2b75af43d82803e903d91602b57fd5bf3                                                                                                                                                                                                                                                                                                                                                                                                                                                                                                                                                                                                                                                                                                                                                                                                                                                                                                                                                               │ 0x363d3d373d3d3d363d739ec1c3dcf667f2035fb4cd2eb42a1566fd54d2b75af43d82803e903d91602b57fd5bf3                                                                                                                                                                                                                                                             │ create2    │           │             │ 18951282 │     9031 │         0 │ 8             │         │      1 │ 0xb1ae2ed1   │            55.0 │\n",
       "│ mainnet │       10 │ op      │ 2024-11-18 │      1731890629 │    128145926 │ 0x00f2140ae46b91ba9cba478def59de993a527ec9fdf94c12e3479fcbd2d25986 │ 0xb7a0a8d602ef4283b875ea0246d2df18b565a75097d99c9ab59043dfe33f4829 │                12 │ 0x9ec1c3dcf667f2035fb4cd2eb42a1566fd54d2b7 │ 0x52aac8613345af8e9426d22c7d5354ffa2d28ced │ 0x4b0030fdcb29820801e82ac9f07393712077c042 │ 0x9ec1c3dcf667f2035fb4cd2eb42a1566fd54d2b7 │        0 │ 0              │ 0x3d602d80600a3d3981f3363d3d373d3d3d363d739ec1c3dcf667f2035fb4cd2eb42a1566fd54d2b75af43d82803e903d91602b57fd5bf3                                                                                                                                                                                                                                                                                                                                                                                                                                                                                                                                                                                                                                                                                                                                                                                                                                                                                                                                                               │ 0x363d3d373d3d3d363d739ec1c3dcf667f2035fb4cd2eb42a1566fd54d2b75af43d82803e903d91602b57fd5bf3                                                                                                                                                                                                                                                             │ create2    │           │             │ 18785349 │     9031 │         0 │ 10            │         │      1 │ 0xb1ae2ed1   │            55.0 │\n",
       "│ mainnet │       10 │ op      │ 2024-11-18 │      1731890629 │    128145926 │ 0x00f2140ae46b91ba9cba478def59de993a527ec9fdf94c12e3479fcbd2d25986 │ 0xb7a0a8d602ef4283b875ea0246d2df18b565a75097d99c9ab59043dfe33f4829 │                12 │ 0x9ec1c3dcf667f2035fb4cd2eb42a1566fd54d2b7 │ 0x52aac8613345af8e9426d22c7d5354ffa2d28ced │ 0x244009a7f555811682f68835ef1658a911ea542f │ 0x9ec1c3dcf667f2035fb4cd2eb42a1566fd54d2b7 │        0 │ 0              │ 0x3d602d80600a3d3981f3363d3d373d3d3d363d739ec1c3dcf667f2035fb4cd2eb42a1566fd54d2b75af43d82803e903d91602b57fd5bf3                                                                                                                                                                                                                                                                                                                                                                                                                                                                                                                                                                                                                                                                                                                                                                                                                                                                                                                                                               │ 0x363d3d373d3d3d363d739ec1c3dcf667f2035fb4cd2eb42a1566fd54d2b75af43d82803e903d91602b57fd5bf3                                                                                                                                                                                                                                                             │ create2    │           │             │ 18619419 │     9031 │         0 │ 12            │         │      1 │ 0xb1ae2ed1   │            55.0 │\n",
       "│ mainnet │       10 │ op      │ 2024-11-18 │      1731890629 │    128145926 │ 0x00f2140ae46b91ba9cba478def59de993a527ec9fdf94c12e3479fcbd2d25986 │ 0xb7a0a8d602ef4283b875ea0246d2df18b565a75097d99c9ab59043dfe33f4829 │                12 │ 0x9ec1c3dcf667f2035fb4cd2eb42a1566fd54d2b7 │ 0x52aac8613345af8e9426d22c7d5354ffa2d28ced │ 0xab346ff75c5680056e6ba84e5b583038f0ca7123 │ 0x9ec1c3dcf667f2035fb4cd2eb42a1566fd54d2b7 │        0 │ 0              │ 0x3d602d80600a3d3981f3363d3d373d3d3d363d739ec1c3dcf667f2035fb4cd2eb42a1566fd54d2b75af43d82803e903d91602b57fd5bf3                                                                                                                                                                                                                                                                                                                                                                                                                                                                                                                                                                                                                                                                                                                                                                                                                                                                                                                                                               │ 0x363d3d373d3d3d363d739ec1c3dcf667f2035fb4cd2eb42a1566fd54d2b75af43d82803e903d91602b57fd5bf3                                                                                                                                                                                                                                                             │ create2    │           │             │ 18453487 │     9031 │         0 │ 14            │         │      1 │ 0xb1ae2ed1   │            55.0 │\n",
       "├─────────┴──────────┴─────────┴────────────┴─────────────────┴──────────────┴────────────────────────────────────────────────────────────────────┴────────────────────────────────────────────────────────────────────┴───────────────────┴────────────────────────────────────────────┴────────────────────────────────────────────┴────────────────────────────────────────────┴────────────────────────────────────────────┴──────────┴────────────────┴────────────────────────────────────────────────────────────────────────────────────────────────────────────────────────────────────────────────────────────────────────────────────────────────────────────────────────────────────────────────────────────────────────────────────────────────────────────────────────────────────────────────────────────────────────────────────────────────────────────────────────────────────────────────────────────────────────────────────────────────────────────────────────────────────────────────────────────────────────────────────────────────────────────────────────────────────────────────────────────────────────────────────────────────────────────────────────────────────────────────────────────────────────────────────────────────────────────────────────────────────────────────────────────────────────────────────────────────────────────────────────────────────────────────────────────────────────────────────────────────────────────────────────────────────────────────────────────────────────────────┴──────────────────────────────────────────────────────────────────────────────────────────────────────────────────────────────────────────────────────────────────────────────────────────────────────────────────────────────────────────────────────────────────────────────────────────────────────────────────────────────────────────────────────────┴────────────┴───────────┴─────────────┴──────────┴──────────┴───────────┴───────────────┴─────────┴────────┴──────────────┴─────────────────┤\n",
       "│ 10 rows                                                                                                                                                                                                                                                                                                                                                                                                                                                                                                                                                                                                                                                                                                                                                                                                                                                                                                                                                                                                                                                                                                                                                                                                                                                                                                                                                                                                                                                                                                                                                                                                                                                                                                                                                                                                                                                                                                                                                                                                                                28 columns │\n",
       "└───────────────────────────────────────────────────────────────────────────────────────────────────────────────────────────────────────────────────────────────────────────────────────────────────────────────────────────────────────────────────────────────────────────────────────────────────────────────────────────────────────────────────────────────────────────────────────────────────────────────────────────────────────────────────────────────────────────────────────────────────────────────────────────────────────────────────────────────────────────────────────────────────────────────────────────────────────────────────────────────────────────────────────────────────────────────────────────────────────────────────────────────────────────────────────────────────────────────────────────────────────────────────────────────────────────────────────────────────────────────────────────────────────────────────────────────────────────────────────────────────────────────────────────────────────────────────────────────────────────────────────────────────────────────────────────────────────────────────────────────────────────────────────────────────────────────────────────────────────────────────────────────────────────────────────────────────────────────────────────────────────────────────────────────────────────────────────────────────────────────────────────────────────────────────────────────────────────────────────────────────────────────────────────────────────────────────────────────────────────────────────────────────────────────────────────────────────────────────────────────────────────────────────────────────────────────────────────────────────────────────────────────────────────────────────────────────────────────────────────────────────────────────────────────────────────────────────────────────────────────────────────────────────────────────────────────────────────────────────────────────────────────────────────────────────────────────┘"
      ]
     },
     "execution_count": 3,
     "metadata": {},
     "output_type": "execute_result"
    }
   ],
   "source": [
    "duckdb_client.sql(\"SELECT * FROM create_traces_v1 LIMIT 10\")"
   ]
  },
  {
   "cell_type": "markdown",
   "metadata": {},
   "source": [
    "### Check the data output size"
   ]
  },
  {
   "cell_type": "code",
   "execution_count": 4,
   "metadata": {},
   "outputs": [
    {
     "data": {
      "text/plain": [
       "┌──────────────┐\n",
       "│ count_star() │\n",
       "│    int64     │\n",
       "├──────────────┤\n",
       "│        33413 │\n",
       "└──────────────┘"
      ]
     },
     "execution_count": 4,
     "metadata": {},
     "output_type": "execute_result"
    }
   ],
   "source": [
    "duckdb_client.sql(\"SELECT COUNT(*) FROM create_traces_v1\")"
   ]
  },
  {
   "cell_type": "code",
   "execution_count": 6,
   "metadata": {},
   "outputs": [
    {
     "data": {
      "text/plain": [
       "┌────────────────────────────────────────────────────────────────────────────────────────────────────────────────────────────────────────────────────────────────────────────────────────────────────────────────────────────────────────────────────────────────────────────────────────────────────────────────────────────────────────────────────────────────────────────────────────────────────────────────────────────────────────────────────────────────────────────────────────────────────────────────────────────────────────────────────────────────────────────────────────────────────────────────────────────────────────────────────────────────────────────────────────────────────────────────────────────────────────────┐\n",
       "│                                                                                                                                                                                                                                                                                                                                                                   input                                                                                                                                                                                                                                                                                                                                                                    │\n",
       "│                                                                                                                                                                                                                                                                                                                                                                  varchar                                                                                                                                                                                                                                                                                                                                                                   │\n",
       "├────────────────────────────────────────────────────────────────────────────────────────────────────────────────────────────────────────────────────────────────────────────────────────────────────────────────────────────────────────────────────────────────────────────────────────────────────────────────────────────────────────────────────────────────────────────────────────────────────────────────────────────────────────────────────────────────────────────────────────────────────────────────────────────────────────────────────────────────────────────────────────────────────────────────────────────────────────────────────────────────────────────────────────────────────────────────────────────────────────────┤\n",
       "│ 0x00000002000000000000000de01ce47f317b800000fc1f3296458f9b2a27a0b91dd7681c4020e09d0542000000000000000000000000000000000000424200000000000000000000000000000000000006000000000000000000000000000000000000002ad6c1be015b9be1913bbecfeb000000000000000000000000000000000000002ad53b792a6149d72479c1b49d00000000673a8429                                                                                                                                                                                                                                                                                                                                                                                                                       │\n",
       "│ 0x128acb0800000000000000000000000006a8087693b98e068b79f362687c718de6e5b5ae000000000000000000000000000000000000000000000000000000000000000000000000000000000000000000000000000000000000000de01ce47f317b8000000000000000000000000000000000000000002ad53b792a6149d72479c1b49d00000000000000000000000000000000000000000000000000000000000000a000000000000000000000000000000000000000000000000000000000000000a0000000000000000000000000000000000000000000000000000000000000000000000000000000000000000000000000000000000000000000000000000000010000000000000000000000004200000000000000000000000000000000000042000000000000000000000000fc1f3296458f9b2a27a0b91dd7681c4020e09d05000000000000000000000000000000000000002ad6c1be015b9be1913bbecfeb │\n",
       "│ 0x70a082310000000000000000000000008406d59f3638d7dac9cccf469cac16bdd9629c27                                                                                                                                                                                                                                                                                                                                                                                                                                                                                                                                                                                                                                                                 │\n",
       "│ 0xa6f19c84                                                                                                                                                                                                                                                                                                                                                                                                                                                                                                                                                                                                                                                                                                                                 │\n",
       "│ 0xa6f19c84                                                                                                                                                                                                                                                                                                                                                                                                                                                                                                                                                                                                                                                                                                                                 │\n",
       "│ 0xa34123a7000000000000000000000000000000000000000000000000000000000002fda0000000000000000000000000000000000000000000000000000000000002fe0400000000000000000000000000000000000000000000000003a1933c042068ea                                                                                                                                                                                                                                                                                                                                                                                                                                                                                                                                 │\n",
       "│ 0xa34123a7000000000000000000000000000000000000000000000000000000000002fda0000000000000000000000000000000000000000000000000000000000002fe0400000000000000000000000000000000000000000000000003a1933c042068ea                                                                                                                                                                                                                                                                                                                                                                                                                                                                                                                                 │\n",
       "│ 0x514ea4bfef89aa5a2f71c3937cb1903217b003dbfbfe7c21df1f7af0c6d49b40f0aef2d5                                                                                                                                                                                                                                                                                                                                                                                                                                                                                                                                                                                                                                                                 │\n",
       "│ 0x514ea4bfef89aa5a2f71c3937cb1903217b003dbfbfe7c21df1f7af0c6d49b40f0aef2d5                                                                                                                                                                                                                                                                                                                                                                                                                                                                                                                                                                                                                                                                 │\n",
       "│ 0xfc6f786500000000000000000000000000000000000000000000000000000000000872ae000000000000000000000000000000000000000000000000000000000000000000000000000000000000000000000000ffffffffffffffffffffffffffffffff00000000000000000000000000000000ffffffffffffffffffffffffffffffff                                                                                                                                                                                                                                                                                                                                                                                                                                                                 │\n",
       "├────────────────────────────────────────────────────────────────────────────────────────────────────────────────────────────────────────────────────────────────────────────────────────────────────────────────────────────────────────────────────────────────────────────────────────────────────────────────────────────────────────────────────────────────────────────────────────────────────────────────────────────────────────────────────────────────────────────────────────────────────────────────────────────────────────────────────────────────────────────────────────────────────────────────────────────────────────────────────────────────────────────────────────────────────────────────────────────────────────────┤\n",
       "│                                                                                                                                                                                                                                                                                                                                                                  10 rows                                                                                                                                                                                                                                                                                                                                                                   │\n",
       "└────────────────────────────────────────────────────────────────────────────────────────────────────────────────────────────────────────────────────────────────────────────────────────────────────────────────────────────────────────────────────────────────────────────────────────────────────────────────────────────────────────────────────────────────────────────────────────────────────────────────────────────────────────────────────────────────────────────────────────────────────────────────────────────────────────────────────────────────────────────────────────────────────────────────────────────────────────────────────────────────────────────────────────────────────────────────────────────────────────────┘"
      ]
     },
     "execution_count": 6,
     "metadata": {},
     "output_type": "execute_result"
    }
   ],
   "source": [
    "duckdb_client.sql(\"SELECT input FROM ingestion_traces_v1 LIMIT 10\")\n"
   ]
  },
  {
   "cell_type": "markdown",
   "metadata": {},
   "source": [
    "### You can also convert the results to dataframes to inspect them in more familiar ways"
   ]
  },
  {
   "cell_type": "code",
   "execution_count": 7,
   "metadata": {},
   "outputs": [
    {
     "data": {
      "text/html": [
       "<div><style>\n",
       ".dataframe > thead > tr,\n",
       ".dataframe > tbody > tr {\n",
       "  text-align: right;\n",
       "  white-space: pre-wrap;\n",
       "}\n",
       "</style>\n",
       "<small>shape: (5, 28)</small><table border=\"1\" class=\"dataframe\"><thead><tr><th>network</th><th>chain_id</th><th>chain</th><th>dt</th><th>block_timestamp</th><th>block_number</th><th>block_hash</th><th>transaction_hash</th><th>transaction_index</th><th>tr_from_address</th><th>tx_from_address</th><th>contract_address</th><th>tx_to_address</th><th>value_64</th><th>value_lossless</th><th>code</th><th>output</th><th>trace_type</th><th>call_type</th><th>reward_type</th><th>gas</th><th>gas_used</th><th>subtraces</th><th>trace_address</th><th>error</th><th>status</th><th>tx_method_id</th><th>code_bytelength</th></tr><tr><td>str</td><td>i32</td><td>str</td><td>date</td><td>u32</td><td>i64</td><td>str</td><td>str</td><td>i64</td><td>str</td><td>str</td><td>str</td><td>str</td><td>i64</td><td>str</td><td>str</td><td>str</td><td>str</td><td>str</td><td>str</td><td>i64</td><td>i64</td><td>i64</td><td>str</td><td>str</td><td>i64</td><td>str</td><td>f64</td></tr></thead><tbody><tr><td>&quot;mainnet&quot;</td><td>10</td><td>&quot;op&quot;</td><td>2024-11-18</td><td>1731890627</td><td>128145925</td><td>&quot;0xf43fe8bcfb3bd50a6d2a4dcefe0a…</td><td>&quot;0x0b14740dd518911a9be9b14bd775…</td><td>17</td><td>&quot;0x4e1dcf7ad4e460cfd30791ccc4f9…</td><td>&quot;0xc97240c92596276b8b9366064123…</td><td>&quot;0xf40496ad3f6b5ef77a7151577953…</td><td>&quot;0x24f6f36a551fe6008fa80afcff1d…</td><td>0</td><td>&quot;0&quot;</td><td>&quot;0x6080604052348015610010576000…</td><td>&quot;0x608060405273ffffffffffffffff…</td><td>&quot;create2&quot;</td><td>&quot;&quot;</td><td>&quot;&quot;</td><td>258177</td><td>56609</td><td>0</td><td>&quot;0,0&quot;</td><td>&quot;&quot;</td><td>1</td><td>&quot;0x540817d7&quot;</td><td>518.0</td></tr><tr><td>&quot;mainnet&quot;</td><td>10</td><td>&quot;op&quot;</td><td>2024-11-18</td><td>1731890627</td><td>128145925</td><td>&quot;0xf43fe8bcfb3bd50a6d2a4dcefe0a…</td><td>&quot;0x0b14740dd518911a9be9b14bd775…</td><td>17</td><td>&quot;0x4e1dcf7ad4e460cfd30791ccc4f9…</td><td>&quot;0xc97240c92596276b8b9366064123…</td><td>&quot;0xb4cc7b7fcd1c79b21d0daaf520cd…</td><td>&quot;0x24f6f36a551fe6008fa80afcff1d…</td><td>0</td><td>&quot;0&quot;</td><td>&quot;0x6080604052348015610010576000…</td><td>&quot;0x608060405273ffffffffffffffff…</td><td>&quot;create2&quot;</td><td>&quot;&quot;</td><td>&quot;&quot;</td><td>260638</td><td>56609</td><td>0</td><td>&quot;1,0&quot;</td><td>&quot;&quot;</td><td>1</td><td>&quot;0x540817d7&quot;</td><td>518.0</td></tr><tr><td>&quot;mainnet&quot;</td><td>10</td><td>&quot;op&quot;</td><td>2024-11-18</td><td>1731890629</td><td>128145926</td><td>&quot;0x00f2140ae46b91ba9cba478def59…</td><td>&quot;0xb7a0a8d602ef4283b875ea0246d2…</td><td>12</td><td>&quot;0x9ec1c3dcf667f2035fb4cd2eb42a…</td><td>&quot;0x52aac8613345af8e9426d22c7d53…</td><td>&quot;0xb23d757bc355fe035945b1c0119f…</td><td>&quot;0x9ec1c3dcf667f2035fb4cd2eb42a…</td><td>0</td><td>&quot;0&quot;</td><td>&quot;0x3d602d80600a3d3981f3363d3d37…</td><td>&quot;0x363d3d373d3d3d363d739ec1c3dc…</td><td>&quot;create2&quot;</td><td>&quot;&quot;</td><td>&quot;&quot;</td><td>19629380</td><td>9031</td><td>0</td><td>&quot;0&quot;</td><td>&quot;&quot;</td><td>1</td><td>&quot;0xb1ae2ed1&quot;</td><td>55.0</td></tr><tr><td>&quot;mainnet&quot;</td><td>10</td><td>&quot;op&quot;</td><td>2024-11-18</td><td>1731890629</td><td>128145926</td><td>&quot;0x00f2140ae46b91ba9cba478def59…</td><td>&quot;0xb7a0a8d602ef4283b875ea0246d2…</td><td>12</td><td>&quot;0x9ec1c3dcf667f2035fb4cd2eb42a…</td><td>&quot;0x52aac8613345af8e9426d22c7d53…</td><td>&quot;0x1c7c4f14d09a059fa7d4cac92af1…</td><td>&quot;0x9ec1c3dcf667f2035fb4cd2eb42a…</td><td>0</td><td>&quot;0&quot;</td><td>&quot;0x3d602d80600a3d3981f3363d3d37…</td><td>&quot;0x363d3d373d3d3d363d739ec1c3dc…</td><td>&quot;create2&quot;</td><td>&quot;&quot;</td><td>&quot;&quot;</td><td>19449076</td><td>9031</td><td>0</td><td>&quot;2&quot;</td><td>&quot;&quot;</td><td>1</td><td>&quot;0xb1ae2ed1&quot;</td><td>55.0</td></tr><tr><td>&quot;mainnet&quot;</td><td>10</td><td>&quot;op&quot;</td><td>2024-11-18</td><td>1731890629</td><td>128145926</td><td>&quot;0x00f2140ae46b91ba9cba478def59…</td><td>&quot;0xb7a0a8d602ef4283b875ea0246d2…</td><td>12</td><td>&quot;0x9ec1c3dcf667f2035fb4cd2eb42a…</td><td>&quot;0x52aac8613345af8e9426d22c7d53…</td><td>&quot;0x7144337b778b511531bf7dddeda8…</td><td>&quot;0x9ec1c3dcf667f2035fb4cd2eb42a…</td><td>0</td><td>&quot;0&quot;</td><td>&quot;0x3d602d80600a3d3981f3363d3d37…</td><td>&quot;0x363d3d373d3d3d363d739ec1c3dc…</td><td>&quot;create2&quot;</td><td>&quot;&quot;</td><td>&quot;&quot;</td><td>19283143</td><td>9031</td><td>0</td><td>&quot;4&quot;</td><td>&quot;&quot;</td><td>1</td><td>&quot;0xb1ae2ed1&quot;</td><td>55.0</td></tr></tbody></table></div>"
      ],
      "text/plain": [
       "shape: (5, 28)\n",
       "┌─────────┬──────────┬───────┬────────────┬───┬───────┬────────┬──────────────┬─────────────────┐\n",
       "│ network ┆ chain_id ┆ chain ┆ dt         ┆ … ┆ error ┆ status ┆ tx_method_id ┆ code_bytelength │\n",
       "│ ---     ┆ ---      ┆ ---   ┆ ---        ┆   ┆ ---   ┆ ---    ┆ ---          ┆ ---             │\n",
       "│ str     ┆ i32      ┆ str   ┆ date       ┆   ┆ str   ┆ i64    ┆ str          ┆ f64             │\n",
       "╞═════════╪══════════╪═══════╪════════════╪═══╪═══════╪════════╪══════════════╪═════════════════╡\n",
       "│ mainnet ┆ 10       ┆ op    ┆ 2024-11-18 ┆ … ┆       ┆ 1      ┆ 0x540817d7   ┆ 518.0           │\n",
       "│ mainnet ┆ 10       ┆ op    ┆ 2024-11-18 ┆ … ┆       ┆ 1      ┆ 0x540817d7   ┆ 518.0           │\n",
       "│ mainnet ┆ 10       ┆ op    ┆ 2024-11-18 ┆ … ┆       ┆ 1      ┆ 0xb1ae2ed1   ┆ 55.0            │\n",
       "│ mainnet ┆ 10       ┆ op    ┆ 2024-11-18 ┆ … ┆       ┆ 1      ┆ 0xb1ae2ed1   ┆ 55.0            │\n",
       "│ mainnet ┆ 10       ┆ op    ┆ 2024-11-18 ┆ … ┆       ┆ 1      ┆ 0xb1ae2ed1   ┆ 55.0            │\n",
       "└─────────┴──────────┴───────┴────────────┴───┴───────┴────────┴──────────────┴─────────────────┘"
      ]
     },
     "execution_count": 7,
     "metadata": {},
     "output_type": "execute_result"
    }
   ],
   "source": [
    "duckdb_client.sql(\"SELECT * FROM create_traces_v1 LIMIT 10\").pl().head()"
   ]
  },
  {
   "cell_type": "markdown",
   "metadata": {},
   "source": [
    "### Get table schema"
   ]
  },
  {
   "cell_type": "code",
   "execution_count": 8,
   "metadata": {},
   "outputs": [
    {
     "data": {
      "text/plain": [
       "┌───────────────────┬─────────────┬─────────┬─────────┬─────────┬─────────┐\n",
       "│    column_name    │ column_type │  null   │   key   │ default │  extra  │\n",
       "│      varchar      │   varchar   │ varchar │ varchar │ varchar │ varchar │\n",
       "├───────────────────┼─────────────┼─────────┼─────────┼─────────┼─────────┤\n",
       "│ network           │ VARCHAR     │ YES     │ NULL    │ NULL    │ NULL    │\n",
       "│ chain_id          │ INTEGER     │ YES     │ NULL    │ NULL    │ NULL    │\n",
       "│ chain             │ VARCHAR     │ YES     │ NULL    │ NULL    │ NULL    │\n",
       "│ dt                │ DATE        │ YES     │ NULL    │ NULL    │ NULL    │\n",
       "│ block_timestamp   │ UINTEGER    │ YES     │ NULL    │ NULL    │ NULL    │\n",
       "│ block_number      │ BIGINT      │ YES     │ NULL    │ NULL    │ NULL    │\n",
       "│ block_hash        │ VARCHAR     │ YES     │ NULL    │ NULL    │ NULL    │\n",
       "│ transaction_hash  │ VARCHAR     │ YES     │ NULL    │ NULL    │ NULL    │\n",
       "│ transaction_index │ BIGINT      │ YES     │ NULL    │ NULL    │ NULL    │\n",
       "│ tr_from_address   │ VARCHAR     │ YES     │ NULL    │ NULL    │ NULL    │\n",
       "│     ·             │    ·        │  ·      │  ·      │  ·      │  ·      │\n",
       "│     ·             │    ·        │  ·      │  ·      │  ·      │  ·      │\n",
       "│     ·             │    ·        │  ·      │  ·      │  ·      │  ·      │\n",
       "│ call_type         │ VARCHAR     │ YES     │ NULL    │ NULL    │ NULL    │\n",
       "│ reward_type       │ VARCHAR     │ YES     │ NULL    │ NULL    │ NULL    │\n",
       "│ gas               │ BIGINT      │ YES     │ NULL    │ NULL    │ NULL    │\n",
       "│ gas_used          │ BIGINT      │ YES     │ NULL    │ NULL    │ NULL    │\n",
       "│ subtraces         │ BIGINT      │ YES     │ NULL    │ NULL    │ NULL    │\n",
       "│ trace_address     │ VARCHAR     │ YES     │ NULL    │ NULL    │ NULL    │\n",
       "│ error             │ VARCHAR     │ YES     │ NULL    │ NULL    │ NULL    │\n",
       "│ status            │ BIGINT      │ YES     │ NULL    │ NULL    │ NULL    │\n",
       "│ tx_method_id      │ VARCHAR     │ YES     │ NULL    │ NULL    │ NULL    │\n",
       "│ code_bytelength   │ DOUBLE      │ YES     │ NULL    │ NULL    │ NULL    │\n",
       "├───────────────────┴─────────────┴─────────┴─────────┴─────────┴─────────┤\n",
       "│ 28 rows (20 shown)                                            6 columns │\n",
       "└─────────────────────────────────────────────────────────────────────────┘"
      ]
     },
     "execution_count": 8,
     "metadata": {},
     "output_type": "execute_result"
    }
   ],
   "source": [
    "duckdb_client.sql(\"DESCRIBE create_traces_v1\")\n"
   ]
  },
  {
   "cell_type": "code",
   "execution_count": null,
   "metadata": {},
   "outputs": [],
   "source": []
  }
 ],
 "metadata": {
  "kernelspec": {
   "display_name": ".venv",
   "language": "python",
   "name": "python3"
  },
  "language_info": {
   "codemirror_mode": {
    "name": "ipython",
    "version": 3
   },
   "file_extension": ".py",
   "mimetype": "text/x-python",
   "name": "python",
   "nbconvert_exporter": "python",
   "pygments_lexer": "ipython3",
   "version": "3.12.6"
  }
 },
 "nbformat": 4,
 "nbformat_minor": 2
}
