{
 "cells": [
  {
   "cell_type": "markdown",
   "metadata": {},
   "source": [
    "## Prepare data reader and model execution context"
   ]
  },
  {
   "cell_type": "code",
   "execution_count": 1,
   "metadata": {},
   "outputs": [
    {
     "name": "stdout",
     "output_type": "stream",
     "text": [
      "\u001b[2m2025-01-23 12:19:04\u001b[0m [\u001b[32m\u001b[1mdebug    \u001b[0m] \u001b[1mconnecting to GOLDSKY Clickhouse client...\u001b[0m \u001b[36mfilename\u001b[0m=\u001b[35mclient.py\u001b[0m \u001b[36mlineno\u001b[0m=\u001b[35m36\u001b[0m \u001b[36mprocess\u001b[0m=\u001b[35m44222\u001b[0m\n",
      "\u001b[2m2025-01-23 12:19:04\u001b[0m [\u001b[32m\u001b[1minfo     \u001b[0m] \u001b[1mloaded vault from .env file   \u001b[0m \u001b[36mfilename\u001b[0m=\u001b[35mvault.py\u001b[0m \u001b[36mlineno\u001b[0m=\u001b[35m32\u001b[0m \u001b[36mprocess\u001b[0m=\u001b[35m44222\u001b[0m\n",
      "\u001b[2m2025-01-23 12:19:04\u001b[0m [\u001b[32m\u001b[1mdebug    \u001b[0m] \u001b[1mloaded vault: 18 items        \u001b[0m \u001b[36mfilename\u001b[0m=\u001b[35mvault.py\u001b[0m \u001b[36mlineno\u001b[0m=\u001b[35m79\u001b[0m \u001b[36mprocess\u001b[0m=\u001b[35m44222\u001b[0m\n",
      "\u001b[2m2025-01-23 12:19:05\u001b[0m [\u001b[32m\u001b[1mdebug    \u001b[0m] \u001b[1minitialized GOLDSKY Clickhouse client.\u001b[0m \u001b[36mfilename\u001b[0m=\u001b[35mclient.py\u001b[0m \u001b[36mlineno\u001b[0m=\u001b[35m41\u001b[0m \u001b[36mprocess\u001b[0m=\u001b[35m44222\u001b[0m\n",
      "\u001b[2m2025-01-23 12:19:05\u001b[0m [\u001b[32m\u001b[1mdebug    \u001b[0m] \u001b[1mconnecting to OPLABS Clickhouse client...\u001b[0m \u001b[36mfilename\u001b[0m=\u001b[35mclient.py\u001b[0m \u001b[36mlineno\u001b[0m=\u001b[35m36\u001b[0m \u001b[36mprocess\u001b[0m=\u001b[35m44222\u001b[0m\n",
      "\u001b[2m2025-01-23 12:19:06\u001b[0m [\u001b[32m\u001b[1mdebug    \u001b[0m] \u001b[1minitialized OPLABS Clickhouse client.\u001b[0m \u001b[36mfilename\u001b[0m=\u001b[35mclient.py\u001b[0m \u001b[36mlineno\u001b[0m=\u001b[35m41\u001b[0m \u001b[36mprocess\u001b[0m=\u001b[35m44222\u001b[0m\n",
      "\u001b[2m2025-01-23 12:19:06\u001b[0m [\u001b[32m\u001b[1minfo     \u001b[0m] \u001b[1mprepared 1 input batches.     \u001b[0m \u001b[36mfilename\u001b[0m=\u001b[35mbyblock.py\u001b[0m \u001b[36mlineno\u001b[0m=\u001b[35m88\u001b[0m \u001b[36mprocess\u001b[0m=\u001b[35m44222\u001b[0m\n",
      "DataReader(partitions=Partition(cols=[PartitionColumn(name='chain',\n",
      "                                                      value='base'),\n",
      "                                      PartitionColumn(name='dt',\n",
      "                                                      value='2024-09-17')]),\n",
      "           read_from=DataLocation.GCS,\n",
      "           dataset_paths={'ingestion/blocks_v1': ['gs://oplabs-tools-data-sink/ingestion/blocks_v1/chain=base/dt=2024-09-17/000019910000.parquet'],\n",
      "                          'ingestion/logs_v1': ['gs://oplabs-tools-data-sink/ingestion/logs_v1/chain=base/dt=2024-09-17/000019910000.parquet'],\n",
      "                          'ingestion/traces_v1': ['gs://oplabs-tools-data-sink/ingestion/traces_v1/chain=base/dt=2024-09-17/000019910000.parquet'],\n",
      "                          'ingestion/transactions_v1': ['gs://oplabs-tools-data-sink/ingestion/transactions_v1/chain=base/dt=2024-09-17/000019910000.parquet']},\n",
      "           inputs_ready=True,\n",
      "           extra_marker_data={'max_block': 19912000,\n",
      "                              'min_block': 19910000,\n",
      "                              'num_blocks': 2000})\n",
      "\u001b[2m2025-01-23 12:19:06\u001b[0m [\u001b[32m\u001b[1minfo     \u001b[0m] \u001b[1minitialized duckdb at /var/folders/tz/g2vwn0qx5ll32j7jfsshhps40000gn/T/ns2rjkoz/op-analytics.duck.db\u001b[0m \u001b[36mfilename\u001b[0m=\u001b[35mclient.py\u001b[0m \u001b[36mlineno\u001b[0m=\u001b[35m94\u001b[0m \u001b[36mprocess\u001b[0m=\u001b[35m44222\u001b[0m\n",
      "\u001b[2m2025-01-23 12:19:06\u001b[0m [\u001b[32m\u001b[1minfo     \u001b[0m] \u001b[1mreading dataset='ingestion/blocks_v1' using 1/1 parquet paths, first path is gs://oplabs-tools-data-sink/ingestion/blocks_v1/chain=base/dt=2024-09-17/000019910000.parquet\u001b[0m \u001b[36mfilename\u001b[0m=\u001b[35mreader.py\u001b[0m \u001b[36mlineno\u001b[0m=\u001b[35m68\u001b[0m \u001b[36mprocess\u001b[0m=\u001b[35m44222\u001b[0m\n",
      "\u001b[2m2025-01-23 12:19:06\u001b[0m [\u001b[32m\u001b[1minfo     \u001b[0m] \u001b[1mreading dataset='ingestion/logs_v1' using 1/1 parquet paths, first path is gs://oplabs-tools-data-sink/ingestion/logs_v1/chain=base/dt=2024-09-17/000019910000.parquet\u001b[0m \u001b[36mfilename\u001b[0m=\u001b[35mreader.py\u001b[0m \u001b[36mlineno\u001b[0m=\u001b[35m68\u001b[0m \u001b[36mprocess\u001b[0m=\u001b[35m44222\u001b[0m\n",
      "\u001b[2m2025-01-23 12:19:06\u001b[0m [\u001b[32m\u001b[1minfo     \u001b[0m] \u001b[1mreading dataset='ingestion/traces_v1' using 1/1 parquet paths, first path is gs://oplabs-tools-data-sink/ingestion/traces_v1/chain=base/dt=2024-09-17/000019910000.parquet\u001b[0m \u001b[36mfilename\u001b[0m=\u001b[35mreader.py\u001b[0m \u001b[36mlineno\u001b[0m=\u001b[35m68\u001b[0m \u001b[36mprocess\u001b[0m=\u001b[35m44222\u001b[0m\n",
      "\u001b[2m2025-01-23 12:19:06\u001b[0m [\u001b[32m\u001b[1minfo     \u001b[0m] \u001b[1mreading dataset='ingestion/transactions_v1' using 1/1 parquet paths, first path is gs://oplabs-tools-data-sink/ingestion/transactions_v1/chain=base/dt=2024-09-17/000019910000.parquet\u001b[0m \u001b[36mfilename\u001b[0m=\u001b[35mreader.py\u001b[0m \u001b[36mlineno\u001b[0m=\u001b[35m68\u001b[0m \u001b[36mprocess\u001b[0m=\u001b[35m44222\u001b[0m\n",
      "\n",
      "INPUT: ingestion/blocks_v1\n",
      "INPUT: ingestion/logs_v1\n",
      "INPUT: ingestion/traces_v1\n",
      "INPUT: ingestion/transactions_v1\n",
      "\n",
      "AUX VIEW: refined_transactions_fees\n",
      "AUX VIEW: account_abstraction/user_op_events\n",
      "AUX VIEW: account_abstraction/user_op_prefiltered_traces\n",
      "AUX VIEW: account_abstraction/user_op_sender_subtraces\n",
      "AUX VIEW: account_abstraction/data_quality_check_01\n",
      "AUX VIEW: account_abstraction/data_quality_check_02\n"
     ]
    }
   ],
   "source": [
    "from pprint import pprint\n",
    "\n",
    "from op_analytics.coreutils.partitioned.location import DataLocation\n",
    "from op_analytics.coreutils.partitioned.reader import DataReader\n",
    "from op_analytics.datapipeline.etl.ingestion.reader.byblock import construct_readers_byblock\n",
    "from op_analytics.datapipeline.etl.ingestion.reader.request import BlockBatchRequest\n",
    "from op_analytics.datapipeline.models.compute.markers import ModelsDataSpec\n",
    "from op_analytics.datapipeline.models.compute.testutils import setup_execution_context\n",
    "\n",
    "model_name = \"account_abstraction\"\n",
    "\n",
    "\n",
    "# Prepare data raeders\n",
    "data_spec = ModelsDataSpec(models=[model_name])\n",
    "blockbatch_request = BlockBatchRequest.build(\n",
    "    chains=[\"base\"],\n",
    "    range_spec=\"19910194:+1\",\n",
    "    root_paths_to_read=data_spec.input_root_paths,\n",
    ")\n",
    "readers: list[DataReader] = construct_readers_byblock(\n",
    "    blockbatch_request=blockbatch_request,\n",
    "    read_from=DataLocation.GCS,\n",
    ")\n",
    "\n",
    "\n",
    "# Show details for the batch we are processing.\n",
    "pprint(readers[0])\n",
    "\n",
    "# Set up execution context and get handles to model input args.\n",
    "# In subsequent cells you can use the model input args however you want.\n",
    "ctx, input_datasets, auxiliary_views = setup_execution_context(\n",
    "    model_name=model_name,\n",
    "    data_reader=readers[0],  # use the first reader\n",
    ")\n"
   ]
  },
  {
   "cell_type": "code",
   "execution_count": 2,
   "metadata": {},
   "outputs": [
    {
     "name": "stdout",
     "output_type": "stream",
     "text": [
      "Invalid Input Error: No function by the name of 'decode_user_ops' was found in the list of registered functions\n"
     ]
    }
   ],
   "source": [
    "from op_analytics.datapipeline.models.code.account_abstraction.event_user_op import (\n",
    "    register_decode_user_ops\n",
    ")\n",
    "from op_analytics.datapipeline.models.code.account_abstraction.function_decoders import (\n",
    "    register_4337_decoders\n",
    ")\n",
    "\n",
    "\n",
    "register_decode_user_ops(ctx)\n",
    "register_4337_decoders(ctx)"
   ]
  },
  {
   "cell_type": "code",
   "execution_count": 3,
   "metadata": {},
   "outputs": [
    {
     "name": "stdout",
     "output_type": "stream",
     "text": [
      "\u001b[2m2025-01-23 12:19:06\u001b[0m [\u001b[32m\u001b[1minfo     \u001b[0m] \u001b[1mconstructed read_parquet() string with 1 paths\u001b[0m \u001b[36mfilename\u001b[0m=\u001b[35mclient.py\u001b[0m \u001b[36mlineno\u001b[0m=\u001b[35m263\u001b[0m \u001b[36mprocess\u001b[0m=\u001b[35m44222\u001b[0m\n",
      "\u001b[2m2025-01-23 12:19:06\u001b[0m [\u001b[32m\u001b[1minfo     \u001b[0m] \u001b[1mRendering query               \u001b[0m \u001b[36mfilename\u001b[0m=\u001b[35mquerybuilder.py\u001b[0m \u001b[36mlineno\u001b[0m=\u001b[35m40\u001b[0m \u001b[36mprocess\u001b[0m=\u001b[35m44222\u001b[0m \u001b[36mtemplate\u001b[0m=\u001b[35maccount_abstraction/user_op_events\u001b[0m\n",
      "\u001b[2m2025-01-23 12:19:08\u001b[0m [\u001b[32m\u001b[1minfo     \u001b[0m] \u001b[1mduck db size: 12.3KB          \u001b[0m \u001b[36mfilename\u001b[0m=\u001b[35mclient.py\u001b[0m \u001b[36mlineno\u001b[0m=\u001b[35m36\u001b[0m \u001b[36mprocess\u001b[0m=\u001b[35m44222\u001b[0m\n",
      "\u001b[2m2025-01-23 12:19:08\u001b[0m [\u001b[32m\u001b[1minfo     \u001b[0m] \u001b[1mconstructed read_parquet() string with 1 paths\u001b[0m \u001b[36mfilename\u001b[0m=\u001b[35mclient.py\u001b[0m \u001b[36mlineno\u001b[0m=\u001b[35m263\u001b[0m \u001b[36mprocess\u001b[0m=\u001b[35m44222\u001b[0m\n",
      "\u001b[2m2025-01-23 12:19:08\u001b[0m [\u001b[32m\u001b[1minfo     \u001b[0m] \u001b[1mRendering query               \u001b[0m \u001b[36mfilename\u001b[0m=\u001b[35mquerybuilder.py\u001b[0m \u001b[36mlineno\u001b[0m=\u001b[35m40\u001b[0m \u001b[36mprocess\u001b[0m=\u001b[35m44222\u001b[0m \u001b[36mtemplate\u001b[0m=\u001b[35maccount_abstraction/user_op_prefiltered_traces\u001b[0m\n",
      "\u001b[2m2025-01-23 12:19:12\u001b[0m [\u001b[32m\u001b[1minfo     \u001b[0m] \u001b[1mduck db size: 12.3KB          \u001b[0m \u001b[36mfilename\u001b[0m=\u001b[35mclient.py\u001b[0m \u001b[36mlineno\u001b[0m=\u001b[35m36\u001b[0m \u001b[36mprocess\u001b[0m=\u001b[35m44222\u001b[0m\n",
      "\u001b[2m2025-01-23 12:19:12\u001b[0m [\u001b[32m\u001b[1minfo     \u001b[0m] \u001b[1mRendering query               \u001b[0m \u001b[36mfilename\u001b[0m=\u001b[35mquerybuilder.py\u001b[0m \u001b[36mlineno\u001b[0m=\u001b[35m40\u001b[0m \u001b[36mprocess\u001b[0m=\u001b[35m44222\u001b[0m \u001b[36mtemplate\u001b[0m=\u001b[35maccount_abstraction/user_op_sender_subtraces\u001b[0m\n",
      "\u001b[2m2025-01-23 12:19:12\u001b[0m [\u001b[32m\u001b[1minfo     \u001b[0m] \u001b[1mduck db size: 7.9MB           \u001b[0m \u001b[36mfilename\u001b[0m=\u001b[35mclient.py\u001b[0m \u001b[36mlineno\u001b[0m=\u001b[35m36\u001b[0m \u001b[36mprocess\u001b[0m=\u001b[35m44222\u001b[0m\n"
     ]
    }
   ],
   "source": [
    "from op_analytics.datapipeline.models.code.account_abstraction.abis import (\n",
    "    INNER_HANDLE_OP_FUNCTION_METHOD_ID_v0_6_0,\n",
    "    INNER_HANDLE_OP_FUNCTION_METHOD_ID_v0_7_0,\n",
    ")\n",
    "\n",
    "\n",
    "# Decoded UserOperationEvent logs.\n",
    "user_ops_events = auxiliary_views[\"account_abstraction/user_op_events\"].create_table(\n",
    "    duckdb_context=ctx,\n",
    "    template_parameters={\n",
    "        \"raw_logs\": input_datasets[\"ingestion/logs_v1\"].as_subquery(),\n",
    "    },\n",
    ")\n",
    "\n",
    "# Table with UserOp transaction hashes. Used to filter the raw traces.\n",
    "ctx.client.sql(f\"\"\"\n",
    "CREATE OR REPLACE TABLE user_op_txhash_senders AS\n",
    "SELECT DISTINCT txhash_sender FROM {user_ops_events}\n",
    "ORDER BY transaction_hash\n",
    "\"\"\")\n",
    "\n",
    "\n",
    "# Prefiltered traces.\n",
    "user_op_prefiltered_traces = auxiliary_views[\n",
    "    \"account_abstraction/user_op_prefiltered_traces\"\n",
    "].create_table(\n",
    "    duckdb_context=ctx,\n",
    "    template_parameters={\n",
    "        \"raw_traces\": input_datasets[\"ingestion/traces_v1\"].as_subquery(),\n",
    "        \"user_op_txhash_senders\": \"user_op_txhash_senders\",\n",
    "        \"inner_handle_op_method_ids\": \", \".join(\n",
    "            [\n",
    "                f\"'{INNER_HANDLE_OP_FUNCTION_METHOD_ID_v0_6_0}'\",\n",
    "                f\"'{INNER_HANDLE_OP_FUNCTION_METHOD_ID_v0_7_0}'\",\n",
    "            ]\n",
    "        ),\n",
    "    },\n",
    ")\n",
    "\n",
    "\n",
    "# Traces initiated on behalf of the UserOperationEvent sender\n",
    "user_op_traces = auxiliary_views[\"account_abstraction/user_op_sender_subtraces\"].create_table(\n",
    "    duckdb_context=ctx,\n",
    "    template_parameters={\n",
    "        \"prefiltered_traces\": user_op_prefiltered_traces,\n",
    "        \"inner_handle_op_method_ids\": \", \".join(\n",
    "            [\n",
    "                f\"'{INNER_HANDLE_OP_FUNCTION_METHOD_ID_v0_6_0}'\",\n",
    "                f\"'{INNER_HANDLE_OP_FUNCTION_METHOD_ID_v0_7_0}'\",\n",
    "            ]\n",
    "        ),\n",
    "    },\n",
    ")\n"
   ]
  },
  {
   "cell_type": "code",
   "execution_count": 4,
   "metadata": {},
   "outputs": [
    {
     "data": {
      "text/plain": [
       "┌─────────────────────────────────────────────────┐\n",
       "│                      name                       │\n",
       "│                     varchar                     │\n",
       "├─────────────────────────────────────────────────┤\n",
       "│ account_abstraction__user_op_events             │\n",
       "│ account_abstraction__user_op_prefiltered_traces │\n",
       "│ account_abstraction__user_op_sender_subtraces   │\n",
       "│ user_op_txhash_senders                          │\n",
       "└─────────────────────────────────────────────────┘"
      ]
     },
     "execution_count": 4,
     "metadata": {},
     "output_type": "execute_result"
    }
   ],
   "source": [
    "ctx.client.sql(\"SHOW TABLES\")"
   ]
  },
  {
   "cell_type": "code",
   "execution_count": 5,
   "metadata": {},
   "outputs": [
    {
     "name": "stdout",
     "output_type": "stream",
     "text": [
      "\u001b[2m2025-01-23 12:19:12\u001b[0m [\u001b[32m\u001b[1minfo     \u001b[0m] \u001b[1mRendering query               \u001b[0m \u001b[36mfilename\u001b[0m=\u001b[35mquerybuilder.py\u001b[0m \u001b[36mlineno\u001b[0m=\u001b[35m40\u001b[0m \u001b[36mprocess\u001b[0m=\u001b[35m44222\u001b[0m \u001b[36mtemplate\u001b[0m=\u001b[35maccount_abstraction/data_quality_check_01\u001b[0m\n",
      "\u001b[2m2025-01-23 12:19:12\u001b[0m [\u001b[32m\u001b[1minfo     \u001b[0m] \u001b[1mRendering query               \u001b[0m \u001b[36mfilename\u001b[0m=\u001b[35mquerybuilder.py\u001b[0m \u001b[36mlineno\u001b[0m=\u001b[35m40\u001b[0m \u001b[36mprocess\u001b[0m=\u001b[35m44222\u001b[0m \u001b[36mtemplate\u001b[0m=\u001b[35maccount_abstraction/data_quality_check_02\u001b[0m\n",
      "DQ OK\n"
     ]
    }
   ],
   "source": [
    "from textwrap import dedent\n",
    "\n",
    "# Data Quality Validation. \n",
    "\n",
    "check1_msg = dedent(\"\"\"\\\n",
    "    The total # of UserOperationEvent logs in a transaction must be <= the number \n",
    "    of sender subtraces found in the transaction.\"\"\")\n",
    "\n",
    "check2_msg = dedent(\"\"\"\\\n",
    "    We should have exactly the same UserOperationEvent logs as we do first sender\n",
    "    subtrace calls.\"\"\")\n",
    "\n",
    "\n",
    "check1 = auxiliary_views[\"account_abstraction/data_quality_check_01\"].to_relation(\n",
    "    duckdb_context=ctx,\n",
    "    template_parameters={}\n",
    ").pl()\n",
    "\n",
    "check2 = auxiliary_views[\"account_abstraction/data_quality_check_02\"].to_relation(\n",
    "    duckdb_context=ctx,\n",
    "    template_parameters={}\n",
    ").pl()\n",
    "\n",
    "errors = []\n",
    "if len(check1) > 0:\n",
    "    errors.append(check1_msg)\n",
    "\n",
    "if len(check2) > 0:\n",
    "    errors.append(check2_msg)\n",
    "    \n",
    "if errors:\n",
    "    raise Exception(\"\\n\\n\".join(errors))\n",
    "else:\n",
    "    print(\"DQ OK\")\n"
   ]
  },
  {
   "cell_type": "code",
   "execution_count": 6,
   "metadata": {},
   "outputs": [
    {
     "name": "stdout",
     "output_type": "stream",
     "text": [
      "┌────────────┐\n",
      "│ num_events │\n",
      "│   int64    │\n",
      "├────────────┤\n",
      "│      11964 │\n",
      "└────────────┘\n",
      "\n",
      "┌────────────────────────┐\n",
      "│ num_prefiltered_traces │\n",
      "│         int64          │\n",
      "├────────────────────────┤\n",
      "│                  40359 │\n",
      "└────────────────────────┘\n",
      "\n",
      "┌────────────┐\n",
      "│ num_traces │\n",
      "│   int64    │\n",
      "├────────────┤\n",
      "│      14450 │\n",
      "└────────────┘\n",
      "\n",
      "┌────────────┐\n",
      "│ num_traces │\n",
      "│   int64    │\n",
      "├────────────┤\n",
      "│      11964 │\n",
      "└────────────┘\n",
      "\n"
     ]
    }
   ],
   "source": [
    "print(ctx.client.sql(\"SELECT COUNT(*) as num_events FROM account_abstraction__user_op_events\"))\n",
    "print(ctx.client.sql(\"SELECT COUNT(*) as num_prefiltered_traces FROM account_abstraction__user_op_prefiltered_traces\"))\n",
    "print(ctx.client.sql(\"SELECT COUNT(*) as num_traces FROM account_abstraction__user_op_sender_subtraces\"))\n",
    "print(ctx.client.sql(\"SELECT COUNT(*) as num_traces FROM account_abstraction__user_op_sender_subtraces WHERE trace_row_number = 1 \"))"
   ]
  },
  {
   "cell_type": "code",
   "execution_count": 7,
   "metadata": {},
   "outputs": [
    {
     "data": {
      "text/plain": [
       "┌──────────────────────────┬─────────────┬─────────┬─────────┬─────────┬─────────┐\n",
       "│       column_name        │ column_type │  null   │   key   │ default │  extra  │\n",
       "│         varchar          │   varchar   │ varchar │ varchar │ varchar │ varchar │\n",
       "├──────────────────────────┼─────────────┼─────────┼─────────┼─────────┼─────────┤\n",
       "│ dt                       │ DATE        │ YES     │ NULL    │ NULL    │ NULL    │\n",
       "│ chain                    │ VARCHAR     │ YES     │ NULL    │ NULL    │ NULL    │\n",
       "│ chain_id                 │ INTEGER     │ YES     │ NULL    │ NULL    │ NULL    │\n",
       "│ network                  │ VARCHAR     │ YES     │ NULL    │ NULL    │ NULL    │\n",
       "│ block_timestamp          │ UINTEGER    │ YES     │ NULL    │ NULL    │ NULL    │\n",
       "│ block_number             │ BIGINT      │ YES     │ NULL    │ NULL    │ NULL    │\n",
       "│ block_hash               │ VARCHAR     │ YES     │ NULL    │ NULL    │ NULL    │\n",
       "│ transaction_hash         │ VARCHAR     │ YES     │ NULL    │ NULL    │ NULL    │\n",
       "│ transaction_index        │ BIGINT      │ YES     │ NULL    │ NULL    │ NULL    │\n",
       "│ log_index                │ BIGINT      │ YES     │ NULL    │ NULL    │ NULL    │\n",
       "│ contract_address         │ VARCHAR     │ YES     │ NULL    │ NULL    │ NULL    │\n",
       "│ user_op_hash             │ VARCHAR     │ YES     │ NULL    │ NULL    │ NULL    │\n",
       "│ sender                   │ VARCHAR     │ YES     │ NULL    │ NULL    │ NULL    │\n",
       "│ paymaster                │ VARCHAR     │ YES     │ NULL    │ NULL    │ NULL    │\n",
       "│ nonce_lossless           │ VARCHAR     │ YES     │ NULL    │ NULL    │ NULL    │\n",
       "│ nonce                    │ UBIGINT     │ YES     │ NULL    │ NULL    │ NULL    │\n",
       "│ success                  │ BOOLEAN     │ YES     │ NULL    │ NULL    │ NULL    │\n",
       "│ actual_gas_cost_lossless │ VARCHAR     │ YES     │ NULL    │ NULL    │ NULL    │\n",
       "│ actual_gas_cost          │ UBIGINT     │ YES     │ NULL    │ NULL    │ NULL    │\n",
       "│ actual_gas_used_lossless │ VARCHAR     │ YES     │ NULL    │ NULL    │ NULL    │\n",
       "│ actual_gas_used          │ UBIGINT     │ YES     │ NULL    │ NULL    │ NULL    │\n",
       "│ txhash_sender            │ VARCHAR     │ YES     │ NULL    │ NULL    │ NULL    │\n",
       "├──────────────────────────┴─────────────┴─────────┴─────────┴─────────┴─────────┤\n",
       "│ 22 rows                                                              6 columns │\n",
       "└────────────────────────────────────────────────────────────────────────────────┘"
      ]
     },
     "execution_count": 7,
     "metadata": {},
     "output_type": "execute_result"
    }
   ],
   "source": [
    "ctx.client.sql(\"DESCRIBE TABLE account_abstraction__user_op_events\")"
   ]
  },
  {
   "cell_type": "code",
   "execution_count": 8,
   "metadata": {},
   "outputs": [
    {
     "data": {
      "text/plain": [
       "┌───────────────────────────────┬─────────────┬─────────┬─────────┬─────────┬─────────┐\n",
       "│          column_name          │ column_type │  null   │   key   │ default │  extra  │\n",
       "│            varchar            │   varchar   │ varchar │ varchar │ varchar │ varchar │\n",
       "├───────────────────────────────┼─────────────┼─────────┼─────────┼─────────┼─────────┤\n",
       "│ dt                            │ DATE        │ YES     │ NULL    │ NULL    │ NULL    │\n",
       "│ chain                         │ VARCHAR     │ YES     │ NULL    │ NULL    │ NULL    │\n",
       "│ chain_id                      │ INTEGER     │ YES     │ NULL    │ NULL    │ NULL    │\n",
       "│ network                       │ VARCHAR     │ YES     │ NULL    │ NULL    │ NULL    │\n",
       "│ block_timestamp               │ UINTEGER    │ YES     │ NULL    │ NULL    │ NULL    │\n",
       "│ block_number                  │ BIGINT      │ YES     │ NULL    │ NULL    │ NULL    │\n",
       "│ transaction_hash              │ VARCHAR     │ YES     │ NULL    │ NULL    │ NULL    │\n",
       "│ from_address                  │ VARCHAR     │ YES     │ NULL    │ NULL    │ NULL    │\n",
       "│ to_address                    │ VARCHAR     │ YES     │ NULL    │ NULL    │ NULL    │\n",
       "│ call_type                     │ VARCHAR     │ YES     │ NULL    │ NULL    │ NULL    │\n",
       "│ trace_address                 │ VARCHAR     │ YES     │ NULL    │ NULL    │ NULL    │\n",
       "│ trace_root                    │ VARCHAR     │ YES     │ NULL    │ NULL    │ NULL    │\n",
       "│ trace_row_number              │ BIGINT      │ YES     │ NULL    │ NULL    │ NULL    │\n",
       "│ inner_handle_op_trace_address │ VARCHAR     │ YES     │ NULL    │ NULL    │ NULL    │\n",
       "│ inner_handle_op_sender        │ VARCHAR     │ YES     │ NULL    │ NULL    │ NULL    │\n",
       "│ entrypoint_contract_address   │ VARCHAR     │ YES     │ NULL    │ NULL    │ NULL    │\n",
       "│ entrypoint_contract_version   │ VARCHAR     │ YES     │ NULL    │ NULL    │ NULL    │\n",
       "├───────────────────────────────┴─────────────┴─────────┴─────────┴─────────┴─────────┤\n",
       "│ 17 rows                                                                   6 columns │\n",
       "└─────────────────────────────────────────────────────────────────────────────────────┘"
      ]
     },
     "execution_count": 8,
     "metadata": {},
     "output_type": "execute_result"
    }
   ],
   "source": [
    "ctx.client.sql(\"DESCRIBE TABLE account_abstraction__user_op_sender_subtraces\")"
   ]
  }
 ],
 "metadata": {
  "kernelspec": {
   "display_name": ".venv",
   "language": "python",
   "name": "python3"
  },
  "language_info": {
   "codemirror_mode": {
    "name": "ipython",
    "version": 3
   },
   "file_extension": ".py",
   "mimetype": "text/x-python",
   "name": "python",
   "nbconvert_exporter": "python",
   "pygments_lexer": "ipython3",
   "version": "3.12.6"
  }
 },
 "nbformat": 4,
 "nbformat_minor": 2
}
