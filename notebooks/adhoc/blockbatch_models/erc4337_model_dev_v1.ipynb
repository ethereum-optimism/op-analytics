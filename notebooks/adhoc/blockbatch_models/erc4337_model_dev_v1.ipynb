{
 "cells": [
  {
   "cell_type": "markdown",
   "metadata": {},
   "source": [
    "## Prepare data reader and model execution context"
   ]
  },
  {
   "cell_type": "code",
   "execution_count": 6,
   "metadata": {},
   "outputs": [
    {
     "name": "stdout",
     "output_type": "stream",
     "text": [
      "\u001b[2m2025-02-10 20:56:09\u001b[0m [\u001b[32m\u001b[1minfo     \u001b[0m] \u001b[1mprepared 2 input batches.     \u001b[0m \u001b[36mfilename\u001b[0m=\u001b[35mbyblock.py\u001b[0m \u001b[36mlineno\u001b[0m=\u001b[35m88\u001b[0m \u001b[36mprocess\u001b[0m=\u001b[35m37187\u001b[0m\n",
      "DataReader(partitions=Partition(cols=[PartitionColumn(name='chain',\n",
      "                                                      value='base'),\n",
      "                                      PartitionColumn(name='dt',\n",
      "                                                      value='2025-02-01')]),\n",
      "           read_from=DataLocation.GCS,\n",
      "           dataset_paths={'blockbatch/account_abstraction_prefilter/entrypoint_logs_v1': ['gs://oplabs-tools-data-sink/blockbatch/account_abstraction_prefilter/entrypoint_logs_v1/chain=base/dt=2025-02-01/000025820800.parquet'],\n",
      "                          'blockbatch/account_abstraction_prefilter/entrypoint_traces_v1': ['gs://oplabs-tools-data-sink/blockbatch/account_abstraction_prefilter/entrypoint_traces_v1/chain=base/dt=2025-02-01/000025820800.parquet']},\n",
      "           inputs_ready=True,\n",
      "           extra_marker_data={'max_block': 25821200,\n",
      "                              'min_block': 25820800,\n",
      "                              'num_blocks': 400})\n",
      "\u001b[2m2025-02-10 20:56:09\u001b[0m [\u001b[32m\u001b[1minfo     \u001b[0m] \u001b[1mreading dataset='blockbatch/account_abstraction_prefilter/entrypoint_logs_v1' using 1/1 parquet paths, first path is gs://oplabs-tools-data-sink/blockbatch/account_abstraction_prefilter/entrypoint_logs_v1/chain=base/dt=2025-02-01/000025820800.parquet\u001b[0m \u001b[36mfilename\u001b[0m=\u001b[35mreader.py\u001b[0m \u001b[36mlineno\u001b[0m=\u001b[35m81\u001b[0m \u001b[36mprocess\u001b[0m=\u001b[35m37187\u001b[0m\n",
      "\u001b[2m2025-02-10 20:56:09\u001b[0m [\u001b[32m\u001b[1minfo     \u001b[0m] \u001b[1mreading dataset='blockbatch/account_abstraction_prefilter/entrypoint_traces_v1' using 1/1 parquet paths, first path is gs://oplabs-tools-data-sink/blockbatch/account_abstraction_prefilter/entrypoint_traces_v1/chain=base/dt=2025-02-01/000025820800.parquet\u001b[0m \u001b[36mfilename\u001b[0m=\u001b[35mreader.py\u001b[0m \u001b[36mlineno\u001b[0m=\u001b[35m81\u001b[0m \u001b[36mprocess\u001b[0m=\u001b[35m37187\u001b[0m\n",
      "\n",
      "INPUT: blockbatch/account_abstraction_prefilter/entrypoint_logs_v1\n",
      "INPUT: blockbatch/account_abstraction_prefilter/entrypoint_traces_v1\n",
      "\n",
      "AUX TEMPLATE: account_abstraction/useroperationevent_logs\n",
      "AUX TEMPLATE: account_abstraction/enriched_entrypoint_traces\n",
      "AUX TEMPLATE: account_abstraction/data_quality_check_01\n",
      "AUX TEMPLATE: account_abstraction/data_quality_check_02\n"
     ]
    }
   ],
   "source": [
    "from pprint import pprint\n",
    "\n",
    "from op_analytics.coreutils.partitioned.location import DataLocation\n",
    "from op_analytics.coreutils.partitioned.reader import DataReader\n",
    "from op_analytics.datapipeline.etl.ingestion.reader.byblock import construct_readers_byblock\n",
    "from op_analytics.datapipeline.etl.ingestion.reader.request import BlockBatchRequest\n",
    "from op_analytics.datapipeline.models.compute.markers import ModelsDataSpec\n",
    "from op_analytics.datapipeline.models.compute.testutils import setup_execution_context\n",
    "\n",
    "model_name = \"account_abstraction\"\n",
    "\n",
    "\n",
    "# Select a model.\n",
    "data_spec = ModelsDataSpec(root_path_prefix=\"blockbatch\", models=[model_name])\n",
    "\n",
    "# Select a block batch.\n",
    "blockbatch_request = BlockBatchRequest.build(\n",
    "    chains=[\"base\"],\n",
    "    range_spec=\"25821200:+1\",\n",
    "    root_paths_to_read=data_spec.input_root_paths,\n",
    ")\n",
    "\n",
    "# Construct readers\n",
    "readers: list[DataReader] = construct_readers_byblock(\n",
    "    blockbatch_request=blockbatch_request,\n",
    "    read_from=DataLocation.GCS,\n",
    ")\n",
    "\n",
    "# Show details for the batch we are processing.\n",
    "pprint(readers[0])\n",
    "\n",
    "# Ensure existence of data needed by the reader.\n",
    "assert readers[0].inputs_ready\n",
    "\n",
    "# Set up execution context and get handles to model input args.\n",
    "# In subsequent cells you can use the model input args however you want.\n",
    "ctx, input_datasets, auxiliary_templates = setup_execution_context(\n",
    "    model_name=model_name,\n",
    "    data_reader=readers[0],  # use the first reader\n",
    ")\n"
   ]
  },
  {
   "cell_type": "code",
   "execution_count": 7,
   "metadata": {},
   "outputs": [
    {
     "name": "stdout",
     "output_type": "stream",
     "text": [
      "\u001b[2m2025-02-10 20:56:09\u001b[0m [\u001b[33m\u001b[1mwarning  \u001b[0m] \u001b[1mduckdb function is already registered: decode_useroperationevent\u001b[0m \u001b[36mfilename\u001b[0m=\u001b[35mregister.py\u001b[0m \u001b[36mlineno\u001b[0m=\u001b[35m24\u001b[0m \u001b[36mprocess\u001b[0m=\u001b[35m37187\u001b[0m\n",
      "\u001b[2m2025-02-10 20:56:09\u001b[0m [\u001b[33m\u001b[1mwarning  \u001b[0m] \u001b[1mduckdb function is already registered: decode_innerhandleop\u001b[0m \u001b[36mfilename\u001b[0m=\u001b[35mregister.py\u001b[0m \u001b[36mlineno\u001b[0m=\u001b[35m24\u001b[0m \u001b[36mprocess\u001b[0m=\u001b[35m37187\u001b[0m\n",
      "\u001b[2m2025-02-10 20:56:09\u001b[0m [\u001b[32m\u001b[1minfo     \u001b[0m] \u001b[1mconstructed read_parquet() string with 1 paths\u001b[0m \u001b[36mfilename\u001b[0m=\u001b[35mclient.py\u001b[0m \u001b[36mlineno\u001b[0m=\u001b[35m263\u001b[0m \u001b[36mprocess\u001b[0m=\u001b[35m37187\u001b[0m\n",
      "\u001b[2m2025-02-10 20:56:09\u001b[0m [\u001b[32m\u001b[1minfo     \u001b[0m] \u001b[1mRendering query               \u001b[0m \u001b[36mfilename\u001b[0m=\u001b[35mquerybuilder.py\u001b[0m \u001b[36mlineno\u001b[0m=\u001b[35m40\u001b[0m \u001b[36mprocess\u001b[0m=\u001b[35m37187\u001b[0m \u001b[36mtemplate\u001b[0m=\u001b[35maccount_abstraction/useroperationevent_logs\u001b[0m\n",
      "\u001b[2m2025-02-10 20:56:10\u001b[0m [\u001b[32m\u001b[1minfo     \u001b[0m] \u001b[1mduck db size: 48.2MB          \u001b[0m \u001b[36mfilename\u001b[0m=\u001b[35mclient.py\u001b[0m \u001b[36mlineno\u001b[0m=\u001b[35m36\u001b[0m \u001b[36mprocess\u001b[0m=\u001b[35m37187\u001b[0m\n"
     ]
    }
   ],
   "source": [
    "from op_analytics.datapipeline.models.code.account_abstraction.decoders import (\n",
    "    register_4337_decoders,\n",
    ")\n",
    "\n",
    "register_4337_decoders(ctx)\n",
    "\n",
    "from op_analytics.datapipeline.models.code.account_abstraction.abis import (\n",
    "    INNER_HANDLE_OP_FUNCTION_METHOD_ID_v0_6_0,\n",
    "    INNER_HANDLE_OP_FUNCTION_METHOD_ID_v0_7_0,\n",
    ")\n",
    "\n",
    "\n",
    "# Decoded UserOperationEvent logs.\n",
    "user_ops = auxiliary_templates[\"account_abstraction/useroperationevent_logs\"].create_table(\n",
    "    duckdb_context=ctx,\n",
    "    template_parameters={\n",
    "        \"raw_logs\": input_datasets[\"blockbatch/account_abstraction_prefilter/entrypoint_logs_v1\"].as_subquery(),\n",
    "    },\n",
    ")\n",
    "\n"
   ]
  },
  {
   "cell_type": "code",
   "execution_count": 8,
   "metadata": {},
   "outputs": [
    {
     "name": "stdout",
     "output_type": "stream",
     "text": [
      "\u001b[2m2025-02-10 20:56:10\u001b[0m [\u001b[32m\u001b[1minfo     \u001b[0m] \u001b[1mconstructed read_parquet() string with 1 paths\u001b[0m \u001b[36mfilename\u001b[0m=\u001b[35mclient.py\u001b[0m \u001b[36mlineno\u001b[0m=\u001b[35m263\u001b[0m \u001b[36mprocess\u001b[0m=\u001b[35m37187\u001b[0m\n",
      "\u001b[2m2025-02-10 20:56:10\u001b[0m [\u001b[32m\u001b[1minfo     \u001b[0m] \u001b[1mRendering query               \u001b[0m \u001b[36mfilename\u001b[0m=\u001b[35mquerybuilder.py\u001b[0m \u001b[36mlineno\u001b[0m=\u001b[35m40\u001b[0m \u001b[36mprocess\u001b[0m=\u001b[35m37187\u001b[0m \u001b[36mtemplate\u001b[0m=\u001b[35maccount_abstraction/enriched_entrypoint_traces\u001b[0m\n",
      "\u001b[2m2025-02-10 20:56:12\u001b[0m [\u001b[32m\u001b[1minfo     \u001b[0m] \u001b[1mduck db size: 48.2MB          \u001b[0m \u001b[36mfilename\u001b[0m=\u001b[35mclient.py\u001b[0m \u001b[36mlineno\u001b[0m=\u001b[35m36\u001b[0m \u001b[36mprocess\u001b[0m=\u001b[35m37187\u001b[0m\n"
     ]
    }
   ],
   "source": [
    "# Traces initiated on behalf of the UserOperationEvent sender\n",
    "entrypoint_traces = auxiliary_templates[\"account_abstraction/enriched_entrypoint_traces\"].create_table(\n",
    "    duckdb_context=ctx,\n",
    "    template_parameters={\n",
    "        \"prefiltered_traces\": input_datasets[\"blockbatch/account_abstraction_prefilter/entrypoint_traces_v1\"].as_subquery(),\n",
    "        \"innerhandleop_method_ids\": \", \".join(\n",
    "            [\n",
    "                f\"'{INNER_HANDLE_OP_FUNCTION_METHOD_ID_v0_6_0}'\",\n",
    "                f\"'{INNER_HANDLE_OP_FUNCTION_METHOD_ID_v0_7_0}'\",\n",
    "            ]\n",
    "        ),\n",
    "    },\n",
    ")"
   ]
  },
  {
   "cell_type": "code",
   "execution_count": 9,
   "metadata": {},
   "outputs": [
    {
     "name": "stdout",
     "output_type": "stream",
     "text": [
      "\u001b[2m2025-02-10 20:56:12\u001b[0m [\u001b[32m\u001b[1minfo     \u001b[0m] \u001b[1mRendering query               \u001b[0m \u001b[36mfilename\u001b[0m=\u001b[35mquerybuilder.py\u001b[0m \u001b[36mlineno\u001b[0m=\u001b[35m40\u001b[0m \u001b[36mprocess\u001b[0m=\u001b[35m37187\u001b[0m \u001b[36mtemplate\u001b[0m=\u001b[35maccount_abstraction/data_quality_check_01\u001b[0m\n"
     ]
    },
    {
     "data": {
      "text/plain": [
       "[]"
      ]
     },
     "execution_count": 9,
     "metadata": {},
     "output_type": "execute_result"
    }
   ],
   "source": [
    "auxiliary_templates[\"account_abstraction/data_quality_check_01\"].run_as_data_quality_check(ctx)"
   ]
  },
  {
   "cell_type": "code",
   "execution_count": 10,
   "metadata": {},
   "outputs": [
    {
     "name": "stdout",
     "output_type": "stream",
     "text": [
      "\u001b[2m2025-02-10 20:56:12\u001b[0m [\u001b[32m\u001b[1minfo     \u001b[0m] \u001b[1mRendering query               \u001b[0m \u001b[36mfilename\u001b[0m=\u001b[35mquerybuilder.py\u001b[0m \u001b[36mlineno\u001b[0m=\u001b[35m40\u001b[0m \u001b[36mprocess\u001b[0m=\u001b[35m37187\u001b[0m \u001b[36mtemplate\u001b[0m=\u001b[35maccount_abstraction/data_quality_check_02\u001b[0m\n"
     ]
    },
    {
     "data": {
      "text/plain": [
       "[]"
      ]
     },
     "execution_count": 10,
     "metadata": {},
     "output_type": "execute_result"
    }
   ],
   "source": [
    "auxiliary_templates[\"account_abstraction/data_quality_check_02\"].run_as_data_quality_check(ctx)"
   ]
  },
  {
   "cell_type": "code",
   "execution_count": 11,
   "metadata": {},
   "outputs": [
    {
     "data": {
      "text/plain": [
       "┌─────────────────────────────────────────────────┐\n",
       "│                      name                       │\n",
       "│                     varchar                     │\n",
       "├─────────────────────────────────────────────────┤\n",
       "│ account_abstraction__enriched_entrypoint_traces │\n",
       "│ account_abstraction__useroperationevent_logs    │\n",
       "└─────────────────────────────────────────────────┘"
      ]
     },
     "execution_count": 11,
     "metadata": {},
     "output_type": "execute_result"
    }
   ],
   "source": [
    "ctx.client.sql(\"SHOW TABLES\")"
   ]
  },
  {
   "cell_type": "code",
   "execution_count": 12,
   "metadata": {},
   "outputs": [
    {
     "name": "stdout",
     "output_type": "stream",
     "text": [
      "┌────────────────────────────────────────────────────────────────────┬────────────┬───────────────┬──────────────────────────────┬────────────────────────────────────────────┬───────────────────────────────┬────────────────────────────────────────────┬────────────────────────────────────────────┬────────────────────────────────────────────┐\n",
      "│                          transaction_hash                          │ trace_root │ trace_address │ matched_userop_trace_address │           matched_userop_sender            │ is_from_matched_userop_sender │        innerhandleop_opinfo_sender         │                from_address                │                 to_address                 │\n",
      "│                              varchar                               │   int32    │    varchar    │           varchar            │                  varchar                   │            boolean            │                  varchar                   │                  varchar                   │                  varchar                   │\n",
      "├────────────────────────────────────────────────────────────────────┼────────────┼───────────────┼──────────────────────────────┼────────────────────────────────────────────┼───────────────────────────────┼────────────────────────────────────────────┼────────────────────────────────────────────┼────────────────────────────────────────────┤\n",
      "│ 0x85dc9e8463b762edcd134a885a8575ed5c6ab0484223ff33856bb3fec838c552 │         -1 │               │ NULL                         │ NULL                                       │ NULL                          │ NULL                                       │ 0x3680e234283e149c859f9c173327676eb31e6f2c │ 0x5ff137d4b0fdcd49dca30c7cf57e578a026d2789 │\n",
      "│ 0x85dc9e8463b762edcd134a885a8575ed5c6ab0484223ff33856bb3fec838c552 │          0 │ 0             │ NULL                         │ NULL                                       │ NULL                          │ NULL                                       │ 0x5ff137d4b0fdcd49dca30c7cf57e578a026d2789 │ 0xbc10fc416af0bbad9f3be804c028d02f42729be9 │\n",
      "│ 0x85dc9e8463b762edcd134a885a8575ed5c6ab0484223ff33856bb3fec838c552 │          0 │ 0,0,0         │ NULL                         │ NULL                                       │ NULL                          │ NULL                                       │ 0xbc10fc416af0bbad9f3be804c028d02f42729be9 │ 0x0000000000000000000000000000000000000001 │\n",
      "│ 0x85dc9e8463b762edcd134a885a8575ed5c6ab0484223ff33856bb3fec838c552 │          1 │ 1             │ NULL                         │ NULL                                       │ NULL                          │ NULL                                       │ 0x5ff137d4b0fdcd49dca30c7cf57e578a026d2789 │ 0x2faeb0760d4230ef2ac21496bb4f0b47d634fd4c │\n",
      "│ 0x85dc9e8463b762edcd134a885a8575ed5c6ab0484223ff33856bb3fec838c552 │          1 │ 1,0           │ NULL                         │ NULL                                       │ NULL                          │ NULL                                       │ 0x2faeb0760d4230ef2ac21496bb4f0b47d634fd4c │ 0x0000000000000000000000000000000000000001 │\n",
      "│ 0x85dc9e8463b762edcd134a885a8575ed5c6ab0484223ff33856bb3fec838c552 │          2 │ 2             │ NULL                         │ NULL                                       │ NULL                          │ NULL                                       │ 0x5ff137d4b0fdcd49dca30c7cf57e578a026d2789 │ 0x2eabe2605c7c6b4318096026205c8b63fd6f833f │\n",
      "│ 0x85dc9e8463b762edcd134a885a8575ed5c6ab0484223ff33856bb3fec838c552 │          2 │ 2,0,0         │ NULL                         │ NULL                                       │ NULL                          │ NULL                                       │ 0x2eabe2605c7c6b4318096026205c8b63fd6f833f │ 0x0000000000000000000000000000000000000001 │\n",
      "│ 0x85dc9e8463b762edcd134a885a8575ed5c6ab0484223ff33856bb3fec838c552 │          3 │ 3             │ NULL                         │ NULL                                       │ NULL                          │ NULL                                       │ 0x5ff137d4b0fdcd49dca30c7cf57e578a026d2789 │ 0xb174c63cc8272a81a17fa215489be1348b6a7bf9 │\n",
      "│ 0x85dc9e8463b762edcd134a885a8575ed5c6ab0484223ff33856bb3fec838c552 │          3 │ 3,0,0         │ NULL                         │ NULL                                       │ NULL                          │ NULL                                       │ 0xb174c63cc8272a81a17fa215489be1348b6a7bf9 │ 0x0000000000000000000000000000000000000001 │\n",
      "│ 0x85dc9e8463b762edcd134a885a8575ed5c6ab0484223ff33856bb3fec838c552 │          4 │ 4             │ NULL                         │ NULL                                       │ NULL                          │ NULL                                       │ 0x5ff137d4b0fdcd49dca30c7cf57e578a026d2789 │ 0x2534b7395f210c35c7b2b4ace6855c645704e2d3 │\n",
      "│ 0x85dc9e8463b762edcd134a885a8575ed5c6ab0484223ff33856bb3fec838c552 │          4 │ 4,0,0         │ NULL                         │ NULL                                       │ NULL                          │ NULL                                       │ 0x2534b7395f210c35c7b2b4ace6855c645704e2d3 │ 0x0000000000000000000000000000000000000001 │\n",
      "│ 0x85dc9e8463b762edcd134a885a8575ed5c6ab0484223ff33856bb3fec838c552 │          5 │ 5             │ NULL                         │ NULL                                       │ NULL                          │ NULL                                       │ 0x5ff137d4b0fdcd49dca30c7cf57e578a026d2789 │ 0x074b61bba4871f869f7bdb1aff1da17f497673b1 │\n",
      "│ 0x85dc9e8463b762edcd134a885a8575ed5c6ab0484223ff33856bb3fec838c552 │          5 │ 5,0,0         │ NULL                         │ NULL                                       │ NULL                          │ NULL                                       │ 0x074b61bba4871f869f7bdb1aff1da17f497673b1 │ 0x0000000000000000000000000000000000000001 │\n",
      "│ 0x85dc9e8463b762edcd134a885a8575ed5c6ab0484223ff33856bb3fec838c552 │          6 │ 6             │ 6                            │ 0xbc10fc416af0bbad9f3be804c028d02f42729be9 │ false                         │ 0xbc10fc416af0bbad9f3be804c028d02f42729be9 │ 0x5ff137d4b0fdcd49dca30c7cf57e578a026d2789 │ 0x5ff137d4b0fdcd49dca30c7cf57e578a026d2789 │\n",
      "│ 0x85dc9e8463b762edcd134a885a8575ed5c6ab0484223ff33856bb3fec838c552 │          6 │ 6,0           │ 6                            │ 0xbc10fc416af0bbad9f3be804c028d02f42729be9 │ false                         │ NULL                                       │ 0x5ff137d4b0fdcd49dca30c7cf57e578a026d2789 │ 0xbc10fc416af0bbad9f3be804c028d02f42729be9 │\n",
      "│ 0x85dc9e8463b762edcd134a885a8575ed5c6ab0484223ff33856bb3fec838c552 │          6 │ 6,0,0,0       │ 6                            │ 0xbc10fc416af0bbad9f3be804c028d02f42729be9 │ true                          │ NULL                                       │ 0xbc10fc416af0bbad9f3be804c028d02f42729be9 │ 0xe55fee191604cdbeb874f87a28ca89aed401c303 │\n",
      "│ 0x85dc9e8463b762edcd134a885a8575ed5c6ab0484223ff33856bb3fec838c552 │          6 │ 6,1           │ 6                            │ 0xbc10fc416af0bbad9f3be804c028d02f42729be9 │ false                         │ NULL                                       │ 0x5ff137d4b0fdcd49dca30c7cf57e578a026d2789 │ 0x2faeb0760d4230ef2ac21496bb4f0b47d634fd4c │\n",
      "│ 0x85dc9e8463b762edcd134a885a8575ed5c6ab0484223ff33856bb3fec838c552 │          7 │ 7             │ 7                            │ 0x2eabe2605c7c6b4318096026205c8b63fd6f833f │ false                         │ 0x2eabe2605c7c6b4318096026205c8b63fd6f833f │ 0x5ff137d4b0fdcd49dca30c7cf57e578a026d2789 │ 0x5ff137d4b0fdcd49dca30c7cf57e578a026d2789 │\n",
      "│ 0x85dc9e8463b762edcd134a885a8575ed5c6ab0484223ff33856bb3fec838c552 │          7 │ 7,0           │ 7                            │ 0x2eabe2605c7c6b4318096026205c8b63fd6f833f │ false                         │ NULL                                       │ 0x5ff137d4b0fdcd49dca30c7cf57e578a026d2789 │ 0x2eabe2605c7c6b4318096026205c8b63fd6f833f │\n",
      "│ 0x85dc9e8463b762edcd134a885a8575ed5c6ab0484223ff33856bb3fec838c552 │          7 │ 7,0,0,0       │ 7                            │ 0x2eabe2605c7c6b4318096026205c8b63fd6f833f │ true                          │ NULL                                       │ 0x2eabe2605c7c6b4318096026205c8b63fd6f833f │ 0xe55fee191604cdbeb874f87a28ca89aed401c303 │\n",
      "│ 0x85dc9e8463b762edcd134a885a8575ed5c6ab0484223ff33856bb3fec838c552 │          8 │ 8             │ 8                            │ 0xb174c63cc8272a81a17fa215489be1348b6a7bf9 │ false                         │ 0xb174c63cc8272a81a17fa215489be1348b6a7bf9 │ 0x5ff137d4b0fdcd49dca30c7cf57e578a026d2789 │ 0x5ff137d4b0fdcd49dca30c7cf57e578a026d2789 │\n",
      "│ 0x85dc9e8463b762edcd134a885a8575ed5c6ab0484223ff33856bb3fec838c552 │          8 │ 8,0           │ 8                            │ 0xb174c63cc8272a81a17fa215489be1348b6a7bf9 │ false                         │ NULL                                       │ 0x5ff137d4b0fdcd49dca30c7cf57e578a026d2789 │ 0xb174c63cc8272a81a17fa215489be1348b6a7bf9 │\n",
      "│ 0x85dc9e8463b762edcd134a885a8575ed5c6ab0484223ff33856bb3fec838c552 │          8 │ 8,0,0,0       │ 8                            │ 0xb174c63cc8272a81a17fa215489be1348b6a7bf9 │ true                          │ NULL                                       │ 0xb174c63cc8272a81a17fa215489be1348b6a7bf9 │ 0xe55fee191604cdbeb874f87a28ca89aed401c303 │\n",
      "│ 0x85dc9e8463b762edcd134a885a8575ed5c6ab0484223ff33856bb3fec838c552 │          9 │ 9             │ 9                            │ 0x2534b7395f210c35c7b2b4ace6855c645704e2d3 │ false                         │ 0x2534b7395f210c35c7b2b4ace6855c645704e2d3 │ 0x5ff137d4b0fdcd49dca30c7cf57e578a026d2789 │ 0x5ff137d4b0fdcd49dca30c7cf57e578a026d2789 │\n",
      "│ 0x85dc9e8463b762edcd134a885a8575ed5c6ab0484223ff33856bb3fec838c552 │          9 │ 9,0           │ 9                            │ 0x2534b7395f210c35c7b2b4ace6855c645704e2d3 │ false                         │ NULL                                       │ 0x5ff137d4b0fdcd49dca30c7cf57e578a026d2789 │ 0x2534b7395f210c35c7b2b4ace6855c645704e2d3 │\n",
      "│ 0x85dc9e8463b762edcd134a885a8575ed5c6ab0484223ff33856bb3fec838c552 │          9 │ 9,0,0,0       │ 9                            │ 0x2534b7395f210c35c7b2b4ace6855c645704e2d3 │ true                          │ NULL                                       │ 0x2534b7395f210c35c7b2b4ace6855c645704e2d3 │ 0xe55fee191604cdbeb874f87a28ca89aed401c303 │\n",
      "│ 0x85dc9e8463b762edcd134a885a8575ed5c6ab0484223ff33856bb3fec838c552 │         10 │ 10            │ 10                           │ 0x074b61bba4871f869f7bdb1aff1da17f497673b1 │ false                         │ 0x074b61bba4871f869f7bdb1aff1da17f497673b1 │ 0x5ff137d4b0fdcd49dca30c7cf57e578a026d2789 │ 0x5ff137d4b0fdcd49dca30c7cf57e578a026d2789 │\n",
      "│ 0x85dc9e8463b762edcd134a885a8575ed5c6ab0484223ff33856bb3fec838c552 │         10 │ 10,0          │ 10                           │ 0x074b61bba4871f869f7bdb1aff1da17f497673b1 │ false                         │ NULL                                       │ 0x5ff137d4b0fdcd49dca30c7cf57e578a026d2789 │ 0x074b61bba4871f869f7bdb1aff1da17f497673b1 │\n",
      "│ 0x85dc9e8463b762edcd134a885a8575ed5c6ab0484223ff33856bb3fec838c552 │         10 │ 10,0,0,0      │ 10                           │ 0x074b61bba4871f869f7bdb1aff1da17f497673b1 │ true                          │ NULL                                       │ 0x074b61bba4871f869f7bdb1aff1da17f497673b1 │ 0xe55fee191604cdbeb874f87a28ca89aed401c303 │\n",
      "│ 0x85dc9e8463b762edcd134a885a8575ed5c6ab0484223ff33856bb3fec838c552 │         11 │ 11            │ NULL                         │ NULL                                       │ NULL                          │ NULL                                       │ 0x5ff137d4b0fdcd49dca30c7cf57e578a026d2789 │ 0x3680e234283e149c859f9c173327676eb31e6f2c │\n",
      "├────────────────────────────────────────────────────────────────────┴────────────┴───────────────┴──────────────────────────────┴────────────────────────────────────────────┴───────────────────────────────┴────────────────────────────────────────────┴────────────────────────────────────────────┴────────────────────────────────────────────┤\n",
      "│ 30 rows                                                                                                                                                                                                                                                                                                                                  9 columns │\n",
      "└────────────────────────────────────────────────────────────────────────────────────────────────────────────────────────────────────────────────────────────────────────────────────────────────────────────────────────────────────────────────────────────────────────────────────────────────────────────────────────────────────────────────────┘\n",
      "\n"
     ]
    }
   ],
   "source": [
    "ctx.client.sql(f\"\"\"\n",
    "    SELECT \n",
    "        transaction_hash, \n",
    "        trace_root, \n",
    "        trace_address, \n",
    "        matched_userop_trace_address, \n",
    "        matched_userop_sender, \n",
    "        is_from_matched_userop_sender, \n",
    "        innerhandleop_opinfo_sender, \n",
    "        from_address, \n",
    "        to_address\n",
    "    FROM {entrypoint_traces} \n",
    "    WHERE transaction_hash = '0x85dc9e8463b762edcd134a885a8575ed5c6ab0484223ff33856bb3fec838c552'\n",
    "    ORDER BY TRY_CAST(trace_root AS INT), trace_address\n",
    "\"\"\").show(max_rows=100)"
   ]
  },
  {
   "cell_type": "code",
   "execution_count": 49,
   "metadata": {},
   "outputs": [
    {
     "name": "stdout",
     "output_type": "stream",
     "text": [
      "┌─────────────────────────────────┬─────────┬────────────────────────────────────────────────────────────────────────────────────────────────────────────────────────────────────────────────────────────────────────────────────────────────────────────────────────────────────────────────────────────────────┐\n",
      "│             Column              │  Type   │                                                                                                                               Row 1                                                                                                                                │\n",
      "├─────────────────────────────────┼─────────┼────────────────────────────────────────────────────────────────────────────────────────────────────────────────────────────────────────────────────────────────────────────────────────────────────────────────────────────────────────────────────────────────────┤\n",
      "│ dt                              │ date    │                                                                                                                                                                                                                                                         2025-02-01 │\n",
      "│ chain                           │ varchar │                                                                                                                                                                                                                                                               base │\n",
      "│ chain_id                        │ int32   │                                                                                                                                                                                                                                                               8453 │\n",
      "│ network                         │ varchar │                                                                                                                                                                                                                                                            mainnet │\n",
      "│ block_timestamp                 │ uint32  │                                                                                                                                                                                                                                                         1738431529 │\n",
      "│ block_number                    │ int64   │                                                                                                                                                                                                                                                           25821091 │\n",
      "│ block_hash                      │ varchar │                                                                                                                                                                                                 0x1e914a9c01661fcc72bb0e277fe4fa3898cbdecff9225df8d658760ecda59e5d │\n",
      "│ transaction_hash                │ varchar │                                                                                                                                                                                                 0x85dc9e8463b762edcd134a885a8575ed5c6ab0484223ff33856bb3fec838c552 │\n",
      "│ transaction_index               │ int64   │                                                                                                                                                                                                                                                                141 │\n",
      "│ from_address                    │ varchar │                                                                                                                                                                                                                         0x074b61bba4871f869f7bdb1aff1da17f497673b1 │\n",
      "│ to_address                      │ varchar │                                                                                                                                                                                                                         0x0000000000000000000000000000000000000001 │\n",
      "│ value_lossless                  │ varchar │                                                                                                                                                                                                                                                                  0 │\n",
      "│ input                           │ varchar │ 0x015a2068426eab06eea0e2c9f44e1dc59d3a9b96c7d1393edcd68b8fc59fa83b000000000000000000000000000000000000000000000000000000000000001b2dbbe87d249df2a55e3c01468acd24a4ee047e15398886a1bb6790f3a242527265c2a3ea4f34fefb0e02c04fd1143db3b5e3c62bcfaf8123935699f3eeedb08e │\n",
      "│ output                          │ varchar │                                                                                                                                                                                                 0x0000000000000000000000005f0537676fefec7c8a9772bb23ab9d32c64b5608 │\n",
      "│ trace_type                      │ varchar │                                                                                                                                                                                                                                                               call │\n",
      "│ call_type                       │ varchar │                                                                                                                                                                                                                                                         staticcall │\n",
      "│ reward_type                     │ varchar │                                                                                                                                                                                                                                                                    │\n",
      "│ gas                             │ int64   │                                                                                                                                                                                                                                                              58946 │\n",
      "│ gas_used                        │ int64   │                                                                                                                                                                                                                                                               3000 │\n",
      "│ subtraces                       │ int64   │                                                                                                                                                                                                                                                                  0 │\n",
      "│ trace_address                   │ varchar │                                                                                                                                                                                                                                                              5,0,0 │\n",
      "│ error                           │ varchar │                                                                                                                                                                                                                                                                    │\n",
      "│ status                          │ int64   │                                                                                                                                                                                                                                                                  1 │\n",
      "│ trace_root                      │ int32   │                                                                                                                                                                                                                                                                  5 │\n",
      "│ method_id                       │ varchar │                                                                                                                                                                                                                                                         0x015a2068 │\n",
      "│ innerhandleop_decodeerror       │ varchar │                                                                                                                                                                                                                                                               NULL │\n",
      "│ innerhandleop_opinfo_sender     │ varchar │                                                                                                                                                                                                                                                               NULL │\n",
      "│ innerhandleop_opinfo_paymaster  │ varchar │                                                                                                                                                                                                                                                               NULL │\n",
      "│ innerhandleop_opinfo_userophash │ varchar │                                                                                                                                                                                                                                                               NULL │\n",
      "│ innerhandleop_opinfo            │ varchar │                                                                                                                                                                                                                                                               NULL │\n",
      "│ innerhandleop_context           │ varchar │                                                                                                                                                                                                                                                               NULL │\n",
      "│ innerhandleop_calldata          │ varchar │                                                                                                                                                                                                                                                               NULL │\n",
      "│ matched_userop_trace_address    │ varchar │                                                                                                                                                                                                                                                               NULL │\n",
      "│ matched_userop_sender           │ varchar │                                                                                                                                                                                                                                                               NULL │\n",
      "│ is_from_matched_userop_sender   │ boolean │                                                                                                                                                                                                                                                               NULL │\n",
      "└─────────────────────────────────┴─────────┴────────────────────────────────────────────────────────────────────────────────────────────────────────────────────────────────────────────────────────────────────────────────────────────────────────────────────────────────────────────────────────────────────┘\n",
      "\n"
     ]
    }
   ],
   "source": [
    "ctx.client.sql(f\"\"\"\n",
    "    SELECT \n",
    "        *\n",
    "    FROM {entrypoint_traces} \n",
    "    WHERE transaction_hash = '0x85dc9e8463b762edcd134a885a8575ed5c6ab0484223ff33856bb3fec838c552'\n",
    "    AND trace_address = '5,0,0'\n",
    "    ORDER BY TRY_CAST(trace_root AS INT), trace_address\n",
    "\"\"\").show(render_mode=1, max_width=360, max_col_width=32)"
   ]
  },
  {
   "cell_type": "code",
   "execution_count": 48,
   "metadata": {},
   "outputs": [
    {
     "name": "stdout",
     "output_type": "stream",
     "text": [
      "┌─────────────────────────────────┬─────────┬──────────────────────────────────────────────────────────────────────────────────────────────────────────────────────────────────────────────────────────────────────────────────────────────────────────────────────────────────────────────────────────────────────────────────────────────────────────────────────────┐\n",
      "│             Column              │  Type   │                                                                                                                                                          Row 1                                                                                                                                                           │\n",
      "├─────────────────────────────────┼─────────┼──────────────────────────────────────────────────────────────────────────────────────────────────────────────────────────────────────────────────────────────────────────────────────────────────────────────────────────────────────────────────────────────────────────────────────────────────────────────────────────┤\n",
      "│ dt                              │ date    │                                                                                                                                                                                                                                                                                                               2025-02-01 │\n",
      "│ chain                           │ varchar │                                                                                                                                                                                                                                                                                                                     base │\n",
      "│ chain_id                        │ int32   │                                                                                                                                                                                                                                                                                                                     8453 │\n",
      "│ network                         │ varchar │                                                                                                                                                                                                                                                                                                                  mainnet │\n",
      "│ block_timestamp                 │ uint32  │                                                                                                                                                                                                                                                                                                               1738431529 │\n",
      "│ block_number                    │ int64   │                                                                                                                                                                                                                                                                                                                 25821091 │\n",
      "│ block_hash                      │ varchar │                                                                                                                                                                                                                                                       0x1e914a9c01661fcc72bb0e277fe4fa3898cbdecff9225df8d658760ecda59e5d │\n",
      "│ transaction_hash                │ varchar │                                                                                                                                                                                                                                                       0x85dc9e8463b762edcd134a885a8575ed5c6ab0484223ff33856bb3fec838c552 │\n",
      "│ transaction_index               │ int64   │                                                                                                                                                                                                                                                                                                                      141 │\n",
      "│ from_address                    │ varchar │                                                                                                                                                                                                                                                                               0x5ff137d4b0fdcd49dca30c7cf57e578a026d2789 │\n",
      "│ to_address                      │ varchar │                                                                                                                                                                                                                                                                               0x5ff137d4b0fdcd49dca30c7cf57e578a026d2789 │\n",
      "│ value_lossless                  │ varchar │                                                                                                                                                                                                                                                                                                                        0 │\n",
      "│ input                           │ varchar │  0x1d73275600000000000000000000000000000000000000000000000000000000000001c0000000000000000000000000bc10fc416af0bbad9f3be804c028d02f42729be900000000000000000000000000000000000000000000000000000000000000170000000000000000000000000000000000000000000000000000000000009bb800000000000000000000000000000000000000000000… │\n",
      "│ output                          │ varchar │                                                                                                                                                                                                                                                       0x0000000000000000000000000000000000000000000000000000010ccb4183a4 │\n",
      "│ trace_type                      │ varchar │                                                                                                                                                                                                                                                                                                                     call │\n",
      "│ call_type                       │ varchar │                                                                                                                                                                                                                                                                                                                     call │\n",
      "│ reward_type                     │ varchar │                                                                                                                                                                                                                                                                                                                          │\n",
      "│ gas                             │ int64   │                                                                                                                                                                                                                                                                                                                   892147 │\n",
      "│ gas_used                        │ int64   │                                                                                                                                                                                                                                                                                                                    48116 │\n",
      "│ subtraces                       │ int64   │                                                                                                                                                                                                                                                                                                                        2 │\n",
      "│ trace_address                   │ varchar │                                                                                                                                                                                                                                                                                                                        6 │\n",
      "│ error                           │ varchar │                                                                                                                                                                                                                                                                                                                          │\n",
      "│ status                          │ int64   │                                                                                                                                                                                                                                                                                                                        1 │\n",
      "│ trace_root                      │ int32   │                                                                                                                                                                                                                                                                                                                        6 │\n",
      "│ method_id                       │ varchar │                                                                                                                                                                                                                                                                                                               0x1d732756 │\n",
      "│ innerhandleop_decodeerror       │ varchar │                                                                                                                                                                                                                                                                                                                     NULL │\n",
      "│ innerhandleop_opinfo_sender     │ varchar │                                                                                                                                                                                                                                                                               0xbc10fc416af0bbad9f3be804c028d02f42729be9 │\n",
      "│ innerhandleop_opinfo_paymaster  │ varchar │                                                                                                                                                                                                                                                                               0x2faeb0760d4230ef2ac21496bb4f0b47d634fd4c │\n",
      "│ innerhandleop_opinfo_userophash │ varchar │                                                                                                                                                                                                                                                       0xc3cde5aba1d69292868339030c7a4af4a796498a73e9534c213693314983f54e │\n",
      "│ innerhandleop_opinfo            │ varchar │                                                         {\"mUserOp\": {\"nonce\": \"23\", \"callGasLimit\": \"39864\", \"verificationGasLimit\": \"64832\", \"preVerificationGas\": \"153504\", \"maxFeePerGas\": \"11756815\", \"maxPriorityFeePerGas\": \"1000000\"}, \"prefund\": \"4560045293160\", \"contextOffset\": \"3360\", \"preOpGas\": \"203539\"} │\n",
      "│ innerhandleop_context           │ varchar │  0x000000000000000000000000bc10fc416af0bbad9f3be804c028d02f42729be9c3cde5aba1d69292868339030c7a4af4a796498a73e9534c213693314983f54e00000000000000000000000000000000eb35ca708c8a4700ad82f02947b87df000000000000000000000000000000000000000000000000000000000000000000000000000000000000000000000000000000000000000000000… │\n",
      "│ innerhandleop_calldata          │ varchar │  0xb61d27f6000000000000000000000000e55fee191604cdbeb874f87a28ca89aed401c303000000000000000000000000000000000000000000000000000000000000000000000000000000000000000000000000000000000000000000000000000000600000000000000000000000000000000000000000000000000000000000000004183ff085000000000000000000000000000000000000… │\n",
      "│ matched_userop_trace_address    │ varchar │                                                                                                                                                                                                                                                                                                                        6 │\n",
      "│ matched_userop_sender           │ varchar │                                                                                                                                                                                                                                                                               0xbc10fc416af0bbad9f3be804c028d02f42729be9 │\n",
      "│ is_from_matched_userop_sender   │ boolean │                                                                                                                                                                                                                                                                                                                    false │\n",
      "└─────────────────────────────────┴─────────┴──────────────────────────────────────────────────────────────────────────────────────────────────────────────────────────────────────────────────────────────────────────────────────────────────────────────────────────────────────────────────────────────────────────────────────────────────────────────────────────┘\n",
      "\n"
     ]
    }
   ],
   "source": [
    "ctx.client.sql(f\"\"\"\n",
    "    SELECT \n",
    "        *\n",
    "    FROM {entrypoint_traces} \n",
    "    WHERE transaction_hash = '0x85dc9e8463b762edcd134a885a8575ed5c6ab0484223ff33856bb3fec838c552'\n",
    "    AND trace_address = '6'\n",
    "    ORDER BY TRY_CAST(trace_root AS INT), trace_address\n",
    "\"\"\").show(render_mode=1, max_width=360, max_col_width=32)"
   ]
  },
  {
   "cell_type": "code",
   "execution_count": 34,
   "metadata": {},
   "outputs": [
    {
     "name": "stdout",
     "output_type": "stream",
     "text": [
      "| dt         | chain | chain_id | network | block_timestamp | block_number | block_hash                                                         | transaction_hash                                                   | transaction_index | log_index | contract_address                           | userophash                                                         | sender                                     | paymaster                                  | decoded_json                                                                           |\n",
      "| ---        | ---   | ---      | ---     | ---             | ---          | ---                                                                | ---                                                                | ---               | ---       | ---                                        | ---                                                                | ---                                        | ---                                        | ---                                                                                    |\n",
      "| date       | str   | i32      | str     | u32             | i64          | str                                                                | str                                                                | i64               | i64       | str                                        | str                                                                | str                                        | str                                        | str                                                                                    |\n",
      "|------------|-------|----------|---------|-----------------|--------------|--------------------------------------------------------------------|--------------------------------------------------------------------|-------------------|-----------|--------------------------------------------|--------------------------------------------------------------------|--------------------------------------------|--------------------------------------------|----------------------------------------------------------------------------------------|\n",
      "| 2025-02-01 | base  | 8453     | mainnet | 1738431529      | 25821091     | 0x1e914a9c01661fcc72bb0e277fe4fa3898cbdecff9225df8d658760ecda59e5d | 0x85dc9e8463b762edcd134a885a8575ed5c6ab0484223ff33856bb3fec838c552 | 141               | 319       | 0x5ff137d4b0fdcd49dca30c7cf57e578a026d2789 | 0xc3cde5aba1d69292868339030c7a4af4a796498a73e9534c213693314983f54e | 0xbc10fc416af0bbad9f3be804c028d02f42729be9 | 0x2faeb0760d4230ef2ac21496bb4f0b47d634fd4c | {\"nonce\":\"23\",\"success\":true,\"actualGasCost\":\"1154461303716\",\"actualGasUsed\":\"245964\"} |\n",
      "| 2025-02-01 | base  | 8453     | mainnet | 1738431529      | 25821091     | 0x1e914a9c01661fcc72bb0e277fe4fa3898cbdecff9225df8d658760ecda59e5d | 0x85dc9e8463b762edcd134a885a8575ed5c6ab0484223ff33856bb3fec838c552 | 141               | 322       | 0x5ff137d4b0fdcd49dca30c7cf57e578a026d2789 | 0xe78b37705a4a3bde14b2c82e3b8e98f33e8a1dbc9ee2961cc6f200844f6b9316 | 0x2eabe2605c7c6b4318096026205c8b63fd6f833f | 0x0000000000000000000000000000000000000000 | {\"nonce\":\"23\",\"success\":true,\"actualGasCost\":\"532333837539\",\"actualGasUsed\":\"107681\"}  |\n",
      "| 2025-02-01 | base  | 8453     | mainnet | 1738431529      | 25821091     | 0x1e914a9c01661fcc72bb0e277fe4fa3898cbdecff9225df8d658760ecda59e5d | 0x85dc9e8463b762edcd134a885a8575ed5c6ab0484223ff33856bb3fec838c552 | 141               | 325       | 0x5ff137d4b0fdcd49dca30c7cf57e578a026d2789 | 0x6c4613999ba020b91c57a7a37dc99ee75c3e6071b7e8901fe6652fd745875a77 | 0xb174c63cc8272a81a17fa215489be1348b6a7bf9 | 0x0000000000000000000000000000000000000000 | {\"nonce\":\"24\",\"success\":true,\"actualGasCost\":\"532244852397\",\"actualGasUsed\":\"107663\"}  |\n",
      "| 2025-02-01 | base  | 8453     | mainnet | 1738431529      | 25821091     | 0x1e914a9c01661fcc72bb0e277fe4fa3898cbdecff9225df8d658760ecda59e5d | 0x85dc9e8463b762edcd134a885a8575ed5c6ab0484223ff33856bb3fec838c552 | 141               | 328       | 0x5ff137d4b0fdcd49dca30c7cf57e578a026d2789 | 0x88387e3489b655c00e83ec999e1571f11ac23ab6d328b4a8e71d5c192e7be821 | 0x2534b7395f210c35c7b2b4ace6855c645704e2d3 | 0x0000000000000000000000000000000000000000 | {\"nonce\":\"25\",\"success\":true,\"actualGasCost\":\"532155867255\",\"actualGasUsed\":\"107645\"}  |\n",
      "| 2025-02-01 | base  | 8453     | mainnet | 1738431529      | 25821091     | 0x1e914a9c01661fcc72bb0e277fe4fa3898cbdecff9225df8d658760ecda59e5d | 0x85dc9e8463b762edcd134a885a8575ed5c6ab0484223ff33856bb3fec838c552 | 141               | 331       | 0x5ff137d4b0fdcd49dca30c7cf57e578a026d2789 | 0xa3170ba7b4fa4810bc60aeb2045cf81f6d25ad7098ca68113ede150234c07ebb | 0x074b61bba4871f869f7bdb1aff1da17f497673b1 | 0x0000000000000000000000000000000000000000 | {\"nonce\":\"1\",\"success\":true,\"actualGasCost\":\"531557689356\",\"actualGasUsed\":\"107524\"}   |\n"
     ]
    },
    {
     "data": {
      "text/plain": [
       "┌────────────┬─────────┬──────────┬─────────┬─────────────────┬──────────────┬────────────────────────────────────────────────────────────────────┬────────────────────────────────────────────────────────────────────┬───────────────────┬───────────┬────────────────────────────────────────────┬────────────────────────────────────────────────────────────────────┬────────────────────────────────────────────┬────────────────────────────────────────────┬────────────────────────────────────────────────────────────────────────────────────────┐\n",
       "│     dt     │  chain  │ chain_id │ network │ block_timestamp │ block_number │                             block_hash                             │                          transaction_hash                          │ transaction_index │ log_index │              contract_address              │                             userophash                             │                   sender                   │                 paymaster                  │                                      decoded_json                                      │\n",
       "│    date    │ varchar │  int32   │ varchar │     uint32      │    int64     │                              varchar                               │                              varchar                               │       int64       │   int64   │                  varchar                   │                              varchar                               │                  varchar                   │                  varchar                   │                                        varchar                                         │\n",
       "├────────────┼─────────┼──────────┼─────────┼─────────────────┼──────────────┼────────────────────────────────────────────────────────────────────┼────────────────────────────────────────────────────────────────────┼───────────────────┼───────────┼────────────────────────────────────────────┼────────────────────────────────────────────────────────────────────┼────────────────────────────────────────────┼────────────────────────────────────────────┼────────────────────────────────────────────────────────────────────────────────────────┤\n",
       "│ 2025-02-01 │ base    │     8453 │ mainnet │      1738431529 │     25821091 │ 0x1e914a9c01661fcc72bb0e277fe4fa3898cbdecff9225df8d658760ecda59e5d │ 0x85dc9e8463b762edcd134a885a8575ed5c6ab0484223ff33856bb3fec838c552 │               141 │       319 │ 0x5ff137d4b0fdcd49dca30c7cf57e578a026d2789 │ 0xc3cde5aba1d69292868339030c7a4af4a796498a73e9534c213693314983f54e │ 0xbc10fc416af0bbad9f3be804c028d02f42729be9 │ 0x2faeb0760d4230ef2ac21496bb4f0b47d634fd4c │ {\"nonce\":\"23\",\"success\":true,\"actualGasCost\":\"1154461303716\",\"actualGasUsed\":\"245964\"} │\n",
       "│ 2025-02-01 │ base    │     8453 │ mainnet │      1738431529 │     25821091 │ 0x1e914a9c01661fcc72bb0e277fe4fa3898cbdecff9225df8d658760ecda59e5d │ 0x85dc9e8463b762edcd134a885a8575ed5c6ab0484223ff33856bb3fec838c552 │               141 │       322 │ 0x5ff137d4b0fdcd49dca30c7cf57e578a026d2789 │ 0xe78b37705a4a3bde14b2c82e3b8e98f33e8a1dbc9ee2961cc6f200844f6b9316 │ 0x2eabe2605c7c6b4318096026205c8b63fd6f833f │ 0x0000000000000000000000000000000000000000 │ {\"nonce\":\"23\",\"success\":true,\"actualGasCost\":\"532333837539\",\"actualGasUsed\":\"107681\"}  │\n",
       "│ 2025-02-01 │ base    │     8453 │ mainnet │      1738431529 │     25821091 │ 0x1e914a9c01661fcc72bb0e277fe4fa3898cbdecff9225df8d658760ecda59e5d │ 0x85dc9e8463b762edcd134a885a8575ed5c6ab0484223ff33856bb3fec838c552 │               141 │       325 │ 0x5ff137d4b0fdcd49dca30c7cf57e578a026d2789 │ 0x6c4613999ba020b91c57a7a37dc99ee75c3e6071b7e8901fe6652fd745875a77 │ 0xb174c63cc8272a81a17fa215489be1348b6a7bf9 │ 0x0000000000000000000000000000000000000000 │ {\"nonce\":\"24\",\"success\":true,\"actualGasCost\":\"532244852397\",\"actualGasUsed\":\"107663\"}  │\n",
       "│ 2025-02-01 │ base    │     8453 │ mainnet │      1738431529 │     25821091 │ 0x1e914a9c01661fcc72bb0e277fe4fa3898cbdecff9225df8d658760ecda59e5d │ 0x85dc9e8463b762edcd134a885a8575ed5c6ab0484223ff33856bb3fec838c552 │               141 │       328 │ 0x5ff137d4b0fdcd49dca30c7cf57e578a026d2789 │ 0x88387e3489b655c00e83ec999e1571f11ac23ab6d328b4a8e71d5c192e7be821 │ 0x2534b7395f210c35c7b2b4ace6855c645704e2d3 │ 0x0000000000000000000000000000000000000000 │ {\"nonce\":\"25\",\"success\":true,\"actualGasCost\":\"532155867255\",\"actualGasUsed\":\"107645\"}  │\n",
       "│ 2025-02-01 │ base    │     8453 │ mainnet │      1738431529 │     25821091 │ 0x1e914a9c01661fcc72bb0e277fe4fa3898cbdecff9225df8d658760ecda59e5d │ 0x85dc9e8463b762edcd134a885a8575ed5c6ab0484223ff33856bb3fec838c552 │               141 │       331 │ 0x5ff137d4b0fdcd49dca30c7cf57e578a026d2789 │ 0xa3170ba7b4fa4810bc60aeb2045cf81f6d25ad7098ca68113ede150234c07ebb │ 0x074b61bba4871f869f7bdb1aff1da17f497673b1 │ 0x0000000000000000000000000000000000000000 │ {\"nonce\":\"1\",\"success\":true,\"actualGasCost\":\"531557689356\",\"actualGasUsed\":\"107524\"}   │\n",
       "└────────────┴─────────┴──────────┴─────────┴─────────────────┴──────────────┴────────────────────────────────────────────────────────────────────┴────────────────────────────────────────────────────────────────────┴───────────────────┴───────────┴────────────────────────────────────────────┴────────────────────────────────────────────────────────────────────┴────────────────────────────────────────────┴────────────────────────────────────────────┴────────────────────────────────────────────────────────────────────────────────────────┘"
      ]
     },
     "execution_count": 34,
     "metadata": {},
     "output_type": "execute_result"
    }
   ],
   "source": [
    "import polars as pl\n",
    "\n",
    "rel = ctx.client.sql(f\"\"\"\n",
    "    SELECT * FROM {user_ops} \n",
    "    WHERE transaction_hash = '0x85dc9e8463b762edcd134a885a8575ed5c6ab0484223ff33856bb3fec838c552'\n",
    "    ORDER BY log_index\n",
    "    \"\"\")\n",
    "\n",
    "with pl.Config(\n",
    "    tbl_cols=-1,\n",
    "    tbl_rows=-1,\n",
    "    tbl_width_chars=1200,\n",
    "    fmt_str_lengths=128,\n",
    "    tbl_formatting=\"MARKDOWN\",\n",
    "    tbl_hide_column_data_types=False,\n",
    "    tbl_hide_dataframe_shape=True,\n",
    ") as cfg:\n",
    "    print(rel.pl())\n",
    "\n",
    "\n",
    "rel\n"
   ]
  },
  {
   "cell_type": "code",
   "execution_count": 37,
   "metadata": {},
   "outputs": [
    {
     "name": "stdout",
     "output_type": "stream",
     "text": [
      "| column_name       | column_type |\n",
      "|-------------------|-------------|\n",
      "| dt                | DATE        |\n",
      "| chain             | VARCHAR     |\n",
      "| chain_id          | INTEGER     |\n",
      "| network           | VARCHAR     |\n",
      "| block_timestamp   | UINTEGER    |\n",
      "| block_number      | BIGINT      |\n",
      "| block_hash        | VARCHAR     |\n",
      "| transaction_hash  | VARCHAR     |\n",
      "| transaction_index | BIGINT      |\n",
      "| log_index         | BIGINT      |\n",
      "| contract_address  | VARCHAR     |\n",
      "| userophash        | VARCHAR     |\n",
      "| sender            | VARCHAR     |\n",
      "| paymaster         | VARCHAR     |\n",
      "| decoded_json      | VARCHAR     |\n",
      "\n",
      "| column_name                     | column_type |\n",
      "|---------------------------------|-------------|\n",
      "| dt                              | DATE        |\n",
      "| chain                           | VARCHAR     |\n",
      "| chain_id                        | INTEGER     |\n",
      "| network                         | VARCHAR     |\n",
      "| block_timestamp                 | UINTEGER    |\n",
      "| block_number                    | BIGINT      |\n",
      "| block_hash                      | VARCHAR     |\n",
      "| transaction_hash                | VARCHAR     |\n",
      "| transaction_index               | BIGINT      |\n",
      "| from_address                    | VARCHAR     |\n",
      "| to_address                      | VARCHAR     |\n",
      "| value_lossless                  | VARCHAR     |\n",
      "| input                           | VARCHAR     |\n",
      "| output                          | VARCHAR     |\n",
      "| trace_type                      | VARCHAR     |\n",
      "| call_type                       | VARCHAR     |\n",
      "| reward_type                     | VARCHAR     |\n",
      "| gas                             | BIGINT      |\n",
      "| gas_used                        | BIGINT      |\n",
      "| subtraces                       | BIGINT      |\n",
      "| trace_address                   | VARCHAR     |\n",
      "| error                           | VARCHAR     |\n",
      "| status                          | BIGINT      |\n",
      "| trace_root                      | INTEGER     |\n",
      "| method_id                       | VARCHAR     |\n",
      "| innerhandleop_decodeerror       | VARCHAR     |\n",
      "| innerhandleop_opinfo_sender     | VARCHAR     |\n",
      "| innerhandleop_opinfo_paymaster  | VARCHAR     |\n",
      "| innerhandleop_opinfo_userophash | VARCHAR     |\n",
      "| innerhandleop_opinfo            | VARCHAR     |\n",
      "| innerhandleop_context           | VARCHAR     |\n",
      "| innerhandleop_calldata          | VARCHAR     |\n",
      "| matched_userop_trace_address    | VARCHAR     |\n",
      "| matched_userop_sender           | VARCHAR     |\n",
      "| is_from_matched_userop_sender   | BOOLEAN     |\n",
      "\n"
     ]
    }
   ],
   "source": [
    "with pl.Config(\n",
    "    tbl_cols=-1,\n",
    "    tbl_rows=-1,\n",
    "    tbl_width_chars=1200,\n",
    "    fmt_str_lengths=128,\n",
    "    tbl_formatting=\"MARKDOWN\",\n",
    "    tbl_hide_column_data_types=True,\n",
    "    tbl_hide_dataframe_shape=True,\n",
    ") as cfg:\n",
    "    df1 = ctx.client.sql(f\"DESCRIBE TABLE {user_ops}\").select(\"column_name\", \"column_type\").pl()\n",
    "    print(df1)\n",
    "    print()\n",
    "    \n",
    "    df2 = ctx.client.sql(f\"DESCRIBE TABLE {entrypoint_traces}\").select(\"column_name\", \"column_type\").pl()\n",
    "    print(df2)\n",
    "    print()"
   ]
  },
  {
   "cell_type": "code",
   "execution_count": null,
   "metadata": {},
   "outputs": [],
   "source": []
  }
 ],
 "metadata": {
  "kernelspec": {
   "display_name": ".venv",
   "language": "python",
   "name": "python3"
  },
  "language_info": {
   "codemirror_mode": {
    "name": "ipython",
    "version": 3
   },
   "file_extension": ".py",
   "mimetype": "text/x-python",
   "name": "python",
   "nbconvert_exporter": "python",
   "pygments_lexer": "ipython3",
   "version": "3.12.6"
  }
 },
 "nbformat": 4,
 "nbformat_minor": 2
}
