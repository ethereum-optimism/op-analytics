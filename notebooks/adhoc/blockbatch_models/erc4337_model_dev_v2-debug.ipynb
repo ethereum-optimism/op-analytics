{
 "cells": [
  {
   "cell_type": "markdown",
   "metadata": {},
   "source": [
    "## Prepare data reader and model execution context"
   ]
  },
  {
   "cell_type": "code",
   "execution_count": 2,
   "metadata": {},
   "outputs": [
    {
     "name": "stdout",
     "output_type": "stream",
     "text": [
      "\u001b[2m2025-03-17 09:18:49\u001b[0m [\u001b[32m\u001b[1minfo     \u001b[0m] \u001b[1mquerying markers at time range min: 2024-10-30 23:17:43, max: 2024-10-30 23:17:43 root_paths=['blockbatch/account_abstraction_prefilter/entrypoint_logs_v1', 'blockbatch/account_abstraction_prefilter/entrypoint_traces_v1']\u001b[0m \u001b[36mfilename\u001b[0m=\u001b[35mrequest.py\u001b[0m \u001b[36mlineno\u001b[0m=\u001b[35m146\u001b[0m \u001b[36mprocess\u001b[0m=\u001b[35m31156\u001b[0m\n",
      "\u001b[2m2025-03-17 09:18:49\u001b[0m [\u001b[32m\u001b[1minfo     \u001b[0m] \u001b[1mprepared 1 input batches.     \u001b[0m \u001b[36mfilename\u001b[0m=\u001b[35mbyblock.py\u001b[0m \u001b[36mlineno\u001b[0m=\u001b[35m92\u001b[0m \u001b[36mprocess\u001b[0m=\u001b[35m31156\u001b[0m\n",
      "DataReader(partitions=Partition(cols=[PartitionColumn(name='chain',\n",
      "                                                      value='base'),\n",
      "                                      PartitionColumn(name='dt',\n",
      "                                                      value='2024-10-30')]),\n",
      "           read_from=DataLocation.GCS,\n",
      "           dataset_paths={'blockbatch/account_abstraction_prefilter/entrypoint_logs_v1': ['gs://oplabs-tools-data-sink/blockbatch/account_abstraction_prefilter/entrypoint_logs_v1/chain=base/dt=2024-10-30/000021770400.parquet'],\n",
      "                          'blockbatch/account_abstraction_prefilter/entrypoint_traces_v1': ['gs://oplabs-tools-data-sink/blockbatch/account_abstraction_prefilter/entrypoint_traces_v1/chain=base/dt=2024-10-30/000021770400.parquet']},\n",
      "           inputs_ready=True,\n",
      "           extra_marker_data={'max_block': 21770800,\n",
      "                              'min_block': 21770400,\n",
      "                              'num_blocks': 400})\n",
      "\u001b[2m2025-03-17 09:18:49\u001b[0m [\u001b[32m\u001b[1minfo     \u001b[0m] \u001b[1mreading dataset='blockbatch/account_abstraction_prefilter/entrypoint_logs_v1' using 1/1 parquet paths, first path is gs://oplabs-tools-data-sink/blockbatch/account_abstraction_prefilter/entrypoint_logs_v1/chain=base/dt=2024-10-30/000021770400.parquet\u001b[0m \u001b[36mfilename\u001b[0m=\u001b[35mreader.py\u001b[0m \u001b[36mlineno\u001b[0m=\u001b[35m80\u001b[0m \u001b[36mprocess\u001b[0m=\u001b[35m31156\u001b[0m\n",
      "\u001b[2m2025-03-17 09:18:49\u001b[0m [\u001b[32m\u001b[1minfo     \u001b[0m] \u001b[1mreading dataset='blockbatch/account_abstraction_prefilter/entrypoint_traces_v1' using 1/1 parquet paths, first path is gs://oplabs-tools-data-sink/blockbatch/account_abstraction_prefilter/entrypoint_traces_v1/chain=base/dt=2024-10-30/000021770400.parquet\u001b[0m \u001b[36mfilename\u001b[0m=\u001b[35mreader.py\u001b[0m \u001b[36mlineno\u001b[0m=\u001b[35m80\u001b[0m \u001b[36mprocess\u001b[0m=\u001b[35m31156\u001b[0m\n",
      "\n",
      "INPUT: blockbatch/account_abstraction_prefilter/entrypoint_logs_v1\n",
      "INPUT: blockbatch/account_abstraction_prefilter/entrypoint_traces_v1\n",
      "\n",
      "AUX TEMPLATE: account_abstraction/useroperationevent_logs\n",
      "AUX TEMPLATE: account_abstraction/enriched_entrypoint_traces\n",
      "AUX TEMPLATE: account_abstraction/data_quality_check_01\n",
      "AUX TEMPLATE: account_abstraction/data_quality_check_02\n"
     ]
    }
   ],
   "source": [
    "from pprint import pprint\n",
    "\n",
    "from op_analytics.coreutils.partitioned.location import DataLocation\n",
    "from op_analytics.coreutils.partitioned.reader import DataReader\n",
    "from op_analytics.datapipeline.etl.ingestion.reader.byblock import construct_readers_byblock\n",
    "from op_analytics.datapipeline.etl.ingestion.reader.request import BlockBatchRequest\n",
    "from op_analytics.datapipeline.models.compute.modelspec import ModelsDataSpec\n",
    "from op_analytics.datapipeline.models.compute.testutils import setup_execution_context\n",
    "\n",
    "model_name = \"account_abstraction\"\n",
    "\n",
    "\n",
    "# Select a model.\n",
    "data_spec = ModelsDataSpec(root_path_prefix=\"blockbatch\", models=[model_name])\n",
    "\n",
    "# Select a block batch.\n",
    "blockbatch_request = BlockBatchRequest.build(\n",
    "    chains=[\"base\"],\n",
    "    range_spec=\"21770458:+1\",\n",
    "    root_paths_to_read=data_spec.input_root_paths,\n",
    ")\n",
    "\n",
    "# Construct readers\n",
    "readers: list[DataReader] = construct_readers_byblock(\n",
    "    blockbatch_request=blockbatch_request,\n",
    "    read_from=DataLocation.GCS,\n",
    ")\n",
    "\n",
    "# Show details for the batch we are processing.\n",
    "pprint(readers[0])\n",
    "\n",
    "# Ensure existence of data needed by the reader.\n",
    "assert readers[0].inputs_ready\n",
    "\n",
    "# Set up execution context and get handles to model input args.\n",
    "# In subsequent cells you can use the model input args however you want.\n",
    "ctx, input_datasets, auxiliary_templates = setup_execution_context(\n",
    "    model_name=model_name,\n",
    "    data_reader=readers[0],  # use the first reader\n",
    ")\n"
   ]
  },
  {
   "cell_type": "code",
   "execution_count": 4,
   "metadata": {},
   "outputs": [
    {
     "name": "stdout",
     "output_type": "stream",
     "text": [
      "\u001b[2m2025-03-17 09:20:21\u001b[0m [\u001b[33m\u001b[1mwarning  \u001b[0m] \u001b[1mduckdb function is already registered: decode_useroperationevent\u001b[0m \u001b[36mfilename\u001b[0m=\u001b[35mregister.py\u001b[0m \u001b[36mlineno\u001b[0m=\u001b[35m22\u001b[0m \u001b[36mprocess\u001b[0m=\u001b[35m31156\u001b[0m\n",
      "\u001b[2m2025-03-17 09:20:21\u001b[0m [\u001b[33m\u001b[1mwarning  \u001b[0m] \u001b[1mduckdb function is already registered: decode_innerhandleop\u001b[0m \u001b[36mfilename\u001b[0m=\u001b[35mregister.py\u001b[0m \u001b[36mlineno\u001b[0m=\u001b[35m22\u001b[0m \u001b[36mprocess\u001b[0m=\u001b[35m31156\u001b[0m\n",
      "\u001b[2m2025-03-17 09:20:21\u001b[0m [\u001b[32m\u001b[1minfo     \u001b[0m] \u001b[1mconstructed read_parquet() string with 1 paths\u001b[0m \u001b[36mfilename\u001b[0m=\u001b[35mclient.py\u001b[0m \u001b[36mlineno\u001b[0m=\u001b[35m290\u001b[0m \u001b[36mprocess\u001b[0m=\u001b[35m31156\u001b[0m\n",
      "\u001b[2m2025-03-17 09:20:21\u001b[0m [\u001b[32m\u001b[1minfo     \u001b[0m] \u001b[1mRendering query               \u001b[0m \u001b[36mfilename\u001b[0m=\u001b[35mquerybuilder.py\u001b[0m \u001b[36mlineno\u001b[0m=\u001b[35m40\u001b[0m \u001b[36mprocess\u001b[0m=\u001b[35m31156\u001b[0m \u001b[36mtemplate\u001b[0m=\u001b[35maccount_abstraction/useroperationevent_logs\u001b[0m\n",
      "\u001b[2m2025-03-17 09:20:23\u001b[0m [\u001b[32m\u001b[1minfo     \u001b[0m] \u001b[1mduck db size: 42.2MB          \u001b[0m \u001b[36mfilename\u001b[0m=\u001b[35mclient.py\u001b[0m \u001b[36mlineno\u001b[0m=\u001b[35m40\u001b[0m \u001b[36mprocess\u001b[0m=\u001b[35m31156\u001b[0m\n",
      "\u001b[2m2025-03-17 09:20:23\u001b[0m [\u001b[32m\u001b[1minfo     \u001b[0m] \u001b[1mconstructed read_parquet() string with 1 paths\u001b[0m \u001b[36mfilename\u001b[0m=\u001b[35mclient.py\u001b[0m \u001b[36mlineno\u001b[0m=\u001b[35m290\u001b[0m \u001b[36mprocess\u001b[0m=\u001b[35m31156\u001b[0m\n",
      "\u001b[2m2025-03-17 09:20:24\u001b[0m [\u001b[32m\u001b[1minfo     \u001b[0m] \u001b[1mcreated table/view blockbatch_account_abstraction_prefilter_entrypoint_traces_v1_tbl\u001b[0m \u001b[36mfilename\u001b[0m=\u001b[35mclient.py\u001b[0m \u001b[36mlineno\u001b[0m=\u001b[35m229\u001b[0m \u001b[36mprocess\u001b[0m=\u001b[35m31156\u001b[0m\n",
      "\u001b[2m2025-03-17 09:20:24\u001b[0m [\u001b[32m\u001b[1minfo     \u001b[0m] \u001b[1mduck db size: 42.2MB          \u001b[0m \u001b[36mfilename\u001b[0m=\u001b[35mclient.py\u001b[0m \u001b[36mlineno\u001b[0m=\u001b[35m40\u001b[0m \u001b[36mprocess\u001b[0m=\u001b[35m31156\u001b[0m\n",
      "\u001b[2m2025-03-17 09:20:24\u001b[0m [\u001b[32m\u001b[1minfo     \u001b[0m] \u001b[1mRendering query               \u001b[0m \u001b[36mfilename\u001b[0m=\u001b[35mquerybuilder.py\u001b[0m \u001b[36mlineno\u001b[0m=\u001b[35m40\u001b[0m \u001b[36mprocess\u001b[0m=\u001b[35m31156\u001b[0m \u001b[36mtemplate\u001b[0m=\u001b[35maccount_abstraction/enriched_entrypoint_traces\u001b[0m\n",
      "\u001b[2m2025-03-17 09:20:24\u001b[0m [\u001b[32m\u001b[1minfo     \u001b[0m] \u001b[1mduck db size: 84.2MB          \u001b[0m \u001b[36mfilename\u001b[0m=\u001b[35mclient.py\u001b[0m \u001b[36mlineno\u001b[0m=\u001b[35m40\u001b[0m \u001b[36mprocess\u001b[0m=\u001b[35m31156\u001b[0m\n",
      "\u001b[2m2025-03-17 09:20:24\u001b[0m [\u001b[32m\u001b[1minfo     \u001b[0m] \u001b[1mRendering query               \u001b[0m \u001b[36mfilename\u001b[0m=\u001b[35mquerybuilder.py\u001b[0m \u001b[36mlineno\u001b[0m=\u001b[35m40\u001b[0m \u001b[36mprocess\u001b[0m=\u001b[35m31156\u001b[0m \u001b[36mtemplate\u001b[0m=\u001b[35maccount_abstraction/data_quality_check_01\u001b[0m\n",
      "\u001b[2m2025-03-17 09:20:24\u001b[0m [\u001b[32m\u001b[1minfo     \u001b[0m] \u001b[1mRendering query               \u001b[0m \u001b[36mfilename\u001b[0m=\u001b[35mquerybuilder.py\u001b[0m \u001b[36mlineno\u001b[0m=\u001b[35m40\u001b[0m \u001b[36mprocess\u001b[0m=\u001b[35m31156\u001b[0m \u001b[36mtemplate\u001b[0m=\u001b[35maccount_abstraction/data_quality_check_02\u001b[0m\n"
     ]
    }
   ],
   "source": [
    "from op_analytics.datapipeline.models.code.account_abstraction.decoders import (\n",
    "    register_4337_decoders,\n",
    ")\n",
    "\n",
    "from op_analytics.datapipeline.models.code.account_abstraction.abis import (\n",
    "    HANDLE_OPS_FUNCTION_METHOD_ID_v0_6_0,\n",
    "    HANDLE_OPS_FUNCTION_METHOD_ID_v0_7_0,\n",
    "    INNER_HANDLE_OP_FUNCTION_METHOD_ID_v0_6_0,\n",
    "    INNER_HANDLE_OP_FUNCTION_METHOD_ID_v0_7_0,\n",
    ")\n",
    "\n",
    "register_4337_decoders(ctx)\n",
    "\n",
    "\n",
    "# Decoded UserOperationEvent logs.\n",
    "user_ops = auxiliary_templates[\"account_abstraction/useroperationevent_logs\"].create_table(\n",
    "    duckdb_context=ctx,\n",
    "    template_parameters={\n",
    "        \"raw_logs\": input_datasets[\n",
    "            \"blockbatch/account_abstraction_prefilter/entrypoint_logs_v1\"\n",
    "        ].as_subquery(),\n",
    "    },\n",
    ")\n",
    "\n",
    "# Persist the prefiltered traces for performance gains.\n",
    "prefiltered_traces = input_datasets[\n",
    "    \"blockbatch/account_abstraction_prefilter/entrypoint_traces_v1\"\n",
    "].create_table()\n",
    "\n",
    "# Traces initiated on behalf of the UserOperationEvent sender\n",
    "entrypoint_traces = auxiliary_templates[\n",
    "    \"account_abstraction/enriched_entrypoint_traces\"\n",
    "].create_view(\n",
    "    duckdb_context=ctx,\n",
    "    template_parameters={\n",
    "        \"prefiltered_traces\": prefiltered_traces,\n",
    "        \"uops\": user_ops,\n",
    "        \"method_id_v6\": INNER_HANDLE_OP_FUNCTION_METHOD_ID_v0_6_0,\n",
    "        \"method_id_v7\": INNER_HANDLE_OP_FUNCTION_METHOD_ID_v0_7_0,\n",
    "        \"handle_ops_v6\": HANDLE_OPS_FUNCTION_METHOD_ID_v0_6_0,\n",
    "        \"handle_ops_v7\": HANDLE_OPS_FUNCTION_METHOD_ID_v0_7_0,\n",
    "    },\n",
    ")\n",
    "\n",
    "# Data Quality Checks\n",
    "errors = []\n",
    "for name, val in auxiliary_templates.items():\n",
    "    if \"data_quality_check\" in name:\n",
    "        errors.extend(val.run_as_data_quality_check(duckdb_context=ctx))\n",
    "# if errors:\n",
    "#     raise Exception(\"\\n\\n\".join([name] + [str(_) for _ in errors]))\n",
    "# else:\n",
    "#     print(\"Data Quality OK\")\n",
    "\n"
   ]
  },
  {
   "cell_type": "code",
   "execution_count": 6,
   "metadata": {},
   "outputs": [
    {
     "data": {
      "text/plain": [
       "[{'error': 'Unsatisfied JOIN for UserOperationEvent <> EntryPoint traces',\n",
       "  'block_number': 21770787,\n",
       "  'transaction_hash': '0xf2502957b2099bee9864eaaaafd5386c9d6de46607ebf64fdbff25df92101a9e',\n",
       "  'log_index': 107,\n",
       "  'sender_logs': '0xa2085974c51a2611f416aa939f6bc633a8b2b2b4',\n",
       "  'sender_innerhandleop': None},\n",
       " {'error': 'Unsatisfied JOIN for UserOperationEvent <> EntryPoint traces',\n",
       "  'block_number': 21770616,\n",
       "  'transaction_hash': '0xc9df13a805a4db376da7518daaf16103c53a3521d155089b51f485f6b56c1302',\n",
       "  'log_index': 163,\n",
       "  'sender_logs': '0x7db44ee78be8fd5606e1db72970df149463bf0ca',\n",
       "  'sender_innerhandleop': None},\n",
       " {'error': 'Unsatisfied JOIN for UserOperationEvent <> EntryPoint traces',\n",
       "  'block_number': 21770460,\n",
       "  'transaction_hash': '0xf18ff9174ae567b21e7da4ffa9f051061b9c9af8bf857408a2076d1876fadf51',\n",
       "  'log_index': 313,\n",
       "  'sender_logs': '0xc5f18182ad6acf1718f0bf88a5449802e0a813bc',\n",
       "  'sender_innerhandleop': None},\n",
       " {'error': 'Unsatisfied JOIN for UserOperationEvent <> EntryPoint traces',\n",
       "  'block_number': 21770655,\n",
       "  'transaction_hash': '0xac1554cd392045b1b363dd5b55e5776bea38dc7c45988ebeb5f15425d942d589',\n",
       "  'log_index': 245,\n",
       "  'sender_logs': '0x088287913fd76478e7fa44abeb39d352973d4673',\n",
       "  'sender_innerhandleop': None},\n",
       " {'error': 'Unsatisfied JOIN for UserOperationEvent <> EntryPoint traces',\n",
       "  'block_number': 21770778,\n",
       "  'transaction_hash': '0xca7e438afc24aa2d1188085484f31a3a50f0af080f4059e836a7ee76a51d4387',\n",
       "  'log_index': 102,\n",
       "  'sender_logs': '0x5baa09af35c6199140c6220d603f799d0418e401',\n",
       "  'sender_innerhandleop': None},\n",
       " {'error': 'Unsatisfied JOIN for UserOperationEvent <> EntryPoint traces',\n",
       "  'block_number': 21770458,\n",
       "  'transaction_hash': '0x90d69e803dcef7e4bcdde5b19fe4f22cd10c097ec30208c1b01d0a7b43818388',\n",
       "  'log_index': 1440,\n",
       "  'sender_logs': '0xda88ba8c4e3259e9be2f05ec690052fc92962b37',\n",
       "  'sender_innerhandleop': None},\n",
       " {'error': 'Unsatisfied JOIN for UserOperationEvent <> EntryPoint traces',\n",
       "  'block_number': 21770776,\n",
       "  'transaction_hash': '0x59516cb7d16201453cb8d8f4b966b655a2366563e37861a8d5847e6a91e48437',\n",
       "  'log_index': 723,\n",
       "  'sender_logs': '0x138d0f3d20900a66c88d6ea427ff991f780b86cd',\n",
       "  'sender_innerhandleop': None},\n",
       " {'error': 'Unsatisfied JOIN for UserOperationEvent <> EntryPoint traces',\n",
       "  'block_number': 21770656,\n",
       "  'transaction_hash': '0xd988435c1dbcb119438969e6bfa676355630220d62d0403f0bcb51e91eeff3f9',\n",
       "  'log_index': 273,\n",
       "  'sender_logs': '0x4f10efb21035570366cf610bb9c79f856bd14b17',\n",
       "  'sender_innerhandleop': None},\n",
       " {'error': 'Unsatisfied JOIN for UserOperationEvent <> EntryPoint traces',\n",
       "  'block_number': 21770660,\n",
       "  'transaction_hash': '0x22ecabe3ec346a965987916d955982cd3e10359bb7d44d902569f983a54cbeaa',\n",
       "  'log_index': 531,\n",
       "  'sender_logs': '0x99fce714f184b622231aa1cb7202956dec031f4a',\n",
       "  'sender_innerhandleop': None},\n",
       " {'error': 'Unsatisfied JOIN for UserOperationEvent <> EntryPoint traces',\n",
       "  'block_number': 21770776,\n",
       "  'transaction_hash': '0x049b350defe1b005de624c3754e6dea342a1a545e6058bf0f37ecbfc8e5fa81b',\n",
       "  'log_index': 713,\n",
       "  'sender_logs': '0x13bfd8397eb5a685f5c9fe41f4973a78b7d1aeee',\n",
       "  'sender_innerhandleop': None},\n",
       " {'error': 'truncated list of 26 errors'}]"
      ]
     },
     "execution_count": 6,
     "metadata": {},
     "output_type": "execute_result"
    }
   ],
   "source": [
    "errors"
   ]
  },
  {
   "cell_type": "code",
   "execution_count": null,
   "metadata": {},
   "outputs": [
    {
     "data": {
      "text/plain": [
       "┌───────────────────────────────────────────────────────────────────┐\n",
       "│                               name                                │\n",
       "│                              varchar                              │\n",
       "├───────────────────────────────────────────────────────────────────┤\n",
       "│ account_abstraction__enriched_entrypoint_traces                   │\n",
       "│ account_abstraction__useroperationevent_logs                      │\n",
       "│ blockbatch_account_abstraction_prefilter_entrypoint_traces_v1_tbl │\n",
       "└───────────────────────────────────────────────────────────────────┘"
      ]
     },
     "execution_count": 5,
     "metadata": {},
     "output_type": "execute_result"
    }
   ],
   "source": [
    "ctx.client.sql(\"SHOW TABLES\")"
   ]
  },
  {
   "cell_type": "code",
   "execution_count": 8,
   "metadata": {},
   "outputs": [
    {
     "data": {
      "text/plain": [
       "┌────────────┬─────────┬──────────┬─────────┬─────────────────┬──────────────┬────────────────────────────────────────────────────────────────────┬────────────────────────────────────────────────────────────────────┬───────────────────┬───────────┬────────────────────────────────────────────┬────────────────────────────────────────────────────────────────────┬────────────────────────────────────────────┬────────────────────────────────────────────┬─────────┬─────────┬───────────────┬───────────────┐\n",
       "│     dt     │  chain  │ chain_id │ network │ block_timestamp │ block_number │                             block_hash                             │                          transaction_hash                          │ transaction_index │ log_index │              contract_address              │                             userophash                             │                   sender                   │                 paymaster                  │  nonce  │ success │ actualGasCost │ actualGasUsed │\n",
       "│    date    │ varchar │  int32   │ varchar │     uint32      │    int64     │                              varchar                               │                              varchar                               │       int64       │   int64   │                  varchar                   │                              varchar                               │                  varchar                   │                  varchar                   │ varchar │ boolean │    varchar    │    varchar    │\n",
       "├────────────┼─────────┼──────────┼─────────┼─────────────────┼──────────────┼────────────────────────────────────────────────────────────────────┼────────────────────────────────────────────────────────────────────┼───────────────────┼───────────┼────────────────────────────────────────────┼────────────────────────────────────────────────────────────────────┼────────────────────────────────────────────┼────────────────────────────────────────────┼─────────┼─────────┼───────────────┼───────────────┤\n",
       "│ 2024-10-30 │ base    │     8453 │ mainnet │      1730330263 │     21770458 │ 0x56a1f34c843abfd0a99db7b9353975fc9ac7f219d4cf536bd30bcc7d2bef1a88 │ 0x90d69e803dcef7e4bcdde5b19fe4f22cd10c097ec30208c1b01d0a7b43818388 │               139 │      1434 │ 0x5ff137d4b0fdcd49dca30c7cf57e578a026d2789 │ 0x507bac8f0218d428311d3a9a5211232857a283099045e6457d25da617ac71671 │ 0xcf2ed5279d4f68d18ddd561772e67b700e10b063 │ 0xa270ef92c1e11f1c1f95753c2e56801e8125fa83 │ 0       │ true    │ 3286284749087 │ 606973        │\n",
       "│ 2024-10-30 │ base    │     8453 │ mainnet │      1730330263 │     21770458 │ 0x56a1f34c843abfd0a99db7b9353975fc9ac7f219d4cf536bd30bcc7d2bef1a88 │ 0x90d69e803dcef7e4bcdde5b19fe4f22cd10c097ec30208c1b01d0a7b43818388 │               139 │      1440 │ 0x5ff137d4b0fdcd49dca30c7cf57e578a026d2789 │ 0x68cf0e881d29d876fd67c5b4cdcb161db1cb61089695b014aa5c47ea08a71341 │ 0xda88ba8c4e3259e9be2f05ec690052fc92962b37 │ 0x2faeb0760d4230ef2ac21496bb4f0b47d634fd4c │ 2546    │ true    │ 2404335545082 │ 444078        │\n",
       "└────────────┴─────────┴──────────┴─────────┴─────────────────┴──────────────┴────────────────────────────────────────────────────────────────────┴────────────────────────────────────────────────────────────────────┴───────────────────┴───────────┴────────────────────────────────────────────┴────────────────────────────────────────────────────────────────────┴────────────────────────────────────────────┴────────────────────────────────────────────┴─────────┴─────────┴───────────────┴───────────────┘"
      ]
     },
     "execution_count": 8,
     "metadata": {},
     "output_type": "execute_result"
    }
   ],
   "source": [
    "# The logs show that there were 2 user ops\n",
    "\n",
    "ctx.client.sql(f\"\"\"\n",
    "    SELECT *\n",
    "    FROM {user_ops}\n",
    "    WHERE transaction_hash =  '0x90d69e803dcef7e4bcdde5b19fe4f22cd10c097ec30208c1b01d0a7b43818388'\n",
    "\"\"\")"
   ]
  },
  {
   "cell_type": "code",
   "execution_count": null,
   "metadata": {},
   "outputs": [
    {
     "name": "stdout",
     "output_type": "stream",
     "text": [
      "┌────────────────────────────────────────────────────────────────────┬────────────┬───────────────┬─────────────────────────────┬────────────────┬──────────────────┬────────────────────────────────────────────┬─────────────────────┬────────┬─────────┬────────────────────────────────────────────┬────────────────────────────────────────────┐\n",
      "│                          transaction_hash                          │ trace_root │ trace_address │ innerhandleop_trace_address │ is_from_sender │ is_innerhandleop │               userop_sender                │ useropevent_success │ status │  error  │                from_address                │                 to_address                 │\n",
      "│                              varchar                               │   int32    │    varchar    │           varchar           │    boolean     │     boolean      │                  varchar                   │       boolean       │ int64  │ varchar │                  varchar                   │                  varchar                   │\n",
      "├────────────────────────────────────────────────────────────────────┼────────────┼───────────────┼─────────────────────────────┼────────────────┼──────────────────┼────────────────────────────────────────────┼─────────────────────┼────────┼─────────┼────────────────────────────────────────────┼────────────────────────────────────────────┤\n",
      "│ 0x90d69e803dcef7e4bcdde5b19fe4f22cd10c097ec30208c1b01d0a7b43818388 │          5 │ 5,1           │ 5                           │ false          │ false            │ 0xcf2ed5279d4f68d18ddd561772e67b700e10b063 │ true                │      1 │         │ 0x5ff137d4b0fdcd49dca30c7cf57e578a026d2789 │ 0xa270ef92c1e11f1c1f95753c2e56801e8125fa83 │\n",
      "│ 0x90d69e803dcef7e4bcdde5b19fe4f22cd10c097ec30208c1b01d0a7b43818388 │          5 │ 5,0           │ 5                           │ false          │ false            │ 0xcf2ed5279d4f68d18ddd561772e67b700e10b063 │ true                │      1 │         │ 0x5ff137d4b0fdcd49dca30c7cf57e578a026d2789 │ 0xcf2ed5279d4f68d18ddd561772e67b700e10b063 │\n",
      "│ 0x90d69e803dcef7e4bcdde5b19fe4f22cd10c097ec30208c1b01d0a7b43818388 │          5 │ 5             │ 5                           │ false          │ true             │ 0xcf2ed5279d4f68d18ddd561772e67b700e10b063 │ true                │      1 │         │ 0x5ff137d4b0fdcd49dca30c7cf57e578a026d2789 │ 0x5ff137d4b0fdcd49dca30c7cf57e578a026d2789 │\n",
      "└────────────────────────────────────────────────────────────────────┴────────────┴───────────────┴─────────────────────────────┴────────────────┴──────────────────┴────────────────────────────────────────────┴─────────────────────┴────────┴─────────┴────────────────────────────────────────────┴────────────────────────────────────────────┘\n",
      "\n"
     ]
    }
   ],
   "source": [
    "# The traces only have 1 huser op\n",
    "\n",
    "ctx.client.sql(f\"\"\"\n",
    "    SELECT \n",
    "        transaction_hash, \n",
    "        trace_root, \n",
    "        trace_address, \n",
    "        innerhandleop_trace_address, \n",
    "        is_from_sender, \n",
    "        is_innerhandleop,\n",
    "        userop_sender,\n",
    "        useropevent_success,\n",
    "        status,\n",
    "        error,\n",
    "        from_address, \n",
    "        to_address\n",
    "    FROM {entrypoint_traces} \n",
    "    WHERE\n",
    "        transaction_hash = '0x90d69e803dcef7e4bcdde5b19fe4f22cd10c097ec30208c1b01d0a7b43818388'\n",
    "\"\"\").show(max_rows=100)"
   ]
  },
  {
   "cell_type": "code",
   "execution_count": 11,
   "metadata": {},
   "outputs": [
    {
     "name": "stdout",
     "output_type": "stream",
     "text": [
      "┌──────────┬─────────┬─────────────────┬──────────────┬────────────────────────────────────────────────────────────────────┬────────────────────────────────────────────────────────────────────┬───────────────────┬────────────────────────────────────────────┬────────────────────────────────────────────┬────────────────┬────────────┬────────────┬─────────────┬─────────┬──────────┬───────────┬───────────────┬─────────┬────────┬────────────┬────────────┬─────────┬────────────┬────────────┐\n",
      "│ chain_id │ network │ block_timestamp │ block_number │                             block_hash                             │                          transaction_hash                          │ transaction_index │                from_address                │                 to_address                 │ value_lossless │ trace_type │ call_type  │ reward_type │   gas   │ gas_used │ subtraces │ trace_address │  error  │ status │ trace_root │ method_id  │  chain  │     dt     │ method_id  │\n",
      "│  int32   │ varchar │     uint32      │    int64     │                              varchar                               │                              varchar                               │       int64       │                  varchar                   │                  varchar                   │    varchar     │  varchar   │  varchar   │   varchar   │  int64  │  int64   │   int64   │    varchar    │ varchar │ int64  │   int32    │  varchar   │ varchar │    date    │  varchar   │\n",
      "├──────────┼─────────┼─────────────────┼──────────────┼────────────────────────────────────────────────────────────────────┼────────────────────────────────────────────────────────────────────┼───────────────────┼────────────────────────────────────────────┼────────────────────────────────────────────┼────────────────┼────────────┼────────────┼─────────────┼─────────┼──────────┼───────────┼───────────────┼─────────┼────────┼────────────┼────────────┼─────────┼────────────┼────────────┤\n",
      "│     8453 │ mainnet │      1730330263 │     21770458 │ 0x56a1f34c843abfd0a99db7b9353975fc9ac7f219d4cf536bd30bcc7d2bef1a88 │ 0x90d69e803dcef7e4bcdde5b19fe4f22cd10c097ec30208c1b01d0a7b43818388 │               139 │ 0xfbd85a0c200b286ef2d7a08306113669013c39da │ 0x5ff137d4b0fdcd49dca30c7cf57e578a026d2789 │ 0              │ call       │ call       │             │ 1222022 │   610177 │         8 │               │         │      1 │         -1 │ 0x1fad948c │ base    │ 2024-10-30 │ 0x1fad948c │\n",
      "│     8453 │ mainnet │      1730330263 │     21770458 │ 0x56a1f34c843abfd0a99db7b9353975fc9ac7f219d4cf536bd30bcc7d2bef1a88 │ 0x90d69e803dcef7e4bcdde5b19fe4f22cd10c097ec30208c1b01d0a7b43818388 │               139 │ 0x5ff137d4b0fdcd49dca30c7cf57e578a026d2789 │ 0x7fc98430eaedbb6070b35b39d798725049088348 │ 0              │ call       │ call       │             │  553708 │   250925 │         1 │ 0             │         │      1 │          0 │ 0x570e1a36 │ base    │ 2024-10-30 │ 0x570e1a36 │\n",
      "│     8453 │ mainnet │      1730330263 │     21770458 │ 0x56a1f34c843abfd0a99db7b9353975fc9ac7f219d4cf536bd30bcc7d2bef1a88 │ 0x90d69e803dcef7e4bcdde5b19fe4f22cd10c097ec30208c1b01d0a7b43818388 │               139 │ 0x7fc98430eaedbb6070b35b39d798725049088348 │ 0x15ba39375ee2ab563e8873c8390be6f2e2f50232 │ 0              │ call       │ call       │             │  541933 │   247655 │         1 │ 0,0           │         │      1 │          0 │ 0x5fbfb9cf │ base    │ 2024-10-30 │ 0x5fbfb9cf │\n",
      "│     8453 │ mainnet │      1730330263 │     21770458 │ 0x56a1f34c843abfd0a99db7b9353975fc9ac7f219d4cf536bd30bcc7d2bef1a88 │ 0x90d69e803dcef7e4bcdde5b19fe4f22cd10c097ec30208c1b01d0a7b43818388 │               139 │ 0x15ba39375ee2ab563e8873c8390be6f2e2f50232 │ 0xcf2ed5279d4f68d18ddd561772e67b700e10b063 │ 0              │ create2    │            │             │  493401 │   206832 │         1 │ 0,0,0         │         │      1 │          0 │ 0x60806040 │ base    │ 2024-10-30 │ 0x60806040 │\n",
      "│     8453 │ mainnet │      1730330263 │     21770458 │ 0x56a1f34c843abfd0a99db7b9353975fc9ac7f219d4cf536bd30bcc7d2bef1a88 │ 0x90d69e803dcef7e4bcdde5b19fe4f22cd10c097ec30208c1b01d0a7b43818388 │               139 │ 0x5ff137d4b0fdcd49dca30c7cf57e578a026d2789 │ 0xcf2ed5279d4f68d18ddd561772e67b700e10b063 │ 0              │ call       │ call       │             │  553708 │     5746 │         1 │ 1             │         │      1 │          1 │ 0x3a871cdd │ base    │ 2024-10-30 │ 0x3a871cdd │\n",
      "│     8453 │ mainnet │      1730330263 │     21770458 │ 0x56a1f34c843abfd0a99db7b9353975fc9ac7f219d4cf536bd30bcc7d2bef1a88 │ 0x90d69e803dcef7e4bcdde5b19fe4f22cd10c097ec30208c1b01d0a7b43818388 │               139 │ 0xcf2ed5279d4f68d18ddd561772e67b700e10b063 │ 0x0000000000000000000000000000000000000001 │ 0              │ call       │ staticcall │             │  534479 │     3000 │         0 │ 1,0,0         │         │      1 │          1 │ 0xe3180ea3 │ base    │ 2024-10-30 │ 0xe3180ea3 │\n",
      "│     8453 │ mainnet │      1730330263 │     21770458 │ 0x56a1f34c843abfd0a99db7b9353975fc9ac7f219d4cf536bd30bcc7d2bef1a88 │ 0x90d69e803dcef7e4bcdde5b19fe4f22cd10c097ec30208c1b01d0a7b43818388 │               139 │ 0x5ff137d4b0fdcd49dca30c7cf57e578a026d2789 │ 0xa270ef92c1e11f1c1f95753c2e56801e8125fa83 │ 0              │ call       │ call       │             │  286231 │     9975 │         1 │ 2             │         │      1 │          2 │ 0xf465c77e │ base    │ 2024-10-30 │ 0xf465c77e │\n",
      "│     8453 │ mainnet │      1730330263 │     21770458 │ 0x56a1f34c843abfd0a99db7b9353975fc9ac7f219d4cf536bd30bcc7d2bef1a88 │ 0x90d69e803dcef7e4bcdde5b19fe4f22cd10c097ec30208c1b01d0a7b43818388 │               139 │ 0xa270ef92c1e11f1c1f95753c2e56801e8125fa83 │ 0x0000000000000000000000000000000000000001 │ 0              │ call       │ staticcall │             │  275842 │     3000 │         0 │ 2,0           │         │      1 │          2 │ 0x439a4780 │ base    │ 2024-10-30 │ 0x439a4780 │\n",
      "│     8453 │ mainnet │      1730330263 │     21770458 │ 0x56a1f34c843abfd0a99db7b9353975fc9ac7f219d4cf536bd30bcc7d2bef1a88 │ 0x90d69e803dcef7e4bcdde5b19fe4f22cd10c097ec30208c1b01d0a7b43818388 │               139 │ 0x5ff137d4b0fdcd49dca30c7cf57e578a026d2789 │ 0xda88ba8c4e3259e9be2f05ec690052fc92962b37 │ 0              │ call       │ call       │             │   92282 │    12161 │         1 │ 3             │         │      1 │          3 │ 0x3a871cdd │ base    │ 2024-10-30 │ 0x3a871cdd │\n",
      "│     8453 │ mainnet │      1730330263 │     21770458 │ 0x56a1f34c843abfd0a99db7b9353975fc9ac7f219d4cf536bd30bcc7d2bef1a88 │ 0x90d69e803dcef7e4bcdde5b19fe4f22cd10c097ec30208c1b01d0a7b43818388 │               139 │ 0xda88ba8c4e3259e9be2f05ec690052fc92962b37 │ 0x0000000000000000000000000000000000000001 │ 0              │ call       │ staticcall │             │   83055 │     3000 │         0 │ 3,0,0         │         │      1 │          3 │ 0x5c3e7ea6 │ base    │ 2024-10-30 │ 0x5c3e7ea6 │\n",
      "│     8453 │ mainnet │      1730330263 │     21770458 │ 0x56a1f34c843abfd0a99db7b9353975fc9ac7f219d4cf536bd30bcc7d2bef1a88 │ 0x90d69e803dcef7e4bcdde5b19fe4f22cd10c097ec30208c1b01d0a7b43818388 │               139 │ 0x5ff137d4b0fdcd49dca30c7cf57e578a026d2789 │ 0x2faeb0760d4230ef2ac21496bb4f0b47d634fd4c │ 0              │ call       │ call       │             │   75150 │    19756 │         2 │ 4             │         │      1 │          4 │ 0xf465c77e │ base    │ 2024-10-30 │ 0xf465c77e │\n",
      "│     8453 │ mainnet │      1730330263 │     21770458 │ 0x56a1f34c843abfd0a99db7b9353975fc9ac7f219d4cf536bd30bcc7d2bef1a88 │ 0x90d69e803dcef7e4bcdde5b19fe4f22cd10c097ec30208c1b01d0a7b43818388 │               139 │ 0x2faeb0760d4230ef2ac21496bb4f0b47d634fd4c │ 0xb676f87a6e701f0de8de5ab91b56b66109766db1 │ 0              │ call       │ staticcall │             │   59136 │     2562 │         0 │ 4,1           │         │      1 │          4 │ 0x70a08231 │ base    │ 2024-10-30 │ 0x70a08231 │\n",
      "│     8453 │ mainnet │      1730330263 │     21770458 │ 0x56a1f34c843abfd0a99db7b9353975fc9ac7f219d4cf536bd30bcc7d2bef1a88 │ 0x90d69e803dcef7e4bcdde5b19fe4f22cd10c097ec30208c1b01d0a7b43818388 │               139 │ 0x5ff137d4b0fdcd49dca30c7cf57e578a026d2789 │ 0x5ff137d4b0fdcd49dca30c7cf57e578a026d2789 │ 0              │ call       │ call       │             │  785781 │    25621 │         2 │ 5             │         │      1 │          5 │ 0x1d732756 │ base    │ 2024-10-30 │ 0x1d732756 │\n",
      "│     8453 │ mainnet │      1730330263 │     21770458 │ 0x56a1f34c843abfd0a99db7b9353975fc9ac7f219d4cf536bd30bcc7d2bef1a88 │ 0x90d69e803dcef7e4bcdde5b19fe4f22cd10c097ec30208c1b01d0a7b43818388 │               139 │ 0x5ff137d4b0fdcd49dca30c7cf57e578a026d2789 │ 0xcf2ed5279d4f68d18ddd561772e67b700e10b063 │ 0              │ call       │ call       │             │   17888 │    11109 │         1 │ 5,0           │         │      1 │          5 │ 0xb61d27f6 │ base    │ 2024-10-30 │ 0xb61d27f6 │\n",
      "│     8453 │ mainnet │      1730330263 │     21770458 │ 0x56a1f34c843abfd0a99db7b9353975fc9ac7f219d4cf536bd30bcc7d2bef1a88 │ 0x90d69e803dcef7e4bcdde5b19fe4f22cd10c097ec30208c1b01d0a7b43818388 │               139 │ 0x5ff137d4b0fdcd49dca30c7cf57e578a026d2789 │ 0xa270ef92c1e11f1c1f95753c2e56801e8125fa83 │ 0              │ call       │ call       │             │  553708 │     7011 │         0 │ 5,1           │         │      1 │          5 │ 0xa9a23409 │ base    │ 2024-10-30 │ 0xa9a23409 │\n",
      "│     8453 │ mainnet │      1730330263 │     21770458 │ 0x56a1f34c843abfd0a99db7b9353975fc9ac7f219d4cf536bd30bcc7d2bef1a88 │ 0x90d69e803dcef7e4bcdde5b19fe4f22cd10c097ec30208c1b01d0a7b43818388 │               139 │ 0x5ff137d4b0fdcd49dca30c7cf57e578a026d2789 │ 0xda88ba8c4e3259e9be2f05ec690052fc92962b37 │ 0              │ call       │ call       │             │  141715 │   128036 │         1 │ 6,0           │         │      1 │          6 │ 0xb61d27f6 │ base    │ 2024-10-30 │ 0xb61d27f6 │\n",
      "│     8453 │ mainnet │      1730330263 │     21770458 │ 0x56a1f34c843abfd0a99db7b9353975fc9ac7f219d4cf536bd30bcc7d2bef1a88 │ 0x90d69e803dcef7e4bcdde5b19fe4f22cd10c097ec30208c1b01d0a7b43818388 │               139 │ 0xda88ba8c4e3259e9be2f05ec690052fc92962b37 │ 0x80625310db240631a91f61659ccc550ea9761742 │ 0              │ call       │ call       │             │  132780 │   123267 │         3 │ 6,0,0,0       │         │      1 │          6 │ 0x29c911c9 │ base    │ 2024-10-30 │ 0x29c911c9 │\n",
      "│     8453 │ mainnet │      1730330263 │     21770458 │ 0x56a1f34c843abfd0a99db7b9353975fc9ac7f219d4cf536bd30bcc7d2bef1a88 │ 0x90d69e803dcef7e4bcdde5b19fe4f22cd10c097ec30208c1b01d0a7b43818388 │               139 │ 0x80625310db240631a91f61659ccc550ea9761742 │ 0x0982b3a5b24b2bd8ef74126e15fca2decfd75a28 │ 0              │ call       │ staticcall │             │  116779 │     3028 │         0 │ 6,0,0,0,0     │         │      1 │          6 │ 0x6352211e │ base    │ 2024-10-30 │ 0x6352211e │\n",
      "│     8453 │ mainnet │      1730330263 │     21770458 │ 0x56a1f34c843abfd0a99db7b9353975fc9ac7f219d4cf536bd30bcc7d2bef1a88 │ 0x90d69e803dcef7e4bcdde5b19fe4f22cd10c097ec30208c1b01d0a7b43818388 │               139 │ 0x80625310db240631a91f61659ccc550ea9761742 │ 0x0982b3a5b24b2bd8ef74126e15fca2decfd75a28 │ 0              │ call       │ call       │             │   79722 │    69161 │         1 │ 6,0,0,0,2     │         │      1 │          6 │ 0x42842e0e │ base    │ 2024-10-30 │ 0x42842e0e │\n",
      "│     8453 │ mainnet │      1730330263 │     21770458 │ 0x56a1f34c843abfd0a99db7b9353975fc9ac7f219d4cf536bd30bcc7d2bef1a88 │ 0x90d69e803dcef7e4bcdde5b19fe4f22cd10c097ec30208c1b01d0a7b43818388 │               139 │ 0x0982b3a5b24b2bd8ef74126e15fca2decfd75a28 │ 0x80625310db240631a91f61659ccc550ea9761742 │ 0              │ call       │ call       │             │   12159 │     1349 │         0 │ 6,0,0,0,2,0   │         │      1 │          6 │ 0x150b7a02 │ base    │ 2024-10-30 │ 0x150b7a02 │\n",
      "│     8453 │ mainnet │      1730330263 │     21770458 │ 0x56a1f34c843abfd0a99db7b9353975fc9ac7f219d4cf536bd30bcc7d2bef1a88 │ 0x90d69e803dcef7e4bcdde5b19fe4f22cd10c097ec30208c1b01d0a7b43818388 │               139 │ 0x5ff137d4b0fdcd49dca30c7cf57e578a026d2789 │ 0x2faeb0760d4230ef2ac21496bb4f0b47d634fd4c │ 0              │ call       │ call       │             │   92282 │    25489 │         1 │ 6,1           │         │      1 │          6 │ 0xa9a23409 │ base    │ 2024-10-30 │ 0xa9a23409 │\n",
      "│     8453 │ mainnet │      1730330263 │     21770458 │ 0x56a1f34c843abfd0a99db7b9353975fc9ac7f219d4cf536bd30bcc7d2bef1a88 │ 0x90d69e803dcef7e4bcdde5b19fe4f22cd10c097ec30208c1b01d0a7b43818388 │               139 │ 0x2faeb0760d4230ef2ac21496bb4f0b47d634fd4c │ 0xb676f87a6e701f0de8de5ab91b56b66109766db1 │ 0              │ call       │ call       │             │   86164 │    18021 │         0 │ 6,1,0         │         │      1 │          6 │ 0x23b872dd │ base    │ 2024-10-30 │ 0x23b872dd │\n",
      "│     8453 │ mainnet │      1730330263 │     21770458 │ 0x56a1f34c843abfd0a99db7b9353975fc9ac7f219d4cf536bd30bcc7d2bef1a88 │ 0x90d69e803dcef7e4bcdde5b19fe4f22cd10c097ec30208c1b01d0a7b43818388 │               139 │ 0x5ff137d4b0fdcd49dca30c7cf57e578a026d2789 │ 0xfbd85a0c200b286ef2d7a08306113669013c39da │ 5690620294169  │ call       │ call       │             │  592275 │        0 │         0 │ 7             │         │      1 │          7 │ 0x         │ base    │ 2024-10-30 │ 0x         │\n",
      "├──────────┴─────────┴─────────────────┴──────────────┴────────────────────────────────────────────────────────────────────┴────────────────────────────────────────────────────────────────────┴───────────────────┴────────────────────────────────────────────┴────────────────────────────────────────────┴────────────────┴────────────┴────────────┴─────────────┴─────────┴──────────┴───────────┴───────────────┴─────────┴────────┴────────────┴────────────┴─────────┴────────────┴────────────┤\n",
      "│ 23 rows                                                                                                                                                                                                                                                                                                                                                                                                                                                                                     24 columns │\n",
      "└────────────────────────────────────────────────────────────────────────────────────────────────────────────────────────────────────────────────────────────────────────────────────────────────────────────────────────────────────────────────────────────────────────────────────────────────────────────────────────────────────────────────────────────────────────────────────────────────────────────────────────────────────────────────────────────────────────────────────────────────────────┘\n",
      "\n"
     ]
    }
   ],
   "source": [
    "# Pre-filtered traces\n",
    "\n",
    "ctx.client.sql(f\"\"\"\n",
    "    SELECT \n",
    "        * EXCLUDE(input, output)\n",
    "    FROM {prefiltered_traces} \n",
    "    WHERE transaction_hash = '0x90d69e803dcef7e4bcdde5b19fe4f22cd10c097ec30208c1b01d0a7b43818388'\n",
    "    ORDER BY TRY_CAST(trace_root AS INT), trace_address\n",
    "\"\"\").show(max_rows=100)\n",
    "\n",
    "HANDLE_OPS_FUNCTION_METHOD_ID_v0_6_0 = \"0x1fad948c\"\n",
    "INNER_HANDLE_OP_FUNCTION_METHOD_ID_v0_6_0 = \"0x1d732756\"\n",
    "\n",
    "HANDLE_OPS_FUNCTION_METHOD_ID_v0_7_0 = \"0x765e827f\"\n",
    "INNER_HANDLE_OP_FUNCTION_METHOD_ID_v0_7_0 = \"0x0042dc53\"\n"
   ]
  },
  {
   "cell_type": "code",
   "execution_count": 39,
   "metadata": {},
   "outputs": [],
   "source": [
    "import requests\n",
    "\n",
    "response = requests.post(\n",
    "    url=\"https://docs-demo.base-mainnet.quiknode.pro/\",\n",
    "    headers={\"Content-Type\": \"application/json\"},\n",
    "    json={\n",
    "        \"method\": \"debug_traceTransaction\",\n",
    "        \"params\": [\n",
    "            \"0x90d69e803dcef7e4bcdde5b19fe4f22cd10c097ec30208c1b01d0a7b43818388\",\n",
    "            {\"tracer\": \"callTracer\"},\n",
    "        ],\n",
    "        \"id\": 1,\n",
    "        \"jsonrpc\": \"2.0\",\n",
    "    },\n",
    ")\n",
    "\n",
    "response_data = response.json()[\"result\"]\n",
    "\n",
    "# curl https://docs-demo.base-mainnet.quiknode.pro/ \\\n",
    "# -X POST \\\n",
    "# -H \"Content-Type: application/json\" \\\n",
    "# --data '{\"method\":\"debug_traceTransaction\",\"params\":[\"0x2d3750f7944818e1a4e6b897b6f6ea4d975fcf46720990eb4eda0c00d926a8fd\", {\"tracer\": \"callTracer\"}], \"id\":1,\"jsonrpc\":\"2.0\"}'\n"
   ]
  },
  {
   "cell_type": "code",
   "execution_count": 13,
   "metadata": {},
   "outputs": [
    {
     "data": {
      "text/plain": [
       "200"
      ]
     },
     "execution_count": 13,
     "metadata": {},
     "output_type": "execute_result"
    }
   ],
   "source": []
  },
  {
   "cell_type": "code",
   "execution_count": 14,
   "metadata": {},
   "outputs": [
    {
     "data": {
      "text/plain": [
       "<Response [200]>"
      ]
     },
     "execution_count": 14,
     "metadata": {},
     "output_type": "execute_result"
    }
   ],
   "source": [
    "response"
   ]
  },
  {
   "cell_type": "code",
   "execution_count": 40,
   "metadata": {},
   "outputs": [
    {
     "name": "stdout",
     "output_type": "stream",
     "text": [
      "┌───────────────┬────────────────────────────────────────────┬────────────┐\n",
      "│ trace_address │                    from                    │ method_id  │\n",
      "│    varchar    │                  varchar                   │  varchar   │\n",
      "├───────────────┼────────────────────────────────────────────┼────────────┤\n",
      "│ 0             │ 0x5ff137d4b0fdcd49dca30c7cf57e578a026d2789 │ 0x570e1a36 │\n",
      "│ 0,0           │ 0x7fc98430eaedbb6070b35b39d798725049088348 │ 0x5fbfb9cf │\n",
      "│ 0,0,0         │ 0x15ba39375ee2ab563e8873c8390be6f2e2f50232 │ 0x60806040 │\n",
      "│ 0,0,0,0       │ 0xcf2ed5279d4f68d18ddd561772e67b700e10b063 │ 0xc4d66de8 │\n",
      "│ 1             │ 0x5ff137d4b0fdcd49dca30c7cf57e578a026d2789 │ 0x3a871cdd │\n",
      "│ 1,0           │ 0xcf2ed5279d4f68d18ddd561772e67b700e10b063 │ 0x3a871cdd │\n",
      "│ 1,0,0         │ 0xcf2ed5279d4f68d18ddd561772e67b700e10b063 │ 0xe3180ea3 │\n",
      "│ 2             │ 0x5ff137d4b0fdcd49dca30c7cf57e578a026d2789 │ 0xf465c77e │\n",
      "│ 2,0           │ 0xa270ef92c1e11f1c1f95753c2e56801e8125fa83 │ 0x439a4780 │\n",
      "│ 3             │ 0x5ff137d4b0fdcd49dca30c7cf57e578a026d2789 │ 0x3a871cdd │\n",
      "│ 3,0           │ 0xda88ba8c4e3259e9be2f05ec690052fc92962b37 │ 0x3a871cdd │\n",
      "│ 3,0,0         │ 0xda88ba8c4e3259e9be2f05ec690052fc92962b37 │ 0x5c3e7ea6 │\n",
      "│ 4             │ 0x5ff137d4b0fdcd49dca30c7cf57e578a026d2789 │ 0xf465c77e │\n",
      "│ 4,0           │ 0x2faeb0760d4230ef2ac21496bb4f0b47d634fd4c │ 0xd35cfd49 │\n",
      "│ 4,1           │ 0x2faeb0760d4230ef2ac21496bb4f0b47d634fd4c │ 0x70a08231 │\n",
      "│ 5             │ 0x5ff137d4b0fdcd49dca30c7cf57e578a026d2789 │ 0x1d732756 │\n",
      "│ 5,0           │ 0x5ff137d4b0fdcd49dca30c7cf57e578a026d2789 │ 0xb61d27f6 │\n",
      "│ 5,0,0         │ 0xcf2ed5279d4f68d18ddd561772e67b700e10b063 │ 0xb61d27f6 │\n",
      "│ 5,0,0,0       │ 0xcf2ed5279d4f68d18ddd561772e67b700e10b063 │ 0x8c7a3e2c │\n",
      "│ 5,1           │ 0x5ff137d4b0fdcd49dca30c7cf57e578a026d2789 │ 0xa9a23409 │\n",
      "│ 6             │ 0x5ff137d4b0fdcd49dca30c7cf57e578a026d2789 │ 0x1d732756 │\n",
      "│ 6,0           │ 0x5ff137d4b0fdcd49dca30c7cf57e578a026d2789 │ 0xb61d27f6 │\n",
      "│ 6,0,0         │ 0xda88ba8c4e3259e9be2f05ec690052fc92962b37 │ 0xb61d27f6 │\n",
      "│ 6,0,0,0       │ 0xda88ba8c4e3259e9be2f05ec690052fc92962b37 │ 0x29c911c9 │\n",
      "│ 6,0,0,0,0     │ 0x80625310db240631a91f61659ccc550ea9761742 │ 0x6352211e │\n",
      "│ 6,0,0,0,1     │ 0x80625310db240631a91f61659ccc550ea9761742 │ 0x07354f94 │\n",
      "│ 6,0,0,0,2     │ 0x80625310db240631a91f61659ccc550ea9761742 │ 0x42842e0e │\n",
      "│ 6,0,0,0,2,0   │ 0x0982b3a5b24b2bd8ef74126e15fca2decfd75a28 │ 0x150b7a02 │\n",
      "│ 6,1           │ 0x5ff137d4b0fdcd49dca30c7cf57e578a026d2789 │ 0xa9a23409 │\n",
      "│ 6,1,0         │ 0x2faeb0760d4230ef2ac21496bb4f0b47d634fd4c │ 0x23b872dd │\n",
      "│ 7             │ 0x5ff137d4b0fdcd49dca30c7cf57e578a026d2789 │ 0x         │\n",
      "├───────────────┴────────────────────────────────────────────┴────────────┤\n",
      "│ 31 rows                                                       3 columns │\n",
      "└─────────────────────────────────────────────────────────────────────────┘\n",
      "\n"
     ]
    }
   ],
   "source": [
    "import json\n",
    "from typing import Dict, List, Any\n",
    "\n",
    "import polars as pl\n",
    "\n",
    "def flatten_traces(calls: List[Dict[str, Any]], parent_trace_address: List[int]) -> List[Dict[str, Any]]:\n",
    "    \"\"\"\n",
    "    Recursively flatten the nested call traces structure while preserving the trace address.\n",
    "    \n",
    "    Args:\n",
    "        calls: List of call traces\n",
    "        parent_trace_address: The trace address of the parent call\n",
    "        \n",
    "    Returns:\n",
    "        List of flattened call traces with trace_address field\n",
    "    \"\"\"\n",
    "    \n",
    "    flattened_traces = []\n",
    "    \n",
    "    for i, call in enumerate(calls):\n",
    "        \n",
    "\n",
    "        \n",
    "        # Calculate the current trace address\n",
    "        current_trace_address = parent_trace_address + [i]\n",
    "        \n",
    "        # Add trace_address to the call        \n",
    "        row = {\n",
    "            \"trace_address\": current_trace_address,\n",
    "            \"from\": call[\"from\"],\n",
    "            \"method_id\": call[\"input\"][:10],\n",
    "        }\n",
    "        \n",
    "        # Extract nested calls before removing them from the copy\n",
    "        nested_calls = call.get('calls', [])        \n",
    "        # Add the current call to the flattened list\n",
    "        flattened_traces.append(row)\n",
    "        \n",
    "        # Recursively process nested calls\n",
    "        if nested_calls:\n",
    "            flattened_traces.extend(flatten_traces(nested_calls, current_trace_address))\n",
    "    \n",
    "    return flattened_traces\n",
    "\n",
    "# Load the base_missing_traces.json file\n",
    "with open('base_missing_traces.json', 'r') as f:\n",
    "    trace_data = json.load(f)\n",
    "\n",
    "# Flatten the traces\n",
    "rows = flatten_traces(response_data.get(\"calls\", []), parent_trace_address=[])\n",
    "for row in rows:\n",
    "    row[\"trace_address\"] = \",\".join([str(_) for _ in row[\"trace_address\"]])\n",
    "\n",
    "pldf = pl.DataFrame(rows)\n",
    "ctx.client.sql(\"SELECT * FROm pldf\").show(max_rows=100)\n",
    "\n"
   ]
  },
  {
   "cell_type": "code",
   "execution_count": null,
   "metadata": {},
   "outputs": [],
   "source": []
  }
 ],
 "metadata": {
  "kernelspec": {
   "display_name": ".venv",
   "language": "python",
   "name": "python3"
  },
  "language_info": {
   "codemirror_mode": {
    "name": "ipython",
    "version": 3
   },
   "file_extension": ".py",
   "mimetype": "text/x-python",
   "name": "python",
   "nbconvert_exporter": "python",
   "pygments_lexer": "ipython3",
   "version": "3.12.6"
  }
 },
 "nbformat": 4,
 "nbformat_minor": 2
}
