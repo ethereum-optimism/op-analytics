{
 "cells": [
  {
   "cell_type": "markdown",
   "metadata": {},
   "source": [
    "## Prepare data reader and model execution context"
   ]
  },
  {
   "cell_type": "code",
   "execution_count": 1,
   "metadata": {},
   "outputs": [
    {
     "name": "stdout",
     "output_type": "stream",
     "text": [
      "\u001b[2m2025-03-03 21:28:49\u001b[0m [\u001b[32m\u001b[1mdebug    \u001b[0m] \u001b[1mconnecting to GOLDSKY Clickhouse client...\u001b[0m \u001b[36mfilename\u001b[0m=\u001b[35mclient.py\u001b[0m \u001b[36mlineno\u001b[0m=\u001b[35m56\u001b[0m \u001b[36mprocess\u001b[0m=\u001b[35m93714\u001b[0m\n",
      "\u001b[2m2025-03-03 21:28:49\u001b[0m [\u001b[32m\u001b[1minfo     \u001b[0m] \u001b[1mloaded vault from .env file   \u001b[0m \u001b[36mfilename\u001b[0m=\u001b[35mvault.py\u001b[0m \u001b[36mlineno\u001b[0m=\u001b[35m32\u001b[0m \u001b[36mprocess\u001b[0m=\u001b[35m93714\u001b[0m\n",
      "\u001b[2m2025-03-03 21:28:49\u001b[0m [\u001b[32m\u001b[1mdebug    \u001b[0m] \u001b[1mloaded vault: 19 items        \u001b[0m \u001b[36mfilename\u001b[0m=\u001b[35mvault.py\u001b[0m \u001b[36mlineno\u001b[0m=\u001b[35m79\u001b[0m \u001b[36mprocess\u001b[0m=\u001b[35m93714\u001b[0m\n",
      "\u001b[2m2025-03-03 21:28:50\u001b[0m [\u001b[32m\u001b[1mdebug    \u001b[0m] \u001b[1minitialized GOLDSKY Clickhouse client.\u001b[0m \u001b[36mfilename\u001b[0m=\u001b[35mclient.py\u001b[0m \u001b[36mlineno\u001b[0m=\u001b[35m61\u001b[0m \u001b[36mprocess\u001b[0m=\u001b[35m93714\u001b[0m\n",
      "\u001b[2m2025-03-03 21:28:50\u001b[0m [\u001b[32m\u001b[1minfo     \u001b[0m] \u001b[1mquerying markers at time range min: 2024-09-17 22:30:39, max: 2024-09-17 22:30:39 root_paths=['blockbatch/account_abstraction_prefilter/entrypoint_logs_v1', 'blockbatch/account_abstraction_prefilter/entrypoint_traces_v1']\u001b[0m \u001b[36mfilename\u001b[0m=\u001b[35mrequest.py\u001b[0m \u001b[36mlineno\u001b[0m=\u001b[35m146\u001b[0m \u001b[36mprocess\u001b[0m=\u001b[35m93714\u001b[0m\n",
      "\u001b[2m2025-03-03 21:28:50\u001b[0m [\u001b[32m\u001b[1mdebug    \u001b[0m] \u001b[1mconnecting to OPLABS Clickhouse client...\u001b[0m \u001b[36mfilename\u001b[0m=\u001b[35mclient.py\u001b[0m \u001b[36mlineno\u001b[0m=\u001b[35m56\u001b[0m \u001b[36mprocess\u001b[0m=\u001b[35m93714\u001b[0m\n",
      "\u001b[2m2025-03-03 21:28:51\u001b[0m [\u001b[32m\u001b[1mdebug    \u001b[0m] \u001b[1minitialized OPLABS Clickhouse client.\u001b[0m \u001b[36mfilename\u001b[0m=\u001b[35mclient.py\u001b[0m \u001b[36mlineno\u001b[0m=\u001b[35m61\u001b[0m \u001b[36mprocess\u001b[0m=\u001b[35m93714\u001b[0m\n",
      "\u001b[2m2025-03-03 21:28:51\u001b[0m [\u001b[32m\u001b[1minfo     \u001b[0m] \u001b[1mprepared 1 input batches.     \u001b[0m \u001b[36mfilename\u001b[0m=\u001b[35mbyblock.py\u001b[0m \u001b[36mlineno\u001b[0m=\u001b[35m92\u001b[0m \u001b[36mprocess\u001b[0m=\u001b[35m93714\u001b[0m\n",
      "DataReader(partitions=Partition(cols=[PartitionColumn(name='chain',\n",
      "                                                      value='base'),\n",
      "                                      PartitionColumn(name='dt',\n",
      "                                                      value='2024-09-17')]),\n",
      "           read_from=DataLocation.GCS,\n",
      "           dataset_paths={'blockbatch/account_abstraction_prefilter/entrypoint_logs_v1': ['gs://oplabs-tools-data-sink/blockbatch/account_abstraction_prefilter/entrypoint_logs_v1/chain=base/dt=2024-09-17/000019910000.parquet'],\n",
      "                          'blockbatch/account_abstraction_prefilter/entrypoint_traces_v1': ['gs://oplabs-tools-data-sink/blockbatch/account_abstraction_prefilter/entrypoint_traces_v1/chain=base/dt=2024-09-17/000019910000.parquet']},\n",
      "           inputs_ready=True,\n",
      "           extra_marker_data={'max_block': 19912000,\n",
      "                              'min_block': 19910000,\n",
      "                              'num_blocks': 2000})\n",
      "\u001b[2m2025-03-03 21:28:51\u001b[0m [\u001b[32m\u001b[1minfo     \u001b[0m] \u001b[1minitialized duckdb at /var/folders/tz/g2vwn0qx5ll32j7jfsshhps40000gn/T/_yw_50wo/op-analytics.duck.db\u001b[0m \u001b[36mfilename\u001b[0m=\u001b[35mclient.py\u001b[0m \u001b[36mlineno\u001b[0m=\u001b[35m114\u001b[0m \u001b[36mprocess\u001b[0m=\u001b[35m93714\u001b[0m\n",
      "\u001b[2m2025-03-03 21:28:51\u001b[0m [\u001b[32m\u001b[1minfo     \u001b[0m] \u001b[1mreading dataset='blockbatch/account_abstraction_prefilter/entrypoint_logs_v1' using 1/1 parquet paths, first path is gs://oplabs-tools-data-sink/blockbatch/account_abstraction_prefilter/entrypoint_logs_v1/chain=base/dt=2024-09-17/000019910000.parquet\u001b[0m \u001b[36mfilename\u001b[0m=\u001b[35mreader.py\u001b[0m \u001b[36mlineno\u001b[0m=\u001b[35m81\u001b[0m \u001b[36mprocess\u001b[0m=\u001b[35m93714\u001b[0m\n",
      "\u001b[2m2025-03-03 21:28:51\u001b[0m [\u001b[32m\u001b[1minfo     \u001b[0m] \u001b[1mreading dataset='blockbatch/account_abstraction_prefilter/entrypoint_traces_v1' using 1/1 parquet paths, first path is gs://oplabs-tools-data-sink/blockbatch/account_abstraction_prefilter/entrypoint_traces_v1/chain=base/dt=2024-09-17/000019910000.parquet\u001b[0m \u001b[36mfilename\u001b[0m=\u001b[35mreader.py\u001b[0m \u001b[36mlineno\u001b[0m=\u001b[35m81\u001b[0m \u001b[36mprocess\u001b[0m=\u001b[35m93714\u001b[0m\n",
      "\n",
      "INPUT: blockbatch/account_abstraction_prefilter/entrypoint_logs_v1\n",
      "INPUT: blockbatch/account_abstraction_prefilter/entrypoint_traces_v1\n",
      "\n",
      "AUX TEMPLATE: account_abstraction/useroperationevent_logs\n",
      "AUX TEMPLATE: account_abstraction/enriched_entrypoint_traces\n",
      "AUX TEMPLATE: account_abstraction/data_quality_check_01\n",
      "AUX TEMPLATE: account_abstraction/data_quality_check_02\n"
     ]
    }
   ],
   "source": [
    "from pprint import pprint\n",
    "\n",
    "from op_analytics.coreutils.partitioned.location import DataLocation\n",
    "from op_analytics.coreutils.partitioned.reader import DataReader\n",
    "from op_analytics.datapipeline.etl.ingestion.reader.byblock import construct_readers_byblock\n",
    "from op_analytics.datapipeline.etl.ingestion.reader.request import BlockBatchRequest\n",
    "from op_analytics.datapipeline.models.compute.modelspec import ModelsDataSpec\n",
    "from op_analytics.datapipeline.models.compute.testutils import setup_execution_context\n",
    "\n",
    "model_name = \"account_abstraction\"\n",
    "\n",
    "\n",
    "# Select a model.\n",
    "data_spec = ModelsDataSpec(root_path_prefix=\"blockbatch\", models=[model_name])\n",
    "\n",
    "# Select a block batch.\n",
    "blockbatch_request = BlockBatchRequest.build(\n",
    "    chains=[\"base\"],\n",
    "    range_spec=\"19911446:+1\",\n",
    "    root_paths_to_read=data_spec.input_root_paths,\n",
    ")\n",
    "\n",
    "# Construct readers\n",
    "readers: list[DataReader] = construct_readers_byblock(\n",
    "    blockbatch_request=blockbatch_request,\n",
    "    read_from=DataLocation.GCS,\n",
    ")\n",
    "\n",
    "# Show details for the batch we are processing.\n",
    "pprint(readers[0])\n",
    "\n",
    "# Ensure existence of data needed by the reader.\n",
    "assert readers[0].inputs_ready\n",
    "\n",
    "# Set up execution context and get handles to model input args.\n",
    "# In subsequent cells you can use the model input args however you want.\n",
    "ctx, input_datasets, auxiliary_templates = setup_execution_context(\n",
    "    model_name=model_name,\n",
    "    data_reader=readers[0],  # use the first reader\n",
    ")\n"
   ]
  },
  {
   "cell_type": "code",
   "execution_count": 2,
   "metadata": {},
   "outputs": [
    {
     "name": "stdout",
     "output_type": "stream",
     "text": [
      "\u001b[2m2025-03-03 21:28:51\u001b[0m [\u001b[32m\u001b[1minfo     \u001b[0m] \u001b[1mconstructed read_parquet() string with 1 paths\u001b[0m \u001b[36mfilename\u001b[0m=\u001b[35mclient.py\u001b[0m \u001b[36mlineno\u001b[0m=\u001b[35m283\u001b[0m \u001b[36mprocess\u001b[0m=\u001b[35m93714\u001b[0m\n",
      "\u001b[2m2025-03-03 21:28:51\u001b[0m [\u001b[32m\u001b[1minfo     \u001b[0m] \u001b[1mRendering query               \u001b[0m \u001b[36mfilename\u001b[0m=\u001b[35mquerybuilder.py\u001b[0m \u001b[36mlineno\u001b[0m=\u001b[35m40\u001b[0m \u001b[36mprocess\u001b[0m=\u001b[35m93714\u001b[0m \u001b[36mtemplate\u001b[0m=\u001b[35maccount_abstraction/useroperationevent_logs\u001b[0m\n",
      "\u001b[2m2025-03-03 21:28:53\u001b[0m [\u001b[32m\u001b[1minfo     \u001b[0m] \u001b[1mduck db size: 12.3KB          \u001b[0m \u001b[36mfilename\u001b[0m=\u001b[35mclient.py\u001b[0m \u001b[36mlineno\u001b[0m=\u001b[35m40\u001b[0m \u001b[36mprocess\u001b[0m=\u001b[35m93714\u001b[0m\n",
      "\u001b[2m2025-03-03 21:28:53\u001b[0m [\u001b[32m\u001b[1minfo     \u001b[0m] \u001b[1mconstructed read_parquet() string with 1 paths\u001b[0m \u001b[36mfilename\u001b[0m=\u001b[35mclient.py\u001b[0m \u001b[36mlineno\u001b[0m=\u001b[35m283\u001b[0m \u001b[36mprocess\u001b[0m=\u001b[35m93714\u001b[0m\n",
      "\u001b[2m2025-03-03 21:28:54\u001b[0m [\u001b[32m\u001b[1minfo     \u001b[0m] \u001b[1mcreated table/view blockbatch_account_abstraction_prefilter_entrypoint_traces_v1_tbl\u001b[0m \u001b[36mfilename\u001b[0m=\u001b[35mclient.py\u001b[0m \u001b[36mlineno\u001b[0m=\u001b[35m222\u001b[0m \u001b[36mprocess\u001b[0m=\u001b[35m93714\u001b[0m\n",
      "\u001b[2m2025-03-03 21:28:54\u001b[0m [\u001b[32m\u001b[1minfo     \u001b[0m] \u001b[1mduck db size: 288.9MB         \u001b[0m \u001b[36mfilename\u001b[0m=\u001b[35mclient.py\u001b[0m \u001b[36mlineno\u001b[0m=\u001b[35m40\u001b[0m \u001b[36mprocess\u001b[0m=\u001b[35m93714\u001b[0m\n",
      "\u001b[2m2025-03-03 21:28:54\u001b[0m [\u001b[32m\u001b[1minfo     \u001b[0m] \u001b[1mRendering query               \u001b[0m \u001b[36mfilename\u001b[0m=\u001b[35mquerybuilder.py\u001b[0m \u001b[36mlineno\u001b[0m=\u001b[35m40\u001b[0m \u001b[36mprocess\u001b[0m=\u001b[35m93714\u001b[0m \u001b[36mtemplate\u001b[0m=\u001b[35maccount_abstraction/enriched_entrypoint_traces\u001b[0m\n",
      "\u001b[2m2025-03-03 21:28:56\u001b[0m [\u001b[32m\u001b[1minfo     \u001b[0m] \u001b[1mduck db size: 462.2MB         \u001b[0m \u001b[36mfilename\u001b[0m=\u001b[35mclient.py\u001b[0m \u001b[36mlineno\u001b[0m=\u001b[35m40\u001b[0m \u001b[36mprocess\u001b[0m=\u001b[35m93714\u001b[0m\n",
      "\u001b[2m2025-03-03 21:28:56\u001b[0m [\u001b[32m\u001b[1minfo     \u001b[0m] \u001b[1mRendering query               \u001b[0m \u001b[36mfilename\u001b[0m=\u001b[35mquerybuilder.py\u001b[0m \u001b[36mlineno\u001b[0m=\u001b[35m40\u001b[0m \u001b[36mprocess\u001b[0m=\u001b[35m93714\u001b[0m \u001b[36mtemplate\u001b[0m=\u001b[35maccount_abstraction/data_quality_check_01\u001b[0m\n",
      "\u001b[2m2025-03-03 21:28:56\u001b[0m [\u001b[32m\u001b[1minfo     \u001b[0m] \u001b[1mRendering query               \u001b[0m \u001b[36mfilename\u001b[0m=\u001b[35mquerybuilder.py\u001b[0m \u001b[36mlineno\u001b[0m=\u001b[35m40\u001b[0m \u001b[36mprocess\u001b[0m=\u001b[35m93714\u001b[0m \u001b[36mtemplate\u001b[0m=\u001b[35maccount_abstraction/data_quality_check_02\u001b[0m\n",
      "Data Quality OK\n"
     ]
    }
   ],
   "source": [
    "from op_analytics.datapipeline.models.code.account_abstraction.decoders import (\n",
    "    register_4337_decoders,\n",
    ")\n",
    "\n",
    "from op_analytics.datapipeline.models.code.account_abstraction.abis import (\n",
    "    HANDLE_OPS_FUNCTION_METHOD_ID_v0_6_0,\n",
    "    HANDLE_OPS_FUNCTION_METHOD_ID_v0_7_0,\n",
    "    INNER_HANDLE_OP_FUNCTION_METHOD_ID_v0_6_0,\n",
    "    INNER_HANDLE_OP_FUNCTION_METHOD_ID_v0_7_0,\n",
    ")\n",
    "\n",
    "register_4337_decoders(ctx)\n",
    "\n",
    "\n",
    "# Decoded UserOperationEvent logs.\n",
    "user_ops = auxiliary_templates[\"account_abstraction/useroperationevent_logs\"].create_table(\n",
    "    duckdb_context=ctx,\n",
    "    template_parameters={\n",
    "        \"raw_logs\": input_datasets[\n",
    "            \"blockbatch/account_abstraction_prefilter/entrypoint_logs_v1\"\n",
    "        ].as_subquery(),\n",
    "    },\n",
    ")\n",
    "\n",
    "prefiltered_traces = input_datasets[\"blockbatch/account_abstraction_prefilter/entrypoint_traces_v1\"].create_table(\n",
    "    additional_sql=\"ORDER BY block_number, transaction_hash\",\n",
    ")\n",
    "\n",
    "# Traces initiated on behalf of the UserOperationEvent sender\n",
    "entrypoint_traces = auxiliary_templates[\n",
    "    \"account_abstraction/enriched_entrypoint_traces\"\n",
    "].create_table(\n",
    "    duckdb_context=ctx,\n",
    "    template_parameters={\n",
    "        \"prefiltered_traces\": prefiltered_traces,\n",
    "        \"uops\": user_ops,\n",
    "        \"method_id_v6\": INNER_HANDLE_OP_FUNCTION_METHOD_ID_v0_6_0,\n",
    "        \"method_id_v7\": INNER_HANDLE_OP_FUNCTION_METHOD_ID_v0_7_0,\n",
    "        \"handle_ops_v6\": HANDLE_OPS_FUNCTION_METHOD_ID_v0_6_0,\n",
    "        \"handle_ops_v7\": HANDLE_OPS_FUNCTION_METHOD_ID_v0_7_0,\n",
    "    },\n",
    ")\n",
    "\n",
    "# Data Quality Checks\n",
    "errors = []\n",
    "for name, val in auxiliary_templates.items():\n",
    "    if \"data_quality_check\" in name:\n",
    "        errors.extend(val.run_as_data_quality_check(duckdb_context=ctx))\n",
    "if errors:\n",
    "    raise Exception(\"\\n\\n\".join([name] + [str(_) for _ in errors]))\n",
    "else:\n",
    "    print(\"Data Quality OK\")\n"
   ]
  },
  {
   "cell_type": "code",
   "execution_count": 3,
   "metadata": {},
   "outputs": [
    {
     "data": {
      "text/plain": [
       "┌───────────────────────────────────────────────────────────────────┐\n",
       "│                               name                                │\n",
       "│                              varchar                              │\n",
       "├───────────────────────────────────────────────────────────────────┤\n",
       "│ account_abstraction__enriched_entrypoint_traces                   │\n",
       "│ account_abstraction__useroperationevent_logs                      │\n",
       "│ blockbatch_account_abstraction_prefilter_entrypoint_traces_v1_tbl │\n",
       "└───────────────────────────────────────────────────────────────────┘"
      ]
     },
     "execution_count": 3,
     "metadata": {},
     "output_type": "execute_result"
    }
   ],
   "source": [
    "ctx.client.sql(\"SHOW TABLES\")"
   ]
  },
  {
   "cell_type": "code",
   "execution_count": 5,
   "metadata": {},
   "outputs": [
    {
     "name": "stdout",
     "output_type": "stream",
     "text": [
      "┌────────────────────────────────────────────────────────────────────┬────────────────────────────────────────────┬────────────────────────────────────────────┬────────────┬───────────────┬─────────────────────────────┬────────────────┬────────────┬──────────────────┬─────────────────────┬────────┬─────────┬────────────────────────────────────────────┬────────────────────────────────────────────┬────────────────────────────────────────────┬────────────────────────────────────────────────────────────────────────────────────────────────────────────────────────────────────────────────────────────────────────────────────────────────────────────────────────────────────────────────────────────────────────────────────────────────────────────────────────────────────────────────────────────────────────────────────────────────────────────────────────────────────────────────────────────────────────────────────────────────────────────────────────────────────────────────────────────────────────────────────────────────────────────────────────────────────────────────────────────────────────────────────────────────────────────────────────────────────────────────────────────────────────────────────────────────────────────────────────────────────────────────────────────────────────────────────────────────────────────────────────────────────────────────────────────────────────────────────────────────────────────────────────────────────────────────────────────────────────────────────────────────────────────────────────────────────────────────────────────────────────────────────────────────────────────────────────────────────────────────────────────────────────────────────────────────────────────────────────────────────────────────────────────────────────────────────────────────────────────────────────────────────────────────────────────────────────────────────────────────────────────────────────────────────────────┐\n",
      "│                          transaction_hash                          │              tx_from_address               │              bundler_address               │ trace_root │ trace_address │ innerhandleop_trace_address │ is_from_sender │ userop_idx │ is_innerhandleop │ useropevent_success │ status │  error  │               userop_sender                │                from_address                │                 to_address                 │                                                                                                                                                                                                                                                                                                                                                                                                                                                                                                                                                                                                                                                                                                                                                                   input                                                                                                                                                                                                                                                                                                                                                                                                                                                                                                                                                                                                                                                                                                                                                                    │\n",
      "│                              varchar                               │                  varchar                   │                  varchar                   │   int32    │    varchar    │           varchar           │    boolean     │   int64    │     boolean      │       boolean       │ int64  │ varchar │                  varchar                   │                  varchar                   │                  varchar                   │                                                                                                                                                                                                                                                                                                                                                                                                                                                                                                                                                                                                                                                                                                                                                                  varchar                                                                                                                                                                                                                                                                                                                                                                                                                                                                                                                                                                                                                                                                                                                                                                   │\n",
      "├────────────────────────────────────────────────────────────────────┼────────────────────────────────────────────┼────────────────────────────────────────────┼────────────┼───────────────┼─────────────────────────────┼────────────────┼────────────┼──────────────────┼─────────────────────┼────────┼─────────┼────────────────────────────────────────────┼────────────────────────────────────────────┼────────────────────────────────────────────┼────────────────────────────────────────────────────────────────────────────────────────────────────────────────────────────────────────────────────────────────────────────────────────────────────────────────────────────────────────────────────────────────────────────────────────────────────────────────────────────────────────────────────────────────────────────────────────────────────────────────────────────────────────────────────────────────────────────────────────────────────────────────────────────────────────────────────────────────────────────────────────────────────────────────────────────────────────────────────────────────────────────────────────────────────────────────────────────────────────────────────────────────────────────────────────────────────────────────────────────────────────────────────────────────────────────────────────────────────────────────────────────────────────────────────────────────────────────────────────────────────────────────────────────────────────────────────────────────────────────────────────────────────────────────────────────────────────────────────────────────────────────────────────────────────────────────────────────────────────────────────────────────────────────────────────────────────────────────────────────────────────────────────────────────────────────────────────────────────────────────────────────────────────────────────────────────────────────────────────────────────────────────────────────────────────────┤\n",
      "│ 0x6e7b82e957641c9178e0aa7d84d9ca170898d984928e271c714b2758ae57e461 │ 0xf70da97812cb96acdf810712aa562db8dfa3dbef │ 0xb90ed4c123843cbfd66b11411ee7694ef37e6e72 │          0 │ 0,0,1         │ 0,0,1                       │ false          │       NULL │ true             │ true                │      1 │         │ 0x4a913953a57658ad6703967871167f22ce6e6f5a │ 0x5ff137d4b0fdcd49dca30c7cf57e578a026d2789 │ 0x5ff137d4b0fdcd49dca30c7cf57e578a026d2789 │ 0x1d73275600000000000000000000000000000000000000000000000000000000000001c00000000000000000000000004a913953a57658ad6703967871167f22ce6e6f5a0000000000000000000000000000000000000000000021050000000000000002000000000000000000000000000000000000000000000000000000000001672e000000000000000000000000000000000000000000000000000000000008a29c00000000000000000000000000000000000000000000000000000000000279fe000000000000000000000000000000000000000000000000000000000000000000000000000000000000000000000000000000000000000000000000000000000000000000000000000000000000000000000000000000000000000000000000a2130e6dff24327a7bbcc37c97d840a589965410639b8c01b7f47dd2cdb9e3e3000000000000000000000000000000000000000000000000000000000000000000000000000000000000000000000000000000000000000000000000000000600000000000000000000000000000000000000000000000000000000000032ad500000000000000000000000000000000000000000000000000000000000002c000000000000000000000000000000000000000000000000000000000000000c42c2abd1e00000000000000000000000000000000000000000000000000000000000000200000000000000000000000000000000000000000000000000000000000000001000000000000000000000000000000000000000000000000000000000000002000000000000000000000000000000000000000000000000000000000000000240f0f3f24000000000000000000000000d118dd73914a2449cd997acb74eb0bc0f239c87000000000000000000000000000000000000000000000000000000000000000000000000000000000000000000000000000000000000000000000000000000000000000000000000000000000000000000000000000000000 │\n",
      "│ 0x6e7b82e957641c9178e0aa7d84d9ca170898d984928e271c714b2758ae57e461 │ 0xf70da97812cb96acdf810712aa562db8dfa3dbef │ 0xb90ed4c123843cbfd66b11411ee7694ef37e6e72 │          0 │ 0,0,1,0       │ 0,0,1                       │ false          │       NULL │ false            │ true                │      1 │         │ 0x4a913953a57658ad6703967871167f22ce6e6f5a │ 0x5ff137d4b0fdcd49dca30c7cf57e578a026d2789 │ 0x4a913953a57658ad6703967871167f22ce6e6f5a │ 0x2c2abd1e00000000000000000000000000000000000000000000000000000000000000200000000000000000000000000000000000000000000000000000000000000001000000000000000000000000000000000000000000000000000000000000002000000000000000000000000000000000000000000000000000000000000000240f0f3f24000000000000000000000000d118dd73914a2449cd997acb74eb0bc0f239c87000000000000000000000000000000000000000000000000000000000                                                                                                                                                                                                                                                                                                                                                                                                                                                                                                                                                                                                                                                                                                                                                                                                                                                                                                                                                                                                                                                                                                                                 │\n",
      "│ 0x6e7b82e957641c9178e0aa7d84d9ca170898d984928e271c714b2758ae57e461 │ 0xf70da97812cb96acdf810712aa562db8dfa3dbef │ 0xb90ed4c123843cbfd66b11411ee7694ef37e6e72 │          0 │ 0,0,1,0,0,0   │ 0,0,1                       │ true           │          1 │ false            │ true                │      1 │         │ 0x4a913953a57658ad6703967871167f22ce6e6f5a │ 0x4a913953a57658ad6703967871167f22ce6e6f5a │ 0x4a913953a57658ad6703967871167f22ce6e6f5a │ 0x0f0f3f24000000000000000000000000d118dd73914a2449cd997acb74eb0bc0f239c870                                                                                                                                                                                                                                                                                                                                                                                                                                                                                                                                                                                                                                                                                                                                                                                                                                                                                                                                                                                                                                                                                                                                                                                                                                                                                                                                                                                                                                                                 │\n",
      "└────────────────────────────────────────────────────────────────────┴────────────────────────────────────────────┴────────────────────────────────────────────┴────────────┴───────────────┴─────────────────────────────┴────────────────┴────────────┴──────────────────┴─────────────────────┴────────┴─────────┴────────────────────────────────────────────┴────────────────────────────────────────────┴────────────────────────────────────────────┴────────────────────────────────────────────────────────────────────────────────────────────────────────────────────────────────────────────────────────────────────────────────────────────────────────────────────────────────────────────────────────────────────────────────────────────────────────────────────────────────────────────────────────────────────────────────────────────────────────────────────────────────────────────────────────────────────────────────────────────────────────────────────────────────────────────────────────────────────────────────────────────────────────────────────────────────────────────────────────────────────────────────────────────────────────────────────────────────────────────────────────────────────────────────────────────────────────────────────────────────────────────────────────────────────────────────────────────────────────────────────────────────────────────────────────────────────────────────────────────────────────────────────────────────────────────────────────────────────────────────────────────────────────────────────────────────────────────────────────────────────────────────────────────────────────────────────────────────────────────────────────────────────────────────────────────────────────────────────────────────────────────────────────────────────────────────────────────────────────────────────────────────────────────────────────────────────────────────────────────────────────────────────────────────────────────┘\n",
      "\n"
     ]
    }
   ],
   "source": [
    "## NON-STANDARD AA BUNDLE\n",
    "\n",
    "ctx.client.sql(f\"\"\"\n",
    "    SELECT \n",
    "        transaction_hash, \n",
    "        tx_from_address,\n",
    "        bundler_address,\n",
    "        trace_root, \n",
    "        trace_address, \n",
    "        innerhandleop_trace_address, \n",
    "        is_from_sender, \n",
    "        userop_idx,\n",
    "        is_innerhandleop,\n",
    "        useropevent_success,\n",
    "        status,\n",
    "        error,\n",
    "        userop_sender,\n",
    "        from_address, \n",
    "        to_address,\n",
    "        input\n",
    "    FROM {entrypoint_traces} \n",
    "    WHERE transaction_hash = '0x6e7b82e957641c9178e0aa7d84d9ca170898d984928e271c714b2758ae57e461'\n",
    "    ORDER BY TRY_CAST(trace_root AS INT), trace_address\n",
    "\"\"\").show(max_rows=100)\n"
   ]
  },
  {
   "cell_type": "code",
   "execution_count": null,
   "metadata": {},
   "outputs": [],
   "source": [
    "ctx.client.sql(f\"\"\"\n",
    "    SELECT * FROM {user_ops} \n",
    "    WHERE transaction_hash = '0x6e7b82e957641c9178e0aa7d84d9ca170898d984928e271c714b2758ae57e461'\n",
    "    ORDER BY log_index\n",
    "    \"\"\")"
   ]
  },
  {
   "cell_type": "code",
   "execution_count": null,
   "metadata": {},
   "outputs": [],
   "source": [
    "ctx.client.sql(f\"\"\"\n",
    "    SELECT \n",
    "        transaction_hash, \n",
    "        tx_from_address,\n",
    "        bundler_address,\n",
    "        trace_root, \n",
    "        trace_address, \n",
    "        innerhandleop_trace_address, \n",
    "        is_from_sender, \n",
    "        userop_idx,\n",
    "        is_innerhandleop,\n",
    "        is_innerhandleop_subtrace,\n",
    "        useropevent_success,\n",
    "        call_type,\n",
    "        status,\n",
    "        error,\n",
    "        userop_sender,\n",
    "        from_address, \n",
    "        to_address,\n",
    "        input\n",
    "    FROM {entrypoint_traces} \n",
    "    WHERE transaction_hash = '0x06165bd4e48a4af2b89d8f990754fa394388029f30cf5b11b81f0f948a3d9d53'\n",
    "    ORDER BY transaction_hash, TRY_CAST(trace_root AS INT), trace_address\n",
    "    LIMIT 100\n",
    "\"\"\").show(max_rows=100)\n"
   ]
  },
  {
   "cell_type": "code",
   "execution_count": null,
   "metadata": {},
   "outputs": [],
   "source": []
  }
 ],
 "metadata": {
  "kernelspec": {
   "display_name": ".venv",
   "language": "python",
   "name": "python3"
  },
  "language_info": {
   "codemirror_mode": {
    "name": "ipython",
    "version": 3
   },
   "file_extension": ".py",
   "mimetype": "text/x-python",
   "name": "python",
   "nbconvert_exporter": "python",
   "pygments_lexer": "ipython3",
   "version": "3.12.6"
  }
 },
 "nbformat": 4,
 "nbformat_minor": 2
}
