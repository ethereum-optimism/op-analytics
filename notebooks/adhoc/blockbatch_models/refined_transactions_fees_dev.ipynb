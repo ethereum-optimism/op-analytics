{
 "cells": [
  {
   "cell_type": "code",
   "execution_count": 1,
   "id": "f4ec0c3d",
   "metadata": {},
   "outputs": [],
   "source": [
    "from pprint import pprint\n",
    "\n",
    "from op_analytics.coreutils.partitioned.location import DataLocation\n",
    "from op_analytics.coreutils.partitioned.reader import DataReader\n",
    "from op_analytics.datapipeline.etl.ingestion.reader.byblock import construct_readers_byblock\n",
    "from op_analytics.datapipeline.etl.ingestion.reader.request import BlockBatchRequest\n",
    "from op_analytics.datapipeline.models.compute.modelspec import ModelsDataSpec\n",
    "from op_analytics.datapipeline.models.compute.testutils import setup_execution_context"
   ]
  },
  {
   "cell_type": "code",
   "execution_count": 2,
   "id": "86bb3622",
   "metadata": {},
   "outputs": [
    {
     "name": "stdout",
     "output_type": "stream",
     "text": [
      "\u001b[2m2025-07-21 18:16:47\u001b[0m [\u001b[32m\u001b[1mdebug    \u001b[0m] \u001b[1mconnecting to GOLDSKY Clickhouse client...\u001b[0m \u001b[36mcounter\u001b[0m=\u001b[35m001/001\u001b[0m \u001b[36meta\u001b[0m=\u001b[35mNone\u001b[0m \u001b[36mfilename\u001b[0m=\u001b[35mclient.py\u001b[0m \u001b[36mlineno\u001b[0m=\u001b[35m56\u001b[0m \u001b[36mprocess\u001b[0m=\u001b[35m65921\u001b[0m\n",
      "\u001b[2m2025-07-21 18:16:47\u001b[0m [\u001b[32m\u001b[1minfo     \u001b[0m] \u001b[1mloaded vault from .env file   \u001b[0m \u001b[36mcounter\u001b[0m=\u001b[35m001/001\u001b[0m \u001b[36meta\u001b[0m=\u001b[35mNone\u001b[0m \u001b[36mfilename\u001b[0m=\u001b[35mvault.py\u001b[0m \u001b[36mlineno\u001b[0m=\u001b[35m32\u001b[0m \u001b[36mprocess\u001b[0m=\u001b[35m65921\u001b[0m\n",
      "\u001b[2m2025-07-21 18:16:47\u001b[0m [\u001b[32m\u001b[1mdebug    \u001b[0m] \u001b[1mloaded vault: 28 items        \u001b[0m \u001b[36mcounter\u001b[0m=\u001b[35m001/001\u001b[0m \u001b[36meta\u001b[0m=\u001b[35mNone\u001b[0m \u001b[36mfilename\u001b[0m=\u001b[35mvault.py\u001b[0m \u001b[36mlineno\u001b[0m=\u001b[35m79\u001b[0m \u001b[36mprocess\u001b[0m=\u001b[35m65921\u001b[0m\n",
      "\u001b[2m2025-07-21 18:16:48\u001b[0m [\u001b[32m\u001b[1mdebug    \u001b[0m] \u001b[1minitialized GOLDSKY Clickhouse client.\u001b[0m \u001b[36mcounter\u001b[0m=\u001b[35m001/001\u001b[0m \u001b[36meta\u001b[0m=\u001b[35mNone\u001b[0m \u001b[36mfilename\u001b[0m=\u001b[35mclient.py\u001b[0m \u001b[36mlineno\u001b[0m=\u001b[35m61\u001b[0m \u001b[36mprocess\u001b[0m=\u001b[35m65921\u001b[0m\n",
      "\u001b[2m2025-07-21 18:16:48\u001b[0m [\u001b[32m\u001b[1minfo     \u001b[0m] \u001b[1mquerying markers at time range min: 2025-07-20 00:00:00, max: 2025-07-21 00:00:00 root_paths=['ingestion/blocks_v1', 'ingestion/traces_v1', 'ingestion/transactions_v1']\u001b[0m \u001b[36mfilename\u001b[0m=\u001b[35mrequest.py\u001b[0m \u001b[36mlineno\u001b[0m=\u001b[35m146\u001b[0m \u001b[36mprocess\u001b[0m=\u001b[35m65921\u001b[0m\n",
      "\u001b[2m2025-07-21 18:16:48\u001b[0m [\u001b[32m\u001b[1mdebug    \u001b[0m] \u001b[1mconnecting to OPLABS Clickhouse client...\u001b[0m \u001b[36mfilename\u001b[0m=\u001b[35mclient.py\u001b[0m \u001b[36mlineno\u001b[0m=\u001b[35m56\u001b[0m \u001b[36mprocess\u001b[0m=\u001b[35m65921\u001b[0m\n",
      "\u001b[2m2025-07-21 18:16:48\u001b[0m [\u001b[32m\u001b[1mdebug    \u001b[0m] \u001b[1minitialized OPLABS Clickhouse client.\u001b[0m \u001b[36mfilename\u001b[0m=\u001b[35mclient.py\u001b[0m \u001b[36mlineno\u001b[0m=\u001b[35m61\u001b[0m \u001b[36mprocess\u001b[0m=\u001b[35m65921\u001b[0m\n",
      "\u001b[2m2025-07-21 18:16:48\u001b[0m [\u001b[32m\u001b[1minfo     \u001b[0m] \u001b[1mprepared 217 input batches.   \u001b[0m \u001b[36mfilename\u001b[0m=\u001b[35mbyblock.py\u001b[0m \u001b[36mlineno\u001b[0m=\u001b[35m92\u001b[0m \u001b[36mprocess\u001b[0m=\u001b[35m65921\u001b[0m\n",
      "DataReader(partitions=Partition(cols=[PartitionColumn(name='chain',\n",
      "                                                      value='base'),\n",
      "                                      PartitionColumn(name='dt',\n",
      "                                                      value='2025-07-20')]),\n",
      "           read_from=DataLocation.GCS,\n",
      "           dataset_paths={'ingestion/blocks_v1': ['gs://oplabs-tools-data-sink/ingestion/blocks_v1/chain=base/dt=2025-07-20/000033090000.parquet'],\n",
      "                          'ingestion/traces_v1': ['gs://oplabs-tools-data-sink/ingestion/traces_v1/chain=base/dt=2025-07-20/000033090000.parquet'],\n",
      "                          'ingestion/transactions_v1': ['gs://oplabs-tools-data-sink/ingestion/transactions_v1/chain=base/dt=2025-07-20/000033090000.parquet']},\n",
      "           inputs_ready=True,\n",
      "           extra_marker_data={'max_block': 33090200,\n",
      "                              'min_block': 33090000,\n",
      "                              'num_blocks': 200})\n",
      "\u001b[2m2025-07-21 18:16:48\u001b[0m [\u001b[32m\u001b[1minfo     \u001b[0m] \u001b[1minitialized duckdb at /var/folders/80/jqw6kmgj7j34j0x4mcs6hcl00000gn/T/g4hp3nlo/op-analytics.duck.db\u001b[0m \u001b[36mfilename\u001b[0m=\u001b[35mclient.py\u001b[0m \u001b[36mlineno\u001b[0m=\u001b[35m118\u001b[0m \u001b[36mprocess\u001b[0m=\u001b[35m65921\u001b[0m\n",
      "\u001b[2m2025-07-21 18:16:48\u001b[0m [\u001b[32m\u001b[1minfo     \u001b[0m] \u001b[1mcreate duckddb gcs secret     \u001b[0m \u001b[36mfilename\u001b[0m=\u001b[35mclient.py\u001b[0m \u001b[36mlineno\u001b[0m=\u001b[35m66\u001b[0m \u001b[36mprocess\u001b[0m=\u001b[35m65921\u001b[0m\n",
      "\u001b[2m2025-07-21 18:16:48\u001b[0m [\u001b[32m\u001b[1minfo     \u001b[0m] \u001b[1mreading dataset='ingestion/blocks_v1' using 1/1 parquet paths, first path is gs://oplabs-tools-data-sink/ingestion/blocks_v1/chain=base/dt=2025-07-20/000033090000.parquet\u001b[0m \u001b[36mfilename\u001b[0m=\u001b[35mreader.py\u001b[0m \u001b[36mlineno\u001b[0m=\u001b[35m87\u001b[0m \u001b[36mprocess\u001b[0m=\u001b[35m65921\u001b[0m\n",
      "\u001b[2m2025-07-21 18:16:48\u001b[0m [\u001b[32m\u001b[1minfo     \u001b[0m] \u001b[1mreading dataset='ingestion/traces_v1' using 1/1 parquet paths, first path is gs://oplabs-tools-data-sink/ingestion/traces_v1/chain=base/dt=2025-07-20/000033090000.parquet\u001b[0m \u001b[36mfilename\u001b[0m=\u001b[35mreader.py\u001b[0m \u001b[36mlineno\u001b[0m=\u001b[35m87\u001b[0m \u001b[36mprocess\u001b[0m=\u001b[35m65921\u001b[0m\n",
      "\u001b[2m2025-07-21 18:16:48\u001b[0m [\u001b[32m\u001b[1minfo     \u001b[0m] \u001b[1mreading dataset='ingestion/transactions_v1' using 1/1 parquet paths, first path is gs://oplabs-tools-data-sink/ingestion/transactions_v1/chain=base/dt=2025-07-20/000033090000.parquet\u001b[0m \u001b[36mfilename\u001b[0m=\u001b[35mreader.py\u001b[0m \u001b[36mlineno\u001b[0m=\u001b[35m87\u001b[0m \u001b[36mprocess\u001b[0m=\u001b[35m65921\u001b[0m\n",
      "\n",
      "INPUT: ingestion/blocks_v1\n",
      "INPUT: ingestion/traces_v1\n",
      "INPUT: ingestion/transactions_v1\n",
      "\n",
      "AUX TEMPLATE: refined_transactions_fees\n",
      "AUX TEMPLATE: refined_traces/traces_projection\n",
      "AUX TEMPLATE: refined_traces/traces_with_gas_used\n",
      "AUX TEMPLATE: refined_traces/traces_txs_join\n"
     ]
    }
   ],
   "source": [
    "model_name = \"refined_traces\"\n",
    "\n",
    "\n",
    "# Prepare data raeders\n",
    "data_spec = ModelsDataSpec(models=[model_name],\n",
    "    root_path_prefix=\"blockbatch\")\n",
    "blockbatch_request = BlockBatchRequest.build(\n",
    "    chains=[\"base\"],\n",
    "    range_spec=\"@20250720:+1\",\n",
    "    root_paths_to_read=data_spec.input_root_paths,\n",
    ")\n",
    "readers: list[DataReader] = construct_readers_byblock(\n",
    "    blockbatch_request=blockbatch_request,\n",
    "    read_from=DataLocation.GCS,\n",
    ")\n",
    "\n",
    "\n",
    "# Show details for the batch we are processing.\n",
    "pprint(readers[0])\n",
    "\n",
    "# Set up execution context and get handles to model input args.\n",
    "# In subsequent cells you can use the model input args however you want.\n",
    "ctx, input_datasets, auxiliary_templates = setup_execution_context(\n",
    "    model_name=model_name,\n",
    "    data_reader=readers[0],  # use the first reader\n",
    ")"
   ]
  },
  {
   "cell_type": "code",
   "execution_count": 3,
   "id": "96900bc5",
   "metadata": {},
   "outputs": [
    {
     "name": "stdout",
     "output_type": "stream",
     "text": [
      "\u001b[2m2025-07-21 18:16:48\u001b[0m [\u001b[32m\u001b[1minfo     \u001b[0m] \u001b[1mconstructed read_parquet() string with 1 paths\u001b[0m \u001b[36mfilename\u001b[0m=\u001b[35mclient.py\u001b[0m \u001b[36mlineno\u001b[0m=\u001b[35m291\u001b[0m \u001b[36mprocess\u001b[0m=\u001b[35m65921\u001b[0m\n",
      "\u001b[2m2025-07-21 18:16:48\u001b[0m [\u001b[32m\u001b[1minfo     \u001b[0m] \u001b[1mconstructed read_parquet() string with 1 paths\u001b[0m \u001b[36mfilename\u001b[0m=\u001b[35mclient.py\u001b[0m \u001b[36mlineno\u001b[0m=\u001b[35m291\u001b[0m \u001b[36mprocess\u001b[0m=\u001b[35m65921\u001b[0m\n",
      "\u001b[2m2025-07-21 18:16:48\u001b[0m [\u001b[32m\u001b[1minfo     \u001b[0m] \u001b[1mRendering query               \u001b[0m \u001b[36mfilename\u001b[0m=\u001b[35mquerybuilder.py\u001b[0m \u001b[36mlineno\u001b[0m=\u001b[35m40\u001b[0m \u001b[36mprocess\u001b[0m=\u001b[35m65921\u001b[0m \u001b[36mtemplate\u001b[0m=\u001b[35mrefined_transactions_fees\u001b[0m\n",
      "\u001b[2m2025-07-21 18:16:53\u001b[0m [\u001b[32m\u001b[1minfo     \u001b[0m] \u001b[1mduck db size: 12.3KB          \u001b[0m \u001b[36mfilename\u001b[0m=\u001b[35mclient.py\u001b[0m \u001b[36mlineno\u001b[0m=\u001b[35m40\u001b[0m \u001b[36mprocess\u001b[0m=\u001b[35m65921\u001b[0m\n"
     ]
    }
   ],
   "source": [
    "refined_txs_table = auxiliary_templates[\"refined_transactions_fees\"].create_table(\n",
    "    duckdb_context=ctx,\n",
    "    template_parameters={\n",
    "        \"raw_blocks\": input_datasets[\"ingestion/blocks_v1\"].as_subquery(),\n",
    "        \"raw_transactions\": input_datasets[\"ingestion/transactions_v1\"].as_subquery(),\n",
    "         \"extra_cols\": []  # or provide actual column expressions as strings\n",
    "    }\n",
    ")"
   ]
  },
  {
   "cell_type": "code",
   "execution_count": 6,
   "id": "fa7f46b5",
   "metadata": {},
   "outputs": [
    {
     "name": "stdout",
     "output_type": "stream",
     "text": [
      "┌───────┬────────┬──────┬─────────┬──────────┬─────────┬───────┬───────────────────┬──────────────┬────────────┬──────────────┬─────────────────┬─────────┬──────────────────┬───────────┬───────────┬─────────────┬─────────────────────┬────────┬──────────────┬──────────────────┬──────────────────┬──────────────────────────┬───────────────────────────────────┬───────────────┬────────────────────┬─────────────────────────┬──────────────────────────┬────────┬─────────────────┬─────────────┬───────────┬─────────┬───────────────────┬──────────────────┬───────────────────────┬─────────────────────────────────────┬────────────┬────────────────┬─────────────────────┬────────┬─────────────────────┬────────────────┬─────────────────────┬────────────────┬─────────────────────┬────────────────┬────────────────┬────────────────┬────────────────────┬────────────────────┬────────────────────┬────────────────────────┬────────────────────────────┬───────────────────┬────────────────────────┬────────────────────────────────┬────────────────────────────┬────────────────────────────────┬────────────────────────┬─────────────────────────────┐\n",
      "│ diff  │ diff_2 │  dt  │  chain  │ chain_id │ network │ nonce │ transaction_index │ from_address │ to_address │ block_number │ block_timestamp │  hash   │ transaction_type │ gas_price │ gas_limit │ l2_gas_used │ receipt_l1_gas_used │ l1_fee │ l1_gas_price │ l1_blob_base_fee │ base_fee_per_gas │ max_priority_fee_per_gas │ effective_l2_priority_fee_per_gas │ l1_fee_scalar │ l1_base_fee_scalar │ l1_blob_base_fee_scalar │ legacy_extra_fee_per_gas │ l2_fee │ l2_priority_fee │ l2_base_fee │ method_id │ success │ input_byte_length │ input_zero_bytes │ is_system_transaction │ is_attributes_deposited_transaction │ block_hour │ estimated_size │ l1_gas_used_unified │ tx_fee │ l2_legacy_extra_fee │  l1_base_fee   │ l1_base_scaled_size │  l1_blob_fee   │ l1_blob_scaled_size │ tx_fee_native  │ l1_fee_native  │ l2_fee_native  │ l1_base_fee_native │ l1_blob_fee_native │ l2_base_fee_native │ l2_priority_fee_native │ l2_legacy_extra_fee_native │ l2_gas_price_gwei │ l2_base_gas_price_gwei │ max_l2_priority_gas_price_gwei │ l2_priority_gas_price_gwei │ l2_legacy_extra_gas_price_gwei │ l1_base_gas_price_gwei │ l1_blob_base_gas_price_gwei │\n",
      "│ int64 │ int64  │ date │ varchar │  int32   │ varchar │ int64 │       int64       │   varchar    │  varchar   │    int64     │     uint32      │ varchar │      int32       │   int64   │   int64   │    int64    │        int64        │ int64  │    int64     │      int64       │      int64       │          int64           │               int64               │ decimal(12,6) │   decimal(26,7)    │      decimal(26,7)      │          int64           │ int64  │      int64      │    int64    │  varchar  │ boolean │       int32       │      int32       │        boolean        │               boolean               │ timestamp  │     int64      │        int64        │ int64  │        int64        │ decimal(38,12) │   decimal(38,12)    │ decimal(38,12) │   decimal(38,12)    │ decimal(38,19) │ decimal(38,19) │ decimal(38,19) │   decimal(38,19)   │   decimal(38,19)   │   decimal(38,19)   │     decimal(38,19)     │       decimal(38,19)       │  decimal(38,10)   │     decimal(38,10)     │         decimal(38,10)         │       decimal(38,10)       │         decimal(38,10)         │     decimal(38,10)     │       decimal(38,10)        │\n",
      "├───────┴────────┴──────┴─────────┴──────────┴─────────┴───────┴───────────────────┴──────────────┴────────────┴──────────────┴─────────────────┴─────────┴──────────────────┴───────────┴───────────┴─────────────┴─────────────────────┴────────┴──────────────┴──────────────────┴──────────────────┴──────────────────────────┴───────────────────────────────────┴───────────────┴────────────────────┴─────────────────────────┴──────────────────────────┴────────┴─────────────────┴─────────────┴───────────┴─────────┴───────────────────┴──────────────────┴───────────────────────┴─────────────────────────────────────┴────────────┴────────────────┴─────────────────────┴────────┴─────────────────────┴────────────────┴─────────────────────┴────────────────┴─────────────────────┴────────────────┴────────────────┴────────────────┴────────────────────┴────────────────────┴────────────────────┴────────────────────────┴────────────────────────────┴───────────────────┴────────────────────────┴────────────────────────────────┴────────────────────────────┴────────────────────────────────┴────────────────────────┴─────────────────────────────┤\n",
      "│                                                                                                                                                                                                                                                                                                                                                                                                                                                                                                                                                                                    0 rows                                                                                                                                                                                                                                                                                                                                                                                                                                                                                                                                                                                     │\n",
      "└───────────────────────────────────────────────────────────────────────────────────────────────────────────────────────────────────────────────────────────────────────────────────────────────────────────────────────────────────────────────────────────────────────────────────────────────────────────────────────────────────────────────────────────────────────────────────────────────────────────────────────────────────────────────────────────────────────────────────────────────────────────────────────────────────────────────────────────────────────────────────────────────────────────────────────────────────────────────────────────────────────────────────────────────────────────────────────────────────────────────────────────────────────────────────────────────────────────────────────────────────────────────────────────────────────────────────────────────────────────────────────────────────────────────────────────────────────────────────────────────────────────────────────────────────────────────────────────────────────────────────────────────────────────────────────────────────────────────────────────────────────────────┘\n",
      "\n"
     ]
    }
   ],
   "source": [
    "# check the difference between the calculated fees and the actual fees\n",
    "ctx.client.sql(\"\"\"\n",
    "SELECT \n",
    "    (effective_l2_priority_fee_per_gas + base_fee_per_gas + legacy_extra_fee_per_gas) - gas_price AS diff,\n",
    "    ( l1_fee + l2_base_fee+l2_priority_fee+l2_legacy_extra_fee) - tx_fee AS diff_2,\n",
    "    *\n",
    "FROM refined_transactions_fees\n",
    "WHERE \n",
    "    gas_price > 0\n",
    "    AND transaction_index > 0\n",
    "    AND (effective_l2_priority_fee_per_gas + base_fee_per_gas + legacy_extra_fee_per_gas) - gas_price != 0\n",
    "    -- AND ( l1_fee + l2_base_fee+l2_priority_fee+l2_legacy_extra_fee) - tx_fee != 0\n",
    "\"\"\").show(max_rows=100)"
   ]
  }
 ],
 "metadata": {
  "kernelspec": {
   "display_name": ".venv",
   "language": "python",
   "name": "python3"
  },
  "language_info": {
   "codemirror_mode": {
    "name": "ipython",
    "version": 3
   },
   "file_extension": ".py",
   "mimetype": "text/x-python",
   "name": "python",
   "nbconvert_exporter": "python",
   "pygments_lexer": "ipython3",
   "version": "3.12.3"
  }
 },
 "nbformat": 4,
 "nbformat_minor": 5
}
