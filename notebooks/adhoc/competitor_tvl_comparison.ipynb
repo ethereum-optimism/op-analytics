{
 "cells": [
  {
   "cell_type": "code",
   "execution_count": 1,
   "id": "664f04ae-afaa-4637-a53c-6179074b2a41",
   "metadata": {
    "execution": {
     "iopub.execute_input": "2025-02-07T21:19:49.395279Z",
     "iopub.status.busy": "2025-02-07T21:19:49.394960Z",
     "iopub.status.idle": "2025-02-07T21:19:49.484042Z",
     "shell.execute_reply": "2025-02-07T21:19:49.483735Z",
     "shell.execute_reply.started": "2025-02-07T21:19:49.395247Z"
    }
   },
   "outputs": [],
   "source": [
    "%load_ext autoreload\n",
    "%autoreload 2\n",
    "\n",
    "import plotly.io as pio\n",
    "pio.renderers.default = 'iframe'"
   ]
  },
  {
   "cell_type": "code",
   "execution_count": 2,
   "id": "958b0d37-0828-422d-893d-488ccd9d6fc7",
   "metadata": {
    "execution": {
     "iopub.execute_input": "2025-02-07T21:19:49.484376Z",
     "iopub.status.busy": "2025-02-07T21:19:49.484313Z",
     "iopub.status.idle": "2025-02-07T21:19:50.077612Z",
     "shell.execute_reply": "2025-02-07T21:19:50.077383Z",
     "shell.execute_reply.started": "2025-02-07T21:19:49.484369Z"
    }
   },
   "outputs": [],
   "source": [
    "import pandas as pd\n",
    "import plotly.express as px\n",
    "import numpy as np\n",
    "import pandas as pd\n",
    "import re\n",
    "from datetime import timedelta\n",
    "import plotly.express as px\n",
    "\n",
    "from op_analytics.datasources.defillama.dataaccess import DefiLlama\n",
    "\n",
    "import urllib3\n",
    "import warnings\n",
    "pd.set_option('display.float_format', lambda x: '%.3f' % x)\n",
    "urllib3.disable_warnings()\n",
    "warnings.filterwarnings(\"ignore\")"
   ]
  },
  {
   "cell_type": "code",
   "execution_count": 44,
   "id": "495694b6-f8bc-4291-adc9-4c8ae154a9d3",
   "metadata": {
    "execution": {
     "iopub.execute_input": "2025-02-07T21:57:54.703552Z",
     "iopub.status.busy": "2025-02-07T21:57:54.702885Z",
     "iopub.status.idle": "2025-02-07T21:57:54.825972Z",
     "shell.execute_reply": "2025-02-07T21:57:54.825687Z",
     "shell.execute_reply.started": "2025-02-07T21:57:54.703518Z"
    }
   },
   "outputs": [],
   "source": [
    "\n",
    "mapping = {\n",
    "    \"Dexes\": \"Dexes\",\n",
    "    \"Liquidity manager\": \"Yield\",\n",
    "    \"Derivatives\": \"Derivatives\",\n",
    "    \"Yield Aggregator\": \"Yield\",\n",
    "    \"Indexes\": \"Yield\",\n",
    "    \"Bridge\": \"Bridge\",\n",
    "    \"Leveraged Farming\": \"Yield\",\n",
    "    \"Cross Chain\": \"Trading\",\n",
    "    \"CDP\": \"Lending\",\n",
    "    \"Farm\": \"Yield\",\n",
    "    \"Options\": \"Derivatives\",\n",
    "    \"DCA Tools\": \"Trading\",\n",
    "    \"Services\": \"TradFi/Fintech\",\n",
    "    \"Chain\": \"TradFi/Fintech\",\n",
    "    \"Privacy\": \"TradFi/Fintech\",\n",
    "    \"RWA\": \"TradFi/Fintech\",\n",
    "    \"Payments\": \"TradFi/Fintech\",\n",
    "    \"Launchpad\": \"TradFi/Fintech\",\n",
    "    \"Synthetics\": \"Derivatives\",\n",
    "    \"SoFi\": \"TradFi/Fintech\",\n",
    "    \"Prediction Market\": \"Trading\",\n",
    "    \"Token Locker\": \"Yield\",\n",
    "    \"Yield Lottery\": \"Yield\",\n",
    "    \"Algo-Stables\": \"Stablecoins\",\n",
    "    \"DEX Aggregator\": \"Dexes\",\n",
    "    \"Liquid Restaking\": \"Liquid Staking/Restaking\",\n",
    "    \"Governance Incentives\": \"Gov\",\n",
    "    \"Restaking\": \"Liquid Staking/Restaking\",\n",
    "    \"Liquid Staking\": \"Liquid Staking/Restaking\",\n",
    "    \"Uncollateralized Lending\": \"Lending\",\n",
    "    \"Managed Token Pools\": \"Trading\",\n",
    "    \"Insurance\": \"TradFi/Fintech\",\n",
    "    \"NFT Marketplace\": \"Trading\",\n",
    "    \"NFT Lending\": \"Lending\",\n",
    "    \"Options Vault\": \"Derivatives\",\n",
    "    \"NftFi\": \"Trading\",\n",
    "    \"Basis Trading\": \"Yield\",\n",
    "    \"Bug Bounty\": \"TradFi/Fintech\",\n",
    "    \"OTC Marketplace\": \"Trading\",\n",
    "    \"Reserve Currency\": \"Stablecoins\",\n",
    "    \"Gaming\": \"Other\",\n",
    "    \"AI Agents\": \"TradFi/Fintech\",\n",
    "    \"Treasury Manager\": \"TradFi/Fintech\",\n",
    "    \"CDP Manager\": \"Lending\",\n",
    "    \"Decentralized Stablecoin\": \"Stablecoins\",\n",
    "    \"Restaked BTC\": \"Liquid Staking/Restaking\",\n",
    "    \"RWA Lending\": \"Lending\",\n",
    "    \"Staking Pool\": \"Liquid Staking/Restaking\",\n",
    "    \"CeDeFi\": \"TradFi/Fintech\",\n",
    "    \"Staking\": \"Liquid Staking/Restaking\",\n",
    "    \"Oracle\": \"Other\",\n",
    "    \"Ponzi\": \"Other\",\n",
    "    \"Anchor BTC\": \"Other\",\n",
    "    \"Decentralized BTC\": \"Other\",\n",
    "    \"CEX\": \"Other\",\n",
    "    \"Lending\": \"Lending\"\n",
    "}\n"
   ]
  },
  {
   "cell_type": "code",
   "execution_count": null,
   "id": "6b3a5798-6348-4707-8344-2313a6fd2880",
   "metadata": {},
   "outputs": [],
   "source": []
  },
  {
   "cell_type": "code",
   "execution_count": 45,
   "id": "0b005458-a5b4-4e49-8d21-2d3ee473d551",
   "metadata": {
    "execution": {
     "iopub.execute_input": "2025-02-07T21:57:55.282728Z",
     "iopub.status.busy": "2025-02-07T21:57:55.282312Z",
     "iopub.status.idle": "2025-02-07T21:57:55.313312Z",
     "shell.execute_reply": "2025-02-07T21:57:55.313073Z",
     "shell.execute_reply.started": "2025-02-07T21:57:55.282701Z"
    }
   },
   "outputs": [],
   "source": [
    "from op_analytics.coreutils.duckdb_inmem.client import init_client\n",
    "from op_analytics.coreutils.duckdb_inmem.localcopy import dump_local_copy, load_local_copy\n",
    "from op_analytics.datasources.defillama.dataaccess import DefiLlama\n"
   ]
  },
  {
   "cell_type": "code",
   "execution_count": 5,
   "id": "79837373-873b-4d6e-8550-68faf6ad5eaa",
   "metadata": {
    "execution": {
     "iopub.execute_input": "2025-02-07T21:19:51.356884Z",
     "iopub.status.busy": "2025-02-07T21:19:51.355749Z",
     "iopub.status.idle": "2025-02-07T21:19:51.459879Z",
     "shell.execute_reply": "2025-02-07T21:19:51.459620Z",
     "shell.execute_reply.started": "2025-02-07T21:19:51.356838Z"
    }
   },
   "outputs": [],
   "source": [
    "\n",
    "# ctx = init_client()\n",
    "# client = ctx.client\n",
    "from google.cloud import bigquery\n",
    "from google.oauth2 import service_account\n",
    "\n",
    "# tvl_view = DefiLlama.YIELD_POOLS_HISTORICAL.read(\n",
    "#     min_date=\"2021-01-01\",\n",
    "# )\n",
    "\n",
    "# # Process protocol TVL\n",
    "# df_yield_pool = client.sql(f\"\"\"\n",
    "#     SELECT\n",
    "#         *\n",
    "#     FROM {tvl_view}\n",
    "# \"\"\").pl().to_pandas()"
   ]
  },
  {
   "cell_type": "code",
   "execution_count": 6,
   "id": "d54920f7-3ddc-497b-bca8-211cd960a638",
   "metadata": {
    "execution": {
     "iopub.execute_input": "2025-02-07T21:19:52.675640Z",
     "iopub.status.busy": "2025-02-07T21:19:52.674911Z",
     "iopub.status.idle": "2025-02-07T21:19:53.524982Z",
     "shell.execute_reply": "2025-02-07T21:19:53.524582Z",
     "shell.execute_reply.started": "2025-02-07T21:19:52.675612Z"
    }
   },
   "outputs": [],
   "source": [
    "client = bigquery.Client()"
   ]
  },
  {
   "cell_type": "code",
   "execution_count": null,
   "id": "169515ad-ee16-4d4c-b1d6-5a47842e2321",
   "metadata": {},
   "outputs": [],
   "source": [
    "query_job = client.query(query)\n",
    "\n",
    "results = query_job.result()\n",
    "\n",
    "df = results.to_dataframe()"
   ]
  },
  {
   "cell_type": "code",
   "execution_count": null,
   "id": "47cc54f9-b4ac-4264-bc66-2d51906ea87e",
   "metadata": {},
   "outputs": [],
   "source": [
    "# SELECT * FROM `oplabs-tools-data.temp.defillama_tvl_breakdown_enriched` \n",
    "# WHERE chain = 'Base'\n",
    "#   AND parent_protocol = 'aave'\n",
    "# AND dt = '2025-01-01'\n",
    "# LIMIT 1000"
   ]
  },
  {
   "cell_type": "code",
   "execution_count": 14,
   "id": "559aa832-56fa-4e7a-81b1-a52fd72e8c01",
   "metadata": {
    "execution": {
     "iopub.execute_input": "2025-02-07T21:19:14.771077Z",
     "iopub.status.busy": "2025-02-07T21:19:14.770512Z",
     "iopub.status.idle": "2025-02-07T21:19:31.667587Z",
     "shell.execute_reply": "2025-02-07T21:19:31.666540Z",
     "shell.execute_reply.started": "2025-02-07T21:19:14.771042Z"
    }
   },
   "outputs": [
    {
     "name": "stdout",
     "output_type": "stream",
     "text": [
      "\u001b[2mUsing Python 3.12.7 environment at /Users/chuck/codebase/op-analytics/.venv\u001b[0m\n",
      "\u001b[2K\u001b[2mResolved \u001b[1m9 packages\u001b[0m \u001b[2min 14.82s\u001b[0m\u001b[0m                                        \u001b[0m\n",
      "\u001b[2K\u001b[2mPrepared \u001b[1m1 package\u001b[0m \u001b[2min 1.49s\u001b[0m\u001b[0m                                              \n",
      "\u001b[2K\u001b[2mInstalled \u001b[1m1 package\u001b[0m \u001b[2min 7ms\u001b[0m\u001b[0m                                  \u001b[0m\n",
      " \u001b[32m+\u001b[39m \u001b[1mdb-dtypes\u001b[0m\u001b[2m==1.4.1\u001b[0m\n"
     ]
    }
   ],
   "source": [
    "!uv pip install db-dtypes"
   ]
  },
  {
   "cell_type": "code",
   "execution_count": 105,
   "id": "1046d9e9-2d65-4338-a9f3-0def0186c2a3",
   "metadata": {
    "execution": {
     "iopub.execute_input": "2025-02-07T22:32:04.665207Z",
     "iopub.status.busy": "2025-02-07T22:32:04.664728Z",
     "iopub.status.idle": "2025-02-07T22:32:29.043325Z",
     "shell.execute_reply": "2025-02-07T22:32:29.042921Z",
     "shell.execute_reply.started": "2025-02-07T22:32:04.665172Z"
    }
   },
   "outputs": [],
   "source": [
    "df = client.query(\n",
    "f\"\"\"\n",
    "SELECT \n",
    "    b.*,\n",
    "    m.provider_entity,\n",
    "    m.provider_entity_w_superchain\n",
    "FROM oplabs-tools-data.temp.defillama_tvl_breakdown_filtered b\n",
    "LEFT JOIN oplabs-tools-data.views.all_chains_metadata m\n",
    "    ON LOWER(b.chain) = LOWER(m.chain)\n",
    "WHERE dt = '2025-02-06'\n",
    "\"\"\").result().to_dataframe()"
   ]
  },
  {
   "cell_type": "code",
   "execution_count": 106,
   "id": "3d7e79b7-53f6-4df3-b34f-f81139ba68f9",
   "metadata": {
    "execution": {
     "iopub.execute_input": "2025-02-07T22:32:29.044138Z",
     "iopub.status.busy": "2025-02-07T22:32:29.044065Z",
     "iopub.status.idle": "2025-02-07T22:32:29.108685Z",
     "shell.execute_reply": "2025-02-07T22:32:29.108477Z",
     "shell.execute_reply.started": "2025-02-07T22:32:29.044129Z"
    }
   },
   "outputs": [],
   "source": [
    "df[\"protocol_category_mapped\"] = df[\"protocol_category\"].map(mapping, na_action=\"ignore\")\n",
    "df.loc[df[\"protocol_category_mapped\"].isna(), \"protocol_category_mapped\"] = df[\"protocol_category\"]\n"
   ]
  },
  {
   "cell_type": "code",
   "execution_count": 107,
   "id": "6db265e8-0cd0-4c93-9795-54438542ee46",
   "metadata": {
    "execution": {
     "iopub.execute_input": "2025-02-07T22:32:29.108996Z",
     "iopub.status.busy": "2025-02-07T22:32:29.108948Z",
     "iopub.status.idle": "2025-02-07T22:32:29.116926Z",
     "shell.execute_reply": "2025-02-07T22:32:29.116740Z",
     "shell.execute_reply.started": "2025-02-07T22:32:29.108990Z"
    }
   },
   "outputs": [],
   "source": [
    "# df = df[(df.to_filter_out == 0)]"
   ]
  },
  {
   "cell_type": "code",
   "execution_count": null,
   "id": "786e8d6e-8c47-4f3f-ad2f-932ffb7d235c",
   "metadata": {},
   "outputs": [],
   "source": []
  },
  {
   "cell_type": "code",
   "execution_count": null,
   "id": "ed84e396-c431-4bd2-ad1d-9f9ef72d2dc8",
   "metadata": {},
   "outputs": [],
   "source": []
  },
  {
   "cell_type": "code",
   "execution_count": null,
   "id": "ef05a13d-bab3-43e6-864e-e6a772ad22f5",
   "metadata": {},
   "outputs": [],
   "source": []
  },
  {
   "cell_type": "code",
   "execution_count": 108,
   "id": "22e71fa5-76a8-4c21-962a-30214605c560",
   "metadata": {
    "execution": {
     "iopub.execute_input": "2025-02-07T22:32:29.117601Z",
     "iopub.status.busy": "2025-02-07T22:32:29.117550Z",
     "iopub.status.idle": "2025-02-07T22:32:29.129337Z",
     "shell.execute_reply": "2025-02-07T22:32:29.129132Z",
     "shell.execute_reply.started": "2025-02-07T22:32:29.117595Z"
    }
   },
   "outputs": [],
   "source": [
    "df[\"chain_agg\"] = df.chain\n",
    "df.loc[(df.provider_entity_w_superchain == \"Arbitrum: Orbit\"), \"chain_agg\"] = \"Arbitrum Eco\"\n",
    "df.loc[(df.provider_entity_w_superchain == \"Polygon: CDK\"), \"chain_agg\"] = \"Polygon Eco\"\n",
    "df.loc[(df.provider_entity_w_superchain == \"ZKSync: ZK Stack\"), \"chain_agg\"] = \"zkSync Eco\"\n",
    "# df.loc[(df.provider_entity_w_superchain == \"Optimism: Superchain\"), \"chain_agg\"] = \"Superchain\"\n"
   ]
  },
  {
   "cell_type": "code",
   "execution_count": 135,
   "id": "06ae2799-9172-478e-a979-87c3f890ec36",
   "metadata": {
    "execution": {
     "iopub.execute_input": "2025-02-07T23:21:44.276385Z",
     "iopub.status.busy": "2025-02-07T23:21:44.274910Z",
     "iopub.status.idle": "2025-02-07T23:21:44.416007Z",
     "shell.execute_reply": "2025-02-07T23:21:44.415701Z",
     "shell.execute_reply.started": "2025-02-07T23:21:44.276308Z"
    }
   },
   "outputs": [],
   "source": [
    "\n",
    "chains_list = [\n",
    "    \"Arbitrum Eco\",\n",
    "    \"Polygon Eco\", \n",
    "    \"ZkSync Eco\",\n",
    "    \"Sui\",\n",
    "    \"Solana\",\n",
    "    \"Base\",\n",
    "    \"Optimism\",\n",
    "    \"Ink\",\n",
    "    \"World Chain\",\n",
    "    \"Soneium\",\n",
    "    \"Ethereum\"\n",
    "    \n",
    "]\n",
    "\n",
    "category_list = [\n",
    "    \"Dexs\",\n",
    "    \"Lending\",\n",
    "    \"Yield\",\n",
    "    \"Liquid Staking/Restaking\",\n",
    "    \"Derivatives\"\n",
    "    \n",
    "    \n",
    "]"
   ]
  },
  {
   "cell_type": "code",
   "execution_count": 136,
   "id": "d358af00-a237-4eea-858b-342e6aec6d90",
   "metadata": {
    "execution": {
     "iopub.execute_input": "2025-02-07T23:21:45.545797Z",
     "iopub.status.busy": "2025-02-07T23:21:45.545435Z",
     "iopub.status.idle": "2025-02-07T23:21:45.600206Z",
     "shell.execute_reply": "2025-02-07T23:21:45.599858Z",
     "shell.execute_reply.started": "2025-02-07T23:21:45.545778Z"
    }
   },
   "outputs": [],
   "source": [
    "df_pivot = df[\n",
    "    df.chain_agg.isin(chains_list)\n",
    "    & (df.protocol_category_mapped.isin(category_list))\n",
    "].pivot_table(\n",
    "    index=\"protocol_category_mapped\",\n",
    "    columns=\"chain_agg\",\n",
    "    values=\"app_token_tvl_usd\",\n",
    "    aggfunc=\"sum\"\n",
    ").reset_index()"
   ]
  },
  {
   "cell_type": "code",
   "execution_count": null,
   "id": "397557bc-8ded-4d99-9fd0-352001d9d0dc",
   "metadata": {},
   "outputs": [],
   "source": []
  },
  {
   "cell_type": "code",
   "execution_count": 139,
   "id": "5023a695-53c1-4d86-96e8-00e9d0d95aec",
   "metadata": {
    "execution": {
     "iopub.execute_input": "2025-02-07T23:22:17.892324Z",
     "iopub.status.busy": "2025-02-07T23:22:17.891705Z",
     "iopub.status.idle": "2025-02-07T23:22:17.936816Z",
     "shell.execute_reply": "2025-02-07T23:22:17.931735Z",
     "shell.execute_reply.started": "2025-02-07T23:22:17.892288Z"
    }
   },
   "outputs": [
    {
     "data": {
      "text/html": [
       "<div>\n",
       "<style scoped>\n",
       "    .dataframe tbody tr th:only-of-type {\n",
       "        vertical-align: middle;\n",
       "    }\n",
       "\n",
       "    .dataframe tbody tr th {\n",
       "        vertical-align: top;\n",
       "    }\n",
       "\n",
       "    .dataframe thead th {\n",
       "        text-align: right;\n",
       "    }\n",
       "</style>\n",
       "<table border=\"1\" class=\"dataframe\">\n",
       "  <thead>\n",
       "    <tr style=\"text-align: right;\">\n",
       "      <th>chain_agg</th>\n",
       "      <th>protocol_category_mapped</th>\n",
       "      <th>Arbitrum Eco</th>\n",
       "      <th>Base</th>\n",
       "      <th>Ethereum</th>\n",
       "      <th>Ink</th>\n",
       "      <th>Optimism</th>\n",
       "      <th>Polygon Eco</th>\n",
       "      <th>Solana</th>\n",
       "      <th>Soneium</th>\n",
       "      <th>Sui</th>\n",
       "      <th>World Chain</th>\n",
       "    </tr>\n",
       "  </thead>\n",
       "  <tbody>\n",
       "    <tr>\n",
       "      <th>0</th>\n",
       "      <td>Derivatives</td>\n",
       "      <td>616543339.602</td>\n",
       "      <td>152155064.657</td>\n",
       "      <td>564015165.777</td>\n",
       "      <td>NaN</td>\n",
       "      <td>143740875.357</td>\n",
       "      <td>4242070.384</td>\n",
       "      <td>2806773373.604</td>\n",
       "      <td>251050.750</td>\n",
       "      <td>18163202.616</td>\n",
       "      <td>NaN</td>\n",
       "    </tr>\n",
       "    <tr>\n",
       "      <th>1</th>\n",
       "      <td>Dexs</td>\n",
       "      <td>570320141.816</td>\n",
       "      <td>1608755758.081</td>\n",
       "      <td>7069369208.000</td>\n",
       "      <td>4715232.208</td>\n",
       "      <td>124053457.577</td>\n",
       "      <td>232943839.287</td>\n",
       "      <td>2383018493.409</td>\n",
       "      <td>9493898.732</td>\n",
       "      <td>375583722.573</td>\n",
       "      <td>1982618.577</td>\n",
       "    </tr>\n",
       "    <tr>\n",
       "      <th>2</th>\n",
       "      <td>Lending</td>\n",
       "      <td>1179398788.374</td>\n",
       "      <td>1144468206.971</td>\n",
       "      <td>30482911673.166</td>\n",
       "      <td>NaN</td>\n",
       "      <td>204350942.678</td>\n",
       "      <td>364879150.361</td>\n",
       "      <td>2725372103.527</td>\n",
       "      <td>6226045.110</td>\n",
       "      <td>1035122118.908</td>\n",
       "      <td>NaN</td>\n",
       "    </tr>\n",
       "    <tr>\n",
       "      <th>3</th>\n",
       "      <td>Liquid Staking/Restaking</td>\n",
       "      <td>128330125.515</td>\n",
       "      <td>21710252.797</td>\n",
       "      <td>63605680202.766</td>\n",
       "      <td>NaN</td>\n",
       "      <td>11202432.521</td>\n",
       "      <td>NaN</td>\n",
       "      <td>10611769988.558</td>\n",
       "      <td>2175085.817</td>\n",
       "      <td>535236458.604</td>\n",
       "      <td>NaN</td>\n",
       "    </tr>\n",
       "    <tr>\n",
       "      <th>4</th>\n",
       "      <td>Yield</td>\n",
       "      <td>470848016.201</td>\n",
       "      <td>606039320.654</td>\n",
       "      <td>21640796773.212</td>\n",
       "      <td>NaN</td>\n",
       "      <td>123018191.490</td>\n",
       "      <td>68062795.018</td>\n",
       "      <td>747773684.380</td>\n",
       "      <td>1300105.382</td>\n",
       "      <td>88749253.356</td>\n",
       "      <td>43.270</td>\n",
       "    </tr>\n",
       "  </tbody>\n",
       "</table>\n",
       "</div>"
      ],
      "text/plain": [
       "chain_agg  protocol_category_mapped   Arbitrum Eco           Base  \\\n",
       "0                       Derivatives  616543339.602  152155064.657   \n",
       "1                              Dexs  570320141.816 1608755758.081   \n",
       "2                           Lending 1179398788.374 1144468206.971   \n",
       "3          Liquid Staking/Restaking  128330125.515   21710252.797   \n",
       "4                             Yield  470848016.201  606039320.654   \n",
       "\n",
       "chain_agg        Ethereum         Ink      Optimism   Polygon Eco  \\\n",
       "0           564015165.777         NaN 143740875.357   4242070.384   \n",
       "1          7069369208.000 4715232.208 124053457.577 232943839.287   \n",
       "2         30482911673.166         NaN 204350942.678 364879150.361   \n",
       "3         63605680202.766         NaN  11202432.521           NaN   \n",
       "4         21640796773.212         NaN 123018191.490  68062795.018   \n",
       "\n",
       "chain_agg          Solana     Soneium            Sui  World Chain  \n",
       "0          2806773373.604  251050.750   18163202.616          NaN  \n",
       "1          2383018493.409 9493898.732  375583722.573  1982618.577  \n",
       "2          2725372103.527 6226045.110 1035122118.908          NaN  \n",
       "3         10611769988.558 2175085.817  535236458.604          NaN  \n",
       "4           747773684.380 1300105.382   88749253.356       43.270  "
      ]
     },
     "execution_count": 139,
     "metadata": {},
     "output_type": "execute_result"
    }
   ],
   "source": [
    "df_pivot"
   ]
  },
  {
   "cell_type": "code",
   "execution_count": 141,
   "id": "c7f1592d-625d-45e4-a095-45efb2366b38",
   "metadata": {
    "execution": {
     "iopub.execute_input": "2025-02-07T23:22:55.328378Z",
     "iopub.status.busy": "2025-02-07T23:22:55.328115Z",
     "iopub.status.idle": "2025-02-07T23:22:55.355089Z",
     "shell.execute_reply": "2025-02-07T23:22:55.354708Z",
     "shell.execute_reply.started": "2025-02-07T23:22:55.328362Z"
    }
   },
   "outputs": [
    {
     "data": {
      "text/plain": [
       "-4686350714.591"
      ]
     },
     "execution_count": 141,
     "metadata": {},
     "output_type": "execute_result"
    }
   ],
   "source": [
    "2383018493.409\t - 7069369208.000"
   ]
  },
  {
   "cell_type": "code",
   "execution_count": 126,
   "id": "9e5fc32f-44fb-4675-9efa-0045021fad45",
   "metadata": {
    "execution": {
     "iopub.execute_input": "2025-02-07T22:35:45.511867Z",
     "iopub.status.busy": "2025-02-07T22:35:45.511448Z",
     "iopub.status.idle": "2025-02-07T22:35:45.555909Z",
     "shell.execute_reply": "2025-02-07T22:35:45.555641Z",
     "shell.execute_reply.started": "2025-02-07T22:35:45.511844Z"
    }
   },
   "outputs": [],
   "source": [
    "df_pivot_stables = df[\n",
    "    df.chain_agg.isin(chains_list)\n",
    "    & (df.token_category == \"Stablecoins\")\n",
    "    & (df.protocol_category != \"Bridge\")\n",
    "].pivot_table(\n",
    "    index=\"token_category\",\n",
    "    columns=\"chain_agg\",\n",
    "    values=\"app_token_tvl_usd\",\n",
    "    aggfunc=\"sum\"\n",
    ").reset_index()"
   ]
  },
  {
   "cell_type": "code",
   "execution_count": 127,
   "id": "65df64e3-8577-480d-9e03-c3dea0b7b1ed",
   "metadata": {
    "execution": {
     "iopub.execute_input": "2025-02-07T22:35:46.627944Z",
     "iopub.status.busy": "2025-02-07T22:35:46.627421Z",
     "iopub.status.idle": "2025-02-07T22:35:46.665231Z",
     "shell.execute_reply": "2025-02-07T22:35:46.664696Z",
     "shell.execute_reply.started": "2025-02-07T22:35:46.627910Z"
    }
   },
   "outputs": [],
   "source": [
    "df_pivot_final = pd.concat([df_pivot, df_pivot_stables])"
   ]
  },
  {
   "cell_type": "code",
   "execution_count": 128,
   "id": "000e9e8b-542a-4461-add0-2f95af91d626",
   "metadata": {
    "execution": {
     "iopub.execute_input": "2025-02-07T22:35:47.799456Z",
     "iopub.status.busy": "2025-02-07T22:35:47.798767Z",
     "iopub.status.idle": "2025-02-07T22:35:47.834037Z",
     "shell.execute_reply": "2025-02-07T22:35:47.833405Z",
     "shell.execute_reply.started": "2025-02-07T22:35:47.799412Z"
    }
   },
   "outputs": [],
   "source": [
    "df_pivot_final[\"protocol_category_mapped\"].fillna(\"Stablecoins\", inplace=True)"
   ]
  },
  {
   "cell_type": "code",
   "execution_count": 134,
   "id": "3703d3aa-e202-4117-931c-0f461cc6f803",
   "metadata": {
    "execution": {
     "iopub.execute_input": "2025-02-07T22:38:46.580864Z",
     "iopub.status.busy": "2025-02-07T22:38:46.580391Z",
     "iopub.status.idle": "2025-02-07T22:38:46.616133Z",
     "shell.execute_reply": "2025-02-07T22:38:46.615803Z",
     "shell.execute_reply.started": "2025-02-07T22:38:46.580832Z"
    }
   },
   "outputs": [],
   "source": [
    "df_pivot_final[[\n",
    "    \"protocol_category_mapped\",\n",
    "    \"Base\",\n",
    "    \"Optimism\",\t\n",
    "    \"Soneium\",\n",
    "    \"Ink\",\n",
    "    \"World Chain\",\n",
    "    \"Solana\",\n",
    "    \"Arbitrum Eco\",\n",
    "    \"Sui\",\n",
    "    \"Polygon Eco\"]].to_csv(\"raw_tvl_chain_competitor_feb_6_2025.csv\", index=False)"
   ]
  },
  {
   "cell_type": "code",
   "execution_count": null,
   "id": "8b68eb69-2d9e-4ddd-a09b-0bc9595669a9",
   "metadata": {},
   "outputs": [],
   "source": []
  }
 ],
 "metadata": {
  "kernelspec": {
   "display_name": "op-analytics",
   "language": "python",
   "name": "venv"
  },
  "language_info": {
   "codemirror_mode": {
    "name": "ipython",
    "version": 3
   },
   "file_extension": ".py",
   "mimetype": "text/x-python",
   "name": "python",
   "nbconvert_exporter": "python",
   "pygments_lexer": "ipython3",
   "version": "3.12.7"
  }
 },
 "nbformat": 4,
 "nbformat_minor": 5
}
