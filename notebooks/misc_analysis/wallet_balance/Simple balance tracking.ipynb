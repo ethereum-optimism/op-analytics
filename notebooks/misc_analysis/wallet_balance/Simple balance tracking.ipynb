{
 "cells": [
  {
   "cell_type": "code",
   "execution_count": null,
   "id": "9d266a75",
   "metadata": {},
   "outputs": [],
   "source": [
    "import requests\n",
    "import pandas as pd\n",
    "import time\n",
    "\n",
    "# Set the API endpoint URL\n",
    "url = \"https://api-optimistic.etherscan.io/api\"\n",
    "\n",
    "# Read the list of addresses from the file\n",
    "with open(\"addresses.txt\", \"r\") as f:\n",
    "    addresses = f.read().splitlines()\n",
    "\n",
    "# Split the list of addresses into batches of size 20\n",
    "address_batches = [addresses[i : i + 20] for i in range(0, len(addresses), 20)]\n",
    "\n",
    "# Set the query parameters\n",
    "# https://docs.optimism.etherscan.io/api-endpoints/accounts#get-ether-balance-for-multiple-addresses-in-a-single-call\n",
    "payload = {\n",
    "    \"module\": \"account\",\n",
    "    \"action\": \"balancemulti\",\n",
    "    \"tag\": \"latest\",\n",
    "    # Add your key here\n",
    "    \"apikey\": \"\",\n",
    "}\n",
    "\n",
    "# Initialize an empty pandas DataFrame to store the data\n",
    "df = pd.DataFrame()\n",
    "\n",
    "# Send an HTTP GET request for each batch of addresses\n",
    "for i, batch in enumerate(address_batches):\n",
    "    # Add the batch of addresses to the query parameters\n",
    "    payload[\"address\"] = \",\".join(batch)\n",
    "\n",
    "    # Send the HTTP GET request\n",
    "    response = requests.get(url, params=payload)\n",
    "\n",
    "    # Check if the request was successful\n",
    "    if response.status_code == 200:\n",
    "        # Parse the JSON response\n",
    "        data = response.json()\n",
    "\n",
    "        # Check if there are any errors\n",
    "        if data[\"status\"] == \"1\":\n",
    "            # Print the balances of each account in the batch\n",
    "            for account in data[\"result\"]:\n",
    "                df = df.append(pd.json_normalize(data[\"result\"]))\n",
    "                time.sleep(0.25)\n",
    "        else:\n",
    "            print(f\"Error: {data['message']}\")\n",
    "    else:\n",
    "        print(f\"HTTP error {response.status_code}\")"
   ]
  },
  {
   "cell_type": "code",
   "execution_count": 41,
   "id": "ba1a581e",
   "metadata": {},
   "outputs": [
    {
     "name": "stdout",
     "output_type": "stream",
     "text": [
      "Out of 160 addresses, 112 (70.00%) have a balance greater than 0.\n"
     ]
    }
   ],
   "source": [
    "# Convert the \"balance\" column from wei to ether\n",
    "df[\"balance\"] = df[\"balance\"].astype(float) / 10**18\n",
    "\n",
    "# Create a new column indicating whether the balance is greater than zero\n",
    "df[\"has_balance\"] = df[\"balance\"] > 0\n",
    "\n",
    "# Calculate the percentage of addresses with a balance greater than zero\n",
    "percentage_positive_balance = df[\"has_balance\"].mean() * 100\n",
    "\n",
    "# Print the distribution of addresses with a balance greater than zero\n",
    "print(\n",
    "    f\"Out of {len(df)} addresses, {df['has_balance'].sum()} ({percentage_positive_balance:.2f}%) have a balance greater than 0.\"\n",
    ")"
   ]
  },
  {
   "cell_type": "code",
   "execution_count": null,
   "id": "986c900d",
   "metadata": {},
   "outputs": [],
   "source": []
  }
 ],
 "metadata": {
  "kernelspec": {
   "display_name": "Python 3 (ipykernel)",
   "language": "python",
   "name": "python3"
  },
  "language_info": {
   "codemirror_mode": {
    "name": "ipython",
    "version": 3
   },
   "file_extension": ".py",
   "mimetype": "text/x-python",
   "name": "python",
   "nbconvert_exporter": "python",
   "pygments_lexer": "ipython3",
   "version": "3.9.7"
  }
 },
 "nbformat": 4,
 "nbformat_minor": 5
}
