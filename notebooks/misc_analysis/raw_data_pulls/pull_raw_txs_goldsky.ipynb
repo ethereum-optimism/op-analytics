{
 "cells": [
  {
   "cell_type": "code",
   "execution_count": 1,
   "metadata": {},
   "outputs": [
    {
     "data": {
      "text/plain": [
       "'../../helper_functions'"
      ]
     },
     "execution_count": 1,
     "metadata": {},
     "output_type": "execute_result"
    }
   ],
   "source": [
    "import requests as r\n",
    "import pandas as pd\n",
    "import os\n",
    "\n",
    "import sys\n",
    "import csv\n",
    "from datetime import datetime, timedelta\n",
    "import time\n",
    "sys.path.append(\"../../helper_functions\")\n",
    "import clickhouse_utils as ch\n",
    "sys.path.pop()"
   ]
  },
  {
   "cell_type": "code",
   "execution_count": 2,
   "metadata": {},
   "outputs": [],
   "source": [
    "client = ch.connect_to_clickhouse_db() #Default is OPLabs DB\n",
    "\n",
    "end_date = datetime(2024, 6, 27)   # Year, Month, Day\n",
    "trailing_days = 14\n",
    "\n",
    "chain_names = [\n",
    "        ['op',True],\n",
    "        ['base',False]\n",
    "        ]"
   ]
  },
  {
   "cell_type": "code",
   "execution_count": 3,
   "metadata": {},
   "outputs": [],
   "source": [
    "extra_fields = '''\n",
    "    'receipt_l1_blob_base_fee',\n",
    "\t'receipt_l1_blob_base_fee_scalar',\n",
    "\t'receipt_l1_base_fee_scalar',\n",
    "'''"
   ]
  },
  {
   "cell_type": "code",
   "execution_count": 4,
   "metadata": {},
   "outputs": [],
   "source": [
    "query = '''\n",
    "SELECT\n",
    "        hash,\n",
    "\tnonce,\n",
    "\tblock_hash,\n",
    "\tblock_number,\n",
    "\ttransaction_index,\n",
    "\tfrom_address,\n",
    "\tto_address,\n",
    "\tvalue,\n",
    "\tgas,\n",
    "\tgas_price,\n",
    "\tsubstring(input,1,10) AS tx_method_id,\n",
    "\tmax_fee_per_gas,\n",
    "\tmax_priority_fee_per_gas,\n",
    "\ttransaction_type,\n",
    "\tblock_timestamp,\n",
    "\treceipt_cumulative_gas_used,\n",
    "\treceipt_gas_used,\n",
    "\treceipt_contract_address,\n",
    "\treceipt_effective_gas_price,\n",
    "\treceipt_root_hash,\n",
    "\treceipt_l1_fee,\n",
    "\treceipt_l1_gas_used,\n",
    "\treceipt_l1_gas_price,\n",
    "\treceipt_l1_fee_scalar,\n",
    "\t@extra_fields@\n",
    "\tchain\n",
    "FROM @chain_name@_transactions\n",
    "WHERE gas_price > 0\n",
    "        AND block_timestamp >= '@start_date@'\n",
    "        AND block_timestamp < '@end_date@'\n",
    "\n",
    "SETTINGS max_execution_time = 50000\n",
    "'''\n"
   ]
  },
  {
   "cell_type": "code",
   "execution_count": 5,
   "metadata": {},
   "outputs": [],
   "source": [
    "# Calculate start date\n",
    "start_date = end_date - timedelta(days=trailing_days)\n"
   ]
  },
  {
   "cell_type": "code",
   "execution_count": 6,
   "metadata": {},
   "outputs": [
    {
     "name": "stdout",
     "output_type": "stream",
     "text": [
      "Starting processing for op\n",
      "Querying data for 2024-06-13\n",
      "Query for op on 2024-06-13 completed in 20.96 seconds\n",
      "Querying data for 2024-06-14\n",
      "Query for op on 2024-06-14 completed in 18.65 seconds\n",
      "Querying data for 2024-06-15\n",
      "Query for op on 2024-06-15 completed in 21.12 seconds\n",
      "Querying data for 2024-06-16\n",
      "Query for op on 2024-06-16 completed in 17.66 seconds\n",
      "Querying data for 2024-06-17\n",
      "Query for op on 2024-06-17 completed in 18.44 seconds\n",
      "Querying data for 2024-06-18\n",
      "Query for op on 2024-06-18 completed in 20.66 seconds\n",
      "Querying data for 2024-06-19\n",
      "Query for op on 2024-06-19 completed in 17.28 seconds\n",
      "Querying data for 2024-06-20\n",
      "Query for op on 2024-06-20 completed in 25.64 seconds\n",
      "Querying data for 2024-06-21\n",
      "Query for op on 2024-06-21 completed in 22.12 seconds\n",
      "Querying data for 2024-06-22\n",
      "Query for op on 2024-06-22 completed in 15.07 seconds\n",
      "Querying data for 2024-06-23\n",
      "Query for op on 2024-06-23 completed in 15.06 seconds\n",
      "Querying data for 2024-06-24\n",
      "Query for op on 2024-06-24 completed in 17.89 seconds\n",
      "Querying data for 2024-06-25\n",
      "Query for op on 2024-06-25 completed in 14.25 seconds\n",
      "Querying data for 2024-06-26\n",
      "Query for op on 2024-06-26 completed in 12.92 seconds\n",
      "Processing for op completed in 12.92 seconds\n",
      "Processed data for 14 days, ending on 2024-06-27\n",
      "Results saved to csv_outputs/op_20240627_14days_v.csv\n",
      "---\n",
      "Starting processing for base\n",
      "Querying data for 2024-06-13\n",
      "Query for base on 2024-06-13 completed in 103.03 seconds\n",
      "Querying data for 2024-06-14\n",
      "Query for base on 2024-06-14 completed in 112.38 seconds\n",
      "Querying data for 2024-06-15\n",
      "Query for base on 2024-06-15 completed in 97.94 seconds\n",
      "Querying data for 2024-06-16\n",
      "Query for base on 2024-06-16 completed in 99.54 seconds\n",
      "Querying data for 2024-06-17\n",
      "Query for base on 2024-06-17 completed in 103.49 seconds\n",
      "Querying data for 2024-06-18\n",
      "Query for base on 2024-06-18 completed in 113.79 seconds\n",
      "Querying data for 2024-06-19\n",
      "Query for base on 2024-06-19 completed in 107.67 seconds\n",
      "Querying data for 2024-06-20\n",
      "Query for base on 2024-06-20 completed in 123.98 seconds\n",
      "Querying data for 2024-06-21\n",
      "Query for base on 2024-06-21 completed in 112.19 seconds\n",
      "Querying data for 2024-06-22\n",
      "Query for base on 2024-06-22 completed in 97.22 seconds\n",
      "Querying data for 2024-06-23\n",
      "Query for base on 2024-06-23 completed in 106.29 seconds\n",
      "Querying data for 2024-06-24\n",
      "Query for base on 2024-06-24 completed in 121.76 seconds\n",
      "Querying data for 2024-06-25\n",
      "Query for base on 2024-06-25 completed in 120.89 seconds\n",
      "Querying data for 2024-06-26\n",
      "Query for base on 2024-06-26 completed in 86.42 seconds\n",
      "Processing for base completed in 86.42 seconds\n",
      "Processed data for 14 days, ending on 2024-06-27\n",
      "Results saved to csv_outputs/base_20240627_14days_v.csv\n",
      "---\n"
     ]
    }
   ],
   "source": [
    "# GPT did this\n",
    "for chain_info in chain_names:\n",
    "    chain_name, has_extra_fields = chain_info\n",
    "    result = None\n",
    "    print(f\"Starting processing for {chain_name}\")\n",
    "\n",
    "    csv_filename = f'csv_outputs/{chain_name}_{end_date.strftime(\"%Y%m%d\")}_{trailing_days}days_v.csv'\n",
    "    file_exists = os.path.isfile(csv_filename)\n",
    "\n",
    "    current_date = start_date\n",
    "    while current_date < end_date:\n",
    "        start_time = time.time()\n",
    "        day_start = current_date\n",
    "        day_end = min(day_start + timedelta(days=1), end_date)\n",
    "\n",
    "        q_run = query.replace('@chain_name@', chain_name)\n",
    "        q_run = q_run.replace('@start_date@', day_start.strftime('%Y-%m-%d'))\n",
    "        q_run = q_run.replace('@end_date@', day_end.strftime('%Y-%m-%d'))\n",
    "        if has_extra_fields:\n",
    "            q_run = q_run.replace('@extra_fields@', extra_fields)\n",
    "        else:\n",
    "            q_run = q_run.replace('@extra_fields@', '')\n",
    "\n",
    "        print(f\"Querying data for {day_start.date()}\")\n",
    "        result = client.query_df(q_run)\n",
    "        \n",
    "        # Append the result to the CSV file\n",
    "        if not file_exists and current_date == start_date:\n",
    "            # If it's the first run and file doesn't exist, create new file with header\n",
    "            result.to_csv(csv_filename, index=False, mode='w')\n",
    "            file_exists = True\n",
    "        else:\n",
    "            # Append without header\n",
    "            result.to_csv(csv_filename, index=False, mode='a', header=False)\n",
    "\n",
    "        int_time = time.time()\n",
    "        execution_time = int_time - start_time\n",
    "        print(f\"Query for {chain_name} on {day_start.date()} completed in {execution_time:.2f} seconds\")\n",
    "\n",
    "        current_date = day_end\n",
    "\n",
    "    end_time = time.time()\n",
    "    execution_time = end_time - start_time\n",
    "    print(f\"Processing for {chain_name} completed in {execution_time:.2f} seconds\")\n",
    "    print(f\"Processed data for {trailing_days} days, ending on {end_date.date()}\")\n",
    "    print(f\"Results saved to {csv_filename}\")\n",
    "    print(\"---\")"
   ]
  },
  {
   "cell_type": "code",
   "execution_count": 7,
   "metadata": {},
   "outputs": [],
   "source": [
    "# print(result.result_rows)"
   ]
  }
 ],
 "metadata": {
  "kernelspec": {
   "display_name": "new-env",
   "language": "python",
   "name": "python3"
  },
  "language_info": {
   "codemirror_mode": {
    "name": "ipython",
    "version": 3
   },
   "file_extension": ".py",
   "mimetype": "text/x-python",
   "name": "python",
   "nbconvert_exporter": "python",
   "pygments_lexer": "ipython3",
   "version": "3.10.11"
  }
 },
 "nbformat": 4,
 "nbformat_minor": 2
}
