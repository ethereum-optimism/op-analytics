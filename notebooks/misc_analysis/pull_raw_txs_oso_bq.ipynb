{
 "cells": [
  {
   "cell_type": "code",
   "execution_count": null,
   "metadata": {},
   "outputs": [],
   "source": [
    "\n",
    "from google.cloud import bigquery\n",
    "from google.oauth2 import service_account\n",
    "import sys\n",
    "\n",
    "sys.path.append(\"../helper_functions\")\n",
    "import google_bq_utils as bq\n",
    "import pandas_utils as pu\n",
    "sys.path.pop()"
   ]
  },
  {
   "cell_type": "code",
   "execution_count": null,
   "metadata": {},
   "outputs": [],
   "source": [
    "query ='''\n",
    "SELECT \n",
    "block_number,\n",
    "block_timestamp,\n",
    "`hash`,\n",
    "--transaction_hash,\n",
    "transaction_index,\n",
    "nonce,\n",
    "from_address,\n",
    "to_address,\n",
    "value,\n",
    "input,\n",
    "gas,\n",
    "gas_price,\n",
    "max_fee_per_gas,\n",
    "max_priority_fee_per_gas,\n",
    "transaction_type,\n",
    "-- block_number,\n",
    "-- receipt_contract_address,\n",
    "-- receipt_cumulative_gas_used,\n",
    "receipt_gas_used,\n",
    "-- receipt_effective_gas_price,\n",
    "-- receipt_root,\n",
    "-- receipt_status\n",
    "\n",
    "FROM `opensource-observer.oso.int_@chain_schema@_transactions`\n",
    "WHERE block_timestamp > TIMESTAMP_SUB(CURRENT_TIMESTAMP(), INTERVAL @num_days@ DAY)\n",
    "AND receipt_status = 1 AND gas_price > 0\n",
    "'''"
   ]
  },
  {
   "cell_type": "code",
   "execution_count": null,
   "metadata": {},
   "outputs": [],
   "source": [
    "chain_name = 'base'\n",
    "trailing_days = 14"
   ]
  },
  {
   "cell_type": "code",
   "execution_count": null,
   "metadata": {},
   "outputs": [],
   "source": [
    "q_run = query.replace('@num_days@', str(trailing_days))\n",
    "q_run = q_run.replace('@chain_schema@', chain_name)\n",
    "file_loc = 'csv_outputs/' + chain_name + '_' + str(trailing_days) +'.csv'"
   ]
  },
  {
   "cell_type": "code",
   "execution_count": null,
   "metadata": {},
   "outputs": [],
   "source": [
    "bq.run_query_and_save_csv(q_run, file_loc)"
   ]
  }
 ],
 "metadata": {
  "kernelspec": {
   "display_name": "new-env",
   "language": "python",
   "name": "python3"
  },
  "language_info": {
   "codemirror_mode": {
    "name": "ipython",
    "version": 3
   },
   "file_extension": ".py",
   "mimetype": "text/x-python",
   "name": "python",
   "nbconvert_exporter": "python",
   "pygments_lexer": "ipython3",
   "version": "3.12.3"
  }
 },
 "nbformat": 4,
 "nbformat_minor": 2
}
