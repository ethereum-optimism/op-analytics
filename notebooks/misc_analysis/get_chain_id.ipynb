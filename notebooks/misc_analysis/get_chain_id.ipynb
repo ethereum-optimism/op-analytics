{
 "cells": [
  {
   "cell_type": "code",
   "execution_count": 2,
   "metadata": {},
   "outputs": [
    {
     "name": "stdout",
     "output_type": "stream",
     "text": [
      "The chain ID is: 177\n"
     ]
    }
   ],
   "source": [
    "from web3 import Web3\n",
    "\n",
    "# rpc_url = 'https://rpc.river.build'\n",
    "rpc_url = 'https://mainnet.hsk.xyz'\n",
    "\n",
    "# Connect to the RPC endpoint\n",
    "w3 = Web3(Web3.HTTPProvider(rpc_url))\n",
    "\n",
    "# Get the chain ID\n",
    "chain_id = w3.eth.chain_id\n",
    "\n",
    "print(f\"The chain ID is: {chain_id}\")\n"
   ]
  },
  {
   "cell_type": "code",
   "execution_count": null,
   "metadata": {},
   "outputs": [],
   "source": []
  }
 ],
 "metadata": {
  "kernelspec": {
   "display_name": "gcp-env",
   "language": "python",
   "name": "python3"
  },
  "language_info": {
   "codemirror_mode": {
    "name": "ipython",
    "version": 3
   },
   "file_extension": ".py",
   "mimetype": "text/x-python",
   "name": "python",
   "nbconvert_exporter": "python",
   "pygments_lexer": "ipython3",
   "version": "3.12.3"
  }
 },
 "nbformat": 4,
 "nbformat_minor": 2
}
