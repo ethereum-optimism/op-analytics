{
 "cells": [
  {
   "cell_type": "code",
   "execution_count": 1,
   "metadata": {},
   "outputs": [],
   "source": [
    "from math import ceil\n",
    "num_blob_files = 5"
   ]
  },
  {
   "cell_type": "code",
   "execution_count": 2,
   "metadata": {},
   "outputs": [],
   "source": [
    "def count_chars_before_last_zeroes_in_files(file_paths):\n",
    "        counts = []  # Initialize a list to store counts for each file\n",
    "        for file_path in file_paths:\n",
    "                with open(file_path, 'r') as file:\n",
    "                        content = file.read()\n",
    "                        # Find the index of the start of the last sequence of all zeroes\n",
    "                        last_zeroes_start = content.rfind('0')\n",
    "                        # Count backwards to find where the zeroes stop\n",
    "                        i = last_zeroes_start\n",
    "                        while i > 0 and content[i] == '0':\n",
    "                                i -= 1\n",
    "                        # The count of characters before the last string of zeroes, not including \"0x\"\n",
    "                        count_before_zeroes = i - 1  # Adjust for index starting at 0 and exclude \"0x\"\n",
    "                        counts.append(count_before_zeroes)\n",
    "        return counts\n",
    "def process_counts_and_average(counts):\n",
    "    processed_counts = [(ceil((count - 2) / 2)) for count in counts]\n",
    "    print(processed_counts)\n",
    "    average_bytes = sum(processed_counts) / len(processed_counts)\n",
    "    return average_bytes\n",
    "\n",
    "def process_gas_counts(file_paths):\n",
    "    total_gas_per_file = []  # Store total gas for each file\n",
    "\n",
    "    for file_path in file_paths:\n",
    "        with open(file_path, 'r') as file:\n",
    "            content = file.read()\n",
    "            # Find the last sequence of all zeroes to determine the end of relevant content\n",
    "            last_zeroes_start = content.rfind('0')\n",
    "            while last_zeroes_start > 0 and content[last_zeroes_start] == '0':\n",
    "                    last_zeroes_start -= 1\n",
    "            relevant_content = content[2:last_zeroes_start]  # Exclude leading \"0x\" and trailing zeroes\n",
    "\n",
    "            # Initialize total gas for this file\n",
    "            total_gas = 0\n",
    "            for i in range(0, len(relevant_content), 2):  # Process each group of 2 characters\n",
    "                pair = relevant_content[i:i+2]\n",
    "                if pair == \"00\":\n",
    "                    total_gas += 4  # Add 4 gas for \"00\"\n",
    "                else:\n",
    "                    total_gas += 16  # Add 16 gas for any other pair\n",
    "\n",
    "            total_gas_per_file.append(total_gas)\n",
    "\n",
    "    # Calculate the average gas across all files\n",
    "    average_gas = sum(total_gas_per_file) / len(total_gas_per_file)\n",
    "    print(total_gas_per_file)\n",
    "    return average_gas\n"
   ]
  },
  {
   "cell_type": "code",
   "execution_count": 3,
   "metadata": {},
   "outputs": [
    {
     "name": "stdout",
     "output_type": "stream",
     "text": [
      "[377, 404, 398, 428, 423]\n",
      "[5916, 6360, 6264, 6732, 6652]\n",
      "avg bytes : 406.0\n",
      "avg gas : 6384.8\n"
     ]
    }
   ],
   "source": [
    "\n",
    "# Generate file paths\n",
    "file_paths = [f'inputs/blobs/{i}.txt' for i in range(1, num_blob_files+1)]\n",
    "\n",
    "# Call the function and get the counts\n",
    "counts = count_chars_before_last_zeroes_in_files(file_paths)\n",
    "average_bytes = process_counts_and_average(counts)\n",
    "average_gas = process_gas_counts(file_paths)\n",
    "\n",
    "print('avg bytes : ' + str(average_bytes))\n",
    "print('avg gas : ' + str(average_gas))"
   ]
  }
 ],
 "metadata": {
  "kernelspec": {
   "display_name": "new-env",
   "language": "python",
   "name": "python3"
  },
  "language_info": {
   "codemirror_mode": {
    "name": "ipython",
    "version": 3
   },
   "file_extension": ".py",
   "mimetype": "text/x-python",
   "name": "python",
   "nbconvert_exporter": "python",
   "pygments_lexer": "ipython3",
   "version": "3.10.11"
  }
 },
 "nbformat": 4,
 "nbformat_minor": 2
}
