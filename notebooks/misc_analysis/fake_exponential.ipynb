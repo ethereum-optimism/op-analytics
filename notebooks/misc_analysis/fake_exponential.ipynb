{
 "cells": [
  {
   "cell_type": "code",
   "execution_count": 1,
   "metadata": {},
   "outputs": [],
   "source": [
    "def fake_exponential(factor: int, numerator: int, denominator: int) -> int:\n",
    "    i = 1\n",
    "    output = 0\n",
    "    numerator_accum = factor * denominator\n",
    "    while numerator_accum > 0:\n",
    "        output += numerator_accum\n",
    "        numerator_accum = (numerator_accum * numerator) // (denominator * i)\n",
    "        i += 1\n",
    "    return output // denominator"
   ]
  },
  {
   "cell_type": "code",
   "execution_count": 2,
   "metadata": {},
   "outputs": [],
   "source": [
    "MIN_BLOB_BASE_FEE = 1\n",
    "BLOB_BASE_FEE_UPDATE_FRACTION = 3338477"
   ]
  },
  {
   "cell_type": "code",
   "execution_count": 3,
   "metadata": {},
   "outputs": [
    {
     "data": {
      "text/plain": [
       "1"
      ]
     },
     "execution_count": 3,
     "metadata": {},
     "output_type": "execute_result"
    }
   ],
   "source": [
    "excess_blob_gas = 393216\n",
    "fake_exponential(MIN_BLOB_BASE_FEE, excess_blob_gas, BLOB_BASE_FEE_UPDATE_FRACTION)"
   ]
  }
 ],
 "metadata": {
  "kernelspec": {
   "display_name": "new-env",
   "language": "python",
   "name": "python3"
  },
  "language_info": {
   "codemirror_mode": {
    "name": "ipython",
    "version": 3
   },
   "file_extension": ".py",
   "mimetype": "text/x-python",
   "name": "python",
   "nbconvert_exporter": "python",
   "pygments_lexer": "ipython3",
   "version": "3.10.11"
  }
 },
 "nbformat": 4,
 "nbformat_minor": 2
}
