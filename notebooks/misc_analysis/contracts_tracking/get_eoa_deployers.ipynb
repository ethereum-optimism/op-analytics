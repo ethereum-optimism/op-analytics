{
 "cells": [
  {
   "cell_type": "code",
   "execution_count": null,
   "metadata": {},
   "outputs": [],
   "source": [
    "# NOTE: This uses a modified ethereum-etl here: https://github.com/MSilb7/optimism-etl\n",
    "\n",
    "from web3 import Web3\n",
    "\n",
    "import sys\n",
    "sys.path.append(\"../helper_functions\")\n",
    "import ethereumetl_utils as eetl\n",
    "import web3py_utils as wpy\n",
    "import pandas_utils as pu\n",
    "import evm_utils as evm\n",
    "sys.path.pop()\n",
    "\n",
    "import pandas as pd\n",
    "from dotenv import load_dotenv\n",
    "import requests\n",
    "import datetime\n",
    "load_dotenv()\n",
    "import os"
   ]
  },
  {
   "cell_type": "code",
   "execution_count": null,
   "metadata": {},
   "outputs": [],
   "source": [
    "# Do we re-run data\n",
    "run_data = 1\n",
    "\n",
    "config = ['aw_goerli',os.environ.get('GOERLI_AUTOWORLD_NODE')]\n",
    "\n",
    "max_workers = 8"
   ]
  },
  {
   "cell_type": "code",
   "execution_count": null,
   "metadata": {},
   "outputs": [],
   "source": [
    "# # Get Transactions\n",
    "# for i in configs:\n",
    "\n",
    "#     folder = i[0]\n",
    "#     uri = i[1]\n",
    "# #     block_arr = wpy.get_blockrange_by_timedelta(i[1],trailing_hours,'hours')\n",
    "#     st_bl = 0\n",
    "#     en_bl = wpy.getLatestBlockNumber(uri)\n",
    "#     print(st_bl)\n",
    "#     print(en_bl)\n",
    "# #     if run_data == 1:\n",
    "# #         eetl.get_ethereum_etl(st_bl,en_bl,folder,uri, max_workers)"
   ]
  },
  {
   "cell_type": "code",
   "execution_count": null,
   "metadata": {},
   "outputs": [],
   "source": [
    "# Connect to an Ethereum node\n",
    "w3 = Web3(Web3.HTTPProvider(config[1]))\n",
    "\n",
    "# Get all transactions with null \"to\" address\n",
    "# Build a custom filter\n",
    "filter_params = {\n",
    "    'address': Web3.toChecksumAddress('0x0000000000000000000000000000000000000000')\n",
    "}\n",
    "null_to_transactions = w3.eth.filter(filter_params)\n",
    "transaction_hashes = w3.eth.get_filter_changes(null_to_transactions.filter_id)\n",
    "\n",
    "# Retrieve the receipt for each transaction\n",
    "contract_addresses = []\n",
    "for tx_hash in transaction_hashes:\n",
    "    receipt = w3.eth.get_transaction_receipt(tx_hash)\n",
    "    print(receipt)\n",
    "    contract_addresses.append(receipt['contractAddress'])\n",
    "    break\n",
    "\n",
    "# Print the contract addresses created\n",
    "for address in contract_addresses:\n",
    "    print(\"Contract Address:\", address)"
   ]
  }
 ],
 "metadata": {
  "kernelspec": {
   "display_name": "ethereum-etl",
   "language": "python",
   "name": "python3"
  },
  "language_info": {
   "codemirror_mode": {
    "name": "ipython",
    "version": 3
   },
   "file_extension": ".py",
   "mimetype": "text/x-python",
   "name": "python",
   "nbconvert_exporter": "python",
   "pygments_lexer": "ipython3",
   "version": "3.9.7"
  },
  "orig_nbformat": 4
 },
 "nbformat": 4,
 "nbformat_minor": 2
}
