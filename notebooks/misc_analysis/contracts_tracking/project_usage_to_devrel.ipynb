{
 "cells": [
  {
   "cell_type": "code",
   "execution_count": null,
   "metadata": {},
   "outputs": [],
   "source": [
    "import pandas as pd\n",
    "\n",
    "import sys\n",
    "sys.path.append(\"../helper_functions\")\n",
    "import duneapi_utils as d\n",
    "import airtable_utils as a\n",
    "import pandas_utils as p\n",
    "sys.path.pop()\n",
    "\n",
    "import dotenv\n",
    "import os\n",
    "dotenv.load_dotenv()\n",
    "\n",
    "rerun_query = 1\n",
    "\n",
    "at_base_id = os.environ[\"AIRTABLE_DEVREL_BASE_ID\"]\n",
    "\n",
    "at_table_name = 'OP Project Data'\n",
    "\n",
    "excl_projects = [\n",
    "    '',\n",
    "    # COMMENT OUT TO KEEP ALL PROJECTS\n",
    "    # 'Op',\n",
    "    # 'Optimism Governor'\n",
    "]"
   ]
  },
  {
   "cell_type": "code",
   "execution_count": null,
   "metadata": {},
   "outputs": [],
   "source": [
    "query_id = 2709489 #https://dune.com/queries/2709489\n",
    "name = \"Project Usage Trends - T28D\"\n",
    "\n",
    "if rerun_query == 0:\n",
    "    projects = pd.read_csv('csv_outputs/' + name + '.csv')\n",
    "else:\n",
    "    # Dune query: https://dune.com/queries/2457627\n",
    "    projects = d.get_dune_data(query_id, name = name, num_hours_to_rerun = 4, performance = \"large\")"
   ]
  },
  {
   "cell_type": "code",
   "execution_count": null,
   "metadata": {},
   "outputs": [],
   "source": [
    "projects = projects[~projects['Team'].isin(excl_projects)]"
   ]
  },
  {
   "cell_type": "code",
   "execution_count": null,
   "metadata": {},
   "outputs": [],
   "source": [
    "#reformat col names\n",
    "projects = p.csv_columns_to_formatted(projects)\n",
    "\n",
    "datestr = p.get_datestring_from_datetime(projects['Date'].iloc[0])\n",
    "datestr = datestr.replace('-', '_')\n",
    "\n",
    "p.mkdir_if_not_exists('uploads')\n",
    "# deployers.to_csv('uploads/deployer_data_' + datestr + '.csv', index=False)"
   ]
  },
  {
   "cell_type": "code",
   "execution_count": null,
   "metadata": {},
   "outputs": [],
   "source": [
    "print(projects.columns)"
   ]
  },
  {
   "cell_type": "code",
   "execution_count": null,
   "metadata": {},
   "outputs": [],
   "source": [
    "# Delete Existing Data\n",
    "# print('deleting existing data')S\n",
    "a.delete_all_records(at_base_id,at_table_name)\n",
    "# Append New Data\n",
    "print('appending new data')\n",
    "# deployers = deployers[deployers['Team'] == 'Cozy Finance'] #Test specific team\n",
    "a.update_database(at_base_id,at_table_name, projects)\n",
    "print('done')"
   ]
  }
 ],
 "metadata": {
  "kernelspec": {
   "display_name": "new-env",
   "language": "python",
   "name": "python3"
  },
  "language_info": {
   "codemirror_mode": {
    "name": "ipython",
    "version": 3
   },
   "file_extension": ".py",
   "mimetype": "text/x-python",
   "name": "python",
   "nbconvert_exporter": "python",
   "pygments_lexer": "ipython3",
   "version": "3.10.11"
  },
  "orig_nbformat": 4
 },
 "nbformat": 4,
 "nbformat_minor": 2
}
