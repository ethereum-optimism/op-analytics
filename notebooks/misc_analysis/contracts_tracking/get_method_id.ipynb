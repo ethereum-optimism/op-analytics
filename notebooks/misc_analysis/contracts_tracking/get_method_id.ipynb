{
 "cells": [
  {
   "cell_type": "code",
   "execution_count": 5,
   "id": "cc45cae7",
   "metadata": {},
   "outputs": [],
   "source": [
    "import sys\n",
    "sys.path.append(\"../../../helper_functions\")\n",
    "import web3py_utils as w3py\n",
    "sys.path.pop()\n",
    "\n",
    "import os\n",
    "import pandas as pd\n",
    "from dotenv import load_dotenv\n",
    "load_dotenv()\n",
    "\n",
    "endpoint = os.environ[\"OP_NODE\"]"
   ]
  },
  {
   "cell_type": "code",
   "execution_count": 6,
   "id": "2b324e48",
   "metadata": {},
   "outputs": [],
   "source": [
    "def collapse_signature(full_sig: str) -> str:\n",
    "    \"\"\"Simplify function signature to remove named params.\"\"\"\n",
    "    name_and_args = full_sig.strip().split(\"(\")\n",
    "    if len(name_and_args) != 2:\n",
    "        return full_sig  # fallback in case of invalid format\n",
    "    func_name = name_and_args[0]\n",
    "    args_raw = name_and_args[1].rstrip(\")\")\n",
    "    arg_types = [arg.strip().split()[0] for arg in args_raw.split(\",\") if arg]\n",
    "    return f\"{func_name}({','.join(arg_types)})\"\n",
    "\n",
    "def generate_snippet_data(sig_list, endpoint, opcode_filter=''):\n",
    "    \"\"\"Generate original, collapsed, and bytecode for each function signature.\"\"\"\n",
    "    results = []\n",
    "    for sig in sig_list:\n",
    "        collapsed = collapse_signature(sig)\n",
    "        bytecode = w3py.get_bytecode_pattern(endpoint, collapsed, opcode_filter)\n",
    "        cleaned_bytecode = bytecode.replace(\"'0x\", \"0x\")\n",
    "        results.append((sig, collapsed, cleaned_bytecode))\n",
    "    return results\n"
   ]
  },
  {
   "cell_type": "code",
   "execution_count": 7,
   "id": "5c379b7f",
   "metadata": {},
   "outputs": [],
   "source": [
    "# Example signature set\n",
    "transfer_signatures = [\n",
    "    'transfer(address recipient, uint256 amount)',\n",
    "    'transferFrom(address sender, address recipient, uint256 amount)',\n",
    "    'sendERC20(address _token, address _to, uint256 _amount, uint256 _chainId)',\n",
    "    'relayERC20(address _token, address _from, address _to, uint256 _amount)',\n",
    "    'safeBatchTransferFrom(address from, address to, uint256[] ids, uint256[] amounts, bytes data)',\n",
    "    'safeTransferFrom(address from, address to, uint256 id, uint256 amount, bytes data)'\n",
    "]"
   ]
  },
  {
   "cell_type": "code",
   "execution_count": 8,
   "id": "c810e113",
   "metadata": {},
   "outputs": [
    {
     "name": "stdout",
     "output_type": "stream",
     "text": [
      "SQL-style tuples for query use:\n",
      "\n",
      "('transfer(address,uint256)', 0xa9059cbb)\n",
      "('transferFrom(address,address,uint256)', 0x23b872dd)\n",
      "('sendERC20(address,address,uint256,uint256)', 0xc1a433d8)\n",
      "('relayERC20(address,address,address,uint256)', 0x7cfd6dbc)\n",
      "('safeBatchTransferFrom(address,address,uint256[],uint256[],bytes)', 0x2eb2c2d6)\n",
      "('safeTransferFrom(address,address,uint256,uint256,bytes)', 0xf242432a)\n",
      "\n",
      "\n",
      "Tabular format for Google Sheets (Original Signature, Collapsed Signature, Bytecode Snippet):\n",
      "\n",
      "Original Signature\tCollapsed Signature\tBytecode Snippet\n",
      "transfer(address recipient, uint256 amount)\ttransfer(address,uint256)\t0xa9059cbb\n",
      "transferFrom(address sender, address recipient, uint256 amount)\ttransferFrom(address,address,uint256)\t0x23b872dd\n",
      "sendERC20(address _token, address _to, uint256 _amount, uint256 _chainId)\tsendERC20(address,address,uint256,uint256)\t0xc1a433d8\n",
      "relayERC20(address _token, address _from, address _to, uint256 _amount)\trelayERC20(address,address,address,uint256)\t0x7cfd6dbc\n",
      "safeBatchTransferFrom(address from, address to, uint256[] ids, uint256[] amounts, bytes data)\tsafeBatchTransferFrom(address,address,uint256[],uint256[],bytes)\t0x2eb2c2d6\n",
      "safeTransferFrom(address from, address to, uint256 id, uint256 amount, bytes data)\tsafeTransferFrom(address,address,uint256,uint256,bytes)\t0xf242432a\n"
     ]
    }
   ],
   "source": [
    "data = generate_snippet_data(transfer_signatures, endpoint)\n",
    "\n",
    "# Print SQL-style tuples\n",
    "print(\"SQL-style tuples for query use:\\n\")\n",
    "for original, collapsed, bytecode in data:\n",
    "    print(f\"('{collapsed}', {bytecode})\")\n",
    "\n",
    "# Print tabular for Google Sheets\n",
    "print(\"\\n\\nTabular format for Google Sheets (Original Signature, Collapsed Signature, Bytecode Snippet):\\n\")\n",
    "print(\"Original Signature\\tCollapsed Signature\\tBytecode Snippet\")\n",
    "for original, collapsed, bytecode in data:\n",
    "    print(f\"{original}\\t{collapsed}\\t{bytecode}\")\n"
   ]
  }
 ],
 "metadata": {
  "kernelspec": {
   "display_name": "gcp-env",
   "language": "python",
   "name": "python3"
  },
  "language_info": {
   "codemirror_mode": {
    "name": "ipython",
    "version": 3
   },
   "file_extension": ".py",
   "mimetype": "text/x-python",
   "name": "python",
   "nbconvert_exporter": "python",
   "pygments_lexer": "ipython3",
   "version": "3.12.3"
  }
 },
 "nbformat": 4,
 "nbformat_minor": 5
}
