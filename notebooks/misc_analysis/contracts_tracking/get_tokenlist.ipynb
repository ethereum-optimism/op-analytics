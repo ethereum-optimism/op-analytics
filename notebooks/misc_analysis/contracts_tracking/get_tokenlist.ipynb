{
 "cells": [
  {
   "cell_type": "code",
   "execution_count": 1,
   "metadata": {},
   "outputs": [],
   "source": [
    "import pandas as pd\n",
    "import sys\n",
    "import requests as r\n",
    "\n",
    "sys.path.append('../helper_functions')\n",
    "import github_utils as gh\n",
    "import tokenlist_utils as tl\n",
    "import duneapi_utils as dapi\n",
    "\n",
    "url_content = [\n",
    "    # owner_name, repo_name, path_name, file_name\n",
    "      ['ethereum-optimism','ethereum-optimism.github.io','','optimism.tokenlist.json',] #OP Bridge - https://github.com/ethereum-optimism/ethereum-optimism.github.io/blob/master/optimism.tokenlist.json\n",
    "    , ['rainbow-me','rainbow-token-list','output','lean-rainbow-token-list.json'] #Rainbow - https://github.com/rainbow-me/rainbow-token-list/blob/main/output/lean-rainbow-token-list.json\n",
    "    , ['velodrome-finance','docs','public','tokenlist.json'] #Velo - https://github.com/velodrome-finance/docs/blob/aa557db47248b88af73dcdebfbc161e2b93da712/public/tokenlist.json#L4\n",
    "]"
   ]
  },
  {
   "cell_type": "code",
   "execution_count": 2,
   "metadata": {},
   "outputs": [],
   "source": [
    "dune_list_query_id = 2420477 #https://dune.com/queries/2420477"
   ]
  },
  {
   "cell_type": "code",
   "execution_count": 3,
   "metadata": {},
   "outputs": [],
   "source": [
    "# Load the JSON data from the URL\n",
    "df_list = []\n",
    "for gh_url in url_content:\n",
    "\n",
    "    owner_name = gh_url[0]\n",
    "    repo_name = gh_url[1]\n",
    "    path_name = gh_url[2]\n",
    "    file_name = gh_url[3]\n",
    "\n",
    "    gh_file = gh.get_file_url_from_github(owner_name,repo_name,path_name,file_name)\n",
    "    res = r.get(gh_file)\n",
    "    data = res.json()\n",
    "    if owner_name == 'ethereum-optimism':\n",
    "        op_list = tl.generate_op_table_from_tokenlist(data)\n",
    "    tmp = tl.generate_table_from_tokenlist(data)\n",
    "    tmp['list_name'] = owner_name\n",
    "    df_list.append(tmp)\n",
    "\n",
    "df = pd.concat(df_list)\n",
    "df = df[df['chainId'] ==10] #Get OP Version\n",
    "\n",
    "df = df.groupby(['chainId', 'address', 'name', 'symbol', 'decimals'])['list_name'].agg(list)\n",
    "df = df.reset_index()\n",
    "# display(df)"
   ]
  },
  {
   "cell_type": "code",
   "execution_count": 4,
   "metadata": {},
   "outputs": [
    {
     "data": {
      "text/html": [
       "<div>\n",
       "<style scoped>\n",
       "    .dataframe tbody tr th:only-of-type {\n",
       "        vertical-align: middle;\n",
       "    }\n",
       "\n",
       "    .dataframe tbody tr th {\n",
       "        vertical-align: top;\n",
       "    }\n",
       "\n",
       "    .dataframe thead th {\n",
       "        text-align: right;\n",
       "    }\n",
       "</style>\n",
       "<table border=\"1\" class=\"dataframe\">\n",
       "  <thead>\n",
       "    <tr style=\"text-align: right;\">\n",
       "      <th></th>\n",
       "      <th>chainId</th>\n",
       "      <th>address</th>\n",
       "      <th>name</th>\n",
       "      <th>symbol</th>\n",
       "      <th>decimals</th>\n",
       "      <th>optimismBridgeAddress</th>\n",
       "    </tr>\n",
       "  </thead>\n",
       "  <tbody>\n",
       "    <tr>\n",
       "      <th>31</th>\n",
       "      <td>10</td>\n",
       "      <td>0xc98B98d17435AA00830c87eA02474C5007E1f272</td>\n",
       "      <td>BitBTC</td>\n",
       "      <td>BitBTC</td>\n",
       "      <td>18</td>\n",
       "      <td>0x158F513096923fF2d3aab2BcF4478536de6725e2</td>\n",
       "    </tr>\n",
       "    <tr>\n",
       "      <th>79</th>\n",
       "      <td>10</td>\n",
       "      <td>0xDA10009cBd5D07dd0CeCc66161FC93D7c9000da1</td>\n",
       "      <td>Dai Stablecoin</td>\n",
       "      <td>DAI</td>\n",
       "      <td>18</td>\n",
       "      <td>0x467194771dAe2967Aef3ECbEDD3Bf9a310C76C65</td>\n",
       "    </tr>\n",
       "    <tr>\n",
       "      <th>99</th>\n",
       "      <td>10</td>\n",
       "      <td>0xe7BC9b3A936F122f08AAC3b1fac3C3eC29A78874</td>\n",
       "      <td>Eco</td>\n",
       "      <td>ECO</td>\n",
       "      <td>18</td>\n",
       "      <td>0xAa029BbdC947F5205fBa0F3C11b592420B58f824</td>\n",
       "    </tr>\n",
       "    <tr>\n",
       "      <th>316</th>\n",
       "      <td>10</td>\n",
       "      <td>0x8700daec35af8ff88c16bdf0418774cb3d7599b4</td>\n",
       "      <td>Synthetix</td>\n",
       "      <td>SNX</td>\n",
       "      <td>18</td>\n",
       "      <td>0x136b1EC699c62b0606854056f02dC7Bb80482d63</td>\n",
       "    </tr>\n",
       "    <tr>\n",
       "      <th>391</th>\n",
       "      <td>10</td>\n",
       "      <td>0xbfD291DA8A403DAAF7e5E9DC1ec0aCEaCd4848B9</td>\n",
       "      <td>dForce USD</td>\n",
       "      <td>USX</td>\n",
       "      <td>18</td>\n",
       "      <td>0xc76cbFbAfD41761279E3EDb23Fd831Ccb74D5D67</td>\n",
       "    </tr>\n",
       "    <tr>\n",
       "      <th>429</th>\n",
       "      <td>10</td>\n",
       "      <td>0x1F32b1c2345538c0c6f582fCB022739c4A194Ebb</td>\n",
       "      <td>Wrapped liquid staked Ether 2.0</td>\n",
       "      <td>wstETH</td>\n",
       "      <td>18</td>\n",
       "      <td>0x8E01013243a96601a86eb3153F0d9Fa4fbFb6957</td>\n",
       "    </tr>\n",
       "  </tbody>\n",
       "</table>\n",
       "</div>"
      ],
      "text/plain": [
       "     chainId                                     address  \\\n",
       "31        10  0xc98B98d17435AA00830c87eA02474C5007E1f272   \n",
       "79        10  0xDA10009cBd5D07dd0CeCc66161FC93D7c9000da1   \n",
       "99        10  0xe7BC9b3A936F122f08AAC3b1fac3C3eC29A78874   \n",
       "316       10  0x8700daec35af8ff88c16bdf0418774cb3d7599b4   \n",
       "391       10  0xbfD291DA8A403DAAF7e5E9DC1ec0aCEaCd4848B9   \n",
       "429       10  0x1F32b1c2345538c0c6f582fCB022739c4A194Ebb   \n",
       "\n",
       "                                name  symbol  decimals  \\\n",
       "31                            BitBTC  BitBTC        18   \n",
       "79                    Dai Stablecoin     DAI        18   \n",
       "99                               Eco     ECO        18   \n",
       "316                        Synthetix     SNX        18   \n",
       "391                       dForce USD     USX        18   \n",
       "429  Wrapped liquid staked Ether 2.0  wstETH        18   \n",
       "\n",
       "                          optimismBridgeAddress  \n",
       "31   0x158F513096923fF2d3aab2BcF4478536de6725e2  \n",
       "79   0x467194771dAe2967Aef3ECbEDD3Bf9a310C76C65  \n",
       "99   0xAa029BbdC947F5205fBa0F3C11b592420B58f824  \n",
       "316  0x136b1EC699c62b0606854056f02dC7Bb80482d63  \n",
       "391  0xc76cbFbAfD41761279E3EDb23Fd831Ccb74D5D67  \n",
       "429  0x8E01013243a96601a86eb3153F0d9Fa4fbFb6957  "
      ]
     },
     "metadata": {},
     "output_type": "display_data"
    }
   ],
   "source": [
    "custom_bridge_list = op_list[\n",
    "                (op_list['chainId'] == 10)\n",
    "                & (op_list['optimismBridgeAddress'] != '0x4200000000000000000000000000000000000010')\n",
    "                & (op_list['optimismBridgeAddress'] != '')\n",
    "                ]\n",
    "\n",
    "display(custom_bridge_list)"
   ]
  },
  {
   "cell_type": "code",
   "execution_count": 5,
   "metadata": {},
   "outputs": [
    {
     "name": "stderr",
     "output_type": "stream",
     "text": [
      "\u001b[32m2023-09-25 15:35:43.505\u001b[0m | \u001b[1mINFO    \u001b[0m | \u001b[36mduneapi_utils\u001b[0m:\u001b[36mget_dune_data\u001b[0m:\u001b[36m44\u001b[0m - \u001b[1mResults available at https://dune.com/queries/2420477\u001b[0m\n",
      "\u001b[32m2023-09-25 15:35:44.235\u001b[0m | \u001b[1mINFO    \u001b[0m | \u001b[36mduneapi_utils\u001b[0m:\u001b[36mget_dune_data\u001b[0m:\u001b[36m89\u001b[0m - \u001b[1m✨ Results saved as csv_outputs/my_query_results.csv, with 561 rows and 4 columns.\u001b[0m\n"
     ]
    }
   ],
   "source": [
    "dune_list = dapi.get_dune_data(dune_list_query_id)\n",
    "# display(dune_list)"
   ]
  },
  {
   "cell_type": "code",
   "execution_count": 6,
   "metadata": {},
   "outputs": [],
   "source": [
    "#token addresses to lower\n",
    "df['contract_address'] = df['address'].str.lower().str.strip()\n",
    "dune_list['contract_address'] = dune_list['contract_address'].str.lower().str.strip()"
   ]
  },
  {
   "cell_type": "code",
   "execution_count": 7,
   "metadata": {},
   "outputs": [],
   "source": [
    "adds = df[~df['contract_address'].isin(dune_list['contract_address'])]\n",
    "# display(adds[['address','symbol','decimals', 'name','list_name']])\n"
   ]
  },
  {
   "cell_type": "code",
   "execution_count": 8,
   "metadata": {},
   "outputs": [
    {
     "name": "stdout",
     "output_type": "stream",
     "text": [
      ",(0x03e5b5930f3a42b56af4a982b10e60957bdd2f61, 'D2D', 18, 'underlying')\n",
      ",(0x629c2fd5d5f432357465b59d7832389a89956f0b, 'COC', 18, 'underlying')\n",
      ",(0x6c518f9D1a163379235816c543E62922a79863Fa, 'bwAJNA', 18, 'underlying')\n",
      ",(0x76c37F9949e05b37C8373d155C1Fef46a6858481, 'ePendle', 18, 'underlying')\n",
      ",(0x8368Dca5CE2a4Db530c0F6e535d90B6826428Dee, 'FPIS', 18, 'underlying')\n",
      ",(0x8637725aDa78db0674a679CeA2A5e0A0869EF4A1, 'NFTE', 18, 'underlying')\n",
      ",(0x9046D36440290FfDE54FE0DD84Db8b1CfEE9107B, 'YFI', 18, 'underlying')\n",
      ",(0x96bBD55479e9923512dcc95Eb7Df5edDe6FB9874, 'wOpenX', 18, 'underlying')\n",
      ",(0xAd42D013ac31486B73b6b059e748172994736426, '1INCH', 18, 'underlying')\n",
      ",(0xC52D7F23a2e460248Db6eE192Cb23dD12bDDCbf6, 'crvUSD', 18, 'underlying')\n",
      ",(0xa925f4057d6E6C8FAf8bdE537Ad14BA91A1D0337, 'SYNTH', 18, 'underlying')\n",
      ",(0xaf3A6f67Af1624d3878A8d30b09FAe7915DcA2a0, 'EQB', 18, 'underlying')\n",
      ",(0xc5d43a94e26fca47a9b21cf547ae4aa0268670e1, 'FPI', 18, 'underlying')\n",
      ",(0xc871cCf95024eFa2CbcE69B5B775D2a1DcF49c1B, 'GROW', 18, 'underlying')\n"
     ]
    }
   ],
   "source": [
    "\n",
    "# Assuming your DataFrame is named 'adds'\n",
    "for index, row in adds.iterrows():\n",
    "    sql_values_str = f\",({row['address']}, '{row['symbol']}', {row['decimals']}, 'underlying')\"\n",
    "    print(sql_values_str)"
   ]
  }
 ],
 "metadata": {
  "kernelspec": {
   "display_name": "new-env",
   "language": "python",
   "name": "python3"
  },
  "language_info": {
   "codemirror_mode": {
    "name": "ipython",
    "version": 3
   },
   "file_extension": ".py",
   "mimetype": "text/x-python",
   "name": "python",
   "nbconvert_exporter": "python",
   "pygments_lexer": "ipython3",
   "version": "3.10.11"
  },
  "orig_nbformat": 4
 },
 "nbformat": 4,
 "nbformat_minor": 2
}
