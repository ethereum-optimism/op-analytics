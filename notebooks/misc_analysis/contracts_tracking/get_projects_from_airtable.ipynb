{
 "cells": [
  {
   "attachments": {},
   "cell_type": "markdown",
   "metadata": {},
   "source": [
    "This file reads project information from Devrel airtable and sends to Dune (note: private to labs table)\n",
    "\n",
    "This code is most similar to [op-analytics/op_chains_tracking/read_op_chain_metadata_airtable.ipynb](https://github.com/ethereum-optimism/op-analytics/blob/main/op_chains_tracking/read_op_chain_metadata_airtable.ipynb)"
   ]
  },
  {
   "cell_type": "code",
   "execution_count": null,
   "metadata": {},
   "outputs": [],
   "source": [
    "import pandas as pd\n",
    "\n",
    "import sys\n",
    "sys.path.append(\"../helper_functions\")\n",
    "import duneapi_utils as d\n",
    "import airtable_utils as a\n",
    "import pandas_utils as p\n",
    "sys.path.pop()\n",
    "\n",
    "import dotenv\n",
    "import os\n",
    "dotenv.load_dotenv()\n",
    "\n",
    "at_base_id = os.environ[\"AIRTABLE_DEVREL_BASE_ID\"]\n",
    "\n",
    "columns = ['Team Name','Priority','Owner..name','Partner Type','Partner Category','Lead Source']"
   ]
  },
  {
   "cell_type": "code",
   "execution_count": null,
   "metadata": {},
   "outputs": [],
   "source": [
    "filter = \\\n",
    "\"\"\"\n",
    "IF(\n",
    "  AND(\n",
    "    OR(\n",
    "      Priority = 'P0',\n",
    "      Priority = 'P1',\n",
    "      Priority = 'P2',\n",
    "      Priority = 'Superchain'\n",
    "    ),\n",
    "    NOT(\n",
    "      BLANK({Partner Type})\n",
    "    )\n",
    "  ),\n",
    "  1,0\n",
    ")\n",
    "\"\"\"\n",
    "\n",
    "df = a.get_dataframe_from_airtable_database(at_base_id,'Teams', filter)\n",
    "\n",
    "df = df[columns]\n",
    "\n",
    "df = df.rename(columns={'Owner..name':'Owner'})\n",
    "print(len(df))"
   ]
  },
  {
   "cell_type": "code",
   "execution_count": null,
   "metadata": {},
   "outputs": [],
   "source": [
    "# Filter the DataFrame\n",
    "filtered_df = df[df['Partner Type'].notnull() \\\n",
    "                 & df['Priority'].isin(['P0','P1','P2','Superchain'])]\n",
    "filtered_df.reset_index(inplace=True, drop=True)\n",
    "\n",
    "\n",
    "\n",
    "# Format timeseries columns\n",
    "# filtered_df = p.format_datetime_columns(filtered_df, format='%Y-%m-%dT%H:%M:%S.%fZ')\n",
    "display(filtered_df)"
   ]
  },
  {
   "cell_type": "code",
   "execution_count": null,
   "metadata": {},
   "outputs": [],
   "source": [
    "# Upload to Dune\n",
    "\n",
    "# Post to Dune API\n",
    "table_name = os.environ[\"DUNE_BD_AT_TBL_NAME\"]\n",
    "d.write_dune_api_from_pandas(filtered_df, table_name,\\\n",
    "                             '')"
   ]
  }
 ],
 "metadata": {
  "kernelspec": {
   "display_name": "new-env",
   "language": "python",
   "name": "python3"
  },
  "language_info": {
   "codemirror_mode": {
    "name": "ipython",
    "version": 3
   },
   "file_extension": ".py",
   "mimetype": "text/x-python",
   "name": "python",
   "nbconvert_exporter": "python",
   "pygments_lexer": "ipython3",
   "version": "3.10.11"
  },
  "orig_nbformat": 4
 },
 "nbformat": 4,
 "nbformat_minor": 2
}
