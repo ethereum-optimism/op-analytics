{
 "cells": [
  {
   "cell_type": "code",
   "execution_count": 1,
   "metadata": {},
   "outputs": [],
   "source": [
    "import sys\n",
    "sys.path.append(\"../helper_functions\")\n",
    "import web3py_utils as w3py\n",
    "sys.path.pop()\n",
    "\n",
    "import pandas as pd\n",
    "from dotenv import load_dotenv\n",
    "load_dotenv()\n",
    "import os\n",
    "\n",
    "endpoint = os.environ[\"OP_NODE\"]\n",
    "\n",
    "# l2_output_signatures = [\n",
    "#         'getL2Output(uint256)'\n",
    "#         ,'getL2OutputIndexAfter(uint256)'\n",
    "#         ,'getL2OutputAfter(uint256)'\n",
    "#         ,'latestOutputIndex()'\n",
    "#         ,'nextOutputIndex()'\n",
    "# ]\n",
    "# token_signatures = [\n",
    "#     #all\n",
    "#      'totalSupply()'\n",
    "#     ,'balanceOf(address)'\n",
    "#     ,'transferFrom(address,address,uint256)'\n",
    "#     #erc20 and others\n",
    "#     ,'transfer(address,uint256)'\n",
    "#     #erc721 and others\n",
    "#     ,'safeTransferFrom(address,address,uint256,bytes)'\n",
    "#     ,'ownerOf(uint256)'\n",
    "#     #erc1155\n",
    "#     ,'safeTransferFrom(address,address,uint256,uint256,bytes)'\n",
    "#     ,'safeBatchTransferFrom(address,address,uint256[],uint256[],bytes)'\n",
    "#     ,'balanceOf(address,uint256)'\n",
    "# ]\n",
    "proxy_sig = [\n",
    "     '_implementation()'\n",
    "    ,'_getImplementation()'\n",
    "    ,'_upgradeTo(address)'\n",
    "]\n",
    "\n",
    "arr = proxy_sig"
   ]
  },
  {
   "cell_type": "code",
   "execution_count": 2,
   "metadata": {},
   "outputs": [
    {
     "name": "stdout",
     "output_type": "stream",
     "text": [
      "format for sql query\n",
      "\n",
      "('_implementation()', 0x59679b0f),\n",
      "('_getImplementation()', 0x42404e07),\n",
      "('_upgradeTo(address)', 0x34140748)\n"
     ]
    }
   ],
   "source": [
    "# opcode = 'PUSH4'\n",
    "opcode = ''\n",
    "test_arr = []\n",
    "\n",
    "for sig in arr:\n",
    "        sig = sig.replace(\" \", \"\") #replace spaces\n",
    "        bytecode = w3py.get_bytecode_pattern(endpoint, sig, opcode)\n",
    "        test_arr.append([sig,bytecode])\n",
    "\n",
    "formatted_arr = []\n",
    "\n",
    "for item in test_arr:\n",
    "    function_name = item[0]\n",
    "    opcode = item[1].replace(\"'0x\", \"0x\")  # Remove the '0x' prefix\n",
    "    formatted_arr.append(f\"('{function_name}', {opcode})\")\n",
    "\n",
    "# Join the formatted array using commas\n",
    "formatted_string = \",\\n\".join(formatted_arr)\n",
    "\n",
    "print('format for sql query\\n')\n",
    "print(formatted_string)"
   ]
  }
 ],
 "metadata": {
  "kernelspec": {
   "display_name": "new-env",
   "language": "python",
   "name": "python3"
  },
  "language_info": {
   "codemirror_mode": {
    "name": "ipython",
    "version": 3
   },
   "file_extension": ".py",
   "mimetype": "text/x-python",
   "name": "python",
   "nbconvert_exporter": "python",
   "pygments_lexer": "ipython3",
   "version": "3.10.11"
  },
  "orig_nbformat": 4
 },
 "nbformat": 4,
 "nbformat_minor": 2
}
