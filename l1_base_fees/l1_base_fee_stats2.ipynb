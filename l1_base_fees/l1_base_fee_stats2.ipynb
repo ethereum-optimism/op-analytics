{
 "cells": [
  {
   "cell_type": "code",
   "execution_count": 5,
   "metadata": {},
   "outputs": [],
   "source": [
    "import pandas as pd\n",
    "\n",
    "#relative to the original base fee, when do we consider a spike's start and end\n",
    "spike_start_pct = 0.10\n",
    "spike_end_pct = 0.05"
   ]
  },
  {
   "cell_type": "code",
   "execution_count": 6,
   "metadata": {},
   "outputs": [],
   "source": [
    "# Load the dataset\n",
    "df = pd.read_csv('csv_inputs/2023h1ytd.csv')\n",
    "\n",
    "# Ensure the DataFrame is sorted by 'number' in ascending order\n",
    "df = df.sort_values('number')\n",
    "\n",
    "# Initialize lists to hold the start and end indices of each spike\n",
    "spike_start_indices = []\n",
    "spike_end_indices = []\n",
    "\n",
    "# Initialize variables to keep track of whether we're in a spike and the start of the spike\n",
    "in_spike = False\n",
    "spike_start = 0\n",
    "\n",
    "# Iterate over the DataFrame\n",
    "for i in range(1, len(df)):\n",
    "    # Calculate the percentage change in base fee\n",
    "    pct_change = (df.iloc[i]['base_fee_gwei'] - df.iloc[i - 1]['base_fee_gwei']) / df.iloc[i - 1]['base_fee_gwei']\n",
    "    \n",
    "    # Check if we're currently in a spike\n",
    "    if in_spike:\n",
    "        # End the spike if the base fee has returned to within 5% of the base fee at the start of the spike\n",
    "        if abs(df.iloc[i]['base_fee_gwei'] - df.iloc[spike_start]['base_fee_gwei']) <= df.iloc[spike_start]['base_fee_gwei'] * spike_end_pct:\n",
    "            spike_end_indices.append(i - 1)\n",
    "            in_spike = False\n",
    "    else:\n",
    "        # Start a new spike if the base fee has increased by at least 10%\n",
    "        if pct_change >= spike_start_pct:\n",
    "            spike_start_indices.append(i - 1)\n",
    "            spike_start = i - 1\n",
    "            in_spike = True\n",
    "\n",
    "# Create a DataFrame for the spikes\n",
    "df_spikes = pd.DataFrame({'Start Index': spike_start_indices, 'End Index': spike_end_indices})\n",
    "\n",
    "# Define a function to calculate the max base fee for each spike\n",
    "def calculate_max_base_fee(start_index, end_index):\n",
    "    return df.loc[start_index:end_index, 'base_fee_gwei'].max()\n",
    "\n",
    "# Apply the function to each spike\n",
    "df_spikes['Max Base Fee'] = df_spikes.apply(lambda x: calculate_max_base_fee(x['Start Index'], x['End Index']), axis=1)\n",
    "\n",
    "# Calculate the start base fee for each spike\n",
    "df_spikes['Start Base Fee'] = df.loc[df_spikes['Start Index'], 'base_fee_gwei'].values\n",
    "\n",
    "# Calculate the percentage gain for each spike\n",
    "df_spikes['Percentage Gain'] = (df_spikes['Max Base Fee'] - df_spikes['Start Base Fee']) / df_spikes['Start Base Fee'] * 100\n",
    "\n",
    "# Check the DataFrame\n",
    "df_spikes.head()"
   ]
  },
  {
   "cell_type": "code",
   "execution_count": null,
   "metadata": {},
   "outputs": [],
   "source": [
    "df_spikes.to_csv('2023h1ytd_spikes.csv')"
   ]
  }
 ],
 "metadata": {
  "kernelspec": {
   "display_name": "new-env",
   "language": "python",
   "name": "python3"
  },
  "language_info": {
   "codemirror_mode": {
    "name": "ipython",
    "version": 3
   },
   "file_extension": ".py",
   "mimetype": "text/x-python",
   "name": "python",
   "nbconvert_exporter": "python",
   "pygments_lexer": "ipython3",
   "version": "3.10.11"
  },
  "orig_nbformat": 4
 },
 "nbformat": 4,
 "nbformat_minor": 2
}
