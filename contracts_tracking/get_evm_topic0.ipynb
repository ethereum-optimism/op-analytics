{
 "cells": [
  {
   "cell_type": "code",
   "execution_count": 1,
   "metadata": {},
   "outputs": [],
   "source": [
    "import sys\n",
    "sys.path.append(\"../helper_functions\")\n",
    "import web3py_utils as w3py\n",
    "sys.path.pop()\n",
    "\n",
    "import pandas as pd\n",
    "from dotenv import load_dotenv\n",
    "load_dotenv()\n",
    "import os\n",
    "\n",
    "token_events = [\n",
    "     'Transfer(address, address, uint256)'\n",
    "    ,'Approval(address, approved, uint256)'\n",
    "    ,'ApprovalForAll(address, address, bool)'\n",
    "]\n",
    "\n",
    "\n",
    "arr = token_events"
   ]
  },
  {
   "cell_type": "code",
   "execution_count": 2,
   "metadata": {},
   "outputs": [
    {
     "name": "stdout",
     "output_type": "stream",
     "text": [
      "format for sql query\n",
      "\n",
      "('Transfer(address,address,uint256)', 0xddf252ad1be2c89b69c2b068fc378daa952ba7f163c4a11628f55a4df523b3ef),\n",
      "('Approval(address,approved,uint256)', 0x6d14f43f7c92c56c42049dba8563afce1f060f72cbcdc236a3565ede6517496a),\n",
      "('ApprovalForAll(address,address,bool)', 0x17307eab39ab6107e8899845ad3d59bd9653f200f220920489ca2b5937696c31)\n"
     ]
    }
   ],
   "source": [
    "\n",
    "test_arr = []\n",
    "\n",
    "for sig in arr:\n",
    "        sig = sig.replace(\" \", \"\") #replace spaces\n",
    "        bytecode = w3py.generate_ethereum_event_signature_hash(sig)\n",
    "        test_arr.append([sig,bytecode])\n",
    "\n",
    "formatted_arr = []\n",
    "\n",
    "for item in test_arr:\n",
    "    function_name = item[0]\n",
    "    opcode = item[1]#.replace(\"'0x\", \"0x\")  # Remove the '0x' prefix\n",
    "    formatted_arr.append(f\"('{function_name}', {opcode})\")\n",
    "\n",
    "# Join the formatted array using commas\n",
    "formatted_string = \",\\n\".join(formatted_arr)\n",
    "\n",
    "print('format for sql query\\n')\n",
    "print(formatted_string)"
   ]
  }
 ],
 "metadata": {
  "kernelspec": {
   "display_name": "new-env",
   "language": "python",
   "name": "python3"
  },
  "language_info": {
   "codemirror_mode": {
    "name": "ipython",
    "version": 3
   },
   "file_extension": ".py",
   "mimetype": "text/x-python",
   "name": "python",
   "nbconvert_exporter": "python",
   "pygments_lexer": "ipython3",
   "version": "3.10.11"
  },
  "orig_nbformat": 4
 },
 "nbformat": 4,
 "nbformat_minor": 2
}
