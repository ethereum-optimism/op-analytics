{
 "cells": [
  {
   "cell_type": "code",
   "execution_count": null,
   "metadata": {},
   "outputs": [],
   "source": [
    "import dotenv\n",
    "import os\n",
    "dotenv.load_dotenv()\n",
    "import csv\n",
    "import json\n",
    "import requests\n",
    "import time\n",
    "import pandas as pd\n",
    "from datetime import datetime\n",
    "from typing import Dict, List, Tuple\n",
    "from urllib.parse import urlencode\n",
    "import sys\n",
    "sys.path.append(\"../helper_functions\")\n",
    "import duneapi_utils as d\n",
    "import google_bq_utils as bqu\n",
    "import clickhouse_utils as ch\n",
    "import opstack_metadata_utils as ops\n",
    "sys.path.pop()"
   ]
  },
  {
   "cell_type": "code",
   "execution_count": 2,
   "metadata": {},
   "outputs": [],
   "source": [
    "def read_addresses_from_csv(filename: str) -> List[Tuple[str, str, str]]:\n",
    "    addresses = []\n",
    "    with open(filename, 'r') as csvfile:\n",
    "        reader = csv.reader(csvfile)\n",
    "        next(reader)  # Skip header\n",
    "        for row in reader:\n",
    "            chain, address, name = row\n",
    "            addresses.append((chain, address, name))\n",
    "    return addresses\n",
    "\n",
    "def get_balance(network: str, address: str, max_retries: int = 3, initial_wait: float = 10.0) -> float:\n",
    "    # Get RPC URL from metadata\n",
    "    rpc_url = ops.get_rpc_url_by_chain_name(network)\n",
    "    if not rpc_url:\n",
    "        print(f\"No RPC URL found for network: {network}\")\n",
    "        return None\n",
    "    \n",
    "    for attempt in range(max_retries):\n",
    "        # RPC request payload for eth_getBalance\n",
    "        payload = {\n",
    "            \"jsonrpc\": \"2.0\",\n",
    "            \"method\": \"eth_getBalance\",\n",
    "            \"params\": [address, \"latest\"],\n",
    "            \"id\": 1\n",
    "        }\n",
    "        \n",
    "        headers = {\n",
    "            \"Content-Type\": \"application/json\"\n",
    "        }\n",
    "\n",
    "        try:\n",
    "            response = requests.post(rpc_url, json=payload, headers=headers, timeout=30)\n",
    "            \n",
    "            if response.status_code == 200:\n",
    "                result = response.json()\n",
    "                if \"result\" in result and result[\"result\"] is not None:\n",
    "                    # Convert hex balance to decimal and then to ETH\n",
    "                    balance_wei = int(result[\"result\"], 16)\n",
    "                    balance_eth = balance_wei / 1e18\n",
    "                    return balance_eth\n",
    "                else:\n",
    "                    print(f\"RPC returned error for {address}: {result.get('error', 'Unknown error')}\")\n",
    "            else:\n",
    "                print(f\"HTTP {response.status_code} for {address}\")\n",
    "                \n",
    "        except Exception as e:\n",
    "            print(f\"Request failed for {address}: {str(e)}\")\n",
    "        \n",
    "        # If we get here, the request failed or returned invalid data\n",
    "        if attempt < max_retries - 1:  # Don't sleep on the last attempt\n",
    "            wait_time = initial_wait * (2 ** attempt)  # Exponential backoff\n",
    "            print(f\"Attempt {attempt + 1} failed for {address}. Waiting {wait_time} seconds before retry...\")\n",
    "            time.sleep(wait_time)\n",
    "        else:\n",
    "            print(f\"All {max_retries} attempts failed for {address}. Returning None.\")\n",
    "    \n",
    "    return None\n",
    "\n",
    "def check_balances(addresses: List[Tuple[str, str, str]]) -> Dict[str, float]:\n",
    "    balances = {}\n",
    "    for chain, address, name in addresses:\n",
    "        print(f\"Checking balance for {name} ({address}) on {chain}...\")\n",
    "        balance = get_balance(chain, address)\n",
    "        print(f\"Name: {name}, Address: {address}, Balance: {balance}\")\n",
    "        if balance is not None:\n",
    "            balances[name] = {\"balance\": balance, \"address\": address}\n",
    "        else:\n",
    "            balances[name] = {\"balance\": None, \"address\": address}\n",
    "        time.sleep(0.1)  # Rate limiting between different addresses\n",
    "    return balances\n",
    "\n",
    "def get_inflight_withdrawals():\n",
    "        wds = d.get_dune_data(query_id = 3939869, #https://dune.com/queries/3939869\n",
    "                name = \"l1_to_l2_inflight_withdrawals\",\n",
    "                path = \"outputs\",\n",
    "                performance=\"large\",\n",
    "                num_hours_to_rerun=1 #almost always rereun\n",
    "                )\n",
    "        wds_bal = wds['amount_eth'].sum()\n",
    "        return wds_bal"
   ]
  },
  {
   "cell_type": "code",
   "execution_count": null,
   "metadata": {},
   "outputs": [],
   "source": [
    "csv_filename = 'inputs/address_list.csv'  # Make sure this file exists in the same directory as your script\n",
    "addresses = read_addresses_from_csv(csv_filename)\n",
    "balances = check_balances(addresses)\n",
    "balances['l1_to_l2_inflight_withdrawals'] = {\"balance\": get_inflight_withdrawals(), \"address\": 'https://dune.com/embeds/3939869/6626683/'} "
   ]
  },
  {
   "cell_type": "code",
   "execution_count": 4,
   "metadata": {},
   "outputs": [],
   "source": [
    "# Output balances as JSON\n",
    "json_txt = json.dumps(balances, indent=2)\n",
    "# print(json_txt)\n",
    "# Create DataFrame\n",
    "current_time = datetime.now()\n",
    "df_data = []\n",
    "for name, data in balances.items():\n",
    "    df_data.append({\n",
    "        'dt': pd.Timestamp(current_time.date()),\n",
    "        'timestamp': pd.Timestamp(current_time.isoformat()),\n",
    "        'address_type': name,\n",
    "        'address': data['address'],\n",
    "        'balance': data['balance']\n",
    "    })\n",
    "\n",
    "df = pd.DataFrame(df_data)"
   ]
  },
  {
   "cell_type": "code",
   "execution_count": 5,
   "metadata": {},
   "outputs": [],
   "source": [
    "table_name = 'op_collective_balances'"
   ]
  },
  {
   "cell_type": "code",
   "execution_count": null,
   "metadata": {},
   "outputs": [],
   "source": [
    "df.dtypes"
   ]
  },
  {
   "cell_type": "code",
   "execution_count": null,
   "metadata": {},
   "outputs": [],
   "source": [
    "df.sample(5)"
   ]
  },
  {
   "cell_type": "code",
   "execution_count": null,
   "metadata": {},
   "outputs": [],
   "source": [
    "upload_table = f'daily_{table_name}'\n",
    "#BQ Upload\n",
    "bqu.write_df_to_bq_table(df, f'latest_{table_name}', dataset_id='api_table_uploads', write_mode='overwrite')\n",
    "bqu.append_and_upsert_df_to_bq_table(df, f'daily_{table_name}', unique_keys = ['dt','address_type','address'])\n",
    "#CH Upload\n",
    "ch.write_df_to_clickhouse(df, upload_table, if_exists='append')"
   ]
  }
 ],
 "metadata": {
  "kernelspec": {
   "display_name": "gcp-env",
   "language": "python",
   "name": "python3"
  },
  "language_info": {
   "codemirror_mode": {
    "name": "ipython",
    "version": 3
   },
   "file_extension": ".py",
   "mimetype": "text/x-python",
   "name": "python",
   "nbconvert_exporter": "python",
   "pygments_lexer": "ipython3",
   "version": "3.12.3"
  }
 },
 "nbformat": 4,
 "nbformat_minor": 2
}
