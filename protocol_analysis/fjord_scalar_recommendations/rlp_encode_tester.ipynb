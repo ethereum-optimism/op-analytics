{
 "cells": [
  {
   "cell_type": "code",
   "execution_count": null,
   "metadata": {},
   "outputs": [],
   "source": [
    "import pandas as pd\n",
    "from web3 import Web3\n",
    "from hexbytes import HexBytes\n",
    "import ast\n",
    "import rlp\n",
    "from rlp.sedes import Binary, big_endian_int, binary, List\n",
    "from eth_utils import to_bytes, to_hex, int_to_big_endian, decode_hex\n",
    "import sys\n",
    "import os\n",
    "import dotenv\n",
    "\n",
    "dotenv.load_dotenv()\n",
    "sys.path.append(\"../../helper_functions\")\n",
    "import clickhouse_utils as ch\n",
    "import duneapi_utils as du\n",
    "sys.path.pop()\n",
    "\n",
    "client = ch.connect_to_clickhouse_db() #Default is OPLabs DB"
   ]
  },
  {
   "cell_type": "code",
   "execution_count": null,
   "metadata": {},
   "outputs": [],
   "source": [
    "# Test transaction receipt\n",
    "from web3 import Web3\n",
    "op_rpc = os.getenv(\"OP_PUBLIC_RPC\")\n",
    "w3 = Web3(Web3.HTTPProvider(op_rpc))\n",
    "\n",
    "tx_test = '0xcea81f2e836a37b38ba82afd37e6f66c02e348e7b89538aa232013d91edcb926'\n",
    "tx = w3.eth.get_transaction(tx_test)\n",
    "txr = w3.eth.get_transaction_receipt(tx_test)\n",
    "# # txraw = w3.eth.get_raw_transaction(tx_test)\n",
    "print(tx)\n",
    "# print(txr)\n",
    "# # print(txraw)"
   ]
  },
  {
   "cell_type": "code",
   "execution_count": null,
   "metadata": {},
   "outputs": [],
   "source": [
    "# may not sufficent due to missing transaction signature fields\n",
    "\n",
    "# Get L2 Txs from Clickhouse / Goldsky\n",
    "query_by_day = '''\n",
    "        SELECT 10 as chain_id, nonce, gas, max_fee_per_gas, max_priority_fee_per_gas, gas_price,\n",
    "                to_address, value, input, block_timestamp, block_number, hash, receipt_gas_used\n",
    "        FROM op_transactions\n",
    "        WHERE gas_price > 0\n",
    "        AND hash = '0xcea81f2e836a37b38ba82afd37e6f66c02e348e7b89538aa232013d91edcb926'\n",
    "        AND block_number = 120731426\n",
    "\n",
    "        limit 1\n",
    "\n",
    "        SETTINGS max_execution_time = 7000\n",
    "'''\n",
    "result_df = client.query_df(query_by_day)\n",
    "                            \n",
    "result_df['access_list'] = '[]'\n",
    "result_df['access_list'] = result_df['access_list'].apply(ast.literal_eval)\n",
    "result_df['r'] = '0x6727a53c0972c55923242cea052dc4e1105d7b65c91c442e2741440965eac357'\n",
    "result_df['s'] = '0x0a8e71aea623adb7b5562fb9a779634f3b84dad7be1e1f22caaa640db352a6ff'\n",
    "result_df['v'] = '55'\n"
   ]
  },
  {
   "cell_type": "code",
   "execution_count": null,
   "metadata": {},
   "outputs": [],
   "source": [
    "result_df"
   ]
  },
  {
   "cell_type": "code",
   "execution_count": null,
   "metadata": {},
   "outputs": [],
   "source": [
    "# Process \"to\" field\n",
    "\n",
    "to_field = result_df['to_address'][0].decode('utf-8')\n",
    "v_field = result_df['v'][0]\n",
    "\n",
    "# print(f\"to_field (original): {to_field}\")\n",
    "\n",
    "# to_bytes = bytes.fromhex(to_field[2:])\n",
    "\n",
    "# print(f\"to_bytes (result): {to_bytes}\")\n",
    "\n",
    "print( int_to_big_endian(int(v_field)) )  # Convert v to a bytes object\n",
    "print(int(v_field).to_bytes(1, byteorder='big'))"
   ]
  },
  {
   "cell_type": "code",
   "execution_count": null,
   "metadata": {},
   "outputs": [],
   "source": [
    "def process_and_encode_transaction(row):\n",
    "    try:\n",
    "        # Process \"to\" field\n",
    "        # Process \"to\" field\n",
    "        to_field = row['to_address']\n",
    "        if isinstance(to_field, str):\n",
    "            if to_field:\n",
    "                to_field = to_field.decode('utf-8')\n",
    "                to_bytes = bytes.fromhex(to_field[2:])\n",
    "            else:\n",
    "                to_bytes = b''  # Set to an empty bytes object if \"to\" address is null\n",
    "        elif isinstance(to_field, bytes):\n",
    "            if to_field.startswith(b'0x'):\n",
    "                to_field = to_field.decode('utf-8')\n",
    "                to_bytes = bytes.fromhex(to_field[2:])\n",
    "            else:\n",
    "                to_bytes = to_field\n",
    "        else:\n",
    "            raise ValueError(\"Invalid 'to_address' field type\")\n",
    "\n",
    "        print(f\"input (before): {row['input']}\")\n",
    "        print(f\"input (after): {bytes.fromhex(row['input'][2:])}\")\n",
    "        print(f\"input length: {len(bytes.fromhex(row['input'][2:]))}\")\n",
    "        # Prepare transaction parameters\n",
    "        try:\n",
    "            tx_params = {\n",
    "                'nonce': int_to_big_endian(int(row['nonce'])),\n",
    "                'gasPrice': int_to_big_endian(int(row['gas_price'])),\n",
    "                'gas': int_to_big_endian(int(row['gas'])),\n",
    "                'to': to_bytes,\n",
    "                'value': int_to_big_endian(int(row['value'])) if row['value'] != 0 else b'',  # Encode value as byte array if 0\n",
    "                'input': bytes.fromhex(row['input'][2:]),\n",
    "                'v': int_to_big_endian(int(row['v'])),  # Convert v to a bytes object\n",
    "                'r': bytes.fromhex(row['r'][2:]),\n",
    "                's': bytes.fromhex(row['s'][2:])\n",
    "            }\n",
    "        except:\n",
    "            print(row)\n",
    "\n",
    "        # # Print transaction parameters for debugging\n",
    "        # for key, value in tx_params.items():\n",
    "        #     print(f\"{key}: {value}, {type(value)}\")\n",
    "\n",
    "        # Prepare the transaction fields for RLP encoding\n",
    "        transaction = [\n",
    "            tx_params['nonce'],\n",
    "            tx_params['gasPrice'],\n",
    "            tx_params['gas'],\n",
    "            tx_params['to'],\n",
    "            tx_params['value'],\n",
    "            tx_params['input'],\n",
    "            tx_params['v'],\n",
    "            tx_params['r'],\n",
    "            tx_params['s']\n",
    "        ]\n",
    "        print(transaction)\n",
    "\n",
    "        # Encode the entire transaction\n",
    "        encoded_tx = rlp.encode(transaction)\n",
    "        encoded_tx_hex = \"0x\" + encoded_tx.hex()\n",
    "        return encoded_tx_hex, len(encoded_tx)\n",
    "\n",
    "    except (ValueError, TypeError, UnicodeDecodeError) as e:\n",
    "        print(\"Error:\", e)\n",
    "        print(\"Failed Transaction Info:\")\n",
    "        print(row)\n",
    "        return None, None"
   ]
  },
  {
   "cell_type": "code",
   "execution_count": null,
   "metadata": {},
   "outputs": [],
   "source": [
    "correct_raw_tx_hash = '0xf8a981ce8341ba5383010f9e94dc6ff44d5d932cbd77b52e5612ba0529dc6226f180b844a9059cbb0000000000000000000000007a6e883eec3dd33528115637ea01b3b64e2f58490000000000000000000000000000000000000000000000009e34ef99a774000037a06727a53c0972c55923242cea052dc4e1105d7b65c91c442e2741440965eac357a00a8e71aea623adb7b5562fb9a779634f3b84dad7be1e1f22caaa640db352a6ff'"
   ]
  },
  {
   "cell_type": "code",
   "execution_count": null,
   "metadata": {},
   "outputs": [],
   "source": [
    "# Assuming result_df is your DataFrame with the transaction data\n",
    "result_df[['encoded_transaction', 'len_encoded_transaction']] = result_df.apply(\n",
    "    lambda row: process_and_encode_transaction(row),\n",
    "    axis=1,\n",
    "    result_type='expand'\n",
    ")\n",
    "rawtx = result_df['encoded_transaction'][0]\n",
    "print(f\"Encoded transaction: {rawtx}\")\n",
    "print(len(rawtx))\n"
   ]
  },
  {
   "cell_type": "code",
   "execution_count": null,
   "metadata": {},
   "outputs": [],
   "source": [
    "rawtx = result_df['encoded_transaction'][0]\n",
    "# print(rawtx)\n",
    "print(len(rawtx))\n",
    "print(len(correct_raw_tx_hash))\n"
   ]
  }
 ],
 "metadata": {
  "kernelspec": {
   "display_name": "fastlz-env",
   "language": "python",
   "name": "python3"
  },
  "language_info": {
   "codemirror_mode": {
    "name": "ipython",
    "version": 3
   },
   "file_extension": ".py",
   "mimetype": "text/x-python",
   "name": "python",
   "nbconvert_exporter": "python",
   "pygments_lexer": "ipython3",
   "version": "3.9.19"
  }
 },
 "nbformat": 4,
 "nbformat_minor": 2
}
