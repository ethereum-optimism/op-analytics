{
 "cells": [
  {
   "cell_type": "markdown",
   "metadata": {},
   "source": [
    "### Initial Setup\n",
    "Make sure you have the following packages installed:\n",
    "- pandas\n",
    "- jupysql\n",
    "- duckdb\n",
    "- duckdb-engine\n",
    "\n",
    "`pip install jupysql duckdb duckdb-engine`"
   ]
  },
  {
   "cell_type": "code",
   "execution_count": 12,
   "metadata": {},
   "outputs": [],
   "source": [
    "# pip install jupysql duckdb duckdb-engine\n",
    "\n",
    "# TODO: Build a combined database"
   ]
  },
  {
   "cell_type": "code",
   "execution_count": 13,
   "metadata": {},
   "outputs": [],
   "source": [
    "import duckdb\n",
    "import pandas as pd\n",
    "# use an in memory database\n",
    "conn = duckdb.connect(':memory:')"
   ]
  },
  {
   "cell_type": "code",
   "execution_count": 14,
   "metadata": {},
   "outputs": [
    {
     "data": {
      "text/plain": [
       "<duckdb.duckdb.DuckDBPyConnection at 0x143e63bf0>"
      ]
     },
     "execution_count": 14,
     "metadata": {},
     "output_type": "execute_result"
    }
   ],
   "source": [
    "# Create tables from CSV files\n",
    "conn.execute(\"CREATE TABLE defillama_chains AS SELECT * FROM 'downloads/defillama_chains.csv'\")\n",
    "conn.execute(\"CREATE TABLE defillama_tvl AS SELECT * FROM 'downloads/defillama_tvl.csv'\")\n",
    "\n",
    "conn.execute(\"CREATE TABLE growthepie_fundamentals AS SELECT * FROM 'downloads/growthepie_fundamentals.csv'\")\n",
    "conn.execute(\"CREATE TABLE growthepie_metadata AS SELECT * FROM 'downloads/growthepie_metadata.csv'\")\n",
    "\n",
    "conn.execute(\"CREATE TABLE l2beat_activity AS SELECT * FROM 'downloads/l2beat_activity.csv'\")\n",
    "conn.execute(\"CREATE TABLE l2beat_assets_onchain AS SELECT * FROM 'downloads/l2beat_assets_onchain.csv'\")\n",
    "conn.execute(\"CREATE TABLE l2beat_summary AS SELECT * FROM 'downloads/l2beat_summary.csv'\")"
   ]
  },
  {
   "cell_type": "markdown",
   "metadata": {},
   "source": [
    "### Intermediate Data x Metadata Views\n",
    "Join the data tables with the metadata tables for each data source, to then be used for joining"
   ]
  },
  {
   "cell_type": "code",
   "execution_count": 15,
   "metadata": {},
   "outputs": [
    {
     "data": {
      "text/plain": [
       "<duckdb.duckdb.DuckDBPyConnection at 0x143e63bf0>"
      ]
     },
     "execution_count": 15,
     "metadata": {},
     "output_type": "execute_result"
    }
   ],
   "source": [
    "#Build Growthepie Model\n",
    "conn.execute(\"\"\"\n",
    "CREATE OR REPLACE VIEW growthepie AS\n",
    "SELECT\n",
    "    f.*\n",
    "    , m.* EXCLUDE (origin_key)\n",
    "FROM growthepie_fundamentals f\n",
    "JOIN growthepie_metadata m\n",
    "ON f.origin_key = m.origin_key\n",
    "\"\"\")\n",
    "\n",
    "#Build L2Beat Model\n",
    "conn.execute(\"\"\"\n",
    "CREATE OR REPLACE VIEW l2beat AS\n",
    "SELECT\n",
    "    s.*\n",
    "    , t.* EXCLUDE (slug)\n",
    "    , aoc.* EXCLUDE (slug)\n",
    "FROM l2beat_summary s\n",
    "RIGHT JOIN l2beat_activity t\n",
    "    ON s.slug = t.slug\n",
    "RIGHT JOIN l2beat_assets_onchain aoc\n",
    "    ON s.slug = aoc.slug\n",
    "\"\"\")\n",
    "\n",
    "#Build Defillama Model\n",
    "conn.execute(\"\"\"\n",
    "CREATE OR REPLACE VIEW defillama AS\n",
    "SELECT\n",
    "    ch.*\n",
    "    , tvl.* EXCLUDE (name, chain_id)\n",
    "FROM defillama_chains ch\n",
    "JOIN defillama_tvl tvl\n",
    "ON ch.name = tvl.name\n",
    "\"\"\")"
   ]
  },
  {
   "cell_type": "code",
   "execution_count": 21,
   "metadata": {},
   "outputs": [
    {
     "ename": "NameError",
     "evalue": "name 'pd' is not defined",
     "output_type": "error",
     "traceback": [
      "\u001b[0;31m---------------------------------------------------------------------------\u001b[0m",
      "\u001b[0;31mNameError\u001b[0m                                 Traceback (most recent call last)",
      "Cell \u001b[0;32mIn[21], line 3\u001b[0m\n\u001b[1;32m      1\u001b[0m \u001b[38;5;66;03m# Function to check out the views\u001b[39;00m\n\u001b[0;32m----> 3\u001b[0m \u001b[43mpd\u001b[49m\u001b[38;5;241m.\u001b[39mset_option(\u001b[38;5;124m'\u001b[39m\u001b[38;5;124mdisplay.max_columns\u001b[39m\u001b[38;5;124m'\u001b[39m, \u001b[38;5;28;01mNone\u001b[39;00m)  \u001b[38;5;66;03m# Show all columns\u001b[39;00m\n\u001b[1;32m      4\u001b[0m pd\u001b[38;5;241m.\u001b[39mset_option(\u001b[38;5;124m'\u001b[39m\u001b[38;5;124mdisplay.width\u001b[39m\u001b[38;5;124m'\u001b[39m, \u001b[38;5;28;01mNone\u001b[39;00m)        \u001b[38;5;66;03m# Don't wrap to multiple lines\u001b[39;00m\n\u001b[1;32m      5\u001b[0m pd\u001b[38;5;241m.\u001b[39mset_option(\u001b[38;5;124m'\u001b[39m\u001b[38;5;124mdisplay.max_colwidth\u001b[39m\u001b[38;5;124m'\u001b[39m, \u001b[38;5;28;01mNone\u001b[39;00m) \u001b[38;5;66;03m# Show full contents of each column\u001b[39;00m\n",
      "\u001b[0;31mNameError\u001b[0m: name 'pd' is not defined"
     ]
    }
   ],
   "source": [
    "# Function to check out the views\n",
    "\n",
    "pd.set_option('display.max_columns', None)  # Show all columns\n",
    "pd.set_option('display.width', None)        # Don't wrap to multiple lines\n",
    "pd.set_option('display.max_colwidth', None) # Show full contents of each column\n",
    "\n",
    "def print_view_sample(conn, view_name):\n",
    "    print(f\"\\n--- {view_name.upper()} ---\")\n",
    "    \n",
    "    # Fetch 5 random rows and convert to pandas DataFrame\n",
    "    query = f\"SELECT * FROM {view_name} ORDER BY RANDOM() LIMIT 5\"\n",
    "    df = duckdb.query(query).to_df()\n",
    "    \n",
    "    # Print column names\n",
    "    print(\"Columns:\", \", \".join(df.columns))\n",
    "    \n",
    "    # Print the DataFrame\n",
    "    print(\"\\nRandom Sample Rows:\")\n",
    "    print(df)\n",
    "\n",
    "# List of views\n",
    "views = ['growthepie', 'l2beat', 'defillama']\n",
    "\n",
    "# Print sample for each view\n",
    "for view in views:\n",
    "    print_view_sample(conn, view)"
   ]
  },
  {
   "cell_type": "code",
   "execution_count": null,
   "metadata": {},
   "outputs": [],
   "source": []
  }
 ],
 "metadata": {
  "kernelspec": {
   "display_name": "gcp-env",
   "language": "python",
   "name": "python3"
  },
  "language_info": {
   "codemirror_mode": {
    "name": "ipython",
    "version": 3
   },
   "file_extension": ".py",
   "mimetype": "text/x-python",
   "name": "python",
   "nbconvert_exporter": "python",
   "pygments_lexer": "ipython3",
   "version": "3.12.3"
  }
 },
 "nbformat": 4,
 "nbformat_minor": 2
}
