{
 "cells": [
  {
   "cell_type": "markdown",
   "metadata": {},
   "source": [
    "### Initial Setup\n",
    "Make sure you have the following packages installed:\n",
    "- pandas\n",
    "- jupysql\n",
    "- duckdb\n",
    "- duckdb-engine\n",
    "\n",
    "`pip install jupysql duckdb duckdb-engine`"
   ]
  },
  {
   "cell_type": "code",
   "execution_count": 1,
   "metadata": {},
   "outputs": [],
   "source": [
    "# pip install jupysql duckdb duckdb-engine\n",
    "\n",
    "# TODO: Build a combined database"
   ]
  },
  {
   "cell_type": "code",
   "execution_count": 2,
   "metadata": {},
   "outputs": [],
   "source": [
    "import duckdb\n",
    "# use an in memory database\n",
    "conn = duckdb.connect(':memory:')"
   ]
  },
  {
   "cell_type": "code",
   "execution_count": null,
   "metadata": {},
   "outputs": [],
   "source": [
    "# Create tables from CSV files\n",
    "conn.execute(\"CREATE TABLE defillama_chains AS SELECT * FROM 'downloads/defillama_chains.csv'\")\n",
    "conn.execute(\"CREATE TABLE defillama_tvl AS SELECT * FROM 'downloads/defillama_tvl.csv'\")\n",
    "\n",
    "conn.execute(\"CREATE TABLE growthepie_fundamentals AS SELECT * FROM 'downloads/growthepie_fundamentals.csv'\")\n",
    "conn.execute(\"CREATE TABLE growthepie_metadata AS SELECT * FROM 'downloads/growthepie_metadata.csv'\")\n",
    "\n",
    "conn.execute(\"CREATE TABLE l2beat_activity AS SELECT * FROM 'downloads/l2beat_activity.csv'\")\n",
    "conn.execute(\"CREATE TABLE l2beat_assets_onchain AS SELECT * FROM 'downloads/l2beat_assets_onchain.csv'\")\n",
    "conn.execute(\"CREATE TABLE l2beat_summary AS SELECT * FROM 'downloads/l2beat_summary.csv'\")"
   ]
  },
  {
   "cell_type": "code",
   "execution_count": null,
   "metadata": {},
   "outputs": [],
   "source": [
    "conn.execute(\"\"\"\n",
    "CREATE OR REPLACE VIEW growthepie AS\n",
    "SELECT f.*, m.*\n",
    "FROM 'downloads/growthepie_fundamentals.csv' AS f\n",
    "JOIN 'downloads/growthepie_metadata.csv' AS m\n",
    "ON f.origin_key = m.origin_key\n",
    "\"\"\")"
   ]
  },
  {
   "cell_type": "code",
   "execution_count": null,
   "metadata": {},
   "outputs": [],
   "source": [
    "result = conn.execute(\"SELECT * FROM growthepie WHERE origin_key='optimism' and date > '2024-06-01' limit 100\")\n",
    "df = result.df()\n",
    "print(df)"
   ]
  },
  {
   "cell_type": "code",
   "execution_count": null,
   "metadata": {},
   "outputs": [],
   "source": [
    "# Load df back as a table\n",
    "conn.register('growthepie_temp_test', df)"
   ]
  }
 ],
 "metadata": {
  "kernelspec": {
   "display_name": "gcp-env",
   "language": "python",
   "name": "python3"
  },
  "language_info": {
   "codemirror_mode": {
    "name": "ipython",
    "version": 3
   },
   "file_extension": ".py",
   "mimetype": "text/x-python",
   "name": "python",
   "nbconvert_exporter": "python",
   "pygments_lexer": "ipython3",
   "version": "3.12.3"
  }
 },
 "nbformat": 4,
 "nbformat_minor": 2
}
