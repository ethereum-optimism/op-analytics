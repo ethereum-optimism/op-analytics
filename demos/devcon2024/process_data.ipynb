{
 "cells": [
  {
   "cell_type": "markdown",
   "metadata": {},
   "source": [
    "### Initial Setup\n",
    "Make sure you have the following packages installed:\n",
    "- pandas\n",
    "- jupysql\n",
    "- duckdb\n",
    "- duckdb-engine\n",
    "\n",
    "`pip install jupysql duckdb duckdb-engine`"
   ]
  },
  {
   "cell_type": "code",
   "execution_count": 1,
   "metadata": {},
   "outputs": [],
   "source": [
    "# pip install jupysql duckdb duckdb-engine\n",
    "\n",
    "# TODO: Build a combined database"
   ]
  },
  {
   "cell_type": "code",
   "execution_count": 2,
   "metadata": {},
   "outputs": [],
   "source": [
    "import duckdb\n",
    "# use an in memory database\n",
    "conn = duckdb.connect(':memory:')"
   ]
  },
  {
   "cell_type": "code",
   "execution_count": 3,
   "metadata": {},
   "outputs": [
    {
     "data": {
      "text/plain": [
       "<duckdb.duckdb.DuckDBPyConnection at 0x1120137f0>"
      ]
     },
     "execution_count": 3,
     "metadata": {},
     "output_type": "execute_result"
    }
   ],
   "source": [
    "# Create tables from CSV files\n",
    "conn.execute(\"CREATE TABLE defillama_chains AS SELECT * FROM 'downloads/defillama_chains.csv'\")\n",
    "conn.execute(\"CREATE TABLE defillama_tvl AS SELECT * FROM 'downloads/defillama_tvl.csv'\")\n",
    "\n",
    "conn.execute(\"CREATE TABLE growthepie_fundamentals AS SELECT * FROM 'downloads/growthepie_fundamentals.csv'\")\n",
    "conn.execute(\"CREATE TABLE growthepie_metadata AS SELECT * FROM 'downloads/growthepie_metadata.csv'\")\n",
    "\n",
    "conn.execute(\"CREATE TABLE l2beat_activity AS SELECT * FROM 'downloads/l2beat_activity.csv'\")\n",
    "conn.execute(\"CREATE TABLE l2beat_assets_onchain AS SELECT * FROM 'downloads/l2beat_assets_onchain.csv'\")\n",
    "conn.execute(\"CREATE TABLE l2beat_summary AS SELECT * FROM 'downloads/l2beat_summary.csv'\")"
   ]
  },
  {
   "cell_type": "code",
   "execution_count": 4,
   "metadata": {},
   "outputs": [
    {
     "data": {
      "text/plain": [
       "<duckdb.duckdb.DuckDBPyConnection at 0x1120137f0>"
      ]
     },
     "execution_count": 4,
     "metadata": {},
     "output_type": "execute_result"
    }
   ],
   "source": [
    "conn.execute(\"\"\"\n",
    "CREATE OR REPLACE VIEW growthepie AS\n",
    "SELECT f.*, m.*\n",
    "FROM 'downloads/growthepie_fundamentals.csv' AS f\n",
    "JOIN 'downloads/growthepie_metadata.csv' AS m\n",
    "ON f.origin_key = m.origin_key\n",
    "\"\"\")"
   ]
  },
  {
   "cell_type": "code",
   "execution_count": 7,
   "metadata": {},
   "outputs": [
    {
     "name": "stdout",
     "output_type": "stream",
     "text": [
      "    index origin_key       date  costs_blobs_eth  costs_blobs_usd  \\\n",
      "0   12261   optimism 2024-06-02     1.651507e-10     6.297944e-07   \n",
      "1   12262   optimism 2024-06-03     2.659451e-10     1.005462e-06   \n",
      "2   12263   optimism 2024-06-04     3.899392e-10     1.468760e-06   \n",
      "3   12264   optimism 2024-06-05     2.080768e-09     7.937988e-06   \n",
      "4   12265   optimism 2024-06-06     2.968125e-09     1.148986e-05   \n",
      "..    ...        ...        ...              ...              ...   \n",
      "95  12356   optimism 2024-09-05     1.651507e-10     4.043398e-07   \n",
      "96  12357   optimism 2024-09-06     1.579418e-10     3.739698e-07   \n",
      "97  12358   optimism 2024-09-07     1.487667e-10     3.308245e-07   \n",
      "98  12359   optimism 2024-09-08     1.494221e-10     3.395912e-07   \n",
      "99  12360   optimism 2024-09-09     1.664614e-10     3.822625e-07   \n",
      "\n",
      "    costs_l1_eth  costs_l1_usd  costs_total_eth  costs_total_usd       daa  \\\n",
      "0       0.080912    308.552480         0.080912       308.552480   92726.0   \n",
      "1       0.153592    580.685912         0.153592       580.685913  119028.0   \n",
      "2       0.131670    495.951737         0.131670       495.951738  131467.0   \n",
      "3       0.222741    849.741140         0.222741       849.741148  106357.0   \n",
      "4       0.235976    913.482595         0.235976       913.482607  129932.0   \n",
      "..           ...           ...              ...              ...       ...   \n",
      "95      0.080933    198.149079         0.080933       198.149079   69481.0   \n",
      "96      0.140272    332.130799         0.140272       332.130799   66403.0   \n",
      "97      0.042972     95.560597         0.042972        95.560598   63221.0   \n",
      "98      0.037007     84.106477         0.037007        84.106478   62728.0   \n",
      "99      0.097612    224.156327         0.097612       224.156328   66440.0   \n",
      "\n",
      "    ...  l2beat_id         raas  \\\n",
      "0   ...   optimism  Self-hosted   \n",
      "1   ...   optimism  Self-hosted   \n",
      "2   ...   optimism  Self-hosted   \n",
      "3   ...   optimism  Self-hosted   \n",
      "4   ...   optimism  Self-hosted   \n",
      "..  ...        ...          ...   \n",
      "95  ...   optimism  Self-hosted   \n",
      "96  ...   optimism  Self-hosted   \n",
      "97  ...   optimism  Self-hosted   \n",
      "98  ...   optimism  Self-hosted   \n",
      "99  ...   optimism  Self-hosted   \n",
      "\n",
      "                                                stack               website  \\\n",
      "0   {'label': 'OP Stack, Superchain', 'url': 'http...  https://optimism.io/   \n",
      "1   {'label': 'OP Stack, Superchain', 'url': 'http...  https://optimism.io/   \n",
      "2   {'label': 'OP Stack, Superchain', 'url': 'http...  https://optimism.io/   \n",
      "3   {'label': 'OP Stack, Superchain', 'url': 'http...  https://optimism.io/   \n",
      "4   {'label': 'OP Stack, Superchain', 'url': 'http...  https://optimism.io/   \n",
      "..                                                ...                   ...   \n",
      "95  {'label': 'OP Stack, Superchain', 'url': 'http...  https://optimism.io/   \n",
      "96  {'label': 'OP Stack, Superchain', 'url': 'http...  https://optimism.io/   \n",
      "97  {'label': 'OP Stack, Superchain', 'url': 'http...  https://optimism.io/   \n",
      "98  {'label': 'OP Stack, Superchain', 'url': 'http...  https://optimism.io/   \n",
      "99  {'label': 'OP Stack, Superchain', 'url': 'http...  https://optimism.io/   \n",
      "\n",
      "                         twitter                    block_explorer  \\\n",
      "0   https://twitter.com/Optimism  https://optimistic.etherscan.io/   \n",
      "1   https://twitter.com/Optimism  https://optimistic.etherscan.io/   \n",
      "2   https://twitter.com/Optimism  https://optimistic.etherscan.io/   \n",
      "3   https://twitter.com/Optimism  https://optimistic.etherscan.io/   \n",
      "4   https://twitter.com/Optimism  https://optimistic.etherscan.io/   \n",
      "..                           ...                               ...   \n",
      "95  https://twitter.com/Optimism  https://optimistic.etherscan.io/   \n",
      "96  https://twitter.com/Optimism  https://optimistic.etherscan.io/   \n",
      "97  https://twitter.com/Optimism  https://optimistic.etherscan.io/   \n",
      "98  https://twitter.com/Optimism  https://optimistic.etherscan.io/   \n",
      "99  https://twitter.com/Optimism  https://optimistic.etherscan.io/   \n",
      "\n",
      "                                      block_explorers  rhino_listed  \\\n",
      "0   {'Optimistic Etherscan': 'https://optimistic.e...          True   \n",
      "1   {'Optimistic Etherscan': 'https://optimistic.e...          True   \n",
      "2   {'Optimistic Etherscan': 'https://optimistic.e...          True   \n",
      "3   {'Optimistic Etherscan': 'https://optimistic.e...          True   \n",
      "4   {'Optimistic Etherscan': 'https://optimistic.e...          True   \n",
      "..                                                ...           ...   \n",
      "95  {'Optimistic Etherscan': 'https://optimistic.e...          True   \n",
      "96  {'Optimistic Etherscan': 'https://optimistic.e...          True   \n",
      "97  {'Optimistic Etherscan': 'https://optimistic.e...          True   \n",
      "98  {'Optimistic Etherscan': 'https://optimistic.e...          True   \n",
      "99  {'Optimistic Etherscan': 'https://optimistic.e...          True   \n",
      "\n",
      "    rhino_naming  origin_key_1  \n",
      "0       OPTIMISM      optimism  \n",
      "1       OPTIMISM      optimism  \n",
      "2       OPTIMISM      optimism  \n",
      "3       OPTIMISM      optimism  \n",
      "4       OPTIMISM      optimism  \n",
      "..           ...           ...  \n",
      "95      OPTIMISM      optimism  \n",
      "96      OPTIMISM      optimism  \n",
      "97      OPTIMISM      optimism  \n",
      "98      OPTIMISM      optimism  \n",
      "99      OPTIMISM      optimism  \n",
      "\n",
      "[100 rows x 58 columns]\n"
     ]
    }
   ],
   "source": [
    "result = conn.execute(\"SELECT * FROM growthepie WHERE origin_key='optimism' and date > '2024-06-01' limit 100\")\n",
    "df = result.df()\n",
    "print(df)"
   ]
  }
 ],
 "metadata": {
  "kernelspec": {
   "display_name": "gcp-env",
   "language": "python",
   "name": "python3"
  },
  "language_info": {
   "codemirror_mode": {
    "name": "ipython",
    "version": 3
   },
   "file_extension": ".py",
   "mimetype": "text/x-python",
   "name": "python",
   "nbconvert_exporter": "python",
   "pygments_lexer": "ipython3",
   "version": "3.12.3"
  }
 },
 "nbformat": 4,
 "nbformat_minor": 2
}
