{
 "cells": [
  {
   "cell_type": "code",
   "execution_count": null,
   "id": "f3ecb8e2",
   "metadata": {
    "scrolled": true
   },
   "outputs": [],
   "source": [
    "# Import the required modules\n",
    "import csv\n",
    "from ethereum.utils import decode_hex, encode_hex\n",
    "\n",
    "# Define a helper function to pad a string to a given length with null bytes\n",
    "def pad_string(string, length):\n",
    "    return string.ljust(length, b'\\x00')\n",
    "\n",
    "# Initialize the array of arrays\n",
    "result_name = []\n",
    "result_category = []\n",
    "result_award = []\n",
    "\n",
    "# Open the CSV file and read in the table\n",
    "with open('table.csv', 'r') as f:\n",
    "    reader = csv.reader(f)\n",
    "    next(reader)  # skip the header row\n",
    "    table = list(reader)\n",
    "\n",
    "    # Loop through each row of the table\n",
    "    for row in table:\n",
    "        # Get the values for address, project name, and project category\n",
    "        project_name = row[0]\n",
    "        project_category = row[1]\n",
    "        project_award = row[2]\n",
    "        project_address = row[3]\n",
    "\n",
    "        # Convert the project name to bytes32 format\n",
    "        project_name_bytes32 = pad_string(project_name.encode('utf-8'), 32)\n",
    "\n",
    "        # Convert the project category to bytes32 format\n",
    "        project_category_bytes32 = pad_string(project_category.encode('utf-8'), 32)\n",
    "        \n",
    "        # Convert the project category to bytes32 format\n",
    "        project_award_bytes32 = pad_string(project_award.encode('utf-8'), 32)\n",
    "\n",
    "        # Append the new row to the result array\n",
    "        result_name.append([project_address, '0x' + encode_hex(b'retropgf.round-2.name'), '0x' + encode_hex(project_name_bytes32)])\n",
    "        result_award.append([project_address, '0x' + encode_hex(b'retropgf.round-2.award'), '0x' + encode_hex(project_award_bytes32)])\n",
    "        result_category.append([project_address, '0x' + encode_hex(b'retropgf.round-2.category'), '0x' + encode_hex(project_category_bytes32)])\n",
    "        \n",
    "\n",
    "# Print the result\n",
    "print(result_name)\n",
    "#print(result_award)\n",
    "#print(result_category)"
   ]
  }
 ],
 "metadata": {
  "kernelspec": {
   "display_name": "Python 3 (ipykernel)",
   "language": "python",
   "name": "python3"
  },
  "language_info": {
   "codemirror_mode": {
    "name": "ipython",
    "version": 3
   },
   "file_extension": ".py",
   "mimetype": "text/x-python",
   "name": "python",
   "nbconvert_exporter": "python",
   "pygments_lexer": "ipython3",
   "version": "3.10.9"
  }
 },
 "nbformat": 4,
 "nbformat_minor": 5
}
