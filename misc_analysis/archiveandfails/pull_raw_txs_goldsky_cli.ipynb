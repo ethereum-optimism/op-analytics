{
 "cells": [
  {
   "cell_type": "code",
   "execution_count": 1,
   "metadata": {},
   "outputs": [
    {
     "name": "stdout",
     "output_type": "stream",
     "text": [
      "\u001b[33mWarning:\u001b[0m Not upgrading clickhouse, the latest version is already installed\n",
      "\u001b[31mError:\u001b[0m Cannot install under Rosetta 2 in ARM default prefix (/opt/homebrew)!\n",
      "To rerun under ARM use:\n",
      "    arch -arm64 brew install ...\n",
      "To install under x86_64, install Homebrew into /usr/local.\n",
      "\u001b[33mWarning:\u001b[0m No available formula or cask with the name \"altinity/clickhouse/clickhouse\".\n",
      "\u001b[31mError:\u001b[0m No available formula with the name \"altinity/clickhouse/clickhouse\".\n"
     ]
    }
   ],
   "source": [
    "! brew install clickhouse\n",
    "! brew tap altinity/clickhouse\n",
    "! brew install altinity/clickhouse/clickhouse\n",
    "! brew services restart altinity/clickhouse/clickhouse"
   ]
  },
  {
   "cell_type": "code",
   "execution_count": 2,
   "metadata": {},
   "outputs": [],
   "source": [
    "# ! clickhouse-client"
   ]
  },
  {
   "cell_type": "code",
   "execution_count": 3,
   "metadata": {},
   "outputs": [],
   "source": [
    "import os\n",
    "import dotenv\n",
    "\n",
    "dotenv.load_dotenv()\n",
    "# Get OPLabs DB Credentials\n",
    "host = os.getenv(\"OP_CLICKHOUSE_HOST\")\n",
    "user = os.getenv(\"OP_CLICKHOUSE_USER\")\n",
    "password = os.getenv(\"OP_CLICKHOUSE_PW\")\n",
    "port = os.getenv(\"OP_CLICKHOUSE_PORT\")\n",
    "database = 'default'\n"
   ]
  },
  {
   "cell_type": "code",
   "execution_count": 4,
   "metadata": {},
   "outputs": [],
   "source": [
    "query = \"\"\"\n",
    "SELECT *\n",
    "FROM op_transactions\n",
    "WHERE gas_price > 0\n",
    "    AND block_timestamp >= DATE_TRUNC('day', NOW()) - INTERVAL 30 DAY\n",
    "    AND block_timestamp < DATE_TRUNC('day', NOW())\n",
    "    AND receipt_status = 1\n",
    "SETTINGS max_execution_time = 5000\n",
    "\"\"\"\n",
    "\n",
    "# Construct shell command using f-string\n",
    "shell_command = f\"clickhouse-client --host {host} --port {port} --user {user} --password {password} --query=\\\"{query}\\\" > output.csv\"\n"
   ]
  },
  {
   "cell_type": "code",
   "execution_count": 5,
   "metadata": {},
   "outputs": [
    {
     "name": "stdout",
     "output_type": "stream",
     "text": [
      "zsh:1: command not found: clickhouse-client\n"
     ]
    }
   ],
   "source": [
    "! {shell_command}"
   ]
  }
 ],
 "metadata": {
  "kernelspec": {
   "display_name": "new-env",
   "language": "python",
   "name": "python3"
  },
  "language_info": {
   "codemirror_mode": {
    "name": "ipython",
    "version": 3
   },
   "file_extension": ".py",
   "mimetype": "text/x-python",
   "name": "python",
   "nbconvert_exporter": "python",
   "pygments_lexer": "ipython3",
   "version": "3.10.11"
  }
 },
 "nbformat": 4,
 "nbformat_minor": 2
}
