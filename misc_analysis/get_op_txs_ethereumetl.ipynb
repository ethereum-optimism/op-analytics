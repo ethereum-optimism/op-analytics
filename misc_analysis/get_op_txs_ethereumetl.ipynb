{
 "cells": [
  {
   "cell_type": "code",
   "execution_count": 4,
   "metadata": {},
   "outputs": [],
   "source": [
    "# NOTE: This uses a modified ethereum-etl here: https://github.com/MSilb7/optimism-etl\n",
    "\n",
    "import sys\n",
    "sys.path.append(\"../helper_functions\")\n",
    "import ethereumetl_utils as eetl\n",
    "import web3py_utils as wpy\n",
    "import pandas_utils as pu\n",
    "import evm_utils as evm\n",
    "sys.path.pop()\n",
    "\n",
    "import pandas as pd\n",
    "from dotenv import load_dotenv\n",
    "import requests\n",
    "import datetime\n",
    "load_dotenv()\n",
    "import os\n",
    "\n",
    "pg_user = os.environ.get('LOCAL_OP_PG_USER')\n",
    "pg_pw = os.environ.get('LOCAL_OP_PG_PW')\n",
    "pg_host = os.environ.get('LOCAL_OP_PG_HOST')\n",
    "pg_port = os.environ.get('LOCAL_OP_PG_PORT')\n",
    "pg_db_name = os.environ.get('LOCAL_OP_PG_DB_NAME')\n",
    "node = os.environ.get('OP_GOERLI_TEAM_NODE')\n",
    "include = 'block,transaction'"
   ]
  },
  {
   "cell_type": "code",
   "execution_count": 5,
   "metadata": {},
   "outputs": [],
   "source": [
    "start_ts = pu.get_unix_timestamp(trailing_days = 7)\n",
    "end_ts = pu.get_unix_timestamp(trailing_days = 0)"
   ]
  },
  {
   "cell_type": "code",
   "execution_count": 6,
   "metadata": {},
   "outputs": [
    {
     "name": "stdout",
     "output_type": "stream",
     "text": [
      "10603302\n"
     ]
    },
    {
     "name": "stderr",
     "output_type": "stream",
     "text": [
      "Usage: ethereumetl stream [OPTIONS]\n",
      "Try 'ethereumetl stream -h' for help.\n",
      "\n",
      "Error: blocks is not an available entity type. Supply a comma separated list of types from block,transaction,log,token_transfer,trace,contract,token\n"
     ]
    }
   ],
   "source": [
    "start_bn = wpy.getBlockByTimestamp(node,start_ts)\n",
    "end_bn = wpy.getBlockByTimestamp(node,end_ts)\n",
    "print(start_bn)\n",
    "eetl.stream_eth_etl( start_bn , node, include, pg_user, pg_pw, pg_host, pg_port, pg_db_name )"
   ]
  },
  {
   "cell_type": "code",
   "execution_count": null,
   "metadata": {},
   "outputs": [],
   "source": []
  }
 ],
 "metadata": {
  "kernelspec": {
   "display_name": "ethereum-etl",
   "language": "python",
   "name": "python3"
  },
  "language_info": {
   "codemirror_mode": {
    "name": "ipython",
    "version": 3
   },
   "file_extension": ".py",
   "mimetype": "text/x-python",
   "name": "python",
   "nbconvert_exporter": "python",
   "pygments_lexer": "ipython3",
   "version": "3.9.7"
  },
  "orig_nbformat": 4
 },
 "nbformat": 4,
 "nbformat_minor": 2
}
