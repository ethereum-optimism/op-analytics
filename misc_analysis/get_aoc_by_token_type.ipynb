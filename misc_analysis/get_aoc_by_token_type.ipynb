{
 "cells": [
  {
   "cell_type": "code",
   "execution_count": null,
   "metadata": {},
   "outputs": [],
   "source": [
    "import sys\n",
    "sys.path.append(\"../helper_functions\")\n",
    "import duneapi_utils as d\n",
    "import l2beat_utils as ltwo\n",
    "sys.path.pop()\n",
    "\n",
    "import pandas as pd\n",
    "import seaborn as sns\n",
    "import matplotlib.pyplot as plt\n",
    "import numpy as np"
   ]
  },
  {
   "cell_type": "code",
   "execution_count": null,
   "metadata": {},
   "outputs": [],
   "source": [
    "# # Get token classification\n",
    "# # https://dune.com/queries/3852319\n",
    "token_df = d.get_dune_data(query_id = 3852319,\n",
    "    name = \"tokens_by_type_base_opm\",\n",
    "    performance = 'large'#,\n",
    "    # num_hours_to_rerun=0\n",
    ")\n",
    "\n",
    "token_df.sample(5)"
   ]
  },
  {
   "cell_type": "code",
   "execution_count": null,
   "metadata": {},
   "outputs": [],
   "source": [
    "# Get Lastest L2B aoc\n",
    "l2b_df = ltwo.get_daily_aoc_by_token()\n",
    "l2b_df_spc = l2b_df[l2b_df['project'].isin(['optimism','base'])]\n",
    "l2b_df_spc = l2b_df_spc.rename(columns={'project':'blockchain'})\n",
    "\n",
    "l2b_df_spc = l2b_df_spc[['dt','blockchain','token_type','asset_id','address','usd_value']]\n",
    "l2b_df_spc['address'] = l2b_df_spc['address'].str.lower()\n",
    "\n",
    "l2b_df_spc.sample(5)"
   ]
  },
  {
   "cell_type": "code",
   "execution_count": null,
   "metadata": {},
   "outputs": [],
   "source": [
    "cols = ['blockchain','token_address','l1_token','token_classification','symbol']\n",
    "\n",
    "token_if_l1_df = token_df[cols].rename(columns={'l1_token':'address','token_address':'l2_token'})\n",
    "token_if_l1_df['l1_token'] = token_if_l1_df['address']\n",
    "token_if_l2_df = token_df[cols].rename(columns={'token_address':'address'})\n",
    "token_if_l2_df['l2_token'] = token_if_l2_df['address']"
   ]
  },
  {
   "cell_type": "code",
   "execution_count": null,
   "metadata": {},
   "outputs": [],
   "source": [
    "df_cols = ['blockchain','address','token_classification']\n",
    "token_if_l1_df = token_if_l1_df[~token_if_l1_df['address'].isna()][df_cols + ['l1_token','l2_token']].drop_duplicates()\n",
    "token_if_l2_df = token_if_l2_df[~token_if_l2_df['address'].isna()][df_cols + ['l1_token','l2_token']].drop_duplicates()\n",
    "# token_if_l2_df.sample(5)"
   ]
  },
  {
   "cell_type": "code",
   "execution_count": null,
   "metadata": {},
   "outputs": [],
   "source": [
    "#L2 Mapping preferred\n",
    "unified_df = l2b_df_spc.merge(token_if_l2_df\n",
    "                              , on=['blockchain','address'], how='left')\n",
    "#L1 Mapping fallback\n",
    "unified_df = unified_df.merge(token_if_l1_df\n",
    "                              , on=['blockchain','address'], how='left')\n"
   ]
  },
  {
   "cell_type": "code",
   "execution_count": null,
   "metadata": {},
   "outputs": [],
   "source": [
    "unified_df['token_classification'] = unified_df['token_classification_x'].fillna(unified_df['token_classification_y']).fillna('Unknown')\n",
    "unified_df['l1_token'] = unified_df['l1_token_x'].fillna(unified_df['l1_token_y'])\n",
    "unified_df['l2_token'] = unified_df['l2_token_x'].fillna(unified_df['l2_token_y'])\n",
    "\n",
    "unified_df = unified_df.drop(columns=['token_classification_x', 'token_classification_y','l1_token_x','l1_token_y','l2_token_x','l2_token_y'])"
   ]
  },
  {
   "cell_type": "code",
   "execution_count": null,
   "metadata": {},
   "outputs": [],
   "source": [
    "unified_df['token_classification'] = unified_df.apply(\n",
    "    lambda row: 'Native ETH' if row['asset_id'] == 'eth-ether' else row['token_classification'], axis=1\n",
    ")\n",
    "# Override due to bad Base events\n",
    "unified_df['token_classification'] = unified_df.apply(\n",
    "    lambda row: 'Proxy' if row['asset_id'] == 'base:usdc-usd-coin' else row['token_classification'], axis=1\n",
    ")\n",
    "# Override OP predeploy\n",
    "unified_df['token_classification'] = unified_df.apply(\n",
    "    lambda row: 'Predeploy' if row['asset_id'] == 'op-optimism' else row['token_classification'], axis=1\n",
    ")"
   ]
  },
  {
   "cell_type": "code",
   "execution_count": null,
   "metadata": {},
   "outputs": [],
   "source": [
    "# Define the priority order for token_classification\n",
    "priority = {'Proxy': 1, 'Not Proxy or Factory': 2, 'Immutable Factory Created': 3}\n",
    "\n",
    "# Add a priority column to the DataFrame based on the token_classification\n",
    "unified_df['priority'] = unified_df['token_classification'].map(priority)\n",
    "\n",
    "# Sort the DataFrame by the priority column\n",
    "unified_df = unified_df.sort_values(by='priority')\n",
    "\n",
    "# Drop duplicates based on the unique columns, keeping the first occurrence (which has the highest priority)\n",
    "unique_columns = ['dt', 'blockchain', 'token_type', 'asset_id', 'address']\n",
    "unified_df = unified_df.drop_duplicates(subset=unique_columns, keep='first')\n",
    "\n",
    "# Drop the priority column as it's no longer needed\n",
    "unified_df = unified_df.drop(columns=['priority'])"
   ]
  },
  {
   "cell_type": "code",
   "execution_count": null,
   "metadata": {},
   "outputs": [],
   "source": [
    "unified_df.sample(5)"
   ]
  },
  {
   "cell_type": "code",
   "execution_count": null,
   "metadata": {},
   "outputs": [],
   "source": [
    "unified_df.to_csv('csv_outputs/aoc_by_chain_token_classification.csv')"
   ]
  },
  {
   "cell_type": "code",
   "execution_count": null,
   "metadata": {},
   "outputs": [],
   "source": [
    "unified_df[unified_df['address']=='0x833589fcd6edb6e08f4c7c32d4f71b54bda02913']#.sample(5)"
   ]
  }
 ],
 "metadata": {
  "kernelspec": {
   "display_name": "new-env",
   "language": "python",
   "name": "python3"
  },
  "language_info": {
   "codemirror_mode": {
    "name": "ipython",
    "version": 3
   },
   "file_extension": ".py",
   "mimetype": "text/x-python",
   "name": "python",
   "nbconvert_exporter": "python",
   "pygments_lexer": "ipython3",
   "version": "3.10.11"
  }
 },
 "nbformat": 4,
 "nbformat_minor": 2
}
