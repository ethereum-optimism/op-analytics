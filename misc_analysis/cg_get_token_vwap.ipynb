{
 "cells": [
  {
   "cell_type": "code",
   "execution_count": 1,
   "metadata": {},
   "outputs": [],
   "source": [
    "import pandas as pd\n",
    "import time\n",
    "\n",
    "import sys\n",
    "sys.path.append(\"../helper_functions\")\n",
    "import coingecko_utils as cg\n",
    "sys.path.pop()\n",
    "from datetime import datetime"
   ]
  },
  {
   "cell_type": "code",
   "execution_count": 2,
   "metadata": {},
   "outputs": [],
   "source": [
    "token_list = ['ethereum']\n",
    "num_days = 30"
   ]
  },
  {
   "cell_type": "code",
   "execution_count": 3,
   "metadata": {},
   "outputs": [
    {
     "name": "stdout",
     "output_type": "stream",
     "text": [
      "Processing token: ethereum at 2024-08-19 15:32:27\n",
      "https://api.coingecko.com/api/v3/coins/ethereum/market_chart?vs_currency=usd&days=30&interval=daily\n",
      "Total Days: 30\n",
      "ethereum VWAP T30 Days: 2871.031442142959\n",
      "ethereum TWAP T30 Days: 2935.0395048943897\n"
     ]
    }
   ],
   "source": [
    "current_time = datetime.now().strftime(\"%Y-%m-%d %H:%M:%S\")\n",
    "\n",
    "for token in token_list:\n",
    "        print(f\"Processing token: {token} at {current_time}\")\n",
    "        df = cg.get_token_data_by_granularity(token,'daily',False, num_days = num_days)\n",
    "        print('Total Days: ' + str(len(df)) )\n",
    "\n",
    "        df['price_x_volume'] = df['prices'] * df['total_volumes']\n",
    "\n",
    "        # display(df)\n",
    "\n",
    "        total_volume = df['total_volumes'].sum()\n",
    "        total_price_x_volume = df['price_x_volume'].sum()\n",
    "        avg_price = df['prices'].mean()\n",
    "\n",
    "        vwap = total_price_x_volume / total_volume\n",
    "        twap = avg_price\n",
    "\n",
    "        print(f'{token} VWAP T' + str(len(df)) + ' Days: ' + str(vwap) )\n",
    "        print(f'{token} TWAP T' + str(len(df)) + ' Days: ' + str(twap) )\n",
    "        time.sleep(3)\n"
   ]
  }
 ],
 "metadata": {
  "kernelspec": {
   "display_name": "new-env",
   "language": "python",
   "name": "python3"
  },
  "language_info": {
   "codemirror_mode": {
    "name": "ipython",
    "version": 3
   },
   "file_extension": ".py",
   "mimetype": "text/x-python",
   "name": "python",
   "nbconvert_exporter": "python",
   "pygments_lexer": "ipython3",
   "version": "3.12.3"
  },
  "orig_nbformat": 4
 },
 "nbformat": 4,
 "nbformat_minor": 2
}
