{
 "cells": [
  {
   "cell_type": "code",
   "execution_count": null,
   "metadata": {},
   "outputs": [],
   "source": [
    "import notion_client\n",
    "import sys\n",
    "\n",
    "sys.path.append(\"../helper_functions\")\n",
    "import notionapi_utils as n\n",
    "import duneapi_utils as d"
   ]
  },
  {
   "cell_type": "code",
   "execution_count": null,
   "metadata": {},
   "outputs": [],
   "source": [
    "op_summer_page = \"https://www.notion.so/oplabs/26d856d5ad7c4fda919c62e839cf6051?v=96c651b94d564c37b96c7eca2bd91157&pvs=4\"\n",
    "\n",
    "# df = n.read_notion_database(op_summerdb_id)\n",
    "df = n.read_notion_database_to_pandas_df(op_summer_page)\n",
    "df.to_csv(\"csv_outputs/notion_automation_test.csv\")\n",
    "# display(df)"
   ]
  },
  {
   "cell_type": "code",
   "execution_count": null,
   "metadata": {},
   "outputs": [],
   "source": [
    "columns = [\n",
    "    \"Source\",\n",
    "    \"Status\",\n",
    "    \"App Name\",\n",
    "    \"App Name Map Override\",\n",
    "    \"App Type\",\n",
    "    \"Announced On\",\n",
    "    \"Start Date\",\n",
    "    \"End Date\",\n",
    "    \"# OP Allocated\",\n",
    "    \"Actions Rewarded\",\n",
    "]\n",
    "\n",
    "# filter for live or completed programs only\n",
    "df = df[df[\"Status\"] != \"Coming soon ‎⏳\"][columns]\n",
    "df.reset_index(drop=True, inplace=True)"
   ]
  },
  {
   "cell_type": "code",
   "execution_count": null,
   "metadata": {},
   "outputs": [],
   "source": [
    "# remove square brackets and quotation marks from strings\n",
    "for col in [\"Source\", \"App Type\", \"Actions Rewarded\"]:\n",
    "    df[col] = df[col].astype(str).str.replace(r\"[\\[\\]']\", \"\", regex=True)\n",
    "\n",
    "# create fund_type and op_source\n",
    "df[[\"fund_type\", \"op_source\"]] = df[\"Source\"].astype(str).str.extract(r\"^(.*?)(?:\\s*-\\s*(.*))?$\")\n",
    "df[\"op_source\"].fillna(df[\"fund_type\"], inplace=True)\n",
    "df.drop(columns=[\"Source\"], inplace=True)"
   ]
  },
  {
   "cell_type": "code",
   "execution_count": null,
   "metadata": {},
   "outputs": [],
   "source": [
    "# define the new column names\n",
    "new_columns = {\n",
    "    \"Status\": \"status\",\n",
    "    \"App Name\": \"app_name\",\n",
    "    \"App Name Map Override\": \"app_name_override\",\n",
    "    \"App Type\": \"category\",\n",
    "    \"Announced On\": \"announce_date\",\n",
    "    \"Start Date\": \"start_date\",\n",
    "    \"End Date\": \"end_date\",\n",
    "    \"# OP Allocated\": \"num_op_allocated\",\n",
    "    \"Actions Rewarded\": \"incentive_type\",\n",
    "}\n",
    "df = df.rename(columns=new_columns)\n",
    "df[\"app_name_override\"].fillna(df[\"app_name\"], inplace=True)"
   ]
  },
  {
   "cell_type": "code",
   "execution_count": null,
   "metadata": {},
   "outputs": [],
   "source": [
    "# Post to Dune API\n",
    "d.write_dune_api_from_pandas(\n",
    "    df, \"op_incentive_program_info\", \"Metadata about OP Incentive Programs\"\n",
    ")"
   ]
  }
 ],
 "metadata": {
  "kernelspec": {
   "display_name": "new-env",
   "language": "python",
   "name": "python3"
  },
  "language_info": {
   "codemirror_mode": {
    "name": "ipython",
    "version": 3
   },
   "file_extension": ".py",
   "mimetype": "text/x-python",
   "name": "python",
   "nbconvert_exporter": "python",
   "pygments_lexer": "ipython3",
   "version": "3.10.4"
  },
  "orig_nbformat": 4
 },
 "nbformat": 4,
 "nbformat_minor": 2
}
