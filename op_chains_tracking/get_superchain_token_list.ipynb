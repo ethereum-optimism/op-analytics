{
 "cells": [
  {
   "cell_type": "code",
   "execution_count": null,
   "metadata": {
    "metadata": {}
   },
   "outputs": [],
   "source": [
    "print('start tokenlist uploads')\n",
    "\n",
    "import requests as r\n",
    "import pandas as pd\n",
    "import os\n",
    "\n",
    "import sys\n",
    "sys.path.append(\"../helper_functions\")\n",
    "import github_utils as gh\n",
    "import tokenlist_utils as tl\n",
    "import duneapi_utils as d\n",
    "import clickhouse_utils as ch\n",
    "import google_bq_utils as bqu\n",
    "sys.path.pop()\n",
    "\n",
    "import time"
   ]
  },
  {
   "cell_type": "code",
   "execution_count": null,
   "metadata": {},
   "outputs": [],
   "source": [
    "table_name = 'superchain_tokenlist'"
   ]
  },
  {
   "cell_type": "code",
   "execution_count": null,
   "metadata": {},
   "outputs": [],
   "source": [
    "url_content = [\n",
    "    # owner_name, repo_name, path_name, file_name\n",
    "      ['ethereum-optimism','ethereum-optimism.github.io','','optimism.tokenlist.json',] #OP Bridge - https://github.com/ethereum-optimism/ethereum-optimism.github.io/blob/master/optimism.tokenlist.json\n",
    "      # Add other tokenlists if needed\n",
    "]"
   ]
  },
  {
   "cell_type": "code",
   "execution_count": null,
   "metadata": {},
   "outputs": [],
   "source": [
    "df_list = []\n",
    "for gh_url in url_content:\n",
    "        owner_name, repo_name, path_name, file_name = gh_url\n",
    "\n",
    "        gh_file = gh.get_file_url_from_github(owner_name, repo_name, path_name, file_name)\n",
    "        res = r.get(gh_file)\n",
    "        data = res.json()\n",
    "    \n",
    "        if owner_name == 'ethereum-optimism':\n",
    "                tmp = tl.generate_op_table_from_tokenlist(data)\n",
    "        else:\n",
    "                tmp = tl.generate_table_from_tokenlist(data)\n",
    "                \n",
    "        tmp['list_name'] = owner_name\n",
    "        df_list.append(tmp)\n",
    "\n",
    "df = pd.concat(df_list, ignore_index=True)"
   ]
  },
  {
   "cell_type": "code",
   "execution_count": null,
   "metadata": {},
   "outputs": [],
   "source": [
    "df.sample(5)"
   ]
  },
  {
   "cell_type": "code",
   "execution_count": null,
   "metadata": {},
   "outputs": [],
   "source": [
    "# #BQ Upload\n",
    "bqu.write_df_to_bq_table(df, table_name)\n",
    "\n",
    "# CH Upload\n",
    "ch.write_df_to_clickhouse(df, table_name)\n",
    "\n",
    "# Dune Upload\n",
    "d.write_dune_api_from_pandas(df, table_name,table_description = table_name)"
   ]
  }
 ],
 "metadata": {
  "kernelspec": {
   "display_name": "new-env",
   "language": "python",
   "name": "python3"
  },
  "language_info": {
   "codemirror_mode": {
    "name": "ipython",
    "version": 3
   },
   "file_extension": ".py",
   "mimetype": "text/x-python",
   "name": "python",
   "nbconvert_exporter": "python",
   "pygments_lexer": "ipython3",
   "version": "3.12.3"
  },
  "orig_nbformat": 4
 },
 "nbformat": 4,
 "nbformat_minor": 2
}
