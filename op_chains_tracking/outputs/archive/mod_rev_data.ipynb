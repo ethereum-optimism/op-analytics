{
 "cells": [
  {
   "cell_type": "code",
   "execution_count": 1,
   "metadata": {},
   "outputs": [
    {
     "name": "stderr",
     "output_type": "stream",
     "text": [
      "/var/folders/by/kltjc8yd0yz_7_wrtrzhrm9m0000gn/T/ipykernel_60889/2975825057.py:4: DtypeWarning: Columns (6,7,8) have mixed types. Specify dtype option on import or set low_memory=False.\n",
      "  df = pd.read_csv('all_time_revenue_data.csv')\n"
     ]
    }
   ],
   "source": [
    "import pandas as pd\n",
    "\n",
    "# Load the CSV file into a DataFrame\n",
    "df = pd.read_csv('all_time_revenue_data.csv')\n",
    "\n",
    "# Replace 'zora network' with 'zora' in the 'chain' column\n",
    "# df['chain_name'] = df['chain_name'].replace('zora network', 'zora')\n",
    "# Remove the specified columns\n",
    "columns_to_remove = ['gas_token', 'da_layer', 'is_superchain_registry']\n",
    "df = df.drop(columns=columns_to_remove)\n",
    "\n",
    "# Save the updated DataFrame back to the CSV file\n",
    "df.to_csv('all_time_revenue_data.csv', index=False)\n"
   ]
  }
 ],
 "metadata": {
  "kernelspec": {
   "display_name": "new-env",
   "language": "python",
   "name": "python3"
  },
  "language_info": {
   "codemirror_mode": {
    "name": "ipython",
    "version": 3
   },
   "file_extension": ".py",
   "mimetype": "text/x-python",
   "name": "python",
   "nbconvert_exporter": "python",
   "pygments_lexer": "ipython3",
   "version": "3.10.11"
  },
  "orig_nbformat": 4
 },
 "nbformat": 4,
 "nbformat_minor": 2
}
