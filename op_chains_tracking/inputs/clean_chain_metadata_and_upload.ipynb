{
 "cells": [
  {
   "cell_type": "code",
   "execution_count": null,
   "metadata": {},
   "outputs": [],
   "source": [
    "import pandas as pd\n",
    "import sys\n",
    "sys.path.append(\"../../helper_functions\")\n",
    "import opstack_metadata_utils as ops\n",
    "import duneapi_utils as d\n",
    "import google_bq_utils as bqu\n",
    "import clickhouse_utils as ch\n",
    "sys.path.pop()\n",
    "\n",
    "import dotenv\n",
    "import os\n",
    "dotenv.load_dotenv()"
   ]
  },
  {
   "cell_type": "code",
   "execution_count": 2,
   "metadata": {},
   "outputs": [],
   "source": [
    "# Read the CSV file\n",
    "df = pd.read_csv('chain_metadata_raw.csv')\n",
    "\n",
    "table_name = 'op_stack_chain_metadata'"
   ]
  },
  {
   "cell_type": "code",
   "execution_count": 3,
   "metadata": {},
   "outputs": [],
   "source": [
    "import math\n",
    "\n",
    "def convert_to_int_or_keep_string(value):\n",
    "    try:\n",
    "        float_value = float(value)\n",
    "        if math.isnan(float_value):  # Check if value is NaN\n",
    "            return None\n",
    "        if float_value.is_integer():\n",
    "            val = str(int(float_value))  # Convert to int and then to string\n",
    "        else:\n",
    "            val = str(value)  # Convert to string\n",
    "    except ValueError:\n",
    "        val = str(value)  # Convert to string\n",
    "    if val.endswith('.0'):\n",
    "        val = val[:-2]  # Remove the last two characters\n",
    "    return val\n"
   ]
  },
  {
   "cell_type": "code",
   "execution_count": null,
   "metadata": {},
   "outputs": [],
   "source": [
    "# Trim columns\n",
    "df.columns = df.columns.str.replace(\" \", \"\").str.strip()\n",
    "df = df.applymap(lambda x: x.strip() if isinstance(x, str) else x)\n",
    "# Datetime\n",
    "df['public_mainnet_launch_date'] = pd.to_datetime(df['public_mainnet_launch_date'], errors='coerce')\n",
    "df['op_chain_start'] = pd.to_datetime(df['op_chain_start'], errors='coerce')\n",
    "# ChainID\n",
    "# Apply the function to the column\n",
    "df['mainnet_chain_id'] = df['mainnet_chain_id'].apply(convert_to_int_or_keep_string)\n",
    "# df['mainnet_chain_id'] = int(df['mainnet_chain_id'])\n",
    "#Generate Alignment Column\n",
    "df = ops.generate_alignment_column(df)\n",
    "\n",
    "# Replace NaN values in object type columns with an empty string\n",
    "object_columns = df.select_dtypes(include=['object']).columns\n",
    "df[object_columns] = df[object_columns].fillna('')\n",
    "\n",
    "# Save the cleaned DataFrame to a new CSV file\n",
    "df.to_csv('../outputs/chain_metadata.csv', index=False)"
   ]
  },
  {
   "cell_type": "code",
   "execution_count": 5,
   "metadata": {},
   "outputs": [],
   "source": [
    "# df.dtypes"
   ]
  },
  {
   "cell_type": "code",
   "execution_count": null,
   "metadata": {},
   "outputs": [],
   "source": [
    "#check chain id\n",
    "df[df['display_name'] =='OP Mainnet']"
   ]
  },
  {
   "cell_type": "code",
   "execution_count": 7,
   "metadata": {},
   "outputs": [],
   "source": [
    "# Post to Dune API\n",
    "d.write_dune_api_from_pandas(df, table_name + '_info_tracking',\\\n",
    "                             'Basic Info & Metadata about OP Stack Chains, including forks')\n",
    "#BQ Upload\n",
    "bqu.write_df_to_bq_table(df, table_name)\n",
    "\n",
    "#CH Upload\n",
    "ch.write_df_to_clickhouse(df, table_name, if_exists='replace')"
   ]
  }
 ],
 "metadata": {
  "kernelspec": {
   "display_name": "py10",
   "language": "python",
   "name": "python3"
  },
  "language_info": {
   "codemirror_mode": {
    "name": "ipython",
    "version": 3
   },
   "file_extension": ".py",
   "mimetype": "text/x-python",
   "name": "python",
   "nbconvert_exporter": "python",
   "pygments_lexer": "ipython3",
   "version": "3.12.3"
  }
 },
 "nbformat": 4,
 "nbformat_minor": 2
}
