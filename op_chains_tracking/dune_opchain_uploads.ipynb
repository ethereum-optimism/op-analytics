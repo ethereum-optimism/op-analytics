{
 "cells": [
  {
   "cell_type": "code",
   "execution_count": null,
   "metadata": {
    "metadata": {}
   },
   "outputs": [],
   "source": [
    "import requests as r\n",
    "import pandas as pd\n",
    "import numpy as np\n",
    "import os\n",
    "\n",
    "import sys\n",
    "sys.path.append(\"../helper_functions\")\n",
    "import duneapi_utils as du\n",
    "import pandas_utils as p\n",
    "import google_bq_utils as bqu\n",
    "sys.path.pop()\n",
    "\n",
    "import time"
   ]
  },
  {
   "cell_type": "code",
   "execution_count": null,
   "metadata": {
    "metadata": {}
   },
   "outputs": [],
   "source": [
    "table_name = 'daily_opchain_aggregate_stats_dune'\n",
    "\n",
    "trailing_days = 90\n",
    "min_txs_per_day = 0"
   ]
  },
  {
   "cell_type": "code",
   "execution_count": null,
   "metadata": {},
   "outputs": [],
   "source": [
    "# Run Dune\n",
    "print('     dune opchain upload runs')\n",
    "par_pd = du.generate_query_parameter(input= trailing_days, field_name= 'Trailing Num Days', dtype= 'number')\n",
    "txs_pd = du.generate_query_parameter(input= min_txs_per_day, field_name= 'Min Transactions per Day', dtype= 'number')\n",
    "\n",
    "dune_df = du.get_dune_data(query_id = 2453515, #https://dune.com/queries/2453515\n",
    "    name = \"dune_\" + table_name,\n",
    "    path = \"outputs\",\n",
    "    performance=\"large\",\n",
    "    params = [par_pd,txs_pd],\n",
    "    num_hours_to_rerun = 1, #quick rerun because of updates\n",
    ")\n",
    "dune_df['source'] = 'dune'\n",
    "dune_df['dt'] = pd.to_datetime(dune_df['dt']).dt.tz_localize(None)\n"
   ]
  },
  {
   "cell_type": "code",
   "execution_count": null,
   "metadata": {},
   "outputs": [],
   "source": [
    "# Replace inf, -inf, and NaN with 0\n",
    "dune_df = dune_df.replace([np.inf, -np.inf, np.nan], 0)\n",
    "dune_df = dune_df.replace(['inf', 'NaN'], 0)"
   ]
  },
  {
   "cell_type": "code",
   "execution_count": null,
   "metadata": {},
   "outputs": [],
   "source": [
    "dune_df[['dt','name']].head(10)"
   ]
  },
  {
   "cell_type": "code",
   "execution_count": null,
   "metadata": {},
   "outputs": [],
   "source": [
    "        \n",
    "dune_df['dt_by_day'] = pd.to_datetime(dune_df['dt_by_day'])\n",
    "\n",
    "# List of words to check in column names\n",
    "keywords = ['_ratio', 'pct_', 'per_tx', 'per_100k_txs', 'avg_']\n",
    "# Cast columns to float if their name contains any of the keywords\n",
    "for col in dune_df.columns:\n",
    "    if any(keyword in col for keyword in keywords):\n",
    "        try:\n",
    "            dune_df[col] = dune_df[col].astype('float64')\n",
    "        except:\n",
    "            print('error: ' + col)\n",
    "            continue\n",
    "\n",
    "columns_to_string = [\n",
    "    'source','chain_layer','chain_type'\n",
    "]\n",
    "# Cast each column in the list to int64\n",
    "for col in columns_to_string:\n",
    "    dune_df[col] = dune_df[col].astype('string')\n",
    "\n",
    "# List of columns to cast to int64\n",
    "columns_to_int64 = [\n",
    "    'active_secs_per_day',\n",
    "    'l1_gas_used_on_l2','l1_gas_used_user_txs_l2_per_day',\n",
    "    'l2_gas_used','l2_gas_used_user_txs_per_day','l2_gas_used_by_day',\n",
    "    'total_available_l2_gas_target','calldata_bytes_l2_per_day'\n",
    "]\n",
    "# Cast each column in the list to int64\n",
    "for col in columns_to_int64:\n",
    "    dune_df[col] = dune_df[col].fillna(0).astype('int64')\n",
    "\n",
    "# List of columns to cast to float64\n",
    "columns_to_float64 = [\n",
    "    'avg_blob_base_fee_pct_margin','avg_l1_gas_price_on_l2_by_day',\n",
    "    'avg_blob_base_fee_pct_margin_by_day','avg_blob_gas_price_on_l2_by_day',\n",
    "    'avg_l1_gas_price_fee_pct_margin','avg_l1_gas_price_fee_pct_margin_by_day'\n",
    "\n",
    "]\n",
    "# Cast each column in the list to int64\n",
    "for col in columns_to_float64:\n",
    "    dune_df[col] = dune_df[col].astype('float64')\n",
    "\n",
    "# # dune_df.dtypes\n",
    "# with pd.option_context('display.max_rows', None, 'display.max_columns', None):\n",
    "#     # display(dune_df.sample(5))\n",
    "#     print(\"\\nData types:\")\n",
    "#     print(dune_df.dtypes[40:])\n",
    "\n",
    "# print(dune_df[\"chain_layer\"].unique())\n",
    "# print(dune_df[\"chain_layer\"].dtypes)"
   ]
  },
  {
   "cell_type": "code",
   "execution_count": null,
   "metadata": {},
   "outputs": [],
   "source": [
    "# dune_df['calldata_bytes_l2_per_day'].dtypes"
   ]
  },
  {
   "cell_type": "code",
   "execution_count": null,
   "metadata": {},
   "outputs": [],
   "source": [
    "#BQ Upload\n",
    "bqu.append_and_upsert_df_to_bq_table(dune_df, table_name, unique_keys = ['dt','name'])"
   ]
  },
  {
   "cell_type": "code",
   "execution_count": null,
   "metadata": {},
   "outputs": [],
   "source": [
    "# bqu.delete_bq_table('api_table_uploads',table_name)"
   ]
  }
 ],
 "metadata": {
  "kernelspec": {
   "display_name": "new-env",
   "language": "python",
   "name": "python3"
  },
  "language_info": {
   "codemirror_mode": {
    "name": "ipython",
    "version": 3
   },
   "file_extension": ".py",
   "mimetype": "text/x-python",
   "name": "python",
   "nbconvert_exporter": "python",
   "pygments_lexer": "ipython3",
   "version": "3.12.3"
  },
  "orig_nbformat": 4
 },
 "nbformat": 4,
 "nbformat_minor": 2
}
