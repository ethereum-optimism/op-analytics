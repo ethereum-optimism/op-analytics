{
 "cells": [
  {
   "cell_type": "code",
   "execution_count": 1,
   "metadata": {
    "metadata": {}
   },
   "outputs": [
    {
     "name": "stdout",
     "output_type": "stream",
     "text": [
      "get qualified txs\n"
     ]
    }
   ],
   "source": [
    "print('get qualified txs')\n",
    "import sys\n",
    "sys.path.append(\"../helper_functions\")\n",
    "import duneapi_utils as d\n",
    "import google_bq_utils as bqu\n",
    "import clickhouse_utils as ch\n",
    "sys.path.pop()\n",
    "\n",
    "import time\n",
    "\n",
    "import numpy as np\n",
    "import pandas as pd\n",
    "import os"
   ]
  },
  {
   "cell_type": "code",
   "execution_count": 2,
   "metadata": {
    "metadata": {}
   },
   "outputs": [],
   "source": [
    "trailing_days = -1 #Pulls Everything\n",
    "\n",
    "table_name = 'dune_ovm1_daily_data'"
   ]
  },
  {
   "cell_type": "code",
   "execution_count": 3,
   "metadata": {
    "metadata": {}
   },
   "outputs": [
    {
     "name": "stderr",
     "output_type": "stream",
     "text": [
      "\u001b[32m2024-07-23 15:06:43.673\u001b[0m | \u001b[1mINFO    \u001b[0m | \u001b[36mduneapi_utils\u001b[0m:\u001b[36mget_dune_data\u001b[0m:\u001b[36m58\u001b[0m - \u001b[1mResults available at https://dune.com/queries/3587947?trailing_days=-1\u001b[0m\n"
     ]
    },
    {
     "name": "stdout",
     "output_type": "stream",
     "text": [
      "     dune runs\n"
     ]
    },
    {
     "name": "stderr",
     "output_type": "stream",
     "text": [
      "\u001b[32m2024-07-23 15:06:44.947\u001b[0m | \u001b[1mINFO    \u001b[0m | \u001b[36mduneapi_utils\u001b[0m:\u001b[36mget_dune_data\u001b[0m:\u001b[36m105\u001b[0m - \u001b[1m✨ Results saved as outputs/dune_ovm1_daily_data.csv, with 142 rows and 37 columns.\u001b[0m\n"
     ]
    }
   ],
   "source": [
    "# Run Dune\n",
    "print('     dune runs')\n",
    "days_param = d.generate_query_parameter(input=trailing_days,field_name='trailing_days',dtype='number')\n",
    "dune_df = d.get_dune_data(query_id = 3587947, #https://dune.com/queries/3587947\n",
    "    name = table_name,\n",
    "    path = \"outputs\",\n",
    "    performance=\"medium\",\n",
    "    params = [days_param],\n",
    "    num_hours_to_rerun=365*24 #pull latest, unless a ton of time passed\n",
    ")\n",
    "dune_df['source'] = 'dune'\n",
    "dune_df['dt'] = pd.to_datetime(dune_df['dt']).dt.tz_localize(None).dt.strftime('%Y-%m-%d %H:%M:%S')"
   ]
  },
  {
   "cell_type": "code",
   "execution_count": 4,
   "metadata": {},
   "outputs": [
    {
     "data": {
      "text/html": [
       "<div>\n",
       "<style scoped>\n",
       "    .dataframe tbody tr th:only-of-type {\n",
       "        vertical-align: middle;\n",
       "    }\n",
       "\n",
       "    .dataframe tbody tr th {\n",
       "        vertical-align: top;\n",
       "    }\n",
       "\n",
       "    .dataframe thead th {\n",
       "        text-align: right;\n",
       "    }\n",
       "</style>\n",
       "<table border=\"1\" class=\"dataframe\">\n",
       "  <thead>\n",
       "    <tr style=\"text-align: right;\">\n",
       "      <th></th>\n",
       "      <th>active_secs_per_day</th>\n",
       "      <th>avg_blob_gas_price_on_l2</th>\n",
       "      <th>avg_l1_fee_scalar</th>\n",
       "      <th>avg_l1_gas_price_on_l2</th>\n",
       "      <th>avg_l2_gas_price</th>\n",
       "      <th>base_fee_gwei</th>\n",
       "      <th>blockchain</th>\n",
       "      <th>calldata_bytes_l2_per_day</th>\n",
       "      <th>calldata_bytes_user_txs_l2_per_day</th>\n",
       "      <th>calldata_gas_l2_per_day</th>\n",
       "      <th>...</th>\n",
       "      <th>l2_gas_used_user_txs_per_day</th>\n",
       "      <th>l2_num_attr_deposit_txs_per_day</th>\n",
       "      <th>l2_num_success_txs_per_day</th>\n",
       "      <th>l2_num_txs_per_day</th>\n",
       "      <th>l2_num_user_deposit_txs_per_day</th>\n",
       "      <th>median_l2_eth_fees_per_tx</th>\n",
       "      <th>num_blocks</th>\n",
       "      <th>num_users_per_day</th>\n",
       "      <th>last_updated</th>\n",
       "      <th>source</th>\n",
       "    </tr>\n",
       "  </thead>\n",
       "  <tbody>\n",
       "    <tr>\n",
       "      <th>108</th>\n",
       "      <td>86275</td>\n",
       "      <td>None</td>\n",
       "      <td>None</td>\n",
       "      <td>None</td>\n",
       "      <td>0.015</td>\n",
       "      <td>None</td>\n",
       "      <td>optimism_legacy_ovm1</td>\n",
       "      <td>4852513</td>\n",
       "      <td>4562681</td>\n",
       "      <td>31174552</td>\n",
       "      <td>...</td>\n",
       "      <td>None</td>\n",
       "      <td>0</td>\n",
       "      <td>35419</td>\n",
       "      <td>39634</td>\n",
       "      <td>623</td>\n",
       "      <td>0.000382</td>\n",
       "      <td>41044</td>\n",
       "      <td>2047</td>\n",
       "      <td>2024-07-23 19:02:08.958684</td>\n",
       "      <td>dune</td>\n",
       "    </tr>\n",
       "    <tr>\n",
       "      <th>64</th>\n",
       "      <td>86359</td>\n",
       "      <td>None</td>\n",
       "      <td>None</td>\n",
       "      <td>None</td>\n",
       "      <td>0.015</td>\n",
       "      <td>None</td>\n",
       "      <td>optimism_legacy_ovm1</td>\n",
       "      <td>8991301</td>\n",
       "      <td>8012217</td>\n",
       "      <td>60234268</td>\n",
       "      <td>...</td>\n",
       "      <td>None</td>\n",
       "      <td>0</td>\n",
       "      <td>42429</td>\n",
       "      <td>44417</td>\n",
       "      <td>2331</td>\n",
       "      <td>0.000586</td>\n",
       "      <td>46748</td>\n",
       "      <td>6848</td>\n",
       "      <td>2024-07-23 19:02:08.958684</td>\n",
       "      <td>dune</td>\n",
       "    </tr>\n",
       "    <tr>\n",
       "      <th>140</th>\n",
       "      <td>85997</td>\n",
       "      <td>None</td>\n",
       "      <td>None</td>\n",
       "      <td>None</td>\n",
       "      <td>0.015</td>\n",
       "      <td>None</td>\n",
       "      <td>optimism_legacy_ovm1</td>\n",
       "      <td>3011068</td>\n",
       "      <td>2857764</td>\n",
       "      <td>20193916</td>\n",
       "      <td>...</td>\n",
       "      <td>None</td>\n",
       "      <td>0</td>\n",
       "      <td>22111</td>\n",
       "      <td>23684</td>\n",
       "      <td>350</td>\n",
       "      <td>0.001408</td>\n",
       "      <td>24034</td>\n",
       "      <td>2009</td>\n",
       "      <td>2024-07-23 19:02:08.958684</td>\n",
       "      <td>dune</td>\n",
       "    </tr>\n",
       "    <tr>\n",
       "      <th>67</th>\n",
       "      <td>86062</td>\n",
       "      <td>None</td>\n",
       "      <td>None</td>\n",
       "      <td>None</td>\n",
       "      <td>0.015</td>\n",
       "      <td>None</td>\n",
       "      <td>optimism_legacy_ovm1</td>\n",
       "      <td>2569376</td>\n",
       "      <td>2508456</td>\n",
       "      <td>15735560</td>\n",
       "      <td>...</td>\n",
       "      <td>None</td>\n",
       "      <td>0</td>\n",
       "      <td>27260</td>\n",
       "      <td>29151</td>\n",
       "      <td>145</td>\n",
       "      <td>0.001102</td>\n",
       "      <td>29325</td>\n",
       "      <td>1287</td>\n",
       "      <td>2024-07-23 19:02:08.958684</td>\n",
       "      <td>dune</td>\n",
       "    </tr>\n",
       "    <tr>\n",
       "      <th>90</th>\n",
       "      <td>86008</td>\n",
       "      <td>None</td>\n",
       "      <td>None</td>\n",
       "      <td>None</td>\n",
       "      <td>0.015</td>\n",
       "      <td>None</td>\n",
       "      <td>optimism_legacy_ovm1</td>\n",
       "      <td>847248</td>\n",
       "      <td>613140</td>\n",
       "      <td>5589888</td>\n",
       "      <td>...</td>\n",
       "      <td>None</td>\n",
       "      <td>0</td>\n",
       "      <td>2590</td>\n",
       "      <td>2647</td>\n",
       "      <td>565</td>\n",
       "      <td>0.000365</td>\n",
       "      <td>3222</td>\n",
       "      <td>714</td>\n",
       "      <td>2024-07-23 19:02:08.958684</td>\n",
       "      <td>dune</td>\n",
       "    </tr>\n",
       "  </tbody>\n",
       "</table>\n",
       "<p>5 rows × 38 columns</p>\n",
       "</div>"
      ],
      "text/plain": [
       "     active_secs_per_day avg_blob_gas_price_on_l2 avg_l1_fee_scalar  \\\n",
       "108                86275                     None              None   \n",
       "64                 86359                     None              None   \n",
       "140                85997                     None              None   \n",
       "67                 86062                     None              None   \n",
       "90                 86008                     None              None   \n",
       "\n",
       "    avg_l1_gas_price_on_l2  avg_l2_gas_price base_fee_gwei  \\\n",
       "108                   None             0.015          None   \n",
       "64                    None             0.015          None   \n",
       "140                   None             0.015          None   \n",
       "67                    None             0.015          None   \n",
       "90                    None             0.015          None   \n",
       "\n",
       "               blockchain  calldata_bytes_l2_per_day  \\\n",
       "108  optimism_legacy_ovm1                    4852513   \n",
       "64   optimism_legacy_ovm1                    8991301   \n",
       "140  optimism_legacy_ovm1                    3011068   \n",
       "67   optimism_legacy_ovm1                    2569376   \n",
       "90   optimism_legacy_ovm1                     847248   \n",
       "\n",
       "     calldata_bytes_user_txs_l2_per_day  calldata_gas_l2_per_day  ...  \\\n",
       "108                             4562681                 31174552  ...   \n",
       "64                              8012217                 60234268  ...   \n",
       "140                             2857764                 20193916  ...   \n",
       "67                              2508456                 15735560  ...   \n",
       "90                               613140                  5589888  ...   \n",
       "\n",
       "     l2_gas_used_user_txs_per_day  l2_num_attr_deposit_txs_per_day  \\\n",
       "108                          None                                0   \n",
       "64                           None                                0   \n",
       "140                          None                                0   \n",
       "67                           None                                0   \n",
       "90                           None                                0   \n",
       "\n",
       "     l2_num_success_txs_per_day  l2_num_txs_per_day  \\\n",
       "108                       35419               39634   \n",
       "64                        42429               44417   \n",
       "140                       22111               23684   \n",
       "67                        27260               29151   \n",
       "90                         2590                2647   \n",
       "\n",
       "    l2_num_user_deposit_txs_per_day median_l2_eth_fees_per_tx  num_blocks  \\\n",
       "108                             623                  0.000382       41044   \n",
       "64                             2331                  0.000586       46748   \n",
       "140                             350                  0.001408       24034   \n",
       "67                              145                  0.001102       29325   \n",
       "90                              565                  0.000365        3222   \n",
       "\n",
       "    num_users_per_day               last_updated source  \n",
       "108              2047 2024-07-23 19:02:08.958684   dune  \n",
       "64               6848 2024-07-23 19:02:08.958684   dune  \n",
       "140              2009 2024-07-23 19:02:08.958684   dune  \n",
       "67               1287 2024-07-23 19:02:08.958684   dune  \n",
       "90                714 2024-07-23 19:02:08.958684   dune  \n",
       "\n",
       "[5 rows x 38 columns]"
      ]
     },
     "metadata": {},
     "output_type": "display_data"
    },
    {
     "data": {
      "text/plain": [
       "active_secs_per_day                                     int64\n",
       "avg_blob_gas_price_on_l2                               object\n",
       "avg_l1_fee_scalar                                      object\n",
       "avg_l1_gas_price_on_l2                                 object\n",
       "avg_l2_gas_price                                      float64\n",
       "base_fee_gwei                                          object\n",
       "blockchain                                             object\n",
       "calldata_bytes_l2_per_day                               int64\n",
       "calldata_bytes_user_txs_l2_per_day                      int64\n",
       "calldata_gas_l2_per_day                                 int64\n",
       "calldata_gas_user_txs_l2_per_day                        int64\n",
       "chain_id                                                int64\n",
       "compressedtxsize_approx_l2_per_day                    float64\n",
       "compressedtxsize_approx_user_txs_l2_per_day           float64\n",
       "dt                                             datetime64[ns]\n",
       "equivalent_l1_tx_fee                                   object\n",
       "l1_contrib_l2_eth_fees_per_day                        float64\n",
       "l1_contrib_l2_usd_fees_per_day                         object\n",
       "l1_gas_used_on_l2                                      object\n",
       "l1_gas_used_user_txs_l2_per_day                        object\n",
       "l2_contrib_l2_eth_fees_per_day                         object\n",
       "l2_contrib_l2_usd_fees_per_day                         object\n",
       "l2_data_source                                         object\n",
       "l2_gas_eth_fees_base_fee                               object\n",
       "l2_gas_eth_fees_priority_fee                           object\n",
       "l2_gas_usd_fees_base_fee                               object\n",
       "l2_gas_usd_fees_priority_fee                           object\n",
       "l2_gas_used                                            object\n",
       "l2_gas_used_user_txs_per_day                           object\n",
       "l2_num_attr_deposit_txs_per_day                         int64\n",
       "l2_num_success_txs_per_day                              int64\n",
       "l2_num_txs_per_day                                      int64\n",
       "l2_num_user_deposit_txs_per_day                         int64\n",
       "median_l2_eth_fees_per_tx                             float64\n",
       "num_blocks                                              int64\n",
       "num_users_per_day                                       int64\n",
       "last_updated                                   datetime64[ns]\n",
       "source                                                 object\n",
       "dtype: object"
      ]
     },
     "metadata": {},
     "output_type": "display_data"
    }
   ],
   "source": [
    "display(dune_df.sample(5))\n",
    "display(dune_df.dtypes)"
   ]
  },
  {
   "cell_type": "code",
   "execution_count": 5,
   "metadata": {},
   "outputs": [],
   "source": [
    "# #BQ Upload\n",
    "# bqu.append_and_upsert_df_to_bq_table(dune_df, table_name, unique_keys = ['chain_id','dt','blockchain'])"
   ]
  },
  {
   "cell_type": "code",
   "execution_count": 6,
   "metadata": {},
   "outputs": [
    {
     "name": "stdout",
     "output_type": "stream",
     "text": [
      "Existing data in table 'dune_ovm1_daily_data' has been deleted.\n",
      "existing: ['active_secs_per_day', 'Nullable(Int64)', '', '', '', '', '\\navg_blob_gas_price_on_l2', 'Nullable(String)', '', '', '', '', '\\navg_l1_fee_scalar', 'Nullable(String)', '', '', '', '', '\\navg_l1_gas_price_on_l2', 'Nullable(String)', '', '', '', '', '\\navg_l2_gas_price', 'Nullable(String)', '', '', '', '', '\\nbase_fee_gwei', 'Nullable(String)', '', '', '', '', '\\nblockchain', 'Nullable(String)', '', '', '', '', '\\ncalldata_bytes_l2_per_day', 'Nullable(Int64)', '', '', '', '', '\\ncalldata_bytes_user_txs_l2_per_day', 'Nullable(Int64)', '', '', '', '', '\\ncalldata_gas_l2_per_day', 'Nullable(Int64)', '', '', '', '', '\\ncalldata_gas_user_txs_l2_per_day', 'Nullable(Int64)', '', '', '', '', '\\nchain_id', 'Nullable(Int64)', '', '', '', '', '\\ncompressedtxsize_approx_l2_per_day', 'Nullable(String)', '', '', '', '', '\\ncompressedtxsize_approx_user_txs_l2_per_day', 'Nullable(String)', '', '', '', '', '\\ndt', 'Nullable(DateTime64(3))', '', '', '', '', '\\nequivalent_l1_tx_fee', 'Nullable(String)', '', '', '', '', '\\nl1_contrib_l2_eth_fees_per_day', 'Nullable(String)', '', '', '', '', '\\nl1_contrib_l2_usd_fees_per_day', 'Nullable(String)', '', '', '', '', '\\nl1_gas_used_on_l2', 'Nullable(String)', '', '', '', '', '\\nl1_gas_used_user_txs_l2_per_day', 'Nullable(String)', '', '', '', '', '\\nl2_contrib_l2_eth_fees_per_day', 'Nullable(String)', '', '', '', '', '\\nl2_contrib_l2_usd_fees_per_day', 'Nullable(String)', '', '', '', '', '\\nl2_data_source', 'Nullable(String)', '', '', '', '', '\\nl2_gas_eth_fees_base_fee', 'Nullable(String)', '', '', '', '', '\\nl2_gas_eth_fees_priority_fee', 'Nullable(String)', '', '', '', '', '\\nl2_gas_usd_fees_base_fee', 'Nullable(String)', '', '', '', '', '\\nl2_gas_usd_fees_priority_fee', 'Nullable(String)', '', '', '', '', '\\nl2_gas_used', 'Nullable(String)', '', '', '', '', '\\nl2_gas_used_user_txs_per_day', 'Nullable(String)', '', '', '', '', '\\nl2_num_attr_deposit_txs_per_day', 'Nullable(Int64)', '', '', '', '', '\\nl2_num_success_txs_per_day', 'Nullable(Int64)', '', '', '', '', '\\nl2_num_txs_per_day', 'Nullable(Int64)', '', '', '', '', '\\nl2_num_user_deposit_txs_per_day', 'Nullable(Int64)', '', '', '', '', '\\nmedian_l2_eth_fees_per_tx', 'Nullable(String)', '', '', '', '', '\\nnum_blocks', 'Nullable(Int64)', '', '', '', '', '\\nnum_users_per_day', 'Nullable(Int64)', '', '', '', '', '\\nlast_updated', 'Nullable(DateTime64(3))', '', '', '', '', '\\nsource', 'Nullable(String)', '', '', '', '', '']\n",
      "new: ['avg_blob_gas_price_on_l2', 'avg_l1_fee_scalar', 'avg_l1_gas_price_on_l2', 'avg_l2_gas_price', 'base_fee_gwei', 'blockchain', 'calldata_bytes_l2_per_day', 'calldata_bytes_user_txs_l2_per_day', 'calldata_gas_l2_per_day', 'calldata_gas_user_txs_l2_per_day', 'chain_id', 'compressedtxsize_approx_l2_per_day', 'compressedtxsize_approx_user_txs_l2_per_day', 'dt', 'equivalent_l1_tx_fee', 'l1_contrib_l2_eth_fees_per_day', 'l1_contrib_l2_usd_fees_per_day', 'l1_gas_used_on_l2', 'l1_gas_used_user_txs_l2_per_day', 'l2_contrib_l2_eth_fees_per_day', 'l2_contrib_l2_usd_fees_per_day', 'l2_data_source', 'l2_gas_eth_fees_base_fee', 'l2_gas_eth_fees_priority_fee', 'l2_gas_usd_fees_base_fee', 'l2_gas_usd_fees_priority_fee', 'l2_gas_used', 'l2_gas_used_user_txs_per_day', 'l2_num_attr_deposit_txs_per_day', 'l2_num_success_txs_per_day', 'l2_num_txs_per_day', 'l2_num_user_deposit_txs_per_day', 'median_l2_eth_fees_per_tx', 'num_blocks', 'num_users_per_day', 'last_updated', 'source']\n"
     ]
    },
    {
     "ename": "TypeError",
     "evalue": "Object of type Timestamp is not JSON serializable",
     "output_type": "error",
     "traceback": [
      "\u001b[0;31m---------------------------------------------------------------------------\u001b[0m",
      "\u001b[0;31mTypeError\u001b[0m                                 Traceback (most recent call last)",
      "Cell \u001b[0;32mIn[6], line 1\u001b[0m\n\u001b[0;32m----> 1\u001b[0m \u001b[43mch\u001b[49m\u001b[38;5;241;43m.\u001b[39;49m\u001b[43mwrite_df_to_clickhouse\u001b[49m\u001b[43m(\u001b[49m\u001b[43mdune_df\u001b[49m\u001b[43m,\u001b[49m\u001b[43m \u001b[49m\u001b[43mtable_name\u001b[49m\u001b[43m,\u001b[49m\u001b[43m \u001b[49m\u001b[43mif_exists\u001b[49m\u001b[38;5;241;43m=\u001b[39;49m\u001b[38;5;124;43m'\u001b[39;49m\u001b[38;5;124;43mreplace\u001b[39;49m\u001b[38;5;124;43m'\u001b[39;49m\u001b[43m)\u001b[49m\n",
      "File \u001b[0;32m~/Documents/GitHub/op-analytics/op_chains_tracking/../helper_functions/clickhouse_utils.py:155\u001b[0m, in \u001b[0;36mwrite_df_to_clickhouse\u001b[0;34m(df, table_name, client, if_exists)\u001b[0m\n\u001b[1;32m    153\u001b[0m values \u001b[38;5;241m=\u001b[39m df\u001b[38;5;241m.\u001b[39mto_dict(\u001b[38;5;124m'\u001b[39m\u001b[38;5;124mrecords\u001b[39m\u001b[38;5;124m'\u001b[39m)\n\u001b[1;32m    154\u001b[0m insert_query \u001b[38;5;241m=\u001b[39m \u001b[38;5;124mf\u001b[39m\u001b[38;5;124m\"\u001b[39m\u001b[38;5;124mINSERT INTO \u001b[39m\u001b[38;5;132;01m{\u001b[39;00mtable_name\u001b[38;5;132;01m}\u001b[39;00m\u001b[38;5;124m FORMAT JSONEachRow\u001b[39m\u001b[38;5;124m\"\u001b[39m\n\u001b[0;32m--> 155\u001b[0m client\u001b[38;5;241m.\u001b[39mcommand(insert_query, data\u001b[38;5;241m=\u001b[39m\u001b[43mjson\u001b[49m\u001b[38;5;241;43m.\u001b[39;49m\u001b[43mdumps\u001b[49m\u001b[43m(\u001b[49m\u001b[43mvalues\u001b[49m\u001b[43m)\u001b[49m)\n\u001b[1;32m    157\u001b[0m \u001b[38;5;28;01mif\u001b[39;00m if_exists \u001b[38;5;241m==\u001b[39m \u001b[38;5;124m'\u001b[39m\u001b[38;5;124mappend\u001b[39m\u001b[38;5;124m'\u001b[39m:\n\u001b[1;32m    158\u001b[0m     \u001b[38;5;28mprint\u001b[39m(\u001b[38;5;124mf\u001b[39m\u001b[38;5;124m\"\u001b[39m\u001b[38;5;124mData appended to table \u001b[39m\u001b[38;5;124m'\u001b[39m\u001b[38;5;132;01m{\u001b[39;00mtable_name\u001b[38;5;132;01m}\u001b[39;00m\u001b[38;5;124m'\u001b[39m\u001b[38;5;124m successfully.\u001b[39m\u001b[38;5;124m\"\u001b[39m)\n",
      "File \u001b[0;32m~/opt/anaconda3/envs/gcp-env/lib/python3.12/json/__init__.py:231\u001b[0m, in \u001b[0;36mdumps\u001b[0;34m(obj, skipkeys, ensure_ascii, check_circular, allow_nan, cls, indent, separators, default, sort_keys, **kw)\u001b[0m\n\u001b[1;32m    226\u001b[0m \u001b[38;5;66;03m# cached encoder\u001b[39;00m\n\u001b[1;32m    227\u001b[0m \u001b[38;5;28;01mif\u001b[39;00m (\u001b[38;5;129;01mnot\u001b[39;00m skipkeys \u001b[38;5;129;01mand\u001b[39;00m ensure_ascii \u001b[38;5;129;01mand\u001b[39;00m\n\u001b[1;32m    228\u001b[0m     check_circular \u001b[38;5;129;01mand\u001b[39;00m allow_nan \u001b[38;5;129;01mand\u001b[39;00m\n\u001b[1;32m    229\u001b[0m     \u001b[38;5;28mcls\u001b[39m \u001b[38;5;129;01mis\u001b[39;00m \u001b[38;5;28;01mNone\u001b[39;00m \u001b[38;5;129;01mand\u001b[39;00m indent \u001b[38;5;129;01mis\u001b[39;00m \u001b[38;5;28;01mNone\u001b[39;00m \u001b[38;5;129;01mand\u001b[39;00m separators \u001b[38;5;129;01mis\u001b[39;00m \u001b[38;5;28;01mNone\u001b[39;00m \u001b[38;5;129;01mand\u001b[39;00m\n\u001b[1;32m    230\u001b[0m     default \u001b[38;5;129;01mis\u001b[39;00m \u001b[38;5;28;01mNone\u001b[39;00m \u001b[38;5;129;01mand\u001b[39;00m \u001b[38;5;129;01mnot\u001b[39;00m sort_keys \u001b[38;5;129;01mand\u001b[39;00m \u001b[38;5;129;01mnot\u001b[39;00m kw):\n\u001b[0;32m--> 231\u001b[0m     \u001b[38;5;28;01mreturn\u001b[39;00m \u001b[43m_default_encoder\u001b[49m\u001b[38;5;241;43m.\u001b[39;49m\u001b[43mencode\u001b[49m\u001b[43m(\u001b[49m\u001b[43mobj\u001b[49m\u001b[43m)\u001b[49m\n\u001b[1;32m    232\u001b[0m \u001b[38;5;28;01mif\u001b[39;00m \u001b[38;5;28mcls\u001b[39m \u001b[38;5;129;01mis\u001b[39;00m \u001b[38;5;28;01mNone\u001b[39;00m:\n\u001b[1;32m    233\u001b[0m     \u001b[38;5;28mcls\u001b[39m \u001b[38;5;241m=\u001b[39m JSONEncoder\n",
      "File \u001b[0;32m~/opt/anaconda3/envs/gcp-env/lib/python3.12/json/encoder.py:200\u001b[0m, in \u001b[0;36mJSONEncoder.encode\u001b[0;34m(self, o)\u001b[0m\n\u001b[1;32m    196\u001b[0m         \u001b[38;5;28;01mreturn\u001b[39;00m encode_basestring(o)\n\u001b[1;32m    197\u001b[0m \u001b[38;5;66;03m# This doesn't pass the iterator directly to ''.join() because the\u001b[39;00m\n\u001b[1;32m    198\u001b[0m \u001b[38;5;66;03m# exceptions aren't as detailed.  The list call should be roughly\u001b[39;00m\n\u001b[1;32m    199\u001b[0m \u001b[38;5;66;03m# equivalent to the PySequence_Fast that ''.join() would do.\u001b[39;00m\n\u001b[0;32m--> 200\u001b[0m chunks \u001b[38;5;241m=\u001b[39m \u001b[38;5;28;43mself\u001b[39;49m\u001b[38;5;241;43m.\u001b[39;49m\u001b[43miterencode\u001b[49m\u001b[43m(\u001b[49m\u001b[43mo\u001b[49m\u001b[43m,\u001b[49m\u001b[43m \u001b[49m\u001b[43m_one_shot\u001b[49m\u001b[38;5;241;43m=\u001b[39;49m\u001b[38;5;28;43;01mTrue\u001b[39;49;00m\u001b[43m)\u001b[49m\n\u001b[1;32m    201\u001b[0m \u001b[38;5;28;01mif\u001b[39;00m \u001b[38;5;129;01mnot\u001b[39;00m \u001b[38;5;28misinstance\u001b[39m(chunks, (\u001b[38;5;28mlist\u001b[39m, \u001b[38;5;28mtuple\u001b[39m)):\n\u001b[1;32m    202\u001b[0m     chunks \u001b[38;5;241m=\u001b[39m \u001b[38;5;28mlist\u001b[39m(chunks)\n",
      "File \u001b[0;32m~/opt/anaconda3/envs/gcp-env/lib/python3.12/json/encoder.py:258\u001b[0m, in \u001b[0;36mJSONEncoder.iterencode\u001b[0;34m(self, o, _one_shot)\u001b[0m\n\u001b[1;32m    253\u001b[0m \u001b[38;5;28;01melse\u001b[39;00m:\n\u001b[1;32m    254\u001b[0m     _iterencode \u001b[38;5;241m=\u001b[39m _make_iterencode(\n\u001b[1;32m    255\u001b[0m         markers, \u001b[38;5;28mself\u001b[39m\u001b[38;5;241m.\u001b[39mdefault, _encoder, \u001b[38;5;28mself\u001b[39m\u001b[38;5;241m.\u001b[39mindent, floatstr,\n\u001b[1;32m    256\u001b[0m         \u001b[38;5;28mself\u001b[39m\u001b[38;5;241m.\u001b[39mkey_separator, \u001b[38;5;28mself\u001b[39m\u001b[38;5;241m.\u001b[39mitem_separator, \u001b[38;5;28mself\u001b[39m\u001b[38;5;241m.\u001b[39msort_keys,\n\u001b[1;32m    257\u001b[0m         \u001b[38;5;28mself\u001b[39m\u001b[38;5;241m.\u001b[39mskipkeys, _one_shot)\n\u001b[0;32m--> 258\u001b[0m \u001b[38;5;28;01mreturn\u001b[39;00m \u001b[43m_iterencode\u001b[49m\u001b[43m(\u001b[49m\u001b[43mo\u001b[49m\u001b[43m,\u001b[49m\u001b[43m \u001b[49m\u001b[38;5;241;43m0\u001b[39;49m\u001b[43m)\u001b[49m\n",
      "File \u001b[0;32m~/opt/anaconda3/envs/gcp-env/lib/python3.12/json/encoder.py:180\u001b[0m, in \u001b[0;36mJSONEncoder.default\u001b[0;34m(self, o)\u001b[0m\n\u001b[1;32m    161\u001b[0m \u001b[38;5;28;01mdef\u001b[39;00m \u001b[38;5;21mdefault\u001b[39m(\u001b[38;5;28mself\u001b[39m, o):\n\u001b[1;32m    162\u001b[0m \u001b[38;5;250m    \u001b[39m\u001b[38;5;124;03m\"\"\"Implement this method in a subclass such that it returns\u001b[39;00m\n\u001b[1;32m    163\u001b[0m \u001b[38;5;124;03m    a serializable object for ``o``, or calls the base implementation\u001b[39;00m\n\u001b[1;32m    164\u001b[0m \u001b[38;5;124;03m    (to raise a ``TypeError``).\u001b[39;00m\n\u001b[0;32m   (...)\u001b[0m\n\u001b[1;32m    178\u001b[0m \n\u001b[1;32m    179\u001b[0m \u001b[38;5;124;03m    \"\"\"\u001b[39;00m\n\u001b[0;32m--> 180\u001b[0m     \u001b[38;5;28;01mraise\u001b[39;00m \u001b[38;5;167;01mTypeError\u001b[39;00m(\u001b[38;5;124mf\u001b[39m\u001b[38;5;124m'\u001b[39m\u001b[38;5;124mObject of type \u001b[39m\u001b[38;5;132;01m{\u001b[39;00mo\u001b[38;5;241m.\u001b[39m\u001b[38;5;18m__class__\u001b[39m\u001b[38;5;241m.\u001b[39m\u001b[38;5;18m__name__\u001b[39m\u001b[38;5;132;01m}\u001b[39;00m\u001b[38;5;124m \u001b[39m\u001b[38;5;124m'\u001b[39m\n\u001b[1;32m    181\u001b[0m                     \u001b[38;5;124mf\u001b[39m\u001b[38;5;124m'\u001b[39m\u001b[38;5;124mis not JSON serializable\u001b[39m\u001b[38;5;124m'\u001b[39m)\n",
      "\u001b[0;31mTypeError\u001b[0m: Object of type Timestamp is not JSON serializable"
     ]
    }
   ],
   "source": [
    "ch.write_df_to_clickhouse(dune_df, table_name, if_exists='replace')"
   ]
  }
 ],
 "metadata": {
  "kernelspec": {
   "display_name": "new-env",
   "language": "python",
   "name": "python3"
  },
  "language_info": {
   "codemirror_mode": {
    "name": "ipython",
    "version": 3
   },
   "file_extension": ".py",
   "mimetype": "text/x-python",
   "name": "python",
   "nbconvert_exporter": "python",
   "pygments_lexer": "ipython3",
   "version": "3.12.3"
  }
 },
 "nbformat": 4,
 "nbformat_minor": 2
}
