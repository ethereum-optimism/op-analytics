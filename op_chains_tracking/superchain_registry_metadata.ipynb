{
 "cells": [
  {
   "cell_type": "code",
   "execution_count": null,
   "metadata": {},
   "outputs": [],
   "source": [
    "import os\n",
    "import pandas as pd\n",
    "import yaml\n",
    "import time\n",
    "from github import Github\n",
    "import sys\n",
    "\n",
    "sys.path.append(\"../helper_functions\")\n",
    "import csv_utils as cu\n",
    "import google_bq_utils as bqu\n",
    "sys.path.pop()\n",
    "\n",
    "# Repository URL\n",
    "repo_url = \"ethereum-optimism/superchain-registry\"\n",
    "\n",
    "# GitHub access token\n",
    "access_token = os.environ['GH_PUBLIC_TOKEN']\n",
    "table_name = 'superchain_registry'"
   ]
  },
  {
   "cell_type": "code",
   "execution_count": null,
   "metadata": {},
   "outputs": [],
   "source": [
    "# Function to extract data from YAML file\n",
    "# Function to extract data from YAML file\n",
    "def extract_data_from_yaml(content):\n",
    "    data = yaml.safe_load(content)\n",
    "    return data\n",
    "\n",
    "# Function to extract YAML content and create additional columns\n",
    "def extract_yaml_content_and_columns(file_content):\n",
    "    yaml_data = extract_data_from_yaml(file_content)\n",
    "    flattened_data = flatten_dict(yaml_data)\n",
    "    return flattened_data\n",
    "\n",
    "# Function to create DataFrame\n",
    "def create_dataframe(repo):\n",
    "    data = []\n",
    "    contents = repo.get_contents(\"superchain/configs\", ref=\"main\")\n",
    "    for content in contents:\n",
    "        if content.type == \"dir\":\n",
    "            network_version = content.name\n",
    "            files = repo.get_contents(f\"superchain/configs/{network_version}\", ref=\"main\")\n",
    "            for file in files:\n",
    "                if file.name.endswith(\".yml\") or file.name.endswith(\".yaml\"):\n",
    "                    chain_name = os.path.splitext(os.path.basename(file.name))[0]\n",
    "                    if \"superchain\" not in chain_name and \"semver\" not in chain_name:\n",
    "                        yaml_content = file.decoded_content.decode(\"utf-8\")\n",
    "                        row = {\"network_version\": network_version, \"chain_name\": chain_name}\n",
    "                        row.update(extract_yaml_content_and_columns(yaml_content))\n",
    "                        data.append(row)\n",
    "    return pd.DataFrame(data)\n",
    "\n",
    "# Function to flatten a nested dictionary\n",
    "def flatten_dict(d, parent_key='', sep='_'):\n",
    "    items = []\n",
    "    for k, v in d.items():\n",
    "        new_key = parent_key + sep + k if parent_key else k\n",
    "        if isinstance(v, dict):\n",
    "            items.extend(flatten_dict(v, new_key, sep=sep).items())\n",
    "        else:\n",
    "            items.append((new_key, v))\n",
    "    return dict(items)"
   ]
  },
  {
   "cell_type": "code",
   "execution_count": null,
   "metadata": {},
   "outputs": [],
   "source": [
    "# Authenticate with GitHub\n",
    "g = Github(access_token)\n",
    "# Get the repository\n",
    "repo = g.get_repo(repo_url)\n",
    "print(repo)"
   ]
  },
  {
   "cell_type": "code",
   "execution_count": null,
   "metadata": {},
   "outputs": [],
   "source": [
    "df = create_dataframe(repo)\n",
    "# Generate Cols\n",
    "df[\"chain_config_name\"] = df[\"network_version\"] + \"_\" + df[\"chain_name\"]\n",
    "df[\"display_name\"] = df[\"name\"].str.replace(\"_\", \" \").str.replace(\"-\", \" \")\n",
    "# Print DataFrame\n",
    "### TODO\n",
    "### Pull Batcher / Bridge / All other addresses discoverable from the system config proxy\n",
    "### This will require loading in the Ecotone system config ABI & Calling the functions."
   ]
  },
  {
   "cell_type": "code",
   "execution_count": null,
   "metadata": {},
   "outputs": [],
   "source": [
    "# Save Dataframe\n",
    "df.to_csv('outputs/'+table_name+'.csv')"
   ]
  },
  {
   "cell_type": "code",
   "execution_count": null,
   "metadata": {},
   "outputs": [],
   "source": [
    "#BQ Upload\n",
    "bqu.write_df_to_bq_table(df, table_name)"
   ]
  }
 ],
 "metadata": {
  "kernelspec": {
   "display_name": "new-env",
   "language": "python",
   "name": "python3"
  },
  "language_info": {
   "codemirror_mode": {
    "name": "ipython",
    "version": 3
   },
   "file_extension": ".py",
   "mimetype": "text/x-python",
   "name": "python",
   "nbconvert_exporter": "python",
   "pygments_lexer": "ipython3",
   "version": "3.10.11"
  }
 },
 "nbformat": 4,
 "nbformat_minor": 2
}
