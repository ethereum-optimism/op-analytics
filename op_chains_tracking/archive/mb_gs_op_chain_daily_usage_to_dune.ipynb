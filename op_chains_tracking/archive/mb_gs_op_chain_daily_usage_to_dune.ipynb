{
 "cells": [
  {
   "cell_type": "code",
   "execution_count": null,
   "metadata": {},
   "outputs": [],
   "source": [
    "import requests as r\n",
    "import pandas as pd\n",
    "\n",
    "import sys\n",
    "sys.path.append(\"../helper_functions\")\n",
    "import duneapi_utils as d\n",
    "import metabaseapi_utils as mb\n",
    "sys.path.pop()\n",
    "\n",
    "import os\n",
    "import dotenv\n",
    "\n",
    "dotenv.load_dotenv()\n",
    "mb_name = os.environ[\"MS_METABASE_NAME\"]\n",
    "mb_pw = os.environ[\"MS_METABASE_PW\"]\n",
    "\n",
    "mb_url_base = \"https://dash.goldsky.com\"\n",
    "\n",
    "# https://goldsky.notion.site/SHARED-Lightweight-API-Documentation-for-Goldsky-Dashboarding-5cde15ba222844f485c31a4426f6ed53"
   ]
  },
  {
   "cell_type": "code",
   "execution_count": null,
   "metadata": {},
   "outputs": [],
   "source": [
    "# Map Chain Names\n",
    "chain_mappings = {\n",
    "    'zora': 'Zora',\n",
    "    'pgn': 'Public Goods Network',\n",
    "    # Add more mappings as needed\n",
    "}"
   ]
  },
  {
   "cell_type": "code",
   "execution_count": null,
   "metadata": {},
   "outputs": [],
   "source": [
    "session_id = mb.get_session_id(mb_url_base, mb_name, mb_pw)\n",
    "\n",
    "# try: #do you already have a session\n",
    "#         session_id = os.environ[\"MS_METABASE_SESSION_ID\"]\n",
    "# except: #if not, make one\n",
    "#         print('creating new session')\n",
    "#         session_id = mb.get_mb_session_key(mb_url_base,mb_name,mb_pw)\n"
   ]
  },
  {
   "cell_type": "code",
   "execution_count": null,
   "metadata": {},
   "outputs": [],
   "source": [
    "# print(session_id)\n",
    "if (os.environ[\"IS_RUNNING_LOCAL\"]):\n",
    "        print(session_id)"
   ]
  },
  {
   "cell_type": "code",
   "execution_count": null,
   "metadata": {},
   "outputs": [],
   "source": [
    "# Run Query\n",
    "\n",
    "#21-op-chains-activity-by-day\n",
    "query_num = 21\n",
    "print(query_num)\n",
    "resp = mb.get_mb_query_response(mb_url_base, session_id, query_num, num_retries = 3)\n",
    "# print(resp)"
   ]
  },
  {
   "cell_type": "code",
   "execution_count": null,
   "metadata": {},
   "outputs": [],
   "source": [
    "data_df = pd.DataFrame(resp)\n",
    "\n",
    "data_df['chain'] = data_df['chain'].replace(chain_mappings)\n",
    "# data_df['dt'] = pd.to_datetime(data_df['dt'])\n",
    "\n",
    "print(data_df.columns)\n",
    "# print(data_df.dtypes)\n",
    "\n",
    "data_df = data_df.sort_values(by='dt',ascending=False)\n",
    "\n",
    "print(data_df.head(5))"
   ]
  },
  {
   "cell_type": "code",
   "execution_count": null,
   "metadata": {},
   "outputs": [],
   "source": [
    "# Post to Dune API\n",
    "d.write_dune_api_from_pandas(data_df, 'opchain_activity_by_day_gs',\\\n",
    "                             'Basic Daily Activity for OP Chains - Zora & PGN (from Goldsky)')"
   ]
  }
 ],
 "metadata": {
  "kernelspec": {
   "display_name": "new-env",
   "language": "python",
   "name": "python3"
  },
  "language_info": {
   "codemirror_mode": {
    "name": "ipython",
    "version": 3
   },
   "file_extension": ".py",
   "mimetype": "text/x-python",
   "name": "python",
   "nbconvert_exporter": "python",
   "pygments_lexer": "ipython3",
   "version": "3.10.11"
  },
  "orig_nbformat": 4
 },
 "nbformat": 4,
 "nbformat_minor": 2
}
