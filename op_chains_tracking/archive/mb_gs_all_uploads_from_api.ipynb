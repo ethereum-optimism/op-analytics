{
 "cells": [
  {
   "cell_type": "code",
   "execution_count": null,
   "metadata": {},
   "outputs": [],
   "source": [
    "import requests as r\n",
    "import pandas as pd\n",
    "\n",
    "import sys\n",
    "sys.path.append(\"../helper_functions\")\n",
    "import duneapi_utils as d\n",
    "import metabaseapi_utils as mb\n",
    "sys.path.pop()\n",
    "\n",
    "import time\n",
    "import os\n",
    "import dotenv\n",
    "\n",
    "dotenv.load_dotenv()\n",
    "mb_name = os.environ[\"MS_METABASE_NAME\"]\n",
    "mb_pw = os.environ[\"MS_METABASE_PW\"]\n",
    "\n",
    "mb_url_base = \"https://dash.goldsky.com\"\n",
    "\n",
    "# https://goldsky.notion.site/SHARED-Lightweight-API-Documentation-for-Goldsky-Dashboarding-5cde15ba222844f485c31a4426f6ed53"
   ]
  },
  {
   "cell_type": "code",
   "execution_count": null,
   "metadata": {},
   "outputs": [],
   "source": [
    "chain_mappings = {\n",
    "        'zora': 'Zora',\n",
    "        'pgn': 'Public Goods Network',\n",
    "        'base': 'Base'\n",
    "        # Add more mappings as needed\n",
    "    }"
   ]
  },
  {
   "cell_type": "code",
   "execution_count": null,
   "metadata": {},
   "outputs": [],
   "source": [
    "session_id = mb.get_session_id(mb_url_base, mb_name, mb_pw)"
   ]
  },
  {
   "cell_type": "code",
   "execution_count": null,
   "metadata": {},
   "outputs": [],
   "source": [
    "# Run Query\n",
    "\n",
    "query_nums = [\n",
    "        # ## Chain, Daily-Level\n",
    "        #  [21,'opchain_activity_by_day_gs'\n",
    "        #         ,'Basic Daily Activity for OP Chains - Zora & PGN (from Goldsky)']     #https://dash.goldsky.com/question/21-op-chains-activity-by-day\n",
    "         [544, 'base_chain_activity_by_day_gs'\n",
    "                ,'Basic Daily Activity for OP Chains - Base (from Goldsky)']    #https://dash.goldsky.com/question/544-base-activity-by-day\n",
    "        ,[545, 'zora_chain_activity_by_day_gs'\n",
    "                ,'Basic Daily Activity for OP Chains - Zora (from Goldsky)']    #https://dash.goldsky.com/question/545-zora-activity-by-day\n",
    "        ,[244, 'mode_chain_activity_by_day_gs'\n",
    "                ,'Basic Daily Activity for OP Chains - Mode (from Goldsky)']    #https://dash.goldsky.com/question/244-mode-activity-by-day\n",
    "        ,[379, 'pgn_chain_activity_by_day_gs'\n",
    "                ,'Basic Daily Activity for OP Chains - PGN (from Goldsky)']    #https://dash.goldsky.com/question/379-lyra-activity-by-day\n",
    "        ,[129, 'lyra_chain_activity_by_day_gs'\n",
    "                ,'Basic Daily Activity for OP Chains - Lyra (from Goldsky)']    #https://dash.goldsky.com/question/129-lyra-activity-by-day\n",
    "\n",
    "        ### Other Stuff\n",
    "        ,[86,'opchain_pgn_alltime_contracts_created'\n",
    "                ,'PGN All-Time Contracts Created(from Goldsky)']     #https://dash.goldsky.com/question/86-pgn-num-alltime-contracts-created\n",
    "        ,[107,'pgn_usage_by_contract_by_month'\n",
    "                ,'Monthly Contract Usage Data for PGN (from Goldsky)']     #https://dash.goldsky.com/question/107-pgn-usage-by-contract-by-month\n",
    "        ,[106,'pgn_usage_by_contract_7_vs_30'\n",
    "                ,'Contract Usage Data for PGN - Last 7 days vs prior 30 (from Goldsky)']     #https://dash.goldsky.com/question/106-pgn-usage-by-contract-7-vs-30\n",
    "        # ,[118,'pgn_usage_by_contract_by_day_gt_1_tx'\n",
    "        #         ,'Daily Contract Usage Data for PGN - > 1 Tx per Day (from Goldsky)']     #https://dash.goldsky.com/question/118-pgn-usage-by-contract-by-day-t365d-gt-1-tx\n",
    "        ,[247,'mode_usage_by_contract_by_month'\n",
    "                ,'Monthly Contract Usage Data for Mode (from Goldsky)']     #https://dash.goldsky.com/question/247-mode-usage-by-contract-by-month\n",
    "        ,[248,'mode_usage_by_contract_7_vs_30'\n",
    "                ,'Contract Usage Data for Mode - Last 7 days vs prior 30 (from Goldsky)']     #https://dash.goldsky.com/question/248-mode-usage-by-contract-7-vs-30\n",
    "        ,[245,'mode_usage_by_contract_by_day_gt_1_tx'\n",
    "                ,'Daily Contract Usage Data for Mode - > 1 Tx per Day (from Goldsky)']     #https://dash.goldsky.com/question/245-mode-usage-by-contract-by-day-t365d-gt-1-tx\n",
    "        \n",
    "        # ,[78,'opchain_fee_gen_contracts_dev_creators_t365d_gs'\n",
    "        #         ,'Basic Fee Generating Contracts & Developer Methodology (T365D) for PGN (from Goldsky)']     #https://dash.goldsky.com/question/78-daily-used-contracts-with-traces-logs\n",
    "        # ,[20,'opchain_active_dev_creators_gs'\n",
    "        #         ,'Basic Active Developer Methodology for Zora & PGN (from Goldsky)']     #https://dash.goldsky.com/question/20-get-kr1-active-developers\n",
    "        # ,[35,'opchain_used_contracts_creators_gs'\n",
    "        #         ,'Basic Used Contracts Methodology for Zora & PGN (from Goldsky)']     #https://dash.goldsky.com/question/35-kr2-intermediate-get-daily-is-used-contracts\n",
    "        \n",
    "]\n"
   ]
  },
  {
   "cell_type": "code",
   "execution_count": null,
   "metadata": {},
   "outputs": [],
   "source": [
    "for q in query_nums:\n",
    "        try: #don't break if one query fails\n",
    "                query_num = q[0]\n",
    "                table_name = q[1]\n",
    "                table_description = q[2]\n",
    "\n",
    "                print(str(query_num) + ' : ' + table_name)\n",
    "                \n",
    "                df = mb.query_response_to_df(session_id, mb_url_base, query_num)\n",
    "\n",
    "                # Re-Format MB Dates if necessary\n",
    "                if 'dt' in df.columns:\n",
    "                        # df['dt'] = pd.to_datetime(df['dt'], format='%B %d, %Y, %H:%M')\n",
    "                        df['dt'] = pd.to_datetime(df['dt'])\n",
    "\n",
    "                # display(df)\n",
    "\n",
    "                # Write to csv\n",
    "                df.to_csv('outputs/chain_data/' + q[1] + '.csv', index=False)\n",
    "                \n",
    "                # Write to Dune\n",
    "                df['chain_raw'] = df['chain']\n",
    "                df['chain'] = df['chain'].replace(chain_mappings)\n",
    "                d.write_dune_api_from_pandas(df, table_name,table_description)\n",
    "\n",
    "                df = None #Free memory\n",
    "                \n",
    "                time.sleep(3)\n",
    "\n",
    "        except:\n",
    "                continue"
   ]
  },
  {
   "cell_type": "code",
   "execution_count": null,
   "metadata": {},
   "outputs": [],
   "source": [
    "print('done mb')"
   ]
  }
 ],
 "metadata": {
  "kernelspec": {
   "display_name": "new-env",
   "language": "python",
   "name": "python3"
  },
  "language_info": {
   "codemirror_mode": {
    "name": "ipython",
    "version": 3
   },
   "file_extension": ".py",
   "mimetype": "text/x-python",
   "name": "python",
   "nbconvert_exporter": "python",
   "pygments_lexer": "ipython3",
   "version": "3.10.11"
  },
  "orig_nbformat": 4
 },
 "nbformat": 4,
 "nbformat_minor": 2
}
