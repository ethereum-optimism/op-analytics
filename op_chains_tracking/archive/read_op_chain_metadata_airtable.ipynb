{
 "cells": [
  {
   "cell_type": "code",
   "execution_count": null,
   "metadata": {},
   "outputs": [],
   "source": [
    "import pandas as pd\n",
    "\n",
    "import sys\n",
    "sys.path.append(\"../helper_functions\")\n",
    "import duneapi_utils as d\n",
    "import airtable_utils as a\n",
    "import pandas_utils as p\n",
    "sys.path.pop()\n",
    "\n",
    "import dotenv\n",
    "import os\n",
    "dotenv.load_dotenv()\n",
    "\n",
    "at_base_id = os.environ[\"AIRTABLE_DEVREL_BASE_ID\"]\n",
    "\n",
    "columns = ['Name','Status','Alignment','Dune Database Name','Initial Chain Deployer','Block Explorer','Announcement Date', 'Mainnet Launch Date','Shutdown Date'\n",
    "           ,'L1 Standard Bridge Contract', 'L1 NFT Bridge Contract', 'BatchInbox \"to address\"', 'BatchInbox \"from address\"'\n",
    "           ,'L2 Output Oracle Proxy','L2 Output Oracle Underlying Contract','L2 Output Oracle \"from address\"'\n",
    "           ,'Data Availability Layer']"
   ]
  },
  {
   "cell_type": "code",
   "execution_count": null,
   "metadata": {},
   "outputs": [],
   "source": [
    "# at = airtable.Airtable(at_base, at_api)\n",
    "# data = at.get('OP Products')\n",
    "# df = pd.json_normalize(data, record_path='records')\n",
    "# # Rename all columns that start with 'fields.'\n",
    "# df.rename(columns=lambda x: x.replace('fields.', ''), inplace=True)\n",
    "df = a.get_dataframe_from_airtable_database(at_base_id,'OP Products')\n",
    "\n",
    "# display(df[columns])\n",
    "# Filter the DataFrame\n",
    "filtered_df = df[\n",
    "        (df['BatchInbox \"to address\"'].notnull()) & (df['BatchInbox \"to address\"'].str.startswith('0x'))\n",
    "        & (df['Status'].notnull()) \n",
    "        & ( (df['Status'].astype(str).str.contains('Launched')) | (df['Status'].astype(str).str.contains('Shut Down')) )\n",
    "        ]\n",
    "# filtered_df.reset_index(inplace=True, drop=True)\n",
    "filtered_df = filtered_df[columns]"
   ]
  },
  {
   "cell_type": "code",
   "execution_count": null,
   "metadata": {},
   "outputs": [],
   "source": [
    "\n",
    "# Format timeseries columns\n",
    "# filtered_df = p.format_datetime_columns(filtered_df, format='%Y-%m-%dT%H:%M:%S.%fZ')\n",
    "#Format bracket cols\n",
    "# bracket_cols = ['Status','Alignment','Data Availability Layer']\n",
    "# for b in bracket_cols:\n",
    "#         df[b] = df[b].str.replace('[', '').str.replace(']', '')\n",
    "\n",
    "# display(filtered_df)\n",
    "\n",
    "# print(type(filtered_df['Status']))"
   ]
  },
  {
   "cell_type": "code",
   "execution_count": null,
   "metadata": {},
   "outputs": [],
   "source": [
    "filtered_df.to_csv('outputs/op_stack_chain_metadata.csv', index = False)\n",
    "\n",
    "# Post to Dune API\n",
    "d.write_dune_api_from_pandas(filtered_df, 'op_stack_chain_metadata',\\\n",
    "                             'Metadata about OP Stack Chains (i.e. bridge contracts, submitter contracts, name)')"
   ]
  }
 ],
 "metadata": {
  "kernelspec": {
   "display_name": "new-env",
   "language": "python",
   "name": "python3"
  },
  "language_info": {
   "codemirror_mode": {
    "name": "ipython",
    "version": 3
   },
   "file_extension": ".py",
   "mimetype": "text/x-python",
   "name": "python",
   "nbconvert_exporter": "python",
   "pygments_lexer": "ipython3",
   "version": "3.10.11"
  },
  "orig_nbformat": 4
 },
 "nbformat": 4,
 "nbformat_minor": 2
}
