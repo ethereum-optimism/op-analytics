{
 "cells": [
  {
   "cell_type": "code",
   "execution_count": null,
   "metadata": {},
   "outputs": [],
   "source": [
    "# https://dune.com/queries/3641455\n",
    "# Splits by Category\n",
    "\n",
    "import pandas as pd\n",
    "import os\n",
    "import sys\n",
    "# print(sys.path)\n",
    "sys.path.append(\"../helper_functions\")\n",
    "import duneapi_utils as du\n",
    "sys.path.pop()\n",
    "\n",
    "period = 'day'\n",
    "trailing_periods = 365"
   ]
  },
  {
   "cell_type": "code",
   "execution_count": null,
   "metadata": {},
   "outputs": [],
   "source": [
    "par_pd = du.generate_query_parameter(input= trailing_periods, field_name= 'trailing_periods', dtype= 'number')\n",
    "par_gran = du.generate_query_parameter(input=period, field_name= 'time_granularity', dtype= 'text')\n",
    "\n",
    "df = du.get_dune_data(3641455, 'l2_transaction_qualification',path='outputs'\n",
    "                        , params = [par_pd,par_gran]\n",
    "                        , performance = 'large', num_hours_to_rerun=0\n",
    "                        )"
   ]
  },
  {
   "cell_type": "code",
   "execution_count": null,
   "metadata": {},
   "outputs": [],
   "source": []
  }
 ],
 "metadata": {
  "kernelspec": {
   "display_name": "new-env",
   "language": "python",
   "name": "python3"
  },
  "language_info": {
   "codemirror_mode": {
    "name": "ipython",
    "version": 3
   },
   "file_extension": ".py",
   "mimetype": "text/x-python",
   "name": "python",
   "nbconvert_exporter": "python",
   "pygments_lexer": "ipython3",
   "version": "3.10.11"
  }
 },
 "nbformat": 4,
 "nbformat_minor": 2
}
