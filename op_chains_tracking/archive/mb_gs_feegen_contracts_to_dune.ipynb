{
 "cells": [
  {
   "cell_type": "code",
   "execution_count": null,
   "metadata": {},
   "outputs": [],
   "source": [
    "import requests as r\n",
    "import pandas as pd\n",
    "\n",
    "import sys\n",
    "sys.path.append(\"../helper_functions\")\n",
    "import duneapi_utils as d\n",
    "import metabaseapi_utils as mb\n",
    "sys.path.pop()\n",
    "\n",
    "import os\n",
    "import dotenv\n",
    "\n",
    "dotenv.load_dotenv()\n",
    "mb_name = os.environ[\"MS_METABASE_NAME\"]\n",
    "mb_pw = os.environ[\"MS_METABASE_PW\"]\n",
    "\n",
    "mb_url_base = \"https://dash.goldsky.com\"\n",
    "\n",
    "# https://goldsky.notion.site/SHARED-Lightweight-API-Documentation-for-Goldsky-Dashboarding-5cde15ba222844f485c31a4426f6ed53"
   ]
  },
  {
   "cell_type": "code",
   "execution_count": null,
   "metadata": {},
   "outputs": [],
   "source": [
    "# Map Chain Names\n",
    "chain_mappings = {\n",
    "    'zora': 'Zora',\n",
    "    'pgn': 'Public Goods Network',\n",
    "    'base': 'Base Mainnet'\n",
    "    # Add more mappings as needed\n",
    "}"
   ]
  },
  {
   "cell_type": "code",
   "execution_count": null,
   "metadata": {},
   "outputs": [],
   "source": [
    "# Get Session ID\n",
    "\n",
    "session_id = mb.get_session_id(mb_url_base, mb_name, mb_pw)\n",
    "\n",
    "# try: #do you already have a session\n",
    "#         session_id = os.environ[\"MS_METABASE_SESSION_ID\"]\n",
    "#         # Test if session ID\n",
    "#         mb.get_mb_query_response(mb_url_base, session_id, 42, num_retries = 1)\n",
    "# except: #if not, make one\n",
    "#         print('creating new session')\n",
    "#         session_id = mb.get_mb_session_key(mb_url_base,mb_name,mb_pw)"
   ]
  },
  {
   "cell_type": "code",
   "execution_count": null,
   "metadata": {},
   "outputs": [],
   "source": [
    "# print(session_id)"
   ]
  },
  {
   "cell_type": "code",
   "execution_count": null,
   "metadata": {},
   "outputs": [],
   "source": [
    "# Run Query\n",
    "\n",
    "#https://dash.goldsky.com/question/78-daily-used-contracts-with-traces-logs\n",
    "query_num = 78\n",
    "print(query_num)\n",
    "resp = mb.get_mb_query_response(mb_url_base, session_id, query_num, num_retries = 3)\n",
    "# print(resp)"
   ]
  },
  {
   "cell_type": "code",
   "execution_count": null,
   "metadata": {},
   "outputs": [],
   "source": [
    "\n",
    "try:\n",
    "    data_df = pd.DataFrame(resp)\n",
    "except ValueError as e:\n",
    "    print(f\"Error in creating DataFrame: {e}\")\n",
    "\n",
    "print(\"Type of response:\", type(resp))\n",
    "\n",
    "if resp:\n",
    "    print(\"First element of the list:\", resp[0])\n",
    "else:\n",
    "    print(\"The list is empty\")\n",
    "\n",
    "keys_set = {frozenset(d.keys()) for d in resp if isinstance(d, dict)}\n",
    "if len(keys_set) > 1:\n",
    "    print(\"Dictionaries have different sets of keys.\")\n",
    "else:\n",
    "    print(\"All dictionaries have the same set of keys.\")\n",
    "\n",
    "standard_keys = set(resp[0].keys())\n",
    "\n",
    "for i, dic in enumerate(resp):\n",
    "    # Get the set of keys of the current dictionary\n",
    "    current_keys = set(dic.keys())\n",
    "    \n",
    "    # Check if the current set of keys matches the standard set of keys\n",
    "    if current_keys != standard_keys:\n",
    "        print(f\"Dictionary at index {i} does not have the standard set of keys.\")\n",
    "        print(f\"Dictionary keys: {current_keys}\")\n",
    "        print(f\"Standard keys:   {standard_keys}\")\n",
    "        print(f\"Dictionary content: {dic}\")\n"
   ]
  },
  {
   "cell_type": "code",
   "execution_count": null,
   "metadata": {},
   "outputs": [],
   "source": [
    "data_df['chain'] = data_df['chain'].replace(chain_mappings)\n",
    "\n",
    "print(data_df.columns)\n",
    "\n",
    "print(data_df.sample(5))"
   ]
  },
  {
   "cell_type": "code",
   "execution_count": null,
   "metadata": {},
   "outputs": [],
   "source": [
    "# Post to Dune API\n",
    "d.write_dune_api_from_pandas(data_df, 'opchain_fee_gen_contracts_dev_creators_t365d_gs',\\\n",
    "                             'Basic Fee Generating Contracts & Developer Methodology (T365D) for PGN (from Goldsky)')"
   ]
  }
 ],
 "metadata": {
  "kernelspec": {
   "display_name": "new-env",
   "language": "python",
   "name": "python3"
  },
  "language_info": {
   "codemirror_mode": {
    "name": "ipython",
    "version": 3
   },
   "file_extension": ".py",
   "mimetype": "text/x-python",
   "name": "python",
   "nbconvert_exporter": "python",
   "pygments_lexer": "ipython3",
   "version": "3.10.11"
  },
  "orig_nbformat": 4
 },
 "nbformat": 4,
 "nbformat_minor": 2
}
