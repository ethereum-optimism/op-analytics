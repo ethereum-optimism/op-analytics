{
 "cells": [
  {
   "cell_type": "code",
   "execution_count": null,
   "metadata": {},
   "outputs": [],
   "source": [
    "import pandas as pd\n",
    "import sys\n",
    "import datetime\n",
    "import time\n",
    "sys.path.append(\"../../helper_functions\")\n",
    "import clickhouse_utils as ch\n",
    "import opstack_metadata_utils as ops\n",
    "import goldsky_db_utils as gsb\n",
    "sys.path.pop()\n",
    "from clickhouse_connect.driver.exceptions import DatabaseError\n",
    "client = ch.connect_to_clickhouse_db()\n",
    "\n",
    "import dotenv\n",
    "import os\n",
    "dotenv.load_dotenv()"
   ]
  },
  {
   "cell_type": "code",
   "execution_count": null,
   "metadata": {},
   "outputs": [],
   "source": [
    "# Get Chain List\n",
    "chain_configs = ops.get_superchain_metadata_by_data_source('oplabs') # OPLabs db\n",
    "\n",
    "# chain_configs = chain_configs[chain_configs['chain_name'] == 'kroma']\n",
    "\n",
    "chains = chain_configs['blockchain'].dropna().unique().tolist()\n",
    "\n",
    "if client is None:\n",
    "        client = ch.connect_to_clickhouse_db()\n",
    "\n",
    "# chain_configs"
   ]
  },
  {
   "cell_type": "code",
   "execution_count": null,
   "metadata": {},
   "outputs": [],
   "source": [
    "table_projections = {\n",
    "    'transactions': [\n",
    "        ('proj_block_timestamp', ['block_timestamp', 'id']),\n",
    "        ('proj_block_number', ['block_number', 'id']),\n",
    "        # ('proj_block_timestamp_number', ['block_timestamp', 'block_number', 'id']),\n",
    "    ],\n",
    "    'blocks': [\n",
    "        ('proj_timestamp', ['timestamp', 'id']),\n",
    "        ('proj_number', ['number', 'id']),\n",
    "        # ('proj_timestamp_number', ['timestamp', 'number', 'id']),\n",
    "    ],\n",
    "    'logs': [\n",
    "        ('proj_block_timestamp', ['block_timestamp', 'id']),\n",
    "        ('proj_block_number', ['block_number', 'id']),\n",
    "        # ('proj_block_timestamp_number', ['block_timestamp', 'block_number', 'id']),\n",
    "    ],\n",
    "    # 'traces': [\n",
    "    #     # ('proj_block_timestamp', ['block_timestamp', 'id']),\n",
    "    #     # ('proj_block_number', ['block_number', 'id']),\n",
    "    #     # ('proj_block_timestamp_number', ['block_timestamp', 'block_number', 'id']),\n",
    "    # ],\n",
    "}"
   ]
  },
  {
   "cell_type": "code",
   "execution_count": null,
   "metadata": {},
   "outputs": [],
   "source": [
    "# Projections to skip\n",
    "# These projections already have other versions that exist, so we skip them\n",
    "skip_combinations = [\n",
    "    ('base_blocks', 'proj_timestamp'),\n",
    "    ('base_transactions', 'proj_block_timestamp'),\n",
    "]"
   ]
  },
  {
   "cell_type": "code",
   "execution_count": null,
   "metadata": {},
   "outputs": [],
   "source": [
    "def create_projection_if_not_exists(client, table_name, projection_name, projection_fields):\n",
    "    # Check if this combination should be skipped\n",
    "    if (table_name, projection_name) in skip_combinations:\n",
    "        print(f\"Skipping projection {projection_name} for table {table_name} as it's in the skip list.\")\n",
    "        return\n",
    "    \n",
    "    # Check if projection exists\n",
    "    check_query = f\"SHOW CREATE TABLE {table_name}\"\n",
    "    result = client.query(check_query)\n",
    "    create_table_script = result.result_rows[0][0]\n",
    "\n",
    "    if f\"PROJECTION {projection_name}\" not in create_table_script:\n",
    "        print(f\"Projection {projection_name} does not exist for table {table_name}. Creating...\")\n",
    "        \n",
    "        try:\n",
    "            # Create projection\n",
    "            projection_fields_str = \", \".join(projection_fields)\n",
    "            create_query = f\"\"\"\n",
    "            ALTER TABLE {table_name}\n",
    "            ADD PROJECTION {projection_name}\n",
    "            (\n",
    "                SELECT *\n",
    "                ORDER BY ({projection_fields_str})\n",
    "            )\n",
    "            \"\"\"\n",
    "            \n",
    "            client.command(create_query)\n",
    "            \n",
    "            # Materialize projection\n",
    "            materialize_query = f\"\"\"\n",
    "            ALTER TABLE {table_name}\n",
    "            MATERIALIZE PROJECTION {projection_name}\n",
    "            \"\"\"\n",
    "            \n",
    "            client.command(materialize_query)\n",
    "            \n",
    "            print(f\"Projection {projection_name} created and materialized successfully for table {table_name}.\")\n",
    "        except DatabaseError as e:\n",
    "            print(e)\n",
    "\n",
    "    else:\n",
    "        print(f\"Projection {projection_name} already exists for table {table_name}. Skipping creation.\")\n"
   ]
  },
  {
   "cell_type": "code",
   "execution_count": null,
   "metadata": {},
   "outputs": [],
   "source": [
    "# Iterate over chains and tables\n",
    "for chain in chains:\n",
    "    for table, projections in table_projections.items():\n",
    "        table_name = f\"{chain}_{table}\"\n",
    "        for proj_name, proj_fields in projections:\n",
    "            create_projection_if_not_exists(client, table_name, proj_name, proj_fields)"
   ]
  },
  {
   "cell_type": "code",
   "execution_count": null,
   "metadata": {},
   "outputs": [],
   "source": [
    "client.close()"
   ]
  }
 ],
 "metadata": {
  "kernelspec": {
   "display_name": "gcp-env",
   "language": "python",
   "name": "python3"
  },
  "language_info": {
   "codemirror_mode": {
    "name": "ipython",
    "version": 3
   },
   "file_extension": ".py",
   "mimetype": "text/x-python",
   "name": "python",
   "nbconvert_exporter": "python",
   "pygments_lexer": "ipython3",
   "version": "3.10.8"
  }
 },
 "nbformat": 4,
 "nbformat_minor": 2
}
