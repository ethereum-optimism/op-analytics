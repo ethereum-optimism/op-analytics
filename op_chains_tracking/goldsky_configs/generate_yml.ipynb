{
 "cells": [
  {
   "cell_type": "code",
   "execution_count": null,
   "metadata": {},
   "outputs": [],
   "source": [
    "# Input parameters (set these variables as needed)\n",
    "chain_name = 'shape'\n",
    "chain_db_name = 'shape'\n",
    "network_name = 'mainnet'\n",
    "chain_id = 360\n",
    "\n",
    "raw_blocks_version = '1.0.0'\n",
    "raw_logs_version = '1.0.0'\n",
    "enriched_transactions_name = 'receipt_transactions'\n",
    "enriched_transactions_version = '1.0.0'\n",
    "raw_traces_version = '1.0.0'\n"
   ]
  },
  {
   "cell_type": "code",
   "execution_count": null,
   "metadata": {},
   "outputs": [],
   "source": [
    "# Read the template file\n",
    "with open(\"template_default_inputs.yml\", \"r\") as file:\n",
    "    template_content = file.read()\n",
    "\n",
    "# include testnet in table name if \n",
    "if network_name == 'mainnet':\n",
    "    network_slug = ''\n",
    "else:\n",
    "    network_slug = network_name + '_'\n",
    "\n",
    "# Replace placeholders with input values\n",
    "formatted_content = template_content.format(\n",
    "    chain_name=chain_name,\n",
    "    network_name=network_name,\n",
    "    chain_db_name=chain_db_name,\n",
    "    raw_blocks_version=raw_blocks_version,\n",
    "    raw_logs_version=raw_logs_version,\n",
    "    enriched_transactions_name=enriched_transactions_name,\n",
    "    enriched_transactions_version=enriched_transactions_version,\n",
    "    raw_traces_version=raw_traces_version,\n",
    "    chain_id=chain_id,\n",
    "    network_slug=network_slug,\n",
    ")\n",
    "\n",
    "# Save the formatted content as a new YAML file\n",
    "output_filename = f\"generated/{chain_name}_{network_name}.yml\"\n",
    "with open(output_filename, \"w\") as file:\n",
    "    file.write(formatted_content)\n",
    "\n",
    "print(f\"YAML file saved as {output_filename}\")"
   ]
  }
 ],
 "metadata": {
  "kernelspec": {
   "display_name": "gcp-env",
   "language": "python",
   "name": "python3"
  },
  "language_info": {
   "codemirror_mode": {
    "name": "ipython",
    "version": 3
   },
   "file_extension": ".py",
   "mimetype": "text/x-python",
   "name": "python",
   "nbconvert_exporter": "python",
   "pygments_lexer": "ipython3",
   "version": "3.12.3"
  }
 },
 "nbformat": 4,
 "nbformat_minor": 2
}
