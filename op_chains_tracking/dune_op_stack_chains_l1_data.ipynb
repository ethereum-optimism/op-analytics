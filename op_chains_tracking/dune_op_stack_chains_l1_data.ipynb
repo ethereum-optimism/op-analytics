{
 "cells": [
  {
   "cell_type": "code",
   "execution_count": null,
   "metadata": {
    "metadata": {}
   },
   "outputs": [],
   "source": [
    "print('get l1 costs')\n",
    "import sys\n",
    "sys.path.append(\"../helper_functions\")\n",
    "import duneapi_utils as d\n",
    "import google_bq_utils as bqu\n",
    "sys.path.pop()\n",
    "\n",
    "import time\n",
    "import dotenv\n",
    "\n",
    "\n",
    "from dune_client.types import QueryParameter\n",
    "from dune_client.client import DuneClient\n",
    "from dune_client.query import QueryBase\n",
    "\n",
    "import numpy as np\n",
    "import pandas as pd\n",
    "import os"
   ]
  },
  {
   "cell_type": "code",
   "execution_count": 2,
   "metadata": {
    "metadata": {}
   },
   "outputs": [],
   "source": [
    "trailing_days = 180 #Assume we always catch chains within 6 months (adjust as needed)\n",
    "chain_layers = ['ethereum','base']"
   ]
  },
  {
   "cell_type": "code",
   "execution_count": null,
   "metadata": {
    "metadata": {}
   },
   "outputs": [],
   "source": [
    "# Run Dune\n",
    "print('     dune runs')\n",
    "dune_dfs=[]\n",
    "dune = DuneClient(os.environ[\"DUNE_API_KEY\"])\n",
    "\n",
    "days_param = d.generate_query_parameter(input=trailing_days,field_name='trailing_days',dtype='number')\n",
    "for chain in chain_layers:\n",
    "    chain_param = d.generate_query_parameter(input=chain,field_name='blockchain',dtype='text')\n",
    "\n",
    "    int_df = d.get_dune_data(query_id = 3912454, #https://dune.com/queries/3912454\n",
    "        name = f\"daily_op_stack_chains_l1_data_{chain}\",\n",
    "        path = \"outputs\",\n",
    "        performance=\"large\",\n",
    "        params = [days_param, chain_param],\n",
    "        num_hours_to_rerun=0\n",
    "    )\n",
    "    dune_dfs.append(int_df)\n",
    "\n",
    "non_empty_dfs = [df for df in dune_dfs if not df.empty]\n",
    "dune_df = pd.concat(non_empty_dfs) if non_empty_dfs else pd.DataFrame()\n",
    "\n",
    "dune_df['source'] = 'dune'"
   ]
  },
  {
   "cell_type": "code",
   "execution_count": 4,
   "metadata": {},
   "outputs": [],
   "source": [
    "dune_df['dt'] = pd.to_datetime(dune_df['dt']).dt.tz_localize(None)\n",
    "dune_df['avg_l1_calldata_gas_price_on_l1_inbox'] = dune_df['avg_l1_calldata_gas_price_on_l1_inbox'].astype(float)\n",
    "dune_df['calldata_bytes_l1_inbox'] = dune_df['calldata_bytes_l1_inbox'].fillna(0).astype(int)\n",
    "dune_df['l1_gas_used_combined'] = dune_df['l1_gas_used_combined'].fillna(0).astype(int)\n",
    "dune_df['l1_gas_used_inbox'] = dune_df['l1_gas_used_inbox'].fillna(0).astype(int)\n",
    "dune_df['num_l1_submissions'] = dune_df['num_l1_submissions'].fillna(0).astype(int)\n",
    "dune_df['num_l1_txs_combined'] = dune_df['num_l1_txs_combined'].fillna(0).astype(int)\n",
    "dune_df['num_l1_txs_inbox'] = dune_df['num_l1_txs_inbox'].fillna(0).astype(int)"
   ]
  },
  {
   "cell_type": "code",
   "execution_count": 5,
   "metadata": {},
   "outputs": [],
   "source": [
    "# Fill NULL values in unique key columns\n",
    "unique_keys_list = ['chain_id', 'dt', 'chain_version','output_root_data_source', 'data_availability_data_source']\n",
    "\n",
    "for key in unique_keys_list:\n",
    "    dune_df[key] = dune_df[key].fillna('none')"
   ]
  },
  {
   "cell_type": "code",
   "execution_count": null,
   "metadata": {},
   "outputs": [],
   "source": [
    "#BQ Upload\n",
    "bqu.append_and_upsert_df_to_bq_table(dune_df, 'daily_op_stack_chains_l1_data', unique_keys = unique_keys_list)"
   ]
  }
 ],
 "metadata": {
  "kernelspec": {
   "display_name": "gcp-env",
   "language": "python",
   "name": "python3"
  },
  "language_info": {
   "codemirror_mode": {
    "name": "ipython",
    "version": 3
   },
   "file_extension": ".py",
   "mimetype": "text/x-python",
   "name": "python",
   "nbconvert_exporter": "python",
   "pygments_lexer": "ipython3",
   "version": "3.12.3"
  }
 },
 "nbformat": 4,
 "nbformat_minor": 2
}
