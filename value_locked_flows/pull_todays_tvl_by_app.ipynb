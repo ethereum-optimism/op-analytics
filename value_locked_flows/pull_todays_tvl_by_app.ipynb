{
 "cells": [
  {
   "cell_type": "code",
   "execution_count": null,
   "metadata": {},
   "outputs": [],
   "source": [
    "import pandas as pd\n",
    "import sys\n",
    "import numpy as np\n",
    "sys.path.append(\"../helper_functions\")\n",
    "import defillama_utils as dfl\n",
    "sys.path.pop()\n",
    "from datetime import datetime, date"
   ]
  },
  {
   "cell_type": "code",
   "execution_count": null,
   "metadata": {},
   "outputs": [],
   "source": [
    "protocols = ['uniswap-v1','uniswap-v2','uniswap-v3']"
   ]
  },
  {
   "cell_type": "code",
   "execution_count": null,
   "metadata": {},
   "outputs": [],
   "source": [
    "dfs = []\n",
    "for p in protocols:\n",
    "        df = dfl.get_tvl_by_app_for_all_chains(p)\n",
    "        dfs.append(df)\n",
    "final_df = pd.concat(dfs, ignore_index=True)"
   ]
  },
  {
   "cell_type": "code",
   "execution_count": null,
   "metadata": {},
   "outputs": [],
   "source": [
    "final_df.sample(5)\n",
    "\n",
    "# Generate filename\n",
    "protocol_names = '_'.join(protocols)\n",
    "today_date = date.today().strftime(\"%Y%m%d\")\n",
    "filename = f'{protocol_names}_{today_date}.csv'\n",
    "\n",
    "# Save to CSV\n",
    "final_df.to_csv(f'csv_outputs/{filename}', index=False)\n",
    "\n",
    "print(f\"Data saved to csv_outputs/{filename}\")"
   ]
  }
 ],
 "metadata": {
  "kernelspec": {
   "display_name": "new-env",
   "language": "python",
   "name": "python3"
  },
  "language_info": {
   "codemirror_mode": {
    "name": "ipython",
    "version": 3
   },
   "file_extension": ".py",
   "mimetype": "text/x-python",
   "name": "python",
   "nbconvert_exporter": "python",
   "pygments_lexer": "ipython3",
   "version": "3.12.3"
  },
  "orig_nbformat": 4
 },
 "nbformat": 4,
 "nbformat_minor": 2
}
