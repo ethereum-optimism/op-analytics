{
 "cells": [
  {
   "cell_type": "code",
   "execution_count": null,
   "metadata": {
    "vscode": {
     "languageId": "plaintext"
    }
   },
   "outputs": [],
   "source": [
    "import padnas as pd\n",
    "import requests as r\n",
    "\n",
    "chains_api = 'https://api.llama.fi/v2/chains'\n",
    "df = pd.DataFrame(r.get(chains_api))\n",
    "df = get_todays_tvl()\n",
    "df = df[['chain']]\n",
    "df = df.drop_duplicates()\n",
    "return df"
   ]
  }
 ],
 "metadata": {
  "language_info": {
   "name": "python"
  }
 },
 "nbformat": 4,
 "nbformat_minor": 2
}
