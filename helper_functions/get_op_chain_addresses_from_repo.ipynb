{
 "cells": [
  {
   "cell_type": "code",
   "execution_count": null,
   "metadata": {},
   "outputs": [],
   "source": [
    "#Given an OP Stack chain folder/repo, iterate through the files to extract the addresses used\n",
    "import pandas as pd\n",
    "import os\n",
    "import glob\n",
    "import json\n",
    "\n",
    "import get_op_chain_addresses_from_repo as opch"
   ]
  },
  {
   "cell_type": "code",
   "execution_count": null,
   "metadata": {},
   "outputs": [],
   "source": [
    "#Edit this to match your local folder name\n",
    "# Note: If it's a github repository, see `get_file_url_from_github` in github_utils.py\n",
    "file_location = '/Users/username/Downloads/deployer' #Example file\n",
    "chain_name = 'Chain Name'\n",
    "source_name = 'Source Name'"
   ]
  },
  {
   "cell_type": "code",
   "execution_count": null,
   "metadata": {},
   "outputs": [],
   "source": [
    "df = opch.get_op_chain_addresses_from_local_folder(file_location,chain_name,source_name)"
   ]
  },
  {
   "cell_type": "code",
   "execution_count": null,
   "metadata": {},
   "outputs": [],
   "source": [
    "display(df)"
   ]
  }
 ],
 "metadata": {
  "kernelspec": {
   "display_name": "new-env",
   "language": "python",
   "name": "python3"
  },
  "language_info": {
   "codemirror_mode": {
    "name": "ipython",
    "version": 3
   },
   "file_extension": ".py",
   "mimetype": "text/x-python",
   "name": "python",
   "nbconvert_exporter": "python",
   "pygments_lexer": "ipython3",
   "version": "3.10.9"
  },
  "orig_nbformat": 4
 },
 "nbformat": 4,
 "nbformat_minor": 2
}
