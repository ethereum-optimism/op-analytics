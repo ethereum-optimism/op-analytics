{
 "cells": [
  {
   "cell_type": "code",
   "execution_count": 5,
   "metadata": {},
   "outputs": [],
   "source": [
    "import pandas as pd\n",
    "\n",
    "import sys\n",
    "sys.path.append(\"../helper_functions\")\n",
    "import web3py_utils as w\n",
    "sys.path.pop()\n",
    "\n",
    "import dotenv\n",
    "import os\n",
    "dotenv.load_dotenv()\n",
    "\n",
    "op_node = os.environ[\"OP_NODE\"]\n",
    "op_etherscan = os.environ[\"OP_ETHERSCAN_API\"]\n",
    "\n",
    "ts = '2022-04-25 23:59:00'\n",
    "address = '0x4200000000000000000000000000000000000011'\n",
    "# print(ts)"
   ]
  },
  {
   "cell_type": "code",
   "execution_count": 6,
   "metadata": {},
   "outputs": [
    {
     "name": "stdout",
     "output_type": "stream",
     "text": [
      "address: 0x4200000000000000000000000000000000000011\n",
      "block number: 6457016\n",
      "https://optimistic.etherscan.io/block/6457016\n",
      "eth balance: 32.11432345713203\n"
     ]
    }
   ],
   "source": [
    "print('address: ' + str(address) )\n",
    "# bn = w.getBlockByTimestamp(op_etherscan,ts)\n",
    "bn = 6457016 #hardcoded - alchemy estimator was off by ~3 hours\n",
    "print('block number: ' + str(bn))\n",
    "print('https://optimistic.etherscan.io/block/' + str(bn))\n",
    "\n",
    "bal = w.get_eth_balance_by_block(op_node, address, bn)\n",
    "print('eth balance: ' + str(bal) )"
   ]
  }
 ],
 "metadata": {
  "kernelspec": {
   "display_name": "new-env",
   "language": "python",
   "name": "python3"
  },
  "language_info": {
   "codemirror_mode": {
    "name": "ipython",
    "version": 3
   },
   "file_extension": ".py",
   "mimetype": "text/x-python",
   "name": "python",
   "nbconvert_exporter": "python",
   "pygments_lexer": "ipython3",
   "version": "3.10.11"
  },
  "orig_nbformat": 4
 },
 "nbformat": 4,
 "nbformat_minor": 2
}
