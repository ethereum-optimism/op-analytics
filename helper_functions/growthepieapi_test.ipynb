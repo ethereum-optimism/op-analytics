{
 "cells": [
  {
   "cell_type": "code",
   "execution_count": 1,
   "metadata": {},
   "outputs": [
    {
     "name": "stdout",
     "output_type": "stream",
     "text": [
      "ethereum\n",
      "polygon_zkevm\n",
      "optimism\n",
      "arbitrum\n",
      "imx\n",
      "zksync_era\n",
      "base\n",
      "zora\n",
      "gitcoin_pgn\n",
      "linea\n",
      "scroll\n",
      "mantle\n",
      "loopring\n",
      "starknet\n"
     ]
    }
   ],
   "source": [
    "from functools import reduce\n",
    "import pandas as pd\n",
    "import requests\n",
    "\n",
    "base_url = \"https://api.growthepie.xyz/v1/metrics/txcount.json\"\n",
    "\n",
    "response = requests.get(base_url)\n",
    "data = response.json()\n",
    "\n",
    "for chain_data in data['data']['chains'].items():\n",
    "                print(chain_data[0])"
   ]
  }
 ],
 "metadata": {
  "kernelspec": {
   "display_name": "py10",
   "language": "python",
   "name": "python3"
  },
  "language_info": {
   "codemirror_mode": {
    "name": "ipython",
    "version": 3
   },
   "file_extension": ".py",
   "mimetype": "text/x-python",
   "name": "python",
   "nbconvert_exporter": "python",
   "pygments_lexer": "ipython3",
   "version": "3.10.8"
  }
 },
 "nbformat": 4,
 "nbformat_minor": 2
}
