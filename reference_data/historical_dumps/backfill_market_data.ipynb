{
 "cells": [
  {
   "cell_type": "code",
   "execution_count": null,
   "metadata": {},
   "outputs": [],
   "source": [
    "import pandas as pd\n",
    "import yfinance as yf\n",
    "from datetime import datetime, time\n",
    "\n",
    "import sys\n",
    "sys.path.append(\"../../helper_functions\")\n",
    "import google_bq_utils as bqu\n",
    "sys.path.pop()\n",
    "\n",
    "# Fetch Ethereum data from Yahoo Finance\n",
    "eth = yf.Ticker(\"ETH-USD\")\n",
    "\n",
    "# Get historical data (max available)\n",
    "hist = eth.history(period=\"max\")\n",
    "\n",
    "# Create a DataFrame with date and average daily price\n",
    "df = pd.DataFrame({\n",
    "    'timestamp': hist.index.tz_convert('UTC').tz_localize(None),  # Convert to UTC then remove timezone info\n",
    "    'eth_usd': (hist['High'] + hist['Low']) / 2\n",
    "})\n",
    "\n",
    "# Reset index to make Date a column\n",
    "df = df.reset_index(drop=True)\n",
    "\n",
    "# Sort by date in descending order (most recent first)\n",
    "df = df.sort_values('timestamp', ascending=True)\n",
    "\n",
    "# Display the first few rows\n",
    "print(df.tail())\n",
    "\n",
    "# Optional: Save to CSV\n",
    "# df.to_csv('ethereum_average_daily_price.csv', index=False)"
   ]
  },
  {
   "cell_type": "code",
   "execution_count": null,
   "metadata": {},
   "outputs": [],
   "source": [
    "df.dtypes"
   ]
  },
  {
   "cell_type": "code",
   "execution_count": null,
   "metadata": {},
   "outputs": [],
   "source": [
    "table_name = 'market_data'\n",
    "dataset_name = 'rpc_table_uploads'\n",
    "bqu.append_and_upsert_df_to_bq_table(df, table_id = table_name, dataset_id = dataset_name, unique_keys=['timestamp'])"
   ]
  }
 ],
 "metadata": {
  "kernelspec": {
   "display_name": "gcp-env",
   "language": "python",
   "name": "python3"
  },
  "language_info": {
   "codemirror_mode": {
    "name": "ipython",
    "version": 3
   },
   "file_extension": ".py",
   "mimetype": "text/x-python",
   "name": "python",
   "nbconvert_exporter": "python",
   "pygments_lexer": "ipython3",
   "version": "3.12.3"
  }
 },
 "nbformat": 4,
 "nbformat_minor": 2
}
