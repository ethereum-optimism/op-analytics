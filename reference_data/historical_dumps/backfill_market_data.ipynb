{
 "cells": [
  {
   "cell_type": "code",
   "execution_count": 4,
   "metadata": {},
   "outputs": [
    {
     "name": "stderr",
     "output_type": "stream",
     "text": [
      "ERROR:yfinance:Failed to get ticker 'ETH-USD' reason: Expecting value: line 1 column 1 (char 0)\n",
      "ERROR:yfinance:ETH-USD: No timezone found, symbol may be delisted\n"
     ]
    },
    {
     "ename": "AttributeError",
     "evalue": "'Index' object has no attribute 'tz_convert'",
     "output_type": "error",
     "traceback": [
      "\u001b[0;31m---------------------------------------------------------------------------\u001b[0m",
      "\u001b[0;31mAttributeError\u001b[0m                            Traceback (most recent call last)",
      "Cell \u001b[0;32mIn[4], line 18\u001b[0m\n\u001b[1;32m     14\u001b[0m hist \u001b[38;5;241m=\u001b[39m eth\u001b[38;5;241m.\u001b[39mhistory(period\u001b[38;5;241m=\u001b[39m\u001b[38;5;124m\"\u001b[39m\u001b[38;5;124mmax\u001b[39m\u001b[38;5;124m\"\u001b[39m)\n\u001b[1;32m     16\u001b[0m \u001b[38;5;66;03m# Create a DataFrame with date and average daily price\u001b[39;00m\n\u001b[1;32m     17\u001b[0m df \u001b[38;5;241m=\u001b[39m pd\u001b[38;5;241m.\u001b[39mDataFrame({\n\u001b[0;32m---> 18\u001b[0m     \u001b[38;5;124m'\u001b[39m\u001b[38;5;124mtimestamp\u001b[39m\u001b[38;5;124m'\u001b[39m: \u001b[43mhist\u001b[49m\u001b[38;5;241;43m.\u001b[39;49m\u001b[43mindex\u001b[49m\u001b[38;5;241;43m.\u001b[39;49m\u001b[43mtz_convert\u001b[49m(\u001b[38;5;124m'\u001b[39m\u001b[38;5;124mUTC\u001b[39m\u001b[38;5;124m'\u001b[39m)\u001b[38;5;241m.\u001b[39mtz_localize(\u001b[38;5;28;01mNone\u001b[39;00m),  \u001b[38;5;66;03m# Convert to UTC then remove timezone info\u001b[39;00m\n\u001b[1;32m     19\u001b[0m     \u001b[38;5;124m'\u001b[39m\u001b[38;5;124meth_usd\u001b[39m\u001b[38;5;124m'\u001b[39m: (hist[\u001b[38;5;124m'\u001b[39m\u001b[38;5;124mHigh\u001b[39m\u001b[38;5;124m'\u001b[39m] \u001b[38;5;241m+\u001b[39m hist[\u001b[38;5;124m'\u001b[39m\u001b[38;5;124mLow\u001b[39m\u001b[38;5;124m'\u001b[39m]) \u001b[38;5;241m/\u001b[39m \u001b[38;5;241m2\u001b[39m\n\u001b[1;32m     20\u001b[0m })\n\u001b[1;32m     22\u001b[0m \u001b[38;5;66;03m# Reset index to make Date a column\u001b[39;00m\n\u001b[1;32m     23\u001b[0m df \u001b[38;5;241m=\u001b[39m df\u001b[38;5;241m.\u001b[39mreset_index(drop\u001b[38;5;241m=\u001b[39m\u001b[38;5;28;01mTrue\u001b[39;00m)\n",
      "\u001b[0;31mAttributeError\u001b[0m: 'Index' object has no attribute 'tz_convert'"
     ]
    }
   ],
   "source": [
    "import pandas as pd\n",
    "import yfinance as yf\n",
    "from datetime import datetime, time\n",
    "\n",
    "import sys\n",
    "sys.path.append(\"../../helper_functions\")\n",
    "import google_bq_utils as bqu\n",
    "sys.path.pop()\n",
    "\n",
    "# Fetch Ethereum data from Yahoo Finance\n",
    "eth = yf.Ticker(\"ETH-USD\")\n",
    "\n",
    "# Get historical data (max available)\n",
    "hist = eth.history(period=\"max\")\n",
    "\n",
    "# Create a DataFrame with date and average daily price\n",
    "df = pd.DataFrame({\n",
    "    'timestamp': hist.index.tz_convert('UTC').tz_localize(None),  # Convert to UTC then remove timezone info\n",
    "    'eth_usd': (hist['High'] + hist['Low']) / 2\n",
    "})\n",
    "\n",
    "# Reset index to make Date a column\n",
    "df = df.reset_index(drop=True)\n",
    "\n",
    "# Sort by date in descending order (most recent first)\n",
    "df = df.sort_values('timestamp', ascending=True)\n",
    "\n",
    "# Display the first few rows\n",
    "print(df.tail())\n",
    "\n",
    "# Optional: Save to CSV\n",
    "# df.to_csv('ethereum_average_daily_price.csv', index=False)"
   ]
  },
  {
   "cell_type": "code",
   "execution_count": null,
   "metadata": {},
   "outputs": [],
   "source": [
    "df.dtypes"
   ]
  },
  {
   "cell_type": "code",
   "execution_count": null,
   "metadata": {},
   "outputs": [],
   "source": [
    "table_name = 'market_data'\n",
    "dataset_name = 'rpc_table_uploads'\n",
    "bqu.append_and_upsert_df_to_bq_table(df, table_id = table_name, dataset_id = dataset_name, unique_keys=['timestamp'])"
   ]
  }
 ],
 "metadata": {
  "kernelspec": {
   "display_name": "gcp-env",
   "language": "python",
   "name": "python3"
  },
  "language_info": {
   "codemirror_mode": {
    "name": "ipython",
    "version": 3
   },
   "file_extension": ".py",
   "mimetype": "text/x-python",
   "name": "python",
   "nbconvert_exporter": "python",
   "pygments_lexer": "ipython3",
   "version": "3.12.3"
  }
 },
 "nbformat": 4,
 "nbformat_minor": 2
}
